{
 "cells": [
  {
   "cell_type": "code",
   "execution_count": 22,
   "metadata": {},
   "outputs": [],
   "source": [
    "import xarray as xr\n",
    "import numpy as np\n",
    "import matplotlib.pyplot as plt"
   ]
  },
  {
   "cell_type": "markdown",
   "metadata": {},
   "source": [
    "#### Load header into string array"
   ]
  },
  {
   "cell_type": "code",
   "execution_count": 2,
   "metadata": {},
   "outputs": [
    {
     "data": {
      "text/plain": [
       "array(['Seconds', 'YY', 'MM', 'DD', 'hh', 'mm', 'ss', 'MassOil',\n",
       "       'VolOilBeached', 'VolumeBeached', 'VolumeOil', 'Volume', 'Area',\n",
       "       'TeoricalArea', 'Thickness', 'MEvaporated', 'VEvaporated',\n",
       "       'FMEvaporated', 'MDispersed', 'VDispersed', 'FMDispersed',\n",
       "       'MSedimented', 'VSedimented', 'FMSedimented', 'MDissolved',\n",
       "       'VDissolved', 'FMDissolved', 'MChemDisp', 'VChemDisp', 'FMChemDisp',\n",
       "       'MOilRecovered', 'VOilRecovered', 'FMOilRecovered', 'MWaterContent',\n",
       "       'VWaterContent', 'Density', 'Viscosity', 'MBio', 'VBio', 'FMBio',\n",
       "       'CharacteristicDiameter', 'P_Star', 'AnalyteMass1', 'AnalyteMass2',\n",
       "       'AnalyteMass3', 'AnalyteMass4', 'AnalyteMass5', 'AnalyteBio1',\n",
       "       'AnalyteBio2', 'AnalyteBio3', 'AnalyteBio4', 'AnalyteBio5'],\n",
       "      dtype='<U22')"
      ]
     },
     "execution_count": 2,
     "metadata": {},
     "output_type": "execute_result"
    }
   ],
   "source": [
    "with open('/Users/rmueller/Projects/MIDOSS/results/MediumFloater/SOG_21nov17-28nov17_EvapExposureTest/resOilOutput.sro', 'r') as the_file:\n",
    "    all_data = [line.strip() for line in the_file.readlines()]\n",
    "    header = all_data[4]  \n",
    "    \n",
    "# Order header into list array by splitting up string\n",
    "header_arr = []\n",
    "header_arr = header.split(' ')\n",
    "# Remove emtpy entries from list\n",
    "header_arr = np.asarray([x for x in header_arr if x != ''])\n",
    "header_arr"
   ]
  },
  {
   "cell_type": "markdown",
   "metadata": {},
   "source": [
    "#### Load data"
   ]
  },
  {
   "cell_type": "code",
   "execution_count": 4,
   "metadata": {},
   "outputs": [],
   "source": [
    "file_in = '/Users/rmueller/Projects/MIDOSS/results/MediumFloater/SOG_21nov17-28nov17_EvapExposureTest/resOilOutput.sro'\n",
    "data2D = np.genfromtxt(file_in, skip_header=6, skip_footer=4)\n",
    "nrows,ncols = data2D.shape"
   ]
  },
  {
   "cell_type": "markdown",
   "metadata": {},
   "source": [
    "#### Create structured Array"
   ]
  },
  {
   "cell_type": "code",
   "execution_count": 8,
   "metadata": {},
   "outputs": [],
   "source": [
    "# define structure of structured array\n",
    "dtype = [('Header',(np.str_,22)),('Values', np.float64)]\n",
    "\n",
    "# create index list for for-loop over columns\n",
    "header_range = range(header_arr.size)\n",
    "data_range = range(nrows)\n",
    "\n",
    "# Assign 2D data and header strings to structured array\n",
    "massbalance = np.array([[(header_arr[hdr_index], data2D[data_index, hdr_index]) for hdr_index in header_range] for data_index in data_range], dtype=dtype)"
   ]
  },
  {
   "cell_type": "code",
   "execution_count": 19,
   "metadata": {},
   "outputs": [
    {
     "data": {
      "text/plain": [
       "(191, 52)"
      ]
     },
     "execution_count": 19,
     "metadata": {},
     "output_type": "execute_result"
    }
   ],
   "source": [
    "massbalance.shape"
   ]
  },
  {
   "cell_type": "markdown",
   "metadata": {},
   "source": [
    "#### Plot resuls"
   ]
  },
  {
   "cell_type": "code",
   "execution_count": 33,
   "metadata": {},
   "outputs": [
    {
     "data": {
      "text/plain": [
       "array(['MEvaporated', 'MDispersed', 'MDissolved', 'MBio'],\n",
       "      dtype='<U22')"
      ]
     },
     "execution_count": 33,
     "metadata": {},
     "output_type": "execute_result"
    }
   ],
   "source": [
    "plot_data = [15,18,24,37]\n",
    "header_arr[plot_data]"
   ]
  },
  {
   "cell_type": "code",
   "execution_count": 53,
   "metadata": {},
   "outputs": [
    {
     "data": {
      "image/png": "[encoded data removed]",
      "text/plain": [
       "<Figure size 432x288 with 1 Axes>"
      ]
     },
     "metadata": {},
     "output_type": "display_data"
    }
   ],
   "source": [
    "plot_data = [15,18,24,37]\n",
    "#plt.plot([data2D[range(191), data_index] for data_index in plot_data])\n",
    "plt.plot(data2D[range(191), plot_data[0]])\n",
    "plt.plot(data2D[range(191), plot_data[1]])\n",
    "plt.plot(data2D[range(191), plot_data[2]])\n",
    "plt.plot(data2D[range(191), plot_data[3]])\n",
    "plt.ylabel('Mass (Tonnes)')\n",
    "plt.xlabel('Time after oil release (hours) ')\n",
    "plt.legend(['Evaporated', 'Dispersed','Disolved','Biodegraded'])\n",
    "plt.savefig('EvaporativeExposure_massbalance.png')"
   ]
  },
  {
   "cell_type": "code",
   "execution_count": null,
   "metadata": {},
   "outputs": [],
   "source": []
  }
 ],
 "metadata": {
  "kernelspec": {
   "display_name": "Python 3",
   "language": "python",
   "name": "python3"
  },
  "language_info": {
   "codemirror_mode": {
    "name": "ipython",
    "version": 3
   },
   "file_extension": ".py",
   "mimetype": "text/x-python",
   "name": "python",
   "nbconvert_exporter": "python",
   "pygments_lexer": "ipython3",
   "version": "3.6.5"
  }
 },
 "nbformat": 4,
 "nbformat_minor": 2
}
