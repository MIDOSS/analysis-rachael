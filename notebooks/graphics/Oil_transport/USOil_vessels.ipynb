{
 "cells": [
  {
   "cell_type": "code",
   "execution_count": 1,
   "metadata": {},
   "outputs": [],
   "source": [
    "import pandas as pd\n",
    "import numpy as np\n",
    "import matplotlib.pyplot as plt"
   ]
  },
  {
   "cell_type": "code",
   "execution_count": 2,
   "metadata": {},
   "outputs": [],
   "source": [
    "# User inputs\n",
    "file_dir  = '/Users/rmueller/Data/MIDOSS/DeptOfEcology/'\n",
    "file_name = 'MuellerTrans4-30-20.xlsx'"
   ]
  },
  {
   "cell_type": "code",
   "execution_count": 3,
   "metadata": {},
   "outputs": [],
   "source": [
    "# Import columns are: (E) 'StartDateTime, (G) Deliverer, (H) Receiver, (N) City, (P) Product, (Q) Quantity in Gallons, (R) Transfer Type (Fueling, Cargo, or Other)'\n",
    "df = pd.read_excel(f'{file_dir}{file_name}',sheet_name='Vessel Oil Transfer', \n",
    "                   usecols=\"E,G,H,N,P,Q,R\")"
   ]
  },
  {
   "cell_type": "code",
   "execution_count": 15,
   "metadata": {},
   "outputs": [],
   "source": [
    "# Get all cargo fuel transfers\n",
    "cargo_data = df[df['TransferType']=='Cargo']\n",
    "USoil_data = cargo_data[cargo_data['Receiver'].isin(['U.S. Oil & Refining','US Oil'])] \n",
    "USoil_crude = USoil_data[USoil_data['Product']=='CRUDE OIL']"
   ]
  },
  {
   "cell_type": "code",
   "execution_count": 16,
   "metadata": {},
   "outputs": [
    {
     "data": {
      "text/html": [
       "<div>\n",
       "<style scoped>\n",
       "    .dataframe tbody tr th:only-of-type {\n",
       "        vertical-align: middle;\n",
       "    }\n",
       "\n",
       "    .dataframe tbody tr th {\n",
       "        vertical-align: top;\n",
       "    }\n",
       "\n",
       "    .dataframe thead th {\n",
       "        text-align: right;\n",
       "    }\n",
       "</style>\n",
       "<table border=\"1\" class=\"dataframe\">\n",
       "  <thead>\n",
       "    <tr style=\"text-align: right;\">\n",
       "      <th></th>\n",
       "      <th>StartDateTime</th>\n",
       "      <th>Deliverer</th>\n",
       "      <th>Receiver</th>\n",
       "      <th>City</th>\n",
       "      <th>Product</th>\n",
       "      <th>TransferQtyInGallon</th>\n",
       "      <th>TransferType</th>\n",
       "    </tr>\n",
       "  </thead>\n",
       "  <tbody>\n",
       "    <tr>\n",
       "      <th>497</th>\n",
       "      <td>2018-01-17 23:00:00</td>\n",
       "      <td>DRAKES BAY</td>\n",
       "      <td>U.S. Oil &amp; Refining</td>\n",
       "      <td>TACOMA</td>\n",
       "      <td>CRUDE OIL</td>\n",
       "      <td>3255000</td>\n",
       "      <td>Cargo</td>\n",
       "    </tr>\n",
       "    <tr>\n",
       "      <th>1772</th>\n",
       "      <td>2018-02-21 18:00:00</td>\n",
       "      <td>DRAKES BAY</td>\n",
       "      <td>U.S. Oil &amp; Refining</td>\n",
       "      <td>TACOMA</td>\n",
       "      <td>CRUDE OIL</td>\n",
       "      <td>2940000</td>\n",
       "      <td>Cargo</td>\n",
       "    </tr>\n",
       "    <tr>\n",
       "      <th>4105</th>\n",
       "      <td>2018-04-27 18:00:00</td>\n",
       "      <td>DRAKES BAY</td>\n",
       "      <td>U.S. Oil &amp; Refining</td>\n",
       "      <td>TACOMA</td>\n",
       "      <td>CRUDE OIL</td>\n",
       "      <td>3360000</td>\n",
       "      <td>Cargo</td>\n",
       "    </tr>\n",
       "    <tr>\n",
       "      <th>5292</th>\n",
       "      <td>2018-05-25 19:00:00</td>\n",
       "      <td>DRAKES BAY</td>\n",
       "      <td>U.S. Oil &amp; Refining</td>\n",
       "      <td>TACOMA</td>\n",
       "      <td>CRUDE OIL</td>\n",
       "      <td>3570000</td>\n",
       "      <td>Cargo</td>\n",
       "    </tr>\n",
       "    <tr>\n",
       "      <th>7479</th>\n",
       "      <td>2018-07-10 19:00:00</td>\n",
       "      <td>DRAKES BAY</td>\n",
       "      <td>U.S. Oil &amp; Refining</td>\n",
       "      <td>TACOMA</td>\n",
       "      <td>CRUDE OIL</td>\n",
       "      <td>3570000</td>\n",
       "      <td>Cargo</td>\n",
       "    </tr>\n",
       "    <tr>\n",
       "      <th>9261</th>\n",
       "      <td>2018-08-14 07:00:00</td>\n",
       "      <td>DRAKES BAY</td>\n",
       "      <td>U.S. Oil &amp; Refining</td>\n",
       "      <td>TACOMA</td>\n",
       "      <td>CRUDE OIL</td>\n",
       "      <td>3255000</td>\n",
       "      <td>Cargo</td>\n",
       "    </tr>\n",
       "  </tbody>\n",
       "</table>\n",
       "</div>"
      ],
      "text/plain": [
       "           StartDateTime   Deliverer             Receiver    City    Product  \\\n",
       "497  2018-01-17 23:00:00  DRAKES BAY  U.S. Oil & Refining  TACOMA  CRUDE OIL   \n",
       "1772 2018-02-21 18:00:00  DRAKES BAY  U.S. Oil & Refining  TACOMA  CRUDE OIL   \n",
       "4105 2018-04-27 18:00:00  DRAKES BAY  U.S. Oil & Refining  TACOMA  CRUDE OIL   \n",
       "5292 2018-05-25 19:00:00  DRAKES BAY  U.S. Oil & Refining  TACOMA  CRUDE OIL   \n",
       "7479 2018-07-10 19:00:00  DRAKES BAY  U.S. Oil & Refining  TACOMA  CRUDE OIL   \n",
       "9261 2018-08-14 07:00:00  DRAKES BAY  U.S. Oil & Refining  TACOMA  CRUDE OIL   \n",
       "\n",
       "      TransferQtyInGallon TransferType  \n",
       "497               3255000        Cargo  \n",
       "1772              2940000        Cargo  \n",
       "4105              3360000        Cargo  \n",
       "5292              3570000        Cargo  \n",
       "7479              3570000        Cargo  \n",
       "9261              3255000        Cargo  "
      ]
     },
     "execution_count": 16,
     "metadata": {},
     "output_type": "execute_result"
    }
   ],
   "source": [
    "USoil_crude"
   ]
  },
  {
   "cell_type": "code",
   "execution_count": null,
   "metadata": {},
   "outputs": [],
   "source": []
  }
 ],
 "metadata": {
  "kernelspec": {
   "display_name": "Python 3",
   "language": "python",
   "name": "python3"
  },
  "language_info": {
   "codemirror_mode": {
    "name": "ipython",
    "version": 3
   },
   "file_extension": ".py",
   "mimetype": "text/x-python",
   "name": "python",
   "nbconvert_exporter": "python",
   "pygments_lexer": "ipython3",
   "version": "3.6.5"
  }
 },
 "nbformat": 4,
 "nbformat_minor": 2
}
