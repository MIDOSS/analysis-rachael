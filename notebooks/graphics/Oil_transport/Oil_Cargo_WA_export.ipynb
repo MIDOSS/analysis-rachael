{
 "cells": [
  {
   "cell_type": "code",
   "execution_count": 2,
   "metadata": {},
   "outputs": [],
   "source": [
    "import pandas as pd\n",
    "import numpy as np\n",
    "import matplotlib.pyplot as plt"
   ]
  },
  {
   "cell_type": "code",
   "execution_count": 3,
   "metadata": {},
   "outputs": [],
   "source": [
    "# User inputs\n",
    "file_dir  = '/Users/rmueller/Documents/UBC/MIDOSS/Data/DeptOfEcology/'\n",
    "file_name = 'MuellerTrans4-30-20.xlsx'"
   ]
  },
  {
   "cell_type": "code",
   "execution_count": 4,
   "metadata": {},
   "outputs": [],
   "source": [
    "df = pd.read_excel(f'{file_dir}{file_name}',sheet_name='Vessel Oil Transfer', usecols=\"E,H,P,Q,R\")"
   ]
  },
  {
   "cell_type": "markdown",
   "metadata": {},
   "source": [
    "### Extract data for oil cargo transferred to vessels for marine export approximation"
   ]
  },
  {
   "cell_type": "code",
   "execution_count": 5,
   "metadata": {},
   "outputs": [],
   "source": [
    "# Get all cargo fuel transfers\n",
    "bool_cargo = df['TransferType']=='Cargo'\n",
    "cargo_data = df[bool_cargo]"
   ]
  },
  {
   "cell_type": "code",
   "execution_count": 11,
   "metadata": {},
   "outputs": [],
   "source": [
    "oil_traffic = {}\n",
    "oil_traffic['destination']={}\n",
    "\n",
    "for reciever in cargo_data.Receiver:\n",
    "    # create a list of all recieving entities\n",
    "    if reciever not in oil_traffic['destination']:\n",
    "        oil_traffic['destination'][f'{reciever}']=reciever\n",
    "    # create a list of all refinery destinations\n",
    "    #if receiver.str.contains('Refinery')\n",
    "#oil_traffic['destination']"
   ]
  },
  {
   "cell_type": "markdown",
   "metadata": {},
   "source": [
    "### Evaulate marine oil export"
   ]
  },
  {
   "cell_type": "code",
   "execution_count": 76,
   "metadata": {},
   "outputs": [],
   "source": [
    "# remove cargo fuel transfers to land-based entity in order to isolate ship traffic data\n",
    "oil_traffic['cargo'] = {}\n",
    "cargo_data = cargo_data[~cargo_data.Receiver.str.contains('Refinery')]\n",
    "cargo_data = cargo_data[~cargo_data.Receiver.str.contains('Terminal')]\n",
    "cargo_data = cargo_data[~cargo_data.Receiver.str.contains('NASWI')]\n",
    "\n",
    "# cargo_data is no longer indexed chronologically after removing 'Refinery', 'Terminal' and 'NASWI' entries\n",
    "# need to re-set indexing in order to use row-index as data_frame index\n",
    "cargo_data.reset_index(drop=True, inplace=True)\n",
    "[nrows,ncols] = cargo_data.shape\n",
    "\n",
    "# introduce dictionary entries for fuel volume export\n",
    "oil_traffic['cargo']['atb_volume_export'] = 0\n",
    "oil_traffic['cargo']['barge_volume_export'] = 0\n",
    "oil_traffic['cargo']['other_export'] = 0\n",
    "\n",
    "# total up volume of oil transferred onto ATB BARGES, non-ATB barges, and other vessels\n",
    "for rows in range(nrows):\n",
    "    if 'ATB' in cargo_data.Receiver[rows]:\n",
    "        oil_traffic['cargo']['atb_volume_export'] = oil_traffic['cargo']['atb_volume_export'] + cargo_data.TransferQtyInGallon[rows]\n",
    "    elif '*BARGE*' in cargo_data.Receiver[rows] or '*Barge*' in cargo_data.Receiver[rows]:  # and not 'ATB' in cargo_data.Receiver[rows]:  \n",
    "        oil_traffic['cargo']['barge_volume_export'] = oil_traffic['cargo']['barge_volume_export'] + cargo_data.TransferQtyInGallon[rows]\n",
    "        cargo_data.TransferQtyInGallon[rows]\n",
    "    else:\n",
    "        oil_traffic['cargo']['other_export'] = oil_traffic['cargo']['other_export'] + cargo_data.TransferQtyInGallon[rows]"
   ]
  },
  {
   "cell_type": "code",
   "execution_count": 77,
   "metadata": {},
   "outputs": [
    {
     "data": {
      "text/plain": [
       "1132752600"
      ]
     },
     "execution_count": 77,
     "metadata": {},
     "output_type": "execute_result"
    }
   ],
   "source": [
    "oil_traffic['cargo']['atb_volume_export']"
   ]
  },
  {
   "cell_type": "code",
   "execution_count": 78,
   "metadata": {},
   "outputs": [
    {
     "data": {
      "text/plain": [
       "Text(0.5,1,'Types of vessels by volume receiving oil as cargo')"
      ]
     },
     "execution_count": 78,
     "metadata": {},
     "output_type": "execute_result"
    },
    {
     "data": {
      "image/png": "[encoded data removed]",
      "text/plain": [
       "<Figure size 432x288 with 1 Axes>"
      ]
     },
     "metadata": {},
     "output_type": "display_data"
    }
   ],
   "source": [
    "volume_export_byvessel = [oil_traffic['cargo']['atb_volume_export'], oil_traffic['cargo']['barge_volume_export'], oil_traffic['cargo']['other_export']]\n",
    "#colors = ['b', 'g', 'r', 'c', 'm', 'y']\n",
    "labels = ['ATB', 'Tow Barge','Other']\n",
    "plt.gca().axis(\"equal\")\n",
    "plt.pie(volume_export_byvessel, labels= labels)\n",
    "plt.title('Types of vessels by volume receiving oil as cargo')"
   ]
  },
  {
   "cell_type": "code",
   "execution_count": 22,
   "metadata": {},
   "outputs": [
    {
     "data": {
      "text/plain": [
       "(3333, 5)"
      ]
     },
     "execution_count": 22,
     "metadata": {},
     "output_type": "execute_result"
    }
   ],
   "source": []
  },
  {
   "cell_type": "markdown",
   "metadata": {},
   "source": [
    "### Add up volume transferred by fuel type "
   ]
  },
  {
   "cell_type": "code",
   "execution_count": 39,
   "metadata": {},
   "outputs": [],
   "source": [
    "# Add up the total volume of marine transport by product (this includes all transfers)\n",
    "gas_export_data     = cargo_data[cargo_data['Product']=='GASOLINE']\n",
    "gas_export_total = gas_export_data['TransferQtyInGallon'].sum()\n",
    "\n",
    "diesel_export_data  = cargo_data[cargo_data['Product']=='DIESEL/MARINE GAS OIL']\n",
    "diesel_export_total = diesel_export_data['TransferQtyInGallon'].sum()\n",
    "\n",
    "bunker_export_data  = cargo_data[cargo_data['Product']=='BUNKER OIL/HFO']\n",
    "bunker_export_total = bunker_export_data['TransferQtyInGallon'].sum()\n",
    "\n",
    "jet_export_data   = cargo_data[cargo_data['Product']=='JET FUEL/KEROSENE']\n",
    "jet_export_total  = jet_export_data['TransferQtyInGallon'].sum()\n",
    "\n",
    "ulsd_export_data  = cargo_data[cargo_data['Product']=='DIESEL LOW SULPHUR (ULSD)']\n",
    "ulsd_export_total = ulsd_export_data['TransferQtyInGallon'].sum()\n",
    "\n",
    "crude_export_data  = cargo_data[cargo_data['Product'].str.contains('CRUDE')]\n",
    "crude_export_total = crude_export_data['TransferQtyInGallon'].sum()\n",
    "\n",
    "Other_fuel_total = cargo_data['TransferQtyInGallon'].sum() - crude_export_total - ulsd_export_total - jet_export_total - bunker_export_total - diesel_export_total - gas_export_total "
   ]
  },
  {
   "cell_type": "markdown",
   "metadata": {},
   "source": [
    "### Plot up results"
   ]
  },
  {
   "cell_type": "code",
   "execution_count": 53,
   "metadata": {},
   "outputs": [
    {
     "data": {
      "text/plain": [
       "Text(0.5,1,'Marine Oil Export from WA Refineries and Terminals')"
      ]
     },
     "execution_count": 53,
     "metadata": {},
     "output_type": "execute_result"
    },
    {
     "data": {
      "image/png": "[encoded data removed]",
      "text/plain": [
       "<Figure size 432x288 with 1 Axes>"
      ]
     },
     "metadata": {},
     "output_type": "display_data"
    }
   ],
   "source": [
    "oil_export_values = [gas_export_total, diesel_export_total , bunker_export_total, jet_export_total, crude_export_total, ulsd_export_total, Other_fuel_total]\n",
    "#colors = ['b', 'g', 'r', 'c', 'm', 'y']\n",
    "labels = ['Gas', 'Diesel', 'Bunker-C', 'Jet', 'Crude', 'Low Sulpher Diesel', 'Other']\n",
    "plt.gca().axis(\"equal\")\n",
    "plt.pie(oil_export_values, labels= labels)\n",
    "plt.title('Marine Oil Export from WA Refineries and Terminals')"
   ]
  },
  {
   "cell_type": "code",
   "execution_count": 12,
   "metadata": {},
   "outputs": [
    {
     "data": {
      "text/plain": [
       "{'GLOBAL PILOT': 'GLOBAL PILOT',\n",
       " 'Phillips 66 Ferndale Refinery': 'Phillips 66 Ferndale Refinery',\n",
       " 'NATHAN SCHMIDT': 'NATHAN SCHMIDT',\n",
       " 'BP Cherry Point Refinery': 'BP Cherry Point Refinery',\n",
       " 'SeaPort Sound Terminal': 'SeaPort Sound Terminal',\n",
       " 'Shell Oil LP Seattle Distribution Terminal': 'Shell Oil LP Seattle Distribution Terminal',\n",
       " 'ATB BARGE KIRBY 185-01': 'ATB BARGE KIRBY 185-01',\n",
       " 'CARTAGENA': 'CARTAGENA',\n",
       " 'PROFESSOR KAREN ANN BROWN': 'PROFESSOR KAREN ANN BROWN',\n",
       " 'ATB BARGE 550-2': 'ATB BARGE 550-2',\n",
       " 'ATB BARGE FIGHT FANCONI ANEMIA': 'ATB BARGE FIGHT FANCONI ANEMIA',\n",
       " 'Tidewater Snake River Terminal': 'Tidewater Snake River Terminal',\n",
       " 'NEW ENDEAVOR': 'NEW ENDEAVOR',\n",
       " 'Phillips 66 Tacoma Terminal': 'Phillips 66 Tacoma Terminal',\n",
       " 'HMS 2000': 'HMS 2000',\n",
       " 'Andeavor Anacortes Refinery (formerly Tesoro)': 'Andeavor Anacortes Refinery (formerly Tesoro)',\n",
       " 'YON-319': 'YON-319',\n",
       " 'Naval Air Station Whidbey Island (NASWI)': 'Naval Air Station Whidbey Island (NASWI)',\n",
       " 'DR. BONNIE W. RAMSEY': 'DR. BONNIE W. RAMSEY',\n",
       " 'COMMENCEMENT BAY': 'COMMENCEMENT BAY',\n",
       " 'WEBB MOFFETT': 'WEBB MOFFETT',\n",
       " 'BETSY ARNTZ': 'BETSY ARNTZ',\n",
       " 'PB-34': 'PB-34',\n",
       " 'EXPLORER': 'EXPLORER',\n",
       " 'GAN-TRIUMPH': 'GAN-TRIUMPH',\n",
       " 'SHAUNA KAY': 'SHAUNA KAY',\n",
       " 'DUGAN PEARSALL': 'DUGAN PEARSALL',\n",
       " 'DOTTIE': 'DOTTIE',\n",
       " 'KIRKEHOLMEN': 'KIRKEHOLMEN',\n",
       " 'ATB BARGE 650-10': 'ATB BARGE 650-10',\n",
       " 'Alon Asphalt Company (Paramount Petroleum)': 'Alon Asphalt Company (Paramount Petroleum)',\n",
       " 'Tidewater Umatilla Terminal': 'Tidewater Umatilla Terminal',\n",
       " 'TORM EMILIE': 'TORM EMILIE',\n",
       " 'PELICAN STATE': 'PELICAN STATE',\n",
       " 'Shell Puget Sound Refinery': 'Shell Puget Sound Refinery',\n",
       " 'Tesoro Port Angeles Terminal': 'Tesoro Port Angeles Terminal',\n",
       " 'U.S. Oil & Refining': 'U.S. Oil & Refining',\n",
       " 'OVERSEAS LOS ANGELES': 'OVERSEAS LOS ANGELES',\n",
       " 'Kinder Morgan Liquids Terminal - Harbor Island': 'Kinder Morgan Liquids Terminal - Harbor Island',\n",
       " 'HMS 26-1': 'HMS 26-1',\n",
       " 'YON-325': 'YON-325',\n",
       " 'SILVER CARLA': 'SILVER CARLA',\n",
       " 'NEW DAWN': 'NEW DAWN',\n",
       " 'EVERGREEN STATE': 'EVERGREEN STATE',\n",
       " 'NORD SUPREME': 'NORD SUPREME',\n",
       " 'Naval FISC Manchester Fuel Depot (Mobile)': 'Naval FISC Manchester Fuel Depot (Mobile)',\n",
       " 'Tesoro Pasco Terminal': 'Tesoro Pasco Terminal',\n",
       " 'TRI-CITIES VOYAGER': 'TRI-CITIES VOYAGER',\n",
       " 'MADHA SILVER': 'MADHA SILVER',\n",
       " 'NEW FRONTIER': 'NEW FRONTIER',\n",
       " 'ATB BARGE DBL 185': 'ATB BARGE DBL 185',\n",
       " 'ATB BARGE ONEDREAM': 'ATB BARGE ONEDREAM',\n",
       " 'NAVSUP Manchester': 'NAVSUP Manchester',\n",
       " 'EMPIRE STATE': 'EMPIRE STATE',\n",
       " 'OVERSEAS BOSTON': 'OVERSEAS BOSTON',\n",
       " 'REG Grays Harbor, LLC': 'REG Grays Harbor, LLC',\n",
       " 'ATB BARGE 650-7': 'ATB BARGE 650-7',\n",
       " 'ANTRIL S': 'ANTRIL S',\n",
       " 'SASANOA': 'SASANOA',\n",
       " 'HMS 2604': 'HMS 2604',\n",
       " 'ATB BARGE 550-3': 'ATB BARGE 550-3',\n",
       " 'AMERICAN ENDURANCE': 'AMERICAN ENDURANCE',\n",
       " 'TIDEWATER': 'TIDEWATER',\n",
       " 'DRAKES BAY': 'DRAKES BAY',\n",
       " 'YON-326': 'YON-326',\n",
       " 'SEASPAN 827': 'SEASPAN 827',\n",
       " 'ATB BARGE ZIDELL MARINE 277': 'ATB BARGE ZIDELL MARINE 277',\n",
       " 'PTI HERCULES': 'PTI HERCULES',\n",
       " 'CHS PRIMELAND': 'CHS PRIMELAND',\n",
       " 'ATB BARGE ALL ABOARD FOR A CURE': 'ATB BARGE ALL ABOARD FOR A CURE',\n",
       " 'HELLESPONT PROMISE': 'HELLESPONT PROMISE',\n",
       " 'TRICITIES VOYAGER': 'TRICITIES VOYAGER',\n",
       " 'OLYMPIC SPIRIT': 'OLYMPIC SPIRIT',\n",
       " 'CAPELLA': 'CAPELLA',\n",
       " 'ST. ELIAS': 'ST. ELIAS',\n",
       " 'CTG MAGNESIUM': 'CTG MAGNESIUM',\n",
       " 'PROSPECTOR': 'PROSPECTOR',\n",
       " 'AMERICAN FREEDOM': 'AMERICAN FREEDOM',\n",
       " 'ATLANTIC MUSE': 'ATLANTIC MUSE',\n",
       " 'OVERSEAS MARTINEZ': 'OVERSEAS MARTINEZ',\n",
       " 'TORM HELVIG': 'TORM HELVIG',\n",
       " 'ZB335': 'ZB335',\n",
       " 'USS Nimitz': 'USS Nimitz',\n",
       " 'Nustar Energy Tacoma': 'Nustar Energy Tacoma',\n",
       " 'NAVE SEXTANS': 'NAVE SEXTANS',\n",
       " 'YON-322': 'YON-322',\n",
       " 'GLOBAL SEATTLE': 'GLOBAL SEATTLE',\n",
       " 'BOCHEM LONDON': 'BOCHEM LONDON',\n",
       " 'Alon Point Wells': 'Alon Point Wells',\n",
       " 'ORIENT CHALLENGE': 'ORIENT CHALLENGE',\n",
       " 'Nustar Energy Vancouver': 'Nustar Energy Vancouver',\n",
       " 'USN SWOB 25': 'USN SWOB 25',\n",
       " 'CASCADES': 'CASCADES',\n",
       " 'DAGWOOD': 'DAGWOOD',\n",
       " 'FLORIDA': 'FLORIDA',\n",
       " 'USS Kentucky': 'USS Kentucky',\n",
       " 'OKLAHOMA': 'OKLAHOMA',\n",
       " 'USS HM Jackson': 'USS HM Jackson',\n",
       " 'ARISTAIOS': 'ARISTAIOS',\n",
       " 'Vijay Sea': 'Vijay Sea',\n",
       " 'USCGC MELLON': 'USCGC MELLON',\n",
       " 'USN YON 322': 'USN YON 322',\n",
       " 'AZALEA GALAXY': 'AZALEA GALAXY',\n",
       " 'MIDNIGHT SUN': 'MIDNIGHT SUN',\n",
       " 'VIJAY SEA': 'VIJAY SEA',\n",
       " 'ATB BARGE EDWARD ITTA': 'ATB BARGE EDWARD ITTA',\n",
       " 'CHS PRIMELAND / MEGREGOR ': 'CHS PRIMELAND / MEGREGOR ',\n",
       " 'LEYLA K': 'LEYLA K',\n",
       " 'PETROBULKER': 'PETROBULKER',\n",
       " 'ITB SUPPLIER': 'ITB SUPPLIER',\n",
       " 'NAVIG8 SPARK': 'NAVIG8 SPARK',\n",
       " 'PICHINCHA': 'PICHINCHA',\n",
       " 'BRIAN S': 'BRIAN S',\n",
       " 'ALASKAN NAVIGATOR': 'ALASKAN NAVIGATOR',\n",
       " 'PB-32': 'PB-32',\n",
       " 'GLOBAL PROVIDER': 'GLOBAL PROVIDER',\n",
       " 'ARISTODIMOS': 'ARISTODIMOS',\n",
       " 'ATB BARGE DR. ROBERT J. BEALL': 'ATB BARGE DR. ROBERT J. BEALL',\n",
       " 'US Oil Tacoma ': 'US Oil Tacoma ',\n",
       " 'KAREKARE': 'KAREKARE',\n",
       " 'TLP Management Services LLC (TMS)': 'TLP Management Services LLC (TMS)',\n",
       " 'GRANVILLE BRIDGE': 'GRANVILLE BRIDGE',\n",
       " 'Andeavor Port Angeles': 'Andeavor Port Angeles',\n",
       " 'PIONEER': 'PIONEER',\n",
       " 'HODAKA GALAXY': 'HODAKA GALAXY',\n",
       " 'zb 335': 'zb 335',\n",
       " 'Tesoro Vancouver Terminal': 'Tesoro Vancouver Terminal',\n",
       " 'YTT 11': 'YTT 11',\n",
       " 'RAINBOW STAR': 'RAINBOW STAR',\n",
       " 'Sampson Barge': 'Sampson Barge',\n",
       " 'TOPAZ': 'TOPAZ',\n",
       " 'Tidewater Pioneer': 'Tidewater Pioneer',\n",
       " 'KOUROS': 'KOUROS',\n",
       " 'ITB VANCOUVER': 'ITB VANCOUVER',\n",
       " 'SHELL BARGE 07': 'SHELL BARGE 07',\n",
       " 'NAVE DORADO': 'NAVE DORADO',\n",
       " 'ATB BARGE DBL185': 'ATB BARGE DBL185',\n",
       " 'NAVIG8 SKY': 'NAVIG8 SKY',\n",
       " 'USS Pennsylvania': 'USS Pennsylvania',\n",
       " 'YM MASCULINITY': 'YM MASCULINITY',\n",
       " 'ALPINE MARIA': 'ALPINE MARIA',\n",
       " 'CAPTAIN BOB': 'CAPTAIN BOB',\n",
       " 'STI DONALD C TRAUSCHT': 'STI DONALD C TRAUSCHT',\n",
       " 'Barge St Alias': 'Barge St Alias',\n",
       " 'TLP': 'TLP',\n",
       " 'ADRIATIC WAVE': 'ADRIATIC WAVE',\n",
       " 'Ross Lake Resort': 'Ross Lake Resort',\n",
       " 'TORM RAGNHILD': 'TORM RAGNHILD',\n",
       " 'Shell': 'Shell',\n",
       " 'ATB BARGE 650-2': 'ATB BARGE 650-2',\n",
       " 'SILVER ROTTERDAM': 'SILVER ROTTERDAM',\n",
       " 'EVER LYRIC': 'EVER LYRIC',\n",
       " 'BARGE 335': 'BARGE 335',\n",
       " 'UNIQUE INFINITY': 'UNIQUE INFINITY',\n",
       " 'INVESTIGATOR': 'INVESTIGATOR',\n",
       " 'Global  Pilot': 'Global  Pilot',\n",
       " 'Maxum (Rainer Petroleum)': 'Maxum (Rainer Petroleum)',\n",
       " 'ALPINE MELINA': 'ALPINE MELINA',\n",
       " 'YON-315': 'YON-315',\n",
       " 'PROVIDER': 'PROVIDER',\n",
       " 'SEAWAYS MILOS': 'SEAWAYS MILOS',\n",
       " 'STI BATTERY': 'STI BATTERY',\n",
       " 'CABO MISAKI': 'CABO MISAKI',\n",
       " '650-10': '650-10',\n",
       " 'DBL 79': 'DBL 79',\n",
       " 'PAM TAY BARGE': 'PAM TAY BARGE',\n",
       " 'SIXTY FIVE ROSES': 'SIXTY FIVE ROSES',\n",
       " 'NEW VISION': 'NEW VISION',\n",
       " 'PACIFIC ONYX': 'PACIFIC ONYX',\n",
       " 'CL AQUARIUS': 'CL AQUARIUS',\n",
       " 'BARGE ZB 335': 'BARGE ZB 335',\n",
       " 'MAERSK TIANJIN': 'MAERSK TIANJIN',\n",
       " 'SEAWAYS SKOPELOS': 'SEAWAYS SKOPELOS',\n",
       " 'SILVER VALERIE': 'SILVER VALERIE',\n",
       " 'Pomer': 'Pomer',\n",
       " 'GENIUS STAR XII': 'GENIUS STAR XII',\n",
       " 'ATB BARGE DBL 78': 'ATB BARGE DBL 78',\n",
       " 'DOUBLE SKIN 501': 'DOUBLE SKIN 501',\n",
       " 'DOUBLE SKIN 313': 'DOUBLE SKIN 313',\n",
       " 'DOUBLE SKIN 311': 'DOUBLE SKIN 311',\n",
       " 'STRIMON': 'STRIMON',\n",
       " 'IBIS PACIFIC': 'IBIS PACIFIC',\n",
       " 'NORD IMAGINATION': 'NORD IMAGINATION',\n",
       " 'JASMIN JOY': 'JASMIN JOY',\n",
       " 'VOYAGER': 'VOYAGER',\n",
       " 'Seaport Seattle Terminal ': 'Seaport Seattle Terminal ',\n",
       " 'Pioneer': 'Pioneer',\n",
       " 'SINGAPORE EXPRESS': 'SINGAPORE EXPRESS',\n",
       " 'SM TIANJIN': 'SM TIANJIN',\n",
       " 'HIGH CHALLENGE': 'HIGH CHALLENGE',\n",
       " 'KODIAK ENTERPRISE': 'KODIAK ENTERPRISE',\n",
       " 'VALROSSA': 'VALROSSA'}"
      ]
     },
     "execution_count": 12,
     "metadata": {},
     "output_type": "execute_result"
    }
   ],
   "source": [
    "oil_traffic['destination']"
   ]
  },
  {
   "cell_type": "code",
   "execution_count": null,
   "metadata": {},
   "outputs": [],
   "source": []
  }
 ],
 "metadata": {
  "kernelspec": {
   "display_name": "Python 3",
   "language": "python",
   "name": "python3"
  },
  "language_info": {
   "codemirror_mode": {
    "name": "ipython",
    "version": 3
   },
   "file_extension": ".py",
   "mimetype": "text/x-python",
   "name": "python",
   "nbconvert_exporter": "python",
   "pygments_lexer": "ipython3",
   "version": "3.6.5"
  }
 },
 "nbformat": 4,
 "nbformat_minor": 2
}
