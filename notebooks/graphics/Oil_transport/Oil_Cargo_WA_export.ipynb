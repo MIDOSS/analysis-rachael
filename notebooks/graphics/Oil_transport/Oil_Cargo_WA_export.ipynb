{
 "cells": [
  {
   "cell_type": "markdown",
   "metadata": {},
   "source": [
    "## Preliminary evaluation of DOE oil EXPORT data\n",
    "- Crude oil export counted if deliverer is a refinery or terminal\n",
    "- No ship-to-ship transfers included (yet).  This means that tanker volume estimates may be disproportionately higher than actual if tankers act as fueling hub for ATBs and tugs\n",
    "- All non-ATBs and non-tugs are categorized tankers\n",
    "- Oil volumes organized by vessel type and by fuel type\n",
    "- I am missing 11% of oil export in my plots of oil export by transport type and fuel type (see percent_check in Out[11])"
   ]
  },
  {
   "cell_type": "code",
   "execution_count": 1,
   "metadata": {},
   "outputs": [],
   "source": [
    "import pandas as pd\n",
    "import numpy as np\n",
    "import matplotlib.pyplot as plt"
   ]
  },
  {
   "cell_type": "code",
   "execution_count": 2,
   "metadata": {},
   "outputs": [],
   "source": [
    "# User inputs\n",
    "file_dir  = '/Users/rmueller/Documents/UBC/MIDOSS/Data/DeptOfEcology/'\n",
    "file_name = 'MuellerTrans4-30-20.xlsx'"
   ]
  },
  {
   "cell_type": "code",
   "execution_count": 3,
   "metadata": {},
   "outputs": [],
   "source": [
    "# Import columns are: (E) 'StartDateTime, (G) Deliverer, (H) Receiver, (N) City, (P) Product, (Q) Quantity in Gallons, (R) Transfer Type (Fueling, Cargo, or Other)'\n",
    "df = pd.read_excel(f'{file_dir}{file_name}',sheet_name='Vessel Oil Transfer', \n",
    "                   usecols=\"E,G,H,N,P,Q,R\")"
   ]
  },
  {
   "cell_type": "markdown",
   "metadata": {},
   "source": [
    "### Extract data for oil cargo transferred to vessels for marine export approximation"
   ]
  },
  {
   "cell_type": "code",
   "execution_count": 4,
   "metadata": {},
   "outputs": [],
   "source": [
    "# Get all cargo fuel transfers\n",
    "bool_cargo = df['TransferType']=='Cargo'\n",
    "cargo_data = df[bool_cargo]"
   ]
  },
  {
   "cell_type": "code",
   "execution_count": 5,
   "metadata": {},
   "outputs": [],
   "source": [
    "oil_traffic = {}\n",
    "oil_traffic['destination']={}\n",
    "\n",
    "for reciever in cargo_data.Receiver:\n",
    "    # create a list of all recieving entities\n",
    "    if reciever not in oil_traffic['destination']:\n",
    "        oil_traffic['destination'][f'{reciever}'] = 0\n",
    "    # create a list of all refinery destinations\n",
    "    #if receiver.str.contains('Refinery')\n",
    "#oil_traffic['destination']"
   ]
  },
  {
   "cell_type": "markdown",
   "metadata": {},
   "source": [
    "### Evaluate marine oil export"
   ]
  },
  {
   "cell_type": "markdown",
   "metadata": {},
   "source": [
    "#### By vessel type (This is the right way though I still need to remove Vancouver, WA)"
   ]
  },
  {
   "cell_type": "code",
   "execution_count": 6,
   "metadata": {},
   "outputs": [],
   "source": [
    "# define list of strings that can be used to tag names for WA state refineries and terminals\n",
    "# still in verification phase around accurately selecting Salish Sea marine terminals.  \n",
    "# Check to see if Vancouver terminals are included in \"export cargo\" dataframe\n",
    "oil_traffic['refinery_tags'] = ['Refinery', 'Refining']\n",
    "oil_traffic['terminal_tags']  = ['Terminal', 'Petroleum', 'Inc', 'LLC', 'Ballard Oil Co.', 'Reisner Distributor, Inc.','NASWI']"
   ]
  },
  {
   "cell_type": "code",
   "execution_count": 7,
   "metadata": {},
   "outputs": [
    {
     "data": {
      "text/plain": [
       "'Terminal'"
      ]
     },
     "metadata": {},
     "output_type": "display_data"
    },
    {
     "data": {
      "text/plain": [
       "'Petroleum'"
      ]
     },
     "metadata": {},
     "output_type": "display_data"
    },
    {
     "data": {
      "text/plain": [
       "'Inc'"
      ]
     },
     "metadata": {},
     "output_type": "display_data"
    },
    {
     "data": {
      "text/plain": [
       "'LLC'"
      ]
     },
     "metadata": {},
     "output_type": "display_data"
    },
    {
     "data": {
      "text/plain": [
       "'Ballard Oil Co.'"
      ]
     },
     "metadata": {},
     "output_type": "display_data"
    },
    {
     "data": {
      "text/plain": [
       "'Reisner Distributor, Inc.'"
      ]
     },
     "metadata": {},
     "output_type": "display_data"
    },
    {
     "data": {
      "text/plain": [
       "'NASWI'"
      ]
     },
     "metadata": {},
     "output_type": "display_data"
    }
   ],
   "source": [
    "# create dataset of export cargo in which export cargo is defined as\n",
    "# all cargo being deliverd from (land-based) marine terminal\n",
    "cargo_export = cargo_data[cargo_data.Deliverer.str.contains(oil_traffic['refinery_tags'][0])]\n",
    "cargo_export = cargo_export.append(cargo_data[cargo_data.Deliverer.str.contains(oil_traffic['refinery_tags'][1])])\n",
    "\n",
    "# # add oil from refinery locations\n",
    "# for refinery_origin in oil_traffic['refinery_tags']:\n",
    "#     display(refinery_origin)\n",
    "#     export_cargo = export_cargo.append(\n",
    "#         cargo_data.Deliverer.str.contains(f'{refinery_origin}')\n",
    "#     )\n",
    "    \n",
    "# add oil from terminal locations\n",
    "for terminal_origin in oil_traffic['terminal_tags']:\n",
    "    display(terminal_origin)\n",
    "    cargo_export = cargo_export.append(\n",
    "        cargo_data[cargo_data.Deliverer.str.contains(f'{terminal_origin}')]\n",
    "    )\n",
    "    \n",
    "# need to re-set indexing in order to use row-index as data_frame index\n",
    "cargo_export.reset_index(drop=True, inplace=True)    "
   ]
  },
  {
   "cell_type": "code",
   "execution_count": 8,
   "metadata": {},
   "outputs": [
    {
     "data": {
      "text/plain": [
       "['test', 'test']"
      ]
     },
     "execution_count": 8,
     "metadata": {},
     "output_type": "execute_result"
    }
   ],
   "source": [
    "test = {}\n",
    "test['test'] = []\n",
    "test['test'].append('test')\n",
    "test['test'].append('test')\n",
    "test['test']"
   ]
  },
  {
   "cell_type": "code",
   "execution_count": 9,
   "metadata": {},
   "outputs": [],
   "source": [
    "# introduce dictionary for cargo traffic\n",
    "oil_traffic['cargo'] = {}\n",
    "\n",
    "# ATB fuel export\n",
    "oil_traffic['cargo']['atb']                           = {}\n",
    "oil_traffic['cargo']['atb']['percent_volume_export']  = {} # percentage of total crude export by oil type \n",
    "oil_traffic['cargo']['atb']['volume_export_total']    = 0\n",
    "oil_traffic['cargo']['atb']['volume_export']          = [] # a vector of volumes ordered to pair with oil_type\n",
    "oil_traffic['cargo']['atb']['oil_type']               = [] # a vector of oil types ordered to pair with volume_export\n",
    "\n",
    "# barge fuel export\n",
    "oil_traffic['cargo']['barge']                           = {}\n",
    "oil_traffic['cargo']['barge']['percent_volume_export']  = {}\n",
    "oil_traffic['cargo']['barge']['volume_export_total']    = 0\n",
    "oil_traffic['cargo']['barge']['volume_export']          = []\n",
    "oil_traffic['cargo']['barge']['oil_type']               = []\n",
    "\n",
    "# tanker fuel export\n",
    "oil_traffic['cargo']['tanker']                           = {}\n",
    "oil_traffic['cargo']['tanker']['percent_volume_export']  = {}\n",
    "oil_traffic['cargo']['tanker']['volume_export_total']    = 0\n",
    "oil_traffic['cargo']['tanker']['volume_export']          = []\n",
    "oil_traffic['cargo']['tanker']['oil_type']               = []\n",
    "\n",
    "# total\n",
    "oil_traffic['cargo']['total']                = []\n",
    "\n",
    "# identify ship traffic \n",
    "[nrows,ncols] = cargo_export.shape\n",
    "\n",
    "# total up volume of oil transferred onto ATB BARGES, non-ATB barges, and other vessels\n",
    "# create counter for vessel-type\n",
    "atb_counter = 0\n",
    "barge_counter = 0\n",
    "tanker_counter = 0\n",
    "for rows in range(nrows):\n",
    "    if 'ATB' in cargo_export.Receiver[rows]: \n",
    "        oil_traffic['cargo']['atb']['volume_export_total'] += cargo_export.TransferQtyInGallon[rows]\n",
    "        oil_traffic['cargo']['atb']['volume_export'].append(cargo_export.TransferQtyInGallon[rows])\n",
    "        oil_traffic['cargo']['atb']['oil_type'] .append(cargo_export.Product[rows])\n",
    "        atb_counter += 1\n",
    "    elif ('BARGE' in cargo_export.Receiver[rows] or \\\n",
    "        'Barge'   in cargo_export.Receiver[rows] or \\\n",
    "        'PB'      in cargo_export.Receiver[rows] or \\\n",
    "        'YON'     in cargo_export.Receiver[rows] or \\\n",
    "        'DLB'     in cargo_export.Receiver[rows]): \n",
    "        oil_traffic['cargo']['barge']['volume_export_total'] += cargo_export.TransferQtyInGallon[rows] \n",
    "        oil_traffic['cargo']['barge']['volume_export'].append(cargo_export.TransferQtyInGallon[rows])\n",
    "        oil_traffic['cargo']['barge']['oil_type'].append(cargo_export.Product[rows])\n",
    "        barge_counter += 1\n",
    "        #display(cargo_data.Receiver[rows])\n",
    "    else:\n",
    "        oil_traffic['cargo']['tanker']['volume_export_total'] += cargo_export.TransferQtyInGallon[rows] \n",
    "        oil_traffic['cargo']['tanker']['volume_export'].append(cargo_export.TransferQtyInGallon[rows])\n",
    "        oil_traffic['cargo']['tanker']['oil_type'].append(cargo_export.Product[rows])\n",
    "        tanker_counter += 1\n",
    "        #display(cargo_data.Receiver[rows])\n",
    "\n",
    "oil_traffic['cargo']['total'] = oil_traffic['cargo']['atb']['volume_export_total'] + oil_traffic['cargo']['barge']['volume_export_total'] + oil_traffic['cargo']['tanker']['volume_export_total'] "
   ]
  },
  {
   "cell_type": "code",
   "execution_count": 10,
   "metadata": {},
   "outputs": [
    {
     "name": "stdout",
     "output_type": "stream",
     "text": [
      "26.0362863004\n",
      "2.06598242758\n",
      "71.897731272\n"
     ]
    }
   ],
   "source": [
    "# Calculate percent of total transport by vessel type\n",
    "atb_percent = 100*oil_traffic['cargo']['atb']['volume_export_total']/oil_traffic['cargo']['total']\n",
    "barge_percent = 100*oil_traffic['cargo']['barge']['volume_export_total']/oil_traffic['cargo']['total']\n",
    "tanker_percent = 100*oil_traffic['cargo']['tanker']['volume_export_total']/oil_traffic['cargo']['total']\n",
    "print(atb_percent)\n",
    "print(barge_percent)\n",
    "print(tanker_percent)"
   ]
  },
  {
   "cell_type": "code",
   "execution_count": 11,
   "metadata": {},
   "outputs": [
    {
     "data": {
      "text/plain": [
       "Text(0.5,1,'Types of vessels by volume receiving oil as cargo from land-based platform identified as terminal or refinery')"
      ]
     },
     "execution_count": 11,
     "metadata": {},
     "output_type": "execute_result"
    },
    {
     "data": {
      "image/png": "[encoded data removed]",
      "text/plain": [
       "<Figure size 432x288 with 1 Axes>"
      ]
     },
     "metadata": {},
     "output_type": "display_data"
    }
   ],
   "source": [
    "volume_export_byvessel = [oil_traffic['cargo']['atb']['volume_export_total'], oil_traffic['cargo']['barge']['volume_export_total'], oil_traffic['cargo']['tanker']['volume_export_total']]\n",
    "#colors = ['b', 'g', 'r', 'c', 'm', 'y']\n",
    "labels = [f'ATB ({atb_percent:3.1f}%)', f'Tow Barge ({barge_percent:3.1f}%)',f'Tanker ({tanker_percent:3.1f}%)']\n",
    "plt.gca().axis(\"equal\")\n",
    "plt.pie(volume_export_byvessel, labels= labels)\n",
    "plt.title('Types of vessels by volume receiving oil as cargo from land-based platform identified as terminal or refinery')"
   ]
  },
  {
   "cell_type": "markdown",
   "metadata": {},
   "source": [
    "#### By oil type within vessel type classification"
   ]
  },
  {
   "cell_type": "code",
   "execution_count": 12,
   "metadata": {},
   "outputs": [
    {
     "data": {
      "text/plain": [
       "88.872154703313925"
      ]
     },
     "execution_count": 12,
     "metadata": {},
     "output_type": "execute_result"
    }
   ],
   "source": [
    "oil_traffic['cargo']['atb']['CRUDE']=0\n",
    "oil_traffic['cargo']['atb']['GASOLINE']=0\n",
    "oil_traffic['cargo']['atb']['JET FUEL/KEROSENE']=0\n",
    "oil_traffic['cargo']['atb']['DIESEL/MARINE GAS OIL']=0\n",
    "oil_traffic['cargo']['atb']['DIESEL LOW SULPHUR (ULSD)']=0\n",
    "oil_traffic['cargo']['atb']['BUNKER OIL/HFO']=0\n",
    "oil_traffic['cargo']['atb']['other']=0\n",
    "\n",
    "oil_traffic['cargo']['barge']['CRUDE']=0\n",
    "oil_traffic['cargo']['barge']['GASOLINE']=0\n",
    "oil_traffic['cargo']['barge']['JET FUEL/KEROSENE']=0\n",
    "oil_traffic['cargo']['barge']['DIESEL/MARINE GAS OIL']=0\n",
    "oil_traffic['cargo']['barge']['DIESEL LOW SULPHUR (ULSD)']=0\n",
    "oil_traffic['cargo']['barge']['BUNKER OIL/HFO']=0\n",
    "oil_traffic['cargo']['barge']['other']=0\n",
    "\n",
    "oil_traffic['cargo']['tanker']['CRUDE']=0\n",
    "oil_traffic['cargo']['tanker']['GASOLINE']=0\n",
    "oil_traffic['cargo']['tanker']['JET FUEL/KEROSENE']=0\n",
    "oil_traffic['cargo']['tanker']['DIESEL/MARINE GAS OIL']=0\n",
    "oil_traffic['cargo']['tanker']['DIESEL LOW SULPHUR (ULSD)']=0\n",
    "oil_traffic['cargo']['tanker']['BUNKER OIL/HFO']=0\n",
    "oil_traffic['cargo']['tanker']['other']=0\n",
    "\n",
    "oil_types = ['CRUDE', 'GASOLINE', 'JET FUEL/KEROSENE','DIESEL/MARINE GAS OIL', \n",
    "             'DIESEL LOW SULPHUR (ULSD)', 'BUNKER OIL/HFO', 'other']\n",
    "\n",
    "percent_check = 0\n",
    "for oil_name in range(len(oil_types)):\n",
    "    \n",
    "    # ATBs\n",
    "    for rows in range(len(oil_traffic['cargo']['atb']['volume_export'])):  \n",
    "        if oil_types[oil_name] in oil_traffic['cargo']['atb']['oil_type'][rows]: \n",
    "            oil_traffic['cargo']['atb'][oil_types[oil_name]] += oil_traffic['cargo']['atb']['volume_export'][rows]\n",
    "    \n",
    "    # Barges\n",
    "    for rows in range(len(oil_traffic['cargo']['barge']['volume_export'])):  \n",
    "        if oil_types[oil_name] in oil_traffic['cargo']['barge']['oil_type'][rows]: \n",
    "            oil_traffic['cargo']['barge'][oil_types[oil_name]] += oil_traffic['cargo']['barge']['volume_export'][rows]\n",
    "    \n",
    "    # Tankers (non-ATB or Barge)\n",
    "    for rows in range(len(oil_traffic['cargo']['tanker']['volume_export'])):  \n",
    "        if oil_types[oil_name] in oil_traffic['cargo']['tanker']['oil_type'][rows]: \n",
    "            oil_traffic['cargo']['tanker'][oil_types[oil_name]] += oil_traffic['cargo']['tanker']['volume_export'][rows]\n",
    "    \n",
    "    # calculate percentages based on total oil cargo exports\n",
    "    oil_traffic['cargo']['atb']['percent_volume_export'][oil_types[oil_name]]    = 100 * oil_traffic['cargo']['atb'][oil_types[oil_name]]/oil_traffic['cargo']['total']\n",
    "    oil_traffic['cargo']['barge']['percent_volume_export'][oil_types[oil_name]]  = 100 * oil_traffic['cargo']['barge'][oil_types[oil_name]]/oil_traffic['cargo']['total']\n",
    "    oil_traffic['cargo']['tanker']['percent_volume_export'][oil_types[oil_name]] = 100 * oil_traffic['cargo']['tanker'][oil_types[oil_name]]/oil_traffic['cargo']['total']\n",
    "    \n",
    "    for name in ['atb', 'barge', 'tanker']:\n",
    "        percent_check += oil_traffic['cargo'][f'{name}']['percent_volume_export'][oil_types[oil_name]]\n",
    "\n",
    "percent_check        "
   ]
  },
  {
   "cell_type": "markdown",
   "metadata": {},
   "source": [
    "#### Plot up ATB fuel types"
   ]
  },
  {
   "cell_type": "code",
   "execution_count": 13,
   "metadata": {},
   "outputs": [
    {
     "data": {
      "text/plain": [
       "Text(0.5,1,'Types of oil transport by volume for ATBs from WA refineries and terminals')"
      ]
     },
     "execution_count": 13,
     "metadata": {},
     "output_type": "execute_result"
    },
    {
     "data": {
      "image/png": "[encoded data removed]",
      "text/plain": [
       "<Figure size 432x288 with 1 Axes>"
      ]
     },
     "metadata": {},
     "output_type": "display_data"
    }
   ],
   "source": [
    "atb_volume_export = [oil_traffic['cargo']['atb']['CRUDE'],\n",
    "                    oil_traffic['cargo']['atb']['GASOLINE'],\n",
    "                    oil_traffic['cargo']['atb']['JET FUEL/KEROSENE'],\n",
    "                    oil_traffic['cargo']['atb']['DIESEL/MARINE GAS OIL'],\n",
    "                    oil_traffic['cargo']['atb']['DIESEL LOW SULPHUR (ULSD)'],\n",
    "                    oil_traffic['cargo']['atb']['BUNKER OIL/HFO']]\n",
    "labels = []\n",
    "for ii in range(len(oil_types)-1):\n",
    "    labels.append(f'{oil_types[ii]} ({oil_traffic[\"cargo\"][\"atb\"][\"percent_volume_export\"][oil_types[ii]]:3.1f}) %')\n",
    "    \n",
    "plt.gca().axis(\"equal\")\n",
    "plt.pie(atb_volume_export, labels= labels)\n",
    "plt.title('Types of oil transport by volume for ATBs from WA refineries and terminals')"
   ]
  },
  {
   "cell_type": "markdown",
   "metadata": {},
   "source": [
    "#### Plot up Barge fuel types"
   ]
  },
  {
   "cell_type": "code",
   "execution_count": 14,
   "metadata": {},
   "outputs": [
    {
     "data": {
      "text/plain": [
       "Text(0.5,1,'Types of oil transport by volume for barges from WA refineries and terminals')"
      ]
     },
     "execution_count": 14,
     "metadata": {},
     "output_type": "execute_result"
    },
    {
     "data": {
      "image/png": "[encoded data removed]",
      "text/plain": [
       "<Figure size 432x288 with 1 Axes>"
      ]
     },
     "metadata": {},
     "output_type": "display_data"
    }
   ],
   "source": [
    "# barge_volume_export = [oil_traffic['cargo']['barge']['CRUDE'],\n",
    "#                     oil_traffic['cargo']['barge']['GASOLINE'],\n",
    "#                     oil_traffic['cargo']['barge']['JET FUEL/KEROSENE'],\n",
    "#                     oil_traffic['cargo']['barge']['DIESEL/MARINE GAS OIL'],\n",
    "#                     oil_traffic['cargo']['barge']['DIESEL LOW SULPHUR (ULSD)'],\n",
    "#                     oil_traffic['cargo']['barge']['BUNKER OIL/HFO'],\n",
    "#                     oil_traffic['cargo']['barge']['other']]\n",
    "barge_volume_export = [oil_traffic['cargo']['barge']['JET FUEL/KEROSENE'],\n",
    "                    oil_traffic['cargo']['barge']['DIESEL/MARINE GAS OIL'],\n",
    "                    oil_traffic['cargo']['barge']['DIESEL LOW SULPHUR (ULSD)'],\n",
    "                    oil_traffic['cargo']['barge']['BUNKER OIL/HFO']]\n",
    "labels = []\n",
    "for ii in [2,3,4,5]:\n",
    "    labels.append(f'{oil_types[ii]} ({oil_traffic[\"cargo\"][\"barge\"][\"percent_volume_export\"][oil_types[ii]]:3.1f}) %')\n",
    "\n",
    "plt.gca().axis(\"equal\")\n",
    "plt.pie(barge_volume_export, labels= labels)\n",
    "plt.title('Types of oil transport by volume for barges from WA refineries and terminals')"
   ]
  },
  {
   "cell_type": "markdown",
   "metadata": {},
   "source": [
    "#### Plot up Tanker fuel types"
   ]
  },
  {
   "cell_type": "code",
   "execution_count": 15,
   "metadata": {},
   "outputs": [
    {
     "data": {
      "text/plain": [
       "Text(0.5,1,'Types of oil transport by volume for tankers from WA refineries and terminals\\n with percent of net crude export')"
      ]
     },
     "execution_count": 15,
     "metadata": {},
     "output_type": "execute_result"
    },
    {
     "data": {
      "image/png": "[encoded data removed]",
      "text/plain": [
       "<Figure size 432x288 with 1 Axes>"
      ]
     },
     "metadata": {},
     "output_type": "display_data"
    }
   ],
   "source": [
    "tanker_volume_export = [oil_traffic['cargo']['tanker']['CRUDE'],\n",
    "                    oil_traffic['cargo']['tanker']['GASOLINE'],\n",
    "                    oil_traffic['cargo']['tanker']['JET FUEL/KEROSENE'],\n",
    "                    oil_traffic['cargo']['tanker']['DIESEL/MARINE GAS OIL'],\n",
    "                    oil_traffic['cargo']['tanker']['DIESEL LOW SULPHUR (ULSD)'],\n",
    "                    oil_traffic['cargo']['tanker']['BUNKER OIL/HFO'],\n",
    "                    oil_traffic['cargo']['tanker']['other']]\n",
    "labels = []\n",
    "for ii in range(len(oil_types)):\n",
    "    labels.append(f'{oil_types[ii]} ({oil_traffic[\"cargo\"][\"tanker\"][\"percent_volume_export\"][oil_types[ii]]:3.1f}) %')\n",
    "\n",
    "plt.gca().axis(\"equal\")\n",
    "plt.pie(tanker_volume_export, labels= labels)\n",
    "plt.title('Types of oil transport by volume for tankers from WA refineries and terminals\\n with percent of net crude export')"
   ]
  },
  {
   "cell_type": "code",
   "execution_count": 16,
   "metadata": {},
   "outputs": [
    {
     "ename": "KeyError",
     "evalue": "'atb_volume_export'",
     "output_type": "error",
     "traceback": [
      "\u001b[0;31m---------------------------------------------------------------------------\u001b[0m",
      "\u001b[0;31mKeyError\u001b[0m                                  Traceback (most recent call last)",
      "\u001b[0;32m<ipython-input-16-3eca0a882a99>\u001b[0m in \u001b[0;36m<module>\u001b[0;34m()\u001b[0m\n\u001b[0;32m----> 1\u001b[0;31m \u001b[0moil_traffic\u001b[0m\u001b[0;34m[\u001b[0m\u001b[0;34m'cargo'\u001b[0m\u001b[0;34m]\u001b[0m\u001b[0;34m[\u001b[0m\u001b[0;34m'atb_volume_export'\u001b[0m\u001b[0;34m]\u001b[0m\u001b[0;34m\u001b[0m\u001b[0m\n\u001b[0m",
      "\u001b[0;31mKeyError\u001b[0m: 'atb_volume_export'"
     ]
    }
   ],
   "source": [
    "oil_traffic['cargo']['atb_volume_export']"
   ]
  },
  {
   "cell_type": "markdown",
   "metadata": {},
   "source": [
    "#### This is the wrong way (includes ship-to-ship transfers)"
   ]
  },
  {
   "cell_type": "code",
   "execution_count": null,
   "metadata": {},
   "outputs": [],
   "source": [
    "# # remove cargo fuel transfers to land-based entity in order to isolate export cargo\n",
    "# oil_traffic['cargo'] = {}\n",
    "# cargo_data = cargo_data[~cargo_data.Receiver.str.contains('Refinery')]\n",
    "# cargo_data = cargo_data[~cargo_data.Receiver.str.contains('Refining')] # this is specifically for U.S. Oil in Tacoma\n",
    "# cargo_data = cargo_data[~cargo_data.Receiver.str.contains('Terminal')]\n",
    "# cargo_data = cargo_data[~cargo_data.Receiver.str.contains('Petroleum')] # This is for smaller outfits, like Ranier Petroleum or Maxum Petrolem\n",
    "# cargo_data = cargo_data[~cargo_data.Receiver.str.contains('Inc')] # Covich, Petrocard\n",
    "# cargo_data = cargo_data[~cargo_data.Receiver.str.contains('LLC')] # Pacific Functional Fluids, LLC; Coleman Oil Company, LLC\n",
    "# cargo_data = cargo_data[~cargo_data.Receiver.str.contains('Ballard Oil Co.')]\n",
    "# cargo_data = cargo_data[~cargo_data.Receiver.str.contains('Reisner Distributor, Inc.')]\n",
    "# cargo_data = cargo_data[~cargo_data.Receiver.str.contains('NASWI')]\n",
    "\n",
    "# # This dataset contains Columbia River locations that need to be scrubbed out\n",
    "# cargo_data = cargo_data[~cargo_data.City.str.contains('vancouver')]\n",
    "\n",
    "# # cargo_data is no longer indexed chronologically after removing 'Refinery', 'Terminal' and 'NASWI' entries\n",
    "# # need to re-set indexing in order to use row-index as data_frame index\n",
    "# cargo_data.reset_index(drop=True, inplace=True)\n",
    "# [nrows,ncols] = cargo_data.shape\n",
    "\n",
    "# # introduce dictionary entries for fuel volume export\n",
    "# oil_traffic['cargo']['atb_volume_export']   = 0\n",
    "# oil_traffic['cargo']['barge_volume_export'] = 0\n",
    "# oil_traffic['cargo']['other_export'] = 0\n",
    "# oil_traffic['cargo']['ship_to_ship'] = 0\n",
    "# oil_traffic['cargo']['total']        = 0\n",
    "\n",
    "# # carrier names\n",
    "# oil_traffic['cargo']['atb_carrier']={}\n",
    "\n",
    "# # total up volume of oil transferred onto ATB BARGES, non-ATB barges, and other vessels\n",
    "# for rows in range(nrows):\n",
    "#     # from land-based terminals and refineries only\n",
    "#     if 'Refinery' in cargo_data.Deliverer[rows] or 'Refining' in cargo_data.Deliverer[rows] or 'Terminal' in cargo_data.Deliverer[rows]: \n",
    "#         if 'ATB' in cargo_data.Receiver[rows] :\n",
    "#             oil_traffic['cargo']['atb_volume_export'] = oil_traffic['cargo']['atb_volume_export'] + cargo_data.TransferQtyInGallon[rows]\n",
    "#             #display(cargo_data.Receiver[rows])\n",
    "#             #if cargo_data.Receiver[rows] not in oil_traffic['cargo']['atb_carrier']:\n",
    "#             #    oil_traffic['cargo']['atb_carrier'][f'{oil_traffic['cargo']['atb_carrier']}']=[f'{oil_traffic['cargo']['atb_carrier']}']\n",
    "#         elif 'BARGE' in cargo_data.Receiver[rows] or 'Barge' in cargo_data.Receiver[rows] or 'PB' in cargo_data.Receiver[rows] or 'YON' in cargo_data.Receiver[rows] or 'DLB' in cargo_data.Receiver[rows]:  # and not 'ATB' in cargo_data.Receiver[rows]:  \n",
    "#             oil_traffic['cargo']['barge_volume_export'] = oil_traffic['cargo']['barge_volume_export'] + cargo_data.TransferQtyInGallon[rows]\n",
    "#             #display(cargo_data.Receiver[rows])\n",
    "#         else:\n",
    "#             oil_traffic['cargo']['other_export'] = oil_traffic['cargo']['other_export'] + cargo_data.TransferQtyInGallon[rows]\n",
    "#             #display(cargo_data.Receiver[rows])\n",
    "#     else:\n",
    "#         oil_traffic['cargo']['ship_to_ship'] = oil_traffic['cargo']['ship_to_ship'] + cargo_data.TransferQtyInGallon[rows]\n",
    "        \n",
    "# oil_traffic['cargo']['total'] = oil_traffic['cargo']['atb_volume_export'] + oil_traffic['cargo']['barge_volume_export'] + oil_traffic['cargo']['other_export'] + oil_traffic['cargo']['ship_to_ship']\n",
    "# oil_traffic['cargo']['total']/cargo_data.TransferQtyInGallon.sum()"
   ]
  },
  {
   "cell_type": "markdown",
   "metadata": {},
   "source": [
    "### Add up volume transferred by fuel type "
   ]
  },
  {
   "cell_type": "code",
   "execution_count": null,
   "metadata": {},
   "outputs": [],
   "source": [
    "# Add up the total volume of marine transport by product (this includes all transfers)\n",
    "gas_export_data    = cargo_data[cargo_data['Product']=='GASOLINE']\n",
    "gas_export_total   = gas_export_data['TransferQtyInGallon'].sum()\n",
    "gas_export_percent = 100*gas_export_total/cargo_data.TransferQtyInGallon.sum()\n",
    "\n",
    "diesel_export_data    = cargo_data[cargo_data['Product']=='DIESEL/MARINE GAS OIL']\n",
    "diesel_export_total   = diesel_export_data['TransferQtyInGallon'].sum()\n",
    "diesel_export_percent = 100*diesel_export_total/cargo_data.TransferQtyInGallon.sum()\n",
    "\n",
    "bunker_export_data  = cargo_data[cargo_data['Product']=='BUNKER OIL/HFO']\n",
    "bunker_export_total = bunker_export_data['TransferQtyInGallon'].sum()\n",
    "bunker_export_percent = 100*bunker_export_total/cargo_data.TransferQtyInGallon.sum()\n",
    "\n",
    "jet_export_data   = cargo_data[cargo_data['Product']=='JET FUEL/KEROSENE']\n",
    "jet_export_total  = jet_export_data['TransferQtyInGallon'].sum()\n",
    "jet_export_percent = 100*jet_export_total/cargo_data.TransferQtyInGallon.sum()\n",
    "\n",
    "ulsd_export_data  = cargo_data[cargo_data['Product']=='DIESEL LOW SULPHUR (ULSD)']\n",
    "ulsd_export_total = ulsd_export_data['TransferQtyInGallon'].sum()\n",
    "ulsd_export_percent = 100*ulsd_export_total/cargo_data.TransferQtyInGallon.sum()\n",
    "\n",
    "\n",
    "crude_export_data  = cargo_data[cargo_data['Product'].str.contains('CRUDE')]\n",
    "crude_export_total = crude_export_data['TransferQtyInGallon'].sum()\n",
    "crude_export_percent = 100*crude_export_total/cargo_data.TransferQtyInGallon.sum()\n",
    "\n",
    "Other_fuel_total = cargo_data['TransferQtyInGallon'].sum() - crude_export_total - ulsd_export_total - jet_export_total - bunker_export_total - diesel_export_total - gas_export_total \n",
    "other_fuel_percent = 100*Other_fuel_total/cargo_data.TransferQtyInGallon.sum()\n",
    "\n",
    "total_percent = other_fuel_percent+crude_export_percent+ulsd_export_percent+jet_export_percent+bunker_export_percent+diesel_export_percent+gas_export_percent\n",
    "total_percent"
   ]
  },
  {
   "cell_type": "markdown",
   "metadata": {},
   "source": [
    "### Plot up results"
   ]
  },
  {
   "cell_type": "code",
   "execution_count": null,
   "metadata": {},
   "outputs": [],
   "source": [
    "oil_export_values = [gas_export_total, diesel_export_total , bunker_export_total, jet_export_total, crude_export_total, ulsd_export_total, Other_fuel_total]\n",
    "#colors = ['b', 'g', 'r', 'c', 'm', 'y']\n",
    "labels = [f'Gas ({gas_export_percent:3.1f}%)', f'Diesel ({diesel_export_percent:3.1f}%)', f'Bunker-C ({bunker_export_percent:3.1f}%)', f'Jet ({jet_export_percent:3.1f}%)', f'Crude ({crude_export_percent:3.1f}%)', f'Low Sulpher Diesel ({ulsd_export_percent:3.1f}%)', f'Other ({other_fuel_percent:3.1f}%)']\n",
    "plt.gca().axis(\"equal\")\n",
    "plt.pie(oil_export_values, labels= labels)\n",
    "plt.title('Marine Oil Export from WA Refineries and Terminals')"
   ]
  },
  {
   "cell_type": "code",
   "execution_count": null,
   "metadata": {},
   "outputs": [],
   "source": [
    "cargo_data"
   ]
  },
  {
   "cell_type": "code",
   "execution_count": null,
   "metadata": {},
   "outputs": [],
   "source": []
  }
 ],
 "metadata": {
  "kernelspec": {
   "display_name": "Python 3",
   "language": "python",
   "name": "python3"
  },
  "language_info": {
   "codemirror_mode": {
    "name": "ipython",
    "version": 3
   },
   "file_extension": ".py",
   "mimetype": "text/x-python",
   "name": "python",
   "nbconvert_exporter": "python",
   "pygments_lexer": "ipython3",
   "version": "3.6.5"
  }
 },
 "nbformat": 4,
 "nbformat_minor": 2
}
