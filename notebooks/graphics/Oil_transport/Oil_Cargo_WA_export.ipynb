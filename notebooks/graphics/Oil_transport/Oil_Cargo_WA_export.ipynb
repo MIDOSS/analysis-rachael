{
 "cells": [
  {
   "cell_type": "code",
   "execution_count": 47,
   "metadata": {},
   "outputs": [],
   "source": [
    "import pandas as pd\n",
    "import numpy as np\n",
    "import matplotlib.pyplot as plt"
   ]
  },
  {
   "cell_type": "code",
   "execution_count": 3,
   "metadata": {},
   "outputs": [],
   "source": [
    "# User inputs\n",
    "file_dir  = '/Users/rmueller/Documents/UBC/MIDOSS/Data/DeptOfEcology/'\n",
    "file_name = 'MuellerTrans4-30-20.xlsx'"
   ]
  },
  {
   "cell_type": "code",
   "execution_count": 6,
   "metadata": {},
   "outputs": [],
   "source": [
    "df = pd.read_excel(f'{file_dir}{file_name}',sheet_name='Vessel Oil Transfer', usecols=\"E,H,P,Q,R\")"
   ]
  },
  {
   "cell_type": "markdown",
   "metadata": {},
   "source": [
    "### Extract data for oil cargo transferred to vessels for marine export approximation"
   ]
  },
  {
   "cell_type": "code",
   "execution_count": 29,
   "metadata": {},
   "outputs": [],
   "source": [
    "# Get all cargo fuel transfers\n",
    "bool_cargo = df['TransferType']=='Cargo'\n",
    "cargo_data = df[bool_cargo]\n",
    "\n",
    "# remove cargo fuel transfers \n",
    "cargo_data = cargo_data[~cargo_data.Receiver.str.contains('Refinery')]\n",
    "cargo_data = cargo_data[~cargo_data.Receiver.str.contains('Terminal')]\n",
    "cargo_data = cargo_data[~cargo_data.Receiver.str.contains('NASWI')]"
   ]
  },
  {
   "cell_type": "markdown",
   "metadata": {},
   "source": [
    "### Add up volume transferred by fuel type "
   ]
  },
  {
   "cell_type": "code",
   "execution_count": 39,
   "metadata": {},
   "outputs": [],
   "source": [
    "# Add up the total volume of marine transport by product (this includes all transfers)\n",
    "gas_export_data     = cargo_data[cargo_data['Product']=='GASOLINE']\n",
    "gas_export_total = gas_export_data['TransferQtyInGallon'].sum()\n",
    "\n",
    "diesel_export_data  = cargo_data[cargo_data['Product']=='DIESEL/MARINE GAS OIL']\n",
    "diesel_export_total = diesel_export_data['TransferQtyInGallon'].sum()\n",
    "\n",
    "bunker_export_data  = cargo_data[cargo_data['Product']=='BUNKER OIL/HFO']\n",
    "bunker_export_total = bunker_export_data['TransferQtyInGallon'].sum()\n",
    "\n",
    "jet_export_data   = cargo_data[cargo_data['Product']=='JET FUEL/KEROSENE']\n",
    "jet_export_total  = jet_export_data['TransferQtyInGallon'].sum()\n",
    "\n",
    "ulsd_export_data  = cargo_data[cargo_data['Product']=='DIESEL LOW SULPHUR (ULSD)']\n",
    "ulsd_export_total = ulsd_export_data['TransferQtyInGallon'].sum()\n",
    "\n",
    "crude_export_data  = cargo_data[cargo_data['Product'].str.contains('CRUDE')]\n",
    "crude_export_total = crude_export_data['TransferQtyInGallon'].sum()\n",
    "\n",
    "Other_fuel_total = cargo_data['TransferQtyInGallon'].sum() - crude_export_total - ulsd_export_total - jet_export_total - bunker_export_total - diesel_export_total - gas_export_total "
   ]
  },
  {
   "cell_type": "markdown",
   "metadata": {},
   "source": [
    "### Plot up results"
   ]
  },
  {
   "cell_type": "code",
   "execution_count": 53,
   "metadata": {},
   "outputs": [
    {
     "data": {
      "text/plain": [
       "Text(0.5,1,'Marine Oil Export from WA Refineries and Terminals')"
      ]
     },
     "execution_count": 53,
     "metadata": {},
     "output_type": "execute_result"
    },
    {
     "data": {
      "image/png": "[encoded data removed]",
      "text/plain": [
       "<Figure size 432x288 with 1 Axes>"
      ]
     },
     "metadata": {},
     "output_type": "display_data"
    }
   ],
   "source": [
    "oil_export_values = [gas_export_total, diesel_export_total , bunker_export_total, jet_export_total, crude_export_total, ulsd_export_total, Other_fuel_total]\n",
    "#colors = ['b', 'g', 'r', 'c', 'm', 'y']\n",
    "labels = ['Gas', 'Diesel', 'Bunker-C', 'Jet', 'Crude', 'Low Sulpher Diesel', 'Other']\n",
    "plt.gca().axis(\"equal\")\n",
    "plt.pie(oil_export_values, labels= labels)\n",
    "plt.title('Marine Oil Export from WA Refineries and Terminals')"
   ]
  },
  {
   "cell_type": "code",
   "execution_count": null,
   "metadata": {},
   "outputs": [],
   "source": []
  }
 ],
 "metadata": {
  "kernelspec": {
   "display_name": "Python 3",
   "language": "python",
   "name": "python3"
  },
  "language_info": {
   "codemirror_mode": {
    "name": "ipython",
    "version": 3
   },
   "file_extension": ".py",
   "mimetype": "text/x-python",
   "name": "python",
   "nbconvert_exporter": "python",
   "pygments_lexer": "ipython3",
   "version": "3.6.5"
  }
 },
 "nbformat": 4,
 "nbformat_minor": 2
}
