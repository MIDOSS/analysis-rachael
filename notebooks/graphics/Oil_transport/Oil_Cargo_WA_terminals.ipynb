{
 "cells": [
  {
   "cell_type": "code",
   "execution_count": 1,
   "metadata": {},
   "outputs": [],
   "source": [
    "import pandas as pd\n",
    "import numpy as np\n",
    "import matplotlib.pyplot as plt\n",
    "import yaml"
   ]
  },
  {
   "cell_type": "code",
   "execution_count": 2,
   "metadata": {},
   "outputs": [],
   "source": [
    "# User inputs\n",
    "file_dir  = '/Users/rmueller/Data/MIDOSS/DeptOfEcology/'\n",
    "file_name = 'MuellerTrans4-30-20.xlsx'\n",
    "\n",
    "master_dir  = '/Users/rmueller/Projects/MIDOSS/analysis-rachael/notebooks/monte_carlo/'\n",
    "master_file = 'master.yaml'\n",
    "\n",
    "with open(f'{master_dir}{master_file}') as file:\n",
    "    master = yaml.safe_load(file)\n",
    "       "
   ]
  },
  {
   "cell_type": "code",
   "execution_count": 3,
   "metadata": {},
   "outputs": [
    {
     "data": {
      "text/plain": [
       "['BP Cherry Point Refinery',\n",
       " 'Shell Puget Sound Refinery',\n",
       " 'Shell Oil LP Seattle Distribution Terminal',\n",
       " 'Maxum (Rainer Petroleum)',\n",
       " 'Tidewater Snake River Terminal',\n",
       " 'Nustar Energy Tacoma',\n",
       " 'SeaPort Sound Terminal',\n",
       " 'Tesoro Vancouver Terminal',\n",
       " 'Phillips 66 Ferndale Refinery',\n",
       " 'Phillips 66 Tacoma Terminal',\n",
       " 'Andeavor Anacortes Refinery (formerly Tesoro)',\n",
       " 'Tesoro Port Angeles Terminal',\n",
       " 'U.S. Oil & Refining',\n",
       " 'US Oil Tacoma ',\n",
       " 'Naval Air Station Whidbey Island (NASWI)',\n",
       " 'NAVSUP Manchester',\n",
       " 'Alon Asphalt Company (Paramount Petroleum)',\n",
       " 'Kinder Morgan Liquids Terminal - Harbor Island',\n",
       " 'Nustar Energy Tacoma',\n",
       " 'Tesoro Pasco Terminal',\n",
       " 'REG Grays Harbor, LLC',\n",
       " 'Tidewater Vancouver Terminal',\n",
       " 'TLP',\n",
       " 'TLP Management Services LLC (TMS)']"
      ]
     },
     "execution_count": 3,
     "metadata": {},
     "output_type": "execute_result"
    }
   ],
   "source": [
    "# list the names of facilities included in our study\n",
    "facility_names = master['categories']['facility_names']\n",
    "facility_names"
   ]
  },
  {
   "cell_type": "code",
   "execution_count": 4,
   "metadata": {},
   "outputs": [],
   "source": [
    "# Import columns are: (G) Deliverer, (H) Receiver, (P) Product, \n",
    "#                     (Q) Quantity in Gallons, (R) Transfer Type (Fueling, Cargo, or Other)', \n",
    "#                     (w) DelivererTypeDescription, (x) ReceiverTypeDescription \n",
    "df = pd.read_excel(f'{file_dir}{file_name}',sheet_name='Vessel Oil Transfer', \n",
    "                   usecols=\"G,H,P,Q,R,W,X\")\n"
   ]
  },
  {
   "cell_type": "code",
   "execution_count": 5,
   "metadata": {},
   "outputs": [],
   "source": [
    "[nrows,ncols] = df.shape"
   ]
  },
  {
   "cell_type": "markdown",
   "metadata": {},
   "source": [
    "#### Create dictionary structure"
   ]
  },
  {
   "cell_type": "code",
   "execution_count": 79,
   "metadata": {},
   "outputs": [],
   "source": [
    "origin = {}\n",
    "destination = {}\n",
    "\n",
    "for rows in range(nrows):\n",
    "  \n",
    "    # Create dictionary structure for destination\n",
    "    if df.Receiver[rows] in facility_names:\n",
    "        \n",
    "        # create dictionary labels for each location (first two are special cases to catch bad data entry)       \n",
    "        if (df.Receiver[rows] == 'TLP' or \n",
    "             df.Receiver[rows] == 'TLP Management Services LLC (TMS)'\n",
    "           ):\n",
    "            label = 'TLP Management Services LLC (TMS)'\n",
    "        elif df.Receiver[rows] == 'U.S. Oil & Refining' or 'US Oil' in df.Receiver[rows]:\n",
    "            label = 'U.S. Oil & Refining'\n",
    "        else: # for the entries that are well-behaved!\n",
    "            label = f'{df.Receiver[rows]}'\n",
    "        \n",
    "        # create dictionaries for each location     \n",
    "        destination[f'{label}'] = {}\n",
    "        destination[f'{label}']['total_gallons'] = 0\n",
    "        destination[f'{label}']['number_of_transfers'] = 0\n",
    "\n",
    "    # Create dictionary structure for origin\n",
    "    if df.Deliverer[rows] in facility_names:\n",
    "        \n",
    "        # create dictionary labels for each location (first two are special cases to catch bad data entry)       \n",
    "        if (df.Deliverer[rows] == 'TLP' or \n",
    "            df.Deliverer[rows] == 'TLP Management Services LLC (TMS)'\n",
    "           ):\n",
    "            label = 'TLP Management Services LLC (TMS)'      \n",
    "        elif (df.Deliverer[rows] == 'U.S. Oil & Refining' or \n",
    "              'US Oil' in df.Deliverer[rows]\n",
    "             ):\n",
    "            label = 'U.S. Oil & Refining'\n",
    "        else: # for the entries that are well-behaved!\n",
    "            label = f'{df.Deliverer[rows]}'\n",
    "        \n",
    "        # create dictionaries for each location     \n",
    "        origin[f'{label}'] = {}\n",
    "        origin[f'{label}']['total_gallons'] = 0\n",
    "        origin[f'{label}']['number_of_transfers'] = 0\n",
    "\n",
    "# Add accounting placeholders total oil transferred in our analysis transfers\n",
    "origin['total_gallons']=0\n",
    "destination['total_gallons']=0\n",
    "# Add accounting placeholders for total amount of oil missed in our origin/destination \n",
    "origin['missed_gallon']=0\n",
    "destination['missed_gallons']=0"
   ]
  },
  {
   "cell_type": "markdown",
   "metadata": {},
   "source": [
    "#### Sort volume and transfers by location"
   ]
  },
  {
   "cell_type": "code",
   "execution_count": 80,
   "metadata": {},
   "outputs": [],
   "source": [
    "the_others_in = pd.DataFrame(columns = df.columns)\n",
    "the_others_out = pd.DataFrame(columns = df.columns)\n",
    "\n",
    "for row in range(nrows):\n",
    "    \n",
    "    # Catalogue fuel imports (destination traffic)\n",
    "    if (df.Receiver[row] in facility_names and \n",
    "        df.TransferType[row] == 'Cargo'\n",
    "       ):        \n",
    "        if (df.Receiver[row] == 'TLP' or \n",
    "            df.Receiver[row] == 'TLP Management Services LLC (TMS)'\n",
    "           ):            \n",
    "            label = 'TLP Management Services LLC (TMS)'            \n",
    "        elif (df.Receiver[row] == 'U.S. Oil & Refining' or \n",
    "              'US Oil' in df.Receiver[row]\n",
    "             ):            \n",
    "            label = 'U.S. Oil & Refining'            \n",
    "        else: # for the entries that are well-behaved!\n",
    "            label = f'{df.Receiver[row]}'\n",
    "        \n",
    "        # add up fuel and transfers to the locations included in our study\n",
    "        destination[f'{label}']['total_gallons'] += df.TransferQtyInGallon[row].item()\n",
    "        destination[f'{label}']['number_of_transfers'] += 1\n",
    "        \n",
    "        # add up all fuel received as cargo to the terminal locations used in our study\n",
    "        destination['total_gallons'] += df.TransferQtyInGallon[row].item()\n",
    "           \n",
    "    # Catalogue fuel exports (destination traffic)\n",
    "    elif (df.Deliverer[row] in facility_names and \n",
    "        df.TransferType[row] == 'Cargo'\n",
    "       ):        \n",
    "        if (df.Deliverer[row] == 'TLP' or \n",
    "            df.Deliverer[row] == 'TLP Management Services LLC (TMS)'\n",
    "           ):            \n",
    "            label = 'TLP Management Services LLC (TMS)'            \n",
    "        elif (df.Deliverer[row] == 'U.S. Oil & Refining' or \n",
    "              'US Oil' in df.Deliverer[row]\n",
    "             ):            \n",
    "            label = 'U.S. Oil & Refining'            \n",
    "        else: # for the entries that are well-behaved!\n",
    "            label = f'{df.Deliverer[row]}'\n",
    "        \n",
    "        # add up fuel and transfers from the locations included in our study\n",
    "        origin[f'{label}']['total_gallons'] += df.TransferQtyInGallon[row].item()\n",
    "        origin[f'{label}']['number_of_transfers'] += 1\n",
    "        \n",
    "        # add up all fuel delivered as cargo from the terminal locations used in our study\n",
    "        origin['total_gallons'] += df.TransferQtyInGallon[row].item()\n",
    "              \n",
    "    elif (df.TransferType[row] == 'Cargo' and\n",
    "         df.DelivererTypeDescription[row] == 'Facility'):\n",
    "        the_others_out = the_others_out.append( df.iloc[row] )\n",
    "    elif (df.TransferType[row] == 'Cargo' and\n",
    "         df.ReceiverTypeDescription[row] == 'Facility'):\n",
    "        the_others_in = the_others_in.append( df.iloc[row] )\n"
   ]
  },
  {
   "cell_type": "code",
   "execution_count": 81,
   "metadata": {},
   "outputs": [],
   "source": [
    "the_others_in.reset_index( drop=True, inplace=True )\n",
    "the_others_out.reset_index( drop=True, inplace=True )"
   ]
  },
  {
   "cell_type": "code",
   "execution_count": 87,
   "metadata": {},
   "outputs": [],
   "source": [
    "origin['missed_gallons'] = the_others_in.TransferQtyInGallon.sum()\n",
    "destination['missed_gallons'] = the_others_out.TransferQtyInGallon.sum()\n",
    "\n",
    "total_out = origin['missed_gallons'] + origin['total_gallons']\n",
    "total_in  = destination['missed_gallons'] + destination['total_gallons']"
   ]
  },
  {
   "cell_type": "code",
   "execution_count": 91,
   "metadata": {},
   "outputs": [
    {
     "name": "stdout",
     "output_type": "stream",
     "text": [
      "Percentage of outgoing fuel transfer missed by our terminal selection: 2.76\n",
      "Percentage of incomming fuel transfers missed by our terminal selection: 0.60\n"
     ]
    }
   ],
   "source": [
    "print(f'Percentage of outgoing fuel transfer missed by our terminal selection: {100*origin[\"missed_gallons\"]/total_out:4.2f}')\n",
    "print(f'Percentage of incoming fuel transfers missed by our terminal selection: {100*destination[\"missed_gallons\"]/total_in:4.2f}')"
   ]
  },
  {
   "cell_type": "markdown",
   "metadata": {},
   "source": [
    "### create arrays of terminal names that we missed in our analysis\n",
    "(toward quantifying quantity by missed terminal)"
   ]
  },
  {
   "cell_type": "code",
   "execution_count": 60,
   "metadata": {},
   "outputs": [],
   "source": [
    "[rows_in, cols_in] = the_others_in.shape\n",
    "other_facilities_in = {}\n",
    "\n",
    "for row in range(rows_in):\n",
    "    if row == 0: \n",
    "        other_facilities_in['name'] = [the_others_in.Receiver[row]]\n",
    "    else:\n",
    "        if the_others_in.Receiver[row] not in other_facilities_in['name']:\n",
    "            other_facilities_in['name'].append(the_others_in.Receiver[row])\n",
    "      \n",
    "[rows_out, cols_out] = the_others_out.shape\n",
    "other_facilities_out = {}\n",
    "for row in range(rows_out):\n",
    "    if row == 0:         \n",
    "        other_facilities_out['name'] = [the_others_out.Deliverer[row]]\n",
    "    else:     \n",
    "        if the_others_out.Deliverer[row] not in other_facilities_out['name']:\n",
    "            other_facilities_out['name'].append(the_others_out.Deliverer[row])\n",
    "              "
   ]
  },
  {
   "cell_type": "code",
   "execution_count": 61,
   "metadata": {},
   "outputs": [
    {
     "data": {
      "text/plain": [
       "['Tidewater Umatilla Terminal',\n",
       " 'Naval FISC Manchester Fuel Depot (Mobile)',\n",
       " 'CHS PRIMELAND',\n",
       " 'Alon Point Wells',\n",
       " 'Nustar Energy Vancouver',\n",
       " 'CHS PRIMELAND / MEGREGOR ',\n",
       " 'Andeavor Port Angeles',\n",
       " 'NEW ENDEAVOR',\n",
       " 'Ross Lake Resort',\n",
       " 'Shell',\n",
       " 'EVER LYRIC',\n",
       " 'Seaport Seattle Terminal ']"
      ]
     },
     "execution_count": 61,
     "metadata": {},
     "output_type": "execute_result"
    }
   ],
   "source": [
    "other_facilities_in['name']"
   ]
  },
  {
   "cell_type": "code",
   "execution_count": 62,
   "metadata": {},
   "outputs": [
    {
     "data": {
      "text/plain": [
       "['Pacific Ethanol',\n",
       " 'Naval FISC Manchester Fuel Depot (Mobile)',\n",
       " 'BP West Coast Arco Seattle Terminal',\n",
       " 'Clean Harbors Inc.',\n",
       " 'Nustar Energy Vancouver']"
      ]
     },
     "execution_count": 62,
     "metadata": {},
     "output_type": "execute_result"
    }
   ],
   "source": [
    "other_facilities_out['name']"
   ]
  },
  {
   "cell_type": "markdown",
   "metadata": {},
   "source": [
    "### Calculate percentage of exported oil not accounted for in our terminal analysis\n",
    "(I decided not to bother with this b/c the quantity of oil is small) \n"
   ]
  },
  {
   "cell_type": "code",
   "execution_count": 67,
   "metadata": {},
   "outputs": [],
   "source": [
    "for terminals in other_facilities_in['name']:\n",
    "    other_facilities_in[f'{terminals}'] = the_others_in[the_others_in['Receiver']==f'{terminals}'].TransferQtyInGallon.sum()"
   ]
  },
  {
   "cell_type": "code",
   "execution_count": 97,
   "metadata": {},
   "outputs": [
    {
     "data": {
      "text/plain": [
       "{'name': ['Tidewater Umatilla Terminal',\n",
       "  'Naval FISC Manchester Fuel Depot (Mobile)',\n",
       "  'CHS PRIMELAND',\n",
       "  'Alon Point Wells',\n",
       "  'Nustar Energy Vancouver',\n",
       "  'CHS PRIMELAND / MEGREGOR ',\n",
       "  'Andeavor Port Angeles',\n",
       "  'NEW ENDEAVOR',\n",
       "  'Ross Lake Resort',\n",
       "  'Shell',\n",
       "  'EVER LYRIC',\n",
       "  'Seaport Seattle Terminal '],\n",
       " 'Tidewater Umatilla Terminal': 54506547,\n",
       " 'Naval FISC Manchester Fuel Depot (Mobile)': 28177800,\n",
       " 'CHS PRIMELAND': 393684,\n",
       " 'Alon Point Wells': 1449000,\n",
       " 'Nustar Energy Vancouver': 18144000,\n",
       " 'CHS PRIMELAND / MEGREGOR ': 984210,\n",
       " 'Andeavor Port Angeles': 2624560,\n",
       " 'NEW ENDEAVOR': 850080,\n",
       " 'Ross Lake Resort': 7000,\n",
       " 'Shell': 13020000,\n",
       " 'EVER LYRIC': 1082631,\n",
       " 'Seaport Seattle Terminal ': 3360000}"
      ]
     },
     "execution_count": 97,
     "metadata": {},
     "output_type": "execute_result"
    }
   ],
   "source": [
    "other_facilities_in"
   ]
  },
  {
   "cell_type": "code",
   "execution_count": 98,
   "metadata": {},
   "outputs": [
    {
     "data": {
      "text/plain": [
       "0.0005962584991065779"
      ]
     },
     "execution_count": 98,
     "metadata": {},
     "output_type": "execute_result"
    }
   ],
   "source": [
    "other_facilities_in['Seaport Seattle Terminal ']/total_in"
   ]
  },
  {
   "cell_type": "code",
   "execution_count": 99,
   "metadata": {},
   "outputs": [
    {
     "data": {
      "text/plain": [
       "0.0023105016840379894"
      ]
     },
     "execution_count": 99,
     "metadata": {},
     "output_type": "execute_result"
    }
   ],
   "source": [
    "other_facilities_in['Shell']/total_in"
   ]
  },
  {
   "cell_type": "code",
   "execution_count": 92,
   "metadata": {},
   "outputs": [
    {
     "data": {
      "text/plain": [
       "{'name': ['Pacific Ethanol',\n",
       "  'Naval FISC Manchester Fuel Depot (Mobile)',\n",
       "  'BP West Coast Arco Seattle Terminal',\n",
       "  'Clean Harbors Inc.',\n",
       "  'Nustar Energy Vancouver']}"
      ]
     },
     "execution_count": 92,
     "metadata": {},
     "output_type": "execute_result"
    }
   ],
   "source": [
    "other_facilities_out"
   ]
  },
  {
   "cell_type": "code",
   "execution_count": null,
   "metadata": {},
   "outputs": [],
   "source": []
  }
 ],
 "metadata": {
  "kernelspec": {
   "display_name": "Python 3",
   "language": "python",
   "name": "python3"
  },
  "language_info": {
   "codemirror_mode": {
    "name": "ipython",
    "version": 3
   },
   "file_extension": ".py",
   "mimetype": "text/x-python",
   "name": "python",
   "nbconvert_exporter": "python",
   "pygments_lexer": "ipython3",
   "version": "3.6.5"
  }
 },
 "nbformat": 4,
 "nbformat_minor": 2
}
