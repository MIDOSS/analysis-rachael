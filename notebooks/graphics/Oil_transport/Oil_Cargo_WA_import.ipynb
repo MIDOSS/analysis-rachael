{
 "cells": [
  {
   "cell_type": "markdown",
   "metadata": {},
   "source": [
    "## Washington oil IMPORT to Salish Sea facilities\n",
    "- Crude oil export counted if receiver is a refinery or terminal\n",
    "- All non-ATBs and non-tugs are categorized tankers\n",
    "- Oil volumes organized by vessel type and by fuel type\n",
    "- 93.15% of all volume imports to the selected refineries and terminals is accounted for using the specified oil type clasifications \n",
    "- Total Import in this analysis: 5,726,027,289 gallons\n",
    "\n",
    "### Known issues\n",
    "- I need to fix my ATB and barge calculation as there is currently no import via these ships, but I know that's wrong (i.e. I'm missing dilbit from Westridge)\n",
    "- I need to convert to liters for our intents and purposes"
   ]
  },
  {
   "cell_type": "code",
   "execution_count": 1,
   "metadata": {},
   "outputs": [],
   "source": [
    "import pandas as pd\n",
    "import numpy as np\n",
    "import matplotlib.pyplot as plt"
   ]
  },
  {
   "cell_type": "code",
   "execution_count": 2,
   "metadata": {},
   "outputs": [],
   "source": [
    "# User inputs\n",
    "file_dir  = '/Users/rmueller/Documents/UBC/MIDOSS/Data/DeptOfEcology/'\n",
    "file_name = 'MuellerTrans4-30-20.xlsx'"
   ]
  },
  {
   "cell_type": "code",
   "execution_count": 3,
   "metadata": {},
   "outputs": [],
   "source": [
    "# Import columns are: (E) 'StartDateTime, (H) Receiver, (O) Region, (P) Product, (Q) Quantity in Gallons, (R) Transfer Type (Fueling, Cargo, or Other)', (W) Deliverer type \n",
    "df = pd.read_excel(f'{file_dir}{file_name}',sheet_name='Vessel Oil Transfer', \n",
    "                   usecols=\"E,H,O,P,Q,R,X\")"
   ]
  },
  {
   "cell_type": "markdown",
   "metadata": {},
   "source": [
    "### Extract data for oil cargo transferred to vessels for marine export approximation"
   ]
  },
  {
   "cell_type": "code",
   "execution_count": 4,
   "metadata": {},
   "outputs": [],
   "source": [
    "# Get all cargo fuel transfers\n",
    "bool_cargo = df['TransferType']=='Cargo'\n",
    "cargo_data = df[bool_cargo]"
   ]
  },
  {
   "cell_type": "code",
   "execution_count": 5,
   "metadata": {},
   "outputs": [],
   "source": [
    "oil_traffic = {}\n",
    "oil_traffic['receiver']={}\n",
    "\n",
    "for reciever in cargo_data.Receiver:\n",
    "    # create a list of all recieving entities\n",
    "    if reciever not in oil_traffic['receiver']:\n",
    "        oil_traffic['receiver'][f'{reciever}'] = f'{reciever}'"
   ]
  },
  {
   "cell_type": "markdown",
   "metadata": {},
   "source": [
    "### Evaluate marine oil import"
   ]
  },
  {
   "cell_type": "markdown",
   "metadata": {},
   "source": [
    "#### By vessel type "
   ]
  },
  {
   "cell_type": "code",
   "execution_count": 6,
   "metadata": {},
   "outputs": [],
   "source": [
    "# Eli Seely (DOE) reccomends using \"Facility\" in \"DelivererTypeDescription\"[W] to flag all refineries and terminals\n",
    "#   and \"Region\"[O] (which is identified by county) to ID all non-Salish-Sea traffic\n",
    "non_Salish_counties = ['Klickitat','Clark','Cowlitz','Wahkakum','Pacific','Grays Harbor']"
   ]
  },
  {
   "cell_type": "code",
   "execution_count": 7,
   "metadata": {},
   "outputs": [
    {
     "name": "stdout",
     "output_type": "stream",
     "text": [
      "Removing oil transfers from: \n"
     ]
    },
    {
     "data": {
      "text/plain": [
       "'Klickitat'"
      ]
     },
     "metadata": {},
     "output_type": "display_data"
    },
    {
     "data": {
      "text/plain": [
       "'Clark'"
      ]
     },
     "metadata": {},
     "output_type": "display_data"
    },
    {
     "data": {
      "text/plain": [
       "'Cowlitz'"
      ]
     },
     "metadata": {},
     "output_type": "display_data"
    },
    {
     "data": {
      "text/plain": [
       "'Wahkakum'"
      ]
     },
     "metadata": {},
     "output_type": "display_data"
    },
    {
     "data": {
      "text/plain": [
       "'Pacific'"
      ]
     },
     "metadata": {},
     "output_type": "display_data"
    },
    {
     "data": {
      "text/plain": [
       "'Grays Harbor'"
      ]
     },
     "metadata": {},
     "output_type": "display_data"
    }
   ],
   "source": [
    "# create dataset of export cargo in which export cargo is defined as \n",
    "# all cargo being transferred from (land-based) facility\n",
    "cargo_import = cargo_data[cargo_data.ReceiverTypeDescription.str.contains('Facility')]\n",
    "    \n",
    "# remove transfers from non-Salish-Sea locations\n",
    "print('Removing oil transfers from: ')\n",
    "for counties in non_Salish_counties:\n",
    "    display(counties)\n",
    "    cargo_import = cargo_import[~cargo_import.Region.str.contains(f'{counties}')]\n",
    "    \n",
    "# need to re-set indexing in order to use row-index as data_frame index\n",
    "cargo_import.reset_index(drop=True, inplace=True)      "
   ]
  },
  {
   "cell_type": "code",
   "execution_count": 8,
   "metadata": {},
   "outputs": [
    {
     "name": "stdout",
     "output_type": "stream",
     "text": [
      "Volume of oil import captured by ATB, barge, and tank traffic used here: 100.0%\n",
      "Total Import in this analysis: 5726027289 gallons\n"
     ]
    }
   ],
   "source": [
    "# introduce dictionary for cargo traffic\n",
    "oil_traffic['cargo'] = {}\n",
    "\n",
    "# ATB fuel export\n",
    "oil_traffic['cargo']['atb']                           = {}\n",
    "oil_traffic['cargo']['atb']['percent_volume_import']  = {} # percentage of total crude export by oil type \n",
    "oil_traffic['cargo']['atb']['volume_import_total']    = 0\n",
    "oil_traffic['cargo']['atb']['volume_import']          = [] # a vector of volumes ordered to pair with oil_type\n",
    "oil_traffic['cargo']['atb']['oil_type']               = [] # a vector of oil types ordered to pair with volume_export\n",
    "\n",
    "# barge fuel export\n",
    "oil_traffic['cargo']['barge']                           = {}\n",
    "oil_traffic['cargo']['barge']['percent_volume_import']  = {}\n",
    "oil_traffic['cargo']['barge']['volume_import_total']    = 0\n",
    "oil_traffic['cargo']['barge']['volume_import']          = []\n",
    "oil_traffic['cargo']['barge']['oil_type']               = []\n",
    "\n",
    "# tanker fuel export\n",
    "oil_traffic['cargo']['tanker']                           = {}\n",
    "oil_traffic['cargo']['tanker']['percent_volume_import']  = {}\n",
    "oil_traffic['cargo']['tanker']['volume_import_total']    = 0\n",
    "oil_traffic['cargo']['tanker']['volume_import']          = []\n",
    "oil_traffic['cargo']['tanker']['oil_type']               = []\n",
    "\n",
    "# total\n",
    "oil_traffic['cargo']['import_total']                       = {}\n",
    "oil_traffic['cargo']['import_total']['all']                = 0\n",
    "oil_traffic['cargo']['import_total']['atb_barge_tankers']  = 0\n",
    "\n",
    "# identify ship traffic \n",
    "[nrows,ncols] = cargo_import.shape\n",
    "\n",
    "# total up volume of oil transferred onto ATB BARGES, non-ATB barges, and other vessels\n",
    "# create counter for vessel-type\n",
    "atb_counter = 0\n",
    "barge_counter = 0\n",
    "tanker_counter = 0\n",
    "for rows in range(nrows):\n",
    "    \n",
    "    # Add up all oil import to refineries and terminals, regardless of vessel-type\n",
    "    oil_traffic['cargo']['import_total']['all'] += cargo_import.TransferQtyInGallon[rows]\n",
    "    \n",
    "    # ATB\n",
    "    if 'ATB' in cargo_import.Receiver[rows]: \n",
    "        oil_traffic['cargo']['atb']['volume_import_total'] += cargo_import.TransferQtyInGallon[rows]\n",
    "        oil_traffic['cargo']['atb']['volume_import'].append(cargo_import.TransferQtyInGallon[rows])\n",
    "        oil_traffic['cargo']['atb']['oil_type'] .append(cargo_import.Product[rows])\n",
    "        atb_counter += 1\n",
    "    \n",
    "    # Barge\n",
    "    elif ('BARGE' in cargo_import.Receiver[rows] or \\\n",
    "        'Barge'   in cargo_import.Receiver[rows] or \\\n",
    "        'PB'      in cargo_import.Receiver[rows] or \\\n",
    "        'YON'     in cargo_import.Receiver[rows] or \\\n",
    "        'DLB'     in cargo_import.Receiver[rows]): \n",
    "        oil_traffic['cargo']['barge']['volume_import_total'] += cargo_import.TransferQtyInGallon[rows] \n",
    "        oil_traffic['cargo']['barge']['volume_import'].append(cargo_import.TransferQtyInGallon[rows])\n",
    "        oil_traffic['cargo']['barge']['oil_type'].append(cargo_import.Product[rows])\n",
    "        barge_counter += 1\n",
    "    \n",
    "    # Tanker\n",
    "    else:\n",
    "        oil_traffic['cargo']['tanker']['volume_import_total'] += cargo_import.TransferQtyInGallon[rows] \n",
    "        oil_traffic['cargo']['tanker']['volume_import'].append(cargo_import.TransferQtyInGallon[rows])\n",
    "        oil_traffic['cargo']['tanker']['oil_type'].append(cargo_import.Product[rows])\n",
    "        tanker_counter += 1\n",
    "\n",
    "oil_traffic['cargo']['import_total']['atb_barge_tankers'] = oil_traffic['cargo']['atb']['volume_import_total'] + oil_traffic['cargo']['barge']['volume_import_total'] + oil_traffic['cargo']['tanker']['volume_import_total']\n",
    "\n",
    "atb_barge_tanker_percent = 100 * oil_traffic['cargo']['import_total']['atb_barge_tankers']/oil_traffic['cargo']['import_total']['all']\n",
    "print('Volume of oil import captured by ATB, barge, and tank traffic used here: ' + str(atb_barge_tanker_percent) + '%')\n",
    "print('Total Import in this analysis: ' + str(oil_traffic['cargo']['import_total']['all']) + ' gallons')"
   ]
  },
  {
   "cell_type": "code",
   "execution_count": 9,
   "metadata": {},
   "outputs": [
    {
     "name": "stdout",
     "output_type": "stream",
     "text": [
      "0.0\n",
      "0.0\n",
      "100.0\n"
     ]
    }
   ],
   "source": [
    "# Calculate percent of total transport by vessel type\n",
    "atb_percent = 100*oil_traffic['cargo']['atb']['volume_import_total']/oil_traffic['cargo']['import_total']['all']\n",
    "barge_percent = 100*oil_traffic['cargo']['barge']['volume_import_total']/oil_traffic['cargo']['import_total']['all']\n",
    "tanker_percent = 100*oil_traffic['cargo']['tanker']['volume_import_total']/oil_traffic['cargo']['import_total']['all']\n",
    "print(atb_percent)\n",
    "print(barge_percent)\n",
    "print(tanker_percent)"
   ]
  },
  {
   "cell_type": "code",
   "execution_count": 10,
   "metadata": {},
   "outputs": [
    {
     "data": {
      "text/plain": [
       "Text(0.5,1,'Types of vessels by volume transporting oil as cargo to land-based platform identified as terminal or refinery')"
      ]
     },
     "execution_count": 10,
     "metadata": {},
     "output_type": "execute_result"
    },
    {
     "data": {
      "image/png": "[encoded data removed]",
      "text/plain": [
       "<Figure size 432x288 with 1 Axes>"
      ]
     },
     "metadata": {},
     "output_type": "display_data"
    }
   ],
   "source": [
    "volume_export_byvessel = [oil_traffic['cargo']['atb']['volume_import_total'], oil_traffic['cargo']['barge']['volume_import_total'], oil_traffic['cargo']['tanker']['volume_import_total']]\n",
    "#colors = ['b', 'g', 'r', 'c', 'm', 'y']\n",
    "labels = [f'ATB ({atb_percent:3.1f}%)', f'Tow Barge ({barge_percent:3.1f}%)',f'Tanker ({tanker_percent:3.1f}%)']\n",
    "plt.gca().axis(\"equal\")\n",
    "plt.pie(volume_export_byvessel, labels= labels)\n",
    "plt.title('Types of vessels by volume transporting oil as cargo to Salish Sea facilities')"
   ]
  },
  {
   "cell_type": "markdown",
   "metadata": {},
   "source": [
    "#### By oil type within vessel type classification"
   ]
  },
  {
   "cell_type": "code",
   "execution_count": 11,
   "metadata": {},
   "outputs": [
    {
     "data": {
      "text/plain": [
       "93.218394928959285"
      ]
     },
     "execution_count": 11,
     "metadata": {},
     "output_type": "execute_result"
    }
   ],
   "source": [
    "oil_traffic['cargo']['atb']['CRUDE']=0\n",
    "oil_traffic['cargo']['atb']['GASOLINE']=0\n",
    "oil_traffic['cargo']['atb']['JET FUEL/KEROSENE']=0\n",
    "oil_traffic['cargo']['atb']['DIESEL/MARINE GAS OIL']=0\n",
    "oil_traffic['cargo']['atb']['DIESEL LOW SULPHUR (ULSD)']=0\n",
    "oil_traffic['cargo']['atb']['BUNKER OIL/HFO']=0\n",
    "oil_traffic['cargo']['atb']['other']=0\n",
    "\n",
    "oil_traffic['cargo']['barge']['CRUDE']=0\n",
    "oil_traffic['cargo']['barge']['GASOLINE']=0\n",
    "oil_traffic['cargo']['barge']['JET FUEL/KEROSENE']=0\n",
    "oil_traffic['cargo']['barge']['DIESEL/MARINE GAS OIL']=0\n",
    "oil_traffic['cargo']['barge']['DIESEL LOW SULPHUR (ULSD)']=0\n",
    "oil_traffic['cargo']['barge']['BUNKER OIL/HFO']=0\n",
    "oil_traffic['cargo']['barge']['other']=0\n",
    "\n",
    "oil_traffic['cargo']['tanker']['CRUDE']=0\n",
    "oil_traffic['cargo']['tanker']['GASOLINE']=0\n",
    "oil_traffic['cargo']['tanker']['JET FUEL/KEROSENE']=0\n",
    "oil_traffic['cargo']['tanker']['DIESEL/MARINE GAS OIL']=0\n",
    "oil_traffic['cargo']['tanker']['DIESEL LOW SULPHUR (ULSD)']=0\n",
    "oil_traffic['cargo']['tanker']['BUNKER OIL/HFO']=0\n",
    "oil_traffic['cargo']['tanker']['other']=0\n",
    "\n",
    "oil_types = ['CRUDE', 'GASOLINE', 'JET FUEL/KEROSENE','DIESEL/MARINE GAS OIL', \n",
    "             'DIESEL LOW SULPHUR (ULSD)', 'BUNKER OIL/HFO', 'other']\n",
    "\n",
    "percent_check = 0\n",
    "for oil_name in range(len(oil_types)):\n",
    "    \n",
    "    # ATBs\n",
    "    for rows in range(len(oil_traffic['cargo']['atb']['volume_import'])):  \n",
    "        if oil_types[oil_name] in oil_traffic['cargo']['atb']['oil_type'][rows]: \n",
    "            oil_traffic['cargo']['atb'][oil_types[oil_name]] += oil_traffic['cargo']['atb']['volume_import'][rows]\n",
    "    \n",
    "    # Barges\n",
    "    for rows in range(len(oil_traffic['cargo']['barge']['volume_import'])):  \n",
    "        if oil_types[oil_name] in oil_traffic['cargo']['barge']['oil_type'][rows]: \n",
    "            oil_traffic['cargo']['barge'][oil_types[oil_name]] += oil_traffic['cargo']['barge']['volume_import'][rows]\n",
    "    \n",
    "    # Tankers (non-ATB or Barge)\n",
    "    for rows in range(len(oil_traffic['cargo']['tanker']['volume_import'])):  \n",
    "        if oil_types[oil_name] in oil_traffic['cargo']['tanker']['oil_type'][rows]: \n",
    "            oil_traffic['cargo']['tanker'][oil_types[oil_name]] += oil_traffic['cargo']['tanker']['volume_import'][rows]\n",
    "    \n",
    "    # calculate percentages based on total oil cargo exports\n",
    "    oil_traffic['cargo']['atb']['percent_volume_import'][oil_types[oil_name]]    = 100 * oil_traffic['cargo']['atb'][oil_types[oil_name]]/oil_traffic['cargo']['import_total']['all']\n",
    "    oil_traffic['cargo']['barge']['percent_volume_import'][oil_types[oil_name]]  = 100 * oil_traffic['cargo']['barge'][oil_types[oil_name]]/oil_traffic['cargo']['import_total']['all']\n",
    "    oil_traffic['cargo']['tanker']['percent_volume_import'][oil_types[oil_name]] = 100 * oil_traffic['cargo']['tanker'][oil_types[oil_name]]/oil_traffic['cargo']['import_total']['all']\n",
    "\n",
    "    for name in ['atb', 'barge', 'tanker']:\n",
    "        percent_check += oil_traffic['cargo'][f'{name}']['percent_volume_import'][oil_types[oil_name]]\n",
    "\n",
    "percent_check        "
   ]
  },
  {
   "cell_type": "markdown",
   "metadata": {},
   "source": [
    "#### Plot up ATB fuel types"
   ]
  },
  {
   "cell_type": "code",
   "execution_count": 12,
   "metadata": {},
   "outputs": [
    {
     "data": {
      "text/plain": [
       "Text(0.5,1,'Types of oil transport by volume for ATBs to WA refineries and terminals')"
      ]
     },
     "execution_count": 12,
     "metadata": {},
     "output_type": "execute_result"
    },
    {
     "data": {
      "image/png": "[encoded data removed]",
      "text/plain": [
       "<Figure size 432x288 with 1 Axes>"
      ]
     },
     "metadata": {},
     "output_type": "display_data"
    }
   ],
   "source": [
    "atb_volume_import = [oil_traffic['cargo']['atb']['CRUDE'],\n",
    "                    oil_traffic['cargo']['atb']['GASOLINE'],\n",
    "                    oil_traffic['cargo']['atb']['JET FUEL/KEROSENE'],\n",
    "                    oil_traffic['cargo']['atb']['DIESEL/MARINE GAS OIL'],\n",
    "                    oil_traffic['cargo']['atb']['DIESEL LOW SULPHUR (ULSD)'],\n",
    "                    oil_traffic['cargo']['atb']['BUNKER OIL/HFO']]\n",
    "labels = []\n",
    "for ii in range(len(oil_types)-1):\n",
    "    labels.append(f'{oil_types[ii]} ({oil_traffic[\"cargo\"][\"atb\"][\"percent_volume_import\"][oil_types[ii]]:3.1f}) %')\n",
    "    \n",
    "plt.gca().axis(\"equal\")\n",
    "plt.pie(atb_volume_import, labels= labels)\n",
    "plt.title('Types of oil transport by volume for ATBs to Salish Sea facilities')"
   ]
  },
  {
   "cell_type": "markdown",
   "metadata": {},
   "source": [
    "#### Plot up Barge fuel types"
   ]
  },
  {
   "cell_type": "code",
   "execution_count": 13,
   "metadata": {},
   "outputs": [
    {
     "data": {
      "text/plain": [
       "Text(0.5,1,'Types of oil transport by volume for barges to WA refineries and terminals')"
      ]
     },
     "execution_count": 13,
     "metadata": {},
     "output_type": "execute_result"
    },
    {
     "data": {
      "image/png": "[encoded data removed]",
      "text/plain": [
       "<Figure size 432x288 with 1 Axes>"
      ]
     },
     "metadata": {},
     "output_type": "display_data"
    }
   ],
   "source": [
    "# barge_volume_export = [oil_traffic['cargo']['barge']['CRUDE'],\n",
    "#                     oil_traffic['cargo']['barge']['GASOLINE'],\n",
    "#                     oil_traffic['cargo']['barge']['JET FUEL/KEROSENE'],\n",
    "#                     oil_traffic['cargo']['barge']['DIESEL/MARINE GAS OIL'],\n",
    "#                     oil_traffic['cargo']['barge']['DIESEL LOW SULPHUR (ULSD)'],\n",
    "#                     oil_traffic['cargo']['barge']['BUNKER OIL/HFO'],\n",
    "#                     oil_traffic['cargo']['barge']['other']]\n",
    "barge_volume_import = [oil_traffic['cargo']['barge']['JET FUEL/KEROSENE'],\n",
    "                    oil_traffic['cargo']['barge']['DIESEL/MARINE GAS OIL'],\n",
    "                    oil_traffic['cargo']['barge']['DIESEL LOW SULPHUR (ULSD)'],\n",
    "                    oil_traffic['cargo']['barge']['BUNKER OIL/HFO']]\n",
    "labels = []\n",
    "for ii in [2,3,4,5]:\n",
    "    labels.append(f'{oil_types[ii]} ({oil_traffic[\"cargo\"][\"barge\"][\"percent_volume_import\"][oil_types[ii]]:3.1f}) %')\n",
    "\n",
    "plt.gca().axis(\"equal\")\n",
    "plt.pie(barge_volume_import, labels= labels)\n",
    "plt.title('Types of oil transport by volume for barges to Salish Sea facilities')"
   ]
  },
  {
   "cell_type": "markdown",
   "metadata": {},
   "source": [
    "#### Plot up Tanker fuel types"
   ]
  },
  {
   "cell_type": "code",
   "execution_count": 14,
   "metadata": {},
   "outputs": [
    {
     "data": {
      "text/plain": [
       "Text(0.5,1,'Types of oil transport by volume for tankers to WA refineries and terminals\\n with percent of net crude export')"
      ]
     },
     "execution_count": 14,
     "metadata": {},
     "output_type": "execute_result"
    },
    {
     "data": {
      "image/png": "[encoded data removed]",
      "text/plain": [
       "<Figure size 432x288 with 1 Axes>"
      ]
     },
     "metadata": {},
     "output_type": "display_data"
    }
   ],
   "source": [
    "tanker_volume_import = [oil_traffic['cargo']['tanker']['CRUDE'],\n",
    "                    oil_traffic['cargo']['tanker']['GASOLINE'],\n",
    "                    oil_traffic['cargo']['tanker']['JET FUEL/KEROSENE'],\n",
    "                    oil_traffic['cargo']['tanker']['DIESEL/MARINE GAS OIL'],\n",
    "                    oil_traffic['cargo']['tanker']['DIESEL LOW SULPHUR (ULSD)'],\n",
    "                    oil_traffic['cargo']['tanker']['BUNKER OIL/HFO'],\n",
    "                    oil_traffic['cargo']['tanker']['other']]\n",
    "labels = []\n",
    "for ii in range(len(oil_types)):\n",
    "    labels.append(f'{oil_types[ii]} ({oil_traffic[\"cargo\"][\"tanker\"][\"percent_volume_import\"][oil_types[ii]]:3.1f}) %')\n",
    "\n",
    "plt.gca().axis(\"equal\")\n",
    "plt.pie(tanker_volume_import, labels= labels)\n",
    "plt.title('Types of oil transport by volume for tankers to Salish Sea facilities\\n with percent of net import')"
   ]
  },
  {
   "cell_type": "code",
   "execution_count": null,
   "metadata": {},
   "outputs": [],
   "source": []
  }
 ],
 "metadata": {
  "kernelspec": {
   "display_name": "Python 3",
   "language": "python",
   "name": "python3"
  },
  "language_info": {
   "codemirror_mode": {
    "name": "ipython",
    "version": 3
   },
   "file_extension": ".py",
   "mimetype": "text/x-python",
   "name": "python",
   "nbconvert_exporter": "python",
   "pygments_lexer": "ipython3",
   "version": "3.6.5"
  }
 },
 "nbformat": 4,
 "nbformat_minor": 2
}
