{
 "cells": [
  {
   "cell_type": "markdown",
   "metadata": {},
   "source": [
    "# The purpose of this code is to check the effect of setting WCC = 1.0 (previously = 0.0) for values of WCC >= 1. \n",
    "## Result: It makes no difference whatsoever, which is what we expected given that typical values of WCC << 1.0. "
   ]
  },
  {
   "cell_type": "code",
   "execution_count": 1,
   "metadata": {},
   "outputs": [
    {
     "data": {
      "text/html": [
       "<style>.container { width:100% !important; }</style>"
      ],
      "text/plain": [
       "<IPython.core.display.HTML object>"
      ]
     },
     "metadata": {},
     "output_type": "display_data"
    }
   ],
   "source": [
    "import xarray as xr\n",
    "import numpy as np\n",
    "import numpy.ma as ma\n",
    "from salishsea_tools import viz_tools, utilities\n",
    "import datetime\n",
    "import matplotlib.pyplot as plt\n",
    "from matplotlib import gridspec\n",
    "import matplotlib.colors as colors\n",
    "%matplotlib inline\n",
    "import cmocean as cm\n",
    "from mpl_toolkits.axes_grid1 import make_axes_locatable\n",
    "from IPython.core.display import display, HTML\n",
    "display(HTML(\"<style>.container { width:100% !important; }</style>\"))\n",
    "\n",
    "%matplotlib inline"
   ]
  },
  {
   "cell_type": "code",
   "execution_count": 2,
   "metadata": {},
   "outputs": [
    {
     "data": {
      "text/html": [
       "<script>\n",
       "code_show=true; \n",
       "function code_toggle() {\n",
       " if (code_show){\n",
       " $('div.input').hide();\n",
       " } else {\n",
       " $('div.input').show();\n",
       " }\n",
       " code_show = !code_show\n",
       "} \n",
       "$( document ).ready(code_toggle);\n",
       "</script>\n",
       "\n",
       "<form action=\"javascript:code_toggle()\"><input type=\"submit\" value=\"Click here to toggle on/off the raw code.\"></form>"
      ],
      "text/plain": [
       "<IPython.core.display.HTML object>"
      ]
     },
     "execution_count": 2,
     "metadata": {},
     "output_type": "execute_result"
    }
   ],
   "source": [
    "from IPython.display import HTML\n",
    "\n",
    "HTML('''<script>\n",
    "code_show=true; \n",
    "function code_toggle() {\n",
    " if (code_show){\n",
    " $('div.input').hide();\n",
    " } else {\n",
    " $('div.input').show();\n",
    " }\n",
    " code_show = !code_show\n",
    "} \n",
    "$( document ).ready(code_toggle);\n",
    "</script>\n",
    "\n",
    "<form action=\"javascript:code_toggle()\"><input type=\"submit\" value=\"Click here to toggle on/off the raw code.\"></form>''')"
   ]
  },
  {
   "cell_type": "code",
   "execution_count": 3,
   "metadata": {},
   "outputs": [
    {
     "data": {
      "text/plain": [
       "array(['Seconds', 'YY', 'MM', 'DD', 'hh', 'mm', 'ss', 'MassOil',\n",
       "       'VolOilBeached', 'VolumeBeached', 'VolumeOil', 'Volume', 'Area',\n",
       "       'TeoricalArea', 'Thickness', 'MEvaporated', 'VEvaporated',\n",
       "       'FMEvaporated', 'MDispersed', 'VDispersed', 'FMDispersed',\n",
       "       'MSedimented', 'VSedimented', 'FMSedimented', 'MDissolved',\n",
       "       'VDissolved', 'FMDissolved', 'MChemDisp', 'VChemDisp', 'FMChemDisp',\n",
       "       'MOilRecovered', 'VOilRecovered', 'FMOilRecovered', 'MWaterContent',\n",
       "       'VWaterContent', 'Density', 'Viscosity', 'MBio', 'VBio', 'FMBio',\n",
       "       'CharacteristicDiameter', 'P_Star', 'AnalyteMass1', 'AnalyteMass2',\n",
       "       'AnalyteMass3', 'AnalyteMass4', 'AnalyteMass5', 'AnalyteBio1',\n",
       "       'AnalyteBio2', 'AnalyteBio3', 'AnalyteBio4', 'AnalyteBio5'],\n",
       "      dtype='<U22')"
      ]
     },
     "execution_count": 3,
     "metadata": {},
     "output_type": "execute_result"
    }
   ],
   "source": [
    "#### Load results from OSCAR parameters\n",
    "\n",
    "with open('/Users/rmueller/Projects/MIDOSS/results/HeavyFloater/SOG_21nov17-28nov17_OSCAR/resOilOutput.sro', 'r') as the_file:\n",
    "    all_data = [line.strip() for line in the_file.readlines()]\n",
    "    header = all_data[4]  \n",
    "    \n",
    "# Order header into list array by splitting up string\n",
    "header_arr = []\n",
    "header_arr = header.split(' ')\n",
    "# Remove emtpy entries from list\n",
    "header_arr = np.asarray([x for x in header_arr if x != ''])\n",
    "header_arr"
   ]
  },
  {
   "cell_type": "code",
   "execution_count": 4,
   "metadata": {},
   "outputs": [],
   "source": [
    "# These are from the fixed run\n",
    "ecAKfix_in = '/Users/rmueller/Projects/MIDOSS/results/HeavyFloater/SOG_21nov17-28nov17_EvapFix/resOilOutput.sro'\n",
    "file_in = ecAKfix_in\n",
    "data_ecAKfix2D = np.genfromtxt(file_in, skip_header=6, skip_footer=4)/1000\n",
    "\n",
    "# These are from the fixed run with WCC = 1.0 for WCC >= 1.0\n",
    "ecAKwccfix_in = '/Users/rmueller/Projects/MIDOSS/results/HeavyFloater/SOG_21nov17-28nov17_wcc_fix/resOilOutput.sro'\n",
    "file_in = ecAKwccfix_in\n",
    "data_ecAKwccfix2D = np.genfromtxt(file_in, skip_header=6, skip_footer=4)/1000\n"
   ]
  },
  {
   "cell_type": "code",
   "execution_count": 5,
   "metadata": {},
   "outputs": [
    {
     "data": {
      "text/plain": [
       "array(['MEvaporated', 'MDispersed', 'MDissolved', 'MBio'],\n",
       "      dtype='<U22')"
      ]
     },
     "execution_count": 5,
     "metadata": {},
     "output_type": "execute_result"
    }
   ],
   "source": [
    "plot_data = [15,18,24,37]\n",
    "header_arr[plot_data]"
   ]
  },
  {
   "cell_type": "code",
   "execution_count": 7,
   "metadata": {},
   "outputs": [
    {
     "data": {
      "image/png": "[encoded data removed]",
      "text/plain": [
       "<Figure size 432x288 with 2 Axes>"
      ]
     },
     "metadata": {},
     "output_type": "display_data"
    }
   ],
   "source": [
    "# Focus on the two AK cases and look at dispersed, disolved, biodegraded values (>0). \n",
    "# The difference in these runs is that the left has very negative evporation rates while the right side has evaporation set to zero when negative\n",
    "\n",
    "plot_data = [15,18,24,37]\n",
    "fig, axs = plt.subplots(1,2)\n",
    "\n",
    "# right panel: fixed evap algorithm for EC-AK\n",
    "axs[0].plot(data_ecAKfix2D[range(109), plot_data[0]])\n",
    "axs[0].plot(data_ecAKfix2D[range(109), plot_data[1]])\n",
    "axs[0].plot(data_ecAKfix2D[range(109), plot_data[2]])\n",
    "axs[0].plot(data_ecAKfix2D[range(109), plot_data[3]])\n",
    "\n",
    "# left panel: EC-AK\n",
    "axs[1].plot(data_ecAKwccfix2D[range(109), plot_data[0]])\n",
    "axs[1].plot(data_ecAKwccfix2D[range(109), plot_data[1]])\n",
    "axs[1].plot(data_ecAKwccfix2D[range(109), plot_data[2]])\n",
    "axs[1].plot(data_ecAKwccfix2D[range(109), plot_data[3]])\n",
    "\n",
    "axs[0].set_ylabel('Mass (Tonnes)')\n",
    "axs[0].set_xlabel('Time after oil release (hours) ')\n",
    "axs[0].set_ylim([0, 0.4])\n",
    "axs[1].set_ylim([0, 0.4])\n",
    "axs[1].legend(['Evaporated', 'Dispersed','Disolved','Biodegraded'], loc='upper right', bbox_to_anchor= (1.8, 1.05))\n",
    "axs[0].set_title('WCC = 0 (WCC > 1)')\n",
    "axs[1].set_title('WCC = 1 (WCC > 1)')\n",
    "\n",
    "plt.savefig('MB_BunkerC_AK_2panel_WCC_comparison.png')"
   ]
  },
  {
   "cell_type": "code",
   "execution_count": null,
   "metadata": {},
   "outputs": [],
   "source": []
  }
 ],
 "metadata": {
  "kernelspec": {
   "display_name": "Python 3",
   "language": "python",
   "name": "python3"
  },
  "language_info": {
   "codemirror_mode": {
    "name": "ipython",
    "version": 3
   },
   "file_extension": ".py",
   "mimetype": "text/x-python",
   "name": "python",
   "nbconvert_exporter": "python",
   "pygments_lexer": "ipython3",
   "version": "3.6.5"
  }
 },
 "nbformat": 4,
 "nbformat_minor": 2
}
