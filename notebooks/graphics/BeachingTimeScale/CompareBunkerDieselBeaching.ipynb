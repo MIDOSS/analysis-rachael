{
 "cells": [
  {
   "cell_type": "markdown",
   "metadata": {},
   "source": [
    "### The goal of this notebook is to make sure that the difference in beaching time scale locations for the crude and refined cases is not simply an issue of a different grid orientation in output files"
   ]
  },
  {
   "cell_type": "code",
   "execution_count": 2,
   "metadata": {},
   "outputs": [
    {
     "data": {
      "text/html": [
       "<style>.container { width:100% !important; }</style>"
      ],
      "text/plain": [
       "<IPython.core.display.HTML object>"
      ]
     },
     "metadata": {},
     "output_type": "display_data"
    }
   ],
   "source": [
    "import matplotlib.pyplot as plt\n",
    "import numpy as np\n",
    "import pandas as pd\n",
    "import netCDF4 as nc\n",
    "import seaborn as sns\n",
    "import matplotlib.colors as mcolors\n",
    "from matplotlib.colors import LinearSegmentedColormap\n",
    "import matplotlib.patches as mpatches\n",
    "import matplotlib.dates as mpd\n",
    "import cmocean as cm\n",
    "import glob\n",
    "import os\n",
    "import xarray as xr\n",
    "import datetime\n",
    "from salishsea_tools import viz_tools, tidetools, geo_tools, gsw_calls, wind_tools\n",
    "import pickle\n",
    "from IPython.core.display import display, HTML\n",
    "display(HTML(\"<style>.container { width:100% !important; }</style>\"))\n",
    "\n",
    "from sys import platform\n",
    "\n",
    "%matplotlib inline"
   ]
  },
  {
   "cell_type": "code",
   "execution_count": 3,
   "metadata": {},
   "outputs": [],
   "source": [
    "from pandas.plotting import register_matplotlib_converters\n",
    "register_matplotlib_converters()"
   ]
  },
  {
   "cell_type": "code",
   "execution_count": 4,
   "metadata": {},
   "outputs": [],
   "source": [
    "## User inputs.  As set up now, darwin -> paths on Rachael's \"shuga\" laptop \n",
    "## The other paths are for Vicky's Ocean setup\n",
    "\n",
    "if platform == 'darwin':\n",
    "    bathy_dir = '/Users/rmueller/Data/SalishSeaCast/grid/'\n",
    "    results_dir = '/Users/rmueller/Projects/'\n",
    "    out_dir = '/Users/rmueller/Documents/Presentations/2020/OceanSciences2020/'\n",
    "else:\n",
    "    bathy_dir = '/data/vdo/MEOPAR/NEMO-forcing/grid/'\n",
    "    results_dir = '/ocean/vdo/'\n",
    "    out_dir = '/home/vdo/'\n",
    "    \n",
    "# Set to [1] if you want to print to file and [0] if not\n",
    "print_to_file = 1  "
   ]
  },
  {
   "cell_type": "code",
   "execution_count": 5,
   "metadata": {},
   "outputs": [],
   "source": [
    "## User inputs.  As set up now, darwin -> paths on Rachael's \"shuga\" laptop \n",
    "## The other paths are for Vicky's Ocean setup\n",
    "\n",
    "if platform == 'darwin':\n",
    "    bathy_dir = '/Users/rmueller/Data/SalishSeaCast/grid/'\n",
    "    results_dir = '/Users/rmueller/Projects/'\n",
    "else:\n",
    "    bathy_dir = '/data/vdo/MEOPAR/NEMO-forcing/grid/'\n",
    "    results_dir = '/ocean/vdo/'"
   ]
  },
  {
   "cell_type": "code",
   "execution_count": 6,
   "metadata": {},
   "outputs": [],
   "source": [
    "## colourmap for the land/water. \n",
    "#vmax = 1\n",
    "#cmap2 = LinearSegmentedColormap.from_list('mycmap', [(0 / vmax, 'lightskyblue'), #change this if you want a different colour for water\n",
    "#                                                    (0.85 / vmax, 'lightskyblue'), #change this if you want a different colour for water\n",
    "#                                                    (0.850001 / vmax, 'papayawhip'), #change this if you want a different colour for land\n",
    "#                                                    (1 / vmax, 'papayawhip')] #change this if you want a different colour for land\n",
    "#                                        )"
   ]
  },
  {
   "cell_type": "code",
   "execution_count": 7,
   "metadata": {},
   "outputs": [],
   "source": [
    "# load data\n",
    "# Note: The filename says SOG but the results show that it's not an SOG location\n",
    "#bunker = nc.Dataset(results_dir + 'MIDOSS/results/HeavyFloater/SOG_21nov17-28nov17_general_evap_fix2/Lagrangian_BunkerC_crude_SOG_21nov17-28nov17.nc')\n",
    "#diesel = nc.Dataset(results_dir + 'MIDOSS/results/OS2020/diesel/SB/Lagrangian_DieselFuel_refined_21nov17-28nov17_Diesel.nc')\n",
    "\n",
    "bunker = xr.open_dataset(results_dir + 'MIDOSS/results/HeavyFloater/SOG_21nov17-28nov17_general_evap_fix2/Lagrangian_BunkerC_crude_SOG_21nov17-28nov17.nc')\n",
    "diesel = xr.open_dataset(results_dir + 'MIDOSS/results/OS2020/diesel/SB/Lagrangian_DieselFuel_refined_21nov17-28nov17_Diesel.nc')\n",
    "diesel_crude = xr.open_dataset(results_dir + 'MIDOSS/results/DieselTest/Lagrangian_DieselFuel_refined_SOG_21nov2017_28nov2017_Diesel.nc')"
   ]
  },
  {
   "cell_type": "code",
   "execution_count": 8,
   "metadata": {},
   "outputs": [
    {
     "data": {
      "text/plain": [
       "(896, 396)"
      ]
     },
     "execution_count": 8,
     "metadata": {},
     "output_type": "execute_result"
    }
   ],
   "source": [
    "#bt_bunker = bunker.variables['Beaching_Time'][:] # This is if using nc.Dataset for reading in values\n",
    "bunker_time = bunker.Beaching_Time[:]\n",
    "bunker_time.shape"
   ]
  },
  {
   "cell_type": "code",
   "execution_count": 9,
   "metadata": {},
   "outputs": [
    {
     "data": {
      "text/plain": [
       "(896, 396)"
      ]
     },
     "execution_count": 9,
     "metadata": {},
     "output_type": "execute_result"
    }
   ],
   "source": [
    "#bt_diesel = diesel.variables['Beaching_Time'][:] # This is if using nc.Dataset for reading in values\n",
    "diesel_time = diesel.Beaching_Time[:]\n",
    "diesel_crude_time = diesel_crude.Beaching_Time[:]\n",
    "diesel_time.shape"
   ]
  },
  {
   "cell_type": "code",
   "execution_count": 10,
   "metadata": {},
   "outputs": [
    {
     "data": {
      "text/plain": [
       "numpy.datetime64('2017-11-21T00:30:00')"
      ]
     },
     "execution_count": 10,
     "metadata": {},
     "output_type": "execute_result"
    }
   ],
   "source": [
    "#~~~~~ NEED TO UPDATE THIS TO AUTOMATE START_TIME DEFINITION FOR MORE GENERAL APPLICATION  ~~~~~~~~~\n",
    "start_time = np.datetime64('2017-11-21T00:30:00')\n",
    "start_time"
   ]
  },
  {
   "cell_type": "code",
   "execution_count": 11,
   "metadata": {},
   "outputs": [
    {
     "data": {
      "text/plain": [
       "896"
      ]
     },
     "execution_count": 11,
     "metadata": {},
     "output_type": "execute_result"
    }
   ],
   "source": [
    "# get size of array \n",
    "[ny,nx] = diesel_time.shape\n",
    "ny"
   ]
  },
  {
   "cell_type": "code",
   "execution_count": 12,
   "metadata": {},
   "outputs": [
    {
     "data": {
      "text/plain": [
       "range(0, 896)"
      ]
     },
     "execution_count": 12,
     "metadata": {},
     "output_type": "execute_result"
    }
   ],
   "source": [
    "x_range = range(nx)\n",
    "y_range = range(ny)\n",
    "y_range"
   ]
  },
  {
   "cell_type": "code",
   "execution_count": 13,
   "metadata": {},
   "outputs": [],
   "source": [
    "# get bunker time as numeric value\n",
    "bunker_time_asnum = np.array([[((np.datetime64(bunker_time.values[jj,ii]) - start_time ) / np.timedelta64(1, 'D')) for ii in x_range] for jj in y_range])"
   ]
  },
  {
   "cell_type": "code",
   "execution_count": 14,
   "metadata": {},
   "outputs": [
    {
     "data": {
      "text/plain": [
       "numpy.datetime64('2017-11-21T00:30:00')"
      ]
     },
     "execution_count": 14,
     "metadata": {},
     "output_type": "execute_result"
    }
   ],
   "source": [
    "start_time"
   ]
  },
  {
   "cell_type": "code",
   "execution_count": 15,
   "metadata": {},
   "outputs": [],
   "source": [
    "# get diesel time as numeric value\n",
    "diesel_time_asnum = np.array([[((np.datetime64(diesel_time.values[jj,ii]) - start_time) / np.timedelta64(1, 'D')) for ii in x_range] for jj in y_range])\n",
    "diesel_crude_time_asnum = np.array([[((np.datetime64(diesel_crude_time.values[jj,ii])- start_time) / np.timedelta64(1, 'D')) for ii in x_range] for jj in y_range])"
   ]
  },
  {
   "cell_type": "code",
   "execution_count": 16,
   "metadata": {},
   "outputs": [],
   "source": [
    "# set zero values to NaN\n",
    "bunker_time_asnum[bunker_time_asnum==0] = np.nan\n",
    "diesel_time_asnum[diesel_time_asnum==0] = np.nan\n",
    "diesel_crude_time_asnum[diesel_crude_time_asnum==0] = np.nan"
   ]
  },
  {
   "cell_type": "code",
   "execution_count": 22,
   "metadata": {},
   "outputs": [
    {
     "data": {
      "image/png": "[encoded data removed]",
      "text/plain": [
       "<Figure size 432x288 with 4 Axes>"
      ]
     },
     "metadata": {},
     "output_type": "display_data"
    }
   ],
   "source": [
    "fig, axs = plt.subplots(1,3)\n",
    "\n",
    "# add land mask to ax1 and ax2\n",
    "viz_tools.plot_land_mask(axs[0],'/Users/rmueller/Projects/MIDOSS/MIDOSS-MOHID-grid/AfterNEMOBathy201702.nc', color = 'burlywood')\n",
    "viz_tools.plot_land_mask(axs[1],'/Users/rmueller/Projects/MIDOSS/MIDOSS-MOHID-grid/AfterNEMOBathy201702.nc', color = 'burlywood')\n",
    "viz_tools.plot_land_mask(axs[2],'/Users/rmueller/Projects/MIDOSS/MIDOSS-MOHID-grid/AfterNEMOBathy201702.nc', color = 'burlywood')\n",
    "\n",
    "\n",
    "# add beaching time scales\n",
    "mappable = axs[0].pcolormesh(diesel_time_asnum)\n",
    "mappable = axs[1].pcolormesh(bunker_time_asnum)\n",
    "mappable = axs[2].pcolormesh(diesel_crude_time_asnum)\n",
    "\n",
    "axs[0].set_title(\"diesel\")\n",
    "axs[1].set_title(\"bunker-c\")\n",
    "axs[2].set_title(\"diesel crude test\")\n",
    "\n",
    "for a in axs:\n",
    "    a.set_facecolor('azure')\n",
    "    a.get_xaxis().set_visible(False)\n",
    "    a.get_yaxis().set_visible(False)\n",
    "    viz_tools.set_aspect(a)\n",
    "    a.set_xlim(100,300) #change this to set x axis limits\n",
    "    a.set_ylim(200,400) #change this to set y axis limits\n",
    "    \n",
    "plt.tight_layout();\n",
    "\n",
    "ax_cbar = fig.add_axes([1.02,0.11,0.025,.78])\n",
    "cbar = plt.colorbar(mappable, cax=ax_cbar, orientation='vertical')\n"
   ]
  },
  {
   "cell_type": "code",
   "execution_count": 21,
   "metadata": {},
   "outputs": [
    {
     "data": {
      "text/plain": [
       "615.45833333333326"
      ]
     },
     "execution_count": 21,
     "metadata": {},
     "output_type": "execute_result"
    }
   ],
   "source": [
    "# Check to see if there are any values in the diesel crude test case\n",
    "is_crude_data = np.nansum(diesel_crude_time_asnum)\n",
    "is_crude_data"
   ]
  },
  {
   "cell_type": "code",
   "execution_count": 52,
   "metadata": {},
   "outputs": [
    {
     "ename": "TypeError",
     "evalue": "set_xticklabels() missing 1 required positional argument: 'labels'",
     "output_type": "error",
     "traceback": [
      "\u001b[0;31m---------------------------------------------------------------------------\u001b[0m",
      "\u001b[0;31mTypeError\u001b[0m                                 Traceback (most recent call last)",
      "\u001b[0;32m<ipython-input-52-cf5d26567893>\u001b[0m in \u001b[0;36m<module>\u001b[0;34m()\u001b[0m\n\u001b[1;32m     15\u001b[0m \u001b[0maxs\u001b[0m\u001b[0;34m.\u001b[0m\u001b[0mset_xlim\u001b[0m\u001b[0;34m(\u001b[0m\u001b[0;36m100\u001b[0m\u001b[0;34m,\u001b[0m\u001b[0;36m300\u001b[0m\u001b[0;34m)\u001b[0m \u001b[0;31m#change this to set x axis limits\u001b[0m\u001b[0;34m\u001b[0m\u001b[0m\n\u001b[1;32m     16\u001b[0m \u001b[0maxs\u001b[0m\u001b[0;34m.\u001b[0m\u001b[0mset_ylim\u001b[0m\u001b[0;34m(\u001b[0m\u001b[0;36m450\u001b[0m\u001b[0;34m,\u001b[0m\u001b[0;36m700\u001b[0m\u001b[0;34m)\u001b[0m \u001b[0;31m#change this to set y axis limits\u001b[0m\u001b[0;34m\u001b[0m\u001b[0m\n\u001b[0;32m---> 17\u001b[0;31m \u001b[0maxs\u001b[0m\u001b[0;34m.\u001b[0m\u001b[0mset_xticklabels\u001b[0m\u001b[0;34m(\u001b[0m\u001b[0mfontdict\u001b[0m\u001b[0;34m=\u001b[0m\u001b[0;34m{\u001b[0m\u001b[0;34m'fontsize'\u001b[0m\u001b[0;34m:\u001b[0m\u001b[0;36m24\u001b[0m\u001b[0;34m}\u001b[0m\u001b[0;34m)\u001b[0m\u001b[0;34m\u001b[0m\u001b[0m\n\u001b[0m\u001b[1;32m     18\u001b[0m \u001b[0mplt\u001b[0m\u001b[0;34m.\u001b[0m\u001b[0mtight_layout\u001b[0m\u001b[0;34m(\u001b[0m\u001b[0;34m)\u001b[0m\u001b[0;34m;\u001b[0m\u001b[0;34m\u001b[0m\u001b[0m\n\u001b[1;32m     19\u001b[0m \u001b[0;34m\u001b[0m\u001b[0m\n",
      "\u001b[0;31mTypeError\u001b[0m: set_xticklabels() missing 1 required positional argument: 'labels'"
     ]
    },
    {
     "data": {
      "image/png": "[encoded data removed]",
      "text/plain": [
       "<Figure size 2880x1440 with 1 Axes>"
      ]
     },
     "metadata": {},
     "output_type": "display_data"
    }
   ],
   "source": [
    "fig, axs = plt.subplots(1,1, figsize=(40,20))\n",
    "\n",
    "# add land mask to ax1 and ax2\n",
    "viz_tools.plot_land_mask(axs,'/Users/rmueller/Projects/MIDOSS/MIDOSS-MOHID-grid/AfterNEMOBathy201702.nc', color = 'burlywood')\n",
    "\n",
    "# add beaching time scales\n",
    "mappable = axs.pcolormesh(diesel_crude_time_asnum,)\n",
    "\n",
    "axs.set_title(\"diesel crude test\", fontsize=24)\n",
    "\n",
    "axs.set_facecolor('azure')\n",
    "#axs.get_xaxis().set_visible(False)\n",
    "#axs.get_yaxis().set_visible(False)\n",
    "viz_tools.set_aspect(axs)\n",
    "axs.set_xlim(100,300) #change this to set x axis limits\n",
    "axs.set_ylim(450,700) #change this to set y axis limits\n",
    "axs.set_xticklabels(fontdict={'fontsize':24})    \n",
    "plt.tight_layout();\n",
    "\n",
    "ax_cbar = fig.add_axes([1.02,0.11,0.025,.78])\n",
    "cbar = plt.colorbar(mappable, cax=ax_cbar, orientation='vertical')"
   ]
  },
  {
   "cell_type": "markdown",
   "metadata": {},
   "source": [
    "### The beaching timescale problem doesn't appear to be an issue to `Crude` vs. `Refined` OilType as there is oil beaching in water points for this case too, in which OilType is set to `crude`\n"
   ]
  },
  {
   "cell_type": "markdown",
   "metadata": {},
   "source": [
    "## Plotting up mass balance for diesel crude case"
   ]
  },
  {
   "cell_type": "code",
   "execution_count": null,
   "metadata": {},
   "outputs": [],
   "source": [
    "with open('/Users/rmueller/Projects/MIDOSS/results/DieselTest/resOilOutput.sro', 'r') as the_file:\n",
    "    all_data = [line.strip() for line in the_file.readlines()]\n",
    "    header = all_data[4]\n",
    "    \n",
    "# Order header into list array by splitting up string\n",
    "header_arr = []\n",
    "header_arr = header.split(' ')\n",
    "# Remove emtpy entries from list\n",
    "header_arr = np.asarray([x for x in header_arr if x != ''])\n",
    "header_arr"
   ]
  },
  {
   "cell_type": "code",
   "execution_count": null,
   "metadata": {},
   "outputs": [],
   "source": [
    "# crude diesel case\n",
    "file_in = '/Users/rmueller/Projects/MIDOSS/results/DieselTest/resOilOutput.sro'\n",
    "data2D = np.genfromtxt(file_in, skip_header=6, skip_footer=4)\n",
    "\n",
    "# Bunker-C case\n",
    "file_in_r = '/Users/rmueller/Projects/MIDOSS/results/HeavyFloater/SOG_21nov17-28nov17_general_evap_fix2/resOilOutput.sro'\n",
    "data2D_r = np.genfromtxt(file_in_r, skip_header=6, skip_footer=4)\n",
    "nrows,ncols = data2D.shape\n",
    "nrows_r, ncols_r = data2D_r.shape"
   ]
  },
  {
   "cell_type": "code",
   "execution_count": null,
   "metadata": {},
   "outputs": [],
   "source": [
    "# define structure of structured array\n",
    "dtype = [('Header',(np.str_,22)),('Values', np.float64)]\n",
    "\n",
    "# create index list for for-loop over columns\n",
    "header_range = range(header_arr.size)\n",
    "data_range = range(nrows)\n",
    "\n",
    "# Assign 2D data and header strings to structured array\n",
    "massbalance = np.array([[(header_arr[hdr_index], data2D[data_index, hdr_index]) for hdr_index in header_range] for data_index in data_range], dtype=dtype)\n",
    "\n",
    "# bunker-C case (_r)\n",
    "massbalance_r = np.array([[(header_arr[hdr_index], data2D_r[data_index, hdr_index]) for hdr_index in header_range] for data_index in range(nrows_r)], dtype=dtype)"
   ]
  },
  {
   "cell_type": "code",
   "execution_count": null,
   "metadata": {},
   "outputs": [],
   "source": [
    "[data_len, ncols] = massbalance.shape\n",
    "[data_len_r, ncols] = massbalance_r.shape\n",
    "i_mevaporated = 15\n",
    "i_mdispersed  = 18\n",
    "i_mdissolved  = 24\n",
    "i_mbio        = 37\n",
    "i_voloilbeached = 8\n",
    "i_volumebeached = 9\n",
    "i_volumeoil     = 10\n",
    "i_volume        = 11\n",
    "i_vwatercontent = 34\n",
    "i_msedimented   = 21\n",
    "i_mwatercontent = 33\n",
    "i_density   = 35\n",
    "i_viscosity = 36 \n",
    "i_area = 12\n",
    "i_theorical_area = 13\n",
    "# analyte mass (I thought this was dissolved but the numbers are more reflective of dispersed)\n",
    "i_analytemass0 = 42\n",
    "i_analytemass1 = 43\n",
    "i_analytemass2 = 44\n",
    "i_analytemass3 = 45\n",
    "i_analytemass4 = 46\n",
    "# biodegredation\n",
    "i_bio0 = 47\n",
    "i_bio0 = 48\n",
    "i_bio0 = 49\n",
    "i_bio0 = 50\n",
    "i_bio0 = 51"
   ]
  },
  {
   "cell_type": "code",
   "execution_count": null,
   "metadata": {},
   "outputs": [],
   "source": [
    "# plot data for diesel crude case\n",
    "plot_data = [15,18,24,37]\n",
    "header_arr[plot_data]\n",
    "#plt.plot([data2D[range(191), data_index] for data_index in plot_data])\n",
    "plt.plot(data2D[range(data_len), plot_data[0]])\n",
    "plt.plot(data2D[range(data_len), plot_data[1]])\n",
    "plt.plot(data2D[range(data_len), plot_data[2]])\n",
    "plt.plot(data2D[range(data_len), plot_data[3]])\n",
    "plt.title('Diesel Crude case')\n",
    "plt.ylabel('Mass (Tonnes)')\n",
    "plt.xlabel('Time after oil release (hours) ')\n",
    "plt.legend(['Evaporated', 'Dispersed','Disolved','Biodegraded'])\n",
    "#plt.savefig('EvaporativeExposure_massbalance.png')"
   ]
  },
  {
   "cell_type": "code",
   "execution_count": null,
   "metadata": {},
   "outputs": [],
   "source": [
    "# plot data for diesel crude case\n",
    "plot_data = [15,18,24,37]\n",
    "header_arr[plot_data]\n",
    "#plt.plot([data2D[range(191), data_index] for data_index in plot_data])\n",
    "plt.plot(data2D_r[range(data_len_r), plot_data[0]])\n",
    "plt.plot(data2D_r[range(data_len_r), plot_data[1]])\n",
    "plt.plot(data2D_r[range(data_len_r), plot_data[2]])\n",
    "plt.plot(data2D_r[range(data_len_r), plot_data[3]])\n",
    "plt.title('Bunker-C case')\n",
    "plt.ylabel('Mass (Tonnes)')\n",
    "plt.xlabel('Time after oil release (hours) ')\n",
    "plt.legend(['Evaporated', 'Dispersed','Disolved','Biodegraded'])"
   ]
  },
  {
   "cell_type": "code",
   "execution_count": null,
   "metadata": {},
   "outputs": [],
   "source": []
  }
 ],
 "metadata": {
  "kernelspec": {
   "display_name": "Python 3",
   "language": "python",
   "name": "python3"
  },
  "language_info": {
   "codemirror_mode": {
    "name": "ipython",
    "version": 3
   },
   "file_extension": ".py",
   "mimetype": "text/x-python",
   "name": "python",
   "nbconvert_exporter": "python",
   "pygments_lexer": "ipython3",
   "version": "3.6.5"
  }
 },
 "nbformat": 4,
 "nbformat_minor": 2
}
