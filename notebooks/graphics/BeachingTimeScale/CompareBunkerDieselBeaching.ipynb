{
 "cells": [
  {
   "cell_type": "markdown",
   "metadata": {},
   "source": [
    "### The goal of this notebook is to make sure that the difference in beaching time scale locations for the crude and refined cases is not simply an issue of a different grid orientation in output files"
   ]
  },
  {
   "cell_type": "code",
   "execution_count": 1,
   "metadata": {},
   "outputs": [
    {
     "data": {
      "text/html": [
       "<style>.container { width:100% !important; }</style>"
      ],
      "text/plain": [
       "<IPython.core.display.HTML object>"
      ]
     },
     "metadata": {},
     "output_type": "display_data"
    }
   ],
   "source": [
    "import matplotlib.pyplot as plt\n",
    "import numpy as np\n",
    "import pandas as pd\n",
    "import netCDF4 as nc\n",
    "import seaborn as sns\n",
    "import matplotlib.colors as mcolors\n",
    "from matplotlib.colors import LinearSegmentedColormap\n",
    "import matplotlib.patches as mpatches\n",
    "import matplotlib.dates as mpd\n",
    "import cmocean as cm\n",
    "import glob\n",
    "import os\n",
    "import xarray as xr\n",
    "import datetime\n",
    "from salishsea_tools import viz_tools, tidetools, geo_tools, gsw_calls, wind_tools\n",
    "import pickle\n",
    "from IPython.core.display import display, HTML\n",
    "display(HTML(\"<style>.container { width:100% !important; }</style>\"))\n",
    "\n",
    "from sys import platform\n",
    "\n",
    "%matplotlib inline"
   ]
  },
  {
   "cell_type": "code",
   "execution_count": 2,
   "metadata": {},
   "outputs": [],
   "source": [
    "from pandas.plotting import register_matplotlib_converters\n",
    "register_matplotlib_converters()"
   ]
  },
  {
   "cell_type": "code",
   "execution_count": 3,
   "metadata": {},
   "outputs": [],
   "source": [
    "## User inputs.  As set up now, darwin -> paths on Rachael's \"shuga\" laptop \n",
    "## The other paths are for Vicky's Ocean setup\n",
    "\n",
    "if platform == 'darwin':\n",
    "    bathy_dir = '/Users/rmueller/Data/SalishSeaCast/grid/'\n",
    "    results_dir = '/Users/rmueller/Projects/'\n",
    "    out_dir = '/Users/rmueller/Documents/Presentations/2020/OceanSciences2020/'\n",
    "else:\n",
    "    bathy_dir = '/data/vdo/MEOPAR/NEMO-forcing/grid/'\n",
    "    results_dir = '/ocean/vdo/'\n",
    "    out_dir = '/home/vdo/'\n",
    "    \n",
    "# Set to [1] if you want to print to file and [0] if not\n",
    "print_to_file = 1  "
   ]
  },
  {
   "cell_type": "code",
   "execution_count": 4,
   "metadata": {},
   "outputs": [],
   "source": [
    "## User inputs.  As set up now, darwin -> paths on Rachael's \"shuga\" laptop \n",
    "## The other paths are for Vicky's Ocean setup\n",
    "\n",
    "if platform == 'darwin':\n",
    "    bathy_dir = '/Users/rmueller/Data/SalishSeaCast/grid/'\n",
    "    results_dir = '/Users/rmueller/Projects/'\n",
    "else:\n",
    "    bathy_dir = '/data/vdo/MEOPAR/NEMO-forcing/grid/'\n",
    "    results_dir = '/ocean/vdo/'"
   ]
  },
  {
   "cell_type": "code",
   "execution_count": 5,
   "metadata": {},
   "outputs": [],
   "source": [
    "## colourmap for the land/water. \n",
    "vmax = 1\n",
    "cmap2 = LinearSegmentedColormap.from_list('mycmap', [(0 / vmax, 'lightskyblue'), #change this if you want a different colour for water\n",
    "                                                    (0.85 / vmax, 'lightskyblue'), #change this if you want a different colour for water\n",
    "                                                    (0.850001 / vmax, 'papayawhip'), #change this if you want a different colour for land\n",
    "                                                    (1 / vmax, 'papayawhip')] #change this if you want a different colour for land\n",
    "                                        )"
   ]
  },
  {
   "cell_type": "code",
   "execution_count": 6,
   "metadata": {},
   "outputs": [],
   "source": [
    "# load data\n",
    "# Note: The filename says SOG but the results show that it's not an SOG location\n",
    "#bunker = nc.Dataset(results_dir + 'MIDOSS/results/HeavyFloater/SOG_21nov17-28nov17_general_evap_fix2/Lagrangian_BunkerC_crude_SOG_21nov17-28nov17.nc')\n",
    "#diesel = nc.Dataset(results_dir + 'MIDOSS/results/OS2020/diesel/SB/Lagrangian_DieselFuel_refined_21nov17-28nov17_Diesel.nc')\n",
    "\n",
    "bunker = xr.open_dataset(results_dir + 'MIDOSS/results/HeavyFloater/SOG_21nov17-28nov17_general_evap_fix2/Lagrangian_BunkerC_crude_SOG_21nov17-28nov17.nc')\n",
    "diesel = xr.open_dataset(results_dir + 'MIDOSS/results/OS2020/diesel/SB/Lagrangian_DieselFuel_refined_21nov17-28nov17_Diesel.nc')"
   ]
  },
  {
   "cell_type": "code",
   "execution_count": 7,
   "metadata": {},
   "outputs": [
    {
     "data": {
      "text/plain": [
       "(896, 396)"
      ]
     },
     "execution_count": 7,
     "metadata": {},
     "output_type": "execute_result"
    }
   ],
   "source": [
    "#bt_bunker = bunker.variables['Beaching_Time'][:] # This is if using nc.Dataset for reading in values\n",
    "bunker_time = bunker.Beaching_Time[:]\n",
    "bunker_time.shape"
   ]
  },
  {
   "cell_type": "code",
   "execution_count": 8,
   "metadata": {},
   "outputs": [
    {
     "data": {
      "text/plain": [
       "(896, 396)"
      ]
     },
     "execution_count": 8,
     "metadata": {},
     "output_type": "execute_result"
    }
   ],
   "source": [
    "#bt_diesel = diesel.variables['Beaching_Time'][:] # This is if using nc.Dataset for reading in values\n",
    "diesel_time = diesel.Beaching_Time[:]\n",
    "diesel_time.shape"
   ]
  },
  {
   "cell_type": "code",
   "execution_count": 9,
   "metadata": {},
   "outputs": [
    {
     "data": {
      "text/plain": [
       "numpy.datetime64('2017-11-21T00:30:00')"
      ]
     },
     "execution_count": 9,
     "metadata": {},
     "output_type": "execute_result"
    }
   ],
   "source": [
    "#~~~~~ NEED TO UPDATE THIS TO AUTOMATE START_TIME DEFINITION FOR MORE GENERAL APPLICATION  ~~~~~~~~~\n",
    "start_time = np.datetime64('2017-11-21T00:30:00')\n",
    "start_time"
   ]
  },
  {
   "cell_type": "code",
   "execution_count": 10,
   "metadata": {},
   "outputs": [
    {
     "data": {
      "text/plain": [
       "numpy.datetime64('2017-11-21T00:30:00.000000000')"
      ]
     },
     "execution_count": 10,
     "metadata": {},
     "output_type": "execute_result"
    }
   ],
   "source": [
    "bunker_time.values[0,0]"
   ]
  },
  {
   "cell_type": "code",
   "execution_count": 11,
   "metadata": {},
   "outputs": [
    {
     "data": {
      "text/plain": [
       "896"
      ]
     },
     "execution_count": 11,
     "metadata": {},
     "output_type": "execute_result"
    }
   ],
   "source": [
    "# get size of array \n",
    "[ny,nx] = diesel_time.shape\n",
    "ny"
   ]
  },
  {
   "cell_type": "code",
   "execution_count": 12,
   "metadata": {},
   "outputs": [
    {
     "data": {
      "text/plain": [
       "range(0, 896)"
      ]
     },
     "execution_count": 12,
     "metadata": {},
     "output_type": "execute_result"
    }
   ],
   "source": [
    "x_range = range(nx)\n",
    "y_range = range(ny)\n",
    "y_range"
   ]
  },
  {
   "cell_type": "code",
   "execution_count": 13,
   "metadata": {},
   "outputs": [],
   "source": [
    "# get bunker time as numeric value\n",
    "bunker_time_asnum = np.array([[((start_time - np.datetime64(bunker_time.values[jj,ii])) / np.timedelta64(1, 's')) for ii in x_range] for jj in y_range])"
   ]
  },
  {
   "cell_type": "code",
   "execution_count": 14,
   "metadata": {},
   "outputs": [],
   "source": [
    "# get diesel time as numeric value\n",
    "diesel_time_asnum = np.array([[((start_time - np.datetime64(diesel_time.values[jj,ii])) / np.timedelta64(1, 's')) for ii in x_range] for jj in y_range])"
   ]
  },
  {
   "cell_type": "code",
   "execution_count": 15,
   "metadata": {},
   "outputs": [],
   "source": [
    "# set zero values to NaN\n",
    "bunker_time_asnum[bunker_time_asnum==0] = np.nan\n",
    "diesel_time_asnum[diesel_time_asnum==0] = np.nan"
   ]
  },
  {
   "cell_type": "code",
   "execution_count": 19,
   "metadata": {},
   "outputs": [
    {
     "data": {
      "image/png": "[encoded data removed]",
      "text/plain": [
       "<Figure size 432x288 with 3 Axes>"
      ]
     },
     "metadata": {},
     "output_type": "display_data"
    }
   ],
   "source": [
    "fig, axs = plt.subplots(1,2)\n",
    "\n",
    "# add land mask to ax1 and ax2\n",
    "viz_tools.plot_land_mask(axs[0],'/Users/rmueller/Projects/MIDOSS/MIDOSS-MOHID-grid/AfterNEMOBathy201702.nc', color = 'burlywood')\n",
    "viz_tools.plot_land_mask(axs[1],'/Users/rmueller/Projects/MIDOSS/MIDOSS-MOHID-grid/AfterNEMOBathy201702.nc', color = 'burlywood')\n",
    "\n",
    "# add beaching time scales\n",
    "mappable = axs[0].pcolormesh(diesel_time_asnum)\n",
    "mappable = axs[1].pcolormesh(bunker_time_asnum)\n",
    "\n",
    "axs[0].set_title(\"diesel\")\n",
    "axs[1].set_title(\"bunker-c\")\n",
    "\n",
    "for a in axs:\n",
    "    a.set_facecolor('azure')\n",
    "    a.get_xaxis().set_visible(False)\n",
    "    a.get_yaxis().set_visible(False)\n",
    "    viz_tools.set_aspect(a)\n",
    "    a.set_xlim(100,300) #change this to set x axis limits\n",
    "    a.set_ylim(200,400) #change this to set y axis limits\n",
    "    \n",
    "plt.tight_layout();\n",
    "\n",
    "ax_cbar = fig.add_axes([1.02,0.11,0.025,.78])\n",
    "cbar = plt.colorbar(mappable, cax=ax_cbar, orientation='vertical')\n"
   ]
  },
  {
   "cell_type": "markdown",
   "metadata": {},
   "source": [
    "### well, the time values need to be corrected but the 2D representation is consistent!  \n",
    "### Onward for now....\n"
   ]
  },
  {
   "cell_type": "code",
   "execution_count": null,
   "metadata": {},
   "outputs": [],
   "source": []
  }
 ],
 "metadata": {
  "kernelspec": {
   "display_name": "Python 3",
   "language": "python",
   "name": "python3"
  },
  "language_info": {
   "codemirror_mode": {
    "name": "ipython",
    "version": 3
   },
   "file_extension": ".py",
   "mimetype": "text/x-python",
   "name": "python",
   "nbconvert_exporter": "python",
   "pygments_lexer": "ipython3",
   "version": "3.6.5"
  }
 },
 "nbformat": 4,
 "nbformat_minor": 2
}
