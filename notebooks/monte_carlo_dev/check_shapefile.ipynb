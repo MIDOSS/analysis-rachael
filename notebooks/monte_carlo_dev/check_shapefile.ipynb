{
 "cells": [
  {
   "cell_type": "code",
   "execution_count": 51,
   "metadata": {},
   "outputs": [
    {
     "name": "stdout",
     "output_type": "stream",
     "text": [
      "tanker\n",
      "tanker: Empty GeoDataFrame\n",
      "Columns: [MMSI_NUM, ST_DATE, EN_DATE, LENGTH, TO, FROM_, geometry]\n",
      "Index: []\n",
      "(-128.283609999889, 46.800755000411, -128.2789533328066, 46.80302499958342)\n",
      "atb\n",
      "atb: Empty GeoDataFrame\n",
      "Columns: [MMSI_NUM, ST_DATE, EN_DATE, LENGTH, TO, FROM_, geometry]\n",
      "Index: []\n",
      "(-122.77796499917518, 48.331868333106485, -122.77574499952827, 48.336633333262114)\n",
      "barge\n",
      "barge: Empty GeoDataFrame\n",
      "Columns: [MMSI_NUM, ST_DATE, EN_DATE, LENGTH, TO, FROM_, geometry]\n",
      "Index: []\n",
      "(-123.87851666741479, 49.14500500032428, -123.87197166692675, 49.16581000001336)\n",
      "cargo\n",
      "cargo: Empty GeoDataFrame\n",
      "Columns: [MMSI_NUM, ST_DATE, EN_DATE, LENGTH, geometry]\n",
      "Index: []\n",
      "(-127.34484389667175, 47.34706004889079, -127.33195222985472, 47.35279338385203)\n",
      "cruise\n",
      "cruise: Empty GeoDataFrame\n",
      "Columns: [MMSI_NUM, ST_DATE, EN_DATE, LENGTH, geometry]\n",
      "Index: []\n",
      "(-127.56294159763345, 50.981248466622795, -127.56069159801982, 50.98183346589861)\n",
      "ferry\n",
      "ferry: Empty GeoDataFrame\n",
      "Columns: [MMSI_NUM, ST_DATE, EN_DATE, LENGTH, geometry]\n",
      "Index: []\n",
      "(-123.47207554364283, 49.42496892180748, -123.35370552312845, 49.43225557447589)\n",
      "fishing\n",
      "fishing: Empty GeoDataFrame\n",
      "Columns: [MMSI_NUM, ST_DATE, EN_DATE, LENGTH, geometry]\n",
      "Index: []\n",
      "(-122.37025991245247, 47.65696728191721, -122.36838157858435, 47.658330614622784)\n",
      "smallpass\n",
      "smallpass: Empty GeoDataFrame\n",
      "Columns: [MMSI_NUM, ST_DATE, EN_DATE, LENGTH, geometry]\n",
      "Index: []\n",
      "(-122.3952365852136, 47.660462281224724, -122.37506491265158, 47.66494061305713)\n",
      "other\n",
      "other: Empty GeoDataFrame\n",
      "Columns: [MMSI_NUM, ST_DATE, EN_DATE, LENGTH, geometry]\n",
      "Index: []\n",
      "(-125.00334925077352, 49.92896874731543, -124.99976258337792, 49.930238746502226)\n"
     ]
    }
   ],
   "source": [
    "import geopandas as gpd\n",
    "from datetime import datetime, date, timedelta\n",
    "import numpy as np\n",
    "from salishsea_tools import geo_tools\n",
    "\n",
    "input_directory = '/Users/rmueller/Data/MIDOSS/AIS/Shapefiles_Sept14_2020/'\n",
    "# labels for AIS ship traffic groups\n",
    "ship_types = [\n",
    "    'tanker', \n",
    "    'atb', \n",
    "    'barge', \n",
    "    'cargo', \n",
    "    'cruise',\n",
    "    'ferry', \n",
    "    'fishing', \n",
    "    'smallpass', \n",
    "    'other'\n",
    "]\n",
    "\n",
    "for ship in ship_types:\n",
    "    print(ship)\n",
    "    shapefile = input_directory + f'{ship}_2018_01.shp'\n",
    "    data = gpd.read_file(shapefile)\n",
    "    print(f'{ship}: {data[:0]}')\n",
    "    \n",
    "    # printing out first entry just to double check lat/lon conventions\n",
    "    print(data.geometry[0].bounds)"
   ]
  }
 ],
 "metadata": {
  "kernelspec": {
   "display_name": "Python 3 (ipykernel)",
   "language": "python",
   "name": "python3"
  },
  "language_info": {
   "codemirror_mode": {
    "name": "ipython",
    "version": 3
   },
   "file_extension": ".py",
   "mimetype": "text/x-python",
   "name": "python",
   "nbconvert_exporter": "python",
   "pygments_lexer": "ipython3",
   "version": "3.8.2"
  }
 },
 "nbformat": 4,
 "nbformat_minor": 4
}
