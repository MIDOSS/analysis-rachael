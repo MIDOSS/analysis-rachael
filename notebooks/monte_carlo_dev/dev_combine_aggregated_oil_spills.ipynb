{
 "cells": [
  {
   "cell_type": "markdown",
   "id": "9da57b4f-d03a-410f-bb85-025965942289",
   "metadata": {
    "tags": []
   },
   "source": [
    "---\n",
    "# combine aggregated spills files\n",
    "---"
   ]
  },
  {
   "cell_type": "code",
   "execution_count": 1,
   "id": "fd3890ad-75f7-44e3-9ec5-1de3fa19c8fd",
   "metadata": {},
   "outputs": [],
   "source": [
    "import os\n",
    "import pathlib\n",
    "import yaml\n",
    "import numpy\n",
    "import pandas\n",
    "import xarray\n",
    "import h5netcdf\n",
    "import cartopy.crs\n",
    "from cartopy import feature\n",
    "from datetime import datetime\n",
    "from glob import glob\n",
    "import time\n",
    "from matplotlib import pyplot as plt, cm, colors, ticker\n",
    "#import cartopy.cls\n",
    "import matplotlib as mpl\n",
    "mpl.rc('font', size=12)\n",
    "mpl.rc('xtick', labelsize=12)\n",
    "mpl.rc('ytick', labelsize=12)\n",
    "mpl.rc('legend', fontsize=12)\n",
    "mpl.rc('axes', titlesize=16)\n",
    "mpl.rc('axes', labelsize=12)\n",
    "mpl.rc('figure', titlesize=16)\n",
    "mpl.rc('text', usetex=False)\n",
    "mpl.rc('font', family='sans-serif', weight='normal', style='normal')\n"
   ]
  },
  {
   "cell_type": "code",
   "execution_count": 2,
   "id": "57806b6a-14dd-428a-8edb-58859f26f7b4",
   "metadata": {},
   "outputs": [],
   "source": [
    "#pip list --local"
   ]
  },
  {
   "cell_type": "markdown",
   "id": "06b229c5-40ed-4b8e-8dbd-9a369209436a",
   "metadata": {},
   "source": [
    "### Aggregation functions"
   ]
  },
  {
   "cell_type": "code",
   "execution_count": 3,
   "id": "20564261-0c0a-44a6-969b-08637b984a6c",
   "metadata": {
    "tags": []
   },
   "outputs": [],
   "source": [
    "def beaching_aggregate(beaching_files,file_idx):\n",
    "    b = {}\n",
    "    beach_aggregate = {}\n",
    "    print([*file_idx])\n",
    "    # loop through oil types to aggregate\n",
    "    for sort_tag in [*file_idx]:\n",
    "        # load first file\n",
    "        print(beaching_files[file_idx[sort_tag][0]])\n",
    "        beach_aggregate[sort_tag] = xarray.open_dataset(\n",
    "            beaching_files[file_idx[sort_tag][0]]\n",
    "        ).fillna(0)\n",
    "        nspills=beach_aggregate[sort_tag].attrs['N_spills']\n",
    "        #files=beach_aggregate[sort_tag].attrs['Filenames'].tolist()\n",
    "        for idx in range(1,len(file_idx[sort_tag])):\n",
    "            # load next Xarray\n",
    "            print(beaching_files[file_idx[sort_tag][idx]])\n",
    "            b[idx] = xarray.open_dataset(\n",
    "                beaching_files[file_idx[sort_tag][idx]]\n",
    "            ).fillna(0)\n",
    "            # aggregate (n-1) Xarray with (n) Xarray, with special handling\n",
    "            # for Min. Beaching time \n",
    "            BeachTimeMin = beach_aggregate[sort_tag]['BeachTime_Min']\n",
    "            beach_aggregate[sort_tag] = beach_aggregate[sort_tag]+b[idx]\n",
    "            # Address special case: Min beaching time\n",
    "            # Keep time value if it's less than \"n\" case and real; otherwise, \n",
    "            # choose time from nth case, even if NaT.\n",
    "            beach_aggregate[sort_tag]['BeachTime_Min']=xarray.where(\n",
    "                numpy.logical_and(\n",
    "                    BeachTimeMin<b[idx]['BeachTime_Min'],\n",
    "                    numpy.isreal(BeachTimeMin)),\n",
    "                    BeachTimeMin.values,\n",
    "                    b[idx]['BeachTime_Min'].values\n",
    "            )\n",
    "            #files+=b[idx].attrs['Filenames'].tolist()\n",
    "            nspills+=b[idx].attrs['N_spills']\n",
    "            b[idx].close()\n",
    "        # update spill count and filename list to reflect full aggregation\n",
    "        beach_aggregate[sort_tag].attrs['N_spills']=nspills\n",
    "        #beach_aggregate[sort_tag].attrs['Filenames']=files\n",
    "        beach_aggregate[sort_tag]['BeachVolume_Mean']=(\n",
    "            beach_aggregate[sort_tag]['TotalBeachVolume']/beach_aggregate[sort_tag]['BeachPresence']\n",
    "        )\n",
    "    return beach_aggregate\n",
    "        \n",
    "def surface_aggregate(surface_files,file_idx):\n",
    "    sfc = {}\n",
    "    sfc_aggregate = {}\n",
    "    # loop through oil types to aggregate\n",
    "    for sort_tag in [*file_idx]:\n",
    "        # load first file\n",
    "        print(surface_files[file_idx[sort_tag][0]])\n",
    "        sfc_aggregate[sort_tag] = xarray.open_dataset(\n",
    "            surface_files[file_idx[sort_tag][0]]\n",
    "        ).fillna(0)\n",
    "        nspills=sfc_aggregate[sort_tag].attrs['N_spills']\n",
    "        #files=sfc_aggregate[sort_tag].attrs['Filenames'].tolist()\n",
    "        for idx in range(1,len(file_idx[sort_tag])):\n",
    "            # load next Xarray\n",
    "            print(surface_files[file_idx[sort_tag][idx]])\n",
    "            sfc[idx] = xarray.open_dataset(\n",
    "                surface_files[file_idx[sort_tag][idx]]\n",
    "            ).fillna(0)\n",
    "            # aggregate (n-1) Xarray with (n) Xarray\n",
    "            sfc_aggregate[sort_tag] = sfc_aggregate[sort_tag]+sfc[idx]\n",
    "            # concatenate files\n",
    "            #files+=sfc[idx].attrs['Filenames'].tolist()\n",
    "            # total up number of runs in aggregation\n",
    "            nspills+=sfc[idx].attrs['N_spills']\n",
    "            sfc[idx].close()\n",
    "        # update spill count and filename list to reflect full aggregation\n",
    "        sfc_aggregate[sort_tag].attrs['N_spills']=nspills\n",
    "        #sfc_aggregate[sort_tag].attrs['Filenames']=files  \n",
    "        sfc_aggregate[sort_tag]['SurfaceVolume_Mean']=(\n",
    "            sfc_aggregate[sort_tag]['SurfaceVolume_SumSum']/sfc_aggregate[sort_tag]['SurfacePresence']\n",
    "        )\n",
    "    return sfc_aggregate        "
   ]
  },
  {
   "cell_type": "code",
   "execution_count": 9,
   "id": "f96dd772-4a19-473d-988e-e6a3aa0e9290",
   "metadata": {},
   "outputs": [],
   "source": [
    "def create_aggregated_files(output_netcdf_dir, sort_tags):\n",
    "    \"\"\"\n",
    "    output_netcdf_dir: path to aggregated `beaching_*` and `surface_*` files\n",
    "    sort_tags: oil_types or months, e.g.: oil_types = ['akns', 'bunker', 'dilbit', 'jet', 'diesel', 'gas', 'other']\n",
    "    \"\"\"\n",
    "    # initialize output dictionaries\n",
    "    sa={}\n",
    "    ba={}\n",
    "    # create list of files to aggregate\n",
    "    beaching_files = sorted(glob(os.path.join(output_netcdf_dir,\"beaching_*\")))\n",
    "    surface_files = sorted(glob(os.path.join(output_netcdf_dir,\"surface_*\")))\n",
    "    # create list of indices for grabbing aggregated files by sort_tags\n",
    "    beaching_file_idx = {}\n",
    "    surface_file_idx = {}\n",
    "    for sort_tag in sort_tags: \n",
    "        print(sort_tag)\n",
    "        beaching_file_idx[sort_tag] = [i for i, s in enumerate(beaching_files) if sort_tag in s]\n",
    "        surface_file_idx[sort_tag] = [i for i, s in enumerate(surface_files) if sort_tag in s]\n",
    "    # aggregate     \n",
    "    ba = beaching_aggregate(beaching_files,beaching_file_idx)\n",
    "    sa = surface_aggregate(surface_files,surface_file_idx)\n",
    "    \n",
    "    for sort_tag in sort_tags: \n",
    "        try:\n",
    "            os.makedirs(output_netcdf_dir/'complete')\n",
    "        except:\n",
    "            print(f'{output_netcdf_dir}/complete already exists')\n",
    "        ba[sort_tag].to_netcdf(\n",
    "            output_netcdf_dir/'complete'/f'beaching_{sort_tag}_complete.nc', engine='h5netcdf'\n",
    "        )\n",
    "        sa[sort_tag].to_netcdf(\n",
    "            output_netcdf_dir/'complete'/f'surface_{sort_tag}_complete.nc', engine='h5netcdf'\n",
    "        )\n",
    "    return ba,sa"
   ]
  },
  {
   "cell_type": "code",
   "execution_count": 5,
   "id": "1249515a-d745-4ffa-8a3c-e3a8e867466c",
   "metadata": {},
   "outputs": [],
   "source": [
    "# def load_aggregated_files(output_netcdf_dir, sort_tags):\n",
    "#     \"\"\"\n",
    "#     output_netcdf_dir: path to aggregated `beaching_*` and `surface_*` files\n",
    "#     sort_tags: oil_types or months, e.g.: oil_types = ['akns', 'bunker', 'dilbit', 'jet', 'diesel', 'gas', 'other']\n",
    "#     \"\"\"\n",
    "#     # initialize output dictionaries\n",
    "#     sa={}\n",
    "#     ba={}\n",
    "#     # create list of files to aggregate\n",
    "#     beaching_files = sorted(glob(os.path.join(output_netcdf_dir,\"beaching_*\")))\n",
    "#     surface_files = sorted(glob(os.path.join(output_netcdf_dir,\"surface_*\")))\n",
    "#     # create list of indices for grabbing aggregated files by sort_tags\n",
    "#     beaching_file_idx = {}\n",
    "#     surface_file_idx = {}\n",
    "#     # *** beaching files ***\n",
    "#     for sort_tag in sort_tags: \n",
    "#         print(sort_tag)\n",
    "#         beaching_file_idx[sort_tag] = [i for i, s in enumerate(beaching_files) if sort_tag in s]\n",
    "#         beaching_path = output_netcdf_dir/'complete'/f'beaching_{sort_tag}_complete.nc'\n",
    "#         try:\n",
    "#             ba[sort_tag]=xarray.open_dataset(beaching_path)\n",
    "#         except:\n",
    "#             print('Not found: ', output_netcdf_dir/'complete'/f'beaching_{sort_tag}_complete.nc')\n",
    "#             ba = beaching_aggregate(beaching_files,beaching_file_idx)\n",
    "#             for sort_tag in sort_tags: \n",
    "#                 try:\n",
    "#                     os.makedirs(output_netcdf_dir/'complete')\n",
    "#                 except:\n",
    "#                     print(f'{output_netcdf_dir}/complete already exists')\n",
    "#                 ba[sort_tag].to_netcdf(\n",
    "#                     output_netcdf_dir/'complete'/f'beaching_{sort_tag}_complete.nc', engine='h5netcdf'\n",
    "#                 )\n",
    "#                 # sa[sort_tag].to_netcdf(\n",
    "#                 #     output_netcdf_dir/'complete'/f'surface_{sort_tag}_complete.nc', engine='h5netcdf'\n",
    "#                 # )\n",
    "#             return ba\n",
    "#     # *** surface files ***\n",
    "#     for sort_tag in sort_tags: \n",
    "#         surface_file_idx[sort_tag] = [i for i, s in enumerate(surface_files) if sort_tag in s]\n",
    "#         surface_path = output_netcdf_dir/'complete'/f'surface_{sort_tag}_complete.nc'\n",
    "#         try:\n",
    "#             sa[sort_tag]=xarray.open_dataset(surface_path)\n",
    "#         except:\n",
    "#             print('Not found: ', output_netcdf_dir/'complete'/f'beaching_{sort_tag}_complete.nc')\n",
    "#             sa = surface_aggregate(surface_files,surface_file_idx) \n",
    "#             for sort_tag in sort_tags: \n",
    "#                 try:\n",
    "#                     os.makedirs(output_netcdf_dir/'complete')\n",
    "#                 except:\n",
    "#                     print(f'{output_netcdf_dir}/complete already exists')\n",
    "#                 sa[sort_tag].to_netcdf(\n",
    "#                     output_netcdf_dir/'complete'/f'surface_{sort_tag}_complete.nc', engine='h5netcdf'\n",
    "#                 )\n",
    "#             return sa\n",
    "#     # See if fully aggregated files exist already and create them if they don't\n",
    "#     # *** surface ***\n",
    "#     # beaching_path = output_netcdf_dir/'complete'/f'beaching_{sort_tags[0]}_complete.nc'\n",
    "#     # surface_path = output_netcdf_dir/'complete'/f'surface_{sort_tags[0]}_complete.nc'    \n",
    "#     # try:\n",
    "#     #     sa[sort_tags[0]]=xarray.open_dataset(surface_path)\n",
    "#     # except:\n",
    "#     #     print('Not found: ', output_netcdf_dir/'complete'/f'beaching_{sort_tag}_complete.nc')\n",
    "#     #     sa = surface_aggregate(surface_files,surface_file_idx) \n",
    "#     #     for sort_tag in sort_tags: \n",
    "#     #         try:\n",
    "#     #             os.makedirs(output_netcdf_dir/'complete')\n",
    "#     #         except:\n",
    "#     #             print(f'{output_netcdf_dir}/complete already exists')\n",
    "#     #         sa[sort_tag].to_netcdf(\n",
    "#     #             output_netcdf_dir/'complete'/f'surface_{sort_tag}_complete.nc', engine='h5netcdf'\n",
    "#     #         )\n",
    "#     #     return sa\n",
    "#     # # *** beaching ***\n",
    "#     # try:\n",
    "#     #     ba[sort_tags[0]]=xarray.open_dataset(beaching_path)\n",
    "#     # except:\n",
    "#     #     print('Not found: ', output_netcdf_dir/'complete'/f'beaching_{sort_tag}_complete.nc')\n",
    "#     #     ba = beaching_aggregate(beaching_files,beaching_file_idx)\n",
    "#     #     for sort_tag in sort_tags: \n",
    "#     #         try:\n",
    "#     #             os.makedirs(output_netcdf_dir/'complete')\n",
    "#     #         except:\n",
    "#     #             print(f'{output_netcdf_dir}/complete already exists')\n",
    "#     #         ba[sort_tag].to_netcdf(\n",
    "#     #             output_netcdf_dir/'complete'/f'beaching_{sort_tag}_complete.nc', engine='h5netcdf'\n",
    "#     #         )\n",
    "#     #         sa[sort_tag].to_netcdf(\n",
    "#     #             output_netcdf_dir/'complete'/f'surface_{sort_tag}_complete.nc', engine='h5netcdf'\n",
    "#     #         )\n",
    "#     #     return ba\n",
    "    \n",
    "#     # Load files if they exist\n",
    "#     for sort_tag in sort_tags:\n",
    "#         beaching_path = output_netcdf_dir/'complete'/f'beaching_{sort_tag}_complete.nc'\n",
    "#         surface_path = output_netcdf_dir/'complete'/f'surface_{sort_tag}_complete.nc'    \n",
    "#         print(f'loading {surface_path}') \n",
    "#         print(f'loading {beaching_path}') \n",
    "#         sa[sort_tag]=xarray.open_dataset(surface_path)\n",
    "#         ba[sort_tag]=xarray.open_dataset(beaching_path)\n",
    "#     return sa, ba"
   ]
  },
  {
   "cell_type": "markdown",
   "id": "2fda48da-4654-4bfe-9c57-c4f8687e517e",
   "metadata": {},
   "source": [
    "### load aggregation by oil"
   ]
  },
  {
   "cell_type": "code",
   "execution_count": 10,
   "id": "6dc38d71-5ea8-4e9e-ab77-eb17ab46773d",
   "metadata": {},
   "outputs": [
    {
     "name": "stdout",
     "output_type": "stream",
     "text": [
      "akns\n",
      "bunker\n",
      "dilbit\n",
      "jet\n",
      "diesel\n",
      "gas\n",
      "other\n",
      "['akns', 'bunker', 'dilbit', 'jet', 'diesel', 'gas', 'other']\n",
      "/scratch/rmueller/MIDOSS/Results/ByOilType/SpillTime_00-30_fillna0/beaching_akns_0-200.nc\n",
      "/scratch/rmueller/MIDOSS/Results/ByOilType/SpillTime_00-30_fillna0/beaching_bunker_0-200.nc\n",
      "/scratch/rmueller/MIDOSS/Results/ByOilType/SpillTime_00-30_fillna0/beaching_bunker_1000-1200.nc\n",
      "/scratch/rmueller/MIDOSS/Results/ByOilType/SpillTime_00-30_fillna0/beaching_bunker_1200-1400.nc\n",
      "/scratch/rmueller/MIDOSS/Results/ByOilType/SpillTime_00-30_fillna0/beaching_bunker_1400-1600.nc\n",
      "/scratch/rmueller/MIDOSS/Results/ByOilType/SpillTime_00-30_fillna0/beaching_bunker_1600-1800.nc\n",
      "/scratch/rmueller/MIDOSS/Results/ByOilType/SpillTime_00-30_fillna0/beaching_bunker_1800-2000.nc\n",
      "/scratch/rmueller/MIDOSS/Results/ByOilType/SpillTime_00-30_fillna0/beaching_bunker_200-400.nc\n",
      "/scratch/rmueller/MIDOSS/Results/ByOilType/SpillTime_00-30_fillna0/beaching_bunker_2000-2200.nc\n",
      "/scratch/rmueller/MIDOSS/Results/ByOilType/SpillTime_00-30_fillna0/beaching_bunker_2200-2400.nc\n",
      "/scratch/rmueller/MIDOSS/Results/ByOilType/SpillTime_00-30_fillna0/beaching_bunker_2400-2600.nc\n",
      "/scratch/rmueller/MIDOSS/Results/ByOilType/SpillTime_00-30_fillna0/beaching_bunker_2600-2800.nc\n",
      "/scratch/rmueller/MIDOSS/Results/ByOilType/SpillTime_00-30_fillna0/beaching_bunker_2800-3000.nc\n",
      "/scratch/rmueller/MIDOSS/Results/ByOilType/SpillTime_00-30_fillna0/beaching_bunker_3000-3200.nc\n",
      "/scratch/rmueller/MIDOSS/Results/ByOilType/SpillTime_00-30_fillna0/beaching_bunker_3200-3400.nc\n",
      "/scratch/rmueller/MIDOSS/Results/ByOilType/SpillTime_00-30_fillna0/beaching_bunker_400-600.nc\n",
      "/scratch/rmueller/MIDOSS/Results/ByOilType/SpillTime_00-30_fillna0/beaching_bunker_600-800.nc\n",
      "/scratch/rmueller/MIDOSS/Results/ByOilType/SpillTime_00-30_fillna0/beaching_bunker_800-1000.nc\n",
      "/scratch/rmueller/MIDOSS/Results/ByOilType/SpillTime_00-30_fillna0/beaching_dilbit_0-200.nc\n",
      "/scratch/rmueller/MIDOSS/Results/ByOilType/SpillTime_00-30_fillna0/beaching_jet_0-200.nc\n",
      "/scratch/rmueller/MIDOSS/Results/ByOilType/SpillTime_00-30_fillna0/beaching_diesel_0-200.nc\n",
      "/scratch/rmueller/MIDOSS/Results/ByOilType/SpillTime_00-30_fillna0/beaching_diesel_1000-1200.nc\n",
      "/scratch/rmueller/MIDOSS/Results/ByOilType/SpillTime_00-30_fillna0/beaching_diesel_1200-1400.nc\n",
      "/scratch/rmueller/MIDOSS/Results/ByOilType/SpillTime_00-30_fillna0/beaching_diesel_1400-1600.nc\n",
      "/scratch/rmueller/MIDOSS/Results/ByOilType/SpillTime_00-30_fillna0/beaching_diesel_1600-1800.nc\n",
      "/scratch/rmueller/MIDOSS/Results/ByOilType/SpillTime_00-30_fillna0/beaching_diesel_1800-2000.nc\n",
      "/scratch/rmueller/MIDOSS/Results/ByOilType/SpillTime_00-30_fillna0/beaching_diesel_200-400.nc\n",
      "/scratch/rmueller/MIDOSS/Results/ByOilType/SpillTime_00-30_fillna0/beaching_diesel_2000-2200.nc\n",
      "/scratch/rmueller/MIDOSS/Results/ByOilType/SpillTime_00-30_fillna0/beaching_diesel_2200-2400.nc\n",
      "/scratch/rmueller/MIDOSS/Results/ByOilType/SpillTime_00-30_fillna0/beaching_diesel_2400-2600.nc\n",
      "/scratch/rmueller/MIDOSS/Results/ByOilType/SpillTime_00-30_fillna0/beaching_diesel_2600-2800.nc\n",
      "/scratch/rmueller/MIDOSS/Results/ByOilType/SpillTime_00-30_fillna0/beaching_diesel_2800-3000.nc\n",
      "/scratch/rmueller/MIDOSS/Results/ByOilType/SpillTime_00-30_fillna0/beaching_diesel_3000-3200.nc\n",
      "/scratch/rmueller/MIDOSS/Results/ByOilType/SpillTime_00-30_fillna0/beaching_diesel_3200-3400.nc\n",
      "/scratch/rmueller/MIDOSS/Results/ByOilType/SpillTime_00-30_fillna0/beaching_diesel_3400-3600.nc\n",
      "/scratch/rmueller/MIDOSS/Results/ByOilType/SpillTime_00-30_fillna0/beaching_diesel_3600-3800.nc\n",
      "/scratch/rmueller/MIDOSS/Results/ByOilType/SpillTime_00-30_fillna0/beaching_diesel_3800-4000.nc\n",
      "/scratch/rmueller/MIDOSS/Results/ByOilType/SpillTime_00-30_fillna0/beaching_diesel_400-600.nc\n",
      "/scratch/rmueller/MIDOSS/Results/ByOilType/SpillTime_00-30_fillna0/beaching_diesel_4000-4200.nc\n",
      "/scratch/rmueller/MIDOSS/Results/ByOilType/SpillTime_00-30_fillna0/beaching_diesel_4200-4400.nc\n",
      "/scratch/rmueller/MIDOSS/Results/ByOilType/SpillTime_00-30_fillna0/beaching_diesel_4400-4600.nc\n",
      "/scratch/rmueller/MIDOSS/Results/ByOilType/SpillTime_00-30_fillna0/beaching_diesel_4600-4800.nc\n",
      "/scratch/rmueller/MIDOSS/Results/ByOilType/SpillTime_00-30_fillna0/beaching_diesel_4800-5000.nc\n",
      "/scratch/rmueller/MIDOSS/Results/ByOilType/SpillTime_00-30_fillna0/beaching_diesel_5000-5200.nc\n",
      "/scratch/rmueller/MIDOSS/Results/ByOilType/SpillTime_00-30_fillna0/beaching_diesel_5200-5400.nc\n",
      "/scratch/rmueller/MIDOSS/Results/ByOilType/SpillTime_00-30_fillna0/beaching_diesel_5400-5600.nc\n",
      "/scratch/rmueller/MIDOSS/Results/ByOilType/SpillTime_00-30_fillna0/beaching_diesel_5600-5800.nc\n",
      "/scratch/rmueller/MIDOSS/Results/ByOilType/SpillTime_00-30_fillna0/beaching_diesel_5800-6000.nc\n",
      "/scratch/rmueller/MIDOSS/Results/ByOilType/SpillTime_00-30_fillna0/beaching_diesel_600-800.nc\n",
      "/scratch/rmueller/MIDOSS/Results/ByOilType/SpillTime_00-30_fillna0/beaching_diesel_6000-6200.nc\n",
      "/scratch/rmueller/MIDOSS/Results/ByOilType/SpillTime_00-30_fillna0/beaching_diesel_6200-6400.nc\n",
      "/scratch/rmueller/MIDOSS/Results/ByOilType/SpillTime_00-30_fillna0/beaching_diesel_800-1000.nc\n",
      "/scratch/rmueller/MIDOSS/Results/ByOilType/SpillTime_00-30_fillna0/beaching_gas_0-200.nc\n",
      "/scratch/rmueller/MIDOSS/Results/ByOilType/SpillTime_00-30_fillna0/beaching_other_0-200.nc\n",
      "/scratch/rmueller/MIDOSS/Results/ByOilType/SpillTime_00-30_fillna0/surface_akns_0-200.nc\n",
      "/scratch/rmueller/MIDOSS/Results/ByOilType/SpillTime_00-30_fillna0/surface_bunker_0-200.nc\n",
      "/scratch/rmueller/MIDOSS/Results/ByOilType/SpillTime_00-30_fillna0/surface_bunker_1000-1200.nc\n",
      "/scratch/rmueller/MIDOSS/Results/ByOilType/SpillTime_00-30_fillna0/surface_bunker_1200-1400.nc\n",
      "/scratch/rmueller/MIDOSS/Results/ByOilType/SpillTime_00-30_fillna0/surface_bunker_1400-1600.nc\n",
      "/scratch/rmueller/MIDOSS/Results/ByOilType/SpillTime_00-30_fillna0/surface_bunker_1600-1800.nc\n",
      "/scratch/rmueller/MIDOSS/Results/ByOilType/SpillTime_00-30_fillna0/surface_bunker_1800-2000.nc\n",
      "/scratch/rmueller/MIDOSS/Results/ByOilType/SpillTime_00-30_fillna0/surface_bunker_200-400.nc\n",
      "/scratch/rmueller/MIDOSS/Results/ByOilType/SpillTime_00-30_fillna0/surface_bunker_2000-2200.nc\n",
      "/scratch/rmueller/MIDOSS/Results/ByOilType/SpillTime_00-30_fillna0/surface_bunker_2200-2400.nc\n",
      "/scratch/rmueller/MIDOSS/Results/ByOilType/SpillTime_00-30_fillna0/surface_bunker_2400-2600.nc\n",
      "/scratch/rmueller/MIDOSS/Results/ByOilType/SpillTime_00-30_fillna0/surface_bunker_2600-2800.nc\n",
      "/scratch/rmueller/MIDOSS/Results/ByOilType/SpillTime_00-30_fillna0/surface_bunker_2800-3000.nc\n",
      "/scratch/rmueller/MIDOSS/Results/ByOilType/SpillTime_00-30_fillna0/surface_bunker_3000-3200.nc\n",
      "/scratch/rmueller/MIDOSS/Results/ByOilType/SpillTime_00-30_fillna0/surface_bunker_3200-3400.nc\n",
      "/scratch/rmueller/MIDOSS/Results/ByOilType/SpillTime_00-30_fillna0/surface_bunker_400-600.nc\n",
      "/scratch/rmueller/MIDOSS/Results/ByOilType/SpillTime_00-30_fillna0/surface_bunker_600-800.nc\n",
      "/scratch/rmueller/MIDOSS/Results/ByOilType/SpillTime_00-30_fillna0/surface_bunker_800-1000.nc\n",
      "/scratch/rmueller/MIDOSS/Results/ByOilType/SpillTime_00-30_fillna0/surface_dilbit_0-200.nc\n",
      "/scratch/rmueller/MIDOSS/Results/ByOilType/SpillTime_00-30_fillna0/surface_jet_0-200.nc\n",
      "/scratch/rmueller/MIDOSS/Results/ByOilType/SpillTime_00-30_fillna0/surface_diesel_0-200.nc\n",
      "/scratch/rmueller/MIDOSS/Results/ByOilType/SpillTime_00-30_fillna0/surface_diesel_1000-1200.nc\n",
      "/scratch/rmueller/MIDOSS/Results/ByOilType/SpillTime_00-30_fillna0/surface_diesel_1200-1400.nc\n",
      "/scratch/rmueller/MIDOSS/Results/ByOilType/SpillTime_00-30_fillna0/surface_diesel_1400-1600.nc\n",
      "/scratch/rmueller/MIDOSS/Results/ByOilType/SpillTime_00-30_fillna0/surface_diesel_1600-1800.nc\n",
      "/scratch/rmueller/MIDOSS/Results/ByOilType/SpillTime_00-30_fillna0/surface_diesel_1800-2000.nc\n",
      "/scratch/rmueller/MIDOSS/Results/ByOilType/SpillTime_00-30_fillna0/surface_diesel_200-400.nc\n",
      "/scratch/rmueller/MIDOSS/Results/ByOilType/SpillTime_00-30_fillna0/surface_diesel_2000-2200.nc\n",
      "/scratch/rmueller/MIDOSS/Results/ByOilType/SpillTime_00-30_fillna0/surface_diesel_2200-2400.nc\n",
      "/scratch/rmueller/MIDOSS/Results/ByOilType/SpillTime_00-30_fillna0/surface_diesel_2400-2600.nc\n",
      "/scratch/rmueller/MIDOSS/Results/ByOilType/SpillTime_00-30_fillna0/surface_diesel_2600-2800.nc\n",
      "/scratch/rmueller/MIDOSS/Results/ByOilType/SpillTime_00-30_fillna0/surface_diesel_2800-3000.nc\n",
      "/scratch/rmueller/MIDOSS/Results/ByOilType/SpillTime_00-30_fillna0/surface_diesel_3000-3200.nc\n",
      "/scratch/rmueller/MIDOSS/Results/ByOilType/SpillTime_00-30_fillna0/surface_diesel_3200-3400.nc\n",
      "/scratch/rmueller/MIDOSS/Results/ByOilType/SpillTime_00-30_fillna0/surface_diesel_3400-3600.nc\n",
      "/scratch/rmueller/MIDOSS/Results/ByOilType/SpillTime_00-30_fillna0/surface_diesel_3600-3800.nc\n",
      "/scratch/rmueller/MIDOSS/Results/ByOilType/SpillTime_00-30_fillna0/surface_diesel_3800-4000.nc\n",
      "/scratch/rmueller/MIDOSS/Results/ByOilType/SpillTime_00-30_fillna0/surface_diesel_400-600.nc\n",
      "/scratch/rmueller/MIDOSS/Results/ByOilType/SpillTime_00-30_fillna0/surface_diesel_4000-4200.nc\n",
      "/scratch/rmueller/MIDOSS/Results/ByOilType/SpillTime_00-30_fillna0/surface_diesel_4200-4400.nc\n",
      "/scratch/rmueller/MIDOSS/Results/ByOilType/SpillTime_00-30_fillna0/surface_diesel_4400-4600.nc\n",
      "/scratch/rmueller/MIDOSS/Results/ByOilType/SpillTime_00-30_fillna0/surface_diesel_4600-4800.nc\n",
      "/scratch/rmueller/MIDOSS/Results/ByOilType/SpillTime_00-30_fillna0/surface_diesel_4800-5000.nc\n",
      "/scratch/rmueller/MIDOSS/Results/ByOilType/SpillTime_00-30_fillna0/surface_diesel_5000-5200.nc\n",
      "/scratch/rmueller/MIDOSS/Results/ByOilType/SpillTime_00-30_fillna0/surface_diesel_5200-5400.nc\n",
      "/scratch/rmueller/MIDOSS/Results/ByOilType/SpillTime_00-30_fillna0/surface_diesel_5400-5600.nc\n",
      "/scratch/rmueller/MIDOSS/Results/ByOilType/SpillTime_00-30_fillna0/surface_diesel_5600-5800.nc\n",
      "/scratch/rmueller/MIDOSS/Results/ByOilType/SpillTime_00-30_fillna0/surface_diesel_5800-6000.nc\n",
      "/scratch/rmueller/MIDOSS/Results/ByOilType/SpillTime_00-30_fillna0/surface_diesel_600-800.nc\n",
      "/scratch/rmueller/MIDOSS/Results/ByOilType/SpillTime_00-30_fillna0/surface_diesel_6000-6200.nc\n",
      "/scratch/rmueller/MIDOSS/Results/ByOilType/SpillTime_00-30_fillna0/surface_diesel_6200-6400.nc\n",
      "/scratch/rmueller/MIDOSS/Results/ByOilType/SpillTime_00-30_fillna0/surface_diesel_800-1000.nc\n",
      "/scratch/rmueller/MIDOSS/Results/ByOilType/SpillTime_00-30_fillna0/surface_gas_0-200.nc\n",
      "/scratch/rmueller/MIDOSS/Results/ByOilType/SpillTime_00-30_fillna0/surface_other_0-200.nc\n",
      "/scratch/rmueller/MIDOSS/Results/ByOilType/SpillTime_00-30_fillna0/complete already exists\n",
      "/scratch/rmueller/MIDOSS/Results/ByOilType/SpillTime_00-30_fillna0/complete already exists\n",
      "/scratch/rmueller/MIDOSS/Results/ByOilType/SpillTime_00-30_fillna0/complete already exists\n",
      "/scratch/rmueller/MIDOSS/Results/ByOilType/SpillTime_00-30_fillna0/complete already exists\n",
      "/scratch/rmueller/MIDOSS/Results/ByOilType/SpillTime_00-30_fillna0/complete already exists\n",
      "/scratch/rmueller/MIDOSS/Results/ByOilType/SpillTime_00-30_fillna0/complete already exists\n",
      "/scratch/rmueller/MIDOSS/Results/ByOilType/SpillTime_00-30_fillna0/complete already exists\n"
     ]
    }
   ],
   "source": [
    "output_netcdf_dir_oil=pathlib.Path('/scratch/rmueller/MIDOSS/Results/ByOilType/SpillTime_00-30_fillna0') \n",
    "oil_types = ['akns', 'bunker', 'dilbit', 'jet', 'diesel', 'gas', 'other']\n",
    "[sa_oil,ba_oil]=create_aggregated_files(output_netcdf_dir_oil, oil_types)"
   ]
  },
  {
   "cell_type": "markdown",
   "id": "39937acf-c57e-46c9-91cd-6635a1562a9f",
   "metadata": {
    "tags": []
   },
   "source": [
    "### load aggregation by months"
   ]
  },
  {
   "cell_type": "code",
   "execution_count": 11,
   "id": "8f76ef0e-eb97-43e4-8cd1-b7f4e284bc4a",
   "metadata": {},
   "outputs": [
    {
     "name": "stdout",
     "output_type": "stream",
     "text": [
      "Jan\n",
      "Feb\n",
      "Mar\n",
      "Apr\n",
      "May\n",
      "Jun\n",
      "Jul\n",
      "Aug\n",
      "Sep\n",
      "Oct\n",
      "Nov\n",
      "Dec\n",
      "['Jan', 'Feb', 'Mar', 'Apr', 'May', 'Jun', 'Jul', 'Aug', 'Sep', 'Oct', 'Nov', 'Dec']\n",
      "/scratch/rmueller/MIDOSS/Results/ByMonth/SpillTime_00-30_fillna0/beaching_Jan_0-200.nc\n",
      "/scratch/rmueller/MIDOSS/Results/ByMonth/SpillTime_00-30_fillna0/beaching_Jan_200-400.nc\n",
      "/scratch/rmueller/MIDOSS/Results/ByMonth/SpillTime_00-30_fillna0/beaching_Jan_400-600.nc\n",
      "/scratch/rmueller/MIDOSS/Results/ByMonth/SpillTime_00-30_fillna0/beaching_Jan_600-800.nc\n",
      "/scratch/rmueller/MIDOSS/Results/ByMonth/SpillTime_00-30_fillna0/beaching_Feb_0-200.nc\n",
      "/scratch/rmueller/MIDOSS/Results/ByMonth/SpillTime_00-30_fillna0/beaching_Feb_200-400.nc\n",
      "/scratch/rmueller/MIDOSS/Results/ByMonth/SpillTime_00-30_fillna0/beaching_Feb_400-600.nc\n",
      "/scratch/rmueller/MIDOSS/Results/ByMonth/SpillTime_00-30_fillna0/beaching_Feb_600-800.nc\n",
      "/scratch/rmueller/MIDOSS/Results/ByMonth/SpillTime_00-30_fillna0/beaching_Mar_0-200.nc\n",
      "/scratch/rmueller/MIDOSS/Results/ByMonth/SpillTime_00-30_fillna0/beaching_Mar_200-400.nc\n",
      "/scratch/rmueller/MIDOSS/Results/ByMonth/SpillTime_00-30_fillna0/beaching_Mar_400-600.nc\n",
      "/scratch/rmueller/MIDOSS/Results/ByMonth/SpillTime_00-30_fillna0/beaching_Mar_600-800.nc\n",
      "/scratch/rmueller/MIDOSS/Results/ByMonth/SpillTime_00-30_fillna0/beaching_Apr_0-200.nc\n",
      "/scratch/rmueller/MIDOSS/Results/ByMonth/SpillTime_00-30_fillna0/beaching_Apr_200-400.nc\n",
      "/scratch/rmueller/MIDOSS/Results/ByMonth/SpillTime_00-30_fillna0/beaching_Apr_400-600.nc\n",
      "/scratch/rmueller/MIDOSS/Results/ByMonth/SpillTime_00-30_fillna0/beaching_Apr_600-800.nc\n",
      "/scratch/rmueller/MIDOSS/Results/ByMonth/SpillTime_00-30_fillna0/beaching_May_0-200.nc\n",
      "/scratch/rmueller/MIDOSS/Results/ByMonth/SpillTime_00-30_fillna0/beaching_May_200-400.nc\n",
      "/scratch/rmueller/MIDOSS/Results/ByMonth/SpillTime_00-30_fillna0/beaching_May_400-600.nc\n",
      "/scratch/rmueller/MIDOSS/Results/ByMonth/SpillTime_00-30_fillna0/beaching_May_600-800.nc\n",
      "/scratch/rmueller/MIDOSS/Results/ByMonth/SpillTime_00-30_fillna0/beaching_May_800-1000.nc\n",
      "/scratch/rmueller/MIDOSS/Results/ByMonth/SpillTime_00-30_fillna0/beaching_Jun_0-200.nc\n",
      "/scratch/rmueller/MIDOSS/Results/ByMonth/SpillTime_00-30_fillna0/beaching_Jun_200-400.nc\n",
      "/scratch/rmueller/MIDOSS/Results/ByMonth/SpillTime_00-30_fillna0/beaching_Jun_400-600.nc\n",
      "/scratch/rmueller/MIDOSS/Results/ByMonth/SpillTime_00-30_fillna0/beaching_Jun_600-800.nc\n",
      "/scratch/rmueller/MIDOSS/Results/ByMonth/SpillTime_00-30_fillna0/beaching_Jun_800-1000.nc\n",
      "/scratch/rmueller/MIDOSS/Results/ByMonth/SpillTime_00-30_fillna0/beaching_Jul_0-200.nc\n",
      "/scratch/rmueller/MIDOSS/Results/ByMonth/SpillTime_00-30_fillna0/beaching_Jul_200-400.nc\n",
      "/scratch/rmueller/MIDOSS/Results/ByMonth/SpillTime_00-30_fillna0/beaching_Jul_400-600.nc\n",
      "/scratch/rmueller/MIDOSS/Results/ByMonth/SpillTime_00-30_fillna0/beaching_Jul_600-800.nc\n",
      "/scratch/rmueller/MIDOSS/Results/ByMonth/SpillTime_00-30_fillna0/beaching_Jul_800-1000.nc\n",
      "/scratch/rmueller/MIDOSS/Results/ByMonth/SpillTime_00-30_fillna0/beaching_Aug_0-200.nc\n",
      "/scratch/rmueller/MIDOSS/Results/ByMonth/SpillTime_00-30_fillna0/beaching_Aug_200-400.nc\n",
      "/scratch/rmueller/MIDOSS/Results/ByMonth/SpillTime_00-30_fillna0/beaching_Aug_400-600.nc\n",
      "/scratch/rmueller/MIDOSS/Results/ByMonth/SpillTime_00-30_fillna0/beaching_Aug_600-800.nc\n",
      "/scratch/rmueller/MIDOSS/Results/ByMonth/SpillTime_00-30_fillna0/beaching_Aug_800-1000.nc\n",
      "/scratch/rmueller/MIDOSS/Results/ByMonth/SpillTime_00-30_fillna0/beaching_Sep_0-200.nc\n",
      "/scratch/rmueller/MIDOSS/Results/ByMonth/SpillTime_00-30_fillna0/beaching_Sep_200-400.nc\n",
      "/scratch/rmueller/MIDOSS/Results/ByMonth/SpillTime_00-30_fillna0/beaching_Sep_400-600.nc\n",
      "/scratch/rmueller/MIDOSS/Results/ByMonth/SpillTime_00-30_fillna0/beaching_Sep_600-800.nc\n",
      "/scratch/rmueller/MIDOSS/Results/ByMonth/SpillTime_00-30_fillna0/beaching_Sep_800-1000.nc\n",
      "/scratch/rmueller/MIDOSS/Results/ByMonth/SpillTime_00-30_fillna0/beaching_Oct_0-200.nc\n",
      "/scratch/rmueller/MIDOSS/Results/ByMonth/SpillTime_00-30_fillna0/beaching_Oct_200-400.nc\n",
      "/scratch/rmueller/MIDOSS/Results/ByMonth/SpillTime_00-30_fillna0/beaching_Oct_400-600.nc\n",
      "/scratch/rmueller/MIDOSS/Results/ByMonth/SpillTime_00-30_fillna0/beaching_Oct_600-800.nc\n",
      "/scratch/rmueller/MIDOSS/Results/ByMonth/SpillTime_00-30_fillna0/beaching_Oct_800-1000.nc\n",
      "/scratch/rmueller/MIDOSS/Results/ByMonth/SpillTime_00-30_fillna0/beaching_Nov_0-200.nc\n",
      "/scratch/rmueller/MIDOSS/Results/ByMonth/SpillTime_00-30_fillna0/beaching_Nov_200-400.nc\n",
      "/scratch/rmueller/MIDOSS/Results/ByMonth/SpillTime_00-30_fillna0/beaching_Nov_400-600.nc\n",
      "/scratch/rmueller/MIDOSS/Results/ByMonth/SpillTime_00-30_fillna0/beaching_Nov_600-800.nc\n",
      "/scratch/rmueller/MIDOSS/Results/ByMonth/SpillTime_00-30_fillna0/beaching_Nov_800-1000.nc\n",
      "/scratch/rmueller/MIDOSS/Results/ByMonth/SpillTime_00-30_fillna0/beaching_Dec_0-200.nc\n",
      "/scratch/rmueller/MIDOSS/Results/ByMonth/SpillTime_00-30_fillna0/beaching_Dec_200-400.nc\n",
      "/scratch/rmueller/MIDOSS/Results/ByMonth/SpillTime_00-30_fillna0/beaching_Dec_400-600.nc\n",
      "/scratch/rmueller/MIDOSS/Results/ByMonth/SpillTime_00-30_fillna0/beaching_Dec_600-800.nc\n",
      "/scratch/rmueller/MIDOSS/Results/ByMonth/SpillTime_00-30_fillna0/beaching_Dec_800-1000.nc\n",
      "/scratch/rmueller/MIDOSS/Results/ByMonth/SpillTime_00-30_fillna0/surface_Jan_0-200.nc\n",
      "/scratch/rmueller/MIDOSS/Results/ByMonth/SpillTime_00-30_fillna0/surface_Jan_200-400.nc\n",
      "/scratch/rmueller/MIDOSS/Results/ByMonth/SpillTime_00-30_fillna0/surface_Jan_400-600.nc\n",
      "/scratch/rmueller/MIDOSS/Results/ByMonth/SpillTime_00-30_fillna0/surface_Jan_600-800.nc\n",
      "/scratch/rmueller/MIDOSS/Results/ByMonth/SpillTime_00-30_fillna0/surface_Feb_0-200.nc\n",
      "/scratch/rmueller/MIDOSS/Results/ByMonth/SpillTime_00-30_fillna0/surface_Feb_200-400.nc\n",
      "/scratch/rmueller/MIDOSS/Results/ByMonth/SpillTime_00-30_fillna0/surface_Feb_400-600.nc\n",
      "/scratch/rmueller/MIDOSS/Results/ByMonth/SpillTime_00-30_fillna0/surface_Feb_600-800.nc\n",
      "/scratch/rmueller/MIDOSS/Results/ByMonth/SpillTime_00-30_fillna0/surface_Mar_0-200.nc\n",
      "/scratch/rmueller/MIDOSS/Results/ByMonth/SpillTime_00-30_fillna0/surface_Mar_200-400.nc\n",
      "/scratch/rmueller/MIDOSS/Results/ByMonth/SpillTime_00-30_fillna0/surface_Mar_400-600.nc\n",
      "/scratch/rmueller/MIDOSS/Results/ByMonth/SpillTime_00-30_fillna0/surface_Mar_600-800.nc\n",
      "/scratch/rmueller/MIDOSS/Results/ByMonth/SpillTime_00-30_fillna0/surface_Apr_0-200.nc\n",
      "/scratch/rmueller/MIDOSS/Results/ByMonth/SpillTime_00-30_fillna0/surface_Apr_200-400.nc\n",
      "/scratch/rmueller/MIDOSS/Results/ByMonth/SpillTime_00-30_fillna0/surface_Apr_400-600.nc\n",
      "/scratch/rmueller/MIDOSS/Results/ByMonth/SpillTime_00-30_fillna0/surface_Apr_600-800.nc\n",
      "/scratch/rmueller/MIDOSS/Results/ByMonth/SpillTime_00-30_fillna0/surface_May_0-200.nc\n",
      "/scratch/rmueller/MIDOSS/Results/ByMonth/SpillTime_00-30_fillna0/surface_May_200-400.nc\n",
      "/scratch/rmueller/MIDOSS/Results/ByMonth/SpillTime_00-30_fillna0/surface_May_400-600.nc\n",
      "/scratch/rmueller/MIDOSS/Results/ByMonth/SpillTime_00-30_fillna0/surface_May_600-800.nc\n",
      "/scratch/rmueller/MIDOSS/Results/ByMonth/SpillTime_00-30_fillna0/surface_May_800-1000.nc\n",
      "/scratch/rmueller/MIDOSS/Results/ByMonth/SpillTime_00-30_fillna0/surface_Jun_0-200.nc\n",
      "/scratch/rmueller/MIDOSS/Results/ByMonth/SpillTime_00-30_fillna0/surface_Jun_200-400.nc\n",
      "/scratch/rmueller/MIDOSS/Results/ByMonth/SpillTime_00-30_fillna0/surface_Jun_400-600.nc\n",
      "/scratch/rmueller/MIDOSS/Results/ByMonth/SpillTime_00-30_fillna0/surface_Jun_600-800.nc\n",
      "/scratch/rmueller/MIDOSS/Results/ByMonth/SpillTime_00-30_fillna0/surface_Jun_800-1000.nc\n",
      "/scratch/rmueller/MIDOSS/Results/ByMonth/SpillTime_00-30_fillna0/surface_Jul_0-200.nc\n",
      "/scratch/rmueller/MIDOSS/Results/ByMonth/SpillTime_00-30_fillna0/surface_Jul_200-400.nc\n",
      "/scratch/rmueller/MIDOSS/Results/ByMonth/SpillTime_00-30_fillna0/surface_Jul_400-600.nc\n",
      "/scratch/rmueller/MIDOSS/Results/ByMonth/SpillTime_00-30_fillna0/surface_Jul_600-800.nc\n",
      "/scratch/rmueller/MIDOSS/Results/ByMonth/SpillTime_00-30_fillna0/surface_Jul_800-1000.nc\n",
      "/scratch/rmueller/MIDOSS/Results/ByMonth/SpillTime_00-30_fillna0/surface_Aug_0-200.nc\n",
      "/scratch/rmueller/MIDOSS/Results/ByMonth/SpillTime_00-30_fillna0/surface_Aug_200-400.nc\n",
      "/scratch/rmueller/MIDOSS/Results/ByMonth/SpillTime_00-30_fillna0/surface_Aug_400-600.nc\n",
      "/scratch/rmueller/MIDOSS/Results/ByMonth/SpillTime_00-30_fillna0/surface_Aug_600-800.nc\n",
      "/scratch/rmueller/MIDOSS/Results/ByMonth/SpillTime_00-30_fillna0/surface_Aug_800-1000.nc\n",
      "/scratch/rmueller/MIDOSS/Results/ByMonth/SpillTime_00-30_fillna0/surface_Sep_0-200.nc\n",
      "/scratch/rmueller/MIDOSS/Results/ByMonth/SpillTime_00-30_fillna0/surface_Sep_200-400.nc\n",
      "/scratch/rmueller/MIDOSS/Results/ByMonth/SpillTime_00-30_fillna0/surface_Sep_400-600.nc\n",
      "/scratch/rmueller/MIDOSS/Results/ByMonth/SpillTime_00-30_fillna0/surface_Sep_600-800.nc\n",
      "/scratch/rmueller/MIDOSS/Results/ByMonth/SpillTime_00-30_fillna0/surface_Sep_800-1000.nc\n",
      "/scratch/rmueller/MIDOSS/Results/ByMonth/SpillTime_00-30_fillna0/surface_Oct_0-200.nc\n",
      "/scratch/rmueller/MIDOSS/Results/ByMonth/SpillTime_00-30_fillna0/surface_Oct_200-400.nc\n",
      "/scratch/rmueller/MIDOSS/Results/ByMonth/SpillTime_00-30_fillna0/surface_Oct_400-600.nc\n",
      "/scratch/rmueller/MIDOSS/Results/ByMonth/SpillTime_00-30_fillna0/surface_Oct_600-800.nc\n",
      "/scratch/rmueller/MIDOSS/Results/ByMonth/SpillTime_00-30_fillna0/surface_Oct_800-1000.nc\n",
      "/scratch/rmueller/MIDOSS/Results/ByMonth/SpillTime_00-30_fillna0/surface_Nov_0-200.nc\n",
      "/scratch/rmueller/MIDOSS/Results/ByMonth/SpillTime_00-30_fillna0/surface_Nov_200-400.nc\n",
      "/scratch/rmueller/MIDOSS/Results/ByMonth/SpillTime_00-30_fillna0/surface_Nov_400-600.nc\n",
      "/scratch/rmueller/MIDOSS/Results/ByMonth/SpillTime_00-30_fillna0/surface_Nov_600-800.nc\n",
      "/scratch/rmueller/MIDOSS/Results/ByMonth/SpillTime_00-30_fillna0/surface_Nov_800-1000.nc\n",
      "/scratch/rmueller/MIDOSS/Results/ByMonth/SpillTime_00-30_fillna0/surface_Dec_0-200.nc\n",
      "/scratch/rmueller/MIDOSS/Results/ByMonth/SpillTime_00-30_fillna0/surface_Dec_200-400.nc\n",
      "/scratch/rmueller/MIDOSS/Results/ByMonth/SpillTime_00-30_fillna0/surface_Dec_400-600.nc\n",
      "/scratch/rmueller/MIDOSS/Results/ByMonth/SpillTime_00-30_fillna0/surface_Dec_600-800.nc\n",
      "/scratch/rmueller/MIDOSS/Results/ByMonth/SpillTime_00-30_fillna0/surface_Dec_800-1000.nc\n",
      "/scratch/rmueller/MIDOSS/Results/ByMonth/SpillTime_00-30_fillna0/complete already exists\n",
      "/scratch/rmueller/MIDOSS/Results/ByMonth/SpillTime_00-30_fillna0/complete already exists\n",
      "/scratch/rmueller/MIDOSS/Results/ByMonth/SpillTime_00-30_fillna0/complete already exists\n",
      "/scratch/rmueller/MIDOSS/Results/ByMonth/SpillTime_00-30_fillna0/complete already exists\n",
      "/scratch/rmueller/MIDOSS/Results/ByMonth/SpillTime_00-30_fillna0/complete already exists\n",
      "/scratch/rmueller/MIDOSS/Results/ByMonth/SpillTime_00-30_fillna0/complete already exists\n",
      "/scratch/rmueller/MIDOSS/Results/ByMonth/SpillTime_00-30_fillna0/complete already exists\n",
      "/scratch/rmueller/MIDOSS/Results/ByMonth/SpillTime_00-30_fillna0/complete already exists\n",
      "/scratch/rmueller/MIDOSS/Results/ByMonth/SpillTime_00-30_fillna0/complete already exists\n",
      "/scratch/rmueller/MIDOSS/Results/ByMonth/SpillTime_00-30_fillna0/complete already exists\n",
      "/scratch/rmueller/MIDOSS/Results/ByMonth/SpillTime_00-30_fillna0/complete already exists\n"
     ]
    }
   ],
   "source": [
    "months = ['Jan','Feb','Mar','Apr','May','Jun','Jul','Aug','Sep','Oct','Nov','Dec']\n",
    "output_netcdf_dir_months=pathlib.Path('/scratch/rmueller/MIDOSS/Results/ByMonth/SpillTime_00-30_fillna0') \n",
    "[sa_month,ba_month]=create_aggregated_files(output_netcdf_dir_months, months)"
   ]
  },
  {
   "cell_type": "code",
   "execution_count": null,
   "id": "2b7f1098-34bf-4d24-a6f0-9f27436e4528",
   "metadata": {},
   "outputs": [],
   "source": [
    "output_netcdf_dir=pathlib.Path('/scratch/rmueller/MIDOSS/Results/ByOilType/SpillTime_00-30') \n",
    "for oil in oil_types:\n",
    "    try:\n",
    "        test = xarray.open_dataset(\n",
    "            output_netcdf_dir/'complete'/f'beaching_{oil}_complete.nc'\n",
    "        )\n",
    "    except:\n",
    "        print('?')"
   ]
  },
  {
   "cell_type": "markdown",
   "id": "1c60ebf0-7a85-480a-8c23-fd1632fe7c24",
   "metadata": {
    "tags": []
   },
   "source": [
    "### load runlist used to create aggregated files "
   ]
  },
  {
   "cell_type": "code",
   "execution_count": null,
   "id": "85bddaa4-28e4-4ddb-9575-e1a5e3a14020",
   "metadata": {},
   "outputs": [],
   "source": [
    "\n",
    "\n",
    "with yaml_file.open(\"rt\") as f:\n",
    "    run_paths = yaml.safe_load(f) "
   ]
  },
  {
   "cell_type": "markdown",
   "id": "9ec20747-33a2-4109-8bae-ead05c7669e8",
   "metadata": {
    "tags": []
   },
   "source": [
    "##### create list of aggregated files by oil type"
   ]
  },
  {
   "cell_type": "code",
   "execution_count": null,
   "id": "af62a79a-f684-4bf3-bf4f-75f299d500de",
   "metadata": {},
   "outputs": [],
   "source": [
    "output_netcdf_dir=pathlib.Path('/scratch/rmueller/MIDOSS/Results/ByOilType/SpillTime_00-30') \n",
    "beaching_files = sorted(glob(os.path.join(output_netcdf_dir,\"beaching_*\")))\n",
    "surface_files = sorted(glob(os.path.join(output_netcdf_dir,\"surface_*\")))"
   ]
  },
  {
   "cell_type": "code",
   "execution_count": null,
   "id": "5e38aaba-d66d-41eb-b529-b75dedc352c7",
   "metadata": {},
   "outputs": [],
   "source": [
    "ds = xarray.open_dataset(surface_files[0])"
   ]
  },
  {
   "cell_type": "markdown",
   "id": "8d41f926-17ff-47c2-9bed-7de4632a29f1",
   "metadata": {},
   "source": [
    "# Get indices of files by oil-types in order to aggregate the aggregated files"
   ]
  },
  {
   "cell_type": "code",
   "execution_count": null,
   "id": "1faeede3-1358-4f84-8e73-49c7c2eb7f36",
   "metadata": {},
   "outputs": [],
   "source": [
    "beaching_file_idx = {}\n",
    "surface_file_idx = {}\n",
    "oil_types = ['akns', 'bunker', 'dilbit', 'jet', 'diesel', 'gas', 'other']\n",
    "for oil in oil_types: \n",
    "    beaching_file_idx[oil] = [i for i, s in enumerate(beaching_files) if oil in s]\n",
    "    print(beaching_file_idx[oil])\n",
    "for oil in oil_types: \n",
    "    surface_file_idx[oil] = [i for i, s in enumerate(surface_files) if oil in s]   "
   ]
  },
  {
   "cell_type": "code",
   "execution_count": null,
   "id": "dc78ca7f-bdc2-4a71-a212-e5740222c592",
   "metadata": {},
   "outputs": [],
   "source": [
    "# try to load completely aggregated files or create them if needed\n",
    "# *** surface ***\n",
    "try:\n",
    "    sa[oil]=xarray.open_dataset(output_netcdf_dir/'complete'/f'surface_{oil}_complete.nc')\n",
    "except:\n",
    "    sa = surface_aggregate(surface_files,beaching_file_idx) \n",
    "    for oil in oil_types: \n",
    "        try:\n",
    "            os.makedirs(output_netcdf_dir/'complete')\n",
    "        except:\n",
    "            print(f'{output_netcdf_dir}/complete already exists')\n",
    "        sa[oil].to_netcdf(\n",
    "            output_netcdf_dir/'complete'/f'surface_{oil}_complete.nc', engine='h5netcdf'\n",
    "        )\n",
    "# *** beaching ***\n",
    "try:\n",
    "    ba[oil]=xarray.open_dataset(output_netcdf_dir/'complete'/f'beaching_{oil}_complete.nc')\n",
    "except:\n",
    "    ba = beaching_aggregate(beaching_files,beaching_file_idx)\n",
    "    for oil in oil_types: \n",
    "        try:\n",
    "            os.makedirs(output_netcdf_dir/'complete')\n",
    "        except:\n",
    "            print(f'{output_netcdf_dir}/complete already exists')\n",
    "        ba[oil].to_netcdf(\n",
    "            output_netcdf_dir/'complete'/f'beaching_{oil}_complete.nc', engine='h5netcdf'\n",
    "        )\n",
    "        sa[oil].to_netcdf(\n",
    "            output_netcdf_dir/'complete'/f'surface_{oil}_complete.nc', engine='h5netcdf'\n",
    "        )"
   ]
  },
  {
   "cell_type": "code",
   "execution_count": null,
   "id": "15be650d-fa41-446d-8f72-29b5928600cd",
   "metadata": {},
   "outputs": [],
   "source": [
    "[*sa]"
   ]
  },
  {
   "cell_type": "markdown",
   "id": "1234ed0a-f4b2-41c7-a805-1fb28c7a3da5",
   "metadata": {},
   "source": [
    "### Check to make sure that spill volumes between 0-24hrs, 24-72hrs, and 72-168hrs sum up to equal total spill volumes"
   ]
  },
  {
   "cell_type": "code",
   "execution_count": null,
   "id": "359240bd-9081-45bd-b1e6-1b865e78484a",
   "metadata": {},
   "outputs": [],
   "source": [
    "print('*** BEACHING PRESENCE *** ')\n",
    "for oil in ['diesel','bunker']:\n",
    "    ba_presence_diff = (ba[oil]['BeachPresence']-\n",
    "                        ba[oil]['BeachPresence_24h']-\n",
    "                        ba[oil]['BeachPresence_24h_to_72h']-\n",
    "                        ba[oil]['BeachPresence_72h_to_168h']\n",
    "                       )\n",
    "    print(f'{oil}: {ba_presence_diff.sum().values.item()}')\n",
    "    \n",
    "print('*** SURFACE PRESENCE *** ')\n",
    "for oil in ['diesel','bunker']:\n",
    "    sa_presence_diff = (sa[oil]['SurfacePresence']-\n",
    "                        sa[oil]['SurfacePresence_24h']-\n",
    "                        sa[oil]['SurfacePresence_24h_to_72h']-\n",
    "                        sa[oil]['SurfacePresence_72h_to_168h']\n",
    "                       )\n",
    "    print(f'{oil}: {sa_presence_diff.sum().values.item()}')\n",
    "    \n",
    "print('*** SURFACE VOLUME *** ')\n",
    "for oil in ['diesel','bunker']:\n",
    "    sa_presence_diff = (sa[oil]['SurfaceVolume_SumSum']-\n",
    "                        sa[oil]['SurfaceVolume_SumSum_24h']-\n",
    "                        sa[oil]['SurfaceVolume_SumSum_24h_to_72h']-\n",
    "                        sa[oil]['SurfaceVolume_SumSum_72h_to_168h']\n",
    "                       )\n",
    "    print(f'{oil}: {sa_presence_diff.sum().values.item()}')"
   ]
  },
  {
   "cell_type": "markdown",
   "id": "352092e8-cdeb-4728-8dc0-b0bfdaa08ee2",
   "metadata": {
    "tags": []
   },
   "source": [
    "### Check individual aggregation files.  Diesel is aggregated; bunker is not.  "
   ]
  },
  {
   "cell_type": "code",
   "execution_count": null,
   "id": "61100d45-12e5-4177-a5f4-9aa9726ea5e0",
   "metadata": {},
   "outputs": [],
   "source": [
    "b={}\n",
    "for idx,name in enumerate(beaching_files):\n",
    "    b[idx]=xarray.open_dataset(name)"
   ]
  },
  {
   "cell_type": "code",
   "execution_count": null,
   "id": "d4969761-9056-46e3-b186-da08180e62c1",
   "metadata": {},
   "outputs": [],
   "source": [
    "name.split('/')[-1:]"
   ]
  },
  {
   "cell_type": "code",
   "execution_count": null,
   "id": "67641a26-b757-4863-9c07-735fae04eb7d",
   "metadata": {},
   "outputs": [],
   "source": [
    "for idx in [*b]:\n",
    "    ba_presence_diff = (b[idx]['BeachPresence']-\n",
    "                        b[idx]['BeachPresence_24h']-\n",
    "                        b[idx]['BeachPresence_24h_to_72h']-\n",
    "                        b[idx]['BeachPresence_72h_to_168h']\n",
    "                       )\n",
    "    print(f'{beaching_files[idx].split(\"/\")[-1:]}: {ba_presence_diff.sum().values.item()}')"
   ]
  },
  {
   "cell_type": "markdown",
   "id": "e7054905-b4e9-496c-a92c-6b909b9ed4de",
   "metadata": {
    "tags": []
   },
   "source": [
    "### Plot results"
   ]
  },
  {
   "cell_type": "code",
   "execution_count": null,
   "id": "9efb10fe-9f1a-485c-a785-af04c6ab9ece",
   "metadata": {},
   "outputs": [],
   "source": [
    "plot_types = ['SurfacePresence','SurfaceVolume_SumSum','SurfaceVolume_Mean']"
   ]
  },
  {
   "cell_type": "code",
   "execution_count": null,
   "id": "eb067446-7be9-4b19-a721-a7644e3a8a83",
   "metadata": {},
   "outputs": [],
   "source": [
    "mx={}\n",
    "for plot_type in plot_types:\n",
    "    mx[plot_type]=0\n",
    "    for idx,oil in enumerate(oil_types):\n",
    "        mx[plot_type] = max(mx[plot_type], sa[oil][plot_type].max().values.item())"
   ]
  },
  {
   "cell_type": "code",
   "execution_count": null,
   "id": "5a5f212d-681c-4253-ba43-70b21f7ed22a",
   "metadata": {},
   "outputs": [],
   "source": [
    "mx"
   ]
  },
  {
   "cell_type": "code",
   "execution_count": null,
   "id": "e129987b-e7ca-470e-968a-346c1612e79c",
   "metadata": {},
   "outputs": [],
   "source": [
    "sa['all']=xarray.zeros_like(sa['akns'])\n",
    "ba['all']=xarray.zeros_like(ba['akns'])\n",
    "for oil in oil_types:\n",
    "    ba['all']+=ba[oil]\n",
    "    sa['all']+=sa[oil]"
   ]
  },
  {
   "cell_type": "code",
   "execution_count": null,
   "id": "df71ca7a-816d-45e9-a6e0-eece9c4095f9",
   "metadata": {},
   "outputs": [],
   "source": [
    "fig, axs = plt.subplots(1,1, figsize=(6, 8), gridspec_kw={'wspace': 0.5, 'hspace': 0.5})\n",
    "cs=axs.contourf(sa['all']['SurfacePresence'])\n",
    "fig.colorbar(cs, ax=axs, shrink=0.9, orientation='vertical')\n",
    "axs.set_title('Surface Presence (all oil types)')    "
   ]
  },
  {
   "cell_type": "code",
   "execution_count": null,
   "id": "4ced70a2-bbf6-438a-bd5b-dadae9323c39",
   "metadata": {},
   "outputs": [],
   "source": [
    "cs={}\n",
    "plot_type='SurfacePresence'\n",
    "fig, axs = plt.subplots(1, 7, figsize=(16, 8), gridspec_kw={'wspace': 0.5, 'hspace': 0.5})\n",
    "for idx,oil in enumerate(oil_types):\n",
    "    cs[idx]=axs[idx].contourf(\n",
    "        sa[oil][plot_type])\n",
    "    axs[idx].set_title(oil)\n",
    "    fig.colorbar(cs[idx], ax=axs[idx], shrink=0.9, orientation='vertical')\n",
    "    if idx==0:\n",
    "        axs[idx].set_ylabel(plot_type)\n",
    "    axs[idx].set_xticks([])\n",
    "    axs[idx].set_yticks([])\n",
    "fig, axs = plt.subplots(1, 7, figsize=(16, 8), gridspec_kw={'wspace': 0.5, 'hspace': 0.5})\n",
    "for idx,oil in enumerate(oil_types):\n",
    "    cs[idx]=axs[idx].contourf(\n",
    "        sa[oil][plot_type], \n",
    "        50, vmin=0,vmax=mx[plot_type]/1.5\n",
    "    )\n",
    "    axs[idx].set_title(oil)\n",
    "    fig.colorbar(cs[idx], ax=axs[idx], shrink=0.9, orientation='vertical')\n",
    "    if idx==0:\n",
    "        axs[idx].set_ylabel(plot_type)\n",
    "    axs[idx].set_xticks([])\n",
    "    axs[idx].set_yticks([])"
   ]
  },
  {
   "cell_type": "markdown",
   "id": "c330675d-c71b-449b-a48c-d5d284262521",
   "metadata": {},
   "source": [
    "### By months"
   ]
  },
  {
   "cell_type": "code",
   "execution_count": null,
   "id": "8b5798ff-de10-4976-92dc-ce3ae6571763",
   "metadata": {},
   "outputs": [],
   "source": [
    "months = ['Jan','Feb','Mar','Apr','May','Jun','Jul','Aug','Sep','Oct','Nov','Dec']\n",
    "output_netcdf_dir=pathlib.Path('/scratch/rmueller/MIDOSS/Results/ByMonth/SpillTime_00-30') \n",
    "beaching_files = sorted(glob(os.path.join(output_netcdf_dir,\"beaching_*\")))\n",
    "surface_files = sorted(glob(os.path.join(output_netcdf_dir,\"surface_*\")))\n",
    "beaching_file_idx = {}\n",
    "surface_file_idx = {}\n",
    "for month in months: \n",
    "    beaching_file_idx[month] = [i for i, s in enumerate(beaching_files) if month in s]\n",
    "    print(beaching_file_idx[month])\n",
    "for mont in months: \n",
    "    surface_file_idx[month] = [i for i, s in enumerate(surface_files) if month in s]\n",
    "    \n",
    "ba = beaching_aggregate(beaching_files,beaching_file_idx)\n",
    "sa = surface_aggregate(surface_files,beaching_file_idx)\n",
    "\n",
    "# Plot up results \n",
    "cs={}\n",
    "plot_type='SurfacePresence'\n",
    "fig, axs = plt.subplots(1, 7, figsize=(16, 8), gridspec_kw={'wspace': 0.5, 'hspace': 0.5})\n",
    "for idx,month in enumerate(months[:6]):\n",
    "    cs[idx]=axs[idx].contourf(\n",
    "        sa[month][plot_type])\n",
    "    axs[idx].set_title(month)\n",
    "    fig.colorbar(cs[idx], ax=axs[idx], shrink=0.9, orientation='vertical')\n",
    "    if idx==0:\n",
    "        axs[idx].set_ylabel(plot_type)\n",
    "    axs[idx].set_xticks([])\n",
    "    axs[idx].set_yticks([])"
   ]
  },
  {
   "cell_type": "code",
   "execution_count": null,
   "id": "5cd25f4f-252c-4d36-8898-be324a2f8ad0",
   "metadata": {},
   "outputs": [],
   "source": [
    "# lev_exp = np.arange(np.floor(np.log10(z.min())-1),\n",
    "#                    np.ceil(np.log10(z.max())+1))\n",
    "# levs = np.power(10, lev_exp)\n",
    "# cs = ax.contourf(X, Y, z, levs, norm=colors.LogNorm())\n"
   ]
  },
  {
   "cell_type": "code",
   "execution_count": null,
   "id": "2969b405-7bd6-4ff1-874c-a6f79576c62b",
   "metadata": {},
   "outputs": [],
   "source": [
    "ds = xarray.open_dataset('/scratch/rmueller/MIDOSS/Results/ByOilType/SpillTime_00-30/mohid_diesel_0-200.nc')"
   ]
  },
  {
   "cell_type": "code",
   "execution_count": null,
   "id": "21cffc23-2a63-40a4-91b5-9bb7caa22fde",
   "metadata": {},
   "outputs": [],
   "source": [
    "[*ds]"
   ]
  },
  {
   "cell_type": "code",
   "execution_count": null,
   "id": "9be11ff3-41b6-4108-a2de-57d471f1d58d",
   "metadata": {},
   "outputs": [],
   "source": [
    "ds.info"
   ]
  },
  {
   "cell_type": "code",
   "execution_count": null,
   "id": "fee008d4-6c85-4d35-a65b-155af3022def",
   "metadata": {},
   "outputs": [],
   "source": [
    "ds['SurfaceVolumeSum'][0,:,:].plot.contourf()"
   ]
  },
  {
   "cell_type": "code",
   "execution_count": null,
   "id": "367db51b-9899-4675-a393-1e913b8457a9",
   "metadata": {},
   "outputs": [],
   "source": [
    "ds['SurfaceVolume_SumSum_ln'].plot.contourf()"
   ]
  },
  {
   "cell_type": "code",
   "execution_count": null,
   "id": "c789cf8f-8867-4ba0-bd0b-57514a9f0a4f",
   "metadata": {},
   "outputs": [],
   "source": [
    "[*ds]"
   ]
  },
  {
   "cell_type": "code",
   "execution_count": null,
   "id": "1d36179b-ae45-4b9c-bc3e-64fd6808e98f",
   "metadata": {},
   "outputs": [],
   "source": [
    "ds['SurfacePresence'].fillna(0)\n",
    "ds['SurfacePresence'].plot.contourf()"
   ]
  },
  {
   "cell_type": "code",
   "execution_count": null,
   "id": "2f49c6db-b696-4507-b739-57e9e102cd05",
   "metadata": {},
   "outputs": [],
   "source": [
    "cs={}\n",
    "fig, axs = plt.subplots(1, 3, figsize=(8, 4), gridspec_kw={'wspace': 0.5, 'hspace': 0.5})\n",
    "cs[0]=axs[0].contourf(numpy.exp(MeanVol))\n",
    "cs[1]=axs[1].contourf(numpy.exp(sa['SurfaceVolume_SumSum']))\n",
    "cs[2]=axs[2].contourf(sa['SurfacePresence'])\n",
    "axs[0].set_title('Volume/Runs')\n",
    "axs[1].set_title('$\\sum$ Volume')\n",
    "axs[2].set_title('Number Runs \\n(Presence)')\n",
    "for ind in numpy.arange(0,3):\n",
    "    fig.colorbar(cs[ind], ax=axs[ind], shrink=0.9, orientation='vertical')\n",
    "    axs[ind].set_xticks([])\n",
    "    axs[ind].set_yticks([])"
   ]
  },
  {
   "cell_type": "markdown",
   "id": "cb58eaa4-7f75-4714-8359-6690c30238ed",
   "metadata": {
    "tags": []
   },
   "source": [
    "### Review beaching time calc. "
   ]
  },
  {
   "cell_type": "code",
   "execution_count": null,
   "id": "81657c1c-6cc5-4131-b04c-63e6057f6aee",
   "metadata": {},
   "outputs": [],
   "source": []
  },
  {
   "cell_type": "code",
   "execution_count": null,
   "id": "c224e421-e0e9-49a5-a86a-23abde8d3de2",
   "metadata": {},
   "outputs": [],
   "source": [
    "mesh_mask = xarray.open_dataset(\"/home/rmueller/projects/def-allen/rmueller/MEOPAR/grid/mesh_mask202108.nc\")\n",
    "rotated_crs = cartopy.crs.RotatedPole(pole_longitude=120.0, pole_latitude=63.75)\n",
    "plain_crs = cartopy.crs.PlateCarree()"
   ]
  },
  {
   "cell_type": "code",
   "execution_count": null,
   "id": "d8d1ec3e-f124-4bd9-9103-df4e7107f84e",
   "metadata": {},
   "outputs": [],
   "source": [
    "x1 = xarray.open_dataset(run_paths['akns'][0], engine='h5netcdf')"
   ]
  },
  {
   "cell_type": "code",
   "execution_count": null,
   "id": "875e50b1-73c5-4681-a5e5-965129abd312",
   "metadata": {},
   "outputs": [],
   "source": [
    "nanosecond_to_hour = 1e-9/3600\n",
    "spill_start=x1.time[0]\n",
    "one_day = numpy.timedelta64(24,'h')\n",
    "dt_beaching=(x1.Beaching_Time-spill_start)*nanosecond_to_hour\n",
    "dt_surface=(x1.Oil_Arrival_Time-spill_start)*nanosecond_to_hour\n",
    "print(f'Max beaching time: {dt_beaching.max().values.item()} hrs')\n",
    "print(f'Max surface time: {dt_surface.max().values.item()} hrs')"
   ]
  },
  {
   "cell_type": "code",
   "execution_count": null,
   "id": "1fb9209d-f08f-49a4-b5a5-555c0665ea4c",
   "metadata": {},
   "outputs": [],
   "source": [
    "%matplotlib inline    \n",
    "fig, axs = plt.subplots(1, 2, figsize=(8, 4), \n",
    "                        gridspec_kw={'wspace': 0.25, 'hspace': 0.1})\n",
    "cs0=axs[0].contourf(dt_beaching)\n",
    "cs1=axs[1].contourf(dt_surface)\n",
    "axs[0].set_title(f'Beaching time')\n",
    "axs[1].set_title(f'Surface time')\n",
    "fig.colorbar(cs0, ax=axs[0], shrink=0.9, orientation='vertical')\n",
    "fig.colorbar(cs0, ax=axs[1], shrink=0.9, orientation='vertical')\n",
    "for ind in numpy.arange(0,2):\n",
    "    axs[ind].set_xticks([])\n",
    "    axs[ind].set_xlim(150,350)\n",
    "    axs[ind].set_yticks([])\n",
    "    axs[ind].set_ylim(200,450)"
   ]
  },
  {
   "cell_type": "code",
   "execution_count": null,
   "id": "07cd33b2-92d1-4f22-9177-1b62f9f4a051",
   "metadata": {},
   "outputs": [],
   "source": [
    "# import scipy\n",
    "# %matplotlib inline    \n",
    "# fig, axs = plt.subplots(1, 2, figsize=(8, 4), \n",
    "#                         gridspec_kw={'wspace': 0.25, 'hspace': 0.1},\n",
    "#                        subplot_kw={\"projection\": rotated_crs, \"facecolor\": \"white\"})\n",
    "# for ind in numpy.arange(0,2):\n",
    "#     axs[ind].add_feature(feature.GSHHSFeature('intermediate', edgecolor='k', facecolor='#8b7765'), zorder=1)\n",
    "# # cs0=axs[0].contourf(dt_beaching)\n",
    "# # cs1=axs[1].contourf(dt_surface)\n",
    "# axs[0].set_title(f'Beaching time')\n",
    "# axs[1].set_title(f'Surface time')\n",
    "# fig.colorbar(cs0, ax=axs[0], shrink=0.9, orientation='vertical')\n",
    "# fig.colorbar(cs0, ax=axs[1], shrink=0.9, orientation='vertical')\n",
    "# for ind in numpy.arange(0,2):\n",
    "#     axs[ind].set_xticks([])\n",
    "#     axs[ind].set_xlim(150,350)\n",
    "#     axs[ind].set_yticks([])\n",
    "#     axs[ind].set_ylim(200,450)"
   ]
  },
  {
   "cell_type": "code",
   "execution_count": null,
   "id": "0863b13d-60f5-4265-a482-bc44e7f0ad92",
   "metadata": {},
   "outputs": [],
   "source": [
    "vol3d=x1.OilWaterColumnOilVol_3D.isel({'grid_z': 39})\n",
    "test = vol3d.where(vol3d>15,0).loc[dict(\n",
    "                time=slice(x1.time[0],x1.time[0]+numpy.timedelta64(24,'h'))\n",
    "                )]"
   ]
  },
  {
   "cell_type": "markdown",
   "id": "c9fba3a6-f661-4f77-ab90-3cd34d171666",
   "metadata": {},
   "source": [
    "## Plot restults from test run "
   ]
  },
  {
   "cell_type": "code",
   "execution_count": null,
   "id": "4f2acbe2-6661-482e-8e60-734cf40079f9",
   "metadata": {},
   "outputs": [],
   "source": [
    "geomean_vars = ['SurfaceConcentration_SumSum','SurfaceVolume_MaxSum', \n",
    "            'SurfaceVolume_SumSum','SurfaceVolume_SumSum_24h',\n",
    "            'SurfaceVolume_SumSum_24h_to_72h','SurfaceVolume_SumSum_72h_to_168h',\n",
    "            'TotalBeachVolume']\n",
    "mean_vars = ['BeachTime_Sum']"
   ]
  },
  {
   "cell_type": "code",
   "execution_count": null,
   "id": "01328398-0faf-43e0-ad71-be77942bf1e0",
   "metadata": {},
   "outputs": [],
   "source": [
    "ba = xarray.open_dataset('/scratch/rmueller/MIDOSS/Results/test/beaching_diesel_0-500.nc', engine='h5netcdf')\n",
    "sa = xarray.open_dataset('/scratch/rmueller/MIDOSS/Results/test/surface_diesel_0-500.nc', engine='h5netcdf')\n",
    "for var in [*ba]:\n",
    "    fig, axs = plt.subplots(1, 1, figsize=(4, 2), gridspec_kw={'wspace': 0.25, 'hspace': 0.1})\n",
    "    cs0=axs.contourf(ba[var])\n",
    "    axs.set_title(f'{var}')\n",
    "    fig.colorbar(cs0, ax=axs, shrink=0.9, orientation='vertical')\n",
    "for var in [*sa]:\n",
    "    fig, axs = plt.subplots(1, 1, figsize=(4, 2), gridspec_kw={'wspace': 0.25, 'hspace': 0.1})\n",
    "    cs0=axs.contourf(sa[var])\n",
    "    axs.set_title(f'{var}')      \n",
    "    fig.colorbar(cs0, ax=axs, shrink=0.9, orientation='vertical')\n",
    "\n",
    "\n",
    "# for var in [*ba]:\n",
    "#     fig, axs = plt.subplots(1, 1, figsize=(4, 2), gridspec_kw={'wspace': 0.25, 'hspace': 0.1})\n",
    "#     if var not in mean_vars:\n",
    "#         cs0=axs.contourf(ba[var])\n",
    "#         axs.set_title(f'{var}')\n",
    "#         if var in geomean_vars:\n",
    "#             cs0=axs.contourf(\n",
    "#             numpy.exp(ba[var]/ba.attrs['N_spills'])\n",
    "#             )\n",
    "#             axs.set_title('Bunker \\nGeometric Mean Volume (m$^3$)')\n",
    "#     else:\n",
    "#         cs0=axs.contourf(\n",
    "#             ba[var]/ba.attrs['N_spills']\n",
    "#             )\n",
    "#         axs.set_title('Avg Beaching Time (hours)')\n",
    "#     fig.colorbar(cs0, ax=axs, shrink=0.9, orientation='vertical')\n",
    "# for var in [*sa]:\n",
    "#     fig, axs = plt.subplots(1, 1, figsize=(4, 2), gridspec_kw={'wspace': 0.25, 'hspace': 0.1})\n",
    "#     if var not in geomean_vars:\n",
    "#         cs0=axs.contourf(sa[var])\n",
    "#         axs.set_title(f'{var}')\n",
    "#     else:\n",
    "#         cs0=axs.contourf(\n",
    "#             numpy.exp(sa[var]/sa.attrs['N_spills'])\n",
    "#         )\n",
    "#         if var == 'SurfaceConcentration_SumSum':\n",
    "#             axs.set_title('Geometric Mean Conc. (Kg/m$^3$)')\n",
    "#         else:\n",
    "#             axs.set_title(f'{var}')\n",
    "            \n",
    "#     fig.colorbar(cs0, ax=axs, shrink=0.9, orientation='vertical')\n",
    "ba.close()\n",
    "sa.close()"
   ]
  },
  {
   "cell_type": "code",
   "execution_count": null,
   "id": "bc2dea74-bff8-4e6b-801f-1c2d4013300f",
   "metadata": {},
   "outputs": [],
   "source": [
    "MeanVol = sa['SurfaceVolume_SumSum']/sa['SurfacePresence']\n",
    "cs={}\n",
    "fig, axs = plt.subplots(1, 3, figsize=(8, 4), gridspec_kw={'wspace': 0.5, 'hspace': 0.5})\n",
    "cs[0]=axs[0].contourf(numpy.exp(MeanVol))\n",
    "cs[1]=axs[1].contourf(numpy.exp(sa['SurfaceVolume_SumSum']))\n",
    "cs[2]=axs[2].contourf(sa['SurfacePresence'])\n",
    "axs[0].set_title('Volume/Runs')\n",
    "axs[1].set_title('$\\sum$ Volume')\n",
    "axs[2].set_title('Number Runs \\n(Presence)')\n",
    "for ind in numpy.arange(0,3):\n",
    "    fig.colorbar(cs[ind], ax=axs[ind], shrink=0.9, orientation='vertical')\n",
    "    axs[ind].set_xticks([])\n",
    "    axs[ind].set_yticks([])"
   ]
  },
  {
   "cell_type": "code",
   "execution_count": null,
   "id": "fbf2ae3c-608f-43b4-afa4-cba8825084e5",
   "metadata": {},
   "outputs": [],
   "source": [
    "ba = xarray.open_dataset('/scratch/rmueller/MIDOSS/Results/beaching_diesel_0-50.nc', engine='h5netcdf')\n",
    "sa = xarray.open_dataset('/scratch/rmueller/MIDOSS/Results/surface_diesel_0-50.nc', engine='h5netcdf')\n",
    "\n",
    "for var in [*ba]:\n",
    "    fig, axs = plt.subplots(1, 1, figsize=(4, 2), gridspec_kw={'wspace': 0.25, 'hspace': 0.1})\n",
    "    if var not in mean_vars:\n",
    "        cs0=axs.contourf(ba[var])\n",
    "        axs.set_title(f'{var}')\n",
    "        if var in geomean_vars:\n",
    "            cs0=axs.contourf(\n",
    "            numpy.exp(ba[var]/ba.attrs['N_spills'])\n",
    "            )\n",
    "            axs.set_title('Bunker \\nGeometric Mean Volume (m$^3$)')\n",
    "    else:\n",
    "        cs0=axs.contourf(\n",
    "            ba[var]/ba.attrs['N_spills']\n",
    "            )\n",
    "        axs.set_title('Avg Beaching Time (hours)')\n",
    "    fig.colorbar(cs0, ax=axs, shrink=0.9, orientation='vertical')\n",
    "for var in [*sa]:\n",
    "    fig, axs = plt.subplots(1, 1, figsize=(4, 2), gridspec_kw={'wspace': 0.25, 'hspace': 0.1})\n",
    "    if var not in geomean_vars:\n",
    "        cs0=axs.contourf(sa[var])\n",
    "        axs.set_title(f'{var}')\n",
    "    else:\n",
    "        cs0=axs.contourf(\n",
    "            numpy.exp(sa[var]/sa.attrs['N_spills'])\n",
    "        )\n",
    "        if var == 'SurfaceConcentration_SumSum':\n",
    "            axs.set_title('Geometric Mean Conc. (Kg/m$^3$)')\n",
    "        else:\n",
    "            axs.set_title(f'{var}')\n",
    "            \n",
    "    fig.colorbar(cs0, ax=axs, shrink=0.9, orientation='vertical')\n",
    "    "
   ]
  },
  {
   "cell_type": "markdown",
   "id": "6939c7fc-fcf3-4c8e-bd7b-e0ab134fdd0e",
   "metadata": {},
   "source": [
    "# Aggregate Beaching and Surface files"
   ]
  },
  {
   "cell_type": "code",
   "execution_count": null,
   "id": "7ad81ccd-d9ab-4dd0-8b44-6064fe4d586c",
   "metadata": {},
   "outputs": [],
   "source": [
    "# Create dictionary with indices of file to aggregate by oil type\n",
    "# (Identifying indices will eventually be coded in)\n",
    "beaching_file_idx = {}\n",
    "beaching_file_idx['bunker']=[0,1]\n",
    "beaching_file_idx['diesel']=[2,3]"
   ]
  },
  {
   "cell_type": "code",
   "execution_count": null,
   "id": "50b9248e-bb69-4da9-a434-5309586646c7",
   "metadata": {},
   "outputs": [],
   "source": [
    "ba = beaching_aggregate(beaching_files,beaching_file_idx)\n",
    "sa = surface_aggregate(surface_files,beaching_file_idx) #file index same for beaching in this case"
   ]
  },
  {
   "cell_type": "code",
   "execution_count": null,
   "id": "b9a57183-19b9-47f8-8ec7-43473c6548fb",
   "metadata": {},
   "outputs": [],
   "source": [
    "[*sa['bunker']]"
   ]
  },
  {
   "cell_type": "code",
   "execution_count": null,
   "id": "cdae9dc9-18fc-4352-82cd-496052d5571b",
   "metadata": {},
   "outputs": [],
   "source": [
    "[*ba['bunker']]"
   ]
  },
  {
   "cell_type": "code",
   "execution_count": null,
   "id": "5eed01fc-cf33-4c4d-9215-91de903d16bc",
   "metadata": {},
   "outputs": [],
   "source": [
    "for var in [*ba['bunker']]:\n",
    "    fig, axs = plt.subplots(1, 2, figsize=(8, 4), gridspec_kw={'wspace': 0.25, 'hspace': 0.1})\n",
    "    if var not in mean_vars:\n",
    "        cs0=axs[0].contourf(ba['bunker'][var])\n",
    "        cs1=axs[1].contourf(ba['diesel'][var])\n",
    "        axs[0].set_title(f'Bunker \\n{var}')\n",
    "        axs[1].set_title(f'Diesel \\n{var}')\n",
    "        if var in geomean_vars:\n",
    "            cs0=axs[0].contourf(\n",
    "            numpy.exp(ba['bunker'][var]/ba['bunker'].attrs['N_spills'])\n",
    "            )\n",
    "            cs1=axs[1].contourf(\n",
    "            numpy.exp(ba['diesel'][var]/ba['diesel'].attrs['N_spills'])\n",
    "            )\n",
    "            axs[0].set_title('Bunker \\nGeometric Mean Volume (m$^3$)')\n",
    "            axs[1].set_title('Diesel \\nGeometric Mean Volume (m$^3$)')\n",
    "    else:\n",
    "        cs0=axs[0].contourf(\n",
    "            ba['bunker'][var]/ba['bunker'].attrs['N_spills']\n",
    "            )\n",
    "        cs1=axs[1].contourf(\n",
    "        ba['diesel'][var]/ba['diesel'].attrs['N_spills']\n",
    "        )\n",
    "        axs[0].set_title('Bunker \\nAvg Beaching Time (hours)')\n",
    "        axs[1].set_title('Diesel \\nAvg Beaching Time (hours)')\n",
    "    fig.colorbar(cs0, ax=axs[0], shrink=0.9, orientation='vertical')\n",
    "    fig.colorbar(cs1, ax=axs[1], shrink=0.9, orientation='vertical')\n",
    "for var in [*sa['bunker']]:\n",
    "    fig, axs = plt.subplots(1, 2, figsize=(8, 4), gridspec_kw={'wspace': 0.25, 'hspace': 0.1})\n",
    "    if var not in geomean_vars:\n",
    "        cs0=axs[0].contourf(sa['bunker'][var])\n",
    "        cs1=axs[1].contourf(sa['diesel'][var])\n",
    "        axs[0].set_title(f'Bunker \\n{var}')\n",
    "        axs[1].set_title(f'Diesel \\n{var}')\n",
    "    else:\n",
    "        cs0=axs[0].contourf(\n",
    "        numpy.exp(sa['bunker'][var]/sa['bunker'].attrs['N_spills'])\n",
    "        )\n",
    "        cs1=axs[1].contourf(\n",
    "        numpy.exp(sa['diesel'][var]/sa['diesel'].attrs['N_spills'])\n",
    "        )\n",
    "        if var == 'SurfaceConcentration_SumSum':\n",
    "            axs[0].set_title('Bunker \\nGeometric Mean Conc. (Kg/m$^3$)')\n",
    "            axs[1].set_title('Diesel \\nGeometric Mean Conc (Kg/m$^3$)')\n",
    "        else:\n",
    "            axs[0].set_title(f'Bunker \\n{var}')\n",
    "            axs[1].set_title(f'Diesel \\n{var}')\n",
    "\n",
    "    fig.colorbar(cs0, ax=axs[0], shrink=0.9, orientation='vertical')\n",
    "    fig.colorbar(cs1, ax=axs[1], shrink=0.9, orientation='vertical')"
   ]
  },
  {
   "cell_type": "markdown",
   "id": "59c34da7-217c-45e4-8f3d-d7b4313a6201",
   "metadata": {},
   "source": [
    "# Plot Beaching"
   ]
  },
  {
   "cell_type": "code",
   "execution_count": null,
   "id": "52488213-e07a-47ff-9a51-065d84f88f51",
   "metadata": {},
   "outputs": [],
   "source": [
    "vmin = ba['bunker']['TotalBeachVolume'].where(ba['bunker']['TotalBeachVolume']>0).min()\n",
    "vmax = ba['bunker']['TotalBeachVolume'].where(ba['bunker']['TotalBeachVolume']>0).max()\n",
    "levels = numpy.linspace(numpy.exp(vmin), 1e7, 5)\n",
    "levels"
   ]
  },
  {
   "cell_type": "code",
   "execution_count": null,
   "id": "5630bfab-dff2-44ef-881a-8a66e40aad95",
   "metadata": {},
   "outputs": [],
   "source": [
    "ba['bunker'].attrs['N_spills']"
   ]
  },
  {
   "cell_type": "code",
   "execution_count": null,
   "id": "797ec0f8-3101-4538-b95a-a852baba8ebf",
   "metadata": {},
   "outputs": [],
   "source": [
    "\n",
    "fig, axs = plt.subplots(1, 3, figsize=(12, 6), gridspec_kw={'wspace': 0.25, 'hspace': 0.1})\n",
    "cs0=axs[0].contourf(ba['bunker']['BeachPresence'])\n",
    "cs1=axs[1].contourf(ba['bunker']['BeachPresence_24h'])\n",
    "cs2=axs[2].contourf(\n",
    "    numpy.exp(ba['bunker']['TotalBeachVolume']/ba['bunker'].attrs['N_spills']),\n",
    "    #locator=ticker.LogLocator(),\n",
    "    levels=levels\n",
    ")\n",
    "axs[0].set_title('100 Aggregated files\\nBeachPresence')\n",
    "axs[1].set_title('100 Aggregated files\\nBeachPresence_24h_to_72h')\n",
    "axs[2].set_title('100 Aggregated files\\nGeometric Mean Volume (m$^3$)')\n",
    "fig.colorbar(cs0, ax=axs[0], shrink=0.9, orientation='horizontal')\n",
    "fig.colorbar(cs1, ax=axs[1], shrink=0.9, orientation='horizontal')\n",
    "fig.colorbar(cs2, ax=axs[2], shrink=0.9, orientation='horizontal')"
   ]
  },
  {
   "cell_type": "code",
   "execution_count": null,
   "id": "f69c8717-7c13-405f-bdab-76194fb6cef2",
   "metadata": {},
   "outputs": [],
   "source": [
    "from matplotlib import pyplot as plt, cm, colors, ticker\n",
    "fig, axs = plt.subplots(1, 3, figsize=(12, 6), gridspec_kw={'wspace': 0.25, 'hspace': 0.1})\n",
    "cs0=axs[0].contourf(ba['bunker']['BeachPresence'])\n",
    "cs1=axs[1].contourf(ba['bunker']['BeachPresence_24h'])\n",
    "#cs2=axs[2].contourf(numpy.log(ba['bunker']['TotalBeachVolume'].where(ba['bunker']['TotalBeachVolume']>0)))\n",
    "cs2=axs[2].contourf(ba['bunker']['TotalBeachVolume'])\n",
    "axs[0].set_title('100 Aggregated files\\nBeachPresence')\n",
    "axs[1].set_title('100 Aggregated files\\nBeachPresence_24h_to_72h')\n",
    "axs[2].set_title('100 Aggregated files\\n$\\ln$(TotalBeachVolume)')\n",
    "fig.colorbar(cs0, ax=axs[0], shrink=0.9, orientation='horizontal')\n",
    "fig.colorbar(cs1, ax=axs[1], shrink=0.9, orientation='horizontal')\n",
    "fig.colorbar(cs2, ax=axs[2], shrink=0.9, orientation='horizontal')"
   ]
  },
  {
   "cell_type": "code",
   "execution_count": null,
   "id": "414e0a38-040b-4612-9841-45167b0652e6",
   "metadata": {},
   "outputs": [],
   "source": [
    "print('--------')\n",
    "print('BEACHING')\n",
    "print('--------')\n",
    "for oil in ['bunker','diesel']:\n",
    "    print('***',oil,'***')\n",
    "    for variable in [*ba[oil]]:\n",
    "        variable\n",
    "        print(variable,': ', numpy.nanmin(ba[oil][variable].values).item(),\n",
    "              '-', ba[oil][variable].max().values.item())\n",
    "print('-------')\n",
    "print('SURFACE')\n",
    "print('-------')\n",
    "for oil in ['bunker','diesel']:\n",
    "    print('***',oil,'***')\n",
    "    for variable in [*sa[oil]]:\n",
    "        variable\n",
    "        print(variable,': ', sa[oil][variable].min().values.item(),\n",
    "              '-', sa[oil][variable].max().values.item())"
   ]
  },
  {
   "cell_type": "markdown",
   "id": "9c3750ba-bde6-4878-98a1-52456403a51c",
   "metadata": {
    "tags": []
   },
   "source": [
    "# Surface"
   ]
  },
  {
   "cell_type": "code",
   "execution_count": null,
   "id": "ac60e201-25b2-41e2-8157-becd85c1bcc0",
   "metadata": {},
   "outputs": [],
   "source": [
    "surface_files"
   ]
  },
  {
   "cell_type": "code",
   "execution_count": null,
   "id": "3e9f7f1d-0a3d-4055-9607-d3f092a2589f",
   "metadata": {},
   "outputs": [],
   "source": [
    "for oil in [*beaching_file_idx]:\n",
    "    print(oil)"
   ]
  },
  {
   "cell_type": "code",
   "execution_count": null,
   "id": "cfd5d8e7-b708-4e6b-a0ac-f3e69db9da13",
   "metadata": {},
   "outputs": [],
   "source": [
    "[*sa]"
   ]
  },
  {
   "cell_type": "code",
   "execution_count": null,
   "id": "904b981a-af49-4ebb-aa80-630371e67412",
   "metadata": {},
   "outputs": [],
   "source": [
    "sfc = {}\n",
    "sfc[0]=xarray.open_dataset(surface_files[file_idx['bunker'][0]])\n",
    "sfc[1]=xarray.open_dataset(surface_files[file_idx['bunker'][1]])"
   ]
  },
  {
   "cell_type": "code",
   "execution_count": null,
   "id": "3b408de8-9f60-4564-9219-781b69e2af74",
   "metadata": {},
   "outputs": [],
   "source": [
    "[*sfc[0]]"
   ]
  },
  {
   "cell_type": "markdown",
   "id": "dd1719b0-1c11-4230-aaad-7f0358087d38",
   "metadata": {},
   "source": [
    "###  Aggregate n and (n-1) file"
   ]
  },
  {
   "cell_type": "code",
   "execution_count": null,
   "id": "fab43abb-08ab-44cf-a037-2776449de2ae",
   "metadata": {},
   "outputs": [],
   "source": [
    "sfc_aggregated = sfc[0] + sfc[1]\n",
    "#sfc_aggregated = sfc[1]"
   ]
  },
  {
   "cell_type": "code",
   "execution_count": null,
   "id": "74ad452d-ccf6-42bf-81ef-515c03d8cf49",
   "metadata": {},
   "outputs": [],
   "source": [
    "for variable in [*sfc_aggregated]:\n",
    "    variable\n",
    "    print(variable,': ', numpy.exp(sfc_aggregated[variable].min().values.item()),\n",
    "          '-', sfc_aggregated[variable].max().values.item())"
   ]
  },
  {
   "cell_type": "code",
   "execution_count": null,
   "id": "5b2b75cf-8687-4fe1-9bde-c1c98251ca9d",
   "metadata": {},
   "outputs": [],
   "source": [
    "limits={}\n",
    "limits['SurfacePresence']=(0,20)\n"
   ]
  },
  {
   "cell_type": "code",
   "execution_count": null,
   "id": "f56822b2-6805-4f35-85ac-7bf8f1a62373",
   "metadata": {},
   "outputs": [],
   "source": [
    "for var_idx,variable in enumerate([*sfc[0]]):\n",
    "    if variable != 'SurfaceDissolution_SumSum':\n",
    "        fig,axs = plt.subplots(\n",
    "            1, 3, figsize=(18, 9), \n",
    "            subplot_kw={\"facecolor\": \"white\"}\n",
    "        )\n",
    "        fig.subplots_adjust(hspace=0.5)\n",
    "        if variable=='SurfacePresence':\n",
    "            cs0=axs[0].contourf(sfc[0][variable], \n",
    "                levels=numpy.linspace(limits[variable][0],limits[variable][1],20))\n",
    "            cs1=axs[1].contourf(sfc[1][variable], \n",
    "                levels=numpy.linspace(limits[variable][0],limits[variable][1],20))\n",
    "            cs2=axs[2].contourf(numpy.exp(sfc_aggregated[variable]),norm=colors.LogNorm())\n",
    "        else:\n",
    "            cs0=axs[0].contourf(sfc[0][variable])\n",
    "            cs1=axs[1].contourf(sfc[1][variable])\n",
    "            cs2=axs[2].contourf(sfc_aggregated[variable])\n",
    "        axs[0].set_ylabel(variable)\n",
    "        # axs[1].set_title('BeachPresence_24h_to_72h')\n",
    "        # axs[2].set_title('TotalBeachVolume')\n",
    "        fig.colorbar(cs0, ax=axs[0], shrink=0.9, orientation='horizontal')\n",
    "        fig.colorbar(cs1, ax=axs[1], shrink=0.9, orientation='horizontal')\n",
    "        fig.colorbar(cs2, ax=axs[2], shrink=0.9, orientation='horizontal')"
   ]
  },
  {
   "cell_type": "markdown",
   "id": "af6b3c62-7176-46e8-9126-d65d507724a1",
   "metadata": {},
   "source": [
    "## Compare two-ways of aggregating surface presence"
   ]
  },
  {
   "cell_type": "code",
   "execution_count": null,
   "id": "f003b775-ab9f-4893-b56f-de9e89bd9c31",
   "metadata": {},
   "outputs": [],
   "source": [
    "sfcPresence_aggregated = sfc[0]['SurfacePresence'] + sfc[1]['SurfacePresence']\n",
    "sum(sum(sfc_aggregated[variable] - sfcPresence_aggregated)).values.item()"
   ]
  },
  {
   "cell_type": "code",
   "execution_count": null,
   "id": "5bca38c7-c326-43f5-b6d2-26f0cbc30e96",
   "metadata": {},
   "outputs": [],
   "source": [
    "variable = 'SurfacePresence'\n",
    "fig,axs = plt.subplots(\n",
    "    1, 2, figsize=(9, 9), \n",
    "    subplot_kw={\"facecolor\": \"white\"}\n",
    ")\n",
    "fig.subplots_adjust(hspace=0.5)\n",
    "cs0=axs[0].contourf(sfcPresence_aggregated, \n",
    "        levels=numpy.linspace(limits[variable][0],limits[variable][1],10))\n",
    "cs1=axs[1].contourf(sfc_aggregated[variable],\n",
    "        levels=numpy.linspace(limits[variable][0],limits[variable][1],10))\n",
    "\n",
    "axs[0].set_title('SurfacePresence \\n(direct addition)')\n",
    "axs[1].set_title('SurfacePresence \\n(Xarray addition)')\n",
    "cbar1=fig.colorbar(cs0, ax=axs[0], shrink=0.9, orientation='horizontal')\n",
    "cbar2=fig.colorbar(cs1, ax=axs[1], shrink=0.9, orientation='horizontal')\n",
    "labels = numpy.arange(limits[variable][0],limits[variable][1],2)\n",
    "cbar1.set_ticks(labels)\n",
    "cbar2.set_ticks(labels)\n",
    "#cbar.ax.set_xticklabels(labels, rotation=45)"
   ]
  },
  {
   "cell_type": "markdown",
   "id": "fb4627e3-31c8-4f11-978f-8de40f1f70aa",
   "metadata": {},
   "source": [
    "## Evaluate surface dissolution, concentration and volume in the top 5 largest spills in these aggregations "
   ]
  },
  {
   "cell_type": "code",
   "execution_count": null,
   "id": "a98c5a54-2ed0-4d75-8cfa-2fbcd8f832cf",
   "metadata": {},
   "outputs": [],
   "source": [
    "First100 = {}\n",
    "for oil in ['diesel','bunker']:\n",
    "    First100[oil] = run_paths[oil][0:100]"
   ]
  },
  {
   "cell_type": "code",
   "execution_count": null,
   "id": "55b3348d-da9b-4e54-a61f-373db42cbc83",
   "metadata": {},
   "outputs": [],
   "source": [
    "First100['diesel'][0]"
   ]
  },
  {
   "cell_type": "code",
   "execution_count": null,
   "id": "dce973a9-16c1-4804-9168-61608faa4e72",
   "metadata": {},
   "outputs": [],
   "source": [
    "First100['diesel'][0].split('/')[0:-1]"
   ]
  },
  {
   "cell_type": "code",
   "execution_count": null,
   "id": "f1a5a729-fb6b-4c7f-ae73-a5c41e4d761f",
   "metadata": {},
   "outputs": [],
   "source": [
    "First100['diesel'][0].split('_')[-3]"
   ]
  },
  {
   "cell_type": "code",
   "execution_count": null,
   "id": "e2255eb6-cb17-41b9-9236-fe2e5b897b2c",
   "metadata": {},
   "outputs": [],
   "source": [
    "\"/\".join(First100['diesel'][0].split(\"/\")[:-1]) "
   ]
  },
  {
   "cell_type": "markdown",
   "id": "903e1f37-b1ea-4f9b-9b2f-0052ae1aee0d",
   "metadata": {},
   "source": [
    "### Get spill volumes and sort spills to get 5 largest spills by oil type"
   ]
  },
  {
   "cell_type": "code",
   "execution_count": null,
   "id": "77a49068-1e4f-4a61-8d79-8cd04710c8bc",
   "metadata": {},
   "outputs": [],
   "source": [
    "big5_spills={}\n",
    "for oil in ['diesel','bunker']:\n",
    "    volume = {}\n",
    "    volume[oil]={}\n",
    "    volume[oil]['volume']=[]\n",
    "    for idx,ncfile in enumerate(First100[oil]):\n",
    "        directory = \"/\".join(ncfile.split(\"/\")[:-1]) \n",
    "        oil_tag = First100[oil][idx].split('_')[-3]\n",
    "        # Open the Lagrangian file used for spill\n",
    "        Lagrangian_file = directory+'/Lagrangian_'+oil_tag+'.dat'\n",
    "        with open(Lagrangian_file, 'r') as f:\n",
    "            for line in f:\n",
    "                if 'POINT_VOLUME              :' in line: \n",
    "                    # select spill volume quantity after ':'\n",
    "                    spillvolume = line.split(':')[-1].split('\\n')[0]\n",
    "                    # convert to float for \"sort_values\" to work properly\n",
    "                    volume[oil]['volume'].append(float(spillvolume)) \n",
    "        big5_spills[oil] = pandas.DataFrame.from_dict(\n",
    "            volume[oil]).sort_values('volume',ascending=False)[0:5]"
   ]
  },
  {
   "cell_type": "code",
   "execution_count": null,
   "id": "52b54eb6-a57b-4db7-b62e-de361988a169",
   "metadata": {},
   "outputs": [],
   "source": [
    "big5_spills['diesel']"
   ]
  },
  {
   "cell_type": "markdown",
   "id": "ae791fbc-847f-4433-8747-baf5f2a9c4b5",
   "metadata": {},
   "source": [
    "### Use indices from big5_spills to open and plot output from the top 5 spills"
   ]
  },
  {
   "cell_type": "code",
   "execution_count": null,
   "id": "d0fcc2ae-ad78-4213-ad88-03a3c1faa879",
   "metadata": {},
   "outputs": [],
   "source": [
    "big5_spills[oil].index.values"
   ]
  },
  {
   "cell_type": "code",
   "execution_count": null,
   "id": "d4538767-c8ba-45d1-90a1-5efeb9d40094",
   "metadata": {},
   "outputs": [],
   "source": [
    "%%time\n",
    "TopSpills = pandas.read_csv('/home/rmueller/projects/def-allen/rmueller/MIDOSS/analysis-rachael/notebooks/monte_carlo_dev/TopSpills_df.csv')\n",
    "\n",
    "# ## Generate \"TopSpills_df.csv\"\n",
    "# ## This section takes 10 minutes on 5210 Mb\n",
    "# vars2plot= ['Dissolution_3D','OilConcentration_3D','OilWaterColumnOilVol_3D']\n",
    "# oil_type=[]\n",
    "# spill_index=[]\n",
    "# spill_volume=[]\n",
    "# #variable_list = []\n",
    "# mn={}\n",
    "# mx={}\n",
    "# for variable in vars2plot:\n",
    "#     mn[variable] = []\n",
    "#     mx[variable] = []\n",
    "\n",
    "# for oil in ['diesel','bunker']:\n",
    "#     # loop through indices of the 5 largest spills in the first 100 spill files\n",
    "#     for idx in big5_spills[oil].index.values:\n",
    "#         spill_xr=xarray.open_dataset(First100[oil][idx])\n",
    "#         oil_type.append(oil)\n",
    "#         spill_index.append(idx)\n",
    "#         spill_volume.append(big5_spills[oil]['volume'][idx])\n",
    "#         for variable in vars2plot:\n",
    "#             print(f'[{oil}-{idx}-{variable}]')     \n",
    "#             mn[variable].append(spill_xr[variable][:,39,:,:].min().values.item())\n",
    "#             mx[variable].append(spill_xr[variable][:,39,:,:].max().values.item())\n",
    "#         spill_xr.close()\n",
    "# TopSpills = {'oil_type':oil_type, 'spill_volume':spill_volume,\n",
    "#     'MinSfcDiss':mn['Dissolution_3D'], 'MaxSfcDiss':mx['Dissolution_3D'],\n",
    "#     'MinSfcConc':mn['OilConcentration_3D'], 'MaxSfcConc':mx['OilConcentration_3D'],\n",
    "#     'MinSfcVol':mn['OilWaterColumnOilVol_3D'], 'MaxSfcVol':mx['OilWaterColumnOilVol_3D']}\n",
    "# TopSpills_df = pandas.DataFrame(TopSpills)\n",
    "# TopSpills_df.to_csv('TopSpills_df.csv')"
   ]
  },
  {
   "cell_type": "code",
   "execution_count": null,
   "id": "ffc473a4-3393-4987-9872-3e1166ac9db7",
   "metadata": {},
   "outputs": [],
   "source": [
    "TopSpills"
   ]
  },
  {
   "cell_type": "code",
   "execution_count": null,
   "id": "4ef6fd31-592a-4985-a34c-98e1e67a1375",
   "metadata": {},
   "outputs": [],
   "source": [
    "Conc2Vol = TopSpills['MaxSfcVol']/TopSpills['MaxSfcConc']"
   ]
  },
  {
   "cell_type": "code",
   "execution_count": null,
   "id": "39534ca4-5476-4e16-9ac7-a7205f484e1f",
   "metadata": {},
   "outputs": [],
   "source": [
    "TopSpills[TopSpills['oil_type']=='diesel'].plot.scatter(x='MaxSfcVol',y='MaxSfcConc',s=60, c='purple')"
   ]
  },
  {
   "cell_type": "code",
   "execution_count": null,
   "id": "73d663e4-7a92-4350-92a6-b3e9604284fe",
   "metadata": {},
   "outputs": [],
   "source": [
    "TopSpills[TopSpills['oil_type']=='bunker'].plot.scatter(x='MaxSfcVol',y='MaxSfcConc', \n",
    "                                                        s=60, c='green')"
   ]
  },
  {
   "cell_type": "markdown",
   "id": "bc349d6d-3a86-4c9f-bba3-b822a8f78b18",
   "metadata": {},
   "source": [
    "## Get top 50 spills"
   ]
  },
  {
   "cell_type": "code",
   "execution_count": null,
   "id": "2dfc9883-dc41-44c0-8feb-ad885825cf45",
   "metadata": {},
   "outputs": [],
   "source": [
    "big50_spills={}\n",
    "for oil in ['diesel','bunker']:\n",
    "    volume = {}\n",
    "    volume[oil]={}\n",
    "    volume[oil]['volume']=[]\n",
    "    for idx,ncfile in enumerate(First100[oil]):\n",
    "        directory = \"/\".join(ncfile.split(\"/\")[:-1]) \n",
    "        oil_tag = First100[oil][idx].split('_')[-3]\n",
    "        # Open the Lagrangian file used for spill\n",
    "        Lagrangian_file = directory+'/Lagrangian_'+oil_tag+'.dat'\n",
    "        with open(Lagrangian_file, 'r') as f:\n",
    "            for line in f:\n",
    "                if 'POINT_VOLUME              :' in line: \n",
    "                    # select spill volume quantity after ':'\n",
    "                    spillvolume = line.split(':')[-1].split('\\n')[0]\n",
    "                    # convert to float for \"sort_values\" to work properly\n",
    "                    volume[oil]['volume'].append(float(spillvolume)) \n",
    "        big50_spills[oil] = pandas.DataFrame.from_dict(\n",
    "            volume[oil]).sort_values('volume',ascending=False)[0:50]"
   ]
  },
  {
   "cell_type": "code",
   "execution_count": null,
   "id": "7193a00f-e9c5-4685-b9a4-4fc8ad6755fa",
   "metadata": {},
   "outputs": [],
   "source": [
    "# %%time\n",
    "\n",
    "# spills_dict = big50_spills.copy\n",
    "# # if os.path.exists('/home/rmueller/projects/def-allen/rmueller/MIDOSS/analysis-rachael/notebooks/monte_carlo_dev/TopSpills50_df.csv'): \n",
    "# #     TopSpills = pandas.read_csv('/home/rmueller/projects/def-allen/rmueller/MIDOSS/analysis-rachael/notebooks/monte_carlo_dev/TopSpills50_df.csv')\n",
    "# # else:\n",
    "# ## Generate \"TopSpills_df.csv\"\n",
    "# ## This section takes 10 minutes on 5210 Mb\n",
    "# vars2plot= ['OilConcentration_3D','OilWaterColumnOilVol_3D']\n",
    "# oil_type=[]\n",
    "# spill_index=[]\n",
    "# spill_volume=[]\n",
    "# #variable_list = []\n",
    "# mn={}\n",
    "# mx={}\n",
    "# mean={}\n",
    "# for variable in vars2plot:\n",
    "#     mn[variable] = []\n",
    "#     mx[variable] = []\n",
    "#     mean[variable] = []\n",
    "\n",
    "# for oil in ['diesel','bunker']:\n",
    "#     # loop through indices of the largest spills in the first 100 spill files\n",
    "#     for idx in big50_spills[oil].index.values:\n",
    "#         spill_xr=xarray.open_dataset(First100[oil][idx])\n",
    "#         oil_type.append(oil)\n",
    "#         spill_index.append(idx)\n",
    "#         spill_volume.append(big50_spills[oil]['volume'][idx])\n",
    "#         for variable in vars2plot:\n",
    "#             print(f'[{oil}-{idx}-{variable}]')     \n",
    "#             mn[variable].append(spill_xr[variable][:,39,:,:].min().values.item())\n",
    "#             mx[variable].append(spill_xr[variable][:,39,:,:].max().values.item())\n",
    "#             mean[variable].append(spill_xr[variable][:,39,:,:].mean().values.item())\n",
    "#         spill_xr.close()\n",
    "# TopSpills = {'oil_type':oil_type, 'spill_volume':spill_volume,\n",
    "#     'MeanSfcConc':mean['OilConcentration_3D'], 'MinSfcConc':mn['OilConcentration_3D'], \n",
    "#     'MaxSfcConc':mx['OilConcentration_3D'], 'MeanSfcVol':mean['OilWaterColumnOilVol_3D'],\n",
    "#     'MinSfcVol':mn['OilWaterColumnOilVol_3D'], 'MaxSfcVol':mx['OilWaterColumnOilVol_3D']}\n",
    "# TopSpills_df = pandas.DataFrame(TopSpills)\n",
    "# TopSpills_df.to_csv('TopSpills50_df.csv')"
   ]
  },
  {
   "cell_type": "markdown",
   "id": "59c82286-4cb6-45a3-9a73-9b29f5f05297",
   "metadata": {},
   "source": [
    "## plot up Concentration vs. Volume for 50 diesel and 50 bunker spills"
   ]
  },
  {
   "cell_type": "code",
   "execution_count": null,
   "id": "e5d21e39-2444-469f-935c-39a91dc5fbda",
   "metadata": {},
   "outputs": [],
   "source": [
    "TopSpills = pandas.read_csv('/home/rmueller/projects/def-allen/rmueller/MIDOSS/analysis-rachael/notebooks/monte_carlo_dev/TopSpills50_df.csv')"
   ]
  },
  {
   "cell_type": "code",
   "execution_count": null,
   "id": "19f9f5ce-a572-4a26-a56b-e89112efbe36",
   "metadata": {},
   "outputs": [],
   "source": [
    "TopSpills[:5]"
   ]
  },
  {
   "cell_type": "code",
   "execution_count": null,
   "id": "4c03e67d-3f9d-44d2-a7ae-9d96ccd97508",
   "metadata": {},
   "outputs": [],
   "source": [
    "TopSpills['OilFlag'] = TopSpills['oil_type']\n",
    "TopSpills.loc[TopSpills['oil_type'] == 'bunker', 'OilFlag'] = 2\n",
    "TopSpills.loc[TopSpills['oil_type'] == 'diesel', 'OilFlag'] = 1"
   ]
  },
  {
   "cell_type": "code",
   "execution_count": null,
   "id": "f88dee99-a40b-478f-8f35-21f92fc94470",
   "metadata": {},
   "outputs": [],
   "source": [
    "TopSpills[TopSpills['oil_type']=='diesel'].plot.scatter(x='MaxSfcVol',y='MaxSfcConc',\n",
    "                                                        s=60, c='purple')\n",
    "TopSpills[TopSpills['oil_type']=='bunker'].plot.scatter(x='MaxSfcVol',y='MaxSfcConc', \n",
    "                                                        s=60, c='green')\n",
    "TopSpills[TopSpills['oil_type']=='diesel'].plot.scatter(x='MeanSfcVol',y='MeanSfcConc',\n",
    "                                                        s=60, c='purple')\n",
    "TopSpills[TopSpills['oil_type']=='bunker'].plot.scatter(x='MeanSfcVol',y='MeanSfcConc', \n",
    "                                                        s=60, c='green')\n",
    "TopSpills['Vol2Conc'] = TopSpills['MaxSfcVol']/TopSpills['MaxSfcConc']   \n",
    "ax_ratio = TopSpills.plot.scatter(x='OilFlag',y='Vol2Conc', s=60, c='blue')\n",
    "ax_ratio.set_xticks((0,1,2,3))\n",
    "ax_ratio.set_xticklabels(['','diesel','bunker',''])\n",
    "ax_ratio.set_title('Ratio of Maximum Volume to Maximum Concentration')\n",
    "TopSpills['Vol2Conc_mean'] = TopSpills['MeanSfcVol']/TopSpills['MeanSfcConc']\n",
    "ax_ratio = TopSpills.plot.scatter(x='OilFlag',y='Vol2Conc_mean', \n",
    "                                                        s=60, c='blue')\n",
    "ax_ratio.set_xticks((0,1,2,3))\n",
    "ax_ratio.set_xticklabels(['','diesel','bunker',''])\n",
    "ax_ratio.set_title('Ratio of Mean Volume to Mean Concentration')\n",
    "\n"
   ]
  },
  {
   "cell_type": "code",
   "execution_count": null,
   "id": "2183e07b-7faa-4ac1-8c83-820daf06ecb2",
   "metadata": {},
   "outputs": [],
   "source": []
  }
 ],
 "metadata": {
  "kernelspec": {
   "display_name": "Python 3 (ipykernel)",
   "language": "python",
   "name": "python3"
  },
  "language_info": {
   "codemirror_mode": {
    "name": "ipython",
    "version": 3
   },
   "file_extension": ".py",
   "mimetype": "text/x-python",
   "name": "python",
   "nbconvert_exporter": "python",
   "pygments_lexer": "ipython3",
   "version": "3.8.2"
  }
 },
 "nbformat": 4,
 "nbformat_minor": 5
}
