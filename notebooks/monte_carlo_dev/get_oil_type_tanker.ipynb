{
 "cells": [
  {
   "cell_type": "markdown",
   "metadata": {},
   "source": [
    "#### Decision tree for allocating oil type to tanker traffic\n",
    "see google drawing (Tanker_Oil_Attribution)[https://docs.google.com/drawings/d/1-4gl2yNNWxqXK-IOr4KNZxO-awBC-bNrjRNrt86fykU/edit ] for a visual representation"
   ]
  },
  {
   "cell_type": "code",
   "execution_count": 1,
   "metadata": {},
   "outputs": [],
   "source": [
    "# These will become function inputs\n",
    "origin = 'Westridge Marine Terminal'\n",
    "destination = 'Pacific'\n",
    "ship_type = 'tanker'\n",
    "random_seed=None"
   ]
  },
  {
   "cell_type": "code",
   "execution_count": 2,
   "metadata": {},
   "outputs": [],
   "source": [
    "import numpy \n",
    "import yaml\n",
    "import pathlib"
   ]
  },
  {
   "cell_type": "code",
   "execution_count": 3,
   "metadata": {},
   "outputs": [],
   "source": [
    "# load the list of CAD, US and generic origins and destinations\n",
    "master_dir  = '/Users/rmueller/Projects/MIDOSS/analysis-rachael/notebooks/monte_carlo/'\n",
    "master_file = 'master.yaml'\n",
    "\n",
    "with open(f'{master_dir}{master_file}') as file:\n",
    "    master = yaml.safe_load(file)\n",
    "\n",
    "# Assign US and CAD origin/destinations from master file\n",
    "CAD_origin_destination = master['categories']['CAD_origin_destination']\n",
    "US_origin_destination = master['categories']['US_origin_destination']\n",
    "\n",
    "# Get file paths to fuel-type yaml files\n",
    "home = pathlib.Path(master['directories'])\n",
    "CAD_yaml     = home/master['files']['cargo_CAD']\n",
    "WA_in_yaml   = home/master['files']['cargo_WA_in']\n",
    "WA_out_yaml  = home/master['files']['cargo_WA_out']\n",
    "US_yaml      = home/master['files']['cargo_US']\n",
    "Pacific_yaml = home/master['files']['cargo_Pacific']"
   ]
  },
  {
   "cell_type": "markdown",
   "metadata": {},
   "source": [
    "#### Create decision-making tree for tanker traffic\n",
    "All attributions will be tank-cargo at this point.  I don't think we have decision-making around spill type (fuel or cargo) yet (need to check!).  Will likely add here"
   ]
  },
  {
   "cell_type": "code",
   "execution_count": 4,
   "metadata": {},
   "outputs": [],
   "source": [
    "def get_fuel_type(yaml_file, facility):\n",
    "     with yaml_file.open(\"rt\") as file:\n",
    "            cargo = yaml.safe_load(file)\n",
    "            tanker = cargo[facility][ship_type]\n",
    "            probability = [tanker[fuel]['fraction_of_total'] for fuel in tanker]    \n",
    "            fuel_type = random_generator.choice(list(tanker.keys()), p = probability)\n",
    "            return fuel_type"
   ]
  },
  {
   "cell_type": "code",
   "execution_count": 6,
   "metadata": {},
   "outputs": [],
   "source": [
    "# these pairs need to be used together for \"get_fuel_type\" (but don't yet have error-checks in place):\n",
    "# - \"WA_in_yaml\" and \"destination\"\n",
    "# - \"WA_out_yaml\" and \"origin\"\n",
    "\n",
    "# Need to add a catch for erroneous cases where origin-destination in AIS analysis\n",
    "# pairs vessel-type and facility to null values in the DOE transfer data. \n",
    "# For these cases (which shouldn't happen but might), we will use the generic US fuel allocations\n",
    "\n",
    "# Initialize PCG-64 random number generator\n",
    "random_generator = numpy.random.default_rng(random_seed)\n",
    "\n",
    "if origin in CAD_origin_destination:\n",
    "    if origin == 'Westridge Marine Terminal':\n",
    "        fuel_type = get_fuel_type(CAD_yaml, origin)\n",
    "    else:\n",
    "        if destination in US_origin_destination:\n",
    "            # we have better information on WA fuel transfers, so I'm prioritizing this information source\n",
    "            fuel_type = get_fuel_type(WA_in_yaml, destination)\n",
    "        else:\n",
    "            fuel_type = get_fuel_type(CAD_yaml, origin)\n",
    "elif origin in US_origin_destination:  \n",
    "    fuel_type = get_fuel_type(WA_out_yaml, origin)\n",
    "elif destination in US_origin_destination:\n",
    "    fuel_type = get_fuel_type(WA_in_yaml, destination)\n",
    "elif destination in CAD_origin_destination:\n",
    "    fuel_type = get_fuel_type(CAD_yaml, destination)\n",
    "elif origin == 'US':\n",
    "    fuel_type = get_fuel_type(US_yaml, origin)\n",
    "elif origin == 'Canada':\n",
    "    fuel_type = get_fuel_type(US_yaml, origin)\n",
    "else:\n",
    "    # this is the error-check allocation for the (hopefully no) cases in which a ship track \n",
    "    # wasn't allocated either origin or destination\n",
    "    fuel_type = random_generator.choice(['diesel','akns'], p = [.5, .5])"
   ]
  },
  {
   "cell_type": "code",
   "execution_count": null,
   "metadata": {},
   "outputs": [],
   "source": []
  }
 ],
 "metadata": {
  "kernelspec": {
   "display_name": "Python 3",
   "language": "python",
   "name": "python3"
  },
  "language_info": {
   "codemirror_mode": {
    "name": "ipython",
    "version": 3
   },
   "file_extension": ".py",
   "mimetype": "text/x-python",
   "name": "python",
   "nbconvert_exporter": "python",
   "pygments_lexer": "ipython3",
   "version": "3.6.8"
  }
 },
 "nbformat": 4,
 "nbformat_minor": 4
}
