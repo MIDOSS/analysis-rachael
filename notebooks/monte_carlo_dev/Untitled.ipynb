{
 "cells": [
  {
   "cell_type": "code",
   "execution_count": 1,
   "id": "9c7366c9",
   "metadata": {},
   "outputs": [],
   "source": [
    "# import necessary packages\n",
    "import os\n",
    "import pandas\n",
    "import numpy\n",
    "import matplotlib.pyplot as plt\n",
    "import geopandas as gpd\n",
    "from pathlib import Path\n",
    "# import function for querying DOE dataframes\n",
    "from monte_carlo_utils import get_DOE_atb, get_DOE_barges\n",
    "\n",
    "\n",
    "# set file location and name\n",
    "atb_shp_path = Path('/data/MIDOSS/shapefiles/atb_2018_01.shp')\n",
    "barge_shp_path = Path('/data/MIDOSS/shapefiles/barge_2018_01.shp')\n",
    "doe_xls_path = Path('/data/MIDOSS/spreadsheets/MuellerTrans4-30-20.xlsx')\n",
    "fac_xls_path = Path(\n",
    "    '/home/rmueller/Projects/MIDOSS/marine_transport_data/Oil_Transfer_Facilities.xlsx'\n",
    ")\n",
    "\n",
    "# import facility locations\n",
    "facWA = pandas.read_excel(\n",
    "    fac_xls_path,\n",
    "    sheet_name = 'Washington',\n",
    "    usecols=\"B,D,J,K\"\n",
    ")"
   ]
  },
  {
   "cell_type": "code",
   "execution_count": 4,
   "id": "5e482218",
   "metadata": {},
   "outputs": [],
   "source": [
    "def concat_shp(ship_type):\n",
    "    \"\"\"\n",
    "      INPUT: \n",
    "          - ship_type [\"tanker\", \"barge\", \"atb\", etc]: MIDOSS-name for ship type (see oil_attribution.yaml for list)\n",
    "      OUTPUT: \n",
    "          - dataframe of all 2018 ship tracks for given ship_type\n",
    "      requirements: \n",
    "          This script requires being run on Salish.eoas.ubc.ca, with path to shapefiles being /data/MIDOSS/shapefiles/\n",
    "    \"\"\"\n",
    "    from dask import delayed\n",
    "    \n",
    "    for months in range(1,13):\n",
    "        # set file location and name\n",
    "        shp_path = Path(f'/data/MIDOSS/shapefiles/{ship_type}_2018_{months:02d}.shp')\n",
    "        # import shapefile using geopandas\n",
    "        monthly_shp = delayed(gpd.read_file(shp_path))\n",
    "        if months == 1:\n",
    "            print(f'creating {ship_type} shapefile for 2018, starting with January data')\n",
    "            allTracks = monthly_shp\n",
    "        else:\n",
    "            print(f'Concatenating {ship_type} data from month {months}')\n",
    "            allTracks = delayed(gpd.GeoDataFrame(\n",
    "                pandas.concat([allTracks.compute(), monthly_shp.compute()])\n",
    "            ))\n",
    "    return allTracks.compute()"
   ]
  },
  {
   "cell_type": "code",
   "execution_count": 7,
   "id": "4414e994",
   "metadata": {},
   "outputs": [
    {
     "name": "stdout",
     "output_type": "stream",
     "text": [
      "creating atb shapefile for 2018, starting with January data\n",
      "Concatenating atb data from month 2\n",
      "Concatenating atb data from month 3\n",
      "Concatenating atb data from month 4\n",
      "Concatenating atb data from month 5\n",
      "Concatenating atb data from month 6\n",
      "Concatenating atb data from month 7\n",
      "Concatenating atb data from month 8\n",
      "Concatenating atb data from month 9\n",
      "Concatenating atb data from month 10\n",
      "Concatenating atb data from month 11\n",
      "Concatenating atb data from month 12\n",
      "CPU times: user 41.6 s, sys: 784 ms, total: 42.4 s\n",
      "Wall time: 42.4 s\n"
     ]
    }
   ],
   "source": [
    "%%time\n",
    "allTracks = {} \n",
    "allTracks_dask = concat_shp(\"atb\")"
   ]
  },
  {
   "cell_type": "code",
   "execution_count": 10,
   "id": "840f7d94",
   "metadata": {},
   "outputs": [],
   "source": [
    "def concat_shp(ship_type):\n",
    "    \"\"\"\n",
    "      INPUT: \n",
    "          - ship_type [\"tanker\", \"barge\", \"atb\", etc]: MIDOSS-name for ship type (see oil_attribution.yaml for list)\n",
    "      OUTPUT: \n",
    "          - dataframe of all 2018 ship tracks for given ship_type\n",
    "      requirements: \n",
    "          This script requires being run on Salish.eoas.ubc.ca, with path to shapefiles being /data/MIDOSS/shapefiles/\n",
    "    \"\"\"\n",
    "    from dask import delayed\n",
    "    \n",
    "    for months in range(1,13):\n",
    "        # set file location and name\n",
    "        shp_path = Path(f'/data/MIDOSS/shapefiles/{ship_type}_2018_{months:02d}.shp')\n",
    "        # import shapefile using geopandas\n",
    "        monthly_shp = gpd.read_file(shp_path)\n",
    "        if months == 1:\n",
    "            print(f'creating {ship_type} shapefile for 2018, starting with January data')\n",
    "            allTracks = monthly_shp\n",
    "        else:\n",
    "            print(f'Concatenating {ship_type} data from month {months}')\n",
    "            allTracks = delayed(gpd.GeoDataFrame(\n",
    "                pandas.concat([allTracks.compute(), monthly_shp])\n",
    "            ))\n",
    "    return allTracks.compute()"
   ]
  },
  {
   "cell_type": "code",
   "execution_count": 11,
   "id": "98de8fd2",
   "metadata": {},
   "outputs": [
    {
     "name": "stdout",
     "output_type": "stream",
     "text": [
      "creating atb shapefile for 2018, starting with January data\n",
      "Concatenating atb data from month 2\n"
     ]
    },
    {
     "ename": "AttributeError",
     "evalue": "'GeoDataFrame' object has no attribute 'compute'",
     "output_type": "error",
     "traceback": [
      "\u001b[0;31m---------------------------------------------------------------------------\u001b[0m",
      "\u001b[0;31mAttributeError\u001b[0m                            Traceback (most recent call last)",
      "\u001b[0;32m<timed exec>\u001b[0m in \u001b[0;36m<module>\u001b[0;34m\u001b[0m\n",
      "\u001b[0;32m/tmp/ipykernel_4205/2632979876.py\u001b[0m in \u001b[0;36mconcat_shp\u001b[0;34m(ship_type)\u001b[0m\n\u001b[1;32m     21\u001b[0m             \u001b[0mprint\u001b[0m\u001b[0;34m(\u001b[0m\u001b[0;34mf'Concatenating {ship_type} data from month {months}'\u001b[0m\u001b[0;34m)\u001b[0m\u001b[0;34m\u001b[0m\u001b[0;34m\u001b[0m\u001b[0m\n\u001b[1;32m     22\u001b[0m             allTracks = delayed(gpd.GeoDataFrame(\n\u001b[0;32m---> 23\u001b[0;31m                 \u001b[0mpandas\u001b[0m\u001b[0;34m.\u001b[0m\u001b[0mconcat\u001b[0m\u001b[0;34m(\u001b[0m\u001b[0;34m[\u001b[0m\u001b[0mallTracks\u001b[0m\u001b[0;34m.\u001b[0m\u001b[0mcompute\u001b[0m\u001b[0;34m(\u001b[0m\u001b[0;34m)\u001b[0m\u001b[0;34m,\u001b[0m \u001b[0mmonthly_shp\u001b[0m\u001b[0;34m]\u001b[0m\u001b[0;34m)\u001b[0m\u001b[0;34m\u001b[0m\u001b[0;34m\u001b[0m\u001b[0m\n\u001b[0m\u001b[1;32m     24\u001b[0m             ))\n\u001b[1;32m     25\u001b[0m     \u001b[0;32mreturn\u001b[0m \u001b[0mallTracks\u001b[0m\u001b[0;34m.\u001b[0m\u001b[0mcompute\u001b[0m\u001b[0;34m(\u001b[0m\u001b[0;34m)\u001b[0m\u001b[0;34m\u001b[0m\u001b[0;34m\u001b[0m\u001b[0m\n",
      "\u001b[0;32m~/miniconda3/envs/monte-carlo/lib/python3.9/site-packages/pandas/core/generic.py\u001b[0m in \u001b[0;36m__getattr__\u001b[0;34m(self, name)\u001b[0m\n\u001b[1;32m   5485\u001b[0m         ):\n\u001b[1;32m   5486\u001b[0m             \u001b[0;32mreturn\u001b[0m \u001b[0mself\u001b[0m\u001b[0;34m[\u001b[0m\u001b[0mname\u001b[0m\u001b[0;34m]\u001b[0m\u001b[0;34m\u001b[0m\u001b[0;34m\u001b[0m\u001b[0m\n\u001b[0;32m-> 5487\u001b[0;31m         \u001b[0;32mreturn\u001b[0m \u001b[0mobject\u001b[0m\u001b[0;34m.\u001b[0m\u001b[0m__getattribute__\u001b[0m\u001b[0;34m(\u001b[0m\u001b[0mself\u001b[0m\u001b[0;34m,\u001b[0m \u001b[0mname\u001b[0m\u001b[0;34m)\u001b[0m\u001b[0;34m\u001b[0m\u001b[0;34m\u001b[0m\u001b[0m\n\u001b[0m\u001b[1;32m   5488\u001b[0m \u001b[0;34m\u001b[0m\u001b[0m\n\u001b[1;32m   5489\u001b[0m     \u001b[0;32mdef\u001b[0m \u001b[0m__setattr__\u001b[0m\u001b[0;34m(\u001b[0m\u001b[0mself\u001b[0m\u001b[0;34m,\u001b[0m \u001b[0mname\u001b[0m\u001b[0;34m:\u001b[0m \u001b[0mstr\u001b[0m\u001b[0;34m,\u001b[0m \u001b[0mvalue\u001b[0m\u001b[0;34m)\u001b[0m \u001b[0;34m->\u001b[0m \u001b[0;32mNone\u001b[0m\u001b[0;34m:\u001b[0m\u001b[0;34m\u001b[0m\u001b[0;34m\u001b[0m\u001b[0m\n",
      "\u001b[0;31mAttributeError\u001b[0m: 'GeoDataFrame' object has no attribute 'compute'"
     ]
    }
   ],
   "source": [
    "%%time\n",
    "allTracks = {} \n",
    "allTracks_dask = concat_shp(\"atb\")"
   ]
  },
  {
   "cell_type": "code",
   "execution_count": null,
   "id": "0f84b1de",
   "metadata": {},
   "outputs": [],
   "source": []
  }
 ],
 "metadata": {
  "kernelspec": {
   "display_name": "Python 3 (ipykernel)",
   "language": "python",
   "name": "python3"
  },
  "language_info": {
   "codemirror_mode": {
    "name": "ipython",
    "version": 3
   },
   "file_extension": ".py",
   "mimetype": "text/x-python",
   "name": "python",
   "nbconvert_exporter": "python",
   "pygments_lexer": "ipython3",
   "version": "3.9.6"
  }
 },
 "nbformat": 4,
 "nbformat_minor": 5
}
