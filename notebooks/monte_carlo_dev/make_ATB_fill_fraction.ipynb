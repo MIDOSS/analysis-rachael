{
 "cells": [
  {
   "cell_type": "markdown",
   "id": "chicken-exposure",
   "metadata": {},
   "source": [
    "## Estimate the amount of oil cargo carried by ATBs by comparing DOE cargo transfers to tank capacities"
   ]
  },
  {
   "cell_type": "markdown",
   "id": "naked-compound",
   "metadata": {},
   "source": [
    "This notebook is a compliment to [ATB_FullEmptyRatio_AISplot.ipynb](https://github.com/MIDOSS/analysis-rachael/blob/main/notebooks/monte_carlo/ATB_FullEmptyRatio_AISplot.ipynb) and [ATB_FullEmptyRatio.ipynb](https://github.com/MIDOSS/analysis-rachael/blob/main/notebooks/monte_carlo/ATB_FullEmptyRatio.ipynb). See also [Susan's spreadsheet](https://docs.google.com/spreadsheets/d/1nyp_gtYGsc4xvN7eLj48I6eWmitgb-Plut-vmX79UMM/edit#gid=0) on oil transfer \n",
    "\n",
    "Use `analysis-rachael/env/monte_carlo.yaml` to create an environment for this notebook:\n",
    "```\n",
    " conda env create -f [analysis-rachael/env/monte_carlo.yaml]\n",
    " ```\n",
    "or, to activate this environment, use\n",
    "```\n",
    " conda activate monte_carlo\n",
    " ```\n",
    "To deactivate an active environment, use\n",
    "```\n",
    " conda deactivate\n",
    " ```"
   ]
  },
  {
   "cell_type": "code",
   "execution_count": 1,
   "id": "involved-sense",
   "metadata": {},
   "outputs": [],
   "source": [
    "import pandas \n",
    "import numpy \n",
    "import matplotlib.pyplot as plt\n",
    "import yaml\n",
    "from pathlib import Path\n",
    "import datetime\n",
    "\n",
    "# import functions for querying DOE and monte-carlo dataframes\n",
    "from monte_carlo_utils import get_DOE_df, get_DOE_atb"
   ]
  },
  {
   "cell_type": "code",
   "execution_count": 71,
   "id": "tribal-sweden",
   "metadata": {},
   "outputs": [],
   "source": [
    "# Dept. of Ecology data files\n",
    "DOE_dir  = Path('/Users/rmueller/Data/MIDOSS/DeptOfEcology/')\n",
    "DOE_2018_xlsx = DOE_dir/'MuellerTrans4-30-20.xlsx'\n",
    "\n",
    "# ATB input spreadsheet\n",
    "atb_capacity_xlsx = Path(\n",
    "    '/Users/rmueller/Data/MIDOSS/marine_transport_data/ATB_oil_capacity.xlsx'\n",
    ")\n",
    "# ATB output spreadsheet\n",
    "atb_fullness_xlsx = Path(\n",
    "    '/Users/rmueller/Data/MIDOSS/marine_transport_data/ATB_fullness.xlsx'\n",
    ")\n",
    "\n",
    "# yaml output directory\n",
    "yaml_out_dir = Path(\n",
    "    '/Users/rmueller/Data/MIDOSS/marine_transport_data/'\n",
    ")\n",
    "\n",
    "# Facility names and lat/lon information file\n",
    "facilities_xlsx = Path(\n",
    "    '/Users/rmueller/Data/MIDOSS/marine_transport_data/'\n",
    "    'Oil_Transfer_Facilities.xlsx'\n",
    ")\n",
    "\n",
    "# Constants\n",
    "bbl2gal = 42  #barrel to gallons"
   ]
  },
  {
   "cell_type": "markdown",
   "id": "parallel-burden",
   "metadata": {},
   "source": [
    "### Create histogram of percent fill for each transfer, by each vessel, for import and export transfers combined\n",
    "- Create dictionary `capacity` with tank barge and oil capacity as key:value pairs\n",
    "- Load DOE data and create dataframes for each tank barge\n",
    "- Create dictionary of cargo fullness by ATB tank barge\n",
    "    - Group dataframes by AntID\n",
    "    - Estimate fullness per transfer based on cargo capacity information. NOTE: Assumption here is that ATBs fill at one location rather than, e.g., two separate locations\n",
    "    - (save transfer dates and tank barge names in each bin? )\n",
    "- Create a histogram of percent full for imports, exports and combined for each vessel\n",
    "- Add up the combined histograms across all vessels"
   ]
  },
  {
   "cell_type": "markdown",
   "id": "supreme-harris",
   "metadata": {},
   "source": [
    "#### Create dictionary `capacity` with tank barge and oil capacity as key:value pairs"
   ]
  },
  {
   "cell_type": "code",
   "execution_count": 3,
   "id": "rocky-warning",
   "metadata": {},
   "outputs": [],
   "source": [
    "atb_df = pandas.read_excel(\n",
    "    atb_capacity_xlsx,\n",
    "    sheet_name='Cargo Capacities', \n",
    "    usecols=\"A,H\"\n",
    "    )\n",
    "capacity = {}\n",
    "for idx,name in enumerate(atb_df['DOE name']):\n",
    "    capacity[name] = atb_df['95% or 96% Capacity (bbls)'][idx] * bbl2gal\n"
   ]
  },
  {
   "cell_type": "code",
   "execution_count": 4,
   "id": "western-portland",
   "metadata": {},
   "outputs": [
    {
     "data": {
      "text/plain": [
       "{'ATB BARGE ZIDELL MARINE 277': 3379068.0,\n",
       " 'ATB BARGE FIGHT FANCONI ANEMIA': 3517500.0,\n",
       " 'ATB BARGE DR. ROBERT J. BEALL': 3517500.0,\n",
       " 'ATB BARGE ONEDREAM': 3445218.0,\n",
       " 'ATB BARGE EDWARD ITTA': 3436650.0,\n",
       " 'ATB BARGE ALL ABOARD FOR A CURE': 3445470.0,\n",
       " 'ATB BARGE 550-2': 6689928.0,\n",
       " 'ATB BARGE 550-3': 6689928.0,\n",
       " 'ATB BARGE DBL 78': nan,\n",
       " 'ATB BARGE KIRBY 185-01': 7770000.0,\n",
       " 'ATB BARGE 650-7': 7628880.0,\n",
       " 'ATB BARGE 650-10': 7628880.0,\n",
       " 'ATB BARGE DBL 185': 7770000.0,\n",
       " 'ATB BARGE 650-2': 7628880.0,\n",
       " 'ATB TUG ISLAND MONARCH': nan,\n",
       " 'ITB SUPPLIER': nan,\n",
       " 'ITB VANCOUVER': 1056688.08,\n",
       " 'ITB ISLAND TRADER': 2881662.0}"
      ]
     },
     "execution_count": 4,
     "metadata": {},
     "output_type": "execute_result"
    }
   ],
   "source": [
    "capacity"
   ]
  },
  {
   "cell_type": "markdown",
   "id": "mathematical-fusion",
   "metadata": {},
   "source": [
    "#### Load DOE data "
   ]
  },
  {
   "cell_type": "code",
   "execution_count": 5,
   "id": "adapted-modern",
   "metadata": {},
   "outputs": [],
   "source": [
    "# load data\n",
    "[imports, exports]=get_DOE_atb(\n",
    "    DOE_2018_xlsx, \n",
    "    facilities_xlsx, \n",
    "    transfer_type = 'cargo', \n",
    "    facilities='selected'\n",
    ")\n",
    "imports.Deliverer = imports.Deliverer.replace('ATB BARGE DBL185','ATB BARGE DBL 185')\n",
    "exports.Receiver = exports.Receiver.replace('ATB BARGE DBL185','ATB BARGE DBL 185')"
   ]
  },
  {
   "cell_type": "code",
   "execution_count": 6,
   "id": "severe-champagne",
   "metadata": {},
   "outputs": [
    {
     "data": {
      "text/html": [
       "<div>\n",
       "<style scoped>\n",
       "    .dataframe tbody tr th:only-of-type {\n",
       "        vertical-align: middle;\n",
       "    }\n",
       "\n",
       "    .dataframe tbody tr th {\n",
       "        vertical-align: top;\n",
       "    }\n",
       "\n",
       "    .dataframe thead th {\n",
       "        text-align: right;\n",
       "    }\n",
       "</style>\n",
       "<table border=\"1\" class=\"dataframe\">\n",
       "  <thead>\n",
       "    <tr style=\"text-align: right;\">\n",
       "      <th></th>\n",
       "      <th>AntID</th>\n",
       "      <th>StartDateTime</th>\n",
       "      <th>Deliverer</th>\n",
       "      <th>Receiver</th>\n",
       "      <th>Product</th>\n",
       "      <th>TransferQtyInGallon</th>\n",
       "      <th>TransferType</th>\n",
       "      <th>DelivererTypeDescription</th>\n",
       "      <th>ReceiverTypeDescription</th>\n",
       "      <th>ImportRegion</th>\n",
       "      <th>ExportRegion</th>\n",
       "    </tr>\n",
       "  </thead>\n",
       "  <tbody>\n",
       "    <tr>\n",
       "      <th>5</th>\n",
       "      <td>173491</td>\n",
       "      <td>2018-01-01 07:00:00</td>\n",
       "      <td>ITB ISLAND TRADER</td>\n",
       "      <td>SeaPort Sound Terminal</td>\n",
       "      <td>GASOLINE</td>\n",
       "      <td>966000.0</td>\n",
       "      <td>Cargo</td>\n",
       "      <td>TANK BARGE</td>\n",
       "      <td>Facility</td>\n",
       "      <td>Puget Sound</td>\n",
       "      <td>not attributed</td>\n",
       "    </tr>\n",
       "  </tbody>\n",
       "</table>\n",
       "</div>"
      ],
      "text/plain": [
       "    AntID       StartDateTime          Deliverer                Receiver  \\\n",
       "5  173491 2018-01-01 07:00:00  ITB ISLAND TRADER  SeaPort Sound Terminal   \n",
       "\n",
       "    Product  TransferQtyInGallon TransferType DelivererTypeDescription  \\\n",
       "5  GASOLINE             966000.0        Cargo               TANK BARGE   \n",
       "\n",
       "  ReceiverTypeDescription ImportRegion    ExportRegion  \n",
       "5                Facility  Puget Sound  not attributed  "
      ]
     },
     "execution_count": 6,
     "metadata": {},
     "output_type": "execute_result"
    }
   ],
   "source": [
    "imports.head(1)"
   ]
  },
  {
   "cell_type": "markdown",
   "id": "heard-scheduling",
   "metadata": {},
   "source": [
    "#### Create an ordered list of ATB names sorted by highest to lowest number of transfers"
   ]
  },
  {
   "cell_type": "code",
   "execution_count": 7,
   "id": "variable-harvard",
   "metadata": {},
   "outputs": [],
   "source": [
    "# extract the important stuff\n",
    "imports_sm = imports[['AntID','Deliverer','TransferQtyInGallon']]\n",
    "exports_sm = exports[['AntID','Receiver','TransferQtyInGallon']]\n",
    "# define way to group dataframe\n",
    "aggregate_in = {\n",
    "    'AntID': 'first',\n",
    "    'Deliverer': 'first',\n",
    "    'TransferQtyInGallon': 'sum'\n",
    "}\n",
    "aggregate_out = {\n",
    "    'AntID': 'first', \n",
    "    'Receiver': 'first',\n",
    "    'TransferQtyInGallon': 'sum'\n",
    "}"
   ]
  },
  {
   "cell_type": "code",
   "execution_count": 8,
   "id": "convenient-following",
   "metadata": {},
   "outputs": [
    {
     "data": {
      "text/html": [
       "<div>\n",
       "<style scoped>\n",
       "    .dataframe tbody tr th:only-of-type {\n",
       "        vertical-align: middle;\n",
       "    }\n",
       "\n",
       "    .dataframe tbody tr th {\n",
       "        vertical-align: top;\n",
       "    }\n",
       "\n",
       "    .dataframe thead th {\n",
       "        text-align: right;\n",
       "    }\n",
       "</style>\n",
       "<table border=\"1\" class=\"dataframe\">\n",
       "  <thead>\n",
       "    <tr style=\"text-align: right;\">\n",
       "      <th></th>\n",
       "      <th>Name</th>\n",
       "      <th>Count</th>\n",
       "    </tr>\n",
       "  </thead>\n",
       "  <tbody>\n",
       "    <tr>\n",
       "      <th>6</th>\n",
       "      <td>ATB BARGE DBL 185</td>\n",
       "      <td>73.0</td>\n",
       "    </tr>\n",
       "    <tr>\n",
       "      <th>5</th>\n",
       "      <td>ATB BARGE ALL ABOARD FOR A CURE</td>\n",
       "      <td>70.0</td>\n",
       "    </tr>\n",
       "    <tr>\n",
       "      <th>0</th>\n",
       "      <td>ATB BARGE 550-2</td>\n",
       "      <td>62.0</td>\n",
       "    </tr>\n",
       "    <tr>\n",
       "      <th>12</th>\n",
       "      <td>ATB BARGE ONEDREAM</td>\n",
       "      <td>61.0</td>\n",
       "    </tr>\n",
       "    <tr>\n",
       "      <th>2</th>\n",
       "      <td>ATB BARGE 650-10</td>\n",
       "      <td>46.0</td>\n",
       "    </tr>\n",
       "    <tr>\n",
       "      <th>10</th>\n",
       "      <td>ATB BARGE FIGHT FANCONI ANEMIA</td>\n",
       "      <td>44.0</td>\n",
       "    </tr>\n",
       "    <tr>\n",
       "      <th>13</th>\n",
       "      <td>ATB BARGE ZIDELL MARINE 277</td>\n",
       "      <td>30.0</td>\n",
       "    </tr>\n",
       "    <tr>\n",
       "      <th>15</th>\n",
       "      <td>ITB ISLAND TRADER</td>\n",
       "      <td>27.0</td>\n",
       "    </tr>\n",
       "    <tr>\n",
       "      <th>11</th>\n",
       "      <td>ATB BARGE KIRBY 185-01</td>\n",
       "      <td>16.0</td>\n",
       "    </tr>\n",
       "    <tr>\n",
       "      <th>1</th>\n",
       "      <td>ATB BARGE 550-3</td>\n",
       "      <td>10.0</td>\n",
       "    </tr>\n",
       "    <tr>\n",
       "      <th>16</th>\n",
       "      <td>ITB SUPPLIER</td>\n",
       "      <td>9.0</td>\n",
       "    </tr>\n",
       "    <tr>\n",
       "      <th>4</th>\n",
       "      <td>ATB BARGE 650-7</td>\n",
       "      <td>8.0</td>\n",
       "    </tr>\n",
       "    <tr>\n",
       "      <th>8</th>\n",
       "      <td>ATB BARGE DR. ROBERT J. BEALL</td>\n",
       "      <td>7.0</td>\n",
       "    </tr>\n",
       "    <tr>\n",
       "      <th>14</th>\n",
       "      <td>ATB TUG ISLAND MONARCH</td>\n",
       "      <td>7.0</td>\n",
       "    </tr>\n",
       "    <tr>\n",
       "      <th>3</th>\n",
       "      <td>ATB BARGE 650-2</td>\n",
       "      <td>5.0</td>\n",
       "    </tr>\n",
       "    <tr>\n",
       "      <th>9</th>\n",
       "      <td>ATB BARGE EDWARD ITTA</td>\n",
       "      <td>4.0</td>\n",
       "    </tr>\n",
       "    <tr>\n",
       "      <th>17</th>\n",
       "      <td>ITB VANCOUVER</td>\n",
       "      <td>2.0</td>\n",
       "    </tr>\n",
       "    <tr>\n",
       "      <th>7</th>\n",
       "      <td>ATB BARGE DBL 78</td>\n",
       "      <td>1.0</td>\n",
       "    </tr>\n",
       "  </tbody>\n",
       "</table>\n",
       "</div>"
      ],
      "text/plain": [
       "                               Name  Count\n",
       "6                 ATB BARGE DBL 185   73.0\n",
       "5   ATB BARGE ALL ABOARD FOR A CURE   70.0\n",
       "0                   ATB BARGE 550-2   62.0\n",
       "12               ATB BARGE ONEDREAM   61.0\n",
       "2                  ATB BARGE 650-10   46.0\n",
       "10   ATB BARGE FIGHT FANCONI ANEMIA   44.0\n",
       "13      ATB BARGE ZIDELL MARINE 277   30.0\n",
       "15                ITB ISLAND TRADER   27.0\n",
       "11           ATB BARGE KIRBY 185-01   16.0\n",
       "1                   ATB BARGE 550-3   10.0\n",
       "16                     ITB SUPPLIER    9.0\n",
       "4                   ATB BARGE 650-7    8.0\n",
       "8     ATB BARGE DR. ROBERT J. BEALL    7.0\n",
       "14           ATB TUG ISLAND MONARCH    7.0\n",
       "3                   ATB BARGE 650-2    5.0\n",
       "9             ATB BARGE EDWARD ITTA    4.0\n",
       "17                    ITB VANCOUVER    2.0\n",
       "7                  ATB BARGE DBL 78    1.0"
      ]
     },
     "execution_count": 8,
     "metadata": {},
     "output_type": "execute_result"
    }
   ],
   "source": [
    "count_in = {}\n",
    "count_out = {}\n",
    "count = {}\n",
    "# count exports\n",
    "exports_sm_AndID = exports_sm.groupby(exports['AntID']).aggregate(aggregate_out)\n",
    "count_out =  exports_sm_AndID[['Receiver','TransferQtyInGallon']].groupby(\n",
    "    'Receiver').count().rename(columns={'TransferQtyInGallon':'Count'})\n",
    "count_out.index.name = 'Name'\n",
    "count_out.reset_index(inplace=True)\n",
    "# count imports\n",
    "imports_sm_AndID = imports_sm.groupby(imports['AntID']).aggregate(aggregate_in)\n",
    "count_in =  imports_sm_AndID[['Deliverer','TransferQtyInGallon']].groupby(\n",
    "    'Deliverer').count().rename(columns={'TransferQtyInGallon':'Count'})\n",
    "count_in.index.name = 'Name'\n",
    "count_in.reset_index(inplace=True)\n",
    "#create new df \n",
    "count = pandas.DataFrame(\n",
    "    {'Name':list(count_out['Name']) + list(set(count_in['Name']) - set(count_out['Name']))})\n",
    "count = pandas.merge(\n",
    "    left = count,\n",
    "    right = count_out,\n",
    "    how = 'left',\n",
    "    on = 'Name'\n",
    ").fillna(0)\n",
    "# Add import transfers to export transfers\n",
    "count = count.set_index('Name').add(count_in.set_index('Name'), fill_value=0).reset_index()\n",
    "# order list by total number of transfers\n",
    "count = count.sort_values(by='Count', ascending=False)\n",
    "count"
   ]
  },
  {
   "cell_type": "markdown",
   "id": "tight-motor",
   "metadata": {},
   "source": [
    "#### Create dictionary of cargo fullness by tank barge "
   ]
  },
  {
   "cell_type": "code",
   "execution_count": 9,
   "id": "phantom-rochester",
   "metadata": {},
   "outputs": [],
   "source": [
    "# extract the important stuff\n",
    "imports = imports[\n",
    "    ['AntID','StartDateTime','Deliverer','Receiver',\n",
    "     'Product','TransferQtyInGallon']\n",
    "]\n",
    "exports = exports[\n",
    "    ['AntID','StartDateTime','Deliverer','Receiver',\n",
    "     'Product','TransferQtyInGallon']\n",
    "]\n",
    "# define way to group dataframe\n",
    "aggregation_functions = {\n",
    "    'AntID': 'first', \n",
    "    'StartDateTime': 'first',\n",
    "    'Deliverer': 'first', \n",
    "    'Receiver': 'first',\n",
    "    'Product': lambda x: x.tolist(),\n",
    "    'TransferQtyInGallon': 'sum'\n",
    "}"
   ]
  },
  {
   "cell_type": "code",
   "execution_count": 10,
   "id": "terminal-twenty",
   "metadata": {},
   "outputs": [],
   "source": [
    "imports_fill = {}\n",
    "exports_fill = {}\n",
    "fullness = {}\n",
    "\n",
    "# first group by transfer ID (AntID) and add `TransferQtyInGallon` for each AntID\n",
    "imports_byAntID = imports.groupby(imports['AntID']).aggregate(aggregation_functions)\n",
    "exports_byAntID = exports.groupby(exports['AntID']).aggregate(aggregation_functions)\n",
    "\n",
    "# loop through ordered list of vessel names and create excel sheet with %fullness \n",
    "# values for each AntID, by vessel\n",
    "with pandas.ExcelWriter(atb_fullness_xlsx) as writer:\n",
    "    for idx,name in enumerate(count['Name']):\n",
    "        # ~~~ imports ~~~\n",
    "        imports_fill[name] = imports_byAntID.loc[\n",
    "            imports_byAntID['Deliverer']==name,\n",
    "            ['StartDateTime','TransferQtyInGallon','Receiver','Product']\n",
    "        ].rename(columns={'Receiver':'Facility'})\n",
    "        # divide total gallons transferred by cargo capacity to get fullness \n",
    "        imports_fill[name]['FillFraction'] = numpy.zeros(\n",
    "            len(imports_fill[name]['TransferQtyInGallon']))  \n",
    "        imports_fill[name]['FillFraction'] = numpy.asarray(\n",
    "            [x / capacity[name] \n",
    "             for x in imports_fill[name]['TransferQtyInGallon']]\n",
    "        )\n",
    "        imports_fill[name]['direction'] = 'import'\n",
    "        # ~~~ exports ~~~\n",
    "        exports_fill[name] = exports_byAntID.loc[\n",
    "            exports_byAntID['Receiver']==name,\n",
    "            ['StartDateTime','TransferQtyInGallon','Deliverer','Product']\n",
    "        ].rename(columns={'Deliverer':'Facility'})  \n",
    "        # divide total gallons transferred by cargo capacity to get fullness \n",
    "        exports_fill[name]['FillFraction'] = numpy.zeros(\n",
    "            len(exports_fill[name]['TransferQtyInGallon']))\n",
    "        exports_fill[name]['FillFraction'] = numpy.asarray([\n",
    "            x / capacity[name] \n",
    "            for x in exports_fill[name]['TransferQtyInGallon']\n",
    "        ])\n",
    "        exports_fill[name]['direction'] = 'export'\n",
    "\n",
    "        # ~~~ combine imports and exports ~~~\n",
    "        frames = [imports_fill[name], exports_fill[name]]\n",
    "        fullness[name] = pandas.concat(frames).reset_index()\n",
    "\n",
    "        # ~~~ save to excel with new tab for each ATB ~~~ \n",
    "        fullness[name].to_excel(writer, sheet_name=name)"
   ]
  },
  {
   "cell_type": "markdown",
   "id": "creative-layer",
   "metadata": {},
   "source": [
    "### Create a histogram of percent full for imports, exports and combined for each vessel"
   ]
  },
  {
   "cell_type": "code",
   "execution_count": 11,
   "id": "dynamic-capacity",
   "metadata": {},
   "outputs": [
    {
     "data": {
      "text/plain": [
       "'ATB BARGE 550-2'"
      ]
     },
     "execution_count": 11,
     "metadata": {},
     "output_type": "execute_result"
    }
   ],
   "source": [
    "count['Name'][0]"
   ]
  },
  {
   "cell_type": "code",
   "execution_count": 45,
   "id": "assumed-coordinator",
   "metadata": {},
   "outputs": [
    {
     "data": {
      "image/png": "[encoded data removed]",
      "text/plain": [
       "<Figure size 216x216 with 1 Axes>"
      ]
     },
     "metadata": {
      "needs_background": "light"
     },
     "output_type": "display_data"
    },
    {
     "data": {
      "image/png": "[encoded data removed]",
      "text/plain": [
       "<Figure size 216x216 with 1 Axes>"
      ]
     },
     "metadata": {
      "needs_background": "light"
     },
     "output_type": "display_data"
    },
    {
     "data": {
      "image/png": "[encoded data removed]",
      "text/plain": [
       "<Figure size 216x216 with 1 Axes>"
      ]
     },
     "metadata": {
      "needs_background": "light"
     },
     "output_type": "display_data"
    },
    {
     "data": {
      "image/png": "[encoded data removed]",
      "text/plain": [
       "<Figure size 216x216 with 1 Axes>"
      ]
     },
     "metadata": {
      "needs_background": "light"
     },
     "output_type": "display_data"
    },
    {
     "data": {
      "image/png": "[encoded data removed]",
      "text/plain": [
       "<Figure size 216x216 with 1 Axes>"
      ]
     },
     "metadata": {
      "needs_background": "light"
     },
     "output_type": "display_data"
    },
    {
     "data": {
      "image/png": "[encoded data removed]",
      "text/plain": [
       "<Figure size 216x216 with 1 Axes>"
      ]
     },
     "metadata": {
      "needs_background": "light"
     },
     "output_type": "display_data"
    },
    {
     "data": {
      "image/png": "[encoded data removed]",
      "text/plain": [
       "<Figure size 216x216 with 1 Axes>"
      ]
     },
     "metadata": {
      "needs_background": "light"
     },
     "output_type": "display_data"
    },
    {
     "data": {
      "image/png": "[encoded data removed]",
      "text/plain": [
       "<Figure size 216x216 with 1 Axes>"
      ]
     },
     "metadata": {
      "needs_background": "light"
     },
     "output_type": "display_data"
    },
    {
     "data": {
      "image/png": "[encoded data removed]",
      "text/plain": [
       "<Figure size 216x216 with 1 Axes>"
      ]
     },
     "metadata": {
      "needs_background": "light"
     },
     "output_type": "display_data"
    },
    {
     "data": {
      "image/png": "[encoded data removed]",
      "text/plain": [
       "<Figure size 216x216 with 1 Axes>"
      ]
     },
     "metadata": {
      "needs_background": "light"
     },
     "output_type": "display_data"
    },
    {
     "data": {
      "image/png": "[encoded data removed]",
      "text/plain": [
       "<Figure size 216x216 with 1 Axes>"
      ]
     },
     "metadata": {
      "needs_background": "light"
     },
     "output_type": "display_data"
    },
    {
     "data": {
      "image/png": "[encoded data removed]",
      "text/plain": [
       "<Figure size 216x216 with 1 Axes>"
      ]
     },
     "metadata": {
      "needs_background": "light"
     },
     "output_type": "display_data"
    },
    {
     "data": {
      "image/png": "[encoded data removed]",
      "text/plain": [
       "<Figure size 216x216 with 1 Axes>"
      ]
     },
     "metadata": {
      "needs_background": "light"
     },
     "output_type": "display_data"
    },
    {
     "data": {
      "image/png": "[encoded data removed]",
      "text/plain": [
       "<Figure size 216x216 with 1 Axes>"
      ]
     },
     "metadata": {
      "needs_background": "light"
     },
     "output_type": "display_data"
    },
    {
     "data": {
      "image/png": "[encoded data removed]",
      "text/plain": [
       "<Figure size 216x216 with 1 Axes>"
      ]
     },
     "metadata": {
      "needs_background": "light"
     },
     "output_type": "display_data"
    },
    {
     "data": {
      "image/png": "[encoded data removed]",
      "text/plain": [
       "<Figure size 216x216 with 1 Axes>"
      ]
     },
     "metadata": {
      "needs_background": "light"
     },
     "output_type": "display_data"
    },
    {
     "data": {
      "image/png": "[encoded data removed]",
      "text/plain": [
       "<Figure size 216x216 with 1 Axes>"
      ]
     },
     "metadata": {
      "needs_background": "light"
     },
     "output_type": "display_data"
    },
    {
     "data": {
      "image/png": "[encoded data removed]",
      "text/plain": [
       "<Figure size 216x216 with 1 Axes>"
      ]
     },
     "metadata": {
      "needs_background": "light"
     },
     "output_type": "display_data"
    }
   ],
   "source": [
    "nbins = 14\n",
    "max_full = 1.4\n",
    "bin_values = numpy.arange(0,max_full,max_full/nbins)\n",
    "binned_transfers = numpy.zeros(nbins-1)\n",
    "# select barge for testing\n",
    "#name = count['Name'][0]\n",
    "# n={}\n",
    "# bins={}\n",
    "# patches={}\n",
    "for idx,name in enumerate(count['Name']):\n",
    "    # the histogram of the data\n",
    "    fig, ax = plt.subplots(figsize = (3,3))\n",
    "    n, bins, patches = ax.hist(\n",
    "        fullness[name]['FillFraction'],\n",
    "        bins = bin_values)\n",
    "    ax.set_xlabel('Full fraction')\n",
    "    ax.set_ylabel('Number of transfers')\n",
    "    ax.set_ylim(0,30)\n",
    "    ax.set_title(f'{name}')\n",
    "    \n",
    "    # combine all transfers into one\n",
    "    binned_transfers = numpy.add(binned_transfers,n)"
   ]
  },
  {
   "cell_type": "markdown",
   "id": "desirable-mounting",
   "metadata": {},
   "source": [
    "### Add up and plot combined histograms across all vessels\n",
    "- add all transfers with fill values > 1.0 to 1.0.  "
   ]
  },
  {
   "cell_type": "code",
   "execution_count": 46,
   "id": "pregnant-principal",
   "metadata": {},
   "outputs": [
    {
     "data": {
      "text/plain": [
       "14"
      ]
     },
     "execution_count": 46,
     "metadata": {},
     "output_type": "execute_result"
    }
   ],
   "source": [
    "len(bins)"
   ]
  },
  {
   "cell_type": "code",
   "execution_count": 47,
   "id": "fifth-glory",
   "metadata": {},
   "outputs": [
    {
     "data": {
      "text/plain": [
       "array([0. , 0.1, 0.2, 0.3, 0.4, 0.5, 0.6, 0.7, 0.8, 0.9, 1. , 1.1, 1.2,\n",
       "       1.3])"
      ]
     },
     "execution_count": 47,
     "metadata": {},
     "output_type": "execute_result"
    }
   ],
   "source": [
    "bins"
   ]
  },
  {
   "cell_type": "code",
   "execution_count": 48,
   "id": "outer-stamp",
   "metadata": {},
   "outputs": [
    {
     "data": {
      "text/plain": [
       "array([ 32.,  40.,  39.,  33.,  46.,  47.,  47.,  24.,  41., 113.,   2.,\n",
       "         0.,   0.])"
      ]
     },
     "execution_count": 48,
     "metadata": {},
     "output_type": "execute_result"
    }
   ],
   "source": [
    "binned_transfers"
   ]
  },
  {
   "cell_type": "code",
   "execution_count": 49,
   "id": "defined-doubt",
   "metadata": {},
   "outputs": [
    {
     "data": {
      "text/plain": [
       "array([ 32.,  40.,  39.,  33.,  46.,  47.,  47.,  24.,  41., 115.])"
      ]
     },
     "execution_count": 49,
     "metadata": {},
     "output_type": "execute_result"
    }
   ],
   "source": [
    "binned_transfers[9] += binned_transfers[-3:].sum()\n",
    "binned_transfers = numpy.delete(binned_transfers,[10,11,12])\n",
    "binned_transfers"
   ]
  },
  {
   "cell_type": "code",
   "execution_count": 50,
   "id": "reliable-database",
   "metadata": {},
   "outputs": [
    {
     "data": {
      "text/plain": [
       "10"
      ]
     },
     "execution_count": 50,
     "metadata": {},
     "output_type": "execute_result"
    }
   ],
   "source": [
    "len(binned_transfers)"
   ]
  },
  {
   "cell_type": "code",
   "execution_count": 55,
   "id": "handled-forge",
   "metadata": {},
   "outputs": [],
   "source": [
    "# set bins to upper bound of range for fill capacity\n",
    "bins = numpy.arange(.1,1.1,.1)"
   ]
  },
  {
   "cell_type": "code",
   "execution_count": 57,
   "id": "private-sussex",
   "metadata": {},
   "outputs": [
    {
     "data": {
      "text/plain": [
       "10"
      ]
     },
     "execution_count": 57,
     "metadata": {},
     "output_type": "execute_result"
    }
   ],
   "source": [
    "len(bins)"
   ]
  },
  {
   "cell_type": "code",
   "execution_count": 58,
   "id": "greater-broadcast",
   "metadata": {},
   "outputs": [
    {
     "data": {
      "text/plain": [
       "Text(0.5, 0, 'Fullness fraction')"
      ]
     },
     "execution_count": 58,
     "metadata": {},
     "output_type": "execute_result"
    },
    {
     "data": {
      "image/png": "[encoded data removed]",
      "text/plain": [
       "<Figure size 216x216 with 1 Axes>"
      ]
     },
     "metadata": {
      "needs_background": "light"
     },
     "output_type": "display_data"
    }
   ],
   "source": [
    "#centered_bins=[(bins[i] + bins[i+1])/2 for i in numpy.arange(0,nbins-1)]\n",
    "fig, ax = plt.subplots(figsize = (3,3))\n",
    "ax.bar(bins, binned_transfers)\n",
    "ax.set_title('Histogram of transfers by fraction of fullness')\n",
    "ax.set_ylabel('Number of transfers')\n",
    "ax.set_xlabel('Fullness fraction')"
   ]
  },
  {
   "cell_type": "code",
   "execution_count": 59,
   "id": "dedicated-wireless",
   "metadata": {},
   "outputs": [
    {
     "data": {
      "text/plain": [
       "array([ 32.,  40.,  39.,  33.,  46.,  47.,  47.,  24.,  41., 115.])"
      ]
     },
     "execution_count": 59,
     "metadata": {},
     "output_type": "execute_result"
    }
   ],
   "source": [
    "binned_transfers"
   ]
  },
  {
   "cell_type": "code",
   "execution_count": 60,
   "id": "fixed-madonna",
   "metadata": {},
   "outputs": [
    {
     "data": {
      "text/plain": [
       "464.0"
      ]
     },
     "execution_count": 60,
     "metadata": {},
     "output_type": "execute_result"
    }
   ],
   "source": [
    "binned_transfers.sum()"
   ]
  },
  {
   "cell_type": "code",
   "execution_count": 64,
   "id": "surprising-glasgow",
   "metadata": {},
   "outputs": [],
   "source": [
    "fullness_weight = numpy.array([transfers/binned_transfers.sum() for transfers in binned_transfers])"
   ]
  },
  {
   "cell_type": "code",
   "execution_count": 65,
   "id": "representative-conservation",
   "metadata": {},
   "outputs": [
    {
     "data": {
      "text/plain": [
       "array([0.06896552, 0.0862069 , 0.08405172, 0.07112069, 0.09913793,\n",
       "       0.1012931 , 0.1012931 , 0.05172414, 0.08836207, 0.24784483])"
      ]
     },
     "execution_count": 65,
     "metadata": {},
     "output_type": "execute_result"
    }
   ],
   "source": [
    "fullness_weight"
   ]
  },
  {
   "cell_type": "code",
   "execution_count": 66,
   "id": "comparative-flood",
   "metadata": {},
   "outputs": [
    {
     "data": {
      "text/plain": [
       "1.0"
      ]
     },
     "execution_count": 66,
     "metadata": {},
     "output_type": "execute_result"
    }
   ],
   "source": [
    "fullness_weight.sum()"
   ]
  },
  {
   "cell_type": "markdown",
   "id": "initial-dublin",
   "metadata": {},
   "source": [
    "### Output to .yaml"
   ]
  },
  {
   "cell_type": "code",
   "execution_count": 73,
   "id": "honey-wilson",
   "metadata": {},
   "outputs": [],
   "source": [
    "fullness = {}\n",
    "fullness['weights'] = fullness_weight.tolist()\n",
    "fullness['fill_fraction'] = bins.tolist()"
   ]
  },
  {
   "cell_type": "code",
   "execution_count": 74,
   "id": "sized-vision",
   "metadata": {},
   "outputs": [
    {
     "data": {
      "text/plain": [
       "[0.1,\n",
       " 0.2,\n",
       " 0.30000000000000004,\n",
       " 0.4,\n",
       " 0.5,\n",
       " 0.6,\n",
       " 0.7000000000000001,\n",
       " 0.8,\n",
       " 0.9,\n",
       " 1.0]"
      ]
     },
     "execution_count": 74,
     "metadata": {},
     "output_type": "execute_result"
    }
   ],
   "source": [
    "fullness['fill_fraction']"
   ]
  },
  {
   "cell_type": "code",
   "execution_count": 76,
   "id": "hundred-exemption",
   "metadata": {},
   "outputs": [],
   "source": [
    "with open(yaml_out_dir/'fill_fraction.yaml', 'w') as file:\n",
    "    documents = yaml.safe_dump(fullness, file)"
   ]
  },
  {
   "cell_type": "code",
   "execution_count": null,
   "id": "committed-enzyme",
   "metadata": {},
   "outputs": [],
   "source": []
  }
 ],
 "metadata": {
  "kernelspec": {
   "display_name": "Python 3 (ipykernel)",
   "language": "python",
   "name": "python3"
  },
  "language_info": {
   "codemirror_mode": {
    "name": "ipython",
    "version": 3
   },
   "file_extension": ".py",
   "mimetype": "text/x-python",
   "name": "python",
   "nbconvert_exporter": "python",
   "pygments_lexer": "ipython3",
   "version": "3.9.7"
  }
 },
 "nbformat": 4,
 "nbformat_minor": 5
}
