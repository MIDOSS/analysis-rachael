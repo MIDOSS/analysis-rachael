{
 "cells": [
  {
   "cell_type": "markdown",
   "metadata": {},
   "source": [
    "## \"The mother ship\" \n",
    "This notebook organizes inpts and function calls for creating the monte carlo csv file"
   ]
  },
  {
   "cell_type": "markdown",
   "metadata": {},
   "source": [
    "##### Import functions neccessary for calling scripts"
   ]
  },
  {
   "cell_type": "code",
   "execution_count": 1,
   "metadata": {},
   "outputs": [
    {
     "ename": "SyntaxError",
     "evalue": "invalid syntax (monte_carlo_utils.py, line 39)",
     "output_type": "error",
     "traceback": [
      "Traceback \u001b[0;36m(most recent call last)\u001b[0m:\n",
      "  File \u001b[1;32m\"/Users/rmueller/anaconda3/envs/monte_carlo/lib/python3.8/site-packages/IPython/core/interactiveshell.py\"\u001b[0m, line \u001b[1;32m3343\u001b[0m, in \u001b[1;35mrun_code\u001b[0m\n    exec(code_obj, self.user_global_ns, self.user_ns)\n",
      "  File \u001b[1;32m\"<ipython-input-1-000c3501d9d5>\"\u001b[0m, line \u001b[1;32m8\u001b[0m, in \u001b[1;35m<module>\u001b[0m\n    from get_oil_capacity import get_oil_capacity\n",
      "\u001b[0;36m  File \u001b[0;32m\"/Users/rmueller/Projects/MIDOSS/analysis-rachael/notebooks/monte_carlo/get_oil_capacity.py\"\u001b[0;36m, line \u001b[0;32m2\u001b[0;36m, in \u001b[0;35m<module>\u001b[0;36m\u001b[0m\n\u001b[0;31m    from monte_carlo_utils import make_bins, get_bin, place_into_bins, clamp\u001b[0m\n",
      "\u001b[0;36m  File \u001b[0;32m\"/Users/rmueller/Projects/MIDOSS/analysis-rachael/notebooks/monte_carlo/monte_carlo_utils.py\"\u001b[0;36m, line \u001b[0;32m39\u001b[0m\n\u001b[0;31m    fraction_float = numpy.array(result_list)\u001b[0m\n\u001b[0m    ^\u001b[0m\n\u001b[0;31mSyntaxError\u001b[0m\u001b[0;31m:\u001b[0m invalid syntax\n"
     ]
    }
   ],
   "source": [
    "# I'm sure there is a better way of accessing functions \n",
    "# (perhaps just putting all in one file?); but this is what I have right now for \n",
    "# importing monte-carlo functions\n",
    "from get_date import get_date\n",
    "from get_lat_lon_indices import get_lat_lon_indices\n",
    "from get_vessel_type import get_vessel_type\n",
    "from get_vte_probability import get_vte_probability\n",
    "from get_oil_capacity import get_oil_capacity\n",
    "from get_length_origin_destination import get_length_origin_destination\n",
    "from get_oil_type_atb import get_oil_type_atb\n",
    "from get_oil_type_tanker import get_oil_type_tanker\n",
    "from get_oil_type_barge import get_oil_type_barge\n",
    "\n",
    "# import python functions needed for input variables \n",
    "import time\n",
    "import yaml\n",
    "import numpy\n",
    "import arrow\n",
    "import pathlib\n",
    "import os\n",
    "from datetime import datetime, date, timedelta\n",
    "\n",
    "\n",
    "# Give a path to the oil_attrs yaml file that contains all the information required \n",
    "# for case selection, including file paths to data files. \n",
    "\n",
    "oil_attribution_dir  = pathlib.Path(\n",
    "    '/Users/rmueller/Data/MIDOSS/marine_transport_data'\n",
    ")\n",
    "oil_attribution_file = oil_attribution_dir/'oil_attribution.yaml'\n",
    "\n",
    "with open(oil_attribution_file) as file:\n",
    "        oil_attrs = yaml.load(file, Loader=yaml.Loader)\n",
    "        \n",
    "all_vessels = oil_attrs['categories']['all_vessels']\n",
    "geotiff_directory = pathlib.Path(oil_attrs['directories']['geotiff'])\n",
    "\n",
    "random_seed=None\n",
    "# Initialize PCG-64 random number generator\n",
    "random_generator = numpy.random.default_rng(random_seed)"
   ]
  },
  {
   "cell_type": "markdown",
   "metadata": {},
   "source": [
    "##### These are the input variables needed to run the functions for the monte-carlo setup"
   ]
  },
  {
   "cell_type": "code",
   "execution_count": null,
   "metadata": {},
   "outputs": [],
   "source": [
    "# spill date\n",
    "start_date = datetime(2015, 1, 1, 0, 30)\n",
    "end_date   = datetime(2018, 12, 31, 23, 55)\n",
    "delta_time = timedelta(hours = 1)\n",
    "\n",
    "# spill location\n",
    "ais_data_year = 2018\n",
    "n_locations = 1  #desired number of latitude and longitude values\n",
    "upsample_factor = 1 # GeoTIFF lat/lon will be sampled at 1/upsample_factor [km] resolution\n"
   ]
  },
  {
   "cell_type": "markdown",
   "metadata": {},
   "source": [
    "##### Imports and definitions for testing scripts and validating output"
   ]
  },
  {
   "cell_type": "code",
   "execution_count": null,
   "metadata": {},
   "outputs": [],
   "source": [
    "# these aren't used or needed for function calls\n",
    "from rasterio.enums import Resampling\n",
    "import rasterio as rio"
   ]
  },
  {
   "cell_type": "markdown",
   "metadata": {},
   "source": [
    "#### Get the spill date"
   ]
  },
  {
   "cell_type": "code",
   "execution_count": null,
   "metadata": {},
   "outputs": [],
   "source": [
    "# get vessel traffic exposure probability by month\n",
    "vte_probability = get_vte_probability( geotiff_directory )\n",
    "\n",
    "spill_date = get_date( start_date, \n",
    "             end_date, \n",
    "             vte_probability,\n",
    "             delta_time\n",
    "            )\n",
    "spill_month = spill_date.month\n",
    "spill_month_name  = arrow.get(spill_date).format('MMMM') # string\n",
    "f'{spill_month:02.0f}'"
   ]
  },
  {
   "cell_type": "markdown",
   "metadata": {},
   "source": [
    "####  Get spill lat/lon value(s) as well as index values for extracting vessel time exposure values from GeoTIFFS"
   ]
  },
  {
   "cell_type": "code",
   "execution_count": null,
   "metadata": {},
   "outputs": [],
   "source": [
    "geotiff = geotiff_directory/f'all_2018_{spill_month:02.0f}.tif'\n",
    "\n",
    "\n",
    "[spill_lat, spill_lon, x_index, y_index, data_val] = get_lat_lon_indices(\n",
    "    geotiff_directory, spill_month, n_locations, upsample_factor\n",
    ")    "
   ]
  },
  {
   "cell_type": "code",
   "execution_count": null,
   "metadata": {},
   "outputs": [],
   "source": [
    "spill_lat"
   ]
  },
  {
   "cell_type": "code",
   "execution_count": null,
   "metadata": {},
   "outputs": [],
   "source": [
    "spill_lon"
   ]
  },
  {
   "cell_type": "code",
   "execution_count": null,
   "metadata": {},
   "outputs": [],
   "source": [
    "x_index"
   ]
  },
  {
   "cell_type": "code",
   "execution_count": null,
   "metadata": {},
   "outputs": [],
   "source": [
    "y_index"
   ]
  },
  {
   "cell_type": "code",
   "execution_count": null,
   "metadata": {},
   "outputs": [],
   "source": [
    "data_val"
   ]
  },
  {
   "cell_type": "code",
   "execution_count": null,
   "metadata": {},
   "outputs": [],
   "source": [
    "# load geotiff and access \"data_val\" with [x_index, y_index] to verify that the output is equivalent\n",
    "\n",
    "traffic_reader = rio.open(\n",
    "    geotiff_directory/f'all_2018_{spill_month:02.0f}.tif'\n",
    ")\n",
    "\n",
    "# dataset closes automatically using the method below\n",
    "\n",
    "with traffic_reader as dataset:\n",
    "    # resample data to target shape\n",
    "    data = dataset.read(1,\n",
    "        out_shape=(\n",
    "            dataset.count,\n",
    "            int(dataset.height * upsample_factor),\n",
    "            int(dataset.width * upsample_factor)\n",
    "        ),\n",
    "        resampling=Resampling.bilinear\n",
    "    )\n",
    "\n",
    "    # scale image transform\n",
    "    transform = dataset.transform * dataset.transform.scale(\n",
    "        (dataset.width / data.shape[-1]),\n",
    "        (dataset.height / data.shape[-2])\n",
    "    )\n",
    "\n",
    "print(f'compare output data_val = {data_val} hours/km^2 with {data[x_index,y_index]} hours/km^2')    "
   ]
  },
  {
   "cell_type": "markdown",
   "metadata": {},
   "source": [
    "####  Get vessel type "
   ]
  },
  {
   "cell_type": "code",
   "execution_count": null,
   "metadata": {},
   "outputs": [],
   "source": [
    "vessel_type = get_vessel_type(geotiff_directory, \n",
    "                              all_vessels, \n",
    "                              ais_data_year, \n",
    "                              n_locations, \n",
    "                              spill_month,  # from get_date\n",
    "                              x_index,      # from get_lat_lon_indices\n",
    "                              y_index       # from get_lat_lon_indices\n",
    "                              )"
   ]
  },
  {
   "cell_type": "markdown",
   "metadata": {},
   "source": [
    "#### get length origin destination\n",
    "The shapefiles for this piece aren't yet done, so we need to use january and cargo"
   ]
  },
  {
   "cell_type": "code",
   "execution_count": null,
   "metadata": {},
   "outputs": [],
   "source": [
    "vessel_test = 'cargo'\n",
    "month = '01'\n",
    "spill_lon = -124.9243\n",
    "spill_lat = 50.18442\n",
    "search_radius = 0.5 #km\n",
    "# change to pathlib?\n",
    "shapefile_directory  = f'/Users/rmueller/Data/MIDOSS/{vessel_test}_2018_{month}/'\n",
    "tic = time.time()\n",
    "[vessel_length, origin, destination] = get_length_origin_destination( \n",
    "    shapefile_directory, \n",
    "    vessel_test, \n",
    "    month, \n",
    "    spill_lat, \n",
    "    spill_lon, \n",
    "    search_radius \n",
    ")\n",
    "toc = time.time()-tic"
   ]
  },
  {
   "cell_type": "code",
   "execution_count": null,
   "metadata": {},
   "outputs": [],
   "source": [
    "toc"
   ]
  },
  {
   "cell_type": "code",
   "execution_count": null,
   "metadata": {},
   "outputs": [],
   "source": [
    "from salishsea_tools import geo_tools"
   ]
  },
  {
   "cell_type": "markdown",
   "metadata": {},
   "source": [
    "#### Determine whether spill is fuel or cargo and then determine fuel type\n",
    "Note: I approach this by first determining if spill is fuel or cargo and then determining the type of fuel if it's cargo.  The caveat here is that some of the barge traffic will be determined to be fuel-spill risk only.  For the barge case only, I have set up two return variables for the get_oil_type script.  One variable is \"fuel_flag\".  If fuel_flag == 1 then the spill is a fuel_spill.  \n",
    "\n",
    "The scripts for getting oil cargo type are called as follows:\n",
    "\n",
    "- oil_type = get_oil_type_tanker(\n",
    "                    oil_attribution_dir, \n",
    "                    oil_attribution_file, \n",
    "                    origin, \n",
    "                    destination,\n",
    "                    random_generator\n",
    "                )\n",
    "\n",
    "- oil_type = get_oil_type_atb(\n",
    "                    oil_attribution_dir, \n",
    "                    oil_attribution_file, \n",
    "                    origin, \n",
    "                    destination,\n",
    "                    random_generator\n",
    "                )\n",
    "\n",
    "- [oil_type, fuel_flag] = get_oil_type_barge(\n",
    "                    oil_attribution_dir, \n",
    "                    oil_attribution_file, \n",
    "                    origin, \n",
    "                    destination,\n",
    "                    random_generator\n",
    "                )\n"
   ]
  },
  {
   "cell_type": "code",
   "execution_count": null,
   "metadata": {},
   "outputs": [],
   "source": [
    "fuel_file   = oil_attrs['files']['fuel']\n",
    "\n",
    "with open(fuel_file) as file:\n",
    "        fuel = yaml.load(file, Loader=yaml.Loader)\n",
    "\n",
    "# These values don't take into consideration new insights w.r.t. tanker values\n",
    "# Need to review choices\n",
    "fuel"
   ]
  },
  {
   "cell_type": "code",
   "execution_count": null,
   "metadata": {},
   "outputs": [],
   "source": [
    "# import importlib\n",
    "# importlib.reload(get_oil_type_atb)\n",
    "# importlib.reload(get_oil_type_barge)\n",
    "\n",
    "tank_vessels = oil_attrs['categories']['tank_vessels']\n",
    "\n",
    "# the for-loop is just to test that all vessels work.  \n",
    "# The if-statement is to use for monte_carlo code\n",
    "for vessel in all_vessels: \n",
    "\n",
    "    if vessel in tank_vessels:\n",
    "\n",
    "        # \n",
    "        # fuel-spill or cargo-spill?\n",
    "        probability = [\n",
    "            oil_attrs['vessel_attributes'][vessel]['probability_cargo'],\n",
    "            oil_attrs['vessel_attributes'][vessel]['probability_fuel']\n",
    "        ]\n",
    "\n",
    "        fuel_flag = random_generator.choice(\n",
    "                        [0, 1], \n",
    "                        p = probability)\n",
    "\n",
    "        if not fuel_flag:\n",
    "            if vessel == 'atb':\n",
    "                cargo_oil_type = get_oil_type_atb(\n",
    "                    oil_attribution_file, \n",
    "                    origin, \n",
    "                    destination,\n",
    "                    random_generator\n",
    "                )\n",
    "            elif vessel == 'barge':\n",
    "                [cargo_oil_type, fuel_flag] = get_oil_type_barge( \n",
    "                    oil_attribution_file, \n",
    "                    origin, \n",
    "                    destination,\n",
    "                    random_generator\n",
    "                )\n",
    "            elif vessel == 'tanker':\n",
    "                cargo_oil_type = get_oil_type_tanker(\n",
    "                    oil_attribution_file, \n",
    "                    origin, \n",
    "                    destination,\n",
    "                    random_generator\n",
    "                )\n",
    "        # The indentation here is to catch the cases that are originally \n",
    "        # determined as fuel spills as well as cargo spills converted to fuel-spills         \n",
    "        if fuel_flag:\n",
    "            fuel_oil_type = random_generator.choice(\n",
    "                        ['bunker', 'diesel'], \n",
    "                        p = [\n",
    "                            fuel[vessel]['bunker'], \n",
    "                            fuel[vessel]['diesel']\n",
    "                        ]\n",
    "            )\n",
    "\n",
    "    # fuel-type for non-tank traffic\n",
    "    else:\n",
    "        fuel_oil_type = random_generator.choice(\n",
    "                        ['bunker', 'diesel'], \n",
    "                        p = [\n",
    "                            fuel[vessel]['bunker'], \n",
    "                            fuel[vessel]['diesel']\n",
    "                        ]\n",
    "            )"
   ]
  },
  {
   "cell_type": "code",
   "execution_count": null,
   "metadata": {},
   "outputs": [],
   "source": [
    "vessel_type"
   ]
  },
  {
   "cell_type": "code",
   "execution_count": null,
   "metadata": {},
   "outputs": [],
   "source": [
    "# Now to get the value for selected vessel type to informat the parts of the code to follow\n",
    "\n",
    "if vessel_type in tank_vessels:\n",
    "\n",
    "    # \n",
    "    # fuel-spill or cargo-spill?\n",
    "    probability = [\n",
    "        oil_attrs['vessel_attributes'][vessel_type]['probability_cargo'],\n",
    "        oil_attrs['vessel_attributes'][vessel_type]['probability_fuel']\n",
    "    ]\n",
    "\n",
    "    fuel_flag = random_generator.choice(\n",
    "                    [0, 1], \n",
    "                    p = probability)\n",
    "\n",
    "    if not fuel_flag:\n",
    "        if vessel_type == 'atb':\n",
    "            cargo_oil_type = get_oil_type_atb(\n",
    "                oil_attribution_file, \n",
    "                origin, \n",
    "                destination,\n",
    "                random_generator\n",
    "            )\n",
    "        elif vessel_type == 'barge':\n",
    "            [cargo_oil_type, fuel_flag] = get_oil_type_barge( \n",
    "                oil_attribution_file, \n",
    "                origin, \n",
    "                destination,\n",
    "                random_generator\n",
    "            )\n",
    "        elif vessel_type == 'tanker':\n",
    "            cargo_oil_type = get_oil_type_tanker(\n",
    "                oil_attribution_file, \n",
    "                origin, \n",
    "                destination,\n",
    "                random_generator\n",
    "            )\n",
    "    # The indentation here is to catch the cases that are originally \n",
    "    # determined as fuel spills as well as cargo spills converted to fuel-spills         \n",
    "    if fuel_flag:\n",
    "        fuel_oil_type = random_generator.choice(\n",
    "                    ['bunker', 'diesel'], \n",
    "                    p = [\n",
    "                        fuel[vessel_type]['bunker'], \n",
    "                        fuel[vessel_type]['diesel']\n",
    "                    ]\n",
    "        )\n",
    "\n",
    "# fuel-type for non-tank traffic\n",
    "else:\n",
    "    fuel_oil_type = random_generator.choice(\n",
    "                    ['bunker', 'diesel'], \n",
    "                    p = [\n",
    "                        fuel[vessel_type]['bunker'], \n",
    "                        fuel[vessel_type]['diesel']\n",
    "                    ]\n",
    "        )"
   ]
  },
  {
   "cell_type": "markdown",
   "metadata": {},
   "source": [
    "### Calculate spill volume"
   ]
  },
  {
   "cell_type": "code",
   "execution_count": null,
   "metadata": {},
   "outputs": [],
   "source": [
    "[fuel_capacity, cargo_capacity] = get_oil_capacity(\n",
    "    oil_attribution_file,\n",
    "    vessel_length, \n",
    "    vessel_type,\n",
    "    random_generator\n",
    ")\n",
    "\n",
    "if fuel_flag: \n",
    "    oil_type = fuel_oil_type\n",
    "    oil_capacity = fuel_capacity\n",
    "else:\n",
    "    oil_type = cargo_oil_type\n",
    "    oil_capacity = cargo_capacity\n"
   ]
  },
  {
   "cell_type": "code",
   "execution_count": null,
   "metadata": {},
   "outputs": [],
   "source": [
    "# test all vessel types\n",
    "for vessel in all_vessels:\n",
    "    [fuel_capacity, cargo_capacity] = get_oil_capacity(\n",
    "    oil_attribution_file,\n",
    "    vessel_length, \n",
    "    vessel,\n",
    "    random_generator\n",
    "    )\n",
    "    print(fuel_capacity, cargo_capacity)"
   ]
  },
  {
   "cell_type": "markdown",
   "metadata": {},
   "source": [
    "### Apply Susan's probability function to oil_capacity to get spill volume"
   ]
  },
  {
   "cell_type": "raw",
   "metadata": {},
   "source": []
  }
 ],
 "metadata": {
  "kernelspec": {
   "display_name": "Python 3",
   "language": "python",
   "name": "python3"
  },
  "language_info": {
   "codemirror_mode": {
    "name": "ipython",
    "version": 3
   },
   "file_extension": ".py",
   "mimetype": "text/x-python",
   "name": "python",
   "nbconvert_exporter": "python",
   "pygments_lexer": "ipython3",
   "version": "3.8.4"
  }
 },
 "nbformat": 4,
 "nbformat_minor": 4
}
