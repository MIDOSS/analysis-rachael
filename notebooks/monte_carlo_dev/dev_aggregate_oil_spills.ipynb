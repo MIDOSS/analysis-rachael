{
 "cells": [
  {
   "cell_type": "code",
   "execution_count": 1,
   "id": "b6a71b32-6895-4c01-af1c-3c9d60ac52ee",
   "metadata": {},
   "outputs": [],
   "source": [
    "import os\n",
    "import pathlib\n",
    "import yaml\n",
    "import numpy\n",
    "import pandas\n",
    "import xarray\n",
    "import h5netcdf\n",
    "from datetime import datetime\n",
    "from glob import glob\n",
    "import time\n",
    "from matplotlib import pyplot as plt, cm, colors, ticker\n",
    "#import cartopy.cls\n",
    "import matplotlib as mpl\n",
    "mpl.rc('font', size=12)\n",
    "mpl.rc('xtick', labelsize=12)\n",
    "mpl.rc('ytick', labelsize=12)\n",
    "mpl.rc('legend', fontsize=12)\n",
    "mpl.rc('axes', titlesize=16)\n",
    "mpl.rc('axes', labelsize=12)\n",
    "mpl.rc('figure', titlesize=16)\n",
    "mpl.rc('text', usetex=False)\n",
    "mpl.rc('font', family='sans-serif', weight='normal', style='normal')"
   ]
  },
  {
   "cell_type": "code",
   "execution_count": 2,
   "id": "cc138dfc-63bb-40bc-8d14-1ca011537a43",
   "metadata": {},
   "outputs": [
    {
     "data": {
      "text/plain": [
       "['SurfaceConcentration_SumSum',\n",
       " 'SurfaceConcentration_SumSum_ln',\n",
       " 'SurfacePresence',\n",
       " 'SurfacePresence_24h',\n",
       " 'SurfacePresence_24h_to_72h',\n",
       " 'SurfacePresence_72h_to_168h',\n",
       " 'SurfaceVolume_MaxSum',\n",
       " 'SurfaceVolume_MaxSum_ln',\n",
       " 'SurfaceVolume_SumSum',\n",
       " 'SurfaceVolume_SumSum_24h',\n",
       " 'SurfaceVolume_SumSum_24h_ln',\n",
       " 'SurfaceVolume_SumSum_24h_to_72h',\n",
       " 'SurfaceVolume_SumSum_24h_to_72h_ln',\n",
       " 'SurfaceVolume_SumSum_72h_to_168h',\n",
       " 'SurfaceVolume_SumSum_72h_to_168h_ln',\n",
       " 'SurfaceVolume_SumSum_ln']"
      ]
     },
     "execution_count": 2,
     "metadata": {},
     "output_type": "execute_result"
    }
   ],
   "source": [
    "sfc = xarray.open_dataset('/scratch/rmueller/MIDOSS/Results/testDec03/surface_bunker_0-500.nc')\n",
    "[*sfc]"
   ]
  },
  {
   "cell_type": "code",
   "execution_count": 3,
   "id": "9d24e9aa-5801-460d-aec5-9c83e2fd23e0",
   "metadata": {},
   "outputs": [],
   "source": [
    "mohid_out = xarray.open_dataset('/scratch/rmueller/MIDOSS/Results/testDec03/mohid_bunker_0-500.nc')"
   ]
  },
  {
   "cell_type": "code",
   "execution_count": 4,
   "id": "09579631-de04-46a2-ad25-bf4aa63bfb9a",
   "metadata": {},
   "outputs": [
    {
     "data": {
      "text/plain": [
       "['BeachPresence',\n",
       " 'BeachPresence_24h',\n",
       " 'BeachPresence_24h_to_72h',\n",
       " 'BeachPresence_72h_to_168h',\n",
       " 'BeachTime',\n",
       " 'BeachVolume',\n",
       " 'SurfaceConcentrationSum',\n",
       " 'SurfacePresence',\n",
       " 'SurfacePresence_24h',\n",
       " 'SurfacePresence_24h_to_72h',\n",
       " 'SurfacePresence_72h_to_168h',\n",
       " 'SurfaceVolumeMax',\n",
       " 'SurfaceVolumeSum',\n",
       " 'SurfaceVolumeSum_24h',\n",
       " 'SurfaceVolumeSum_24h_to_72h',\n",
       " 'SurfaceVolumeSum_72h_to_168h']"
      ]
     },
     "execution_count": 4,
     "metadata": {},
     "output_type": "execute_result"
    }
   ],
   "source": [
    "[*mohid_out]"
   ]
  },
  {
   "cell_type": "code",
   "execution_count": 5,
   "id": "b6549e06-fe7b-4350-b640-deab6e601375",
   "metadata": {},
   "outputs": [
    {
     "name": "stdout",
     "output_type": "stream",
     "text": [
      "<xarray.DataArray 'SurfaceVolumeSum' ()>\n",
      "array(0.) <xarray.DataArray 'SurfaceVolumeSum' ()>\n",
      "array(9795.4453)\n"
     ]
    }
   ],
   "source": [
    "print(mohid_out.SurfaceVolumeSum.min(), mohid_out.SurfaceVolumeSum.max())"
   ]
  },
  {
   "cell_type": "code",
   "execution_count": 6,
   "id": "59eb4178-3466-4506-b7e1-c64eb685a618",
   "metadata": {},
   "outputs": [
    {
     "data": {
      "text/plain": [
       "(500, 896, 396)"
      ]
     },
     "execution_count": 6,
     "metadata": {},
     "output_type": "execute_result"
    }
   ],
   "source": [
    "mohid_out.SurfaceVolumeSum.shape"
   ]
  },
  {
   "cell_type": "markdown",
   "id": "ec43a06a-e5c6-4fd5-a453-bd979a5dad23",
   "metadata": {},
   "source": [
    "## Calculate actual median for comparison (not yet working)"
   ]
  },
  {
   "cell_type": "markdown",
   "id": "e44697a2-8c6e-4fd4-8558-9007123915f6",
   "metadata": {},
   "source": [
    "#### Create presence map to use to identify grid locations for calculating median"
   ]
  },
  {
   "cell_type": "code",
   "execution_count": 7,
   "id": "1d24a647-4123-4b52-99e9-72b11c905631",
   "metadata": {},
   "outputs": [
    {
     "data": {
      "text/plain": [
       "(500, 896, 396)"
      ]
     },
     "execution_count": 7,
     "metadata": {},
     "output_type": "execute_result"
    }
   ],
   "source": [
    "presence3d = numpy.asarray(mohid_out.SurfacePresence)\n",
    "presence3d.shape"
   ]
  },
  {
   "cell_type": "code",
   "execution_count": 8,
   "id": "2705e3f1-5daf-4667-ae88-c025f8c50be5",
   "metadata": {},
   "outputs": [],
   "source": [
    "presence=numpy.sum(presence3d,axis=0)\n",
    "maxsum = numpy.max(mohid_out.SurfaceVolumeSum,axis=0)"
   ]
  },
  {
   "cell_type": "markdown",
   "id": "4f334c9c-dc82-42cb-b426-e875fcc8452d",
   "metadata": {},
   "source": [
    "#### Set zero to NaN so median is only across runs where oil is present\n",
    "This requires a lot of memory, so I have it commented out for now"
   ]
  },
  {
   "cell_type": "code",
   "execution_count": 9,
   "id": "1e7ced21-3773-4f07-be65-adba9f43c4f0",
   "metadata": {},
   "outputs": [],
   "source": [
    "# # to compare with straight up mean and median values across all runs \n",
    "# sfcVol3d = numpy.zeros((500, 896, 396),dtype=float)\n",
    "# for idx in numpy.arange(500):\n",
    "#     SfcVol2d = mohid_out.SurfaceVolumeSum[idx,:,:]\n",
    "#     SfcVol2d = SfcVol2d.where(SfcVol2d<3e-3,numpy.nan)\n",
    "#     sfcVol3d[idx,:,:]=SfcVol2d"
   ]
  },
  {
   "cell_type": "code",
   "execution_count": 10,
   "id": "17204529-39ed-4ce9-ba68-a267a8f518c1",
   "metadata": {},
   "outputs": [],
   "source": [
    "# SfcVol_median = numpy.nanmedian(sfcVol3d, axis=0)\n",
    "# SfcVol_max = numpy.max(mohid_out.SurfaceVolumeSum)\n",
    "# numpy.nanmedian(SfcVol_median)"
   ]
  },
  {
   "cell_type": "markdown",
   "id": "962d6643-67da-4313-b4ca-c2f94e964748",
   "metadata": {},
   "source": [
    "## Develop method to create a histogram at each location where presence == True "
   ]
  },
  {
   "cell_type": "code",
   "execution_count": 11,
   "id": "526607e8-dbf3-470e-8bb6-5390e819d0b7",
   "metadata": {},
   "outputs": [
    {
     "name": "stdout",
     "output_type": "stream",
     "text": [
      "[321 326] [284 293]\n"
     ]
    }
   ],
   "source": [
    "imax,jmax = numpy.where(presence==presence.max())\n",
    "print(imax,jmax)"
   ]
  },
  {
   "cell_type": "code",
   "execution_count": 12,
   "id": "dafb29c7-3793-4634-a6d5-b252b8c6a7c8",
   "metadata": {},
   "outputs": [],
   "source": [
    "# This requires a lot of memory and time.  Commenting for now. \n",
    "# # create an array to store histogram values\n",
    "# [nt,ny,nx] = mohid_out.SurfaceVolumeSum.shape\n",
    "# #bins = numpy.arange(3e-3,3000,100)\n",
    "# bins = [3e-3, 100, 200, 300, 400, 500, 1000,1500,2000,3000,4000,5000,10000]\n",
    "# # histogram count for each spill\n",
    "# n = numpy.zeros((ny,nx,len(bins)-1),dtype=float)\n",
    "# # sum of count over all spills\n",
    "# n_all = numpy.zeros((ny,nx,len(bins)-1),dtype=float)\n",
    "\n",
    "# ## Plot each histogram where presence > 0 \n",
    "# fig, axs = plt.subplots(1, 1, figsize=(8, 4), gridspec_kw={'wspace': 0.25, 'hspace': 0.1})\n",
    "# ii,jj = numpy.where(presence==presence.max())#numpy.where(presence)\n",
    "# for idx in numpy.arange(len(ii)):\n",
    "#     n[ii[idx],jj[idx],:],bins,patches=mohid_out.SurfaceVolumeSum[:,ii[idx],jj[idx]].plot.hist(ax=axs,log=True, bins=bins,alpha=0.5, color='green')\n",
    "#     n_all += n[ii[idx],jj[idx],:]\n",
    "# axs.set_title('individual spills')\n",
    "# axs.set_ylim(7e-1, 5e5)"
   ]
  },
  {
   "cell_type": "code",
   "execution_count": 13,
   "id": "111595e3-96b8-45c6-9d74-4e81e89575db",
   "metadata": {},
   "outputs": [
    {
     "data": {
      "image/png": "[encoded data removed]",
      "text/plain": [
       "<Figure size 432x432 with 1 Axes>"
      ]
     },
     "metadata": {
      "needs_background": "light"
     },
     "output_type": "display_data"
    }
   ],
   "source": [
    "fig, axs = plt.subplots(1, 1, figsize=(6, 6), \n",
    "    gridspec_kw={'wspace': 0.25, 'hspace': 0.1})\n",
    "axs = plt.pcolormesh(presence)\n",
    "# fig, axs = plt.subplots(1, 1, figsize=(6, 6), \n",
    "#     gridspec_kw={'wspace': 0.25, 'hspace': 0.1})\n",
    "# axs = plt.pcolormesh(maxsum,log=True)"
   ]
  },
  {
   "cell_type": "code",
   "execution_count": 14,
   "id": "7aaff3f7-847d-4f4a-99b9-600d35b935fe",
   "metadata": {},
   "outputs": [
    {
     "data": {
      "image/png": "[encoded data removed]",
      "text/plain": [
       "<Figure size 432x288 with 1 Axes>"
      ]
     },
     "metadata": {
      "needs_background": "light"
     },
     "output_type": "display_data"
    }
   ],
   "source": [
    "bins = numpy.arange(3e-3,500,10)\n",
    "axs=mohid_out.SurfaceVolumeSum.isel(grid_y=321,grid_x=284).plot.hist(bins=bins)\n",
    "#for idx in numpy.arange(len(ii)):"
   ]
  },
  {
   "cell_type": "code",
   "execution_count": 15,
   "id": "40fc37b1-754b-4241-b953-495e8503429b",
   "metadata": {},
   "outputs": [],
   "source": [
    "# example from Elise (via Karyn)\n",
    "# micZ1905=hc1905.microzooplankton.sel(time=slice(start,end)).isel(depth=ik,gridY=ij,gridX=ii)\n",
    "# diat1905=hc1905.diatoms.sel(time=slice(start,end)).isel(depth=ik,gridY=ij,gridX=ii)"
   ]
  },
  {
   "cell_type": "markdown",
   "id": "284fdc4f-ea47-4c0d-9172-c57e52e36535",
   "metadata": {},
   "source": [
    "### load runlist used to create aggregated files "
   ]
  },
  {
   "cell_type": "code",
   "execution_count": 16,
   "id": "2b9fa65d-e702-4bb7-bfc0-00f6859707d3",
   "metadata": {},
   "outputs": [],
   "source": [
    "yaml_file=pathlib.Path(\n",
    "     '/scratch/rmueller/MIDOSS/Results',\n",
    "     'MOHID_results_locations_27112021_12:05:17.yaml')\n",
    "with yaml_file.open(\"rt\") as f:\n",
    "    run_paths = yaml.safe_load(f) "
   ]
  },
  {
   "cell_type": "markdown",
   "id": "776070cd-afc4-4dc5-afa2-5650c205e21d",
   "metadata": {},
   "source": [
    "### Get spill volumes and sort spills to get 5 largest spills by oil type"
   ]
  },
  {
   "cell_type": "code",
   "execution_count": 17,
   "id": "8cf0781f-c4dd-45a0-85c9-7c66b677c0fd",
   "metadata": {},
   "outputs": [],
   "source": [
    "First100 = {}\n",
    "for oil in ['diesel','bunker']:\n",
    "    First100[oil] = run_paths[oil][0:100]"
   ]
  },
  {
   "cell_type": "code",
   "execution_count": 18,
   "id": "19823ee8-7efd-4a93-970f-10ee8fca5ff6",
   "metadata": {},
   "outputs": [],
   "source": [
    "big5_spills={}\n",
    "for oil in ['diesel','bunker']:\n",
    "    volume = {}\n",
    "    volume[oil]={}\n",
    "    volume[oil]['volume']=[]\n",
    "    for idx,ncfile in enumerate(First100[oil]):\n",
    "        directory = \"/\".join(ncfile.split(\"/\")[:-1]) \n",
    "        oil_tag = First100[oil][idx].split('_')[-3]\n",
    "        # Open the Lagrangian file used for spill\n",
    "        Lagrangian_file = directory+'/Lagrangian_'+oil_tag+'.dat'\n",
    "        with open(Lagrangian_file, 'r') as f:\n",
    "            for line in f:\n",
    "                if 'POINT_VOLUME              :' in line: \n",
    "                    # select spill volume quantity after ':'\n",
    "                    spillvolume = line.split(':')[-1].split('\\n')[0]\n",
    "                    # convert to float for \"sort_values\" to work properly\n",
    "                    volume[oil]['volume'].append(float(spillvolume)) \n",
    "        big5_spills[oil] = pandas.DataFrame.from_dict(\n",
    "            volume[oil]).sort_values('volume',ascending=False)[0:5]"
   ]
  },
  {
   "cell_type": "code",
   "execution_count": 19,
   "id": "b7769e48-9404-4220-be04-1d6973c5a7e2",
   "metadata": {},
   "outputs": [
    {
     "data": {
      "text/plain": [
       "{'diesel':          volume\n",
       " 30  4953.009484\n",
       " 12   649.588420\n",
       " 93   296.522276\n",
       " 67   210.232635\n",
       " 72   202.045269,\n",
       " 'bunker':          volume\n",
       " 77  3803.779393\n",
       " 76  2256.047464\n",
       " 81  1955.231907\n",
       " 6   1490.015153\n",
       " 45   683.092967}"
      ]
     },
     "execution_count": 19,
     "metadata": {},
     "output_type": "execute_result"
    }
   ],
   "source": [
    "big5_spills"
   ]
  },
  {
   "cell_type": "code",
   "execution_count": 20,
   "id": "fc78f714-8e6f-4f47-9bba-5f82d2f5d041",
   "metadata": {},
   "outputs": [
    {
     "name": "stdout",
     "output_type": "stream",
     "text": [
      "CPU times: user 1.33 s, sys: 60.8 ms, total: 1.39 s\n",
      "Wall time: 1.43 s\n"
     ]
    }
   ],
   "source": [
    "%%time\n",
    "## Generate \"TopSpills_df.csv\"\n",
    "## This section takes 10 minutes on 5210 Mb\n",
    "#vars2plot= ['Dissolution_3D','OilConcentration_3D','OilWaterColumnOilVol_3D']\n",
    "vars2plot= ['OilWaterColumnOilVol_3D']\n",
    "vol3d={}\n",
    "oilArrTime={}\n",
    "for oil in ['diesel','bunker']:\n",
    "    vol3d[oil]={}\n",
    "    oilArrTime[oil]={}\n",
    "    # loop through indices of the 5 largest spills in the first 100 spill files\n",
    "    index = 0\n",
    "    for idx in big5_spills[oil].index.values:\n",
    "        spill_xr=xarray.open_dataset(First100[oil][idx])\n",
    "        vol3d[oil][index]=spill_xr['OilWaterColumnOilVol_3D'][:,39,:,:]\n",
    "        oilArrTime[oil][index]=spill_xr['Oil_Arrival_Time']\n",
    "        spill_xr.close()\n",
    "        index+=1"
   ]
  },
  {
   "cell_type": "markdown",
   "id": "2e727675-ddca-470e-bd71-8a616324afa4",
   "metadata": {},
   "source": [
    "### Plot up surface volume of first 5 spills"
   ]
  },
  {
   "cell_type": "code",
   "execution_count": 21,
   "id": "afbc158c-b6f8-46c4-a711-92ac40bc75f8",
   "metadata": {},
   "outputs": [
    {
     "data": {
      "text/plain": [
       "{'standard_name': 'OilWaterColumnOilVol_3D',\n",
       " 'long_name': 'OilWaterColumnOilVol_3D',\n",
       " 'units': 'm3/gridcell'}"
      ]
     },
     "execution_count": 21,
     "metadata": {},
     "output_type": "execute_result"
    }
   ],
   "source": [
    "vol3d[oil][0].attrs"
   ]
  },
  {
   "cell_type": "markdown",
   "id": "fd90545f-d355-4aec-8ea6-c50bb14a6193",
   "metadata": {},
   "source": [
    "### Graphic specifications"
   ]
  },
  {
   "cell_type": "code",
   "execution_count": 22,
   "id": "f1162dbd-1064-4c0c-af06-f1864590ea9e",
   "metadata": {},
   "outputs": [],
   "source": [
    "surface_threshold = 3e-3\n",
    "bins = numpy.arange(surface_threshold,1500,50)"
   ]
  },
  {
   "cell_type": "markdown",
   "id": "872b8c65-b6f9-468f-b47b-e3d88be0023d",
   "metadata": {},
   "source": [
    "### Plot Histogram of 3d volume"
   ]
  },
  {
   "cell_type": "code",
   "execution_count": 23,
   "id": "2f3708f2-8754-41b0-adf4-480c4a43f6c9",
   "metadata": {},
   "outputs": [
    {
     "data": {
      "text/plain": [
       "[<matplotlib.lines.Line2D at 0x2af429f79cd0>]"
      ]
     },
     "execution_count": 23,
     "metadata": {},
     "output_type": "execute_result"
    },
    {
     "data": {
      "image/png": "[encoded data removed]",
      "text/plain": [
       "<Figure size 432x288 with 1 Axes>"
      ]
     },
     "metadata": {
      "needs_background": "light"
     },
     "output_type": "display_data"
    }
   ],
   "source": [
    "mean_val = vol3d[oil][0].where(vol3d[oil][0]>surface_threshold).mean().values.item()\n",
    "median_val = vol3d[oil][0].where(vol3d[oil][0]>surface_threshold).median().values.item()\n",
    "axs=vol3d[oil][0].where(vol3d[oil][0]>surface_threshold).plot.hist(bins=bins,log=True)\n",
    "plt.plot([mean_val, mean_val], [3e-3,1e5], color=\"black\")\n",
    "plt.plot([median_val, median_val], [3e-3,1e5], color=\"green\")"
   ]
  },
  {
   "cell_type": "code",
   "execution_count": 24,
   "id": "41c00fc2-3f72-4149-8e27-a41cb037b34e",
   "metadata": {},
   "outputs": [
    {
     "data": {
      "text/plain": [
       "0.36100000000000004"
      ]
     },
     "execution_count": 24,
     "metadata": {},
     "output_type": "execute_result"
    }
   ],
   "source": [
    "median_val"
   ]
  },
  {
   "cell_type": "code",
   "execution_count": 25,
   "id": "4b5fdbc9-ecfc-4f5c-9beb-d119ccb28d5c",
   "metadata": {},
   "outputs": [
    {
     "data": {
      "text/plain": [
       "1.6529645730259497"
      ]
     },
     "execution_count": 25,
     "metadata": {},
     "output_type": "execute_result"
    }
   ],
   "source": [
    "mean_val"
   ]
  },
  {
   "cell_type": "markdown",
   "id": "70cd5934-74b5-4252-98a7-097f5e7b1787",
   "metadata": {},
   "source": [
    "### Plot histogram of 3d volume integrated over time"
   ]
  },
  {
   "cell_type": "code",
   "execution_count": 26,
   "id": "5cb9a6c7-f191-48f9-b2dc-8a45a98d1757",
   "metadata": {},
   "outputs": [
    {
     "data": {
      "image/png": "[encoded data removed]",
      "text/plain": [
       "<Figure size 432x288 with 1 Axes>"
      ]
     },
     "metadata": {
      "needs_background": "light"
     },
     "output_type": "display_data"
    }
   ],
   "source": [
    "axs = vol3d[oil][0].where(vol3d[oil][0]>surface_threshold).sum(\n",
    "    dim='time', skipna=True).plot.hist(bins=bins,log=True)"
   ]
  },
  {
   "cell_type": "markdown",
   "id": "d52e6cce-3407-4963-a143-e392eddca7a8",
   "metadata": {},
   "source": [
    "### Plot historgram of log-transformed 3d volume, integrated over time"
   ]
  },
  {
   "cell_type": "code",
   "execution_count": 27,
   "id": "fcd9580f-b514-404f-b3ac-afc8d1a9fe09",
   "metadata": {},
   "outputs": [],
   "source": [
    "# first log-transpose then sum over time\n",
    "vol3d_ln=numpy.log(\n",
    "    vol3d[oil][0].where(vol3d[oil][0]>surface_threshold)\n",
    ").sum(dim='time',skipna=True)\n",
    "# first sum over time and then log-transpose\n",
    "vol3d_sumt=vol3d[oil][0].where(vol3d[oil][0]>surface_threshold).sum(dim='time',skipna=True)\n",
    "vol3d_sumt_ln=numpy.log(\n",
    "    vol3d_sumt.where(vol3d_sumt>0)\n",
    ")"
   ]
  },
  {
   "cell_type": "code",
   "execution_count": 28,
   "id": "b42e28c6-6197-4a1e-aecb-99b201ae2fa6",
   "metadata": {},
   "outputs": [
    {
     "data": {
      "text/plain": [
       "1.722525208178137e+16"
      ]
     },
     "execution_count": 28,
     "metadata": {},
     "output_type": "execute_result"
    }
   ],
   "source": [
    "numpy.exp(vol3d_ln).max().values.item()"
   ]
  },
  {
   "cell_type": "code",
   "execution_count": 29,
   "id": "0ab8f003-6d60-4a48-b678-000b57eba058",
   "metadata": {},
   "outputs": [
    {
     "data": {
      "image/png": "[encoded data removed]",
      "text/plain": [
       "<Figure size 432x288 with 1 Axes>"
      ]
     },
     "metadata": {
      "needs_background": "light"
     },
     "output_type": "display_data"
    }
   ],
   "source": [
    "axs = numpy.exp(vol3d_ln).plot.hist(log=True)"
   ]
  },
  {
   "cell_type": "code",
   "execution_count": 30,
   "id": "4ac0891b-5e47-4d95-9c7a-a2812fa0594e",
   "metadata": {},
   "outputs": [
    {
     "data": {
      "image/png": "[encoded data removed]",
      "text/plain": [
       "<Figure size 432x288 with 1 Axes>"
      ]
     },
     "metadata": {
      "needs_background": "light"
     },
     "output_type": "display_data"
    }
   ],
   "source": [
    "bins_ln = numpy.arange(surface_threshold,2.5e15,0.1e15)\n",
    "axs = numpy.exp(vol3d_ln).plot.hist(bins=bins_ln,log=True)"
   ]
  },
  {
   "cell_type": "markdown",
   "id": "c3aef96b-4d0f-445d-99b6-c8ca6f252c19",
   "metadata": {},
   "source": [
    "### Plot historgram of 3D integrated volume, log-transformed \n",
    "- Note: In this case this graphic represents exp(ln(X)) and ought to be the same as [11]"
   ]
  },
  {
   "cell_type": "code",
   "execution_count": 31,
   "id": "92256dce-ad90-44f0-b6cb-da094b924021",
   "metadata": {},
   "outputs": [
    {
     "data": {
      "image/png": "[encoded data removed]",
      "text/plain": [
       "<Figure size 432x288 with 1 Axes>"
      ]
     },
     "metadata": {
      "needs_background": "light"
     },
     "output_type": "display_data"
    }
   ],
   "source": [
    "axs = numpy.exp(vol3d_sumt_ln).plot.hist(bins=bins,log=True)"
   ]
  },
  {
   "cell_type": "code",
   "execution_count": 32,
   "id": "73eceeaf-898d-4a80-b3fb-99b7c44d6bcc",
   "metadata": {},
   "outputs": [
    {
     "data": {
      "text/plain": [
       "0.358"
      ]
     },
     "execution_count": 32,
     "metadata": {},
     "output_type": "execute_result"
    }
   ],
   "source": [
    "numpy.exp(vol3d_sumt_ln).min().values.item()"
   ]
  },
  {
   "cell_type": "code",
   "execution_count": 33,
   "id": "82580412-d62c-444a-bcc2-760197e720b6",
   "metadata": {},
   "outputs": [
    {
     "data": {
      "text/plain": [
       "0.35800000000000004"
      ]
     },
     "execution_count": 33,
     "metadata": {},
     "output_type": "execute_result"
    }
   ],
   "source": [
    "vol3d_sumt.where(vol3d_sumt>0).min().values.item()"
   ]
  },
  {
   "cell_type": "markdown",
   "id": "4d848151-d817-4842-9a88-8c985f68d495",
   "metadata": {},
   "source": [
    "## Validate time aggregation method"
   ]
  },
  {
   "cell_type": "code",
   "execution_count": 34,
   "id": "2d02bb87-5156-4a6d-874c-b57d0aabbbbf",
   "metadata": {},
   "outputs": [],
   "source": [
    "sfc_vol_threshold = 3e-3\n",
    "nruns=len(vol3d[oil])\n",
    "#dims=nruns\n",
    "[nt,ny,nx]=vol3d[oil][0].shape\n",
    "\n",
    "dims=('nspills','grid_y','grid_x')\n",
    "MOHID_In=xarray.Dataset(\n",
    "    data_vars=dict(\n",
    "        SurfacePresence=(dims, numpy.zeros((nruns,ny,nx),dtype=int)),\n",
    "        SurfacePresence_24h=(dims, numpy.zeros((nruns,ny,nx),dtype=int)),\n",
    "        SurfacePresence_24h_to_72h=(dims, numpy.zeros((nruns,ny,nx),dtype=int)),\n",
    "        SurfacePresence_72h_to_168h=(dims, numpy.zeros((nruns,ny,nx),dtype=int)),\n",
    "        SurfaceVolumeSum=(dims, numpy.zeros((nruns,ny,nx),dtype=float)),\n",
    "        SurfaceVolumeMax=(dims, numpy.zeros((nruns,ny,nx),dtype=float)),\n",
    "        SurfaceVolumeSum_24h=(dims, numpy.zeros((nruns,ny,nx),dtype=float)),\n",
    "        SurfaceVolumeSum_24h_to_72h=(dims, numpy.zeros((nruns,ny,nx),dtype=float)),\n",
    "        SurfaceVolumeSum_72h_to_168h=(dims, numpy.zeros((nruns,ny,nx),dtype=float)),\n",
    "        SurfaceConcentrationSum=(dims, numpy.zeros((nruns,ny,nx),dtype=float))\n",
    "    ),\n",
    "    coords=dict(\n",
    "        grid_y=range(ny),\n",
    "        grid_x=range(nx))\n",
    ")\n"
   ]
  },
  {
   "cell_type": "code",
   "execution_count": 35,
   "id": "dc15639e-727f-41d5-be6e-5121d1e5fa7b",
   "metadata": {},
   "outputs": [
    {
     "data": {
      "text/plain": [
       "'bunker'"
      ]
     },
     "execution_count": 35,
     "metadata": {},
     "output_type": "execute_result"
    }
   ],
   "source": [
    "oil"
   ]
  },
  {
   "cell_type": "code",
   "execution_count": 36,
   "id": "17a2d0da-49d9-41e9-acd5-82f28891ddbd",
   "metadata": {},
   "outputs": [],
   "source": [
    "for idx in vol3d[oil]:\n",
    "    spill_start = vol3d[oil][idx].time[0] \n",
    "    spill_end = vol3d[oil][idx].time[-1]\n",
    "    # define time thresholds\n",
    "    one_day=numpy.timedelta64(24,'h')\n",
    "    three_days=numpy.timedelta64(48,'h')\n",
    "    seven_days=numpy.timedelta64(168,'h')\n",
    "    # Select surface volume, concentration and dissolution\n",
    "    vol3d_orig=vol3d[oil][idx]\n",
    "    # Sum volume over time where volume is greater than threshold\n",
    "    vol3d_sumt = vol3d_orig.where(vol3d_orig>sfc_vol_threshold).sum(\n",
    "            dim=\"time\",skipna=True)\n",
    "    # 3d volume above threshold limits\n",
    "    vol3dthresh = vol3d_orig.where(vol3d_orig>sfc_vol_threshold)\n",
    "    #~~~ Without log transforme ~~~ \n",
    "    MOHID_In.SurfacePresence[idx,:,:]=(\n",
    "        vol3d_orig.max(dim='time',skipna=True)>sfc_vol_threshold\n",
    "    ).astype(int)\n",
    "    MOHID_In.SurfaceVolumeSum[idx,:,:]=vol3d_sumt\n",
    "    MOHID_In.SurfaceVolumeSum_24h[idx,:,:]=vol3dthresh.loc[\n",
    "        dict(time=slice(spill_start,spill_start+one_day))\n",
    "        ].sum(dim=\"time\",skipna=True)\n",
    "    MOHID_In.SurfaceVolumeSum_24h_to_72h[idx,:,:]=vol3dthresh.loc[\n",
    "        dict(time=slice(\n",
    "            spill_start+one_day,spill_start+three_days))\n",
    "        ].sum(dim=\"time\",skipna=True)\n",
    "    MOHID_In.SurfaceVolumeSum_72h_to_168h[idx,:,:]=vol3dthresh.loc[\n",
    "        dict(time=slice(\n",
    "            spill_start+three_days,spill_start+seven_days))\n",
    "        ].sum(dim=\"time\",skipna=True)\n",
    "    "
   ]
  },
  {
   "cell_type": "code",
   "execution_count": 37,
   "id": "90b68d25-df8d-4b65-ab48-2889bb95e392",
   "metadata": {},
   "outputs": [
    {
     "data": {
      "text/html": [
       "<div><svg style=\"position: absolute; width: 0; height: 0; overflow: hidden\">\n",
       "<defs>\n",
       "<symbol id=\"icon-database\" viewBox=\"0 0 32 32\">\n",
       "<path d=\"M16 0c-8.837 0-16 2.239-16 5v4c0 2.761 7.163 5 16 5s16-2.239 16-5v-4c0-2.761-7.163-5-16-5z\"></path>\n",
       "<path d=\"M16 17c-8.837 0-16-2.239-16-5v6c0 2.761 7.163 5 16 5s16-2.239 16-5v-6c0 2.761-7.163 5-16 5z\"></path>\n",
       "<path d=\"M16 26c-8.837 0-16-2.239-16-5v6c0 2.761 7.163 5 16 5s16-2.239 16-5v-6c0 2.761-7.163 5-16 5z\"></path>\n",
       "</symbol>\n",
       "<symbol id=\"icon-file-text2\" viewBox=\"0 0 32 32\">\n",
       "<path d=\"M28.681 7.159c-0.694-0.947-1.662-2.053-2.724-3.116s-2.169-2.030-3.116-2.724c-1.612-1.182-2.393-1.319-2.841-1.319h-15.5c-1.378 0-2.5 1.121-2.5 2.5v27c0 1.378 1.122 2.5 2.5 2.5h23c1.378 0 2.5-1.122 2.5-2.5v-19.5c0-0.448-0.137-1.23-1.319-2.841zM24.543 5.457c0.959 0.959 1.712 1.825 2.268 2.543h-4.811v-4.811c0.718 0.556 1.584 1.309 2.543 2.268zM28 29.5c0 0.271-0.229 0.5-0.5 0.5h-23c-0.271 0-0.5-0.229-0.5-0.5v-27c0-0.271 0.229-0.5 0.5-0.5 0 0 15.499-0 15.5 0v7c0 0.552 0.448 1 1 1h7v19.5z\"></path>\n",
       "<path d=\"M23 26h-14c-0.552 0-1-0.448-1-1s0.448-1 1-1h14c0.552 0 1 0.448 1 1s-0.448 1-1 1z\"></path>\n",
       "<path d=\"M23 22h-14c-0.552 0-1-0.448-1-1s0.448-1 1-1h14c0.552 0 1 0.448 1 1s-0.448 1-1 1z\"></path>\n",
       "<path d=\"M23 18h-14c-0.552 0-1-0.448-1-1s0.448-1 1-1h14c0.552 0 1 0.448 1 1s-0.448 1-1 1z\"></path>\n",
       "</symbol>\n",
       "</defs>\n",
       "</svg>\n",
       "<style>/* CSS stylesheet for displaying xarray objects in jupyterlab.\n",
       " *\n",
       " */\n",
       "\n",
       ":root {\n",
       "  --xr-font-color0: var(--jp-content-font-color0, rgba(0, 0, 0, 1));\n",
       "  --xr-font-color2: var(--jp-content-font-color2, rgba(0, 0, 0, 0.54));\n",
       "  --xr-font-color3: var(--jp-content-font-color3, rgba(0, 0, 0, 0.38));\n",
       "  --xr-border-color: var(--jp-border-color2, #e0e0e0);\n",
       "  --xr-disabled-color: var(--jp-layout-color3, #bdbdbd);\n",
       "  --xr-background-color: var(--jp-layout-color0, white);\n",
       "  --xr-background-color-row-even: var(--jp-layout-color1, white);\n",
       "  --xr-background-color-row-odd: var(--jp-layout-color2, #eeeeee);\n",
       "}\n",
       "\n",
       "html[theme=dark],\n",
       "body.vscode-dark {\n",
       "  --xr-font-color0: rgba(255, 255, 255, 1);\n",
       "  --xr-font-color2: rgba(255, 255, 255, 0.54);\n",
       "  --xr-font-color3: rgba(255, 255, 255, 0.38);\n",
       "  --xr-border-color: #1F1F1F;\n",
       "  --xr-disabled-color: #515151;\n",
       "  --xr-background-color: #111111;\n",
       "  --xr-background-color-row-even: #111111;\n",
       "  --xr-background-color-row-odd: #313131;\n",
       "}\n",
       "\n",
       ".xr-wrap {\n",
       "  display: block;\n",
       "  min-width: 300px;\n",
       "  max-width: 700px;\n",
       "}\n",
       "\n",
       ".xr-text-repr-fallback {\n",
       "  /* fallback to plain text repr when CSS is not injected (untrusted notebook) */\n",
       "  display: none;\n",
       "}\n",
       "\n",
       ".xr-header {\n",
       "  padding-top: 6px;\n",
       "  padding-bottom: 6px;\n",
       "  margin-bottom: 4px;\n",
       "  border-bottom: solid 1px var(--xr-border-color);\n",
       "}\n",
       "\n",
       ".xr-header > div,\n",
       ".xr-header > ul {\n",
       "  display: inline;\n",
       "  margin-top: 0;\n",
       "  margin-bottom: 0;\n",
       "}\n",
       "\n",
       ".xr-obj-type,\n",
       ".xr-array-name {\n",
       "  margin-left: 2px;\n",
       "  margin-right: 10px;\n",
       "}\n",
       "\n",
       ".xr-obj-type {\n",
       "  color: var(--xr-font-color2);\n",
       "}\n",
       "\n",
       ".xr-sections {\n",
       "  padding-left: 0 !important;\n",
       "  display: grid;\n",
       "  grid-template-columns: 150px auto auto 1fr 20px 20px;\n",
       "}\n",
       "\n",
       ".xr-section-item {\n",
       "  display: contents;\n",
       "}\n",
       "\n",
       ".xr-section-item input {\n",
       "  display: none;\n",
       "}\n",
       "\n",
       ".xr-section-item input + label {\n",
       "  color: var(--xr-disabled-color);\n",
       "}\n",
       "\n",
       ".xr-section-item input:enabled + label {\n",
       "  cursor: pointer;\n",
       "  color: var(--xr-font-color2);\n",
       "}\n",
       "\n",
       ".xr-section-item input:enabled + label:hover {\n",
       "  color: var(--xr-font-color0);\n",
       "}\n",
       "\n",
       ".xr-section-summary {\n",
       "  grid-column: 1;\n",
       "  color: var(--xr-font-color2);\n",
       "  font-weight: 500;\n",
       "}\n",
       "\n",
       ".xr-section-summary > span {\n",
       "  display: inline-block;\n",
       "  padding-left: 0.5em;\n",
       "}\n",
       "\n",
       ".xr-section-summary-in:disabled + label {\n",
       "  color: var(--xr-font-color2);\n",
       "}\n",
       "\n",
       ".xr-section-summary-in + label:before {\n",
       "  display: inline-block;\n",
       "  content: '►';\n",
       "  font-size: 11px;\n",
       "  width: 15px;\n",
       "  text-align: center;\n",
       "}\n",
       "\n",
       ".xr-section-summary-in:disabled + label:before {\n",
       "  color: var(--xr-disabled-color);\n",
       "}\n",
       "\n",
       ".xr-section-summary-in:checked + label:before {\n",
       "  content: '▼';\n",
       "}\n",
       "\n",
       ".xr-section-summary-in:checked + label > span {\n",
       "  display: none;\n",
       "}\n",
       "\n",
       ".xr-section-summary,\n",
       ".xr-section-inline-details {\n",
       "  padding-top: 4px;\n",
       "  padding-bottom: 4px;\n",
       "}\n",
       "\n",
       ".xr-section-inline-details {\n",
       "  grid-column: 2 / -1;\n",
       "}\n",
       "\n",
       ".xr-section-details {\n",
       "  display: none;\n",
       "  grid-column: 1 / -1;\n",
       "  margin-bottom: 5px;\n",
       "}\n",
       "\n",
       ".xr-section-summary-in:checked ~ .xr-section-details {\n",
       "  display: contents;\n",
       "}\n",
       "\n",
       ".xr-array-wrap {\n",
       "  grid-column: 1 / -1;\n",
       "  display: grid;\n",
       "  grid-template-columns: 20px auto;\n",
       "}\n",
       "\n",
       ".xr-array-wrap > label {\n",
       "  grid-column: 1;\n",
       "  vertical-align: top;\n",
       "}\n",
       "\n",
       ".xr-preview {\n",
       "  color: var(--xr-font-color3);\n",
       "}\n",
       "\n",
       ".xr-array-preview,\n",
       ".xr-array-data {\n",
       "  padding: 0 5px !important;\n",
       "  grid-column: 2;\n",
       "}\n",
       "\n",
       ".xr-array-data,\n",
       ".xr-array-in:checked ~ .xr-array-preview {\n",
       "  display: none;\n",
       "}\n",
       "\n",
       ".xr-array-in:checked ~ .xr-array-data,\n",
       ".xr-array-preview {\n",
       "  display: inline-block;\n",
       "}\n",
       "\n",
       ".xr-dim-list {\n",
       "  display: inline-block !important;\n",
       "  list-style: none;\n",
       "  padding: 0 !important;\n",
       "  margin: 0;\n",
       "}\n",
       "\n",
       ".xr-dim-list li {\n",
       "  display: inline-block;\n",
       "  padding: 0;\n",
       "  margin: 0;\n",
       "}\n",
       "\n",
       ".xr-dim-list:before {\n",
       "  content: '(';\n",
       "}\n",
       "\n",
       ".xr-dim-list:after {\n",
       "  content: ')';\n",
       "}\n",
       "\n",
       ".xr-dim-list li:not(:last-child):after {\n",
       "  content: ',';\n",
       "  padding-right: 5px;\n",
       "}\n",
       "\n",
       ".xr-has-index {\n",
       "  font-weight: bold;\n",
       "}\n",
       "\n",
       ".xr-var-list,\n",
       ".xr-var-item {\n",
       "  display: contents;\n",
       "}\n",
       "\n",
       ".xr-var-item > div,\n",
       ".xr-var-item label,\n",
       ".xr-var-item > .xr-var-name span {\n",
       "  background-color: var(--xr-background-color-row-even);\n",
       "  margin-bottom: 0;\n",
       "}\n",
       "\n",
       ".xr-var-item > .xr-var-name:hover span {\n",
       "  padding-right: 5px;\n",
       "}\n",
       "\n",
       ".xr-var-list > li:nth-child(odd) > div,\n",
       ".xr-var-list > li:nth-child(odd) > label,\n",
       ".xr-var-list > li:nth-child(odd) > .xr-var-name span {\n",
       "  background-color: var(--xr-background-color-row-odd);\n",
       "}\n",
       "\n",
       ".xr-var-name {\n",
       "  grid-column: 1;\n",
       "}\n",
       "\n",
       ".xr-var-dims {\n",
       "  grid-column: 2;\n",
       "}\n",
       "\n",
       ".xr-var-dtype {\n",
       "  grid-column: 3;\n",
       "  text-align: right;\n",
       "  color: var(--xr-font-color2);\n",
       "}\n",
       "\n",
       ".xr-var-preview {\n",
       "  grid-column: 4;\n",
       "}\n",
       "\n",
       ".xr-var-name,\n",
       ".xr-var-dims,\n",
       ".xr-var-dtype,\n",
       ".xr-preview,\n",
       ".xr-attrs dt {\n",
       "  white-space: nowrap;\n",
       "  overflow: hidden;\n",
       "  text-overflow: ellipsis;\n",
       "  padding-right: 10px;\n",
       "}\n",
       "\n",
       ".xr-var-name:hover,\n",
       ".xr-var-dims:hover,\n",
       ".xr-var-dtype:hover,\n",
       ".xr-attrs dt:hover {\n",
       "  overflow: visible;\n",
       "  width: auto;\n",
       "  z-index: 1;\n",
       "}\n",
       "\n",
       ".xr-var-attrs,\n",
       ".xr-var-data {\n",
       "  display: none;\n",
       "  background-color: var(--xr-background-color) !important;\n",
       "  padding-bottom: 5px !important;\n",
       "}\n",
       "\n",
       ".xr-var-attrs-in:checked ~ .xr-var-attrs,\n",
       ".xr-var-data-in:checked ~ .xr-var-data {\n",
       "  display: block;\n",
       "}\n",
       "\n",
       ".xr-var-data > table {\n",
       "  float: right;\n",
       "}\n",
       "\n",
       ".xr-var-name span,\n",
       ".xr-var-data,\n",
       ".xr-attrs {\n",
       "  padding-left: 25px !important;\n",
       "}\n",
       "\n",
       ".xr-attrs,\n",
       ".xr-var-attrs,\n",
       ".xr-var-data {\n",
       "  grid-column: 1 / -1;\n",
       "}\n",
       "\n",
       "dl.xr-attrs {\n",
       "  padding: 0;\n",
       "  margin: 0;\n",
       "  display: grid;\n",
       "  grid-template-columns: 125px auto;\n",
       "}\n",
       "\n",
       ".xr-attrs dt,\n",
       ".xr-attrs dd {\n",
       "  padding: 0;\n",
       "  margin: 0;\n",
       "  float: left;\n",
       "  padding-right: 10px;\n",
       "  width: auto;\n",
       "}\n",
       "\n",
       ".xr-attrs dt {\n",
       "  font-weight: normal;\n",
       "  grid-column: 1;\n",
       "}\n",
       "\n",
       ".xr-attrs dt:hover span {\n",
       "  display: inline-block;\n",
       "  background: var(--xr-background-color);\n",
       "  padding-right: 10px;\n",
       "}\n",
       "\n",
       ".xr-attrs dd {\n",
       "  grid-column: 2;\n",
       "  white-space: pre-wrap;\n",
       "  word-break: break-all;\n",
       "}\n",
       "\n",
       ".xr-icon-database,\n",
       ".xr-icon-file-text2 {\n",
       "  display: inline-block;\n",
       "  vertical-align: middle;\n",
       "  width: 1em;\n",
       "  height: 1.5em !important;\n",
       "  stroke-width: 0;\n",
       "  stroke: currentColor;\n",
       "  fill: currentColor;\n",
       "}\n",
       "</style><pre class='xr-text-repr-fallback'>&lt;xarray.DataArray &#x27;time&#x27; ()&gt;\n",
       "array(&#x27;2017-03-03T00:30:00.000000000&#x27;, dtype=&#x27;datetime64[ns]&#x27;)\n",
       "Coordinates:\n",
       "    time     datetime64[ns] 2017-03-03T00:30:00\n",
       "    grid_z   int16 39\n",
       "Attributes:\n",
       "    standard_name:  time\n",
       "    long_name:      time\n",
       "    tz_name:        UTC</pre><div class='xr-wrap' hidden><div class='xr-header'><div class='xr-obj-type'>xarray.DataArray</div><div class='xr-array-name'>'time'</div></div><ul class='xr-sections'><li class='xr-section-item'><div class='xr-array-wrap'><input id='section-c8c5cb98-88bf-4ad8-b42a-48d583fcbd97' class='xr-array-in' type='checkbox' checked><label for='section-c8c5cb98-88bf-4ad8-b42a-48d583fcbd97' title='Show/hide data repr'><svg class='icon xr-icon-database'><use xlink:href='#icon-database'></use></svg></label><div class='xr-array-preview xr-preview'><span>2017-03-03T00:30:00</span></div><div class='xr-array-data'><pre>array(&#x27;2017-03-03T00:30:00.000000000&#x27;, dtype=&#x27;datetime64[ns]&#x27;)</pre></div></div></li><li class='xr-section-item'><input id='section-01a233d3-fac4-4d8d-bcce-3c85b8625228' class='xr-section-summary-in' type='checkbox'  checked><label for='section-01a233d3-fac4-4d8d-bcce-3c85b8625228' class='xr-section-summary' >Coordinates: <span>(2)</span></label><div class='xr-section-inline-details'></div><div class='xr-section-details'><ul class='xr-var-list'><li class='xr-var-item'><div class='xr-var-name'><span>time</span></div><div class='xr-var-dims'>()</div><div class='xr-var-dtype'>datetime64[ns]</div><div class='xr-var-preview xr-preview'>2017-03-03T00:30:00</div><input id='attrs-045ebe6b-133b-4e9e-900c-6345a954a4b7' class='xr-var-attrs-in' type='checkbox' ><label for='attrs-045ebe6b-133b-4e9e-900c-6345a954a4b7' title='Show/Hide attributes'><svg class='icon xr-icon-file-text2'><use xlink:href='#icon-file-text2'></use></svg></label><input id='data-58619e2a-d34c-4509-b35b-6f26388ae0ef' class='xr-var-data-in' type='checkbox'><label for='data-58619e2a-d34c-4509-b35b-6f26388ae0ef' title='Show/Hide data repr'><svg class='icon xr-icon-database'><use xlink:href='#icon-database'></use></svg></label><div class='xr-var-attrs'><dl class='xr-attrs'><dt><span>standard_name :</span></dt><dd>time</dd><dt><span>long_name :</span></dt><dd>time</dd><dt><span>tz_name :</span></dt><dd>UTC</dd></dl></div><div class='xr-var-data'><pre>array(&#x27;2017-03-03T00:30:00.000000000&#x27;, dtype=&#x27;datetime64[ns]&#x27;)</pre></div></li><li class='xr-var-item'><div class='xr-var-name'><span>grid_z</span></div><div class='xr-var-dims'>()</div><div class='xr-var-dtype'>int16</div><div class='xr-var-preview xr-preview'>39</div><input id='attrs-f046c362-1714-4357-8753-e91c0aa6f969' class='xr-var-attrs-in' type='checkbox' ><label for='attrs-f046c362-1714-4357-8753-e91c0aa6f969' title='Show/Hide attributes'><svg class='icon xr-icon-file-text2'><use xlink:href='#icon-file-text2'></use></svg></label><input id='data-9c8151ed-5dc7-4c13-ac69-27673c49e23e' class='xr-var-data-in' type='checkbox'><label for='data-9c8151ed-5dc7-4c13-ac69-27673c49e23e' title='Show/Hide data repr'><svg class='icon xr-icon-database'><use xlink:href='#icon-database'></use></svg></label><div class='xr-var-attrs'><dl class='xr-attrs'><dt><span>standard_name :</span></dt><dd>model_level_index</dd><dt><span>long_name :</span></dt><dd>depth level</dd></dl></div><div class='xr-var-data'><pre>array(39, dtype=int16)</pre></div></li></ul></div></li><li class='xr-section-item'><input id='section-e0721941-0748-408e-a314-fecb48bfcd8c' class='xr-section-summary-in' type='checkbox'  checked><label for='section-e0721941-0748-408e-a314-fecb48bfcd8c' class='xr-section-summary' >Attributes: <span>(3)</span></label><div class='xr-section-inline-details'></div><div class='xr-section-details'><dl class='xr-attrs'><dt><span>standard_name :</span></dt><dd>time</dd><dt><span>long_name :</span></dt><dd>time</dd><dt><span>tz_name :</span></dt><dd>UTC</dd></dl></div></li></ul></div></div>"
      ],
      "text/plain": [
       "<xarray.DataArray 'time' ()>\n",
       "array('2017-03-03T00:30:00.000000000', dtype='datetime64[ns]')\n",
       "Coordinates:\n",
       "    time     datetime64[ns] 2017-03-03T00:30:00\n",
       "    grid_z   int16 39\n",
       "Attributes:\n",
       "    standard_name:  time\n",
       "    long_name:      time\n",
       "    tz_name:        UTC"
      ]
     },
     "execution_count": 37,
     "metadata": {},
     "output_type": "execute_result"
    }
   ],
   "source": [
    "spill_start"
   ]
  },
  {
   "cell_type": "code",
   "execution_count": 38,
   "id": "e6281b17-e2f7-4a62-afc2-e9edc866e99b",
   "metadata": {},
   "outputs": [
    {
     "data": {
      "text/html": [
       "<div><svg style=\"position: absolute; width: 0; height: 0; overflow: hidden\">\n",
       "<defs>\n",
       "<symbol id=\"icon-database\" viewBox=\"0 0 32 32\">\n",
       "<path d=\"M16 0c-8.837 0-16 2.239-16 5v4c0 2.761 7.163 5 16 5s16-2.239 16-5v-4c0-2.761-7.163-5-16-5z\"></path>\n",
       "<path d=\"M16 17c-8.837 0-16-2.239-16-5v6c0 2.761 7.163 5 16 5s16-2.239 16-5v-6c0 2.761-7.163 5-16 5z\"></path>\n",
       "<path d=\"M16 26c-8.837 0-16-2.239-16-5v6c0 2.761 7.163 5 16 5s16-2.239 16-5v-6c0 2.761-7.163 5-16 5z\"></path>\n",
       "</symbol>\n",
       "<symbol id=\"icon-file-text2\" viewBox=\"0 0 32 32\">\n",
       "<path d=\"M28.681 7.159c-0.694-0.947-1.662-2.053-2.724-3.116s-2.169-2.030-3.116-2.724c-1.612-1.182-2.393-1.319-2.841-1.319h-15.5c-1.378 0-2.5 1.121-2.5 2.5v27c0 1.378 1.122 2.5 2.5 2.5h23c1.378 0 2.5-1.122 2.5-2.5v-19.5c0-0.448-0.137-1.23-1.319-2.841zM24.543 5.457c0.959 0.959 1.712 1.825 2.268 2.543h-4.811v-4.811c0.718 0.556 1.584 1.309 2.543 2.268zM28 29.5c0 0.271-0.229 0.5-0.5 0.5h-23c-0.271 0-0.5-0.229-0.5-0.5v-27c0-0.271 0.229-0.5 0.5-0.5 0 0 15.499-0 15.5 0v7c0 0.552 0.448 1 1 1h7v19.5z\"></path>\n",
       "<path d=\"M23 26h-14c-0.552 0-1-0.448-1-1s0.448-1 1-1h14c0.552 0 1 0.448 1 1s-0.448 1-1 1z\"></path>\n",
       "<path d=\"M23 22h-14c-0.552 0-1-0.448-1-1s0.448-1 1-1h14c0.552 0 1 0.448 1 1s-0.448 1-1 1z\"></path>\n",
       "<path d=\"M23 18h-14c-0.552 0-1-0.448-1-1s0.448-1 1-1h14c0.552 0 1 0.448 1 1s-0.448 1-1 1z\"></path>\n",
       "</symbol>\n",
       "</defs>\n",
       "</svg>\n",
       "<style>/* CSS stylesheet for displaying xarray objects in jupyterlab.\n",
       " *\n",
       " */\n",
       "\n",
       ":root {\n",
       "  --xr-font-color0: var(--jp-content-font-color0, rgba(0, 0, 0, 1));\n",
       "  --xr-font-color2: var(--jp-content-font-color2, rgba(0, 0, 0, 0.54));\n",
       "  --xr-font-color3: var(--jp-content-font-color3, rgba(0, 0, 0, 0.38));\n",
       "  --xr-border-color: var(--jp-border-color2, #e0e0e0);\n",
       "  --xr-disabled-color: var(--jp-layout-color3, #bdbdbd);\n",
       "  --xr-background-color: var(--jp-layout-color0, white);\n",
       "  --xr-background-color-row-even: var(--jp-layout-color1, white);\n",
       "  --xr-background-color-row-odd: var(--jp-layout-color2, #eeeeee);\n",
       "}\n",
       "\n",
       "html[theme=dark],\n",
       "body.vscode-dark {\n",
       "  --xr-font-color0: rgba(255, 255, 255, 1);\n",
       "  --xr-font-color2: rgba(255, 255, 255, 0.54);\n",
       "  --xr-font-color3: rgba(255, 255, 255, 0.38);\n",
       "  --xr-border-color: #1F1F1F;\n",
       "  --xr-disabled-color: #515151;\n",
       "  --xr-background-color: #111111;\n",
       "  --xr-background-color-row-even: #111111;\n",
       "  --xr-background-color-row-odd: #313131;\n",
       "}\n",
       "\n",
       ".xr-wrap {\n",
       "  display: block;\n",
       "  min-width: 300px;\n",
       "  max-width: 700px;\n",
       "}\n",
       "\n",
       ".xr-text-repr-fallback {\n",
       "  /* fallback to plain text repr when CSS is not injected (untrusted notebook) */\n",
       "  display: none;\n",
       "}\n",
       "\n",
       ".xr-header {\n",
       "  padding-top: 6px;\n",
       "  padding-bottom: 6px;\n",
       "  margin-bottom: 4px;\n",
       "  border-bottom: solid 1px var(--xr-border-color);\n",
       "}\n",
       "\n",
       ".xr-header > div,\n",
       ".xr-header > ul {\n",
       "  display: inline;\n",
       "  margin-top: 0;\n",
       "  margin-bottom: 0;\n",
       "}\n",
       "\n",
       ".xr-obj-type,\n",
       ".xr-array-name {\n",
       "  margin-left: 2px;\n",
       "  margin-right: 10px;\n",
       "}\n",
       "\n",
       ".xr-obj-type {\n",
       "  color: var(--xr-font-color2);\n",
       "}\n",
       "\n",
       ".xr-sections {\n",
       "  padding-left: 0 !important;\n",
       "  display: grid;\n",
       "  grid-template-columns: 150px auto auto 1fr 20px 20px;\n",
       "}\n",
       "\n",
       ".xr-section-item {\n",
       "  display: contents;\n",
       "}\n",
       "\n",
       ".xr-section-item input {\n",
       "  display: none;\n",
       "}\n",
       "\n",
       ".xr-section-item input + label {\n",
       "  color: var(--xr-disabled-color);\n",
       "}\n",
       "\n",
       ".xr-section-item input:enabled + label {\n",
       "  cursor: pointer;\n",
       "  color: var(--xr-font-color2);\n",
       "}\n",
       "\n",
       ".xr-section-item input:enabled + label:hover {\n",
       "  color: var(--xr-font-color0);\n",
       "}\n",
       "\n",
       ".xr-section-summary {\n",
       "  grid-column: 1;\n",
       "  color: var(--xr-font-color2);\n",
       "  font-weight: 500;\n",
       "}\n",
       "\n",
       ".xr-section-summary > span {\n",
       "  display: inline-block;\n",
       "  padding-left: 0.5em;\n",
       "}\n",
       "\n",
       ".xr-section-summary-in:disabled + label {\n",
       "  color: var(--xr-font-color2);\n",
       "}\n",
       "\n",
       ".xr-section-summary-in + label:before {\n",
       "  display: inline-block;\n",
       "  content: '►';\n",
       "  font-size: 11px;\n",
       "  width: 15px;\n",
       "  text-align: center;\n",
       "}\n",
       "\n",
       ".xr-section-summary-in:disabled + label:before {\n",
       "  color: var(--xr-disabled-color);\n",
       "}\n",
       "\n",
       ".xr-section-summary-in:checked + label:before {\n",
       "  content: '▼';\n",
       "}\n",
       "\n",
       ".xr-section-summary-in:checked + label > span {\n",
       "  display: none;\n",
       "}\n",
       "\n",
       ".xr-section-summary,\n",
       ".xr-section-inline-details {\n",
       "  padding-top: 4px;\n",
       "  padding-bottom: 4px;\n",
       "}\n",
       "\n",
       ".xr-section-inline-details {\n",
       "  grid-column: 2 / -1;\n",
       "}\n",
       "\n",
       ".xr-section-details {\n",
       "  display: none;\n",
       "  grid-column: 1 / -1;\n",
       "  margin-bottom: 5px;\n",
       "}\n",
       "\n",
       ".xr-section-summary-in:checked ~ .xr-section-details {\n",
       "  display: contents;\n",
       "}\n",
       "\n",
       ".xr-array-wrap {\n",
       "  grid-column: 1 / -1;\n",
       "  display: grid;\n",
       "  grid-template-columns: 20px auto;\n",
       "}\n",
       "\n",
       ".xr-array-wrap > label {\n",
       "  grid-column: 1;\n",
       "  vertical-align: top;\n",
       "}\n",
       "\n",
       ".xr-preview {\n",
       "  color: var(--xr-font-color3);\n",
       "}\n",
       "\n",
       ".xr-array-preview,\n",
       ".xr-array-data {\n",
       "  padding: 0 5px !important;\n",
       "  grid-column: 2;\n",
       "}\n",
       "\n",
       ".xr-array-data,\n",
       ".xr-array-in:checked ~ .xr-array-preview {\n",
       "  display: none;\n",
       "}\n",
       "\n",
       ".xr-array-in:checked ~ .xr-array-data,\n",
       ".xr-array-preview {\n",
       "  display: inline-block;\n",
       "}\n",
       "\n",
       ".xr-dim-list {\n",
       "  display: inline-block !important;\n",
       "  list-style: none;\n",
       "  padding: 0 !important;\n",
       "  margin: 0;\n",
       "}\n",
       "\n",
       ".xr-dim-list li {\n",
       "  display: inline-block;\n",
       "  padding: 0;\n",
       "  margin: 0;\n",
       "}\n",
       "\n",
       ".xr-dim-list:before {\n",
       "  content: '(';\n",
       "}\n",
       "\n",
       ".xr-dim-list:after {\n",
       "  content: ')';\n",
       "}\n",
       "\n",
       ".xr-dim-list li:not(:last-child):after {\n",
       "  content: ',';\n",
       "  padding-right: 5px;\n",
       "}\n",
       "\n",
       ".xr-has-index {\n",
       "  font-weight: bold;\n",
       "}\n",
       "\n",
       ".xr-var-list,\n",
       ".xr-var-item {\n",
       "  display: contents;\n",
       "}\n",
       "\n",
       ".xr-var-item > div,\n",
       ".xr-var-item label,\n",
       ".xr-var-item > .xr-var-name span {\n",
       "  background-color: var(--xr-background-color-row-even);\n",
       "  margin-bottom: 0;\n",
       "}\n",
       "\n",
       ".xr-var-item > .xr-var-name:hover span {\n",
       "  padding-right: 5px;\n",
       "}\n",
       "\n",
       ".xr-var-list > li:nth-child(odd) > div,\n",
       ".xr-var-list > li:nth-child(odd) > label,\n",
       ".xr-var-list > li:nth-child(odd) > .xr-var-name span {\n",
       "  background-color: var(--xr-background-color-row-odd);\n",
       "}\n",
       "\n",
       ".xr-var-name {\n",
       "  grid-column: 1;\n",
       "}\n",
       "\n",
       ".xr-var-dims {\n",
       "  grid-column: 2;\n",
       "}\n",
       "\n",
       ".xr-var-dtype {\n",
       "  grid-column: 3;\n",
       "  text-align: right;\n",
       "  color: var(--xr-font-color2);\n",
       "}\n",
       "\n",
       ".xr-var-preview {\n",
       "  grid-column: 4;\n",
       "}\n",
       "\n",
       ".xr-var-name,\n",
       ".xr-var-dims,\n",
       ".xr-var-dtype,\n",
       ".xr-preview,\n",
       ".xr-attrs dt {\n",
       "  white-space: nowrap;\n",
       "  overflow: hidden;\n",
       "  text-overflow: ellipsis;\n",
       "  padding-right: 10px;\n",
       "}\n",
       "\n",
       ".xr-var-name:hover,\n",
       ".xr-var-dims:hover,\n",
       ".xr-var-dtype:hover,\n",
       ".xr-attrs dt:hover {\n",
       "  overflow: visible;\n",
       "  width: auto;\n",
       "  z-index: 1;\n",
       "}\n",
       "\n",
       ".xr-var-attrs,\n",
       ".xr-var-data {\n",
       "  display: none;\n",
       "  background-color: var(--xr-background-color) !important;\n",
       "  padding-bottom: 5px !important;\n",
       "}\n",
       "\n",
       ".xr-var-attrs-in:checked ~ .xr-var-attrs,\n",
       ".xr-var-data-in:checked ~ .xr-var-data {\n",
       "  display: block;\n",
       "}\n",
       "\n",
       ".xr-var-data > table {\n",
       "  float: right;\n",
       "}\n",
       "\n",
       ".xr-var-name span,\n",
       ".xr-var-data,\n",
       ".xr-attrs {\n",
       "  padding-left: 25px !important;\n",
       "}\n",
       "\n",
       ".xr-attrs,\n",
       ".xr-var-attrs,\n",
       ".xr-var-data {\n",
       "  grid-column: 1 / -1;\n",
       "}\n",
       "\n",
       "dl.xr-attrs {\n",
       "  padding: 0;\n",
       "  margin: 0;\n",
       "  display: grid;\n",
       "  grid-template-columns: 125px auto;\n",
       "}\n",
       "\n",
       ".xr-attrs dt,\n",
       ".xr-attrs dd {\n",
       "  padding: 0;\n",
       "  margin: 0;\n",
       "  float: left;\n",
       "  padding-right: 10px;\n",
       "  width: auto;\n",
       "}\n",
       "\n",
       ".xr-attrs dt {\n",
       "  font-weight: normal;\n",
       "  grid-column: 1;\n",
       "}\n",
       "\n",
       ".xr-attrs dt:hover span {\n",
       "  display: inline-block;\n",
       "  background: var(--xr-background-color);\n",
       "  padding-right: 10px;\n",
       "}\n",
       "\n",
       ".xr-attrs dd {\n",
       "  grid-column: 2;\n",
       "  white-space: pre-wrap;\n",
       "  word-break: break-all;\n",
       "}\n",
       "\n",
       ".xr-icon-database,\n",
       ".xr-icon-file-text2 {\n",
       "  display: inline-block;\n",
       "  vertical-align: middle;\n",
       "  width: 1em;\n",
       "  height: 1.5em !important;\n",
       "  stroke-width: 0;\n",
       "  stroke: currentColor;\n",
       "  fill: currentColor;\n",
       "}\n",
       "</style><pre class='xr-text-repr-fallback'>&lt;xarray.DataArray &#x27;time&#x27; ()&gt;\n",
       "array(&#x27;2017-03-04T00:30:00.000000000&#x27;, dtype=&#x27;datetime64[ns]&#x27;)\n",
       "Coordinates:\n",
       "    time     datetime64[ns] 2017-03-03T00:30:00\n",
       "    grid_z   int16 39</pre><div class='xr-wrap' hidden><div class='xr-header'><div class='xr-obj-type'>xarray.DataArray</div><div class='xr-array-name'>'time'</div></div><ul class='xr-sections'><li class='xr-section-item'><div class='xr-array-wrap'><input id='section-7627a4d5-8df3-4b09-a5dc-09b5dd82bb3e' class='xr-array-in' type='checkbox' checked><label for='section-7627a4d5-8df3-4b09-a5dc-09b5dd82bb3e' title='Show/hide data repr'><svg class='icon xr-icon-database'><use xlink:href='#icon-database'></use></svg></label><div class='xr-array-preview xr-preview'><span>2017-03-04T00:30:00</span></div><div class='xr-array-data'><pre>array(&#x27;2017-03-04T00:30:00.000000000&#x27;, dtype=&#x27;datetime64[ns]&#x27;)</pre></div></div></li><li class='xr-section-item'><input id='section-1610542a-6542-4695-becb-dec97b65bbe3' class='xr-section-summary-in' type='checkbox'  checked><label for='section-1610542a-6542-4695-becb-dec97b65bbe3' class='xr-section-summary' >Coordinates: <span>(2)</span></label><div class='xr-section-inline-details'></div><div class='xr-section-details'><ul class='xr-var-list'><li class='xr-var-item'><div class='xr-var-name'><span>time</span></div><div class='xr-var-dims'>()</div><div class='xr-var-dtype'>datetime64[ns]</div><div class='xr-var-preview xr-preview'>2017-03-03T00:30:00</div><input id='attrs-ae8a0c2f-2359-4623-9877-d32efc42704b' class='xr-var-attrs-in' type='checkbox' ><label for='attrs-ae8a0c2f-2359-4623-9877-d32efc42704b' title='Show/Hide attributes'><svg class='icon xr-icon-file-text2'><use xlink:href='#icon-file-text2'></use></svg></label><input id='data-262c2693-6bf0-4c57-a78b-27d530652edd' class='xr-var-data-in' type='checkbox'><label for='data-262c2693-6bf0-4c57-a78b-27d530652edd' title='Show/Hide data repr'><svg class='icon xr-icon-database'><use xlink:href='#icon-database'></use></svg></label><div class='xr-var-attrs'><dl class='xr-attrs'><dt><span>standard_name :</span></dt><dd>time</dd><dt><span>long_name :</span></dt><dd>time</dd><dt><span>tz_name :</span></dt><dd>UTC</dd></dl></div><div class='xr-var-data'><pre>array(&#x27;2017-03-03T00:30:00.000000000&#x27;, dtype=&#x27;datetime64[ns]&#x27;)</pre></div></li><li class='xr-var-item'><div class='xr-var-name'><span>grid_z</span></div><div class='xr-var-dims'>()</div><div class='xr-var-dtype'>int16</div><div class='xr-var-preview xr-preview'>39</div><input id='attrs-24c341a6-b9f2-4d9c-bbe1-229ec2336de7' class='xr-var-attrs-in' type='checkbox' ><label for='attrs-24c341a6-b9f2-4d9c-bbe1-229ec2336de7' title='Show/Hide attributes'><svg class='icon xr-icon-file-text2'><use xlink:href='#icon-file-text2'></use></svg></label><input id='data-d2c2f805-f671-459b-a540-72cafc9c7842' class='xr-var-data-in' type='checkbox'><label for='data-d2c2f805-f671-459b-a540-72cafc9c7842' title='Show/Hide data repr'><svg class='icon xr-icon-database'><use xlink:href='#icon-database'></use></svg></label><div class='xr-var-attrs'><dl class='xr-attrs'><dt><span>standard_name :</span></dt><dd>model_level_index</dd><dt><span>long_name :</span></dt><dd>depth level</dd></dl></div><div class='xr-var-data'><pre>array(39, dtype=int16)</pre></div></li></ul></div></li><li class='xr-section-item'><input id='section-d626a1c4-ad46-41c0-81b7-8b12b52b6097' class='xr-section-summary-in' type='checkbox' disabled ><label for='section-d626a1c4-ad46-41c0-81b7-8b12b52b6097' class='xr-section-summary'  title='Expand/collapse section'>Attributes: <span>(0)</span></label><div class='xr-section-inline-details'></div><div class='xr-section-details'><dl class='xr-attrs'></dl></div></li></ul></div></div>"
      ],
      "text/plain": [
       "<xarray.DataArray 'time' ()>\n",
       "array('2017-03-04T00:30:00.000000000', dtype='datetime64[ns]')\n",
       "Coordinates:\n",
       "    time     datetime64[ns] 2017-03-03T00:30:00\n",
       "    grid_z   int16 39"
      ]
     },
     "execution_count": 38,
     "metadata": {},
     "output_type": "execute_result"
    }
   ],
   "source": [
    "spill_start + one_day"
   ]
  },
  {
   "cell_type": "code",
   "execution_count": 39,
   "id": "03f26416-7977-4d4b-80ba-9dd4eff106a6",
   "metadata": {},
   "outputs": [
    {
     "data": {
      "text/plain": [
       "numpy.datetime64('2017-03-04T00:30:00.000000000')"
      ]
     },
     "execution_count": 39,
     "metadata": {},
     "output_type": "execute_result"
    }
   ],
   "source": [
    "vol3d[oil][idx].time[0].values + one_day"
   ]
  },
  {
   "cell_type": "code",
   "execution_count": 40,
   "id": "ae7a3af6-4467-433c-b736-95352ea78a4f",
   "metadata": {},
   "outputs": [
    {
     "data": {
      "text/plain": [
       "numpy.datetime64('2017-03-10T00:30:00.000000000')"
      ]
     },
     "execution_count": 40,
     "metadata": {},
     "output_type": "execute_result"
    }
   ],
   "source": [
    "spill_start.values + seven_days"
   ]
  },
  {
   "cell_type": "code",
   "execution_count": 41,
   "id": "f421f5b1-97e4-4337-b6d1-a05debffc0ed",
   "metadata": {},
   "outputs": [
    {
     "data": {
      "text/plain": [
       "numpy.datetime64('2017-03-09T23:30:00.000000000')"
      ]
     },
     "execution_count": 41,
     "metadata": {},
     "output_type": "execute_result"
    }
   ],
   "source": [
    "spill_end.values"
   ]
  },
  {
   "cell_type": "markdown",
   "id": "a32f3406-00f8-43ef-88eb-78cd377bee4b",
   "metadata": {},
   "source": [
    "### straight sum"
   ]
  },
  {
   "cell_type": "code",
   "execution_count": 42,
   "id": "0caf06d0-a181-49e7-9b8b-454d7b57ef9b",
   "metadata": {},
   "outputs": [],
   "source": [
    "SurfaceOut = {}\n",
    "SurfaceOut['SurfacePresence']=MOHID_In.SurfacePresence.sum(dim='nspills') \n",
    "SurfaceOut['SurfaceVolume_SumSum']=MOHID_In.SurfaceVolumeSum.sum(\n",
    "    dim='nspills', skipna=True)    \n",
    "SurfaceOut['SurfaceVolume_SumSum_24h']=MOHID_In.SurfaceVolumeSum_24h.sum(\n",
    "    dim='nspills', skipna=True)\n",
    "SurfaceOut['SurfaceVolume_SumSum_24h_to_72h']=MOHID_In.SurfaceVolumeSum_24h_to_72h.sum(\n",
    "    dim='nspills', skipna=True)\n",
    "SurfaceOut['SurfaceVolume_SumSum_72h_to_168h']=MOHID_In.SurfaceVolumeSum_72h_to_168h.sum(\n",
    "    dim='nspills', skipna=True)\n",
    "SurfaceOut['SurfaceVolume_MaxSum']=MOHID_In.SurfaceVolumeMax.sum(\n",
    "    dim='nspills', skipna=True)"
   ]
  },
  {
   "cell_type": "markdown",
   "id": "f2e9dc13-08b9-4d3a-b015-6566802da029",
   "metadata": {},
   "source": [
    "### log transpose first then sum "
   ]
  },
  {
   "cell_type": "code",
   "execution_count": 43,
   "id": "c84e8fe8-ca14-4850-a9df-fdad62f25ad8",
   "metadata": {},
   "outputs": [],
   "source": [
    "SurfaceOut['SurfaceVolume_SumSum_ln']=numpy.log(\n",
    "   MOHID_In.SurfaceVolumeSum.where(MOHID_In.SurfaceVolumeSum>0)\n",
    ").sum(dim='nspills', skipna=True)\n",
    "SurfaceOut['SurfaceVolume_SumSum_24h_ln']=numpy.log(\n",
    "   MOHID_In.SurfaceVolumeSum_24h.where(MOHID_In.SurfaceVolumeSum_24h>0)\n",
    ").sum(dim='nspills', skipna=True)\n",
    "SurfaceOut['SurfaceVolume_SumSum_24h_to_72h_ln']=numpy.log(\n",
    "   MOHID_In.SurfaceVolumeSum_24h_to_72h.where(\n",
    "       MOHID_In.SurfaceVolumeSum_24h_to_72h>0)\n",
    ").sum(dim='nspills', skipna=True)\n",
    "SurfaceOut['SurfaceVolume_SumSum_72h_to_168h_ln']=numpy.log(\n",
    "   MOHID_In.SurfaceVolumeSum_72h_to_168h.where(\n",
    "       MOHID_In.SurfaceVolumeSum_72h_to_168h>0)\n",
    ").sum(dim='nspills', skipna=True)\n",
    "SurfaceOut['SurfaceVolume_MaxSum_ln']=numpy.log(\n",
    "    MOHID_In.SurfaceVolumeMax.where(\n",
    "    MOHID_In.SurfaceVolumeMax>0)).sum(dim='nspills', skipna=True)"
   ]
  },
  {
   "cell_type": "markdown",
   "id": "408c79c5-e850-403b-bfb3-9ff89407d2b7",
   "metadata": {},
   "source": [
    "## Plot 5 largest bunker spills\n",
    "- histogram of surface volume of all 5 spills\n",
    "- histogram of straight sum of surface volume\n",
    "- histogram of geometric sum (for lack of a better term)"
   ]
  },
  {
   "cell_type": "code",
   "execution_count": 44,
   "id": "bdc17906-12c3-4fca-9b4a-2322c3554c43",
   "metadata": {},
   "outputs": [
    {
     "data": {
      "text/plain": [
       "(0.7, 500000.0)"
      ]
     },
     "execution_count": 44,
     "metadata": {},
     "output_type": "execute_result"
    },
    {
     "data": {
      "image/png": "[encoded data removed]",
      "text/plain": [
       "<Figure size 576x288 with 2 Axes>"
      ]
     },
     "metadata": {
      "needs_background": "light"
     },
     "output_type": "display_data"
    }
   ],
   "source": [
    "bins = numpy.arange(surface_threshold,3000,100)\n",
    "color=['green','blue','grey','purple']\n",
    "fig, axs = plt.subplots(1, 2, figsize=(8, 4), \n",
    "                        gridspec_kw={'wspace': 0.25, 'hspace': 0.1})\n",
    "for idx in numpy.arange(0,4):\n",
    "    MOHID_In.SurfaceVolumeSum[idx,:,:].plot.hist(ax=axs[0],log=True, bins=bins,alpha=0.5, color=color[idx])\n",
    "MOHID_In.SurfaceVolumeSum.plot.hist(ax=axs[1],log=True, bins=bins,alpha=0.5, color=color[idx])\n",
    "axs[0].set_title('individual spills')\n",
    "axs[0].set_ylim(7e-1, 5e5)\n",
    "axs[1].set_title('aggregated spills')\n",
    "axs[1].set_ylim(7e-1, 5e5)"
   ]
  },
  {
   "cell_type": "code",
   "execution_count": 45,
   "id": "d04450cf-766f-466a-9733-3420c8476873",
   "metadata": {},
   "outputs": [
    {
     "data": {
      "image/png": "[encoded data removed]",
      "text/plain": [
       "<Figure size 576x288 with 3 Axes>"
      ]
     },
     "metadata": {
      "needs_background": "light"
     },
     "output_type": "display_data"
    }
   ],
   "source": [
    "# SurfaceOut['SurfaceLogMean']= numpy.where(\n",
    "#     SurfaceOut['SurfaceVolume_SumSum_ln']>0,\n",
    "#     SurfaceOut['SurfaceVolume_SumSum_ln']/SurfaceOut['SurfacePresence'],\n",
    "#     numpy.nan)\n",
    "SurfaceOut['SurfaceLogMean']= SurfaceOut['SurfaceVolume_SumSum_ln']/SurfaceOut['SurfacePresence']\n",
    "SurfaceOut['SurfaceLogSum'] = numpy.exp(SurfaceOut['SurfaceLogMean'])*SurfaceOut['SurfacePresence']\n",
    "%matplotlib inline    \n",
    "fig, axs = plt.subplots(1, 3, figsize=(8, 4), gridspec_kw={'wspace': 0.25, 'hspace': 0.1})\n",
    "MOHID_In.SurfaceVolumeSum.plot.hist(ax=axs[0],log=True, bins=bins,alpha=0.5, color='purple')\n",
    "SurfaceOut['SurfaceVolume_SumSum'].plot.hist(ax=axs[1],log=True, bins=bins,alpha=0.5, color='purple')\n",
    "# calculate geometric mean where oil is present\n",
    "SurfaceOut['SurfaceLogSum'].plot.hist(ax=axs[2],log=True, bins=bins,alpha=0.5, color='purple')\n",
    "axs[0].set_title(f'All values')\n",
    "axs[1].set_title(f'Straight Sum \\nover runs')\n",
    "axs[2].set_title(f'Geometric Sum \\nover runs')\n",
    "for idx in [0,1,2]:\n",
    "    axs[idx].set_ylim(7e-1, 5e5)"
   ]
  },
  {
   "cell_type": "markdown",
   "id": "f3bfe366-a433-412e-aa76-97cfa0ba1452",
   "metadata": {},
   "source": [
    "## Evaluate sums over time intervals\n",
    "- compare sum over intervals to total sum"
   ]
  },
  {
   "cell_type": "code",
   "execution_count": 46,
   "id": "a19bc939-cf4a-4af0-87ac-42acdaf9b16d",
   "metadata": {},
   "outputs": [
    {
     "data": {
      "text/plain": [
       "<matplotlib.collections.QuadMesh at 0x2af42a0a7f10>"
      ]
     },
     "execution_count": 46,
     "metadata": {},
     "output_type": "execute_result"
    },
    {
     "data": {
      "image/png": "[encoded data removed]",
      "text/plain": [
       "<Figure size 432x288 with 2 Axes>"
      ]
     },
     "metadata": {
      "needs_background": "light"
     },
     "output_type": "display_data"
    }
   ],
   "source": [
    "SumTimeIntervals = (\n",
    "    SurfaceOut['SurfaceVolume_SumSum_24h']+\\\n",
    "    SurfaceOut['SurfaceVolume_SumSum_24h_to_72h']+\\\n",
    "    SurfaceOut['SurfaceVolume_SumSum_72h_to_168h'] \n",
    ")\n",
    "SumDiff = SumTimeIntervals-SurfaceOut['SurfaceVolume_SumSum']\n",
    "SumDiff.plot.pcolormesh()"
   ]
  },
  {
   "cell_type": "code",
   "execution_count": 47,
   "id": "db9c4dbe-db8e-49d6-8806-697d605b8e78",
   "metadata": {},
   "outputs": [
    {
     "data": {
      "text/plain": [
       "9515.999900000012"
      ]
     },
     "execution_count": 47,
     "metadata": {},
     "output_type": "execute_result"
    }
   ],
   "source": [
    "SumDiff.sum().values.item()"
   ]
  },
  {
   "cell_type": "markdown",
   "id": "91d7bf55-1ebd-4226-a767-83419de51959",
   "metadata": {},
   "source": [
    "###  Not a non-zero difference = go fish! "
   ]
  },
  {
   "cell_type": "code",
   "execution_count": 58,
   "id": "52830cd9-20bb-4734-8185-e78c3739f7b0",
   "metadata": {},
   "outputs": [],
   "source": [
    "for idx in vol3d[oil]:\n",
    "    spill_start = vol3d[oil][idx].time[0] \n",
    "    spill_end = vol3d[oil][idx].time[-1]\n",
    "    # define time thresholds\n",
    "    one_day=numpy.timedelta64(24,'h')\n",
    "    three_days=numpy.timedelta64(48,'h')\n",
    "    seven_days=numpy.timedelta64(168,'h')\n",
    "    # Select surface volume, concentration and dissolution\n",
    "    vol3d_orig=vol3d[oil][idx]\n",
    "    # Sum volume over time where volume is greater than threshold\n",
    "    vol3d_sumt = vol3d_orig.where(vol3d_orig>sfc_vol_threshold).sum(\n",
    "            dim=\"time\",skipna=True)\n",
    "    # 3d volume above threshold limits\n",
    "    vol3dthresh = vol3d_orig.where(vol3d_orig>sfc_vol_threshold)\n",
    "    #~~~ Without log transforme ~~~ \n",
    "    MOHID_In.SurfacePresence[idx,:,:]=(\n",
    "        vol3d_orig.max(dim='time',skipna=True)>sfc_vol_threshold\n",
    "    ).astype(int)\n",
    "    MOHID_In.SurfacePresence_24h[idx,:,:]=(\n",
    "        vol3d_orig.max(dim='time',skipna=True)>sfc_vol_threshold\n",
    "        ).where(numpy.logical_and(\n",
    "            oilArrTime[oil][idx]>=spill_start,\n",
    "            oilArrTime[oil][idx]<spill_start+one_day),\n",
    "            False\n",
    "    ).astype(int)\n",
    "    MOHID_In.SurfacePresence_24h_to_72h[idx,:,:]=(\n",
    "        vol3d_orig.max(dim='time',skipna=True)>sfc_vol_threshold\n",
    "        ).where(numpy.logical_and(\n",
    "            oilArrTime[oil][idx]>=spill_start+one_day,\n",
    "            oilArrTime[oil][idx]<spill_start+three_days),\n",
    "            False\n",
    "    ).astype(int)\n",
    "    MOHID_In.SurfacePresence_72h_to_168h[idx,:,:]=(\n",
    "        vol3d_orig.max(dim='time',skipna=True)>sfc_vol_threshold\n",
    "        ).where(numpy.logical_and(\n",
    "            oilArrTime[oil][idx]>=spill_start+three_days,\n",
    "            oilArrTime[oil][idx]<spill_start+seven_days),\n",
    "            False\n",
    "    ).astype(int)\n",
    "    MOHID_In.SurfaceVolumeSum[idx,:,:]=vol3d_sumt\n",
    "    MOHID_In.SurfaceVolumeSum_24h[idx,:,:]=vol3dthresh.where(\n",
    "        numpy.logical_and(\n",
    "            oilArrTime[oil][idx]>=spill_start,\n",
    "            oilArrTime[oil][idx]<spill_start+one_day),\n",
    "            False\n",
    "        ).sum(dim=\"time\",skipna=True)\n",
    "    MOHID_In.SurfaceVolumeSum_24h_to_72h[idx,:,:]=vol3dthresh.where(\n",
    "        numpy.logical_and(\n",
    "            oilArrTime[oil][idx]>=spill_start+one_day,\n",
    "            oilArrTime[oil][idx]<spill_start+three_days),\n",
    "            False\n",
    "        ).sum(dim=\"time\",skipna=True)\n",
    "    MOHID_In.SurfaceVolumeSum_72h_to_168h[idx,:,:]=vol3dthresh.where(\n",
    "        numpy.logical_and(\n",
    "            oilArrTime[oil][idx]>=spill_start+three_days,\n",
    "            oilArrTime[oil][idx]<spill_start+seven_days),\n",
    "            False\n",
    "        ).sum(dim=\"time\",skipna=True)\n",
    "SurfaceOut = {}\n",
    "SurfaceOut['SurfacePresence']=MOHID_In.SurfacePresence.sum(dim='nspills') \n",
    "SurfaceOut['SurfacePresence_24h']=(\n",
    "    MOHID_In.SurfacePresence_24h.sum(dim='nspills')\n",
    ")\n",
    "SurfaceOut['SurfacePresence_24h_to_72h']=(\n",
    "    MOHID_In.SurfacePresence_24h_to_72h.sum(dim='nspills')\n",
    ")\n",
    "SurfaceOut['SurfacePresence_72h_to_168h']=(\n",
    "    MOHID_In.SurfacePresence_72h_to_168h.sum(dim='nspills')\n",
    ") \n",
    "SurfaceOut['SurfaceVolume_SumSum']=MOHID_In.SurfaceVolumeSum.sum(\n",
    "    dim='nspills', skipna=True)    \n",
    "SurfaceOut['SurfaceVolume_SumSum_24h']=MOHID_In.SurfaceVolumeSum_24h.sum(\n",
    "    dim='nspills', skipna=True)\n",
    "SurfaceOut['SurfaceVolume_SumSum_24h_to_72h']=MOHID_In.SurfaceVolumeSum_24h_to_72h.sum(\n",
    "    dim='nspills', skipna=True)\n",
    "SurfaceOut['SurfaceVolume_SumSum_72h_to_168h']=MOHID_In.SurfaceVolumeSum_72h_to_168h.sum(\n",
    "    dim='nspills', skipna=True)\n",
    "SurfaceOut['SurfaceVolume_MaxSum']=MOHID_In.SurfaceVolumeMax.sum(\n",
    "    dim='nspills', skipna=True) \n",
    "SurfaceOut['SurfaceVolume_SumSum_ln']=numpy.log(\n",
    "   MOHID_In.SurfaceVolumeSum.where(MOHID_In.SurfaceVolumeSum>0)\n",
    ").sum(dim='nspills', skipna=True)\n",
    "SurfaceOut['SurfaceVolume_SumSum_24h_ln']=numpy.log(\n",
    "   MOHID_In.SurfaceVolumeSum_24h.where(MOHID_In.SurfaceVolumeSum_24h>0)\n",
    ").sum(dim='nspills', skipna=True)\n",
    "SurfaceOut['SurfaceVolume_SumSum_24h_to_72h_ln']=numpy.log(\n",
    "   MOHID_In.SurfaceVolumeSum_24h_to_72h.where(\n",
    "       MOHID_In.SurfaceVolumeSum_24h_to_72h>0)\n",
    ").sum(dim='nspills', skipna=True)\n",
    "SurfaceOut['SurfaceVolume_SumSum_72h_to_168h_ln']=numpy.log(\n",
    "   MOHID_In.SurfaceVolumeSum_72h_to_168h.where(\n",
    "       MOHID_In.SurfaceVolumeSum_72h_to_168h>0)\n",
    ").sum(dim='nspills', skipna=True)\n",
    "SurfaceOut['SurfaceVolume_MaxSum_ln']=numpy.log(\n",
    "    MOHID_In.SurfaceVolumeMax.where(\n",
    "    MOHID_In.SurfaceVolumeMax>0)).sum(dim='nspills', skipna=True)"
   ]
  },
  {
   "cell_type": "code",
   "execution_count": 60,
   "id": "f422d434-6e68-47a0-8ebc-bee43eea1163",
   "metadata": {},
   "outputs": [
    {
     "data": {
      "text/plain": [
       "0"
      ]
     },
     "execution_count": 60,
     "metadata": {},
     "output_type": "execute_result"
    }
   ],
   "source": [
    "SumTimeIntervals = (\n",
    "    SurfaceOut['SurfacePresence_24h']+\\\n",
    "    SurfaceOut['SurfacePresence_24h_to_72h']+\\\n",
    "    SurfaceOut['SurfacePresence_72h_to_168h'] \n",
    ")\n",
    "SumDiff = SumTimeIntervals-SurfaceOut['SurfacePresence']\n",
    "SumDiff.sum().values.item()"
   ]
  },
  {
   "cell_type": "code",
   "execution_count": 56,
   "id": "5c4c5eb6-3ad5-47f2-963b-1e7b16ba470a",
   "metadata": {},
   "outputs": [
    {
     "data": {
      "text/plain": [
       "<matplotlib.collections.QuadMesh at 0x2af429efc280>"
      ]
     },
     "execution_count": 56,
     "metadata": {},
     "output_type": "execute_result"
    },
    {
     "data": {
      "image/png": "[encoded data removed]",
      "text/plain": [
       "<Figure size 432x288 with 2 Axes>"
      ]
     },
     "metadata": {
      "needs_background": "light"
     },
     "output_type": "display_data"
    }
   ],
   "source": [
    "SumTimeIntervals = (\n",
    "    SurfaceOut['SurfaceVolume_SumSum_24h']+\\\n",
    "    SurfaceOut['SurfaceVolume_SumSum_24h_to_72h']+\\\n",
    "    SurfaceOut['SurfaceVolume_SumSum_72h_to_168h'] \n",
    ")\n",
    "SumDiff = SumTimeIntervals-SurfaceOut['SurfaceVolume_SumSum']\n",
    "SumDiff.plot.pcolormesh()"
   ]
  },
  {
   "cell_type": "code",
   "execution_count": 57,
   "id": "e6039470-d634-48ba-a75d-217dd91514ed",
   "metadata": {},
   "outputs": [
    {
     "data": {
      "text/plain": [
       "7.803757640090225e-13"
      ]
     },
     "execution_count": 57,
     "metadata": {},
     "output_type": "execute_result"
    }
   ],
   "source": [
    "SumDiff.sum().values.item()"
   ]
  },
  {
   "cell_type": "markdown",
   "id": "e2aa5340-0148-4077-b88b-083ff75e22e6",
   "metadata": {},
   "source": [
    "### I can definitely live with that degree of error!  "
   ]
  },
  {
   "cell_type": "code",
   "execution_count": null,
   "id": "1d7fe049-4477-4e1a-8545-8682c7226a9c",
   "metadata": {},
   "outputs": [],
   "source": []
  }
 ],
 "metadata": {
  "kernelspec": {
   "display_name": "Python 3 (ipykernel)",
   "language": "python",
   "name": "python3"
  },
  "language_info": {
   "codemirror_mode": {
    "name": "ipython",
    "version": 3
   },
   "file_extension": ".py",
   "mimetype": "text/x-python",
   "name": "python",
   "nbconvert_exporter": "python",
   "pygments_lexer": "ipython3",
   "version": "3.8.2"
  }
 },
 "nbformat": 4,
 "nbformat_minor": 5
}
