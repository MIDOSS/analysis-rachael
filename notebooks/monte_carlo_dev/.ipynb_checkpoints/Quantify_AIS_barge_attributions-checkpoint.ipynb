{
 "cells": [
  {
   "cell_type": "code",
   "execution_count": 1,
   "id": "d25ac8f0",
   "metadata": {
    "scrolled": true
   },
   "outputs": [],
   "source": [
    "# import necessary packages\n",
    "import os\n",
    "import pandas\n",
    "import numpy\n",
    "import matplotlib.pyplot as plt\n",
    "#import geopandas as gpd\n",
    "from pathlib import Path\n",
    "# import function for querying DOE dataframesaq    \n",
    "from monte_carlo_utils import get_DOE_atb, get_DOE_barges, concat_shp\n",
    "from dask import delayed\n",
    "\n",
    "# set file location and name\n",
    "atb_shp_path = Path('/data/MIDOSS/shapefiles/atb_2018_01.shp')\n",
    "barge_shp_path = Path('/data/MIDOSS/shapefiles/barge_2018_01.shp')\n",
    "doe_xls_path = Path('/data/MIDOSS/spreadsheets/MuellerTrans4-30-20.xlsx')\n",
    "fac_xls_path = Path(\n",
    "    '/home/rmueller/Projects/MIDOSS/marine_transport_data/Oil_Transfer_Facilities.xlsx'\n",
    ")\n",
    "shapefile_path = Path('/data/MIDOSS/shapefiles/') \n",
    "\n",
    "# import facility locations\n",
    "facWA = pandas.read_excel(\n",
    "    fac_xls_path,\n",
    "    sheet_name = 'Washington',\n",
    "    usecols=\"B,D,J,K\"\n",
    ")\n",
    "\n",
    "# import facility locations\n",
    "facCAD = pandas.read_excel(\n",
    "    fac_xls_path,\n",
    "    sheet_name = 'British Columbia',\n",
    "    usecols=\"A\",\n",
    "    nrows=10\n",
    ")"
   ]
  },
  {
   "cell_type": "code",
   "execution_count": 2,
   "id": "fc7f40df",
   "metadata": {},
   "outputs": [],
   "source": [
    "# def concat_shp(ship_type, shapefile_path):\n",
    "#     \"\"\"\n",
    "#       INPUT: \n",
    "#           - ship_type [\"tanker\", \"barge\", \"atb\", etc]: MIDOSS-name for ship type (see oil_attribution.yaml for list)\n",
    "#           - shapefile_path [Path]: e.g., on Salish,Path('/data/MIDOSS/shapefiles/') \n",
    "#       OUTPUT: \n",
    "#           - dataframe of all 2018 ship tracks for given ship_type\n",
    "#       requirements: \n",
    "#           This script requires being run on Salish.eoas.ubc.ca, with path to shapefiles being /data/MIDOSS/shapefiles/\n",
    "#     \"\"\"\n",
    "#     for months in range(1,13):\n",
    "#         # set file location and name\n",
    "#         shapefile = shapefile_path/f'{ship_type}_2018_{months:02d}.shp'\n",
    "#         # import shapefile using geopandas\n",
    "#         monthly_shp = gpd.read_file(shapefile)\n",
    "#         if months == 1:\n",
    "#             print(f'creating {ship_type} shapefile for 2018, starting with January data')\n",
    "#             allTracks = monthly_shp\n",
    "#         else:\n",
    "#             print(f'Concatenating {ship_type} data from month {months}')\n",
    "#             allTracks = gpd.GeoDataFrame(\n",
    "#                 pandas.concat([allTracks, monthly_shp])\n",
    "#             )\n",
    "#     return allTracks"
   ]
  },
  {
   "cell_type": "markdown",
   "id": "1b39877f",
   "metadata": {},
   "source": [
    "# Concatenate all monthly ship track data to get values for entire year"
   ]
  },
  {
   "cell_type": "markdown",
   "id": "fc524267",
   "metadata": {},
   "source": [
    "### ATBs"
   ]
  },
  {
   "cell_type": "code",
   "execution_count": 3,
   "id": "1b8295db",
   "metadata": {},
   "outputs": [
    {
     "name": "stdout",
     "output_type": "stream",
     "text": [
      "creating atb shapefile for 2018, starting with January data\n",
      "Concatenating atb data from month 2\n",
      "Concatenating atb data from month 3\n",
      "Concatenating atb data from month 4\n",
      "Concatenating atb data from month 5\n",
      "Concatenating atb data from month 6\n",
      "Concatenating atb data from month 7\n",
      "Concatenating atb data from month 8\n",
      "Concatenating atb data from month 9\n",
      "Concatenating atb data from month 10\n",
      "Concatenating atb data from month 11\n",
      "Concatenating atb data from month 12\n",
      "CPU times: user 36.5 s, sys: 881 ms, total: 37.4 s\n",
      "Wall time: 37.5 s\n"
     ]
    }
   ],
   "source": [
    "%%time\n",
    "allTracks = {} \n",
    "allTracks_dask = delayed(concat_shp(\"atb\", shapefile_path))\n",
    "allTracks[\"atb\"]=allTracks_dask.compute()"
   ]
  },
  {
   "cell_type": "code",
   "execution_count": 4,
   "id": "a46f7017",
   "metadata": {},
   "outputs": [
    {
     "data": {
      "text/plain": [
       "588136"
      ]
     },
     "execution_count": 4,
     "metadata": {},
     "output_type": "execute_result"
    }
   ],
   "source": [
    "allTracks[\"atb\"].shape[0]"
   ]
  },
  {
   "cell_type": "markdown",
   "id": "c2f61c95",
   "metadata": {},
   "source": [
    "### Barges"
   ]
  },
  {
   "cell_type": "code",
   "execution_count": 5,
   "id": "e63006ae",
   "metadata": {},
   "outputs": [
    {
     "name": "stdout",
     "output_type": "stream",
     "text": [
      "creating barge shapefile for 2018, starting with January data\n",
      "Concatenating barge data from month 2\n",
      "Concatenating barge data from month 3\n",
      "Concatenating barge data from month 4\n",
      "Concatenating barge data from month 5\n",
      "Concatenating barge data from month 6\n",
      "Concatenating barge data from month 7\n",
      "Concatenating barge data from month 8\n",
      "Concatenating barge data from month 9\n",
      "Concatenating barge data from month 10\n",
      "Concatenating barge data from month 11\n",
      "Concatenating barge data from month 12\n",
      "CPU times: user 15min 4s, sys: 31.4 s, total: 15min 36s\n",
      "Wall time: 15min 36s\n"
     ]
    }
   ],
   "source": [
    "%%time\n",
    "allTracks_dask = delayed(concat_shp(\"barge\", shapefile_path))\n",
    "allTracks[\"barge\"]=allTracks_dask.compute()"
   ]
  },
  {
   "cell_type": "markdown",
   "id": "27bb4a57",
   "metadata": {},
   "source": [
    "### Tankers"
   ]
  },
  {
   "cell_type": "code",
   "execution_count": 6,
   "id": "225fd7c9",
   "metadata": {},
   "outputs": [
    {
     "name": "stdout",
     "output_type": "stream",
     "text": [
      "creating tanker shapefile for 2018, starting with January data\n",
      "Concatenating tanker data from month 2\n",
      "Concatenating tanker data from month 3\n",
      "Concatenating tanker data from month 4\n",
      "Concatenating tanker data from month 5\n",
      "Concatenating tanker data from month 6\n",
      "Concatenating tanker data from month 7\n",
      "Concatenating tanker data from month 8\n",
      "Concatenating tanker data from month 9\n",
      "Concatenating tanker data from month 10\n",
      "Concatenating tanker data from month 11\n",
      "Concatenating tanker data from month 12\n",
      "CPU times: user 1min 10s, sys: 1.29 s, total: 1min 12s\n",
      "Wall time: 1min 12s\n"
     ]
    }
   ],
   "source": [
    "%%time\n",
    "ship_type = \"tanker\"\n",
    "allTracks[\"tanker\"] = concat_shp(\"tanker\", shapefile_path)"
   ]
  },
  {
   "cell_type": "markdown",
   "id": "aa45ad16",
   "metadata": {},
   "source": [
    "## Check barge ship track count used in ping-to-transfer ratio estimate\n",
    "- values recorded in `Origin_Destination_Analysis_updated.xlsx`"
   ]
  },
  {
   "cell_type": "code",
   "execution_count": 7,
   "id": "dc2bae21",
   "metadata": {},
   "outputs": [
    {
     "name": "stdout",
     "output_type": "stream",
     "text": [
      "588136 ATB ship tracks\n",
      "cf. 588,136 ATB ship tracks used in ping-to-transfer estimate\n",
      "13902896 barge ship tracks\n"
     ]
    }
   ],
   "source": [
    "print(f'{allTracks[\"atb\"].shape[0]} ATB ship tracks')\n",
    "print(f'cf. 588,136 ATB ship tracks used in ping-to-transfer estimate')\n",
    "print(f'{allTracks[\"barge\"].shape[0]} barge ship tracks')"
   ]
  },
  {
   "cell_type": "markdown",
   "id": "160185f1",
   "metadata": {},
   "source": [
    "##### Take-away: total number of ship tracks used in the ping-to-transfer ratio matches those used in this analysis.  That's good.  It's what I wanted to verify.  "
   ]
  },
  {
   "cell_type": "markdown",
   "id": "dd9b3e55",
   "metadata": {},
   "source": [
    "## Find all ATB and barge tracks with generic attribution as both origin and destination"
   ]
  },
  {
   "cell_type": "code",
   "execution_count": 8,
   "id": "acd6fbc4",
   "metadata": {},
   "outputs": [],
   "source": [
    "attribution = ['US','Canada','Pacific']\n",
    "noNone = {}\n",
    "allNone = {}\n",
    "generic = {}\n",
    "\n",
    "for vessel_type in [\"atb\",'barge']:\n",
    "    generic[vessel_type] = allTracks[vessel_type].loc[\n",
    "        (allTracks[vessel_type].TO.isin(attribution)) & \n",
    "        (allTracks[vessel_type].FROM_.isin(attribution))\n",
    "    ]"
   ]
  },
  {
   "cell_type": "code",
   "execution_count": 9,
   "id": "ad247870",
   "metadata": {},
   "outputs": [
    {
     "data": {
      "text/plain": [
       "(5865057, 7)"
      ]
     },
     "execution_count": 9,
     "metadata": {},
     "output_type": "execute_result"
    }
   ],
   "source": [
    "generic[\"barge\"].shape"
   ]
  },
  {
   "cell_type": "markdown",
   "id": "af7bf9d5",
   "metadata": {},
   "source": [
    "## Find all ship tracks with None as origin and destination"
   ]
  },
  {
   "cell_type": "code",
   "execution_count": 10,
   "id": "8430969d",
   "metadata": {},
   "outputs": [],
   "source": [
    "for vessel_type in [\"atb\",'barge']:\n",
    "    # keep rows with None attribution \n",
    "    shp_tmp = allTracks[vessel_type].isnull()\n",
    "    row_has_None = shp_tmp.any(axis=1)\n",
    "    allNone[vessel_type] = allTracks[vessel_type][row_has_None]"
   ]
  },
  {
   "cell_type": "markdown",
   "id": "fc06e332",
   "metadata": {},
   "source": [
    "## Find all ship tracks with no None designations in either origin or destination"
   ]
  },
  {
   "cell_type": "code",
   "execution_count": 11,
   "id": "a2cd32ba",
   "metadata": {},
   "outputs": [],
   "source": [
    "for vessel_type in [\"atb\",'barge']:\n",
    "    # drop rows with None attribution\n",
    "    noNone[vessel_type] = allTracks[vessel_type].dropna().reset_index(drop=True)"
   ]
  },
  {
   "cell_type": "markdown",
   "id": "eee418db",
   "metadata": {},
   "source": [
    "## Find all ship tracks with origin or destination as marine terminal\n",
    "- compare this value to frac[vessel_type][\"marine_terminal\"] to quantify how many ship tracks have mixed origin/destation as marine_terminal/generic (I don't think mixed with None is possible). "
   ]
  },
  {
   "cell_type": "code",
   "execution_count": 12,
   "id": "b3eb4d04",
   "metadata": {},
   "outputs": [],
   "source": [
    "allfac = {}\n",
    "toWA = {}\n",
    "fromWA = {}\n",
    "bothWA = {}\n",
    "for vessel_type in [\"atb\",'barge']:\n",
    "    allfac[vessel_type] = allTracks[vessel_type].loc[\n",
    "        ((allTracks[vessel_type].TO.isin(facWA.FacilityName)) |\n",
    "         (allTracks[vessel_type].FROM_.isin(facWA.FacilityName))\n",
    "        )\n",
    "    ]\n",
    "    toWA[vessel_type] = allTracks[vessel_type].loc[\n",
    "        (allTracks[vessel_type].TO.isin(facWA.FacilityName))\n",
    "    ] \n",
    "    fromWA[vessel_type] = allTracks[vessel_type].loc[\n",
    "         (allTracks[vessel_type].FROM_.isin(facWA.FacilityName))\n",
    "    ] \n",
    "    bothWA[vessel_type] = allTracks[vessel_type].loc[\n",
    "        ((allTracks[vessel_type].TO.isin(facWA.FacilityName)) &\n",
    "         (allTracks[vessel_type].FROM_.isin(facWA.FacilityName)))\n",
    "    ] "
   ]
  },
  {
   "cell_type": "markdown",
   "id": "2a9b5dfd",
   "metadata": {},
   "source": [
    "## Find all ship tracks with any WA or CAD marine oil terminal as either origin or destination"
   ]
  },
  {
   "cell_type": "code",
   "execution_count": 13,
   "id": "d1fe6e20",
   "metadata": {},
   "outputs": [],
   "source": [
    "allfacWACAD = {}\n",
    "for vessel_type in [\"atb\",\"barge\"]:\n",
    "    allfacWACAD[vessel_type] = allTracks[vessel_type].loc[\n",
    "        ((allTracks[vessel_type].TO.isin(facWA.FacilityName)) |\n",
    "         (allTracks[vessel_type].FROM_.isin(facWA.FacilityName))|\n",
    "         (allTracks[vessel_type].TO.isin(facCAD.Name)) |\n",
    "         (allTracks[vessel_type].FROM_.isin(facCAD.Name))\n",
    "        )\n",
    "    ]"
   ]
  },
  {
   "cell_type": "code",
   "execution_count": 14,
   "id": "4a29cc85",
   "metadata": {},
   "outputs": [
    {
     "name": "stdout",
     "output_type": "stream",
     "text": [
      "To OR From: 129165\n",
      "To AND From: 13238\n",
      "To: 58520\n",
      "From: 83883\n",
      "To + From: 142403\n",
      "To + From - \"To AND from\": 129165\n"
     ]
    }
   ],
   "source": [
    "print(f'To OR From: {allfac[\"atb\"].shape[0]}')  \n",
    "print(f'To AND From: {bothWA[\"atb\"].shape[0]}')  \n",
    "print(f'To: {toWA[\"atb\"].shape[0]}')\n",
    "print(f'From: {fromWA[\"atb\"].shape[0]}')\n",
    "print(f'To + From: {toWA[\"atb\"].shape[0] + fromWA[\"atb\"].shape[0]}')\n",
    "print(f'To + From - \"To AND from\": {toWA[\"atb\"].shape[0] + fromWA[\"atb\"].shape[0] - bothWA[\"atb\"].shape[0]}')"
   ]
  },
  {
   "cell_type": "code",
   "execution_count": 15,
   "id": "0e5800ce",
   "metadata": {},
   "outputs": [
    {
     "data": {
      "text/plain": [
       "240620"
      ]
     },
     "execution_count": 15,
     "metadata": {},
     "output_type": "execute_result"
    }
   ],
   "source": [
    "allfacWACAD[\"atb\"].shape[0]"
   ]
  },
  {
   "cell_type": "markdown",
   "id": "f019991d",
   "metadata": {},
   "source": [
    "##### TAKE-AWAY: \n",
    "- 129165 ship tracks are to or from WA marine terminals with \n",
    "- 13238 of these having WA marine terminal as both to and from\n",
    "- The remainder are mixed with origin or destination as WA marine terminal and the other end-member being US, Pacific, Canada or CAD marine terminal (None values shouldn't be includeded here) "
   ]
  },
  {
   "cell_type": "markdown",
   "id": "2291baea",
   "metadata": {},
   "source": [
    "##### TEST: \n",
    "- All tracks = Generic + allFac + None"
   ]
  },
  {
   "cell_type": "code",
   "execution_count": 16,
   "id": "dd21ebff",
   "metadata": {},
   "outputs": [
    {
     "name": "stdout",
     "output_type": "stream",
     "text": [
      "All tracks = Generic + allFac + allNone\n",
      "588136 = 476681\n"
     ]
    }
   ],
   "source": [
    "print(f'All tracks = Generic + allFac + allNone')\n",
    "print(f'{allTracks[\"atb\"].shape[0]} = {generic[\"atb\"].shape[0] + allfac[\"atb\"].shape[0] + allNone[\"atb\"].shape[0]}')"
   ]
  },
  {
   "cell_type": "markdown",
   "id": "8287162c",
   "metadata": {},
   "source": [
    "##### Hypothesis: the difference in the above is CAD terminal transfers.  Testing...."
   ]
  },
  {
   "cell_type": "code",
   "execution_count": 17,
   "id": "684dbe98",
   "metadata": {},
   "outputs": [
    {
     "name": "stdout",
     "output_type": "stream",
     "text": [
      "All tracks = Generic + allFacWACAD + allNone\n",
      "588136 = 588136\n"
     ]
    }
   ],
   "source": [
    "print(f'All tracks = Generic + allFacWACAD + allNone')\n",
    "print(f'{allTracks[\"atb\"].shape[0]} = {generic[\"atb\"].shape[0] + allfacWACAD[\"atb\"].shape[0] + allNone[\"atb\"].shape[0]}')"
   ]
  },
  {
   "cell_type": "markdown",
   "id": "3011922f",
   "metadata": {},
   "source": [
    "##### Good!  So 588136 - 476681  = 111455 => CAD traffic.  "
   ]
  },
  {
   "cell_type": "code",
   "execution_count": 18,
   "id": "502d35d6",
   "metadata": {},
   "outputs": [
    {
     "name": "stdout",
     "output_type": "stream",
     "text": [
      "Attributed (no None in to or from): 359943\n",
      "Generic (to AND from): 119323\n",
      "Attributed - Generic = 240620\n",
      "Marine terminal (to or from): 129165\n"
     ]
    }
   ],
   "source": [
    "# compare ATB tracks\n",
    "vessel_type = \"atb\"\n",
    "print(f'Attributed (no None in to or from): {noNone[vessel_type].shape[0]}')\n",
    "print(f'Generic (to AND from): {generic[vessel_type].shape[0]}')\n",
    "print(f'Attributed - Generic = {noNone[vessel_type].shape[0] - generic[vessel_type].shape[0]}')\n",
    "print(f'Marine terminal (to or from): {allfac[vessel_type].shape[0]}')"
   ]
  },
  {
   "cell_type": "code",
   "execution_count": 19,
   "id": "722904f2",
   "metadata": {},
   "outputs": [
    {
     "name": "stdout",
     "output_type": "stream",
     "text": [
      "~~~  atb ~~~\n",
      "Fraction of atb tracks that are unattributed: 0.38799359331855215\n",
      "Fraction of atb tracks that are attributed: 0.6120064066814478\n",
      "Fraction of attributed atb tracks that are generic : 0.20288334670892447\n",
      "Fraction of attributed atb tracks that are linked to marine terminal (WACAD): 0.40912305997252335\n",
      "Fraction of attributed atb tracks that are linked to marine terminal (diff): 0.4091230599725233\n",
      "~~~  barge ~~~\n",
      "Fraction of barge tracks that are unattributed: 0.4340840929832173\n",
      "Fraction of barge tracks that are attributed: 0.5659159070167827\n",
      "Fraction of attributed barge tracks that are generic : 0.4218586544846484\n",
      "Fraction of attributed barge tracks that are linked to marine terminal (WACAD): 0.1440572525321343\n",
      "Fraction of attributed barge tracks that are linked to marine terminal (diff): 0.14405725253213436\n"
     ]
    }
   ],
   "source": [
    "# create a dictionary of ratios between subsampled data and all ship tracks\n",
    "frac = {}\n",
    "frac['atb'] = {}\n",
    "frac['barge'] = {}\n",
    "for vessel_type in [\"atb\",\"barge\"]:\n",
    "    frac[vessel_type][\"unattributed\"] = allNone[vessel_type].shape[0]/allTracks[vessel_type].shape[0]\n",
    "    frac[vessel_type][\"attributed\"] = noNone[vessel_type].shape[0]/allTracks[vessel_type].shape[0]\n",
    "    frac[vessel_type][\"generic\"] = generic[vessel_type].shape[0]/allTracks[vessel_type].shape[0]\n",
    "    frac[vessel_type][\"marine_terminal_WACAD\"] = allfacWACAD[vessel_type].shape[0]/allTracks[vessel_type].shape[0]\n",
    "    frac[vessel_type][\"marine_terminal_diff\"] = frac[vessel_type][\"attributed\"] - frac[vessel_type][\"generic\"]\n",
    "    print(f'~~~  {vessel_type} ~~~')\n",
    "    print(f'Fraction of {vessel_type} tracks that are unattributed: {frac[vessel_type][\"unattributed\"]}')\n",
    "    print(f'Fraction of {vessel_type} tracks that are attributed: {frac[vessel_type][\"attributed\"]}')\n",
    "    print(f'Fraction of attributed {vessel_type} tracks that are generic : {frac[vessel_type][\"generic\"]}')\n",
    "    print(f'Fraction of attributed {vessel_type} tracks that are linked to marine terminal (WACAD): {frac[vessel_type][\"marine_terminal_WACAD\"]}')\n",
    "    print(f'Fraction of attributed {vessel_type} tracks that are linked to marine terminal (diff): {frac[vessel_type][\"marine_terminal_diff\"]}')"
   ]
  },
  {
   "cell_type": "code",
   "execution_count": 20,
   "id": "0ff79bd4",
   "metadata": {},
   "outputs": [
    {
     "name": "stdout",
     "output_type": "stream",
     "text": [
      "Total number of tracks for atb: 5.88e+05\n",
      "Total number of tracks for barge: 1.39e+07\n"
     ]
    }
   ],
   "source": [
    "for vessel_type in [\"atb\",\"barge\"]:\n",
    "    print(f'Total number of tracks for {vessel_type}: {allTracks[vessel_type].shape[0]:1.2e}')"
   ]
  },
  {
   "cell_type": "code",
   "execution_count": 21,
   "id": "c1f7bdc5",
   "metadata": {},
   "outputs": [
    {
     "name": "stdout",
     "output_type": "stream",
     "text": [
      "Total number of unattributed barge tracks: 6035026.00\n",
      "Total number of generically-attributed barge tracks: 5865057.00\n",
      "Total number of marine-terminal-attributed barge tracks: 2002813.00\n"
     ]
    }
   ],
   "source": [
    "print(f'Total number of unattributed barge tracks: {allTracks[vessel_type].shape[0]*frac[vessel_type][\"unattributed\"]:10.2f}')\n",
    "print(f'Total number of generically-attributed barge tracks: {allTracks[vessel_type].shape[0]*frac[vessel_type][\"generic\"]:10.2f}')\n",
    "print(f'Total number of marine-terminal-attributed barge tracks: {allTracks[vessel_type].shape[0]*frac[vessel_type][\"marine_terminal_WACAD\"]:10.2f}')"
   ]
  },
  {
   "cell_type": "markdown",
   "id": "f83fe18c",
   "metadata": {},
   "source": [
    "## Quantify barge and ATB cargo transfers in 2018 DOE database"
   ]
  },
  {
   "cell_type": "code",
   "execution_count": 22,
   "id": "447a43ae",
   "metadata": {},
   "outputs": [
    {
     "name": "stdout",
     "output_type": "stream",
     "text": [
      "get_DOE_barges: not yet tested with fac_xls as input\n",
      "combined\n",
      "cargo\n",
      "cargo\n"
     ]
    }
   ],
   "source": [
    "[atb_in, atb_out]=get_DOE_atb(\n",
    "    doe_xls_path, \n",
    "    fac_xls_path, \n",
    "    transfer_type = 'cargo', \n",
    "    facilities='selected'\n",
    ")\n",
    "barge_inout=get_DOE_barges(\n",
    "    doe_xls_path,\n",
    "    fac_xls_path, \n",
    "    direction='combined',\n",
    "    facilities='selected',\n",
    "    transfer_type = 'cargo')"
   ]
  },
  {
   "cell_type": "code",
   "execution_count": 23,
   "id": "31852266",
   "metadata": {},
   "outputs": [
    {
     "name": "stdout",
     "output_type": "stream",
     "text": [
      "677 cargo transfers for atbs\n",
      "2773 cargo transfers for barges\n"
     ]
    }
   ],
   "source": [
    "transfers = {}\n",
    "transfers[\"barge\"] = barge_inout.shape[0]\n",
    "transfers[\"atb\"] = atb_in.shape[0] + atb_out.shape[0]\n",
    "print(f'{transfers[\"atb\"]} cargo transfers for atbs')\n",
    "print(f'{transfers[\"barge\"]} cargo transfers for barges')"
   ]
  },
  {
   "cell_type": "markdown",
   "id": "026be87c",
   "metadata": {},
   "source": [
    "### Group barge and atb transfers by AntID and:\n",
    "- compare transfers\n",
    "- compare fraction of grouped transfers to ungrouped transfers by vessel type"
   ]
  },
  {
   "cell_type": "code",
   "execution_count": 24,
   "id": "568b687a",
   "metadata": {},
   "outputs": [
    {
     "name": "stdout",
     "output_type": "stream",
     "text": [
      "482 ATB cargo transfers based on AntID\n",
      "0.71 ATB fraction AntID to all\n",
      "2334 barge cargo transfers based on AntID\n",
      "0.84 barge fraction AntID to all\n"
     ]
    }
   ],
   "source": [
    "transfers[\"barge_antid\"] = barge_inout.groupby('AntID').sum().shape[0]\n",
    "transfers[\"atb_antid\"] = atb_in.groupby('AntID').sum().shape[0] + atb_out.groupby('AntID').sum().shape[0]\n",
    "print(f'{transfers[\"atb_antid\"]} ATB cargo transfers based on AntID')\n",
    "print(f'{transfers[\"atb_antid\"]/transfers[\"atb\"]:.2f} ATB fraction AntID to all')\n",
    "print(f'{transfers[\"barge_antid\"]} barge cargo transfers based on AntID')\n",
    "print(f'{transfers[\"barge_antid\"]/transfers[\"barge\"]:.2f} barge fraction AntID to all')"
   ]
  },
  {
   "cell_type": "markdown",
   "id": "d9bd01ef",
   "metadata": {},
   "source": [
    "##### Take away: Barge and ATBs have similar number of mixed-oil-type transfers with ATBs having more mixed-type transfers (29% of 677) than barges (16% of 2334).  Even though values are similar, we will use the AntID grouped number of transfers for our ping to transfer ratios"
   ]
  },
  {
   "cell_type": "markdown",
   "id": "d171f16e",
   "metadata": {},
   "source": [
    "### Calculate the number of oil cargo barges we expect using the AntID grouping for ping-to-transfer ratio"
   ]
  },
  {
   "cell_type": "code",
   "execution_count": 25,
   "id": "b3f824b5",
   "metadata": {},
   "outputs": [
    {
     "name": "stdout",
     "output_type": "stream",
     "text": [
      "We expect 2847945 total oil cargo pings for barge traffic\n"
     ]
    }
   ],
   "source": [
    "ping2transfer = {}\n",
    "oilcargobarges = {}\n",
    "# ATB ping-to-transfer ratio\n",
    "ping2transfer[\"atb\"] = allTracks[\"atb\"].shape[0]/transfers[\"atb_antid\"]\n",
    "# Estimate number of oil cargo barges using number of barge transfers \n",
    "# and atb ping-to-transfer ratio\n",
    "oilcargobarges[\"total\"] = transfers[\"barge_antid\"]*ping2transfer[\"atb\"]\n",
    "print(f'We expect {oilcargobarges[\"total\"]:.0f} total oil cargo pings for barge traffic')"
   ]
  },
  {
   "cell_type": "markdown",
   "id": "137b6406",
   "metadata": {},
   "source": [
    "### Calculate the number of Attributed tracks we get for ATBs and estimate the equivalent value for barges"
   ]
  },
  {
   "cell_type": "code",
   "execution_count": 26,
   "id": "dcff2ad6",
   "metadata": {},
   "outputs": [
    {
     "name": "stdout",
     "output_type": "stream",
     "text": [
      "We get 746.77 attributed ATB tracks per ATB cargo transfer\n",
      "We expect 1742960.50 attributed barge tracks, but we get 7867870\n",
      "We estimate that non-oil tank barge voyages account for 77.85% of barge voyages\n"
     ]
    }
   ],
   "source": [
    "# estimate the ratio of attributed ATB tracks to ATB cargo transfers\n",
    "noNone_ratio = noNone[\"atb\"].shape[0]/transfers[\"atb_antid\"]\n",
    "print(f'We get {noNone_ratio:.2f} attributed ATB tracks per ATB cargo transfer')\n",
    "# estimate the amount of attributed tracks we'd expect to see for tank barges based on tank barge transfers\n",
    "print(f'We expect {noNone_ratio*transfers[\"barge_antid\"]:.2f} attributed barge tracks, but we get {noNone[\"barge\"].shape[0]}')\n",
    "# estimate spurious barge voyages by removing estimated oil carge barge from total\n",
    "fraction_nonoilbarge = (noNone[\"barge\"].shape[0]-noNone_ratio*transfers[\"barge_antid\"])/noNone[\"barge\"].shape[0]\n",
    "print(f'We estimate that non-oil tank barge voyages account for {100*fraction_nonoilbarge:.2f}% of barge voyages')"
   ]
  },
  {
   "cell_type": "code",
   "execution_count": 27,
   "id": "ed36f57b",
   "metadata": {},
   "outputs": [],
   "source": [
    "#The above value was 88% when not using the AntID grouping"
   ]
  },
  {
   "cell_type": "markdown",
   "id": "ddb7b033",
   "metadata": {},
   "source": [
    "# Evaluate oil cargo traffic pings for ATBs and barges"
   ]
  },
  {
   "cell_type": "code",
   "execution_count": 28,
   "id": "1741d1b3",
   "metadata": {},
   "outputs": [],
   "source": [
    "# Dictionary for probability of oil cargo barges for our 3 attribution types\n",
    "P_oilcargobarges = {}"
   ]
  },
  {
   "cell_type": "code",
   "execution_count": 29,
   "id": "b6c2adc0",
   "metadata": {},
   "outputs": [],
   "source": [
    "allfac = {}\n",
    "for vessel_type in [\"atb\",'barge']:\n",
    "    allfac[vessel_type] = allTracks[vessel_type].loc[\n",
    "        ((allTracks[vessel_type].TO.isin(facWA.FacilityName)) |\n",
    "         (allTracks[vessel_type].FROM_.isin(facWA.FacilityName)))\n",
    "    ] "
   ]
  },
  {
   "cell_type": "code",
   "execution_count": 30,
   "id": "d893844f",
   "metadata": {},
   "outputs": [],
   "source": [
    "# Ratio of ATB pings with WA facility attribution to ATB WA transfers\n",
    "fac_att_ratio = allfacWACAD[\"atb\"].shape[0]/transfers[\"atb_antid\"]\n",
    "# Fraction of barge pings with generic attribution that are expected to carry oil based on ATB pings and transfers\n",
    "P_oilcargobarges[\"facility\"] = fac_att_ratio*transfers[\"barge_antid\"]/allfacWACAD[\"barge\"].shape[0]"
   ]
  },
  {
   "cell_type": "code",
   "execution_count": 31,
   "id": "246009df",
   "metadata": {},
   "outputs": [
    {
     "name": "stdout",
     "output_type": "stream",
     "text": [
      "129165 ATB tracks have a WA oil facility as origin or destination\n",
      "1666271 barge tracks have a WA oil facility as origin or destination\n",
      "We get 499.21 WA oil marine terminal attributed ATB tracks per ATB cargo transfer\n",
      "We expect 1165159.92 WA oil marine terminal attributed barge tracks, but we get 1666271\n",
      "We estimate that non-oil tank barge voyages to/from marine terminals account for 30.07% of barge voyages attributed to WA marine terminals\n"
     ]
    }
   ],
   "source": [
    "print(f'{allfac[\"atb\"].shape[0]} ATB tracks have a WA oil facility as origin or destination')\n",
    "print(f'{allfac[\"barge\"].shape[0]} barge tracks have a WA oil facility as origin or destination')\n",
    "print(f'We get {fac_att_ratio:.2f} WA oil marine terminal attributed ATB tracks per ATB cargo transfer')\n",
    "# estimate the amount of oil cargo facility tracks we'd expect to see for tank barges based on tank barge transfers\n",
    "print(f'We expect {fac_att_ratio*transfers[\"barge_antid\"]:.2f} WA oil marine terminal attributed barge tracks, but we get {allfac[\"barge\"].shape[0]}')\n",
    "fraction_nonoilbarge = (allfac[\"barge\"].shape[0]-fac_att_ratio*transfers[\"barge_antid\"])/allfac[\"barge\"].shape[0]\n",
    "print(f'We estimate that non-oil tank barge voyages to/from marine terminals account for {100*fraction_nonoilbarge:.2f}% of barge voyages attributed to WA marine terminals')"
   ]
  },
  {
   "cell_type": "markdown",
   "id": "e1a04114",
   "metadata": {},
   "source": [
    "###### When not grouped by AntID:\n",
    "- 129165 ATB tracks have a WA oil facility as origin or destination\n",
    "- 1666271 barge tracks have a WA oil facility as origin or destination\n",
    "- We get 190.79 WA oil marine terminal attributed ATB tracks per ATB cargo transfer\n",
    "- We expect 529061.37 WA oil marine terminal attributed barge tracks, but we get 1666271\n",
    "- We estimate that non-oil tank barge voyages to/from marine terminals account for 68.25% of - barge voyages attributed to WA marine terminals"
   ]
  },
  {
   "cell_type": "markdown",
   "id": "654a2888",
   "metadata": {},
   "source": [
    "### Repeat for Generic attibution only"
   ]
  },
  {
   "cell_type": "code",
   "execution_count": 32,
   "id": "7587e268",
   "metadata": {},
   "outputs": [],
   "source": [
    "# Ratio of ATB pings with generic attribution to ATB WA transfers\n",
    "generic_ratio = generic[\"atb\"].shape[0]/transfers[\"atb_antid\"]\n",
    "# Fraction of barge pings with generic attribution that are expected to carry oil based on ATB pings and transfers\n",
    "P_oilcargobarges[\"generic\"] = generic_ratio*transfers[\"barge_antid\"]/generic[\"barge\"].shape[0]"
   ]
  },
  {
   "cell_type": "code",
   "execution_count": 33,
   "id": "c635bbdc",
   "metadata": {},
   "outputs": [
    {
     "name": "stdout",
     "output_type": "stream",
     "text": [
      "119323 ATB tracks have Pacific, US or Canada as origin or destination\n",
      "5865057 barge tracks have Pacific, US or Canada as origin or destination\n",
      "We get 247.56 Generically attributed ATB tracks per ATB cargo transfer\n",
      "We expect 577800.59 Generically attributed barge tracks, but we get 5865057\n",
      "We estimate that non-oil tank barge voyages account for 90.15% of barge voyages with both to/from as generic attributions \n"
     ]
    }
   ],
   "source": [
    "print(f'{generic[\"atb\"].shape[0]} ATB tracks have Pacific, US or Canada as origin or destination')\n",
    "print(f'{generic[\"barge\"].shape[0]} barge tracks have Pacific, US or Canada as origin or destination')\n",
    "print(f'We get {generic_ratio:.2f} Generically attributed ATB tracks per ATB cargo transfer')\n",
    "# estimate the amount of oil cargo facility tracks we'd expect to see for tank barges based on tank barge transfers\n",
    "print(f'We expect {generic_ratio*transfers[\"barge_antid\"]:.2f} Generically attributed barge tracks, but we get {generic[\"barge\"].shape[0]}')\n",
    "fraction_nonoilbarge = (generic[\"barge\"].shape[0]-generic_ratio*transfers[\"barge_antid\"])/generic[\"barge\"].shape[0]\n",
    "print(f'We estimate that non-oil tank barge voyages account for {100*fraction_nonoilbarge:.2f}% of barge voyages with both to/from as generic attributions ')"
   ]
  },
  {
   "cell_type": "markdown",
   "id": "1d3ec888",
   "metadata": {},
   "source": [
    "### Repeat for No attribution"
   ]
  },
  {
   "cell_type": "code",
   "execution_count": 34,
   "id": "2aa4fcea",
   "metadata": {},
   "outputs": [],
   "source": [
    "# Ratio of ATB pings with \"None\" attribution to ATB WA transfers\n",
    "allNone_ratio = allNone[\"atb\"].shape[0]/transfers[\"atb_antid\"]\n",
    "# Fraction of barge pings with None attribution that are expected to carry oil based on ATB pings and transfers\n",
    "P_oilcargobarges[\"none\"] = allNone_ratio*transfers[\"barge_antid\"]/allNone[\"barge\"].shape[0]"
   ]
  },
  {
   "cell_type": "code",
   "execution_count": 35,
   "id": "40a11b1c",
   "metadata": {},
   "outputs": [
    {
     "name": "stdout",
     "output_type": "stream",
     "text": [
      "228193 ATB tracks have None as origin or destination\n",
      "6035026 barge tracks have None as  as origin or destination\n",
      "We get 473.43 None attributed ATB tracks per ATB cargo transfer\n",
      "We expect 1104984.36 None attributed oil cargo barge tracks, but we get 6035026\n",
      "We estimate that non-oil tank barge voyages account for 81.69% of barge voyages with None attributions \n"
     ]
    }
   ],
   "source": [
    "print(f'{allNone[\"atb\"].shape[0]} ATB tracks have None as origin or destination')\n",
    "print(f'{allNone[\"barge\"].shape[0]} barge tracks have None as  as origin or destination')\n",
    "print(f'We get {allNone_ratio:.2f} None attributed ATB tracks per ATB cargo transfer')\n",
    "# estimate the amount of oil cargo facility tracks we'd expect to see for tank barges based on tank barge transfers\n",
    "print(f'We expect {allNone_ratio*transfers[\"barge_antid\"]:.2f} None attributed oil cargo barge tracks, but we get {allNone[\"barge\"].shape[0]}')\n",
    "fraction_nonoilbarge = (allNone[\"barge\"].shape[0]-allNone_ratio*transfers[\"barge_antid\"])/allNone[\"barge\"].shape[0]\n",
    "print(f'We estimate that non-oil tank barge voyages account for {100*fraction_nonoilbarge:.2f}% of barge voyages with None attributions ')"
   ]
  },
  {
   "cell_type": "markdown",
   "id": "0725b957",
   "metadata": {},
   "source": [
    "#### Find the probability of oil carge for each ping classification, i.e.:\n",
    "- `oilcargobarges[\"total\"]` = 588136.0 = (1) + (2) + (3), where \n",
    "- (1) `P_oilcargobarges[\"facilities\"]` * `allfacWACAD[\"barges\"].shape[0]`  \n",
    "- (2) `P_oilcargobarges[\"none\"]` * `allNone[\"barges\"].shape[0]`  \n",
    "- (3) `P_oilcargobarges[\"generic\"]` * `generic[\"barges\"].shape[0]`  "
   ]
  },
  {
   "cell_type": "code",
   "execution_count": 36,
   "id": "5ceab93d",
   "metadata": {},
   "outputs": [
    {
     "name": "stdout",
     "output_type": "stream",
     "text": [
      "0.5817617106601806\n",
      "0.18309521135382856\n",
      "0.0985157663535479\n"
     ]
    }
   ],
   "source": [
    "print(P_oilcargobarges[\"facility\"])\n",
    "print(P_oilcargobarges[\"none\"])\n",
    "print(P_oilcargobarges[\"generic\"])"
   ]
  },
  {
   "cell_type": "code",
   "execution_count": 37,
   "id": "71630ce1",
   "metadata": {},
   "outputs": [
    {
     "name": "stdout",
     "output_type": "stream",
     "text": [
      "2002813\n",
      "6035026\n",
      "5865057\n"
     ]
    }
   ],
   "source": [
    "print(allfacWACAD[\"barge\"].shape[0])  \n",
    "print(allNone[\"barge\"].shape[0])\n",
    "print(generic[\"barge\"].shape[0])"
   ]
  },
  {
   "cell_type": "code",
   "execution_count": 38,
   "id": "b3ddd645",
   "metadata": {},
   "outputs": [
    {
     "name": "stdout",
     "output_type": "stream",
     "text": [
      "1165159.9170124482\n",
      "1104984.3609958505\n",
      "577800.5850622406\n"
     ]
    }
   ],
   "source": [
    "print(P_oilcargobarges[\"facility\"] * allfacWACAD[\"barge\"].shape[0])\n",
    "print(P_oilcargobarges[\"none\"] * allNone[\"barge\"].shape[0])\n",
    "print(P_oilcargobarges[\"generic\"] * generic[\"barge\"].shape[0])"
   ]
  },
  {
   "cell_type": "code",
   "execution_count": 39,
   "id": "ab0357d1",
   "metadata": {},
   "outputs": [],
   "source": [
    "oilcargobarges[\"facilities\"] = (P_oilcargobarges[\"facility\"] * allfacWACAD[\"barge\"].shape[0])\n",
    "oilcargobarges[\"none\"] = (P_oilcargobarges[\"none\"] * allNone[\"barge\"].shape[0])\n",
    "oilcargobarges[\"generic\"] = (P_oilcargobarges[\"generic\"] * generic[\"barge\"].shape[0])"
   ]
  },
  {
   "cell_type": "code",
   "execution_count": 40,
   "id": "245e93d9",
   "metadata": {},
   "outputs": [
    {
     "name": "stdout",
     "output_type": "stream",
     "text": [
      "oilcargobarges[\"total\"] = oilcargobarges[\"facilities\"] + oilcargobarges[\"none\"] + oilcargobarges[\"generic\"]?\n",
      "2847945 =? 2847945\n",
      " Missing -4.656612873077393e-10 pings (-0%)\n"
     ]
    }
   ],
   "source": [
    "print('oilcargobarges[\"total\"] = oilcargobarges[\"facilities\"] + oilcargobarges[\"none\"] + oilcargobarges[\"generic\"]?')\n",
    "#oilcargobarges_sum = oilcargobarges[\"facilities\"] + oilcargobarges[\"none\"] + oilcargobarges[\"generic\"]\n",
    "print(f'{oilcargobarges[\"total\"]:.0f} =? {oilcargobarges[\"facilities\"] + oilcargobarges[\"none\"] + oilcargobarges[\"generic\"]:.0f}')\n",
    "missing_pings = oilcargobarges[\"total\"]-(oilcargobarges[\"facilities\"] + oilcargobarges[\"none\"] + oilcargobarges[\"generic\"])\n",
    "print(f' Missing {missing_pings} pings ({100*missing_pings/oilcargobarges[\"total\"]:.0f}%)') "
   ]
  },
  {
   "cell_type": "markdown",
   "id": "311ff407",
   "metadata": {},
   "source": [
    "I'm not sure where this 11% error comes from. I used WA-only terminal pings and transfers for ping-to-transfer ratio but multiplied this by the total number of CAD and WA oil transfer terminal pings.  "
   ]
  },
  {
   "cell_type": "code",
   "execution_count": 41,
   "id": "3b687896",
   "metadata": {},
   "outputs": [
    {
     "data": {
      "text/plain": [
       "13902896"
      ]
     },
     "execution_count": 41,
     "metadata": {},
     "output_type": "execute_result"
    }
   ],
   "source": [
    "allfacWACAD[\"barge\"].shape[0] + generic[\"barge\"].shape[0] + allNone[\"barge\"].shape[0]"
   ]
  },
  {
   "cell_type": "code",
   "execution_count": 42,
   "id": "844626af",
   "metadata": {},
   "outputs": [
    {
     "data": {
      "text/plain": [
       "13902896"
      ]
     },
     "execution_count": 42,
     "metadata": {},
     "output_type": "execute_result"
    }
   ],
   "source": [
    "allTracks[\"barge\"].shape[0]"
   ]
  },
  {
   "cell_type": "code",
   "execution_count": null,
   "id": "c70da8b8",
   "metadata": {},
   "outputs": [],
   "source": []
  },
  {
   "cell_type": "markdown",
   "id": "d1cc61e1",
   "metadata": {},
   "source": []
  }
 ],
 "metadata": {
  "kernelspec": {
   "display_name": "Python 3 (ipykernel)",
   "language": "python",
   "name": "python3"
  },
  "language_info": {
   "codemirror_mode": {
    "name": "ipython",
    "version": 3
   },
   "file_extension": ".py",
   "mimetype": "text/x-python",
   "name": "python",
   "nbconvert_exporter": "python",
   "pygments_lexer": "ipython3",
   "version": "3.9.6"
  }
 },
 "nbformat": 4,
 "nbformat_minor": 5
}
