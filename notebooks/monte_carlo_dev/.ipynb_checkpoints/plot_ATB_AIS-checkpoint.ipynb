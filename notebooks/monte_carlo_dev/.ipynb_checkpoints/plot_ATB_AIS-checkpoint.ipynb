{
 "cells": [
  {
   "cell_type": "code",
   "execution_count": 1,
   "metadata": {},
   "outputs": [
    {
     "data": {
      "text/html": [
       "<div>\n",
       "<style scoped>\n",
       "    .dataframe tbody tr th:only-of-type {\n",
       "        vertical-align: middle;\n",
       "    }\n",
       "\n",
       "    .dataframe tbody tr th {\n",
       "        vertical-align: top;\n",
       "    }\n",
       "\n",
       "    .dataframe thead th {\n",
       "        text-align: right;\n",
       "    }\n",
       "</style>\n",
       "<table border=\"1\" class=\"dataframe\">\n",
       "  <thead>\n",
       "    <tr style=\"text-align: right;\">\n",
       "      <th></th>\n",
       "      <th>MMSI_NUM</th>\n",
       "      <th>ST_DATE</th>\n",
       "      <th>EN_DATE</th>\n",
       "      <th>LENGTH</th>\n",
       "      <th>TO</th>\n",
       "      <th>FROM_</th>\n",
       "      <th>geometry</th>\n",
       "    </tr>\n",
       "  </thead>\n",
       "  <tbody>\n",
       "    <tr>\n",
       "      <th>0</th>\n",
       "      <td>316001223.0</td>\n",
       "      <td>2018-01-01 00:03:48</td>\n",
       "      <td>2018-01-01 00:05:58</td>\n",
       "      <td>41</td>\n",
       "      <td>US</td>\n",
       "      <td>US</td>\n",
       "      <td>LINESTRING (-122.77574 48.33663, -122.77796 48...</td>\n",
       "    </tr>\n",
       "  </tbody>\n",
       "</table>\n",
       "</div>"
      ],
      "text/plain": [
       "      MMSI_NUM              ST_DATE              EN_DATE  LENGTH  TO FROM_  \\\n",
       "0  316001223.0  2018-01-01 00:03:48  2018-01-01 00:05:58      41  US    US   \n",
       "\n",
       "                                            geometry  \n",
       "0  LINESTRING (-122.77574 48.33663, -122.77796 48...  "
      ]
     },
     "execution_count": 1,
     "metadata": {},
     "output_type": "execute_result"
    }
   ],
   "source": [
    "# import necessary packages\n",
    "import os\n",
    "import pandas\n",
    "import numpy\n",
    "import matplotlib.pyplot as plt\n",
    "import geopandas as gpd\n",
    "from pathlib import Path\n",
    "# import function for querying DOE dataframes\n",
    "from monte_carlo_utils import get_DOE_atb\n",
    "\n",
    "\n",
    "\n",
    "# set file location and name\n",
    "atb_shp_path = Path('/data/MIDOSS/shapefiles/atb_2018_01.shp')\n",
    "atb_mmsi_xls_path = Path('/data/MIDOSS/marine_transport_data/ATB_oil_capacity.xlsx')\n",
    "atb_fill_xls_path = Path('/data/MIDOSS/marine_transport_data/ATB_fullness.xlsx')\n",
    "doe_xls_path = Path('/data/MIDOSS/spreadsheets/MuellerTrans4-30-20.xlsx')\n",
    "fac_xls_path = Path(\n",
    "    '/home/rmueller/Projects/MIDOSS/marine_transport_data/Oil_Transfer_Facilities.xlsx'\n",
    ")\n",
    "\n",
    "# import shapefile using geopandas\n",
    "atb_shp = gpd.read_file(atb_shp_path)\n",
    "\n",
    "# import facility locations\n",
    "facWA = pandas.read_excel(\n",
    "    fac_xls_path,\n",
    "    sheet_name = 'Washington',\n",
    "    usecols=\"B,D,J,K\"\n",
    ")\n",
    "facBC = pandas.read_excel(\n",
    "    fac_xls_path,\n",
    "    sheet_name = 'British Columbia',\n",
    "    usecols=\"A,B,C\"\n",
    ")\n",
    "atbs = pandas.read_excel(\n",
    "    atb_mmsi_xls_path,\n",
    "    sheet_name = 'Cargo Capacities',\n",
    "    usecols=\"A,D\"\n",
    ")\n",
    "# drop rows where MMSI are missing\n",
    "atbs = atbs.dropna().reset_index(drop=True)\n",
    "\n",
    "# view  the top 6 lines of attribute table of data\n",
    "atb_shp.head(1)"
   ]
  },
  {
   "cell_type": "code",
   "execution_count": 2,
   "metadata": {},
   "outputs": [],
   "source": [
    "atb_fill = {}\n",
    "atb_name = 'ATB BARGE ALL ABOARD FOR A CURE'\n",
    "atb_fill[atb_name] = pandas.read_excel(\n",
    "    atb_fill_xls_path,\n",
    "    sheet_name = atb_name,\n",
    "    usecols = \"E\"\n",
    ")\n",
    "facility_list = atb_fill[atb_name].groupby('Facility').count().index.tolist()"
   ]
  },
  {
   "cell_type": "code",
   "execution_count": null,
   "metadata": {},
   "outputs": [],
   "source": []
  },
  {
   "cell_type": "code",
   "execution_count": null,
   "metadata": {},
   "outputs": [],
   "source": []
  },
  {
   "cell_type": "markdown",
   "metadata": {},
   "source": [
    "## Loop through ATB names and use paired MMSI to select and plot AIS ship tracks\n",
    "- `ATB_oil_capacity.xlsx` gives ATB names and MMSI \n",
    "- `Oil_Transfer_Facilities.xlsx` gives lat/lon information for transfer locations\n",
    "- `ATB_fullness.xlsx` gives information on transfer locations an number of transfers (dataframe length) for each barge\n",
    "\n",
    "This notebook does the following\n",
    "- Create yearly data for ATB ship tracks\n",
    "- creates a list of oil transfer terminals associated with each ATB using `ATB_fullness.xlsx`\n",
    "- attributes lat/lon values to transfer terminal \n",
    "- plots ship tracks with oil transfer sites"
   ]
  },
  {
   "cell_type": "code",
   "execution_count": 3,
   "metadata": {},
   "outputs": [],
   "source": [
    "# create list of names and MMSI from \"Top_six_ATBs_by_DOEtransfers.xlsx\"\n",
    "# NOTE: Island Trader has 3 possible MMSI.  Exploring all three options\n",
    "MMSI_names = ['ALL ABOARD FOR A CURE','DBL 185','ISLAND TRADER',\n",
    "              '550-2','ONEDREAM',\n",
    "              'ISLAND TRADER','ISLAND TRADER']\n",
    "MMSI_list = [368013040, 338616000, 316001221, 369580000, 367740790,316001223,316006101]\n",
    "MMSI_colors = ['indigo','olive','lightseagreen',\n",
    "               'darkgoldenrod','royalblue',\n",
    "               'mediumturquoise','mediumaquamarine']\n",
    "# create dictionary linking MMSI to barge name\n",
    "MMSI_dict = {MMSI_list[num]:MMSI_names[num] for num,name in enumerate(MMSI_names)}\n",
    "color_dict = {MMSI_list[num]:MMSI_colors[num] for num,name in enumerate(MMSI_names)}"
   ]
  },
  {
   "cell_type": "markdown",
   "metadata": {},
   "source": [
    "## Create yearly data for ATB ship tracks"
   ]
  },
  {
   "cell_type": "code",
   "execution_count": 4,
   "metadata": {},
   "outputs": [
    {
     "name": "stdout",
     "output_type": "stream",
     "text": [
      "creating shapefile for 2018, starting with January data\n",
      "Concatenating data from month 2\n",
      "Concatenating data from month 3\n",
      "Concatenating data from month 4\n",
      "Concatenating data from month 5\n",
      "Concatenating data from month 6\n",
      "Concatenating data from month 7\n",
      "Concatenating data from month 8\n",
      "Concatenating data from month 9\n",
      "Concatenating data from month 10\n",
      "Concatenating data from month 11\n",
      "Concatenating data from month 12\n",
      "CPU times: user 38.1 s, sys: 1.03 s, total: 39.1 s\n",
      "Wall time: 39.1 s\n"
     ]
    }
   ],
   "source": [
    "%%time\n",
    "atb_shp_path = {}\n",
    "atb_shp={}\n",
    "\n",
    "for months in range(1,13):\n",
    "    #print(f'{months:02d}')\n",
    "    # set file location and name\n",
    "    atb_shp_path[months] = Path(f'/data/MIDOSS/shapefiles/atb_2018_{months:02d}.shp')\n",
    "\n",
    "    # import shapefile using geopandas\n",
    "    atb_shp[months] = gpd.read_file(atb_shp_path[months])\n",
    "    \n",
    "    if months == 1:\n",
    "        print('creating shapefile for 2018, starting with January data')\n",
    "        atb_shp_2018 = atb_shp[months]\n",
    "    else:\n",
    "        print(f'Concatenating data from month {months}')\n",
    "        atb_shp_2018 = gpd.GeoDataFrame(pandas.concat([atb_shp_2018, atb_shp[months]]))\n",
    "        \n"
   ]
  },
  {
   "cell_type": "markdown",
   "metadata": {},
   "source": [
    "### Create a list of oil transfer terminals for each atb"
   ]
  },
  {
   "cell_type": "code",
   "execution_count": 5,
   "metadata": {},
   "outputs": [
    {
     "name": "stdout",
     "output_type": "stream",
     "text": [
      "['BP Cherry Point Refinery', 'Phillips 66 Ferndale Refinery', 'SeaPort Sound Terminal', 'Shell Puget Sound Refinery', 'U.S. Oil & Refining']\n",
      "['BP Cherry Point Refinery', 'SeaPort Sound Terminal', 'Shell Puget Sound Refinery', 'TLP Management Services LLC (TMS)', 'U.S. Oil & Refining']\n",
      "['Shell Puget Sound Refinery']\n",
      "['BP Cherry Point Refinery', 'Kinder Morgan Liquids Terminal - Harbor Island', 'Phillips 66 Ferndale Refinery', 'SeaPort Sound Terminal', 'Shell Puget Sound Refinery']\n",
      "['Kinder Morgan Liquids Terminal - Harbor Island', 'Phillips 66 Ferndale Refinery', 'SeaPort Sound Terminal', 'U.S. Oil & Refining']\n",
      "['Phillips 66 Ferndale Refinery', 'SeaPort Sound Terminal', 'Shell Puget Sound Refinery', 'U.S. Oil & Refining']\n",
      "['Shell Puget Sound Refinery']\n",
      "['Kinder Morgan Liquids Terminal - Harbor Island', 'Shell Puget Sound Refinery']\n",
      "['BP Cherry Point Refinery', 'Phillips 66 Ferndale Refinery']\n",
      "['SeaPort Sound Terminal', 'Shell Puget Sound Refinery', 'U.S. Oil & Refining']\n",
      "['BP Cherry Point Refinery', 'NAVSUP Manchester', 'Shell Puget Sound Refinery', 'TLP Management Services LLC (TMS)']\n",
      "['Shell Puget Sound Refinery', 'U.S. Oil & Refining']\n",
      "['SeaPort Sound Terminal', 'Shell Puget Sound Refinery']\n",
      "['Shell Puget Sound Refinery']\n",
      "['Kinder Morgan Liquids Terminal - Harbor Island', 'SeaPort Sound Terminal', 'Shell Puget Sound Refinery']\n"
     ]
    }
   ],
   "source": [
    "atb_fill = {}\n",
    "for idx,atb_name in enumerate(atbs[\"DOE name\"]):\n",
    "    MMSI = atbs['MMSI'][idx]\n",
    "    atb_fill[atb_name] = pandas.read_excel(\n",
    "        atb_fill_xls_path,\n",
    "        sheet_name = atb_name,\n",
    "        usecols = \"E\"\n",
    "    )\n",
    "    facility_list = atb_fill[atb_name].groupby('Facility').count().index.tolist()\n",
    "    print(facility_list)\n",
    "        "
   ]
  },
  {
   "cell_type": "code",
   "execution_count": 6,
   "metadata": {},
   "outputs": [
    {
     "ename": "IndentationError",
     "evalue": "expected an indented block (4154688445.py, line 25)",
     "output_type": "error",
     "traceback": [
      "\u001b[0;36m  File \u001b[0;32m\"/tmp/ipykernel_23519/4154688445.py\"\u001b[0;36m, line \u001b[0;32m25\u001b[0m\n\u001b[0;31m    MMSI = atbs['MMSI'][idx]\u001b[0m\n\u001b[0m    ^\u001b[0m\n\u001b[0;31mIndentationError\u001b[0m\u001b[0;31m:\u001b[0m expected an indented block\n"
     ]
    }
   ],
   "source": [
    "#extract information for particular MMSI\n",
    "atb_shp_indv={}\n",
    "for m_idx,MMSI in enumerate(atbs['MMSI']):\n",
    "    print(MMSI)\n",
    "    # Plot ship track data\n",
    "    atb_shp_indv[MMSI] = atb_shp_2018.loc[atb_shp_2018['MMSI_NUM']==MMSI]\n",
    "    # plot the data using geopandas .plot() method  \n",
    "    fig, ax = plt.subplots(figsize = (3,3))\n",
    "    if atb_shp_indv[MMSI].empty==False:\n",
    "        atb_shp_indv[MMSI].plot(ax=ax, color=color_dict[368013040])\n",
    "        ax.plot(\n",
    "            facBC[\"Longitude\"],facBC[\"Latitude\"], \n",
    "            color='slategrey', marker='o', linestyle='None'\n",
    "        )\n",
    "        ax.plot(\n",
    "            facWA[\"DockLongNumber\"],facWA[\"DockLatNumber\"], \n",
    "            color='darkslategrey', marker='o', linestyle='None'\n",
    "        )\n",
    "        ax.set_title(f'{atbs[\"DOE name\"][m_idx]}')\n",
    "        ax.set_xlim(-125,-121.5)\n",
    "        ax.set_ylim(47,50)   \n",
    "    ax.text(-121.8,49.8,'2018 AIS ship tracks', horizontalalignment='right')\n",
    "    ax.text(-121.8,49.65,f'MMSI: {MMSI}', horizontalalignment='right')\n",
    "    # load data on facility transfers using name of atb associated with given MMSI\n",
    "    atb_name = atbs[\"DOE name\"][m_idx]\n",
    "    atb_fill[atb_name] = pandas.read_excel(\n",
    "        atb_fill_xls_path,\n",
    "        sheet_name = atb_name,\n",
    "        usecols = \"E\"\n",
    "    )\n",
    "    # create list of facility names for given atb\n",
    "    facility_list = atb_fill[atb_name].groupby('Facility').count().index.tolist()\n",
    "    # identify lat/lon for each facility in list and plot location on figure\n",
    "    for idx,name in enumerate(facility_list):\n",
    "        fac_idx = [i for i, s in enumerate(facWA.FacilityName) if name in s]\n",
    "        ax[0].text(facWA.DockLongNumber[fac_idx]+.1,facWA.DockLatNumber[fac_idx],f'{idx}', horizontalalignment='left')\n",
    "        ax[0].text(-124.9, 48-.2*idx, f'{idx}. {name}', horizontalalignment='left')\n",
    "#     ax[0].text(-121.8,49.50,f'Import/Export (volume): {qty_fraction:.2f}', horizontalalignment='right')\n",
    "#     ax[0].text(-121.8,49.35,f'Import/Export (transfers): {transfer_fraction:.2f}', horizontalalignment='right')\n",
    "\n",
    "    # plt.savefig(f'{MMSI}.png',bbox_inches='tight')\n",
    "    plt.show()"
   ]
  },
  {
   "cell_type": "markdown",
   "metadata": {},
   "source": [
    "## Choose top 1-3 ATBs and tally up ship tracks with None, Canada, US, Pacific attributions.  Compare to marine terminal attributions"
   ]
  },
  {
   "cell_type": "code",
   "execution_count": null,
   "metadata": {},
   "outputs": [],
   "source": []
  }
 ],
 "metadata": {
  "kernelspec": {
   "display_name": "Python 3 (ipykernel)",
   "language": "python",
   "name": "python3"
  },
  "language_info": {
   "codemirror_mode": {
    "name": "ipython",
    "version": 3
   },
   "file_extension": ".py",
   "mimetype": "text/x-python",
   "name": "python",
   "nbconvert_exporter": "python",
   "pygments_lexer": "ipython3",
   "version": "3.9.6"
  }
 },
 "nbformat": 4,
 "nbformat_minor": 2
}
