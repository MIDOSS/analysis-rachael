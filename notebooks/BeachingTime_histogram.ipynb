{
 "cells": [
  {
   "cell_type": "code",
   "execution_count": 39,
   "metadata": {},
   "outputs": [],
   "source": [
    "# imports for graphic display\n",
    "import matplotlib.pyplot as plt\n",
    "from matplotlib import gridspec\n",
    "import matplotlib.colors as colors\n",
    "import cmocean as cm\n",
    "from mpl_toolkits.axes_grid1 import make_axes_locatable\n",
    "%matplotlib inline\n",
    "\n",
    "# imports for file IO\n",
    "import os.path\n",
    "\n",
    "# imports for data manipulation\n",
    "import numpy as np\n",
    "import xarray as xr\n",
    "from salishsea_tools import viz_tools, utilities\n",
    "import numpy.ma as ma\n",
    "import datetime\n",
    "import time"
   ]
  },
  {
   "cell_type": "code",
   "execution_count": 4,
   "metadata": {},
   "outputs": [],
   "source": [
    "dsl_dir01 = '/Users/rmueller/Projects/MIDOSS/results/DT_1200/LightEvaporator/SOG_01jun2017_08jun2017/';\n",
    "dsl_dir02 = '/Users/rmueller/Projects/MIDOSS/results/DT_1200/LightEvaporator/SOG_05jun2015_15jun2015/';\n",
    "dsl_dir03 = '/Users/rmueller/Projects/MIDOSS/results/DT_1200/LightEvaporator/SOG_15jan2018_22jan2018/';\n",
    "dsl_dir04 = '/Users/rmueller/Projects/MIDOSS/results/DT_1200/LightEvaporator/SB_01aug2017_08aug2017/';\n",
    "dsl_dir05 = '/Users/rmueller/Projects/MIDOSS/results/DT_1200/LightEvaporator/SB_07dec2018_14dec2018/';\n",
    "dsl_dir06 = '/Users/rmueller/Projects/MIDOSS/results/DT_1200/LightEvaporator/TP_21nov2017_28nov2017/';\n",
    "dsl_dir07 = '/Users/rmueller/Projects/MIDOSS/results/DT_1200/LightEvaporator/TP_21nov2017_28nov2017/';\n",
    "\n",
    "akns_dir01 = '/Users/rmueller/Projects/MIDOSS/results/DT_1200/MediumFloater/SOG_01jun2017_08jun2017/';\n",
    "akns_dir02 = '/Users/rmueller/Projects/MIDOSS/results/DT_1200/MediumFloater/SOG_05jun2015_15jun2015/';\n",
    "akns_dir03 = '/Users/rmueller/Projects/MIDOSS/results/DT_1200/MediumFloater/SOG_15jan2018_22jan2018/';\n",
    "akns_dir04 = '/Users/rmueller/Projects/MIDOSS/results/DT_1200/MediumFloater/SB_01aug2017_08aug2017/';\n",
    "akns_dir05 = '/Users/rmueller/Projects/MIDOSS/results/DT_1200/MediumFloater/SB_07dec2018_14dec2018/';\n",
    "akns_dir06 = '/Users/rmueller/Projects/MIDOSS/results/DT_1200/MediumFloater/TP_21nov2017_28nov2017/';\n",
    "akns_dir07 = '/Users/rmueller/Projects/MIDOSS/results/DT_1200/MediumFloater/TP_21nov2017_28nov2017/';"
   ]
  },
  {
   "cell_type": "code",
   "execution_count": 5,
   "metadata": {},
   "outputs": [],
   "source": [
    "akns_nc01 = 'Lagrangian_AKNS_crude_SOG_01jun2017_08jun2017.nc';\n",
    "akns_nc02 = 'Lagrangian_AKNS_crude_SOG_05jun2015_15jun2015.nc';\n",
    "akns_nc03 = 'Lagrangian_AKNS_crude_SOG_15jan2018_22jan2018_1200b.nc';\n",
    "akns_nc04 = 'Lagrangian_AKNS_crude_SB_01aug2017_08aug2017.nc';\n",
    "akns_nc05 = 'Lagrangian_AKNS_crude_SB_07dec2018_14dec2018.nc';\n",
    "akns_nc06 = 'Lagrangian_AKNS_crude_TP_21nov2017_28nov2017.nc';\n",
    "akns_nc07 = 'Lagrangian_AKNS_crude_TP_15jun2017_22jun2017.nc';\n",
    "\n",
    "dsl_nc01 = 'Lagrangian_DieselFuel_refined_SOG_01jun2017_08jun2017_Diesel.nc';\n",
    "dsl_nc02 = 'Lagrangian_DieselFuel_refined_SOG_SOG_05jun2015_12jun2015_Diesel.nc';\n",
    "dsl_nc03 = 'Lagrangian_DieselFuel_refined_SOG_15jan2018_22jan2018_Diesel.nc';  \n",
    "dsl_nc04 = 'Lagrangian_DieselFuel_refined_SB_01aug2017_08aug2017_Diesel.nc';\n",
    "dsl_nc05 = 'Lagrangian_DieselFuel_refined_SB_07dec2018_14dec2018_Diesel.nc';\n",
    "dsl_nc06 = 'Lagrangian_DieselFuel_refined_TP_21nov2017_28nov2017_Diesel.nc';\n",
    "dsl_nc07 = 'Lagrangian_DieselFuel_refined_TP_15jun2017_22jun2017_Diesel.nc';\n",
    "\n",
    "title_SOG = ['SOG 01/06/17 - 08/06/17', 'SOG 05/06/15 - 15/06/15', 'SOG 15/01/18 - 22/01/18']\n",
    "title_TP = ['TP 21/11/17 - 28/11/17', 'TP 15/06/17 - 22/06/17']; file_num_TP = ['06','07']\n",
    "title_SB = ['SB 01/08/17 - 08/08/17', 'SB 07/12/18 - 14/12/18']; file_num_SB = ['04','05']"
   ]
  },
  {
   "cell_type": "code",
   "execution_count": 6,
   "metadata": {},
   "outputs": [],
   "source": [
    "beachtime = xr.open_dataset(akns_dir01 + akns_nc01)"
   ]
  },
  {
   "cell_type": "code",
   "execution_count": 41,
   "metadata": {},
   "outputs": [
    {
     "data": {
      "text/plain": [
       "(354816,)"
      ]
     },
     "execution_count": 41,
     "metadata": {},
     "output_type": "execute_result"
    }
   ],
   "source": [
    "beachtime_np = beachtime.Beaching_Time.values\n",
    "beachtime_np_flat = beachtime_np.flatten()\n",
    "#elapsed = beachtime_np_flat[-1] - datetime('01 june 2017')\n",
    "beachtime_np_flat.shape"
   ]
  },
  {
   "cell_type": "code",
   "execution_count": 45,
   "metadata": {},
   "outputs": [
    {
     "data": {
      "text/plain": [
       "numpy.datetime64('2017-06-01T00:30:00.000000000')"
      ]
     },
     "execution_count": 45,
     "metadata": {},
     "output_type": "execute_result"
    }
   ],
   "source": [
    "beachtime_np_flat[0]"
   ]
  },
  {
   "cell_type": "code",
   "execution_count": 135,
   "metadata": {},
   "outputs": [
    {
     "data": {
      "text/plain": [
       "(354816,)"
      ]
     },
     "execution_count": 135,
     "metadata": {},
     "output_type": "execute_result"
    }
   ],
   "source": [
    "(beachtime_np_flat[0]-np.datetime64('2017-06-01T00:30:00')).item()*1e-9/86400\n",
    "beachtime_np_flat.shape"
   ]
  },
  {
   "cell_type": "code",
   "execution_count": 144,
   "metadata": {},
   "outputs": [],
   "source": [
    "# list comprehension\n",
    "test = [(ii - np.datetime64('2017-06-01T00:30:00')).item()*1e-9/86400 for ii in beachtime_np_flat ]\n",
    "# if (ii - np.datetime64('2017-06-01T00:30:00')).item is not 0 "
   ]
  },
  {
   "cell_type": "code",
   "execution_count": 141,
   "metadata": {},
   "outputs": [],
   "source": [
    "days2beaching = np.asarray(test)"
   ]
  },
  {
   "cell_type": "code",
   "execution_count": 145,
   "metadata": {},
   "outputs": [
    {
     "data": {
      "text/plain": [
       "0.0"
      ]
     },
     "execution_count": 145,
     "metadata": {},
     "output_type": "execute_result"
    }
   ],
   "source": [
    "test[0]"
   ]
  },
  {
   "cell_type": "code",
   "execution_count": 131,
   "metadata": {},
   "outputs": [
    {
     "name": "stdout",
     "output_type": "stream",
     "text": [
      "5.69444444444\n",
      "5.5\n",
      "6.31944444444\n",
      "5.90277777778\n",
      "6.66666666667\n"
     ]
    }
   ],
   "source": [
    "# loop through all values and extract non-zero ones\n",
    "days2beaching_nonzero = []\n",
    "index = range(0,days2beaching.size)\n",
    "for ii in index:\n",
    "    if days2beaching[ii] is not 0.0 and count < 5:\n",
    "        print(days2beaching[ii])\n",
    "        count += 1\n",
    "        days2beaching_nonzero.append(days2beaching[ii])"
   ]
  },
  {
   "cell_type": "code",
   "execution_count": 132,
   "metadata": {},
   "outputs": [
    {
     "ename": "AttributeError",
     "evalue": "'list' object has no attribute 'shape'",
     "output_type": "error",
     "traceback": [
      "\u001b[0;31m---------------------------------------------------------------------------\u001b[0m",
      "\u001b[0;31mAttributeError\u001b[0m                            Traceback (most recent call last)",
      "\u001b[0;32m<ipython-input-132-663558b6edf6>\u001b[0m in \u001b[0;36m<module>\u001b[0;34m()\u001b[0m\n\u001b[0;32m----> 1\u001b[0;31m \u001b[0mdays2beaching_nonzero\u001b[0m\u001b[0;34m.\u001b[0m\u001b[0mshape\u001b[0m\u001b[0;34m\u001b[0m\u001b[0m\n\u001b[0m",
      "\u001b[0;31mAttributeError\u001b[0m: 'list' object has no attribute 'shape'"
     ]
    }
   ],
   "source": [
    "days2beaching_nonzero.shape"
   ]
  },
  {
   "cell_type": "code",
   "execution_count": 70,
   "metadata": {},
   "outputs": [
    {
     "data": {
      "text/plain": [
       "596400.0"
      ]
     },
     "execution_count": 70,
     "metadata": {},
     "output_type": "execute_result"
    }
   ],
   "source": [
    "np.max(days2beaching) - np.min(test)"
   ]
  },
  {
   "cell_type": "code",
   "execution_count": 148,
   "metadata": {},
   "outputs": [
    {
     "data": {
      "text/plain": [
       "(array([ 0.,  0.,  0.,  0.,  0.,  3.]),\n",
       " array([0, 1, 2, 3, 4, 5, 6]),\n",
       " <a list of 6 Patch objects>)"
      ]
     },
     "execution_count": 148,
     "metadata": {},
     "output_type": "execute_result"
    },
    {
     "data": {
      "image/png": "[encoded data removed]",
      "text/plain": [
       "<Figure size 432x288 with 1 Axes>"
      ]
     },
     "metadata": {},
     "output_type": "display_data"
    }
   ],
   "source": [
    "plt.hist(days2beaching_nonzero, bins=range(0,7,1))\n"
   ]
  },
  {
   "cell_type": "code",
   "execution_count": 12,
   "metadata": {},
   "outputs": [
    {
     "data": {
      "text/plain": [
       "numpy.datetime64('2017-06-01T00:30:00.000000000')"
      ]
     },
     "execution_count": 12,
     "metadata": {},
     "output_type": "execute_result"
    }
   ],
   "source": [
    "test = np.datetime64(beachtime_np_flat[1])\n",
    "test"
   ]
  },
  {
   "cell_type": "code",
   "execution_count": null,
   "metadata": {},
   "outputs": [],
   "source": []
  }
 ],
 "metadata": {
  "kernelspec": {
   "display_name": "Python 3",
   "language": "python",
   "name": "python3"
  },
  "language_info": {
   "codemirror_mode": {
    "name": "ipython",
    "version": 3
   },
   "file_extension": ".py",
   "mimetype": "text/x-python",
   "name": "python",
   "nbconvert_exporter": "python",
   "pygments_lexer": "ipython3",
   "version": "3.6.5"
  }
 },
 "nbformat": 4,
 "nbformat_minor": 2
}
