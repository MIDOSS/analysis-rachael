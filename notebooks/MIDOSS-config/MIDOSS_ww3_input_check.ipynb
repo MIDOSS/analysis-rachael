{
 "cells": [
  {
   "cell_type": "markdown",
   "metadata": {},
   "source": [
    "# This script helps identify ww3 hindcast files that are corrupt"
   ]
  },
  {
   "cell_type": "code",
   "execution_count": 11,
   "metadata": {},
   "outputs": [],
   "source": [
    "import forcing_paths\n",
    "import datetime\n",
    "import xarray as xr"
   ]
  },
  {
   "cell_type": "markdown",
   "metadata": {},
   "source": [
    "## Check files for 6/5/2015 - 6/15/2015 date range"
   ]
  },
  {
   "cell_type": "code",
   "execution_count": 7,
   "metadata": {},
   "outputs": [],
   "source": [
    "begin = datetime.datetime(2015,6,5,0,0,0)\n",
    "end = datetime.datetime(2015,6,15,0,0,0)"
   ]
  },
  {
   "cell_type": "code",
   "execution_count": 10,
   "metadata": {},
   "outputs": [],
   "source": [
    "files = forcing_paths.ww3_paths(begin,end,'/opp/wwatch3/hindcast/')"
   ]
  },
  {
   "cell_type": "code",
   "execution_count": 12,
   "metadata": {},
   "outputs": [
    {
     "data": {
      "text/plain": [
       "['/opp/wwatch3/hindcast/05jun15/SoG_ww3_fields_20150605.nc',\n",
       " '/opp/wwatch3/hindcast/06jun15/SoG_ww3_fields_20150606.nc',\n",
       " '/opp/wwatch3/hindcast/07jun15/SoG_ww3_fields_20150607.nc',\n",
       " '/opp/wwatch3/hindcast/08jun15/SoG_ww3_fields_20150608.nc',\n",
       " '/opp/wwatch3/hindcast/09jun15/SoG_ww3_fields_20150609.nc',\n",
       " '/opp/wwatch3/hindcast/10jun15/SoG_ww3_fields_20150610.nc',\n",
       " '/opp/wwatch3/hindcast/11jun15/SoG_ww3_fields_20150611.nc',\n",
       " '/opp/wwatch3/hindcast/12jun15/SoG_ww3_fields_20150612.nc',\n",
       " '/opp/wwatch3/hindcast/13jun15/SoG_ww3_fields_20150613.nc',\n",
       " '/opp/wwatch3/hindcast/14jun15/SoG_ww3_fields_20150614.nc',\n",
       " '/opp/wwatch3/hindcast/15jun15/SoG_ww3_fields_20150615.nc']"
      ]
     },
     "execution_count": 12,
     "metadata": {},
     "output_type": "execute_result"
    }
   ],
   "source": [
    "files"
   ]
  },
  {
   "cell_type": "code",
   "execution_count": 21,
   "metadata": {},
   "outputs": [
    {
     "name": "stdout",
     "output_type": "stream",
     "text": [
      "/opp/wwatch3/hindcast/09jun15/SoG_ww3_fields_20150609.nc is corrupt\n",
      "/opp/wwatch3/hindcast/10jun15/SoG_ww3_fields_20150610.nc is corrupt\n",
      "/opp/wwatch3/hindcast/14jun15/SoG_ww3_fields_20150614.nc is corrupt\n"
     ]
    }
   ],
   "source": [
    "for file in files:\n",
    "    try:\n",
    "        xr.open_dataset(file)\n",
    "    except:\n",
    "        #if file cannot be opened, print its name\n",
    "        print(f'{file} is corrupt')"
   ]
  },
  {
   "cell_type": "markdown",
   "metadata": {},
   "source": [
    "## check files in the 6/25/15 - 7/5/15 range"
   ]
  },
  {
   "cell_type": "code",
   "execution_count": 22,
   "metadata": {},
   "outputs": [],
   "source": [
    "begin = datetime.datetime(2015,6,25,0,0,0)\n",
    "end = datetime.datetime(2015,7,5,0,0,0)"
   ]
  },
  {
   "cell_type": "code",
   "execution_count": 23,
   "metadata": {},
   "outputs": [],
   "source": [
    "files = forcing_paths.ww3_paths(begin,end,'/opp/wwatch3/hindcast/')"
   ]
  },
  {
   "cell_type": "code",
   "execution_count": 24,
   "metadata": {},
   "outputs": [
    {
     "data": {
      "text/plain": [
       "['/opp/wwatch3/hindcast/25jun15/SoG_ww3_fields_20150625.nc',\n",
       " '/opp/wwatch3/hindcast/26jun15/SoG_ww3_fields_20150626.nc',\n",
       " '/opp/wwatch3/hindcast/27jun15/SoG_ww3_fields_20150627.nc',\n",
       " '/opp/wwatch3/hindcast/28jun15/SoG_ww3_fields_20150628.nc',\n",
       " '/opp/wwatch3/hindcast/29jun15/SoG_ww3_fields_20150629.nc',\n",
       " '/opp/wwatch3/hindcast/30jun15/SoG_ww3_fields_20150630.nc',\n",
       " '/opp/wwatch3/hindcast/01jul15/SoG_ww3_fields_20150701.nc',\n",
       " '/opp/wwatch3/hindcast/02jul15/SoG_ww3_fields_20150702.nc',\n",
       " '/opp/wwatch3/hindcast/03jul15/SoG_ww3_fields_20150703.nc',\n",
       " '/opp/wwatch3/hindcast/04jul15/SoG_ww3_fields_20150704.nc',\n",
       " '/opp/wwatch3/hindcast/05jul15/SoG_ww3_fields_20150705.nc']"
      ]
     },
     "execution_count": 24,
     "metadata": {},
     "output_type": "execute_result"
    }
   ],
   "source": [
    "files"
   ]
  },
  {
   "cell_type": "code",
   "execution_count": 25,
   "metadata": {},
   "outputs": [
    {
     "name": "stdout",
     "output_type": "stream",
     "text": [
      "/opp/wwatch3/hindcast/25jun15/SoG_ww3_fields_20150625.nc is corrupt\n",
      "/opp/wwatch3/hindcast/26jun15/SoG_ww3_fields_20150626.nc is corrupt\n",
      "/opp/wwatch3/hindcast/27jun15/SoG_ww3_fields_20150627.nc is corrupt\n",
      "/opp/wwatch3/hindcast/28jun15/SoG_ww3_fields_20150628.nc is corrupt\n",
      "/opp/wwatch3/hindcast/01jul15/SoG_ww3_fields_20150701.nc is corrupt\n",
      "/opp/wwatch3/hindcast/03jul15/SoG_ww3_fields_20150703.nc is corrupt\n",
      "/opp/wwatch3/hindcast/04jul15/SoG_ww3_fields_20150704.nc is corrupt\n"
     ]
    }
   ],
   "source": [
    "for file in files:\n",
    "    try:\n",
    "        xr.open_dataset(file)\n",
    "    except:\n",
    "        #if file cannot be opened, print its name\n",
    "        print(f'{file} is corrupt')"
   ]
  },
  {
   "cell_type": "code",
   "execution_count": null,
   "metadata": {},
   "outputs": [],
   "source": []
  }
 ],
 "metadata": {
  "kernelspec": {
   "display_name": "Python 3",
   "language": "python",
   "name": "python3"
  },
  "language_info": {
   "codemirror_mode": {
    "name": "ipython",
    "version": 3
   },
   "file_extension": ".py",
   "mimetype": "text/x-python",
   "name": "python",
   "nbconvert_exporter": "python",
   "pygments_lexer": "ipython3",
   "version": "3.6.8"
  }
 },
 "nbformat": 4,
 "nbformat_minor": 2
}
