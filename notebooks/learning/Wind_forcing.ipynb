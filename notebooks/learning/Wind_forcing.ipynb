{
 "cells": [
  {
   "cell_type": "markdown",
   "metadata": {},
   "source": [
    "# Plot up wind speed in NEMO forcing file"
   ]
  },
  {
   "cell_type": "code",
   "execution_count": 1,
   "metadata": {},
   "outputs": [],
   "source": [
    "import xarray as xr\n",
    "import matplotlib.pyplot as plt\n",
    "import math\n",
    "import numpy as np\n",
    "import arrow\n",
    "import cmocean"
   ]
  },
  {
   "cell_type": "code",
   "execution_count": 2,
   "metadata": {},
   "outputs": [],
   "source": [
    "%matplotlib inline"
   ]
  },
  {
   "cell_type": "markdown",
   "metadata": {},
   "source": [
    "## load data"
   ]
  },
  {
   "cell_type": "code",
   "execution_count": 3,
   "metadata": {},
   "outputs": [
    {
     "data": {
      "text/plain": [
       "<xarray.Dataset>\n",
       "Dimensions:    (gridX: 256, gridY: 266, time: 36384)\n",
       "Coordinates:\n",
       "  * time       (time) datetime64[ns] 2014-09-12 2014-09-12T01:00:00 ...\n",
       "  * gridY      (gridY) float64 0.0 2.5e+03 5e+03 7.5e+03 1e+04 1.25e+04 ...\n",
       "  * gridX      (gridX) float64 0.0 2.5e+03 5e+03 7.5e+03 1e+04 1.25e+04 ...\n",
       "Data variables:\n",
       "    atmpres    (time, gridY, gridX) float32 ...\n",
       "    precip     (time, gridY, gridX) float32 ...\n",
       "    qair       (time, gridY, gridX) float32 ...\n",
       "    solar      (time, gridY, gridX) float32 ...\n",
       "    tair       (time, gridY, gridX) float32 ...\n",
       "    therm_rad  (time, gridY, gridX) float32 ...\n",
       "    u_wind     (time, gridY, gridX) float32 ...\n",
       "    v_wind     (time, gridY, gridX) float32 ...\n",
       "Attributes:\n",
       "    acknowledgement:           MEOPAR, ONC, Compute Canada, Environment Canada\n",
       "    cdm_data_type:             Grid\n",
       "    Conventions:               CF-1.6, COARDS, ACDD-1.3\n",
       "    coverage_content_type:     modelResult\n",
       "    creator_email:             sallen@eos.ubc.ca\n",
       "    creator_name:              Salish Sea MEOPAR Project Contributors\n",
       "    creator_url:               https://salishsea-meopar-docs.readthedocs.io/\n",
       "    drawLandMask:              over\n",
       "    GRIB2_grid_template:       20\n",
       "    history:                   Thu Mar 10 10:11:37 2016: ncks -4 -L4 -O /resu...\n",
       "    infoUrl:                   https://salishsea-meopar-docs.readthedocs.io/e...\n",
       "    institution:               UBC EOAS\n",
       "    institution_fullname:      Earth, Ocean & Atmospheric Sciences, Universit...\n",
       "    keywords:                  atmosphere, atmospheric, atmpres, Earth Scienc...\n",
       "    keywords_vocabulary:       GCMD Science Keywords\n",
       "    license:                   The Salish Sea MEOPAR NEMO model results are c...\n",
       "    NCO:                       4.4.2\n",
       "    project:                   Salish Sea MEOPAR NEMO Model\n",
       "    sourceUrl:                 (local files)\n",
       "    standard_name_vocabulary:  CF Standard Name Table v29\n",
       "    summary:                   HRDPS, Salish Sea, Atmospheric Forcing Fields,...\n",
       "    testOutOfDate:             now-12hours\n",
       "    time_coverage_end:         2018-11-05T23:00:00Z\n",
       "    time_coverage_start:       2014-09-12T00:00:00Z\n",
       "    title:                     HRDPS, Salish Sea, Atmospheric Forcing Fields,..."
      ]
     },
     "execution_count": 3,
     "metadata": {},
     "output_type": "execute_result"
    }
   ],
   "source": [
    "ds = xr.open_dataset('https://salishsea.eos.ubc.ca/erddap/griddap/ubcSSaSurfaceAtmosphereFieldsV1')\n",
    "ds"
   ]
  },
  {
   "cell_type": "markdown",
   "metadata": {},
   "source": [
    "## Calculate wind speed.  "
   ]
  },
  {
   "cell_type": "code",
   "execution_count": 4,
   "metadata": {},
   "outputs": [
    {
     "data": {
      "text/plain": [
       "<xarray.DataArray 'u_wind' (time: 36384, gridY: 266, gridX: 256)>\n",
       "[2477604864 values with dtype=float32]\n",
       "Coordinates:\n",
       "  * time     (time) datetime64[ns] 2014-09-12 2014-09-12T01:00:00 ...\n",
       "  * gridY    (gridY) float64 0.0 2.5e+03 5e+03 7.5e+03 1e+04 1.25e+04 ...\n",
       "  * gridX    (gridX) float64 0.0 2.5e+03 5e+03 7.5e+03 1e+04 1.25e+04 ...\n",
       "Attributes:\n",
       "    _ChunkSizes:  [  1 266 256]\n",
       "    level:        10 m above ground\n",
       "    long_name:    U-Component of Wind\n",
       "    short_name:   UGRD_10maboveground\n",
       "    units:        m/s"
      ]
     },
     "execution_count": 4,
     "metadata": {},
     "output_type": "execute_result"
    }
   ],
   "source": [
    "ds.u_wind"
   ]
  },
  {
   "cell_type": "markdown",
   "metadata": {},
   "source": [
    "### Calculate wind speed for April 08, 2015"
   ]
  },
  {
   "cell_type": "code",
   "execution_count": 5,
   "metadata": {},
   "outputs": [],
   "source": [
    "u2_sub_day = ds.u_wind.sel(time = \"2015-04-08\")**2\n",
    "v2_sub_day = ds.v_wind.sel(time = \"2015-04-08\")**2\n",
    "wind_spd = np.sqrt(u2_sub_day + v2_sub_day)"
   ]
  },
  {
   "cell_type": "code",
   "execution_count": 6,
   "metadata": {},
   "outputs": [
    {
     "data": {
      "text/plain": [
       "(24, 266, 256)"
      ]
     },
     "execution_count": 6,
     "metadata": {},
     "output_type": "execute_result"
    }
   ],
   "source": [
    "sh = wind_spd.shape\n",
    "sh\n"
   ]
  },
  {
   "cell_type": "code",
   "execution_count": 7,
   "metadata": {},
   "outputs": [
    {
     "data": {
      "text/plain": [
       "(36384, 266, 256)"
      ]
     },
     "execution_count": 7,
     "metadata": {},
     "output_type": "execute_result"
    }
   ],
   "source": [
    "ds.u_wind.shape"
   ]
  },
  {
   "cell_type": "markdown",
   "metadata": {},
   "source": [
    "### wind_spd is now a 24x266x256 matrix"
   ]
  },
  {
   "cell_type": "code",
   "execution_count": 8,
   "metadata": {},
   "outputs": [],
   "source": [
    "ly = wind_spd.shape[1]\n",
    "lx = wind_spd.shape[2]"
   ]
  },
  {
   "cell_type": "code",
   "execution_count": 9,
   "metadata": {},
   "outputs": [
    {
     "data": {
      "text/plain": [
       "266"
      ]
     },
     "execution_count": 9,
     "metadata": {},
     "output_type": "execute_result"
    }
   ],
   "source": [
    "ly"
   ]
  },
  {
   "cell_type": "code",
   "execution_count": 10,
   "metadata": {},
   "outputs": [
    {
     "data": {
      "text/plain": [
       "256"
      ]
     },
     "execution_count": 10,
     "metadata": {},
     "output_type": "execute_result"
    }
   ],
   "source": [
    "lx"
   ]
  },
  {
   "cell_type": "code",
   "execution_count": 11,
   "metadata": {},
   "outputs": [
    {
     "data": {
      "text/plain": [
       "(36384, 266, 256)"
      ]
     },
     "execution_count": 11,
     "metadata": {},
     "output_type": "execute_result"
    }
   ],
   "source": [
    "ds.u_wind.shape"
   ]
  },
  {
   "cell_type": "code",
   "execution_count": 12,
   "metadata": {},
   "outputs": [
    {
     "data": {
      "text/plain": [
       "266"
      ]
     },
     "execution_count": 12,
     "metadata": {},
     "output_type": "execute_result"
    }
   ],
   "source": [
    "ds.u_wind.shape[1]"
   ]
  },
  {
   "cell_type": "code",
   "execution_count": 13,
   "metadata": {},
   "outputs": [],
   "source": [
    "nt = ds.u_wind.shape[0]\n",
    "ny = ds.u_wind.shape[1]\n",
    "nx = ds.u_wind.shape[2]"
   ]
  },
  {
   "cell_type": "code",
   "execution_count": 14,
   "metadata": {},
   "outputs": [
    {
     "data": {
      "text/plain": [
       "36384"
      ]
     },
     "execution_count": 14,
     "metadata": {},
     "output_type": "execute_result"
    }
   ],
   "source": [
    "nt"
   ]
  },
  {
   "cell_type": "code",
   "execution_count": 15,
   "metadata": {},
   "outputs": [
    {
     "data": {
      "text/plain": [
       "266"
      ]
     },
     "execution_count": 15,
     "metadata": {},
     "output_type": "execute_result"
    }
   ],
   "source": [
    "ny"
   ]
  },
  {
   "cell_type": "code",
   "execution_count": 16,
   "metadata": {},
   "outputs": [
    {
     "data": {
      "text/plain": [
       "256"
      ]
     },
     "execution_count": 16,
     "metadata": {},
     "output_type": "execute_result"
    }
   ],
   "source": [
    "nx"
   ]
  },
  {
   "cell_type": "markdown",
   "metadata": {},
   "source": [
    "### get stats on wind_spd"
   ]
  },
  {
   "cell_type": "code",
   "execution_count": 17,
   "metadata": {},
   "outputs": [],
   "source": [
    "wind_mean = np.mean(wind_spd)"
   ]
  },
  {
   "cell_type": "code",
   "execution_count": 18,
   "metadata": {},
   "outputs": [],
   "source": [
    "min_min = np.min(wind_spd)"
   ]
  },
  {
   "cell_type": "code",
   "execution_count": 19,
   "metadata": {},
   "outputs": [],
   "source": [
    "wind_max = np.max(wind_spd)"
   ]
  },
  {
   "cell_type": "markdown",
   "metadata": {},
   "source": [
    "## convert wind_spd to a numpy array in order to query values"
   ]
  },
  {
   "cell_type": "code",
   "execution_count": 20,
   "metadata": {},
   "outputs": [],
   "source": [
    "wind_spd_np = np.copy(wind_spd)"
   ]
  },
  {
   "cell_type": "code",
   "execution_count": 21,
   "metadata": {},
   "outputs": [],
   "source": [
    "wind_spd_np_3p = wind_spd_np[wind_spd_np > 3]"
   ]
  },
  {
   "cell_type": "code",
   "execution_count": 22,
   "metadata": {},
   "outputs": [
    {
     "data": {
      "text/plain": [
       "256"
      ]
     },
     "execution_count": 22,
     "metadata": {},
     "output_type": "execute_result"
    }
   ],
   "source": [
    "wind_spd_size = wind_spd_np.shape\n",
    "wind_spd_size[2]"
   ]
  },
  {
   "cell_type": "code",
   "execution_count": 23,
   "metadata": {},
   "outputs": [
    {
     "data": {
      "text/plain": [
       "(501485,)"
      ]
     },
     "execution_count": 23,
     "metadata": {},
     "output_type": "execute_result"
    }
   ],
   "source": [
    "wind_spd_np_3p.shape"
   ]
  },
  {
   "cell_type": "markdown",
   "metadata": {},
   "source": [
    "## test indexing required to identify number of days with winds greater than a threshold (3 m/s)"
   ]
  },
  {
   "cell_type": "code",
   "execution_count": 24,
   "metadata": {},
   "outputs": [
    {
     "data": {
      "text/plain": [
       "(13,)"
      ]
     },
     "execution_count": 24,
     "metadata": {},
     "output_type": "execute_result"
    }
   ],
   "source": [
    "thresh = 3\n",
    "wind_spd_ixiy = wind_spd_np[:,1,1]\n",
    "wind_spd_ixiy_thresh = wind_spd_ixiy[wind_spd_ixiy > thresh]\n",
    "wind_spd_ixiy_thresh.shape"
   ]
  },
  {
   "cell_type": "code",
   "execution_count": 25,
   "metadata": {},
   "outputs": [
    {
     "data": {
      "text/plain": [
       "13"
      ]
     },
     "execution_count": 25,
     "metadata": {},
     "output_type": "execute_result"
    }
   ],
   "source": [
    "wind_spd_ixiy_thresh.size"
   ]
  },
  {
   "cell_type": "code",
   "execution_count": 26,
   "metadata": {},
   "outputs": [
    {
     "data": {
      "text/plain": [
       "24"
      ]
     },
     "execution_count": 26,
     "metadata": {},
     "output_type": "execute_result"
    }
   ],
   "source": [
    "wind_spd_ixiy.size"
   ]
  },
  {
   "cell_type": "markdown",
   "metadata": {},
   "source": [
    "## Calculate percent time with winds greater than 10 m/s "
   ]
  },
  {
   "cell_type": "code",
   "execution_count": 27,
   "metadata": {},
   "outputs": [],
   "source": [
    "# \"thresh\": threshold of wind speed and \n",
    "# \"total\": the number of hours in a day \n",
    "# \"it\" : time index\n",
    "tresh = 10\n",
    "total = wind_spd_ixiy.size\n",
    "nt    = 1\n",
    "wind_spd_ixiy_percent = np.zeros((ny,nx))\n",
    "for iy in range(0,wind_spd_size[1]):\n",
    "    for ix in range(0,wind_spd_size[2]):\n",
    "        wind_spd_ixiy = wind_spd_np[:,iy,ix]\n",
    "        wind_spd_ixiy_thresh = wind_spd_ixiy[wind_spd_ixiy > thresh]\n",
    "        wind_spd_ixiy_percent[iy,ix] = len(wind_spd_ixiy_thresh) / total\n"
   ]
  },
  {
   "cell_type": "markdown",
   "metadata": {},
   "source": [
    "## Now plot up results\n",
    "               "
   ]
  },
  {
   "cell_type": "code",
   "execution_count": 28,
   "metadata": {},
   "outputs": [
    {
     "data": {
      "text/plain": [
       "(266, 256)"
      ]
     },
     "execution_count": 28,
     "metadata": {},
     "output_type": "execute_result"
    }
   ],
   "source": [
    "wind_spd_ixiy_percent.shape\n"
   ]
  },
  {
   "cell_type": "code",
   "execution_count": 29,
   "metadata": {},
   "outputs": [
    {
     "data": {
      "text/plain": [
       "Text(0,0.5,'%')"
      ]
     },
     "execution_count": 29,
     "metadata": {},
     "output_type": "execute_result"
    },
    {
     "data": {
      "image/png": "[encoded data removed]",
      "text/plain": [
       "<Figure size 432x288 with 2 Axes>"
      ]
     },
     "metadata": {},
     "output_type": "display_data"
    }
   ],
   "source": [
    "fig, ax = plt.subplots()\n",
    "cax = ax.imshow(wind_spd_ixiy_percent)\n",
    "ax.set_title('Percent time with wind speed over 10 m/s for 2015-04-08')\n",
    "cbar = fig.colorbar(cax, orientation='vertical')\n",
    "cbar.ax.set_ylabel('%')"
   ]
  }
 ],
 "metadata": {
  "kernelspec": {
   "display_name": "Python 3",
   "language": "python",
   "name": "python3"
  },
  "language_info": {
   "codemirror_mode": {
    "name": "ipython",
    "version": 3
   },
   "file_extension": ".py",
   "mimetype": "text/x-python",
   "name": "python",
   "nbconvert_exporter": "python",
   "pygments_lexer": "ipython3",
   "version": "3.6.5"
  }
 },
 "nbformat": 4,
 "nbformat_minor": 2
}
