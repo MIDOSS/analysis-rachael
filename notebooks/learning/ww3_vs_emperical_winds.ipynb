{
 "cells": [
  {
   "cell_type": "code",
   "execution_count": 1,
   "metadata": {},
   "outputs": [],
   "source": [
    "import xarray as xr \n",
    "import matplotlib.pyplot as plt\n",
    "import numpy as np\n",
    "import arrow \n",
    "import cmocean\n",
    "\n",
    "%matplotlib inline"
   ]
  },
  {
   "cell_type": "code",
   "execution_count": 42,
   "metadata": {},
   "outputs": [
    {
     "data": {
      "text/plain": [
       "<xarray.Dataset>\n",
       "Dimensions:    (latitude: 661, longitude: 572, time: 252)\n",
       "Coordinates:\n",
       "  * time       (time) datetime64[ns] 2018-11-04 ... 2018-11-10T05:30:00\n",
       "  * latitude   (latitude) float32 48.0 48.0045 48.009 ... 50.961 50.9655 50.97\n",
       "  * longitude  (longitude) float32 234.0 234.007 234.014 ... 237.99 237.997\n",
       "Data variables:\n",
       "    ucur       (time, latitude, longitude) float32 ...\n",
       "    vcur       (time, latitude, longitude) float32 ...\n",
       "    uwnd       (time, latitude, longitude) float32 ...\n",
       "    vwnd       (time, latitude, longitude) float32 ...\n",
       "    hs         (time, latitude, longitude) float32 ...\n",
       "    lm         (time, latitude, longitude) float32 ...\n",
       "    t02        (time, latitude, longitude) float32 ...\n",
       "    fp         (time, latitude, longitude) float32 ...\n",
       "    dir        (time, latitude, longitude) float32 ...\n",
       "    dp         (time, latitude, longitude) float32 ...\n",
       "    wcc        (time, latitude, longitude) float32 ...\n",
       "    wch        (time, latitude, longitude) float32 ...\n",
       "    utwo       (time, latitude, longitude) float32 ...\n",
       "    vtwo       (time, latitude, longitude) float32 ...\n",
       "    foc        (time, latitude, longitude) float32 ...\n",
       "    uuss       (time, latitude, longitude) float32 ...\n",
       "    vuss       (time, latitude, longitude) float32 ...\n",
       "Attributes:\n",
       "    acknowledgement:               Fisheries & Oceans Canada, MEOPAR, ONC, Co...\n",
       "    area:                          SoG_BCgrid_00500m\n",
       "    cdm_data_type:                 Grid\n",
       "    Conventions:                   COARDS, CF-1.6, ACDD-1.3\n",
       "    creator_email:                 gemmrich@uvic.ca\n",
       "    creator_name:                  Salish Sea MEOPAR Project Contributors\n",
       "    creator_url:                   https://salishsea-meopar-docs.readthedocs.io/\n",
       "    drawLandMask:                  over\n",
       "    Easternmost_Easting:           237.997\n",
       "    geospatial_lat_max:            50.97\n",
       "    geospatial_lat_min:            48.0\n",
       "    geospatial_lat_resolution:     0.0045\n",
       "    geospatial_lat_units:          degrees_north\n",
       "    geospatial_lon_max:            237.997\n",
       "    geospatial_lon_min:            234.0\n",
       "    geospatial_lon_resolution:     0.007\n",
       "    geospatial_lon_units:          degrees_east\n",
       "    history:                       2018-11-16T12:48:23Z (local files)\\n2018-1...\n",
       "    infoUrl:                       https://salishsea-meopar-docs.readthedocs....\n",
       "    institution:                   UBC EOAS & DFO IOS\n",
       "    institution_fullname:          Earth, Ocean & Atmospheric Sciences, Unive...\n",
       "    keywords:                      atmosphere, Atmosphere &gt, atmospheric, A...\n",
       "    keywords_vocabulary:           GCMD Science Keywords\n",
       "    license:                       The SalishSeaCast model results are copyri...\n",
       "    maximum_altitude:              9000 m\n",
       "    minimum_altitude:              -12000 m\n",
       "    nco_openmp_thread_number:      1\n",
       "    Northernmost_Northing:         50.97\n",
       "    product_name:                  SoG_ww3_fields_20181109.nc\n",
       "    project:                       Salish Sea MEOPAR NEMO Model\n",
       "    sourceUrl:                     (local files)\n",
       "    Southernmost_Northing:         48.0\n",
       "    standard_name_vocabulary:      CF Standard Name Table v29\n",
       "    summary:                       Forecast, Salish Sea, 2d Wave Fields, 30mi...\n",
       "    time_coverage_end:             2018-11-10T05:30:00Z\n",
       "    time_coverage_start:           2018-11-04T00:00:00Z\n",
       "    title:                         Forecast, Salish Sea, 2d Wave Fields, 30mi...\n",
       "    WAVEWATCH_III_switches:        F90 NOGRB NOPA LRB4 NC4 DIST MPI PR3 UQ FL...\n",
       "    WAVEWATCH_III_version_number:  5.16\n",
       "    Westernmost_Easting:           234.0"
      ]
     },
     "execution_count": 42,
     "metadata": {},
     "output_type": "execute_result"
    }
   ],
   "source": [
    "xww3 = xr.open_dataset('https://salishsea.eos.ubc.ca/erddap/griddap/ubcSSf2DWaveFields30mV17-02')\n",
    "xww3"
   ]
  },
  {
   "cell_type": "code",
   "execution_count": 83,
   "metadata": {},
   "outputs": [],
   "source": [
    "xhs_ww3 = xww3.hs[:,:,1]\n",
    "xt_ww3 = xww3.t02[:,:,1]\n",
    "u_ww3 = xww3.uwnd[:,:,1]\n",
    "v_ww3 = xww3.vwnd[:,:,1]"
   ]
  },
  {
   "cell_type": "code",
   "execution_count": 84,
   "metadata": {},
   "outputs": [],
   "source": [
    "hs_ww3 = xhs_ww3.values\n",
    "t_ww3 = xt_ww3.values\n",
    "u_ww3 = u_ww3.values\n",
    "v_ww3 = v_ww3.values"
   ]
  },
  {
   "cell_type": "code",
   "execution_count": 98,
   "metadata": {},
   "outputs": [],
   "source": [
    "wspd_ww3 = np.sqrt(u_ww3**2 + v_ww3**2)"
   ]
  },
  {
   "cell_type": "code",
   "execution_count": null,
   "metadata": {},
   "outputs": [],
   "source": []
  },
  {
   "cell_type": "code",
   "execution_count": 77,
   "metadata": {},
   "outputs": [
    {
     "data": {
      "text/plain": [
       "(252, 661)"
      ]
     },
     "execution_count": 77,
     "metadata": {},
     "output_type": "execute_result"
    }
   ],
   "source": [
    "hs_ww3.shape"
   ]
  },
  {
   "cell_type": "code",
   "execution_count": 82,
   "metadata": {},
   "outputs": [],
   "source": [
    "hs_ww3_v = hs_ww3.reshape(1,252*661)\n",
    "t_ww3_v = t_ww3.reshape(1,252*661)"
   ]
  },
  {
   "cell_type": "code",
   "execution_count": 79,
   "metadata": {},
   "outputs": [
    {
     "data": {
      "text/plain": [
       "array([[        nan,  0.02288555,  0.33667508, ...,         nan,\n",
       "                nan,         nan]], dtype=float32)"
      ]
     },
     "execution_count": 79,
     "metadata": {},
     "output_type": "execute_result"
    }
   ],
   "source": [
    "hs_ww3_v"
   ]
  },
  {
   "cell_type": "code",
   "execution_count": null,
   "metadata": {},
   "outputs": [],
   "source": []
  },
  {
   "cell_type": "code",
   "execution_count": 21,
   "metadata": {},
   "outputs": [],
   "source": [
    "xw = xr.open_dataset('https://salishsea.eos.ubc.ca/erddap/griddap/ubcSSaSurfaceAtmosphereFieldsV1')"
   ]
  },
  {
   "cell_type": "code",
   "execution_count": 3,
   "metadata": {},
   "outputs": [],
   "source": [
    "u = xw.u_wind.sel(time=slice(\"2018-09-01 16:00:00\"))"
   ]
  },
  {
   "cell_type": "code",
   "execution_count": 4,
   "metadata": {},
   "outputs": [],
   "source": [
    "v = xw.v_wind.sel(time=slice(\"2018-09-01 16:00:00\"))"
   ]
  },
  {
   "cell_type": "code",
   "execution_count": 5,
   "metadata": {},
   "outputs": [
    {
     "data": {
      "text/plain": [
       "(34817, 266, 256)"
      ]
     },
     "execution_count": 5,
     "metadata": {},
     "output_type": "execute_result"
    }
   ],
   "source": [
    "v.shape"
   ]
  },
  {
   "cell_type": "code",
   "execution_count": 6,
   "metadata": {},
   "outputs": [
    {
     "data": {
      "text/plain": [
       "(266, 256)"
      ]
     },
     "execution_count": 6,
     "metadata": {},
     "output_type": "execute_result"
    }
   ],
   "source": [
    "v1 = v[1,:,:].values\n",
    "u1 = u[1,:,:].values\n",
    "v1.shape"
   ]
  },
  {
   "cell_type": "code",
   "execution_count": 7,
   "metadata": {},
   "outputs": [
    {
     "data": {
      "text/plain": [
       "array([[-6.29785299, -6.29785299, -6.28285265, ..., -0.40785277,\n",
       "        -0.55285281, -0.72785276],\n",
       "       [-6.31285286, -6.32285261, -6.30285263, ..., -0.64785278,\n",
       "        -0.77285278, -1.0028528 ],\n",
       "       [-6.32785273, -6.33285284, -6.31785297, ..., -0.84285277,\n",
       "        -0.97785276, -1.28285277],\n",
       "       ..., \n",
       "       [ 0.35214722,  0.27214721,  0.18214722, ...,  0.10714722,\n",
       "         0.5671472 ,  0.85714722],\n",
       "       [ 0.48714721,  0.39214721,  0.28214723, ...,  0.23214722,\n",
       "         0.49214721,  0.76214719],\n",
       "       [ 0.5671472 ,  0.49214721,  0.38714722, ...,  0.24214722,\n",
       "         0.29714721,  0.60214722]], dtype=float32)"
      ]
     },
     "execution_count": 7,
     "metadata": {},
     "output_type": "execute_result"
    }
   ],
   "source": [
    "u1"
   ]
  },
  {
   "cell_type": "code",
   "execution_count": 8,
   "metadata": {},
   "outputs": [
    {
     "data": {
      "text/plain": [
       "array([[ 11.00235748,  11.02286625,  11.04306793, ...,   2.17515993,\n",
       "          2.20210886,   2.34727955],\n",
       "       [ 10.95775795,  10.98804379,  11.01341915, ...,   2.52123761,\n",
       "          2.4278748 ,   2.82086372],\n",
       "       [ 10.91338253,  10.94888878,  10.97698784, ...,   2.85388231,\n",
       "          2.70920777,   3.34255767],\n",
       "       ..., \n",
       "       [  2.14255667,   2.1755085 ,   2.19598627, ...,   0.76099998,\n",
       "          0.83542746,   1.062832  ],\n",
       "       [  1.95992541,   1.96298778,   1.96874189, ...,   0.9085772 ,\n",
       "          0.91672581,   1.11468339],\n",
       "       [  1.8048439 ,   1.78750479,   1.78100657, ...,   0.92565286,\n",
       "          0.82853711,   0.92975211]], dtype=float32)"
      ]
     },
     "execution_count": 8,
     "metadata": {},
     "output_type": "execute_result"
    }
   ],
   "source": [
    "wspd = np.sqrt(u1**2 + v1**2)\n",
    "wspd"
   ]
  },
  {
   "cell_type": "code",
   "execution_count": 99,
   "metadata": {},
   "outputs": [],
   "source": [
    "wspd_v = wspd.reshape([1,266*256])\n",
    "\n",
    "wspd_ww3_v = wspd_ww3.reshape([1,252*661])"
   ]
  },
  {
   "cell_type": "code",
   "execution_count": 10,
   "metadata": {},
   "outputs": [
    {
     "data": {
      "text/plain": [
       "array([[ 11.00235748,  11.02286625,  11.04306793, ...,   0.92565286,\n",
       "          0.82853711,   0.92975211]], dtype=float32)"
      ]
     },
     "execution_count": 10,
     "metadata": {},
     "output_type": "execute_result"
    }
   ],
   "source": [
    "wspd_v"
   ]
  },
  {
   "cell_type": "code",
   "execution_count": 11,
   "metadata": {},
   "outputs": [],
   "source": [
    "Hs = 0.0121*wspd_v**2"
   ]
  },
  {
   "cell_type": "code",
   "execution_count": 12,
   "metadata": {},
   "outputs": [],
   "source": [
    "Tm = 0.812 * 3.14 * wspd_v / 9.8"
   ]
  },
  {
   "cell_type": "code",
   "execution_count": 96,
   "metadata": {},
   "outputs": [
    {
     "data": {
      "image/png": "[encoded data removed]",
      "text/plain": [
       "<Figure size 432x288 with 1 Axes>"
      ]
     },
     "metadata": {},
     "output_type": "display_data"
    }
   ],
   "source": [
    "fig, ax = plt.subplots()\n",
    "ax.scatter(wspd_v, Hs)\n",
    "ax.set_title('MOHID theoretical wave height vs. wind speed (H_s = 0.0121*U^2)')\n",
    "ax.set_xlabel('wind speed (m/s)')\n",
    "ax.set_ylabel('wave height (H_s, m)')\n",
    "fig.savefig('MOHID_Hs.jpeg',dpi=224,quality=50)"
   ]
  },
  {
   "cell_type": "code",
   "execution_count": 100,
   "metadata": {},
   "outputs": [
    {
     "data": {
      "image/png": "[encoded data removed]",
      "text/plain": [
       "<Figure size 432x288 with 1 Axes>"
      ]
     },
     "metadata": {},
     "output_type": "display_data"
    }
   ],
   "source": [
    "fig, ax = plt.subplots()\n",
    "ax.scatter(wspd_ww3_v, hs_ww3_v)\n",
    "ax.set_title('WW3 wave height vs. wind speed')\n",
    "ax.set_xlabel('WW3 wind speed (m/s)')\n",
    "ax.set_ylabel('WW3 wave height (H_s, m)')\n",
    "fig.savefig('WW3_Hs.jpeg',dpi=224,quality=50)"
   ]
  },
  {
   "cell_type": "code",
   "execution_count": null,
   "metadata": {},
   "outputs": [],
   "source": []
  },
  {
   "cell_type": "code",
   "execution_count": 97,
   "metadata": {},
   "outputs": [
    {
     "data": {
      "image/png": "[encoded data removed]",
      "text/plain": [
       "<Figure size 432x288 with 1 Axes>"
      ]
     },
     "metadata": {},
     "output_type": "display_data"
    }
   ],
   "source": [
    "fig, ax = plt.subplots()\n",
    "ax.scatter(wspd_v, Tm)\n",
    "ax.set_title('MOHID theoretical wave period (T_m = 0.812 * pi * wspd_v / g)')\n",
    "ax.set_xlabel('wind speed (m/s)')\n",
    "ax.set_ylabel('wave period (T_m, m)')"
   ]
  }
 ],
 "metadata": {
  "kernelspec": {
   "display_name": "Python 3",
   "language": "python",
   "name": "python3"
  },
  "language_info": {
   "codemirror_mode": {
    "name": "ipython",
    "version": 3
   },
   "file_extension": ".py",
   "mimetype": "text/x-python",
   "name": "python",
   "nbconvert_exporter": "python",
   "pygments_lexer": "ipython3",
   "version": "3.6.5"
  }
 },
 "nbformat": 4,
 "nbformat_minor": 2
}
