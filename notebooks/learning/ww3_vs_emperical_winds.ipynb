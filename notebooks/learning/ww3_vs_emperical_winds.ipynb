{
 "cells": [
  {
   "cell_type": "markdown",
   "metadata": {},
   "source": [
    "# Plot Wave Watch 3 (WW3) wave height and period vs. wind speed and compare these graphics with the equations used in MOHID. The WW3 values used are from past 7 days prior to present.   "
   ]
  },
  {
   "cell_type": "code",
   "execution_count": 1,
   "metadata": {},
   "outputs": [],
   "source": [
    "import xarray as xr \n",
    "import matplotlib.pyplot as plt\n",
    "import numpy as np\n",
    "import arrow \n",
    "import cmocean\n",
    "\n",
    "%matplotlib inline"
   ]
  },
  {
   "cell_type": "markdown",
   "metadata": {},
   "source": [
    "## Load Wave Watch 3 data set into xarray.  "
   ]
  },
  {
   "cell_type": "code",
   "execution_count": 2,
   "metadata": {},
   "outputs": [],
   "source": [
    "xww3 = xr.open_dataset('https://salishsea.eos.ubc.ca/erddap/griddap/ubcSSf2DWaveFields30mV17-02')"
   ]
  },
  {
   "cell_type": "markdown",
   "metadata": {},
   "source": [
    "## Extract values from the first time step"
   ]
  },
  {
   "cell_type": "code",
   "execution_count": 3,
   "metadata": {},
   "outputs": [],
   "source": [
    "xhs_ww3 = xww3.hs[:,:,1]\n",
    "xt_ww3 = xww3.t02[:,:,1]\n",
    "u_ww3 = xww3.uwnd[:,:,1]\n",
    "v_ww3 = xww3.vwnd[:,:,1]"
   ]
  },
  {
   "cell_type": "code",
   "execution_count": 4,
   "metadata": {},
   "outputs": [],
   "source": [
    "hs_ww3 = xhs_ww3.values\n",
    "t_ww3 = xt_ww3.values\n",
    "u_ww3 = u_ww3.values\n",
    "v_ww3 = v_ww3.values"
   ]
  },
  {
   "cell_type": "code",
   "execution_count": 28,
   "metadata": {},
   "outputs": [
    {
     "data": {
      "text/plain": [
       "(360, 661)"
      ]
     },
     "execution_count": 28,
     "metadata": {},
     "output_type": "execute_result"
    }
   ],
   "source": [
    "v_ww3.shape"
   ]
  },
  {
   "cell_type": "code",
   "execution_count": 27,
   "metadata": {},
   "outputs": [
    {
     "data": {
      "image/png": "[encoded data removed]",
      "text/plain": [
       "<Figure size 432x288 with 2 Axes>"
      ]
     },
     "metadata": {},
     "output_type": "display_data"
    }
   ],
   "source": [
    "fig, ax = plt.subplots()\n",
    "cax = ax.imshow(v_ww3)\n",
    "ax.set_title('v-velocity')\n",
    "cbar = fig.colorbar(cax, orientation='vertical')\n",
    "cbar.ax.set_ylabel('[m/s]')\n",
    "cbar.set_clim(-10, 10)"
   ]
  },
  {
   "cell_type": "code",
   "execution_count": 6,
   "metadata": {},
   "outputs": [],
   "source": [
    "wspd_ww3 = np.sqrt(u_ww3**2 + v_ww3**2)"
   ]
  },
  {
   "cell_type": "code",
   "execution_count": 7,
   "metadata": {},
   "outputs": [
    {
     "data": {
      "text/plain": [
       "(360, 661)"
      ]
     },
     "execution_count": 7,
     "metadata": {},
     "output_type": "execute_result"
    }
   ],
   "source": [
    "hs_ww3.shape"
   ]
  },
  {
   "cell_type": "code",
   "execution_count": 8,
   "metadata": {},
   "outputs": [],
   "source": [
    "hs_ww3_v = hs_ww3.reshape(1,360*661)\n",
    "t_ww3_v = t_ww3.reshape(1,360*661)"
   ]
  },
  {
   "cell_type": "code",
   "execution_count": 9,
   "metadata": {},
   "outputs": [
    {
     "data": {
      "text/plain": [
       "array([[        nan,  0.25238654,  0.25298181, ...,         nan,\n",
       "                nan,         nan]], dtype=float32)"
      ]
     },
     "execution_count": 9,
     "metadata": {},
     "output_type": "execute_result"
    }
   ],
   "source": [
    "hs_ww3_v"
   ]
  },
  {
   "cell_type": "code",
   "execution_count": 10,
   "metadata": {},
   "outputs": [],
   "source": [
    "xw = xr.open_dataset('https://salishsea.eos.ubc.ca/erddap/griddap/ubcSSaSurfaceAtmosphereFieldsV1')"
   ]
  },
  {
   "cell_type": "code",
   "execution_count": 11,
   "metadata": {},
   "outputs": [],
   "source": [
    "u = xw.u_wind.sel(time=slice(\"2018-09-01 16:00:00\"))"
   ]
  },
  {
   "cell_type": "code",
   "execution_count": 12,
   "metadata": {},
   "outputs": [],
   "source": [
    "v = xw.v_wind.sel(time=slice(\"2018-09-01 16:00:00\"))"
   ]
  },
  {
   "cell_type": "code",
   "execution_count": 13,
   "metadata": {},
   "outputs": [
    {
     "data": {
      "text/plain": [
       "(34817, 266, 256)"
      ]
     },
     "execution_count": 13,
     "metadata": {},
     "output_type": "execute_result"
    }
   ],
   "source": [
    "v.shape"
   ]
  },
  {
   "cell_type": "code",
   "execution_count": 14,
   "metadata": {},
   "outputs": [
    {
     "data": {
      "text/plain": [
       "(266, 256)"
      ]
     },
     "execution_count": 14,
     "metadata": {},
     "output_type": "execute_result"
    }
   ],
   "source": [
    "v1 = v[1,:,:].values\n",
    "u1 = u[1,:,:].values\n",
    "v1.shape"
   ]
  },
  {
   "cell_type": "code",
   "execution_count": 15,
   "metadata": {},
   "outputs": [
    {
     "data": {
      "text/plain": [
       "array([[-6.29785299, -6.29785299, -6.28285265, ..., -0.40785277,\n",
       "        -0.55285281, -0.72785276],\n",
       "       [-6.31285286, -6.32285261, -6.30285263, ..., -0.64785278,\n",
       "        -0.77285278, -1.0028528 ],\n",
       "       [-6.32785273, -6.33285284, -6.31785297, ..., -0.84285277,\n",
       "        -0.97785276, -1.28285277],\n",
       "       ..., \n",
       "       [ 0.35214722,  0.27214721,  0.18214722, ...,  0.10714722,\n",
       "         0.5671472 ,  0.85714722],\n",
       "       [ 0.48714721,  0.39214721,  0.28214723, ...,  0.23214722,\n",
       "         0.49214721,  0.76214719],\n",
       "       [ 0.5671472 ,  0.49214721,  0.38714722, ...,  0.24214722,\n",
       "         0.29714721,  0.60214722]], dtype=float32)"
      ]
     },
     "execution_count": 15,
     "metadata": {},
     "output_type": "execute_result"
    }
   ],
   "source": [
    "u1"
   ]
  },
  {
   "cell_type": "code",
   "execution_count": 16,
   "metadata": {},
   "outputs": [
    {
     "data": {
      "text/plain": [
       "array([[ 11.00235748,  11.02286625,  11.04306793, ...,   2.17515993,\n",
       "          2.20210886,   2.34727955],\n",
       "       [ 10.95775795,  10.98804379,  11.01341915, ...,   2.52123761,\n",
       "          2.4278748 ,   2.82086372],\n",
       "       [ 10.91338253,  10.94888878,  10.97698784, ...,   2.85388231,\n",
       "          2.70920777,   3.34255767],\n",
       "       ..., \n",
       "       [  2.14255667,   2.1755085 ,   2.19598627, ...,   0.76099998,\n",
       "          0.83542746,   1.062832  ],\n",
       "       [  1.95992541,   1.96298778,   1.96874189, ...,   0.9085772 ,\n",
       "          0.91672581,   1.11468339],\n",
       "       [  1.8048439 ,   1.78750479,   1.78100657, ...,   0.92565286,\n",
       "          0.82853711,   0.92975211]], dtype=float32)"
      ]
     },
     "execution_count": 16,
     "metadata": {},
     "output_type": "execute_result"
    }
   ],
   "source": [
    "wspd = np.sqrt(u1**2 + v1**2)\n",
    "wspd"
   ]
  },
  {
   "cell_type": "code",
   "execution_count": 17,
   "metadata": {},
   "outputs": [],
   "source": [
    "wspd_v = wspd.reshape([1,266*256])\n",
    "\n",
    "wspd_ww3_v = wspd_ww3.reshape([1,360*661])"
   ]
  },
  {
   "cell_type": "code",
   "execution_count": 18,
   "metadata": {},
   "outputs": [
    {
     "data": {
      "text/plain": [
       "array([[ 11.00235748,  11.02286625,  11.04306793, ...,   0.92565286,\n",
       "          0.82853711,   0.92975211]], dtype=float32)"
      ]
     },
     "execution_count": 18,
     "metadata": {},
     "output_type": "execute_result"
    }
   ],
   "source": [
    "wspd_v"
   ]
  },
  {
   "cell_type": "code",
   "execution_count": 19,
   "metadata": {},
   "outputs": [],
   "source": [
    "Hs = 0.0121*wspd_v**2"
   ]
  },
  {
   "cell_type": "code",
   "execution_count": 20,
   "metadata": {},
   "outputs": [],
   "source": [
    "Tm = 0.812 * 3.14 * wspd_v / 9.8"
   ]
  },
  {
   "cell_type": "markdown",
   "metadata": {},
   "source": [
    "## Plot up wave height vs. wind speed "
   ]
  },
  {
   "cell_type": "code",
   "execution_count": 21,
   "metadata": {},
   "outputs": [
    {
     "data": {
      "image/png": "[encoded data removed]",
      "text/plain": [
       "<Figure size 432x288 with 1 Axes>"
      ]
     },
     "metadata": {},
     "output_type": "display_data"
    }
   ],
   "source": [
    "fig, ax = plt.subplots()\n",
    "ax.scatter(wspd_v, Hs)\n",
    "ax.set_title('MOHID theoretical wave height vs. wind speed (H_s = 0.0121*U^2)')\n",
    "ax.set_xlabel('wind speed (m/s)')\n",
    "ax.set_ylabel('wave height (H_s, m)')\n",
    "fig.savefig('MOHID_Hs.jpeg',dpi=224,quality=50)"
   ]
  },
  {
   "cell_type": "code",
   "execution_count": 22,
   "metadata": {},
   "outputs": [
    {
     "data": {
      "image/png": "[encoded data removed]",
      "text/plain": [
       "<Figure size 432x288 with 1 Axes>"
      ]
     },
     "metadata": {},
     "output_type": "display_data"
    }
   ],
   "source": [
    "fig, ax = plt.subplots()\n",
    "ax.scatter(wspd_ww3_v, hs_ww3_v)\n",
    "ax.set_title('WW3 wave height vs. wind speed')\n",
    "ax.set_xlabel('WW3 wind speed (m/s)')\n",
    "ax.set_ylabel('WW3 wave height (H_s, m)')\n",
    "fig.savefig('WW3_Hs.jpeg',dpi=224,quality=50)"
   ]
  },
  {
   "cell_type": "markdown",
   "metadata": {},
   "source": [
    "## Plot up wave period vs. wind speed"
   ]
  },
  {
   "cell_type": "code",
   "execution_count": 23,
   "metadata": {},
   "outputs": [
    {
     "data": {
      "text/plain": [
       "Text(0,0.5,'wave period (T_m, m)')"
      ]
     },
     "execution_count": 23,
     "metadata": {},
     "output_type": "execute_result"
    },
    {
     "data": {
      "image/png": "[encoded data removed]",
      "text/plain": [
       "<Figure size 432x288 with 1 Axes>"
      ]
     },
     "metadata": {},
     "output_type": "display_data"
    }
   ],
   "source": [
    "fig, ax = plt.subplots()\n",
    "ax.scatter(wspd_v, Tm)\n",
    "ax.set_title('MOHID theoretical wave period (T_m = 0.812 * pi * wspd_v / g)')\n",
    "ax.set_xlabel('wind speed (m/s)')\n",
    "ax.set_ylabel('wave period (T_m, m)')"
   ]
  },
  {
   "cell_type": "markdown",
   "metadata": {},
   "source": [
    "## Now look at results using a limited range of WW3 that eliminates the open ocean values"
   ]
  },
  {
   "cell_type": "code",
   "execution_count": null,
   "metadata": {},
   "outputs": [],
   "source": []
  },
  {
   "cell_type": "code",
   "execution_count": null,
   "metadata": {},
   "outputs": [],
   "source": []
  }
 ],
 "metadata": {
  "kernelspec": {
   "display_name": "Python 3",
   "language": "python",
   "name": "python3"
  },
  "language_info": {
   "codemirror_mode": {
    "name": "ipython",
    "version": 3
   },
   "file_extension": ".py",
   "mimetype": "text/x-python",
   "name": "python",
   "nbconvert_exporter": "python",
   "pygments_lexer": "ipython3",
   "version": "3.6.5"
  }
 },
 "nbformat": 4,
 "nbformat_minor": 2
}
