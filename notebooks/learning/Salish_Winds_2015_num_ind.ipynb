{
 "cells": [
  {
   "cell_type": "markdown",
   "metadata": {},
   "source": [
    "# A repeat of the Salish_winds_2015 using numeric values for months in order to extract analysis window. Plotting winds >7 m/s for each month in atmospheric forcing files"
   ]
  },
  {
   "cell_type": "markdown",
   "metadata": {},
   "source": [
    "## now try to figure out how to index months by converting numeric month into text index"
   ]
  },
  {
   "cell_type": "code",
   "execution_count": null,
   "metadata": {},
   "outputs": [],
   "source": [
    "import xarray as xr\n",
    "import matplotlib.pyplot as plt\n",
    "import math\n",
    "import numpy as np\n",
    "import arrow\n",
    "import cmocean\n",
    "\n",
    "# need datetime for converting between numeric and string indexing of time\n",
    "from datetime import date\n",
    "\n",
    "%matplotlib inline\n"
   ]
  },
  {
   "cell_type": "code",
   "execution_count": null,
   "metadata": {},
   "outputs": [],
   "source": [
    "ds = xr.open_dataset('https://salishsea.eos.ubc.ca/erddap/griddap/ubcSSaSurfaceAtmosphereFieldsV1')\n",
    "ds"
   ]
  },
  {
   "cell_type": "code",
   "execution_count": 58,
   "metadata": {},
   "outputs": [
    {
     "data": {
      "text/plain": [
       "'1'"
      ]
     },
     "execution_count": 58,
     "metadata": {},
     "output_type": "execute_result"
    }
   ],
   "source": [
    "month = 1\n",
    "time_01_15 = ds.time.sel(time=slice(\"2015-01-01\",\"2015-01-31\")).values\n",
    "strmn = str(month)\n",
    "strmn"
   ]
  },
  {
   "cell_type": "code",
   "execution_count": 49,
   "metadata": {},
   "outputs": [
    {
     "data": {
      "text/plain": [
       "datetime.date(2015, 1, 1)"
      ]
     },
     "execution_count": 49,
     "metadata": {},
     "output_type": "execute_result"
    }
   ],
   "source": [
    "\n",
    "test = date(2015,1,1)\n",
    "test"
   ]
  },
  {
   "cell_type": "code",
   "execution_count": 56,
   "metadata": {},
   "outputs": [
    {
     "data": {
      "text/plain": [
       "'15-01-01'"
      ]
     },
     "execution_count": 56,
     "metadata": {},
     "output_type": "execute_result"
    }
   ],
   "source": [
    "test.strftime(\"%y-%m-%d\")"
   ]
  },
  {
   "cell_type": "code",
   "execution_count": 57,
   "metadata": {},
   "outputs": [
    {
     "data": {
      "text/plain": [
       "'2015-01-01'"
      ]
     },
     "execution_count": 57,
     "metadata": {},
     "output_type": "execute_result"
    }
   ],
   "source": [
    "test.strftime(\"%Y-%m-%d\")"
   ]
  },
  {
   "cell_type": "code",
   "execution_count": 63,
   "metadata": {},
   "outputs": [
    {
     "data": {
      "text/plain": [
       "array(['2015-01-01T00:00:00.000000000', '2015-01-01T01:00:00.000000000',\n",
       "       '2015-01-01T02:00:00.000000000', '2015-01-01T03:00:00.000000000',\n",
       "       '2015-01-01T04:00:00.000000000', '2015-01-01T05:00:00.000000000',\n",
       "       '2015-01-01T06:00:00.000000000', '2015-01-01T07:00:00.000000000',\n",
       "       '2015-01-01T08:00:00.000000000', '2015-01-01T09:00:00.000000000',\n",
       "       '2015-01-01T10:00:00.000000000', '2015-01-01T11:00:00.000000000',\n",
       "       '2015-01-01T12:00:00.000000000', '2015-01-01T13:00:00.000000000',\n",
       "       '2015-01-01T14:00:00.000000000', '2015-01-01T15:00:00.000000000',\n",
       "       '2015-01-01T16:00:00.000000000', '2015-01-01T17:00:00.000000000',\n",
       "       '2015-01-01T18:00:00.000000000', '2015-01-01T19:00:00.000000000',\n",
       "       '2015-01-01T20:00:00.000000000', '2015-01-01T21:00:00.000000000',\n",
       "       '2015-01-01T22:00:00.000000000', '2015-01-01T23:00:00.000000000'], dtype='datetime64[ns]')"
      ]
     },
     "execution_count": 63,
     "metadata": {},
     "output_type": "execute_result"
    }
   ],
   "source": [
    "# old way: specify date\n",
    "# jan2015_time = ds.time.sel(time=slice(\"2015-01-01\",\"2015-01-31\")).values\n",
    "\n",
    "# new way: Use numeric date value (in preparation to create a loop)\n",
    "t1 = date(2015,1,1)\n",
    "t2 = date(2015,1,1)\n",
    "time_period = ds.time.sel(time=slice(t1.strftime(\"%Y-%m-%d\"),t2.strftime(\"%Y-%m-%d\"))).values\n",
    "time_period"
   ]
  },
  {
   "cell_type": "code",
   "execution_count": 64,
   "metadata": {},
   "outputs": [],
   "source": [
    "jan2015_wspd = np.sqrt(ds.u_wind.sel(time = time_period)**2 + ds.v_wind.sel(time = time_period)**2)\n",
    "\n",
    "thresh = 7\n",
    "wspd_size = jan2015_wspd.shape\n",
    "total = wspd_size[0]"
   ]
  },
  {
   "cell_type": "code",
   "execution_count": 65,
   "metadata": {},
   "outputs": [],
   "source": [
    "# Create numpy array for percentage value output\n",
    "wspd_2D_percent = np.zeros((wspd_size[1],wspd_size[2]))\n",
    "for iy in range(0,wspd_size[1]):\n",
    "    for ix in range(0,wspd_size[2]):\n",
    "        wspd_ts = jan2015_wspd[:,iy,ix]\n",
    "        wspd_ts_thresh =  wspd_ts[wspd_ts > thresh]\n",
    "        wspd_2D_percent[iy,ix] = 100 * len(wspd_ts_thresh) / total"
   ]
  },
  {
   "cell_type": "code",
   "execution_count": 66,
   "metadata": {},
   "outputs": [
    {
     "data": {
      "text/plain": [
       "Text(0,0.5,'%')"
      ]
     },
     "execution_count": 66,
     "metadata": {},
     "output_type": "execute_result"
    },
    {
     "data": {
      "image/png": "[encoded data removed]",
      "text/plain": [
       "<Figure size 432x288 with 2 Axes>"
      ]
     },
     "metadata": {},
     "output_type": "display_data"
    }
   ],
   "source": [
    "fig, ax = plt.subplots()\n",
    "cax = ax.imshow(np.flipud(wspd_2D_percent))\n",
    "ax.set_title('Percent time with wind speed over 10 m/s for Jan. 2015')\n",
    "cbar = fig.colorbar(cax, orientation='vertical')\n",
    "cbar.ax.set_ylabel('%')"
   ]
  }
 ],
 "metadata": {
  "kernelspec": {
   "display_name": "Python 3",
   "language": "python",
   "name": "python3"
  },
  "language_info": {
   "codemirror_mode": {
    "name": "ipython",
    "version": 3
   },
   "file_extension": ".py",
   "mimetype": "text/x-python",
   "name": "python",
   "nbconvert_exporter": "python",
   "pygments_lexer": "ipython3",
   "version": "3.6.5"
  }
 },
 "nbformat": 4,
 "nbformat_minor": 2
}
