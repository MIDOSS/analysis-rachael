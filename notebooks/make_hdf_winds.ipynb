{
 "cells": [
  {
   "cell_type": "markdown",
   "metadata": {},
   "source": [
    "# Create w-velocity HDF5 input file for MOHID from SalishSeaCast Green: \"Green, Salish Sea, 3d w Grid Variable Fields, Hourly, v17-02\". https://salishsea.eos.ubc.ca/erddap/griddap/ubcSSg3DwGridFields1hV17-02, for Shihan's test case 4/07/2014, 23:30:00 - 4/14/2014, 23:30:00"
   ]
  },
  {
   "cell_type": "code",
   "execution_count": 1,
   "metadata": {},
   "outputs": [],
   "source": [
    "import xarray as xr \n",
    "import matplotlib.pyplot as plt\n",
    "import numpy as np\n",
    "import arrow \n",
    "import cmocean\n",
    "\n",
    "%matplotlib inline"
   ]
  },
  {
   "cell_type": "code",
   "execution_count": 2,
   "metadata": {},
   "outputs": [],
   "source": [
    "#xwvel = xr.open_dataset('https://salishsea.eos.ubc.ca/erddap/griddap/ubcSSg3DwGridFields1hV17-02')"
   ]
  },
  {
   "cell_type": "code",
   "execution_count": 3,
   "metadata": {},
   "outputs": [],
   "source": [
    "xw = xr.open_dataset('https://salishsea.eos.ubc.ca/erddap/griddap/ubcSSg3DwGridFields1hV17-02?wVelocity')"
   ]
  },
  {
   "cell_type": "code",
   "execution_count": 12,
   "metadata": {},
   "outputs": [],
   "source": [
    "xw_t = xw.sel(time=slice(\"2014-04-07\", \"2014-04-08\"))"
   ]
  },
  {
   "cell_type": "code",
   "execution_count": 8,
   "metadata": {},
   "outputs": [],
   "source": [
    "xw = xr.open_dataset('https://salishsea.eos.ubc.ca/erddap/griddap/ubcSSg3DwGridFields1hV17-02')"
   ]
  },
  {
   "cell_type": "code",
   "execution_count": 11,
   "metadata": {},
   "outputs": [],
   "source": [
    "wt = xw.wVelocity.sel(time=slice(\"2014-04-07 23:30\", \"2014-04-08 23:30\"))"
   ]
  },
  {
   "cell_type": "code",
   "execution_count": null,
   "metadata": {},
   "outputs": [],
   "source": []
  }
 ],
 "metadata": {
  "kernelspec": {
   "display_name": "Python 3",
   "language": "python",
   "name": "python3"
  },
  "language_info": {
   "codemirror_mode": {
    "name": "ipython",
    "version": 3
   },
   "file_extension": ".py",
   "mimetype": "text/x-python",
   "name": "python",
   "nbconvert_exporter": "python",
   "pygments_lexer": "ipython3",
   "version": "3.6.5"
  }
 },
 "nbformat": 4,
 "nbformat_minor": 2
}
