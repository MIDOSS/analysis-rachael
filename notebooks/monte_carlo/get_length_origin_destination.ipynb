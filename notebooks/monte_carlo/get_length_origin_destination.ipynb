{
 "cells": [
  {
   "cell_type": "code",
   "execution_count": 61,
   "metadata": {},
   "outputs": [],
   "source": [
    "import geopandas as gpd\n",
    "from datetime import datetime, date, timedelta\n",
    "import numpy as np\n",
    "from salishsea_tools import geo_tools"
   ]
  },
  {
   "cell_type": "markdown",
   "metadata": {},
   "source": [
    "### open shapefile and explore a bit"
   ]
  },
  {
   "cell_type": "code",
   "execution_count": 5,
   "metadata": {},
   "outputs": [],
   "source": [
    "shapedir  = '/Users/rmueller/Data/MIDOSS/cargo_2018_01/'\n",
    "shapefile = 'cargo_2018_01.shp'"
   ]
  },
  {
   "cell_type": "code",
   "execution_count": 6,
   "metadata": {},
   "outputs": [],
   "source": [
    "data = gpd.read_file(shapedir + shapefile)"
   ]
  },
  {
   "cell_type": "code",
   "execution_count": 70,
   "metadata": {},
   "outputs": [
    {
     "data": {
      "text/plain": [
       "296982"
      ]
     },
     "execution_count": 70,
     "metadata": {},
     "output_type": "execute_result"
    }
   ],
   "source": [
    "[nrows,ncols]=data.shape\n",
    "nrows"
   ]
  },
  {
   "cell_type": "code",
   "execution_count": 10,
   "metadata": {},
   "outputs": [
    {
     "name": "stdout",
     "output_type": "stream",
     "text": [
      "MMSI\n",
      "ST_DATE\n",
      "EN_DATE\n",
      "LENGTH\n",
      "TO\n",
      "FROM_\n",
      "geometry\n"
     ]
    }
   ],
   "source": [
    "for c in data.columns:\n",
    "    print(c)\n"
   ]
  },
  {
   "cell_type": "code",
   "execution_count": 14,
   "metadata": {},
   "outputs": [
    {
     "data": {
      "text/plain": [
       "[(-125.91133833331847, 48.00089666672749),\n",
       " (-125.90970166717838, 48.00166833288793)]"
      ]
     },
     "execution_count": 14,
     "metadata": {},
     "output_type": "execute_result"
    }
   ],
   "source": [
    "data.geometry[0].coords[:]"
   ]
  },
  {
   "cell_type": "code",
   "execution_count": 17,
   "metadata": {},
   "outputs": [
    {
     "data": {
      "text/plain": [
       "198"
      ]
     },
     "execution_count": 17,
     "metadata": {},
     "output_type": "execute_result"
    }
   ],
   "source": [
    "data.LENGTH[100000]"
   ]
  },
  {
   "cell_type": "markdown",
   "metadata": {},
   "source": [
    "### determine vessel time exposure as time / distance for poly line segment"
   ]
  },
  {
   "cell_type": "markdown",
   "metadata": {},
   "source": [
    "#### start with time"
   ]
  },
  {
   "cell_type": "code",
   "execution_count": 30,
   "metadata": {},
   "outputs": [
    {
     "data": {
      "text/plain": [
       "'2018-01-01 05:29:33'"
      ]
     },
     "execution_count": 30,
     "metadata": {},
     "output_type": "execute_result"
    }
   ],
   "source": [
    "data.EN_DATE[0] "
   ]
  },
  {
   "cell_type": "code",
   "execution_count": 35,
   "metadata": {},
   "outputs": [],
   "source": [
    "start_date = datetime.strptime(data.ST_DATE[0] , '%Y-%m-%d %H:%M:%S')\n",
    "end_date = datetime.strptime(data.EN_DATE[0] , '%Y-%m-%d %H:%M:%S')"
   ]
  },
  {
   "cell_type": "code",
   "execution_count": 45,
   "metadata": {},
   "outputs": [
    {
     "data": {
      "text/plain": [
       "22.0"
      ]
     },
     "execution_count": 45,
     "metadata": {},
     "output_type": "execute_result"
    }
   ],
   "source": [
    "delta_time = end_date - start_date\n",
    "delta_time.total_seconds()"
   ]
  },
  {
   "cell_type": "markdown",
   "metadata": {},
   "source": [
    "#### now distance"
   ]
  },
  {
   "cell_type": "code",
   "execution_count": 54,
   "metadata": {},
   "outputs": [],
   "source": [
    "# two coordination locations in each line segment of geometry\n",
    "line = 0\n",
    "first = data.geometry[line].coords[0]\n",
    "second = data.geometry[line].coords[1]"
   ]
  },
  {
   "cell_type": "code",
   "execution_count": 50,
   "metadata": {},
   "outputs": [
    {
     "data": {
      "text/plain": [
       "tuple"
      ]
     },
     "execution_count": 50,
     "metadata": {},
     "output_type": "execute_result"
    }
   ],
   "source": [
    "type(first)"
   ]
  },
  {
   "cell_type": "code",
   "execution_count": 60,
   "metadata": {},
   "outputs": [],
   "source": [
    "lat = np.zeros(2)\n",
    "lon = np.zeros(2)\n",
    "lon[0] = first[0]\n",
    "lat[0] = first[1]\n",
    "lon[1] = second[0]\n",
    "lat[1] = second[1]"
   ]
  },
  {
   "cell_type": "code",
   "execution_count": 64,
   "metadata": {},
   "outputs": [
    {
     "data": {
      "text/plain": [
       "0.14887232475160814"
      ]
     },
     "execution_count": 64,
     "metadata": {},
     "output_type": "execute_result"
    }
   ],
   "source": [
    "# calculate the distance in km of vessel line segment\n",
    "geo_tools.haversine(lon[0],lat[0],lon[1],lat[1])"
   ]
  },
  {
   "cell_type": "markdown",
   "metadata": {},
   "source": [
    "#### Calculate distance from a given lat/lon location to polyline"
   ]
  },
  {
   "cell_type": "code",
   "execution_count": 65,
   "metadata": {},
   "outputs": [],
   "source": [
    "# use a test lat/lon that came from get_lat_lon_indices\n",
    "spill_lon = -124.9243\n",
    "spill_lat = 50.18442\n",
    "search_radius = 0.5 # km"
   ]
  },
  {
   "cell_type": "markdown",
   "metadata": {},
   "source": [
    "##### Dip a toe in first"
   ]
  },
  {
   "cell_type": "code",
   "execution_count": null,
   "metadata": {},
   "outputs": [],
   "source": [
    "# use the first lat/lon location to identify line segments within 500 m radiu\n",
    "lon = [data.geometry[i].coords[0][0] for i in range(3)]\n",
    "lat = [data.geometry[i].coords[0][1] for i in range(3)]"
   ]
  },
  {
   "cell_type": "code",
   "execution_count": 105,
   "metadata": {},
   "outputs": [],
   "source": [
    "# apply the haversine function to calculate distance from spill location\n",
    "# to poly line segments (based on first location of poly line) \n",
    "distance = geo_tools.haversine(spill_lon, spill_lat, lon, lat)"
   ]
  },
  {
   "cell_type": "code",
   "execution_count": 106,
   "metadata": {},
   "outputs": [
    {
     "data": {
      "text/plain": [
       "array([ 253.04542028,  252.92927167,  252.87606897])"
      ]
     },
     "execution_count": 106,
     "metadata": {},
     "output_type": "execute_result"
    }
   ],
   "source": [
    "distance"
   ]
  },
  {
   "cell_type": "code",
   "execution_count": 108,
   "metadata": {},
   "outputs": [
    {
     "data": {
      "text/plain": [
       "(array([0, 1, 2]),)"
      ]
     },
     "execution_count": 108,
     "metadata": {},
     "output_type": "execute_result"
    }
   ],
   "source": [
    "array_index = np.where(distance < 260)\n",
    "array_index"
   ]
  },
  {
   "cell_type": "code",
   "execution_count": 109,
   "metadata": {},
   "outputs": [
    {
     "data": {
      "text/plain": [
       "(array([], dtype=int64),)"
      ]
     },
     "execution_count": 109,
     "metadata": {},
     "output_type": "execute_result"
    }
   ],
   "source": [
    "array_index = np.where(distance < 10)\n",
    "array_index"
   ]
  },
  {
   "cell_type": "markdown",
   "metadata": {},
   "source": [
    "##### Water feels good.  Dive in!"
   ]
  },
  {
   "cell_type": "code",
   "execution_count": 110,
   "metadata": {},
   "outputs": [
    {
     "data": {
      "text/plain": [
       "'this is going to take a minute....'"
      ]
     },
     "metadata": {},
     "output_type": "display_data"
    }
   ],
   "source": [
    "display('this is going to take a minute....')"
   ]
  },
  {
   "cell_type": "code",
   "execution_count": 111,
   "metadata": {},
   "outputs": [],
   "source": [
    "lon_array = [data.geometry[i].coords[0][0] for i in range(nrows)]\n",
    "lat_array = [data.geometry[i].coords[0][1] for i in range(nrows)]"
   ]
  },
  {
   "cell_type": "code",
   "execution_count": 116,
   "metadata": {},
   "outputs": [
    {
     "data": {
      "text/plain": [
       "(array([56654]),)"
      ]
     },
     "execution_count": 116,
     "metadata": {},
     "output_type": "execute_result"
    }
   ],
   "source": [
    "distance = geo_tools.haversine(spill_lon, spill_lat, lon_array, lat_array)\n",
    "array_index = np.where(distance < search_radius)\n",
    "array_index"
   ]
  },
  {
   "cell_type": "code",
   "execution_count": 142,
   "metadata": {},
   "outputs": [],
   "source": [
    "total_seconds  = np.zeros(len(array_index))\n",
    "total_distance = np.zeros(len(array_index))\n",
    "vte            = np.zeros(len(array_index))\n",
    "\n",
    "# loop through values in array_index values to calculate \n",
    "for index in range(len(array_index)):\n",
    "    \n",
    "    # calculate the duration of travel for each poly line segment\n",
    "    start_date = datetime.strptime(data.ST_DATE[index] , '%Y-%m-%d %H:%M:%S')\n",
    "    end_date = datetime.strptime(data.EN_DATE[index] , '%Y-%m-%d %H:%M:%S')\n",
    "    delta_time = end_date - start_date\n",
    "    total_seconds[index] = delta_time.total_seconds()\n",
    "    \n",
    "    # calculate the distance of each poly line\n",
    "    start_lon = data.geometry[index].coords[0][0]\n",
    "    start_lat = data.geometry[index].coords[0][1]\n",
    "    end_lon   = data.geometry[index].coords[1][0]\n",
    "    end_lat   = data.geometry[index].coords[1][1]\n",
    "    \n",
    "    # calculate the distance in km of vessel line segment\n",
    "    total_distance[index] = geo_tools.haversine( start_lon, start_lat, end_lon, end_lat )\n",
    "    vte[index] = total_seconds[index]/total_distance[index]\n",
    "    \n",
    "# find the index for greatest vte (for cases where there is more than one polyline)    \n",
    "i, = np.where(vte == max(vte))\n",
    "the_one = array_index[i.item()]\n"
   ]
  },
  {
   "cell_type": "markdown",
   "metadata": {},
   "source": [
    "### now that we have found the one true polyline, get its digits!\n",
    "we want vessel length, to and from"
   ]
  },
  {
   "cell_type": "code",
   "execution_count": 148,
   "metadata": {},
   "outputs": [],
   "source": [
    "length = data.LENGTH[the_one.item()]\n",
    "origin = data.FROM_[the_one.item()]\n",
    "destination = data.TO[the_one.item()]"
   ]
  },
  {
   "cell_type": "code",
   "execution_count": 150,
   "metadata": {},
   "outputs": [
    {
     "name": "stdout",
     "output_type": "stream",
     "text": [
      "16\n",
      "None\n",
      "None\n"
     ]
    }
   ],
   "source": [
    "print(length)\n",
    "print(origin)\n",
    "print(destination)"
   ]
  }
 ],
 "metadata": {
  "kernelspec": {
   "display_name": "Python 3",
   "language": "python",
   "name": "python3"
  },
  "language_info": {
   "codemirror_mode": {
    "name": "ipython",
    "version": 3
   },
   "file_extension": ".py",
   "mimetype": "text/x-python",
   "name": "python",
   "nbconvert_exporter": "python",
   "pygments_lexer": "ipython3",
   "version": "3.6.5"
  }
 },
 "nbformat": 4,
 "nbformat_minor": 2
}
