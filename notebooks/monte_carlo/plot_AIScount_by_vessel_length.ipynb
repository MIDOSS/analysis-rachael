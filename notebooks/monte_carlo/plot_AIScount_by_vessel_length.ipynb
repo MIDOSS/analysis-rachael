{
 "cells": [
  {
   "cell_type": "code",
   "execution_count": 1,
   "metadata": {},
   "outputs": [],
   "source": [
    "import sys\n",
    "import yaml\n",
    "import pathlib\n",
    "import numpy\n",
    "import pandas\n",
    "import matplotlib.pyplot as plt\n",
    "from monte_carlo_utils import make_bins, get_bin, place_into_bins"
   ]
  },
  {
   "cell_type": "code",
   "execution_count": 28,
   "metadata": {},
   "outputs": [],
   "source": [
    "input_directory = pathlib.Path(\n",
    "    '/Users/rmueller/Data/MIDOSS/marine_transport_data/'\n",
    ")\n",
    "\n",
    "### open master yaml file for \n",
    "with open(input_directory/'master.yaml') as file:\n",
    "    master = yaml.load(file, Loader=yaml.Loader)\n",
    "\n",
    "# Get Total number of AIS pings and vessel length by MMSI for\n",
    "# our different ship types\n",
    "data = {}\n",
    "data['count'] = {}\n",
    "data['length'] = {}\n",
    "length_bins = {}\n",
    "for vessel in master['categories']['all_vessels']:\n",
    "    input_data = pandas.read_excel(\n",
    "        master['files']['oil_capacity'],\n",
    "        sheet_name=f'{vessel} data', \n",
    "        usecols='B,C'\n",
    "    )\n",
    "    data['count'][vessel]  = input_data['COUNT']\n",
    "    data['length'][vessel] = input_data['LENGTH']\n",
    "    length_bins[vessel] = {}\n"
   ]
  },
  {
   "cell_type": "code",
   "execution_count": 29,
   "metadata": {},
   "outputs": [
    {
     "data": {
      "text/plain": [
       "{'tanker': {},\n",
       " 'atb': {},\n",
       " 'barge': {},\n",
       " 'cargo': {},\n",
       " 'cruise': {},\n",
       " 'ferry': {},\n",
       " 'fishing': {},\n",
       " 'smallpass': {},\n",
       " 'other': {}}"
      ]
     },
     "execution_count": 29,
     "metadata": {},
     "output_type": "execute_result"
    }
   ],
   "source": [
    "length_bins"
   ]
  },
  {
   "cell_type": "code",
   "execution_count": 30,
   "metadata": {},
   "outputs": [],
   "source": [
    "# tanker\n",
    "length_bins['tanker']['lower_bound'] = 0\n",
    "length_bins['tanker']['upper_bound'] = 300\n",
    "length_bins['tanker']['step_size']   = 50\n",
    "\n",
    "# atb\n",
    "length_bins['atb']['lower_bound'] = 0\n",
    "length_bins['atb']['upper_bound'] = 300\n",
    "length_bins['atb']['step_size']   = 50\n",
    "\n",
    "# barge\n",
    "length_bins['barge']['lower_bound'] = 0\n",
    "length_bins['barge']['upper_bound'] = 300\n",
    "length_bins['barge']['step_size']   = 50\n",
    "\n",
    "# cargo\n",
    "length_bins['cargo']['lower_bound'] = 150\n",
    "length_bins['cargo']['upper_bound'] = 400\n",
    "length_bins['cargo']['step_size']   = 10\n",
    "\n",
    "# cruise\n",
    "length_bins['cargo']['lower_bound'] = 250\n",
    "length_bins['cargo']['upper_bound'] = 350\n",
    "length_bins['cargo']['step_size']   = 10\n",
    "\n",
    "# ferry\n",
    "length_bins['ferry']['lower_bound'] = 35\n",
    "length_bins['ferry']['upper_bound'] = 160\n",
    "length_bins['ferry']['step_size']   = 10\n",
    "\n",
    "# fishing\n",
    "length_bins['fishing']['lower_bound'] = 0\n",
    "length_bins['fishing']['upper_bound'] = 80\n",
    "length_bins['fishing']['step_size']   = 10\n",
    "\n",
    "# smallpass\n",
    "length_bins['smallpass']['lower_bound'] = 0\n",
    "length_bins['smallpass']['upper_bound'] = 35\n",
    "length_bins['smallpass']['step_size']   = 5\n",
    "\n",
    "# other\n",
    "length_bins['other']['lower_bound'] = 0\n",
    "length_bins['other']['upper_bound'] = 35\n",
    "length_bins['other']['step_size']   = 5\n"
   ]
  },
  {
   "cell_type": "code",
   "execution_count": 24,
   "metadata": {},
   "outputs": [
    {
     "data": {
      "image/png": "[encoded data removed]",
      "text/plain": [
       "<Figure size 432x288 with 1 Axes>"
      ]
     },
     "metadata": {},
     "output_type": "display_data"
    }
   ],
   "source": [
    "lower_bound = length_bins['tanker']['lower_bound']\n",
    "upper_bound = length_bins['tanker']['upper_bound']\n",
    "step_size   = length_bins['tanker']['step_size']\n",
    "\n",
    "[tanker_bins, tanker_bin_centers]  = make_bins(\n",
    "    lower_bound,\n",
    "    upper_bound,\n",
    "    step_size\n",
    ")\n",
    "\n",
    "binned_tanker_length = place_into_bins(\n",
    "    data['length']['tanker'], \n",
    "    data['count']['tanker'], \n",
    "    tanker_bins\n",
    ")\n",
    "\n",
    "fig = plt.figure()\n",
    "ax1 = fig.add_subplot(111)\n",
    "ax1.bar(\n",
    "    tanker_bin_centers,\n",
    "    binned_tanker_length,\n",
    "    label='tanker',\n",
    "    width = 50/2,\n",
    "    color='darkslateblue'\n",
    ")\n",
    "plt.xlabel('AIS vessel length (meters or mistake)',fontsize=12)\n",
    "plt.ylabel('Number of ship tracks',fontsize=12)\n",
    "plt.tight_layout()\n",
    "ax1.legend()\n",
    "plt.show() "
   ]
  },
  {
   "cell_type": "code",
   "execution_count": null,
   "metadata": {},
   "outputs": [],
   "source": [
    "lower_bound = length_bins['tanker']['lower_bound']\n",
    "upper_bound = length_bins['tanker']['upper_bound']\n",
    "step_size   = length_bins['tanker']['step_size']\n",
    "\n",
    "[tanker_bins, tanker_bin_centers]  = make_bins(\n",
    "    lower_bound,\n",
    "    upper_bound,\n",
    "    step_size\n",
    ")\n",
    "\n",
    "binned_tanker_length = place_into_bins(\n",
    "    data['length']['tanker'], \n",
    "    data['count']['tanker'], \n",
    "    tanker_bins\n",
    ")\n",
    "\n",
    "fig = plt.figure()\n",
    "ax1 = fig.add_subplot(111)\n",
    "ax1.bar(\n",
    "    tanker_bin_centers,\n",
    "    binned_tanker_length,\n",
    "    label='tanker',\n",
    "    width = 50/2,\n",
    "    color='darkslateblue'\n",
    ")\n",
    "plt.xlabel('AIS vessel length (meters or mistake)',fontsize=12)\n",
    "plt.ylabel('Number of ship tracks',fontsize=12)\n",
    "plt.tight_layout()\n",
    "ax1.legend()\n",
    "plt.show() "
   ]
  },
  {
   "cell_type": "code",
   "execution_count": 15,
   "metadata": {},
   "outputs": [
    {
     "data": {
      "text/plain": [
       "[25.0, 75.0, 125.0, 175.0, 225.0, 275.0]"
      ]
     },
     "execution_count": 15,
     "metadata": {},
     "output_type": "execute_result"
    }
   ],
   "source": [
    "tanker_bin_centers"
   ]
  },
  {
   "cell_type": "code",
   "execution_count": null,
   "metadata": {},
   "outputs": [],
   "source": []
  }
 ],
 "metadata": {
  "kernelspec": {
   "display_name": "Python 3",
   "language": "python",
   "name": "python3"
  },
  "language_info": {
   "codemirror_mode": {
    "name": "ipython",
    "version": 3
   },
   "file_extension": ".py",
   "mimetype": "text/x-python",
   "name": "python",
   "nbconvert_exporter": "python",
   "pygments_lexer": "ipython3",
   "version": "3.6.8"
  }
 },
 "nbformat": 4,
 "nbformat_minor": 2
}
