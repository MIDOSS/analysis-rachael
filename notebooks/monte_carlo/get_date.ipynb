{
 "cells": [
  {
   "cell_type": "markdown",
   "metadata": {},
   "source": [
    "###  This is a template for the get_date monte carlo function.  "
   ]
  },
  {
   "cell_type": "code",
   "execution_count": 1,
   "metadata": {},
   "outputs": [],
   "source": [
    "import random\n",
    "import rasterio as rio\n",
    "import numpy as np\n",
    "from numpy.random import choice\n",
    "from datetime import datetime, date, timedelta\n"
   ]
  },
  {
   "cell_type": "code",
   "execution_count": 2,
   "metadata": {},
   "outputs": [],
   "source": [
    "def get_date(start_date, end_date, delta_time):\n",
    "    # initialize date list with start_date and increment by delta_time\n",
    "    dates = start_date\n",
    "    date_array = [start_date]\n",
    "    while dates < end_date:\n",
    "        date_array.append(dates)\n",
    "        dates += delta_time\n",
    "\n",
    "    # randomly select time based on delta_time increment\n",
    "    return random.choice(date_array) "
   ]
  },
  {
   "cell_type": "code",
   "execution_count": 3,
   "metadata": {},
   "outputs": [],
   "source": [
    "\n",
    "start_date = datetime(2015, 1, 1, 0, 30)\n",
    "end_date   = datetime(2018, 12, 31, 23, 55)\n",
    "delta_time = timedelta(minutes = 30)\n",
    "spill_date = get_date(start_date, end_date, delta_time)"
   ]
  },
  {
   "cell_type": "code",
   "execution_count": 4,
   "metadata": {},
   "outputs": [
    {
     "data": {
      "text/plain": [
       "datetime.datetime(2015, 3, 10, 17, 30)"
      ]
     },
     "execution_count": 4,
     "metadata": {},
     "output_type": "execute_result"
    }
   ],
   "source": [
    "spill_date"
   ]
  },
  {
   "cell_type": "code",
   "execution_count": 5,
   "metadata": {},
   "outputs": [
    {
     "data": {
      "text/plain": [
       "3"
      ]
     },
     "execution_count": 5,
     "metadata": {},
     "output_type": "execute_result"
    }
   ],
   "source": [
    "spill_date.month"
   ]
  },
  {
   "cell_type": "code",
   "execution_count": 6,
   "metadata": {},
   "outputs": [
    {
     "data": {
      "text/plain": [
       "17"
      ]
     },
     "execution_count": 6,
     "metadata": {},
     "output_type": "execute_result"
    }
   ],
   "source": [
    "spill_date.hour"
   ]
  },
  {
   "cell_type": "markdown",
   "metadata": {},
   "source": [
    "###  The code below develops the process of selecting the date by first choosing a month that is weighed by Vessel Traffic Exposure"
   ]
  },
  {
   "cell_type": "markdown",
   "metadata": {},
   "source": [
    "##### Get month"
   ]
  },
  {
   "cell_type": "code",
   "execution_count": 17,
   "metadata": {},
   "outputs": [
    {
     "name": "stdout",
     "output_type": "stream",
     "text": [
      "/Users/rmueller/Data/MIDOSS/AIS/ShipTrackDensityGeoTIFFs/all_2018_01.tif\n",
      "/Users/rmueller/Data/MIDOSS/AIS/ShipTrackDensityGeoTIFFs/all_2018_02.tif\n",
      "/Users/rmueller/Data/MIDOSS/AIS/ShipTrackDensityGeoTIFFs/all_2018_03.tif\n",
      "/Users/rmueller/Data/MIDOSS/AIS/ShipTrackDensityGeoTIFFs/all_2018_04.tif\n",
      "/Users/rmueller/Data/MIDOSS/AIS/ShipTrackDensityGeoTIFFs/all_2018_05.tif\n",
      "/Users/rmueller/Data/MIDOSS/AIS/ShipTrackDensityGeoTIFFs/all_2018_06.tif\n",
      "/Users/rmueller/Data/MIDOSS/AIS/ShipTrackDensityGeoTIFFs/all_2018_07.tif\n",
      "/Users/rmueller/Data/MIDOSS/AIS/ShipTrackDensityGeoTIFFs/all_2018_08.tif\n",
      "/Users/rmueller/Data/MIDOSS/AIS/ShipTrackDensityGeoTIFFs/all_2018_09.tif\n",
      "/Users/rmueller/Data/MIDOSS/AIS/ShipTrackDensityGeoTIFFs/all_2018_10.tif\n",
      "/Users/rmueller/Data/MIDOSS/AIS/ShipTrackDensityGeoTIFFs/all_2018_11.tif\n",
      "/Users/rmueller/Data/MIDOSS/AIS/ShipTrackDensityGeoTIFFs/all_2018_12.tif\n",
      "[40241.77, 39879.977, 48065.723, 46474.059, 57431.367, 57617.504, 58803.598, 60949.133, 57478.613, 55143.496, 51053.902, 47204.156]\n"
     ]
    }
   ],
   "source": [
    "from array import *\n",
    "import rasterio as rio\n",
    "\n",
    "# specify where geotiff files are located\n",
    "geotiff_directory = '/Users/rmueller/Data/MIDOSS/AIS/ShipTrackDensityGeoTIFFs/'\n",
    "n_locations = 1\n",
    "\n",
    "# Load GeoTIFF files for each month and add up VTE\n",
    "months = array('i',range(1,13))\n",
    "total_vte_by_month = []\n",
    "\n",
    "for month in months:\n",
    "    \n",
    "    # The filenames are formated as \"all_2018_MM.tif\"\n",
    "    f_name = f'{geotiff_directory}all_2018_{month:02.0f}.tif'\n",
    "    \n",
    "    # open GeoTIFF file for reading\n",
    "    traffic_reader = rio.open(f_name)\n",
    "    \n",
    "    # load data in a way that automatically closes file when finished\n",
    "    with traffic_reader as dataset:\n",
    "\n",
    "        # resample data to target shape\n",
    "        data = dataset.read(1)\n",
    "\n",
    "        # remove no-data values and singular dimension \n",
    "        data = np.squeeze(data)\n",
    "        data[data < 0] = 0\n",
    "\n",
    "        total_vte_by_month.append(data.sum())    \n",
    "\n",
    "    print(f_name)\n",
    "                \n",
    "print(total_vte_by_month)                            "
   ]
  },
  {
   "cell_type": "code",
   "execution_count": 18,
   "metadata": {},
   "outputs": [],
   "source": [
    "vte_probability = total_vte_by_month / np.sum(total_vte_by_month)"
   ]
  },
  {
   "cell_type": "code",
   "execution_count": 19,
   "metadata": {},
   "outputs": [
    {
     "data": {
      "text/plain": [
       "array([ 0.06487016,  0.06428695,  0.07748246,  0.07491668,  0.09257998,\n",
       "        0.09288004,  0.09479203,  0.09825066,  0.09265614,  0.08889191,\n",
       "        0.08229944,  0.07609361], dtype=float32)"
      ]
     },
     "execution_count": 19,
     "metadata": {},
     "output_type": "execute_result"
    }
   ],
   "source": [
    "vte_probability"
   ]
  },
  {
   "cell_type": "code",
   "execution_count": 20,
   "metadata": {},
   "outputs": [
    {
     "data": {
      "text/plain": [
       "1.0"
      ]
     },
     "execution_count": 20,
     "metadata": {},
     "output_type": "execute_result"
    }
   ],
   "source": [
    "np.sum(vte_probability)"
   ]
  },
  {
   "cell_type": "markdown",
   "metadata": {},
   "source": [
    "#### Randomly select month based on weighting by vessel traffic"
   ]
  },
  {
   "cell_type": "code",
   "execution_count": 21,
   "metadata": {},
   "outputs": [],
   "source": [
    "month_random = choice( months, \n",
    "                       n_locations , \n",
    "                       p = vte_probability\n",
    "                     )"
   ]
  },
  {
   "cell_type": "markdown",
   "metadata": {},
   "source": [
    "#### Now that month is selected, we need to choose day, year, and time.  We weight these all the same"
   ]
  },
  {
   "cell_type": "code",
   "execution_count": 63,
   "metadata": {},
   "outputs": [],
   "source": [
    "time_period = end_date - start_date\n",
    "time_period_inhours = np.int(time_period.total_seconds()/3600)\n",
    "date_arr = [start_date + timedelta(hours=i) for i in range(0,time_period_inhours+1)]"
   ]
  },
  {
   "cell_type": "code",
   "execution_count": 64,
   "metadata": {},
   "outputs": [
    {
     "data": {
      "text/plain": [
       "datetime.datetime(2018, 12, 31, 23, 30)"
      ]
     },
     "execution_count": 64,
     "metadata": {},
     "output_type": "execute_result"
    }
   ],
   "source": [
    "date_arr[-1]"
   ]
  },
  {
   "cell_type": "code",
   "execution_count": 68,
   "metadata": {},
   "outputs": [],
   "source": [
    "date_arr_select = []\n",
    "for days in date_arr:\n",
    "    if days.month == month_random:\n",
    "        date_arr_select.append(days)"
   ]
  },
  {
   "cell_type": "code",
   "execution_count": 71,
   "metadata": {},
   "outputs": [
    {
     "data": {
      "text/plain": [
       "datetime.datetime(2017, 11, 8, 5, 30)"
      ]
     },
     "execution_count": 71,
     "metadata": {},
     "output_type": "execute_result"
    }
   ],
   "source": [
    "random.choice(date_arr_select)"
   ]
  },
  {
   "cell_type": "code",
   "execution_count": null,
   "metadata": {},
   "outputs": [],
   "source": []
  }
 ],
 "metadata": {
  "kernelspec": {
   "display_name": "Python 3",
   "language": "python",
   "name": "python3"
  },
  "language_info": {
   "codemirror_mode": {
    "name": "ipython",
    "version": 3
   },
   "file_extension": ".py",
   "mimetype": "text/x-python",
   "name": "python",
   "nbconvert_exporter": "python",
   "pygments_lexer": "ipython3",
   "version": "3.6.5"
  }
 },
 "nbformat": 4,
 "nbformat_minor": 2
}
