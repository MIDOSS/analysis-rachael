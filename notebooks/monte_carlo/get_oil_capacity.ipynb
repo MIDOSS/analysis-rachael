{
 "cells": [
  {
   "cell_type": "markdown",
   "metadata": {},
   "source": [
    "### **Goal**: yield cargo and fuel carry capacity by vessel type.  \n",
    "See [this methodology document](https://docs.google.com/document/d/1wm4NaXGgpJ-D6yMIGfFESZxIJILYBr5ZbM79dSC8Urs/edit) for an overview of the values used in spill capacity expressions.\n"
   ]
  },
  {
   "cell_type": "markdown",
   "metadata": {},
   "source": [
    "### Fixing user inputs (for development)"
   ]
  },
  {
   "cell_type": "code",
   "execution_count": null,
   "metadata": {},
   "outputs": [],
   "source": [
    "from math import exp "
   ]
  },
  {
   "cell_type": "code",
   "execution_count": 1,
   "metadata": {},
   "outputs": [],
   "source": [
    "vessel_length = 1  #output from get_vessel_length\n",
    "vessel_type   = 'cargo' # output from get_vessel_type"
   ]
  },
  {
   "cell_type": "markdown",
   "metadata": {},
   "source": [
    "## Create a list of vessel types"
   ]
  },
  {
   "cell_type": "code",
   "execution_count": 20,
   "metadata": {},
   "outputs": [],
   "source": [
    "def get_oil_capacity( vessel_length, vessel_type ):\n",
    "\n",
    "    if vessel_type == \"tanker\":\n",
    "    \n",
    "        fuel_capacity = ( 111047 * exp( 9.32e-03 * vessel_length )) / 264.172\n",
    "\n",
    "        if vessel_length < 220:  \n",
    "\n",
    "            tank_capacity = 301 * vessel_length        \n",
    "\n",
    "        else:\n",
    "\n",
    "            tank_capacity = 465 * vessel_length\n",
    "\n",
    "    elif vessel_type == \"atb\" or vessel_type == \"barge\":\n",
    "\n",
    "        fuel_capacity = (10438 + 5182 * vessel_length + 241 * vessel_length**2) / 264.172\n",
    "        tank_capacity = (232021 * exp( 0.0246 * vessel_length )) / 264.172\n",
    "\n",
    "    elif vessel_type == \"cargo\":\n",
    "\n",
    "        fuel_capacity = ( 111047 * exp( 9.32e-03 * vessel_length )) / 264.172\n",
    "        tank_capacity = 0\n",
    "\n",
    "    elif vessel_type == \"cruise\":\n",
    "\n",
    "        fuel_capacity = ( 58271 * exp( 9.97e-03 * vessel_length )) / 264.172\n",
    "        tank_capacity = 0\n",
    "\n",
    "    elif vessel_type == \"ferry\":\n",
    "\n",
    "        fuel_capacity = ( 1381 * exp( 0.0371 * vessel_length )) / 264.172\n",
    "        tank_capacity = 0\n",
    "\n",
    "    elif vessel_type == \"fishing\":\n",
    "\n",
    "        fuel_capacity = ( 223 * exp( 0.598 * vessel_length )) / 264.172\n",
    "        tank_capacity = 0\n",
    "\n",
    "    elif vessel_type == \"smallpass\" or vessel_type == \"other\":\n",
    "\n",
    "        fuel_capacity = ( 8.05 * vessel_length + 158 ) / 264.172\n",
    "        tank_capacity = 0\n",
    "\n",
    "    else:\n",
    "\n",
    "        print([\"Oops! Vessel type isn't valid.\" + \n",
    "           \"Today's flavors are: tanker, atb, barge, cargo, cruise, \" +\n",
    "           \"ferry, fishing, smallpass, or other.  Go fish!  (or try 'fishing' instead)\"])\n",
    "\n",
    "    fuel_in_liters = 1e3 * fuel_capacity\n",
    "    tank_in_liters = 1e3 * tank_capacity  \n",
    "\n",
    "    return fuel_in_liters, tank_in_liters"
   ]
  },
  {
   "cell_type": "code",
   "execution_count": 22,
   "metadata": {},
   "outputs": [
    {
     "name": "stdout",
     "output_type": "stream",
     "text": [
      "tanker [fuel, tank]: 7.35e+05 liters, 1.81e+07 liters\n",
      "atb [fuel, tank]: 4.50e+06 liters, 3.84e+06 liters\n",
      "barge [fuel, tank]: 4.50e+06 liters, 3.84e+06 liters\n",
      "cargo [fuel, tank]: 7.35e+05 liters, 0.00e+00 liters\n",
      "cruise [fuel, tank]: 4.01e+05 liters, 0.00e+00 liters\n",
      "ferry [fuel, tank]: 4.84e+04 liters, 0.00e+00 liters\n",
      "fishing [fuel, tank]: 3.23e+18 liters, 0.00e+00 liters\n",
      "smallpass [fuel, tank]: 2.43e+03 liters, 0.00e+00 liters\n",
      "other [fuel, tank]: 2.43e+03 liters, 0.00e+00 liters\n"
     ]
    }
   ],
   "source": [
    "vessel_types      = [\"tanker\", \"atb\", \"barge\", \"cargo\", \"cruise\",\n",
    "                     \"ferry\", \"fishing\", \"smallpass\", \"other\"]\n",
    "\n",
    "for vessel in vessel_types:\n",
    "    [fuel, tank] = get_oil_capacity(60, vessel)\n",
    "    print(f'{vessel} [fuel, tank]: {fuel:4.2e} liters, {tank:4.2e} liters')\n",
    "\n",
    "\n"
   ]
  },
  {
   "cell_type": "code",
   "execution_count": null,
   "metadata": {},
   "outputs": [],
   "source": []
  }
 ],
 "metadata": {
  "kernelspec": {
   "display_name": "Python 3",
   "language": "python",
   "name": "python3"
  },
  "language_info": {
   "codemirror_mode": {
    "name": "ipython",
    "version": 3
   },
   "file_extension": ".py",
   "mimetype": "text/x-python",
   "name": "python",
   "nbconvert_exporter": "python",
   "pygments_lexer": "ipython3",
   "version": "3.6.5"
  }
 },
 "nbformat": 4,
 "nbformat_minor": 2
}
