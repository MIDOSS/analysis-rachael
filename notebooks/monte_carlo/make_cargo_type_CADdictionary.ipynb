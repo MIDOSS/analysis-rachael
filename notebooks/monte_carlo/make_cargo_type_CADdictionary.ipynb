{
 "cells": [
  {
   "cell_type": "markdown",
   "metadata": {},
   "source": [
    "### Oil type by origin\n",
    "Goal: Assign weighting in tank traffic by destination and vessel type.\n",
    "\n",
    "See [Oil transfer facilities](https://docs.google.com/spreadsheets/d/1bIQk9YNfcCjf690KKgcdRO7HyEYj6rmJ97HRWR_S82g/edit#gid=0) spreadsheet for details"
   ]
  },
  {
   "cell_type": "code",
   "execution_count": 1,
   "metadata": {},
   "outputs": [],
   "source": [
    "import pandas as pd\n",
    "import numpy as np\n",
    "import matplotlib.pyplot as plt\n",
    "import yaml"
   ]
  },
  {
   "cell_type": "markdown",
   "metadata": {},
   "source": [
    "#### Add Canada fuel facilities, vessels, fuel-types and percent of total"
   ]
  },
  {
   "cell_type": "code",
   "execution_count": 2,
   "metadata": {},
   "outputs": [],
   "source": [
    "facility_names_canada = [ 'ESSO Nanaimo Departure Bay', 'Suncor Nanaimo', 'Shell Chemainus Bare Point',\n",
    "                          'Chevron Cobble Hill', 'Chevron Stanovan', 'Barge Mooring Near Stanovan',\n",
    "                          'Shell Shellburn', 'Westridge Marine Terminal', 'ESSO IOCO Vancouver',\n",
    "                          'Suncor Vancouver' ]\n",
    "\n",
    "# define vessel and fuel types to include in .yaml file\n",
    "vessel_types = ['atb', 'tug', 'tanker']\n",
    "fuel_type    = ['akns', 'dilbit', 'bunker', 'jet', 'diesel', 'gas', 'other']\n",
    "data_type    = ['total_gallons', 'percent_of_total', 'number_of_transfers']\n",
    "\n",
    "CADterminals = {}\n",
    "CADterminals['names'] = facility_names_canada\n",
    "\n",
    "# initialize\n",
    "for label in facility_names_canada:\n",
    "    CADterminals[f'{label}'] = {}"
   ]
  },
  {
   "cell_type": "code",
   "execution_count": 3,
   "metadata": {},
   "outputs": [],
   "source": [
    "for label in facility_names_canada:\n",
    "    \n",
    "    # Their website says they service gas and diesel. Short of more information, I choose a 50/50 split\n",
    "    if label == 'ESSO Nanaimo Departure Bay': \n",
    "           \n",
    "        for vessel in vessel_types:\n",
    "            CADterminals[f'{label}'][f'{vessel}'] = {}\n",
    "            for fuel in fuel_type:\n",
    "                CADterminals[f'{label}'][f'{vessel}'][f'{fuel}'] = {}\n",
    "                if fuel in ['diesel', 'gas']:\n",
    "                    CADterminals[f'{label}'][f'{vessel}'][f'{fuel}']['percent_of_total'] = 50\n",
    "                else:\n",
    "                    CADterminals[f'{label}'][f'{vessel}'][f'{fuel}']['percent_of_total'] = 0\n",
    "    \n",
    "    # Suncor pers. comm. (see spreadsheet linked above) says 25/75 split MGO / Heavy Cycle Fuel\n",
    "    elif label == 'Suncor Nanaimo':\n",
    "        \n",
    "        for vessel in vessel_types:\n",
    "            CADterminals[f'{label}'][f'{vessel}'] = {}\n",
    "            for fuel in fuel_type:\n",
    "                CADterminals[f'{label}'][f'{vessel}'][f'{fuel}'] = {}\n",
    "                if fuel in ['diesel']:\n",
    "                    CADterminals[f'{label}'][f'{vessel}'][f'{fuel}']['percent_of_total'] = 25  \n",
    "                elif fuel in ['bunker']:\n",
    "                    CADterminals[f'{label}'][f'{vessel}'][f'{fuel}']['percent_of_total'] = 75\n",
    "                else:\n",
    "                    CADterminals[f'{label}'][f'{vessel}'][f'{fuel}']['percent_of_total'] = 0\n",
    "    \n",
    "    # for this case, akns represents canadian conventional crude\n",
    "    elif label == 'Westridge Marine Terminal':\n",
    "    \n",
    "        for vessel in vessel_types:\n",
    "            CADterminals[f'{label}'][f'{vessel}'] = {}\n",
    "            for fuel in fuel_type:\n",
    "                CADterminals[f'{label}'][f'{vessel}'][f'{fuel}'] = {}\n",
    "                if fuel in ['dilbit']:\n",
    "                    CADterminals[f'{label}'][f'{vessel}'][f'{fuel}']['percent_of_total'] = 25  \n",
    "                elif fuel in ['akns']:\n",
    "                    CADterminals[f'{label}'][f'{vessel}'][f'{fuel}']['percent_of_total'] = 75\n",
    "                else:\n",
    "                    CADterminals[f'{label}'][f'{vessel}'][f'{fuel}']['percent_of_total'] = 0\n",
    "\n",
    "\n",
    "\n",
    "    else:\n",
    "        \n",
    "        for vessel in vessel_types:\n",
    "            CADterminals[f'{label}'][f'{vessel}'] = {}\n",
    "            for fuel in fuel_type:\n",
    "                CADterminals[f'{label}'][f'{vessel}'][f'{fuel}'] = {}\n",
    "                if fuel in ['diesel']:\n",
    "                    CADterminals[f'{label}'][f'{vessel}'][f'{fuel}']['percent_of_total'] = 100\n",
    "                else:\n",
    "                    CADterminals[f'{label}'][f'{vessel}'][f'{fuel}']['percent_of_total'] = 0\n",
    "\n",
    "        \n",
    "    "
   ]
  },
  {
   "cell_type": "code",
   "execution_count": 4,
   "metadata": {},
   "outputs": [],
   "source": [
    "with open(r'./cargo_CAD.yaml', 'w') as file:\n",
    "    documents = yaml.safe_dump(CADterminals, file)\n"
   ]
  },
  {
   "cell_type": "code",
   "execution_count": 5,
   "metadata": {},
   "outputs": [
    {
     "name": "stdout",
     "output_type": "stream",
     "text": [
      "yes!\n"
     ]
    }
   ],
   "source": [
    "name = 'DIESEL/MARINE GAS OIL'\n",
    "if 'DIESEL' in name:\n",
    "    print('yes!')"
   ]
  },
  {
   "cell_type": "code",
   "execution_count": null,
   "metadata": {},
   "outputs": [],
   "source": []
  }
 ],
 "metadata": {
  "kernelspec": {
   "display_name": "Python 3",
   "language": "python",
   "name": "python3"
  },
  "language_info": {
   "codemirror_mode": {
    "name": "ipython",
    "version": 3
   },
   "file_extension": ".py",
   "mimetype": "text/x-python",
   "name": "python",
   "nbconvert_exporter": "python",
   "pygments_lexer": "ipython3",
   "version": "3.6.5"
  }
 },
 "nbformat": 4,
 "nbformat_minor": 2
}
