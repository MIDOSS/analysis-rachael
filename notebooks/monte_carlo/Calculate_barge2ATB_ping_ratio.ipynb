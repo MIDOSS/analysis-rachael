{
 "cells": [
  {
   "cell_type": "markdown",
   "id": "insured-current",
   "metadata": {},
   "source": [
    "### Estimate ping-to-transfer ratio for barges using median time intervals between AIS ship tracks"
   ]
  },
  {
   "cell_type": "code",
   "execution_count": 6,
   "id": "limited-dairy",
   "metadata": {},
   "outputs": [],
   "source": [
    "from pathlib import Path\n",
    "import geopandas"
   ]
  },
  {
   "cell_type": "code",
   "execution_count": 7,
   "id": "dependent-responsibility",
   "metadata": {},
   "outputs": [],
   "source": [
    "input_dir = Path('/Users/rmueller/Data/MIDOSS/Vessel Track Shapefiles')"
   ]
  },
  {
   "cell_type": "code",
   "execution_count": 8,
   "id": "unauthorized-indie",
   "metadata": {},
   "outputs": [
    {
     "data": {
      "text/html": [
       "<div>\n",
       "<style scoped>\n",
       "    .dataframe tbody tr th:only-of-type {\n",
       "        vertical-align: middle;\n",
       "    }\n",
       "\n",
       "    .dataframe tbody tr th {\n",
       "        vertical-align: top;\n",
       "    }\n",
       "\n",
       "    .dataframe thead th {\n",
       "        text-align: right;\n",
       "    }\n",
       "</style>\n",
       "<table border=\"1\" class=\"dataframe\">\n",
       "  <thead>\n",
       "    <tr style=\"text-align: right;\">\n",
       "      <th></th>\n",
       "      <th>MMSI_NUM</th>\n",
       "      <th>LENGTH</th>\n",
       "      <th>TO</th>\n",
       "      <th>FROM_</th>\n",
       "      <th>geometry</th>\n",
       "    </tr>\n",
       "  </thead>\n",
       "  <tbody>\n",
       "    <tr>\n",
       "      <th>0</th>\n",
       "      <td>316001223.0</td>\n",
       "      <td>41</td>\n",
       "      <td>US</td>\n",
       "      <td>US</td>\n",
       "      <td>LINESTRING (-122.77576 48.33664, -122.77798 48...</td>\n",
       "    </tr>\n",
       "    <tr>\n",
       "      <th>1</th>\n",
       "      <td>316001223.0</td>\n",
       "      <td>41</td>\n",
       "      <td>US</td>\n",
       "      <td>US</td>\n",
       "      <td>LINESTRING (-122.77798 48.33187, -122.77848 48...</td>\n",
       "    </tr>\n",
       "  </tbody>\n",
       "</table>\n",
       "</div>"
      ],
      "text/plain": [
       "      MMSI_NUM  LENGTH  TO FROM_  \\\n",
       "0  316001223.0      41  US    US   \n",
       "1  316001223.0      41  US    US   \n",
       "\n",
       "                                            geometry  \n",
       "0  LINESTRING (-122.77576 48.33664, -122.77798 48...  \n",
       "1  LINESTRING (-122.77798 48.33187, -122.77848 48...  "
      ]
     },
     "execution_count": 8,
     "metadata": {},
     "output_type": "execute_result"
    }
   ],
   "source": [
    "atb_tracks = geopandas.read_file(input_dir/'atb_2018_01.shp')\n",
    "atb_tracks.head(2)"
   ]
  },
  {
   "cell_type": "code",
   "execution_count": 9,
   "id": "mighty-addition",
   "metadata": {},
   "outputs": [
    {
     "data": {
      "text/html": [
       "<div>\n",
       "<style scoped>\n",
       "    .dataframe tbody tr th:only-of-type {\n",
       "        vertical-align: middle;\n",
       "    }\n",
       "\n",
       "    .dataframe tbody tr th {\n",
       "        vertical-align: top;\n",
       "    }\n",
       "\n",
       "    .dataframe thead th {\n",
       "        text-align: right;\n",
       "    }\n",
       "</style>\n",
       "<table border=\"1\" class=\"dataframe\">\n",
       "  <thead>\n",
       "    <tr style=\"text-align: right;\">\n",
       "      <th></th>\n",
       "      <th>MMSI_NUM</th>\n",
       "      <th>LENGTH</th>\n",
       "      <th>TO</th>\n",
       "      <th>FROM_</th>\n",
       "      <th>geometry</th>\n",
       "    </tr>\n",
       "  </thead>\n",
       "  <tbody>\n",
       "    <tr>\n",
       "      <th>0</th>\n",
       "      <td>316001068.0</td>\n",
       "      <td>30</td>\n",
       "      <td>None</td>\n",
       "      <td>None</td>\n",
       "      <td>LINESTRING (-123.87199 49.14501, -123.87853 49...</td>\n",
       "    </tr>\n",
       "    <tr>\n",
       "      <th>1</th>\n",
       "      <td>316001068.0</td>\n",
       "      <td>30</td>\n",
       "      <td>None</td>\n",
       "      <td>None</td>\n",
       "      <td>LINESTRING (-123.87853 49.16582, -123.88185 49...</td>\n",
       "    </tr>\n",
       "  </tbody>\n",
       "</table>\n",
       "</div>"
      ],
      "text/plain": [
       "      MMSI_NUM  LENGTH    TO FROM_  \\\n",
       "0  316001068.0      30  None  None   \n",
       "1  316001068.0      30  None  None   \n",
       "\n",
       "                                            geometry  \n",
       "0  LINESTRING (-123.87199 49.14501, -123.87853 49...  \n",
       "1  LINESTRING (-123.87853 49.16582, -123.88185 49...  "
      ]
     },
     "execution_count": 9,
     "metadata": {},
     "output_type": "execute_result"
    }
   ],
   "source": [
    "barge_tracks = geopandas.read_file(input_dir/'barge_2018_01.shp')\n",
    "barge_tracks.head(2)"
   ]
  },
  {
   "cell_type": "code",
   "execution_count": 14,
   "id": "expensive-graduate",
   "metadata": {},
   "outputs": [
    {
     "data": {
      "text/html": [
       "<div>\n",
       "<style scoped>\n",
       "    .dataframe tbody tr th:only-of-type {\n",
       "        vertical-align: middle;\n",
       "    }\n",
       "\n",
       "    .dataframe tbody tr th {\n",
       "        vertical-align: top;\n",
       "    }\n",
       "\n",
       "    .dataframe thead th {\n",
       "        text-align: right;\n",
       "    }\n",
       "</style>\n",
       "<table border=\"1\" class=\"dataframe\">\n",
       "  <thead>\n",
       "    <tr style=\"text-align: right;\">\n",
       "      <th></th>\n",
       "      <th>MMSI</th>\n",
       "      <th>ST_DATE</th>\n",
       "      <th>EN_DATE</th>\n",
       "      <th>LENGTH</th>\n",
       "      <th>TO</th>\n",
       "      <th>FROM_</th>\n",
       "      <th>geometry</th>\n",
       "    </tr>\n",
       "  </thead>\n",
       "  <tbody>\n",
       "    <tr>\n",
       "      <th>0</th>\n",
       "      <td>209034000</td>\n",
       "      <td>2018-01-01 05:29:11</td>\n",
       "      <td>2018-01-01 05:29:33</td>\n",
       "      <td>229</td>\n",
       "      <td>None</td>\n",
       "      <td>None</td>\n",
       "      <td>LINESTRING (-125.91134 48.00090, -125.90970 48...</td>\n",
       "    </tr>\n",
       "    <tr>\n",
       "      <th>1</th>\n",
       "      <td>209034000</td>\n",
       "      <td>2018-01-01 05:29:33</td>\n",
       "      <td>2018-01-01 05:29:42</td>\n",
       "      <td>229</td>\n",
       "      <td>None</td>\n",
       "      <td>None</td>\n",
       "      <td>LINESTRING (-125.90970 48.00167, -125.90898 48...</td>\n",
       "    </tr>\n",
       "  </tbody>\n",
       "</table>\n",
       "</div>"
      ],
      "text/plain": [
       "        MMSI              ST_DATE              EN_DATE  LENGTH    TO FROM_  \\\n",
       "0  209034000  2018-01-01 05:29:11  2018-01-01 05:29:33     229  None  None   \n",
       "1  209034000  2018-01-01 05:29:33  2018-01-01 05:29:42     229  None  None   \n",
       "\n",
       "                                            geometry  \n",
       "0  LINESTRING (-125.91134 48.00090, -125.90970 48...  \n",
       "1  LINESTRING (-125.90970 48.00167, -125.90898 48...  "
      ]
     },
     "execution_count": 14,
     "metadata": {},
     "output_type": "execute_result"
    }
   ],
   "source": [
    "test = geopandas.read_file('/Users/rmueller/Data/MIDOSS/cargo_2018_01/cargo_2018_01.shp')\n",
    "test.head(2)"
   ]
  },
  {
   "cell_type": "code",
   "execution_count": null,
   "id": "civic-reynolds",
   "metadata": {},
   "outputs": [],
   "source": []
  }
 ],
 "metadata": {
  "kernelspec": {
   "display_name": "Python 3",
   "language": "python",
   "name": "python3"
  },
  "language_info": {
   "codemirror_mode": {
    "name": "ipython",
    "version": 3
   },
   "file_extension": ".py",
   "mimetype": "text/x-python",
   "name": "python",
   "nbconvert_exporter": "python",
   "pygments_lexer": "ipython3",
   "version": "3.9.2"
  }
 },
 "nbformat": 4,
 "nbformat_minor": 5
}
