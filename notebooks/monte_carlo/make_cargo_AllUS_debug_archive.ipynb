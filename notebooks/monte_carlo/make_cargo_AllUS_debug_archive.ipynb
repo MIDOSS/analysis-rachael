{
 "cells": [
  {
   "cell_type": "markdown",
   "id": "personal-financing",
   "metadata": {},
   "source": [
    "---\n",
    "# US Generic file\n",
    "---\n",
    "Determine oil type weighting for tank traffic in MIDOSS monte-carlo by cataloguing information in Department of Ecology's recorded marine terminal transfers for 2018.  Only transfers greater than 1000 L are required to be documented. All imports and exports are catalogued by vessel and oil types used in this study, across all the marine terminals used in this category. \n",
    "\n",
    "Use `analysis-rachael/env/monte_carlo.yaml` to create an environment for this notebook:\n",
    "```\n",
    " conda env create -f [analysis-rachael/env/monte_carlo.yaml]\n",
    "```\n",
    "or, to activate this environment, use\n",
    "```\n",
    " conda activate monte_carlo\n",
    "```\n",
    "To deactivate an active environment, use\n",
    "```\n",
    " conda deactivate\n",
    "```"
   ]
  },
  {
   "cell_type": "code",
   "execution_count": 1,
   "id": "coastal-breach",
   "metadata": {},
   "outputs": [],
   "source": [
    "import pandas as pd\n",
    "import numpy as np\n",
    "import matplotlib.pyplot as plt\n",
    "import yaml"
   ]
  },
  {
   "cell_type": "code",
   "execution_count": 2,
   "id": "appreciated-norman",
   "metadata": {},
   "outputs": [],
   "source": [
    "# User inputs\n",
    "file_dir  = '/Users/rmueller/Data/MIDOSS/DeptOfEcology/'\n",
    "file_name = 'MuellerTrans4-30-20.xlsx'\n",
    "\n",
    "# This is the precision used to calculate oil type weights \n",
    "# Trial and error showed that a precision of 2 is neccessary for weights\n",
    "# to sum to 1.0\n",
    "precision = 2\n",
    "\n",
    "# The following list includes facilities used in Casey's origin/destination analysis \n",
    "# with names matching the Dept. of Ecology (DOE) database.  \n",
    "# For example, the shapefile \"Maxum Petroleum - Harbor Island Terminal\" is labeled as 'Maxum (Rainer Petroleum)'\n",
    "# in the DOE database.  I use the Ecology language here and will need to translate to Shapefile speak \n",
    "facility_names = [ 'BP Cherry Point Refinery', 'Shell Puget Sound Refinery', 'Shell Oil LP Seattle Distribution Terminal',\n",
    "                   'Maxum (Rainer Petroleum)', 'Tidewater Snake River Terminal','Nustar Energy Tacoma', \n",
    "                   'SeaPort Sound Terminal', 'Tesoro Vancouver Terminal','Phillips 66 Ferndale Refinery', \n",
    "                   'Phillips 66 Tacoma Terminal', 'Andeavor Anacortes Refinery (formerly Tesoro)',\n",
    "                   'Tesoro Port Angeles Terminal','U.S. Oil & Refining','Naval Air Station Whidbey Island (NASWI)',\n",
    "                   'NAVSUP Manchester', 'Alon Asphalt Company (Paramount Petroleum)', 'Kinder Morgan Liquids Terminal - Harbor Island',\n",
    "                   'Nustar Energy Tacoma', 'Tesoro Pasco Terminal', 'REG Grays Harbor, LLC', 'Tidewater Vancouver Terminal',\n",
    "                   'TLP Management Services LLC (TMS)']\n",
    "\n",
    "# define vessel and oil types to include in .yaml file\n",
    "vessel_types = ['atb', 'barge', 'tanker']\n",
    "oil_types    = ['akns', 'bunker', 'dilbit', 'jet', 'diesel', 'gas', 'other']\n",
    "data_types    = ['total_gallons', 'fraction_of_total', 'number_of_transfers']"
   ]
  },
  {
   "cell_type": "code",
   "execution_count": 3,
   "id": "excited-shape",
   "metadata": {},
   "outputs": [],
   "source": [
    "# Import columns are: (G) Deliverer, (H) Receiver, (O) Region, (P) Product, \n",
    "#                     (Q) Quantity in Gallons, (R) Transfer Type (oiling, Cargo, or Other)', \n",
    "#                     (w) DelivererTypeDescription, (x) ReceiverTypeDescription \n",
    "df = pd.read_excel(f'{file_dir}{file_name}',sheet_name='Vessel Oil Transfer', \n",
    "                   usecols=\"G,H,P,Q,R,W,X\")\n",
    "\n",
    "df.TransferQtyInGallon = df.TransferQtyInGallon.astype(float).round(precision)\n",
    "\n",
    "# housekeeping\n",
    "df['Receiver'] = df['Receiver'].str.replace('US Oil Tacoma ', 'U.S. Oil & Refining')\n",
    "df['Receiver'] = df['Receiver'].str.replace('TLP', 'TLP Management Services LLC (TMS)')\n",
    "df['Deliverer'] = df['Deliverer'].str.replace('US Oil Tacoma ', 'U.S. Oil & Refining')\n",
    "df['Deliverer'] = df['Deliverer'].str.replace('TLP', 'TLP Management Services LLC (TMS)')"
   ]
  },
  {
   "cell_type": "markdown",
   "id": "copyrighted-medication",
   "metadata": {},
   "source": [
    "## Create name lists for the DOE oil types used in our monte-carlo oil categories"
   ]
  },
  {
   "cell_type": "code",
   "execution_count": 4,
   "id": "romantic-meditation",
   "metadata": {},
   "outputs": [
    {
     "data": {
      "text/plain": [
       "{'akns': ['CRUDE OIL', 'BAKKEN'],\n",
       " 'bunker': ['BUNKER OIL/HFO'],\n",
       " 'dilbit': ['BITUMEN OIL (DIL OR SYN)'],\n",
       " 'jet': ['JET FUEL/KEROSENE'],\n",
       " 'diesel': ['DIESEL/MARINE GAS OIL', 'BIODIESEL', 'DIESEL LOW SULPHUR (ULSD)'],\n",
       " 'gas': ['GASOLINE'],\n",
       " 'other': ['ETHANOL',\n",
       "  'LUBE OIL/MOTOR OIL',\n",
       "  'Cat Feed/VGO',\n",
       "  'CUTTER STOCK',\n",
       "  'OILY WATER MIXTURE',\n",
       "  'WASTE OIL',\n",
       "  'Z-OTHER',\n",
       "  'HYDRAULIC OIL',\n",
       "  'OILY WASTE',\n",
       "  'USED OIL',\n",
       "  'NAPTHA',\n",
       "  'EDIBLE/VEGETABLE OIL',\n",
       "  'DECANT OIL',\n",
       "  'NONENE',\n",
       "  'ASPHALT/CREOSEOTE']}"
      ]
     },
     "execution_count": 4,
     "metadata": {},
     "output_type": "execute_result"
    }
   ],
   "source": [
    "# identify all names of oils in DOE database that are attributed to our oil types\n",
    "oil_classification = {}\n",
    "for oil in oil_types:\n",
    "    oil_classification[oil] = []\n",
    "\n",
    "[nrows,ncols] = df.shape\n",
    "for row in range(nrows):\n",
    "    if 'CRUDE' in df.Product[row] and df.Product[row] not in oil_classification['akns']:\n",
    "        oil_classification['akns'].append(df.Product[row])\n",
    "    elif 'BAKKEN' in df.Product[row] and df.Product[row] not in oil_classification['akns']:\n",
    "        oil_classification['akns'].append(df.Product[row])\n",
    "    elif 'BUNKER' in df.Product[row] and df.Product[row] not in oil_classification['bunker']:\n",
    "        oil_classification['bunker'].append(df.Product[row])\n",
    "    elif 'BITUMEN' in df.Product[row] and df.Product[row] not in oil_classification['dilbit']:\n",
    "        oil_classification['dilbit'].append(df.Product[row])\n",
    "    elif 'DIESEL' in df.Product[row] and df.Product[row] not in oil_classification['diesel']:\n",
    "        oil_classification['diesel'].append(df.Product[row])\n",
    "    elif 'GASOLINE' in df.Product[row] and df.Product[row] not in oil_classification['gas']:\n",
    "        oil_classification['gas'].append(df.Product[row])\n",
    "    elif 'JET' in df.Product[row] and df.Product[row] not in oil_classification['jet']:\n",
    "        oil_classification['jet'].append(df.Product[row])\n",
    "    elif ('CRUDE' not in df.Product[row] and\n",
    "          'BAKKEN' not in df.Product[row] and\n",
    "          'BUNKER' not in df.Product[row] and\n",
    "          'BITUMEN' not in df.Product[row] and\n",
    "          'DIESEL' not in df.Product[row] and\n",
    "          'GASOLINE' not in df.Product[row] and\n",
    "          'JET' not in df.Product[row] and\n",
    "          df.Product[row] not in oil_classification['other']):\n",
    "        oil_classification['other'].append(df.Product[row])\n",
    "\n",
    "oil_classification"
   ]
  },
  {
   "cell_type": "markdown",
   "id": "sound-representative",
   "metadata": {},
   "source": [
    "### Create a dataframe that combines imports and exports from our selected marine terminals so that we can query based on ship-type and yield the combined sum of imports and exports"
   ]
  },
  {
   "cell_type": "code",
   "execution_count": 5,
   "id": "incorporated-display",
   "metadata": {},
   "outputs": [
    {
     "name": "stdout",
     "output_type": "stream",
     "text": [
      "Combined df shape: (4391, 7)\n"
     ]
    }
   ],
   "source": [
    "import_export_df = df.loc[        \n",
    "        (df.Receiver.isin(facility_names)) |\n",
    "        (df.Deliverer.isin(facility_names)) &\n",
    "        (df.TransferType == 'Cargo'),\n",
    "    ]\n",
    "print(f'Combined df shape: {import_export_df.shape}')"
   ]
  },
  {
   "cell_type": "markdown",
   "id": "saving-standard",
   "metadata": {},
   "source": [
    "### Tally up total volume transferred by ship type"
   ]
  },
  {
   "cell_type": "code",
   "execution_count": 6,
   "id": "published-amplifier",
   "metadata": {},
   "outputs": [],
   "source": [
    "# This is the total gallons transferred by ship type and summed over all oil types\n",
    "total = {}\n",
    "## Tally up exports by ship type\n",
    "for vessel in vessel_types:\n",
    "    if vessel =='tanker':\n",
    "        tanker_import_total = df.loc[\n",
    "            (df.TransferType == 'Cargo') &\n",
    "            (df.DelivererTypeDescription.isin(['TANK SHIP'])) &\n",
    "            (df.Receiver.isin(facility_names)), \n",
    "        ]\n",
    "        tanker_export_total = df.loc[\n",
    "            (df.TransferType == 'Cargo') &\n",
    "            (df.ReceiverTypeDescription.isin(['TANK SHIP'])) &\n",
    "            (df.Deliverer.isin(facility_names)), \n",
    "        ]\n",
    "        total['tanker'] = (tanker_import_total.TransferQtyInGallon.sum(axis=0).item() + \n",
    "                           tanker_export_total.TransferQtyInGallon.sum(axis=0).item()\n",
    "                          )\n",
    "        \n",
    "    elif vessel == 'atb':\n",
    "        type_description = ['TANK BARGE','TUGBOAT']\n",
    "        atb_import_total = df.loc[\n",
    "            (df.TransferType == 'Cargo') &\n",
    "            (df.DelivererTypeDescription.isin(type_description)) &\n",
    "            (df.Deliverer.str.contains('ITB') | df.Deliverer.str.contains('ATB')) &\n",
    "            (df.Receiver.isin(facility_names)),\n",
    "        ]\n",
    "        \n",
    "#         atb_import_total = df.loc[\n",
    "#             (df.TransferType == 'Cargo') &\n",
    "#             (df.DelivererTypeDescription.isin(type_description)) & \n",
    "#             (df.Deliverer.str.contains('ITB')) | \n",
    "#             (df.Deliverer.str.contains('ATB')) & \n",
    "#             (df.Receiver.isin(facility_names)),\n",
    "#         ]\n",
    "# copied export_US from below, removing last two lines\n",
    "        atb_export_total = df.loc[\n",
    "            (df.TransferType == 'Cargo') &\n",
    "            (df.ReceiverTypeDescription.isin(type_description)) &\n",
    "            (df.Receiver.str.contains('ITB') | df.Receiver.str.contains('ATB')) & \n",
    "            (df.Deliverer.isin(facility_names)),\n",
    "        ]\n",
    "#         atb_export_total = df.loc[\n",
    "#             (df.TransferType == 'Cargo') &\n",
    "#             (df.ReceiverTypeDescription.isin(type_description)) & \n",
    "#             (df.Receiver.str.contains('ITB')) | (df.Receiver.str.contains('ATB')) & \n",
    "#             (df.Deliverer.isin(facility_names)),\n",
    "#         ]       \n",
    "        total['atb'] = (atb_import_total.TransferQtyInGallon.sum(axis=0).item() + \n",
    "                        atb_export_total.TransferQtyInGallon.sum(axis=0).item()\n",
    "                       )\n",
    "        \n",
    "    elif vessel == 'barge':\n",
    "        barge_import_total = df.loc[\n",
    "            (df.TransferType == 'Cargo') &\n",
    "            (df.DelivererTypeDescription.isin(['TANK BARGE','TUGBOAT'])) & \n",
    "            (~df.Deliverer.str.contains('ITB')) & (~df.Deliverer.str.contains('ATB')) &\n",
    "            (df.Receiver.isin(facility_names)), \n",
    "            'TransferQtyInGallon'\n",
    "        ].sum(axis=0).item()\n",
    "        barge_export_total = df.loc[\n",
    "            (df.TransferType == 'Cargo') &\n",
    "            (df.ReceiverTypeDescription.isin(['TANK BARGE','TUGBOAT'])) & \n",
    "            (~df.Receiver.str.contains('ITB')) & (~df.Receiver.str.contains('ATB')) &\n",
    "            (df.Deliverer.isin(facility_names)), \n",
    "            'TransferQtyInGallon'\n",
    "        ].sum(axis=0).item()\n",
    "        total['barge'] = barge_import_total + barge_export_total"
   ]
  },
  {
   "cell_type": "markdown",
   "id": "experienced-canadian",
   "metadata": {},
   "source": [
    "## Sort cargo transfers by ship types.  We have three categories: tanker, atb, barge.\n",
    "1. `tanker`: Listed in DOE dataset as `TANK SHIP` TypeDescription \n",
    "2. `atb`: Listed in DOE dataset as `TANK BARGE` or `TUGBOAT` TypeDescription and `ATB` or `ITB` as Deliverer/Receiver\n",
    "3. `barge`: Listed in DOE dataset as `TANK BARGE` or `TUGBOAT` TypeDescription (no `ATB` or `ITB` in Deliverer/Receiver)"
   ]
  },
  {
   "cell_type": "markdown",
   "id": "patent-muslim",
   "metadata": {},
   "source": [
    "## Tally up `total_gallons`, `number_of_transfers`, `fraction_of_total`, where:\n",
    "- `total_gallons`: Total gallons transfered for the particular oil type\n",
    "- `fraction_of_total`: (`total_gallons` by oil type) / (total gallons across oil types)\n",
    "- `number_of_transfers`: Total transfers for the particular oil type\n",
    "\n",
    "I use `import_export_df` to pre-select cargo transfers to/from our selected marine terminals.  I tried many things here to try to force creation of fractions that sum to 1.0, including:\n",
    "1. multipling by 100*int(numerator), integer divide (//) int(denominator), then divide ratio by 100 to convert back to float, e.g.:\n",
    "```\n",
    "test = (100 * int(2))//int(3)\n",
    "test/100\n",
    "```\n",
    "2. Using decimal_divide and setting precision (which only appears to do anything for precision <= 2), e.g.:\n",
    "```\n",
    "destination[facility][vessel][oil]['fraction_of_total'] = decimal_divide(\n",
    "     int(destination[facility][vessel][oil]['total_gallons']), \n",
    "     int(tanker_import_total[facility]),\n",
    "     precision\n",
    " ).round(precision)\n",
    "```\n",
    "3. Dividing two integers (the method I am sticking with as it's cleaner than (1) and just as effetive)"
   ]
  },
  {
   "cell_type": "code",
   "execution_count": 7,
   "id": "green-morrison",
   "metadata": {},
   "outputs": [],
   "source": [
    "all_US = {} # this is the output dictionary\n",
    "import_US = {}\n",
    "export_US = {}\n",
    "for vessel in vessel_types:\n",
    "    all_US[vessel] = {}\n",
    "    import_US[vessel] = {}\n",
    "    export_US[vessel] = {}\n",
    "    for oil in oil_types:\n",
    "        all_US[vessel][oil] = {}\n",
    "        import_US[vessel][oil] = {}\n",
    "        export_US[vessel][oil] = {}\n",
    "        for data in data_types:\n",
    "            all_US[vessel][oil][data] = 0\n",
    "            import_US[vessel][oil][data] = 0\n",
    "            export_US[vessel][oil][data] = 0"
   ]
  },
  {
   "cell_type": "markdown",
   "id": "compatible-motorcycle",
   "metadata": {},
   "source": [
    "### Combined tanker imports and exports"
   ]
  },
  {
   "cell_type": "code",
   "execution_count": 8,
   "id": "pending-perry",
   "metadata": {},
   "outputs": [],
   "source": [
    "vessel = 'tanker'\n",
    "type_description = ['TANK SHIP']"
   ]
  },
  {
   "cell_type": "code",
   "execution_count": 9,
   "id": "global-victoria",
   "metadata": {},
   "outputs": [
    {
     "name": "stdout",
     "output_type": "stream",
     "text": [
      "number of transfers in numerator for akns: 286\n",
      "number of transfers in denominator for akns: 286\n",
      "number of transfers in numerator for bunker: 26\n",
      "number of transfers in denominator for bunker: 26\n",
      "number of transfers in numerator for dilbit: 0\n",
      "number of transfers in denominator for dilbit: 0\n",
      "number of transfers in numerator for jet: 95\n",
      "number of transfers in denominator for jet: 95\n",
      "number of transfers in numerator for diesel: 174\n",
      "number of transfers in denominator for diesel: 174\n",
      "number of transfers in numerator for gas: 181\n",
      "number of transfers in denominator for gas: 181\n",
      "number of transfers in numerator for other: 143\n",
      "number of transfers in denominator for other: 143\n"
     ]
    }
   ],
   "source": [
    "# Now estimat fractions of total by oil types\n",
    "for oil in oil_types:\n",
    "    import_US[vessel][oil]['total_gallons'] = df.loc[\n",
    "            (df.TransferType == 'Cargo') &\n",
    "            (df.DelivererTypeDescription.isin(['TANK SHIP'])) &\n",
    "            (df.Receiver.isin(facility_names)) &\n",
    "            (df.Product.isin(oil_classification[oil])),\n",
    "            'TransferQtyInGallon'\n",
    "        ]\n",
    "    \n",
    "    export_US[vessel][oil]['total_gallons'] = df.loc[\n",
    "            (df.TransferType == 'Cargo') &\n",
    "            (df.ReceiverTypeDescription.isin(['TANK SHIP'])) &\n",
    "            (df.Deliverer.isin(facility_names)) &\n",
    "            (df.Product.isin(oil_classification[oil])),\n",
    "            'TransferQtyInGallon'\n",
    "        ]\n",
    "    \n",
    "    # Add up net oil quantity transferred by oil_types\n",
    "    all_US[vessel][oil]['total_gallons'] = (\n",
    "        import_US[vessel][oil]['total_gallons'].sum(axis=0).item() + \n",
    "        export_US[vessel][oil]['total_gallons'].sum(axis=0).item()\n",
    "    )\n",
    "\n",
    "    # Calculate the fraction of total oil transfer represented \n",
    "    # by this oil type\n",
    "    if total[vessel] != 0:\n",
    "        all_US[vessel][oil]['fraction_of_total'] = (\n",
    "            int(all_US[vessel][oil]['total_gallons'])/\n",
    "            int(total[vessel])\n",
    "        )\n",
    "    \n",
    "    # Catalogue the number of transfers \n",
    "    all_US[vessel][oil]['number_of_transfers'] = (\n",
    "        import_US[vessel][oil]['total_gallons'].shape[0] + \n",
    "        export_US[vessel][oil]['total_gallons'].shape[0]\n",
    "    )     \n",
    "    \n",
    "    # DEBUG: Check that the total number of records for \n",
    "    #  different oil types are the same in the two dictionaries \n",
    "    # used in the fraction calculation \n",
    "    numerator_total = (import_US[vessel][oil]['total_gallons'].shape[0] +\n",
    "                       export_US[vessel][oil]['total_gallons'].shape[0])\n",
    "    denominator_total = (tanker_import_total.loc[tanker_import_total.Product.isin(oil_classification[oil])].shape[0] +\n",
    "                        tanker_export_total.loc[tanker_export_total.Product.isin(oil_classification[oil])].shape[0]\n",
    "                        )\n",
    "\n",
    "    print(f'number of transfers in numerator for {oil}: {numerator_total}')\n",
    "    print(f'number of transfers in denominator for {oil}: {denominator_total}')\n",
    "  "
   ]
  },
  {
   "cell_type": "markdown",
   "id": "religious-airline",
   "metadata": {},
   "source": [
    "### ATB imports and exports"
   ]
  },
  {
   "cell_type": "code",
   "execution_count": 10,
   "id": "helpful-label",
   "metadata": {},
   "outputs": [
    {
     "name": "stdout",
     "output_type": "stream",
     "text": [
      "number of transfers in numerator for akns: 6\n",
      "number of transfers in denominator for akns: 6\n",
      "number of transfers in numerator for bunker: 91\n",
      "number of transfers in denominator for bunker: 91\n",
      "number of transfers in numerator for dilbit: 0\n",
      "number of transfers in denominator for dilbit: 0\n",
      "number of transfers in numerator for jet: 72\n",
      "number of transfers in denominator for jet: 72\n",
      "number of transfers in numerator for diesel: 174\n",
      "number of transfers in denominator for diesel: 174\n",
      "number of transfers in numerator for gas: 236\n",
      "number of transfers in denominator for gas: 236\n",
      "number of transfers in numerator for other: 83\n",
      "number of transfers in denominator for other: 83\n"
     ]
    }
   ],
   "source": [
    "vessel = 'atb'\n",
    "type_description = ['TANK BARGE','TUGBOAT']\n",
    "\n",
    "# Now estimat fractions of total by oil types\n",
    "for oil in oil_types:\n",
    "\n",
    "    import_US[vessel][oil]['total_gallons'] = df.loc[\n",
    "            (df.TransferType == 'Cargo') &\n",
    "            (df.DelivererTypeDescription.isin(type_description)) &\n",
    "            (df.Deliverer.str.contains('ITB') | df.Deliverer.str.contains('ATB')) &\n",
    "            (df.Receiver.isin(facility_names)) &\n",
    "            (df.Product.isin(oil_classification[oil])),\n",
    "            'TransferQtyInGallon'\n",
    "        ]\n",
    "            \n",
    "    export_US[vessel][oil]['total_gallons'] = df.loc[\n",
    "            (df.TransferType == 'Cargo') &\n",
    "            (df.ReceiverTypeDescription.isin(type_description)) &\n",
    "            (df.Receiver.str.contains('ITB') | df.Receiver.str.contains('ATB')) & \n",
    "            (df.Deliverer.isin(facility_names)) &\n",
    "            (df.Product.isin(oil_classification[oil])),\n",
    "            'TransferQtyInGallon'\n",
    "        ]\n",
    "#     atb_export_total = df.loc[\n",
    "#             (df.TransferType == 'Cargo') &\n",
    "#             (df.ReceiverTypeDescription.isin(['TANK BARGE','TUGBOAT'])) & \n",
    "#             (df.Receiver.str.contains('ITB')) | \n",
    "#             (df.Receiver.str.contains('ATB')) & \n",
    "#             (df.Deliverer.isin(facility_names)),\n",
    "#         ]  \n",
    "    \n",
    "    # DEBUG: Check that the total number of records for \n",
    "    #  different oil types are the same in the two dictionaries \n",
    "    # used in the fraction calculation \n",
    "    numerator_total = (import_US[vessel][oil]['total_gallons'].shape[0] +\n",
    "                       export_US[vessel][oil]['total_gallons'].shape[0])\n",
    "    denominator_total = (atb_import_total.loc[atb_import_total.Product.isin(oil_classification[oil])].shape[0] +\n",
    "                        atb_export_total.loc[atb_export_total.Product.isin(oil_classification[oil])].shape[0]\n",
    "                        )\n",
    "\n",
    "    print(f'number of transfers in numerator for {oil}: {numerator_total}')\n",
    "    print(f'number of transfers in denominator for {oil}: {denominator_total}')\n",
    "    # Add up net oil quantity transferred by oil_types\n",
    "    all_US[vessel][oil]['total_gallons'] = (\n",
    "        import_US[vessel][oil]['total_gallons'].sum(axis=0).item() + \n",
    "        export_US[vessel][oil]['total_gallons'].sum(axis=0).item()\n",
    "    )\n",
    "\n",
    "    # Calculate the fraction of total oil transfer represented \n",
    "    # by this oil type    \n",
    "    if total[vessel] != 0:\n",
    "        all_US[vessel][oil]['fraction_of_total'] = (\n",
    "            int(all_US[vessel][oil]['total_gallons'])/\n",
    "            int(total[vessel])\n",
    "        )       \n",
    "\n",
    "    # Catalogue the number of transfers \n",
    "    all_US[vessel][oil]['number_of_transfers'] = (\n",
    "        import_US[vessel][oil]['total_gallons'].shape[0] + \n",
    "        export_US[vessel][oil]['total_gallons'].shape[0]\n",
    "    ) "
   ]
  },
  {
   "cell_type": "markdown",
   "id": "therapeutic-content",
   "metadata": {},
   "source": [
    "---\n",
    "\n",
    "BEGIN TESTING: What is the calculation if I remove ITB and ATB query entirely?"
   ]
  },
  {
   "cell_type": "code",
   "execution_count": 11,
   "id": "pharmaceutical-search",
   "metadata": {},
   "outputs": [
    {
     "name": "stdout",
     "output_type": "stream",
     "text": [
      "number of transfers in numerator for akns: 23\n",
      "number of transfers in denominator for akns: 6\n",
      "number of transfers in numerator for bunker: 1235\n",
      "number of transfers in denominator for bunker: 91\n",
      "number of transfers in numerator for dilbit: 6\n",
      "number of transfers in denominator for dilbit: 0\n",
      "number of transfers in numerator for jet: 255\n",
      "number of transfers in denominator for jet: 72\n",
      "number of transfers in numerator for diesel: 920\n",
      "number of transfers in denominator for diesel: 174\n",
      "number of transfers in numerator for gas: 606\n",
      "number of transfers in denominator for gas: 236\n",
      "number of transfers in numerator for other: 313\n",
      "number of transfers in denominator for other: 83\n"
     ]
    }
   ],
   "source": [
    "# Now estimat fractions of total by oil types\n",
    "for oil in oil_types:\n",
    "\n",
    "    import_US[vessel][oil]['total_gallons'] = df.loc[\n",
    "            (df.TransferType == 'Cargo') &\n",
    "            (df.DelivererTypeDescription.isin(type_description)) &\n",
    "            (df.Receiver.isin(facility_names)) &\n",
    "            (df.Product.isin(oil_classification[oil])),\n",
    "            'TransferQtyInGallon'\n",
    "        ]\n",
    "            \n",
    "    export_US[vessel][oil]['total_gallons'] = df.loc[\n",
    "            (df.TransferType == 'Cargo') &\n",
    "            (df.ReceiverTypeDescription.isin(type_description)) &\n",
    "            (df.Deliverer.isin(facility_names)) &\n",
    "            (df.Product.isin(oil_classification[oil])),\n",
    "            'TransferQtyInGallon'\n",
    "        ] \n",
    "    \n",
    "    # DEBUG: Check that the total number of records for \n",
    "    #  different oil types are the same in the two dictionaries \n",
    "    # used in the fraction calculation \n",
    "    numerator_total = (import_US[vessel][oil]['total_gallons'].shape[0] +\n",
    "                       export_US[vessel][oil]['total_gallons'].shape[0])\n",
    "    denominator_total = (atb_import_total.loc[atb_import_total.Product.isin(oil_classification[oil])].shape[0] +\n",
    "                        atb_export_total.loc[atb_export_total.Product.isin(oil_classification[oil])].shape[0]\n",
    "                        )\n",
    "\n",
    "    print(f'number of transfers in numerator for {oil}: {numerator_total}')\n",
    "    print(f'number of transfers in denominator for {oil}: {denominator_total}')\n",
    "    # Add up net oil quantity transferred by oil_types\n",
    "    all_US[vessel][oil]['total_gallons'] = (\n",
    "        import_US[vessel][oil]['total_gallons'].sum(axis=0).item() + \n",
    "        export_US[vessel][oil]['total_gallons'].sum(axis=0).item()\n",
    "    )\n",
    "\n",
    "    # Calculate the fraction of total oil transfer represented \n",
    "    # by this oil type    \n",
    "    if total[vessel] != 0:\n",
    "        all_US[vessel][oil]['fraction_of_total'] = (\n",
    "            int(all_US[vessel][oil]['total_gallons'])/\n",
    "            int(total[vessel])\n",
    "        )       \n",
    "\n",
    "    # Catalogue the number of transfers \n",
    "    all_US[vessel][oil]['number_of_transfers'] = (\n",
    "        import_US[vessel][oil]['total_gallons'].shape[0] + \n",
    "        export_US[vessel][oil]['total_gallons'].shape[0]\n",
    "    ) "
   ]
  },
  {
   "cell_type": "markdown",
   "id": "decent-large",
   "metadata": {},
   "source": [
    "This is the case of all barges in numerator vs. ATBs in denominator, and it makes sense that the numberator has consistently higher values than the denominator "
   ]
  },
  {
   "cell_type": "markdown",
   "id": "statistical-louis",
   "metadata": {},
   "source": [
    "---\n",
    "\n",
    "Now compare with incorrect grouping of | statement.\n",
    "\n",
    "---"
   ]
  },
  {
   "cell_type": "code",
   "execution_count": 12,
   "id": "athletic-tournament",
   "metadata": {},
   "outputs": [
    {
     "name": "stdout",
     "output_type": "stream",
     "text": [
      "number of transfers in numerator for akns: 30\n",
      "number of transfers in denominator for akns: 6\n",
      "number of transfers in numerator for bunker: 67\n",
      "number of transfers in denominator for bunker: 91\n",
      "number of transfers in numerator for dilbit: 27\n",
      "number of transfers in denominator for dilbit: 0\n",
      "number of transfers in numerator for jet: 29\n",
      "number of transfers in denominator for jet: 72\n",
      "number of transfers in numerator for diesel: 56\n",
      "number of transfers in denominator for diesel: 174\n",
      "number of transfers in numerator for gas: 71\n",
      "number of transfers in denominator for gas: 236\n",
      "number of transfers in numerator for other: 86\n",
      "number of transfers in denominator for other: 83\n"
     ]
    }
   ],
   "source": [
    "# Now estimate fractions of total by oil types\n",
    "for oil in oil_types:\n",
    "\n",
    "    import_US[vessel][oil]['total_gallons'] = df.loc[\n",
    "            (df.TransferType == 'Cargo') &\n",
    "            (df.DelivererTypeDescription.isin(type_description)) &\n",
    "            (df.Deliverer.str.contains('ITB')) | (df.Deliverer.str.contains('ATB')) &\n",
    "            (df.Receiver.isin(facility_names)) &\n",
    "            (df.Product.isin(oil_classification[oil])),\n",
    "            'TransferQtyInGallon'\n",
    "        ]\n",
    "            \n",
    "    export_US[vessel][oil]['total_gallons'] = df.loc[\n",
    "            (df.TransferType == 'Cargo') &\n",
    "            (df.ReceiverTypeDescription.isin(type_description)) &\n",
    "            (df.Deliverer.str.contains('ITB')) | (df.Deliverer.str.contains('ATB')) &\n",
    "            (df.Deliverer.isin(facility_names)) &\n",
    "            (df.Product.isin(oil_classification[oil])),\n",
    "            'TransferQtyInGallon'\n",
    "        ] \n",
    "    \n",
    "    # DEBUG: Check that the total number of records for \n",
    "    #  different oil types are the same in the two dictionaries \n",
    "    # used in the fraction calculation \n",
    "    numerator_total = (import_US[vessel][oil]['total_gallons'].shape[0] +\n",
    "                       export_US[vessel][oil]['total_gallons'].shape[0])\n",
    "    denominator_total = (atb_import_total.loc[atb_import_total.Product.isin(oil_classification[oil])].shape[0] +\n",
    "                        atb_export_total.loc[atb_export_total.Product.isin(oil_classification[oil])].shape[0]\n",
    "                        )\n",
    "\n",
    "    print(f'number of transfers in numerator for {oil}: {numerator_total}')\n",
    "    print(f'number of transfers in denominator for {oil}: {denominator_total}')\n",
    "    # Add up net oil quantity transferred by oil_types\n",
    "    all_US[vessel][oil]['total_gallons'] = (\n",
    "        import_US[vessel][oil]['total_gallons'].sum(axis=0).item() + \n",
    "        export_US[vessel][oil]['total_gallons'].sum(axis=0).item()\n",
    "    )\n",
    "\n",
    "    # Calculate the fraction of total oil transfer represented \n",
    "    # by this oil type    \n",
    "    if total[vessel] != 0:\n",
    "        all_US[vessel][oil]['fraction_of_total'] = (\n",
    "            int(all_US[vessel][oil]['total_gallons'])/\n",
    "            int(total[vessel])\n",
    "        )       \n",
    "\n",
    "    # Catalogue the number of transfers \n",
    "    all_US[vessel][oil]['number_of_transfers'] = (\n",
    "        import_US[vessel][oil]['total_gallons'].shape[0] + \n",
    "        export_US[vessel][oil]['total_gallons'].shape[0]\n",
    "    ) "
   ]
  },
  {
   "cell_type": "markdown",
   "id": "healthy-round",
   "metadata": {},
   "source": [
    "The results here are inconsistent.  For some oil types, the denominator is greater (i.e. more ATBs than non-ATBs); for some oil types the demonimator is less (i.e. fewer ATBs than non-ATBs).  "
   ]
  },
  {
   "cell_type": "code",
   "execution_count": 13,
   "id": "nuclear-swiss",
   "metadata": {},
   "outputs": [
    {
     "name": "stdout",
     "output_type": "stream",
     "text": [
      "number of transfers in numerator for akns: 30\n",
      "number of transfers in denominator for akns: 6\n",
      "number of transfers in numerator for bunker: 67\n",
      "number of transfers in denominator for bunker: 91\n",
      "number of transfers in numerator for dilbit: 27\n",
      "number of transfers in denominator for dilbit: 0\n",
      "number of transfers in numerator for jet: 29\n",
      "number of transfers in denominator for jet: 72\n",
      "number of transfers in numerator for diesel: 56\n",
      "number of transfers in denominator for diesel: 174\n",
      "number of transfers in numerator for gas: 71\n",
      "number of transfers in denominator for gas: 236\n",
      "number of transfers in numerator for other: 86\n",
      "number of transfers in denominator for other: 83\n"
     ]
    }
   ],
   "source": [
    "# Now estimate fractions of total by oil types\n",
    "for oil in oil_types:\n",
    "\n",
    "    import_US[vessel][oil]['total_gallons'] = df.loc[\n",
    "            ((df.TransferType == 'Cargo') &\n",
    "            (df.DelivererTypeDescription.isin(type_description)) &\n",
    "            (df.Deliverer.str.contains('ITB'))) | ((df.Deliverer.str.contains('ATB')) &\n",
    "            (df.Receiver.isin(facility_names)) &\n",
    "            (df.Product.isin(oil_classification[oil]))),\n",
    "            'TransferQtyInGallon'\n",
    "        ]\n",
    "            \n",
    "    export_US[vessel][oil]['total_gallons'] = df.loc[\n",
    "            ((df.TransferType == 'Cargo') &\n",
    "            (df.ReceiverTypeDescription.isin(type_description)) &\n",
    "            (df.Deliverer.str.contains('ITB'))) | ((df.Deliverer.str.contains('ATB')) &\n",
    "            (df.Deliverer.isin(facility_names)) &\n",
    "            (df.Product.isin(oil_classification[oil]))),\n",
    "            'TransferQtyInGallon'\n",
    "        ] \n",
    "    \n",
    "    # DEBUG: Check that the total number of records for \n",
    "    #  different oil types are the same in the two dictionaries \n",
    "    # used in the fraction calculation \n",
    "    numerator_total = (import_US[vessel][oil]['total_gallons'].shape[0] +\n",
    "                       export_US[vessel][oil]['total_gallons'].shape[0])\n",
    "    denominator_total = (atb_import_total.loc[atb_import_total.Product.isin(oil_classification[oil])].shape[0] +\n",
    "                        atb_export_total.loc[atb_export_total.Product.isin(oil_classification[oil])].shape[0]\n",
    "                        )\n",
    "\n",
    "    print(f'number of transfers in numerator for {oil}: {numerator_total}')\n",
    "    print(f'number of transfers in denominator for {oil}: {denominator_total}')\n",
    "    # Add up net oil quantity transferred by oil_types\n",
    "    all_US[vessel][oil]['total_gallons'] = (\n",
    "        import_US[vessel][oil]['total_gallons'].sum(axis=0).item() + \n",
    "        export_US[vessel][oil]['total_gallons'].sum(axis=0).item()\n",
    "    )\n",
    "\n",
    "    # Calculate the fraction of total oil transfer represented \n",
    "    # by this oil type    \n",
    "    if total[vessel] != 0:\n",
    "        all_US[vessel][oil]['fraction_of_total'] = (\n",
    "            int(all_US[vessel][oil]['total_gallons'])/\n",
    "            int(total[vessel])\n",
    "        )       \n",
    "\n",
    "    # Catalogue the number of transfers \n",
    "    all_US[vessel][oil]['number_of_transfers'] = (\n",
    "        import_US[vessel][oil]['total_gallons'].shape[0] + \n",
    "        export_US[vessel][oil]['total_gallons'].shape[0]\n",
    "    ) "
   ]
  },
  {
   "cell_type": "markdown",
   "id": "eleven-projection",
   "metadata": {},
   "source": [
    "Take away: everything before the | statement is grouped together and everything after the | statement is grouped together as (before |) OR (after |); so the lesser priority statement effectively introduces brackets for how the conditions are evaluated and how the lesser priority statement is used.  "
   ]
  },
  {
   "cell_type": "markdown",
   "id": "former-roberts",
   "metadata": {},
   "source": [
    "END TESTING\n",
    "\n",
    "---\n",
    "---"
   ]
  },
  {
   "cell_type": "code",
   "execution_count": 14,
   "id": "serious-clarity",
   "metadata": {},
   "outputs": [
    {
     "data": {
      "text/html": [
       "<div>\n",
       "<style scoped>\n",
       "    .dataframe tbody tr th:only-of-type {\n",
       "        vertical-align: middle;\n",
       "    }\n",
       "\n",
       "    .dataframe tbody tr th {\n",
       "        vertical-align: top;\n",
       "    }\n",
       "\n",
       "    .dataframe thead th {\n",
       "        text-align: right;\n",
       "    }\n",
       "</style>\n",
       "<table border=\"1\" class=\"dataframe\">\n",
       "  <thead>\n",
       "    <tr style=\"text-align: right;\">\n",
       "      <th></th>\n",
       "      <th>Deliverer</th>\n",
       "      <th>Receiver</th>\n",
       "      <th>Product</th>\n",
       "      <th>TransferQtyInGallon</th>\n",
       "      <th>TransferType</th>\n",
       "      <th>DelivererTypeDescription</th>\n",
       "      <th>ReceiverTypeDescription</th>\n",
       "    </tr>\n",
       "  </thead>\n",
       "  <tbody>\n",
       "  </tbody>\n",
       "</table>\n",
       "</div>"
      ],
      "text/plain": [
       "Empty DataFrame\n",
       "Columns: [Deliverer, Receiver, Product, TransferQtyInGallon, TransferType, DelivererTypeDescription, ReceiverTypeDescription]\n",
       "Index: []"
      ]
     },
     "execution_count": 14,
     "metadata": {},
     "output_type": "execute_result"
    }
   ],
   "source": [
    "atb_export_total[atb_export_total.Product == 'BITUMEN OIL (DIL OR SYN)']"
   ]
  },
  {
   "cell_type": "code",
   "execution_count": 15,
   "id": "defensive-determination",
   "metadata": {},
   "outputs": [
    {
     "data": {
      "text/plain": [
       "{'total_gallons': Series([], Name: TransferQtyInGallon, dtype: float64),\n",
       " 'fraction_of_total': 0,\n",
       " 'number_of_transfers': 0}"
      ]
     },
     "execution_count": 15,
     "metadata": {},
     "output_type": "execute_result"
    }
   ],
   "source": [
    "export_US['atb']['dilbit']"
   ]
  },
  {
   "cell_type": "code",
   "execution_count": 16,
   "id": "separate-franchise",
   "metadata": {},
   "outputs": [
    {
     "data": {
      "text/html": [
       "<div>\n",
       "<style scoped>\n",
       "    .dataframe tbody tr th:only-of-type {\n",
       "        vertical-align: middle;\n",
       "    }\n",
       "\n",
       "    .dataframe tbody tr th {\n",
       "        vertical-align: top;\n",
       "    }\n",
       "\n",
       "    .dataframe thead th {\n",
       "        text-align: right;\n",
       "    }\n",
       "</style>\n",
       "<table border=\"1\" class=\"dataframe\">\n",
       "  <thead>\n",
       "    <tr style=\"text-align: right;\">\n",
       "      <th></th>\n",
       "      <th>Deliverer</th>\n",
       "      <th>Receiver</th>\n",
       "      <th>Product</th>\n",
       "      <th>TransferQtyInGallon</th>\n",
       "      <th>TransferType</th>\n",
       "      <th>DelivererTypeDescription</th>\n",
       "      <th>ReceiverTypeDescription</th>\n",
       "    </tr>\n",
       "  </thead>\n",
       "  <tbody>\n",
       "    <tr>\n",
       "      <th>4026</th>\n",
       "      <td>SeaPort Sound Terminal</td>\n",
       "      <td>VIJAY SEA</td>\n",
       "      <td>BITUMEN OIL (DIL OR SYN)</td>\n",
       "      <td>885789.0</td>\n",
       "      <td>Cargo</td>\n",
       "      <td>Facility</td>\n",
       "      <td>TANK BARGE</td>\n",
       "    </tr>\n",
       "    <tr>\n",
       "      <th>4465</th>\n",
       "      <td>SeaPort Sound Terminal</td>\n",
       "      <td>VIJAY SEA</td>\n",
       "      <td>BITUMEN OIL (DIL OR SYN)</td>\n",
       "      <td>278859.0</td>\n",
       "      <td>Cargo</td>\n",
       "      <td>Facility</td>\n",
       "      <td>TANK BARGE</td>\n",
       "    </tr>\n",
       "    <tr>\n",
       "      <th>5554</th>\n",
       "      <td>SeaPort Sound Terminal</td>\n",
       "      <td>VIJAY SEA</td>\n",
       "      <td>BITUMEN OIL (DIL OR SYN)</td>\n",
       "      <td>787368.0</td>\n",
       "      <td>Cargo</td>\n",
       "      <td>Facility</td>\n",
       "      <td>TANK BARGE</td>\n",
       "    </tr>\n",
       "    <tr>\n",
       "      <th>5809</th>\n",
       "      <td>Alon Asphalt Company (Paramount Petroleum)</td>\n",
       "      <td>DUGAN PEARSALL</td>\n",
       "      <td>BITUMEN OIL (DIL OR SYN)</td>\n",
       "      <td>147000.0</td>\n",
       "      <td>Cargo</td>\n",
       "      <td>Facility</td>\n",
       "      <td>TANK BARGE</td>\n",
       "    </tr>\n",
       "    <tr>\n",
       "      <th>7927</th>\n",
       "      <td>SeaPort Sound Terminal</td>\n",
       "      <td>OLYMPIC SPIRIT</td>\n",
       "      <td>BITUMEN OIL (DIL OR SYN)</td>\n",
       "      <td>84000.0</td>\n",
       "      <td>Cargo</td>\n",
       "      <td>Facility</td>\n",
       "      <td>TANK BARGE</td>\n",
       "    </tr>\n",
       "    <tr>\n",
       "      <th>12074</th>\n",
       "      <td>SeaPort Sound Terminal</td>\n",
       "      <td>WEBB MOFFETT</td>\n",
       "      <td>BITUMEN OIL (DIL OR SYN)</td>\n",
       "      <td>918596.0</td>\n",
       "      <td>Cargo</td>\n",
       "      <td>Facility</td>\n",
       "      <td>TANK BARGE</td>\n",
       "    </tr>\n",
       "  </tbody>\n",
       "</table>\n",
       "</div>"
      ],
      "text/plain": [
       "                                        Deliverer        Receiver  \\\n",
       "4026                       SeaPort Sound Terminal       VIJAY SEA   \n",
       "4465                       SeaPort Sound Terminal       VIJAY SEA   \n",
       "5554                       SeaPort Sound Terminal       VIJAY SEA   \n",
       "5809   Alon Asphalt Company (Paramount Petroleum)  DUGAN PEARSALL   \n",
       "7927                       SeaPort Sound Terminal  OLYMPIC SPIRIT   \n",
       "12074                      SeaPort Sound Terminal    WEBB MOFFETT   \n",
       "\n",
       "                        Product  TransferQtyInGallon TransferType  \\\n",
       "4026   BITUMEN OIL (DIL OR SYN)             885789.0        Cargo   \n",
       "4465   BITUMEN OIL (DIL OR SYN)             278859.0        Cargo   \n",
       "5554   BITUMEN OIL (DIL OR SYN)             787368.0        Cargo   \n",
       "5809   BITUMEN OIL (DIL OR SYN)             147000.0        Cargo   \n",
       "7927   BITUMEN OIL (DIL OR SYN)              84000.0        Cargo   \n",
       "12074  BITUMEN OIL (DIL OR SYN)             918596.0        Cargo   \n",
       "\n",
       "      DelivererTypeDescription ReceiverTypeDescription  \n",
       "4026                  Facility              TANK BARGE  \n",
       "4465                  Facility              TANK BARGE  \n",
       "5554                  Facility              TANK BARGE  \n",
       "5809                  Facility              TANK BARGE  \n",
       "7927                  Facility              TANK BARGE  \n",
       "12074                 Facility              TANK BARGE  "
      ]
     },
     "execution_count": 16,
     "metadata": {},
     "output_type": "execute_result"
    }
   ],
   "source": [
    "df[df.Product == 'BITUMEN OIL (DIL OR SYN)']"
   ]
  },
  {
   "cell_type": "markdown",
   "id": "confirmed-campus",
   "metadata": {},
   "source": [
    "### Tank barge imports and exports"
   ]
  },
  {
   "cell_type": "code",
   "execution_count": 17,
   "id": "instrumental-credits",
   "metadata": {},
   "outputs": [],
   "source": [
    "vessel = 'barge'\n",
    "type_description = ['TANK BARGE','TUGBOAT']\n",
    "\n",
    "for oil in oil_types:\n",
    "\n",
    "    # Add up net oil quantity transferred by oil_types\n",
    "    import_US[vessel][oil]['total_gallons'] = df.loc[\n",
    "        (df.TransferType == 'Cargo') &\n",
    "        (df.DelivererTypeDescription.isin(type_description))  &\n",
    "        (~df.Deliverer.str.contains('ITB')) & \n",
    "        (~df.Deliverer.str.contains('ATB')) &\n",
    "        (df.Receiver.isin(facility_names)) &\n",
    "        (df.Product.isin(oil_classification[oil])),\n",
    "        'TransferQtyInGallon'\n",
    "    ]\n",
    "    \n",
    "    export_US[vessel][oil]['total_gallons'] = df.loc[\n",
    "        (df.TransferType == 'Cargo') &\n",
    "        (df.ReceiverTypeDescription.isin(type_description)) &\n",
    "        (~df.Receiver.str.contains('ITB')) &\n",
    "        (~df.Receiver.str.contains('ATB')) & \n",
    "        (df.Deliverer.isin(facility_names)) &\n",
    "        (df.Product.isin(oil_classification[oil])),\n",
    "        'TransferQtyInGallon'\n",
    "    ]\n",
    "    \n",
    "    # Add up net oil quantity transferred by oil_types\n",
    "    all_US[vessel][oil]['total_gallons'] = (\n",
    "        import_US[vessel][oil]['total_gallons'].sum(axis=0).item() + \n",
    "        export_US[vessel][oil]['total_gallons'].sum(axis=0).item()\n",
    "    )\n",
    "        \n",
    "    # Calculate the fraction of total oil transfer represented \n",
    "    # by each oil type            \n",
    "    if total[vessel] != 0:\n",
    "        all_US[vessel][oil]['fraction_of_total'] = (\n",
    "            int(all_US[vessel][oil]['total_gallons'])/\n",
    "            int(total[vessel])\n",
    "        )\n",
    "\n",
    "    # Catalogue the number of transfers \n",
    "    all_US[vessel][oil]['number_of_transfers'] = (\n",
    "        import_US[vessel][oil]['total_gallons'].shape[0] + \n",
    "        export_US[vessel][oil]['total_gallons'].shape[0]\n",
    "    ) "
   ]
  },
  {
   "cell_type": "markdown",
   "id": "typical-digest",
   "metadata": {},
   "source": [
    "### QAQC: Make sure oil fractions sum to 1.0 (and fix if they don't)"
   ]
  },
  {
   "cell_type": "code",
   "execution_count": 18,
   "id": "abstract-princess",
   "metadata": {},
   "outputs": [
    {
     "name": "stdout",
     "output_type": "stream",
     "text": [
      "atb, 0.33449433564190634\n",
      "[0.033542736344608276, 0.06652294054051708, 0.02330874836238042, 0.027333051317709807, 0.05124844320142829, 0.07293204884642908, 0.0596063670288334]\n"
     ]
    }
   ],
   "source": [
    "## print out errors first to make sure they are reasonable\n",
    "for vessel in vessel_types:        \n",
    "    total = sum([all_US[vessel][oil]['fraction_of_total'] for oil in oil_types])    \n",
    "    if (total != 1) & (total != 0):\n",
    "        print(f'{vessel}, {total}')\n",
    "        print([all_US[vessel][oil]['fraction_of_total'] for oil in oil_types])"
   ]
  },
  {
   "cell_type": "markdown",
   "id": "broken-crown",
   "metadata": {},
   "source": [
    "## Write to file"
   ]
  },
  {
   "cell_type": "code",
   "execution_count": 19,
   "id": "efficient-korean",
   "metadata": {},
   "outputs": [],
   "source": [
    "with open(r'./US_general.yaml', 'w') as file:\n",
    "    documents = yaml.safe_dump(all_US, file)"
   ]
  },
  {
   "cell_type": "markdown",
   "id": "married-notion",
   "metadata": {},
   "source": [
    "## Plot results"
   ]
  },
  {
   "cell_type": "code",
   "execution_count": 20,
   "id": "described-toronto",
   "metadata": {},
   "outputs": [],
   "source": [
    "US = all_US"
   ]
  },
  {
   "cell_type": "code",
   "execution_count": 21,
   "id": "fitted-tulsa",
   "metadata": {},
   "outputs": [
    {
     "data": {
      "text/plain": [
       "Text(0.5, 1.0, 'tanker fuel allocation for general = US')"
      ]
     },
     "execution_count": 21,
     "metadata": {},
     "output_type": "execute_result"
    },
    {
     "data": {
      "image/png": "[encoded data removed]",
      "text/plain": [
       "<Figure size 432x288 with 1 Axes>"
      ]
     },
     "metadata": {},
     "output_type": "display_data"
    }
   ],
   "source": [
    "label = 'tanker'\n",
    "US_tank = [ US[label]['akns']['total_gallons'], \n",
    "                US[label]['bunker']['total_gallons'], \n",
    "                US[label]['dilbit']['total_gallons'], \n",
    "                US[label]['jet']['total_gallons'], \n",
    "                US[label]['diesel']['total_gallons'], \n",
    "                US[label]['gas']['total_gallons'], \n",
    "                US[label]['other']['total_gallons']\n",
    "               ]\n",
    "plt.gca().axis(\"equal\")\n",
    "plt.pie(US_tank, labels= oil_types)\n",
    "plt.title(f'{label} fuel allocation for general = US')"
   ]
  },
  {
   "cell_type": "code",
   "execution_count": 22,
   "id": "integral-exchange",
   "metadata": {},
   "outputs": [
    {
     "data": {
      "text/plain": [
       "Text(0.5, 1.0, 'atb fuel allocation for general = US')"
      ]
     },
     "execution_count": 22,
     "metadata": {},
     "output_type": "execute_result"
    },
    {
     "data": {
      "image/png": "[encoded data removed]",
      "text/plain": [
       "<Figure size 432x288 with 1 Axes>"
      ]
     },
     "metadata": {},
     "output_type": "display_data"
    }
   ],
   "source": [
    "label = 'atb'\n",
    "US_tank = [ US[label]['akns']['total_gallons'], \n",
    "                US[label]['bunker']['total_gallons'], \n",
    "                US[label]['dilbit']['total_gallons'], \n",
    "                US[label]['jet']['total_gallons'], \n",
    "                US[label]['diesel']['total_gallons'], \n",
    "                US[label]['gas']['total_gallons'], \n",
    "                US[label]['other']['total_gallons']\n",
    "               ]\n",
    "plt.gca().axis(\"equal\")\n",
    "plt.pie(US_tank, labels= oil_types)\n",
    "plt.title(f'{label} fuel allocation for general = US')"
   ]
  },
  {
   "cell_type": "code",
   "execution_count": 23,
   "id": "affected-grove",
   "metadata": {},
   "outputs": [
    {
     "data": {
      "text/plain": [
       "Text(0.5, 1.0, 'barge fuel allocation for general = US')"
      ]
     },
     "execution_count": 23,
     "metadata": {},
     "output_type": "execute_result"
    },
    {
     "data": {
      "image/png": "[encoded data removed]",
      "text/plain": [
       "<Figure size 432x288 with 1 Axes>"
      ]
     },
     "metadata": {},
     "output_type": "display_data"
    }
   ],
   "source": [
    "label = 'barge'\n",
    "US_tank = [ US[label]['akns']['total_gallons'], \n",
    "                US[label]['bunker']['total_gallons'], \n",
    "                US[label]['dilbit']['total_gallons'], \n",
    "                US[label]['jet']['total_gallons'], \n",
    "                US[label]['diesel']['total_gallons'], \n",
    "                US[label]['gas']['total_gallons'], \n",
    "                US[label]['other']['total_gallons']\n",
    "               ]\n",
    "plt.gca().axis(\"equal\")\n",
    "plt.pie(US_tank, labels= oil_types)\n",
    "plt.title(f'{label} fuel allocation for general = US')"
   ]
  },
  {
   "cell_type": "code",
   "execution_count": 24,
   "id": "minus-philippines",
   "metadata": {},
   "outputs": [
    {
     "data": {
      "image/png": "[encoded data removed]",
      "text/plain": [
       "<Figure size 1080x360 with 3 Axes>"
      ]
     },
     "metadata": {},
     "output_type": "display_data"
    }
   ],
   "source": [
    "import matplotlib.pyplot as plt\n",
    "\n",
    "# re-calc total transfers over all oil types\n",
    "total_tanker = sum([ US['tanker'][oil]['total_gallons'] for oil in oil_types ])\n",
    "total_atb    = sum([ US['atb'][oil]['total_gallons'] for oil in oil_types ])\n",
    "total_barge  = sum([ US['barge'][oil]['total_gallons'] for oil in oil_types ])\n",
    "\n",
    "total = [total_tanker, total_atb, total_barge]\n",
    "\n",
    "plot_array = np.empty(len(oil_types))\n",
    "\n",
    "fig, axes = plt.subplots(1, len(vessel_types), figsize = (15,5))\n",
    "\n",
    "plt.text(0, 0.5, \n",
    "         'Pacific + US ', \n",
    "         ha='left',\n",
    "         fontsize=20,\n",
    "         wrap=True,\n",
    "         transform=plt.gcf().transFigure)\n",
    "\n",
    "for j in range(len(vessel_types)):\n",
    "    vessel = vessel_types[j]\n",
    "    # create array of total oil volume by oil type for each vessel at each facility\n",
    "    oil_index = 0\n",
    "    for oil in oil_types:    \n",
    "        plot_array[oil_index]=US[vessel][oil]['total_gallons']\n",
    "        oil_index += 1\n",
    "\n",
    "    axes[j].axis('equal')\n",
    "    axes[j].set_title(f'{total[j]:4.2e}\\n gallons',fontsize=18)\n",
    "\n",
    "    if plot_array.sum()>0:\n",
    "        axes[j].pie(plot_array, wedgeprops=dict(width=0.5), labels = oil_types, textprops={'fontsize': 14})\n",
    "    else:\n",
    "        axes[j].axis('off')\n",
    "    axes[j].text(0,0,vessel,ha='center',fontsize=18)\n",
    "\n",
    "plt.savefig('US_combined.png')"
   ]
  },
  {
   "cell_type": "code",
   "execution_count": null,
   "id": "ruled-carbon",
   "metadata": {},
   "outputs": [],
   "source": []
  }
 ],
 "metadata": {
  "kernelspec": {
   "display_name": "Python 3",
   "language": "python",
   "name": "python3"
  },
  "language_info": {
   "codemirror_mode": {
    "name": "ipython",
    "version": 3
   },
   "file_extension": ".py",
   "mimetype": "text/x-python",
   "name": "python",
   "nbconvert_exporter": "python",
   "pygments_lexer": "ipython3",
   "version": "3.9.2"
  }
 },
 "nbformat": 4,
 "nbformat_minor": 5
}
