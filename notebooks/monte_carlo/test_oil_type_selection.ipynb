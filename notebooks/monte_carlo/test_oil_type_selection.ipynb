{
 "cells": [
  {
   "cell_type": "code",
   "execution_count": 1,
   "metadata": {},
   "outputs": [],
   "source": [
    "from monte_carlo_utils import get_oil_type_cargo \n",
    "from get_oil_type_atb import get_oil_type_atb\n",
    "from get_oil_type_tanker import get_oil_type_tanker\n",
    "from get_oil_type_barge import get_oil_type_barge\n",
    "\n",
    "import csv\n",
    "import yaml\n",
    "import pathlib"
   ]
  },
  {
   "cell_type": "code",
   "execution_count": 2,
   "metadata": {},
   "outputs": [],
   "source": [
    "master_dir  = '/Users/rmueller/Projects/MIDOSS/analysis-rachael/notebooks/monte_carlo/'\n",
    "master_file = 'master.yaml'\n",
    "origin = 'Westridge Marine Terminal'\n",
    "destination = 'Pacific'\n",
    "random_seed=None\n",
    "\n",
    "with open(f'{master_dir}{master_file}') as file:\n",
    "        master = yaml.safe_load(file)\n",
    "\n",
    "# Assign US and CAD origin/destinations from master file\n",
    "CAD_origin_destination = master['categories']\\\n",
    "    ['CAD_origin_destination']\n",
    "US_origin_destination = master['categories']\\\n",
    "    ['US_origin_destination']\n",
    "generic_origin_destination = master['categories']\\\n",
    "    ['generic_origin_destination']"
   ]
  },
  {
   "cell_type": "code",
   "execution_count": 3,
   "metadata": {},
   "outputs": [],
   "source": [
    "oil_type = get_oil_type_atb(master_dir, master_file, origin, destination,random_seed)"
   ]
  },
  {
   "cell_type": "code",
   "execution_count": 4,
   "metadata": {},
   "outputs": [],
   "source": [
    "oil_type = get_oil_type_tanker(master_dir, master_file, origin, destination,random_seed)"
   ]
  },
  {
   "cell_type": "code",
   "execution_count": 5,
   "metadata": {},
   "outputs": [],
   "source": [
    "[oil_type, fuel_flag] = get_oil_type_barge(master_dir, master_file, origin, destination,random_seed)"
   ]
  },
  {
   "cell_type": "markdown",
   "metadata": {},
   "source": [
    "### Test all tanker cases"
   ]
  },
  {
   "cell_type": "code",
   "execution_count": 6,
   "metadata": {},
   "outputs": [],
   "source": [
    "random_seed = []\n",
    "\n",
    "# CAD - CAD\n",
    "with open('tanker_origin_destination_CAD_CAD.csv', mode='w') as ship_file:\n",
    "    ship_writer = csv.writer(ship_file, delimiter=',', quotechar='\"', quoting=csv.QUOTE_MINIMAL)\n",
    "\n",
    "    for origin in CAD_origin_destination:\n",
    "        for destination in CAD_origin_destination:\n",
    "            oil_type = get_oil_type_tanker(\n",
    "                master_dir, \n",
    "                master_file, \n",
    "                origin, \n",
    "                destination,\n",
    "                random_seed\n",
    "            )\n",
    "            ship_writer.writerow([origin, destination, oil_type])"
   ]
  },
  {
   "cell_type": "code",
   "execution_count": null,
   "metadata": {},
   "outputs": [],
   "source": [
    "random_seed = []\n",
    "\n",
    "# CAD - US\n",
    "with open('tanker_origin_destination_CAD_US.csv', mode='w') as ship_file:\n",
    "    ship_writer = csv.writer(ship_file, delimiter=',', quotechar='\"', quoting=csv.QUOTE_MINIMAL)\n",
    "\n",
    "    for origin in CAD_origin_destination:\n",
    "        for destination in US_origin_destination:\n",
    "            oil_type = get_oil_type_tanker(\n",
    "                master_dir, \n",
    "                master_file, \n",
    "                origin, \n",
    "                destination,\n",
    "                random_seed\n",
    "            )\n",
    "            ship_writer.writerow([origin, destination, oil_type])"
   ]
  },
  {
   "cell_type": "code",
   "execution_count": null,
   "metadata": {},
   "outputs": [],
   "source": [
    "random_seed = []\n",
    "\n",
    "# US - US\n",
    "with open('tanker_origin_destination_US_US.csv', mode='w') as ship_file:\n",
    "    ship_writer = csv.writer(ship_file, delimiter=',', quotechar='\"', quoting=csv.QUOTE_MINIMAL)\n",
    "\n",
    "    for origin in US_origin_destination:\n",
    "        for destination in US_origin_destination:\n",
    "            oil_type = get_oil_type_tanker(\n",
    "                master_dir, \n",
    "                master_file, \n",
    "                origin, \n",
    "                destination,\n",
    "                random_seed\n",
    "            )\n",
    "            ship_writer.writerow([origin, destination, oil_type])"
   ]
  },
  {
   "cell_type": "code",
   "execution_count": null,
   "metadata": {},
   "outputs": [],
   "source": [
    "random_seed = []\n",
    "\n",
    "# US - CAD\n",
    "with open('tanker_origin_destination_US_CAD.csv', mode='w') as ship_file:\n",
    "    ship_writer = csv.writer(ship_file, delimiter=',', quotechar='\"', quoting=csv.QUOTE_MINIMAL)\n",
    "\n",
    "    for origin in US_origin_destination:\n",
    "        for destination in CAD_origin_destination:\n",
    "            oil_type = get_oil_type_tanker(\n",
    "                master_dir, \n",
    "                master_file, \n",
    "                origin, \n",
    "                destination,\n",
    "                random_seed\n",
    "            )\n",
    "            ship_writer.writerow([origin, destination, oil_type])"
   ]
  },
  {
   "cell_type": "code",
   "execution_count": null,
   "metadata": {},
   "outputs": [],
   "source": [
    "# US - general\n",
    "with open('tanker_origin_destination_US_general.csv', mode='w') as ship_file:\n",
    "    ship_writer = csv.writer(ship_file, delimiter=',', quotechar='\"', quoting=csv.QUOTE_MINIMAL)\n",
    "\n",
    "    for origin in US_origin_destination:\n",
    "        for destination in general_origin_destination:\n",
    "            oil_type = get_oil_type_tanker(\n",
    "                master_dir, \n",
    "                master_file, \n",
    "                origin, \n",
    "                destination,\n",
    "                random_seed\n",
    "            )\n",
    "            ship_writer.writerow([origin, destination, oil_type])"
   ]
  },
  {
   "cell_type": "code",
   "execution_count": null,
   "metadata": {},
   "outputs": [],
   "source": [
    "# general - US\n",
    "with open('tanker_origin_destination_general_US.csv', mode='w') as ship_file:\n",
    "    ship_writer = csv.writer(ship_file, delimiter=',', quotechar='\"', quoting=csv.QUOTE_MINIMAL)\n",
    "\n",
    "    for origin in general_origin_destination:\n",
    "        for destination in US_origin_destination:\n",
    "            oil_type = get_oil_type_tanker(\n",
    "                master_dir, \n",
    "                master_file, \n",
    "                origin, \n",
    "                destination,\n",
    "                random_seed\n",
    "            )\n",
    "            ship_writer.writerow([origin, destination, oil_type])"
   ]
  },
  {
   "cell_type": "code",
   "execution_count": null,
   "metadata": {},
   "outputs": [],
   "source": [
    "# CAD - general\n",
    "with open('tanker_origin_destination_CAD_general.csv', mode='w') as ship_file:\n",
    "    ship_writer = csv.writer(ship_file, delimiter=',', quotechar='\"', quoting=csv.QUOTE_MINIMAL)\n",
    "\n",
    "    for origin in CAD_origin_destination:\n",
    "        for destination in general_origin_destination:\n",
    "            oil_type = get_oil_type_tanker(\n",
    "                master_dir, \n",
    "                master_file, \n",
    "                origin, \n",
    "                destination,\n",
    "                random_seed\n",
    "            )\n",
    "            ship_writer.writerow([origin, destination, oil_type])"
   ]
  },
  {
   "cell_type": "code",
   "execution_count": null,
   "metadata": {},
   "outputs": [],
   "source": [
    "# general - CAD\n",
    "with open('tanker_origin_destination_general_CAD.csv', mode='w') as ship_file:\n",
    "    ship_writer = csv.writer(ship_file, delimiter=',', quotechar='\"', quoting=csv.QUOTE_MINIMAL)\n",
    "\n",
    "    for origin in general_origin_destination:\n",
    "        for destination in CAD_origin_destination:\n",
    "            oil_type = get_oil_type_tanker(\n",
    "                master_dir, \n",
    "                master_file, \n",
    "                origin, \n",
    "                destination,\n",
    "                random_seed\n",
    "            )\n",
    "            ship_writer.writerow([origin, destination, oil_type])"
   ]
  },
  {
   "cell_type": "markdown",
   "metadata": {},
   "source": [
    "### Test all barge cases"
   ]
  },
  {
   "cell_type": "code",
   "execution_count": null,
   "metadata": {},
   "outputs": [],
   "source": [
    "random_seed = []\n",
    "\n",
    "# CAD - CAD\n",
    "with open('barge_origin_destination_test.csv', mode='w') as barge_file:\n",
    "    barge_writer = csv.writer(barge_file, delimiter=',', quotechar='\"', quoting=csv.QUOTE_MINIMAL)\n",
    "\n",
    "    for origin in CAD_origin_destination:\n",
    "        for destination in CAD_origin_destination:\n",
    "            oil_type = get_oil_type_barge(\n",
    "                master_dir, \n",
    "                master_file, \n",
    "                origin, \n",
    "                destination,\n",
    "                random_seed\n",
    "            )\n",
    "            barge_writer.writerow([origin, destination, oil_type])"
   ]
  },
  {
   "cell_type": "code",
   "execution_count": null,
   "metadata": {},
   "outputs": [],
   "source": [
    "# CAD - US\n",
    "with open('barge_origin_destination_CAD_US.csv', mode='w') as barge_file:\n",
    "    barge_writer = csv.writer(barge_file, delimiter=',', quotechar='\"', quoting=csv.QUOTE_MINIMAL)\n",
    "\n",
    "    for origin in CAD_origin_destination:\n",
    "        for destination in US_origin_destination:\n",
    "            oil_type = get_oil_type_barge(\n",
    "                master_dir, \n",
    "                master_file, \n",
    "                origin, \n",
    "                destination,\n",
    "                random_seed\n",
    "            )\n",
    "            barge_writer.writerow([origin, destination, oil_type])"
   ]
  },
  {
   "cell_type": "code",
   "execution_count": null,
   "metadata": {},
   "outputs": [],
   "source": [
    "# US - CAD\n",
    "with open('barge_origin_destination_US_CAD.csv', mode='w') as barge_file:\n",
    "    barge_writer = csv.writer(barge_file, delimiter=',', quotechar='\"', quoting=csv.QUOTE_MINIMAL)\n",
    "\n",
    "    for origin in US_origin_destination:\n",
    "        for destination in CAD_origin_destination:\n",
    "            oil_type = get_oil_type_barge(\n",
    "                master_dir, \n",
    "                master_file, \n",
    "                origin, \n",
    "                destination,\n",
    "                random_seed\n",
    "            )\n",
    "            barge_writer.writerow([origin, destination, oil_type])"
   ]
  },
  {
   "cell_type": "code",
   "execution_count": null,
   "metadata": {},
   "outputs": [],
   "source": [
    "# US - US\n",
    "with open('barge_origin_destination_US_US.csv', mode='w') as barge_file:\n",
    "    barge_writer = csv.writer(barge_file, delimiter=',', quotechar='\"', quoting=csv.QUOTE_MINIMAL)\n",
    "\n",
    "    for origin in US_origin_destination:\n",
    "        for destination in US_origin_destination:\n",
    "            oil_type = get_oil_type_barge(\n",
    "                master_dir, \n",
    "                master_file, \n",
    "                origin, \n",
    "                destination,\n",
    "                random_seed\n",
    "            )\n",
    "            barge_writer.writerow([origin, destination, oil_type])"
   ]
  },
  {
   "cell_type": "markdown",
   "metadata": {},
   "source": [
    "### Test all ATB cases"
   ]
  },
  {
   "cell_type": "code",
   "execution_count": null,
   "metadata": {},
   "outputs": [],
   "source": [
    "random_seed = []\n",
    "\n",
    "# CAD - CAD\n",
    "with open('atb_origin_destination_test.csv', mode='w') as ship_file:\n",
    "    ship_writer = csv.writer(ship_file, delimiter=',', quotechar='\"', quoting=csv.QUOTE_MINIMAL)\n",
    "\n",
    "    for origin in CAD_origin_destination:\n",
    "        for destination in CAD_origin_destination:\n",
    "            oil_type = get_oil_type_atb(\n",
    "                master_dir, \n",
    "                master_file, \n",
    "                origin, \n",
    "                destination,\n",
    "                random_seed\n",
    "            )\n",
    "            ship_writer.writerow([origin, destination, oil_type])"
   ]
  },
  {
   "cell_type": "code",
   "execution_count": null,
   "metadata": {},
   "outputs": [],
   "source": [
    "#CAD - US\n",
    "\n",
    "with open('atb_origin_destination_CAD_US.csv', mode='w') as ship_file:\n",
    "    ship_writer = csv.writer(ship_file, delimiter=',', quotechar='\"', quoting=csv.QUOTE_MINIMAL)\n",
    "\n",
    "    for origin in CAD_origin_destination:\n",
    "        for destination in US_origin_destination:\n",
    "            oil_type = get_oil_type_atb(\n",
    "                master_dir, \n",
    "                master_file, \n",
    "                origin, \n",
    "                destination,\n",
    "                random_seed\n",
    "            )\n",
    "            ship_writer.writerow([origin, destination, oil_type])"
   ]
  },
  {
   "cell_type": "code",
   "execution_count": null,
   "metadata": {},
   "outputs": [],
   "source": [
    "# CAD - General\n",
    "with open('atb_origin_destination_CAD_generic.csv', mode='w') as ship_file:\n",
    "    ship_writer = csv.writer(ship_file, delimiter=',', quotechar='\"', quoting=csv.QUOTE_MINIMAL)\n",
    "\n",
    "    for origin in CAD_origin_destination:\n",
    "        for destination in generic_origin_destination:\n",
    "            oil_type = get_oil_type_atb(\n",
    "                master_dir, \n",
    "                master_file, \n",
    "                origin, \n",
    "                destination,\n",
    "                random_seed\n",
    "            )\n",
    "            ship_writer.writerow([origin, destination, oil_type])"
   ]
  },
  {
   "cell_type": "code",
   "execution_count": null,
   "metadata": {},
   "outputs": [],
   "source": [
    "# US - US\n",
    "\n",
    "with open('atb_origin_destination_US_US.csv', mode='w') as ship_file:\n",
    "    ship_writer = csv.writer(ship_file, delimiter=',', quotechar='\"', quoting=csv.QUOTE_MINIMAL)\n",
    "\n",
    "    for origin in US_origin_destination:\n",
    "        for destination in US_origin_destination:\n",
    "            oil_type = get_oil_type_atb(\n",
    "                master_dir, \n",
    "                master_file, \n",
    "                origin, \n",
    "                destination,\n",
    "                random_seed\n",
    "            )\n",
    "            ship_writer.writerow([origin, destination, oil_type])"
   ]
  },
  {
   "cell_type": "code",
   "execution_count": null,
   "metadata": {},
   "outputs": [],
   "source": [
    "# US - CAD\n",
    "\n",
    "with open('atb_origin_destination_US_US.csv', mode='w') as ship_file:\n",
    "    ship_writer = csv.writer(ship_file, delimiter=',', quotechar='\"', quoting=csv.QUOTE_MINIMAL)\n",
    "\n",
    "    for origin in US_origin_destination:\n",
    "        for destination in CAD_origin_destination:\n",
    "            oil_type = get_oil_type_atb(\n",
    "                master_dir, \n",
    "                master_file, \n",
    "                origin, \n",
    "                destination,\n",
    "                random_seed\n",
    "            )\n",
    "            ship_writer.writerow([origin, destination, oil_type])"
   ]
  },
  {
   "cell_type": "code",
   "execution_count": null,
   "metadata": {},
   "outputs": [],
   "source": [
    "# US - General\n",
    "with open('atb_origin_destination_US_generic.csv', mode='w') as ship_file:\n",
    "    ship_writer = csv.writer(ship_file, delimiter=',', quotechar='\"', quoting=csv.QUOTE_MINIMAL)\n",
    "\n",
    "    for origin in US_origin_destination:\n",
    "        for destination in generic_origin_destination:\n",
    "            oil_type = get_oil_type_atb(\n",
    "                master_dir, \n",
    "                master_file, \n",
    "                origin, \n",
    "                destination,\n",
    "                random_seed\n",
    "            )\n",
    "            ship_writer.writerow([origin, destination, oil_type])"
   ]
  },
  {
   "cell_type": "code",
   "execution_count": null,
   "metadata": {},
   "outputs": [],
   "source": [
    "# Generic - CAD\n",
    "with open('atb_origin_destination_generic_CAD.csv', mode='w') as ship_file:\n",
    "    ship_writer = csv.writer(ship_file, delimiter=',', quotechar='\"', quoting=csv.QUOTE_MINIMAL)\n",
    "\n",
    "    for origin in generic_origin_destination:\n",
    "        for destination in CAD_origin_destination:\n",
    "            oil_type = get_oil_type_atb(\n",
    "                master_dir, \n",
    "                master_file, \n",
    "                origin, \n",
    "                destination,\n",
    "                random_seed\n",
    "            )\n",
    "            ship_writer.writerow([origin, destination, oil_type])"
   ]
  },
  {
   "cell_type": "code",
   "execution_count": null,
   "metadata": {},
   "outputs": [],
   "source": [
    "# Generic - US\n",
    "with open('atb_origin_destination_generic_US.csv', mode='w') as ship_file:\n",
    "    ship_writer = csv.writer(ship_file, delimiter=',', quotechar='\"', quoting=csv.QUOTE_MINIMAL)\n",
    "\n",
    "    for origin in generic_origin_destination:\n",
    "        for destination in US_origin_destination:\n",
    "            oil_type = get_oil_type_atb(\n",
    "                master_dir, \n",
    "                master_file, \n",
    "                origin, \n",
    "                destination,\n",
    "                random_seed\n",
    "            )\n",
    "            ship_writer.writerow([origin, destination, oil_type])"
   ]
  },
  {
   "cell_type": "markdown",
   "metadata": {},
   "source": [
    "### Test the case of origin/destination with no fuel transfers for particular vessel"
   ]
  },
  {
   "cell_type": "code",
   "execution_count": null,
   "metadata": {},
   "outputs": [],
   "source": [
    "# 'Shell Oil LP Seattle Distribution Terminal' has no fuel transfers for either import or export in the barge category\n",
    "origin = 'Shell Oil LP Seattle Distribution Terminal'\n",
    "destintation = 'Shell Oil LP Seattle Distribution Terminal'\n",
    "[fuel_type, fuel_flag] = get_oil_type_barge(master_dir, master_file, origin, destination,random_seed)"
   ]
  },
  {
   "cell_type": "code",
   "execution_count": null,
   "metadata": {},
   "outputs": [],
   "source": [
    "fuel_type"
   ]
  },
  {
   "cell_type": "code",
   "execution_count": null,
   "metadata": {},
   "outputs": [],
   "source": [
    "fuel_flag"
   ]
  },
  {
   "cell_type": "markdown",
   "metadata": {},
   "source": [
    "####  Whoops! This tells me that random_generator will attribute fuel even when probability is zero"
   ]
  },
  {
   "cell_type": "code",
   "execution_count": null,
   "metadata": {},
   "outputs": [],
   "source": [
    "import pathlib\n",
    "import yaml\n",
    "\n",
    "with open(f'{master_dir}{master_file}') as file:\n",
    "    master = yaml.safe_load(file)\n",
    "\n",
    "# Assign US and CAD origin/destinations from master file\n",
    "CAD_origin_destination = master['categories']['CAD_origin_destination']\n",
    "US_origin_destination = master['categories']['US_origin_destination']\n",
    "\n",
    "# Get file paths to fuel-type yaml files\n",
    "home = pathlib.Path(master['directories'])\n",
    "CAD_yaml     = home/master['files']['CAD_origin']\n",
    "WA_in_yaml   = home/master['files']['WA_destination']\n",
    "WA_out_yaml  = home/master['files']['WA_origin']\n",
    "US_yaml      = home/master['files']['US_origin']\n",
    "USall_yaml   = home/master['files']['US_combined']\n",
    "Pacific_yaml = home/master['files']['Pacific_origin']\n",
    "fuel_yaml    = home/master['files']['fuel']\n",
    "\n",
    "with WA_out_yaml.open(\"rt\") as file:\n",
    "            cargo = yaml.safe_load(file)\n",
    "            ship = cargo['Shell Oil LP Seattle Distribution Terminal'][ship_type]\n",
    "            probability = [ship[fuel]['fraction_of_total'] for fuel in ship]"
   ]
  },
  {
   "cell_type": "code",
   "execution_count": null,
   "metadata": {},
   "outputs": [],
   "source": [
    "sum(probability)\n"
   ]
  },
  {
   "cell_type": "code",
   "execution_count": null,
   "metadata": {},
   "outputs": [],
   "source": [
    "list(ship.keys())"
   ]
  },
  {
   "cell_type": "code",
   "execution_count": null,
   "metadata": {},
   "outputs": [],
   "source": [
    "facility = 'bogus'\n",
    "try:\n",
    "    fuel_type = random_generator.choice(list(ship.keys()), p = probability)\n",
    "except ValueError:\n",
    "    raise ValueError(f'Error: fraction of fuel transfers for ghost-ship servicing {facility} does not sum to 1')"
   ]
  },
  {
   "cell_type": "code",
   "execution_count": null,
   "metadata": {},
   "outputs": [],
   "source": [
    "if sum(probability) == 0:\n",
    "    print('error catch')\n",
    "else:\n",
    "    try:\n",
    "        fuel_type = random_generator.choice(list(ship.keys()), p = probability)\n",
    "    except ValueError:\n",
    "        raise ValueError(f'Error: fraction of fuel transfers for ghost-ship servicing {facility} does not sum to 1')"
   ]
  },
  {
   "cell_type": "code",
   "execution_count": null,
   "metadata": {},
   "outputs": [],
   "source": [
    "if sum(probability) == 0:\n",
    "    fuel_type = []\n",
    "elif sum(probability) == 1:\n",
    "    fuel_type = random_generator.choice(list(ship.keys()), p = probability)\n",
    "else:\n",
    "    raise Exception(f'Error: fraction of fuel transfers for {ship} servicing {facility} does not sum to 1')"
   ]
  },
  {
   "cell_type": "code",
   "execution_count": null,
   "metadata": {},
   "outputs": [],
   "source": [
    "numpy.zeros(5)"
   ]
  },
  {
   "cell_type": "code",
   "execution_count": null,
   "metadata": {},
   "outputs": [],
   "source": [
    "if not fuel_type:\n",
    "    print('no fuel')"
   ]
  },
  {
   "cell_type": "code",
   "execution_count": null,
   "metadata": {},
   "outputs": [],
   "source": [
    "import numpy\n",
    "\n",
    "# Initialize PCG-64 random number generator\n",
    "random_generator = numpy.random.default_rng(random_seed)\n",
    "\n"
   ]
  },
  {
   "cell_type": "code",
   "execution_count": null,
   "metadata": {},
   "outputs": [],
   "source": []
  }
 ],
 "metadata": {
  "kernelspec": {
   "display_name": "Python 3",
   "language": "python",
   "name": "python3"
  },
  "language_info": {
   "codemirror_mode": {
    "name": "ipython",
    "version": 3
   },
   "file_extension": ".py",
   "mimetype": "text/x-python",
   "name": "python",
   "nbconvert_exporter": "python",
   "pygments_lexer": "ipython3",
   "version": "3.8.3"
  }
 },
 "nbformat": 4,
 "nbformat_minor": 4
}
