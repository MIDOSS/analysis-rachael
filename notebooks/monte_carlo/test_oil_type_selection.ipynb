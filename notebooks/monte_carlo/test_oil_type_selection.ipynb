{
 "cells": [
  {
   "cell_type": "code",
   "execution_count": 1,
   "metadata": {},
   "outputs": [],
   "source": [
    "from monte_carlo_utils import get_oil_type_cargo \n",
    "from get_oil_type_atb import get_oil_type_atb\n",
    "from get_oil_type_tanker import get_oil_type_tanker\n",
    "from get_oil_type_barge import get_oil_type_barge\n",
    "\n",
    "import csv\n",
    "import yaml\n",
    "import pathlib\n",
    "import numpy"
   ]
  },
  {
   "cell_type": "code",
   "execution_count": 2,
   "metadata": {},
   "outputs": [],
   "source": [
    "master_dir  = '/Users/rmueller/Projects/MIDOSS/analysis-rachael/notebooks/monte_carlo/'\n",
    "master_file = 'master.yaml'\n",
    "origin = 'Westridge Marine Terminal'\n",
    "destination = 'Pacific'\n",
    "random_seed=None\n",
    "\n",
    "with open(f'{master_dir}{master_file}') as file:\n",
    "        master = yaml.safe_load(file)\n",
    "\n",
    "# Assign US and CAD origin/destinations from master file\n",
    "CAD_origin_destination = master['categories']\\\n",
    "    ['CAD_origin_destination']\n",
    "US_origin_destination = master['categories']\\\n",
    "    ['US_origin_destination']\n",
    "generic_origin_destination = master['categories']\\\n",
    "    ['generic_origin_destination']"
   ]
  },
  {
   "cell_type": "markdown",
   "metadata": {},
   "source": [
    "### Initialize functions for looping through the origins and destinations and testing the \"get_oil_type\" scripts\n",
    "Note: The only difference in these functions is the function call for \"get_oil_type_tanker\", \"get_oil_type_atb\", or \"get_oil_type_barge\".  I'm these could be combined into 1 function, and I'd like to learn a suave-suave way for doing that, but I just pushed the easy button here.  :-) "
   ]
  },
  {
   "cell_type": "code",
   "execution_count": 3,
   "metadata": {},
   "outputs": [],
   "source": [
    "def test_tanker(output_csv, origin_list, destination_list):\n",
    "    \n",
    "    with open(output_csv, mode='w') as ship_file:\n",
    "        ship_writer = csv.writer(ship_file, delimiter=',', quotechar='\"', quoting=csv.QUOTE_MINIMAL)\n",
    "\n",
    "        for origin in origin_list:\n",
    "            for destination in destination_list:\n",
    "                oil_type = get_oil_type_tanker(\n",
    "                    master_dir, \n",
    "                    master_file, \n",
    "                    origin, \n",
    "                    destination,\n",
    "                    random_generator\n",
    "                )\n",
    "                ship_writer.writerow([origin, destination, oil_type])"
   ]
  },
  {
   "cell_type": "code",
   "execution_count": 4,
   "metadata": {},
   "outputs": [],
   "source": [
    "def test_barge(output_csv, origin_list, destination_list):\n",
    "\n",
    "    with open(output_csv, mode='w') as barge_file:\n",
    "        ship_writer = csv.writer(barge_file, delimiter=',', quotechar='\"', quoting=csv.QUOTE_MINIMAL)\n",
    "\n",
    "        for origin in origin_list:\n",
    "            for destination in destination_list:\n",
    "                [oil_type, fuel_flag] = get_oil_type_barge(\n",
    "                    master_dir, \n",
    "                    master_file, \n",
    "                    origin, \n",
    "                    destination,\n",
    "                    random_generator\n",
    "                )\n",
    "                ship_writer.writerow([origin, destination, fuel_flag, oil_type])"
   ]
  },
  {
   "cell_type": "code",
   "execution_count": 5,
   "metadata": {},
   "outputs": [],
   "source": [
    "def test_atb(output_csv, origin_list, destination_list):\n",
    "    \n",
    "    with open(output_csv, mode='w') as ship_file:\n",
    "        ship_writer = csv.writer(ship_file, delimiter=',', quotechar='\"', quoting=csv.QUOTE_MINIMAL)\n",
    "\n",
    "        for origin in origin_list:\n",
    "            for destination in destination_list:\n",
    "                oil_type = get_oil_type_atb(\n",
    "                    master_dir, \n",
    "                    master_file, \n",
    "                    origin, \n",
    "                    destination,\n",
    "                    random_generator\n",
    "                )\n",
    "                ship_writer.writerow([origin, destination, oil_type])"
   ]
  },
  {
   "cell_type": "markdown",
   "metadata": {},
   "source": [
    "### Initialize random generator for testing"
   ]
  },
  {
   "cell_type": "code",
   "execution_count": 6,
   "metadata": {},
   "outputs": [],
   "source": [
    "# Initialize PCG-64 random number generator\n",
    "random_seed = []\n",
    "random_generator = numpy.random.default_rng(random_seed)"
   ]
  },
  {
   "cell_type": "code",
   "execution_count": 7,
   "metadata": {},
   "outputs": [],
   "source": [
    "oil_type = get_oil_type_atb(master_dir, master_file, origin, destination,random_generator)"
   ]
  },
  {
   "cell_type": "code",
   "execution_count": 8,
   "metadata": {},
   "outputs": [],
   "source": [
    "oil_type = get_oil_type_tanker(master_dir, master_file, origin, destination,random_generator)"
   ]
  },
  {
   "cell_type": "code",
   "execution_count": 9,
   "metadata": {},
   "outputs": [],
   "source": [
    "[oil_type, fuel_flag] = get_oil_type_barge(master_dir, master_file, origin, destination,random_generator)"
   ]
  },
  {
   "cell_type": "markdown",
   "metadata": {},
   "source": [
    "### Test all origin-destination pairs for tankers, barges and atbs"
   ]
  },
  {
   "cell_type": "code",
   "execution_count": 10,
   "metadata": {},
   "outputs": [],
   "source": [
    "# CAD - CAD\n",
    "test_tanker(\n",
    "    'tanker_origin_destination_CAD_CAD.csv',\n",
    "    CAD_origin_destination,\n",
    "    CAD_origin_destination\n",
    ")\n",
    "\n",
    "test_barge(\n",
    "    'barge_origin_destination_US_US.csv',\n",
    "    CAD_origin_destination,\n",
    "    CAD_origin_destination\n",
    ")\n",
    "\n",
    "test_atb(\n",
    "    'atb_origin_destination_US_US.csv',\n",
    "    CAD_origin_destination,\n",
    "    CAD_origin_destination\n",
    ")"
   ]
  },
  {
   "cell_type": "code",
   "execution_count": 11,
   "metadata": {},
   "outputs": [],
   "source": [
    "# CAD - US\n",
    "test_tanker(\n",
    "    'tanker_origin_destination_CAD_US.csv',\n",
    "    CAD_origin_destination,\n",
    "    US_origin_destination\n",
    ")\n",
    "\n",
    "test_barge(\n",
    "    'barge_origin_destination_US_US.csv',\n",
    "    CAD_origin_destination,\n",
    "    US_origin_destination\n",
    ")\n",
    "\n",
    "test_atb(\n",
    "    'atb_origin_destination_US_US.csv',\n",
    "    CAD_origin_destination,\n",
    "    US_origin_destination\n",
    ")"
   ]
  },
  {
   "cell_type": "code",
   "execution_count": 12,
   "metadata": {},
   "outputs": [],
   "source": [
    "# US - US\n",
    "test_tanker(\n",
    "    'tanker_origin_destination_US_US.csv',\n",
    "    US_origin_destination,\n",
    "    US_origin_destination\n",
    ")\n",
    "\n",
    "test_barge(\n",
    "    'barge_origin_destination_US_US.csv',\n",
    "    US_origin_destination,\n",
    "    US_origin_destination\n",
    ")\n",
    "\n",
    "test_atb(\n",
    "    'atb_origin_destination_US_US.csv',\n",
    "    US_origin_destination,\n",
    "    US_origin_destination\n",
    ")"
   ]
  },
  {
   "cell_type": "code",
   "execution_count": null,
   "metadata": {},
   "outputs": [],
   "source": [
    "# US - CAD\n",
    "test_tanker(\n",
    "    'tanker_origin_destination_US_US.csv',\n",
    "    US_origin_destination,\n",
    "    CAD_origin_destination\n",
    ")\n",
    "\n",
    "test_barge(\n",
    "    'barge_origin_destination_US_US.csv',\n",
    "    US_origin_destination,\n",
    "    CAD_origin_destination\n",
    ")\n",
    "\n",
    "test_atb(\n",
    "    'atb_origin_destination_US_US.csv',\n",
    "    US_origin_destination,\n",
    "    CAD_origin_destination\n",
    ")"
   ]
  },
  {
   "cell_type": "code",
   "execution_count": null,
   "metadata": {},
   "outputs": [],
   "source": [
    "# US - generic\n",
    "test_tanker(\n",
    "    'tanker_origin_destination_US_US.csv',\n",
    "    US_origin_destination,\n",
    "    generic_origin_destination\n",
    ")\n",
    "\n",
    "test_barge(\n",
    "    'barge_origin_destination_US_US.csv',\n",
    "    US_origin_destination,\n",
    "    generic_origin_destination\n",
    ")\n",
    "\n",
    "test_atb(\n",
    "    'atb_origin_destination_US_US.csv',\n",
    "    US_origin_destination,\n",
    "    generic_origin_destination\n",
    ")"
   ]
  },
  {
   "cell_type": "code",
   "execution_count": null,
   "metadata": {},
   "outputs": [],
   "source": [
    "# generic - US\n",
    "test_tanker(\n",
    "    'tanker_origin_destination_US_US.csv',\n",
    "    generic_origin_destination,\n",
    "    US_origin_destination\n",
    ")\n",
    "\n",
    "test_barge(\n",
    "    'barge_origin_destination_US_US.csv',\n",
    "    generic_origin_destination,\n",
    "    US_origin_destination\n",
    ")\n",
    "\n",
    "test_atb(\n",
    "    'atb_origin_destination_US_US.csv',\n",
    "    generic_origin_destination,\n",
    "    US_origin_destination\n",
    ")"
   ]
  },
  {
   "cell_type": "code",
   "execution_count": null,
   "metadata": {},
   "outputs": [],
   "source": [
    "# CAD - generic\n",
    "test_tanker(\n",
    "    'tanker_origin_destination_US_US.csv',\n",
    "    CAD_origin_destination,\n",
    "    generic_origin_destination\n",
    ")\n",
    "\n",
    "test_barge(\n",
    "    'barge_origin_destination_US_US.csv',\n",
    "    CAD_origin_destination,\n",
    "    generic_origin_destination\n",
    ")\n",
    "\n",
    "test_atb(\n",
    "    'atb_origin_destination_US_US.csv',\n",
    "    CAD_origin_destination,\n",
    "    generic_origin_destination\n",
    ")"
   ]
  },
  {
   "cell_type": "code",
   "execution_count": null,
   "metadata": {},
   "outputs": [],
   "source": [
    "# generic - CAD\n",
    "test_tanker(\n",
    "    'tanker_origin_destination_US_US.csv',\n",
    "    generic_origin_destination,\n",
    "    CAD_origin_destination\n",
    ")\n",
    "\n",
    "test_barge(\n",
    "    'barge_origin_destination_US_US.csv',\n",
    "    generic_origin_destination,\n",
    "    CAD_origin_destination\n",
    ")\n",
    "\n",
    "test_atb(\n",
    "    'atb_origin_destination_US_US.csv',\n",
    "    generic_origin_destination,\n",
    "    CAD_origin_destination\n",
    ")"
   ]
  }
 ],
 "metadata": {
  "kernelspec": {
   "display_name": "Python 3",
   "language": "python",
   "name": "python3"
  },
  "language_info": {
   "codemirror_mode": {
    "name": "ipython",
    "version": 3
   },
   "file_extension": ".py",
   "mimetype": "text/x-python",
   "name": "python",
   "nbconvert_exporter": "python",
   "pygments_lexer": "ipython3",
   "version": "3.8.3"
  }
 },
 "nbformat": 4,
 "nbformat_minor": 4
}
