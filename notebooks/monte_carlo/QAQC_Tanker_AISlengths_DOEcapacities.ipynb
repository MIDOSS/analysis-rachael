{
 "cells": [
  {
   "cell_type": "markdown",
   "id": "6d17f3b1",
   "metadata": {},
   "source": [
    "# QAQC for tanker traffic\n",
    "- vessel lengths \n",
    "- cargo capacities for < 155 m size class  "
   ]
  },
  {
   "cell_type": "code",
   "execution_count": 1,
   "id": "c152ea43",
   "metadata": {},
   "outputs": [],
   "source": [
    "# import necessary packages\n",
    "import os\n",
    "import pandas\n",
    "import numpy\n",
    "import matplotlib.pyplot as plt\n",
    "import geopandas as gpd\n",
    "from pathlib import Path\n",
    "# import function for querying DOE dataframes\n",
    "from dask import delayed\n",
    "\n",
    "# set file location and name\n",
    "doe_xls_path = Path('/data/MIDOSS/spreadsheets/MuellerTrans4-30-20.xlsx')\n",
    "fac_xls_path = Path(\n",
    "    '/home/rmueller/Projects/MIDOSS/marine_transport_data/Oil_Transfer_Facilities.xlsx'\n",
    ")\n",
    "\n",
    "# import facility locations\n",
    "facWA = pandas.read_excel(\n",
    "    fac_xls_path,\n",
    "    sheet_name = 'Washington',\n",
    "    usecols=\"B,D,J,K\"\n",
    ")\n",
    "\n",
    "# import facility locations\n",
    "facCAD = pandas.read_excel(\n",
    "    fac_xls_path,\n",
    "    sheet_name = 'British Columbia',\n",
    "    usecols=\"A\",\n",
    "    nrows=10\n",
    ")"
   ]
  },
  {
   "cell_type": "code",
   "execution_count": 2,
   "id": "a9a62fe8",
   "metadata": {},
   "outputs": [],
   "source": [
    "def concat_shp(ship_type):\n",
    "    \"\"\"\n",
    "      INPUT: \n",
    "          - ship_type [\"tanker\", \"barge\", \"atb\", etc]: MIDOSS-name for ship type (see oil_attribution.yaml for list)\n",
    "      OUTPUT: \n",
    "          - dataframe of all 2018 ship tracks for given ship_type\n",
    "      requirements: \n",
    "          This script requires being run on Salish.eoas.ubc.ca, with path to shapefiles being /data/MIDOSS/shapefiles/\n",
    "    \"\"\"\n",
    "    for months in range(1,13):\n",
    "        # set file location and name\n",
    "        shp_path = Path(f'/data/MIDOSS/shapefiles/{ship_type}_2018_{months:02d}.shp')\n",
    "        # import shapefile using geopandas\n",
    "        monthly_shp = gpd.read_file(shp_path)\n",
    "        if months == 1:\n",
    "            print(f'creating {ship_type} shapefile for 2018, starting with January data')\n",
    "            allTracks = monthly_shp\n",
    "        else:\n",
    "            print(f'Concatenating {ship_type} data from month {months}')\n",
    "            allTracks = gpd.GeoDataFrame(\n",
    "                pandas.concat([allTracks, monthly_shp])\n",
    "            )\n",
    "    return allTracks"
   ]
  },
  {
   "cell_type": "markdown",
   "id": "08a70a16",
   "metadata": {},
   "source": [
    "### Concat 2018 tanker traffic AIS"
   ]
  },
  {
   "cell_type": "code",
   "execution_count": 5,
   "id": "7a33c3d0",
   "metadata": {},
   "outputs": [
    {
     "name": "stdout",
     "output_type": "stream",
     "text": [
      "creating tanker shapefile for 2018, starting with January data\n",
      "Concatenating tanker data from month 2\n",
      "Concatenating tanker data from month 3\n",
      "Concatenating tanker data from month 4\n",
      "Concatenating tanker data from month 5\n",
      "Concatenating tanker data from month 6\n",
      "Concatenating tanker data from month 7\n",
      "Concatenating tanker data from month 8\n",
      "Concatenating tanker data from month 9\n",
      "Concatenating tanker data from month 10\n",
      "Concatenating tanker data from month 11\n",
      "Concatenating tanker data from month 12\n",
      "CPU times: user 1min 10s, sys: 1.47 s, total: 1min 11s\n",
      "Wall time: 1min 11s\n"
     ]
    }
   ],
   "source": [
    "%%time\n",
    "allTracks={} # adopted from another notebook\n",
    "ship_type = \"tanker\"\n",
    "allTracks[\"tanker\"] = concat_shp(\"tanker\")"
   ]
  },
  {
   "cell_type": "code",
   "execution_count": 6,
   "id": "1de77dba",
   "metadata": {},
   "outputs": [
    {
     "data": {
      "text/plain": [
       "42"
      ]
     },
     "execution_count": 6,
     "metadata": {},
     "output_type": "execute_result"
    }
   ],
   "source": [
    "allTracks[\"tanker\"][\"LENGTH\"].min()"
   ]
  },
  {
   "cell_type": "code",
   "execution_count": 7,
   "id": "8118eb0f",
   "metadata": {},
   "outputs": [
    {
     "data": {
      "text/plain": [
       "287"
      ]
     },
     "execution_count": 7,
     "metadata": {},
     "output_type": "execute_result"
    }
   ],
   "source": [
    "allTracks[\"tanker\"][\"LENGTH\"].max()"
   ]
  },
  {
   "cell_type": "code",
   "execution_count": 8,
   "id": "c74249b7",
   "metadata": {},
   "outputs": [
    {
     "data": {
      "text/html": [
       "<div>\n",
       "<style scoped>\n",
       "    .dataframe tbody tr th:only-of-type {\n",
       "        vertical-align: middle;\n",
       "    }\n",
       "\n",
       "    .dataframe tbody tr th {\n",
       "        vertical-align: top;\n",
       "    }\n",
       "\n",
       "    .dataframe thead th {\n",
       "        text-align: right;\n",
       "    }\n",
       "</style>\n",
       "<table border=\"1\" class=\"dataframe\">\n",
       "  <thead>\n",
       "    <tr style=\"text-align: right;\">\n",
       "      <th></th>\n",
       "      <th>MMSI_NUM</th>\n",
       "      <th>ST_DATE</th>\n",
       "      <th>EN_DATE</th>\n",
       "      <th>LENGTH</th>\n",
       "      <th>TO</th>\n",
       "      <th>FROM_</th>\n",
       "      <th>geometry</th>\n",
       "    </tr>\n",
       "  </thead>\n",
       "  <tbody>\n",
       "    <tr>\n",
       "      <th>36833</th>\n",
       "      <td>368009250.0</td>\n",
       "      <td>2018-03-09 17:26:56</td>\n",
       "      <td>2018-03-09 17:28:21</td>\n",
       "      <td>42</td>\n",
       "      <td>None</td>\n",
       "      <td>None</td>\n",
       "      <td>LINESTRING (-122.36612 47.26532, -122.36500 47...</td>\n",
       "    </tr>\n",
       "    <tr>\n",
       "      <th>36834</th>\n",
       "      <td>368009250.0</td>\n",
       "      <td>2018-03-21 14:15:29</td>\n",
       "      <td>2018-03-21 14:17:05</td>\n",
       "      <td>42</td>\n",
       "      <td>None</td>\n",
       "      <td>None</td>\n",
       "      <td>LINESTRING (-122.36500 47.26500, -122.36618 47...</td>\n",
       "    </tr>\n",
       "    <tr>\n",
       "      <th>36835</th>\n",
       "      <td>368009250.0</td>\n",
       "      <td>2018-03-21 14:17:53</td>\n",
       "      <td>2018-03-21 14:18:28</td>\n",
       "      <td>42</td>\n",
       "      <td>None</td>\n",
       "      <td>None</td>\n",
       "      <td>LINESTRING (-122.36618 47.26522, -122.36500 47...</td>\n",
       "    </tr>\n",
       "    <tr>\n",
       "      <th>36836</th>\n",
       "      <td>368009250.0</td>\n",
       "      <td>2018-03-21 14:18:28</td>\n",
       "      <td>2018-03-21 14:20:05</td>\n",
       "      <td>42</td>\n",
       "      <td>None</td>\n",
       "      <td>None</td>\n",
       "      <td>LINESTRING (-122.36500 47.26500, -122.36618 47...</td>\n",
       "    </tr>\n",
       "    <tr>\n",
       "      <th>36837</th>\n",
       "      <td>368009250.0</td>\n",
       "      <td>2018-03-21 14:20:05</td>\n",
       "      <td>2018-03-21 14:21:29</td>\n",
       "      <td>42</td>\n",
       "      <td>None</td>\n",
       "      <td>None</td>\n",
       "      <td>LINESTRING (-122.36618 47.26523, -122.36500 47...</td>\n",
       "    </tr>\n",
       "    <tr>\n",
       "      <th>...</th>\n",
       "      <td>...</td>\n",
       "      <td>...</td>\n",
       "      <td>...</td>\n",
       "      <td>...</td>\n",
       "      <td>...</td>\n",
       "      <td>...</td>\n",
       "      <td>...</td>\n",
       "    </tr>\n",
       "    <tr>\n",
       "      <th>76024</th>\n",
       "      <td>368009250.0</td>\n",
       "      <td>2018-12-28 23:39:16</td>\n",
       "      <td>2018-12-28 23:39:24</td>\n",
       "      <td>42</td>\n",
       "      <td>Kinder Morgan Liquids Terminal - Harbor Island</td>\n",
       "      <td>Kinder Morgan Liquids Terminal - Harbor Island</td>\n",
       "      <td>LINESTRING (-122.35268 47.58804, -122.35274 47...</td>\n",
       "    </tr>\n",
       "    <tr>\n",
       "      <th>76025</th>\n",
       "      <td>368009250.0</td>\n",
       "      <td>2018-12-28 23:39:24</td>\n",
       "      <td>2018-12-28 23:40:51</td>\n",
       "      <td>42</td>\n",
       "      <td>Kinder Morgan Liquids Terminal - Harbor Island</td>\n",
       "      <td>Kinder Morgan Liquids Terminal - Harbor Island</td>\n",
       "      <td>LINESTRING (-122.35274 47.58802, -122.35167 47...</td>\n",
       "    </tr>\n",
       "    <tr>\n",
       "      <th>76026</th>\n",
       "      <td>368009250.0</td>\n",
       "      <td>2018-12-31 16:11:35</td>\n",
       "      <td>2018-12-31 16:16:36</td>\n",
       "      <td>42</td>\n",
       "      <td>None</td>\n",
       "      <td>None</td>\n",
       "      <td>LINESTRING (-122.35167 47.58667, -122.35238 47...</td>\n",
       "    </tr>\n",
       "    <tr>\n",
       "      <th>76027</th>\n",
       "      <td>368009250.0</td>\n",
       "      <td>2018-12-31 16:16:36</td>\n",
       "      <td>2018-12-31 16:17:35</td>\n",
       "      <td>42</td>\n",
       "      <td>None</td>\n",
       "      <td>None</td>\n",
       "      <td>LINESTRING (-122.35238 47.58760, -122.35167 47...</td>\n",
       "    </tr>\n",
       "    <tr>\n",
       "      <th>76028</th>\n",
       "      <td>368009250.0</td>\n",
       "      <td>2018-12-31 18:44:35</td>\n",
       "      <td>2018-12-31 18:46:33</td>\n",
       "      <td>42</td>\n",
       "      <td>None</td>\n",
       "      <td>None</td>\n",
       "      <td>LINESTRING (-122.35167 47.58667, -122.35235 47...</td>\n",
       "    </tr>\n",
       "  </tbody>\n",
       "</table>\n",
       "<p>19025 rows × 7 columns</p>\n",
       "</div>"
      ],
      "text/plain": [
       "          MMSI_NUM              ST_DATE              EN_DATE  LENGTH  \\\n",
       "36833  368009250.0  2018-03-09 17:26:56  2018-03-09 17:28:21      42   \n",
       "36834  368009250.0  2018-03-21 14:15:29  2018-03-21 14:17:05      42   \n",
       "36835  368009250.0  2018-03-21 14:17:53  2018-03-21 14:18:28      42   \n",
       "36836  368009250.0  2018-03-21 14:18:28  2018-03-21 14:20:05      42   \n",
       "36837  368009250.0  2018-03-21 14:20:05  2018-03-21 14:21:29      42   \n",
       "...            ...                  ...                  ...     ...   \n",
       "76024  368009250.0  2018-12-28 23:39:16  2018-12-28 23:39:24      42   \n",
       "76025  368009250.0  2018-12-28 23:39:24  2018-12-28 23:40:51      42   \n",
       "76026  368009250.0  2018-12-31 16:11:35  2018-12-31 16:16:36      42   \n",
       "76027  368009250.0  2018-12-31 16:16:36  2018-12-31 16:17:35      42   \n",
       "76028  368009250.0  2018-12-31 18:44:35  2018-12-31 18:46:33      42   \n",
       "\n",
       "                                                   TO  \\\n",
       "36833                                            None   \n",
       "36834                                            None   \n",
       "36835                                            None   \n",
       "36836                                            None   \n",
       "36837                                            None   \n",
       "...                                               ...   \n",
       "76024  Kinder Morgan Liquids Terminal - Harbor Island   \n",
       "76025  Kinder Morgan Liquids Terminal - Harbor Island   \n",
       "76026                                            None   \n",
       "76027                                            None   \n",
       "76028                                            None   \n",
       "\n",
       "                                                FROM_  \\\n",
       "36833                                            None   \n",
       "36834                                            None   \n",
       "36835                                            None   \n",
       "36836                                            None   \n",
       "36837                                            None   \n",
       "...                                               ...   \n",
       "76024  Kinder Morgan Liquids Terminal - Harbor Island   \n",
       "76025  Kinder Morgan Liquids Terminal - Harbor Island   \n",
       "76026                                            None   \n",
       "76027                                            None   \n",
       "76028                                            None   \n",
       "\n",
       "                                                geometry  \n",
       "36833  LINESTRING (-122.36612 47.26532, -122.36500 47...  \n",
       "36834  LINESTRING (-122.36500 47.26500, -122.36618 47...  \n",
       "36835  LINESTRING (-122.36618 47.26522, -122.36500 47...  \n",
       "36836  LINESTRING (-122.36500 47.26500, -122.36618 47...  \n",
       "36837  LINESTRING (-122.36618 47.26523, -122.36500 47...  \n",
       "...                                                  ...  \n",
       "76024  LINESTRING (-122.35268 47.58804, -122.35274 47...  \n",
       "76025  LINESTRING (-122.35274 47.58802, -122.35167 47...  \n",
       "76026  LINESTRING (-122.35167 47.58667, -122.35238 47...  \n",
       "76027  LINESTRING (-122.35238 47.58760, -122.35167 47...  \n",
       "76028  LINESTRING (-122.35167 47.58667, -122.35235 47...  \n",
       "\n",
       "[19025 rows x 7 columns]"
      ]
     },
     "execution_count": 8,
     "metadata": {},
     "output_type": "execute_result"
    }
   ],
   "source": [
    "allTracks[\"tanker\"].loc[\n",
    "    allTracks[\"tanker\"][\"LENGTH\"]==42\n",
    "]"
   ]
  },
  {
   "cell_type": "markdown",
   "id": "924070e2",
   "metadata": {},
   "source": [
    "### MMSI 368009250 is for GLOBAL PROVIDER\n",
    "- Check max fuel transfers to get capacity estimate for this size class (42 feet)"
   ]
  },
  {
   "cell_type": "code",
   "execution_count": 9,
   "id": "90b41b53",
   "metadata": {},
   "outputs": [],
   "source": [
    "from monte_carlo_utils import get_DOE_df\n",
    "DOEdf = get_DOE_df(\n",
    "    doe_xls_path, \n",
    "    fac_xls_path,\n",
    "    group = 'no'\n",
    ")"
   ]
  },
  {
   "cell_type": "code",
   "execution_count": 10,
   "id": "b6709338",
   "metadata": {},
   "outputs": [
    {
     "data": {
      "text/plain": [
       "155400.0"
      ]
     },
     "execution_count": 10,
     "metadata": {},
     "output_type": "execute_result"
    }
   ],
   "source": [
    "GP_df = DOEdf.loc[\n",
    "    DOEdf.Receiver == 'GLOBAL PROVIDER'\n",
    "]\n",
    "GP_df.TransferQtyInGallon.max()"
   ]
  },
  {
   "cell_type": "markdown",
   "id": "6559b13f",
   "metadata": {},
   "source": [
    "### Cargo capacity for Global Provider ~ 155400 Gallons"
   ]
  },
  {
   "cell_type": "code",
   "execution_count": 11,
   "id": "0e8f8b56",
   "metadata": {},
   "outputs": [
    {
     "data": {
      "text/html": [
       "<div>\n",
       "<style scoped>\n",
       "    .dataframe tbody tr th:only-of-type {\n",
       "        vertical-align: middle;\n",
       "    }\n",
       "\n",
       "    .dataframe tbody tr th {\n",
       "        vertical-align: top;\n",
       "    }\n",
       "\n",
       "    .dataframe thead th {\n",
       "        text-align: right;\n",
       "    }\n",
       "</style>\n",
       "<table border=\"1\" class=\"dataframe\">\n",
       "  <thead>\n",
       "    <tr style=\"text-align: right;\">\n",
       "      <th></th>\n",
       "      <th>LENGTH</th>\n",
       "      <th>MMSI_NUM</th>\n",
       "    </tr>\n",
       "  </thead>\n",
       "  <tbody>\n",
       "    <tr>\n",
       "      <th>0</th>\n",
       "      <td>144</td>\n",
       "      <td>47377</td>\n",
       "    </tr>\n",
       "    <tr>\n",
       "      <th>1</th>\n",
       "      <td>153</td>\n",
       "      <td>20356</td>\n",
       "    </tr>\n",
       "    <tr>\n",
       "      <th>2</th>\n",
       "      <td>42</td>\n",
       "      <td>19025</td>\n",
       "    </tr>\n",
       "    <tr>\n",
       "      <th>3</th>\n",
       "      <td>146</td>\n",
       "      <td>11927</td>\n",
       "    </tr>\n",
       "    <tr>\n",
       "      <th>4</th>\n",
       "      <td>152</td>\n",
       "      <td>6652</td>\n",
       "    </tr>\n",
       "    <tr>\n",
       "      <th>5</th>\n",
       "      <td>149</td>\n",
       "      <td>6040</td>\n",
       "    </tr>\n",
       "    <tr>\n",
       "      <th>6</th>\n",
       "      <td>91</td>\n",
       "      <td>4715</td>\n",
       "    </tr>\n",
       "    <tr>\n",
       "      <th>7</th>\n",
       "      <td>145</td>\n",
       "      <td>4299</td>\n",
       "    </tr>\n",
       "    <tr>\n",
       "      <th>8</th>\n",
       "      <td>147</td>\n",
       "      <td>2695</td>\n",
       "    </tr>\n",
       "    <tr>\n",
       "      <th>9</th>\n",
       "      <td>141</td>\n",
       "      <td>2408</td>\n",
       "    </tr>\n",
       "    <tr>\n",
       "      <th>10</th>\n",
       "      <td>133</td>\n",
       "      <td>1869</td>\n",
       "    </tr>\n",
       "    <tr>\n",
       "      <th>11</th>\n",
       "      <td>120</td>\n",
       "      <td>1726</td>\n",
       "    </tr>\n",
       "    <tr>\n",
       "      <th>12</th>\n",
       "      <td>127</td>\n",
       "      <td>1582</td>\n",
       "    </tr>\n",
       "    <tr>\n",
       "      <th>13</th>\n",
       "      <td>89</td>\n",
       "      <td>92</td>\n",
       "    </tr>\n",
       "  </tbody>\n",
       "</table>\n",
       "</div>"
      ],
      "text/plain": [
       "    LENGTH  MMSI_NUM\n",
       "0      144     47377\n",
       "1      153     20356\n",
       "2       42     19025\n",
       "3      146     11927\n",
       "4      152      6652\n",
       "5      149      6040\n",
       "6       91      4715\n",
       "7      145      4299\n",
       "8      147      2695\n",
       "9      141      2408\n",
       "10     133      1869\n",
       "11     120      1726\n",
       "12     127      1582\n",
       "13      89        92"
      ]
     },
     "execution_count": 11,
     "metadata": {},
     "output_type": "execute_result"
    }
   ],
   "source": [
    "sm_tankers = allTracks[\"tanker\"].loc[\n",
    "    allTracks[\"tanker\"][\"LENGTH\"]<155,\n",
    "    ['LENGTH','MMSI_NUM']\n",
    "].groupby('LENGTH').count().sort_values(by='MMSI_NUM',ascending=False).reset_index()\n",
    "sm_tankers"
   ]
  },
  {
   "cell_type": "code",
   "execution_count": 12,
   "id": "9db0daaa",
   "metadata": {},
   "outputs": [
    {
     "data": {
      "text/plain": [
       "Text(0.5, 0, 'Tanker length (meters)')"
      ]
     },
     "execution_count": 12,
     "metadata": {},
     "output_type": "execute_result"
    },
    {
     "data": {
      "image/png": "[encoded data removed]",
      "text/plain": [
       "<Figure size 432x288 with 1 Axes>"
      ]
     },
     "metadata": {
      "needs_background": "light"
     },
     "output_type": "display_data"
    }
   ],
   "source": [
    "hist=sm_tankers.LENGTH.hist(weights=sm_tankers.MMSI_NUM, bins=8)\n",
    "hist.set_ylabel('AIS ship track count')\n",
    "hist.set_xlabel('Tanker length (meters)')"
   ]
  },
  {
   "cell_type": "markdown",
   "id": "73d61266",
   "metadata": {},
   "source": [
    "#### create histogram for all tanker lenghts and mmsi"
   ]
  },
  {
   "cell_type": "code",
   "execution_count": 13,
   "id": "4f576b5f",
   "metadata": {},
   "outputs": [
    {
     "data": {
      "text/plain": [
       "Text(0.5, 0, 'Tanker length (meters)')"
      ]
     },
     "execution_count": 13,
     "metadata": {},
     "output_type": "execute_result"
    },
    {
     "data": {
      "image/png": "[encoded data removed]",
      "text/plain": [
       "<Figure size 432x288 with 1 Axes>"
      ]
     },
     "metadata": {
      "needs_background": "light"
     },
     "output_type": "display_data"
    }
   ],
   "source": [
    "all_tankers = allTracks[\"tanker\"][['LENGTH','MMSI_NUM']].groupby('LENGTH').count().sort_values(by='MMSI_NUM',ascending=False).reset_index()\n",
    "hist=all_tankers.LENGTH.hist(weights=all_tankers.MMSI_NUM, bins=6)\n",
    "hist.set_ylabel('AIS ship track count')\n",
    "hist.set_xlabel('Tanker length (meters)')"
   ]
  },
  {
   "cell_type": "code",
   "execution_count": 14,
   "id": "75292d53",
   "metadata": {},
   "outputs": [
    {
     "data": {
      "text/html": [
       "<div>\n",
       "<style scoped>\n",
       "    .dataframe tbody tr th:only-of-type {\n",
       "        vertical-align: middle;\n",
       "    }\n",
       "\n",
       "    .dataframe tbody tr th {\n",
       "        vertical-align: top;\n",
       "    }\n",
       "\n",
       "    .dataframe thead th {\n",
       "        text-align: right;\n",
       "    }\n",
       "</style>\n",
       "<table border=\"1\" class=\"dataframe\">\n",
       "  <thead>\n",
       "    <tr style=\"text-align: right;\">\n",
       "      <th></th>\n",
       "      <th>LENGTH</th>\n",
       "      <th>MMSI_NUM</th>\n",
       "    </tr>\n",
       "  </thead>\n",
       "  <tbody>\n",
       "    <tr>\n",
       "      <th>0</th>\n",
       "      <td>183</td>\n",
       "      <td>319343</td>\n",
       "    </tr>\n",
       "    <tr>\n",
       "      <th>1</th>\n",
       "      <td>287</td>\n",
       "      <td>78666</td>\n",
       "    </tr>\n",
       "    <tr>\n",
       "      <th>2</th>\n",
       "      <td>273</td>\n",
       "      <td>64147</td>\n",
       "    </tr>\n",
       "    <tr>\n",
       "      <th>3</th>\n",
       "      <td>182</td>\n",
       "      <td>59741</td>\n",
       "    </tr>\n",
       "    <tr>\n",
       "      <th>4</th>\n",
       "      <td>144</td>\n",
       "      <td>47377</td>\n",
       "    </tr>\n",
       "    <tr>\n",
       "      <th>...</th>\n",
       "      <td>...</td>\n",
       "      <td>...</td>\n",
       "    </tr>\n",
       "    <tr>\n",
       "      <th>59</th>\n",
       "      <td>177</td>\n",
       "      <td>808</td>\n",
       "    </tr>\n",
       "    <tr>\n",
       "      <th>60</th>\n",
       "      <td>232</td>\n",
       "      <td>782</td>\n",
       "    </tr>\n",
       "    <tr>\n",
       "      <th>61</th>\n",
       "      <td>252</td>\n",
       "      <td>644</td>\n",
       "    </tr>\n",
       "    <tr>\n",
       "      <th>62</th>\n",
       "      <td>157</td>\n",
       "      <td>624</td>\n",
       "    </tr>\n",
       "    <tr>\n",
       "      <th>63</th>\n",
       "      <td>89</td>\n",
       "      <td>92</td>\n",
       "    </tr>\n",
       "  </tbody>\n",
       "</table>\n",
       "<p>64 rows × 2 columns</p>\n",
       "</div>"
      ],
      "text/plain": [
       "    LENGTH  MMSI_NUM\n",
       "0      183    319343\n",
       "1      287     78666\n",
       "2      273     64147\n",
       "3      182     59741\n",
       "4      144     47377\n",
       "..     ...       ...\n",
       "59     177       808\n",
       "60     232       782\n",
       "61     252       644\n",
       "62     157       624\n",
       "63      89        92\n",
       "\n",
       "[64 rows x 2 columns]"
      ]
     },
     "execution_count": 14,
     "metadata": {},
     "output_type": "execute_result"
    }
   ],
   "source": [
    "all_tankers"
   ]
  },
  {
   "cell_type": "code",
   "execution_count": 15,
   "id": "7ba6da5a",
   "metadata": {},
   "outputs": [
    {
     "data": {
      "text/html": [
       "<div>\n",
       "<style scoped>\n",
       "    .dataframe tbody tr th:only-of-type {\n",
       "        vertical-align: middle;\n",
       "    }\n",
       "\n",
       "    .dataframe tbody tr th {\n",
       "        vertical-align: top;\n",
       "    }\n",
       "\n",
       "    .dataframe thead th {\n",
       "        text-align: right;\n",
       "    }\n",
       "</style>\n",
       "<table border=\"1\" class=\"dataframe\">\n",
       "  <thead>\n",
       "    <tr style=\"text-align: right;\">\n",
       "      <th></th>\n",
       "      <th>LENGTH</th>\n",
       "      <th>MMSI_NUM</th>\n",
       "    </tr>\n",
       "  </thead>\n",
       "  <tbody>\n",
       "    <tr>\n",
       "      <th>0</th>\n",
       "      <td>232</td>\n",
       "      <td>636091469.0</td>\n",
       "    </tr>\n",
       "    <tr>\n",
       "      <th>1</th>\n",
       "      <td>250</td>\n",
       "      <td>636018579.0</td>\n",
       "    </tr>\n",
       "    <tr>\n",
       "      <th>2</th>\n",
       "      <td>183</td>\n",
       "      <td>636018092.0</td>\n",
       "    </tr>\n",
       "    <tr>\n",
       "      <th>3</th>\n",
       "      <td>244</td>\n",
       "      <td>636017858.0</td>\n",
       "    </tr>\n",
       "    <tr>\n",
       "      <th>4</th>\n",
       "      <td>277</td>\n",
       "      <td>636017061.0</td>\n",
       "    </tr>\n",
       "    <tr>\n",
       "      <th>...</th>\n",
       "      <td>...</td>\n",
       "      <td>...</td>\n",
       "    </tr>\n",
       "    <tr>\n",
       "      <th>59</th>\n",
       "      <td>275</td>\n",
       "      <td>240546000.0</td>\n",
       "    </tr>\n",
       "    <tr>\n",
       "      <th>60</th>\n",
       "      <td>195</td>\n",
       "      <td>238294000.0</td>\n",
       "    </tr>\n",
       "    <tr>\n",
       "      <th>61</th>\n",
       "      <td>252</td>\n",
       "      <td>232156000.0</td>\n",
       "    </tr>\n",
       "    <tr>\n",
       "      <th>62</th>\n",
       "      <td>176</td>\n",
       "      <td>219124000.0</td>\n",
       "    </tr>\n",
       "    <tr>\n",
       "      <th>63</th>\n",
       "      <td>120</td>\n",
       "      <td>212744000.0</td>\n",
       "    </tr>\n",
       "  </tbody>\n",
       "</table>\n",
       "<p>64 rows × 2 columns</p>\n",
       "</div>"
      ],
      "text/plain": [
       "    LENGTH     MMSI_NUM\n",
       "0      232  636091469.0\n",
       "1      250  636018579.0\n",
       "2      183  636018092.0\n",
       "3      244  636017858.0\n",
       "4      277  636017061.0\n",
       "..     ...          ...\n",
       "59     275  240546000.0\n",
       "60     195  238294000.0\n",
       "61     252  232156000.0\n",
       "62     176  219124000.0\n",
       "63     120  212744000.0\n",
       "\n",
       "[64 rows x 2 columns]"
      ]
     },
     "execution_count": 15,
     "metadata": {},
     "output_type": "execute_result"
    }
   ],
   "source": [
    "allTracks[\"tanker\"][['LENGTH','MMSI_NUM']].groupby('LENGTH').last().sort_values(by='MMSI_NUM',ascending=False).reset_index()"
   ]
  },
  {
   "cell_type": "markdown",
   "id": "cc793e4b",
   "metadata": {},
   "source": [
    "#### Get representative MMSI for tanker lengths to look up in DOE database"
   ]
  },
  {
   "cell_type": "code",
   "execution_count": 16,
   "id": "6dcbe327",
   "metadata": {},
   "outputs": [
    {
     "data": {
      "text/html": [
       "<div>\n",
       "<style scoped>\n",
       "    .dataframe tbody tr th:only-of-type {\n",
       "        vertical-align: middle;\n",
       "    }\n",
       "\n",
       "    .dataframe tbody tr th {\n",
       "        vertical-align: top;\n",
       "    }\n",
       "\n",
       "    .dataframe thead th {\n",
       "        text-align: right;\n",
       "    }\n",
       "</style>\n",
       "<table border=\"1\" class=\"dataframe\">\n",
       "  <thead>\n",
       "    <tr style=\"text-align: right;\">\n",
       "      <th></th>\n",
       "      <th>MMSI_NUM</th>\n",
       "    </tr>\n",
       "    <tr>\n",
       "      <th>LENGTH</th>\n",
       "      <th></th>\n",
       "    </tr>\n",
       "  </thead>\n",
       "  <tbody>\n",
       "    <tr>\n",
       "      <th>42</th>\n",
       "      <td>368009250.0</td>\n",
       "    </tr>\n",
       "    <tr>\n",
       "      <th>89</th>\n",
       "      <td>316041640.0</td>\n",
       "    </tr>\n",
       "    <tr>\n",
       "      <th>91</th>\n",
       "      <td>316014610.0</td>\n",
       "    </tr>\n",
       "    <tr>\n",
       "      <th>120</th>\n",
       "      <td>212744000.0</td>\n",
       "    </tr>\n",
       "    <tr>\n",
       "      <th>127</th>\n",
       "      <td>538006828.0</td>\n",
       "    </tr>\n",
       "    <tr>\n",
       "      <th>133</th>\n",
       "      <td>538005277.0</td>\n",
       "    </tr>\n",
       "    <tr>\n",
       "      <th>141</th>\n",
       "      <td>371823000.0</td>\n",
       "    </tr>\n",
       "    <tr>\n",
       "      <th>144</th>\n",
       "      <td>355320000.0</td>\n",
       "    </tr>\n",
       "    <tr>\n",
       "      <th>145</th>\n",
       "      <td>477173600.0</td>\n",
       "    </tr>\n",
       "    <tr>\n",
       "      <th>146</th>\n",
       "      <td>477636500.0</td>\n",
       "    </tr>\n",
       "    <tr>\n",
       "      <th>147</th>\n",
       "      <td>351456000.0</td>\n",
       "    </tr>\n",
       "    <tr>\n",
       "      <th>149</th>\n",
       "      <td>357299000.0</td>\n",
       "    </tr>\n",
       "    <tr>\n",
       "      <th>152</th>\n",
       "      <td>538004002.0</td>\n",
       "    </tr>\n",
       "    <tr>\n",
       "      <th>153</th>\n",
       "      <td>538006893.0</td>\n",
       "    </tr>\n",
       "  </tbody>\n",
       "</table>\n",
       "</div>"
      ],
      "text/plain": [
       "           MMSI_NUM\n",
       "LENGTH             \n",
       "42      368009250.0\n",
       "89      316041640.0\n",
       "91      316014610.0\n",
       "120     212744000.0\n",
       "127     538006828.0\n",
       "133     538005277.0\n",
       "141     371823000.0\n",
       "144     355320000.0\n",
       "145     477173600.0\n",
       "146     477636500.0\n",
       "147     351456000.0\n",
       "149     357299000.0\n",
       "152     538004002.0\n",
       "153     538006893.0"
      ]
     },
     "execution_count": 16,
     "metadata": {},
     "output_type": "execute_result"
    }
   ],
   "source": [
    "allTracks[\"tanker\"].loc[\n",
    "    allTracks[\"tanker\"][\"LENGTH\"]<155,\n",
    "    ['LENGTH','MMSI_NUM']\n",
    "].groupby('LENGTH').first()"
   ]
  },
  {
   "cell_type": "code",
   "execution_count": 17,
   "id": "52003880",
   "metadata": {},
   "outputs": [
    {
     "data": {
      "text/plain": [
       "3990000.0"
      ]
     },
     "execution_count": 17,
     "metadata": {},
     "output_type": "execute_result"
    }
   ],
   "source": [
    "# MMSI 355320000.0 => KIRKEHOLMEN\n",
    "K_df = DOEdf.loc[\n",
    "    DOEdf.Receiver == 'KIRKEHOLMEN'\n",
    "]\n",
    "K_df.TransferQtyInGallon.max()"
   ]
  },
  {
   "cell_type": "markdown",
   "id": "73d0a504",
   "metadata": {},
   "source": [
    "### max transfer to Kirkeholmen is 15,103,793.02 liters"
   ]
  },
  {
   "cell_type": "code",
   "execution_count": 18,
   "id": "fc8b38c0",
   "metadata": {},
   "outputs": [],
   "source": [
    "tanker_list = DOEdf.loc[\n",
    "    DOEdf.ReceiverTypeDescription == 'TANK SHIP',\n",
    "    ['Receiver','ReceiverTypeDescription']\n",
    "].groupby('Receiver').count().sort_values(by='ReceiverTypeDescription', ascending=False).reset_index()"
   ]
  },
  {
   "cell_type": "code",
   "execution_count": 19,
   "id": "7896c77d",
   "metadata": {},
   "outputs": [
    {
     "data": {
      "text/html": [
       "<div>\n",
       "<style scoped>\n",
       "    .dataframe tbody tr th:only-of-type {\n",
       "        vertical-align: middle;\n",
       "    }\n",
       "\n",
       "    .dataframe tbody tr th {\n",
       "        vertical-align: top;\n",
       "    }\n",
       "\n",
       "    .dataframe thead th {\n",
       "        text-align: right;\n",
       "    }\n",
       "</style>\n",
       "<table border=\"1\" class=\"dataframe\">\n",
       "  <thead>\n",
       "    <tr style=\"text-align: right;\">\n",
       "      <th></th>\n",
       "      <th>Receiver</th>\n",
       "      <th>ReceiverTypeDescription</th>\n",
       "    </tr>\n",
       "  </thead>\n",
       "  <tbody>\n",
       "    <tr>\n",
       "      <th>0</th>\n",
       "      <td>KIRKEHOLMEN</td>\n",
       "      <td>91</td>\n",
       "    </tr>\n",
       "    <tr>\n",
       "      <th>1</th>\n",
       "      <td>OVERSEAS LOS ANGELES</td>\n",
       "      <td>76</td>\n",
       "    </tr>\n",
       "    <tr>\n",
       "      <th>2</th>\n",
       "      <td>PELICAN STATE</td>\n",
       "      <td>73</td>\n",
       "    </tr>\n",
       "    <tr>\n",
       "      <th>3</th>\n",
       "      <td>GLOBAL PROVIDER</td>\n",
       "      <td>37</td>\n",
       "    </tr>\n",
       "    <tr>\n",
       "      <th>4</th>\n",
       "      <td>AMERICAN FREEDOM</td>\n",
       "      <td>28</td>\n",
       "    </tr>\n",
       "    <tr>\n",
       "      <th>...</th>\n",
       "      <td>...</td>\n",
       "      <td>...</td>\n",
       "    </tr>\n",
       "    <tr>\n",
       "      <th>118</th>\n",
       "      <td>CHEMBULK WESTPORT</td>\n",
       "      <td>1</td>\n",
       "    </tr>\n",
       "    <tr>\n",
       "      <th>119</th>\n",
       "      <td>POMER</td>\n",
       "      <td>1</td>\n",
       "    </tr>\n",
       "    <tr>\n",
       "      <th>120</th>\n",
       "      <td>RS AURORA</td>\n",
       "      <td>1</td>\n",
       "    </tr>\n",
       "    <tr>\n",
       "      <th>121</th>\n",
       "      <td>BRITISH CHIEF</td>\n",
       "      <td>1</td>\n",
       "    </tr>\n",
       "    <tr>\n",
       "      <th>122</th>\n",
       "      <td>SAINT NICHOLAS</td>\n",
       "      <td>1</td>\n",
       "    </tr>\n",
       "  </tbody>\n",
       "</table>\n",
       "<p>123 rows × 2 columns</p>\n",
       "</div>"
      ],
      "text/plain": [
       "                 Receiver  ReceiverTypeDescription\n",
       "0             KIRKEHOLMEN                       91\n",
       "1    OVERSEAS LOS ANGELES                       76\n",
       "2           PELICAN STATE                       73\n",
       "3         GLOBAL PROVIDER                       37\n",
       "4        AMERICAN FREEDOM                       28\n",
       "..                    ...                      ...\n",
       "118     CHEMBULK WESTPORT                        1\n",
       "119                 POMER                        1\n",
       "120             RS AURORA                        1\n",
       "121         BRITISH CHIEF                        1\n",
       "122        SAINT NICHOLAS                        1\n",
       "\n",
       "[123 rows x 2 columns]"
      ]
     },
     "execution_count": 19,
     "metadata": {},
     "output_type": "execute_result"
    }
   ],
   "source": [
    "tanker_list"
   ]
  },
  {
   "cell_type": "code",
   "execution_count": 20,
   "id": "9e83ab2f",
   "metadata": {},
   "outputs": [
    {
     "data": {
      "text/plain": [
       "TransferQtyInGallon    11130000.0\n",
       "dtype: float64"
      ]
     },
     "execution_count": 20,
     "metadata": {},
     "output_type": "execute_result"
    }
   ],
   "source": [
    "DOEdf.loc[\n",
    "    DOEdf.Receiver == 'OVERSEAS LOS ANGELES',\n",
    "    ['TransferQtyInGallon']\n",
    "].max()"
   ]
  },
  {
   "cell_type": "code",
   "execution_count": 21,
   "id": "8977ec10",
   "metadata": {},
   "outputs": [
    {
     "data": {
      "text/plain": [
       "nan"
      ]
     },
     "execution_count": 21,
     "metadata": {},
     "output_type": "execute_result"
    }
   ],
   "source": [
    "sf_df = DOEdf.loc[\n",
    "    DOEdf.Receiver == 'SEAFRIEND'\n",
    "]\n",
    "sf_df.TransferQtyInGallon.max()"
   ]
  },
  {
   "cell_type": "code",
   "execution_count": null,
   "id": "52d4d157",
   "metadata": {},
   "outputs": [],
   "source": []
  }
 ],
 "metadata": {
  "kernelspec": {
   "display_name": "Python 3 (ipykernel)",
   "language": "python",
   "name": "python3"
  },
  "language_info": {
   "codemirror_mode": {
    "name": "ipython",
    "version": 3
   },
   "file_extension": ".py",
   "mimetype": "text/x-python",
   "name": "python",
   "nbconvert_exporter": "python",
   "pygments_lexer": "ipython3",
   "version": "3.9.6"
  }
 },
 "nbformat": 4,
 "nbformat_minor": 5
}
