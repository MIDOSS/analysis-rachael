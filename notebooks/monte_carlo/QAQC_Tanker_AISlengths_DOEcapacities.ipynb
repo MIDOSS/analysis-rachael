{
 "cells": [
  {
   "cell_type": "markdown",
   "id": "6584e1c8",
   "metadata": {},
   "source": [
    "# QAQC for tanker traffic\n",
    "- vessel lengths \n",
    "- cargo capacities for < 155 m size class  "
   ]
  },
  {
   "cell_type": "code",
   "execution_count": 1,
   "id": "3f815a18",
   "metadata": {},
   "outputs": [],
   "source": [
    "# import necessary packages\n",
    "import os\n",
    "import pandas\n",
    "import numpy\n",
    "import matplotlib.pyplot as plt\n",
    "import geopandas as gpd\n",
    "from pathlib import Path\n",
    "# import function for querying DOE dataframes\n",
    "from dask import delayed\n",
    "\n",
    "# set file location and name\n",
    "doe_xls_path = Path('/data/MIDOSS/spreadsheets/MuellerTrans4-30-20.xlsx')\n",
    "fac_xls_path = Path(\n",
    "    '/home/rmueller/Projects/MIDOSS/marine_transport_data/Oil_Transfer_Facilities.xlsx'\n",
    ")\n",
    "\n",
    "# import facility locations\n",
    "facWA = pandas.read_excel(\n",
    "    fac_xls_path,\n",
    "    sheet_name = 'Washington',\n",
    "    usecols=\"B,D,J,K\"\n",
    ")\n",
    "\n",
    "# import facility locations\n",
    "facCAD = pandas.read_excel(\n",
    "    fac_xls_path,\n",
    "    sheet_name = 'British Columbia',\n",
    "    usecols=\"A\",\n",
    "    nrows=10\n",
    ")"
   ]
  },
  {
   "cell_type": "code",
   "execution_count": 2,
   "id": "437ac8f2",
   "metadata": {},
   "outputs": [],
   "source": [
    "def concat_shp(ship_type):\n",
    "    \"\"\"\n",
    "      INPUT: \n",
    "          - ship_type [\"tanker\", \"barge\", \"atb\", etc]: MIDOSS-name for ship type (see oil_attribution.yaml for list)\n",
    "      OUTPUT: \n",
    "          - dataframe of all 2018 ship tracks for given ship_type\n",
    "      requirements: \n",
    "          This script requires being run on Salish.eoas.ubc.ca, with path to shapefiles being /data/MIDOSS/shapefiles/\n",
    "    \"\"\"\n",
    "    for months in range(1,13):\n",
    "        # set file location and name\n",
    "        shp_path = Path(f'/data/MIDOSS/shapefiles/{ship_type}_2018_{months:02d}.shp')\n",
    "        # import shapefile using geopandas\n",
    "        monthly_shp = gpd.read_file(shp_path)\n",
    "        if months == 1:\n",
    "            print(f'creating {ship_type} shapefile for 2018, starting with January data')\n",
    "            allTracks = monthly_shp\n",
    "        else:\n",
    "            print(f'Concatenating {ship_type} data from month {months}')\n",
    "            allTracks = gpd.GeoDataFrame(\n",
    "                pandas.concat([allTracks, monthly_shp])\n",
    "            )\n",
    "    return allTracks"
   ]
  },
  {
   "cell_type": "markdown",
   "id": "a643b64e",
   "metadata": {},
   "source": [
    "### Concat 2018 tanker traffic AIS"
   ]
  },
  {
   "cell_type": "code",
   "execution_count": 3,
   "id": "36e8a634",
   "metadata": {},
   "outputs": [
    {
     "name": "stdout",
     "output_type": "stream",
     "text": [
      "creating tanker shapefile for 2018, starting with January data\n",
      "Concatenating tanker data from month 2\n",
      "Concatenating tanker data from month 3\n",
      "Concatenating tanker data from month 4\n",
      "Concatenating tanker data from month 5\n",
      "Concatenating tanker data from month 6\n",
      "Concatenating tanker data from month 7\n",
      "Concatenating tanker data from month 8\n",
      "Concatenating tanker data from month 9\n",
      "Concatenating tanker data from month 10\n",
      "Concatenating tanker data from month 11\n",
      "Concatenating tanker data from month 12\n",
      "CPU times: user 1min 9s, sys: 1.62 s, total: 1min 11s\n",
      "Wall time: 1min 11s\n"
     ]
    }
   ],
   "source": [
    "%%time\n",
    "allTracks={} # adopted from another notebook\n",
    "ship_type = \"tanker\"\n",
    "allTracks[\"tanker\"] = concat_shp(\"tanker\")"
   ]
  },
  {
   "cell_type": "code",
   "execution_count": 4,
   "id": "32d9a277",
   "metadata": {},
   "outputs": [],
   "source": [
    "# This is needed for later one, when I use enumerate(allTracks[\"tanker\"][\"LENGTH\"])\n",
    "# to bin MMSI and vessel lengths according to our criteria for different tanker lengths\n",
    "allTracks[\"tanker\"] = allTracks[\"tanker\"].reset_index(drop=True)"
   ]
  },
  {
   "cell_type": "code",
   "execution_count": 5,
   "id": "95948e16",
   "metadata": {},
   "outputs": [
    {
     "data": {
      "text/plain": [
       "42"
      ]
     },
     "execution_count": 5,
     "metadata": {},
     "output_type": "execute_result"
    }
   ],
   "source": [
    "allTracks[\"tanker\"][\"LENGTH\"].min()"
   ]
  },
  {
   "cell_type": "code",
   "execution_count": 6,
   "id": "3d15bb4b",
   "metadata": {},
   "outputs": [
    {
     "data": {
      "text/plain": [
       "287"
      ]
     },
     "execution_count": 6,
     "metadata": {},
     "output_type": "execute_result"
    }
   ],
   "source": [
    "allTracks[\"tanker\"][\"LENGTH\"].max()"
   ]
  },
  {
   "cell_type": "code",
   "execution_count": 7,
   "id": "4cab5158",
   "metadata": {},
   "outputs": [
    {
     "data": {
      "text/html": [
       "<div>\n",
       "<style scoped>\n",
       "    .dataframe tbody tr th:only-of-type {\n",
       "        vertical-align: middle;\n",
       "    }\n",
       "\n",
       "    .dataframe tbody tr th {\n",
       "        vertical-align: top;\n",
       "    }\n",
       "\n",
       "    .dataframe thead th {\n",
       "        text-align: right;\n",
       "    }\n",
       "</style>\n",
       "<table border=\"1\" class=\"dataframe\">\n",
       "  <thead>\n",
       "    <tr style=\"text-align: right;\">\n",
       "      <th></th>\n",
       "      <th>MMSI_NUM</th>\n",
       "      <th>ST_DATE</th>\n",
       "      <th>EN_DATE</th>\n",
       "      <th>LENGTH</th>\n",
       "      <th>TO</th>\n",
       "      <th>FROM_</th>\n",
       "      <th>geometry</th>\n",
       "    </tr>\n",
       "  </thead>\n",
       "  <tbody>\n",
       "    <tr>\n",
       "      <th>157200</th>\n",
       "      <td>368009250.0</td>\n",
       "      <td>2018-03-09 17:26:56</td>\n",
       "      <td>2018-03-09 17:28:21</td>\n",
       "      <td>42</td>\n",
       "      <td>None</td>\n",
       "      <td>None</td>\n",
       "      <td>LINESTRING (-122.36612 47.26532, -122.36500 47...</td>\n",
       "    </tr>\n",
       "    <tr>\n",
       "      <th>157201</th>\n",
       "      <td>368009250.0</td>\n",
       "      <td>2018-03-21 14:15:29</td>\n",
       "      <td>2018-03-21 14:17:05</td>\n",
       "      <td>42</td>\n",
       "      <td>None</td>\n",
       "      <td>None</td>\n",
       "      <td>LINESTRING (-122.36500 47.26500, -122.36618 47...</td>\n",
       "    </tr>\n",
       "    <tr>\n",
       "      <th>157202</th>\n",
       "      <td>368009250.0</td>\n",
       "      <td>2018-03-21 14:17:53</td>\n",
       "      <td>2018-03-21 14:18:28</td>\n",
       "      <td>42</td>\n",
       "      <td>None</td>\n",
       "      <td>None</td>\n",
       "      <td>LINESTRING (-122.36618 47.26522, -122.36500 47...</td>\n",
       "    </tr>\n",
       "    <tr>\n",
       "      <th>157203</th>\n",
       "      <td>368009250.0</td>\n",
       "      <td>2018-03-21 14:18:28</td>\n",
       "      <td>2018-03-21 14:20:05</td>\n",
       "      <td>42</td>\n",
       "      <td>None</td>\n",
       "      <td>None</td>\n",
       "      <td>LINESTRING (-122.36500 47.26500, -122.36618 47...</td>\n",
       "    </tr>\n",
       "    <tr>\n",
       "      <th>157204</th>\n",
       "      <td>368009250.0</td>\n",
       "      <td>2018-03-21 14:20:05</td>\n",
       "      <td>2018-03-21 14:21:29</td>\n",
       "      <td>42</td>\n",
       "      <td>None</td>\n",
       "      <td>None</td>\n",
       "      <td>LINESTRING (-122.36618 47.26523, -122.36500 47...</td>\n",
       "    </tr>\n",
       "    <tr>\n",
       "      <th>...</th>\n",
       "      <td>...</td>\n",
       "      <td>...</td>\n",
       "      <td>...</td>\n",
       "      <td>...</td>\n",
       "      <td>...</td>\n",
       "      <td>...</td>\n",
       "      <td>...</td>\n",
       "    </tr>\n",
       "    <tr>\n",
       "      <th>1022748</th>\n",
       "      <td>368009250.0</td>\n",
       "      <td>2018-12-28 23:39:16</td>\n",
       "      <td>2018-12-28 23:39:24</td>\n",
       "      <td>42</td>\n",
       "      <td>Kinder Morgan Liquids Terminal - Harbor Island</td>\n",
       "      <td>Kinder Morgan Liquids Terminal - Harbor Island</td>\n",
       "      <td>LINESTRING (-122.35268 47.58804, -122.35274 47...</td>\n",
       "    </tr>\n",
       "    <tr>\n",
       "      <th>1022749</th>\n",
       "      <td>368009250.0</td>\n",
       "      <td>2018-12-28 23:39:24</td>\n",
       "      <td>2018-12-28 23:40:51</td>\n",
       "      <td>42</td>\n",
       "      <td>Kinder Morgan Liquids Terminal - Harbor Island</td>\n",
       "      <td>Kinder Morgan Liquids Terminal - Harbor Island</td>\n",
       "      <td>LINESTRING (-122.35274 47.58802, -122.35167 47...</td>\n",
       "    </tr>\n",
       "    <tr>\n",
       "      <th>1022750</th>\n",
       "      <td>368009250.0</td>\n",
       "      <td>2018-12-31 16:11:35</td>\n",
       "      <td>2018-12-31 16:16:36</td>\n",
       "      <td>42</td>\n",
       "      <td>None</td>\n",
       "      <td>None</td>\n",
       "      <td>LINESTRING (-122.35167 47.58667, -122.35238 47...</td>\n",
       "    </tr>\n",
       "    <tr>\n",
       "      <th>1022751</th>\n",
       "      <td>368009250.0</td>\n",
       "      <td>2018-12-31 16:16:36</td>\n",
       "      <td>2018-12-31 16:17:35</td>\n",
       "      <td>42</td>\n",
       "      <td>None</td>\n",
       "      <td>None</td>\n",
       "      <td>LINESTRING (-122.35238 47.58760, -122.35167 47...</td>\n",
       "    </tr>\n",
       "    <tr>\n",
       "      <th>1022752</th>\n",
       "      <td>368009250.0</td>\n",
       "      <td>2018-12-31 18:44:35</td>\n",
       "      <td>2018-12-31 18:46:33</td>\n",
       "      <td>42</td>\n",
       "      <td>None</td>\n",
       "      <td>None</td>\n",
       "      <td>LINESTRING (-122.35167 47.58667, -122.35235 47...</td>\n",
       "    </tr>\n",
       "  </tbody>\n",
       "</table>\n",
       "<p>19025 rows × 7 columns</p>\n",
       "</div>"
      ],
      "text/plain": [
       "            MMSI_NUM              ST_DATE              EN_DATE  LENGTH  \\\n",
       "157200   368009250.0  2018-03-09 17:26:56  2018-03-09 17:28:21      42   \n",
       "157201   368009250.0  2018-03-21 14:15:29  2018-03-21 14:17:05      42   \n",
       "157202   368009250.0  2018-03-21 14:17:53  2018-03-21 14:18:28      42   \n",
       "157203   368009250.0  2018-03-21 14:18:28  2018-03-21 14:20:05      42   \n",
       "157204   368009250.0  2018-03-21 14:20:05  2018-03-21 14:21:29      42   \n",
       "...              ...                  ...                  ...     ...   \n",
       "1022748  368009250.0  2018-12-28 23:39:16  2018-12-28 23:39:24      42   \n",
       "1022749  368009250.0  2018-12-28 23:39:24  2018-12-28 23:40:51      42   \n",
       "1022750  368009250.0  2018-12-31 16:11:35  2018-12-31 16:16:36      42   \n",
       "1022751  368009250.0  2018-12-31 16:16:36  2018-12-31 16:17:35      42   \n",
       "1022752  368009250.0  2018-12-31 18:44:35  2018-12-31 18:46:33      42   \n",
       "\n",
       "                                                     TO  \\\n",
       "157200                                             None   \n",
       "157201                                             None   \n",
       "157202                                             None   \n",
       "157203                                             None   \n",
       "157204                                             None   \n",
       "...                                                 ...   \n",
       "1022748  Kinder Morgan Liquids Terminal - Harbor Island   \n",
       "1022749  Kinder Morgan Liquids Terminal - Harbor Island   \n",
       "1022750                                            None   \n",
       "1022751                                            None   \n",
       "1022752                                            None   \n",
       "\n",
       "                                                  FROM_  \\\n",
       "157200                                             None   \n",
       "157201                                             None   \n",
       "157202                                             None   \n",
       "157203                                             None   \n",
       "157204                                             None   \n",
       "...                                                 ...   \n",
       "1022748  Kinder Morgan Liquids Terminal - Harbor Island   \n",
       "1022749  Kinder Morgan Liquids Terminal - Harbor Island   \n",
       "1022750                                            None   \n",
       "1022751                                            None   \n",
       "1022752                                            None   \n",
       "\n",
       "                                                  geometry  \n",
       "157200   LINESTRING (-122.36612 47.26532, -122.36500 47...  \n",
       "157201   LINESTRING (-122.36500 47.26500, -122.36618 47...  \n",
       "157202   LINESTRING (-122.36618 47.26522, -122.36500 47...  \n",
       "157203   LINESTRING (-122.36500 47.26500, -122.36618 47...  \n",
       "157204   LINESTRING (-122.36618 47.26523, -122.36500 47...  \n",
       "...                                                    ...  \n",
       "1022748  LINESTRING (-122.35268 47.58804, -122.35274 47...  \n",
       "1022749  LINESTRING (-122.35274 47.58802, -122.35167 47...  \n",
       "1022750  LINESTRING (-122.35167 47.58667, -122.35238 47...  \n",
       "1022751  LINESTRING (-122.35238 47.58760, -122.35167 47...  \n",
       "1022752  LINESTRING (-122.35167 47.58667, -122.35235 47...  \n",
       "\n",
       "[19025 rows x 7 columns]"
      ]
     },
     "execution_count": 7,
     "metadata": {},
     "output_type": "execute_result"
    }
   ],
   "source": [
    "allTracks[\"tanker\"].loc[\n",
    "    allTracks[\"tanker\"][\"LENGTH\"]==42\n",
    "]"
   ]
  },
  {
   "cell_type": "markdown",
   "id": "cbfa9d8f",
   "metadata": {},
   "source": [
    "### MMSI 368009250 is for GLOBAL PROVIDER\n",
    "- Check max fuel transfers to get capacity estimate for this size class (42 feet)"
   ]
  },
  {
   "cell_type": "code",
   "execution_count": 8,
   "id": "d8ffd774",
   "metadata": {},
   "outputs": [],
   "source": [
    "from monte_carlo_utils import get_DOE_df\n",
    "DOEdf = get_DOE_df(\n",
    "    doe_xls_path, \n",
    "    fac_xls_path,\n",
    "    group = 'no'\n",
    ")"
   ]
  },
  {
   "cell_type": "code",
   "execution_count": 9,
   "id": "095ead1c",
   "metadata": {},
   "outputs": [
    {
     "data": {
      "text/plain": [
       "155400.0"
      ]
     },
     "execution_count": 9,
     "metadata": {},
     "output_type": "execute_result"
    }
   ],
   "source": [
    "GP_df = DOEdf.loc[\n",
    "    DOEdf.Receiver == 'GLOBAL PROVIDER'\n",
    "]\n",
    "GP_df.TransferQtyInGallon.max()"
   ]
  },
  {
   "cell_type": "markdown",
   "id": "066e1167",
   "metadata": {},
   "source": [
    "### Cargo capacity for Global Provider ~ 155400 Gallons"
   ]
  },
  {
   "cell_type": "code",
   "execution_count": 10,
   "id": "846133ba",
   "metadata": {},
   "outputs": [
    {
     "data": {
      "text/html": [
       "<div>\n",
       "<style scoped>\n",
       "    .dataframe tbody tr th:only-of-type {\n",
       "        vertical-align: middle;\n",
       "    }\n",
       "\n",
       "    .dataframe tbody tr th {\n",
       "        vertical-align: top;\n",
       "    }\n",
       "\n",
       "    .dataframe thead th {\n",
       "        text-align: right;\n",
       "    }\n",
       "</style>\n",
       "<table border=\"1\" class=\"dataframe\">\n",
       "  <thead>\n",
       "    <tr style=\"text-align: right;\">\n",
       "      <th></th>\n",
       "      <th>LENGTH</th>\n",
       "      <th>MMSI_NUM</th>\n",
       "    </tr>\n",
       "  </thead>\n",
       "  <tbody>\n",
       "    <tr>\n",
       "      <th>0</th>\n",
       "      <td>144</td>\n",
       "      <td>47377</td>\n",
       "    </tr>\n",
       "    <tr>\n",
       "      <th>1</th>\n",
       "      <td>153</td>\n",
       "      <td>20356</td>\n",
       "    </tr>\n",
       "    <tr>\n",
       "      <th>2</th>\n",
       "      <td>42</td>\n",
       "      <td>19025</td>\n",
       "    </tr>\n",
       "    <tr>\n",
       "      <th>3</th>\n",
       "      <td>146</td>\n",
       "      <td>11927</td>\n",
       "    </tr>\n",
       "    <tr>\n",
       "      <th>4</th>\n",
       "      <td>152</td>\n",
       "      <td>6652</td>\n",
       "    </tr>\n",
       "    <tr>\n",
       "      <th>5</th>\n",
       "      <td>149</td>\n",
       "      <td>6040</td>\n",
       "    </tr>\n",
       "    <tr>\n",
       "      <th>6</th>\n",
       "      <td>91</td>\n",
       "      <td>4715</td>\n",
       "    </tr>\n",
       "    <tr>\n",
       "      <th>7</th>\n",
       "      <td>145</td>\n",
       "      <td>4299</td>\n",
       "    </tr>\n",
       "    <tr>\n",
       "      <th>8</th>\n",
       "      <td>147</td>\n",
       "      <td>2695</td>\n",
       "    </tr>\n",
       "    <tr>\n",
       "      <th>9</th>\n",
       "      <td>141</td>\n",
       "      <td>2408</td>\n",
       "    </tr>\n",
       "    <tr>\n",
       "      <th>10</th>\n",
       "      <td>133</td>\n",
       "      <td>1869</td>\n",
       "    </tr>\n",
       "    <tr>\n",
       "      <th>11</th>\n",
       "      <td>120</td>\n",
       "      <td>1726</td>\n",
       "    </tr>\n",
       "    <tr>\n",
       "      <th>12</th>\n",
       "      <td>127</td>\n",
       "      <td>1582</td>\n",
       "    </tr>\n",
       "    <tr>\n",
       "      <th>13</th>\n",
       "      <td>89</td>\n",
       "      <td>92</td>\n",
       "    </tr>\n",
       "  </tbody>\n",
       "</table>\n",
       "</div>"
      ],
      "text/plain": [
       "    LENGTH  MMSI_NUM\n",
       "0      144     47377\n",
       "1      153     20356\n",
       "2       42     19025\n",
       "3      146     11927\n",
       "4      152      6652\n",
       "5      149      6040\n",
       "6       91      4715\n",
       "7      145      4299\n",
       "8      147      2695\n",
       "9      141      2408\n",
       "10     133      1869\n",
       "11     120      1726\n",
       "12     127      1582\n",
       "13      89        92"
      ]
     },
     "execution_count": 10,
     "metadata": {},
     "output_type": "execute_result"
    }
   ],
   "source": [
    "sm_tankers = allTracks[\"tanker\"].loc[\n",
    "    allTracks[\"tanker\"][\"LENGTH\"]<155,\n",
    "    ['LENGTH','MMSI_NUM']\n",
    "].groupby('LENGTH').count().sort_values(by='MMSI_NUM',ascending=False).reset_index()\n",
    "sm_tankers"
   ]
  },
  {
   "cell_type": "code",
   "execution_count": 11,
   "id": "80015d63",
   "metadata": {},
   "outputs": [
    {
     "data": {
      "text/plain": [
       "Text(0.5, 0, 'Tanker length (meters)')"
      ]
     },
     "execution_count": 11,
     "metadata": {},
     "output_type": "execute_result"
    },
    {
     "data": {
      "image/png": "[encoded data removed]",
      "text/plain": [
       "<Figure size 432x288 with 1 Axes>"
      ]
     },
     "metadata": {
      "needs_background": "light"
     },
     "output_type": "display_data"
    }
   ],
   "source": [
    "hist=sm_tankers.LENGTH.hist(weights=sm_tankers.MMSI_NUM, bins=8)\n",
    "hist.set_ylabel('AIS ship track count')\n",
    "hist.set_xlabel('Tanker length (meters)')"
   ]
  },
  {
   "cell_type": "markdown",
   "id": "f77fe203",
   "metadata": {},
   "source": [
    "#### create histogram for all tanker lenghts and mmsi"
   ]
  },
  {
   "cell_type": "code",
   "execution_count": 12,
   "id": "8020e557",
   "metadata": {},
   "outputs": [
    {
     "data": {
      "text/plain": [
       "Text(0.5, 0, 'Tanker length (meters)')"
      ]
     },
     "execution_count": 12,
     "metadata": {},
     "output_type": "execute_result"
    },
    {
     "data": {
      "image/png": "[encoded data removed]",
      "text/plain": [
       "<Figure size 432x288 with 1 Axes>"
      ]
     },
     "metadata": {
      "needs_background": "light"
     },
     "output_type": "display_data"
    }
   ],
   "source": [
    "all_tankers = allTracks[\"tanker\"][['LENGTH','MMSI_NUM']].groupby('LENGTH').count().sort_values(by='MMSI_NUM',ascending=False).reset_index()\n",
    "hist=all_tankers.LENGTH.hist(weights=all_tankers.MMSI_NUM, bins=6)\n",
    "hist.set_ylabel('AIS ship track count')\n",
    "hist.set_xlabel('Tanker length (meters)')"
   ]
  },
  {
   "cell_type": "code",
   "execution_count": 13,
   "id": "270fbcef",
   "metadata": {},
   "outputs": [
    {
     "data": {
      "text/html": [
       "<div>\n",
       "<style scoped>\n",
       "    .dataframe tbody tr th:only-of-type {\n",
       "        vertical-align: middle;\n",
       "    }\n",
       "\n",
       "    .dataframe tbody tr th {\n",
       "        vertical-align: top;\n",
       "    }\n",
       "\n",
       "    .dataframe thead th {\n",
       "        text-align: right;\n",
       "    }\n",
       "</style>\n",
       "<table border=\"1\" class=\"dataframe\">\n",
       "  <thead>\n",
       "    <tr style=\"text-align: right;\">\n",
       "      <th></th>\n",
       "      <th>LENGTH</th>\n",
       "      <th>MMSI_NUM</th>\n",
       "    </tr>\n",
       "  </thead>\n",
       "  <tbody>\n",
       "    <tr>\n",
       "      <th>0</th>\n",
       "      <td>183</td>\n",
       "      <td>319343</td>\n",
       "    </tr>\n",
       "    <tr>\n",
       "      <th>1</th>\n",
       "      <td>287</td>\n",
       "      <td>78666</td>\n",
       "    </tr>\n",
       "    <tr>\n",
       "      <th>2</th>\n",
       "      <td>273</td>\n",
       "      <td>64147</td>\n",
       "    </tr>\n",
       "    <tr>\n",
       "      <th>3</th>\n",
       "      <td>182</td>\n",
       "      <td>59741</td>\n",
       "    </tr>\n",
       "    <tr>\n",
       "      <th>4</th>\n",
       "      <td>144</td>\n",
       "      <td>47377</td>\n",
       "    </tr>\n",
       "    <tr>\n",
       "      <th>...</th>\n",
       "      <td>...</td>\n",
       "      <td>...</td>\n",
       "    </tr>\n",
       "    <tr>\n",
       "      <th>59</th>\n",
       "      <td>177</td>\n",
       "      <td>808</td>\n",
       "    </tr>\n",
       "    <tr>\n",
       "      <th>60</th>\n",
       "      <td>232</td>\n",
       "      <td>782</td>\n",
       "    </tr>\n",
       "    <tr>\n",
       "      <th>61</th>\n",
       "      <td>252</td>\n",
       "      <td>644</td>\n",
       "    </tr>\n",
       "    <tr>\n",
       "      <th>62</th>\n",
       "      <td>157</td>\n",
       "      <td>624</td>\n",
       "    </tr>\n",
       "    <tr>\n",
       "      <th>63</th>\n",
       "      <td>89</td>\n",
       "      <td>92</td>\n",
       "    </tr>\n",
       "  </tbody>\n",
       "</table>\n",
       "<p>64 rows × 2 columns</p>\n",
       "</div>"
      ],
      "text/plain": [
       "    LENGTH  MMSI_NUM\n",
       "0      183    319343\n",
       "1      287     78666\n",
       "2      273     64147\n",
       "3      182     59741\n",
       "4      144     47377\n",
       "..     ...       ...\n",
       "59     177       808\n",
       "60     232       782\n",
       "61     252       644\n",
       "62     157       624\n",
       "63      89        92\n",
       "\n",
       "[64 rows x 2 columns]"
      ]
     },
     "execution_count": 13,
     "metadata": {},
     "output_type": "execute_result"
    }
   ],
   "source": [
    "all_tankers"
   ]
  },
  {
   "cell_type": "code",
   "execution_count": 14,
   "id": "2481ec04",
   "metadata": {},
   "outputs": [
    {
     "data": {
      "text/html": [
       "<div>\n",
       "<style scoped>\n",
       "    .dataframe tbody tr th:only-of-type {\n",
       "        vertical-align: middle;\n",
       "    }\n",
       "\n",
       "    .dataframe tbody tr th {\n",
       "        vertical-align: top;\n",
       "    }\n",
       "\n",
       "    .dataframe thead th {\n",
       "        text-align: right;\n",
       "    }\n",
       "</style>\n",
       "<table border=\"1\" class=\"dataframe\">\n",
       "  <thead>\n",
       "    <tr style=\"text-align: right;\">\n",
       "      <th></th>\n",
       "      <th>LENGTH</th>\n",
       "      <th>MMSI_NUM</th>\n",
       "    </tr>\n",
       "  </thead>\n",
       "  <tbody>\n",
       "    <tr>\n",
       "      <th>0</th>\n",
       "      <td>232</td>\n",
       "      <td>636091469.0</td>\n",
       "    </tr>\n",
       "    <tr>\n",
       "      <th>1</th>\n",
       "      <td>250</td>\n",
       "      <td>636018579.0</td>\n",
       "    </tr>\n",
       "    <tr>\n",
       "      <th>2</th>\n",
       "      <td>183</td>\n",
       "      <td>636018092.0</td>\n",
       "    </tr>\n",
       "    <tr>\n",
       "      <th>3</th>\n",
       "      <td>244</td>\n",
       "      <td>636017858.0</td>\n",
       "    </tr>\n",
       "    <tr>\n",
       "      <th>4</th>\n",
       "      <td>277</td>\n",
       "      <td>636017061.0</td>\n",
       "    </tr>\n",
       "    <tr>\n",
       "      <th>...</th>\n",
       "      <td>...</td>\n",
       "      <td>...</td>\n",
       "    </tr>\n",
       "    <tr>\n",
       "      <th>59</th>\n",
       "      <td>275</td>\n",
       "      <td>240546000.0</td>\n",
       "    </tr>\n",
       "    <tr>\n",
       "      <th>60</th>\n",
       "      <td>195</td>\n",
       "      <td>238294000.0</td>\n",
       "    </tr>\n",
       "    <tr>\n",
       "      <th>61</th>\n",
       "      <td>252</td>\n",
       "      <td>232156000.0</td>\n",
       "    </tr>\n",
       "    <tr>\n",
       "      <th>62</th>\n",
       "      <td>176</td>\n",
       "      <td>219124000.0</td>\n",
       "    </tr>\n",
       "    <tr>\n",
       "      <th>63</th>\n",
       "      <td>120</td>\n",
       "      <td>212744000.0</td>\n",
       "    </tr>\n",
       "  </tbody>\n",
       "</table>\n",
       "<p>64 rows × 2 columns</p>\n",
       "</div>"
      ],
      "text/plain": [
       "    LENGTH     MMSI_NUM\n",
       "0      232  636091469.0\n",
       "1      250  636018579.0\n",
       "2      183  636018092.0\n",
       "3      244  636017858.0\n",
       "4      277  636017061.0\n",
       "..     ...          ...\n",
       "59     275  240546000.0\n",
       "60     195  238294000.0\n",
       "61     252  232156000.0\n",
       "62     176  219124000.0\n",
       "63     120  212744000.0\n",
       "\n",
       "[64 rows x 2 columns]"
      ]
     },
     "execution_count": 14,
     "metadata": {},
     "output_type": "execute_result"
    }
   ],
   "source": [
    "allTracks[\"tanker\"][['LENGTH','MMSI_NUM']].groupby('LENGTH').last().sort_values(by='MMSI_NUM',ascending=False).reset_index()"
   ]
  },
  {
   "cell_type": "markdown",
   "id": "eeaf49fc",
   "metadata": {},
   "source": [
    "#### Get representative MMSI for tanker lengths to look up in DOE database"
   ]
  },
  {
   "cell_type": "code",
   "execution_count": 15,
   "id": "1d9a893b",
   "metadata": {},
   "outputs": [
    {
     "data": {
      "text/html": [
       "<div>\n",
       "<style scoped>\n",
       "    .dataframe tbody tr th:only-of-type {\n",
       "        vertical-align: middle;\n",
       "    }\n",
       "\n",
       "    .dataframe tbody tr th {\n",
       "        vertical-align: top;\n",
       "    }\n",
       "\n",
       "    .dataframe thead th {\n",
       "        text-align: right;\n",
       "    }\n",
       "</style>\n",
       "<table border=\"1\" class=\"dataframe\">\n",
       "  <thead>\n",
       "    <tr style=\"text-align: right;\">\n",
       "      <th></th>\n",
       "      <th>MMSI_NUM</th>\n",
       "    </tr>\n",
       "    <tr>\n",
       "      <th>LENGTH</th>\n",
       "      <th></th>\n",
       "    </tr>\n",
       "  </thead>\n",
       "  <tbody>\n",
       "    <tr>\n",
       "      <th>42</th>\n",
       "      <td>368009250.0</td>\n",
       "    </tr>\n",
       "    <tr>\n",
       "      <th>89</th>\n",
       "      <td>316041640.0</td>\n",
       "    </tr>\n",
       "    <tr>\n",
       "      <th>91</th>\n",
       "      <td>316014610.0</td>\n",
       "    </tr>\n",
       "    <tr>\n",
       "      <th>120</th>\n",
       "      <td>212744000.0</td>\n",
       "    </tr>\n",
       "    <tr>\n",
       "      <th>127</th>\n",
       "      <td>538006828.0</td>\n",
       "    </tr>\n",
       "    <tr>\n",
       "      <th>133</th>\n",
       "      <td>538005277.0</td>\n",
       "    </tr>\n",
       "    <tr>\n",
       "      <th>141</th>\n",
       "      <td>371823000.0</td>\n",
       "    </tr>\n",
       "    <tr>\n",
       "      <th>144</th>\n",
       "      <td>355320000.0</td>\n",
       "    </tr>\n",
       "    <tr>\n",
       "      <th>145</th>\n",
       "      <td>477173600.0</td>\n",
       "    </tr>\n",
       "    <tr>\n",
       "      <th>146</th>\n",
       "      <td>477636500.0</td>\n",
       "    </tr>\n",
       "    <tr>\n",
       "      <th>147</th>\n",
       "      <td>351456000.0</td>\n",
       "    </tr>\n",
       "    <tr>\n",
       "      <th>149</th>\n",
       "      <td>357299000.0</td>\n",
       "    </tr>\n",
       "    <tr>\n",
       "      <th>152</th>\n",
       "      <td>538004002.0</td>\n",
       "    </tr>\n",
       "    <tr>\n",
       "      <th>153</th>\n",
       "      <td>538006893.0</td>\n",
       "    </tr>\n",
       "  </tbody>\n",
       "</table>\n",
       "</div>"
      ],
      "text/plain": [
       "           MMSI_NUM\n",
       "LENGTH             \n",
       "42      368009250.0\n",
       "89      316041640.0\n",
       "91      316014610.0\n",
       "120     212744000.0\n",
       "127     538006828.0\n",
       "133     538005277.0\n",
       "141     371823000.0\n",
       "144     355320000.0\n",
       "145     477173600.0\n",
       "146     477636500.0\n",
       "147     351456000.0\n",
       "149     357299000.0\n",
       "152     538004002.0\n",
       "153     538006893.0"
      ]
     },
     "execution_count": 15,
     "metadata": {},
     "output_type": "execute_result"
    }
   ],
   "source": [
    "allTracks[\"tanker\"].loc[\n",
    "    allTracks[\"tanker\"][\"LENGTH\"]<155,\n",
    "    ['LENGTH','MMSI_NUM']\n",
    "].groupby('LENGTH').first()"
   ]
  },
  {
   "cell_type": "code",
   "execution_count": 16,
   "id": "3e84d1b3",
   "metadata": {},
   "outputs": [
    {
     "data": {
      "text/plain": [
       "3990000.0"
      ]
     },
     "execution_count": 16,
     "metadata": {},
     "output_type": "execute_result"
    }
   ],
   "source": [
    "# MMSI 355320000.0 => KIRKEHOLMEN\n",
    "K_df = DOEdf.loc[\n",
    "    DOEdf.Receiver == 'KIRKEHOLMEN'\n",
    "]\n",
    "K_df.TransferQtyInGallon.max()"
   ]
  },
  {
   "cell_type": "markdown",
   "id": "d8e2138c",
   "metadata": {},
   "source": [
    "### max transfer to Kirkeholmen is 15,103,793.02 liters"
   ]
  },
  {
   "cell_type": "code",
   "execution_count": 17,
   "id": "313b2119",
   "metadata": {},
   "outputs": [],
   "source": [
    "tanker_list = DOEdf.loc[\n",
    "    DOEdf.ReceiverTypeDescription == 'TANK SHIP',\n",
    "    ['Receiver','ReceiverTypeDescription']\n",
    "].groupby('Receiver').count().sort_values(by='ReceiverTypeDescription', ascending=False).reset_index()"
   ]
  },
  {
   "cell_type": "code",
   "execution_count": 18,
   "id": "758d92d9",
   "metadata": {},
   "outputs": [
    {
     "data": {
      "text/html": [
       "<div>\n",
       "<style scoped>\n",
       "    .dataframe tbody tr th:only-of-type {\n",
       "        vertical-align: middle;\n",
       "    }\n",
       "\n",
       "    .dataframe tbody tr th {\n",
       "        vertical-align: top;\n",
       "    }\n",
       "\n",
       "    .dataframe thead th {\n",
       "        text-align: right;\n",
       "    }\n",
       "</style>\n",
       "<table border=\"1\" class=\"dataframe\">\n",
       "  <thead>\n",
       "    <tr style=\"text-align: right;\">\n",
       "      <th></th>\n",
       "      <th>Receiver</th>\n",
       "      <th>ReceiverTypeDescription</th>\n",
       "    </tr>\n",
       "  </thead>\n",
       "  <tbody>\n",
       "    <tr>\n",
       "      <th>0</th>\n",
       "      <td>KIRKEHOLMEN</td>\n",
       "      <td>91</td>\n",
       "    </tr>\n",
       "    <tr>\n",
       "      <th>1</th>\n",
       "      <td>OVERSEAS LOS ANGELES</td>\n",
       "      <td>76</td>\n",
       "    </tr>\n",
       "    <tr>\n",
       "      <th>2</th>\n",
       "      <td>PELICAN STATE</td>\n",
       "      <td>73</td>\n",
       "    </tr>\n",
       "    <tr>\n",
       "      <th>3</th>\n",
       "      <td>GLOBAL PROVIDER</td>\n",
       "      <td>37</td>\n",
       "    </tr>\n",
       "    <tr>\n",
       "      <th>4</th>\n",
       "      <td>AMERICAN FREEDOM</td>\n",
       "      <td>28</td>\n",
       "    </tr>\n",
       "    <tr>\n",
       "      <th>...</th>\n",
       "      <td>...</td>\n",
       "      <td>...</td>\n",
       "    </tr>\n",
       "    <tr>\n",
       "      <th>118</th>\n",
       "      <td>CHEMBULK WESTPORT</td>\n",
       "      <td>1</td>\n",
       "    </tr>\n",
       "    <tr>\n",
       "      <th>119</th>\n",
       "      <td>POMER</td>\n",
       "      <td>1</td>\n",
       "    </tr>\n",
       "    <tr>\n",
       "      <th>120</th>\n",
       "      <td>RS AURORA</td>\n",
       "      <td>1</td>\n",
       "    </tr>\n",
       "    <tr>\n",
       "      <th>121</th>\n",
       "      <td>BRITISH CHIEF</td>\n",
       "      <td>1</td>\n",
       "    </tr>\n",
       "    <tr>\n",
       "      <th>122</th>\n",
       "      <td>SAINT NICHOLAS</td>\n",
       "      <td>1</td>\n",
       "    </tr>\n",
       "  </tbody>\n",
       "</table>\n",
       "<p>123 rows × 2 columns</p>\n",
       "</div>"
      ],
      "text/plain": [
       "                 Receiver  ReceiverTypeDescription\n",
       "0             KIRKEHOLMEN                       91\n",
       "1    OVERSEAS LOS ANGELES                       76\n",
       "2           PELICAN STATE                       73\n",
       "3         GLOBAL PROVIDER                       37\n",
       "4        AMERICAN FREEDOM                       28\n",
       "..                    ...                      ...\n",
       "118     CHEMBULK WESTPORT                        1\n",
       "119                 POMER                        1\n",
       "120             RS AURORA                        1\n",
       "121         BRITISH CHIEF                        1\n",
       "122        SAINT NICHOLAS                        1\n",
       "\n",
       "[123 rows x 2 columns]"
      ]
     },
     "execution_count": 18,
     "metadata": {},
     "output_type": "execute_result"
    }
   ],
   "source": [
    "tanker_list"
   ]
  },
  {
   "cell_type": "code",
   "execution_count": 19,
   "id": "9b4cb3ab",
   "metadata": {},
   "outputs": [
    {
     "data": {
      "text/plain": [
       "TransferQtyInGallon    11130000.0\n",
       "dtype: float64"
      ]
     },
     "execution_count": 19,
     "metadata": {},
     "output_type": "execute_result"
    }
   ],
   "source": [
    "DOEdf.loc[\n",
    "    DOEdf.Receiver == 'OVERSEAS LOS ANGELES',\n",
    "    ['TransferQtyInGallon']\n",
    "].max()"
   ]
  },
  {
   "cell_type": "code",
   "execution_count": 20,
   "id": "b5894831",
   "metadata": {},
   "outputs": [
    {
     "data": {
      "text/plain": [
       "nan"
      ]
     },
     "execution_count": 20,
     "metadata": {},
     "output_type": "execute_result"
    }
   ],
   "source": [
    "sf_df = DOEdf.loc[\n",
    "    DOEdf.Receiver == 'SEAFRIEND'\n",
    "]\n",
    "sf_df.TransferQtyInGallon.max()"
   ]
  },
  {
   "cell_type": "code",
   "execution_count": 21,
   "id": "f2ca6482",
   "metadata": {},
   "outputs": [],
   "source": [
    "tankerAntID={}\n",
    "tankerAntID[\"out\"] = DOEdf.loc[\n",
    "    DOEdf.ReceiverTypeDescription == 'TANK SHIP',\n",
    "    ['Receiver','ReceiverTypeDescription','TransferQtyInGallon','AntID']\n",
    "].groupby('AntID').sum().sort_values(by='TransferQtyInGallon', ascending=False).reset_index()"
   ]
  },
  {
   "cell_type": "markdown",
   "id": "959e2c1c",
   "metadata": {},
   "source": [
    "## Create histogram of tanker lengths"
   ]
  },
  {
   "cell_type": "code",
   "execution_count": 22,
   "id": "b2dc6dae",
   "metadata": {},
   "outputs": [],
   "source": [
    "from monte_carlo_utils import get_bin\n",
    "\n",
    "bins = []\n",
    "bins.append((0, 60))\n",
    "bins.append((61, 150))\n",
    "bins.append((151, 200))\n",
    "bins.append((201, 250))\n",
    "bins.append((251, 300))\n",
    "\n",
    "size_classes = [\n",
    "    \"Smallest Tanker (< 60 m)\",\n",
    "    \"Small Tanker (61 - 150 m)\", \n",
    "    \"Handymax (151-200 m)\", \n",
    "    \"Aframax (201-250 m)\", \n",
    "    \"SuezMax (251-300 m)\" \n",
    "]\n",
    "binned_data = numpy.zeros(len(bins))\n",
    "binned_mmsi = pandas.DataFrame(columns = size_classes)\n",
    "for idx,value in enumerate(allTracks[\"tanker\"][\"LENGTH\"]):\n",
    "    # accounting for no-data: -99999\n",
    "    if value > 0:\n",
    "        bin_index = get_bin(value, bins)  \n",
    "        binned_data[bin_index] += 1    \n",
    "#         if allTracks[\"tanker\"][\"MMSI_NUM\"][idx] not in binned_mmsi[size_classes[bin_index]]:\n",
    "#             binned_mmsi = binned_mmsi.append(\n",
    "#                 {size_classes[bin_index]:allTracks[\"tanker\"][\"MMSI_NUM\"][idx]},\n",
    "#             ignore_index = True\n",
    "#             )"
   ]
  },
  {
   "cell_type": "code",
   "execution_count": null,
   "id": "d8e49fa6",
   "metadata": {},
   "outputs": [],
   "source": []
  },
  {
   "cell_type": "code",
   "execution_count": 23,
   "id": "8af545a2",
   "metadata": {},
   "outputs": [
    {
     "name": "stdout",
     "output_type": "stream",
     "text": [
      "0 19025.0\n",
      "1 84730.0\n",
      "2 572427.0\n",
      "3 142846.0\n",
      "4 272345.0\n"
     ]
    },
    {
     "data": {
      "image/png": "[encoded data removed]",
      "text/plain": [
       "<Figure size 432x288 with 1 Axes>"
      ]
     },
     "metadata": {
      "needs_background": "light"
     },
     "output_type": "display_data"
    }
   ],
   "source": [
    "fig, ax = plt.subplots()    \n",
    "#width = 0.75 # the width of the bars \n",
    "ind = numpy.arange(len(binned_data))  # the x locations for the groups\n",
    "ax.bar(ind, binned_data, color=\"blue\")\n",
    "ax.set_xticks(ind-3/4)\n",
    "ax.set_xticklabels(size_classes, minor=False, rotation=45)\n",
    "ax.tick_params(axis = \"x\", which = \"both\", bottom = False, top = False)\n",
    "plt.title('Number of AIS ship tracks in 2018, by tanker size class ')\n",
    "#plt.xlabel('Tanker size class', rotation=45)\n",
    "plt.ylabel('Number of AIS ship tracks')\n",
    "for i, v in enumerate(binned_data):\n",
    "    print(i,v)\n",
    "    ax.text(i, v, str(v), color='black', fontweight='bold', ha='center', va='bottom')"
   ]
  },
  {
   "cell_type": "code",
   "execution_count": 24,
   "id": "db41d307",
   "metadata": {},
   "outputs": [
    {
     "data": {
      "text/plain": [
       "['Smallest Tanker (< 60 m)',\n",
       " 'Small Tanker (61 - 150 m)',\n",
       " 'Handymax (151-200 m)',\n",
       " 'Aframax (201-250 m)',\n",
       " 'SuezMax (251-300 m)']"
      ]
     },
     "execution_count": 24,
     "metadata": {},
     "output_type": "execute_result"
    }
   ],
   "source": [
    "size_classes"
   ]
  },
  {
   "cell_type": "code",
   "execution_count": 25,
   "id": "2417db68",
   "metadata": {},
   "outputs": [
    {
     "name": "stdout",
     "output_type": "stream",
     "text": [
      "Smallest Tanker (< 60 m)\n",
      "             COUNT\n",
      "MMSI_NUM          \n",
      "368009250.0  19025\n",
      "Small Tanker (61 - 150 m)\n",
      "             COUNT\n",
      "MMSI_NUM          \n",
      "355320000.0  33381\n",
      "566306000.0   6427\n",
      "477636500.0   6416\n",
      "477493700.0   5874\n",
      "316014610.0   4715\n",
      "477173600.0   4299\n",
      "373353000.0   4129\n",
      "538006371.0   3472\n",
      "351456000.0   2695\n",
      "371823000.0   2408\n",
      "357299000.0   1911\n",
      "538005277.0   1869\n",
      "212744000.0   1726\n",
      "477229900.0   1703\n",
      "538006828.0   1582\n",
      "373474000.0   1376\n",
      "538003481.0    336\n",
      "372405000.0    319\n",
      "316041640.0     92\n",
      "Handymax (151-200 m)\n",
      "             COUNT\n",
      "MMSI_NUM          \n",
      "369042000.0  41383\n",
      "367353110.0  37996\n",
      "366855000.0  32830\n",
      "367134000.0  31026\n",
      "369040000.0  26513\n",
      "...            ...\n",
      "563654000.0    229\n",
      "371394000.0    213\n",
      "538006805.0    166\n",
      "477858900.0     51\n",
      "257005000.0     48\n",
      "\n",
      "[140 rows x 1 columns]\n",
      "Aframax (201-250 m)\n",
      "             COUNT\n",
      "MMSI_NUM          \n",
      "636015178.0   6057\n",
      "220518000.0   5718\n",
      "255806154.0   5140\n",
      "311943000.0   4609\n",
      "538001893.0   4172\n",
      "...            ...\n",
      "538002946.0    698\n",
      "309038000.0    581\n",
      "565423000.0    481\n",
      "636010736.0    376\n",
      "636017656.0    323\n",
      "\n",
      "[69 rows x 1 columns]\n",
      "SuezMax (251-300 m)\n",
      "             COUNT\n",
      "MMSI_NUM          \n",
      "303294000.0  29376\n",
      "367688000.0  25157\n",
      "303656000.0  24133\n",
      "369540000.0  22354\n",
      "367067110.0  16759\n",
      "338371000.0  13470\n",
      "369272000.0   8762\n",
      "249889000.0   5954\n",
      "366948190.0   5940\n",
      "303031000.0   5254\n",
      "240546000.0   3555\n",
      "240592000.0   3544\n",
      "311066100.0   3299\n",
      "538007153.0   3144\n",
      "636014506.0   2802\n",
      "636014501.0   2742\n",
      "311000639.0   2553\n",
      "538090175.0   2364\n",
      "538006836.0   2259\n",
      "240957000.0   2214\n",
      "232012789.0   2210\n",
      "636017061.0   2099\n",
      "538006650.0   2011\n",
      "538004031.0   1785\n",
      "636015304.0   1585\n",
      "319095100.0   1576\n",
      "538002262.0    955\n",
      "232156000.0    644\n",
      "258884000.0    356\n"
     ]
    }
   ],
   "source": [
    "binned_mmsi = {}\n",
    "for idx,sizeclass in enumerate(size_classes):\n",
    "    #print(idx,sizeclass)\n",
    "    binned_mmsi[sizeclass]= allTracks[\"tanker\"].loc[\n",
    "        (allTracks[\"tanker\"][\"LENGTH\"] > bins[idx][0]) & \n",
    "        (allTracks[\"tanker\"][\"LENGTH\"] < bins[idx][1]),\n",
    "        ['MMSI_NUM','LENGTH']\n",
    "    ].groupby('MMSI_NUM').count().sort_values(by='LENGTH',ascending=False).rename(columns={'LENGTH':'COUNT'})\n",
    "    print(sizeclass)\n",
    "    print(binned_mmsi[sizeclass])"
   ]
  },
  {
   "cell_type": "markdown",
   "id": "6f0e710a",
   "metadata": {},
   "source": [
    "## Find vessel names for mmsi through myshiptracking.com"
   ]
  },
  {
   "cell_type": "code",
   "execution_count": 32,
   "id": "6322dbe2",
   "metadata": {},
   "outputs": [],
   "source": [
    "mmsi_names = {368009250:\"GLOBAL PROVIDER\",\n",
    "    355320000:\"KIRKEHOLMEN\",\n",
    "    369042000:\"AMERICAN FREEDOM\",\n",
    "    367353110:\"PELICAN STATE\", \n",
    "    636015178:\"AQUALEGACY\",\n",
    "    220518000:\"TORM EMILIE\",\n",
    "    303294000:\"ALASKAN EXPLORER\",\n",
    "    367688000:\"ALASKAN NAVIGATOR\"}\n",
    "mmsi_sizeclass = {368009250:\"Smallest Tanker (< 60 m)\",\n",
    "    355320000:\"Small Tanker (61 - 150 m)\",\n",
    "    369042000:\"Handymax (151-200 m)\",\n",
    "    367353110:\"Handymax (151-200 m)\", \n",
    "    636015178:\"Aframax (201-250 m)\",\n",
    "    220518000:\"Aframax (201-250 m)\",\n",
    "    303294000:\"SuezMax (251-300 m)\",\n",
    "    367688000:\"SuezMax (251-300 m)\"}"
   ]
  },
  {
   "cell_type": "markdown",
   "id": "349bc2e8",
   "metadata": {},
   "source": [
    "## Search DOE for names and return max transfer volume"
   ]
  },
  {
   "cell_type": "code",
   "execution_count": 27,
   "id": "d4b5292f",
   "metadata": {},
   "outputs": [
    {
     "data": {
      "text/plain": [
       "[368009250,\n",
       " 355320000,\n",
       " 369042000,\n",
       " 367353110,\n",
       " 636015178,\n",
       " 220518000,\n",
       " 303294000,\n",
       " 367688000]"
      ]
     },
     "execution_count": 27,
     "metadata": {},
     "output_type": "execute_result"
    }
   ],
   "source": [
    "[*mmsi_names]"
   ]
  },
  {
   "cell_type": "markdown",
   "id": "e5dad5d2",
   "metadata": {},
   "source": [
    "## Loop through each mmsi and get max transfer volume for AntID"
   ]
  },
  {
   "cell_type": "code",
   "execution_count": 47,
   "id": "2414e75d",
   "metadata": {
    "scrolled": true
   },
   "outputs": [
    {
     "name": "stdout",
     "output_type": "stream",
     "text": [
      "~~~ EXPORTS ~~~\n",
      "mmsi \t max transfer volume (liters) size class\n",
      "368009250 5.88e+05\t Smallest Tanker (< 60 m)\n",
      "355320000 1.51e+07\t Small Tanker (61 - 150 m)\n",
      "369042000 2.38e+07\t Handymax (151-200 m)\n",
      "367353110 3.82e+07\t Handymax (151-200 m)\n",
      "636015178 1.08e+06\t Aframax (201-250 m)\n",
      "220518000 5.90e+07\t Aframax (201-250 m)\n",
      "303294000 2.36e+06\t SuezMax (251-300 m)\n",
      "367688000 4.77e+07\t SuezMax (251-300 m)\n",
      "~~~ IMPORTS ~~~\n",
      "368009250 5.87e+05\t Smallest Tanker (< 60 m)\n",
      "369042000 3.02e+07\t Handymax (151-200 m)\n",
      "367353110 1.91e+07\t Handymax (151-200 m)\n",
      "636015178 3.18e+07\t Aframax (201-250 m)\n",
      "220518000 7.95e+07\t Aframax (201-250 m)\n",
      "303294000 1.43e+08\t SuezMax (251-300 m)\n",
      "367688000 1.43e+08\t SuezMax (251-300 m)\n"
     ]
    }
   ],
   "source": [
    "export_by_vessel = {}\n",
    "import_by_vessel = {}\n",
    "print('~~~ EXPORTS ~~~')\n",
    "print('mmsi', '\\t max transfer volume (liters)','size class')\n",
    "gal2liter = 3.78541\n",
    "for idx,mmsi in enumerate([*mmsi_names]):    \n",
    "    export_by_vessel[mmsi_names[mmsi]] = DOEdf.loc[\n",
    "        DOEdf.Receiver == mmsi_names[mmsi],\n",
    "        ['TransferQtyInGallon','AntID','StartDateTime']\n",
    "    ].groupby('AntID').agg(\n",
    "        {'TransferQtyInGallon':'max','StartDateTime':'first'}\n",
    "    ).sort_values(by='TransferQtyInGallon',ascending=False)\n",
    "    #print out max transfer volume for mmsi\n",
    "    print(mmsi, \n",
    "          f'{gal2liter*max(export_by_vessel[mmsi_names[mmsi]][\"TransferQtyInGallon\"]):.2e}\\t',\n",
    "         mmsi_sizeclass[mmsi])\n",
    "print('~~~ IMPORTS ~~~')\n",
    "for idx,mmsi in enumerate([*mmsi_names]):    \n",
    "    import_by_vessel[mmsi_names[mmsi]] = DOEdf.loc[\n",
    "        DOEdf.Deliverer == mmsi_names[mmsi],\n",
    "        ['TransferQtyInGallon','AntID','StartDateTime']\n",
    "    ].groupby('AntID').agg(\n",
    "        {'TransferQtyInGallon':'max','StartDateTime':'first'}\n",
    "    ).sort_values(by='TransferQtyInGallon',ascending=False)\n",
    "    #print out max transfer volume for mmsi\n",
    "    if not import_by_vessel[mmsi_names[mmsi]][\"TransferQtyInGallon\"].empty:\n",
    "        print(mmsi, \n",
    "              f'{gal2liter*max(import_by_vessel[mmsi_names[mmsi]][\"TransferQtyInGallon\"]):.2e}\\t',\n",
    "             mmsi_sizeclass[mmsi])"
   ]
  },
  {
   "cell_type": "markdown",
   "id": "cea8e789",
   "metadata": {},
   "source": [
    "## NEXT:\n",
    "1. compare with cargo capacity\n",
    "- ship typecargo capacity (liters)\n",
    "- smallest tanker\t588,253\n",
    "- small tanker\t15103793.00\n",
    "- handymax\t53000000.00\n",
    "- aframax\t126211000.00\n",
    "- suezmax\t185447000.00\n",
    "\n",
    "2. Get maximum cargo transfer value to make sure it matches our SuezMax value"
   ]
  },
  {
   "cell_type": "code",
   "execution_count": null,
   "id": "d7ac1774",
   "metadata": {},
   "outputs": [],
   "source": []
  }
 ],
 "metadata": {
  "kernelspec": {
   "display_name": "Python 3 (ipykernel)",
   "language": "python",
   "name": "python3"
  },
  "language_info": {
   "codemirror_mode": {
    "name": "ipython",
    "version": 3
   },
   "file_extension": ".py",
   "mimetype": "text/x-python",
   "name": "python",
   "nbconvert_exporter": "python",
   "pygments_lexer": "ipython3",
   "version": "3.9.7"
  }
 },
 "nbformat": 4,
 "nbformat_minor": 5
}
