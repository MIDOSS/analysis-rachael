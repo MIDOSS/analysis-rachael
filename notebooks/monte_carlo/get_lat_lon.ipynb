{
 "cells": [
  {
   "cell_type": "markdown",
   "metadata": {},
   "source": [
    "###  This is a template for the get_date monte carlo function. "
   ]
  },
  {
   "cell_type": "code",
   "execution_count": 1,
   "metadata": {},
   "outputs": [],
   "source": [
    "import rasterio as rio\n",
    "import numpy as np\n",
    "from numpy.random import choice"
   ]
  },
  {
   "cell_type": "code",
   "execution_count": 2,
   "metadata": {},
   "outputs": [],
   "source": [
    "# input spill month\n",
    "spill_month = 9;\n",
    "# input desired number of latitude and longitude values (we will likely keep this as one, but I add here just in case)\n",
    "n_locations = 1;  \n",
    "# static variables\n",
    "geotiff_directory = '/Users/rmueller/Data/MIDOSS/'"
   ]
  },
  {
   "cell_type": "code",
   "execution_count": 3,
   "metadata": {},
   "outputs": [],
   "source": [
    "def truncate(f, n):\n",
    "    '''Truncates/pads a float f to n decimal places without rounding'''\n",
    "    s = '{}'.format(f)\n",
    "    if 'e' in s or 'E' in s:\n",
    "        return '{0:.{1}f}'.format(f, n)\n",
    "    i, p, d = s.partition('.')\n",
    "    return '.'.join([i, (d+'0'*n)[:n]])"
   ]
  },
  {
   "cell_type": "code",
   "execution_count": 4,
   "metadata": {},
   "outputs": [],
   "source": [
    "def get_lat_lon(geotiff_directory, spill_month, n_locations):\n",
    "    \n",
    "    # identify string to use for input file name\n",
    "    if spill_month==9:\n",
    "        month_name = 'September' #I'm sure there is a way to do this using Datetime!\n",
    "    \n",
    "    # load data\n",
    "    traffic_reader = rio.open(f'{geotiff_directory}{month_name}_2018_All_Tugs_Hours_Geographic.tif')\n",
    "    traffic_data = traffic_reader.read(1)\n",
    "    traffic_data[traffic_data < 0] = 0\n",
    "\n",
    "    # calculate probability of traffic by VTE in given month\n",
    "    probability_distribution  = traffic_data/traffic_data.sum()\n",
    "    [nx,ny] = probability_distribution.shape\n",
    "\n",
    "    # create a matrix of lat/lon values \n",
    "    latlontxt = np.chararray((nx,ny), itemsize = 20)\n",
    "    for y in range(ny):\n",
    "        for x in range(nx):\n",
    "            x2, y2 = traffic_reader.transform * (y,x)\n",
    "            latlontxt[x,y] = \"lat\" + str(truncate(x2, 3)) + \"lon\" + str(truncate(y2, 3))\n",
    "\n",
    "    # reshape 2D matrix to vector\n",
    "    latlontxt_1D = latlontxt.reshape(-1)\n",
    "\n",
    "    # use 'choice' function to randomly select lat/lon location based on vessel time exposure probability\n",
    "    a = choice(latlontxt.reshape(-1), n_locations , p=probability_distribution.reshape(-1))\n",
    "\n",
    "    # extract lat/lon value(s)\n",
    "    lats = np.array([])\n",
    "    lons = np.array([])\n",
    "    for i in a:\n",
    "        lats = np.append(lats, float(i[3:11]))\n",
    "        lons = np.append(lons, float(i[14:]))\n",
    "        \n",
    "    return lats, lons"
   ]
  },
  {
   "cell_type": "code",
   "execution_count": 5,
   "metadata": {},
   "outputs": [],
   "source": [
    "(lat,lon) = get_lat_lon(geotiff_directory, spill_month, n_locations)"
   ]
  },
  {
   "cell_type": "code",
   "execution_count": 6,
   "metadata": {},
   "outputs": [
    {
     "data": {
      "text/plain": [
       "array([-123.292])"
      ]
     },
     "execution_count": 6,
     "metadata": {},
     "output_type": "execute_result"
    }
   ],
   "source": [
    "lat"
   ]
  },
  {
   "cell_type": "code",
   "execution_count": 8,
   "metadata": {},
   "outputs": [
    {
     "data": {
      "text/plain": [
       "array([ 49.304])"
      ]
     },
     "execution_count": 8,
     "metadata": {},
     "output_type": "execute_result"
    }
   ],
   "source": [
    "lon"
   ]
  },
  {
   "cell_type": "code",
   "execution_count": null,
   "metadata": {},
   "outputs": [],
   "source": []
  }
 ],
 "metadata": {
  "kernelspec": {
   "display_name": "Python 3",
   "language": "python",
   "name": "python3"
  },
  "language_info": {
   "codemirror_mode": {
    "name": "ipython",
    "version": 3
   },
   "file_extension": ".py",
   "mimetype": "text/x-python",
   "name": "python",
   "nbconvert_exporter": "python",
   "pygments_lexer": "ipython3",
   "version": "3.6.5"
  }
 },
 "nbformat": 4,
 "nbformat_minor": 2
}
