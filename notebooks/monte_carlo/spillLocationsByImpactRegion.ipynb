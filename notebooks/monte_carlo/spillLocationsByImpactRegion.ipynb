{
 "cells": [
  {
   "cell_type": "code",
   "execution_count": 1,
   "id": "5918f0bc-436c-49f6-9696-10b5597353e3",
   "metadata": {},
   "outputs": [],
   "source": [
    "import os\n",
    "import sys\n",
    "import pathlib\n",
    "import yaml\n",
    "import numpy\n",
    "import pandas\n",
    "import xarray\n",
    "import h5netcdf\n",
    "from datetime import datetime\n",
    "from datetime import date\n",
    "from glob import glob\n",
    "import time\n",
    "import matplotlib.pyplot as plt\n",
    "import matplotlib as mpl\n",
    "from cartopy import crs, feature\n",
    "from matplotlib import pyplot as patches, colors"
   ]
  },
  {
   "cell_type": "code",
   "execution_count": 2,
   "id": "0c835f02-47fe-4a86-a55d-0604f02bf3d8",
   "metadata": {},
   "outputs": [],
   "source": [
    "# file_locations = pathlib.Path(\n",
    "#     '/scratch/rmueller/MIDOSS/Results/MOHID_results_locations_try3_10042022_18:58:46.yaml'\n",
    "# )\n",
    "\n",
    "file_locations = pathlib.Path(\n",
    "    '/scratch/rmueller/MIDOSS/Results/try3/MOHID_results_locationsByMonth_try3_17062022_02:01:03.yaml'\n",
    ")\n",
    "graphics_dir = pathlib.Path(\n",
    "    '/home/rmueller/projects/def-allen/rmueller/MIDOSS/analysis-rachael/notebooks/graphics/try3/'\n",
    ")\n",
    "   "
   ]
  },
  {
   "cell_type": "code",
   "execution_count": 3,
   "id": "56a904e7-ce41-4fff-be15-af81e0d83b81",
   "metadata": {},
   "outputs": [],
   "source": [
    "with file_locations.open(\"rt\") as f:\n",
    "    run_paths = yaml.safe_load(f)\n"
   ]
  },
  {
   "cell_type": "code",
   "execution_count": 4,
   "id": "498e6cd0-f891-4971-863d-e4c9921119a9",
   "metadata": {},
   "outputs": [],
   "source": [
    "input_file = run_paths['all'][0]"
   ]
  },
  {
   "cell_type": "code",
   "execution_count": 5,
   "id": "a6c316dd-0212-42ad-8f0e-02065093980e",
   "metadata": {},
   "outputs": [
    {
     "data": {
      "text/plain": [
       "9833"
      ]
     },
     "execution_count": 5,
     "metadata": {},
     "output_type": "execute_result"
    }
   ],
   "source": [
    "len(run_paths['all'])"
   ]
  },
  {
   "cell_type": "code",
   "execution_count": 6,
   "id": "b34ab58b-333a-4322-aef2-c0484aacf0c7",
   "metadata": {},
   "outputs": [
    {
     "name": "stdout",
     "output_type": "stream",
     "text": [
      "/scratch/dlatorne/MIDOSS/runs/monte-carlo/1-200_near-BP_try3_2022-04-19T154852/results/1-200_near-BP_try3-0/Lagrangian_bunker-0.dat\n",
      " -122.7687378 48.85820007\n"
     ]
    }
   ],
   "source": [
    "# open NETCDF\n",
    "with xarray.open_dataset(input_file, engine='h5netcdf') as ds:\n",
    "    spill_start = ds.time[0]\n",
    "    spill_end = ds.time[-1]\n",
    "    # Select surface volume, concentration and dissolution\n",
    "    vol3d=ds.OilWaterColumnOilVol_3D.isel({'grid_z': 39})\n",
    "    conc3d=ds.OilConcentration_3D.isel({'grid_z': 39})\n",
    "beach_threshold = 5e-3\n",
    "BeachVolume=ds.Beaching_Volume.where(\n",
    "        ds.Beaching_Volume>beach_threshold\n",
    "    ) \n",
    "\n",
    "# open Lagrangian.dat\n",
    "input_dir=os.path.dirname(os.path.abspath(input_file))\n",
    "# identify oil type and run number from .nc file to query Lagrangian.dat file\n",
    "nrun = input_file.split('/')[-1].split('-')[-1][:-3]\n",
    "oil_tag = input_file.split('/')[-1].split('_')[1].split('-')[0]\n",
    "Lagrangian_file = input_dir+f'/Lagrangian_{oil_tag}-{nrun}.dat'\n",
    " #~~~~~~~~~~~~~~~~~~~~~~~~~~~~~~~~~~~~~~~~~~~~\n",
    "# Grab spill information from Lagrangian file\n",
    "with open(Lagrangian_file, 'r') as lagrangianFile:\n",
    "    print(Lagrangian_file)\n",
    "    for line in lagrangianFile:\n",
    "        if 'POINT_VOLUME              :' in line: \n",
    "            # select spill volume quantity after ':'\n",
    "            spillvolume = line.split(':')[-1].split('\\n')[0]\n",
    "        if 'POSITION_COORDINATES       :' in line:\n",
    "            spill_location = line.split(':')[-1].split('\\n')[0]\n",
    "            print(spill_location)\n",
    "        if 'POSITION_COORDINATES      :' in line:\n",
    "            spill_location = line.split(':')[-1].split('\\n')[0]\n",
    "            print(spill_location)"
   ]
  },
  {
   "cell_type": "code",
   "execution_count": 7,
   "id": "5178b769-18b1-4b4a-af8f-42d68f83ac87",
   "metadata": {},
   "outputs": [],
   "source": [
    "regions = ['sog','cwchn','lummi','sji', 'ps','jdf']\n",
    "sog = numpy.full(BeachVolume.shape, False)\n",
    "cwchn = numpy.full(BeachVolume.shape, False)\n",
    "lummi = numpy.full(BeachVolume.shape, False)\n",
    "sji = numpy.full(BeachVolume.shape, False)\n",
    "ps = numpy.full(BeachVolume.shape, False)\n",
    "jdf = numpy.full(BeachVolume.shape, False)\n",
    "\n",
    "# Strait of Georgia\n",
    "sog[335:715,100:396] = True\n",
    "\n",
    "# Cowichan\n",
    "cwchn[340:500,150:295] = True\n",
    "\n",
    "# Lummi\n",
    "lummi[300:325,338:370] = True\n",
    "\n",
    "# sji\n",
    "sji[274:324,237:270]=True\n",
    "\n",
    "#ps\n",
    "ps[0:160,50:325]=True\n",
    "\n",
    "#jdf\n",
    "jdf[225:475,0:170]=True\n",
    "\n",
    "masks = {}\n",
    "for region in regions:\n",
    "    masks[region] = numpy.ma.masked_array(globals()[region])"
   ]
  },
  {
   "cell_type": "code",
   "execution_count": 8,
   "id": "eca36c87-caf8-4d98-a056-a6f90a7b0486",
   "metadata": {},
   "outputs": [
    {
     "name": "stdout",
     "output_type": "stream",
     "text": [
      "1427.3339233034833\n",
      "sog\n",
      "0.0\n",
      "0.0\n",
      "0.0\n",
      "0.0\n",
      "0.0\n"
     ]
    }
   ],
   "source": [
    "out={}\n",
    "for region in regions:\n",
    "    out[region]={}\n",
    "    out[region]['lat'] = []\n",
    "    out[region]['lon'] = []\n",
    "    out[region]['vol']=[]\n",
    "for region in regions:        \n",
    "    volByRegion=numpy.nansum(numpy.asarray(BeachVolume)[masks[region]]) \n",
    "    print(volByRegion)\n",
    "    if volByRegion > 0:\n",
    "        print(region)\n",
    "        out[region]['lat'].append(spill_location.split(' ')[2])\n",
    "        out[region]['lon'].append(spill_location.split(' ')[1])\n",
    "        out[region]['vol'].append(spillvolume)"
   ]
  },
  {
   "cell_type": "code",
   "execution_count": 9,
   "id": "9a32fcb2-c82d-4f4d-acaf-7a4cfd8f51e5",
   "metadata": {},
   "outputs": [
    {
     "data": {
      "text/plain": [
       "9833"
      ]
     },
     "execution_count": 9,
     "metadata": {},
     "output_type": "execute_result"
    }
   ],
   "source": [
    "len(run_paths['all'])"
   ]
  },
  {
   "cell_type": "markdown",
   "id": "8cc0c447-3b30-4eb6-9aec-8acbef785ea9",
   "metadata": {
    "tags": []
   },
   "source": [
    "## loop through all files and and find spill locations that affect region"
   ]
  },
  {
   "cell_type": "code",
   "execution_count": 10,
   "id": "07c2ac1d-a966-476f-821d-3b8a1f809627",
   "metadata": {},
   "outputs": [
    {
     "data": {
      "text/plain": [
       "['sog', 'cwchn', 'lummi', 'sji', 'ps', 'jdf']"
      ]
     },
     "execution_count": 10,
     "metadata": {},
     "output_type": "execute_result"
    }
   ],
   "source": [
    "regions"
   ]
  },
  {
   "cell_type": "code",
   "execution_count": 11,
   "id": "dd79325f-85be-4d81-91df-a58ed677b430",
   "metadata": {},
   "outputs": [
    {
     "name": "stdout",
     "output_type": "stream",
     "text": [
      "Run 0 of 9833\n",
      "Run 500 of 9833\n",
      "Run 1000 of 9833\n",
      "Run 1500 of 9833\n",
      "Run 2000 of 9833\n",
      "Run 2500 of 9833\n",
      "Run 3000 of 9833\n",
      "Run 3500 of 9833\n",
      "Run 4000 of 9833\n",
      "Run 4500 of 9833\n",
      "Run 5000 of 9833\n",
      "Run 5500 of 9833\n",
      "Run 6000 of 9833\n",
      "Run 6500 of 9833\n",
      "Run 7000 of 9833\n",
      "Run 7500 of 9833\n",
      "Run 8000 of 9833\n",
      "Run 8500 of 9833\n",
      "Run 9000 of 9833\n",
      "Run 9500 of 9833\n",
      "CPU times: user 35min 32s, sys: 4min 54s, total: 40min 26s\n",
      "Wall time: 1h 21min 49s\n"
     ]
    }
   ],
   "source": [
    "%%time\n",
    "nruns = len(run_paths['all'])\n",
    "run_list = run_paths['all']\n",
    "beach_threshold = 5e-3\n",
    "no_spills={}\n",
    "spills={}\n",
    "for region in regions:\n",
    "    # store all spills for a particular region\n",
    "    spills[region]={}\n",
    "    spills[region]['lat'] = []\n",
    "    spills[region]['lon'] = []\n",
    "    spills[region]['vol']=[]\n",
    "    spills[region]['spills_file'] = []\n",
    "    # store all non-spills for a particular region\n",
    "    no_spills[region]={}\n",
    "    no_spills[region]['lat'] = []\n",
    "    no_spills[region]['lon'] = []\n",
    "    no_spills[region]['vol']=[]\n",
    "    no_spills[region]['spills_file'] = []\n",
    "for run in range(nruns):\n",
    "    if run%500==0:\n",
    "        print(f'Run {run} of {nruns}')\n",
    "    input_file=run_list[run]\n",
    "    input_dir=os.path.dirname(os.path.abspath(input_file))\n",
    "    # identify oil type and run number from .nc file to query Lagrangian.dat file\n",
    "    nrun = input_file.split('/')[-1].split('-')[-1][:-3]\n",
    "    oil_tag = input_file.split('/')[-1].split('_')[1].split('-')[0]\n",
    "    Lagrangian_file = input_dir+f'/Lagrangian_{oil_tag}-{nrun}.dat'\n",
    "    if os.path.isfile(input_file):\n",
    "        # Read in results from output netcdf\n",
    "        try:\n",
    "            with xarray.open_dataset(input_file, engine='h5netcdf') as ds:\n",
    "                spill_start = ds.time[0]\n",
    "                spill_end = ds.time[-1]\n",
    "                # Select surface volume, concentration and dissolution\n",
    "                vol3d=ds.OilWaterColumnOilVol_3D.isel({'grid_z': 39})\n",
    "                conc3d=ds.OilConcentration_3D.isel({'grid_z': 39})\n",
    "\n",
    "        except:\n",
    "            print(f'missing {input_file}') \n",
    "            continue \n",
    "        #~~~~~~~~~~~~~~~~~~~~~~~~~~~~~~~~~~~~~~~~~~~~\n",
    "        # Grab spill information from Lagrangian file\n",
    "        with open(Lagrangian_file, 'r') as lagrangianFile:\n",
    "            \n",
    "            for line in lagrangianFile:\n",
    "                if 'POINT_VOLUME              :' in line: \n",
    "                    # select spill volume quantity after ':'\n",
    "                    spillvolume = line.split(':')[-1].split('\\n')[0]\n",
    "                if 'POSITION_COORDINATES       :' in line:\n",
    "                    spill_location = line.split(':')[-1].split('\\n')[0]\n",
    "                if 'POSITION_COORDINATES      :' in line:\n",
    "                    spill_location = line.split(':')[-1].split('\\n')[0]\n",
    "                   \n",
    "        #~~~~~~~~~~~~~~~~~~~~~~~~~~~~~~~~~~~~~~~~~~~~\n",
    "        # Store basics: Filename, lat, lon, spill volume\n",
    "        #files.append(input_file)\n",
    "        spill_volume=float(spillvolume)\n",
    "        latitude=(float(spill_location.split(' ')[2]))\n",
    "        longitude=(float(spill_location.split(' ')[1]))\n",
    "        # ~~~~~~~~~~~~~~\n",
    "\n",
    "        # Beaching \n",
    "        # ~~~~~~~~~~~~~~    \n",
    "        # Save volume over threshold \n",
    "        BeachVolume=ds.Beaching_Volume.where(\n",
    "            ds.Beaching_Volume>beach_threshold\n",
    "        )\n",
    "        \n",
    "        for region in regions:\n",
    "            volByRegion=numpy.nansum(numpy.asarray(BeachVolume)[masks[region]])           \n",
    "            if volByRegion > 0:               \n",
    "                spills[region]['lat'].append(latitude)\n",
    "                spills[region]['lon'].append(longitude)\n",
    "                spills[region]['vol'].append(float(spillvolume))\n",
    "                spills[region]['spills_file'].append(input_file)\n",
    "            else:\n",
    "                no_spills[region]['lat'].append(latitude)\n",
    "                no_spills[region]['lon'].append(longitude)\n",
    "                no_spills[region]['vol'].append(float(spillvolume))\n",
    "                no_spills[region]['spills_file'].append(input_file)\n",
    "df={}\n",
    "out_dir = pathlib.Path('/scratch/rmueller/MIDOSS/Results/try3/')\n",
    "for region in regions:\n",
    "    out_f = out_dir/f'{region}_SpillLocations.yaml'\n",
    "    with open(out_f, \"w\") as out_file:\n",
    "        yaml.safe_dump(spills[region], out_file)\n",
    "        \n",
    "    out_f = out_dir/f'{region}_NONESpillLocations.yaml'\n",
    "    with open(out_f, \"w\") as out_file:\n",
    "        yaml.safe_dump(no_spills[region], out_file)"
   ]
  },
  {
   "cell_type": "code",
   "execution_count": null,
   "id": "9c4f1f1d-8915-43ab-af46-fb6ef894ae78",
   "metadata": {},
   "outputs": [],
   "source": []
  }
 ],
 "metadata": {
  "kernelspec": {
   "display_name": "Python 3 (ipykernel)",
   "language": "python",
   "name": "python3"
  },
  "language_info": {
   "codemirror_mode": {
    "name": "ipython",
    "version": 3
   },
   "file_extension": ".py",
   "mimetype": "text/x-python",
   "name": "python",
   "nbconvert_exporter": "python",
   "pygments_lexer": "ipython3",
   "version": "3.8.2"
  }
 },
 "nbformat": 4,
 "nbformat_minor": 5
}
