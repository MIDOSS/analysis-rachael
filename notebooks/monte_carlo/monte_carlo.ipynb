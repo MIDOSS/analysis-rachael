{
 "cells": [
  {
   "cell_type": "markdown",
   "metadata": {},
   "source": [
    "## \"The mother ship\" \n",
    "This notebook organizes inpts and function calls for creating the monte carlo csv file"
   ]
  },
  {
   "cell_type": "markdown",
   "metadata": {},
   "source": [
    "##### Import functions neccessary for calling scripts"
   ]
  },
  {
   "cell_type": "code",
   "execution_count": 1,
   "metadata": {},
   "outputs": [
    {
     "ename": "IndentationError",
     "evalue": "unexpected indent (get_date.py, line 22)",
     "output_type": "error",
     "traceback": [
      "Traceback \u001b[0;36m(most recent call last)\u001b[0m:\n",
      "  File \u001b[1;32m\"/Users/rmueller/anaconda3/lib/python3.6/site-packages/IPython/core/interactiveshell.py\"\u001b[0m, line \u001b[1;32m2963\u001b[0m, in \u001b[1;35mrun_code\u001b[0m\n    exec(code_obj, self.user_global_ns, self.user_ns)\n",
      "\u001b[0;36m  File \u001b[0;32m\"<ipython-input-1-5026d30a609c>\"\u001b[0;36m, line \u001b[0;32m2\u001b[0;36m, in \u001b[0;35m<module>\u001b[0;36m\u001b[0m\n\u001b[0;31m    from get_date import get_date\u001b[0m\n",
      "\u001b[0;36m  File \u001b[0;32m\"/Users/rmueller/Projects/MIDOSS/analysis-rachael/notebooks/monte_carlo/get_date.py\"\u001b[0;36m, line \u001b[0;32m22\u001b[0m\n\u001b[0;31m    for month in months:\u001b[0m\n\u001b[0m    ^\u001b[0m\n\u001b[0;31mIndentationError\u001b[0m\u001b[0;31m:\u001b[0m unexpected indent\n"
     ]
    }
   ],
   "source": [
    "# import monte-carlo functions\n",
    "from get_date import get_date\n",
    "from get_lat_lon_indices import get_lat_lon_indices\n",
    "from get_vessel_type import get_vessel_type\n",
    "\n",
    "# import python functions needed for input variables\n",
    "from datetime import datetime, date, timedelta\n",
    "import arrow"
   ]
  },
  {
   "cell_type": "markdown",
   "metadata": {},
   "source": [
    "##### These are the input variables needed to run the functions for the monte-carlo setup"
   ]
  },
  {
   "cell_type": "code",
   "execution_count": null,
   "metadata": {},
   "outputs": [],
   "source": [
    "# spill date\n",
    "start_date = datetime(2015, 1, 1, 0, 30)\n",
    "end_date   = datetime(2018, 12, 31, 23, 55)\n",
    "delta_time = timedelta(hours = 1)\n",
    "\n",
    "# spill location\n",
    "ais_data_year = 2018\n",
    "n_locations = 1  #desired number of latitude and longitude values\n",
    "geotiff_directory = '/Users/rmueller/Data/MIDOSS/AIS/ShipTrackDensityGeoTIFFs/'\n",
    "upsample_factor = 1 # GeoTIFF lat/lon will be sampled at 1/upsample_factor [km] resolution\n",
    "vessel_types      = [\"tanker\", \"atb\", \"barge\", \"cargo\", \"cruise\",\n",
    "                     \"ferry\", \"fishing\", \"smallpass\", \"other\"]"
   ]
  },
  {
   "cell_type": "markdown",
   "metadata": {},
   "source": [
    "##### Imports and definitions for testing scripts and validating output"
   ]
  },
  {
   "cell_type": "code",
   "execution_count": null,
   "metadata": {},
   "outputs": [],
   "source": [
    "# these aren't used or needed for function calls\n",
    "from rasterio.enums import Resampling\n",
    "import rasterio as rio"
   ]
  },
  {
   "cell_type": "markdown",
   "metadata": {},
   "source": [
    "#### Get the spill date"
   ]
  },
  {
   "cell_type": "code",
   "execution_count": null,
   "metadata": {},
   "outputs": [],
   "source": [
    "spill_date = get_date( start_date, \n",
    "             end_date, \n",
    "             geotiff_directory,\n",
    "             n_locations,\n",
    "             delta_time\n",
    "            )\n",
    "spill_month = spill_date.month\n",
    "spill_month_name  = arrow.get(spill_date).format('MMMM') # string\n",
    "f'{spill_month:02.0f}'"
   ]
  },
  {
   "cell_type": "markdown",
   "metadata": {},
   "source": [
    "####  Get spill lat/lon value(s) as well as index values for extracting vessel time exposure values from GeoTIFFS"
   ]
  },
  {
   "cell_type": "code",
   "execution_count": null,
   "metadata": {},
   "outputs": [],
   "source": [
    "[lats, lons, x_index, y_index, data_val] = get_lat_lon_indices(geotiff_directory, spill_month, n_locations, upsample_factor)    "
   ]
  },
  {
   "cell_type": "code",
   "execution_count": null,
   "metadata": {},
   "outputs": [],
   "source": [
    "lats"
   ]
  },
  {
   "cell_type": "code",
   "execution_count": null,
   "metadata": {},
   "outputs": [],
   "source": [
    "lons"
   ]
  },
  {
   "cell_type": "code",
   "execution_count": null,
   "metadata": {},
   "outputs": [],
   "source": [
    "x_index"
   ]
  },
  {
   "cell_type": "code",
   "execution_count": null,
   "metadata": {},
   "outputs": [],
   "source": [
    "y_index"
   ]
  },
  {
   "cell_type": "code",
   "execution_count": null,
   "metadata": {},
   "outputs": [],
   "source": [
    "data_val"
   ]
  },
  {
   "cell_type": "code",
   "execution_count": null,
   "metadata": {},
   "outputs": [],
   "source": [
    "# load geotiff and access \"data_val\" with [x_index, y_index] to verify that the output is equivalent\n",
    "\n",
    "traffic_reader = rio.open(f'{geotiff_directory}all_2018_{spill_month:02.0f}.tif')\n",
    "\n",
    "# dataset closes automatically using the method below\n",
    "\n",
    "with traffic_reader as dataset:\n",
    "    # resample data to target shape\n",
    "    data = dataset.read(1,\n",
    "        out_shape=(\n",
    "            dataset.count,\n",
    "            int(dataset.height * upsample_factor),\n",
    "            int(dataset.width * upsample_factor)\n",
    "        ),\n",
    "        resampling=Resampling.bilinear\n",
    "    )\n",
    "\n",
    "    # scale image transform\n",
    "    transform = dataset.transform * dataset.transform.scale(\n",
    "        (dataset.width / data.shape[-1]),\n",
    "        (dataset.height / data.shape[-2])\n",
    "    )\n",
    "\n",
    "print(f'compare output data_val = {data_val} hours/km^2 with {data[x_index,y_index]} hours/km^2')    "
   ]
  },
  {
   "cell_type": "markdown",
   "metadata": {},
   "source": [
    "####  Get vessel type "
   ]
  },
  {
   "cell_type": "code",
   "execution_count": null,
   "metadata": {},
   "outputs": [],
   "source": [
    "vessel_type = get_vessel_type(geotiff_directory, \n",
    "                              vessel_types, \n",
    "                              ais_data_year, \n",
    "                              n_locations, \n",
    "                              spill_month,  # from get_date\n",
    "                              x_index,      # from get_lat_lon_indices\n",
    "                              y_index       # from get_lat_lon_indices\n",
    "                              )\n",
    "vessel_type"
   ]
  },
  {
   "cell_type": "code",
   "execution_count": null,
   "metadata": {},
   "outputs": [],
   "source": []
  }
 ],
 "metadata": {
  "kernelspec": {
   "display_name": "Python 3",
   "language": "python",
   "name": "python3"
  },
  "language_info": {
   "codemirror_mode": {
    "name": "ipython",
    "version": 3
   },
   "file_extension": ".py",
   "mimetype": "text/x-python",
   "name": "python",
   "nbconvert_exporter": "python",
   "pygments_lexer": "ipython3",
   "version": "3.6.5"
  }
 },
 "nbformat": 4,
 "nbformat_minor": 2
}
