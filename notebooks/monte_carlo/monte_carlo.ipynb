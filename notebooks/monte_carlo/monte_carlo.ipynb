{
 "cells": [
  {
   "cell_type": "markdown",
   "metadata": {},
   "source": [
    "## \"The mother ship\" \n",
    "This notebook organizes inpts and function calls for creating the monte carlo csv file"
   ]
  },
  {
   "cell_type": "markdown",
   "metadata": {},
   "source": [
    "##### Import functions neccessary for calling scripts"
   ]
  },
  {
   "cell_type": "code",
   "execution_count": 1,
   "metadata": {},
   "outputs": [],
   "source": [
    "# import monte-carlo functions\n",
    "from get_date import get_date\n",
    "from get_lat_lon_indices import get_lat_lon_indices\n",
    "from get_vessel_type import get_vessel_type\n",
    "from get_vte_probability import get_vte_probability\n",
    "from get_oil_capacity import get_oil_capacity\n",
    "from get_length_origin_destination import get_length_origin_destination\n",
    "import time\n",
    "\n",
    "# import python functions needed for input variables\n",
    "from datetime import datetime, date, timedelta\n",
    "import arrow"
   ]
  },
  {
   "cell_type": "markdown",
   "metadata": {},
   "source": [
    "##### These are the input variables needed to run the functions for the monte-carlo setup"
   ]
  },
  {
   "cell_type": "code",
   "execution_count": 2,
   "metadata": {},
   "outputs": [],
   "source": [
    "# spill date\n",
    "start_date = datetime(2015, 1, 1, 0, 30)\n",
    "end_date   = datetime(2018, 12, 31, 23, 55)\n",
    "delta_time = timedelta(hours = 1)\n",
    "\n",
    "# spill location\n",
    "ais_data_year = 2018\n",
    "n_locations = 1  #desired number of latitude and longitude values\n",
    "geotiff_directory = '/Users/rmueller/Data/MIDOSS/AIS/ShipTrackDensityGeoTIFFs/'\n",
    "upsample_factor = 1 # GeoTIFF lat/lon will be sampled at 1/upsample_factor [km] resolution\n",
    "vessel_types      = [\"tanker\", \"atb\", \"barge\", \"cargo\", \"cruise\",\n",
    "                     \"ferry\", \"fishing\", \"smallpass\", \"other\"]"
   ]
  },
  {
   "cell_type": "markdown",
   "metadata": {},
   "source": [
    "##### Imports and definitions for testing scripts and validating output"
   ]
  },
  {
   "cell_type": "code",
   "execution_count": 3,
   "metadata": {},
   "outputs": [],
   "source": [
    "# these aren't used or needed for function calls\n",
    "from rasterio.enums import Resampling\n",
    "import rasterio as rio"
   ]
  },
  {
   "cell_type": "markdown",
   "metadata": {},
   "source": [
    "#### Get the spill date"
   ]
  },
  {
   "cell_type": "code",
   "execution_count": 4,
   "metadata": {},
   "outputs": [
    {
     "data": {
      "text/plain": [
       "'04'"
      ]
     },
     "execution_count": 4,
     "metadata": {},
     "output_type": "execute_result"
    }
   ],
   "source": [
    "# get vessel traffic exposure probability by month\n",
    "vte_probability = get_vte_probability( geotiff_directory )\n",
    "\n",
    "spill_date = get_date( start_date, \n",
    "             end_date, \n",
    "             vte_probability,\n",
    "             delta_time\n",
    "            )\n",
    "spill_month = spill_date.month\n",
    "spill_month_name  = arrow.get(spill_date).format('MMMM') # string\n",
    "f'{spill_month:02.0f}'"
   ]
  },
  {
   "cell_type": "markdown",
   "metadata": {},
   "source": [
    "####  Get spill lat/lon value(s) as well as index values for extracting vessel time exposure values from GeoTIFFS"
   ]
  },
  {
   "cell_type": "code",
   "execution_count": 5,
   "metadata": {},
   "outputs": [
    {
     "name": "stdout",
     "output_type": "stream",
     "text": [
      "Randomly selecting spill location from all-traffic GeoTIFF:\n",
      "...Creating 2D array of lat/lon strings (this may take a moment)\n",
      "...Selecting 1 location(s)\n",
      "...Creating vectors of lat/lon pairs and x-index/y-index pairs\n",
      "That's a wrap, folks!\n"
     ]
    }
   ],
   "source": [
    "[spill_lat, spill_lon, x_index, y_index, data_val] = get_lat_lon_indices(geotiff_directory, spill_month, n_locations, upsample_factor)    "
   ]
  },
  {
   "cell_type": "code",
   "execution_count": 6,
   "metadata": {},
   "outputs": [
    {
     "data": {
      "text/plain": [
       "array([-123.4514])"
      ]
     },
     "execution_count": 6,
     "metadata": {},
     "output_type": "execute_result"
    }
   ],
   "source": [
    "spill_lat"
   ]
  },
  {
   "cell_type": "code",
   "execution_count": 7,
   "metadata": {},
   "outputs": [
    {
     "data": {
      "text/plain": [
       "array([48.33566])"
      ]
     },
     "execution_count": 7,
     "metadata": {},
     "output_type": "execute_result"
    }
   ],
   "source": [
    "spill_lon"
   ]
  },
  {
   "cell_type": "code",
   "execution_count": 8,
   "metadata": {},
   "outputs": [
    {
     "data": {
      "text/plain": [
       "array([272])"
      ]
     },
     "execution_count": 8,
     "metadata": {},
     "output_type": "execute_result"
    }
   ],
   "source": [
    "x_index"
   ]
  },
  {
   "cell_type": "code",
   "execution_count": 9,
   "metadata": {},
   "outputs": [
    {
     "data": {
      "text/plain": [
       "array([471])"
      ]
     },
     "execution_count": 9,
     "metadata": {},
     "output_type": "execute_result"
    }
   ],
   "source": [
    "y_index"
   ]
  },
  {
   "cell_type": "code",
   "execution_count": 10,
   "metadata": {},
   "outputs": [
    {
     "data": {
      "text/plain": [
       "array([6.39895725])"
      ]
     },
     "execution_count": 10,
     "metadata": {},
     "output_type": "execute_result"
    }
   ],
   "source": [
    "data_val"
   ]
  },
  {
   "cell_type": "code",
   "execution_count": 11,
   "metadata": {},
   "outputs": [
    {
     "name": "stdout",
     "output_type": "stream",
     "text": [
      "compare output data_val = [6.39895725] hours/km^2 with [6.3989573] hours/km^2\n"
     ]
    }
   ],
   "source": [
    "# load geotiff and access \"data_val\" with [x_index, y_index] to verify that the output is equivalent\n",
    "\n",
    "traffic_reader = rio.open(f'{geotiff_directory}all_2018_{spill_month:02.0f}.tif')\n",
    "\n",
    "# dataset closes automatically using the method below\n",
    "\n",
    "with traffic_reader as dataset:\n",
    "    # resample data to target shape\n",
    "    data = dataset.read(1,\n",
    "        out_shape=(\n",
    "            dataset.count,\n",
    "            int(dataset.height * upsample_factor),\n",
    "            int(dataset.width * upsample_factor)\n",
    "        ),\n",
    "        resampling=Resampling.bilinear\n",
    "    )\n",
    "\n",
    "    # scale image transform\n",
    "    transform = dataset.transform * dataset.transform.scale(\n",
    "        (dataset.width / data.shape[-1]),\n",
    "        (dataset.height / data.shape[-2])\n",
    "    )\n",
    "\n",
    "print(f'compare output data_val = {data_val} hours/km^2 with {data[x_index,y_index]} hours/km^2')    "
   ]
  },
  {
   "cell_type": "markdown",
   "metadata": {},
   "source": [
    "####  Get vessel type "
   ]
  },
  {
   "cell_type": "code",
   "execution_count": 12,
   "metadata": {},
   "outputs": [
    {
     "data": {
      "text/plain": [
       "[array(['cargo'], dtype='<U9')]"
      ]
     },
     "execution_count": 12,
     "metadata": {},
     "output_type": "execute_result"
    }
   ],
   "source": [
    "vessel_type = get_vessel_type(geotiff_directory, \n",
    "                              vessel_types, \n",
    "                              ais_data_year, \n",
    "                              n_locations, \n",
    "                              spill_month,  # from get_date\n",
    "                              x_index,      # from get_lat_lon_indices\n",
    "                              y_index       # from get_lat_lon_indices\n",
    "                              )\n",
    "vessel_type"
   ]
  },
  {
   "cell_type": "markdown",
   "metadata": {},
   "source": [
    "#### get length origin destination\n",
    "The shapefiles for this piece aren't yet done, so we need to use january and cargo"
   ]
  },
  {
   "cell_type": "code",
   "execution_count": 13,
   "metadata": {},
   "outputs": [
    {
     "data": {
      "text/plain": [
       "'this is going to take a minute....'"
      ]
     },
     "metadata": {},
     "output_type": "display_data"
    }
   ],
   "source": [
    "vessel_test = 'cargo'\n",
    "month = '01'\n",
    "spill_lon = -124.9243\n",
    "spill_lat = 50.18442\n",
    "search_radius = 0.5 #km\n",
    "shapefile_directory  = f'/Users/rmueller/Data/MIDOSS/{vessel_test}_2018_{month}/'\n",
    "tic = time.time()\n",
    "[length, origin, destination] = get_length_origin_destination( \n",
    "    shapefile_directory, \n",
    "    vessel_test, \n",
    "    month, \n",
    "    spill_lat, \n",
    "    spill_lon, \n",
    "    search_radius \n",
    ")\n",
    "toc = time.time()-tic"
   ]
  },
  {
   "cell_type": "code",
   "execution_count": 14,
   "metadata": {},
   "outputs": [
    {
     "data": {
      "text/plain": [
       "42.176156997680664"
      ]
     },
     "execution_count": 14,
     "metadata": {},
     "output_type": "execute_result"
    }
   ],
   "source": [
    "toc"
   ]
  },
  {
   "cell_type": "code",
   "execution_count": 15,
   "metadata": {},
   "outputs": [],
   "source": [
    "from salishsea_tools import geo_tools"
   ]
  },
  {
   "cell_type": "markdown",
   "metadata": {},
   "source": [
    "#### Determine whether spill is fuel or cargo and then determine fuel type\n",
    "Note: I approach this by first determining if spill is fuel or cargo and then determining the type of fuel if it's cargo.  The caveat here is that some of the barge traffic will be determined to be fuel-spill risk only.  For the barge case only, I have set up two return variables for the get_oil_type script.  One variable is \"fuel_flag\".  If fuel_flag == 1 then the spill is a fuel_spill.  \n",
    "\n",
    "The scripts for getting oil cargo type are called as follows:\n",
    "\n",
    "- oil_type = get_oil_type_tanker(\n",
    "                    master_dir, \n",
    "                    master_file, \n",
    "                    origin, \n",
    "                    destination,\n",
    "                    random_generator\n",
    "                )\n",
    "\n",
    "- oil_type = get_oil_type_atb(\n",
    "                    master_dir, \n",
    "                    master_file, \n",
    "                    origin, \n",
    "                    destination,\n",
    "                    random_generator\n",
    "                )\n",
    "\n",
    "- [oil_type, fuel_flag] = get_oil_type_barge(\n",
    "                    master_dir, \n",
    "                    master_file, \n",
    "                    origin, \n",
    "                    destination,\n",
    "                    random_generator\n",
    "                )\n"
   ]
  },
  {
   "cell_type": "code",
   "execution_count": 16,
   "metadata": {},
   "outputs": [],
   "source": [
    "# first, I'm going to retro-actively add some variables that can be placed\n",
    "# at the top of the run script\n",
    "import yaml\n",
    "import numpy\n",
    "from get_oil_type_atb import get_oil_type_atb\n",
    "from get_oil_type_tanker import get_oil_type_tanker\n",
    "from get_oil_type_barge import get_oil_type_barge\n",
    "\n",
    "master_dir  = '/Users/rmueller/Projects/MIDOSS/analysis-rachael/'\\\n",
    "               'notebooks/monte_carlo/data/'\n",
    "master_file = 'master.yaml'\n",
    "fuel_file   = 'fuel_by_vessel.yaml'\n",
    "\n",
    "with open(f'{master_dir}{master_file}') as file:\n",
    "        master = yaml.load(file, Loader=yaml.Loader)\n",
    "        \n",
    "with open(f'{master_dir}{fuel_file}') as file:\n",
    "        fuel = yaml.load(file, Loader=yaml.Loader)"
   ]
  },
  {
   "cell_type": "code",
   "execution_count": 17,
   "metadata": {},
   "outputs": [
    {
     "data": {
      "text/plain": [
       "{'atb': {'bunker': 0.38, 'diesel': 0.62},\n",
       " 'barge': {'bunker': 0.38, 'diesel': 0.62},\n",
       " 'cargo': {'bunker': 0.97, 'diesel': 0.03},\n",
       " 'cruise': {'bunker': 0.8, 'diesel': 0.2},\n",
       " 'ferry': {'bunker': 0.0, 'diesel': 1.0},\n",
       " 'fishing': {'bunker': 0.14, 'diesel': 0.86},\n",
       " 'other': {'bunker': 0.32, 'diesel': 0.68},\n",
       " 'smallpass': {'bunker': 0.0, 'diesel': 1.0},\n",
       " 'tanker': {'bunker': 0.64, 'diesel': 0.36}}"
      ]
     },
     "execution_count": 17,
     "metadata": {},
     "output_type": "execute_result"
    }
   ],
   "source": [
    "# These values don't take into consideration new insights w.r.t. tanker values\n",
    "# Need to review choices\n",
    "fuel"
   ]
  },
  {
   "cell_type": "code",
   "execution_count": 18,
   "metadata": {},
   "outputs": [
    {
     "ename": "TypeError",
     "evalue": "expected str, bytes or os.PathLike object, not dict",
     "output_type": "error",
     "traceback": [
      "\u001b[0;31m---------------------------------------------------------------------------\u001b[0m",
      "\u001b[0;31mTypeError\u001b[0m                                 Traceback (most recent call last)",
      "\u001b[0;32m<ipython-input-18-8c6701684184>\u001b[0m in \u001b[0;36m<module>\u001b[0;34m\u001b[0m\n\u001b[1;32m     36\u001b[0m               )\n\u001b[1;32m     37\u001b[0m         \u001b[0;32melif\u001b[0m \u001b[0mvessel_type\u001b[0m \u001b[0;34m==\u001b[0m \u001b[0;34m'tanker'\u001b[0m\u001b[0;34m:\u001b[0m\u001b[0;34m\u001b[0m\u001b[0;34m\u001b[0m\u001b[0m\n\u001b[0;32m---> 38\u001b[0;31m             cargo_oil_type = get_oil_type_tanker(\n\u001b[0m\u001b[1;32m     39\u001b[0m                         \u001b[0mmaster_dir\u001b[0m\u001b[0;34m,\u001b[0m\u001b[0;34m\u001b[0m\u001b[0;34m\u001b[0m\u001b[0m\n\u001b[1;32m     40\u001b[0m                         \u001b[0mmaster_file\u001b[0m\u001b[0;34m,\u001b[0m\u001b[0;34m\u001b[0m\u001b[0;34m\u001b[0m\u001b[0m\n",
      "\u001b[0;32m~/Projects/MIDOSS/analysis-rachael/notebooks/monte_carlo/get_oil_type_tanker.py\u001b[0m in \u001b[0;36mget_oil_type_tanker\u001b[0;34m(master_dir, master_file, origin, destination, random_generator)\u001b[0m\n\u001b[1;32m     34\u001b[0m     \u001b[0;31m# US_origin is for US as origin\u001b[0m\u001b[0;34m\u001b[0m\u001b[0;34m\u001b[0m\u001b[0;34m\u001b[0m\u001b[0m\n\u001b[1;32m     35\u001b[0m     \u001b[0;31m# US_combined represents the combined import and export of fuel\u001b[0m\u001b[0;34m\u001b[0m\u001b[0;34m\u001b[0m\u001b[0;34m\u001b[0m\u001b[0m\n\u001b[0;32m---> 36\u001b[0;31m     \u001b[0mhome\u001b[0m \u001b[0;34m=\u001b[0m \u001b[0mpathlib\u001b[0m\u001b[0;34m.\u001b[0m\u001b[0mPath\u001b[0m\u001b[0;34m(\u001b[0m\u001b[0mmaster\u001b[0m\u001b[0;34m[\u001b[0m\u001b[0;34m'directories'\u001b[0m\u001b[0;34m]\u001b[0m\u001b[0;34m)\u001b[0m\u001b[0;34m\u001b[0m\u001b[0;34m\u001b[0m\u001b[0m\n\u001b[0m\u001b[1;32m     37\u001b[0m     \u001b[0mCAD_yaml\u001b[0m     \u001b[0;34m=\u001b[0m \u001b[0mhome\u001b[0m\u001b[0;34m/\u001b[0m\u001b[0mmaster\u001b[0m\u001b[0;34m[\u001b[0m\u001b[0;34m'files'\u001b[0m\u001b[0;34m]\u001b[0m\u001b[0;34m[\u001b[0m\u001b[0;34m'CAD_origin'\u001b[0m\u001b[0;34m]\u001b[0m\u001b[0;34m\u001b[0m\u001b[0;34m\u001b[0m\u001b[0m\n\u001b[1;32m     38\u001b[0m     \u001b[0mWA_in_yaml\u001b[0m   \u001b[0;34m=\u001b[0m \u001b[0mhome\u001b[0m\u001b[0;34m/\u001b[0m\u001b[0mmaster\u001b[0m\u001b[0;34m[\u001b[0m\u001b[0;34m'files'\u001b[0m\u001b[0;34m]\u001b[0m\u001b[0;34m[\u001b[0m\u001b[0;34m'WA_destination'\u001b[0m\u001b[0;34m]\u001b[0m\u001b[0;34m\u001b[0m\u001b[0;34m\u001b[0m\u001b[0m\n",
      "\u001b[0;32m~/anaconda3/envs/monte_carlo/lib/python3.8/pathlib.py\u001b[0m in \u001b[0;36m__new__\u001b[0;34m(cls, *args, **kwargs)\u001b[0m\n\u001b[1;32m   1036\u001b[0m         \u001b[0;32mif\u001b[0m \u001b[0mcls\u001b[0m \u001b[0;32mis\u001b[0m \u001b[0mPath\u001b[0m\u001b[0;34m:\u001b[0m\u001b[0;34m\u001b[0m\u001b[0;34m\u001b[0m\u001b[0m\n\u001b[1;32m   1037\u001b[0m             \u001b[0mcls\u001b[0m \u001b[0;34m=\u001b[0m \u001b[0mWindowsPath\u001b[0m \u001b[0;32mif\u001b[0m \u001b[0mos\u001b[0m\u001b[0;34m.\u001b[0m\u001b[0mname\u001b[0m \u001b[0;34m==\u001b[0m \u001b[0;34m'nt'\u001b[0m \u001b[0;32melse\u001b[0m \u001b[0mPosixPath\u001b[0m\u001b[0;34m\u001b[0m\u001b[0;34m\u001b[0m\u001b[0m\n\u001b[0;32m-> 1038\u001b[0;31m         \u001b[0mself\u001b[0m \u001b[0;34m=\u001b[0m \u001b[0mcls\u001b[0m\u001b[0;34m.\u001b[0m\u001b[0m_from_parts\u001b[0m\u001b[0;34m(\u001b[0m\u001b[0margs\u001b[0m\u001b[0;34m,\u001b[0m \u001b[0minit\u001b[0m\u001b[0;34m=\u001b[0m\u001b[0;32mFalse\u001b[0m\u001b[0;34m)\u001b[0m\u001b[0;34m\u001b[0m\u001b[0;34m\u001b[0m\u001b[0m\n\u001b[0m\u001b[1;32m   1039\u001b[0m         \u001b[0;32mif\u001b[0m \u001b[0;32mnot\u001b[0m \u001b[0mself\u001b[0m\u001b[0;34m.\u001b[0m\u001b[0m_flavour\u001b[0m\u001b[0;34m.\u001b[0m\u001b[0mis_supported\u001b[0m\u001b[0;34m:\u001b[0m\u001b[0;34m\u001b[0m\u001b[0;34m\u001b[0m\u001b[0m\n\u001b[1;32m   1040\u001b[0m             raise NotImplementedError(\"cannot instantiate %r on your system\"\n",
      "\u001b[0;32m~/anaconda3/envs/monte_carlo/lib/python3.8/pathlib.py\u001b[0m in \u001b[0;36m_from_parts\u001b[0;34m(cls, args, init)\u001b[0m\n\u001b[1;32m    677\u001b[0m         \u001b[0;31m# right flavour.\u001b[0m\u001b[0;34m\u001b[0m\u001b[0;34m\u001b[0m\u001b[0;34m\u001b[0m\u001b[0m\n\u001b[1;32m    678\u001b[0m         \u001b[0mself\u001b[0m \u001b[0;34m=\u001b[0m \u001b[0mobject\u001b[0m\u001b[0;34m.\u001b[0m\u001b[0m__new__\u001b[0m\u001b[0;34m(\u001b[0m\u001b[0mcls\u001b[0m\u001b[0;34m)\u001b[0m\u001b[0;34m\u001b[0m\u001b[0;34m\u001b[0m\u001b[0m\n\u001b[0;32m--> 679\u001b[0;31m         \u001b[0mdrv\u001b[0m\u001b[0;34m,\u001b[0m \u001b[0mroot\u001b[0m\u001b[0;34m,\u001b[0m \u001b[0mparts\u001b[0m \u001b[0;34m=\u001b[0m \u001b[0mself\u001b[0m\u001b[0;34m.\u001b[0m\u001b[0m_parse_args\u001b[0m\u001b[0;34m(\u001b[0m\u001b[0margs\u001b[0m\u001b[0;34m)\u001b[0m\u001b[0;34m\u001b[0m\u001b[0;34m\u001b[0m\u001b[0m\n\u001b[0m\u001b[1;32m    680\u001b[0m         \u001b[0mself\u001b[0m\u001b[0;34m.\u001b[0m\u001b[0m_drv\u001b[0m \u001b[0;34m=\u001b[0m \u001b[0mdrv\u001b[0m\u001b[0;34m\u001b[0m\u001b[0;34m\u001b[0m\u001b[0m\n\u001b[1;32m    681\u001b[0m         \u001b[0mself\u001b[0m\u001b[0;34m.\u001b[0m\u001b[0m_root\u001b[0m \u001b[0;34m=\u001b[0m \u001b[0mroot\u001b[0m\u001b[0;34m\u001b[0m\u001b[0;34m\u001b[0m\u001b[0m\n",
      "\u001b[0;32m~/anaconda3/envs/monte_carlo/lib/python3.8/pathlib.py\u001b[0m in \u001b[0;36m_parse_args\u001b[0;34m(cls, args)\u001b[0m\n\u001b[1;32m    661\u001b[0m                 \u001b[0mparts\u001b[0m \u001b[0;34m+=\u001b[0m \u001b[0ma\u001b[0m\u001b[0;34m.\u001b[0m\u001b[0m_parts\u001b[0m\u001b[0;34m\u001b[0m\u001b[0;34m\u001b[0m\u001b[0m\n\u001b[1;32m    662\u001b[0m             \u001b[0;32melse\u001b[0m\u001b[0;34m:\u001b[0m\u001b[0;34m\u001b[0m\u001b[0;34m\u001b[0m\u001b[0m\n\u001b[0;32m--> 663\u001b[0;31m                 \u001b[0ma\u001b[0m \u001b[0;34m=\u001b[0m \u001b[0mos\u001b[0m\u001b[0;34m.\u001b[0m\u001b[0mfspath\u001b[0m\u001b[0;34m(\u001b[0m\u001b[0ma\u001b[0m\u001b[0;34m)\u001b[0m\u001b[0;34m\u001b[0m\u001b[0;34m\u001b[0m\u001b[0m\n\u001b[0m\u001b[1;32m    664\u001b[0m                 \u001b[0;32mif\u001b[0m \u001b[0misinstance\u001b[0m\u001b[0;34m(\u001b[0m\u001b[0ma\u001b[0m\u001b[0;34m,\u001b[0m \u001b[0mstr\u001b[0m\u001b[0;34m)\u001b[0m\u001b[0;34m:\u001b[0m\u001b[0;34m\u001b[0m\u001b[0;34m\u001b[0m\u001b[0m\n\u001b[1;32m    665\u001b[0m                     \u001b[0;31m# Force-cast str subclasses to str (issue #21127)\u001b[0m\u001b[0;34m\u001b[0m\u001b[0;34m\u001b[0m\u001b[0;34m\u001b[0m\u001b[0m\n",
      "\u001b[0;31mTypeError\u001b[0m: expected str, bytes or os.PathLike object, not dict"
     ]
    }
   ],
   "source": [
    "tank_vessels = master['categories']['tank_vessels']\n",
    "vessel_type = 'tanker'\n",
    "# Initialize PCG-64 random number generator\n",
    "random_generator = numpy.random.default_rng(None)\n",
    "\n",
    "if vessel_type in tank_vessels:\n",
    "    \n",
    "    # \n",
    "    # fuel-spill or cargo-spill?\n",
    "    probability = [\n",
    "        master['vessel_attributes'][vessel_type]['probability_cargo'],\n",
    "        master['vessel_attributes'][vessel_type]['probability_fuel']\n",
    "    ]\n",
    "    \n",
    "    # fuel_flag = 1 indicates a fuel-spill\n",
    "    fuel_flag = random_generator.choice(\n",
    "                    [0, 1], \n",
    "                    p = probability)\n",
    "    \n",
    "    if not fuel_flag:\n",
    "        if vessel_type == 'atb':\n",
    "            cargo_oil_type = get_oil_type_atb(\n",
    "                  master_dir, \n",
    "                  master_file, \n",
    "                  origin, \n",
    "                  destination,\n",
    "                  random_generator\n",
    "              )\n",
    "        elif vessel_type == 'barge':\n",
    "            [cargo_oil_type, fuel_flag] = get_oil_type_barge(\n",
    "                  master_dir, \n",
    "                  master_file, \n",
    "                  origin, \n",
    "                  destination,\n",
    "                  random_generator\n",
    "              )\n",
    "        elif vessel_type == 'tanker':\n",
    "            cargo_oil_type = get_oil_type_tanker(\n",
    "                        master_dir, \n",
    "                        master_file, \n",
    "                        origin, \n",
    "                        destination,\n",
    "                        random_generator\n",
    "                    )\n",
    "    # The indentation here is to catch the cases that are originally \n",
    "    # determined as fuel spills as well as cargo spills converted to fuel-spills         \n",
    "    if fuel_flag:\n",
    "        fuel_oil_type = random_generator.choice(\n",
    "                    ['bunker', 'diesel'], \n",
    "                    p = [\n",
    "                        fuel[vessel_type]['bunker'], \n",
    "                        fuel[vessel_type]['diesel']\n",
    "                    ]\n",
    "        )\n",
    "        \n",
    "# fuel-type for non-tank traffic\n",
    "else:\n",
    "    fuel_oil_type = random_generator.choice(\n",
    "                    ['bunker', 'diesel'], \n",
    "                    p = [\n",
    "                        fuel[vessel_type]['bunker'], \n",
    "                        fuel[vessel_type]['diesel']\n",
    "                    ]\n",
    "        )"
   ]
  },
  {
   "cell_type": "markdown",
   "metadata": {},
   "source": [
    "### Calculate spill volume"
   ]
  },
  {
   "cell_type": "code",
   "execution_count": null,
   "metadata": {},
   "outputs": [],
   "source": [
    "# first, test get_oil_capacity script\n",
    "from get_oil_capacity import get_oil_capacity\n",
    "master_file = './master.yaml'\n",
    "vessel_length = 100\n",
    "[fuel_capacity, cargo_capacity] = get_oil_capacity(\n",
    "    master_file,\n",
    "    vessel_length, \n",
    "    vessel_type,\n",
    "    1\n",
    ")\n",
    "\n",
    "if fuel_flag: \n",
    "    oil_type = fuel_oil_type\n",
    "    oil_capacity = fuel_capacity\n",
    "else:\n",
    "    oil_type = cargo_oil_type\n",
    "    oil_capacity = cargo_capacity\n"
   ]
  },
  {
   "cell_type": "markdown",
   "metadata": {},
   "source": [
    "### Apply Susan's probability function to oil_capacity to get spill volume"
   ]
  },
  {
   "cell_type": "code",
   "execution_count": null,
   "metadata": {},
   "outputs": [],
   "source": []
  },
  {
   "cell_type": "code",
   "execution_count": null,
   "metadata": {},
   "outputs": [],
   "source": []
  },
  {
   "cell_type": "code",
   "execution_count": null,
   "metadata": {},
   "outputs": [],
   "source": [
    "numpy.random.random_generator"
   ]
  },
  {
   "cell_type": "code",
   "execution_count": null,
   "metadata": {},
   "outputs": [],
   "source": []
  }
 ],
 "metadata": {
  "kernelspec": {
   "display_name": "Python 3",
   "language": "python",
   "name": "python3"
  },
  "language_info": {
   "codemirror_mode": {
    "name": "ipython",
    "version": 3
   },
   "file_extension": ".py",
   "mimetype": "text/x-python",
   "name": "python",
   "nbconvert_exporter": "python",
   "pygments_lexer": "ipython3",
   "version": "3.8.4"
  }
 },
 "nbformat": 4,
 "nbformat_minor": 4
}
