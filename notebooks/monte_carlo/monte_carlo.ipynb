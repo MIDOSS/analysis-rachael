{
 "cells": [
  {
   "cell_type": "markdown",
   "metadata": {},
   "source": [
    "## \"The mother ship\" \n",
    "This notebook organizes inpts and function calls for creating the monte carlo csv file"
   ]
  },
  {
   "cell_type": "markdown",
   "metadata": {},
   "source": [
    "##### Import functions neccessary for calling scripts"
   ]
  },
  {
   "cell_type": "code",
   "execution_count": 1,
   "metadata": {},
   "outputs": [],
   "source": [
    "# I'm sure there is a better way of accessing functions \n",
    "# (perhaps just putting all in one file?); but this is what I have right now for \n",
    "# importing monte-carlo functions\n",
    "from get_date import get_date\n",
    "from get_lat_lon_indices import get_lat_lon_indices\n",
    "from get_vessel_type import get_vessel_type\n",
    "from get_vte_probability import get_vte_probability\n",
    "from get_oil_capacity import get_oil_capacity\n",
    "from get_length_origin_destination import get_length_origin_destination\n",
    "from get_oil_type_atb import get_oil_type_atb\n",
    "from get_oil_type_tanker import get_oil_type_tanker\n",
    "from get_oil_type_barge import get_oil_type_barge\n",
    "\n",
    "# import python functions needed for input variables \n",
    "import time\n",
    "import yaml\n",
    "import numpy\n",
    "import arrow\n",
    "import pathlib\n",
    "from datetime import datetime, date, timedelta\n",
    "\n",
    "\n",
    "# Give a path to the master yaml file that contains all the information required \n",
    "# for case selection, including file paths to data files. \n",
    "\n",
    "master_dir  = pathlib.Path(\n",
    "    '/Users/rmueller/Projects/MIDOSS/analysis-rachael/'\\\n",
    "               'notebooks/monte_carlo/data/'\n",
    ")\n",
    "master_file = master_dir/'master.yaml'\n",
    "\n",
    "with open(master_file) as file:\n",
    "        master = yaml.load(file, Loader=yaml.Loader)\n",
    "        \n",
    "vessel_types = master['categories']['all_vessels']\n",
    "geotiff_directory = master['directories']['geotiff']\n",
    "\n",
    "random_seed=None\n",
    "# Initialize PCG-64 random number generator\n",
    "random_generator = numpy.random.default_rng(random_seed)\n",
    "\n"
   ]
  },
  {
   "cell_type": "markdown",
   "metadata": {},
   "source": [
    "##### These are the input variables needed to run the functions for the monte-carlo setup"
   ]
  },
  {
   "cell_type": "code",
   "execution_count": 2,
   "metadata": {},
   "outputs": [],
   "source": [
    "# spill date\n",
    "start_date = datetime(2015, 1, 1, 0, 30)\n",
    "end_date   = datetime(2018, 12, 31, 23, 55)\n",
    "delta_time = timedelta(hours = 1)\n",
    "\n",
    "# spill location\n",
    "ais_data_year = 2018\n",
    "n_locations = 1  #desired number of latitude and longitude values\n",
    "upsample_factor = 1 # GeoTIFF lat/lon will be sampled at 1/upsample_factor [km] resolution\n"
   ]
  },
  {
   "cell_type": "markdown",
   "metadata": {},
   "source": [
    "##### Imports and definitions for testing scripts and validating output"
   ]
  },
  {
   "cell_type": "code",
   "execution_count": 3,
   "metadata": {},
   "outputs": [],
   "source": [
    "# these aren't used or needed for function calls\n",
    "from rasterio.enums import Resampling\n",
    "import rasterio as rio"
   ]
  },
  {
   "cell_type": "markdown",
   "metadata": {},
   "source": [
    "#### Get the spill date"
   ]
  },
  {
   "cell_type": "code",
   "execution_count": 4,
   "metadata": {},
   "outputs": [
    {
     "data": {
      "text/plain": [
       "'11'"
      ]
     },
     "execution_count": 4,
     "metadata": {},
     "output_type": "execute_result"
    }
   ],
   "source": [
    "# get vessel traffic exposure probability by month\n",
    "vte_probability = get_vte_probability( geotiff_directory )\n",
    "\n",
    "spill_date = get_date( start_date, \n",
    "             end_date, \n",
    "             vte_probability,\n",
    "             delta_time\n",
    "            )\n",
    "spill_month = spill_date.month\n",
    "spill_month_name  = arrow.get(spill_date).format('MMMM') # string\n",
    "f'{spill_month:02.0f}'"
   ]
  },
  {
   "cell_type": "markdown",
   "metadata": {},
   "source": [
    "####  Get spill lat/lon value(s) as well as index values for extracting vessel time exposure values from GeoTIFFS"
   ]
  },
  {
   "cell_type": "code",
   "execution_count": 5,
   "metadata": {},
   "outputs": [
    {
     "name": "stdout",
     "output_type": "stream",
     "text": [
      "Randomly selecting spill location from all-traffic GeoTIFF:\n",
      "...Creating 2D array of lat/lon strings (this may take a moment)\n",
      "...Selecting 1 location(s)\n",
      "...Creating vectors of lat/lon pairs and x-index/y-index pairs\n",
      "That's a wrap, folks!\n"
     ]
    }
   ],
   "source": [
    "geotiff = geotiff_directory/f'all_2018_{spill_month:02.0f}.tif'\n",
    "\n",
    "\n",
    "[spill_lat, spill_lon, x_index, y_index, data_val] = get_lat_lon_indices(\n",
    "    geotiff_directory, spill_month, n_locations, upsample_factor\n",
    ")    "
   ]
  },
  {
   "cell_type": "code",
   "execution_count": 6,
   "metadata": {},
   "outputs": [
    {
     "data": {
      "text/plain": [
       "array([-123.301])"
      ]
     },
     "execution_count": 6,
     "metadata": {},
     "output_type": "execute_result"
    }
   ],
   "source": [
    "spill_lat"
   ]
  },
  {
   "cell_type": "code",
   "execution_count": 7,
   "metadata": {},
   "outputs": [
    {
     "data": {
      "text/plain": [
       "array([48.89179])"
      ]
     },
     "execution_count": 7,
     "metadata": {},
     "output_type": "execute_result"
    }
   ],
   "source": [
    "spill_lon"
   ]
  },
  {
   "cell_type": "code",
   "execution_count": 8,
   "metadata": {},
   "outputs": [
    {
     "data": {
      "text/plain": [
       "array([235])"
      ]
     },
     "execution_count": 8,
     "metadata": {},
     "output_type": "execute_result"
    }
   ],
   "source": [
    "x_index"
   ]
  },
  {
   "cell_type": "code",
   "execution_count": 9,
   "metadata": {},
   "outputs": [
    {
     "data": {
      "text/plain": [
       "array([481])"
      ]
     },
     "execution_count": 9,
     "metadata": {},
     "output_type": "execute_result"
    }
   ],
   "source": [
    "y_index"
   ]
  },
  {
   "cell_type": "code",
   "execution_count": 10,
   "metadata": {},
   "outputs": [
    {
     "data": {
      "text/plain": [
       "array([19.77769089])"
      ]
     },
     "execution_count": 10,
     "metadata": {},
     "output_type": "execute_result"
    }
   ],
   "source": [
    "data_val"
   ]
  },
  {
   "cell_type": "code",
   "execution_count": 11,
   "metadata": {},
   "outputs": [
    {
     "name": "stdout",
     "output_type": "stream",
     "text": [
      "compare output data_val = [19.77769089] hours/km^2 with [19.77769] hours/km^2\n"
     ]
    }
   ],
   "source": [
    "# load geotiff and access \"data_val\" with [x_index, y_index] to verify that the output is equivalent\n",
    "\n",
    "traffic_reader = rio.open(\n",
    "    geotiff_directory/f'all_2018_{spill_month:02.0f}.tif'\n",
    ")\n",
    "\n",
    "# dataset closes automatically using the method below\n",
    "\n",
    "with traffic_reader as dataset:\n",
    "    # resample data to target shape\n",
    "    data = dataset.read(1,\n",
    "        out_shape=(\n",
    "            dataset.count,\n",
    "            int(dataset.height * upsample_factor),\n",
    "            int(dataset.width * upsample_factor)\n",
    "        ),\n",
    "        resampling=Resampling.bilinear\n",
    "    )\n",
    "\n",
    "    # scale image transform\n",
    "    transform = dataset.transform * dataset.transform.scale(\n",
    "        (dataset.width / data.shape[-1]),\n",
    "        (dataset.height / data.shape[-2])\n",
    "    )\n",
    "\n",
    "print(f'compare output data_val = {data_val} hours/km^2 with {data[x_index,y_index]} hours/km^2')    "
   ]
  },
  {
   "cell_type": "markdown",
   "metadata": {},
   "source": [
    "####  Get vessel type "
   ]
  },
  {
   "cell_type": "code",
   "execution_count": 12,
   "metadata": {},
   "outputs": [
    {
     "data": {
      "text/plain": [
       "[array(['ferry'], dtype='<U9')]"
      ]
     },
     "execution_count": 12,
     "metadata": {},
     "output_type": "execute_result"
    }
   ],
   "source": [
    "vessel_type = get_vessel_type(geotiff_directory, \n",
    "                              vessel_types, \n",
    "                              ais_data_year, \n",
    "                              n_locations, \n",
    "                              spill_month,  # from get_date\n",
    "                              x_index,      # from get_lat_lon_indices\n",
    "                              y_index       # from get_lat_lon_indices\n",
    "                              )\n",
    "vessel_type"
   ]
  },
  {
   "cell_type": "markdown",
   "metadata": {},
   "source": [
    "#### get length origin destination\n",
    "The shapefiles for this piece aren't yet done, so we need to use january and cargo"
   ]
  },
  {
   "cell_type": "code",
   "execution_count": 13,
   "metadata": {},
   "outputs": [
    {
     "data": {
      "text/plain": [
       "'this is going to take a minute....'"
      ]
     },
     "metadata": {},
     "output_type": "display_data"
    }
   ],
   "source": [
    "vessel_test = 'cargo'\n",
    "month = '01'\n",
    "spill_lon = -124.9243\n",
    "spill_lat = 50.18442\n",
    "search_radius = 0.5 #km\n",
    "shapefile_directory  = f'/Users/rmueller/Data/MIDOSS/{vessel_test}_2018_{month}/'\n",
    "tic = time.time()\n",
    "[vessel_length, origin, destination] = get_length_origin_destination( \n",
    "    shapefile_directory, \n",
    "    vessel_test, \n",
    "    month, \n",
    "    spill_lat, \n",
    "    spill_lon, \n",
    "    search_radius \n",
    ")\n",
    "toc = time.time()-tic"
   ]
  },
  {
   "cell_type": "code",
   "execution_count": 14,
   "metadata": {},
   "outputs": [
    {
     "data": {
      "text/plain": [
       "44.16124391555786"
      ]
     },
     "execution_count": 14,
     "metadata": {},
     "output_type": "execute_result"
    }
   ],
   "source": [
    "toc"
   ]
  },
  {
   "cell_type": "code",
   "execution_count": 15,
   "metadata": {},
   "outputs": [],
   "source": [
    "from salishsea_tools import geo_tools"
   ]
  },
  {
   "cell_type": "markdown",
   "metadata": {},
   "source": [
    "#### Determine whether spill is fuel or cargo and then determine fuel type\n",
    "Note: I approach this by first determining if spill is fuel or cargo and then determining the type of fuel if it's cargo.  The caveat here is that some of the barge traffic will be determined to be fuel-spill risk only.  For the barge case only, I have set up two return variables for the get_oil_type script.  One variable is \"fuel_flag\".  If fuel_flag == 1 then the spill is a fuel_spill.  \n",
    "\n",
    "The scripts for getting oil cargo type are called as follows:\n",
    "\n",
    "- oil_type = get_oil_type_tanker(\n",
    "                    master_dir, \n",
    "                    master_file, \n",
    "                    origin, \n",
    "                    destination,\n",
    "                    random_generator\n",
    "                )\n",
    "\n",
    "- oil_type = get_oil_type_atb(\n",
    "                    master_dir, \n",
    "                    master_file, \n",
    "                    origin, \n",
    "                    destination,\n",
    "                    random_generator\n",
    "                )\n",
    "\n",
    "- [oil_type, fuel_flag] = get_oil_type_barge(\n",
    "                    master_dir, \n",
    "                    master_file, \n",
    "                    origin, \n",
    "                    destination,\n",
    "                    random_generator\n",
    "                )\n"
   ]
  },
  {
   "cell_type": "code",
   "execution_count": 16,
   "metadata": {},
   "outputs": [
    {
     "data": {
      "text/plain": [
       "{'atb': {'bunker': 0.38, 'diesel': 0.62},\n",
       " 'barge': {'bunker': 0.38, 'diesel': 0.62},\n",
       " 'cargo': {'bunker': 0.97, 'diesel': 0.03},\n",
       " 'cruise': {'bunker': 0.8, 'diesel': 0.2},\n",
       " 'ferry': {'bunker': 0.0, 'diesel': 1.0},\n",
       " 'fishing': {'bunker': 0.14, 'diesel': 0.86},\n",
       " 'other': {'bunker': 0.32, 'diesel': 0.68},\n",
       " 'smallpass': {'bunker': 0.0, 'diesel': 1.0},\n",
       " 'tanker': {'bunker': 0.64, 'diesel': 0.36}}"
      ]
     },
     "execution_count": 16,
     "metadata": {},
     "output_type": "execute_result"
    }
   ],
   "source": [
    "fuel_file   = master['files']['fuel']\n",
    "\n",
    "with open(fuel_file) as file:\n",
    "        fuel = yaml.load(file, Loader=yaml.Loader)\n",
    "\n",
    "# These values don't take into consideration new insights w.r.t. tanker values\n",
    "# Need to review choices\n",
    "fuel"
   ]
  },
  {
   "cell_type": "code",
   "execution_count": 17,
   "metadata": {},
   "outputs": [],
   "source": [
    "tank_vessels = master['categories']['tank_vessels']\n",
    "vessel_type = 'tanker'\n",
    "\n",
    "if vessel_type in tank_vessels:\n",
    "    \n",
    "    # \n",
    "    # fuel-spill or cargo-spill?\n",
    "    probability = [\n",
    "        master['vessel_attributes'][vessel_type]['probability_cargo'],\n",
    "        master['vessel_attributes'][vessel_type]['probability_fuel']\n",
    "    ]\n",
    "    \n",
    "    fuel_flag = 0 #indicates a fuel-spill\n",
    "    #fuel_flag = random_generator.choice(\n",
    "#                     [0, 1], \n",
    "#                     p = probability)\n",
    "    \n",
    "    if not fuel_flag:\n",
    "        if vessel_type == 'atb':\n",
    "            cargo_oil_type = get_oil_type_atb(\n",
    "                master_file, \n",
    "                origin, \n",
    "                destination,\n",
    "                random_generator\n",
    "            )\n",
    "        elif vessel_type == 'barge':\n",
    "            [cargo_oil_type, fuel_flag] = get_oil_type_barge( \n",
    "                master_file, \n",
    "                origin, \n",
    "                destination,\n",
    "                random_generator\n",
    "            )\n",
    "        elif vessel_type == 'tanker':\n",
    "            cargo_oil_type = get_oil_type_tanker(\n",
    "                master_file, \n",
    "                origin, \n",
    "                destination,\n",
    "                random_generator\n",
    "            )\n",
    "    # The indentation here is to catch the cases that are originally \n",
    "    # determined as fuel spills as well as cargo spills converted to fuel-spills         \n",
    "    if fuel_flag:\n",
    "        fuel_oil_type = random_generator.choice(\n",
    "                    ['bunker', 'diesel'], \n",
    "                    p = [\n",
    "                        fuel[vessel_type]['bunker'], \n",
    "                        fuel[vessel_type]['diesel']\n",
    "                    ]\n",
    "        )\n",
    "        \n",
    "# fuel-type for non-tank traffic\n",
    "else:\n",
    "    fuel_oil_type = random_generator.choice(\n",
    "                    ['bunker', 'diesel'], \n",
    "                    p = [\n",
    "                        fuel[vessel_type]['bunker'], \n",
    "                        fuel[vessel_type]['diesel']\n",
    "                    ]\n",
    "        )"
   ]
  },
  {
   "cell_type": "markdown",
   "metadata": {},
   "source": [
    "### Calculate spill volume"
   ]
  },
  {
   "cell_type": "code",
   "execution_count": 18,
   "metadata": {},
   "outputs": [],
   "source": [
    "[fuel_capacity, cargo_capacity] = get_oil_capacity(\n",
    "    master_file,\n",
    "    vessel_length, \n",
    "    vessel_type,\n",
    "    1\n",
    ")\n",
    "\n",
    "if fuel_flag: \n",
    "    oil_type = fuel_oil_type\n",
    "    oil_capacity = fuel_capacity\n",
    "else:\n",
    "    oil_type = cargo_oil_type\n",
    "    oil_capacity = cargo_capacity\n"
   ]
  },
  {
   "cell_type": "code",
   "execution_count": 19,
   "metadata": {},
   "outputs": [],
   "source": [
    "# test all vessel types\n",
    "for vessel in vessel_types:\n",
    "    [fuel_capacity, cargo_capacity] = get_oil_capacity(\n",
    "    master_file,\n",
    "    vessel_length, \n",
    "    vessel,\n",
    "    random_generator\n",
    ")"
   ]
  },
  {
   "cell_type": "markdown",
   "metadata": {},
   "source": [
    "### Apply Susan's probability function to oil_capacity to get spill volume"
   ]
  },
  {
   "cell_type": "raw",
   "metadata": {},
   "source": []
  }
 ],
 "metadata": {
  "kernelspec": {
   "display_name": "Python 3",
   "language": "python",
   "name": "python3"
  },
  "language_info": {
   "codemirror_mode": {
    "name": "ipython",
    "version": 3
   },
   "file_extension": ".py",
   "mimetype": "text/x-python",
   "name": "python",
   "nbconvert_exporter": "python",
   "pygments_lexer": "ipython3",
   "version": "3.8.4"
  }
 },
 "nbformat": 4,
 "nbformat_minor": 4
}
