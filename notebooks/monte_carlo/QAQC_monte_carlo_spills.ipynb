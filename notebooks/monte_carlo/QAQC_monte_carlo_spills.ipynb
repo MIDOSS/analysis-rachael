{
 "cells": [
  {
   "cell_type": "markdown",
   "id": "ancient-element",
   "metadata": {},
   "source": [
    "## 100,000 monte carlo spills evaluation \n",
    "\n",
    "This notebook requires an activation of the `monte_carlo` environment setup \n",
    "located in `analysis-rachael/env`\n",
    "```\n",
    "conda activate monte_carlo\n",
    "```\n",
    "\n",
    "The newest versions of the monte-carlo spills files can be found on Salish at the following location:\n",
    "`/ocean/rmueller/MIDOSS/spill_files_TLPcorrected`"
   ]
  },
  {
   "cell_type": "markdown",
   "id": "stuffed-schedule",
   "metadata": {},
   "source": [
    "## Review of information on volume limits (from get_oil_capacity.ipynb)\n",
    "### Tankers\n",
    "Capacity, length and hfo_to_diesel comparisons from [This website](https://silo.tips/download/suezmax-oil-tanker-tankers-166300-dwt#)\n",
    "which Iain Braidwood has verified as having reasonable values. \n",
    "\n",
    "From `oil_attribution.ipynb`: Minimun tanker cargo capacity is 7,593,628 liters, based on small tanker size, and Maximum tanker cargo capacity is 185,447,000 liters: Corresponding to tank capacity of Suez-Max tankers as AIS data shows tanker lengths up to 287 m\n",
    "\n",
    "### ATB cargo \n",
    "Based on information on Harley Marine Services for tank barges that received oil cargo from WA oil refineries \n",
    "in 2018, as shown in Dept. of Ecology database.  \n",
    "See the OilCapacity tab in our [ATB_MMSI spreadsheet]( https://docs.google.com/spreadsheets/d/1dlT0JydkFG43LorqgtHle5IN6caRYjf_3qLrUYqANDY/edit#gid=591561201)\n",
    "\n",
    "- **Max cargo** Capacity based on Nancy Peterkin, **Kirby 185-01** (185,000 bbls = 28,300.22 m3)\n",
    "- **Min cargo** capacity based on Harley Marine tank barge **Investigator** (16,007 bbls = 2,544.95 m3)\n",
    "\n",
    "The [Origin/Destination analysis spreadsheet](https://docs.google.com/spreadsheets/d/1yQk01wImUr_Socihx6JXUgjKvZ5-LeqbdAvqE5hp38I/edit#gid=768387675) shows vessel lengths for oil tank ATBs in AIS ranging from 23 m - 209 m. There are two clear categories: \n",
    "1. lengths < 50 m, \n",
    "2. lengths > 140 m.  \n",
    "\n",
    "We treat the former as reflecting lengths of the tug-only and the latter as reflecting lengths of tug-barge coupling.  We reviewed the MMSI for these cases and found no instances in which an MMSI reported sometimes < 50 m and other times as > 140 m (or visa versa).  These different recordings appear to be reliable and specific to a particular MMSI.  \n",
    "\n",
    "From `oil_attribution.ipynb`: Minimum ATB cargo volume is set to 4,000,000 liters based on the smallest load of known ATBs (Island Trader: oil_capacity.xlsx).  Maximum ATB cargo volume is set to 29,413,150 liters based on the largest load of known ATBs (Kirby 185-01: oil_capacity.xlsx).  NOTE: There are different estimates of Kirby 185-01 volumes.  This difference is because some reportings use a % of maximum ~96% as maximum volume.  Our upper bound is based on 100% capacity.\n",
    "\n",
    "\n",
    "### Barge cargo\n",
    "vessel length ranges from 0m to 100m.  There are 36 non-ATB tugs with a reported length of 0m. 6 out of 401 vessels report a length greater than 50m.  \n",
    "\n",
    "From `oil_attribution.ipynb`: Minimum barge cargo volume is set to 1,500,000 liters based on value of 1,589,900 liters in  3A-10 of [DOE report](https://fortress.wa.gov/ecy/publications/documents/96250.pdf), and maximum barge cargo volume is set to 32,000,000 liters based on value of 31,797,444 of 3A-10 of [DOE report](https://fortress.wa.gov/ecy/publications/documents/96250.pdf)"
   ]
  },
  {
   "cell_type": "code",
   "execution_count": 1,
   "id": "constant-participation",
   "metadata": {},
   "outputs": [],
   "source": [
    "import os\n",
    "from glob import glob\n",
    "import pandas as pd\n",
    "import numpy as np\n",
    "#import yaml\n",
    "#from monte_carlo_utils import decimal_divide\n",
    "from pathlib import Path\n",
    "from mpl_toolkits.axes_grid1.inset_locator import inset_axes\n",
    "import matplotlib.pyplot as plt\n",
    "import matplotlib as mpl\n",
    "import matplotlib.gridspec as gridspec\n",
    "import cartopy.crs\n",
    "from cartopy import feature\n",
    "import yaml\n",
    "\n",
    "mpl.rc('font', size=11)\n",
    "# some of the following may be repetetive but can also be set relative to the font value above \n",
    "#    (eg \"xx-small, x-small,small, medium, large, x-large, xx-large, larger, or smaller\"; see link above for details)\n",
    "mpl.rc('xtick', labelsize=12)\n",
    "mpl.rc('ytick', labelsize=12)\n",
    "mpl.rc('legend', fontsize=12)\n",
    "mpl.rc('axes', titlesize=16)\n",
    "mpl.rc('axes', labelsize=12)\n",
    "mpl.rc('figure', titlesize=16)\n",
    "mpl.rc('text', usetex=False)\n",
    "mpl.rc('font', family='sans-serif', weight='normal', style='normal')"
   ]
  },
  {
   "cell_type": "code",
   "execution_count": 2,
   "id": "through-insert",
   "metadata": {
    "tags": []
   },
   "outputs": [],
   "source": [
    "data_directory = '/Users/rmueller/Data/MIDOSS/monte_carlo/spill_files_terminalgroupings/'\n",
    "graphics_directory = Path('/Users/rmueller/Projects/MIDOSS/graphics_figures/monte_carlo/')\n",
    "filenames = sorted(glob(os.path.join(data_directory,\"*.csv\")))\n",
    "\n",
    "# Load Oil Attribution file \n",
    "oil_attribution_file = '/Users/rmueller/Data/MIDOSS/marine_transport_data/oil_attribution.yaml'\n",
    "\n",
    "with open(oil_attribution_file) as file:\n",
    "        oil_attrs = yaml.load(file, Loader=yaml.Loader)\n",
    "\n",
    "\n",
    "vessel_types = ['atb', 'barge', 'tanker','cargo','cruise','ferry','fishing','other','smallpass']\n",
    "\n",
    "oil_types = [\n",
    "    'akns', \n",
    "    'bunker', \n",
    "    'dilbit', \n",
    "    'jet', \n",
    "    'diesel', \n",
    "    'gas', \n",
    "    'other'\n",
    "]\n",
    "oil_labels = [\n",
    "    'ANS', \n",
    "    'Bunker-C', \n",
    "    'Dilbit', \n",
    "    'Jet', \n",
    "    'Diesel', \n",
    "    'Gas', \n",
    "    'Other (Bunker-C)'\n",
    "]\n",
    "oil_colors = [\n",
    "    'darkolivegreen',\n",
    "    'olivedrab',\n",
    "    'slategrey',\n",
    "    'indigo',\n",
    "    'mediumslateblue',\n",
    "    'cornflowerblue',\n",
    "    'saddlebrown'\n",
    "]\n",
    "\n",
    "df0 = pd.read_csv(filenames[0])\n",
    "df0.head(1)\n",
    "\n",
    "df0['Lagrangian_template'] = df0['Lagrangian_template'].replace(\n",
    "    ['Lagrangian_akns.dat','Lagrangian_bunker.dat',\n",
    "     'Lagrangian_diesel.dat','Lagrangian_gas.dat',\n",
    "     'Lagrangian_jet.dat','Lagrangian_dilbit.dat',\n",
    "     'Lagrangian_other.dat'], \n",
    "    ['ANS','Bunker-C','Diesel','Gasoline','Jet Fuel', 'Dilbit', 'Other (Bunker-C)']\n",
    ")"
   ]
  },
  {
   "cell_type": "markdown",
   "id": "occasional-settlement",
   "metadata": {},
   "source": [
    "### Load 100,000 spills files"
   ]
  },
  {
   "cell_type": "code",
   "execution_count": 3,
   "id": "greenhouse-sending",
   "metadata": {},
   "outputs": [
    {
     "name": "stdout",
     "output_type": "stream",
     "text": [
      "0 /Users/rmueller/Data/MIDOSS/monte_carlo/spill_files_terminalgroupings/SalishSea_oil_spills_1.csv\n",
      "1 /Users/rmueller/Data/MIDOSS/monte_carlo/spill_files_terminalgroupings/SalishSea_oil_spills_10.csv\n",
      "2 /Users/rmueller/Data/MIDOSS/monte_carlo/spill_files_terminalgroupings/SalishSea_oil_spills_2.csv\n",
      "3 /Users/rmueller/Data/MIDOSS/monte_carlo/spill_files_terminalgroupings/SalishSea_oil_spills_3.csv\n",
      "4 /Users/rmueller/Data/MIDOSS/monte_carlo/spill_files_terminalgroupings/SalishSea_oil_spills_4.csv\n",
      "5 /Users/rmueller/Data/MIDOSS/monte_carlo/spill_files_terminalgroupings/SalishSea_oil_spills_5.csv\n",
      "6 /Users/rmueller/Data/MIDOSS/monte_carlo/spill_files_terminalgroupings/SalishSea_oil_spills_6.csv\n",
      "7 /Users/rmueller/Data/MIDOSS/monte_carlo/spill_files_terminalgroupings/SalishSea_oil_spills_7.csv\n",
      "8 /Users/rmueller/Data/MIDOSS/monte_carlo/spill_files_terminalgroupings/SalishSea_oil_spills_8.csv\n",
      "9 /Users/rmueller/Data/MIDOSS/monte_carlo/spill_files_terminalgroupings/SalishSea_oil_spills_9.csv\n"
     ]
    }
   ],
   "source": [
    "df={}\n",
    "for index,fn in enumerate(filenames):\n",
    "    print(index,fn)\n",
    "    df[index] = pd.read_csv(fn)\n",
    "    # rename lagrangian files as oil types (for plotting)\n",
    "    df[index]['Lagrangian_template'] = df[index]['Lagrangian_template'].replace(\n",
    "        ['Lagrangian_akns.dat','Lagrangian_bunker.dat',\n",
    "             'Lagrangian_diesel.dat','Lagrangian_gas.dat',\n",
    "             'Lagrangian_jet.dat','Lagrangian_dilbit.dat',\n",
    "             'Lagrangian_other.dat'], \n",
    "        ['ANS','Bunker-C','Diesel','Gasoline',\n",
    "             'Jet Fuel', 'Dilbit', 'Other (Bunker-C)']\n",
    "    )\n",
    "    if index == 0:\n",
    "        df_combined = df[index].copy()\n",
    "    else:\n",
    "        df_combined = pd.concat([df_combined, df[index]])"
   ]
  },
  {
   "cell_type": "markdown",
   "id": "abroad-message",
   "metadata": {},
   "source": [
    "### Volume of spills by oil type"
   ]
  },
  {
   "cell_type": "code",
   "execution_count": 4,
   "id": "fifteen-parameter",
   "metadata": {
    "tags": []
   },
   "outputs": [
    {
     "data": {
      "image/png": "[encoded data removed]",
      "text/plain": [
       "<Figure size 504x360 with 1 Axes>"
      ]
     },
     "metadata": {
      "needs_background": "light"
     },
     "output_type": "display_data"
    }
   ],
   "source": [
    "fig, axs = plt.subplots(1, 1,figsize=(7,5))\n",
    "df_combined[['spill_volume','Lagrangian_template']].groupby('Lagrangian_template').sum().plot(ax = axs, kind='bar')\n",
    "#axs.set_xticklabels(['akns', 'bunker', 'diesel', 'dilbit', 'gas', 'jet', 'other'])\n",
    "axs.set_xlabel('')\n",
    "axs.set_ylabel('total spilled (liters x 1e9)', fontsize=14)\n",
    "axs.set_title(\"Total spill volume by oil type \\n for a 100,000 spill file\")\n",
    "plt.savefig(graphics_directory/'spill_files_terminalgroupings'/'spillvolume_by_oiltype10000.png')"
   ]
  },
  {
   "cell_type": "markdown",
   "id": "sunset-suspension",
   "metadata": {},
   "source": [
    "### Number of spills and spill volume by vessel type"
   ]
  },
  {
   "cell_type": "code",
   "execution_count": 5,
   "id": "hispanic-jimmy",
   "metadata": {
    "tags": []
   },
   "outputs": [
    {
     "name": "stdout",
     "output_type": "stream",
     "text": [
      "0 /Users/rmueller/Data/MIDOSS/monte_carlo/spill_files_terminalgroupings/SalishSea_oil_spills_1.csv\n",
      "1 /Users/rmueller/Data/MIDOSS/monte_carlo/spill_files_terminalgroupings/SalishSea_oil_spills_10.csv\n",
      "2 /Users/rmueller/Data/MIDOSS/monte_carlo/spill_files_terminalgroupings/SalishSea_oil_spills_2.csv\n",
      "3 /Users/rmueller/Data/MIDOSS/monte_carlo/spill_files_terminalgroupings/SalishSea_oil_spills_3.csv\n",
      "4 /Users/rmueller/Data/MIDOSS/monte_carlo/spill_files_terminalgroupings/SalishSea_oil_spills_4.csv\n",
      "5 /Users/rmueller/Data/MIDOSS/monte_carlo/spill_files_terminalgroupings/SalishSea_oil_spills_5.csv\n",
      "6 /Users/rmueller/Data/MIDOSS/monte_carlo/spill_files_terminalgroupings/SalishSea_oil_spills_6.csv\n",
      "7 /Users/rmueller/Data/MIDOSS/monte_carlo/spill_files_terminalgroupings/SalishSea_oil_spills_7.csv\n",
      "8 /Users/rmueller/Data/MIDOSS/monte_carlo/spill_files_terminalgroupings/SalishSea_oil_spills_8.csv\n",
      "9 /Users/rmueller/Data/MIDOSS/monte_carlo/spill_files_terminalgroupings/SalishSea_oil_spills_9.csv\n"
     ]
    },
    {
     "data": {
      "text/plain": [
       "Text(0.5, 1.0, 'Volume of spills by vessel type for every 10,000 spills .csv file')"
      ]
     },
     "execution_count": 5,
     "metadata": {},
     "output_type": "execute_result"
    },
    {
     "data": {
      "image/png": "[encoded data removed]",
      "text/plain": [
       "<Figure size 720x720 with 2 Axes>"
      ]
     },
     "metadata": {
      "needs_background": "light"
     },
     "output_type": "display_data"
    },
    {
     "data": {
      "text/plain": [
       "<Figure size 720x720 with 0 Axes>"
      ]
     },
     "metadata": {},
     "output_type": "display_data"
    }
   ],
   "source": [
    "# create dictionary to tally spills by vessel\n",
    "df={}\n",
    "spill_count = {}\n",
    "spill_volume = {}\n",
    "# loop through each 10,000 spill file and plot:\n",
    "fig1 = plt.figure(figsize=(10, 10))\n",
    "fig2 = plt.figure(figsize=(10, 10))\n",
    "#1) spill count by vessel type\n",
    "ax1 = fig1.add_subplot(211)\n",
    "#2) spill volume by vessel type\n",
    "ax2 = fig1.add_subplot(212)\n",
    "for file_index,file in enumerate(filenames):\n",
    "    print(file_index,file)\n",
    "    df[file_index] = pd.read_csv(file)\n",
    "    spill_count[file_index] = {}\n",
    "    spill_volume[file_index]={}\n",
    "    # calculate and catalogue spill count\n",
    "    spill_count[file_index] = df[file_index][\n",
    "            ['spill_volume','vessel_type']\n",
    "        ].groupby('vessel_type').count()\n",
    "    spill_count[file_index] = spill_count[file_index].rename(\n",
    "        columns = {'spill_volume':'spill_count'}\n",
    "    )\n",
    "    # calculate and catalogue spill volume\n",
    "    spill_volume[file_index] = df[file_index][\n",
    "            ['spill_volume','vessel_type']\n",
    "        ].groupby('vessel_type').sum()\n",
    "    #ax = spill_count[file_index].spill_count[:].plot(label={'File #'file_index})\n",
    "    ax1.plot(\n",
    "        spill_count[file_index].spill_count[:],\n",
    "        '-',\n",
    "        label=f'#{file_index}',\n",
    "    )\n",
    "    ax2.plot(\n",
    "        spill_volume[file_index].spill_volume[:],\n",
    "        '-',\n",
    "        label=f'#{file_index}'\n",
    "    )\n",
    "ax1.legend(bbox_to_anchor=(1.12, 1.0),loc=1)\n",
    "ax2.legend(bbox_to_anchor=(1.12, 1.0),loc=1)\n",
    "ax1.set_title('Number of spills by vessel type for every 10,000 spills .csv file')\n",
    "ax2.set_title('Volume of spills by vessel type for every 10,000 spills .csv file')"
   ]
  },
  {
   "cell_type": "markdown",
   "id": "least-italian",
   "metadata": {},
   "source": [
    "### Hypothesis: The spread in ATB spill volume among 10,000 run files is smaller than the other tank vessels because:\n",
    "- the number of spills is much smaller than the barge category\n",
    "- the maximum cargo capacity is an order of magnitude smaller than the tanker category\n",
    "\n",
    "#### Plot ratio of spill volume to cargo capacity to test this hypothesis"
   ]
  },
  {
   "cell_type": "code",
   "execution_count": null,
   "id": "complimentary-manor",
   "metadata": {
    "tags": []
   },
   "outputs": [],
   "source": []
  },
  {
   "cell_type": "code",
   "execution_count": 6,
   "id": "pretty-spoke",
   "metadata": {
    "tags": []
   },
   "outputs": [
    {
     "data": {
      "text/html": [
       "<div>\n",
       "<style scoped>\n",
       "    .dataframe tbody tr th:only-of-type {\n",
       "        vertical-align: middle;\n",
       "    }\n",
       "\n",
       "    .dataframe tbody tr th {\n",
       "        vertical-align: top;\n",
       "    }\n",
       "\n",
       "    .dataframe thead th {\n",
       "        text-align: right;\n",
       "    }\n",
       "</style>\n",
       "<table border=\"1\" class=\"dataframe\">\n",
       "  <thead>\n",
       "    <tr style=\"text-align: right;\">\n",
       "      <th></th>\n",
       "      <th>cargo_capacity</th>\n",
       "      <th>spill_volume</th>\n",
       "      <th>vessel_type</th>\n",
       "      <th>ratio</th>\n",
       "    </tr>\n",
       "  </thead>\n",
       "  <tbody>\n",
       "    <tr>\n",
       "      <th>16</th>\n",
       "      <td>185447000.0</td>\n",
       "      <td>9272350.0</td>\n",
       "      <td>tanker</td>\n",
       "      <td>0.05</td>\n",
       "    </tr>\n",
       "    <tr>\n",
       "      <th>71</th>\n",
       "      <td>53000000.0</td>\n",
       "      <td>4770000.0</td>\n",
       "      <td>tanker</td>\n",
       "      <td>0.09</td>\n",
       "    </tr>\n",
       "    <tr>\n",
       "      <th>181</th>\n",
       "      <td>126211000.0</td>\n",
       "      <td>8834770.0</td>\n",
       "      <td>tanker</td>\n",
       "      <td>0.07</td>\n",
       "    </tr>\n",
       "    <tr>\n",
       "      <th>371</th>\n",
       "      <td>53000000.0</td>\n",
       "      <td>51410000.0</td>\n",
       "      <td>tanker</td>\n",
       "      <td>0.97</td>\n",
       "    </tr>\n",
       "    <tr>\n",
       "      <th>394</th>\n",
       "      <td>53000000.0</td>\n",
       "      <td>530000.0</td>\n",
       "      <td>tanker</td>\n",
       "      <td>0.01</td>\n",
       "    </tr>\n",
       "  </tbody>\n",
       "</table>\n",
       "</div>"
      ],
      "text/plain": [
       "     cargo_capacity  spill_volume vessel_type  ratio\n",
       "16      185447000.0     9272350.0      tanker   0.05\n",
       "71       53000000.0     4770000.0      tanker   0.09\n",
       "181     126211000.0     8834770.0      tanker   0.07\n",
       "371      53000000.0    51410000.0      tanker   0.97\n",
       "394      53000000.0      530000.0      tanker   0.01"
      ]
     },
     "execution_count": 6,
     "metadata": {},
     "output_type": "execute_result"
    }
   ],
   "source": [
    "cargo_spills = {}\n",
    "for vessel in ['tanker','atb','barge']:\n",
    "    cargo_spills[vessel] = df_combined.loc[\n",
    "        (df_combined.fuel_cargo == 'cargo') &\n",
    "        (df_combined.vessel_type == vessel),\n",
    "        ['cargo_capacity', 'spill_volume', 'vessel_type']\n",
    "    ]\n",
    "    cargo_spills[vessel]['ratio'] = cargo_spills[vessel]['spill_volume']/cargo_spills[vessel]['cargo_capacity']\n",
    "\n",
    "cargo_spills['tanker'].head()"
   ]
  },
  {
   "cell_type": "code",
   "execution_count": 7,
   "id": "backed-commonwealth",
   "metadata": {
    "tags": []
   },
   "outputs": [
    {
     "data": {
      "image/png": "[encoded data removed]",
      "text/plain": [
       "<Figure size 1080x360 with 3 Axes>"
      ]
     },
     "metadata": {
      "needs_background": "light"
     },
     "output_type": "display_data"
    }
   ],
   "source": [
    "fig, axs = plt.subplots(1, 3, figsize=(15, 5))\n",
    "for idx,vessel in enumerate(['tanker','atb','barge']):\n",
    "    percent_bins = np.arange(0, 1, 0.1)\n",
    "    cargo_spills[vessel]['ratio'].hist(ax=axs[idx],bins=percent_bins);\n",
    "    axs[idx].set_xlabel('Fraction spilled');\n",
    "    axs[idx].set_title(vessel)"
   ]
  },
  {
   "cell_type": "code",
   "execution_count": 8,
   "id": "smaller-julian",
   "metadata": {},
   "outputs": [
    {
     "data": {
      "text/plain": [
       "26      0.01\n",
       "34      0.01\n",
       "36      0.03\n",
       "54      0.03\n",
       "60      0.07\n",
       "        ... \n",
       "9941    0.19\n",
       "9948    0.19\n",
       "9953    0.23\n",
       "9985    0.01\n",
       "9987    0.05\n",
       "Name: ratio, Length: 6298, dtype: float64"
      ]
     },
     "execution_count": 8,
     "metadata": {},
     "output_type": "execute_result"
    }
   ],
   "source": [
    "cargo_spills[vessel]['ratio']"
   ]
  },
  {
   "cell_type": "markdown",
   "id": "third-publication",
   "metadata": {},
   "source": [
    "### Evaluate the ATB, barge and tanker size classes"
   ]
  },
  {
   "cell_type": "code",
   "execution_count": 9,
   "id": "structured-ultimate",
   "metadata": {},
   "outputs": [
    {
     "data": {
      "image/png": "[encoded data removed]",
      "text/plain": [
       "<Figure size 1080x720 with 6 Axes>"
      ]
     },
     "metadata": {
      "needs_background": "light"
     },
     "output_type": "display_data"
    }
   ],
   "source": [
    "vessel_sizes={}\n",
    "\n",
    "fig,axs = plt.subplots(nrows=2, ncols=3, figsize=(15,10))\n",
    "histbins = {}\n",
    "histbins['atb'] = np.arange(20,210,10) \n",
    "histbins['barge'] = np.arange(0,100,10) \n",
    "histbins['tanker'] = np.arange(25,300,25) \n",
    "\n",
    "for idx_vessel,vessel in enumerate(['atb','barge','tanker']):\n",
    "    # count number of spills by size class\n",
    "    vessel_sizes[vessel] = df_combined.loc[\n",
    "        (df_combined.vessel_type == vessel),\n",
    "        ['vessel_len', 'spill_volume','cargo_capacity','fuel_capacity']\n",
    "    ]\n",
    "    # raw print for perspective\n",
    "    #print(vessel_sizes[vessel]['count'])\n",
    "    # plot histograms of number of spills and volume spilled by size class  \n",
    "    vessel_sizes[vessel].vessel_len.hist(ax=axs[0,idx_vessel],bins=histbins[vessel]);\n",
    "    vessel_sizes[vessel].vessel_len.hist(ax=axs[1,idx_vessel], bins=histbins[vessel], weights=vessel_sizes[vessel].spill_volume);\n",
    "    axs[0,0].set_ylabel('Number of vessels by length');\n",
    "    axs[1,0].set_ylabel('Spill Volume (liters)');\n",
    "    axs[0,idx_vessel].set_title(vessel)"
   ]
  },
  {
   "cell_type": "code",
   "execution_count": 10,
   "id": "acting-solomon",
   "metadata": {},
   "outputs": [
    {
     "name": "stdout",
     "output_type": "stream",
     "text": [
      "---------  Monte Carlo (before length adjustment) --------------\n",
      "ATB count (< 50m): 796\n",
      "ATB count (130 - 210 m):661\n",
      "ATB ratio (< 50 m)/(130 - 210 m):1.2042360060514372\n"
     ]
    }
   ],
   "source": [
    "# print values for publication\n",
    "#print(vessel_sizes['atb'].vessel_len(vessel_sizes[vessel].vessel_len < 50).count())\n",
    "atb_lt_50 = vessel_sizes['atb']['vessel_len'].loc[\n",
    "    vessel_sizes['atb']['vessel_len'] < 50\n",
    "].count()\n",
    "atb_130to210 = vessel_sizes['atb']['vessel_len'].loc[\n",
    "    (vessel_sizes['atb']['vessel_len'] > 130) & \n",
    "    (vessel_sizes['atb']['vessel_len'] < 210)\n",
    "].count()\n",
    "print('---------  Monte Carlo (before length adjustment) --------------')\n",
    "print(f'ATB count (< 50m): {atb_lt_50}')\n",
    "print(f'ATB count (130 - 210 m):{atb_130to210}')\n",
    "print(f'ATB ratio (< 50 m)/(130 - 210 m):{atb_lt_50/atb_130to210}')"
   ]
  },
  {
   "cell_type": "code",
   "execution_count": 36,
   "id": "alpine-texas",
   "metadata": {},
   "outputs": [
    {
     "name": "stdout",
     "output_type": "stream",
     "text": [
      "---------  AIS (counts weighted by segment lengths) --------------\n",
      "ATB count (< 50m): 232471.15098174018\n",
      "ATB count (130 - 210 m):272222.235055983\n",
      "ATB ratio (< 50 m)/(130 - 210 m):0.8539756164074256\n"
     ]
    }
   ],
   "source": [
    "# compare monte-carlo results to AIS\n",
    "\n",
    "#~~~ atb traffic ~~~~~~~~~~~~~~~~~~~~~~~~~~~~~~~~~~~~~~~~~~~~~~~~~~~~~~~~~~~~\n",
    "# fuel and cargo capacity information\n",
    "# B: \"FREQUENCY\"\n",
    "# C: \"LENGTH\"\n",
    "\n",
    "atb_df = pd.read_excel(\n",
    "    '/Users/rmueller/Data/MIDOSS/marine_transport_data/Origin_Destination_Analysis.xlsx',\n",
    "    sheet_name='Vessel Length', \n",
    "    usecols='A,B,C',\n",
    "    skiprows=2\n",
    ")\n",
    "\n",
    "atb_seglen = pd.read_excel(\n",
    "    '/Users/rmueller/Data/MIDOSS/marine_transport_data/Origin_Destination_Analysis.xlsx',\n",
    "    sheet_name='Frequency of AIS Pings', \n",
    "    usecols='A,B,C',\n",
    "    skiprows=1\n",
    ")\n",
    "# set MMSI column to same name\n",
    "atb_seglen = atb_seglen.rename(columns={\"ATB MMSI\":\"MMSI\"})\n",
    "# join sheets\n",
    "atb_df = pd.merge(\n",
    "    left=atb_df, \n",
    "    right=atb_seglen, \n",
    "    on = \"MMSI\",\n",
    "    how='left'\n",
    ")\n",
    "\n",
    "# < 50 m ATBs\n",
    "atb_lt_50_ais = atb_df.loc[\n",
    "   ( atb_df['LENGTH'] < 50),\n",
    "    ['Number of vessel tracks',\"Median segment length (km)\"]\n",
    "]\n",
    "# scale number vessel tracks by segment lengths and sum \n",
    "atb_lt_50_ais_sum = (\n",
    "    atb_lt_50_ais['Number of vessel tracks']*\\\n",
    "    atb_lt_50_ais[\"Median segment length (km)\"]/\\\n",
    "    atb_lt_50_ais[\"Median segment length (km)\"].mean()\n",
    ").sum()\n",
    "\n",
    "# Repeat fo 130-210 m ATBs\n",
    "atb_130to210_ais = atb_df.loc[\n",
    "    ( atb_df['LENGTH'] > 130) & \n",
    "    ( atb_df['LENGTH'] < 210),\n",
    "    ['Number of vessel tracks',\"Median segment length (km)\"]\n",
    "]\n",
    "atb_130to210_ais_sum = (\n",
    "    atb_130to210_ais['Number of vessel tracks']*\\\n",
    "    atb_130to210_ais[\"Median segment length (km)\"]/\\\n",
    "    atb_130to210_ais[\"Median segment length (km)\"].mean()\n",
    ").sum()\n",
    "print('---------  AIS (counts weighted by segment lengths) --------------')\n",
    "print(f'ATB count (< 50m): {atb_lt_50_ais_sum}')\n",
    "print(f'ATB count (130 - 210 m):{atb_130to210_ais_sum}')\n",
    "print(f'ATB ratio (< 50 m)/(130 - 210 m):{atb_lt_50_ais_sum/atb_130to210_ais_sum}')"
   ]
  },
  {
   "cell_type": "code",
   "execution_count": 34,
   "id": "medical-margin",
   "metadata": {},
   "outputs": [
    {
     "data": {
      "text/html": [
       "<div>\n",
       "<style scoped>\n",
       "    .dataframe tbody tr th:only-of-type {\n",
       "        vertical-align: middle;\n",
       "    }\n",
       "\n",
       "    .dataframe tbody tr th {\n",
       "        vertical-align: top;\n",
       "    }\n",
       "\n",
       "    .dataframe thead th {\n",
       "        text-align: right;\n",
       "    }\n",
       "</style>\n",
       "<table border=\"1\" class=\"dataframe\">\n",
       "  <thead>\n",
       "    <tr style=\"text-align: right;\">\n",
       "      <th></th>\n",
       "      <th>MMSI</th>\n",
       "      <th>FREQUENCY</th>\n",
       "      <th>LENGTH</th>\n",
       "      <th>Number of vessel tracks</th>\n",
       "      <th>Median segment length (km)</th>\n",
       "    </tr>\n",
       "  </thead>\n",
       "  <tbody>\n",
       "    <tr>\n",
       "      <th>0</th>\n",
       "      <td>303668000</td>\n",
       "      <td>20420.0</td>\n",
       "      <td>206.0</td>\n",
       "      <td>20420.0</td>\n",
       "      <td>0.187594</td>\n",
       "    </tr>\n",
       "    <tr>\n",
       "      <th>1</th>\n",
       "      <td>316001221</td>\n",
       "      <td>30690.0</td>\n",
       "      <td>23.0</td>\n",
       "      <td>30690.0</td>\n",
       "      <td>0.125372</td>\n",
       "    </tr>\n",
       "    <tr>\n",
       "      <th>2</th>\n",
       "      <td>316001223</td>\n",
       "      <td>20609.0</td>\n",
       "      <td>41.0</td>\n",
       "      <td>20609.0</td>\n",
       "      <td>0.331434</td>\n",
       "    </tr>\n",
       "    <tr>\n",
       "      <th>3</th>\n",
       "      <td>316006101</td>\n",
       "      <td>39378.0</td>\n",
       "      <td>22.0</td>\n",
       "      <td>39378.0</td>\n",
       "      <td>0.176615</td>\n",
       "    </tr>\n",
       "    <tr>\n",
       "      <th>4</th>\n",
       "      <td>316038089</td>\n",
       "      <td>26245.0</td>\n",
       "      <td>25.0</td>\n",
       "      <td>26245.0</td>\n",
       "      <td>0.068858</td>\n",
       "    </tr>\n",
       "  </tbody>\n",
       "</table>\n",
       "</div>"
      ],
      "text/plain": [
       "        MMSI  FREQUENCY  LENGTH  Number of vessel tracks  \\\n",
       "0  303668000    20420.0   206.0                  20420.0   \n",
       "1  316001221    30690.0    23.0                  30690.0   \n",
       "2  316001223    20609.0    41.0                  20609.0   \n",
       "3  316006101    39378.0    22.0                  39378.0   \n",
       "4  316038089    26245.0    25.0                  26245.0   \n",
       "\n",
       "   Median segment length (km)  \n",
       "0                    0.187594  \n",
       "1                    0.125372  \n",
       "2                    0.331434  \n",
       "3                    0.176615  \n",
       "4                    0.068858  "
      ]
     },
     "execution_count": 34,
     "metadata": {},
     "output_type": "execute_result"
    }
   ],
   "source": [
    "atb_df.head()"
   ]
  },
  {
   "cell_type": "markdown",
   "id": "recorded-illness",
   "metadata": {},
   "source": [
    "## Review oil_attribution.yaml and assumptions on barge and ATB oil attribution using voyage dataset"
   ]
  },
  {
   "cell_type": "code",
   "execution_count": null,
   "id": "sunset-excess",
   "metadata": {},
   "outputs": [],
   "source": [
    "from monte_carlo_utils import make_bins, get_bin, place_into_bins, clamp\n",
    "random_seed=None\n",
    "# Initialize PCG-64 random number generator\n",
    "random_generator = np.random.default_rng(random_seed)\n",
    "\n",
    "\n",
    "# after reviewing the oil attribution file, I see that I have the weights and bins set to the ATB category\n",
    "# load oil_attribution file to review specifications for ATBs and barges. \n",
    "\n",
    "# test the random generator \n",
    "cargo_weight = (\n",
    "    oil_attrs['vessel_attributes']['barge']\n",
    "    ['cargo_capacity_probability']\n",
    ")\n",
    "cargo_capacity_bin_centers =  (\n",
    "    oil_attrs['vessel_attributes']['barge']\n",
    "    ['cargo_capacity_bin_centers'] \n",
    ")\n",
    "cargo_capacity = random_generator.choice(\n",
    "    cargo_capacity_bin_centers, \n",
    "    p = cargo_weight\n",
    ")"
   ]
  },
  {
   "cell_type": "code",
   "execution_count": null,
   "id": "expanded-detective",
   "metadata": {},
   "outputs": [],
   "source": [
    "(oil_attrs[\"vessel_attributes\"][\"atb\"][\"min_cargo\"] +  20810153.33)/ 236476.57"
   ]
  },
  {
   "cell_type": "code",
   "execution_count": null,
   "id": "powerful-longitude",
   "metadata": {},
   "outputs": [],
   "source": [
    "print('cargo weights\\n',cargo_weight)\n",
    "#print()"
   ]
  },
  {
   "cell_type": "code",
   "execution_count": null,
   "id": "lasting-headset",
   "metadata": {},
   "outputs": [],
   "source": [
    "oil_attrs['vessel_attributes']['barge']"
   ]
  },
  {
   "cell_type": "markdown",
   "id": "posted-engineer",
   "metadata": {},
   "source": [
    "## Take-away: Vessel lengths varry in monte-carlo"
   ]
  },
  {
   "cell_type": "code",
   "execution_count": null,
   "id": "mechanical-trader",
   "metadata": {},
   "outputs": [],
   "source": [
    "vessel_sizes['barge']"
   ]
  },
  {
   "cell_type": "code",
   "execution_count": null,
   "id": "corrected-traveler",
   "metadata": {},
   "outputs": [],
   "source": []
  },
  {
   "cell_type": "markdown",
   "id": "clean-baltimore",
   "metadata": {},
   "source": [
    "### Plot location of oil spills by vessel types and oil types"
   ]
  },
  {
   "cell_type": "code",
   "execution_count": null,
   "id": "found-confirmation",
   "metadata": {
    "tags": []
   },
   "outputs": [],
   "source": [
    "# calculate maximum spill to use for weighting size of scatter dots\n",
    "max_spill_volume = df_combined.spill_volume.max()"
   ]
  },
  {
   "cell_type": "code",
   "execution_count": null,
   "id": "passive-address",
   "metadata": {
    "tags": []
   },
   "outputs": [],
   "source": [
    "scatter_oil = {}\n",
    "spill_locs_byoil = {}\n",
    "spill_volume_fraction = {}\n",
    "\n",
    "for vessel in vessel_types:\n",
    "    spill_locs_byoil[vessel] = {}\n",
    "    spill_volume_fraction[vessel] = {}\n",
    "    for oil in oil_labels:\n",
    "        spill_locs_byoil[vessel][oil] = df_combined.loc[\n",
    "            (df_combined.vessel_type == vessel) &\n",
    "            (df_combined.Lagrangian_template == oil),\n",
    "            ['spill_lat', 'spill_lon', 'spill_volume']\n",
    "        ]\n",
    "        spill_volume_fraction[vessel][oil] = spill_locs_byoil[vessel][oil].spill_volume/max_spill_volume\n"
   ]
  },
  {
   "cell_type": "code",
   "execution_count": null,
   "id": "comic-mouth",
   "metadata": {},
   "outputs": [],
   "source": [
    "for idx_vessel, vessel in enumerate(vessel_types):\n",
    "    for idx_oil,oil in enumerate(oil_labels):\n",
    "        test = np.log10(ms * spill_volume_fraction[vessel][oil])"
   ]
  },
  {
   "cell_type": "code",
   "execution_count": null,
   "id": "ethical-museum",
   "metadata": {
    "tags": []
   },
   "outputs": [],
   "source": [
    "## rotated_crs = cartopy.crs.RotatedPole(pole_longitude=120.0, pole_latitude=63.75)\n",
    "plain_crs = cartopy.crs.PlateCarree()\n",
    "rotated_crs = cartopy.crs.RotatedPole(pole_longitude=120.0, pole_latitude=63.75)\n",
    "\n",
    "fs = 20\n",
    "ms = 300\n",
    "fs_legend = 12\n",
    "fs_legend_title = 16\n",
    "\n",
    "%matplotlib inline    \n",
    "\n",
    "terminal_loc = 0\n",
    "vessel='tanker'\n",
    "idx_vessel = 0\n",
    "\n",
    "fig, axs = plt.subplots(\n",
    "    nrows=len(vessel_types), ncols=len(oil_labels), sharex=True, sharey=False, figsize=(50, 100),\n",
    "    subplot_kw={\"projection\": rotated_crs, \"facecolor\": \"white\"}\n",
    ")\n",
    "gs1 = gridspec.GridSpec(4, 4)\n",
    "gs1.update(wspace=0.025, hspace=0.00) # set the spacing between axes.\n",
    "\n",
    "for idx_vessel, vessel in enumerate(vessel_types):\n",
    "    for idx_oil,oil in enumerate(oil_labels):    \n",
    "        print(idx_oil,oil)\n",
    "\n",
    "        axs[idx_vessel,idx_oil].add_feature(feature.GSHHSFeature('intermediate', edgecolor='k', facecolor='#8b7765'),zorder=1)\n",
    "        axs[idx_vessel,idx_oil].scatter(\n",
    "           spill_locs_byoil[vessel][oil].spill_lon, \n",
    "           spill_locs_byoil[vessel][oil].spill_lat, \n",
    "           s = ms * spill_volume_fraction[vessel][oil],\n",
    "           label = spill_volume_fraction[vessel][oil].values.tolist(),\n",
    "           color=oil_colors[idx_oil],\n",
    "           alpha = 1.0,\n",
    "           edgecolors='grey',\n",
    "           linewidth=0.7,\n",
    "           transform=plain_crs,\n",
    "           zorder=2\n",
    "        )\n",
    "        axs[idx_vessel,idx_oil].set_title(oil, fontsize=32)\n",
    "        axs[idx_vessel, 0].set_ylabel(vessel, color='black') #why isn't this working?!\n",
    "        axs[idx_vessel,idx_oil].set_extent([-123.95, -123.95, 46.6, 50.89])\n",
    "        axs[idx_vessel,idx_oil].set_aspect('equal')\n",
    "    plt.text(-0.1,0.5,vessel,horizontalalignment='center',\n",
    "            verticalalignment='center', transform = axs[idx_vessel,0].transAxes,\n",
    "            rotation=90,fontsize=36)\n",
    "fig.canvas.draw()\n",
    "plt.show()\n",
    "#fig.savefig(graphics_directory/'monte_carlo_spills_100000.pdf')\n",
    "fig.savefig(graphics_directory/'monte_carlo_spills_100000.jpeg')"
   ]
  },
  {
   "cell_type": "markdown",
   "id": "preceding-manitoba",
   "metadata": {},
   "source": [
    "### Number of spills and spill volume by oil type"
   ]
  },
  {
   "cell_type": "code",
   "execution_count": null,
   "id": "separate-builder",
   "metadata": {
    "tags": []
   },
   "outputs": [],
   "source": [
    "# create dictionary to tally spills by vessel\n",
    "spill_count_byoil = {}\n",
    "spill_volume_byoil = {}\n",
    "# loop through each 10,000 spill file and plot:\n",
    "fig1 = plt.figure(figsize=(10, 10))\n",
    "fig2 = plt.figure(figsize=(10, 10))\n",
    "#1) spill count by vessel type\n",
    "ax1 = fig1.add_subplot(211)\n",
    "#2) spill volume by vessel type\n",
    "ax2 = fig1.add_subplot(212)\n",
    "for file_index,file in enumerate(filenames):\n",
    "    spill_count_byoil[file_index] = {}\n",
    "    spill_volume_byoil[file_index] = {}\n",
    "    # calculate and catalogue spill count\n",
    "    spill_count_byoil[file_index] = df[file_index][\n",
    "            ['spill_volume','Lagrangian_template']\n",
    "        ].groupby('Lagrangian_template').count()\n",
    "    spill_count_byoil[file_index] = spill_count_byoil[file_index].rename(\n",
    "        columns = {'spill_volume':'spill_count'}\n",
    "    )\n",
    "    # calculate and catalogue spill volume\n",
    "    spill_volume_byoil[file_index] = df[file_index][\n",
    "            ['spill_volume','Lagrangian_template']\n",
    "        ].groupby('Lagrangian_template').sum()\n",
    "    ax1.plot(\n",
    "        spill_count_byoil[file_index].spill_count[:],\n",
    "        '-',\n",
    "        label=f'#{file_index}',\n",
    "    )\n",
    "    ax2.plot(\n",
    "        spill_volume_byoil[file_index].spill_volume[:],\n",
    "        '-',\n",
    "        label=f'#{file_index}'\n",
    "    )\n",
    "ax1.legend(bbox_to_anchor=(1.12, 1.0),loc=1)\n",
    "ax2.legend(bbox_to_anchor=(1.12, 1.0),loc=1)\n",
    "ax1.set_title('Number of spills by oil type for every 10,000 spills .csv file')\n",
    "ax2.set_title('Volume of spills by oil type for every 10,000 spills .csv file')\n",
    "ax1.set_ylabel('spill count')\n",
    "ax2.set_ylabel('spill volume (liters x 1e9)')"
   ]
  },
  {
   "cell_type": "markdown",
   "id": "improved-anthony",
   "metadata": {},
   "source": [
    "## plot spill volume by fuel type for tank traffic"
   ]
  },
  {
   "cell_type": "code",
   "execution_count": null,
   "id": "appointed-classification",
   "metadata": {
    "tags": []
   },
   "outputs": [],
   "source": [
    "# create dictionary to tally spills by vessel\n",
    "spill_count_byoil_vessel = {}\n",
    "spill_volume_byoil_vessel = {}\n",
    "# loop through each 10,000 spill file and plot:\n",
    "fig1 = plt.figure(figsize=(10, 10))\n",
    "fig2 = plt.figure(figsize=(10, 10))\n",
    "#1) spill count by vessel type\n",
    "ax1 = fig1.add_subplot(211)\n",
    "#2) spill volume by vessel type\n",
    "ax2 = fig1.add_subplot(212)\n",
    "for vessel in ['tanker', 'atb', 'barge']:\n",
    "    spill_count_byoil_vessel[vessel] = df_combined.loc[\n",
    "       (df_combined.vessel_type == vessel),\n",
    "        ['spill_volume','Lagrangian_template']\n",
    "    ].groupby('Lagrangian_template').count()\n",
    "    spill_count_byoil_vessel[vessel] = spill_count_byoil_vessel[vessel].rename(\n",
    "        columns = {'spill_volume':'spill_count'}\n",
    "    )\n",
    "    # calculate and catalogue spill volume\n",
    "    spill_volume_byoil_vessel[vessel] = df_combined.loc[\n",
    "        (df_combined.vessel_type == vessel),\n",
    "        ['spill_volume','Lagrangian_template']\n",
    "    ].groupby('Lagrangian_template').sum()\n",
    "    ax1.plot(\n",
    "        spill_count_byoil_vessel[vessel].spill_count[:],\n",
    "        '-',\n",
    "        label=vessel,\n",
    "    )\n",
    "    ax2.plot(\n",
    "        spill_volume_byoil_vessel[vessel].spill_volume[:],\n",
    "        '-',\n",
    "        label=vessel,\n",
    "    )\n",
    "\n",
    "ax1.legend(bbox_to_anchor=(1.12, 1.0),loc=1)\n",
    "ax2.legend(bbox_to_anchor=(1.12, 1.0),loc=1)\n",
    "ax1.set_title('Number of Cargo and Fuel spills by oil type for every 10,000 spills .csv file')\n",
    "ax2.set_title('Volume of Cargo and Fuel spills by oil type for every 10,000 spills .csv file')\n",
    "ax2.tick_params('x',labelrotation=45)\n",
    "#ax1.set_xticklabels(['akns', 'bunker', 'diesel', 'dilbit', 'gas', 'jet', 'other'],fontsize=14)\n",
    "#ax2.set_xticklabels(['akns', 'bunker', 'diesel', 'dilbit', 'gas', 'jet', 'other'],fontsize=14)\n",
    "ax1.set_ylabel('spill count', fontsize=14)\n",
    "ax2.set_ylabel('spill volume (liters x 1e10)', fontsize=14)"
   ]
  },
  {
   "cell_type": "markdown",
   "id": "advanced-cleaning",
   "metadata": {},
   "source": [
    "## Evaluate monte-carlo representation of tank traffic by cargo- and fuel-capacities"
   ]
  },
  {
   "cell_type": "code",
   "execution_count": null,
   "id": "oriental-district",
   "metadata": {
    "tags": []
   },
   "outputs": [],
   "source": [
    "# create a dataframe with zero transfers\n",
    "tanker_mc100k = pd.DataFrame()\n",
    "atb_mc100k = pd.DataFrame()\n",
    "barge_mc100k = pd.DataFrame()\n",
    "\n",
    "# Loop through files and add transfers to \"transfers\" for each facility\n",
    "for fn in filenames:\n",
    "    df = pd.read_csv(fn)\n",
    "    \n",
    "    # rename mc terminals to match DOE\n",
    "    df['vessel_dest'] = df['vessel_dest'].replace(\n",
    "        ['Marathon Anacortes Refinery (formerly Tesoro)'], 'Andeavor Anacortes Refinery (formerly Tesoro)'\n",
    "    )\n",
    "    df['vessel_origin'] = df['vessel_origin'].replace(\n",
    "        ['Marathon Anacortes Refinery (formerly Tesoro)'],'Andeavor Anacortes Refinery (formerly Tesoro)'\n",
    "    )\n",
    "\n",
    "    # for imports\n",
    "    tanker = df.loc[\n",
    "        (df.vessel_type == 'tanker'),\n",
    "        ['cargo_capacity', 'fuel_capacity']\n",
    "    ]\n",
    "    atb = df.loc[\n",
    "        (df.vessel_type == 'atb'),\n",
    "        ['cargo_capacity', 'fuel_capacity']\n",
    "    ]\n",
    "    barge = df.loc[\n",
    "        (df.vessel_type == 'barge'),\n",
    "        ['cargo_capacity', 'fuel_capacity']\n",
    "    ]\n",
    "    tanker_mc100k = pd.concat([tanker_mc100k, tanker])\n",
    "    atb_mc100k = pd.concat([atb_mc100k, atb])\n",
    "    barge_mc100k = pd.concat([barge_mc100k, barge])"
   ]
  },
  {
   "cell_type": "code",
   "execution_count": null,
   "id": "stylish-population",
   "metadata": {},
   "outputs": [],
   "source": [
    "tanker_mc100k.shape"
   ]
  },
  {
   "cell_type": "code",
   "execution_count": null,
   "id": "amateur-table",
   "metadata": {
    "tags": []
   },
   "outputs": [],
   "source": [
    "tanker_mc100k.head(5)"
   ]
  },
  {
   "cell_type": "code",
   "execution_count": null,
   "id": "miniature-newcastle",
   "metadata": {
    "tags": []
   },
   "outputs": [],
   "source": [
    "print('--- TANKER CARGO VOLUMES ---')\n",
    "print(f'Min tanker capacity: {tanker_mc100k.cargo_capacity.min():.2e} liters')\n",
    "print(f'Max tanker capacity: {tanker_mc100k.cargo_capacity.max():.2e} liters')\n",
    "print('Expected range: 8e06 liters (Small Tanker,< 150 m) to ~2e08 liters (SuezMax, 287 m)')\n",
    "print('--- ATB CARGO VOLUMES---')\n",
    "print(f'Min atb capacity: {atb_mc100k.cargo_capacity.min():.2e} liters')\n",
    "print(f'Max atb capacity: {atb_mc100k.cargo_capacity.max():.2e} liters')\n",
    "print('Expected range: 4e06 liters (Island Trader)  to 3e07 liters (Kirby 185-01) ')\n",
    "print('--- BARGE CARGO VOLUMES ---')\n",
    "print(f'Min barge capacity: {barge_mc100k.cargo_capacity.min():.2e} liters')\n",
    "print(f'Max barge capacity: {barge_mc100k.cargo_capacity.max():.2e} liters')\n",
    "print('Expected range: 1.5e06 liters  to 3.2e07 liters ')"
   ]
  },
  {
   "cell_type": "code",
   "execution_count": null,
   "id": "military-gateway",
   "metadata": {
    "tags": []
   },
   "outputs": [],
   "source": [
    "fig, axs = plt.subplots(1, 1,figsize=(10,5))\n",
    "df.loc[\n",
    "    (df.vessel_type == 'tanker'),\n",
    "    ['vessel_mmsi', 'cargo_capacity']\n",
    "].groupby('vessel_mmsi').count().plot(ax=axs,kind = \"bar\")\n",
    "axs.legend('')\n",
    "axs.set_ylabel('Number of spills')\n",
    "axs.set_title('Tanker spill by MMSI, based on 100,000 monte carlo spills')\n",
    "\n",
    "fig, axs = plt.subplots(1, 1,figsize=(10,5))\n",
    "df.loc[\n",
    "    (df.vessel_type == 'atb'),\n",
    "    ['vessel_mmsi', 'cargo_capacity']\n",
    "].groupby('vessel_mmsi').count().plot(ax=axs,kind = \"bar\")\n",
    "axs.legend('')\n",
    "axs.set_ylabel('Number of spills')\n",
    "axs.set_title('ATB spill by MMSI, based on 100,000 monte carlo spills')\n",
    "\n",
    "fig, axs = plt.subplots(1, 1,figsize=(10,5))\n",
    "df.loc[\n",
    "    (df.vessel_type == 'barge'),\n",
    "    ['vessel_mmsi', 'cargo_capacity']\n",
    "].groupby('vessel_mmsi').count().plot(ax=axs,kind = \"bar\")\n",
    "axs.legend('')\n",
    "axs.set_ylabel('Number of spills')\n",
    "axs.set_title('barge spill by MMSI, based on 100,000 monte carlo spills')"
   ]
  },
  {
   "cell_type": "markdown",
   "id": "transsexual-accent",
   "metadata": {},
   "source": [
    "\n"
   ]
  }
 ],
 "metadata": {
  "kernelspec": {
   "display_name": "Python 3",
   "language": "python",
   "name": "python3"
  },
  "language_info": {
   "codemirror_mode": {
    "name": "ipython",
    "version": 3
   },
   "file_extension": ".py",
   "mimetype": "text/x-python",
   "name": "python",
   "nbconvert_exporter": "python",
   "pygments_lexer": "ipython3",
   "version": "3.9.2"
  }
 },
 "nbformat": 4,
 "nbformat_minor": 5
}
