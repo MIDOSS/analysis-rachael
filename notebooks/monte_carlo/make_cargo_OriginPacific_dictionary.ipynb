{
 "cells": [
  {
   "cell_type": "markdown",
   "metadata": {},
   "source": [
    "### Oil type by origin \"Pacific\" (general attribution)\n",
    "Goal: Determine general case of fuel allocation \n"
   ]
  },
  {
   "cell_type": "code",
   "execution_count": 1,
   "metadata": {},
   "outputs": [],
   "source": [
    "import pandas as pd\n",
    "import numpy as np\n",
    "import matplotlib.pyplot as plt\n",
    "import yaml"
   ]
  },
  {
   "cell_type": "code",
   "execution_count": 2,
   "metadata": {},
   "outputs": [],
   "source": [
    "# User inputs\n",
    "file_dir  = '/Users/rmueller/Data/MIDOSS/DeptOfEcology/'\n",
    "file_name = 'MuellerTrans4-30-20.xlsx'\n",
    "\n",
    "master_dir  = '/Users/rmueller/Projects/MIDOSS/analysis-rachael/notebooks/monte_carlo/'\n",
    "master_file = 'master.yaml'\n",
    "\n",
    "with open(f'{master_dir}{master_file}') as file:\n",
    "    master = yaml.safe_load(file)\n",
    "\n",
    "vessel_types = master['categories']['tank_vessels']\n",
    "fuel_types   = master['categories']['fuel_type']"
   ]
  },
  {
   "cell_type": "code",
   "execution_count": 3,
   "metadata": {},
   "outputs": [
    {
     "data": {
      "text/plain": [
       "['tanker', 'atb', 'barge']"
      ]
     },
     "execution_count": 3,
     "metadata": {},
     "output_type": "execute_result"
    }
   ],
   "source": [
    "vessel_types"
   ]
  },
  {
   "cell_type": "code",
   "execution_count": 4,
   "metadata": {},
   "outputs": [],
   "source": [
    "# Import columns are: (G) Deliverer, (H) Receiver, (P) Product, \n",
    "#                     (Q) Quantity in Gallons, (R) Transfer Type (Fueling, Cargo, or Other)', \n",
    "#                     (w) DelivererTypeDescription, (x) ReceiverTypeDescription \n",
    "df = pd.read_excel(f'{file_dir}{file_name}',sheet_name='Vessel Oil Transfer', \n",
    "                   usecols=\"G,H,P,Q,R,W,X\")"
   ]
  },
  {
   "cell_type": "markdown",
   "metadata": {},
   "source": [
    "#### Extract cargo data transferred from vessel to facility"
   ]
  },
  {
   "cell_type": "code",
   "execution_count": 5,
   "metadata": {},
   "outputs": [],
   "source": [
    "# list of names in DOE dataset that are used as \"DelivererTypeDescription\" for vessel transfers\n",
    "vessel_names = ['TANK SHIP', 'TANK BARGE', 'TUGBOAT']\n",
    "# Get all cargo fuel transfers\n",
    "bool_cargo = df['TransferType']=='Cargo'\n",
    "cargo_data = df[bool_cargo]\n",
    "cargo_to_facility = cargo_data[ cargo_data['ReceiverTypeDescription']=='Facility' ]\n",
    "cargo_from_tank   = cargo_to_facility[ cargo_to_facility['DelivererTypeDescription'] == 'TANK SHIP' ]\n",
    "cargo_from_barge  = cargo_to_facility[ cargo_to_facility['DelivererTypeDescription'] == 'TANK BARGE' ] \n",
    "cargo_from_tug    = cargo_to_facility[ cargo_to_facility['DelivererTypeDescription'] == 'TUGBOAT' ]\n",
    "\n",
    "# reset indices so they increase chronologically from 0 instead of keeping parent index values\n",
    "cargo_from_tank.reset_index( drop=True, inplace=True )\n",
    "cargo_from_barge.reset_index( drop=True, inplace=True )\n",
    "cargo_from_tug.reset_index( drop=True, inplace=True )"
   ]
  },
  {
   "cell_type": "code",
   "execution_count": 6,
   "metadata": {},
   "outputs": [],
   "source": [
    "[nrows,ncols] = cargo_from_barge.shape"
   ]
  },
  {
   "cell_type": "code",
   "execution_count": 7,
   "metadata": {},
   "outputs": [],
   "source": [
    "# create ATB and tank barge dataframes\n",
    "cargo_from_atb = pd.DataFrame(columns = cargo_from_barge.columns)\n",
    "for row in range(nrows):\n",
    "    if 'ITB' in cargo_from_barge.Deliverer[row] or 'ATB' in cargo_from_barge.Deliverer[row]:\n",
    "        cargo_from_atb = cargo_from_atb.append( cargo_from_barge.iloc[row] )\n",
    "        \n",
    "for row in range(nrows):\n",
    "    if 'ITB' in cargo_from_barge.Deliverer[row] or 'ATB' in cargo_from_barge.Deliverer[row]:        \n",
    "        cargo_from_barge = cargo_from_barge.drop([row])\n",
    "\n",
    "# reset indexing        \n",
    "cargo_from_atb.reset_index( drop=True, inplace=True )"
   ]
  },
  {
   "cell_type": "code",
   "execution_count": 8,
   "metadata": {},
   "outputs": [],
   "source": [
    "# concatenate tank barge dataframes\n",
    "cargo_from_barge = pd.concat([cargo_from_barge, cargo_from_tug])\n",
    "\n",
    "# reset indexing\n",
    "cargo_from_barge.reset_index( drop=True, inplace=True )"
   ]
  },
  {
   "cell_type": "markdown",
   "metadata": {},
   "source": [
    "### Total up the volume of fuel by fuel category for vessel types used in this study"
   ]
  },
  {
   "cell_type": "code",
   "execution_count": 9,
   "metadata": {},
   "outputs": [],
   "source": [
    "# create dictionary structure\n",
    "Pacific = {}\n",
    "for vessel in vessel_types:\n",
    "    Pacific[f'{vessel}']={}\n",
    "    for fuel in fuel_types:\n",
    "        Pacific[f'{vessel}'][f'{fuel}']={}\n",
    "        Pacific[f'{vessel}'][f'{fuel}']['total_gallons']=0\n",
    "        Pacific[f'{vessel}'][f'{fuel}']['number_of_transfers']=0\n",
    "        Pacific[f'{vessel}'][f'{fuel}']['percent_of_total']=0"
   ]
  },
  {
   "cell_type": "markdown",
   "metadata": {},
   "source": [
    "#### Tankers"
   ]
  },
  {
   "cell_type": "code",
   "execution_count": 10,
   "metadata": {},
   "outputs": [],
   "source": [
    "[nrows,ncols] = cargo_from_tank.shape\n",
    "label = 'tanker'\n",
    "for row in range(nrows):\n",
    "    \n",
    "    if 'CRUDE' in cargo_from_tank.Product[row]:\n",
    "        Pacific[f'{label}']['akns']['total_gallons'] += cargo_from_tank.TransferQtyInGallon[row].item()\n",
    "        Pacific[f'{label}']['akns']['number_of_transfers'] += 1\n",
    "\n",
    "    elif cargo_from_tank.Product[row] == 'BUNKER OIL/HFO':\n",
    "        Pacific[f'{label}']['bunker']['total_gallons'] += cargo_from_tank.TransferQtyInGallon[row].item()\n",
    "        Pacific[f'{label}']['bunker']['number_of_transfers'] += 1\n",
    "\n",
    "    elif cargo_from_tank.Product[row] == 'GASOLINE':\n",
    "        Pacific[f'{label}']['gas']['total_gallons'] += cargo_from_tank.TransferQtyInGallon[row].item()\n",
    "        Pacific[f'{label}']['gas']['number_of_transfers'] += 1\n",
    "\n",
    "    elif cargo_from_tank.Product[row] == 'JET FUEL/KEROSENE':\n",
    "        Pacific[f'{label}']['jet']['total_gallons'] += cargo_from_tank.TransferQtyInGallon[row].item()\n",
    "        Pacific[f'{label}']['jet']['number_of_transfers'] += 1\n",
    "\n",
    "    elif 'DIESEL' in cargo_from_tank.Product[row]: \n",
    "        # inclusive if BIODIESEL, DIESEL/MARINE GAS OIl, and DIESEL LOW SULPHUR (ULSD)\n",
    "        Pacific[f'{label}']['diesel']['total_gallons'] += cargo_from_tank.TransferQtyInGallon[row].item()\n",
    "        Pacific[f'{label}']['diesel']['number_of_transfers'] += 1\n",
    "\n",
    "    else:\n",
    "        Pacific[f'{label}']['other']['total_gallons'] += cargo_from_tank.TransferQtyInGallon[row].item()\n",
    "        Pacific[f'{label}']['other']['number_of_transfers'] += 1    "
   ]
  },
  {
   "cell_type": "code",
   "execution_count": 11,
   "metadata": {},
   "outputs": [
    {
     "data": {
      "text/plain": [
       "240552010"
      ]
     },
     "execution_count": 11,
     "metadata": {},
     "output_type": "execute_result"
    }
   ],
   "source": [
    "Pacific[f'{label}']['other']['total_gallons']"
   ]
  },
  {
   "cell_type": "markdown",
   "metadata": {},
   "source": [
    "#### ATBs"
   ]
  },
  {
   "cell_type": "code",
   "execution_count": 12,
   "metadata": {},
   "outputs": [],
   "source": [
    "[nrows,ncols] = cargo_from_atb.shape\n",
    "label = 'atb'\n",
    "for row in range(nrows):\n",
    "    \n",
    "    if 'CRUDE' in cargo_from_atb.Product[row]:\n",
    "        ### WHY DOES ADDING A .ITEM() HERE GIVE AN ERROR WHEN IT DOESN'T ABOVE?\n",
    "        Pacific[f'{label}']['akns']['total_gallons'] += cargo_from_atb.TransferQtyInGallon[row]\n",
    "        Pacific[f'{label}']['akns']['number_of_transfers'] += 1\n",
    "\n",
    "    elif cargo_from_atb.Product[row] == 'BUNKER OIL/HFO':\n",
    "        Pacific[f'{label}']['bunker']['total_gallons'] += cargo_from_atb.TransferQtyInGallon[row]\n",
    "        Pacific[f'{label}']['bunker']['number_of_transfers'] += 1\n",
    "\n",
    "    elif cargo_from_atb.Product[row] == 'GASOLINE':\n",
    "        Pacific[f'{label}']['gas']['total_gallons'] += cargo_from_atb.TransferQtyInGallon[row]\n",
    "        Pacific[f'{label}']['gas']['number_of_transfers'] += 1\n",
    "\n",
    "    elif cargo_from_atb.Product[row] == 'JET FUEL/KEROSENE':\n",
    "        Pacific[f'{label}']['jet']['total_gallons'] += cargo_from_atb.TransferQtyInGallon[row]\n",
    "        Pacific[f'{label}']['jet']['number_of_transfers'] += 1\n",
    "\n",
    "    elif 'DIESEL' in cargo_from_atb.Product[row]: \n",
    "        # inclusive if BIODIESEL, DIESEL/MARINE GAS OIl, and DIESEL LOW SULPHUR (ULSD)\n",
    "        Pacific[f'{label}']['diesel']['total_gallons'] += cargo_from_atb.TransferQtyInGallon[row]\n",
    "        Pacific[f'{label}']['diesel']['number_of_transfers'] += 1\n",
    "\n",
    "    else:\n",
    "        Pacific[f'{label}']['other']['total_gallons'] += cargo_from_atb.TransferQtyInGallon[row]\n",
    "        Pacific[f'{label}']['other']['number_of_transfers'] += 1   "
   ]
  },
  {
   "cell_type": "markdown",
   "metadata": {},
   "source": [
    "#### Barges"
   ]
  },
  {
   "cell_type": "code",
   "execution_count": 13,
   "metadata": {},
   "outputs": [],
   "source": [
    "[nrows,ncols] = cargo_from_barge.shape\n",
    "label = 'barge'\n",
    "\n",
    "for row in range(nrows):\n",
    "    \n",
    "    if 'CRUDE' in cargo_from_barge.Product[row]:\n",
    "        Pacific[f'{label}']['akns']['total_gallons'] += cargo_from_barge.TransferQtyInGallon[row].item()\n",
    "        Pacific[f'{label}']['akns']['number_of_transfers'] += 1\n",
    "\n",
    "    elif cargo_from_barge.Product[row] == 'BUNKER OIL/HFO':\n",
    "        Pacific[f'{label}']['bunker']['total_gallons'] += cargo_from_barge.TransferQtyInGallon[row].item()\n",
    "        Pacific[f'{label}']['bunker']['number_of_transfers'] += 1\n",
    "\n",
    "    elif cargo_from_barge.Product[row] == 'GASOLINE':\n",
    "        Pacific[f'{label}']['gas']['total_gallons'] += cargo_from_barge.TransferQtyInGallon[row].item()\n",
    "        Pacific[f'{label}']['gas']['number_of_transfers'] += 1\n",
    "\n",
    "    elif cargo_from_barge.Product[row] == 'JET FUEL/KEROSENE':\n",
    "        Pacific[f'{label}']['jet']['total_gallons'] += cargo_from_barge.TransferQtyInGallon[row].item()\n",
    "        Pacific[f'{label}']['jet']['number_of_transfers'] += 1\n",
    "\n",
    "    elif 'DIESEL' in cargo_from_barge.Product[row]: \n",
    "        # inclusive if BIODIESEL, DIESEL/MARINE GAS OIl, and DIESEL LOW SULPHUR (ULSD)\n",
    "        Pacific[f'{label}']['diesel']['total_gallons'] += cargo_from_barge.TransferQtyInGallon[row].item()\n",
    "        Pacific[f'{label}']['diesel']['number_of_transfers'] += 1\n",
    "\n",
    "    else:\n",
    "        Pacific[f'{label}']['other']['total_gallons'] += cargo_from_barge.TransferQtyInGallon[row].item()\n",
    "        Pacific[f'{label}']['other']['number_of_transfers'] += 1   \n"
   ]
  },
  {
   "cell_type": "markdown",
   "metadata": {},
   "source": [
    "#### Determine percent oil for each oil type"
   ]
  },
  {
   "cell_type": "code",
   "execution_count": 14,
   "metadata": {},
   "outputs": [],
   "source": [
    "for vessel in vessel_types:\n",
    "\n",
    "    # first get the total transfers over all fuel types\n",
    "    total = sum([ Pacific[f'{vessel}'][f'{fuel}']['total_gallons'] for fuel in fuel_types ])\n",
    "\n",
    "    for fuel in fuel_types:\n",
    "  \n",
    "        # next calculate percentages\n",
    "        if total != 0:\n",
    "            Pacific[f'{vessel}'][f'{fuel}']['percent_of_total'] = round(Pacific[f'{vessel}'][f'{fuel}']['total_gallons'] / total, 2)\n",
    "  "
   ]
  },
  {
   "cell_type": "code",
   "execution_count": 17,
   "metadata": {},
   "outputs": [],
   "source": [
    "with open(r'./Pacific_origin.yaml', 'w') as file:\n",
    "    documents = yaml.safe_dump(Pacific, file)"
   ]
  },
  {
   "cell_type": "markdown",
   "metadata": {},
   "source": [
    "#### Plot results"
   ]
  },
  {
   "cell_type": "code",
   "execution_count": 18,
   "metadata": {},
   "outputs": [
    {
     "data": {
      "text/plain": [
       "['akns', 'bunker', 'dilbit', 'jet', 'diesel', 'gas', 'other']"
      ]
     },
     "execution_count": 18,
     "metadata": {},
     "output_type": "execute_result"
    }
   ],
   "source": [
    "fuel_types"
   ]
  },
  {
   "cell_type": "code",
   "execution_count": 20,
   "metadata": {},
   "outputs": [
    {
     "data": {
      "text/plain": [
       "Text(0.5,1,'tanker fuel allocation for origin = Pacific')"
      ]
     },
     "execution_count": 20,
     "metadata": {},
     "output_type": "execute_result"
    },
    {
     "data": {
      "image/png": "[encoded data removed]",
      "text/plain": [
       "<Figure size 432x288 with 1 Axes>"
      ]
     },
     "metadata": {},
     "output_type": "display_data"
    }
   ],
   "source": [
    "label = 'tanker'\n",
    "Pacific_tank = [ Pacific[f'{label}']['akns']['total_gallons'], \n",
    "                Pacific[f'{label}']['bunker']['total_gallons'], \n",
    "                Pacific[f'{label}']['dilbit']['total_gallons'], \n",
    "                Pacific[f'{label}']['jet']['total_gallons'], \n",
    "                Pacific[f'{label}']['diesel']['total_gallons'], \n",
    "                Pacific[f'{label}']['gas']['total_gallons'], \n",
    "                Pacific[f'{label}']['other']['total_gallons']\n",
    "               ]\n",
    "plt.gca().axis(\"equal\")\n",
    "plt.pie(Pacific_tank, labels= fuel_types)\n",
    "plt.title(f'{label} fuel allocation for origin = Pacific')"
   ]
  },
  {
   "cell_type": "code",
   "execution_count": 21,
   "metadata": {},
   "outputs": [
    {
     "data": {
      "text/plain": [
       "Text(0.5,1,'atb fuel allocation for origin = Pacific')"
      ]
     },
     "execution_count": 21,
     "metadata": {},
     "output_type": "execute_result"
    },
    {
     "data": {
      "image/png": "[encoded data removed]",
      "text/plain": [
       "<Figure size 432x288 with 1 Axes>"
      ]
     },
     "metadata": {},
     "output_type": "display_data"
    }
   ],
   "source": [
    "label = 'atb'\n",
    "Pacific_tank = [ Pacific[f'{label}']['akns']['total_gallons'], \n",
    "                Pacific[f'{label}']['bunker']['total_gallons'], \n",
    "                Pacific[f'{label}']['dilbit']['total_gallons'], \n",
    "                Pacific[f'{label}']['jet']['total_gallons'], \n",
    "                Pacific[f'{label}']['diesel']['total_gallons'], \n",
    "                Pacific[f'{label}']['gas']['total_gallons'], \n",
    "                Pacific[f'{label}']['other']['total_gallons']\n",
    "               ]\n",
    "plt.gca().axis(\"equal\")\n",
    "plt.pie(Pacific_tank, labels= fuel_types)\n",
    "plt.title(f'{label} fuel allocation for origin = Pacific')"
   ]
  },
  {
   "cell_type": "code",
   "execution_count": 22,
   "metadata": {},
   "outputs": [
    {
     "data": {
      "text/plain": [
       "Text(0.5,1,'barge fuel allocation for origin = Pacific')"
      ]
     },
     "execution_count": 22,
     "metadata": {},
     "output_type": "execute_result"
    },
    {
     "data": {
      "image/png": "[encoded data removed]",
      "text/plain": [
       "<Figure size 432x288 with 1 Axes>"
      ]
     },
     "metadata": {},
     "output_type": "display_data"
    }
   ],
   "source": [
    "label = 'barge'\n",
    "Pacific_tank = [ Pacific[f'{label}']['akns']['total_gallons'], \n",
    "                Pacific[f'{label}']['bunker']['total_gallons'], \n",
    "                Pacific[f'{label}']['dilbit']['total_gallons'], \n",
    "                Pacific[f'{label}']['jet']['total_gallons'], \n",
    "                Pacific[f'{label}']['diesel']['total_gallons'], \n",
    "                Pacific[f'{label}']['gas']['total_gallons'], \n",
    "                Pacific[f'{label}']['other']['total_gallons']\n",
    "               ]\n",
    "plt.gca().axis(\"equal\")\n",
    "plt.pie(Pacific_tank, labels= fuel_types)\n",
    "plt.title(f'{label} fuel allocation for origin = Pacific')"
   ]
  },
  {
   "cell_type": "code",
   "execution_count": null,
   "metadata": {},
   "outputs": [],
   "source": []
  }
 ],
 "metadata": {
  "kernelspec": {
   "display_name": "Python 3",
   "language": "python",
   "name": "python3"
  },
  "language_info": {
   "codemirror_mode": {
    "name": "ipython",
    "version": 3
   },
   "file_extension": ".py",
   "mimetype": "text/x-python",
   "name": "python",
   "nbconvert_exporter": "python",
   "pygments_lexer": "ipython3",
   "version": "3.6.5"
  }
 },
 "nbformat": 4,
 "nbformat_minor": 2
}
