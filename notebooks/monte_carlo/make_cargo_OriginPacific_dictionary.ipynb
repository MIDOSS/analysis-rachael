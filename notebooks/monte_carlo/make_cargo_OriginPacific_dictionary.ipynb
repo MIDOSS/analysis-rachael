{
 "cells": [
  {
   "cell_type": "markdown",
   "metadata": {},
   "source": [
    "### Oil type by origin \"Pacific\" (general attribution)\n",
    "\n",
    "Calculated as imports to WA terminals in Department of Ecology's recorded marine terminal transfers for 2018.  \n",
    "Only transfers greater than 1000 L are required to be documented. All imports and exports are catalogued by vessel and oil types used in this study, across all the marine terminals used in this category. \n",
    "\n",
    "Use `analysis-rachael/env/monte_carlo.yaml` to create an environment for this notebook:\n",
    "```\n",
    " conda env create -f [analysis-rachael/env/monte_carlo.yaml]\n",
    "```\n",
    "or, to activate this environment, use\n",
    "```\n",
    " conda activate monte-carlo\n",
    "```\n",
    "To deactivate an active environment, use\n",
    "```\n",
    " conda deactivate\n",
    "```\n",
    "\n",
    "NOTE: The strategy used in this code was improved upon but this code wasn't updated.  "
   ]
  },
  {
   "cell_type": "code",
   "execution_count": 19,
   "metadata": {},
   "outputs": [],
   "source": [
    "import pandas as pd\n",
    "import numpy as np\n",
    "import matplotlib.pyplot as plt\n",
    "import pathlib\n",
    "import yaml"
   ]
  },
  {
   "cell_type": "code",
   "execution_count": 20,
   "metadata": {},
   "outputs": [],
   "source": [
    "# User inputs\n",
    "yaml_input = pathlib.Path('/data/MIDOSS/marine_transport_data/')\n",
    "yaml_output = pathlib.Path('/ocean/rmueller/MIDOSS/tmp_output')\n",
    "\n",
    "# open oil_attribution.yaml for paths\n",
    "oil_attribution_file = yaml_input / 'oil_attribution.yaml'\n",
    "with open(oil_attribution_file) as file:\n",
    "            oil_attrs = yaml.load(file, Loader=yaml.Loader)\n",
    "        \n",
    "# define file path for DOE data\n",
    "doe_input = oil_attrs['files']['doe_transfers']\n",
    "\n",
    "vessel_types = oil_attrs['categories']['tank_vessels']\n",
    "fuel_types   = oil_attrs['categories']['fuel_type']"
   ]
  },
  {
   "cell_type": "code",
   "execution_count": 21,
   "metadata": {},
   "outputs": [
    {
     "data": {
      "text/plain": [
       "['tanker', 'atb', 'barge']"
      ]
     },
     "execution_count": 21,
     "metadata": {},
     "output_type": "execute_result"
    }
   ],
   "source": [
    "vessel_types"
   ]
  },
  {
   "cell_type": "code",
   "execution_count": 22,
   "metadata": {},
   "outputs": [],
   "source": [
    "# Import columns are: (G) Deliverer, (H) Receiver, (P) Product, \n",
    "#                     (Q) Quantity in Gallons, (R) Transfer Type (Fueling, Cargo, or Other)', \n",
    "#                     (w) DelivererTypeDescription, (x) ReceiverTypeDescription \n",
    "df = pd.read_excel(doe_input, sheet_name='Vessel Oil Transfer', \n",
    "                   usecols=\"G,H,P,Q,R,W,X\")"
   ]
  },
  {
   "cell_type": "markdown",
   "metadata": {},
   "source": [
    "#### Extract cargo data transferred from vessel to facility"
   ]
  },
  {
   "cell_type": "code",
   "execution_count": 23,
   "metadata": {},
   "outputs": [],
   "source": [
    "# list of names in DOE dataset that are used as \"DelivererTypeDescription\" for vessel transfers\n",
    "vessel_names = ['TANK SHIP', 'TANK BARGE', 'TUGBOAT']\n",
    "# Get all cargo fuel transfers\n",
    "bool_cargo = df['TransferType']=='Cargo'\n",
    "cargo_data = df[bool_cargo]\n",
    "cargo_to_facility = cargo_data[ cargo_data['ReceiverTypeDescription']=='Facility' ]\n",
    "cargo_from_tank   = cargo_to_facility[ cargo_to_facility['DelivererTypeDescription'] == 'TANK SHIP' ]\n",
    "cargo_from_barge  = cargo_to_facility[ cargo_to_facility['DelivererTypeDescription'] == 'TANK BARGE' ] \n",
    "cargo_from_tug    = cargo_to_facility[ cargo_to_facility['DelivererTypeDescription'] == 'TUGBOAT' ]\n",
    "\n",
    "# reset indices so they increase chronologically from 0 instead of keeping parent index values\n",
    "cargo_from_tank.reset_index( drop=True, inplace=True )\n",
    "cargo_from_barge.reset_index( drop=True, inplace=True )\n",
    "cargo_from_tug.reset_index( drop=True, inplace=True )"
   ]
  },
  {
   "cell_type": "code",
   "execution_count": 24,
   "metadata": {},
   "outputs": [],
   "source": [
    "[nrows,ncols] = cargo_from_barge.shape"
   ]
  },
  {
   "cell_type": "code",
   "execution_count": 25,
   "metadata": {},
   "outputs": [],
   "source": [
    "# create ATB and tank barge dataframes\n",
    "cargo_from_atb = pd.DataFrame(columns = cargo_from_barge.columns)\n",
    "for row in range(nrows):\n",
    "    if 'ITB' in cargo_from_barge.Deliverer[row] or 'ATB' in cargo_from_barge.Deliverer[row]:\n",
    "        cargo_from_atb = cargo_from_atb.append( cargo_from_barge.iloc[row] )\n",
    "        \n",
    "for row in range(nrows):\n",
    "    if 'ITB' in cargo_from_barge.Deliverer[row] or 'ATB' in cargo_from_barge.Deliverer[row]:        \n",
    "        cargo_from_barge = cargo_from_barge.drop([row])\n",
    "\n",
    "# reset indexing        \n",
    "cargo_from_atb.reset_index( drop=True, inplace=True )"
   ]
  },
  {
   "cell_type": "code",
   "execution_count": 26,
   "metadata": {},
   "outputs": [],
   "source": [
    "# concatenate tank barge dataframes\n",
    "cargo_from_barge = pd.concat([cargo_from_barge, cargo_from_tug])\n",
    "\n",
    "# reset indexing\n",
    "cargo_from_barge.reset_index( drop=True, inplace=True )"
   ]
  },
  {
   "cell_type": "markdown",
   "metadata": {},
   "source": [
    "### Total up the volume of fuel by fuel category for vessel types used in this study"
   ]
  },
  {
   "cell_type": "code",
   "execution_count": 27,
   "metadata": {},
   "outputs": [],
   "source": [
    "# create dictionary structure\n",
    "Pacific = {}\n",
    "for vessel in vessel_types:\n",
    "    Pacific[vessel]={}\n",
    "    for fuel in fuel_types:\n",
    "        Pacific[vessel][fuel]={}\n",
    "        Pacific[vessel][fuel]['total_gallons']=0\n",
    "        Pacific[vessel][fuel]['number_of_transfers']=0\n",
    "        Pacific[vessel][fuel]['fraction_of_total']=0"
   ]
  },
  {
   "cell_type": "markdown",
   "metadata": {},
   "source": [
    "#### Tankers"
   ]
  },
  {
   "cell_type": "code",
   "execution_count": 28,
   "metadata": {},
   "outputs": [],
   "source": [
    "[nrows,ncols] = cargo_from_tank.shape\n",
    "label = 'tanker'\n",
    "for row in range(nrows):\n",
    "    \n",
    "    if 'CRUDE' in cargo_from_tank.Product[row]:\n",
    "        Pacific[label]['akns']['total_gallons'] += cargo_from_tank.TransferQtyInGallon[row].item()\n",
    "        Pacific[label]['akns']['number_of_transfers'] += 1\n",
    "\n",
    "    elif cargo_from_tank.Product[row] == 'BUNKER OIL/HFO':\n",
    "        Pacific[label]['bunker']['total_gallons'] += cargo_from_tank.TransferQtyInGallon[row].item()\n",
    "        Pacific[label]['bunker']['number_of_transfers'] += 1\n",
    "\n",
    "    elif cargo_from_tank.Product[row] == 'GASOLINE':\n",
    "        Pacific[label]['gas']['total_gallons'] += cargo_from_tank.TransferQtyInGallon[row].item()\n",
    "        Pacific[label]['gas']['number_of_transfers'] += 1\n",
    "\n",
    "    elif cargo_from_tank.Product[row] == 'JET FUEL/KEROSENE':\n",
    "        Pacific[label]['jet']['total_gallons'] += cargo_from_tank.TransferQtyInGallon[row].item()\n",
    "        Pacific[label]['jet']['number_of_transfers'] += 1\n",
    "\n",
    "    elif 'DIESEL' in cargo_from_tank.Product[row]: \n",
    "        # inclusive if BIODIESEL, DIESEL/MARINE GAS OIl, and DIESEL LOW SULPHUR (ULSD)\n",
    "        Pacific[label]['diesel']['total_gallons'] += cargo_from_tank.TransferQtyInGallon[row].item()\n",
    "        Pacific[label]['diesel']['number_of_transfers'] += 1\n",
    "\n",
    "    else:\n",
    "        Pacific[label]['other']['total_gallons'] += cargo_from_tank.TransferQtyInGallon[row].item()\n",
    "        Pacific[label]['other']['number_of_transfers'] += 1    "
   ]
  },
  {
   "cell_type": "code",
   "execution_count": 29,
   "metadata": {},
   "outputs": [
    {
     "data": {
      "text/plain": [
       "240552010"
      ]
     },
     "execution_count": 29,
     "metadata": {},
     "output_type": "execute_result"
    }
   ],
   "source": [
    "Pacific[label]['other']['total_gallons']"
   ]
  },
  {
   "cell_type": "markdown",
   "metadata": {},
   "source": [
    "#### ATBs"
   ]
  },
  {
   "cell_type": "code",
   "execution_count": 30,
   "metadata": {},
   "outputs": [],
   "source": [
    "[nrows,ncols] = cargo_from_atb.shape\n",
    "label = 'atb'\n",
    "for row in range(nrows):\n",
    "    \n",
    "    if 'CRUDE' in cargo_from_atb.Product[row]:\n",
    "        ### WHY DOES ADDING A .ITEM() HERE GIVE AN ERROR WHEN IT DOESN'T ABOVE?\n",
    "        Pacific[label]['akns']['total_gallons'] += cargo_from_atb.TransferQtyInGallon[row]\n",
    "        Pacific[label]['akns']['number_of_transfers'] += 1\n",
    "\n",
    "    elif cargo_from_atb.Product[row] == 'BUNKER OIL/HFO':\n",
    "        Pacific[label]['bunker']['total_gallons'] += cargo_from_atb.TransferQtyInGallon[row]\n",
    "        Pacific[label]['bunker']['number_of_transfers'] += 1\n",
    "\n",
    "    elif cargo_from_atb.Product[row] == 'GASOLINE':\n",
    "        Pacific[label]['gas']['total_gallons'] += cargo_from_atb.TransferQtyInGallon[row]\n",
    "        Pacific[label]['gas']['number_of_transfers'] += 1\n",
    "\n",
    "    elif cargo_from_atb.Product[row] == 'JET FUEL/KEROSENE':\n",
    "        Pacific[label]['jet']['total_gallons'] += cargo_from_atb.TransferQtyInGallon[row]\n",
    "        Pacific[label]['jet']['number_of_transfers'] += 1\n",
    "\n",
    "    elif 'DIESEL' in cargo_from_atb.Product[row]: \n",
    "        # inclusive if BIODIESEL, DIESEL/MARINE GAS OIl, and DIESEL LOW SULPHUR (ULSD)\n",
    "        Pacific[label]['diesel']['total_gallons'] += cargo_from_atb.TransferQtyInGallon[row]\n",
    "        Pacific[label]['diesel']['number_of_transfers'] += 1\n",
    "\n",
    "    else:\n",
    "        Pacific[label]['other']['total_gallons'] += cargo_from_atb.TransferQtyInGallon[row]\n",
    "        Pacific[label]['other']['number_of_transfers'] += 1   "
   ]
  },
  {
   "cell_type": "markdown",
   "metadata": {},
   "source": [
    "#### Barges"
   ]
  },
  {
   "cell_type": "code",
   "execution_count": 31,
   "metadata": {},
   "outputs": [],
   "source": [
    "[nrows,ncols] = cargo_from_barge.shape\n",
    "label = 'barge'\n",
    "\n",
    "for row in range(nrows):\n",
    "    \n",
    "    if 'CRUDE' in cargo_from_barge.Product[row]:\n",
    "        Pacific[label]['akns']['total_gallons'] += cargo_from_barge.TransferQtyInGallon[row].item()\n",
    "        Pacific[label]['akns']['number_of_transfers'] += 1\n",
    "\n",
    "    elif cargo_from_barge.Product[row] == 'BUNKER OIL/HFO':\n",
    "        Pacific[label]['bunker']['total_gallons'] += cargo_from_barge.TransferQtyInGallon[row].item()\n",
    "        Pacific[label]['bunker']['number_of_transfers'] += 1\n",
    "\n",
    "    elif cargo_from_barge.Product[row] == 'GASOLINE':\n",
    "        Pacific[label]['gas']['total_gallons'] += cargo_from_barge.TransferQtyInGallon[row].item()\n",
    "        Pacific[label]['gas']['number_of_transfers'] += 1\n",
    "\n",
    "    elif cargo_from_barge.Product[row] == 'JET FUEL/KEROSENE':\n",
    "        Pacific[label]['jet']['total_gallons'] += cargo_from_barge.TransferQtyInGallon[row].item()\n",
    "        Pacific[label]['jet']['number_of_transfers'] += 1\n",
    "\n",
    "    elif 'DIESEL' in cargo_from_barge.Product[row]: \n",
    "        # inclusive if BIODIESEL, DIESEL/MARINE GAS OIl, and DIESEL LOW SULPHUR (ULSD)\n",
    "        Pacific[label]['diesel']['total_gallons'] += cargo_from_barge.TransferQtyInGallon[row].item()\n",
    "        Pacific[label]['diesel']['number_of_transfers'] += 1\n",
    "\n",
    "    else:\n",
    "        Pacific[label]['other']['total_gallons'] += cargo_from_barge.TransferQtyInGallon[row].item()\n",
    "        Pacific[label]['other']['number_of_transfers'] += 1   \n"
   ]
  },
  {
   "cell_type": "markdown",
   "metadata": {},
   "source": [
    "#### Determine percent oil for each oil type"
   ]
  },
  {
   "cell_type": "code",
   "execution_count": 32,
   "metadata": {},
   "outputs": [
    {
     "name": "stdout",
     "output_type": "stream",
     "text": [
      "atb SHORTFALL:9.999999999998899e-05 (corrected)\n",
      "barge SHORTFALL:9.999999999987796e-05 (corrected)\n"
     ]
    }
   ],
   "source": [
    "for vessel in vessel_types:\n",
    "\n",
    "    # first get the total transfers over all fuel types\n",
    "    total = sum([ Pacific[vessel][fuel]['total_gallons'] for fuel in fuel_types ])\n",
    "\n",
    "    for fuel in fuel_types:\n",
    "  \n",
    "        # next calculate percentages\n",
    "        if total != 0:\n",
    "            Pacific[vessel][fuel]['fraction_of_total'] = round(\n",
    "                Pacific[vessel][fuel]['total_gallons'] / total, \n",
    "                4\n",
    "            )\n",
    "            \n",
    "#  Check to make sure fraction of total sums to 1\n",
    "for vessel in vessel_types:\n",
    "    sum_check = [Pacific[vessel][fuel]['fraction_of_total'] for fuel in fuel_types]\n",
    "    if sum(sum_check) != 1 and sum(sum_check) != 0:\n",
    "        # add oil to \"other\" category to fix sum to 1\n",
    "        shortfall  = 1-sum(sum_check)\n",
    "        Pacific[vessel]['other']['fraction_of_total'] += shortfall\n",
    "        print(f'{vessel} SHORTFALL:{shortfall} (corrected)')\n",
    "\n",
    "        # double check\n",
    "        sum_check = [Pacific[vessel][fuel]['fraction_of_total'] for fuel in fuel_types]\n",
    "        if sum(sum_check) != 1 and sum(sum_check) !=0 :\n",
    "            print(f'NOT THERE YET!: {vessel}, {facility}:{sum(sum_check_out)}')\n",
    "\n",
    "    elif sum(sum_check) != 1:\n",
    "        print(f' {vessel}:{sum(sum_check_in)}')\n",
    "  \n",
    "\n"
   ]
  },
  {
   "cell_type": "code",
   "execution_count": 33,
   "metadata": {},
   "outputs": [],
   "source": [
    "with open(yaml_output / 'Pacific_origin.yaml', 'w') as file:\n",
    "    documents = yaml.safe_dump(Pacific, file)"
   ]
  },
  {
   "cell_type": "markdown",
   "metadata": {},
   "source": [
    "#### Plot results"
   ]
  },
  {
   "cell_type": "code",
   "execution_count": 34,
   "metadata": {},
   "outputs": [
    {
     "data": {
      "text/plain": [
       "Text(0.5, 1.0, 'tanker fuel allocation for origin = Pacific')"
      ]
     },
     "execution_count": 34,
     "metadata": {},
     "output_type": "execute_result"
    },
    {
     "data": {
      "image/png": "[encoded data removed]",
      "text/plain": [
       "<Figure size 432x288 with 1 Axes>"
      ]
     },
     "metadata": {},
     "output_type": "display_data"
    }
   ],
   "source": [
    "label = 'tanker'\n",
    "Pacific_tank = [ Pacific[label]['akns']['total_gallons'], \n",
    "                Pacific[label]['bunker']['total_gallons'], \n",
    "                Pacific[label]['dilbit']['total_gallons'], \n",
    "                Pacific[label]['jet']['total_gallons'], \n",
    "                Pacific[label]['diesel']['total_gallons'], \n",
    "                Pacific[label]['gas']['total_gallons'], \n",
    "                Pacific[label]['other']['total_gallons']\n",
    "               ]\n",
    "plt.gca().axis(\"equal\")\n",
    "plt.pie(Pacific_tank, labels= fuel_types)\n",
    "plt.title(f'{label} fuel allocation for origin = Pacific')"
   ]
  },
  {
   "cell_type": "code",
   "execution_count": 35,
   "metadata": {},
   "outputs": [
    {
     "data": {
      "text/plain": [
       "Text(0.5, 1.0, 'atb fuel allocation for origin = Pacific')"
      ]
     },
     "execution_count": 35,
     "metadata": {},
     "output_type": "execute_result"
    },
    {
     "data": {
      "image/png": "[encoded data removed]",
      "text/plain": [
       "<Figure size 432x288 with 1 Axes>"
      ]
     },
     "metadata": {},
     "output_type": "display_data"
    }
   ],
   "source": [
    "label = 'atb'\n",
    "Pacific_tank = [ Pacific[label]['akns']['total_gallons'], \n",
    "                Pacific[label]['bunker']['total_gallons'], \n",
    "                Pacific[label]['dilbit']['total_gallons'], \n",
    "                Pacific[label]['jet']['total_gallons'], \n",
    "                Pacific[label]['diesel']['total_gallons'], \n",
    "                Pacific[label]['gas']['total_gallons'], \n",
    "                Pacific[label]['other']['total_gallons']\n",
    "               ]\n",
    "plt.gca().axis(\"equal\")\n",
    "plt.pie(Pacific_tank, labels= fuel_types)\n",
    "plt.title(f'{label} fuel allocation for origin = Pacific')"
   ]
  },
  {
   "cell_type": "code",
   "execution_count": 36,
   "metadata": {},
   "outputs": [
    {
     "data": {
      "text/plain": [
       "Text(0.5, 1.0, 'barge fuel allocation for origin = Pacific')"
      ]
     },
     "execution_count": 36,
     "metadata": {},
     "output_type": "execute_result"
    },
    {
     "data": {
      "image/png": "[encoded data removed]",
      "text/plain": [
       "<Figure size 432x288 with 1 Axes>"
      ]
     },
     "metadata": {},
     "output_type": "display_data"
    }
   ],
   "source": [
    "label = 'barge'\n",
    "Pacific_tank = [ Pacific[label]['akns']['total_gallons'], \n",
    "                Pacific[label]['bunker']['total_gallons'], \n",
    "                Pacific[label]['dilbit']['total_gallons'], \n",
    "                Pacific[label]['jet']['total_gallons'], \n",
    "                Pacific[label]['diesel']['total_gallons'], \n",
    "                Pacific[label]['gas']['total_gallons'], \n",
    "                Pacific[label]['other']['total_gallons']\n",
    "               ]\n",
    "plt.gca().axis(\"equal\")\n",
    "plt.pie(Pacific_tank, labels= fuel_types)\n",
    "plt.title(f'{label} fuel allocation for origin = Pacific')"
   ]
  },
  {
   "cell_type": "code",
   "execution_count": null,
   "metadata": {},
   "outputs": [],
   "source": []
  }
 ],
 "metadata": {
  "kernelspec": {
   "display_name": "Python 3 (ipykernel)",
   "language": "python",
   "name": "python3"
  },
  "language_info": {
   "codemirror_mode": {
    "name": "ipython",
    "version": 3
   },
   "file_extension": ".py",
   "mimetype": "text/x-python",
   "name": "python",
   "nbconvert_exporter": "python",
   "pygments_lexer": "ipython3",
   "version": "3.9.7"
  }
 },
 "nbformat": 4,
 "nbformat_minor": 4
}
