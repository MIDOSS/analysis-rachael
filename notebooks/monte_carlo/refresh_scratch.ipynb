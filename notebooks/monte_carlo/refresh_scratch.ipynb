{
 "cells": [
  {
   "cell_type": "markdown",
   "id": "d4ee9735-b385-4849-bdef-52285b2310b1",
   "metadata": {},
   "source": [
    "---\n",
    "# Open and close files on scratch purge to keep active\n",
    "---"
   ]
  },
  {
   "cell_type": "markdown",
   "id": "017ab090-1186-454d-b0a8-1ca3ac3c85bd",
   "metadata": {},
   "source": [
    "The monte carlo runs were completed on Compute Canada's supercomputer, `Graham` and this code is intended to be used on that system.  It requires initialization of a Virtual Environment.  See `/home/rmueller/projects/def-allen/rmueller/graham-jupyter-env.txt`.\n",
    "\n",
    "First initiate a compute node (no heavy-lifting in this example) with: \n",
    "```\n",
    "salloc --time=1:00:00 --ntasks=1 --cpus-per-task=1 --mem-per-cpu=1024M --account=rrg-allen\n",
    "```\n",
    "Activate `VENV` with:\n",
    "```\n",
    "module load python/3.8.2\n",
    "source ~/venvs/jupyter/bin/activate\n",
    "```\n",
    "Deactivate `VENV` with:\n",
    "```\n",
    "deactivate\n",
    "```\n",
    "If the `jupyter` `VENV` is not yet setup, install it with:\n",
    "```\n",
    "module load python/3.8.2\n",
    "python3 -m virtualenv --no-download ~/venvs/jupyter\n",
    "source ~/venvs/jupyter/bin/activate\n",
    "python3 -m pip install --no-index --upgrade pip\n",
    "python3 -m pip install -r /home/rmueller/projects/def-allen/rmueller/graham-jupyter-env.txt\n",
    "```\n",
    "\n",
    "This environment is setup to allow user to initiate a remote window using:\n",
    "```\n",
    "jupyter lab --no-browser --ip $(hostname -f)\n",
    "```"
   ]
  },
  {
   "cell_type": "code",
   "execution_count": 1,
   "id": "b11126f1-6db9-4c9b-bcff-2c9cb78fea00",
   "metadata": {},
   "outputs": [],
   "source": [
    "from glob import glob\n",
    "import os\n",
    "import sys\n",
    "import time\n",
    "from datetime import datetime\n",
    "import pandas\n",
    "import numpy\n",
    "import yaml\n",
    "import xarray\n",
    "import h5netcdf"
   ]
  },
  {
   "cell_type": "code",
   "execution_count": 2,
   "id": "92b62ea3-5a71-467d-b864-87dfd306e435",
   "metadata": {},
   "outputs": [],
   "source": [
    "scratch_purge_file='/home/scratch_to_delete/dlatorne'\n",
    "output_dir ='/scratch/rmueller/MIDOSS/Results/scratch_refresh/'\n",
    "with open(scratch_purge_file, \"r\") as fd:\n",
    "    files_to_refresh = fd.read().splitlines()"
   ]
  },
  {
   "cell_type": "code",
   "execution_count": 3,
   "id": "7d52f9b9-1400-44c2-8bd7-1504bd6b132e",
   "metadata": {},
   "outputs": [
    {
     "ename": "NameError",
     "evalue": "name 'now' is not defined",
     "output_type": "error",
     "traceback": [
      "\u001b[0;31m---------------------------------------------------------------------------\u001b[0m",
      "\u001b[0;31mNameError\u001b[0m                                 Traceback (most recent call last)",
      "\u001b[0;32m/tmp/ipykernel_5998/1643792816.py\u001b[0m in \u001b[0;36m<module>\u001b[0;34m\u001b[0m\n\u001b[1;32m     16\u001b[0m         \u001b[0mfopen\u001b[0m \u001b[0;34m=\u001b[0m \u001b[0mxarray\u001b[0m\u001b[0;34m.\u001b[0m\u001b[0mopen_dataset\u001b[0m\u001b[0;34m(\u001b[0m\u001b[0mfile\u001b[0m\u001b[0;34m)\u001b[0m\u001b[0;34m\u001b[0m\u001b[0;34m\u001b[0m\u001b[0m\n\u001b[1;32m     17\u001b[0m         \u001b[0mfopen\u001b[0m\u001b[0;34m.\u001b[0m\u001b[0mclose\u001b[0m\u001b[0;34m(\u001b[0m\u001b[0;34m)\u001b[0m\u001b[0;34m\u001b[0m\u001b[0;34m\u001b[0m\u001b[0m\n\u001b[0;32m---> 18\u001b[0;31m \u001b[0mdt_string\u001b[0m \u001b[0;34m=\u001b[0m \u001b[0mnow\u001b[0m\u001b[0;34m.\u001b[0m\u001b[0mstrftime\u001b[0m\u001b[0;34m(\u001b[0m\u001b[0;34m\"%d%m%Y_%H:%M:%S\"\u001b[0m\u001b[0;34m)\u001b[0m\u001b[0;34m\u001b[0m\u001b[0;34m\u001b[0m\u001b[0m\n\u001b[0m\u001b[1;32m     19\u001b[0m \u001b[0mout_f\u001b[0m \u001b[0;34m=\u001b[0m \u001b[0moutput_dir\u001b[0m\u001b[0;34m+\u001b[0m\u001b[0;34mf'/refreshed_{dt_string}.txt'\u001b[0m\u001b[0;34m\u001b[0m\u001b[0;34m\u001b[0m\u001b[0m\n\u001b[1;32m     20\u001b[0m \u001b[0moutput_file\u001b[0m \u001b[0;34m=\u001b[0m \u001b[0mopen\u001b[0m\u001b[0;34m(\u001b[0m\u001b[0mout_f\u001b[0m\u001b[0;34m,\u001b[0m \u001b[0;34m\"w\"\u001b[0m\u001b[0;34m)\u001b[0m\u001b[0;34m\u001b[0m\u001b[0;34m\u001b[0m\u001b[0m\n",
      "\u001b[0;31mNameError\u001b[0m: name 'now' is not defined"
     ]
    }
   ],
   "source": [
    "refreshed_files = []\n",
    "# first line is the purge file path/name\n",
    "refreshed_files.append(scratch_purge_file)\n",
    "# refresh each file in purge list\n",
    "for file in files_to_refresh:\n",
    "    if file.split('.')[-1]=='dat':\n",
    "        refreshed_files.append(file)\n",
    "        fopen = open(file)\n",
    "        fopen.close()\n",
    "    if file.split('.')[-1]=='sro':\n",
    "        refreshed_files.append(file)\n",
    "        fopen = open(file)\n",
    "        fopen.close()\n",
    "    if file.split('.')[-1]=='nc':\n",
    "        refreshed_files.append(file)\n",
    "        fopen = xarray.open_dataset(file)\n",
    "        fopen.close()\n",
    "now = datetime.now()\n",
    "dt_string = now.strftime(\"%d%m%Y_%H:%M:%S\")\n",
    "out_f = output_dir+f'/refreshed_{dt_string}.txt'\n",
    "output_file = open(out_f, \"w\")\n",
    "for element in refreshed_files:\n",
    "    output_file.write(element + \"\\n\")\n",
    "output_file.close()"
   ]
  },
  {
   "cell_type": "code",
   "execution_count": 5,
   "id": "d6978bb9-b481-4cd0-a566-99a0e2754ec1",
   "metadata": {},
   "outputs": [],
   "source": [
    "now = datetime.now()\n",
    "dt_string = now.strftime(\"%d%m%Y_%H:%M:%S\")\n",
    "out_f = output_dir+f'/refreshed_{dt_string}.txt'\n",
    "output_file = open(out_f, \"w\")\n",
    "for element in refreshed_files:\n",
    "    output_file.write(element + \"\\n\")\n",
    "output_file.close()"
   ]
  },
  {
   "cell_type": "code",
   "execution_count": null,
   "id": "9c12a647-14ed-4bc5-9254-ec63ad2120ac",
   "metadata": {},
   "outputs": [],
   "source": [
    "### Refresh my files on scratch"
   ]
  },
  {
   "cell_type": "code",
   "execution_count": null,
   "id": "c9f6579e-d89a-46d2-85d7-3e878138c8f7",
   "metadata": {},
   "outputs": [],
   "source": [
    "scratch_purge_file='/home/scratch_to_delete/rmueller'\n",
    "output_dir ='/scratch/rmueller/MIDOSS/Results/scratch_refresh/'\n",
    "with open(scratch_purge_file, \"r\") as fd:\n",
    "    files_to_refresh = fd.read().splitlines()\n",
    "    \n",
    "refreshed_files = []\n",
    "# first line is the purge file path/name\n",
    "refreshed_files.append(scratch_purge_file)\n",
    "# refresh each file in purge list\n",
    "for file in files_to_refresh:\n",
    "    if 'ByOilType' in file or 'ByMonth' in file:\n",
    "        if file.split('.')[-1]=='dat':\n",
    "            refreshed_files.append(file)\n",
    "            fopen = open(file)\n",
    "            fopen.close()\n",
    "        if file.split('.')[-1]=='sro':\n",
    "            refreshed_files.append(file)\n",
    "            fopen = open(file)\n",
    "            fopen.close()\n",
    "        if file.split('.')[-1]=='yaml':\n",
    "            refreshed_files.append(file)\n",
    "            fopen = open(file)\n",
    "            fopen.close()\n",
    "        if file.split('.')[-1]=='nc':\n",
    "            refreshed_files.append(file)\n",
    "            fopen = xarray.open_dataset(file)\n",
    "            fopen.close()\n",
    "dt_string = now.strftime(\"%d%m%Y_%H:%M:%S\")\n",
    "out_f = output_dir+f'/refreshed_{dt_string}.txt'\n",
    "output_file = open(out_f, \"w\")"
   ]
  }
 ],
 "metadata": {
  "kernelspec": {
   "display_name": "Python 3 (ipykernel)",
   "language": "python",
   "name": "python3"
  },
  "language_info": {
   "codemirror_mode": {
    "name": "ipython",
    "version": 3
   },
   "file_extension": ".py",
   "mimetype": "text/x-python",
   "name": "python",
   "nbconvert_exporter": "python",
   "pygments_lexer": "ipython3",
   "version": "3.8.2"
  }
 },
 "nbformat": 4,
 "nbformat_minor": 5
}
