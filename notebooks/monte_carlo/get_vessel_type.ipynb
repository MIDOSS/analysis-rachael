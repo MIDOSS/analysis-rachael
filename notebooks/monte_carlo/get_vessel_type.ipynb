{
 "cells": [
  {
   "cell_type": "code",
   "execution_count": 10,
   "metadata": {},
   "outputs": [],
   "source": [
    "import rasterio as rio\n",
    "import numpy as np\n",
    "import matplotlib.pyplot as plt\n",
    "from numpy.random import choice"
   ]
  },
  {
   "cell_type": "markdown",
   "metadata": {},
   "source": [
    "#### User inputs of lat, lon and month"
   ]
  },
  {
   "cell_type": "code",
   "execution_count": 2,
   "metadata": {},
   "outputs": [],
   "source": [
    "spill_month   = 9\n",
    "ais_data_year = 2018\n",
    "spill_lat     = -128.66497\n",
    "spill_lon     = 51.02318\n",
    "tiff_dir      = \"/Users/rmueller/Documents/UBC/MIDOSS/Data/AIS/ShipTrackDensityGeoTIFFs/\"\n",
    "vessel_types  = [\"tanker\", \"atb\", \"barge\", \"cargo\", \"cruise\",\n",
    "                 \"ferry\", \"fishing\", \"smallpass\", \"other\"]\n"
   ]
  },
  {
   "cell_type": "markdown",
   "metadata": {},
   "source": [
    "#### load raster images\n",
    "All geotiffs are named as: \"vesseltype_yyyy_mm.tif\""
   ]
  },
  {
   "cell_type": "code",
   "execution_count": 3,
   "metadata": {},
   "outputs": [],
   "source": [
    "tiff_name=[]\n",
    "for name in vessel_types:\n",
    "    tiff_name.append(f'{name}_{ais_data_year}_{spill_month:02.0f}.tif')"
   ]
  },
  {
   "cell_type": "code",
   "execution_count": 4,
   "metadata": {},
   "outputs": [
    {
     "data": {
      "text/plain": [
       "['tanker_2018_09.tif',\n",
       " 'atb_2018_09.tif',\n",
       " 'barge_2018_09.tif',\n",
       " 'cargo_2018_09.tif',\n",
       " 'cruise_2018_09.tif',\n",
       " 'ferry_2018_09.tif',\n",
       " 'fishing_2018_09.tif',\n",
       " 'smallpass_2018_09.tif',\n",
       " 'other_2018_09.tif']"
      ]
     },
     "execution_count": 4,
     "metadata": {},
     "output_type": "execute_result"
    }
   ],
   "source": [
    "tiff_name"
   ]
  },
  {
   "cell_type": "code",
   "execution_count": 37,
   "metadata": {},
   "outputs": [
    {
     "name": "stdout",
     "output_type": "stream",
     "text": [
      "{'driver': 'GTiff', 'dtype': 'float32', 'nodata': -3.4028230607370965e+38, 'width': 620, 'height': 407, 'count': 1, 'crs': CRS.from_epsg(4326), 'transform': Affine(0.015030558980347124, 0.0, -130.53079574970752,\n",
      "       0.0, -0.015030558980347136, 52.42397925731429), 'blockxsize': 128, 'blockysize': 128, 'tiled': True, 'compress': 'lzw', 'interleave': 'band'}\n"
     ]
    }
   ],
   "source": [
    "filepath = tiff_dir + tiff_name[0]\n",
    "with rio.open(filepath) as src:\n",
    "    print(src.profile)\n",
    "    no_data = src.nodata\n",
    "    height = src.height\n",
    "    width  = src.width\n",
    "    transform = src.transform"
   ]
  },
  {
   "cell_type": "code",
   "execution_count": 41,
   "metadata": {},
   "outputs": [
    {
     "data": {
      "text/plain": [
       "-130.53079574970752"
      ]
     },
     "execution_count": 41,
     "metadata": {},
     "output_type": "execute_result"
    }
   ],
   "source": [
    "transform[2]"
   ]
  },
  {
   "cell_type": "code",
   "execution_count": 34,
   "metadata": {},
   "outputs": [
    {
     "data": {
      "text/plain": [
       "-121.2118491818923"
      ]
     },
     "execution_count": 34,
     "metadata": {},
     "output_type": "execute_result"
    }
   ],
   "source": [
    "-130.53079574970752 + 0.015030558980347124 * width"
   ]
  },
  {
   "cell_type": "code",
   "execution_count": 36,
   "metadata": {},
   "outputs": [
    {
     "data": {
      "text/plain": [
       "46.30654175231301"
      ]
     },
     "execution_count": 36,
     "metadata": {},
     "output_type": "execute_result"
    }
   ],
   "source": [
    "52.42397925731429 + -0.015030558980347136 * height"
   ]
  },
  {
   "cell_type": "code",
   "execution_count": 30,
   "metadata": {},
   "outputs": [
    {
     "name": "stdout",
     "output_type": "stream",
     "text": [
      "Decimation factor= 1\n"
     ]
    }
   ],
   "source": [
    "# The grid of raster values can be accessed as a numpy array and plotted:\n",
    "with rio.open(filepath) as src:\n",
    "    oviews = src.overviews(1) # list of overviews from biggest to smallest\n",
    "    oview = 1\n",
    "    print('Decimation factor= {}'.format(oview))\n",
    "    # NOTE this is using a 'decimated read' (http://rasterio.readthedocs.io/en/latest/topics/resampling.html)\n",
    "    thumbnail = src.read(1, out_shape=(1, int(src.height // oview), int(src.width // oview)))\n",
    "    #thumbnail = src.read(1, out_shape=(1, int(src.height), int(src.width)))"
   ]
  },
  {
   "cell_type": "code",
   "execution_count": 31,
   "metadata": {},
   "outputs": [],
   "source": [
    "type(thumbnail)\n",
    "thumbnail[thumbnail==no_data]=np.nan\n",
    "thumbnail[thumbnail==0]=np.nan"
   ]
  },
  {
   "cell_type": "code",
   "execution_count": 33,
   "metadata": {},
   "outputs": [
    {
     "data": {
      "text/plain": [
       "(300.0, 200.0)"
      ]
     },
     "execution_count": 33,
     "metadata": {},
     "output_type": "execute_result"
    },
    {
     "data": {
      "image/png": "[encoded data removed]",
      "text/plain": [
       "<Figure size 432x288 with 2 Axes>"
      ]
     },
     "metadata": {},
     "output_type": "display_data"
    }
   ],
   "source": [
    "plt.imshow(thumbnail)\n",
    "plt.colorbar()\n",
    "plt.title(tiff_name[0])\n",
    "plt.xlabel('Column #')\n",
    "plt.ylabel('Row #')\n",
    "plt.xlim(400/oview,550/oview)\n",
    "plt.ylim(300/oview,200/oview)"
   ]
  },
  {
   "cell_type": "markdown",
   "metadata": {},
   "source": [
    "#### Use lat/lon points to identify raster index corresponding to location"
   ]
  },
  {
   "cell_type": "markdown",
   "metadata": {},
   "source": [
    "#### Get vessel time exposure numbers for all vessel types at any given location"
   ]
  },
  {
   "cell_type": "markdown",
   "metadata": {},
   "source": [
    "#### select vessel type by vessel time exposure "
   ]
  },
  {
   "cell_type": "code",
   "execution_count": null,
   "metadata": {},
   "outputs": [],
   "source": []
  }
 ],
 "metadata": {
  "kernelspec": {
   "display_name": "Python 3",
   "language": "python",
   "name": "python3"
  },
  "language_info": {
   "codemirror_mode": {
    "name": "ipython",
    "version": 3
   },
   "file_extension": ".py",
   "mimetype": "text/x-python",
   "name": "python",
   "nbconvert_exporter": "python",
   "pygments_lexer": "ipython3",
   "version": "3.6.5"
  }
 },
 "nbformat": 4,
 "nbformat_minor": 2
}
