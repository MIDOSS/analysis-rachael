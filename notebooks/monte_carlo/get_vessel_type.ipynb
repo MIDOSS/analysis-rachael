{
 "cells": [
  {
   "cell_type": "markdown",
   "metadata": {},
   "source": [
    "### Using vessel time exposure (hours/km^2) to determine vessel type"
   ]
  },
  {
   "cell_type": "code",
   "execution_count": 1,
   "metadata": {},
   "outputs": [],
   "source": [
    "import rasterio as rio\n",
    "import numpy as np\n",
    "import matplotlib.pyplot as plt\n",
    "import arrow\n",
    "from datetime import datetime \n",
    "from datetime import datetime, date, timedelta\n",
    "from numpy.random import choice\n",
    "\n",
    "from get_date import get_date\n",
    "from get_lat_lon_indices import get_lat_lon_indices"
   ]
  },
  {
   "cell_type": "markdown",
   "metadata": {},
   "source": [
    "#### User inputs of lat, lon and month"
   ]
  },
  {
   "cell_type": "code",
   "execution_count": 2,
   "metadata": {},
   "outputs": [],
   "source": [
    "start_date = datetime(2015, 1, 1, 0, 30)\n",
    "end_date   = datetime(2018, 12, 31, 23, 55)\n",
    "delta_time = timedelta(hours = 1)\n",
    "ais_data_year   = 2018\n",
    "n_locations     = 1  #desired number of latitude and longitude values\n",
    "upsample_factor = 1\n",
    "geotiff_directory = \"/Users/rmueller/Documents/UBC/MIDOSS/Data/AIS/ShipTrackDensityGeoTIFFs/\"\n",
    "vessel_types      = [\"tanker\", \"atb\", \"barge\", \"cargo\", \"cruise\",\n",
    "                     \"ferry\", \"fishing\", \"smallpass\", \"other\"]"
   ]
  },
  {
   "cell_type": "markdown",
   "metadata": {},
   "source": [
    "#### Get all traffic data\n"
   ]
  },
  {
   "cell_type": "code",
   "execution_count": 3,
   "metadata": {},
   "outputs": [],
   "source": [
    "spill_date = get_date(start_date, end_date, delta_time)\n",
    "spill_month = spill_date.month  # numeric month\n",
    "spill_month_name  = arrow.get(spill_date).format('MMMM') # string"
   ]
  },
  {
   "cell_type": "code",
   "execution_count": 4,
   "metadata": {},
   "outputs": [
    {
     "data": {
      "text/plain": [
       "'/Users/rmueller/Documents/UBC/MIDOSS/Data/AIS/ShipTrackDensityGeoTIFFs/all_2018_12.tif'"
      ]
     },
     "execution_count": 4,
     "metadata": {},
     "output_type": "execute_result"
    }
   ],
   "source": [
    "all_traffic_filepath = geotiff_directory + f'all_{ais_data_year}_{spill_month:02.0f}.tif'\n",
    "all_traffic_filepath"
   ]
  },
  {
   "cell_type": "markdown",
   "metadata": {},
   "source": [
    "####  Get spill lat/lon value(s) as well as index values for extracting vessel time exposure values from GeoTIFFS"
   ]
  },
  {
   "cell_type": "code",
   "execution_count": 5,
   "metadata": {},
   "outputs": [
    {
     "name": "stdout",
     "output_type": "stream",
     "text": [
      "Randomly selecting spill location from all-traffic GeoTIFF:\n",
      "...Creating 2D array of lat/lon strings (this may take a moment)\n",
      "...Selecting 1 location(s)\n",
      "...Creating vectors of lat/lon pairs and x-index/y-index pairs\n",
      "That's a wrap, folks!\n"
     ]
    }
   ],
   "source": [
    "[lats, lons, x_index, y_index, data_val] = get_lat_lon_indices(geotiff_directory, spill_month, n_locations, upsample_factor)    "
   ]
  },
  {
   "cell_type": "markdown",
   "metadata": {},
   "source": [
    "#### load raster images\n",
    "All geotiffs are named as: \"vesseltype_yyyy_mm.tif\""
   ]
  },
  {
   "cell_type": "code",
   "execution_count": 43,
   "metadata": {},
   "outputs": [],
   "source": [
    "vessel_type = []\n",
    "\n",
    "for location in range(n_locations):\n",
    "    \n",
    "    # initialize array used to store vessel time exposure values for each vessel type\n",
    "    VTE_by_vessel_and_location = []\n",
    "    \n",
    "    # loop through each vessel type and store VTE for each vessel type, at selected location\n",
    "    for name in vessel_types:\n",
    "\n",
    "        traffic_reader = rio.open(f'{geotiff_directory}{name}_{ais_data_year}_{spill_month:02.0f}.tif')\n",
    "\n",
    "        # dataset closes automatically using the method below\n",
    "        with traffic_reader as dataset:\n",
    "\n",
    "            # resample data to target shape\n",
    "            data = dataset.read(1,\n",
    "                out_shape=(\n",
    "                    dataset.count,\n",
    "                    int(dataset.height),\n",
    "                    int(dataset.width)\n",
    "                ),\n",
    "            )\n",
    "\n",
    "            # Set all no-data values to zero\n",
    "            data[data < 0] = 0\n",
    "        \n",
    "        # Store vessel time exposure [hours/km^2] for each vessel-type in array\n",
    "        VTE_by_vessel_and_location.append(data[x_index[location],y_index[location]])\n",
    "    \n",
    "    # Calculate relative probability of vessel occurance based on VTE by vessel-type\n",
    "    probability = VTE_by_vessel_and_location/np.sum(VTE_by_vessel_and_location)\n",
    "    \n",
    "    # Randomly select vessel type based on relative vessel time exposure probability\n",
    "    vessel_random = choice(vessel_types, \n",
    "                          n_locations , \n",
    "                          p = probability)\n",
    "    \n",
    "    # populate vessel type selection for each n-locations\n",
    "    vessel_type.append(vessel_random)"
   ]
  }
 ],
 "metadata": {
  "kernelspec": {
   "display_name": "Python 3",
   "language": "python",
   "name": "python3"
  },
  "language_info": {
   "codemirror_mode": {
    "name": "ipython",
    "version": 3
   },
   "file_extension": ".py",
   "mimetype": "text/x-python",
   "name": "python",
   "nbconvert_exporter": "python",
   "pygments_lexer": "ipython3",
   "version": "3.6.5"
  }
 },
 "nbformat": 4,
 "nbformat_minor": 2
}
