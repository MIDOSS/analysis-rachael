{
 "cells": [
  {
   "cell_type": "code",
   "execution_count": 1,
   "id": "802bb143-b4c8-46e2-9d2a-b4c426ed1a4f",
   "metadata": {},
   "outputs": [],
   "source": [
    "import os\n",
    "import time\n",
    "import pathlib\n",
    "import yaml\n",
    "import math\n",
    "from datetime import datetime"
   ]
  },
  {
   "cell_type": "code",
   "execution_count": 2,
   "id": "c42bb783-ee1a-413b-ac16-18855530d871",
   "metadata": {},
   "outputs": [
    {
     "data": {
      "text/plain": [
       "'14March2022'"
      ]
     },
     "execution_count": 2,
     "metadata": {},
     "output_type": "execute_result"
    }
   ],
   "source": [
    "now = datetime.now()\n",
    "dt_string = now.strftime(\"%d%B%Y\")\n",
    "dt_string"
   ]
  },
  {
   "cell_type": "code",
   "execution_count": 3,
   "id": "441479e5-c7c2-449a-a5f6-182b1f14b8b5",
   "metadata": {},
   "outputs": [],
   "source": [
    "startTime = time.time()\n",
    "group_runs = 200 # Number of output files aggregated together\n",
    "ngroups = 35  #This is a number >> max number of aggregations in any given oil type\n",
    "#------------------------------------------------------------\n",
    "# Global variables\n",
    "#------------------------------------------------------------\n",
    "oil_types = ['akns', 'bunker', 'dilbit', 'jet', 'diesel', 'gas', 'other']\n",
    "months = ['Jan','Feb','Mar','Apr','May','Jun','Jul','Aug','Sep','Oct','Nov','Dec']"
   ]
  },
  {
   "cell_type": "code",
   "execution_count": 4,
   "id": "1f8cdf86-ee43-499d-8785-51c59c71c1e6",
   "metadata": {},
   "outputs": [
    {
     "name": "stdout",
     "output_type": "stream",
     "text": [
      "/scratch/rmueller/MIDOSS/Results/ByOilType/14Mar2022 already exists\n",
      "*** akns (Number of iterations: 1) ***\n",
      "Iteration: 1 \n",
      "Execution time in minutes for akns: 0.09\n",
      "*** bunker (Number of iterations: 17) ***\n",
      "Iteration: 1 \n",
      "Iteration: 2 \n",
      "Iteration: 3 \n",
      "Iteration: 4 \n",
      "Iteration: 5 \n",
      "Iteration: 6 \n",
      "Iteration: 7 \n",
      "Iteration: 8 \n",
      "Iteration: 9 \n",
      "Iteration: 10 \n",
      "Iteration: 11 \n",
      "Iteration: 12 \n",
      "Iteration: 13 \n",
      "Iteration: 14 \n",
      "Iteration: 15 \n",
      "Iteration: 16 \n",
      "Iteration: 17 \n",
      "Execution time in minutes for bunker: 0.09\n",
      "*** dilbit (Number of iterations: 1) ***\n",
      "Iteration: 1 \n",
      "Execution time in minutes for dilbit: 0.09\n",
      "*** jet (Number of iterations: 1) ***\n",
      "Iteration: 1 \n",
      "Execution time in minutes for jet: 0.09\n",
      "*** diesel (Number of iterations: 32) ***\n",
      "Iteration: 1 \n",
      "Iteration: 2 \n",
      "Iteration: 3 \n",
      "Iteration: 4 \n",
      "Iteration: 5 \n",
      "Iteration: 6 \n",
      "Iteration: 7 \n",
      "Iteration: 8 \n",
      "Iteration: 9 \n",
      "Iteration: 10 \n",
      "Iteration: 11 \n",
      "Iteration: 12 \n",
      "Iteration: 13 \n",
      "Iteration: 14 \n",
      "Iteration: 15 \n",
      "Iteration: 16 \n",
      "Iteration: 17 \n",
      "Iteration: 18 \n",
      "Iteration: 19 \n",
      "Iteration: 20 \n",
      "Iteration: 21 \n",
      "Iteration: 22 \n",
      "Iteration: 23 \n",
      "Iteration: 24 \n",
      "Iteration: 25 \n",
      "Iteration: 26 \n",
      "Iteration: 27 \n",
      "Iteration: 28 \n",
      "Iteration: 29 \n",
      "Iteration: 30 \n",
      "Iteration: 31 \n",
      "Iteration: 32 \n",
      "Execution time in minutes for diesel: 0.09\n",
      "*** gas (Number of iterations: 1) ***\n",
      "Iteration: 1 \n",
      "Execution time in minutes for gas: 0.09\n",
      "*** other (Number of iterations: 1) ***\n",
      "Iteration: 1 \n",
      "Execution time in minutes for other: 0.09\n"
     ]
    },
    {
     "data": {
      "text/plain": [
       "<function TextIOWrapper.close()>"
      ]
     },
     "execution_count": 4,
     "metadata": {},
     "output_type": "execute_result"
    }
   ],
   "source": [
    "import math\n",
    "yaml_file=pathlib.Path('/scratch/rmueller/MIDOSS/Results/MOHID_results_locations_14032022_06:17:23.yaml')\n",
    "#------------------------------------------------------------\n",
    "# Output directory\n",
    "#------------------------------------------------------------\n",
    "# add date tag to sbatch .list filename\n",
    "now = datetime.now()\n",
    "dt_string = now.strftime(\"%d%B%Y\")\n",
    "#output_list_dir=f'/scratch/rmueller/MIDOSS/Results/{dt_string}' \n",
    "output_list_dir='/scratch/rmueller/MIDOSS/Results/ByOilType/14Mar2022'\n",
    "# create output directory if it doesn't already exist\n",
    "try:\n",
    "    os.makedir(output_list_dir)\n",
    "except:\n",
    "    print(f'{output_list_dir} already exists')\n",
    "sbatch_file = pathlib.Path(\n",
    "    output_list_dir,\n",
    "    f'aggregate_{group_runs}_oil_spills_{dt_string}.list')\n",
    "#------------------------------------------------------------\n",
    "# Load yaml file name with list of output netcdf files to aggregate\n",
    "#------------------------------------------------------------\n",
    "with yaml_file.open(\"rt\") as f:\n",
    "    run_paths = yaml.safe_load(f)   \n",
    "n_iter={}\n",
    "for oil in oil_types:\n",
    "    n_iter[oil]=max(1,math.ceil(len(run_paths[oil])/group_runs))\n",
    "#------------------------------------------------------------\n",
    "# Iterate through oil types and aggregate SOILED model output\n",
    "# in batches of \"group_runs\" number of files\n",
    "#------------------------------------------------------------\n",
    "all_iter = 0\n",
    "with open(sbatch_file, 'w') as f:\n",
    "    for oil in oil_types: # loop through oils\n",
    "        this_iter = 1\n",
    "        print(f'*** {oil} (Number of iterations: {n_iter[oil]}) ***')\n",
    "        # loop through specified number of groups\n",
    "        while (this_iter <= ngroups) & (n_iter[oil]>=this_iter): \n",
    "            print(f'Iteration: {this_iter} ')\n",
    "            first = (this_iter-1) * group_runs \n",
    "            last = this_iter*group_runs\n",
    "            #------------------------------------------------------------\n",
    "            # write to file the sbatch submission command\n",
    "            f.write(f\"python aggregate_oil_spills.py '{yaml_file}' {oil} {first} {last} '{output_list_dir}'\\n\")\n",
    "            this_iter += 1\n",
    "            all_iter += 1\n",
    "        executionTime = (time.time() - startTime)\n",
    "        print(f'Execution time in minutes for {oil}: {executionTime/60:.2f}')\n",
    "f.close"
   ]
  },
  {
   "cell_type": "code",
   "execution_count": 5,
   "id": "9e294b22-0b8e-418e-b9bd-6e242d8ffee4",
   "metadata": {},
   "outputs": [
    {
     "data": {
      "text/plain": [
       "9833"
      ]
     },
     "execution_count": 5,
     "metadata": {},
     "output_type": "execute_result"
    }
   ],
   "source": [
    "total_files = 0\n",
    "for oil in oil_types:\n",
    "    total_files += len(run_paths[oil])\n",
    "total_files"
   ]
  },
  {
   "cell_type": "code",
   "execution_count": 6,
   "id": "40bc9873-abc7-45e5-8090-b1b7e546454f",
   "metadata": {},
   "outputs": [
    {
     "name": "stdout",
     "output_type": "stream",
     "text": [
      "*** Jan (Number of iterations: 4) ***\n",
      "Iteration: 1 \n",
      "Iteration: 2 \n",
      "Iteration: 3 \n",
      "Iteration: 4 \n",
      "Execution time in minutes for Jan: 0.17\n",
      "*** Feb (Number of iterations: 3) ***\n",
      "Iteration: 1 \n",
      "Iteration: 2 \n",
      "Iteration: 3 \n",
      "Execution time in minutes for Feb: 0.17\n",
      "*** Mar (Number of iterations: 4) ***\n",
      "Iteration: 1 \n",
      "Iteration: 2 \n",
      "Iteration: 3 \n",
      "Iteration: 4 \n",
      "Execution time in minutes for Mar: 0.17\n",
      "*** Apr (Number of iterations: 4) ***\n",
      "Iteration: 1 \n",
      "Iteration: 2 \n",
      "Iteration: 3 \n",
      "Iteration: 4 \n",
      "Execution time in minutes for Apr: 0.17\n",
      "*** May (Number of iterations: 4) ***\n",
      "Iteration: 1 \n",
      "Iteration: 2 \n",
      "Iteration: 3 \n",
      "Iteration: 4 \n",
      "Execution time in minutes for May: 0.17\n",
      "*** Jun (Number of iterations: 4) ***\n",
      "Iteration: 1 \n",
      "Iteration: 2 \n",
      "Iteration: 3 \n",
      "Iteration: 4 \n",
      "Execution time in minutes for Jun: 0.17\n",
      "*** Jul (Number of iterations: 4) ***\n",
      "Iteration: 1 \n",
      "Iteration: 2 \n",
      "Iteration: 3 \n",
      "Iteration: 4 \n",
      "Execution time in minutes for Jul: 0.17\n",
      "*** Aug (Number of iterations: 4) ***\n",
      "Iteration: 1 \n",
      "Iteration: 2 \n",
      "Iteration: 3 \n",
      "Iteration: 4 \n",
      "Execution time in minutes for Aug: 0.17\n",
      "*** Sep (Number of iterations: 4) ***\n",
      "Iteration: 1 \n",
      "Iteration: 2 \n",
      "Iteration: 3 \n",
      "Iteration: 4 \n",
      "Execution time in minutes for Sep: 0.17\n",
      "*** Oct (Number of iterations: 4) ***\n",
      "Iteration: 1 \n",
      "Iteration: 2 \n",
      "Iteration: 3 \n",
      "Iteration: 4 \n",
      "Execution time in minutes for Oct: 0.17\n",
      "*** Nov (Number of iterations: 4) ***\n",
      "Iteration: 1 \n",
      "Iteration: 2 \n",
      "Iteration: 3 \n",
      "Iteration: 4 \n",
      "Execution time in minutes for Nov: 0.17\n",
      "*** Dec (Number of iterations: 4) ***\n",
      "Iteration: 1 \n",
      "Iteration: 2 \n",
      "Iteration: 3 \n",
      "Iteration: 4 \n",
      "Execution time in minutes for Dec: 0.17\n"
     ]
    },
    {
     "data": {
      "text/plain": [
       "<function TextIOWrapper.close()>"
      ]
     },
     "execution_count": 6,
     "metadata": {},
     "output_type": "execute_result"
    }
   ],
   "source": [
    "yaml_file=pathlib.Path('/scratch/rmueller/MIDOSS/Results/MOHID_results_locationsByMonth_14032022_14:03:39.yaml')\n",
    "#------------------------------------------------------------\n",
    "# Output directory\n",
    "#------------------------------------------------------------\n",
    "# add date tag to sbatch .list filename\n",
    "now = datetime.now()\n",
    "dt_string = now.strftime(\"%d%B%Y\")\n",
    "output_list_dir=f'/scratch/rmueller/MIDOSS/Results/ByMonth/{dt_string}' \n",
    "\n",
    "# create output directory if it doesn't already exist\n",
    "try:\n",
    "    os.makedirs(output_list_dir)\n",
    "except:\n",
    "    print(f'{output_list_dir} already exists')\n",
    "sbatch_file = pathlib.Path(\n",
    "    output_list_dir,\n",
    "    f'aggregate_{group_runs}_oil_spills_{dt_string}.list')\n",
    "#------------------------------------------------------------\n",
    "# Load yaml file name with list of output netcdf files to aggregate\n",
    "#------------------------------------------------------------\n",
    "with yaml_file.open(\"rt\") as f:\n",
    "    run_paths = yaml.safe_load(f)   \n",
    "n_iter={}\n",
    "for month in months:\n",
    "    n_iter[month]=max(1,math.ceil(len(run_paths[month])/group_runs))\n",
    "#------------------------------------------------------------\n",
    "# Iterate through oil types and aggregate SOILED model output\n",
    "# in batches of \"group_runs\" number of files\n",
    "#------------------------------------------------------------\n",
    "all_iter = 0\n",
    "with open(sbatch_file, 'w') as f:\n",
    "    for month in months: # loop through oils\n",
    "        this_iter = 1\n",
    "        print(f'*** {month} (Number of iterations: {n_iter[month]}) ***')\n",
    "        # loop through specified number of groups\n",
    "        while (this_iter <= ngroups) & (n_iter[month]>=this_iter): \n",
    "            print(f'Iteration: {this_iter} ')\n",
    "            first = (this_iter-1) * group_runs \n",
    "            last = this_iter*group_runs\n",
    "            #------------------------------------------------------------\n",
    "            # write to file the sbatch submission command\n",
    "            f.write(f\"python aggregate_oil_spills.py '{yaml_file}' {month} {first} {last} '{output_list_dir}'\\n\")\n",
    "            this_iter += 1\n",
    "            all_iter += 1\n",
    "        executionTime = (time.time() - startTime)\n",
    "        print(f'Execution time in minutes for {month}: {executionTime/60:.2f}')\n",
    "f.close"
   ]
  },
  {
   "cell_type": "code",
   "execution_count": 7,
   "id": "ed5d695e-fd58-427c-ad3f-a4ce1baa3fc4",
   "metadata": {},
   "outputs": [
    {
     "data": {
      "text/plain": [
       "PosixPath('/scratch/rmueller/MIDOSS/Results/ByMonth/14March2022/aggregate_200_oil_spills_14March2022.list')"
      ]
     },
     "execution_count": 7,
     "metadata": {},
     "output_type": "execute_result"
    }
   ],
   "source": [
    "sbatch_file"
   ]
  },
  {
   "cell_type": "code",
   "execution_count": 8,
   "id": "62f6ec87-3264-44a3-91af-c91530ecaaa8",
   "metadata": {},
   "outputs": [
    {
     "data": {
      "text/plain": [
       "PosixPath('/scratch/rmueller/MIDOSS/Results/ByMonth/14March2022/aggregate_200_oil_spills_14March2022.list')"
      ]
     },
     "execution_count": 8,
     "metadata": {},
     "output_type": "execute_result"
    }
   ],
   "source": [
    "sbatch_file"
   ]
  },
  {
   "cell_type": "code",
   "execution_count": 9,
   "id": "70f503ec-c4cf-409c-87c1-e8e4ed669b03",
   "metadata": {},
   "outputs": [
    {
     "data": {
      "text/plain": [
       "8434"
      ]
     },
     "execution_count": 9,
     "metadata": {},
     "output_type": "execute_result"
    }
   ],
   "source": [
    "total_files = 0\n",
    "for month in months:\n",
    "    total_files += len(run_paths[month])\n",
    "total_files"
   ]
  },
  {
   "cell_type": "markdown",
   "id": "5cdba124-d76d-4164-90cc-bf1d04f173e2",
   "metadata": {},
   "source": [
    "### Create a secondary file for runs that didn't complete "
   ]
  },
  {
   "cell_type": "markdown",
   "id": "a809b8d3-67c3-456c-b152-41ea64c852c9",
   "metadata": {},
   "source": [
    "##### By month"
   ]
  },
  {
   "cell_type": "code",
   "execution_count": 10,
   "id": "0bf70a86-9cb3-4467-b2f0-cf3cf1508802",
   "metadata": {},
   "outputs": [],
   "source": [
    "input_dir='/home/rmueller/projects/def-allen/rmueller/MIDOSS/analysis-rachael/inputs/aggregation/ByMonth/SpillTime_00-30' \n",
    "yaml_file=pathlib.Path(input_dir,'MOHID_results_locationsByMonth_14122021_01:09:57.yaml')\n",
    "output_dir='/scratch/rmueller/MIDOSS/Results/ByMonth/SpillTime_00-30_fillna0'\n",
    "#output_list_dir=f'/scratch/rmueller/MIDOSS/Results/ByMonth/14December2021' \n",
    "sbatch_file = pathlib.Path(\n",
    "    input_dir,\n",
    "    f'aggregate_200_oil_spills_ByMonth_fillna0_LONG.list')\n",
    "with yaml_file.open(\"rt\") as f:\n",
    "    run_paths = yaml.safe_load(f)   \n",
    "n_iter={}\n",
    "for month in months:\n",
    "    n_iter[month]=max(1,math.ceil(len(run_paths[month])/group_runs))"
   ]
  },
  {
   "cell_type": "code",
   "execution_count": 11,
   "id": "441c7c2e-566e-41a8-b4a3-74ac55b7a52c",
   "metadata": {},
   "outputs": [
    {
     "name": "stdout",
     "output_type": "stream",
     "text": [
      "*** Jan (Number of iterations: 4) ***\n",
      "Iteration: 1 \n",
      "Iteration: 2 \n",
      "Iteration: 3 \n",
      "Iteration: 4 \n",
      "Execution time in minutes for Jan: 0.26\n",
      "*** Feb (Number of iterations: 4) ***\n",
      "Iteration: 1 \n",
      "Iteration: 2 \n",
      "Iteration: 3 \n",
      "Iteration: 4 \n",
      "Execution time in minutes for Feb: 0.26\n",
      "*** Mar (Number of iterations: 4) ***\n",
      "Iteration: 1 \n",
      "Iteration: 2 \n",
      "Iteration: 3 \n",
      "Iteration: 4 \n",
      "Execution time in minutes for Mar: 0.26\n",
      "*** Apr (Number of iterations: 4) ***\n",
      "Iteration: 1 \n",
      "Iteration: 2 \n",
      "Iteration: 3 \n",
      "Iteration: 4 \n",
      "Execution time in minutes for Apr: 0.26\n",
      "*** May (Number of iterations: 5) ***\n",
      "Iteration: 1 \n",
      "Iteration: 2 \n",
      "Iteration: 3 \n",
      "Iteration: 4 \n",
      "Iteration: 5 \n",
      "Execution time in minutes for May: 0.28\n",
      "*** Jun (Number of iterations: 5) ***\n",
      "Iteration: 1 \n",
      "Iteration: 2 \n",
      "Iteration: 3 \n",
      "Iteration: 4 \n",
      "Iteration: 5 \n",
      "Execution time in minutes for Jun: 0.28\n",
      "*** Jul (Number of iterations: 5) ***\n",
      "Iteration: 1 \n",
      "Iteration: 2 \n",
      "Iteration: 3 \n",
      "Iteration: 4 \n",
      "Iteration: 5 \n",
      "Execution time in minutes for Jul: 0.29\n",
      "*** Aug (Number of iterations: 5) ***\n",
      "Iteration: 1 \n",
      "Iteration: 2 \n",
      "Iteration: 3 \n",
      "Iteration: 4 \n",
      "Iteration: 5 \n",
      "Execution time in minutes for Aug: 0.29\n",
      "*** Sep (Number of iterations: 5) ***\n",
      "Iteration: 1 \n",
      "Iteration: 2 \n",
      "Iteration: 3 \n",
      "Iteration: 4 \n",
      "Iteration: 5 \n",
      "Execution time in minutes for Sep: 0.29\n",
      "*** Oct (Number of iterations: 5) ***\n",
      "Iteration: 1 \n",
      "Iteration: 2 \n",
      "Iteration: 3 \n",
      "Iteration: 4 \n",
      "Iteration: 5 \n",
      "Execution time in minutes for Oct: 0.29\n",
      "*** Nov (Number of iterations: 5) ***\n",
      "Iteration: 1 \n",
      "Iteration: 2 \n",
      "Iteration: 3 \n",
      "Iteration: 4 \n",
      "Iteration: 5 \n",
      "Execution time in minutes for Nov: 0.30\n",
      "*** Dec (Number of iterations: 5) ***\n",
      "Iteration: 1 \n",
      "Iteration: 2 \n",
      "Iteration: 3 \n",
      "Iteration: 4 \n",
      "Iteration: 5 \n",
      "Execution time in minutes for Dec: 0.30\n"
     ]
    },
    {
     "data": {
      "text/plain": [
       "<function TextIOWrapper.close()>"
      ]
     },
     "execution_count": 11,
     "metadata": {},
     "output_type": "execute_result"
    }
   ],
   "source": [
    "#------------------------------------------------------------\n",
    "# Iterate through oil types and aggregate SOILED model output\n",
    "# in batches of \"group_runs\" number of files\n",
    "#------------------------------------------------------------\n",
    "with open(sbatch_file, 'w') as f:\n",
    "    for month in months: # loop through oils\n",
    "        this_iter = 1\n",
    "        print(f'*** {month} (Number of iterations: {n_iter[month]}) ***')\n",
    "        # loop through specified number of groups\n",
    "        while (this_iter <= ngroups) & (n_iter[month]>=this_iter): \n",
    "            print(f'Iteration: {this_iter} ')\n",
    "            first = (this_iter-1) * group_runs \n",
    "            last = this_iter*group_runs\n",
    "            netcdf_file = pathlib.Path(\n",
    "                    output_dir,\n",
    "                    f'beaching_{month}_{first}-{last}.nc')\n",
    "            if os.path.exists(netcdf_file)==False:\n",
    "                f.write(f\"python aggregate_oil_spills.py '{yaml_file}' {month} {first} {last} '{output_list_dir}'\\n\")\n",
    "            this_iter += 1\n",
    "        executionTime = (time.time() - startTime)\n",
    "        print(f'Execution time in minutes for {month}: {executionTime/60:.2f}')\n",
    "f.close"
   ]
  },
  {
   "cell_type": "markdown",
   "id": "f15fd8a6-6f01-4152-a648-bccb27dc4c0b",
   "metadata": {},
   "source": [
    "##### By oil type"
   ]
  },
  {
   "cell_type": "code",
   "execution_count": 12,
   "id": "51005788-f1c0-4acf-a940-1e42fb9d5e42",
   "metadata": {},
   "outputs": [],
   "source": [
    "input_dir='/home/rmueller/projects/def-allen/rmueller/MIDOSS/analysis-rachael/inputs/aggregation/ByOil/SpillTime_00-30' \n",
    "yaml_file=pathlib.Path(input_dir,'MOHID_results_locations_27112021_12:05:17.yaml')\n",
    "output_dir='/scratch/rmueller/MIDOSS/Results/ByOilType/SpillTime_00-30_fillna0'\n",
    "sbatch_file = pathlib.Path(\n",
    "    input_dir,\n",
    "    f'aggregate_oil_spills_ByOil_fillna0_LONG2.list')\n",
    "with yaml_file.open(\"rt\") as f:\n",
    "    run_paths = yaml.safe_load(f)   \n",
    "n_iter={}\n",
    "for oil in oil_types:\n",
    "    n_iter[oil]=max(1,len(run_paths[oil])/group_runs)\n"
   ]
  },
  {
   "cell_type": "code",
   "execution_count": 13,
   "id": "d46733ec-b2c3-4729-84a8-1408219127c6",
   "metadata": {},
   "outputs": [
    {
     "name": "stdout",
     "output_type": "stream",
     "text": [
      "*** akns (Number of iterations: 1) ***\n",
      "Iteration: 1 \n",
      "Execution time in minutes for akns: 0.37\n",
      "*** bunker (Number of iterations: 16.74) ***\n",
      "Iteration: 1 \n",
      "Iteration: 2 \n",
      "Iteration: 3 \n",
      "Iteration: 4 \n",
      "Iteration: 5 \n",
      "Iteration: 6 \n",
      "Iteration: 7 \n",
      "Iteration: 8 \n",
      "Iteration: 9 \n",
      "Iteration: 10 \n",
      "Iteration: 11 \n",
      "Iteration: 12 \n",
      "Iteration: 13 \n",
      "Iteration: 14 \n",
      "Iteration: 15 \n",
      "Iteration: 16 \n",
      "Execution time in minutes for bunker: 0.38\n",
      "*** dilbit (Number of iterations: 1) ***\n",
      "Iteration: 1 \n",
      "Execution time in minutes for dilbit: 0.38\n",
      "*** jet (Number of iterations: 1) ***\n",
      "Iteration: 1 \n",
      "Execution time in minutes for jet: 0.38\n",
      "*** diesel (Number of iterations: 31.195) ***\n",
      "Iteration: 1 \n",
      "Iteration: 2 \n",
      "Iteration: 3 \n",
      "Iteration: 4 \n",
      "Iteration: 5 \n",
      "Iteration: 6 \n",
      "Iteration: 7 \n",
      "Iteration: 8 \n",
      "Iteration: 9 \n",
      "Iteration: 10 \n",
      "Iteration: 11 \n",
      "Iteration: 12 \n",
      "Iteration: 13 \n",
      "Iteration: 14 \n",
      "Iteration: 15 \n",
      "Iteration: 16 \n",
      "Iteration: 17 \n",
      "Iteration: 18 \n",
      "Iteration: 19 \n",
      "Iteration: 20 \n",
      "Iteration: 21 \n",
      "Iteration: 22 \n",
      "Iteration: 23 \n",
      "Iteration: 24 \n",
      "Iteration: 25 \n",
      "Iteration: 26 \n",
      "Iteration: 27 \n",
      "Iteration: 28 \n",
      "Iteration: 29 \n",
      "Iteration: 30 \n",
      "Iteration: 31 \n",
      "Execution time in minutes for diesel: 0.40\n",
      "*** gas (Number of iterations: 1) ***\n",
      "Iteration: 1 \n",
      "Execution time in minutes for gas: 0.40\n",
      "*** other (Number of iterations: 1) ***\n",
      "Iteration: 1 \n",
      "Execution time in minutes for other: 0.40\n"
     ]
    },
    {
     "data": {
      "text/plain": [
       "<function TextIOWrapper.close()>"
      ]
     },
     "execution_count": 13,
     "metadata": {},
     "output_type": "execute_result"
    }
   ],
   "source": [
    "#------------------------------------------------------------\n",
    "# Iterate through oil types and aggregate SOILED model output\n",
    "# in batches of \"group_runs\" number of files\n",
    "#------------------------------------------------------------\n",
    "with open(sbatch_file, 'w') as f:\n",
    "    for oil in oil_types: # loop through oils\n",
    "        this_iter = 1\n",
    "        print(f'*** {oil} (Number of iterations: {n_iter[oil]}) ***')\n",
    "        # loop through specified number of groups\n",
    "        while (this_iter <= ngroups) & (n_iter[oil]>=this_iter): \n",
    "            print(f'Iteration: {this_iter} ')\n",
    "            first = (this_iter-1) * group_runs \n",
    "            last = this_iter*group_runs\n",
    "            netcdf_file = pathlib.Path(\n",
    "                    output_dir,\n",
    "                    f'beaching_{oil}_{first}-{last}.nc')\n",
    "            if os.path.exists(netcdf_file)==False:\n",
    "                f.write(f\"python aggregate_oil_spills.py '{yaml_file}' {oil} {first} {last} '{output_list_dir}'\\n\")\n",
    "            this_iter += 1\n",
    "        executionTime = (time.time() - startTime)\n",
    "        print(f'Execution time in minutes for {oil}: {executionTime/60:.2f}')\n",
    "f.close"
   ]
  },
  {
   "cell_type": "code",
   "execution_count": null,
   "id": "71edd9de-8c7a-4b7a-abf1-e57afec8165b",
   "metadata": {},
   "outputs": [],
   "source": []
  }
 ],
 "metadata": {
  "kernelspec": {
   "display_name": "Python 3 (ipykernel)",
   "language": "python",
   "name": "python3"
  },
  "language_info": {
   "codemirror_mode": {
    "name": "ipython",
    "version": 3
   },
   "file_extension": ".py",
   "mimetype": "text/x-python",
   "name": "python",
   "nbconvert_exporter": "python",
   "pygments_lexer": "ipython3",
   "version": "3.8.2"
  }
 },
 "nbformat": 4,
 "nbformat_minor": 5
}
