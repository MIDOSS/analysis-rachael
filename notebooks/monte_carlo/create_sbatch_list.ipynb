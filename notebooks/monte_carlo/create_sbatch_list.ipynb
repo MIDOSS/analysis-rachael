{
 "cells": [
  {
   "cell_type": "code",
   "execution_count": 8,
   "id": "802bb143-b4c8-46e2-9d2a-b4c426ed1a4f",
   "metadata": {},
   "outputs": [],
   "source": [
    "import os\n",
    "import time\n",
    "import pathlib\n",
    "import yaml\n",
    "import math\n",
    "from datetime import datetime"
   ]
  },
  {
   "cell_type": "code",
   "execution_count": 9,
   "id": "c42bb783-ee1a-413b-ac16-18855530d871",
   "metadata": {},
   "outputs": [
    {
     "data": {
      "text/plain": [
       "'15December2021'"
      ]
     },
     "execution_count": 9,
     "metadata": {},
     "output_type": "execute_result"
    }
   ],
   "source": [
    "now = datetime.now()\n",
    "dt_string = now.strftime(\"%d%B%Y\")\n",
    "dt_string"
   ]
  },
  {
   "cell_type": "code",
   "execution_count": 10,
   "id": "441479e5-c7c2-449a-a5f6-182b1f14b8b5",
   "metadata": {},
   "outputs": [],
   "source": [
    "startTime = time.time()\n",
    "group_runs = 200 # Number of output files aggregated together\n",
    "ngroups = 35  #This is a number >> max number of aggregations in any given oil type\n",
    "#------------------------------------------------------------\n",
    "# Global variables\n",
    "#------------------------------------------------------------\n",
    "oil_types = ['akns', 'bunker', 'dilbit', 'jet', 'diesel', 'gas', 'other']\n",
    "months = ['Jan','Feb','Mar','Apr','May','Jun','Jul','Aug','Sep','Oct','Nov','Dec']"
   ]
  },
  {
   "cell_type": "code",
   "execution_count": 11,
   "id": "ccae02c7-ad61-4e76-84de-f892e18cc2c1",
   "metadata": {},
   "outputs": [],
   "source": [
    "yaml_file=pathlib.Path('/scratch/rmueller/MIDOSS/Results/MOHID_results_locations_27112021_12:05:17.yaml')\n",
    "\n",
    "\n",
    "with yaml_file.open(\"rt\") as f:\n",
    "    run_paths = yaml.safe_load(f) "
   ]
  },
  {
   "cell_type": "code",
   "execution_count": 12,
   "id": "897f4d9b-0e92-4aaa-9a50-be2283ac55da",
   "metadata": {},
   "outputs": [
    {
     "data": {
      "text/plain": [
       "['/scratch/dlatorne/MIDOSS/runs/monte-carlo/near-BP_18th-100_2021-09-30T145416/results/near-BP_18th-100-94/Lagrangian_dilbit-94_near-BP_18th-100-94.nc']"
      ]
     },
     "execution_count": 12,
     "metadata": {},
     "output_type": "execute_result"
    }
   ],
   "source": [
    "run_paths['dilbit']"
   ]
  },
  {
   "cell_type": "code",
   "execution_count": 17,
   "id": "e02c8a4d-7cb7-4ce8-aecc-f1bacf4a96e5",
   "metadata": {},
   "outputs": [
    {
     "data": {
      "text/plain": [
       "'/scratch/dlatorne/MIDOSS/runs/monte-carlo/near-BP_13th-100_2021-09-25T163257/results/near-BP_13th-100-61/Lagrangian_akns-61_near-BP_13th-100-61.nc'"
      ]
     },
     "execution_count": 17,
     "metadata": {},
     "output_type": "execute_result"
    }
   ],
   "source": [
    "nc_in"
   ]
  },
  {
   "cell_type": "code",
   "execution_count": 9,
   "id": "92c659f6-e95d-4d9d-8a62-2d5a62c5760f",
   "metadata": {},
   "outputs": [],
   "source": [
    "import xarray\n",
    "data = xarray.open_dataset(nc_in, engine='h5netcdf')"
   ]
  },
  {
   "cell_type": "code",
   "execution_count": 23,
   "id": "35d7b476-a1f5-4d22-873d-8569604079e5",
   "metadata": {},
   "outputs": [
    {
     "data": {
      "text/plain": [
       "'/scratch/dlatorne/MIDOSS/runs/monte-carlo/near-BP_13th-100_2021-09-25T163257/results/near-BP_13th-100-61/Lagrangian_akns-61_near-BP_13th-100-61.nc'"
      ]
     },
     "execution_count": 23,
     "metadata": {},
     "output_type": "execute_result"
    }
   ],
   "source": [
    "run"
   ]
  },
  {
   "cell_type": "code",
   "execution_count": 50,
   "id": "4f92728e-27e6-4939-9eab-e7f61b7aa3c4",
   "metadata": {},
   "outputs": [
    {
     "data": {
      "text/plain": [
       "'/scratch/dlatorne/MIDOSS/runs/monte-carlo/near-BP_13th-100_2021-09-25T163257/results/near-BP_13th-100-61'"
      ]
     },
     "execution_count": 50,
     "metadata": {},
     "output_type": "execute_result"
    }
   ],
   "source": [
    "os.path.dirname(os.path.abspath(run))"
   ]
  },
  {
   "cell_type": "code",
   "execution_count": 44,
   "id": "9775694b-d064-4a4f-a252-2f51187dba01",
   "metadata": {},
   "outputs": [
    {
     "data": {
      "text/plain": [
       "'/scratch/dlatorne/MIDOSS/runs/monte-carlo/near-BP_13th-100_2021-09-25T163257/results/near-BP_13th-100-61/Lagrangian_akns-61.dat'"
      ]
     },
     "execution_count": 44,
     "metadata": {},
     "output_type": "execute_result"
    }
   ],
   "source": [
    "path = '/scratch/dlatorne/MIDOSS/runs/monte-carlo/near-BP_13th-100_2021-09-25T163257/results/near-BP_13th-100-61/'\n",
    "run = '/scratch/dlatorne/MIDOSS/runs/monte-carlo/near-BP_13th-100_2021-09-25T163257/results/near-BP_13th-100-61/Lagrangian_akns-61_near-BP_13th-100-61.nc'\n",
    "nrun = run.split('/')[-1].split('-')[-1][:-3]\n",
    "oil_tag = run.split('/')[-1].split('_')[1].split('-')[0]\n",
    "dat_file_path=os.path.join(path,f'Model-{nrun}.dat')\n",
    "Lagrangian_file = dir+f'Lagrangian_{oil_tag}-{nrun}.dat'\n",
    "Lagrangian_file"
   ]
  },
  {
   "cell_type": "code",
   "execution_count": 45,
   "id": "9584720e-447e-4b26-a95e-af08c9b37b56",
   "metadata": {},
   "outputs": [],
   "source": [
    "with open(Lagrangian_file, 'r') as f:\n",
    "    for line in f:\n",
    "        if 'POINT_VOLUME              :' in line: \n",
    "            # select spill volume quantity after ':'\n",
    "            spillvolume = line.split(':')[-1].split('\\n')[0]\n",
    "        if 'POSITION_COORDINATES      :' in line:\n",
    "            spill_location = line.split(':')[-1].split('\\n')[0]"
   ]
  },
  {
   "cell_type": "code",
   "execution_count": 58,
   "id": "6739004b-de08-4dff-a0b6-9f5947f7d809",
   "metadata": {},
   "outputs": [
    {
     "data": {
      "text/plain": [
       "(-122.58232625325522, 48.51557540893555)"
      ]
     },
     "execution_count": 58,
     "metadata": {},
     "output_type": "execute_result"
    }
   ],
   "source": [
    "(float(spill_location.split(' ')[1]),float(spill_location.split(' ')[2]))"
   ]
  },
  {
   "cell_type": "code",
   "execution_count": 55,
   "id": "35773459-89aa-4fe2-a865-61cae1fffa13",
   "metadata": {},
   "outputs": [
    {
     "data": {
      "text/plain": [
       "14119.655008200005"
      ]
     },
     "execution_count": 55,
     "metadata": {},
     "output_type": "execute_result"
    }
   ],
   "source": [
    "float(spillvolume)"
   ]
  },
  {
   "cell_type": "code",
   "execution_count": 60,
   "id": "8897cc25-cb9e-411d-99ec-cc1a78b1b829",
   "metadata": {},
   "outputs": [],
   "source": [
    "import numpy\n",
    "latitude=numpy.zeros(2)\n",
    "longitude=numpy.zeros(2)\n",
    "latitude[1] = 48.51557540893555"
   ]
  },
  {
   "cell_type": "code",
   "execution_count": 62,
   "id": "56f2de0c-7e67-4ae7-9041-dbd39a922184",
   "metadata": {},
   "outputs": [
    {
     "data": {
      "text/plain": [
       "48.51557540893555"
      ]
     },
     "execution_count": 62,
     "metadata": {},
     "output_type": "execute_result"
    }
   ],
   "source": [
    "latitude[1]"
   ]
  },
  {
   "cell_type": "code",
   "execution_count": null,
   "id": "57194827-47fe-4657-aa96-f28c31966489",
   "metadata": {},
   "outputs": [],
   "source": [
    "with open(Lagrangian_file, 'r') as f:\n",
    "    for line in f:\n",
    "        if 'POINT_VOLUME              :' in line: \n",
    "            # select spill volume quantity after ':'\n",
    "            spillvolume = line.split(':')[-1].split('\\n')[0]\n",
    "            # convert to float for \"sort_values\" to work properly\n",
    "            volume[oil]['volume'].append(float(spillvolume))"
   ]
  },
  {
   "cell_type": "code",
   "execution_count": 31,
   "id": "1f8cdf86-ee43-499d-8785-51c59c71c1e6",
   "metadata": {},
   "outputs": [
    {
     "name": "stdout",
     "output_type": "stream",
     "text": [
      "/scratch/rmueller/MIDOSS/Results/ByOilType/13December2021 already exists\n",
      "*** akns (Number of iterations: 1) ***\n",
      "Iteration: 1 \n",
      "Execution time in minutes for akns: 56.48\n",
      "*** bunker (Number of iterations: 17) ***\n",
      "Iteration: 1 \n",
      "Iteration: 2 \n",
      "Iteration: 3 \n",
      "Iteration: 4 \n",
      "Iteration: 5 \n",
      "Iteration: 6 \n",
      "Iteration: 7 \n",
      "Iteration: 8 \n",
      "Iteration: 9 \n",
      "Iteration: 10 \n",
      "Iteration: 11 \n",
      "Iteration: 12 \n",
      "Iteration: 13 \n",
      "Iteration: 14 \n",
      "Iteration: 15 \n",
      "Iteration: 16 \n",
      "Iteration: 17 \n",
      "Execution time in minutes for bunker: 56.48\n",
      "*** dilbit (Number of iterations: 1) ***\n",
      "Iteration: 1 \n",
      "Execution time in minutes for dilbit: 56.48\n",
      "*** jet (Number of iterations: 1) ***\n",
      "Iteration: 1 \n",
      "Execution time in minutes for jet: 56.48\n",
      "*** diesel (Number of iterations: 32) ***\n",
      "Iteration: 1 \n",
      "Iteration: 2 \n",
      "Iteration: 3 \n",
      "Iteration: 4 \n",
      "Iteration: 5 \n",
      "Iteration: 6 \n",
      "Iteration: 7 \n",
      "Iteration: 8 \n",
      "Iteration: 9 \n",
      "Iteration: 10 \n",
      "Iteration: 11 \n",
      "Iteration: 12 \n",
      "Iteration: 13 \n",
      "Iteration: 14 \n",
      "Iteration: 15 \n",
      "Iteration: 16 \n",
      "Iteration: 17 \n",
      "Iteration: 18 \n",
      "Iteration: 19 \n",
      "Iteration: 20 \n",
      "Iteration: 21 \n",
      "Iteration: 22 \n",
      "Iteration: 23 \n",
      "Iteration: 24 \n",
      "Iteration: 25 \n",
      "Iteration: 26 \n",
      "Iteration: 27 \n",
      "Iteration: 28 \n",
      "Iteration: 29 \n",
      "Iteration: 30 \n",
      "Iteration: 31 \n",
      "Iteration: 32 \n",
      "Execution time in minutes for diesel: 56.48\n",
      "*** gas (Number of iterations: 1) ***\n",
      "Iteration: 1 \n",
      "Execution time in minutes for gas: 56.48\n",
      "*** other (Number of iterations: 1) ***\n",
      "Iteration: 1 \n",
      "Execution time in minutes for other: 56.48\n"
     ]
    },
    {
     "data": {
      "text/plain": [
       "<function TextIOWrapper.close()>"
      ]
     },
     "execution_count": 31,
     "metadata": {},
     "output_type": "execute_result"
    }
   ],
   "source": [
    "import math\n",
    "yaml_file=pathlib.Path('/scratch/rmueller/MIDOSS/Results/MOHID_results_locations_27112021_12:05:17.yaml')\n",
    "#------------------------------------------------------------\n",
    "# Output directory\n",
    "#------------------------------------------------------------\n",
    "# add date tag to sbatch .list filename\n",
    "now = datetime.now()\n",
    "dt_string = now.strftime(\"%d%B%Y\")\n",
    "#output_list_dir=f'/scratch/rmueller/MIDOSS/Results/{dt_string}' \n",
    "output_list_dir='/scratch/rmueller/MIDOSS/Results/ByOilType/13December2021'\n",
    "# create output directory if it doesn't already exist\n",
    "try:\n",
    "    os.makedir(output_list_dir)\n",
    "except:\n",
    "    print(f'{output_list_dir} already exists')\n",
    "sbatch_file = pathlib.Path(\n",
    "    output_list_dir,\n",
    "    f'aggregate_{group_runs}_oil_spills_{dt_string}.list')\n",
    "#------------------------------------------------------------\n",
    "# Load yaml file name with list of output netcdf files to aggregate\n",
    "#------------------------------------------------------------\n",
    "with yaml_file.open(\"rt\") as f:\n",
    "    run_paths = yaml.safe_load(f)   \n",
    "n_iter={}\n",
    "for oil in oil_types:\n",
    "    n_iter[oil]=max(1,math.ceil(len(run_paths[oil])/group_runs))\n",
    "#------------------------------------------------------------\n",
    "# Iterate through oil types and aggregate SOILED model output\n",
    "# in batches of \"group_runs\" number of files\n",
    "#------------------------------------------------------------\n",
    "all_iter = 0\n",
    "with open(sbatch_file, 'w') as f:\n",
    "    for oil in oil_types: # loop through oils\n",
    "        this_iter = 1\n",
    "        print(f'*** {oil} (Number of iterations: {n_iter[oil]}) ***')\n",
    "        # loop through specified number of groups\n",
    "        while (this_iter <= ngroups) & (n_iter[oil]>=this_iter): \n",
    "            print(f'Iteration: {this_iter} ')\n",
    "            first = (this_iter-1) * group_runs \n",
    "            last = this_iter*group_runs\n",
    "            #------------------------------------------------------------\n",
    "            # write to file the sbatch submission command\n",
    "            f.write(f\"python aggregate_oil_spills.py '{yaml_file}' {oil} {first} {last} '{output_list_dir}'\\n\")\n",
    "            this_iter += 1\n",
    "            all_iter += 1\n",
    "        executionTime = (time.time() - startTime)\n",
    "        print(f'Execution time in minutes for {oil}: {executionTime/60:.2f}')\n",
    "f.close"
   ]
  },
  {
   "cell_type": "code",
   "execution_count": 32,
   "id": "9e294b22-0b8e-418e-b9bd-6e242d8ffee4",
   "metadata": {},
   "outputs": [
    {
     "data": {
      "text/plain": [
       "9823"
      ]
     },
     "execution_count": 32,
     "metadata": {},
     "output_type": "execute_result"
    }
   ],
   "source": [
    "total_files = 0\n",
    "for oil in oil_types:\n",
    "    total_files += len(run_paths[oil])\n",
    "total_files"
   ]
  },
  {
   "cell_type": "code",
   "execution_count": 28,
   "id": "40bc9873-abc7-45e5-8090-b1b7e546454f",
   "metadata": {},
   "outputs": [
    {
     "name": "stdout",
     "output_type": "stream",
     "text": [
      "/scratch/rmueller/MIDOSS/Results/ByMonth/14December2021 already exists\n",
      "*** Jan (Number of iterations: 4) ***\n",
      "Iteration: 1 \n",
      "Iteration: 2 \n",
      "Iteration: 3 \n",
      "Iteration: 4 \n",
      "Execution time in minutes for Jan: 44.62\n",
      "*** Feb (Number of iterations: 4) ***\n",
      "Iteration: 1 \n",
      "Iteration: 2 \n",
      "Iteration: 3 \n",
      "Iteration: 4 \n",
      "Execution time in minutes for Feb: 44.62\n",
      "*** Mar (Number of iterations: 4) ***\n",
      "Iteration: 1 \n",
      "Iteration: 2 \n",
      "Iteration: 3 \n",
      "Iteration: 4 \n",
      "Execution time in minutes for Mar: 44.62\n",
      "*** Apr (Number of iterations: 4) ***\n",
      "Iteration: 1 \n",
      "Iteration: 2 \n",
      "Iteration: 3 \n",
      "Iteration: 4 \n",
      "Execution time in minutes for Apr: 44.62\n",
      "*** May (Number of iterations: 5) ***\n",
      "Iteration: 1 \n",
      "Iteration: 2 \n",
      "Iteration: 3 \n",
      "Iteration: 4 \n",
      "Iteration: 5 \n",
      "Execution time in minutes for May: 44.62\n",
      "*** Jun (Number of iterations: 5) ***\n",
      "Iteration: 1 \n",
      "Iteration: 2 \n",
      "Iteration: 3 \n",
      "Iteration: 4 \n",
      "Iteration: 5 \n",
      "Execution time in minutes for Jun: 44.62\n",
      "*** Jul (Number of iterations: 5) ***\n",
      "Iteration: 1 \n",
      "Iteration: 2 \n",
      "Iteration: 3 \n",
      "Iteration: 4 \n",
      "Iteration: 5 \n",
      "Execution time in minutes for Jul: 44.62\n",
      "*** Aug (Number of iterations: 5) ***\n",
      "Iteration: 1 \n",
      "Iteration: 2 \n",
      "Iteration: 3 \n",
      "Iteration: 4 \n",
      "Iteration: 5 \n",
      "Execution time in minutes for Aug: 44.62\n",
      "*** Sep (Number of iterations: 5) ***\n",
      "Iteration: 1 \n",
      "Iteration: 2 \n",
      "Iteration: 3 \n",
      "Iteration: 4 \n",
      "Iteration: 5 \n",
      "Execution time in minutes for Sep: 44.62\n",
      "*** Oct (Number of iterations: 5) ***\n",
      "Iteration: 1 \n",
      "Iteration: 2 \n",
      "Iteration: 3 \n",
      "Iteration: 4 \n",
      "Iteration: 5 \n",
      "Execution time in minutes for Oct: 44.62\n",
      "*** Nov (Number of iterations: 5) ***\n",
      "Iteration: 1 \n",
      "Iteration: 2 \n",
      "Iteration: 3 \n",
      "Iteration: 4 \n",
      "Iteration: 5 \n",
      "Execution time in minutes for Nov: 44.62\n",
      "*** Dec (Number of iterations: 5) ***\n",
      "Iteration: 1 \n",
      "Iteration: 2 \n",
      "Iteration: 3 \n",
      "Iteration: 4 \n",
      "Iteration: 5 \n",
      "Execution time in minutes for Dec: 44.62\n"
     ]
    },
    {
     "data": {
      "text/plain": [
       "<function TextIOWrapper.close()>"
      ]
     },
     "execution_count": 28,
     "metadata": {},
     "output_type": "execute_result"
    }
   ],
   "source": [
    "yaml_file=pathlib.Path('/scratch/rmueller/MIDOSS/Results/MOHID_results_locationsByMonth_14122021_01:09:57.yaml')\n",
    "#------------------------------------------------------------\n",
    "# Output directory\n",
    "#------------------------------------------------------------\n",
    "# add date tag to sbatch .list filename\n",
    "now = datetime.now()\n",
    "dt_string = now.strftime(\"%d%B%Y\")\n",
    "output_list_dir=f'/scratch/rmueller/MIDOSS/Results/ByMonth/{dt_string}' \n",
    "\n",
    "# create output directory if it doesn't already exist\n",
    "try:\n",
    "    os.makedirs(output_list_dir)\n",
    "except:\n",
    "    print(f'{output_list_dir} already exists')\n",
    "sbatch_file = pathlib.Path(\n",
    "    output_list_dir,\n",
    "    f'aggregate_{group_runs}_oil_spills_{dt_string}.list')\n",
    "#------------------------------------------------------------\n",
    "# Load yaml file name with list of output netcdf files to aggregate\n",
    "#------------------------------------------------------------\n",
    "with yaml_file.open(\"rt\") as f:\n",
    "    run_paths = yaml.safe_load(f)   \n",
    "n_iter={}\n",
    "for month in months:\n",
    "    n_iter[month]=max(1,math.ceil(len(run_paths[month])/group_runs))\n",
    "#------------------------------------------------------------\n",
    "# Iterate through oil types and aggregate SOILED model output\n",
    "# in batches of \"group_runs\" number of files\n",
    "#------------------------------------------------------------\n",
    "all_iter = 0\n",
    "with open(sbatch_file, 'w') as f:\n",
    "    for month in months: # loop through oils\n",
    "        this_iter = 1\n",
    "        print(f'*** {month} (Number of iterations: {n_iter[month]}) ***')\n",
    "        # loop through specified number of groups\n",
    "        while (this_iter <= ngroups) & (n_iter[month]>=this_iter): \n",
    "            print(f'Iteration: {this_iter} ')\n",
    "            first = (this_iter-1) * group_runs \n",
    "            last = this_iter*group_runs\n",
    "            #------------------------------------------------------------\n",
    "            # write to file the sbatch submission command\n",
    "            f.write(f\"python aggregate_oil_spills.py '{yaml_file}' {month} {first} {last} '{output_list_dir}'\\n\")\n",
    "            this_iter += 1\n",
    "            all_iter += 1\n",
    "        executionTime = (time.time() - startTime)\n",
    "        print(f'Execution time in minutes for {month}: {executionTime/60:.2f}')\n",
    "f.close"
   ]
  },
  {
   "cell_type": "code",
   "execution_count": 30,
   "id": "70f503ec-c4cf-409c-87c1-e8e4ed669b03",
   "metadata": {},
   "outputs": [
    {
     "data": {
      "text/plain": [
       "9823"
      ]
     },
     "execution_count": 30,
     "metadata": {},
     "output_type": "execute_result"
    }
   ],
   "source": [
    "total_files = 0\n",
    "for month in months:\n",
    "    total_files += len(run_paths[month])\n",
    "total_files"
   ]
  },
  {
   "cell_type": "markdown",
   "id": "5cdba124-d76d-4164-90cc-bf1d04f173e2",
   "metadata": {},
   "source": [
    "### Create a secondary file for runs that didn't complete "
   ]
  },
  {
   "cell_type": "markdown",
   "id": "a809b8d3-67c3-456c-b152-41ea64c852c9",
   "metadata": {},
   "source": [
    "##### By month"
   ]
  },
  {
   "cell_type": "code",
   "execution_count": 3,
   "id": "0bf70a86-9cb3-4467-b2f0-cf3cf1508802",
   "metadata": {},
   "outputs": [],
   "source": [
    "yaml_file=pathlib.Path('/scratch/rmueller/MIDOSS/Results/MOHID_results_locationsByMonth_14122021_01:09:57.yaml')\n",
    "output_list_dir=f'/scratch/rmueller/MIDOSS/Results/ByMonth/14December2021' \n",
    "sbatch_file = pathlib.Path(\n",
    "    output_list_dir,\n",
    "    f'aggregate_200_oil_spills_14December2021_LONG.list')\n",
    "with yaml_file.open(\"rt\") as f:\n",
    "    run_paths = yaml.safe_load(f)   \n",
    "n_iter={}\n",
    "for month in months:\n",
    "    n_iter[month]=max(1,math.ceil(len(run_paths[month])/group_runs))"
   ]
  },
  {
   "cell_type": "code",
   "execution_count": 5,
   "id": "441c7c2e-566e-41a8-b4a3-74ac55b7a52c",
   "metadata": {},
   "outputs": [
    {
     "name": "stdout",
     "output_type": "stream",
     "text": [
      "*** Jan (Number of iterations: 4) ***\n",
      "Iteration: 1 \n",
      "Iteration: 2 \n",
      "Iteration: 3 \n",
      "Iteration: 4 \n",
      "Execution time in minutes for Jan: 0.74\n",
      "*** Feb (Number of iterations: 4) ***\n",
      "Iteration: 1 \n",
      "Iteration: 2 \n",
      "Iteration: 3 \n",
      "Iteration: 4 \n",
      "Execution time in minutes for Feb: 0.74\n",
      "*** Mar (Number of iterations: 4) ***\n",
      "Iteration: 1 \n",
      "Iteration: 2 \n",
      "Iteration: 3 \n",
      "Iteration: 4 \n",
      "Execution time in minutes for Mar: 0.75\n",
      "*** Apr (Number of iterations: 4) ***\n",
      "Iteration: 1 \n",
      "Iteration: 2 \n",
      "Iteration: 3 \n",
      "Iteration: 4 \n",
      "Execution time in minutes for Apr: 0.75\n",
      "*** May (Number of iterations: 5) ***\n",
      "Iteration: 1 \n",
      "Iteration: 2 \n",
      "Iteration: 3 \n",
      "Iteration: 4 \n",
      "Iteration: 5 \n",
      "Execution time in minutes for May: 0.75\n",
      "*** Jun (Number of iterations: 5) ***\n",
      "Iteration: 1 \n",
      "Iteration: 2 \n",
      "Iteration: 3 \n",
      "Iteration: 4 \n",
      "Iteration: 5 \n",
      "Execution time in minutes for Jun: 0.75\n",
      "*** Jul (Number of iterations: 5) ***\n",
      "Iteration: 1 \n",
      "Iteration: 2 \n",
      "Iteration: 3 \n",
      "Iteration: 4 \n",
      "Iteration: 5 \n",
      "Execution time in minutes for Jul: 0.75\n",
      "*** Aug (Number of iterations: 5) ***\n",
      "Iteration: 1 \n",
      "Iteration: 2 \n",
      "Iteration: 3 \n",
      "Iteration: 4 \n",
      "Iteration: 5 \n",
      "Execution time in minutes for Aug: 0.75\n",
      "*** Sep (Number of iterations: 5) ***\n",
      "Iteration: 1 \n",
      "Iteration: 2 \n",
      "Iteration: 3 \n",
      "Iteration: 4 \n",
      "Iteration: 5 \n",
      "Execution time in minutes for Sep: 0.75\n",
      "*** Oct (Number of iterations: 5) ***\n",
      "Iteration: 1 \n",
      "Iteration: 2 \n",
      "Iteration: 3 \n",
      "Iteration: 4 \n",
      "Iteration: 5 \n",
      "Execution time in minutes for Oct: 0.75\n",
      "*** Nov (Number of iterations: 5) ***\n",
      "Iteration: 1 \n",
      "Iteration: 2 \n",
      "Iteration: 3 \n",
      "Iteration: 4 \n",
      "Iteration: 5 \n",
      "Execution time in minutes for Nov: 0.75\n",
      "*** Dec (Number of iterations: 5) ***\n",
      "Iteration: 1 \n",
      "Iteration: 2 \n",
      "Iteration: 3 \n",
      "Iteration: 4 \n",
      "Iteration: 5 \n",
      "Execution time in minutes for Dec: 0.76\n"
     ]
    },
    {
     "data": {
      "text/plain": [
       "<function TextIOWrapper.close()>"
      ]
     },
     "execution_count": 5,
     "metadata": {},
     "output_type": "execute_result"
    }
   ],
   "source": [
    "#------------------------------------------------------------\n",
    "# Iterate through oil types and aggregate SOILED model output\n",
    "# in batches of \"group_runs\" number of files\n",
    "#------------------------------------------------------------\n",
    "with open(sbatch_file, 'w') as f:\n",
    "    for month in months: # loop through oils\n",
    "        this_iter = 1\n",
    "        print(f'*** {month} (Number of iterations: {n_iter[month]}) ***')\n",
    "        # loop through specified number of groups\n",
    "        while (this_iter <= ngroups) & (n_iter[month]>=this_iter): \n",
    "            print(f'Iteration: {this_iter} ')\n",
    "            first = (this_iter-1) * group_runs \n",
    "            last = this_iter*group_runs\n",
    "            netcdf_file = pathlib.Path(\n",
    "                    output_list_dir,\n",
    "                    f'beaching_{month}_{first}-{last}.nc')\n",
    "            if os.path.exists(netcdf_file)==False:\n",
    "                f.write(f\"python aggregate_oil_spills.py '{yaml_file}' {month} {first} {last} '{output_list_dir}'\\n\")\n",
    "            this_iter += 1\n",
    "        executionTime = (time.time() - startTime)\n",
    "        print(f'Execution time in minutes for {month}: {executionTime/60:.2f}')\n",
    "f.close"
   ]
  },
  {
   "cell_type": "markdown",
   "id": "f15fd8a6-6f01-4152-a648-bccb27dc4c0b",
   "metadata": {},
   "source": [
    "##### By oil type"
   ]
  },
  {
   "cell_type": "code",
   "execution_count": 6,
   "id": "51005788-f1c0-4acf-a940-1e42fb9d5e42",
   "metadata": {},
   "outputs": [],
   "source": [
    "output_list_dir=f'/scratch/rmueller/MIDOSS/Results/ByOilType/13December2021' \n",
    "yaml_file=pathlib.Path('/scratch/rmueller/MIDOSS/Results/MOHID_results_locations_27112021_12:05:17.yaml')\n",
    "sbatch_file = pathlib.Path(\n",
    "    output_list_dir,\n",
    "    f'aggregate_oil_spills_LONG2_14December2021.list')\n",
    "with yaml_file.open(\"rt\") as f:\n",
    "    run_paths = yaml.safe_load(f)   \n",
    "n_iter={}\n",
    "for oil in oil_types:\n",
    "    n_iter[oil]=max(1,len(run_paths[oil])/group_runs)\n"
   ]
  },
  {
   "cell_type": "code",
   "execution_count": 7,
   "id": "d46733ec-b2c3-4729-84a8-1408219127c6",
   "metadata": {},
   "outputs": [
    {
     "name": "stdout",
     "output_type": "stream",
     "text": [
      "*** akns (Number of iterations: 1) ***\n",
      "Iteration: 1 \n",
      "Execution time in minutes for akns: 0.40\n",
      "*** bunker (Number of iterations: 16.74) ***\n",
      "Iteration: 1 \n",
      "Iteration: 2 \n",
      "Iteration: 3 \n",
      "Iteration: 4 \n",
      "Iteration: 5 \n",
      "Iteration: 6 \n",
      "Iteration: 7 \n",
      "Iteration: 8 \n",
      "Iteration: 9 \n",
      "Iteration: 10 \n",
      "Iteration: 11 \n",
      "Iteration: 12 \n",
      "Iteration: 13 \n",
      "Iteration: 14 \n",
      "Iteration: 15 \n",
      "Iteration: 16 \n",
      "Execution time in minutes for bunker: 0.40\n",
      "*** dilbit (Number of iterations: 1) ***\n",
      "Iteration: 1 \n",
      "Execution time in minutes for dilbit: 0.40\n",
      "*** jet (Number of iterations: 1) ***\n",
      "Iteration: 1 \n",
      "Execution time in minutes for jet: 0.40\n",
      "*** diesel (Number of iterations: 31.195) ***\n",
      "Iteration: 1 \n",
      "Iteration: 2 \n",
      "Iteration: 3 \n",
      "Iteration: 4 \n",
      "Iteration: 5 \n",
      "Iteration: 6 \n",
      "Iteration: 7 \n",
      "Iteration: 8 \n",
      "Iteration: 9 \n",
      "Iteration: 10 \n",
      "Iteration: 11 \n",
      "Iteration: 12 \n",
      "Iteration: 13 \n",
      "Iteration: 14 \n",
      "Iteration: 15 \n",
      "Iteration: 16 \n",
      "Iteration: 17 \n",
      "Iteration: 18 \n",
      "Iteration: 19 \n",
      "Iteration: 20 \n",
      "Iteration: 21 \n",
      "Iteration: 22 \n",
      "Iteration: 23 \n",
      "Iteration: 24 \n",
      "Iteration: 25 \n",
      "Iteration: 26 \n",
      "Iteration: 27 \n",
      "Iteration: 28 \n",
      "Iteration: 29 \n",
      "Iteration: 30 \n",
      "Iteration: 31 \n",
      "Execution time in minutes for diesel: 0.42\n",
      "*** gas (Number of iterations: 1) ***\n",
      "Iteration: 1 \n",
      "Execution time in minutes for gas: 0.42\n",
      "*** other (Number of iterations: 1) ***\n",
      "Iteration: 1 \n",
      "Execution time in minutes for other: 0.43\n"
     ]
    },
    {
     "data": {
      "text/plain": [
       "<function TextIOWrapper.close()>"
      ]
     },
     "execution_count": 7,
     "metadata": {},
     "output_type": "execute_result"
    }
   ],
   "source": [
    "#------------------------------------------------------------\n",
    "# Iterate through oil types and aggregate SOILED model output\n",
    "# in batches of \"group_runs\" number of files\n",
    "#------------------------------------------------------------\n",
    "with open(sbatch_file, 'w') as f:\n",
    "    for oil in oil_types: # loop through oils\n",
    "        this_iter = 1\n",
    "        print(f'*** {oil} (Number of iterations: {n_iter[oil]}) ***')\n",
    "        # loop through specified number of groups\n",
    "        while (this_iter <= ngroups) & (n_iter[oil]>=this_iter): \n",
    "            print(f'Iteration: {this_iter} ')\n",
    "            first = (this_iter-1) * group_runs \n",
    "            last = this_iter*group_runs\n",
    "            netcdf_file = pathlib.Path(\n",
    "                    output_list_dir,\n",
    "                    f'beaching_{oil}_{first}-{last}.nc')\n",
    "            if os.path.exists(netcdf_file)==False:\n",
    "                f.write(f\"python aggregate_oil_spills.py '{yaml_file}' {oil} {first} {last} '{output_list_dir}'\\n\")\n",
    "            this_iter += 1\n",
    "        executionTime = (time.time() - startTime)\n",
    "        print(f'Execution time in minutes for {oil}: {executionTime/60:.2f}')\n",
    "f.close"
   ]
  },
  {
   "cell_type": "code",
   "execution_count": null,
   "id": "71edd9de-8c7a-4b7a-abf1-e57afec8165b",
   "metadata": {},
   "outputs": [],
   "source": []
  }
 ],
 "metadata": {
  "kernelspec": {
   "display_name": "Python 3 (ipykernel)",
   "language": "python",
   "name": "python3"
  },
  "language_info": {
   "codemirror_mode": {
    "name": "ipython",
    "version": 3
   },
   "file_extension": ".py",
   "mimetype": "text/x-python",
   "name": "python",
   "nbconvert_exporter": "python",
   "pygments_lexer": "ipython3",
   "version": "3.8.2"
  }
 },
 "nbformat": 4,
 "nbformat_minor": 5
}
