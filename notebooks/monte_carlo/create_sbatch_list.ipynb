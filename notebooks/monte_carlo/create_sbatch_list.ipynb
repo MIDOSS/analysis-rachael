{
 "cells": [
  {
   "cell_type": "code",
   "execution_count": 1,
   "id": "802bb143-b4c8-46e2-9d2a-b4c426ed1a4f",
   "metadata": {},
   "outputs": [],
   "source": [
    "import os\n",
    "import time\n",
    "import pathlib\n",
    "import yaml\n",
    "from datetime import datetime"
   ]
  },
  {
   "cell_type": "code",
   "execution_count": 2,
   "id": "c42bb783-ee1a-413b-ac16-18855530d871",
   "metadata": {},
   "outputs": [
    {
     "data": {
      "text/plain": [
       "'13December2021'"
      ]
     },
     "execution_count": 2,
     "metadata": {},
     "output_type": "execute_result"
    }
   ],
   "source": [
    "now = datetime.now()\n",
    "dt_string = now.strftime(\"%d%B%Y\")\n",
    "dt_string"
   ]
  },
  {
   "cell_type": "code",
   "execution_count": 3,
   "id": "441479e5-c7c2-449a-a5f6-182b1f14b8b5",
   "metadata": {},
   "outputs": [],
   "source": [
    "startTime = time.time()\n",
    "yaml_file=pathlib.Path('/scratch/rmueller/MIDOSS/Results/MOHID_results_locations_27112021_12:05:17.yaml')\n",
    "group_runs = 500\n",
    "ngroups = 15  \n",
    "#------------------------------------------------------------\n",
    "# Global variables\n",
    "#------------------------------------------------------------\n",
    "oil_types = ['akns', 'bunker', 'dilbit', 'jet', 'diesel', 'gas', 'other']"
   ]
  },
  {
   "cell_type": "code",
   "execution_count": 3,
   "id": "1f8cdf86-ee43-499d-8785-51c59c71c1e6",
   "metadata": {},
   "outputs": [
    {
     "name": "stdout",
     "output_type": "stream",
     "text": [
      "/scratch/rmueller/MIDOSS/Results/10December2021 already exists\n",
      "*** akns (Number of iterations: 1) ***\n",
      "Iteration: 1 \n",
      "Execution time in minutes for akns: 0.07\n",
      "*** bunker (Number of iterations: 6.696) ***\n",
      "Iteration: 1 \n",
      "Iteration: 2 \n",
      "Iteration: 3 \n",
      "Iteration: 4 \n",
      "Iteration: 5 \n",
      "Iteration: 6 \n",
      "Execution time in minutes for bunker: 0.07\n",
      "*** dilbit (Number of iterations: 1) ***\n",
      "Iteration: 1 \n",
      "Execution time in minutes for dilbit: 0.07\n",
      "*** jet (Number of iterations: 1) ***\n",
      "Iteration: 1 \n",
      "Execution time in minutes for jet: 0.07\n",
      "*** diesel (Number of iterations: 12.478) ***\n",
      "Iteration: 1 \n",
      "Iteration: 2 \n",
      "Iteration: 3 \n",
      "Iteration: 4 \n",
      "Iteration: 5 \n",
      "Iteration: 6 \n",
      "Iteration: 7 \n",
      "Iteration: 8 \n",
      "Iteration: 9 \n",
      "Iteration: 10 \n",
      "Iteration: 11 \n",
      "Iteration: 12 \n",
      "Execution time in minutes for diesel: 0.07\n",
      "*** gas (Number of iterations: 1) ***\n",
      "Iteration: 1 \n",
      "Execution time in minutes for gas: 0.07\n",
      "*** other (Number of iterations: 1) ***\n",
      "Iteration: 1 \n",
      "Execution time in minutes for other: 0.07\n"
     ]
    },
    {
     "data": {
      "text/plain": [
       "<function TextIOWrapper.close()>"
      ]
     },
     "execution_count": 3,
     "metadata": {},
     "output_type": "execute_result"
    }
   ],
   "source": [
    "#------------------------------------------------------------\n",
    "# Output directory\n",
    "#------------------------------------------------------------\n",
    "# add date tag to sbatch .list filename\n",
    "now = datetime.now()\n",
    "dt_string = now.strftime(\"%d%B%Y\")\n",
    "output_list_dir=f'/scratch/rmueller/MIDOSS/Results/{dt_string}' \n",
    "\n",
    "# create output directory if it doesn't already exist\n",
    "try:\n",
    "    os.makedir(output_list_dir)\n",
    "except:\n",
    "    print(f'{output_list_dir} already exists')\n",
    "sbatch_file = pathlib.Path(\n",
    "    output_list_dir,\n",
    "    f'aggregate_oil_spills_{dt_string}.list')\n",
    "#------------------------------------------------------------\n",
    "# Load yaml file name with list of output netcdf files to aggregate\n",
    "#------------------------------------------------------------\n",
    "with yaml_file.open(\"rt\") as f:\n",
    "    run_paths = yaml.safe_load(f)   \n",
    "n_iter={}\n",
    "for oil in oil_types:\n",
    "    n_iter[oil]=max(1,len(run_paths[oil])/group_runs)\n",
    "#------------------------------------------------------------\n",
    "# Iterate through oil types and aggregate SOILED model output\n",
    "# in batches of \"group_runs\" number of files\n",
    "#------------------------------------------------------------\n",
    "with open(sbatch_file, 'w') as f:\n",
    "    for oil in oil_types: # loop through oils\n",
    "        this_iter = 1\n",
    "        print(f'*** {oil} (Number of iterations: {n_iter[oil]}) ***')\n",
    "        # loop through specified number of groups\n",
    "        while (this_iter <= ngroups) & (n_iter[oil]>=this_iter): \n",
    "            print(f'Iteration: {this_iter} ')\n",
    "            first = (this_iter-1) * group_runs \n",
    "            last = this_iter*group_runs\n",
    "            #------------------------------------------------------------\n",
    "            # write to file the sbatch submission command\n",
    "            f.write(f\"python aggregate_oil_spills.py '{yaml_file}' {oil} {first} {last} '{output_list_dir}'\\n\")\n",
    "            # #------------------------------------------------------------\n",
    "            # # Define output filename\n",
    "            # aggregated_csv = output_list_dir / f'{oil}_runset{this_iter}_filenames.csv'\n",
    "            # #------------------------------------------------------------\n",
    "            # # Save output netcdf and a .csv file containing list of runs\n",
    "            # beaching.to_netcdf(aggregated_beaching_nc, engine='h5netcdf')\n",
    "            # surface.to_netcdf(aggregated_surface_nc, engine='h5netcdf')\n",
    "            # #numpy.savetxt(aggregated_csv, files, delimiter =\", \", fmt ='% s')\n",
    "            this_iter += 1\n",
    "        executionTime = (time.time() - startTime)\n",
    "        print(f'Execution time in minutes for {oil}: {executionTime/60:.2f}')\n",
    "f.close"
   ]
  },
  {
   "cell_type": "markdown",
   "id": "5cdba124-d76d-4164-90cc-bf1d04f173e2",
   "metadata": {},
   "source": [
    "### Create a secondary file for runs that didn't complete "
   ]
  },
  {
   "cell_type": "code",
   "execution_count": 4,
   "id": "51005788-f1c0-4acf-a940-1e42fb9d5e42",
   "metadata": {},
   "outputs": [],
   "source": [
    "output_list_dir=f'/scratch/rmueller/MIDOSS/Results/10December2021' \n",
    "sbatch_file = pathlib.Path(\n",
    "    output_list_dir,\n",
    "    f'aggregate_oil_spills_LONG2_{dt_string}.list')\n",
    "with yaml_file.open(\"rt\") as f:\n",
    "    run_paths = yaml.safe_load(f)   \n",
    "n_iter={}\n",
    "for oil in oil_types:\n",
    "    n_iter[oil]=max(1,len(run_paths[oil])/group_runs)\n"
   ]
  },
  {
   "cell_type": "code",
   "execution_count": 5,
   "id": "d46733ec-b2c3-4729-84a8-1408219127c6",
   "metadata": {},
   "outputs": [
    {
     "name": "stdout",
     "output_type": "stream",
     "text": [
      "*** akns (Number of iterations: 1) ***\n",
      "Iteration: 1 \n",
      "Execution time in minutes for akns: 0.40\n",
      "*** bunker (Number of iterations: 6.696) ***\n",
      "Iteration: 1 \n",
      "Iteration: 2 \n",
      "Iteration: 3 \n",
      "Iteration: 4 \n",
      "Iteration: 5 \n",
      "Iteration: 6 \n",
      "Execution time in minutes for bunker: 0.41\n",
      "*** dilbit (Number of iterations: 1) ***\n",
      "Iteration: 1 \n",
      "Execution time in minutes for dilbit: 0.41\n",
      "*** jet (Number of iterations: 1) ***\n",
      "Iteration: 1 \n",
      "Execution time in minutes for jet: 0.41\n",
      "*** diesel (Number of iterations: 12.478) ***\n",
      "Iteration: 1 \n",
      "Iteration: 2 \n",
      "Iteration: 3 \n",
      "Iteration: 4 \n",
      "Iteration: 5 \n",
      "Iteration: 6 \n",
      "Iteration: 7 \n",
      "Iteration: 8 \n",
      "Iteration: 9 \n",
      "Iteration: 10 \n",
      "Iteration: 11 \n",
      "Iteration: 12 \n",
      "Execution time in minutes for diesel: 0.44\n",
      "*** gas (Number of iterations: 1) ***\n",
      "Iteration: 1 \n",
      "Execution time in minutes for gas: 0.44\n",
      "*** other (Number of iterations: 1) ***\n",
      "Iteration: 1 \n",
      "Execution time in minutes for other: 0.44\n"
     ]
    },
    {
     "data": {
      "text/plain": [
       "<function TextIOWrapper.close()>"
      ]
     },
     "execution_count": 5,
     "metadata": {},
     "output_type": "execute_result"
    }
   ],
   "source": [
    "#------------------------------------------------------------\n",
    "# Iterate through oil types and aggregate SOILED model output\n",
    "# in batches of \"group_runs\" number of files\n",
    "#------------------------------------------------------------\n",
    "with open(sbatch_file, 'w') as f:\n",
    "    for oil in oil_types: # loop through oils\n",
    "        this_iter = 1\n",
    "        print(f'*** {oil} (Number of iterations: {n_iter[oil]}) ***')\n",
    "        # loop through specified number of groups\n",
    "        while (this_iter <= ngroups) & (n_iter[oil]>=this_iter): \n",
    "            print(f'Iteration: {this_iter} ')\n",
    "            first = (this_iter-1) * group_runs \n",
    "            last = this_iter*group_runs\n",
    "            netcdf_file = pathlib.Path(\n",
    "                    output_list_dir,\n",
    "                    f'beaching_{oil}_{first}-{last}.nc')\n",
    "            if os.path.exists(netcdf_file)==False:\n",
    "                f.write(f\"python aggregate_oil_spills.py '{yaml_file}' {oil} {first} {last} '{output_list_dir}'\\n\")\n",
    "            this_iter += 1\n",
    "        executionTime = (time.time() - startTime)\n",
    "        print(f'Execution time in minutes for {oil}: {executionTime/60:.2f}')\n",
    "f.close"
   ]
  }
 ],
 "metadata": {
  "kernelspec": {
   "display_name": "Python 3 (ipykernel)",
   "language": "python",
   "name": "python3"
  },
  "language_info": {
   "codemirror_mode": {
    "name": "ipython",
    "version": 3
   },
   "file_extension": ".py",
   "mimetype": "text/x-python",
   "name": "python",
   "nbconvert_exporter": "python",
   "pygments_lexer": "ipython3",
   "version": "3.8.2"
  }
 },
 "nbformat": 4,
 "nbformat_minor": 5
}
