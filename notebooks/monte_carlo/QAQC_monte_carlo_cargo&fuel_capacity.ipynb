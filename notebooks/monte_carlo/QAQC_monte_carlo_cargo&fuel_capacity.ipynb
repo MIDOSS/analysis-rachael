{
 "cells": [
  {
   "cell_type": "markdown",
   "id": "graduate-monroe",
   "metadata": {},
   "source": [
    "## This notebook evaluates the fuel and cargo capacities by vessel type to make sure that our length to volume estimates are OK\n",
    "\n",
    "This notebook requires an activation of the `monte_carlo` environment setup \n",
    "located in `analysis-rachael/env`\n",
    "```\n",
    "conda activate monte_carlo\n",
    "```\n",
    "\n",
    "The newest versions of the monte-carlo spills files can be found on Salish at the following location:\n",
    "`/ocean/rmueller/MIDOSS/spill_files_TLPcorrected`"
   ]
  },
  {
   "cell_type": "code",
   "execution_count": 1,
   "id": "recreational-barrel",
   "metadata": {},
   "outputs": [],
   "source": [
    "import pandas as pd\n",
    "import numpy as np\n",
    "import matplotlib.pyplot as plt\n",
    "import yaml\n",
    "from monte_carlo_utils import decimal_divide\n",
    "from pathlib import Path"
   ]
  },
  {
   "cell_type": "code",
   "execution_count": 2,
   "id": "young-application",
   "metadata": {},
   "outputs": [
    {
     "data": {
      "text/html": [
       "<div>\n",
       "<style scoped>\n",
       "    .dataframe tbody tr th:only-of-type {\n",
       "        vertical-align: middle;\n",
       "    }\n",
       "\n",
       "    .dataframe tbody tr th {\n",
       "        vertical-align: top;\n",
       "    }\n",
       "\n",
       "    .dataframe thead th {\n",
       "        text-align: right;\n",
       "    }\n",
       "</style>\n",
       "<table border=\"1\" class=\"dataframe\">\n",
       "  <thead>\n",
       "    <tr style=\"text-align: right;\">\n",
       "      <th></th>\n",
       "      <th>spill_date_hour</th>\n",
       "      <th>run_days</th>\n",
       "      <th>spill_lon</th>\n",
       "      <th>spill_lat</th>\n",
       "      <th>geotiff_x_index</th>\n",
       "      <th>geotiff_y_index</th>\n",
       "      <th>vessel_type</th>\n",
       "      <th>vessel_mmsi</th>\n",
       "      <th>vessel_origin</th>\n",
       "      <th>vessel_dest</th>\n",
       "      <th>fuel_capacity</th>\n",
       "      <th>cargo_capacity</th>\n",
       "      <th>spill_volume</th>\n",
       "      <th>fuel_cargo</th>\n",
       "      <th>Lagrangian_template</th>\n",
       "    </tr>\n",
       "  </thead>\n",
       "  <tbody>\n",
       "    <tr>\n",
       "      <th>0</th>\n",
       "      <td>2018-03-30 18:00</td>\n",
       "      <td>7</td>\n",
       "      <td>-122.772003</td>\n",
       "      <td>48.346415</td>\n",
       "      <td>280</td>\n",
       "      <td>573</td>\n",
       "      <td>barge</td>\n",
       "      <td>366980170</td>\n",
       "      <td>Canada</td>\n",
       "      <td>US</td>\n",
       "      <td>710000.0</td>\n",
       "      <td>32000000.0</td>\n",
       "      <td>291100.0</td>\n",
       "      <td>fuel</td>\n",
       "      <td>Lagrangian_diesel.dat</td>\n",
       "    </tr>\n",
       "  </tbody>\n",
       "</table>\n",
       "</div>"
      ],
      "text/plain": [
       "    spill_date_hour  run_days   spill_lon  spill_lat  geotiff_x_index  \\\n",
       "0  2018-03-30 18:00         7 -122.772003  48.346415              280   \n",
       "\n",
       "   geotiff_y_index vessel_type  vessel_mmsi vessel_origin vessel_dest  \\\n",
       "0              573       barge    366980170        Canada          US   \n",
       "\n",
       "   fuel_capacity  cargo_capacity  spill_volume fuel_cargo  \\\n",
       "0       710000.0      32000000.0      291100.0       fuel   \n",
       "\n",
       "     Lagrangian_template  \n",
       "0  Lagrangian_diesel.dat  "
      ]
     },
     "execution_count": 2,
     "metadata": {},
     "output_type": "execute_result"
    }
   ],
   "source": [
    "import os\n",
    "from glob import glob\n",
    "\n",
    "filenames = sorted(glob(os.path.join('/Users/rmueller/Data/MIDOSS/monte_carlo/spill_files_TLPcorrected/',\"*.csv\")))\n",
    "\n",
    "df = pd.read_csv(filenames[0])\n",
    "df.head(1)"
   ]
  },
  {
   "cell_type": "code",
   "execution_count": 3,
   "id": "prerequisite-bandwidth",
   "metadata": {},
   "outputs": [],
   "source": [
    "mc100k = pd.DataFrame()\n",
    "tanker = df.loc[\n",
    "        (df.vessel_type == 'tanker'),\n",
    "        ['cargo_capacity', 'fuel_capacity']\n",
    "    ]"
   ]
  },
  {
   "cell_type": "code",
   "execution_count": 4,
   "id": "cloudy-mouse",
   "metadata": {},
   "outputs": [
    {
     "data": {
      "text/html": [
       "<div>\n",
       "<style scoped>\n",
       "    .dataframe tbody tr th:only-of-type {\n",
       "        vertical-align: middle;\n",
       "    }\n",
       "\n",
       "    .dataframe tbody tr th {\n",
       "        vertical-align: top;\n",
       "    }\n",
       "\n",
       "    .dataframe thead th {\n",
       "        text-align: right;\n",
       "    }\n",
       "</style>\n",
       "<table border=\"1\" class=\"dataframe\">\n",
       "  <thead>\n",
       "    <tr style=\"text-align: right;\">\n",
       "      <th></th>\n",
       "      <th>cargo_capacity</th>\n",
       "      <th>fuel_capacity</th>\n",
       "    </tr>\n",
       "  </thead>\n",
       "  <tbody>\n",
       "    <tr>\n",
       "      <th>32</th>\n",
       "      <td>185447000.0</td>\n",
       "      <td>4155000.0</td>\n",
       "    </tr>\n",
       "    <tr>\n",
       "      <th>52</th>\n",
       "      <td>7593628.0</td>\n",
       "      <td>740700.0</td>\n",
       "    </tr>\n",
       "    <tr>\n",
       "      <th>116</th>\n",
       "      <td>185447000.0</td>\n",
       "      <td>4155000.0</td>\n",
       "    </tr>\n",
       "    <tr>\n",
       "      <th>222</th>\n",
       "      <td>53000000.0</td>\n",
       "      <td>1956000.0</td>\n",
       "    </tr>\n",
       "    <tr>\n",
       "      <th>293</th>\n",
       "      <td>53000000.0</td>\n",
       "      <td>1956000.0</td>\n",
       "    </tr>\n",
       "    <tr>\n",
       "      <th>...</th>\n",
       "      <td>...</td>\n",
       "      <td>...</td>\n",
       "    </tr>\n",
       "    <tr>\n",
       "      <th>9859</th>\n",
       "      <td>126211000.0</td>\n",
       "      <td>2984000.0</td>\n",
       "    </tr>\n",
       "    <tr>\n",
       "      <th>9891</th>\n",
       "      <td>53000000.0</td>\n",
       "      <td>1956000.0</td>\n",
       "    </tr>\n",
       "    <tr>\n",
       "      <th>9959</th>\n",
       "      <td>185447000.0</td>\n",
       "      <td>4155000.0</td>\n",
       "    </tr>\n",
       "    <tr>\n",
       "      <th>9986</th>\n",
       "      <td>53000000.0</td>\n",
       "      <td>1956000.0</td>\n",
       "    </tr>\n",
       "    <tr>\n",
       "      <th>9997</th>\n",
       "      <td>185447000.0</td>\n",
       "      <td>4155000.0</td>\n",
       "    </tr>\n",
       "  </tbody>\n",
       "</table>\n",
       "<p>302 rows × 2 columns</p>\n",
       "</div>"
      ],
      "text/plain": [
       "      cargo_capacity  fuel_capacity\n",
       "32       185447000.0      4155000.0\n",
       "52         7593628.0       740700.0\n",
       "116      185447000.0      4155000.0\n",
       "222       53000000.0      1956000.0\n",
       "293       53000000.0      1956000.0\n",
       "...              ...            ...\n",
       "9859     126211000.0      2984000.0\n",
       "9891      53000000.0      1956000.0\n",
       "9959     185447000.0      4155000.0\n",
       "9986      53000000.0      1956000.0\n",
       "9997     185447000.0      4155000.0\n",
       "\n",
       "[302 rows x 2 columns]"
      ]
     },
     "execution_count": 4,
     "metadata": {},
     "output_type": "execute_result"
    }
   ],
   "source": [
    "pd.concat([tanker, tanker])"
   ]
  },
  {
   "cell_type": "code",
   "execution_count": 5,
   "id": "naval-chicago",
   "metadata": {},
   "outputs": [],
   "source": [
    "# create a dataframe with zero transfers\n",
    "tanker_mc100k = pd.DataFrame()\n",
    "atb_mc100k = pd.DataFrame()\n",
    "barge_mc100k = pd.DataFrame()\n",
    "\n",
    "# Loop through files and add transfers to \"transfers\" for each facility\n",
    "for fn in filenames:\n",
    "    df = pd.read_csv(fn)\n",
    "    \n",
    "    # rename mc terminals to match DOE\n",
    "    df['vessel_dest'] = df['vessel_dest'].replace(\n",
    "        ['Marathon Anacortes Refinery (formerly Tesoro)'], 'Andeavor Anacortes Refinery (formerly Tesoro)'\n",
    "    )\n",
    "    df['vessel_origin'] = df['vessel_origin'].replace(\n",
    "        ['Marathon Anacortes Refinery (formerly Tesoro)'],'Andeavor Anacortes Refinery (formerly Tesoro)'\n",
    "    )\n",
    "\n",
    "    # for imports\n",
    "    tanker = df.loc[\n",
    "        (df.vessel_type == 'tanker'),\n",
    "        ['cargo_capacity', 'fuel_capacity']\n",
    "    ]\n",
    "    atb = df.loc[\n",
    "        (df.vessel_type == 'atb'),\n",
    "        ['cargo_capacity', 'fuel_capacity']\n",
    "    ]\n",
    "    barge = df.loc[\n",
    "        (df.vessel_type == 'barge'),\n",
    "        ['cargo_capacity', 'fuel_capacity']\n",
    "    ]\n",
    "    tanker_mc100k = pd.concat([tanker_mc100k, tanker])\n",
    "    atb_mc100k = pd.concat([atb_mc100k, atb])\n",
    "    barge_mc100k = pd.concat([barge_mc100k, barge])"
   ]
  },
  {
   "cell_type": "code",
   "execution_count": 6,
   "id": "alert-developer",
   "metadata": {},
   "outputs": [
    {
     "data": {
      "text/plain": [
       "(1557, 2)"
      ]
     },
     "execution_count": 6,
     "metadata": {},
     "output_type": "execute_result"
    }
   ],
   "source": [
    "tanker_mc100k.shape"
   ]
  },
  {
   "cell_type": "code",
   "execution_count": 7,
   "id": "exclusive-fellow",
   "metadata": {},
   "outputs": [
    {
     "data": {
      "text/html": [
       "<div>\n",
       "<style scoped>\n",
       "    .dataframe tbody tr th:only-of-type {\n",
       "        vertical-align: middle;\n",
       "    }\n",
       "\n",
       "    .dataframe tbody tr th {\n",
       "        vertical-align: top;\n",
       "    }\n",
       "\n",
       "    .dataframe thead th {\n",
       "        text-align: right;\n",
       "    }\n",
       "</style>\n",
       "<table border=\"1\" class=\"dataframe\">\n",
       "  <thead>\n",
       "    <tr style=\"text-align: right;\">\n",
       "      <th></th>\n",
       "      <th>cargo_capacity</th>\n",
       "      <th>fuel_capacity</th>\n",
       "    </tr>\n",
       "  </thead>\n",
       "  <tbody>\n",
       "    <tr>\n",
       "      <th>32</th>\n",
       "      <td>185447000.0</td>\n",
       "      <td>4155000.0</td>\n",
       "    </tr>\n",
       "    <tr>\n",
       "      <th>52</th>\n",
       "      <td>7593628.0</td>\n",
       "      <td>740700.0</td>\n",
       "    </tr>\n",
       "    <tr>\n",
       "      <th>116</th>\n",
       "      <td>185447000.0</td>\n",
       "      <td>4155000.0</td>\n",
       "    </tr>\n",
       "    <tr>\n",
       "      <th>222</th>\n",
       "      <td>53000000.0</td>\n",
       "      <td>1956000.0</td>\n",
       "    </tr>\n",
       "    <tr>\n",
       "      <th>293</th>\n",
       "      <td>53000000.0</td>\n",
       "      <td>1956000.0</td>\n",
       "    </tr>\n",
       "  </tbody>\n",
       "</table>\n",
       "</div>"
      ],
      "text/plain": [
       "     cargo_capacity  fuel_capacity\n",
       "32      185447000.0      4155000.0\n",
       "52        7593628.0       740700.0\n",
       "116     185447000.0      4155000.0\n",
       "222      53000000.0      1956000.0\n",
       "293      53000000.0      1956000.0"
      ]
     },
     "execution_count": 7,
     "metadata": {},
     "output_type": "execute_result"
    }
   ],
   "source": [
    "tanker_mc100k.head(5)"
   ]
  },
  {
   "cell_type": "code",
   "execution_count": 15,
   "id": "structured-dress",
   "metadata": {},
   "outputs": [
    {
     "name": "stdout",
     "output_type": "stream",
     "text": [
      "--- 033 [TANKER 033 [ CARGO VOLUMES ---\n",
      "Min tanker capacity: 7.59e+06 liters\n",
      "Max tanker capacity: 1.85e+08 liters\n",
      "Expected range: 8e06 liters (Small Tanker,< 150 m) to ~2e08 liters (SuezMax, 287 m)\n",
      "--- ATB CARGO VOLUMES---\n",
      "Min atb capacity: 1.40e+07 liters\n",
      "Max atb capacity: 2.86e+07 liters\n",
      "Expected range: 4e06 liters (Island Trader)  to 3e07 liters (Kirby 185-01) \n",
      "--- BARGE CARGO VOLUMES ---\n",
      "Min barge capacity: 3.20e+07 liters\n",
      "Max barge capacity: 3.20e+07 liters\n",
      "Expected range: 1.5e06 liters  to 3.2e07 liters \n"
     ]
    }
   ],
   "source": [
    "print('--- TANKER CARGO VOLUMES ---')\n",
    "print(f'Min tanker capacity: {tanker_mc100k.cargo_capacity.min():.2e} liters')\n",
    "print(f'Max tanker capacity: {tanker_mc100k.cargo_capacity.max():.2e} liters')\n",
    "print('Expected range: 8e06 liters (Small Tanker,< 150 m) to ~2e08 liters (SuezMax, 287 m)')\n",
    "print('--- ATB CARGO VOLUMES---')\n",
    "print(f'Min atb capacity: {atb_mc100k.cargo_capacity.min():.2e} liters')\n",
    "print(f'Max atb capacity: {atb_mc100k.cargo_capacity.max():.2e} liters')\n",
    "print('Expected range: 4e06 liters (Island Trader)  to 3e07 liters (Kirby 185-01) ')\n",
    "print('--- BARGE CARGO VOLUMES ---')\n",
    "print(f'Min barge capacity: {barge_mc100k.cargo_capacity.min():.2e} liters')\n",
    "print(f'Max barge capacity: {barge_mc100k.cargo_capacity.max():.2e} liters')\n",
    "print('Expected range: 1.5e06 liters  to 3.2e07 liters ')"
   ]
  },
  {
   "cell_type": "code",
   "execution_count": 29,
   "id": "better-response",
   "metadata": {},
   "outputs": [
    {
     "data": {
      "text/plain": [
       "Text(0.5, 1.0, 'barge spill by MMSI, based on 100,000 monte carlo spills')"
      ]
     },
     "execution_count": 29,
     "metadata": {},
     "output_type": "execute_result"
    },
    {
     "data": {
      "image/png": "[encoded data removed]",
      "text/plain": [
       "<Figure size 720x360 with 1 Axes>"
      ]
     },
     "metadata": {
      "needs_background": "light"
     },
     "output_type": "display_data"
    },
    {
     "data": {
      "image/png": "[encoded data removed]",
      "text/plain": [
       "<Figure size 720x360 with 1 Axes>"
      ]
     },
     "metadata": {
      "needs_background": "light"
     },
     "output_type": "display_data"
    },
    {
     "data": {
      "image/png": "[encoded data removed]",
      "text/plain": [
       "<Figure size 720x360 with 1 Axes>"
      ]
     },
     "metadata": {
      "needs_background": "light"
     },
     "output_type": "display_data"
    }
   ],
   "source": [
    "fig, axs = plt.subplots(1, 1,figsize=(10,5))\n",
    "df.loc[\n",
    "    (df.vessel_type == 'tanker'),\n",
    "    ['vessel_mmsi', 'cargo_capacity']\n",
    "].groupby('vessel_mmsi').count().plot(ax=axs,kind = \"bar\")\n",
    "axs.legend('')\n",
    "axs.set_ylabel('Number of spills')\n",
    "axs.set_title('Tanker spill by MMSI, based on 100,000 monte carlo spills')\n",
    "\n",
    "fig, axs = plt.subplots(1, 1,figsize=(10,5))\n",
    "df.loc[\n",
    "    (df.vessel_type == 'atb'),\n",
    "    ['vessel_mmsi', 'cargo_capacity']\n",
    "].groupby('vessel_mmsi').count().plot(ax=axs,kind = \"bar\")\n",
    "axs.legend('')\n",
    "axs.set_ylabel('Number of spills')\n",
    "axs.set_title('ATB spill by MMSI, based on 100,000 monte carlo spills')\n",
    "\n",
    "fig, axs = plt.subplots(1, 1,figsize=(10,5))\n",
    "df.loc[\n",
    "    (df.vessel_type == 'barge'),\n",
    "    ['vessel_mmsi', 'cargo_capacity']\n",
    "].groupby('vessel_mmsi').count().plot(ax=axs,kind = \"bar\")\n",
    "axs.legend('')\n",
    "axs.set_ylabel('Number of spills')\n",
    "axs.set_title('barge spill by MMSI, based on 100,000 monte carlo spills')"
   ]
  },
  {
   "cell_type": "markdown",
   "id": "encouraging-helping",
   "metadata": {},
   "source": [
    "## EXPECTED VALUE NOTES (from get_oil_capacity.ipynb)\n",
    "### Tankers\n",
    "Capacity, length and hfo_to_diesel comparisons from [This website](https://silo.tips/download/suezmax-oil-tanker-tankers-166300-dwt#)\n",
    "which Iain Braidwood has verified as accurate. \n",
    "\n",
    "\n",
    "From `oil_attribution.ipynb`: Minimun tanker cargo capacity is 7,593,628 liters, based on small tanker size, and Maximum tanker cargo capacity is 185,447,000 liters: Corresponding to tank capacity of Suez-Max tankers as AIS data shows tanker lengths up to 287 m\n",
    "\n",
    "### ATB cargo \n",
    "Based on information on Harley Marine Services for tank barges that received oil cargo from WA oil refineries \n",
    "in 2018, as shown in Dept. of Ecology database.  \n",
    "See the OilCapacity tab in our [ATB_MMSI spreadsheet]( https://docs.google.com/spreadsheets/d/1dlT0JydkFG43LorqgtHle5IN6caRYjf_3qLrUYqANDY/edit#gid=591561201)\n",
    "\n",
    "- **Max cargo** Capacity based on Nancy Peterkin, **Kirby 185-01** (185,000 bbls = 28,300.22 m3)\n",
    "- **Min cargo** capacity based on Harley Marine tank barge **Investigator** (16,007 bbls = 2,544.95 m3)\n",
    "\n",
    "The [Origin/Destination analysis spreadsheet](https://docs.google.com/spreadsheets/d/1yQk01wImUr_Socihx6JXUgjKvZ5-LeqbdAvqE5hp38I/edit#gid=768387675) shows vessel lengths for oil tank ATBs in AIS ranging from 23 m - 209 m. There are two clear categories: \n",
    "1. lengths < 50 m, \n",
    "2. lengths > 140 m.  \n",
    "\n",
    "We treat the former as reflecting lengths of the tug-only and the latter as reflecting lengths of tug-barge coupling.  We reviewed the MMSI for these cases and found no instances in which an MMSI reported sometimes < 50 m and other times as > 140 m (or visa versa).  These different recordings appear to be reliable and specific to a particular MMSI.  \n",
    "\n",
    "From `oil_attribution.ipynb`: Minimum ATB cargo volume is set to 4,000,000 liters based on the smallest load of known ATBs (Island Trader: oil_capacity.xlsx).  Maximum ATB cargo volume is set to 29,413,150 liters based on the largest load of known ATBs (Kirby 185-01: oil_capacity.xlsx).  NOTE: There are different estimates of Kirby 185-01 volumes.  This difference is because some reportings use a % of maximum ~96% as maximum volume.  Our upper bound is based on 100% capacity.\n",
    "\n",
    "\n",
    "### Barge cargo\n",
    "vessel length ranges from 0m to 100m.  There are 36 non-ATB tugs with a reported length of 0m. 6 out of 401 vessels report a length greater than 50m.  \n",
    "\n",
    "From `oil_attribution.ipynb`: Minimum barge cargo volume is set to 1,500,000 liters based on value of 1,589,900 liters in  3A-10 of [DOE report](https://fortress.wa.gov/ecy/publications/documents/96250.pdf), and maximum barge cargo volume is set to 32,000,000 liters based on value of 31,797,444 of 3A-10 of [DOE report](https://fortress.wa.gov/ecy/publications/documents/96250.pdf)\n"
   ]
  }
 ],
 "metadata": {
  "kernelspec": {
   "display_name": "Python 3",
   "language": "python",
   "name": "python3"
  },
  "language_info": {
   "codemirror_mode": {
    "name": "ipython",
    "version": 3
   },
   "file_extension": ".py",
   "mimetype": "text/x-python",
   "name": "python",
   "nbconvert_exporter": "python",
   "pygments_lexer": "ipython3",
   "version": "3.9.2"
  }
 },
 "nbformat": 4,
 "nbformat_minor": 5
}
