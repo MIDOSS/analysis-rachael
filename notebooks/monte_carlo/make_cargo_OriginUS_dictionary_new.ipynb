{
 "cells": [
  {
   "cell_type": "markdown",
   "id": "false-glory",
   "metadata": {},
   "source": [
    "---\n",
    "# Origin US file\n",
    "---"
   ]
  },
  {
   "cell_type": "markdown",
   "id": "objective-civilian",
   "metadata": {},
   "source": [
    "Use `analysis-rachael/env/monte_carlo.yaml` to create an environment for this notebook:\n",
    "```\n",
    " conda env create -f [analysis-rachael/env/monte_carlo.yaml]\n",
    "```\n",
    "or, to activate this environment, use\n",
    "```\n",
    " conda activate monte_carlo\n",
    "```\n",
    "To deactivate an active environment, use\n",
    "```\n",
    " conda deactivate\n",
    "```"
   ]
  },
  {
   "cell_type": "code",
   "execution_count": 1,
   "id": "usual-relief",
   "metadata": {},
   "outputs": [],
   "source": [
    "import pandas as pd\n",
    "import numpy as np\n",
    "import matplotlib.pyplot as plt\n",
    "import yaml"
   ]
  },
  {
   "cell_type": "code",
   "execution_count": 2,
   "id": "basic-austria",
   "metadata": {},
   "outputs": [],
   "source": [
    "# User inputs\n",
    "file_dir  = '/Users/rmueller/Data/MIDOSS/DeptOfEcology/'\n",
    "file_name = 'MuellerTrans4-30-20.xlsx'\n",
    "\n",
    "# This is the precision used to calculate oil type weights \n",
    "# Trial and error showed that a precision of 2 is neccessary for weights\n",
    "# to sum to 1.0\n",
    "precision = 2\n",
    "\n",
    "# The following list includes facilities used in Casey's origin/destination analysis \n",
    "# with names matching the Dept. of Ecology (DOE) database.  \n",
    "# For example, the shapefile \"Maxum Petroleum - Harbor Island Terminal\" is labeled as 'Maxum (Rainer Petroleum)'\n",
    "# in the DOE database.  I use the Ecology language here and will need to translate to Shapefile speak \n",
    "facility_names = [ 'BP Cherry Point Refinery', 'Shell Puget Sound Refinery', 'Shell Oil LP Seattle Distribution Terminal',\n",
    "                   'Maxum (Rainer Petroleum)', 'Tidewater Snake River Terminal','Nustar Energy Tacoma', \n",
    "                   'SeaPort Sound Terminal', 'Tesoro Vancouver Terminal','Phillips 66 Ferndale Refinery', \n",
    "                   'Phillips 66 Tacoma Terminal', 'Andeavor Anacortes Refinery (formerly Tesoro)',\n",
    "                   'Tesoro Port Angeles Terminal','U.S. Oil & Refining','Naval Air Station Whidbey Island (NASWI)',\n",
    "                   'NAVSUP Manchester', 'Alon Asphalt Company (Paramount Petroleum)', 'Kinder Morgan Liquids Terminal - Harbor Island',\n",
    "                   'Nustar Energy Tacoma', 'Tesoro Pasco Terminal', 'REG Grays Harbor, LLC', 'Tidewater Vancouver Terminal',\n",
    "                   'TLP Management Services LLC (TMS)']\n",
    "\n",
    "# define vessel and oil types to include in .yaml file\n",
    "vessel_types = ['atb', 'barge', 'tanker']\n",
    "oil_types    = ['akns', 'bunker', 'dilbit', 'jet', 'diesel', 'gas', 'other']\n",
    "data_types    = ['total_gallons', 'fraction_of_total', 'number_of_transfers']"
   ]
  },
  {
   "cell_type": "code",
   "execution_count": 3,
   "id": "defensive-process",
   "metadata": {},
   "outputs": [],
   "source": [
    "# Import columns are: (G) Deliverer, (H) Receiver, (O) Region, (P) Product, \n",
    "#                     (Q) Quantity in Gallons, (R) Transfer Type (oiling, Cargo, or Other)', \n",
    "#                     (w) DelivererTypeDescription, (x) ReceiverTypeDescription \n",
    "df = pd.read_excel(f'{file_dir}{file_name}',sheet_name='Vessel Oil Transfer', \n",
    "                   usecols=\"G,H,P,Q,R,W,X\")\n",
    "\n",
    "df.TransferQtyInGallon = df.TransferQtyInGallon.astype(float).round(precision)\n",
    "\n",
    "# housekeeping\n",
    "df['Receiver'] = df['Receiver'].str.replace('US Oil Tacoma ', 'U.S. Oil & Refining')\n",
    "df['Receiver'] = df['Receiver'].str.replace('TLP', 'TLP Management Services LLC (TMS)')\n",
    "df['Deliverer'] = df['Deliverer'].str.replace('US Oil Tacoma ', 'U.S. Oil & Refining')\n",
    "df['Deliverer'] = df['Deliverer'].str.replace('TLP', 'TLP Management Services LLC (TMS)')"
   ]
  },
  {
   "cell_type": "markdown",
   "id": "associate-pipeline",
   "metadata": {},
   "source": [
    "## Create name lists for the DOE oil types used in our monte-carlo oil categories"
   ]
  },
  {
   "cell_type": "code",
   "execution_count": 4,
   "id": "nervous-vessel",
   "metadata": {},
   "outputs": [
    {
     "data": {
      "text/plain": [
       "{'akns': ['CRUDE OIL', 'BAKKEN'],\n",
       " 'bunker': ['BUNKER OIL/HFO'],\n",
       " 'dilbit': ['BITUMEN OIL (DIL OR SYN)'],\n",
       " 'jet': ['JET FUEL/KEROSENE'],\n",
       " 'diesel': ['DIESEL/MARINE GAS OIL', 'BIODIESEL', 'DIESEL LOW SULPHUR (ULSD)'],\n",
       " 'gas': ['GASOLINE'],\n",
       " 'other': ['ETHANOL',\n",
       "  'LUBE OIL/MOTOR OIL',\n",
       "  'Cat Feed/VGO',\n",
       "  'CUTTER STOCK',\n",
       "  'OILY WATER MIXTURE',\n",
       "  'WASTE OIL',\n",
       "  'Z-OTHER',\n",
       "  'HYDRAULIC OIL',\n",
       "  'OILY WASTE',\n",
       "  'USED OIL',\n",
       "  'NAPTHA',\n",
       "  'EDIBLE/VEGETABLE OIL',\n",
       "  'DECANT OIL',\n",
       "  'NONENE',\n",
       "  'ASPHALT/CREOSEOTE']}"
      ]
     },
     "execution_count": 4,
     "metadata": {},
     "output_type": "execute_result"
    }
   ],
   "source": [
    "# identify all names of oils in DOE database that are attributed to our oil types\n",
    "oil_classification = {}\n",
    "for oil in oil_types:\n",
    "    oil_classification[oil] = []\n",
    "\n",
    "[nrows,ncols] = df.shape\n",
    "for row in range(nrows):\n",
    "    if 'CRUDE' in df.Product[row] and df.Product[row] not in oil_classification['akns']:\n",
    "        oil_classification['akns'].append(df.Product[row])\n",
    "    elif 'BAKKEN' in df.Product[row] and df.Product[row] not in oil_classification['akns']:\n",
    "        oil_classification['akns'].append(df.Product[row])\n",
    "    elif 'BUNKER' in df.Product[row] and df.Product[row] not in oil_classification['bunker']:\n",
    "        oil_classification['bunker'].append(df.Product[row])\n",
    "    elif 'BITUMEN' in df.Product[row] and df.Product[row] not in oil_classification['dilbit']:\n",
    "        oil_classification['dilbit'].append(df.Product[row])\n",
    "    elif 'DIESEL' in df.Product[row] and df.Product[row] not in oil_classification['diesel']:\n",
    "        oil_classification['diesel'].append(df.Product[row])\n",
    "    elif 'GASOLINE' in df.Product[row] and df.Product[row] not in oil_classification['gas']:\n",
    "        oil_classification['gas'].append(df.Product[row])\n",
    "    elif 'JET' in df.Product[row] and df.Product[row] not in oil_classification['jet']:\n",
    "        oil_classification['jet'].append(df.Product[row])\n",
    "    elif ('CRUDE' not in df.Product[row] and\n",
    "          'BAKKEN' not in df.Product[row] and\n",
    "          'BUNKER' not in df.Product[row] and\n",
    "          'BITUMEN' not in df.Product[row] and\n",
    "          'DIESEL' not in df.Product[row] and\n",
    "          'GASOLINE' not in df.Product[row] and\n",
    "          'JET' not in df.Product[row] and\n",
    "          df.Product[row] not in oil_classification['other']):\n",
    "        oil_classification['other'].append(df.Product[row])\n",
    "\n",
    "oil_classification"
   ]
  },
  {
   "cell_type": "markdown",
   "id": "adequate-insert",
   "metadata": {},
   "source": [
    "## Sort  exports by ship types.  We have three categories: tanker, atb, barge.\n",
    "1. `tanker`: Listed in DOE dataset as `TANK SHIP` TypeDescription \n",
    "2. `atb`: Listed in DOE dataset as `TANK BARGE` or `TUGBOAT` TypeDescription and `ATB` or `ITB` as Deliverer/Receiver\n",
    "3. `barge`: Listed in DOE dataset as `TANK BARGE` or `TUGBOAT` TypeDescription (no `ATB` or `ITB` in Deliverer/Receiver)\n",
    "\n",
    "Note-to-self on creating subsets of the `df` dataset to use for tally: If I wanted to only extract the  information in `TransferQtyInGallon`, I'd use\n",
    "```\n",
    "cargo_export_df = df.loc[ \n",
    "     (df.TransferType == 'Cargo') & \n",
    "     (df.Deliverer.isin(facility_names)), ['TransferQtyInGallon']\n",
    " ].copy(deep = True)\n",
    "```"
   ]
  },
  {
   "cell_type": "code",
   "execution_count": 5,
   "id": "collective-rider",
   "metadata": {},
   "outputs": [],
   "source": [
    "## Tally up exports by ship type\n",
    "for vessel in vessel_types:\n",
    "    if vessel =='tanker':\n",
    "        tanker_export_total = df.loc[\n",
    "            (df.TransferType == 'Cargo') &\n",
    "            (df.ReceiverTypeDescription.isin(['TANK SHIP'])) &\n",
    "            (df.Deliverer.isin(facility_names)), \n",
    "            'TransferQtyInGallon'\n",
    "        ].sum(axis=0).item()\n",
    "    elif vessel == 'atb':\n",
    "        atb_export_total = df.loc[\n",
    "            (df.TransferType == 'Cargo') &\n",
    "            (df.Receiver.str.contains('ITB')) | (df.Receiver.str.contains('ATB')) & \n",
    "            (df.Deliverer.isin(facility_names)), \n",
    "            'TransferQtyInGallon'\n",
    "        ].sum(axis=0).item()\n",
    "    elif vessel == 'barge':\n",
    "        barge_export_total = df.loc[\n",
    "            (df.TransferType == 'Cargo') &\n",
    "            (df.ReceiverTypeDescription.isin(['TANK BARGE','TUGBOAT'])) & \n",
    "            (~df.Receiver.str.contains('ITB')) & (~df.Receiver.str.contains('ATB')) &\n",
    "            (df.Deliverer.isin(facility_names)), \n",
    "            'TransferQtyInGallon'\n",
    "        ].sum(axis=0).item()"
   ]
  },
  {
   "cell_type": "markdown",
   "id": "direct-keyboard",
   "metadata": {},
   "source": [
    "## Tally up `total_gallons`, `number_of_transfers`, `fraction_of_total`, where:\n",
    "- `total_gallons`: Total gallons transfered for the particular oil type\n",
    "- `fraction_of_total`: (`total_gallons` by oil type) / (total gallons across oil types)\n",
    "- `number_of_transfers`: Total transfers for the particular oil type\n",
    "\n",
    "I tried many things here to try to force creation of fractions that sum to 1.0, including:\n",
    "1. multipling by 100*int(numerator), integer divide (//) int(denominator), then divide ratio by 100 to convert back to float, e.g.:\n",
    "```\n",
    "test = (100 * int(2))//int(3)\n",
    "test/100\n",
    "```\n",
    "2. Using decimal_divide and setting precision (which only appears to do anything for precision <= 2), e.g.:\n",
    "```\n",
    "US[vessel][oil]['fraction_of_total'] = decimal_divide(\n",
    "     int(US[vessel][oil]['total_gallons']), \n",
    "     int(tanker_export_total),\n",
    "     precision\n",
    " ).round(precision)\n",
    "```\n",
    "3. Dividing two integers (the method I am sticking with as it's cleaner than (1) and just as effetive)"
   ]
  },
  {
   "cell_type": "code",
   "execution_count": 6,
   "id": "finite-malaysia",
   "metadata": {},
   "outputs": [],
   "source": [
    "# create dictionary structure\n",
    "US = {}\n",
    "for vessel in vessel_types:\n",
    "    US[vessel]={}\n",
    "    for oil in oil_types:\n",
    "        US[vessel][oil]={}\n",
    "        US[vessel][oil]['total_gallons']=0\n",
    "        US[vessel][oil]['number_of_transfers']=0\n",
    "        US[vessel][oil]['fraction_of_total']=0"
   ]
  },
  {
   "cell_type": "markdown",
   "id": "official-diversity",
   "metadata": {},
   "source": [
    "### US tanker exports"
   ]
  },
  {
   "cell_type": "code",
   "execution_count": 7,
   "id": "designing-making",
   "metadata": {},
   "outputs": [],
   "source": [
    "vessel = 'tanker'\n",
    "type_description = ['TANK SHIP']\n",
    "\n",
    "# ~~~  EXPORTS ~~~\n",
    "# the following lines select all cargo entries registered as received by `tank ships` \n",
    "# by all the designated marine terminals in our study, for the type of oil \n",
    "# listed in our `oil_classification` as the DOE oil type represented by \n",
    "# our oil categories\n",
    "for oil in oil_types:\n",
    "    # Add up net oil quantity transferred by oil_types\n",
    "    US[vessel][oil]['total_gallons'] = df.loc[        \n",
    "        (df.Deliverer.isin(facility_names)) &\n",
    "        (df.TransferType == 'Cargo') &\n",
    "        (df.ReceiverTypeDescription.isin(type_description)) &\n",
    "        (df.Product.isin(oil_classification[oil])),\n",
    "        'TransferQtyInGallon'\n",
    "    ].sum(axis=0).round(precision).item()\n",
    "\n",
    "    # Calculate the fraction of total oil transfer represented \n",
    "    # by each oil type\n",
    "    if tanker_export_total != 0:\n",
    "        US[vessel][oil]['fraction_of_total'] = (\n",
    "            int(US[vessel][oil]['total_gallons'])/ \n",
    "            int(tanker_export_total)\n",
    "            )\n",
    "\n",
    "    # Catalogue the number of transfers \n",
    "    US[vessel][oil]['number_of_transfers'] = df.loc[        \n",
    "        (df.Deliverer.isin(facility_names)) &\n",
    "        (df.TransferType == 'Cargo') &\n",
    "        (df.ReceiverTypeDescription.isin(type_description)) &\n",
    "        (df.Product.isin(oil_classification[oil]))\n",
    "    ].shape[0]"
   ]
  },
  {
   "cell_type": "markdown",
   "id": "backed-tutorial",
   "metadata": {},
   "source": [
    "### US ATB exports"
   ]
  },
  {
   "cell_type": "code",
   "execution_count": 8,
   "id": "systematic-louis",
   "metadata": {},
   "outputs": [],
   "source": [
    "vessel = 'atb'\n",
    "type_description = ['TANK BARGE','TUGBOAT']\n",
    "\n",
    "# ~~~  EXPORT ~~~\n",
    "\n",
    "# the following lines select all cargo entries registered as received by \n",
    "# a vessel with either `ITB` or `ATB` in the vessel name \n",
    "# from all of the WA marine terminals included in our study for the type \n",
    "# of oil listed in our `oil_classification` as the DOE oil type \n",
    "# represented by our oil categories\n",
    "\n",
    "\n",
    "# Added here to compare with totals below and try to suss out fraction issue\n",
    "# atb_export_total = df.loc[\n",
    "#             (df.TransferType == 'Cargo') &\n",
    "#             (df.Receiver.str.contains('ITB')) | (df.Receiver.str.contains('ATB')) & \n",
    "#             (df.Deliverer.isin(facility_names)), \n",
    "#             'TransferQtyInGallon'\n",
    "#         ].sum(axis=0).item()\n",
    "\n",
    "for oil in oil_types:\n",
    "\n",
    "    # Add up net oil quantity transferred by oil_types\n",
    "    US[vessel][oil]['total_gallons'] = df.loc[        \n",
    "        (df.TransferType == 'Cargo') &\n",
    "        (df.Receiver.str.contains('ITB')) | (df.Receiver.str.contains('ATB')) &\n",
    "        (df.Deliverer.isin(facility_names)) &      \n",
    "        (df.Product.isin(oil_classification[oil])),\n",
    "        'TransferQtyInGallon'\n",
    "    ].sum(axis=0).item()\n",
    "\n",
    "    # Calculate the fraction of total oil transfer represented \n",
    "    # by each oil type\n",
    "    if atb_export_total != 0:\n",
    "        US[vessel][oil]['fraction_of_total'] = (\n",
    "            int(US[vessel][oil]['total_gallons'])/ \n",
    "            int(atb_export_total)\n",
    "        )\n",
    "\n",
    "    # Catalogue the number of transfers \n",
    "    US[vessel][oil]['number_of_transfers'] = df.loc[        \n",
    "        (df.TransferType == 'Cargo') &\n",
    "        (df.Receiver.str.contains('ITB')) | (df.Receiver.str.contains('ATB')) &\n",
    "        (df.Deliverer.isin(facility_names)) &\n",
    "        (df.Product.isin(oil_classification[oil])),\n",
    "    ].shape[0]"
   ]
  },
  {
   "cell_type": "markdown",
   "id": "occupied-accident",
   "metadata": {},
   "source": [
    "### US tank barge exports"
   ]
  },
  {
   "cell_type": "code",
   "execution_count": 9,
   "id": "defensive-capitol",
   "metadata": {},
   "outputs": [],
   "source": [
    "vessel = 'barge'\n",
    "type_description = ['TANK BARGE','TUGBOAT']\n",
    "\n",
    "# ~~~  EXPORT ~~~\n",
    "\n",
    "# the following lines select all cargo entries registered as received by \n",
    "# `TANK BARGE` or `TUGBOAT` (with neither `ITB` nor `ATB` in the vessel name) \n",
    "# from the list of WA marine terminals used in our study \n",
    "# for the type of oil listed in our `oil_classification` as \n",
    "# the DOE oil type represented by our oil categories\n",
    "for oil in oil_types:\n",
    "\n",
    "    # Add up net oil quantity transferred by oil_types\n",
    "    US[vessel][oil]['total_gallons'] = df.loc[        \n",
    "        (df.Deliverer.isin(facility_names)) &\n",
    "        (df.TransferType == 'Cargo') &\n",
    "        (df.ReceiverTypeDescription.isin(type_description)) &\n",
    "        (~df.Receiver.str.contains('ITB')) & (~df.Receiver.str.contains('ATB')) &\n",
    "        (df.Product.isin(oil_classification[oil])),\n",
    "        'TransferQtyInGallon'\n",
    "    ].sum(axis=0).item()\n",
    "\n",
    "    # Calculate the fraction of total oil transfer represented \n",
    "    # by each oil type\n",
    "    if barge_export_total != 0:\n",
    "        US[vessel][oil]['fraction_of_total'] = (\n",
    "            int(US[vessel][oil]['total_gallons'])/ \n",
    "            int(barge_export_total)\n",
    "        )\n",
    "\n",
    "    # Catalogue the number of transfers \n",
    "    US[vessel][oil]['number_of_transfers'] = df.loc[        \n",
    "        (df.Deliverer.isin(facility_names)) &\n",
    "        (df.TransferType == 'Cargo') &\n",
    "        (df.ReceiverTypeDescription.isin(type_description)) &\n",
    "        (~df.Receiver.str.contains('ITB')) & (~df.Receiver.str.contains('ATB')) &\n",
    "        (df.Product.isin(oil_classification[oil])),\n",
    "    ].shape[0]"
   ]
  },
  {
   "cell_type": "code",
   "execution_count": 10,
   "id": "twelve-agent",
   "metadata": {},
   "outputs": [
    {
     "name": "stdout",
     "output_type": "stream",
     "text": [
      " atb, 1.0385749588320672\n",
      "[0.017480853745005822, 0.09454799948424376, 0.00642915980534455, 0.16063712924341816, 0.2805909872985083, 0.43395657206518107, 0.044932257190365615]\n"
     ]
    }
   ],
   "source": [
    "##  QAQC\n",
    "for vessel in vessel_types:        \n",
    "    total = sum([US[vessel][oil]['fraction_of_total'] for oil in oil_types])    \n",
    "    if (total != 1) & (total != 0):\n",
    "        print(f' {vessel}, {total}')\n",
    "        print([US[vessel][oil]['fraction_of_total'] for oil in oil_types])"
   ]
  },
  {
   "cell_type": "markdown",
   "id": "expired-vector",
   "metadata": {},
   "source": [
    "**NOTE**: this offset appears to be affected by the order in which the dataframe is queried, as it improved when I set the order equal between numberator and denominator sums, but that's not the whole story...and I'm not seeing an overt mistake in my code."
   ]
  },
  {
   "cell_type": "markdown",
   "id": "intended-regression",
   "metadata": {},
   "source": [
    "### Save dictionary"
   ]
  },
  {
   "cell_type": "code",
   "execution_count": 11,
   "id": "weekly-massachusetts",
   "metadata": {},
   "outputs": [],
   "source": [
    "with open(r'./US_origin.yaml', 'w') as file:\n",
    "    documents = yaml.safe_dump(US, file)"
   ]
  },
  {
   "cell_type": "markdown",
   "id": "chicken-mills",
   "metadata": {},
   "source": [
    "### Plot results"
   ]
  },
  {
   "cell_type": "code",
   "execution_count": 12,
   "id": "rough-indicator",
   "metadata": {},
   "outputs": [
    {
     "data": {
      "text/plain": [
       "Text(0.5, 1.0, 'tanker fuel allocation for origin = US')"
      ]
     },
     "execution_count": 12,
     "metadata": {},
     "output_type": "execute_result"
    },
    {
     "data": {
      "image/png": "[encoded data removed]",
      "text/plain": [
       "<Figure size 432x288 with 1 Axes>"
      ]
     },
     "metadata": {},
     "output_type": "display_data"
    }
   ],
   "source": [
    "label = 'tanker'\n",
    "US_tank = [ US[label]['akns']['total_gallons'], \n",
    "                US[label]['bunker']['total_gallons'], \n",
    "                US[label]['dilbit']['total_gallons'], \n",
    "                US[label]['jet']['total_gallons'], \n",
    "                US[label]['diesel']['total_gallons'], \n",
    "                US[label]['gas']['total_gallons'], \n",
    "                US[label]['other']['total_gallons']\n",
    "               ]\n",
    "plt.gca().axis(\"equal\")\n",
    "plt.pie(US_tank, labels= oil_types)\n",
    "plt.title(f'{label} fuel allocation for origin = US')"
   ]
  },
  {
   "cell_type": "code",
   "execution_count": 13,
   "id": "inclusive-laser",
   "metadata": {},
   "outputs": [
    {
     "data": {
      "text/plain": [
       "Text(0.5, 1.0, 'atb fuel allocation for origin = US')"
      ]
     },
     "execution_count": 13,
     "metadata": {},
     "output_type": "execute_result"
    },
    {
     "data": {
      "image/png": "[encoded data removed]",
      "text/plain": [
       "<Figure size 432x288 with 1 Axes>"
      ]
     },
     "metadata": {},
     "output_type": "display_data"
    }
   ],
   "source": [
    "label = 'atb'\n",
    "US_tank = [ US[label]['akns']['total_gallons'], \n",
    "                US[label]['bunker']['total_gallons'], \n",
    "                US[label]['dilbit']['total_gallons'], \n",
    "                US[label]['jet']['total_gallons'], \n",
    "                US[label]['diesel']['total_gallons'], \n",
    "                US[label]['gas']['total_gallons'], \n",
    "                US[label]['other']['total_gallons']\n",
    "               ]\n",
    "plt.gca().axis(\"equal\")\n",
    "plt.pie(US_tank, labels= oil_types)\n",
    "plt.title(f'{label} fuel allocation for origin = US')"
   ]
  },
  {
   "cell_type": "code",
   "execution_count": 14,
   "id": "junior-closure",
   "metadata": {},
   "outputs": [
    {
     "data": {
      "text/plain": [
       "Text(0.5, 1.0, 'barge fuel allocation for origin = US')"
      ]
     },
     "execution_count": 14,
     "metadata": {},
     "output_type": "execute_result"
    },
    {
     "data": {
      "image/png": "[encoded data removed]",
      "text/plain": [
       "<Figure size 432x288 with 1 Axes>"
      ]
     },
     "metadata": {},
     "output_type": "display_data"
    }
   ],
   "source": [
    "label = 'barge'\n",
    "US_tank = [ US[label]['akns']['total_gallons'], \n",
    "                US[label]['bunker']['total_gallons'], \n",
    "                US[label]['dilbit']['total_gallons'], \n",
    "                US[label]['jet']['total_gallons'], \n",
    "                US[label]['diesel']['total_gallons'], \n",
    "                US[label]['gas']['total_gallons'], \n",
    "                US[label]['other']['total_gallons']\n",
    "               ]\n",
    "plt.gca().axis(\"equal\")\n",
    "plt.pie(US_tank, labels= oil_types)\n",
    "plt.title(f'{label} fuel allocation for origin = US')"
   ]
  },
  {
   "cell_type": "code",
   "execution_count": 15,
   "id": "threaded-military",
   "metadata": {},
   "outputs": [],
   "source": [
    "test = df.loc[\n",
    "            (df.TransferType == 'Cargo') &\n",
    "            (df.ReceiverTypeDescription.isin(['TANK BARGE','TUGBOAT'])) & \n",
    "            (~df.Receiver.str.contains('ITB')) & (~df.Receiver.str.contains('ATB')) &\n",
    "            (df.Deliverer.isin(facility_names))\n",
    "]\n",
    "for receivers in test.Receiver:\n",
    "    if ('ITB' in receivers) | ('ATB' in receivers):\n",
    "        print('dang it!')"
   ]
  },
  {
   "cell_type": "code",
   "execution_count": null,
   "id": "billion-armenia",
   "metadata": {},
   "outputs": [],
   "source": []
  }
 ],
 "metadata": {
  "kernelspec": {
   "display_name": "Python 3",
   "language": "python",
   "name": "python3"
  },
  "language_info": {
   "codemirror_mode": {
    "name": "ipython",
    "version": 3
   },
   "file_extension": ".py",
   "mimetype": "text/x-python",
   "name": "python",
   "nbconvert_exporter": "python",
   "pygments_lexer": "ipython3",
   "version": "3.9.2"
  }
 },
 "nbformat": 4,
 "nbformat_minor": 5
}
