{
 "cells": [
  {
   "cell_type": "markdown",
   "metadata": {},
   "source": [
    "### This notebook creates a .yaml \"driver\" file used in the monte_carlo setup \n",
    "\n",
    "This notebook uses values in an oil_capacity.xlsx spreadsheet. \n",
    "\n",
    "**To do**: \n",
    "- tighten-up values [in process]\n",
    "- Update barge and ATB min/max fuel values to come from .xlsx spreadsheet rather than being hard-coded\n",
    "- Make sure all the values we need for this notebook are in oil_capacity.xlsx (From cargo and fuel capacity values and references are in [this google spreadsheet](https://docs.google.com/spreadsheets/d/1URKN77iQHN-2cAVfG5T7SEiDTLTcolqL/edit#gid=1024416588))"
   ]
  },
  {
   "cell_type": "code",
   "execution_count": 1,
   "metadata": {},
   "outputs": [],
   "source": [
    "import sys\n",
    "import yaml\n",
    "import pathlib\n",
    "import numpy\n",
    "import pandas\n",
    "import matplotlib.pyplot as plt\n",
    "import os\n",
    "import warnings\n",
    "from monte_carlo_utils import make_bins, get_bin, place_into_bins, decimal_divide\n",
    "from monte_carlo_utils import get_DOE_atb_transfers"
   ]
  },
  {
   "cell_type": "markdown",
   "metadata": {},
   "source": [
    "### Set values used in calcuations"
   ]
  },
  {
   "cell_type": "code",
   "execution_count": 2,
   "metadata": {},
   "outputs": [],
   "source": [
    "# This is the precision used to calculate weights \n",
    "# It seems that a precision of 2 is neccessary for weights\n",
    "# to sum to 1.0\n",
    "precision = 2"
   ]
  },
  {
   "cell_type": "markdown",
   "metadata": {},
   "source": [
    "### Define Directories & Create Dictionary Structure"
   ]
  },
  {
   "cell_type": "code",
   "execution_count": 3,
   "metadata": {},
   "outputs": [],
   "source": [
    "output_directory = pathlib.Path(\n",
    "    '/Users/rmueller/Data/MIDOSS/marine_transport_data/'\n",
    ")\n",
    "output_file = output_directory / 'oil_attribution.yaml'\n",
    "graphics_directory = pathlib.Path(\n",
    "    '/Users/rmueller/Projects/MIDOSS/graphics_figures/monte_carlo/oil_capacities'\n",
    ")\n",
    "doe_directory  = pathlib.Path('/Users/rmueller/Data/MIDOSS/DeptOfEcology/')\n",
    "DOE_2018_xlsx = doe_directory/'MuellerTrans4-30-20.xlsx'\n",
    "\n",
    "#~~~ create dictionary structure ~~~~~~~~~~~~~~~~~~~~~~~~~~~~~~~~~~~~~~~~~~~~\n",
    "oil_attrs = {}\n",
    "\n",
    "# create a section for directories and filenames\n",
    "oil_attrs['directories'] = {}\n",
    "oil_attrs['directories']['data'] = pathlib.Path(\n",
    "    '/Users/rmueller/Data/MIDOSS/marine_transport_data/'\n",
    ")\n",
    "oil_attrs['directories']['geotiff'] = pathlib.Path(\n",
    "    '/Users/rmueller/Data/MIDOSS/AIS/ShipTrackDensityGeoTIFFs/'\n",
    ")\n",
    "\n",
    "oil_attrs['files'] = {} \n",
    "# yaml files with Dept. of Ecology oil transfer data \n",
    "# US_origin is for US as origin \n",
    "# US_all represents the combined import and export of fuel\n",
    "\n",
    "# to support smaller line lenghts!\n",
    "ddir = oil_attrs['directories']['data']\n",
    "# to save to file\n",
    "oil_attrs['directories']['ais_ping_data'] = os.fspath(\n",
    "    oil_attrs['directories']['data']/'Origin_Destination_Analysis_updated.xlsx'\n",
    ")\n",
    "oil_attrs['directories']['data'] = os.fspath(oil_attrs['directories']['data'])\n",
    "oil_attrs['directories']['geotiff'] = os.fspath(oil_attrs['directories']['geotiff'])\n",
    "\n",
    "\n",
    "\n",
    "# now to define other paths\n",
    "oil_attrs['files']['CAD_origin']     = os.fspath(ddir/'CAD_origin.yaml')\n",
    "oil_attrs['files']['WA_destination'] = os.fspath(ddir/'WA_destination.yaml')\n",
    "oil_attrs['files']['WA_origin']      = os.fspath(ddir/'WA_origin.yaml')\n",
    "oil_attrs['files']['US_origin']      = os.fspath(ddir/'US_origin.yaml')\n",
    "oil_attrs['files']['US_combined']    = os.fspath(ddir/'US_general.yaml')\n",
    "oil_attrs['files']['Pacific_origin'] = os.fspath(ddir/'Pacific_origin.yaml')\n",
    "oil_attrs['files']['fuel']           = os.fspath(ddir/'fuel_by_vessel.yaml')\n",
    "\n",
    "# excel spreadsheet with oil capacity data for all vessel types\n",
    "oil_attrs['files']['oil_capacity']   = os.fspath(ddir/'oil_capacity.xlsx')\n",
    "\n",
    "# weights for allocating tank barge capacities for ATBs < 50 m and tank barges \n",
    "oil_attrs['files']['barge_weights']  = os.fspath(ddir/'barge_capacity.yaml')\n",
    "\n",
    "#~~~ Model setup categories ~~~~~~~~~~~~~~~~~~~~~~~~~~~~~~~~~~~~~~~~~~~~~~~~~\n",
    "\n",
    "# create a section for general categories \n",
    "oil_attrs['categories'] = {}\n",
    "\n",
    "# labels for AIS ship traffic groups\n",
    "oil_attrs['categories']['all_vessels'] = [\n",
    "    'tanker', \n",
    "    'atb', \n",
    "    'barge', \n",
    "    'cargo', \n",
    "    'cruise',\n",
    "    'ferry', \n",
    "    'fishing', \n",
    "    'smallpass', \n",
    "    'other'\n",
    "]\n",
    "\n",
    "# labels for oil tank traffic identified in AIS\n",
    "oil_attrs['categories']['tank_vessels'] = [\n",
    "    'tanker', \n",
    "    'atb', \n",
    "    'barge'\n",
    "]\n",
    "\n",
    "# tanker size classes (still in considerations)\n",
    "oil_attrs['categories']['tanker_size_classes'] = [\n",
    "    \"Small Tanker (< 150 m)\", \n",
    "    \"Handymax (151-200 m)\", \n",
    "    \"Aframax (201-250 m)\", \n",
    "    \"SuezMax (251-300 m)\" \n",
    "]\n",
    "\n",
    "# fuel types used in categorizing Dept. of Ecology data and \n",
    "# for which we have Lagrangian files (with the exception of 'other')\n",
    "oil_attrs['categories']['fuel_type']    = [\n",
    "    'akns', \n",
    "    'bunker', \n",
    "    'dilbit', \n",
    "    'jet', \n",
    "    'diesel', \n",
    "    'gas', \n",
    "    'other'\n",
    "]\n",
    "\n",
    "# Labels given to ship tracks in our AIS origin-destination analysis.\n",
    "# If ship tracks lack an origin or destination in our marine terminal list\n",
    "# it's because (a) It's a part of a voyage < 2 km, (b) It's part of a voyage\n",
    "# > 2 km but with a start or end that isn't close enough to marine terminal\n",
    "# to attribute.\n",
    "oil_attrs['categories']['generic_origin_destination'] = [\n",
    "    'Pacific',\n",
    "    'US',\n",
    "    'Canada'\n",
    "]\n",
    "oil_attrs['categories']['CAD_origin_destination'] = [\n",
    "    'ESSO Nanaimo Departure Bay',\n",
    "    'Suncor Nanaimo',\n",
    "    'Shell Chemainus Bare Point',\n",
    "    'Chevron Cobble Hill',\n",
    "    'Chevron Stanovan',\n",
    "    'Barge Mooring Near Stanovan',\n",
    "    'Shell Shellburn',\n",
    "    'Westridge Marine Terminal',\n",
    "    'ESSO IOCO Vancouver',\n",
    "    'Suncor Vancouver'\n",
    "]\n",
    "# Terminals that are grouped in voyage joins are removed, e.g.:\n",
    "# 'Maxum Petroleum - Harbor Island Terminal' and \n",
    "# 'Shell Oil LP Seattle Distribution Terminal' are represented by\n",
    "# 'Kinder Morgan Liquids Terminal - Harbor Island'. \n",
    "# 'Nustar Energy Tacoma' is represented by 'Phillips 66 Tacoma Terminal'\n",
    "oil_attrs['categories']['US_origin_destination'] = [ \n",
    "    'BP Cherry Point Refinery', \n",
    "    'Shell Puget Sound Refinery', \n",
    "    'Tidewater Snake River Terminal', \n",
    "    'SeaPort Sound Terminal', \n",
    "    'Tesoro Vancouver Terminal',\n",
    "    'Phillips 66 Ferndale Refinery', \n",
    "    'Phillips 66 Tacoma Terminal', \n",
    "    'Marathon Anacortes Refinery (formerly Tesoro)',\n",
    "    'Tesoro Port Angeles Terminal',\n",
    "    'U.S. Oil & Refining',\n",
    "    'Naval Air Station Whidbey Island (NASWI)',\n",
    "    'NAVSUP Manchester', \n",
    "    'Alon Asphalt Company (Paramount Petroleum)', \n",
    "    'Kinder Morgan Liquids Terminal - Harbor Island',\n",
    "    'Nustar Energy Vancouver',\n",
    "    'Tesoro Pasco Terminal', \n",
    "    'REG Grays Harbor, LLC', \n",
    "    'Tidewater Vancouver Terminal',\n",
    "    'TLP Management Services LLC (TMS)']\n",
    "\n",
    "# ~~~ Create dictionary structure for vessel attributes  ~~~~~~~~~~~~~~~~~~~~\n",
    "\n",
    "# create sections organized by vessel type\n",
    "oil_attrs['vessel_attributes'] = {}\n",
    "\n",
    "for vessels in oil_attrs['categories']['all_vessels']:\n",
    "    oil_attrs['vessel_attributes'][vessels] = {}"
   ]
  },
  {
   "cell_type": "markdown",
   "metadata": {},
   "source": [
    "## load data"
   ]
  },
  {
   "cell_type": "code",
   "execution_count": 4,
   "metadata": {},
   "outputs": [],
   "source": [
    "#~~~ tanker traffic ~~~~~~~~~~~~~~~~~~~~~~~~~~~~~~~~~~~~~~~~~~~~~~~~~~~~~~~~~\n",
    "tanker_df = pandas.read_excel(\n",
    "    oil_attrs['files']['oil_capacity'],\n",
    "    sheet_name='tanker', \n",
    "    usecols='B,C,D,E,F,G,H'\n",
    ")\n",
    "#~~~ atb traffic ~~~~~~~~~~~~~~~~~~~~~~~~~~~~~~~~~~~~~~~~~~~~~~~~~~~~~~~~~~~~\n",
    "# fuel and cargo capacity information\n",
    "# K: \"Vessel length (AIS)\"\n",
    "# L: \"Vessel Length (AIS + <50 m correction)\"\n",
    "# O: \"Total Fuel Capacity (liters)\"\n",
    "# P: \"Cargo Capacity (liters)\"\n",
    "\n",
    "atb_df = pandas.read_excel(\n",
    "    oil_attrs['files']['oil_capacity'],\n",
    "    sheet_name='atb', \n",
    "    usecols='K,L,O,P',\n",
    "    skiprows=1\n",
    ")\n",
    "\n",
    "# AIS information\n",
    "# B: COUNT, \n",
    "# C: LENGTH, \n",
    "# D: Median time\n",
    "atb_data_df = pandas.read_excel(\n",
    "    oil_attrs['files']['oil_capacity'],\n",
    "    sheet_name='atb data', \n",
    "    usecols='B,C,D'\n",
    ")\n",
    "#~~~ cargo traffic ~~~~~~~~~~~~~~~~~~~~~~~~~~~~~~~~~~~~~~~~~~~~~~~~~~~~~~~~~~\n",
    "cargo_df = pandas.read_excel(\n",
    "    oil_attrs['files']['oil_capacity'],\n",
    "    sheet_name='cargo', \n",
    "    usecols='B,D,I,J'\n",
    ")\n",
    "#~~~ cruise traffic ~~~~~~~~~~~~~~~~~~~~~~~~~~~~~~~~~~~~~~~~~~~~~~~~~~~~~~~~~\n",
    "cruise_df = pandas.read_excel(\n",
    "    oil_attrs['files']['oil_capacity'],\n",
    "    sheet_name='cruise', \n",
    "    usecols='B,D,I,J'\n",
    ")\n",
    "#~~~ ferry traffic ~~~~~~~~~~~~~~~~~~~~~~~~~~~~~~~~~~~~~~~~~~~~~~~~~~~~~~~~~~\n",
    "ferry_df = pandas.read_excel(\n",
    "    oil_attrs['files']['oil_capacity'],\n",
    "    sheet_name='ferry', \n",
    "    usecols='B,D,I,J'\n",
    ")\n",
    "#~~~ small passenger traffic ~~~~~~~~~~~~~~~~~~~~~~~~~~~~~~~~~~~~~~~~~~~~~~~~\n",
    "smallpass_df = pandas.read_excel(\n",
    "    oil_attrs['files']['oil_capacity'],\n",
    "    sheet_name='smallpass', \n",
    "    usecols='B,D'\n",
    ")\n",
    "#~~~ fishing traffic ~~~~~~~~~~~~~~~~~~~~~~~~~~~~~~~~~~~~~~~~~~~~~~~~~~~~~~~~\n",
    "fishing_df = pandas.read_excel(\n",
    "    oil_attrs['files']['oil_capacity'],\n",
    "    sheet_name='fishing', \n",
    "    usecols='A,C,I,J'\n",
    ")"
   ]
  },
  {
   "cell_type": "markdown",
   "metadata": {},
   "source": [
    "### Calculate barge ping-to-transfer ratio"
   ]
  },
  {
   "cell_type": "markdown",
   "metadata": {},
   "source": [
    "#### Count ATB ship tracks in 2018 AIS data"
   ]
  },
  {
   "cell_type": "code",
   "execution_count": 5,
   "metadata": {},
   "outputs": [
    {
     "name": "stdout",
     "output_type": "stream",
     "text": [
      "588136.0 ship tracks are associated with our selected ATB traffic\n"
     ]
    }
   ],
   "source": [
    "# get the total number of ship tracks\n",
    "# B: \"Number of vessel tracks\"\n",
    "atb_ship_tracks = pandas.read_excel(\n",
    "    oil_attrs['directories']['ais_ping_data'],\n",
    "    sheet_name='Frequency of AIS Pings', \n",
    "    usecols='B',\n",
    "    skiprows=1\n",
    ").sum().item()\n",
    "print(f'{atb_ship_tracks:.1f} ship tracks are associated with our selected ATB traffic')"
   ]
  },
  {
   "cell_type": "markdown",
   "metadata": {},
   "source": [
    "#### Count cargo transfers in 2018 Dept. of Ecology database"
   ]
  },
  {
   "cell_type": "code",
   "execution_count": 6,
   "metadata": {},
   "outputs": [
    {
     "name": "stdout",
     "output_type": "stream",
     "text": [
      "cargo\n",
      "214 cargo transfers from all sources\n",
      "cargo\n",
      "471 cargo transfers from all sources\n",
      "685 total cargo transfers to_from ATBs\n"
     ]
    }
   ],
   "source": [
    "# get cargo transfers to atbs from all sources (vessel and marine terminal)\n",
    "# For comparison, the number of transfers with facilities=\"selected\" is 683\n",
    "transfers = get_DOE_atb_transfers(\n",
    "    DOE_2018_xlsx, \n",
    "    transfer_type = 'cargo',\n",
    "    facilities='all'\n",
    ")\n",
    "print(f'{transfers} total cargo transfers to_from ATBs')"
   ]
  },
  {
   "cell_type": "code",
   "execution_count": 7,
   "metadata": {},
   "outputs": [
    {
     "name": "stdout",
     "output_type": "stream",
     "text": [
      "684 ATB cargo transfers in WA in 2018\n"
     ]
    }
   ],
   "source": [
    "# The number of transfers that I got before was 598, \n",
    "# so I'm going to double check this calculation\n",
    "DOE_df = pandas.read_excel(\n",
    "    DOE_2018_xlsx,\n",
    "    sheet_name='Vessel Oil Transfer', \n",
    "    usecols=\"G,H,P,Q,R,W,X\"\n",
    ")\n",
    "transfers_df = DOE_df.loc[\n",
    "    (DOE_df.TransferType == 'Cargo') &   \n",
    "    (DOE_df.Deliverer.str.contains('ITB') | \n",
    "     DOE_df.Receiver.str.contains('ITB') |\n",
    "     DOE_df.Deliverer.str.contains('ATB') |\n",
    "     DOE_df.Receiver.str.contains('ATB')\n",
    "    ),'Deliverer'\n",
    "].count().item()\n",
    "print(f'{transfers_df} ATB cargo transfers in WA in 2018')"
   ]
  },
  {
   "cell_type": "markdown",
   "metadata": {},
   "source": [
    "The two methods are off by one for reasons that I don't yet see.  \n",
    "For now, I'm moving forward with the \"transfers\" estimate of 684"
   ]
  },
  {
   "cell_type": "markdown",
   "metadata": {},
   "source": [
    "#### Calculate ping-to-transfer ratio for ATBs using the above estimates"
   ]
  },
  {
   "cell_type": "code",
   "execution_count": 8,
   "metadata": {},
   "outputs": [
    {
     "name": "stdout",
     "output_type": "stream",
     "text": [
      "859.85 is the AIS ping to DOE cargo transfer ratio for ATB traffic\n"
     ]
    }
   ],
   "source": [
    "ping_to_transfer = atb_ship_tracks/transfers_df\n",
    "print(f'{ping_to_transfer:.2f} is the AIS ping to DOE cargo transfer ratio for ATB traffic')"
   ]
  },
  {
   "cell_type": "markdown",
   "metadata": {},
   "source": [
    "#### Calculate the median time interval weighted by number of tracks for both ATBs and tank barges to estimate the number of AIS ship tracks that we would expect to see in AIS given the number of cargo transfers that we see in the Dept. of Ecology database"
   ]
  },
  {
   "cell_type": "code",
   "execution_count": 9,
   "metadata": {},
   "outputs": [],
   "source": [
    "# G: ATB number of vessel tracks * ATB median time interval\n",
    "# Q: non-ATB number of vessel tracks * non-ATB median time interval\n",
    "ais_df = pandas.read_excel(\n",
    "    oil_attrs['directories']['ais_ping_data'],\n",
    "    sheet_name='Frequency of AIS Pings', \n",
    "    usecols='G,Q',\n",
    "    skiprows=1\n",
    ").rename(columns={\n",
    "    'ATB median time*Ntracks':'ATB',\n",
    "    'non-ATB median time*Ntracks':'non-ATB'\n",
    "})\n"
   ]
  },
  {
   "cell_type": "code",
   "execution_count": 10,
   "metadata": {},
   "outputs": [
    {
     "data": {
      "text/html": [
       "<div>\n",
       "<style scoped>\n",
       "    .dataframe tbody tr th:only-of-type {\n",
       "        vertical-align: middle;\n",
       "    }\n",
       "\n",
       "    .dataframe tbody tr th {\n",
       "        vertical-align: top;\n",
       "    }\n",
       "\n",
       "    .dataframe thead th {\n",
       "        text-align: right;\n",
       "    }\n",
       "</style>\n",
       "<table border=\"1\" class=\"dataframe\">\n",
       "  <thead>\n",
       "    <tr style=\"text-align: right;\">\n",
       "      <th></th>\n",
       "      <th>ATB</th>\n",
       "      <th>non-ATB</th>\n",
       "    </tr>\n",
       "  </thead>\n",
       "  <tbody>\n",
       "    <tr>\n",
       "      <th>0</th>\n",
       "      <td>18429.928060</td>\n",
       "      <td>3610.00</td>\n",
       "    </tr>\n",
       "    <tr>\n",
       "      <th>1</th>\n",
       "      <td>30542.810760</td>\n",
       "      <td>804.00</td>\n",
       "    </tr>\n",
       "    <tr>\n",
       "      <th>2</th>\n",
       "      <td>34818.349057</td>\n",
       "      <td>17870.40</td>\n",
       "    </tr>\n",
       "    <tr>\n",
       "      <th>3</th>\n",
       "      <td>39777.292920</td>\n",
       "      <td>3800.45</td>\n",
       "    </tr>\n",
       "    <tr>\n",
       "      <th>4</th>\n",
       "      <td>17087.200925</td>\n",
       "      <td>1752.70</td>\n",
       "    </tr>\n",
       "  </tbody>\n",
       "</table>\n",
       "</div>"
      ],
      "text/plain": [
       "            ATB   non-ATB\n",
       "0  18429.928060   3610.00\n",
       "1  30542.810760    804.00\n",
       "2  34818.349057  17870.40\n",
       "3  39777.292920   3800.45\n",
       "4  17087.200925   1752.70"
      ]
     },
     "execution_count": 10,
     "metadata": {},
     "output_type": "execute_result"
    }
   ],
   "source": [
    "ais_df.head()"
   ]
  },
  {
   "cell_type": "code",
   "execution_count": 11,
   "metadata": {},
   "outputs": [
    {
     "name": "stdout",
     "output_type": "stream",
     "text": [
      "ATB time = 28977.03, barge time = 13848.45, ratio = 0.478\n"
     ]
    }
   ],
   "source": [
    "atb_time = numpy.nanmedian(ais_df['ATB'])\n",
    "barge_time = numpy.nanmedian(ais_df['non-ATB'])\n",
    "barge2atb_ratio = barge_time/atb_time\n",
    "\n",
    "print(f'ATB time = {atb_time:.2f}, barge time = {barge_time:.2f}, ratio = {barge2atb_ratio:.3f}')"
   ]
  },
  {
   "cell_type": "markdown",
   "metadata": {},
   "source": [
    "#### Calculate barge transfers"
   ]
  },
  {
   "cell_type": "code",
   "execution_count": 12,
   "metadata": {},
   "outputs": [
    {
     "name": "stdout",
     "output_type": "stream",
     "text": [
      "combined\n",
      "cargo\n",
      "cargo\n",
      "2952 barge cargo transfers in WA in 2018\n"
     ]
    }
   ],
   "source": [
    "from monte_carlo_utils import get_DOE_barges\n",
    "barge_transfers = get_DOE_barges(\n",
    "    DOE_2018_xlsx,\n",
    "    direction='combined',\n",
    "    facilities='all',\n",
    "    transfer_type = 'cargo'\n",
    ")\n",
    "print(f'{len(barge_transfers)} barge cargo transfers in WA in 2018')"
   ]
  },
  {
   "cell_type": "code",
   "execution_count": 13,
   "metadata": {},
   "outputs": [
    {
     "name": "stdout",
     "output_type": "stream",
     "text": [
      "2947 barge cargo transfers in WA in 2018\n"
     ]
    }
   ],
   "source": [
    "# Now use the non-function method, for comparison\n",
    "barge_transfers_df = DOE_df.loc[\n",
    "    (DOE_df.TransferType == 'Cargo') &  \n",
    "    (DOE_df.ReceiverTypeDescription.isin(\n",
    "        ['TANK BARGE','TUGBOAT']) | \n",
    "     DOE_df.DelivererTypeDescription.isin(\n",
    "        ['TANK BARGE','TUGBOAT'])\n",
    "    ) & \n",
    "    (~DOE_df.Receiver.str.contains('ITB')) & \n",
    "    (~DOE_df.Receiver.str.contains('ATB')) &\n",
    "    (~DOE_df.Deliverer.str.contains('ITB')) & \n",
    "    (~DOE_df.Deliverer.str.contains('ATB')),\n",
    "    'Deliverer'\n",
    "].count().item()\n",
    "print(f'{barge_transfers_df} barge cargo transfers in WA in 2018')"
   ]
  },
  {
   "cell_type": "markdown",
   "metadata": {},
   "source": [
    "Similar to ATB, these two calculations are slightly for reasons that I \n",
    "need to understand.  For now, for consistency, I am sticking with the 2947 estimate"
   ]
  },
  {
   "cell_type": "markdown",
   "metadata": {},
   "source": [
    "#### Count barge traffic AIS pings and estimate barge oil cargo traffic using the ATB ping-to-transfer ratio"
   ]
  },
  {
   "cell_type": "code",
   "execution_count": 14,
   "metadata": {},
   "outputs": [
    {
     "name": "stdout",
     "output_type": "stream",
     "text": [
      "1.39e+07 ship tracks associated with non-ATB barge traffic\n",
      "1.21e+06 estimated oil cargo tracks associated with non-ATB barge traffic\n"
     ]
    }
   ],
   "source": [
    "# get the total number of ship tracks\n",
    "# K: \"Number of vessel tracks\" for *all* non-ATB barges \n",
    "#     (not just those in Casey's sub-sample dataset.)\n",
    "barge_ship_tracks = pandas.read_excel(\n",
    "    oil_attrs['directories']['ais_ping_data'],\n",
    "    sheet_name='Frequency of AIS Pings', \n",
    "    usecols='K',\n",
    "    skiprows=1\n",
    ").sum().item()\n",
    "print(\n",
    "    f'{barge_ship_tracks:.2e} ship tracks associated with non-ATB barge traffic'\n",
    ")\n",
    "\n",
    "# Calculate non-ATB oil cargo traffic using ATB ping-to-transfer ratio, \n",
    "# scaled by the ratio of median sample time intervals for barge AIS \n",
    "# ship track vs atb AIS ship tracks\n",
    "barge_oilcargo_pings = barge_transfers_df * ping_to_transfer * barge2atb_ratio\n",
    "print(\n",
    "    f'{barge_oilcargo_pings:.2e} estimated oil cargo tracks' \n",
    "    ' associated with non-ATB barge traffic'\n",
    ")"
   ]
  },
  {
   "cell_type": "markdown",
   "metadata": {},
   "source": [
    "### Set Mix/Max thresholds"
   ]
  },
  {
   "cell_type": "code",
   "execution_count": 15,
   "metadata": {},
   "outputs": [
    {
     "name": "stdout",
     "output_type": "stream",
     "text": [
      "0.03745521973688278\n"
     ]
    }
   ],
   "source": [
    "# ~~~~~~~~~~~~~~~~~~~~~~~~~~~~~~~~~~~~~~~~~~~~~~~~~~~~~~~~~~~~~~~~~~~~~~~~~~~\n",
    "## Set the probability of incident as fuel spill vs. cargo spill for \n",
    "#  oil-cargo vessels.  The following six values are for cases thare are \n",
    "#  identified as oil cargo vessels and determines if the spill from the oil \n",
    "#  cargo vessel is a fuel spill or a cargo spill.  The barge attribution \n",
    "#  requires another level of determining fuel vs. cargo spill because most of \n",
    "#  the barge traffic is not oil cargo traffic.  We set all barges with marine \n",
    "#  terminal origin/destination to oil cargo barges and use \n",
    "#  \"probability_oilcargo\" to determine if the remaining barges are oil \n",
    "#  cargo barges or fuel barges. \n",
    "oil_attrs['vessel_attributes']['tanker']['probability_fuel']  = 0.2\n",
    "oil_attrs['vessel_attributes']['tanker']['probability_cargo'] = 1 - \\\n",
    "oil_attrs['vessel_attributes']['tanker']['probability_fuel']\n",
    "\n",
    "oil_attrs['vessel_attributes']['atb']['probability_fuel']  = 0.2\n",
    "oil_attrs['vessel_attributes']['atb']['probability_cargo'] = 1 - \\\n",
    "oil_attrs['vessel_attributes']['atb']['probability_fuel']\n",
    "\n",
    "oil_attrs['vessel_attributes']['barge']['probability_fuel']  = 0.25\n",
    "oil_attrs['vessel_attributes']['barge']['probability_cargo'] = 1 - \\\n",
    "oil_attrs['vessel_attributes']['barge']['probability_fuel']\n",
    "\n",
    "# ~~~~~~~~~~~~~~~~~~~~~~~~~~~~~~~~~~~~~~~~~~~~~~~~~~~~~~~~~~~~~~~~~~~~~~~~~~~\n",
    "## Set the probability of a barge carrying oil-cargo for a ship track \n",
    "#  that is identified as barge but that lacks origin-destination information\n",
    "# 57% of barge tracks were joined in the origin-destination analysis \n",
    "# (and will be attributed as having oil cargo).\n",
    "# float() converts from object to value that safe_yaml finds acceptable\n",
    "# This issue is apparently fixed in newer releases. \n",
    "oil_attrs['vessel_attributes']['barge']['probability_oilcargo'] = float(\n",
    "    (1 - 0.57) * barge_oilcargo_pings/barge_ship_tracks \n",
    ")\n",
    "\n",
    "# ~~~~~~~~~~~~~~~~~~~~~~~~~~~~~~~~~~~~~~~~~~~~~~~~~~~~~~~~~~~~~~~~~~~~~~~~~~~\n",
    "## set minimum cargo capacities in liters\n",
    "oil_attrs['vessel_attributes']['tanker']['min_cargo'] = 7593628  # small tanker size \n",
    "oil_attrs['vessel_attributes']['atb']['min_cargo']    = 4000000  # smallest load of known ATBs (Island Trader: oil_capacity.xlsx)\n",
    "oil_attrs['vessel_attributes']['barge']['min_cargo']  = 1500000  # 1,589,900: 3A-10 of [DOE report](https://fortress.wa.gov/ecy/publications/documents/96250.pdf)\n",
    "\n",
    "# ~~~~~~~~~~~~~~~~~~~~~~~~~~~~~~~~~~~~~~~~~~~~~~~~~~~~~~~~~~~~~~~~~~~\n",
    "## set maximum cargo capacities in liters\n",
    "oil_attrs['vessel_attributes']['tanker']['max_cargo'] = 185447000 # Corresponding to tank capacity of Suez-Max tankers as AIS data shows tanker lengths up to 287 m\n",
    "oil_attrs['vessel_attributes']['atb']['max_cargo']    =  29413150 # largest load of known ATBs (Kirby 185-01: oil_capacity.xlsx)\n",
    "oil_attrs['vessel_attributes']['barge']['max_cargo']  =  32000000 # 31,797,444: 3A-10 of [DOE report](https://fortress.wa.gov/ecy/publications/documents/96250.pdf)\n",
    "\n",
    "# ~~~~~~~~~~~~~~~~~~~~~~~~~~~~~~~~~~~~~~~~~~~~~~~~~~~~~~~~~~~~~~~~~~~\n",
    "## Set fuel size classes \n",
    "# Tankers: SuezMax (285 m), Aframax (245 m), Handymax (180 m), Small Tanker (116 m)\n",
    "\n",
    "# ~~~~~~~~~~~~~~~~~~~~~~~~~~~~~~~~~~~~~~~~~~~~~~~~~~~~~~~~~~~~~~~~~~~\n",
    "## set minimum fuel capacities in liters\n",
    "# PLACEHOLDER[Needs AIS verification]: Reflects small tanker in \n",
    "# https://silo.tips/download/suezmax-oil-tanker-tankers-166300-dwt\n",
    "#\n",
    "oil_attrs['vessel_attributes']['tanker']['min_fuel']    = (\n",
    "    tanker_df['total fuel capacity (liters)'][0].tolist()\n",
    ")\n",
    "# End PLACEHOLDER\n",
    "oil_attrs['vessel_attributes']['atb']['min_fuel']       = 99000   # Based on Island Raider and Island Regent tugs in Charles Costanzo's `ATB Information AWO Edits`\n",
    "oil_attrs['vessel_attributes']['barge']['min_fuel']     = 6000    # 5678 (F43): Harbour Tug\n",
    "oil_attrs['vessel_attributes']['cargo']['min_fuel']     = 1500000 # 1,514,164\n",
    "oil_attrs['vessel_attributes']['cruise']['min_fuel']    = 1000000 \n",
    "oil_attrs['vessel_attributes']['ferry']['min_fuel']     = 30000   # 34,068\n",
    "oil_attrs['vessel_attributes']['fishing']['min_fuel']   = 150\n",
    "oil_attrs['vessel_attributes']['smallpass']['min_fuel'] = 100\n",
    "oil_attrs['vessel_attributes']['other']['min_fuel']     = 100   # 22 (F52)\n",
    "\n",
    "oil_attrs['vessel_attributes']['tanker']['min_length']    = 150\n",
    "oil_attrs['vessel_attributes']['atb']['min_length']       = 22\n",
    "oil_attrs['vessel_attributes']['barge']['min_length']     = 22\n",
    "oil_attrs['vessel_attributes']['cargo']['min_length']     = 50\n",
    "oil_attrs['vessel_attributes']['cruise']['min_length']    = 60\n",
    "oil_attrs['vessel_attributes']['ferry']['min_length']     = 26\n",
    "oil_attrs['vessel_attributes']['fishing']['min_length']   = 20\n",
    "oil_attrs['vessel_attributes']['smallpass']['min_length'] = 10\n",
    "oil_attrs['vessel_attributes']['other']['min_length']     = 10\n",
    "\n",
    "# ~~~~~~~~~~~~~~~~~~~~~~~~~~~~~~~~~~~~~~~~~~~~~~~~~~~~~~~~~~~~~~~~~~~\n",
    "## set maximum fuel capacities in liters (to be filled in )\n",
    "# NOTE: Max volume for ferries reflects WA ferries.  See \"Other Ship Classifications\"\n",
    "# and Living Oceans information with reference to [BC ferries doc](http://ferriesbc.proboards.com/thread/7592/fueling-bcs-ferries)\n",
    "oil_attrs['vessel_attributes']['tanker']['max_fuel']    = tanker_df['total fuel capacity (liters)'][3].tolist()\n",
    "# NOTE: Ocean-going tank barge listed as 52,995,000 liters max fuel capacity \n",
    "# accoring to [NOAA](https://response.restoration.noaa.gov/about/media/how-much-oil-ship.html)\n",
    "oil_attrs['vessel_attributes']['atb']['max_fuel']       = 550000    # Again, based on Dublin Sea Charles Costanzo's \n",
    "oil_attrs['vessel_attributes']['barge']['max_fuel']     = 710000    # 700,300: Ocean Tug (need to verify that we have them in S.S.)\n",
    "oil_attrs['vessel_attributes']['cargo']['max_fuel']     = 17000000  \n",
    "oil_attrs['vessel_attributes']['cruise']['max_fuel']    = 7570820   \n",
    "oil_attrs['vessel_attributes']['ferry']['max_fuel']     = 500000     \n",
    "oil_attrs['vessel_attributes']['fishing']['max_fuel']   = 300000    # (see p. 3A-6 of [DOE report](https://fortress.wa.gov/ecy/publications/documents/96250.pdf))\n",
    "oil_attrs['vessel_attributes']['smallpass']['max_fuel'] = 12000     # 11356 (F41)\n",
    "oil_attrs['vessel_attributes']['other']['max_fuel']     = 17000000     # 3,028 (F77): Cruising, sport fishing, sailing\n",
    "\n",
    "oil_attrs['vessel_attributes']['tanker']['max_length']    = 300\n",
    "oil_attrs['vessel_attributes']['atb']['max_length']       = 209\n",
    "oil_attrs['vessel_attributes']['barge']['max_length']     = 100\n",
    "oil_attrs['vessel_attributes']['cargo']['max_length']     = 369\n",
    "oil_attrs['vessel_attributes']['cruise']['max_length']    = 334\n",
    "oil_attrs['vessel_attributes']['ferry']['max_length']     = 168\n",
    "oil_attrs['vessel_attributes']['fishing']['max_length']   = 200\n",
    "oil_attrs['vessel_attributes']['smallpass']['max_length'] = 75\n",
    "oil_attrs['vessel_attributes']['other']['max_length']     = 75"
   ]
  },
  {
   "cell_type": "markdown",
   "metadata": {},
   "source": [
    "### Load Oil Capacity Data and Attribute Vessels"
   ]
  },
  {
   "cell_type": "code",
   "execution_count": 17,
   "metadata": {},
   "outputs": [
    {
     "name": "stdout",
     "output_type": "stream",
     "text": [
      "ATB cargo weight sum: 1.0\n",
      "ATB fuel weight sum: 1.0\n",
      "Cargo volume fit for length 620 m: 1.54680e+08\n",
      "Cargo volume fit for length Benjamin Franklin (400 m, 1.4e7 liters): 1.80448e+07\n"
     ]
    },
    {
     "data": {
      "image/png": "[encoded data removed]",
      "text/plain": [
       "<Figure size 432x288 with 1 Axes>"
      ]
     },
     "metadata": {
      "needs_background": "light"
     },
     "output_type": "display_data"
    },
    {
     "data": {
      "image/png": "[encoded data removed]",
      "text/plain": [
       "<Figure size 432x288 with 1 Axes>"
      ]
     },
     "metadata": {
      "needs_background": "light"
     },
     "output_type": "display_data"
    },
    {
     "name": "stdout",
     "output_type": "stream",
     "text": [
      "Ferry tank volume for length of 75 m: 6.22581e+04\n"
     ]
    },
    {
     "data": {
      "image/png": "[encoded data removed]",
      "text/plain": [
       "<Figure size 432x288 with 1 Axes>"
      ]
     },
     "metadata": {
      "needs_background": "light"
     },
     "output_type": "display_data"
    },
    {
     "data": {
      "image/png": "[encoded data removed]",
      "text/plain": [
       "<Figure size 432x288 with 1 Axes>"
      ]
     },
     "metadata": {
      "needs_background": "light"
     },
     "output_type": "display_data"
    },
    {
     "name": "stdout",
     "output_type": "stream",
     "text": [
      "Small pass quadratic fit to 620m length: 4621120.77\n",
      "Small pass quadratic fit to 400m length: 1909565.69\n",
      "Small pass quadratic fit to 14m length: 1213.71\n",
      "Small pass quadratic fit to 16m length: 1746.98\n",
      "Small pass quadratic fit to 75m length: 61315.86\n"
     ]
    },
    {
     "data": {
      "image/png": "[encoded data removed]",
      "text/plain": [
       "<Figure size 432x288 with 1 Axes>"
      ]
     },
     "metadata": {
      "needs_background": "light"
     },
     "output_type": "display_data"
    }
   ],
   "source": [
    "oil_attrs['vessel_attributes']['tanker']['tanker_types'] = (\n",
    "    oil_attrs['categories']['tanker_size_classes']\n",
    ")\n",
    "\n",
    "# fuel parameters\n",
    "oil_attrs['vessel_attributes']['tanker']['fuel_hfo_to_diesel'] = (\n",
    "    tanker_df['hfo fuel capacity (liters)'].values.flatten()/\n",
    "    tanker_df['diesel fuel capacity (liters)'].values.flatten()\n",
    ").tolist()\n",
    "\n",
    "oil_attrs['vessel_attributes']['tanker']['fuel_capacity'] = (\n",
    "    tanker_df['total fuel capacity (liters)'].values.flatten() \n",
    ").tolist()\n",
    "\n",
    "# cargo parameters\n",
    "oil_attrs['vessel_attributes']['tanker']['cargo_capacity'] = (\n",
    "    tanker_df['cargo capacity (liters)'].values.flatten() \n",
    ").tolist()\n",
    "\n",
    "# These are the lengths of the vessels in the above website that correspond\n",
    "# to the fuel ratios  and fuel capacities listed above\n",
    "oil_attrs['vessel_attributes']['tanker']['vessel_lengths'] = (\n",
    "    tanker_df['Silo ship size (m)'].values.flatten()\n",
    ").tolist()\n",
    "\n",
    "# create  bins for tanker categories\n",
    "# Note: get_bin requires that adjacent bins share values, e.g.:\n",
    "# [(0,150)(150,250)(250,300)]\n",
    "# The sets are treated as: (0,150],(150,250], and (250,300]\n",
    "bins = []\n",
    "center_points = []\n",
    "for index in range(len(tanker_df['min length (m)']-1)):\n",
    "    bins.append(\n",
    "        (tanker_df['min length (m)'][index].tolist(), \n",
    "         tanker_df['max length (m)'][index].tolist()+1)\n",
    "    )\n",
    "    step_size = (\n",
    "        tanker_df['max length (m)'][index].tolist() - \n",
    "        tanker_df['min length (m)'][index].tolist()\n",
    "    )\n",
    "    center_points.append(tanker_df['min length (m)'][index] + step_size/2)\n",
    "\n",
    "oil_attrs['vessel_attributes']['tanker']['length_bins'] = tuple(map(tuple, bins))\n",
    "\n",
    "#~~~ atb traffic ~~~~~~~~~~~~~~~~~~~~~~~~~~~~~~~~~~~~~~~~~~~~~~~~~~~~~~~~~~~~\n",
    "# create line fit for atbs with length > 50 m\n",
    "# fit = coefficient[1] + coefficient[0] * length\n",
    "good_values = atb_df['Vessel Length (AIS + <50 m correction)']>0\n",
    "cargo_fit_coefs = numpy.polyfit(\n",
    "    atb_df['Vessel Length (AIS + <50 m correction)'][good_values], \n",
    "    atb_df['Cargo Capacity (liters)'][good_values], \n",
    "    1\n",
    ")\n",
    "oil_attrs['vessel_attributes']['atb']['cargo_fit_coefs'] = (\n",
    "    cargo_fit_coefs.tolist()\n",
    ")\n",
    "\n",
    "fuel_fit_coefs= numpy.polyfit(\n",
    "    atb_df['Vessel Length (AIS + <50 m correction)'][good_values], \n",
    "    atb_df['Total Fuel Capacity (liters)'][good_values], \n",
    "    1\n",
    ")\n",
    "\n",
    "oil_attrs['vessel_attributes']['atb']['fuel_fit_coefs'] = (\n",
    "    fuel_fit_coefs.tolist()\n",
    ")\n",
    "\n",
    "# create fuel and cargo capacity bins into which vessel traffic information \n",
    "# is sorted to determine oil capacity weights. \n",
    "[cargo_bins, cargo_bin_centers]  = make_bins(\n",
    "    lower_bound =  4000000,\n",
    "    upper_bound = 30000000,\n",
    "    step_size   = 2000000\n",
    ")\n",
    "\n",
    "[fuel_bins, fuel_bin_centers]  = make_bins(\n",
    "    lower_bound =  75000,\n",
    "    upper_bound = 675000,\n",
    "    step_size   =  25000\n",
    ")\n",
    "\n",
    "# we use the median time interval between AIS pings per MMSI vessel to scale\n",
    "# the total AIS ship track count so that count isn't biased by ping interval.  \n",
    "scaling_factor = ( atb_data_df['Median time between pings (minutes)'] / \n",
    "    numpy.median(atb_data_df['Median time between pings (minutes)'])\n",
    ")\n",
    "atb_scaled_count = (atb_data_df['COUNT'] * scaling_factor )\n",
    "\n",
    "\n",
    "### cargo weights ###\n",
    "# bin scaled count (above) by cargo capacity and sum AIS count for each \n",
    "# cargo capacity bin to create cargo capacity weights\n",
    "binned_atb_count_cargo = place_into_bins(\n",
    "    atb_df['Cargo Capacity (liters)'], \n",
    "    atb_scaled_count, \n",
    "    cargo_bins\n",
    ")\n",
    "numerator = binned_atb_count_cargo\n",
    "denominator = binned_atb_count_cargo.sum()\n",
    "cargo_weights = decimal_divide(\n",
    "    numerator, \n",
    "    denominator, \n",
    "    precision\n",
    ")\n",
    "\n",
    "print(f'ATB cargo weight sum: {sum(cargo_weights)}')\n",
    "    \n",
    "# define weighting for oil capacity attribution for atbs < 50 m   \n",
    "oil_attrs['vessel_attributes']['atb']['cargo_capacity_probability'] = (\n",
    "    cargo_weights.tolist()\n",
    ")\n",
    "oil_attrs['vessel_attributes']['atb']['cargo_capacity_bin_centers'] = (\n",
    "    cargo_bin_centers\n",
    ")\n",
    "oil_attrs['vessel_attributes']['atb']['cargo_capacity_bins'] = (\n",
    "    cargo_bins\n",
    ")\n",
    "\n",
    "### fuel weights ### \n",
    "# bin distance travelled by fuel capacity and sum distances for each \n",
    "# fuel capacity bin to create fuel capacity weights\n",
    "binned_atb_count_by_fuel = place_into_bins(\n",
    "    atb_df['Total Fuel Capacity (liters)'], \n",
    "    atb_scaled_count, \n",
    "    fuel_bins\n",
    ")\n",
    "numerator = binned_atb_count_by_fuel\n",
    "denomintor = binned_atb_count_by_fuel.sum()\n",
    "fuel_weights = decimal_divide(\n",
    "    numerator, \n",
    "    denominator, \n",
    "    precision\n",
    ")\n",
    "print(f'ATB fuel weight sum: {sum(fuel_weights)}')\n",
    "\n",
    "oil_attrs['vessel_attributes']['atb']['fuel_capacity_probability']  = (\n",
    "    fuel_weights.tolist()\n",
    ")\n",
    "oil_attrs['vessel_attributes']['atb']['fuel_capacity_bin_centers']  = (\n",
    "    fuel_bin_centers\n",
    ")\n",
    "oil_attrs['vessel_attributes']['atb']['fuel_capacity_bins'] = (\n",
    "    fuel_bins\n",
    ")\n",
    "\n",
    "#~~~ barge traffic (set to ATB) ~~~\n",
    "# We use ATB traffic to determine barge weights b/c the number of ATB \n",
    "# vessels is manageable and has tugs paired with tank barges\n",
    "oil_attrs['vessel_attributes']['barge']['cargo_capacity_probability'] = 'See ATB'\n",
    "oil_attrs['vessel_attributes']['barge']['cargo_capacity_bin_centers'] = 'See ATB'\n",
    "oil_attrs['vessel_attributes']['barge']['cargo_capacity_bins']        = 'See ATB'\n",
    "oil_attrs['vessel_attributes']['barge']['fuel_capacity_probability']  = 'See ATB'\n",
    "oil_attrs['vessel_attributes']['barge']['fuel_capacity_bin_centers']  = 'See ATB'\n",
    "oil_attrs['vessel_attributes']['barge']['fuel_capacity_bins']         = 'See ATB'\n",
    "\n",
    "#~~~ cargo traffic ~~~~~~~~~~~~~~~~~~~~~~~~~~~~~~~~~~~~~~~~~~~~~~~~~~~~~~~~~~\n",
    "min_length = cargo_df['AIS min length'][0]\n",
    "max_length = cargo_df['AIS max length'][0]\n",
    "length = cargo_df['vessel length (m)']\n",
    "capacity = cargo_df['fuel capacity (liters)']\n",
    "vessel_type = 'cargo'\n",
    "\n",
    "cargo_fit_coefs= numpy.polyfit(\n",
    "    length, \n",
    "    numpy.log(capacity), \n",
    "    1\n",
    ")\n",
    "\n",
    "oil_attrs['vessel_attributes']['cargo']['fuel_fit_coefs'] = (\n",
    "    cargo_fit_coefs.tolist()\n",
    ")\n",
    "\n",
    "cargo_length = numpy.arange(150, 400, 10)\n",
    "C = cargo_fit_coefs\n",
    "cargo_fit = (\n",
    "    numpy.exp(C[1]) * \n",
    "    numpy.exp(C[0]*cargo_length)\n",
    ")\n",
    "print(f'Cargo volume fit for length 620 m: {numpy.exp(C[1]) *  numpy.exp(C[0]*620):1.5e}' )\n",
    "print(f'Cargo volume fit for length Benjamin Franklin (400 m, 1.4e7 liters): {numpy.exp(C[1]) *  numpy.exp(C[0]*400):1.5e}' )\n",
    "########### PLOT CARGO DATA FIT ###############\n",
    "fig = plt.figure()\n",
    "ax1 = fig.add_subplot(111)\n",
    "\n",
    "# add ais-curated frequency data \n",
    "good_data = length>0\n",
    "ax1.scatter(\n",
    "    length[good_data],\n",
    "    capacity[good_data],\n",
    "    40,\n",
    "    label='Fuel capacity data',\n",
    "    color='tab:grey'\n",
    ")\n",
    "\n",
    "ax1.plot(\n",
    "    cargo_length, \n",
    "    cargo_fit, \n",
    "    c='black', \n",
    "    label=f'exponential fit: {numpy.exp(C[1]):.02f}*e^({C[0]:.02f}*length)'\n",
    ")\n",
    "\n",
    "ax1.plot(\n",
    "    [numpy.min(cargo_length), numpy.max(cargo_length)],\n",
    "    [oil_attrs['vessel_attributes']['cargo']['min_fuel'], \n",
    "     oil_attrs['vessel_attributes']['cargo']['min_fuel']],\n",
    "    c='tab:grey',\n",
    "    label='Min/Max thresholds'\n",
    ")\n",
    "ax1.plot(\n",
    "    [numpy.min(cargo_length), numpy.max(cargo_length)],\n",
    "    [oil_attrs['vessel_attributes']['cargo']['max_fuel'], \n",
    "     oil_attrs['vessel_attributes']['cargo']['max_fuel']],\n",
    "    c='tab:grey'\n",
    ")\n",
    "ax1.plot(\n",
    "    [numpy.min(cargo_length), numpy.max(cargo_length)],\n",
    "    [2e6, 2e6],'r:',\n",
    "    label=\"Max threshold before correction\"\n",
    ")\n",
    "plt.xlabel('vessel length (m)',fontsize=12)\n",
    "plt.ylabel('fuel capacity (liters)',fontsize=12)\n",
    "plt.title(vessel_type, fontsize=16)\n",
    "plt.tight_layout()\n",
    "ax1.legend(bbox_to_anchor=(1.05, 1), loc='upper left')\n",
    "plt.savefig(graphics_directory/'cargo_fit.png', bbox_inches='tight')\n",
    "plt.show()\n",
    "\n",
    "#~~~ cruise traffic ~~~~~~~~~~~~~~~~~~~~~~~~~~~~~~~~~~~~~~~~~~~~~~~~~~~~~~~~~\n",
    "min_length = cruise_df['AIS min length'][0]\n",
    "max_length = cruise_df['AIS max length'][0]\n",
    "length = cruise_df['vessel length (m)']\n",
    "capacity = cruise_df['fuel capacity (liters)']\n",
    "vessel_type = 'cruise'\n",
    "\n",
    "cruise_fit_coefs= numpy.polyfit(\n",
    "    length, \n",
    "    capacity, \n",
    "    1\n",
    ")\n",
    "\n",
    "oil_attrs['vessel_attributes']['cruise']['fuel_fit_coefs'] = (\n",
    "    cruise_fit_coefs.tolist()\n",
    ")\n",
    "\n",
    "cruise_length = numpy.arange(250, 350, 10)\n",
    "C = cruise_fit_coefs\n",
    "cruise_fit = (\n",
    "    C[1] +\n",
    "    C[0]*cruise_length\n",
    ")\n",
    "\n",
    "########### PLOT CRUISE DATA FIT ###############\n",
    "fig = plt.figure()\n",
    "ax1 = fig.add_subplot(111)\n",
    "\n",
    "# add ais-curated frequency data \n",
    "good_data = length>0\n",
    "ax1.scatter(\n",
    "    length[good_data],\n",
    "    capacity[good_data],\n",
    "    40,\n",
    "    label='Fuel capacity data',\n",
    "    color='tab:grey'\n",
    ")\n",
    "ax1.plot(cruise_length,\n",
    "         cruise_fit, \n",
    "         c='black', \n",
    "         label=f'linear fit: {C[1]:.02f} + {C[0]:.02f}*length'\n",
    "        )\n",
    "ax1.plot(\n",
    "    [numpy.min(cruise_length), numpy.max(cruise_length)],\n",
    "    [oil_attrs['vessel_attributes']['cruise']['min_fuel'], \n",
    "     oil_attrs['vessel_attributes']['cruise']['min_fuel']],\n",
    "    c='tab:grey',\n",
    "    label='Min/Max thresholds'\n",
    ")\n",
    "ax1.plot(\n",
    "    [numpy.min(cruise_length), numpy.max(cruise_length)],\n",
    "    [oil_attrs['vessel_attributes']['cruise']['max_fuel'], \n",
    "     oil_attrs['vessel_attributes']['cruise']['max_fuel']],\n",
    "    c='tab:grey'\n",
    ")\n",
    "\n",
    "ax1.plot(\n",
    "    [numpy.min(cruise_length), numpy.max(cruise_length)],\n",
    "    [5500000, 5500000], 'r:',\n",
    "    label='Max threshold before correction'\n",
    ")\n",
    "plt.xlabel('vessel length (m)',fontsize=12)\n",
    "plt.ylabel('fuel capacity (liters)',fontsize=12)\n",
    "plt.title(vessel_type, fontsize=16)\n",
    "plt.tight_layout()\n",
    "ax1.legend(bbox_to_anchor=(1.05, 1), loc='upper left')\n",
    "plt.savefig(graphics_directory/'cruise_fit.png', bbox_inches='tight')\n",
    "plt.show()\n",
    "\n",
    "#~~~ ferry traffic ~~~~~~~~~~~~~~~~~~~~~~~~~~~~~~~~~~~~~~~~~~~~~~~~~~~~~~~~~~\n",
    "min_length = ferry_df['AIS min length'][0]\n",
    "max_length = ferry_df['AIS max length'][0]\n",
    "length = ferry_df['vessel length (m)']\n",
    "capacity = ferry_df['fuel capacity (liters)']\n",
    "vessel_type = 'ferry'\n",
    "\n",
    "ferry_fit_coefs= numpy.polyfit(\n",
    "    length, \n",
    "    numpy.log(capacity), \n",
    "    1\n",
    ")\n",
    "\n",
    "oil_attrs['vessel_attributes']['ferry']['fuel_fit_coefs'] = (\n",
    "    ferry_fit_coefs.tolist()\n",
    ")\n",
    "\n",
    "ferry_length = numpy.arange(20,160,10)\n",
    "\n",
    "C = ferry_fit_coefs\n",
    "ferry_fit = (\n",
    "    numpy.exp(C[1])* \n",
    "    numpy.exp(C[0]*ferry_length)\n",
    ")\n",
    "\n",
    "print(f'Ferry tank volume for length of 75 m: {numpy.exp(C[1])* numpy.exp(C[0]*75):1.5e}')\n",
    "\n",
    "########### PLOT FERRY DATA FIT ###############\n",
    "fig = plt.figure()\n",
    "ax1 = fig.add_subplot(111)\n",
    "\n",
    "# add ais-curated frequency data \n",
    "good_data = length>0\n",
    "ax1.scatter(\n",
    "    length[good_data],\n",
    "    capacity[good_data],\n",
    "    40,\n",
    "    label='Fuel capacity data',\n",
    "    color='tab:grey'\n",
    ")\n",
    "ax1.plot(ferry_length,\n",
    "         ferry_fit, \n",
    "         c='black', \n",
    "         label=f'exponential fit: {numpy.exp(C[1]):.02f}*e^({C[0]:.02f}*length)'\n",
    "        )\n",
    "ax1.plot(\n",
    "    [numpy.min(ferry_length), numpy.max(ferry_length)],\n",
    "    [oil_attrs['vessel_attributes']['ferry']['min_fuel'], \n",
    "     oil_attrs['vessel_attributes']['ferry']['min_fuel']],\n",
    "    c='tab:grey',\n",
    "    label='Min/Max thresholds'\n",
    ")\n",
    "ax1.plot(\n",
    "    [numpy.min(ferry_length), numpy.max(ferry_length)],\n",
    "    [oil_attrs['vessel_attributes']['ferry']['max_fuel'], \n",
    "     oil_attrs['vessel_attributes']['ferry']['max_fuel']],\n",
    "    c='tab:grey'\n",
    ")\n",
    "plt.xlabel('vessel length (m)',fontsize=12)\n",
    "plt.ylabel('fuel capacity (liters)',fontsize=12)\n",
    "plt.title(vessel_type, fontsize=16)\n",
    "plt.tight_layout()\n",
    "ax1.legend(bbox_to_anchor=(1.05, 1), loc='upper left')\n",
    "plt.savefig(graphics_directory/'ferry_fit.png', bbox_inches='tight')\n",
    "plt.show()\n",
    "\n",
    "#~~~ fishing traffic ~~~~~~~~~~~~~~~~~~~~~~~~~~~~~~~~~~~~~~~~~~~~~~~~~~~~~~~~\n",
    "length = fishing_df['vessel length (m)']\n",
    "capacity = fishing_df['fuel capacity (liters)']\n",
    "vessel_type = 'fishing'\n",
    "\n",
    "fishing_exp_coefs= numpy.polyfit(\n",
    "    length, \n",
    "    numpy.log(capacity), \n",
    "    1\n",
    ")\n",
    "\n",
    "fishing_length = numpy.arange(0, 80, 1)\n",
    "Cexp = fishing_exp_coefs\n",
    "fishing_exp_fit = (\n",
    "    numpy.exp(Cexp[1])*\n",
    "    numpy.exp(Cexp[0]*fishing_length)\n",
    ")\n",
    "\n",
    "fishing_fit_coefs= numpy.polyfit(\n",
    "    length, \n",
    "    capacity, \n",
    "    2\n",
    ")\n",
    "oil_attrs['vessel_attributes']['fishing']['fuel_fit_coefs'] = (\n",
    "    fishing_fit_coefs.tolist()\n",
    ")\n",
    "\n",
    "C = fishing_fit_coefs\n",
    "fishing_fit = (\n",
    "    C[2]+\n",
    "    C[1]*fishing_length+\n",
    "    C[0]*fishing_length**2\n",
    ")\n",
    "\n",
    "########### PLOT FISHING DATA FIT ###############\n",
    "fig = plt.figure()\n",
    "ax1 = fig.add_subplot(111)\n",
    "\n",
    "# add ais-curated frequency data \n",
    "good_data = length>0\n",
    "ax1.scatter(\n",
    "    length[good_data],\n",
    "    capacity[good_data],\n",
    "    40,\n",
    "    label='Fuel capacity data',\n",
    "    color='tab:grey'\n",
    ")\n",
    "ax1.plot(fishing_length,\n",
    "         fishing_fit, \n",
    "         c='black', \n",
    "         label=f'quadratic fit: {C[0]:.02f}*(length)^2 + {C[1]:.02f}*(length) + {C[2]:.02f}'\n",
    "        )\n",
    "\n",
    "ax1.plot(\n",
    "    [numpy.min(fishing_length), numpy.max(fishing_length)],\n",
    "    [oil_attrs['vessel_attributes']['fishing']['min_fuel'], \n",
    "     oil_attrs['vessel_attributes']['fishing']['min_fuel']],\n",
    "    c='tab:grey',\n",
    "    label='Min/Max thresholds'\n",
    ")\n",
    "ax1.plot(\n",
    "    [numpy.min(fishing_length), numpy.max(fishing_length)],\n",
    "    [oil_attrs['vessel_attributes']['fishing']['max_fuel'], \n",
    "     oil_attrs['vessel_attributes']['fishing']['max_fuel']],\n",
    "    c='tab:grey'\n",
    ")\n",
    "\n",
    "#labels, etc.\n",
    "plt.xlabel('vessel length (m)',fontsize=12)\n",
    "plt.ylabel('fuel capacity (liters)',fontsize=12)\n",
    "plt.title(vessel_type, fontsize=16)\n",
    "plt.tight_layout()\n",
    "ax1.legend(bbox_to_anchor=(1.05, 1), loc='upper left')\n",
    "plt.savefig(graphics_directory/'fishing_fit.png', bbox_inches='tight')\n",
    "plt.show()\n",
    "\n",
    "#~~~ small passenger traffic ~~~~~~~~~~~~~~~~~~~~~~~~~~~~~~~~~~~~~~~~~~~~~~~~\n",
    "length = smallpass_df['vessel length (m)']\n",
    "capacity = smallpass_df['fuel capacity (liters)']\n",
    "vessel_type = 'smallpass'\n",
    "\n",
    "smallpass_fit_coefs= numpy.polyfit(\n",
    "    length, \n",
    "    numpy.log(capacity), \n",
    "    1\n",
    ")\n",
    "\n",
    "smallpass_fit_coefs_quad= numpy.polyfit(\n",
    "    length, \n",
    "    capacity, \n",
    "    2\n",
    ")\n",
    "\n",
    "oil_attrs['vessel_attributes']['smallpass']['fuel_fit_coefs'] = (\n",
    "    smallpass_fit_coefs.tolist()\n",
    ")\n",
    "\n",
    "smallpass_length = numpy.arange(0, 24, 1)\n",
    "C = smallpass_fit_coefs\n",
    "smallpass_fit = (\n",
    "    numpy.exp(C[1])*\n",
    "    numpy.exp(C[0]*smallpass_length)\n",
    ")\n",
    "\n",
    "C_q = smallpass_fit_coefs_quad\n",
    "smallpass_fit_q = (\n",
    "    C_q[2]+\n",
    "    C_q[1]*smallpass_length+\n",
    "    C_q[0]*smallpass_length**2\n",
    ")\n",
    "print(f'Small pass quadratic fit to 620m length: {(C_q[0]*620**2 + C_q[1]*620 + C_q[2]):.02f}')\n",
    "print(f'Small pass quadratic fit to 400m length: {(C_q[0]*400**2 + C_q[1]*400 + C_q[2]):.02f}')\n",
    "print(f'Small pass quadratic fit to 14m length: {(C_q[0]*14**2 + C_q[1]*14 + C_q[2]):.02f}')\n",
    "print(f'Small pass quadratic fit to 16m length: {(C_q[0]*16**2 + C_q[1]*16 + C_q[2]):.02f}')\n",
    "print(f'Small pass quadratic fit to 75m length: {(C_q[0]*75**2 + C_q[1]*75 + C_q[2]):.02f}')\n",
    "\n",
    "########### PLOT SMALL PASS DATA FIT ###############\n",
    "fig = plt.figure()\n",
    "ax1 = fig.add_subplot(111)\n",
    "\n",
    "# add ais-curated frequency data \n",
    "good_data = length>0\n",
    "ax1.scatter(\n",
    "    length[good_data],\n",
    "    capacity[good_data],\n",
    "    40,\n",
    "    label='Fuel capacity data',\n",
    "    color='tab:grey'\n",
    ")\n",
    "ax1.plot(\n",
    "    smallpass_length, \n",
    "    smallpass_fit, 'r:', \n",
    "    label=f'exponential fit: {numpy.exp(C[1]):.02f}*e^({C[0]:.02f}*length)'\n",
    ")\n",
    "ax1.plot(\n",
    "    smallpass_length, \n",
    "    smallpass_fit_q,  \n",
    "    c='black', \n",
    "    label=f'quadratic fit: {C_q[0]:.02f}*(length)^2 + {C_q[1]:.02f}*(length) + {C_q[2]:.02f}'\n",
    ")\n",
    "ax1.plot(\n",
    "    [numpy.min(smallpass_length), numpy.max(smallpass_length)],\n",
    "    [oil_attrs['vessel_attributes']['smallpass']['min_fuel'], \n",
    "     oil_attrs['vessel_attributes']['smallpass']['min_fuel']],\n",
    "    c='tab:grey',\n",
    "    label='Min/Max thresholds'\n",
    ")\n",
    "ax1.plot(\n",
    "    [numpy.min(smallpass_length), numpy.max(smallpass_length)],\n",
    "    [oil_attrs['vessel_attributes']['smallpass']['max_fuel'], \n",
    "     oil_attrs['vessel_attributes']['smallpass']['max_fuel']],\n",
    "    c='tab:grey'\n",
    ")\n",
    "#labels, etc.\n",
    "plt.xlabel('vessel length (m)',fontsize=12)\n",
    "plt.ylabel('fuel capacity (liters)',fontsize=12)\n",
    "plt.title(vessel_type, fontsize=16)\n",
    "plt.tight_layout()\n",
    "ax1.legend(bbox_to_anchor=(1.05, 1), loc='upper left')\n",
    "plt.savefig(graphics_directory/'smallpass_fit.png', bbox_inches='tight')\n",
    "plt.show()\n",
    "\n",
    "#~~~ other ~~~\n",
    "## Use same data as small passenger\n",
    "oil_attrs['vessel_attributes']['other']['fuel_fit_coefs'] = (\n",
    "    smallpass_fit_coefs.tolist()\n",
    ")\n",
    "\n",
    "\n",
    "with open(output_file, 'w') as file:\n",
    "    documents = yaml.safe_dump(oil_attrs, file)"
   ]
  },
  {
   "cell_type": "code",
   "execution_count": 18,
   "metadata": {},
   "outputs": [
    {
     "data": {
      "text/plain": [
       "[1746.9782184700002, 61315.85667218, 4621120.774437631]"
      ]
     },
     "execution_count": 18,
     "metadata": {},
     "output_type": "execute_result"
    }
   ],
   "source": [
    "# small passenger quadratic fit for median(small pass), max (small pass) and max(other)\n",
    "lengths = [16,75,620]\n",
    "[12.18041808*length**2 - 98.77603759*length + 209.20779143 for length in lengths]"
   ]
  },
  {
   "cell_type": "code",
   "execution_count": 19,
   "metadata": {},
   "outputs": [
    {
     "name": "stdout",
     "output_type": "stream",
     "text": [
      "3.1044720668977877 0.25853080128793177 3924.8683672839948\n"
     ]
    }
   ],
   "source": [
    "#~~~ small passenger traffic ~~~~~~~~~~~~~~~~~~~~~~~~~~~~~~~~~~~~~~~~~~~~~~~~\n",
    "length = smallpass_df['vessel length (m)']\n",
    "capacity = smallpass_df['fuel capacity (liters)']\n",
    "vessel_type = 'smallpass'\n",
    "\n",
    "smallpass_fit_coefs= numpy.polyfit(\n",
    "    length, \n",
    "    numpy.log(capacity), \n",
    "    1\n",
    ")\n",
    "\n",
    "oil_attrs['vessel_attributes']['smallpass']['fuel_fit_coefs'] = (\n",
    "    smallpass_fit_coefs.tolist()\n",
    ")\n",
    "\n",
    "smallpass_length = numpy.arange(0, 24, 1)\n",
    "C = smallpass_fit_coefs\n",
    "smallpass_fit = (\n",
    "    numpy.exp(C[1])*\n",
    "    numpy.exp(C[0]*smallpass_length)\n",
    ")\n",
    "print(C[1], C[0], numpy.exp(C[1])*\n",
    "    numpy.exp(C[0]*20)\n",
    "     )"
   ]
  },
  {
   "cell_type": "markdown",
   "metadata": {},
   "source": [
    "### Graphics"
   ]
  },
  {
   "cell_type": "code",
   "execution_count": 20,
   "metadata": {},
   "outputs": [],
   "source": [
    "## placeholder for tanker cargo capacity bins"
   ]
  },
  {
   "cell_type": "code",
   "execution_count": 21,
   "metadata": {},
   "outputs": [
    {
     "data": {
      "image/png": "[encoded data removed]",
      "text/plain": [
       "<Figure size 432x288 with 1 Axes>"
      ]
     },
     "metadata": {
      "needs_background": "light"
     },
     "output_type": "display_data"
    },
    {
     "data": {
      "text/plain": [
       "<Figure size 432x288 with 0 Axes>"
      ]
     },
     "metadata": {},
     "output_type": "display_data"
    }
   ],
   "source": [
    "#~~~~ ATB (> 50 m) fuel capacity line fit ~~~~\n",
    "C = oil_attrs['vessel_attributes']['atb']['fuel_fit_coefs']\n",
    "test_length = numpy.arange(60,230,5)\n",
    "test_atb_fit = ( \n",
    "    C[1] + \n",
    "    C[0]*test_length \n",
    ")\n",
    "\n",
    "atbfig = plt.figure()\n",
    "ax1 = atbfig.add_subplot(111)\n",
    "ax1.scatter(\n",
    "    atb_df['Vessel Length (AIS + <50 m correction)'][good_values],\n",
    "    atb_df['Total Fuel Capacity (liters)'][good_values],\n",
    "    60,\n",
    "    label='AIS curated data',\n",
    "    color='royalblue'\n",
    ")\n",
    "ax1.plot(test_length, test_atb_fit, c='royalblue', label='linear fit')\n",
    "plt.xlabel('ATB length (m)',fontsize=12)\n",
    "plt.ylabel('ATB fuel capacity (liters)',fontsize=12)\n",
    "plt.tight_layout()\n",
    "ax1.legend()\n",
    "#plt.savefig('ATB_cargo_ais.png')\n",
    "plt.show()\n",
    "plt.savefig(graphics_directory/'atb_fuel_fit.png')"
   ]
  },
  {
   "cell_type": "code",
   "execution_count": 22,
   "metadata": {},
   "outputs": [
    {
     "data": {
      "image/png": "[encoded data removed]",
      "text/plain": [
       "<Figure size 432x288 with 1 Axes>"
      ]
     },
     "metadata": {
      "needs_background": "light"
     },
     "output_type": "display_data"
    }
   ],
   "source": [
    "#~~~~ ATB (< 50 m) and tank barge cargo capacity weighting ~~~~\n",
    "fig = plt.figure()\n",
    "ax2 = fig.add_subplot(111)\n",
    "\n",
    "# add binned-ship-track frequencies\n",
    "ax2.bar(\n",
    "    cargo_bin_centers,\n",
    "    binned_atb_count_cargo,\n",
    "    width=0.3e6,\n",
    "    label='AIS pings(MMSI) * (pings interval (MMSI))/median(ping interval (MMSI)) binned by MMSI cargo capacity',\n",
    "    color='darkslateblue'\n",
    ")\n",
    "\n",
    "# add ais-curated frequency data \n",
    "ax2.scatter(\n",
    "    atb_df['Cargo Capacity (liters)'][0:18],\n",
    "    atb_data_df['COUNT'],\n",
    "    50,\n",
    "    label='AIS pings by cargo capacity for each ATB MMSI',\n",
    "    color='yellowgreen'\n",
    ")\n",
    "\n",
    "#labels, etc.\n",
    "plt.xlabel('Oil cargo capacity (liters)',fontsize=12)\n",
    "plt.ylabel('AIS pings scaled by interval weights',fontsize=12)\n",
    "plt.tight_layout()\n",
    "ax2.legend()\n",
    "plt.savefig(graphics_directory/'tank_barge_pings_binnedbycapacity.png')\n",
    "plt.show() "
   ]
  },
  {
   "cell_type": "code",
   "execution_count": 23,
   "metadata": {},
   "outputs": [
    {
     "data": {
      "image/png": "[encoded data removed]",
      "text/plain": [
       "<Figure size 432x288 with 1 Axes>"
      ]
     },
     "metadata": {
      "needs_background": "light"
     },
     "output_type": "display_data"
    }
   ],
   "source": [
    "small = atb_df['Vessel length (AIS)']<50\n",
    "atbfig = plt.figure()\n",
    "ax1 = atbfig.add_subplot(111)\n",
    "ax1.scatter(\n",
    "    atb_df['Vessel length (AIS)'][small],\n",
    "    atb_df['Total Fuel Capacity (liters)'][small],\n",
    "    60,\n",
    "    label='AIS curated data',\n",
    "    color='royalblue'\n",
    ")\n",
    "#ax1.plot(test_length, test_atb_fit, c='royalblue', label='linear fit')\n",
    "plt.xlabel('ATB length (m)',fontsize=12)\n",
    "plt.ylabel('ATB fuel capacity (liters)',fontsize=12)\n",
    "plt.tight_layout()\n",
    "ax1.legend()\n",
    "#plt.savefig('ATB_cargo_ais.png')\n",
    "plt.show()"
   ]
  },
  {
   "cell_type": "code",
   "execution_count": 24,
   "metadata": {},
   "outputs": [
    {
     "data": {
      "image/png": "[encoded data removed]",
      "text/plain": [
       "<Figure size 432x288 with 1 Axes>"
      ]
     },
     "metadata": {
      "needs_background": "light"
     },
     "output_type": "display_data"
    }
   ],
   "source": [
    "#~~~~ plot  ais pings by vessel lengths  and ais pings by binned lengths, for comparison~~~~\n",
    "aisfig = plt.figure()\n",
    "ax1 = aisfig.add_subplot(111)\n",
    "\n",
    "\n",
    "# add binned-ship-track frequencies\n",
    "ax1.bar(\n",
    "    cargo_bin_centers,\n",
    "    binned_atb_count_cargo,\n",
    "    width=0.3e6,\n",
    "    label='Binned distances',\n",
    "    color='darkslateblue'\n",
    ")\n",
    "\n",
    "# add ais-curated frequency data \n",
    "good_data = atb_df['Cargo Capacity (liters)']>0\n",
    "ax1.scatter(\n",
    "    atb_df['Cargo Capacity (liters)'][good_data],\n",
    "    atb_data_df['COUNT'][good_data],\n",
    "    50,\n",
    "    label='AIS total distance and capacity by ship',\n",
    "    color='yellowgreen'\n",
    ")\n",
    "\n",
    "#labels, etc.\n",
    "plt.xlabel('ATB cargo capacity (liters)',fontsize=12)\n",
    "plt.ylabel('Distance traveled (km)',fontsize=12)\n",
    "plt.tight_layout()\n",
    "ax1.legend()\n",
    "#plt.savefig('ATB_frequency_ais.png')\n",
    "plt.show() "
   ]
  },
  {
   "cell_type": "code",
   "execution_count": 25,
   "metadata": {},
   "outputs": [
    {
     "data": {
      "text/plain": [
       "{'probability_fuel': 0.2,\n",
       " 'probability_cargo': 0.8,\n",
       " 'min_cargo': 7593628,\n",
       " 'max_cargo': 185447000,\n",
       " 'min_fuel': 740700,\n",
       " 'min_length': 150,\n",
       " 'max_fuel': 4155000,\n",
       " 'max_length': 300,\n",
       " 'tanker_types': ['Small Tanker (< 150 m)',\n",
       "  'Handymax (151-200 m)',\n",
       "  'Aframax (201-250 m)',\n",
       "  'SuezMax (251-300 m)'],\n",
       " 'fuel_hfo_to_diesel': [12.793296089385475,\n",
       "  14.046153846153846,\n",
       "  17.419753086419753,\n",
       "  30.96153846153846],\n",
       " 'fuel_capacity': [740700, 1956000, 2984000, 4155000],\n",
       " 'cargo_capacity': [7748600, 53000000, 126211000, 185447000],\n",
       " 'vessel_lengths': [108.5, 182.0, 247.24, 281.0],\n",
       " 'length_bins': ((0, 151), (151, 201), (201, 251), (251, 301))}"
      ]
     },
     "execution_count": 25,
     "metadata": {},
     "output_type": "execute_result"
    }
   ],
   "source": [
    "oil_attrs['vessel_attributes']['tanker']"
   ]
  },
  {
   "cell_type": "code",
   "execution_count": 26,
   "metadata": {},
   "outputs": [
    {
     "data": {
      "text/plain": [
       "((0, 151), (151, 201), (201, 251), (251, 301))"
      ]
     },
     "execution_count": 26,
     "metadata": {},
     "output_type": "execute_result"
    }
   ],
   "source": [
    "oil_attrs['vessel_attributes']['tanker']['length_bins']"
   ]
  },
  {
   "cell_type": "code",
   "execution_count": 27,
   "metadata": {},
   "outputs": [
    {
     "data": {
      "text/plain": [
       "[(75000, 100000),\n",
       " (100000, 125000),\n",
       " (125000, 150000),\n",
       " (150000, 175000),\n",
       " (175000, 200000),\n",
       " (200000, 225000),\n",
       " (225000, 250000),\n",
       " (250000, 275000),\n",
       " (275000, 300000),\n",
       " (300000, 325000),\n",
       " (325000, 350000),\n",
       " (350000, 375000),\n",
       " (375000, 400000),\n",
       " (400000, 425000),\n",
       " (425000, 450000),\n",
       " (450000, 475000),\n",
       " (475000, 500000),\n",
       " (500000, 525000),\n",
       " (525000, 550000),\n",
       " (550000, 575000),\n",
       " (575000, 600000),\n",
       " (600000, 625000),\n",
       " (625000, 650000),\n",
       " (650000, 675000)]"
      ]
     },
     "execution_count": 27,
     "metadata": {},
     "output_type": "execute_result"
    }
   ],
   "source": [
    "oil_attrs['vessel_attributes']['atb']['fuel_capacity_bins']"
   ]
  },
  {
   "cell_type": "code",
   "execution_count": 28,
   "metadata": {},
   "outputs": [],
   "source": [
    "bins = []\n",
    "center_points = []\n",
    "for index in range(len(tanker_df['min length (m)']-1)):\n",
    "    bins.append(\n",
    "        (tanker_df['min length (m)'][index].tolist(), \n",
    "         tanker_df['max length (m)'][index].tolist()+1)\n",
    "    )\n",
    "    step_size = (\n",
    "        tanker_df['max length (m)'][index].tolist() - \n",
    "        tanker_df['min length (m)'][index].tolist()\n",
    "    )\n",
    "    center_points.append(tanker_df['min length (m)'][index] + step_size/2)\n",
    "\n"
   ]
  },
  {
   "cell_type": "code",
   "execution_count": 29,
   "metadata": {},
   "outputs": [
    {
     "data": {
      "text/plain": [
       "[(0, 151), (151, 201), (201, 251), (251, 301)]"
      ]
     },
     "execution_count": 29,
     "metadata": {},
     "output_type": "execute_result"
    }
   ],
   "source": [
    "bins"
   ]
  },
  {
   "cell_type": "code",
   "execution_count": 30,
   "metadata": {},
   "outputs": [
    {
     "data": {
      "text/plain": [
       "[0, 151, 201, 251]"
      ]
     },
     "execution_count": 30,
     "metadata": {},
     "output_type": "execute_result"
    }
   ],
   "source": [
    "tanker_df['min length (m)'].tolist()"
   ]
  },
  {
   "cell_type": "code",
   "execution_count": 31,
   "metadata": {},
   "outputs": [
    {
     "data": {
      "text/plain": [
       "1.0"
      ]
     },
     "execution_count": 31,
     "metadata": {},
     "output_type": "execute_result"
    }
   ],
   "source": [
    "sum(oil_attrs['vessel_attributes']['atb']['fuel_capacity_probability'])"
   ]
  },
  {
   "cell_type": "code",
   "execution_count": 32,
   "metadata": {},
   "outputs": [],
   "source": [
    "numerator = binned_atb_count_by_fuel\n",
    "denomintor = binned_atb_count_by_fuel.sum()\n",
    "fuel_weights = numpy.around(\n",
    "        numerator / denominator,\n",
    "        decimals = 2\n",
    ")"
   ]
  },
  {
   "cell_type": "code",
   "execution_count": 33,
   "metadata": {},
   "outputs": [
    {
     "data": {
      "text/plain": [
       "1.0"
      ]
     },
     "execution_count": 33,
     "metadata": {},
     "output_type": "execute_result"
    }
   ],
   "source": [
    "sum(fuel_weights)"
   ]
  },
  {
   "cell_type": "code",
   "execution_count": null,
   "metadata": {},
   "outputs": [],
   "source": []
  },
  {
   "cell_type": "code",
   "execution_count": null,
   "metadata": {},
   "outputs": [],
   "source": []
  }
 ],
 "metadata": {
  "kernelspec": {
   "display_name": "Python 3",
   "language": "python",
   "name": "python3"
  },
  "language_info": {
   "codemirror_mode": {
    "name": "ipython",
    "version": 3
   },
   "file_extension": ".py",
   "mimetype": "text/x-python",
   "name": "python",
   "nbconvert_exporter": "python",
   "pygments_lexer": "ipython3",
   "version": "3.9.2"
  }
 },
 "nbformat": 4,
 "nbformat_minor": 4
}
