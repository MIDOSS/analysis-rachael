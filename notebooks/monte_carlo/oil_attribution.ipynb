{
 "cells": [
  {
   "cell_type": "markdown",
   "metadata": {
    "tags": []
   },
   "source": [
    "---\n",
    "# Create main input .yaml file for monte carlo setup\n",
    "---\n",
    "\n",
    "Use `analysis-rachael/env/monte_carlo.yaml` to create an environment for this notebook:\n",
    "```\n",
    " conda env create -f [analysis-rachael/env/monte_carlo.yaml]\n",
    "```\n",
    "or, to activate this environment, use\n",
    "```\n",
    " conda activate monte-carlo\n",
    "```\n",
    "To deactivate an active environment, use\n",
    "```\n",
    " conda deactivate\n",
    "```"
   ]
  },
  {
   "cell_type": "markdown",
   "metadata": {},
   "source": [
    "---\n",
    "# Create main .yaml\n",
    "---"
   ]
  },
  {
   "cell_type": "code",
   "execution_count": 1,
   "metadata": {},
   "outputs": [],
   "source": [
    "import sys\n",
    "import yaml\n",
    "import pathlib\n",
    "import numpy\n",
    "import pandas\n",
    "import matplotlib.pyplot as plt\n",
    "import os\n",
    "import warnings\n",
    "from dask import delayed\n",
    "from monte_carlo_utils import make_bins, get_bin, place_into_bins, decimal_divide\n",
    "from monte_carlo_utils import get_DOE_atb, get_DOE_barges\n",
    "from monte_carlo_utils import get_voyage_transfers, assign_facility_region, concat_shp\n",
    "# for handymax tankers\n",
    "from monte_carlo_utils import split_doe_transfers, get_doe_tanker_byvessel"
   ]
  },
  {
   "cell_type": "markdown",
   "metadata": {},
   "source": [
    "### Set values used in calcuations"
   ]
  },
  {
   "cell_type": "code",
   "execution_count": 2,
   "metadata": {},
   "outputs": [],
   "source": [
    "# This is the precision used to calculate weights \n",
    "precision = 2"
   ]
  },
  {
   "cell_type": "markdown",
   "metadata": {},
   "source": [
    "### Define Directories & Create Dictionary Structure\n",
    "- See [QAQC_Tanker_AISlengths_DOEcapacities](https://github.com/MIDOSS/analysis-rachael/tree/main/notebooks/monte_carlo) notebook for information on handymax_capacity.yaml"
   ]
  },
  {
   "cell_type": "code",
   "execution_count": 3,
   "metadata": {},
   "outputs": [],
   "source": [
    "# Initialize dictionaries used in this notebook \n",
    "# Master dictionary used to output values to oil_attribution.yaml\n",
    "oil_attrs = {}\n",
    "\n",
    "# AIS ship track dictionary, collating 2018 data by vessel types 'tanker','atb','barge'\n",
    "allTracks = {}\n",
    "\n",
    "# Handymax cargo capacity and probability\n",
    "mmsi_names = {}\n",
    "N_MMSI = {} # number of mmsi in each size class\n",
    "volume = {}\n",
    "one_way = {} # import or export at marine terminal stop\n",
    "two_way = {} # both import and export at marine terminal stop\n",
    "handyVoyages = {}\n",
    "capacity = {} # cargo capacity weights and values"
   ]
  },
  {
   "cell_type": "code",
   "execution_count": 4,
   "metadata": {},
   "outputs": [],
   "source": [
    "#~~~ create dictionary structure ~~~~~~~~~~~~~~~~~~~~~~~~~~~~~~~~~~~~~~~~~~~~\n",
    "\n",
    "\n",
    "# create a section for directories and filenames\n",
    "oil_attrs['directories'] = {}\n",
    "oil_attrs['directories']['root'] = pathlib.Path('/data/MIDOSS/')\n",
    "oil_attrs['directories']['data'] = oil_attrs['directories']['root'] / 'marine_transport_data/'\n",
    "oil_attrs['directories']['shapefiles'] = oil_attrs['directories']['root'] / 'shapefiles/' \n",
    "oil_attrs['directories']['spreadsheets'] = oil_attrs['directories']['root'] / 'spreadsheets'\n",
    "oil_attrs['directories']['graphics'] = oil_attrs['directories']['root'] / 'graphics'\n",
    "\n",
    "# to support smaller line lengths\n",
    "ddata = oil_attrs['directories']['data']\n",
    "dsprd = oil_attrs['directories']['spreadsheets']\n",
    "\n",
    "# Create dictionary of file names and locations\n",
    "oil_attrs['files'] = {} \n",
    "oil_attrs['files']['output_file']    = ddata/'oil_attribution.yaml'\n",
    "oil_attrs['files']['ais_ping_data']  = ddata/'Origin_Destination_Analysis_updated.xlsx'\n",
    "oil_attrs['files']['doe_transfers']  = dsprd/'MuellerTrans4-30-20.xlsx'    \n",
    "oil_attrs['files']['oil_facilities'] = ddata/'Oil_Transfer_Facilities.xlsx'\n",
    "# yaml files with Dept. of Ecology oil transfer data \n",
    "# US_origin is for US as origin \n",
    "# US_all represents the combined import and export of fuel\n",
    "oil_attrs['files']['CAD_origin']     = ddata/'CAD_origin.yaml'\n",
    "oil_attrs['files']['WA_destination'] = ddata/'WA_destination.yaml'\n",
    "oil_attrs['files']['WA_origin']      = ddata/'WA_origin.yaml'\n",
    "oil_attrs['files']['US_origin']      = ddata/'US_origin.yaml'\n",
    "oil_attrs['files']['US_combined']    = ddata/'US_general.yaml'\n",
    "oil_attrs['files']['Pacific_origin'] = ddata/'Pacific_origin.yaml'\n",
    "oil_attrs['files']['fuel']           = ddata/'fuel_by_vessel.yaml'\n",
    "oil_attrs['files']['fill_fraction']  = ddata/'fill_fraction.yaml'\n",
    "\n",
    "# excel spreadsheet with oil capacity data for all vessel types\n",
    "oil_attrs['files']['oil_capacity']   = ddata/'oil_capacity.xlsx'\n",
    "\n",
    "# yaml file for special case of Handimax tanker cargo capacity\n",
    "oil_attrs['files']['handimax_capacity']  = ddata/'handymax_capacity.yaml'\n",
    "\n",
    "# weights for allocating tank barge capacities for ATBs < 50 m and tank barges \n",
    "oil_attrs['files']['barge_weights']  = ddata/'barge_capacity.yaml'\n",
    "\n",
    "#~~~ Model setup categories ~~~~~~~~~~~~~~~~~~~~~~~~~~~~~~~~~~~~~~~~~~~~~~~~~\n",
    "\n",
    "# create a section for general categories \n",
    "oil_attrs['categories'] = {}\n",
    "\n",
    "# labels for AIS ship traffic groups\n",
    "oil_attrs['categories']['all_vessels'] = [\n",
    "    'tanker', \n",
    "    'atb', \n",
    "    'barge', \n",
    "    'cargo', \n",
    "    'cruise',\n",
    "    'ferry', \n",
    "    'fishing', \n",
    "    'smallpass', \n",
    "    'other'\n",
    "]\n",
    "\n",
    "# labels for oil tank traffic identified in AIS\n",
    "oil_attrs['categories']['tank_vessels'] = [\n",
    "    'tanker', \n",
    "    'atb', \n",
    "    'barge'\n",
    "]\n",
    "\n",
    "# tanker size classes \n",
    "oil_attrs['categories']['tanker_size_classes'] = [\n",
    "    \"Smallest Tanker (< 60 m)\"\n",
    "    \"Small Tanker (61 - 150 m)\", \n",
    "    \"Handymax (151-200 m)\", \n",
    "    \"Aframax (201-250 m)\", \n",
    "    \"SuezMax (251-300 m)\" \n",
    "]\n",
    "\n",
    "# fuel types used in categorizing Dept. of Ecology data and \n",
    "# for which we have Lagrangian files \n",
    "# Most \"other\" is CatFeed VGO, which we characterize as Bunker\n",
    "oil_attrs['categories']['fuel_type']    = [\n",
    "    'akns', \n",
    "    'bunker', \n",
    "    'dilbit', \n",
    "    'jet', \n",
    "    'diesel', \n",
    "    'gas', \n",
    "    'other'\n",
    "]\n",
    "\n",
    "# Labels given to ship tracks in our AIS origin-destination analysis.\n",
    "# Generic attributions are given for voyages > 2 km with a start and/or end \n",
    "# that isn't close enough to marine terminal to attribute to a marine terminal.\n",
    "oil_attrs['categories']['generic_origin_destination'] = [\n",
    "    'Pacific',\n",
    "    'US',\n",
    "    'Canada'\n",
    "]\n",
    "oil_attrs['categories']['CAD_origin_destination'] = [\n",
    "    'ESSO Nanaimo Departure Bay',\n",
    "    'Suncor Nanaimo',\n",
    "    'Shell Chemainus Bare Point',\n",
    "    'Chevron Cobble Hill',\n",
    "    'Chevron Stanovan',\n",
    "    'Barge Mooring Near Stanovan',\n",
    "    'Shell Shellburn',\n",
    "    'Westridge Marine Terminal',\n",
    "    'ESSO IOCO Vancouver',\n",
    "    'Suncor Vancouver'\n",
    "]\n",
    "# Terminals that are grouped in voyage joins are removed, e.g.:\n",
    "# 'Maxum Petroleum - Harbor Island Terminal' and \n",
    "# 'Shell Oil LP Seattle Distribution Terminal' are represented by\n",
    "# 'Kinder Morgan Liquids Terminal - Harbor Island'. \n",
    "# 'Nustar Energy Tacoma' is represented by 'Phillips 66 Tacoma Terminal'\n",
    "oil_attrs['categories']['US_origin_destination'] = [ \n",
    "    'BP Cherry Point Refinery', \n",
    "    'Shell Puget Sound Refinery', \n",
    "    'Tidewater Snake River Terminal', \n",
    "    'SeaPort Sound Terminal', \n",
    "    'Tesoro Vancouver Terminal',\n",
    "    'Phillips 66 Ferndale Refinery', \n",
    "    'Phillips 66 Tacoma Terminal', \n",
    "    'Marathon Anacortes Refinery (formerly Tesoro)',\n",
    "    'Tesoro Port Angeles Terminal',\n",
    "    'U.S. Oil & Refining',\n",
    "    'Naval Air Station Whidbey Island (NASWI)',\n",
    "    'NAVSUP Manchester', \n",
    "    'Alon Asphalt Company (Paramount Petroleum)', \n",
    "    'Kinder Morgan Liquids Terminal - Harbor Island',\n",
    "    'Nustar Energy Vancouver',\n",
    "    'Tesoro Pasco Terminal', \n",
    "    'REG Grays Harbor, LLC', \n",
    "    'Tidewater Vancouver Terminal',\n",
    "    'TLP Management Services LLC (TMS)']\n",
    "\n",
    "# ~~~ Create dictionary structure for vessel attributes  ~~~~~~~~~~~~~~~~~~~~\n",
    "\n",
    "# create sections organized by vessel type\n",
    "oil_attrs['vessel_attributes'] = {}\n",
    "\n",
    "for vessels in oil_attrs['categories']['all_vessels']:\n",
    "    oil_attrs['vessel_attributes'][vessels] = {}"
   ]
  },
  {
   "cell_type": "markdown",
   "metadata": {},
   "source": [
    "# Load oil capacity data"
   ]
  },
  {
   "cell_type": "code",
   "execution_count": 5,
   "metadata": {},
   "outputs": [],
   "source": [
    "#~~~ tanker traffic ~~~~~~~~~~~~~~~~~~~~~~~~~~~~~~~~~~~~~~~~~~~~~~~~~~~~~~~~~\n",
    "tanker_df = pandas.read_excel(\n",
    "    oil_attrs['files']['oil_capacity'],\n",
    "    sheet_name='tanker', \n",
    "    usecols='B,C,F,G,H,I'\n",
    ")\n",
    "#~~~ atb traffic ~~~~~~~~~~~~~~~~~~~~~~~~~~~~~~~~~~~~~~~~~~~~~~~~~~~~~~~~~~~~\n",
    "# fuel and cargo capacity information\n",
    "# K: \"Vessel length (AIS)\"\n",
    "# L: \"Vessel Length (AIS + <50 m correction)\"\n",
    "# O: \"Total Fuel Capacity (liters)\"\n",
    "# P: \"Cargo Capacity (liters)\"\n",
    "\n",
    "atb_df = pandas.read_excel(\n",
    "    oil_attrs['files']['oil_capacity'],\n",
    "    sheet_name='atb', \n",
    "    usecols='K,L,O,P',\n",
    "    skiprows=1\n",
    ")\n",
    "\n",
    "# AIS information\n",
    "# B: COUNT, \n",
    "# C: LENGTH, \n",
    "# D: Median time\n",
    "atb_data_df = pandas.read_excel(\n",
    "    oil_attrs['files']['oil_capacity'],\n",
    "    sheet_name='atb data', \n",
    "    usecols='B,C,D'\n",
    ")\n",
    "#~~~ cargo traffic ~~~~~~~~~~~~~~~~~~~~~~~~~~~~~~~~~~~~~~~~~~~~~~~~~~~~~~~~~~\n",
    "cargo_df = pandas.read_excel(\n",
    "    oil_attrs['files']['oil_capacity'],\n",
    "    sheet_name='cargo', \n",
    "    usecols='B,D,I,J'\n",
    ")\n",
    "#~~~ cruise traffic ~~~~~~~~~~~~~~~~~~~~~~~~~~~~~~~~~~~~~~~~~~~~~~~~~~~~~~~~~\n",
    "cruise_df = pandas.read_excel(\n",
    "    oil_attrs['files']['oil_capacity'],\n",
    "    sheet_name='cruise', \n",
    "    usecols='B,D,I,J'\n",
    ")\n",
    "#~~~ ferry traffic ~~~~~~~~~~~~~~~~~~~~~~~~~~~~~~~~~~~~~~~~~~~~~~~~~~~~~~~~~~\n",
    "ferry_df = pandas.read_excel(\n",
    "    oil_attrs['files']['oil_capacity'],\n",
    "    sheet_name='ferry', \n",
    "    usecols='B,D,I,J'\n",
    ")\n",
    "#~~~ small passenger traffic ~~~~~~~~~~~~~~~~~~~~~~~~~~~~~~~~~~~~~~~~~~~~~~~~\n",
    "smallpass_df = pandas.read_excel(\n",
    "    oil_attrs['files']['oil_capacity'],\n",
    "    sheet_name='smallpass', \n",
    "    usecols='B,D'\n",
    ")\n",
    "#~~~ fishing traffic ~~~~~~~~~~~~~~~~~~~~~~~~~~~~~~~~~~~~~~~~~~~~~~~~~~~~~~~~\n",
    "fishing_df = pandas.read_excel(\n",
    "    oil_attrs['files']['oil_capacity'],\n",
    "    sheet_name='fishing', \n",
    "    usecols='A,C,I,J'\n",
    ")"
   ]
  },
  {
   "cell_type": "markdown",
   "metadata": {},
   "source": [
    "---"
   ]
  },
  {
   "cell_type": "markdown",
   "metadata": {},
   "source": [
    "# Estimate probabilities of barge oil cargo based on ATB ship tracks and oil transfer data\n",
    "This code was developed in `Quantify_AIS_barge_attributions.ipynb`"
   ]
  },
  {
   "cell_type": "markdown",
   "metadata": {},
   "source": [
    "## Concatenate all monthly ship track data to get values for entire year"
   ]
  },
  {
   "cell_type": "code",
   "execution_count": 6,
   "metadata": {},
   "outputs": [
    {
     "name": "stdout",
     "output_type": "stream",
     "text": [
      "creating tanker shapefile for 2018, starting with January data\n",
      "Concatenating tanker data from month 2\n",
      "Concatenating tanker data from month 3\n",
      "Concatenating tanker data from month 4\n",
      "Concatenating tanker data from month 5\n",
      "Concatenating tanker data from month 6\n",
      "Concatenating tanker data from month 7\n",
      "Concatenating tanker data from month 8\n",
      "Concatenating tanker data from month 9\n",
      "Concatenating tanker data from month 10\n",
      "Concatenating tanker data from month 11\n",
      "Concatenating tanker data from month 12\n",
      "CPU times: user 1min 8s, sys: 1.57 s, total: 1min 9s\n",
      "Wall time: 1min 10s\n"
     ]
    }
   ],
   "source": [
    "%%time\n",
    "allTracks[\"tanker\"] = concat_shp(\"tanker\", oil_attrs['directories']['shapefiles'])\n",
    "allTracks[\"tanker\"] = allTracks[\"tanker\"].reset_index(drop=True)"
   ]
  },
  {
   "cell_type": "markdown",
   "metadata": {},
   "source": [
    "# Calculate values for Handymax size tankers"
   ]
  },
  {
   "cell_type": "code",
   "execution_count": 7,
   "metadata": {},
   "outputs": [
    {
     "name": "stdout",
     "output_type": "stream",
     "text": [
      "0 19025.0\n",
      "1 84730.0\n",
      "2 572427.0\n",
      "3 142846.0\n",
      "4 272345.0\n"
     ]
    },
    {
     "data": {
      "image/png": "[encoded data removed]",
      "text/plain": [
       "<Figure size 432x288 with 1 Axes>"
      ]
     },
     "metadata": {
      "needs_background": "light"
     },
     "output_type": "display_data"
    }
   ],
   "source": [
    "# Create bins for size classes\n",
    "bins = []\n",
    "bins.append((0, 60))\n",
    "bins.append((61, 150))\n",
    "bins.append((151, 200))\n",
    "bins.append((201, 250))\n",
    "bins.append((251, 300))\n",
    "\n",
    "# Create list of names for tanker size classes evaluated\n",
    "size_classes = [\n",
    "    \"Smallest Tanker (< 60 m)\",\n",
    "    \"Small Tanker (61 - 150 m)\", \n",
    "    \"Handymax (151-200 m)\", \n",
    "    \"Aframax (201-250 m)\", \n",
    "    \"Suezmax (251-300 m)\" \n",
    "]\n",
    "\n",
    "binned_data = numpy.zeros(len(bins))\n",
    "binned_mmsi = pandas.DataFrame(columns = size_classes)\n",
    "for idx,value in enumerate(allTracks[\"tanker\"][\"LENGTH\"]):\n",
    "    if value > 0:\n",
    "        bin_index = get_bin(value, bins)  \n",
    "        binned_data[bin_index] += 1\n",
    "        \n",
    "fig, ax = plt.subplots()    \n",
    "#width = 0.75 # the width of the bars \n",
    "ind = numpy.arange(len(binned_data))  # the x locations for the groups\n",
    "ax.bar(ind, binned_data, color=\"blue\")\n",
    "ax.set_xticks(ind-3/4)\n",
    "ax.set_xticklabels(size_classes, minor=False, rotation=45)\n",
    "ax.tick_params(axis = \"x\", which = \"both\", bottom = False, top = False)\n",
    "plt.title('Number of AIS ship tracks in 2018, by tanker size class ')\n",
    "#plt.xlabel('Tanker size class', rotation=45)\n",
    "plt.ylabel('Number of AIS ship tracks')\n",
    "for i, v in enumerate(binned_data):\n",
    "    print(i,v)\n",
    "    ax.text(i, v, str(v), color='black', fontweight='bold', ha='center', va='bottom')\n",
    "    \n",
    "plt.savefig(oil_attrs['directories']['graphics'] / 'AIS_tracks_by_sizeclass_2018.png', \n",
    "            bbox_inches='tight'\n",
    "           )"
   ]
  },
  {
   "cell_type": "markdown",
   "metadata": {},
   "source": [
    "## Link vessel names to MMSI with the most AIS ship tracks in 2018, by category\n",
    "- See [QAQC_Tanker_AISlength_DOECapacities.ipynb](https://github.com/MIDOSS/analysis-rachael/blob/main/notebooks/monte_carlo/QAQC_Tanker_AISlengths_DOEcapacities.ipynb) for vessel ranking and selection using `binned_mmsi`"
   ]
  },
  {
   "cell_type": "code",
   "execution_count": 8,
   "metadata": {},
   "outputs": [],
   "source": [
    "mmsi_names[\"Smallest Tanker (< 60 m)\"]= {\n",
    "    368009250:\"GLOBAL PROVIDER\"\n",
    "}\n",
    "mmsi_names[\"Small Tanker (61 - 150 m)\"] = {\n",
    "    355320000:\"KIRKEHOLMEN\",\n",
    "    566306000:\"MTM HOUSTON\",\n",
    "    477636500:\"BOCHEM LONDON\"\n",
    "}\n",
    "mmsi_names[\"Handymax (151-200 m)\"] = {\n",
    "    369042000:\"AMERICAN FREEDOM\",\n",
    "    367353110:\"PELICAN STATE\", \n",
    "    366855000:\"FLORIDA\", \n",
    "    367134000:\"OVERSEAS LOS ANGELES\",\n",
    "    369040000:\"AMERICAN ENDURANCE\",\n",
    "    356159000:\"OPEC VICTORY\",\n",
    "    212656000:\"PANAGIA THALASSINI\",\n",
    "    538006302:\"SONGA PRIDE\",\n",
    "    538004682:\"ZAO GALAXY\",\n",
    "    538007277:\"CHEMBULK LINDY ALICE\",\n",
    "    538004167:\"ARGENT IRIS\",\n",
    "    338221000:\"OVERSEAS BOSTON\",\n",
    "    477185200:\"RAINBOW STAR\",\n",
    "    538005425:\"STI BATTERY\",\n",
    "    636017622:\"HIGH CHALLENGE\",\n",
    "    538006892:\"NAVIG8 SPARK\",\n",
    "    563054800:\"NAEBA GALAXY\",\n",
    "    563046100:\"HODAKA GALAXY\",\n",
    "    367353070:\"EVERGREEN STATE\",\n",
    "    566150000:\"MAERSK TIANJIN\",\n",
    "}\n",
    "mmsi_names[\"Aframax (201-250 m)\"] = {         \n",
    "    636015178:\"AQUALEGACY\",\n",
    "    220518000:\"TORM EMILIE\",\n",
    "    255806154:\"NORDTULIP\",\n",
    "    311943000:\"GULF PEARL\",\n",
    "    538001893:\"ELAN VITAL\"\n",
    "}\n",
    "mmsi_names[\"Suezmax (251-300 m)\"] = {\n",
    "    303294000:\"ALASKAN EXPLORER\",\n",
    "    367688000:\"ALASKAN NAVIGATOR\", \n",
    "    303656000:\"ALASKA LEGEND\", \n",
    "    366948190:\"ALASKA FRONTIER\"\n",
    "}\n",
    "\n",
    "# Count the number of MMSI used in each size class to evaluate cargo capacity using the DOE database\n",
    "N_MMSI[\"Smallest\"] = len(mmsi_names[\"Smallest Tanker (< 60 m)\"])\n",
    "N_MMSI[\"Small\"] = len(mmsi_names[\"Small Tanker (61 - 150 m)\"])\n",
    "N_MMSI[\"Handymax\"] = len(mmsi_names[\"Handymax (151-200 m)\"])\n",
    "N_MMSI[\"Aframax\"] = len(mmsi_names[\"Aframax (201-250 m)\"])\n",
    "N_MMSI[\"Suezmax\"] = len(mmsi_names[\"Suezmax (251-300 m)\"])"
   ]
  },
  {
   "cell_type": "markdown",
   "metadata": {},
   "source": [
    "#### Divide transfers into those with both import and export vs. one-way only:\n",
    "- 100% full tankers that have import and export transfers per terminal stop (\"double\" transfer) and \n",
    "- 50% tankers that have either import or export (\"single\" transfer) "
   ]
  },
  {
   "cell_type": "code",
   "execution_count": 9,
   "metadata": {},
   "outputs": [
    {
     "name": "stdout",
     "output_type": "stream",
     "text": [
      "Smallest: 35 one-way, 2 two-way transfers\n",
      "Small: 48 one-way, 0 two-way transfers\n",
      "Handymax: 134 one-way, 93 two-way transfers\n",
      "Aframax: 8 one-way, 2 two-way transfers\n",
      "Suezmax: 39 one-way, 3 two-way transfers\n"
     ]
    }
   ],
   "source": [
    "for idx,vessel_type in enumerate([*N_MMSI]):\n",
    "    # get list of vessel names by size class\n",
    "    vessels = list(mmsi_names[[*mmsi_names][idx]].values())\n",
    "    volume[vessel_type] = get_doe_tanker_byvessel(\n",
    "        vessels, \n",
    "        oil_attrs['files']['doe_transfers'], \n",
    "        oil_attrs['files']['oil_facilities'])\n",
    "    volume[vessel_type] = volume[vessel_type].sort_values(by='StartDateTime').reset_index()\n",
    "for idx,vessel_type in enumerate([*N_MMSI]):\n",
    "    one_way[vessel_type], two_way[vessel_type]  = split_doe_transfers(\n",
    "        volume[vessel_type])\n",
    "    print(f'{vessel_type}: {one_way[vessel_type].shape[0]} one-way, {two_way[vessel_type].shape[0]} two-way transfers')    "
   ]
  },
  {
   "cell_type": "markdown",
   "metadata": {},
   "source": [
    "### Calculate probability of full tanker for handimax"
   ]
  },
  {
   "cell_type": "code",
   "execution_count": 10,
   "metadata": {},
   "outputs": [],
   "source": [
    "handyVoyages['full'] = two_way['Handymax'].shape[0]\n",
    "handyVoyages['half_full'] = 2*one_way['Handymax'].shape[0]\n",
    "handyVoyages['total'] = handyVoyages['full']+handyVoyages['half_full']\n",
    "full_handymax = (1.0 * handyVoyages['full']/handyVoyages['total'] +\n",
    "                 0.5 * handyVoyages['half_full']/handyVoyages['total'])"
   ]
  },
  {
   "cell_type": "markdown",
   "metadata": {},
   "source": [
    "### Calculate Handymax cargo capacity bins and weights"
   ]
  },
  {
   "cell_type": "code",
   "execution_count": 11,
   "metadata": {},
   "outputs": [
    {
     "data": {
      "image/png": "[encoded data removed]",
      "text/plain": [
       "<Figure size 216x216 with 1 Axes>"
      ]
     },
     "metadata": {
      "needs_background": "light"
     },
     "output_type": "display_data"
    }
   ],
   "source": [
    "nbins = 15\n",
    "max_full = max(volume['Handymax']['TransferQtyInLiters'])\n",
    "bin_values = numpy.arange(\n",
    "    0,\n",
    "    max_full + max_full/nbins,\n",
    "    max_full/nbins\n",
    ")\n",
    "\n",
    "fig, ax = plt.subplots(figsize = (3,3))\n",
    "n, cargo_capacity, patches = ax.hist(\n",
    "        volume['Handymax']['TransferQtyInLiters'],\n",
    "        bins = bin_values)\n",
    "ax.set_xlabel('Transfer volume')\n",
    "ax.set_ylabel('Number of transfers')\n",
    "ax.set_ylim(0,35)\n",
    "ax.set_title(f'Handymax max cargo distribution')\n",
    "plt.savefig(oil_attrs['directories']['graphics'] / 'Handymax_cargo_distribution_2018.png', \n",
    "            bbox_inches='tight'\n",
    "           )"
   ]
  },
  {
   "cell_type": "code",
   "execution_count": 12,
   "metadata": {},
   "outputs": [
    {
     "name": "stdout",
     "output_type": "stream",
     "text": [
      "15 =? 15\n"
     ]
    },
    {
     "data": {
      "text/plain": [
       "{'weights': [0.1145374449339207,\n",
       "  0.039647577092511016,\n",
       "  0.13215859030837004,\n",
       "  0.030837004405286344,\n",
       "  0.07048458149779736,\n",
       "  0.05726872246696035,\n",
       "  0.030837004405286344,\n",
       "  0.06167400881057269,\n",
       "  0.09251101321585903,\n",
       "  0.06167400881057269,\n",
       "  0.04405286343612335,\n",
       "  0.048458149779735685,\n",
       "  0.10572687224669604,\n",
       "  0.06167400881057269,\n",
       "  0.048458149779735685],\n",
       " 'amount_in_liters': [3402326.5080000004,\n",
       "  6804653.016000001,\n",
       "  10206979.524,\n",
       "  13609306.032000002,\n",
       "  17011632.540000003,\n",
       "  20413959.048,\n",
       "  23816285.556,\n",
       "  27218612.064000003,\n",
       "  30620938.572000004,\n",
       "  34023265.080000006,\n",
       "  37425591.58800001,\n",
       "  40827918.096,\n",
       "  44230244.604,\n",
       "  47632571.112,\n",
       "  51034897.620000005]}"
      ]
     },
     "execution_count": 12,
     "metadata": {},
     "output_type": "execute_result"
    }
   ],
   "source": [
    "weights = n/sum(n)\n",
    "capacity['weights'] = weights.tolist()\n",
    "capacity['amount_in_liters'] = cargo_capacity.tolist()\n",
    "capacity['amount_in_liters'].pop(0) # Remove zero (lower bound of first bin)\n",
    "print(f'{len(capacity[\"amount_in_liters\"])} =? {len(capacity[\"weights\"])}')\n",
    "capacity"
   ]
  },
  {
   "cell_type": "markdown",
   "metadata": {},
   "source": [
    "### ATBs"
   ]
  },
  {
   "cell_type": "code",
   "execution_count": 13,
   "metadata": {},
   "outputs": [
    {
     "name": "stdout",
     "output_type": "stream",
     "text": [
      "creating atb shapefile for 2018, starting with January data\n",
      "Concatenating atb data from month 2\n",
      "Concatenating atb data from month 3\n",
      "Concatenating atb data from month 4\n",
      "Concatenating atb data from month 5\n",
      "Concatenating atb data from month 6\n",
      "Concatenating atb data from month 7\n",
      "Concatenating atb data from month 8\n",
      "Concatenating atb data from month 9\n",
      "Concatenating atb data from month 10\n",
      "Concatenating atb data from month 11\n",
      "Concatenating atb data from month 12\n",
      "CPU times: user 36.9 s, sys: 724 ms, total: 37.6 s\n",
      "Wall time: 38.3 s\n"
     ]
    }
   ],
   "source": [
    "%%time\n",
    "# Note: this implimenation of dask isn't effective.  Need to suss out a better approach. \n",
    "allTracks_dask = delayed(concat_shp(\"atb\", oil_attrs['directories']['shapefiles']))\n",
    "allTracks[\"atb\"]=allTracks_dask.compute()"
   ]
  },
  {
   "cell_type": "markdown",
   "metadata": {},
   "source": [
    "### Barges"
   ]
  },
  {
   "cell_type": "code",
   "execution_count": 14,
   "metadata": {},
   "outputs": [
    {
     "name": "stdout",
     "output_type": "stream",
     "text": [
      "creating barge shapefile for 2018, starting with January data\n",
      "Concatenating barge data from month 2\n",
      "Concatenating barge data from month 3\n",
      "Concatenating barge data from month 4\n",
      "Concatenating barge data from month 5\n",
      "Concatenating barge data from month 6\n",
      "Concatenating barge data from month 7\n",
      "Concatenating barge data from month 8\n",
      "Concatenating barge data from month 9\n",
      "Concatenating barge data from month 10\n",
      "Concatenating barge data from month 11\n",
      "Concatenating barge data from month 12\n",
      "CPU times: user 14min 35s, sys: 33.4 s, total: 15min 8s\n",
      "Wall time: 15min 10s\n"
     ]
    }
   ],
   "source": [
    "%%time\n",
    "allTracks_dask = delayed(concat_shp(\"barge\", oil_attrs['directories']['shapefiles']))\n",
    "allTracks[\"barge\"]=allTracks_dask.compute()"
   ]
  },
  {
   "cell_type": "markdown",
   "metadata": {},
   "source": [
    "## Find all ATB and barge tracks with generic attribution as both origin and destination"
   ]
  },
  {
   "cell_type": "code",
   "execution_count": 15,
   "metadata": {},
   "outputs": [],
   "source": [
    "attribution = ['US','Canada','Pacific']\n",
    "noNone = {}\n",
    "allNone = {}\n",
    "generic = {}\n",
    "\n",
    "for vessel_type in [\"atb\",'barge']:\n",
    "    generic[vessel_type] = allTracks[vessel_type].loc[\n",
    "        (allTracks[vessel_type].TO.isin(attribution)) & \n",
    "        (allTracks[vessel_type].FROM_.isin(attribution))\n",
    "    ]    "
   ]
  },
  {
   "cell_type": "markdown",
   "metadata": {},
   "source": [
    "## Find all ship tracks with None as origin or destination"
   ]
  },
  {
   "cell_type": "code",
   "execution_count": 16,
   "metadata": {},
   "outputs": [],
   "source": [
    "for vessel_type in [\"atb\",'barge']:\n",
    "    # keep rows with None attribution \n",
    "    shp_tmp = allTracks[vessel_type].isnull()\n",
    "    row_has_None = shp_tmp.any(axis=1)\n",
    "    allNone[vessel_type] = allTracks[vessel_type][row_has_None]"
   ]
  },
  {
   "cell_type": "markdown",
   "metadata": {},
   "source": [
    "## Find all ship tracks with any WA or CAD marine oil terminal as either origin or destination"
   ]
  },
  {
   "cell_type": "code",
   "execution_count": 17,
   "metadata": {},
   "outputs": [],
   "source": [
    "allfacWACAD = {}\n",
    "# import facility locations\n",
    "facWA = pandas.read_excel(\n",
    "    oil_attrs['files']['oil_facilities'],\n",
    "    sheet_name = 'Washington',\n",
    "    usecols=\"B,D,J,K\"\n",
    ")\n",
    "# import facility locations\n",
    "facCAD = pandas.read_excel(\n",
    "    oil_attrs['files']['oil_facilities'],\n",
    "    sheet_name = 'British Columbia',\n",
    "    usecols=\"A\",\n",
    "    nrows=10\n",
    ")\n",
    "# find all vessels with oil terminals as origin or destination\n",
    "for vessel_type in [\"atb\",\"barge\"]:\n",
    "    allfacWACAD[vessel_type] = allTracks[vessel_type].loc[\n",
    "        ((allTracks[vessel_type].TO.isin(facWA.FacilityName)) |\n",
    "         (allTracks[vessel_type].FROM_.isin(facWA.FacilityName))|\n",
    "         (allTracks[vessel_type].TO.isin(facCAD.Name)) |\n",
    "         (allTracks[vessel_type].FROM_.isin(facCAD.Name))\n",
    "        )\n",
    "    ]"
   ]
  },
  {
   "cell_type": "code",
   "execution_count": 18,
   "metadata": {},
   "outputs": [
    {
     "name": "stdout",
     "output_type": "stream",
     "text": [
      "TEST ATBs: All tracks = Generic + allFacWACAD + allNone\n",
      "588136 = 588136\n"
     ]
    }
   ],
   "source": [
    "print(f'TEST ATBs: All tracks = Generic + allFacWACAD + allNone')\n",
    "print(f'{allTracks[\"atb\"].shape[0]} = {generic[\"atb\"].shape[0] + allfacWACAD[\"atb\"].shape[0] + allNone[\"atb\"].shape[0]}')"
   ]
  },
  {
   "cell_type": "code",
   "execution_count": 19,
   "metadata": {},
   "outputs": [
    {
     "name": "stdout",
     "output_type": "stream",
     "text": [
      "~~~  atb ~~~\n",
      "Fraction of atb tracks that are unattributed: 0.38799359331855215\n",
      "Fraction of attributed atb tracks that are generic : 0.20288334670892447\n",
      "Fraction of attributed atb tracks that are linked to marine terminal (WACAD): 0.40912305997252335\n",
      "~~~  barge ~~~\n",
      "Fraction of barge tracks that are unattributed: 0.4340840929832173\n",
      "Fraction of attributed barge tracks that are generic : 0.4218586544846484\n",
      "Fraction of attributed barge tracks that are linked to marine terminal (WACAD): 0.1440572525321343\n"
     ]
    }
   ],
   "source": [
    "# create a dictionary of ratios between subsampled data and all ship tracks\n",
    "frac = {}\n",
    "frac['atb'] = {}\n",
    "frac['barge'] = {}\n",
    "for vessel_type in [\"atb\",\"barge\"]:\n",
    "    frac[vessel_type][\"unattributed\"] = allNone[vessel_type].shape[0]/allTracks[vessel_type].shape[0]\n",
    "    frac[vessel_type][\"generic\"] = generic[vessel_type].shape[0]/allTracks[vessel_type].shape[0]\n",
    "    frac[vessel_type][\"marine_terminal_WACAD\"] = allfacWACAD[vessel_type].shape[0]/allTracks[vessel_type].shape[0]\n",
    "    print(f'~~~  {vessel_type} ~~~')\n",
    "    print(f'Fraction of {vessel_type} tracks that are unattributed: {frac[vessel_type][\"unattributed\"]}')\n",
    "    print(f'Fraction of attributed {vessel_type} tracks that are generic : {frac[vessel_type][\"generic\"]}')\n",
    "    print(f'Fraction of attributed {vessel_type} tracks that are linked to marine terminal (WACAD): {frac[vessel_type][\"marine_terminal_WACAD\"]}')"
   ]
  },
  {
   "cell_type": "code",
   "execution_count": 20,
   "metadata": {},
   "outputs": [
    {
     "name": "stdout",
     "output_type": "stream",
     "text": [
      "Total number of tracks for atb: 5.88e+05\n",
      "Total number of tracks for barge: 1.39e+07\n"
     ]
    }
   ],
   "source": [
    "for vessel_type in [\"atb\",\"barge\"]:\n",
    "    print(f'Total number of tracks for {vessel_type}: {allTracks[vessel_type].shape[0]:1.2e}')"
   ]
  },
  {
   "cell_type": "markdown",
   "metadata": {},
   "source": [
    "## Quantify barge and ATB cargo transfers in 2018 DOE database"
   ]
  },
  {
   "cell_type": "code",
   "execution_count": 21,
   "metadata": {},
   "outputs": [
    {
     "name": "stdout",
     "output_type": "stream",
     "text": [
      "get_DOE_barges: not yet tested with fac_xls as input\n",
      "combined\n",
      "cargo\n",
      "cargo\n",
      "677 cargo transfers for atbs\n",
      "2773 cargo transfers for barges\n",
      "482 ATB cargo transfers based on AntID\n",
      "0.71 ATB fraction AntID to all\n",
      "2334 barge cargo transfers based on AntID\n",
      "0.84 barge fraction AntID to all\n"
     ]
    }
   ],
   "source": [
    "[atb_in, atb_out]=get_DOE_atb(\n",
    "    oil_attrs['files']['doe_transfers'], \n",
    "    oil_attrs['files']['oil_facilities'], \n",
    "    transfer_type = 'cargo', \n",
    "    facilities='selected'\n",
    ")\n",
    "barge_inout=get_DOE_barges(\n",
    "    oil_attrs['files']['doe_transfers'],\n",
    "    oil_attrs['files']['oil_facilities'], \n",
    "    direction='combined',\n",
    "    facilities='selected',\n",
    "    transfer_type = 'cargo')\n",
    "# Quantify transfers\n",
    "transfers = {}\n",
    "transfers[\"barge\"] = barge_inout.shape[0]\n",
    "transfers[\"atb\"] = atb_in.shape[0] + atb_out.shape[0]\n",
    "print(f'{transfers[\"atb\"]} cargo transfers for atbs')\n",
    "print(f'{transfers[\"barge\"]} cargo transfers for barges')\n",
    "### Group barge and atb transfers by AntID and:\n",
    "# - compare transfers\n",
    "# - compare fraction of grouped transfers to ungrouped transfers by vessel type\n",
    "transfers[\"barge_antid\"] = barge_inout.groupby('AntID').sum().shape[0]\n",
    "transfers[\"atb_antid\"] = atb_in.groupby('AntID').sum().shape[0] + atb_out.groupby('AntID').sum().shape[0]\n",
    "print(f'{transfers[\"atb_antid\"]} ATB cargo transfers based on AntID')\n",
    "print(f'{transfers[\"atb_antid\"]/transfers[\"atb\"]:.2f} ATB fraction AntID to all')\n",
    "print(f'{transfers[\"barge_antid\"]} barge cargo transfers based on AntID')\n",
    "print(f'{transfers[\"barge_antid\"]/transfers[\"barge\"]:.2f} barge fraction AntID to all')"
   ]
  },
  {
   "cell_type": "markdown",
   "metadata": {},
   "source": [
    "##### Take away: Barge and ATBs have similar number of mixed-oil-type transfers with ATBs having more mixed-type transfers (29% of 677) than barges (16% of 2334).  Even though values are similar, we will use the AntID grouped number of transfers for our ping to transfer ratios"
   ]
  },
  {
   "cell_type": "markdown",
   "metadata": {},
   "source": [
    "### Calculate the number of oil cargo barges we expect using the AntID grouping for ping-to-transfer ratio"
   ]
  },
  {
   "cell_type": "code",
   "execution_count": 22,
   "metadata": {},
   "outputs": [
    {
     "name": "stdout",
     "output_type": "stream",
     "text": [
      "We expect 2847945 total oil cargo pings for barge traffic\n"
     ]
    }
   ],
   "source": [
    "ping2transfer = {}\n",
    "oilcargobarges = {}\n",
    "# ATB ping-to-transfer ratio\n",
    "ping2transfer[\"atb\"] = allTracks[\"atb\"].shape[0]/transfers[\"atb_antid\"]\n",
    "# Estimate number of oil cargo barges using number of barge transfers \n",
    "# and atb ping-to-transfer ratio\n",
    "oilcargobarges[\"total\"] = transfers[\"barge_antid\"]*ping2transfer[\"atb\"]\n",
    "print(f'We expect {oilcargobarges[\"total\"]:.0f} total oil cargo pings for barge traffic')"
   ]
  },
  {
   "cell_type": "markdown",
   "metadata": {},
   "source": [
    "### Calculate the number of Attributed tracks we get for ATBs and estimate the equivalent value for barges"
   ]
  },
  {
   "cell_type": "markdown",
   "metadata": {},
   "source": [
    "## Evaluate oil cargo traffic pings for ATBs and barges"
   ]
  },
  {
   "cell_type": "code",
   "execution_count": 23,
   "metadata": {},
   "outputs": [],
   "source": [
    "# Dictionary for probability of oil cargo barges for our 3 attribution types\n",
    "P_oilcargobarges = {}\n",
    "\n",
    "# ~~~ facilities ~~~\n",
    "# Ratio of ATB pings with WA facility attribution to ATB WA transfers\n",
    "fac_att_ratio = allfacWACAD[\"atb\"].shape[0]/transfers[\"atb_antid\"]\n",
    "# Fraction of barge pings with generic attribution that are expected to carry oil based on ATB pings and transfers\n",
    "P_oilcargobarges[\"oil_terminal\"] = fac_att_ratio*transfers[\"barge_antid\"]/allfacWACAD[\"barge\"].shape[0]\n",
    "\n",
    "# ~~~ generic ~~~\n",
    "# Ratio of ATB pings with generic attribution to ATB WA transfers\n",
    "generic_ratio = generic[\"atb\"].shape[0]/transfers[\"atb_antid\"]\n",
    "# Fraction of barge pings with generic attribution that are expected to carry oil based on ATB pings and transfers\n",
    "P_oilcargobarges[\"generic\"] = generic_ratio*transfers[\"barge_antid\"]/generic[\"barge\"].shape[0]\n",
    "\n",
    "# ~~~ None ~~~\n",
    "# Ratio of ATB pings with \"None\" attribution to ATB WA transfers\n",
    "allNone_ratio = allNone[\"atb\"].shape[0]/transfers[\"atb_antid\"]\n",
    "# Fraction of barge pings with None attribution that are expected to carry oil based on ATB pings and transfers\n",
    "P_oilcargobarges[\"none\"] = allNone_ratio*transfers[\"barge_antid\"]/allNone[\"barge\"].shape[0]"
   ]
  },
  {
   "cell_type": "markdown",
   "metadata": {},
   "source": [
    "#### Find the probability of oil carge for each ping classification, i.e.:\n",
    "- `oilcargobarges[\"total\"]` = 588136.0 = (1) + (2) + (3), where \n",
    "- (1) `P_oilcargobarges[\"facilities\"]` * `allfacWACAD[\"barges\"].shape[0]`  \n",
    "- (2) `P_oilcargobarges[\"none\"]` * `allNone[\"barges\"].shape[0]`  \n",
    "- (3) `P_oilcargobarges[\"generic\"]` * `generic[\"barges\"].shape[0]`  "
   ]
  },
  {
   "cell_type": "code",
   "execution_count": 24,
   "metadata": {},
   "outputs": [
    {
     "name": "stdout",
     "output_type": "stream",
     "text": [
      "oilcargobarges[\"total\"] = oilcargobarges[\"facilities\"] + oilcargobarges[\"none\"] + oilcargobarges[\"generic\"]?\n",
      "2847945 =? 2847945\n",
      " Missing -4.656612873077393e-10 pings (-0%)\n"
     ]
    }
   ],
   "source": [
    "oilcargobarges = {}\n",
    "oilcargobarges[\"total\"] = transfers[\"barge_antid\"]*ping2transfer[\"atb\"]\n",
    "oilcargobarges[\"facilities\"] = (P_oilcargobarges[\"oil_terminal\"] * allfacWACAD[\"barge\"].shape[0])\n",
    "oilcargobarges[\"none\"] = (P_oilcargobarges[\"none\"] * allNone[\"barge\"].shape[0])\n",
    "oilcargobarges[\"generic\"] = (P_oilcargobarges[\"generic\"] * generic[\"barge\"].shape[0])\n",
    "print('oilcargobarges[\"total\"] = oilcargobarges[\"facilities\"] + oilcargobarges[\"none\"] + oilcargobarges[\"generic\"]?')\n",
    "#oilcargobarges_sum = oilcargobarges[\"facilities\"] + oilcargobarges[\"none\"] + oilcargobarges[\"generic\"]\n",
    "print(f'{oilcargobarges[\"total\"]:.0f} =? {oilcargobarges[\"facilities\"] + oilcargobarges[\"none\"] + oilcargobarges[\"generic\"]:.0f}')\n",
    "missing_pings = oilcargobarges[\"total\"]-(oilcargobarges[\"facilities\"] + oilcargobarges[\"none\"] + oilcargobarges[\"generic\"])\n",
    "print(f' Missing {missing_pings} pings ({100*missing_pings/oilcargobarges[\"total\"]:.0f}%)') "
   ]
  },
  {
   "cell_type": "markdown",
   "metadata": {},
   "source": [
    "---"
   ]
  },
  {
   "cell_type": "markdown",
   "metadata": {},
   "source": [
    "# Set probabilities and weights related to oil tank traffic\n",
    "- See [this notebook](https://nbviewer.jupyter.org/github/MIDOSS/analysis-rachael/blob/main/notebooks/monte_carlo/QAQC_Tanker_AISlengths_DOEcapacities.ipynb) for information on the handymax special case."
   ]
  },
  {
   "cell_type": "code",
   "execution_count": 25,
   "metadata": {},
   "outputs": [],
   "source": [
    "# ~~~~~~~~~~~~~~~~~~~~~~~~~~~~~~~~~~~~~~~~~~~~~~~~~~~~~~~~~~~~~~~~~~~~~~~~~~~\n",
    "## Set the probability of incident as fuel spill vs. cargo spill for \n",
    "#  oil-cargo vessels.  The following six values are for cases thare are \n",
    "#  identified as oil cargo vessels and determines if the spill from the oil \n",
    "#  cargo vessel is a fuel spill or a cargo spill.  \n",
    "oil_attrs['vessel_attributes']['tanker']['probability_full']  = 0.5\n",
    "oil_attrs['vessel_attributes']['tanker']['probability_empty'] = 1 - \\\n",
    "oil_attrs['vessel_attributes']['tanker']['probability_full']\n",
    "\n",
    "oil_attrs['vessel_attributes']['atb']['probability_full']  = 0.5\n",
    "oil_attrs['vessel_attributes']['atb']['probability_empty'] = 1 - \\\n",
    "oil_attrs['vessel_attributes']['atb']['probability_full']\n",
    "\n",
    "# All barges are originally set as oil cargo barges but changed to fuel \n",
    "# barges based on `probability_oilcargo`, below.\n",
    "oil_attrs['vessel_attributes']['barge']['probability_full']  = 0.5\n",
    "oil_attrs['vessel_attributes']['barge']['probability_empty'] = 1 - \\\n",
    "oil_attrs['vessel_attributes']['barge']['probability_full']\n",
    "\n",
    "# # Use special case for Handimax\n",
    "oil_attrs['vessel_attributes']['tanker']['probability_full_handymax']  = full_handymax\n",
    "oil_attrs['vessel_attributes']['tanker']['probability_empty_handymax'] = 1 - \\\n",
    "oil_attrs['vessel_attributes']['tanker']['probability_full_handymax']\n",
    "\n",
    "# ~~~~~~~~~~~~~~~~~~~~~~~~~~~~~~~~~~~~~~~~~~~~~~~~~~~~~~~~~~~~~~~~~~~~~~~~~~~~\n",
    "# Add probability of oil cargo barge\n",
    "# The above calculated `probability_oilcargo` relates to the following as\n",
    "# total = P('None') * (Number of 'None' tracks) + \n",
    "#         P('Generic') * (Number of 'Generic' attributed tracks) + \n",
    "#         P('OilTerminal') * (Number of tracks attributed to oil terminals)\n",
    "oil_attrs['vessel_attributes']['barge']['probability_oilcargo'] = {}\n",
    "oil_attrs['vessel_attributes']['barge']['probability_oilcargo']['None'] = (\n",
    "    P_oilcargobarges[\"none\"]\n",
    ")\n",
    "oil_attrs['vessel_attributes']['barge']['probability_oilcargo']['Generic'] = (\n",
    "    P_oilcargobarges[\"generic\"]\n",
    ")\n",
    "oil_attrs['vessel_attributes']['barge']['probability_oilcargo']['OilTerminal'] = (\n",
    "    P_oilcargobarges[\"oil_terminal\"]\n",
    ")\n",
    "\n",
    "# ~~~~~~~~~~~~~~~~~~~~~~~~~~~~~~~~~~~~~~~~~~~~~~~~~~~~~~~~~~~~~~~~~~~~~~~~~~~~\n",
    "# Set distribution of cargo fill fraction\n",
    "# These values are calculated in [make_ATB_fill_fraction.ipynb](https://github.com/MIDOSS/analysis-rachael/blob/main/notebooks/monte_carlo/make_ATB_fill_fraction.ipynb)\n",
    "with open(oil_attrs['files']['fill_fraction']) as fill_fraction:\n",
    "      cargo_dict = yaml.safe_load(fill_fraction)\n",
    "for vessel in ['atb','barge']:\n",
    "    oil_attrs['vessel_attributes'][vessel]['cargo_fill_fraction_bins'] = (\n",
    "        cargo_dict['fill_fraction']\n",
    "    )\n",
    "    oil_attrs['vessel_attributes'][vessel]['cargo_fill_fraction_weights'] = (\n",
    "        cargo_dict['weights']\n",
    "    )"
   ]
  },
  {
   "cell_type": "code",
   "execution_count": 26,
   "metadata": {},
   "outputs": [
    {
     "data": {
      "text/plain": [
       "{'None': 0.18309521135382856,\n",
       " 'Generic': 0.0985157663535479,\n",
       " 'OilTerminal': 0.5817617106601806}"
      ]
     },
     "execution_count": 26,
     "metadata": {},
     "output_type": "execute_result"
    }
   ],
   "source": [
    "oil_attrs['vessel_attributes']['barge']['probability_oilcargo']"
   ]
  },
  {
   "cell_type": "markdown",
   "metadata": {},
   "source": [
    "# Set fuel fill fraction for all traffic \n",
    "- fuel_fill_fraction: Percent fill of fuel tanks where fuel volume is determined by a fraction of fuel capacity ranging from 0.25 to 1.0 with value based on a flat, random distribution \n"
   ]
  },
  {
   "cell_type": "code",
   "execution_count": 27,
   "metadata": {},
   "outputs": [],
   "source": [
    "oil_attrs['vessel_attributes']['all'] = {}\n",
    "oil_attrs['vessel_attributes']['all']['fuel_fill_fraction'] = [0.25, 1]"
   ]
  },
  {
   "cell_type": "markdown",
   "metadata": {},
   "source": [
    "# Set Mix/Max thresholds"
   ]
  },
  {
   "cell_type": "code",
   "execution_count": 28,
   "metadata": {},
   "outputs": [],
   "source": [
    "# ~~~~~~~~~~~~~~~~~~~~~~~~~~~~~~~~~~~~~~~~~~~~~~~~~~~~~~~~~~~~~~~~~~~~~~~~~~~\n",
    "## set minimum cargo capacities in liters\n",
    "oil_attrs['vessel_attributes']['tanker']['min_cargo'] = 588253  # Smallest tanker in 2018 (Global Provider)\n",
    "oil_attrs['vessel_attributes']['atb']['min_cargo']    = 4000000  # smallest load of known ATBs (Island Trader: oil_capacity.xlsx)\n",
    "oil_attrs['vessel_attributes']['barge']['min_cargo']  = 1500000  # 1,589,900: 3A-10 of [DOE report](https://fortress.wa.gov/ecy/publications/documents/96250.pdf)\n",
    "\n",
    "# ~~~~~~~~~~~~~~~~~~~~~~~~~~~~~~~~~~~~~~~~~~~~~~~~~~~~~~~~~~~~~~~~~~~\n",
    "## set maximum cargo capacities in liters\n",
    "oil_attrs['vessel_attributes']['tanker']['max_cargo'] = 185447000 # Corresponding to tank capacity of Suez-Max tankers as AIS data shows tanker lengths up to 287 m\n",
    "oil_attrs['vessel_attributes']['atb']['max_cargo']    =  29413150 # largest load of known ATBs (Kirby 185-01: oil_capacity.xlsx)\n",
    "oil_attrs['vessel_attributes']['barge']['max_cargo']  =  32000000 # 31,797,444: 3A-10 of [DOE report](https://fortress.wa.gov/ecy/publications/documents/96250.pdf)\n",
    "\n",
    "# ~~~~~~~~~~~~~~~~~~~~~~~~~~~~~~~~~~~~~~~~~~~~~~~~~~~~~~~~~~~~~~~~~~~\n",
    "## Set fuel size classes \n",
    "# Tankers: SuezMax (285 m), Aframax (245 m), Handymax (180 m), Small Tanker (116 m), Smallest Tanker (42 m)\n",
    "# Most tanker fuel information from\n",
    "# https://silo.tips/download/suezmax-oil-tanker-tankers-166300-dwt\n",
    "# Smallest size class from https://www.professionalmariner.com/global-provider/\n",
    "oil_attrs['vessel_attributes']['tanker']['min_fuel']    = (\n",
    "    tanker_df['total fuel capacity (liters)'][0].tolist()\n",
    ")\n",
    "\n",
    "oil_attrs['vessel_attributes']['atb']['min_fuel']       = 99000   # Based on Island Raider and Island Regent tugs in Charles Costanzo's `ATB Information AWO Edits`\n",
    "oil_attrs['vessel_attributes']['barge']['min_fuel']     = 6000    # 5678 (F43): Harbour Tug\n",
    "oil_attrs['vessel_attributes']['cargo']['min_fuel']     = 1500000 # 1,514,164\n",
    "oil_attrs['vessel_attributes']['cruise']['min_fuel']    = 1000000 \n",
    "oil_attrs['vessel_attributes']['ferry']['min_fuel']     = 30000   # 34,068\n",
    "oil_attrs['vessel_attributes']['fishing']['min_fuel']   = 150\n",
    "oil_attrs['vessel_attributes']['smallpass']['min_fuel'] = 100\n",
    "oil_attrs['vessel_attributes']['other']['min_fuel']     = 100   # 22 (F52)\n",
    "\n",
    "oil_attrs['vessel_attributes']['tanker']['min_length']    = 42\n",
    "oil_attrs['vessel_attributes']['atb']['min_length']       = 22\n",
    "oil_attrs['vessel_attributes']['barge']['min_length']     = 22\n",
    "oil_attrs['vessel_attributes']['cargo']['min_length']     = 50\n",
    "oil_attrs['vessel_attributes']['cruise']['min_length']    = 60\n",
    "oil_attrs['vessel_attributes']['ferry']['min_length']     = 26\n",
    "oil_attrs['vessel_attributes']['fishing']['min_length']   = 20\n",
    "oil_attrs['vessel_attributes']['smallpass']['min_length'] = 10\n",
    "oil_attrs['vessel_attributes']['other']['min_length']     = 10\n",
    "\n",
    "# ~~~~~~~~~~~~~~~~~~~~~~~~~~~~~~~~~~~~~~~~~~~~~~~~~~~~~~~~~~~~~~~~~~~\n",
    "## set maximum fuel capacities in liters (to be filled in )\n",
    "# NOTE: Max volume for ferries reflects WA ferries.  See \"Other Ship Classifications\"\n",
    "# and Living Oceans information with reference to [BC ferries doc](http://ferriesbc.proboards.com/thread/7592/fueling-bcs-ferries)\n",
    "oil_attrs['vessel_attributes']['tanker']['max_fuel']    = tanker_df['total fuel capacity (liters)'][3].tolist()\n",
    "# NOTE: Ocean-going tank barge listed as 52,995,000 liters max fuel capacity \n",
    "# accoring to [NOAA](https://response.restoration.noaa.gov/about/media/how-much-oil-ship.html)\n",
    "oil_attrs['vessel_attributes']['atb']['max_fuel']       = 550000    # Again, based on Dublin Sea Charles Costanzo's \n",
    "oil_attrs['vessel_attributes']['barge']['max_fuel']     = 710000    # 700,300: Ocean Tug (need to verify that we have them in S.S.)\n",
    "oil_attrs['vessel_attributes']['cargo']['max_fuel']     = 17000000  \n",
    "oil_attrs['vessel_attributes']['cruise']['max_fuel']    = 7570820   \n",
    "oil_attrs['vessel_attributes']['ferry']['max_fuel']     = 500000     \n",
    "oil_attrs['vessel_attributes']['fishing']['max_fuel']   = 300000    # (see p. 3A-6 of [DOE report](https://fortress.wa.gov/ecy/publications/documents/96250.pdf))\n",
    "oil_attrs['vessel_attributes']['smallpass']['max_fuel'] = 12000     # 11356 (F41)\n",
    "oil_attrs['vessel_attributes']['other']['max_fuel']     = 17000000     # 3,028 (F77): Cruising, sport fishing, sailing\n",
    "\n",
    "oil_attrs['vessel_attributes']['tanker']['max_length']    = 300\n",
    "oil_attrs['vessel_attributes']['atb']['max_length']       = 209\n",
    "oil_attrs['vessel_attributes']['barge']['max_length']     = 100\n",
    "oil_attrs['vessel_attributes']['cargo']['max_length']     = 369\n",
    "oil_attrs['vessel_attributes']['cruise']['max_length']    = 334\n",
    "oil_attrs['vessel_attributes']['ferry']['max_length']     = 168\n",
    "oil_attrs['vessel_attributes']['fishing']['max_length']   = 200\n",
    "oil_attrs['vessel_attributes']['smallpass']['max_length'] = 75\n",
    "oil_attrs['vessel_attributes']['other']['max_length']     = 75"
   ]
  },
  {
   "cell_type": "markdown",
   "metadata": {},
   "source": [
    "# Load Oil Capacity Data and Attribute Vessels"
   ]
  },
  {
   "cell_type": "markdown",
   "metadata": {},
   "source": [
    "#### Special case for Handymax\n",
    "- See [QAQC_Tanker_AISlengths_DOEcapacities.ipynb](https://nbviewer.jupyter.org/github/MIDOSS/analysis-rachael/blob/main/notebooks/monte_carlo/QAQC_Tanker_AISlengths_DOEcapacities.ipynb) for details"
   ]
  },
  {
   "cell_type": "code",
   "execution_count": 29,
   "metadata": {},
   "outputs": [],
   "source": [
    "oil_attrs['vessel_attributes']['tanker']['handy_weights'] = capacity['weights']\n",
    "oil_attrs['vessel_attributes']['tanker']['handy_capacity'] = capacity['amount_in_liters']"
   ]
  },
  {
   "cell_type": "markdown",
   "metadata": {},
   "source": [
    "#### All others"
   ]
  },
  {
   "cell_type": "code",
   "execution_count": 30,
   "metadata": {},
   "outputs": [
    {
     "data": {
      "image/png": "[encoded data removed]",
      "text/plain": [
       "<Figure size 432x288 with 1 Axes>"
      ]
     },
     "metadata": {
      "needs_background": "light"
     },
     "output_type": "display_data"
    },
    {
     "name": "stdout",
     "output_type": "stream",
     "text": [
      "ATB cargo weight sum: 1.0\n",
      "ATB fuel weight sum: 1.0\n"
     ]
    },
    {
     "data": {
      "image/png": "[encoded data removed]",
      "text/plain": [
       "<Figure size 432x288 with 1 Axes>"
      ]
     },
     "metadata": {
      "needs_background": "light"
     },
     "output_type": "display_data"
    },
    {
     "name": "stdout",
     "output_type": "stream",
     "text": [
      "Cargo volume fit for length 620 m: 1.54680e+08\n",
      "Cargo volume fit for length Benjamin Franklin (400 m, 1.4e7 liters): 1.80448e+07\n"
     ]
    },
    {
     "data": {
      "image/png": "[encoded data removed]",
      "text/plain": [
       "<Figure size 432x288 with 1 Axes>"
      ]
     },
     "metadata": {
      "needs_background": "light"
     },
     "output_type": "display_data"
    },
    {
     "data": {
      "text/plain": [
       "<Figure size 432x288 with 0 Axes>"
      ]
     },
     "metadata": {},
     "output_type": "display_data"
    },
    {
     "data": {
      "image/png": "[encoded data removed]",
      "text/plain": [
       "<Figure size 432x288 with 1 Axes>"
      ]
     },
     "metadata": {
      "needs_background": "light"
     },
     "output_type": "display_data"
    },
    {
     "name": "stdout",
     "output_type": "stream",
     "text": [
      "Ferry tank volume for length of 75 m: 6.22581e+04\n"
     ]
    },
    {
     "data": {
      "text/plain": [
       "<Figure size 432x288 with 0 Axes>"
      ]
     },
     "metadata": {},
     "output_type": "display_data"
    },
    {
     "data": {
      "image/png": "[encoded data removed]",
      "text/plain": [
       "<Figure size 432x288 with 1 Axes>"
      ]
     },
     "metadata": {
      "needs_background": "light"
     },
     "output_type": "display_data"
    },
    {
     "data": {
      "text/plain": [
       "<Figure size 432x288 with 0 Axes>"
      ]
     },
     "metadata": {},
     "output_type": "display_data"
    },
    {
     "data": {
      "image/png": "[encoded data removed]",
      "text/plain": [
       "<Figure size 432x288 with 1 Axes>"
      ]
     },
     "metadata": {
      "needs_background": "light"
     },
     "output_type": "display_data"
    },
    {
     "name": "stdout",
     "output_type": "stream",
     "text": [
      "Small pass quadratic fit to 620m length: 4621120.77\n",
      "Small pass quadratic fit to 400m length: 1909565.69\n",
      "Small pass quadratic fit to 14m length: 1213.71\n",
      "Small pass quadratic fit to 16m length: 1746.98\n",
      "Small pass quadratic fit to 75m length: 61315.86\n"
     ]
    },
    {
     "data": {
      "text/plain": [
       "<Figure size 432x288 with 0 Axes>"
      ]
     },
     "metadata": {},
     "output_type": "display_data"
    },
    {
     "data": {
      "image/png": "[encoded data removed]",
      "text/plain": [
       "<Figure size 432x288 with 1 Axes>"
      ]
     },
     "metadata": {
      "needs_background": "light"
     },
     "output_type": "display_data"
    },
    {
     "data": {
      "text/plain": [
       "<Figure size 432x288 with 0 Axes>"
      ]
     },
     "metadata": {},
     "output_type": "display_data"
    }
   ],
   "source": [
    "oil_attrs['vessel_attributes']['tanker']['tanker_types'] = (\n",
    "    oil_attrs['categories']['tanker_size_classes']\n",
    ")\n",
    "\n",
    "# fuel parameters\n",
    "oil_attrs['vessel_attributes']['tanker']['fuel_hfo_to_diesel'] = (\n",
    "    tanker_df['hfo fuel capacity (liters)'].values.flatten()/\n",
    "    tanker_df['diesel fuel capacity (liters)'].values.flatten()\n",
    ").tolist()\n",
    "\n",
    "oil_attrs['vessel_attributes']['tanker']['fuel_capacity'] = (\n",
    "    tanker_df['total fuel capacity (liters)'].values.flatten() \n",
    ").tolist()\n",
    "\n",
    "# cargo parameters for all tankers\n",
    "oil_attrs['vessel_attributes']['tanker']['cargo_capacity'] = (\n",
    "    tanker_df['cargo capacity (liters)'].values.flatten() \n",
    ").tolist()\n",
    "\n",
    "# create  bins for tanker categories\n",
    "# Note: get_bin requires that adjacent bins share values.\n",
    "# The sets are treated as: (0,60],(60,150],(150,200],(200,250] and (250,300]\n",
    "bins = []\n",
    "center_points = []\n",
    "for index in range(len(tanker_df['min length (m)']-1)):\n",
    "    bins.append(\n",
    "        (tanker_df['min length (m)'][index].tolist(), \n",
    "         tanker_df['max length (m)'][index].tolist()+1)\n",
    "    )\n",
    "    step_size = (\n",
    "        tanker_df['max length (m)'][index].tolist() - \n",
    "        tanker_df['min length (m)'][index].tolist()\n",
    "    )\n",
    "    center_points.append(tanker_df['min length (m)'][index] + step_size/2)\n",
    "\n",
    "oil_attrs['vessel_attributes']['tanker']['length_bins'] = tuple(map(tuple, bins))\n",
    "\n",
    "#~~~ atb traffic ~~~~~~~~~~~~~~~~~~~~~~~~~~~~~~~~~~~~~~~~~~~~~~~~~~~~~~~~~~~~\n",
    "# create line fit for atbs with length > 50 m\n",
    "# fit = coefficient[1] + coefficient[0] * length\n",
    "good_values = atb_df['Vessel Length (AIS + <50 m correction)']>0\n",
    "atb_cargo_fit_coefs = numpy.polyfit(\n",
    "    atb_df['Vessel Length (AIS + <50 m correction)'][good_values], \n",
    "    atb_df['Cargo Capacity (liters)'][good_values], \n",
    "    1\n",
    ")\n",
    "oil_attrs['vessel_attributes']['atb']['cargo_fit_coefs'] = (\n",
    "    atb_cargo_fit_coefs.tolist()\n",
    ")\n",
    "\n",
    "fuel_fit_coefs= numpy.polyfit(\n",
    "    atb_df['Vessel Length (AIS + <50 m correction)'][good_values], \n",
    "    atb_df['Total Fuel Capacity (liters)'][good_values], \n",
    "    1\n",
    ")\n",
    "\n",
    "oil_attrs['vessel_attributes']['atb']['fuel_fit_coefs'] = (\n",
    "    fuel_fit_coefs.tolist()\n",
    ")\n",
    "\n",
    "########### PLOT ATB DATA FIT ###############\n",
    "atb_length = numpy.arange(75, 225, 10)\n",
    "C = atb_cargo_fit_coefs\n",
    "atb_fit = (\n",
    "    C[1]+\n",
    "    C[0]*atb_length\n",
    ")\n",
    "fig = plt.figure()\n",
    "ax1 = fig.add_subplot(111)\n",
    "\n",
    "# add ais-curated frequency data \n",
    "good_data = atb_df['Vessel Length (AIS + <50 m correction)']>0\n",
    "ax1.scatter(\n",
    "    atb_df['Vessel Length (AIS + <50 m correction)'][good_values],\n",
    "    atb_df['Cargo Capacity (liters)'][good_values],\n",
    "    40,\n",
    "    label='Data',\n",
    "    color='tab:grey'\n",
    ")\n",
    "\n",
    "ax1.plot(\n",
    "    atb_length, \n",
    "    atb_fit, \n",
    "    c='black', \n",
    "    label=f'{C[0]:.02f}L + {C[1]:.02f}'\n",
    ")\n",
    "\n",
    "plt.xlabel('Vessel length, $L$ (m)',fontsize=12)\n",
    "plt.ylabel('Cargo capacity (liters)',fontsize=12)\n",
    "plt.title('ATBs > 50m', fontsize=16)\n",
    "plt.tight_layout()\n",
    "ax1.legend(bbox_to_anchor=(1.05, 1), loc='upper left')\n",
    "#plt.savefig(graphics_directory/'cargo_fit.png', bbox_inches='tight')\n",
    "plt.show()\n",
    "# plt.savefig(oil_attrs['directories']['graphics'] / 'ATBCargoFit_2018.png', \n",
    "#             bbox_inches='tight'\n",
    "#            )\n",
    "\n",
    "# create fuel and cargo capacity bins into which vessel traffic information \n",
    "# is sorted to determine oil capacity weights. \n",
    "[cargo_bins, cargo_bin_centers]  = make_bins(\n",
    "    lower_bound =  4000000,\n",
    "    upper_bound = 30000000,\n",
    "    step_size   = 2000000\n",
    ")\n",
    "\n",
    "[fuel_bins, fuel_bin_centers]  = make_bins(\n",
    "    lower_bound =  75000,\n",
    "    upper_bound = 675000,\n",
    "    step_size   =  25000\n",
    ")\n",
    "\n",
    "# we use the median time interval between AIS pings per MMSI vessel to scale\n",
    "# the total AIS ship track count so that count isn't biased by ping interval.  \n",
    "scaling_factor = ( atb_data_df['Median time between pings (minutes)'] / \n",
    "    numpy.median(atb_data_df['Median time between pings (minutes)'])\n",
    ")\n",
    "atb_scaled_count = (atb_data_df['COUNT'] * scaling_factor )\n",
    "\n",
    "\n",
    "### cargo weights ###\n",
    "# bin scaled count (above) by cargo capacity and sum AIS count for each \n",
    "# cargo capacity bin to create cargo capacity weights\n",
    "binned_atb_count_cargo = place_into_bins(\n",
    "    atb_df['Cargo Capacity (liters)'], \n",
    "    atb_scaled_count, \n",
    "    cargo_bins\n",
    ")\n",
    "numerator = binned_atb_count_cargo\n",
    "denominator = binned_atb_count_cargo.sum()\n",
    "cargo_weights = decimal_divide(\n",
    "    numerator, \n",
    "    denominator, \n",
    "    precision\n",
    ")\n",
    "\n",
    "print(f'ATB cargo weight sum: {sum(cargo_weights)}')\n",
    "    \n",
    "# define weighting for oil capacity attribution for atbs < 50 m   \n",
    "oil_attrs['vessel_attributes']['atb']['cargo_capacity_probability'] = (\n",
    "    cargo_weights.tolist()\n",
    ")\n",
    "oil_attrs['vessel_attributes']['atb']['cargo_capacity_bin_centers'] = (\n",
    "    cargo_bin_centers\n",
    ")\n",
    "oil_attrs['vessel_attributes']['atb']['cargo_capacity_bins'] = (\n",
    "    cargo_bins\n",
    ")\n",
    "\n",
    "### fuel weights ### \n",
    "# bin distance travelled by fuel capacity and sum distances for each \n",
    "# fuel capacity bin to create fuel capacity weights\n",
    "binned_atb_count_by_fuel = place_into_bins(\n",
    "    atb_df['Total Fuel Capacity (liters)'], \n",
    "    atb_scaled_count, \n",
    "    fuel_bins\n",
    ")\n",
    "numerator = binned_atb_count_by_fuel\n",
    "denomintor = binned_atb_count_by_fuel.sum()\n",
    "fuel_weights = decimal_divide(\n",
    "    numerator, \n",
    "    denominator, \n",
    "    precision\n",
    ")\n",
    "print(f'ATB fuel weight sum: {sum(fuel_weights)}')\n",
    "\n",
    "oil_attrs['vessel_attributes']['atb']['fuel_capacity_probability']  = (\n",
    "    fuel_weights.tolist()\n",
    ")\n",
    "oil_attrs['vessel_attributes']['atb']['fuel_capacity_bin_centers']  = (\n",
    "    fuel_bin_centers\n",
    ")\n",
    "oil_attrs['vessel_attributes']['atb']['fuel_capacity_bins'] = (\n",
    "    fuel_bins\n",
    ")\n",
    "\n",
    "fig = plt.figure()\n",
    "ax2 = fig.add_subplot(111)\n",
    "\n",
    "# add binned-ship-track frequencies\n",
    "ax2.bar(\n",
    "    fuel_bin_centers,\n",
    "    fuel_weights,\n",
    "    width=0.3e4,\n",
    "    color='darkslateblue'\n",
    ")\n",
    "plt.xlabel('Fuel capacity bins (liters)',fontsize=12)\n",
    "plt.ylabel('Fuel capacity weights (liters)',fontsize=12)\n",
    "plt.title('All ATB fuel capacity weights', fontsize=16)\n",
    "plt.tight_layout()\n",
    "ax1.legend(bbox_to_anchor=(1.05, 1), loc='upper left')\n",
    "#plt.savefig(graphics_directory/'cargo_fit.png', bbox_inches='tight')\n",
    "plt.show()\n",
    "\n",
    "#~~~ barge traffic (set to ATB) ~~~\n",
    "# We use ATB traffic to determine barge weights b/c the number of ATB \n",
    "# vessels is manageable and has tugs paired with tank barges\n",
    "oil_attrs['vessel_attributes']['barge']['cargo_capacity_probability'] = 'See ATB'\n",
    "oil_attrs['vessel_attributes']['barge']['cargo_capacity_bin_centers'] = 'See ATB'\n",
    "oil_attrs['vessel_attributes']['barge']['cargo_capacity_bins']        = 'See ATB'\n",
    "oil_attrs['vessel_attributes']['barge']['fuel_capacity_probability']  = 'See ATB'\n",
    "oil_attrs['vessel_attributes']['barge']['fuel_capacity_bin_centers']  = 'See ATB'\n",
    "oil_attrs['vessel_attributes']['barge']['fuel_capacity_bins']         = 'See ATB'\n",
    "\n",
    "#~~~ cargo traffic ~~~~~~~~~~~~~~~~~~~~~~~~~~~~~~~~~~~~~~~~~~~~~~~~~~~~~~~~~~\n",
    "min_length = cargo_df['AIS min length'][0]\n",
    "max_length = cargo_df['AIS max length'][0]\n",
    "length = cargo_df['vessel length (m)']\n",
    "capacity = cargo_df['fuel capacity (liters)']\n",
    "vessel_type = 'cargo'\n",
    "\n",
    "cargo_fit_coefs= numpy.polyfit(\n",
    "    length, \n",
    "    numpy.log(capacity), \n",
    "    1\n",
    ")\n",
    "\n",
    "oil_attrs['vessel_attributes']['cargo']['fuel_fit_coefs'] = (\n",
    "    cargo_fit_coefs.tolist()\n",
    ")\n",
    "\n",
    "cargo_length = numpy.arange(150, 400, 10)\n",
    "C = cargo_fit_coefs\n",
    "cargo_fit = (\n",
    "    numpy.exp(C[1]) * \n",
    "    numpy.exp(C[0]*cargo_length)\n",
    ")\n",
    "print(f'Cargo volume fit for length 620 m: {numpy.exp(C[1]) *  numpy.exp(C[0]*620):1.5e}' )\n",
    "print(f'Cargo volume fit for length Benjamin Franklin (400 m, 1.4e7 liters): {numpy.exp(C[1]) *  numpy.exp(C[0]*400):1.5e}' )\n",
    "########### PLOT CARGO DATA FIT ###############\n",
    "fig = plt.figure()\n",
    "ax1 = fig.add_subplot(111)\n",
    "\n",
    "# add ais-curated frequency data \n",
    "good_data = length>0\n",
    "ax1.scatter(\n",
    "    length[good_data],\n",
    "    capacity[good_data],\n",
    "    40,\n",
    "    label='Data',\n",
    "    color='tab:grey'\n",
    ")\n",
    "\n",
    "ax1.plot(\n",
    "    cargo_length, \n",
    "    cargo_fit, \n",
    "    c='black', \n",
    "    label=f'{numpy.exp(C[1]):.02e}e^{C[0]:.02f}$L$'\n",
    ")\n",
    "\n",
    "ax1.plot(\n",
    "    [numpy.min(cargo_length), numpy.max(cargo_length)],\n",
    "    [oil_attrs['vessel_attributes']['cargo']['min_fuel'], \n",
    "     oil_attrs['vessel_attributes']['cargo']['min_fuel']],\n",
    "    c='tab:grey',\n",
    "    label='Min/Max thresholds'\n",
    ")\n",
    "ax1.plot(\n",
    "    [numpy.min(cargo_length), numpy.max(cargo_length)],\n",
    "    [oil_attrs['vessel_attributes']['cargo']['max_fuel'], \n",
    "     oil_attrs['vessel_attributes']['cargo']['max_fuel']],\n",
    "    c='tab:grey'\n",
    ")\n",
    "plt.xlabel('Vessel length, $L$ (m)',fontsize=12)\n",
    "plt.ylabel('Fuel capacity (liters)',fontsize=12)\n",
    "plt.title(vessel_type, fontsize=16)\n",
    "plt.tight_layout()\n",
    "ax1.legend(bbox_to_anchor=(1.05, 1), loc='upper left')\n",
    "#plt.savefig(graphics_directory/'cargo_fit.png', bbox_inches='tight')\n",
    "plt.show()\n",
    "plt.savefig(oil_attrs['directories']['graphics'] / 'CargoFit_2018.png', \n",
    "            bbox_inches='tight'\n",
    "           )\n",
    "#~~~ cruise traffic ~~~~~~~~~~~~~~~~~~~~~~~~~~~~~~~~~~~~~~~~~~~~~~~~~~~~~~~~~\n",
    "min_length = cruise_df['AIS min length'][0]\n",
    "max_length = cruise_df['AIS max length'][0]\n",
    "length = cruise_df['vessel length (m)']\n",
    "capacity = cruise_df['fuel capacity (liters)']\n",
    "vessel_type = 'cruise'\n",
    "\n",
    "cruise_fit_coefs= numpy.polyfit(\n",
    "    length, \n",
    "    capacity, \n",
    "    1\n",
    ")\n",
    "\n",
    "oil_attrs['vessel_attributes']['cruise']['fuel_fit_coefs'] = (\n",
    "    cruise_fit_coefs.tolist()\n",
    ")\n",
    "\n",
    "cruise_length = numpy.arange(250, 350, 10)\n",
    "C = cruise_fit_coefs\n",
    "cruise_fit = (\n",
    "    C[1] +\n",
    "    C[0]*cruise_length\n",
    ")\n",
    "\n",
    "########### PLOT CRUISE DATA FIT ###############\n",
    "fig = plt.figure()\n",
    "ax1 = fig.add_subplot(111)\n",
    "\n",
    "# add ais-curated frequency data \n",
    "good_data = length>0\n",
    "ax1.scatter(\n",
    "    length[good_data],\n",
    "    capacity[good_data],\n",
    "    40,\n",
    "    label='Data',\n",
    "    color='tab:grey'\n",
    ")\n",
    "ax1.plot(cruise_length,\n",
    "         cruise_fit, \n",
    "         c='black', \n",
    "         label=f'{C[0]:.02e}L + {C[1]:.02e}'\n",
    "        )\n",
    "ax1.plot(\n",
    "    [numpy.min(cruise_length), numpy.max(cruise_length)],\n",
    "    [oil_attrs['vessel_attributes']['cruise']['min_fuel'], \n",
    "     oil_attrs['vessel_attributes']['cruise']['min_fuel']],\n",
    "    c='tab:grey',\n",
    "    label='Min/Max thresholds'\n",
    ")\n",
    "ax1.plot(\n",
    "    [numpy.min(cruise_length), numpy.max(cruise_length)],\n",
    "    [oil_attrs['vessel_attributes']['cruise']['max_fuel'], \n",
    "     oil_attrs['vessel_attributes']['cruise']['max_fuel']],\n",
    "    c='tab:grey'\n",
    ")\n",
    "\n",
    "plt.xlabel('Vessel length, $L$ (m)',fontsize=12)\n",
    "plt.ylabel('Fuel capacity (liters)',fontsize=12)\n",
    "plt.title(vessel_type, fontsize=16)\n",
    "plt.tight_layout()\n",
    "ax1.legend(bbox_to_anchor=(1.05, 1), loc='upper left')\n",
    "#plt.savefig(graphics_directory/'cruise_fit.png', bbox_inches='tight')\n",
    "plt.show()\n",
    "plt.savefig(oil_attrs['directories']['graphics'] / 'CruiseFit_2018.png', \n",
    "            bbox_inches='tight'\n",
    "           )\n",
    "#~~~ ferry traffic ~~~~~~~~~~~~~~~~~~~~~~~~~~~~~~~~~~~~~~~~~~~~~~~~~~~~~~~~~~\n",
    "min_length = ferry_df['AIS min length'][0]\n",
    "max_length = ferry_df['AIS max length'][0]\n",
    "length = ferry_df['vessel length (m)']\n",
    "capacity = ferry_df['fuel capacity (liters)']\n",
    "vessel_type = 'ferry'\n",
    "\n",
    "ferry_fit_coefs= numpy.polyfit(\n",
    "    length, \n",
    "    numpy.log(capacity), \n",
    "    1\n",
    ")\n",
    "\n",
    "oil_attrs['vessel_attributes']['ferry']['fuel_fit_coefs'] = (\n",
    "    ferry_fit_coefs.tolist()\n",
    ")\n",
    "\n",
    "ferry_length = numpy.arange(20,160,10)\n",
    "\n",
    "C = ferry_fit_coefs\n",
    "ferry_fit = (\n",
    "    numpy.exp(C[1])* \n",
    "    numpy.exp(C[0]*ferry_length)\n",
    ")\n",
    "\n",
    "print(f'Ferry tank volume for length of 75 m: {numpy.exp(C[1])* numpy.exp(C[0]*75):1.5e}')\n",
    "\n",
    "########### PLOT FERRY DATA FIT ###############\n",
    "fig = plt.figure()\n",
    "ax1 = fig.add_subplot(111)\n",
    "\n",
    "# add ais-curated frequency data \n",
    "good_data = length>0\n",
    "ax1.scatter(\n",
    "    length[good_data],\n",
    "    capacity[good_data],\n",
    "    40,\n",
    "    label='Data',\n",
    "    color='tab:grey'\n",
    ")\n",
    "ax1.plot(ferry_length,\n",
    "         ferry_fit, \n",
    "         c='black', \n",
    "         label=f'{numpy.exp(C[1]):.02e}e^({C[0]:.02f}L)'\n",
    "        )\n",
    "ax1.plot(\n",
    "    [numpy.min(ferry_length), numpy.max(ferry_length)],\n",
    "    [oil_attrs['vessel_attributes']['ferry']['min_fuel'], \n",
    "     oil_attrs['vessel_attributes']['ferry']['min_fuel']],\n",
    "    c='tab:grey',\n",
    "    label='Min/Max thresholds'\n",
    ")\n",
    "ax1.plot(\n",
    "    [numpy.min(ferry_length), numpy.max(ferry_length)],\n",
    "    [oil_attrs['vessel_attributes']['ferry']['max_fuel'], \n",
    "     oil_attrs['vessel_attributes']['ferry']['max_fuel']],\n",
    "    c='tab:grey'\n",
    ")\n",
    "plt.xlabel('Vessel length, $L$ (m)',fontsize=12)\n",
    "plt.ylabel('Fuel capacity (liters)',fontsize=12)\n",
    "plt.title(vessel_type, fontsize=16)\n",
    "plt.tight_layout()\n",
    "ax1.legend(bbox_to_anchor=(1.05, 1), loc='upper left')\n",
    "#plt.savefig(graphics_directory/'ferry_fit.png', bbox_inches='tight')\n",
    "plt.show()\n",
    "plt.savefig(oil_attrs['directories']['graphics'] / 'FerryFit_2018.png', \n",
    "            bbox_inches='tight'\n",
    "           )\n",
    "#~~~ fishing traffic ~~~~~~~~~~~~~~~~~~~~~~~~~~~~~~~~~~~~~~~~~~~~~~~~~~~~~~~~\n",
    "length = fishing_df['vessel length (m)']\n",
    "capacity = fishing_df['fuel capacity (liters)']\n",
    "vessel_type = 'fishing'\n",
    "\n",
    "fishing_exp_coefs= numpy.polyfit(\n",
    "    length, \n",
    "    numpy.log(capacity), \n",
    "    1\n",
    ")\n",
    "\n",
    "fishing_length = numpy.arange(0, 80, 1)\n",
    "Cexp = fishing_exp_coefs\n",
    "fishing_exp_fit = (\n",
    "    numpy.exp(Cexp[1])*\n",
    "    numpy.exp(Cexp[0]*fishing_length)\n",
    ")\n",
    "\n",
    "fishing_fit_coefs= numpy.polyfit(\n",
    "    length, \n",
    "    capacity, \n",
    "    2\n",
    ")\n",
    "oil_attrs['vessel_attributes']['fishing']['fuel_fit_coefs'] = (\n",
    "    fishing_fit_coefs.tolist()\n",
    ")\n",
    "\n",
    "C = fishing_fit_coefs\n",
    "fishing_fit = (\n",
    "    C[2]+\n",
    "    C[1]*fishing_length+\n",
    "    C[0]*fishing_length**2\n",
    ")\n",
    "\n",
    "########### PLOT FISHING DATA FIT ###############\n",
    "fig = plt.figure()\n",
    "ax1 = fig.add_subplot(111)\n",
    "\n",
    "# add ais-curated frequency data \n",
    "good_data = length>0\n",
    "ax1.scatter(\n",
    "    length[good_data],\n",
    "    capacity[good_data],\n",
    "    40,\n",
    "    label='Data',\n",
    "    color='tab:grey'\n",
    ")\n",
    "ax1.plot(fishing_length,\n",
    "         fishing_fit, \n",
    "         c='black', \n",
    "         label=f'${C[0]:.02f}L^2 + {C[1]:.02f}L + {C[2]:.02f}$'\n",
    "        )\n",
    "\n",
    "ax1.plot(\n",
    "    [numpy.min(fishing_length), numpy.max(fishing_length)],\n",
    "    [oil_attrs['vessel_attributes']['fishing']['min_fuel'], \n",
    "     oil_attrs['vessel_attributes']['fishing']['min_fuel']],\n",
    "    c='tab:grey',\n",
    "    label='Min/Max thresholds'\n",
    ")\n",
    "ax1.plot(\n",
    "    [numpy.min(fishing_length), numpy.max(fishing_length)],\n",
    "    [oil_attrs['vessel_attributes']['fishing']['max_fuel'], \n",
    "     oil_attrs['vessel_attributes']['fishing']['max_fuel']],\n",
    "    c='tab:grey'\n",
    ")\n",
    "\n",
    "#labels, etc.\n",
    "plt.xlabel('Vessel length, $L$ (m)',fontsize=12)\n",
    "plt.ylabel('Fuel capacity (liters)',fontsize=12)\n",
    "plt.title(vessel_type, fontsize=16)\n",
    "plt.tight_layout()\n",
    "ax1.legend(bbox_to_anchor=(1.05, 1), loc='upper left')\n",
    "#plt.savefig(graphics_directory/'fishing_fit.png', bbox_inches='tight')\n",
    "plt.show()\n",
    "plt.savefig(oil_attrs['directories']['graphics'] / 'FishingFit_2018.png', \n",
    "            bbox_inches='tight'\n",
    "           )\n",
    "#~~~ small passenger traffic ~~~~~~~~~~~~~~~~~~~~~~~~~~~~~~~~~~~~~~~~~~~~~~~~\n",
    "length = smallpass_df['vessel length (m)']\n",
    "capacity = smallpass_df['fuel capacity (liters)']\n",
    "vessel_type = 'smallpass'\n",
    "\n",
    "smallpass_fit_coefs= numpy.polyfit(\n",
    "    length, \n",
    "    numpy.log(capacity), \n",
    "    1\n",
    ")\n",
    "\n",
    "smallpass_fit_coefs_quad= numpy.polyfit(\n",
    "    length, \n",
    "    capacity, \n",
    "    2\n",
    ")\n",
    "\n",
    "oil_attrs['vessel_attributes']['smallpass']['fuel_fit_coefs'] = (\n",
    "    smallpass_fit_coefs.tolist()\n",
    ")\n",
    "\n",
    "smallpass_length = numpy.arange(0, 24, 1)\n",
    "C = smallpass_fit_coefs\n",
    "smallpass_fit = (\n",
    "    numpy.exp(C[1])*\n",
    "    numpy.exp(C[0]*smallpass_length)\n",
    ")\n",
    "\n",
    "C_q = smallpass_fit_coefs_quad\n",
    "smallpass_fit_q = (\n",
    "    C_q[2]+\n",
    "    C_q[1]*smallpass_length+\n",
    "    C_q[0]*smallpass_length**2\n",
    ")\n",
    "print(f'Small pass quadratic fit to 620m length: {(C_q[0]*620**2 + C_q[1]*620 + C_q[2]):.02f}')\n",
    "print(f'Small pass quadratic fit to 400m length: {(C_q[0]*400**2 + C_q[1]*400 + C_q[2]):.02f}')\n",
    "print(f'Small pass quadratic fit to 14m length: {(C_q[0]*14**2 + C_q[1]*14 + C_q[2]):.02f}')\n",
    "print(f'Small pass quadratic fit to 16m length: {(C_q[0]*16**2 + C_q[1]*16 + C_q[2]):.02f}')\n",
    "print(f'Small pass quadratic fit to 75m length: {(C_q[0]*75**2 + C_q[1]*75 + C_q[2]):.02f}')\n",
    "\n",
    "########### PLOT SMALL PASS DATA FIT ###############\n",
    "fig = plt.figure()\n",
    "ax1 = fig.add_subplot(111)\n",
    "\n",
    "# add ais-curated frequency data \n",
    "good_data = length>0\n",
    "ax1.scatter(\n",
    "    length[good_data],\n",
    "    capacity[good_data],\n",
    "    40,\n",
    "    label='Data',\n",
    "    color='tab:grey'\n",
    ")\n",
    "\n",
    "ax1.plot(\n",
    "    smallpass_length, \n",
    "    smallpass_fit_q,  \n",
    "    c='black', \n",
    "    label=f'${C_q[0]:.02f}L^2 + {C_q[1]:.02f}L + {C_q[2]:.02f}$'\n",
    ")\n",
    "ax1.plot(\n",
    "    [numpy.min(smallpass_length), numpy.max(smallpass_length)],\n",
    "    [oil_attrs['vessel_attributes']['smallpass']['min_fuel'], \n",
    "     oil_attrs['vessel_attributes']['smallpass']['min_fuel']],\n",
    "    c='tab:grey',\n",
    "    label='Min/Max thresholds'\n",
    ")\n",
    "ax1.plot(\n",
    "    [numpy.min(smallpass_length), numpy.max(smallpass_length)],\n",
    "    [oil_attrs['vessel_attributes']['smallpass']['max_fuel'], \n",
    "     oil_attrs['vessel_attributes']['smallpass']['max_fuel']],\n",
    "    c='tab:grey'\n",
    ")\n",
    "#labels, etc.\n",
    "plt.xlabel('Vessel length, $L$ (m)',fontsize=12)\n",
    "plt.ylabel('Fuel capacity (liters)',fontsize=12)\n",
    "plt.title(vessel_type, fontsize=16)\n",
    "plt.tight_layout()\n",
    "ax1.legend(bbox_to_anchor=(1.05, 1), loc='upper left')\n",
    "#plt.savefig(graphics_directory/'smallpass_fit.png', bbox_inches='tight')\n",
    "plt.show()\n",
    "plt.savefig(oil_attrs['directories']['graphics'] / 'SmallPassFit_2018.png', \n",
    "            bbox_inches='tight'\n",
    "           )\n",
    "#~~~ other ~~~\n",
    "## Use same data as small passenger\n",
    "oil_attrs['vessel_attributes']['other']['fuel_fit_coefs'] = (\n",
    "    smallpass_fit_coefs.tolist()\n",
    ")\n"
   ]
  },
  {
   "cell_type": "markdown",
   "metadata": {},
   "source": [
    "# Save dictionary to .yaml file "
   ]
  },
  {
   "cell_type": "code",
   "execution_count": 31,
   "metadata": {},
   "outputs": [],
   "source": [
    "# convert path objects to strings for safe_dump()\n",
    "for category in oil_attrs['directories'].keys():\n",
    "    oil_attrs['directories'][category] = oil_attrs['directories'][category].as_posix()\n",
    "for category in oil_attrs['files'].keys():\n",
    "    oil_attrs['files'][category] = oil_attrs['files'][category].as_posix()"
   ]
  },
  {
   "cell_type": "code",
   "execution_count": 32,
   "metadata": {},
   "outputs": [],
   "source": [
    "#oil_attrs['directories']['data'] = oil_attrs['directories']['data'].as_posix()\n",
    "with open(oil_attrs['files']['output_file'], 'w') as file:\n",
    "    documents = yaml.safe_dump(oil_attrs, file)"
   ]
  },
  {
   "cell_type": "markdown",
   "metadata": {},
   "source": [
    "# Additional checks and graphics"
   ]
  },
  {
   "cell_type": "markdown",
   "metadata": {},
   "source": [
    "#### Calculate the median time interval weighted by number of tracks for both ATBs and tank barges to estimate the number of AIS ship tracks that we would expect to see in AIS given the number of cargo transfers that we see in the Dept. of Ecology database"
   ]
  },
  {
   "cell_type": "code",
   "execution_count": 33,
   "metadata": {},
   "outputs": [
    {
     "name": "stdout",
     "output_type": "stream",
     "text": [
      "ATB time = 1.00, barge time = 0.98, ratio = 0.983\n"
     ]
    }
   ],
   "source": [
    "\n",
    "# F: ATB median time between AIS pings\n",
    "# P: non-ATB median time between AIS pings\n",
    "ais_df = pandas.read_excel(\n",
    "    oil_attrs['files']['ais_ping_data'],\n",
    "    sheet_name='Frequency of AIS Pings', \n",
    "    usecols='F,P',\n",
    "    skiprows=1\n",
    ").rename(columns={\n",
    "    'Median time between pings (minutes)':'ATB',\n",
    "    'Median time between pings (minutes).1':'non-ATB'\n",
    "})\n",
    "atb_time = numpy.nanmedian(ais_df['ATB'])\n",
    "barge_time = numpy.nanmedian(ais_df['non-ATB'])\n",
    "barge2atb_ratio = barge_time/atb_time\n",
    "\n",
    "print(f'ATB time = {atb_time:.2f}, barge time = {barge_time:.2f}, ratio = {barge2atb_ratio:.3f}')"
   ]
  },
  {
   "cell_type": "code",
   "execution_count": 34,
   "metadata": {},
   "outputs": [
    {
     "data": {
      "text/plain": [
       "[1746.9782184700002, 61315.85667218, 4621120.774437631]"
      ]
     },
     "execution_count": 34,
     "metadata": {},
     "output_type": "execute_result"
    }
   ],
   "source": [
    "# small passenger quadratic fit for median(small pass), max (small pass) and max(other)\n",
    "lengths = [16,75,620]\n",
    "[12.18041808*length**2 - 98.77603759*length + 209.20779143 for length in lengths]"
   ]
  },
  {
   "cell_type": "code",
   "execution_count": 35,
   "metadata": {},
   "outputs": [
    {
     "name": "stdout",
     "output_type": "stream",
     "text": [
      "3.1044720668977877 0.25853080128793177 3924.8683672839948\n"
     ]
    }
   ],
   "source": [
    "#~~~ small passenger traffic ~~~~~~~~~~~~~~~~~~~~~~~~~~~~~~~~~~~~~~~~~~~~~~~~\n",
    "length = smallpass_df['vessel length (m)']\n",
    "capacity = smallpass_df['fuel capacity (liters)']\n",
    "vessel_type = 'smallpass'\n",
    "\n",
    "smallpass_fit_coefs= numpy.polyfit(\n",
    "    length, \n",
    "    numpy.log(capacity), \n",
    "    1\n",
    ")\n",
    "\n",
    "oil_attrs['vessel_attributes']['smallpass']['fuel_fit_coefs'] = (\n",
    "    smallpass_fit_coefs.tolist()\n",
    ")\n",
    "\n",
    "smallpass_length = numpy.arange(0, 24, 1)\n",
    "C = smallpass_fit_coefs\n",
    "smallpass_fit = (\n",
    "    numpy.exp(C[1])*\n",
    "    numpy.exp(C[0]*smallpass_length)\n",
    ")\n",
    "print(C[1], C[0], numpy.exp(C[1])*\n",
    "    numpy.exp(C[0]*20)\n",
    "     )"
   ]
  },
  {
   "cell_type": "markdown",
   "metadata": {},
   "source": [
    "### Graphics"
   ]
  },
  {
   "cell_type": "code",
   "execution_count": 36,
   "metadata": {},
   "outputs": [],
   "source": [
    "## placeholder for tanker cargo capacity bins"
   ]
  },
  {
   "cell_type": "code",
   "execution_count": 37,
   "metadata": {},
   "outputs": [
    {
     "data": {
      "image/png": "[encoded data removed]",
      "text/plain": [
       "<Figure size 432x288 with 1 Axes>"
      ]
     },
     "metadata": {
      "needs_background": "light"
     },
     "output_type": "display_data"
    }
   ],
   "source": [
    "#~~~~ ATB (> 50 m) fuel capacity line fit ~~~~\n",
    "C = oil_attrs['vessel_attributes']['atb']['fuel_fit_coefs']\n",
    "test_length = numpy.arange(60,230,5)\n",
    "test_atb_fit = ( \n",
    "    C[1] + \n",
    "    C[0]*test_length \n",
    ")\n",
    "\n",
    "atbfig = plt.figure()\n",
    "ax1 = atbfig.add_subplot(111)\n",
    "ax1.scatter(\n",
    "    atb_df['Vessel Length (AIS + <50 m correction)'][good_values],\n",
    "    atb_df['Total Fuel Capacity (liters)'][good_values],\n",
    "    60,\n",
    "    label='AIS curated data',\n",
    "    color='royalblue'\n",
    ")\n",
    "ax1.plot(test_length, test_atb_fit, c='royalblue', label='linear fit')\n",
    "plt.xlabel('ATB length (m)',fontsize=12)\n",
    "plt.ylabel('ATB fuel capacity (liters)',fontsize=12)\n",
    "plt.tight_layout()\n",
    "ax1.legend()\n",
    "#plt.savefig('ATB_cargo_ais.png')\n",
    "plt.show()\n",
    "#plt.savefig(graphics_directory/'atb_fuel_fit.png')"
   ]
  },
  {
   "cell_type": "code",
   "execution_count": 38,
   "metadata": {},
   "outputs": [
    {
     "data": {
      "image/png": "[encoded data removed]",
      "text/plain": [
       "<Figure size 432x288 with 1 Axes>"
      ]
     },
     "metadata": {
      "needs_background": "light"
     },
     "output_type": "display_data"
    }
   ],
   "source": [
    "#~~~~ ATB (< 50 m) and tank barge cargo capacity weighting ~~~~\n",
    "fig = plt.figure()\n",
    "ax2 = fig.add_subplot(111)\n",
    "\n",
    "# add binned-ship-track frequencies\n",
    "ax2.bar(\n",
    "    cargo_bin_centers,\n",
    "    binned_atb_count_cargo,\n",
    "    width=0.3e6,\n",
    "    label='Binned AIS ship tracks',\n",
    "    color='darkslateblue'\n",
    ")\n",
    "\n",
    "# add ais-curated frequency data \n",
    "ax2.scatter(\n",
    "    atb_df['Cargo Capacity (liters)'][0:18],\n",
    "    atb_data_df['COUNT'],\n",
    "    50,\n",
    "    label='AIS ship tracks per vessel',\n",
    "    color='yellowgreen'\n",
    ")\n",
    "\n",
    "#labels, etc.\n",
    "plt.xlabel('Oil cargo capacity (liters)',fontsize=12)\n",
    "plt.ylabel('Number of AIS ship tracks',fontsize=12)\n",
    "plt.tight_layout()\n",
    "ax2.legend()\n",
    "plt.savefig(oil_attrs['directories']['graphics'] + 'tank_barge_pings_binnedbycapacity.png', \n",
    "            bbox_inches='tight'\n",
    "           )\n",
    "plt.show() "
   ]
  },
  {
   "cell_type": "code",
   "execution_count": 39,
   "metadata": {},
   "outputs": [
    {
     "data": {
      "image/png": "[encoded data removed]",
      "text/plain": [
       "<Figure size 432x288 with 1 Axes>"
      ]
     },
     "metadata": {
      "needs_background": "light"
     },
     "output_type": "display_data"
    }
   ],
   "source": [
    "small = atb_df['Vessel length (AIS)']<50\n",
    "atbfig = plt.figure()\n",
    "ax1 = atbfig.add_subplot(111)\n",
    "ax1.scatter(\n",
    "    atb_df['Vessel length (AIS)'][small],\n",
    "    atb_df['Total Fuel Capacity (liters)'][small],\n",
    "    60,\n",
    "    label='AIS curated data',\n",
    "    color='royalblue'\n",
    ")\n",
    "#ax1.plot(test_length, test_atb_fit, c='royalblue', label='linear fit')\n",
    "plt.xlabel('ATB length (m)',fontsize=12)\n",
    "plt.ylabel('ATB fuel capacity (liters)',fontsize=12)\n",
    "plt.tight_layout()\n",
    "ax1.legend()\n",
    "#plt.savefig('ATB_cargo_ais.png')\n",
    "plt.show()"
   ]
  },
  {
   "cell_type": "code",
   "execution_count": 40,
   "metadata": {},
   "outputs": [
    {
     "data": {
      "image/png": "[encoded data removed]",
      "text/plain": [
       "<Figure size 432x288 with 1 Axes>"
      ]
     },
     "metadata": {
      "needs_background": "light"
     },
     "output_type": "display_data"
    }
   ],
   "source": [
    "#~~~~ plot  ais pings by vessel lengths  and ais pings by binned lengths, for comparison~~~~\n",
    "aisfig = plt.figure()\n",
    "ax1 = aisfig.add_subplot(111)\n",
    "\n",
    "\n",
    "# add binned-ship-track frequencies\n",
    "ax1.bar(\n",
    "    cargo_bin_centers,\n",
    "    binned_atb_count_cargo,\n",
    "    width=0.3e6,\n",
    "    label='Binned distances',\n",
    "    color='darkslateblue'\n",
    ")\n",
    "\n",
    "# add ais-curated frequency data \n",
    "good_data = atb_df['Cargo Capacity (liters)']>0\n",
    "ax1.scatter(\n",
    "    atb_df['Cargo Capacity (liters)'][good_data],\n",
    "    atb_data_df['COUNT'][good_data],\n",
    "    50,\n",
    "    label='AIS total distance and capacity by ship',\n",
    "    color='yellowgreen'\n",
    ")\n",
    "\n",
    "#labels, etc.\n",
    "plt.xlabel('ATB cargo capacity (liters)',fontsize=12)\n",
    "plt.ylabel('Distance traveled (km)',fontsize=12)\n",
    "plt.tight_layout()\n",
    "ax1.legend()\n",
    "#plt.savefig('ATB_frequency_ais.png')\n",
    "plt.show() "
   ]
  },
  {
   "cell_type": "code",
   "execution_count": 41,
   "metadata": {},
   "outputs": [
    {
     "data": {
      "text/plain": [
       "{'probability_full': 0.5,\n",
       " 'probability_empty': 0.5,\n",
       " 'probability_full_handymax': 0.628808864265928,\n",
       " 'probability_empty_handymax': 0.37119113573407203,\n",
       " 'min_cargo': 588253,\n",
       " 'max_cargo': 185447000,\n",
       " 'min_fuel': 33690.0,\n",
       " 'min_length': 42,\n",
       " 'max_fuel': 2984000.0,\n",
       " 'max_length': 300,\n",
       " 'handy_weights': [0.1145374449339207,\n",
       "  0.039647577092511016,\n",
       "  0.13215859030837004,\n",
       "  0.030837004405286344,\n",
       "  0.07048458149779736,\n",
       "  0.05726872246696035,\n",
       "  0.030837004405286344,\n",
       "  0.06167400881057269,\n",
       "  0.09251101321585903,\n",
       "  0.06167400881057269,\n",
       "  0.04405286343612335,\n",
       "  0.048458149779735685,\n",
       "  0.10572687224669604,\n",
       "  0.06167400881057269,\n",
       "  0.048458149779735685],\n",
       " 'handy_capacity': [3402326.5080000004,\n",
       "  6804653.016000001,\n",
       "  10206979.524,\n",
       "  13609306.032000002,\n",
       "  17011632.540000003,\n",
       "  20413959.048,\n",
       "  23816285.556,\n",
       "  27218612.064000003,\n",
       "  30620938.572000004,\n",
       "  34023265.080000006,\n",
       "  37425591.58800001,\n",
       "  40827918.096,\n",
       "  44230244.604,\n",
       "  47632571.112,\n",
       "  51034897.620000005],\n",
       " 'tanker_types': ['Smallest Tanker (< 60 m)Small Tanker (61 - 150 m)',\n",
       "  'Handymax (151-200 m)',\n",
       "  'Aframax (201-250 m)',\n",
       "  'SuezMax (251-300 m)'],\n",
       " 'fuel_hfo_to_diesel': [13.285714285714285,\n",
       "  12.793296089385475,\n",
       "  14.046153846153846,\n",
       "  17.419753086419753,\n",
       "  30.96153846153846,\n",
       "  nan,\n",
       "  nan,\n",
       "  nan,\n",
       "  nan,\n",
       "  nan,\n",
       "  nan,\n",
       "  nan,\n",
       "  nan,\n",
       "  nan,\n",
       "  nan,\n",
       "  nan,\n",
       "  nan,\n",
       "  nan,\n",
       "  nan,\n",
       "  nan],\n",
       " 'fuel_capacity': [33690.0,\n",
       "  740700.0,\n",
       "  1956000.0,\n",
       "  2984000.0,\n",
       "  4155000.0,\n",
       "  nan,\n",
       "  nan,\n",
       "  nan,\n",
       "  nan,\n",
       "  nan,\n",
       "  nan,\n",
       "  nan,\n",
       "  nan,\n",
       "  nan,\n",
       "  nan,\n",
       "  nan,\n",
       "  nan,\n",
       "  nan,\n",
       "  nan,\n",
       "  nan],\n",
       " 'cargo_capacity': [588253,\n",
       "  18283530,\n",
       "  48809077,\n",
       "  122000000,\n",
       "  185000000,\n",
       "  nan,\n",
       "  nan,\n",
       "  nan,\n",
       "  nan,\n",
       "  nan,\n",
       "  nan,\n",
       "  nan,\n",
       "  nan,\n",
       "  nan,\n",
       "  nan,\n",
       "  nan,\n",
       "  nan,\n",
       "  nan,\n",
       "  nan,\n",
       "  ']'],\n",
       " 'length_bins': ((0.0, 61.0),\n",
       "  (61.0, 151.0),\n",
       "  (151.0, 201.0),\n",
       "  (201.0, 251.0),\n",
       "  (251.0, 301.0),\n",
       "  (nan, nan),\n",
       "  (nan, nan),\n",
       "  (nan, nan),\n",
       "  (nan, nan),\n",
       "  (nan, nan),\n",
       "  (nan, nan),\n",
       "  (nan, nan),\n",
       "  (nan, nan),\n",
       "  (nan, nan),\n",
       "  (nan, nan),\n",
       "  (nan, nan),\n",
       "  (nan, nan),\n",
       "  (nan, nan),\n",
       "  (nan, nan),\n",
       "  (nan, nan))}"
      ]
     },
     "execution_count": 41,
     "metadata": {},
     "output_type": "execute_result"
    }
   ],
   "source": [
    "oil_attrs['vessel_attributes']['tanker']"
   ]
  },
  {
   "cell_type": "code",
   "execution_count": 42,
   "metadata": {},
   "outputs": [
    {
     "data": {
      "text/plain": [
       "((0.0, 61.0),\n",
       " (61.0, 151.0),\n",
       " (151.0, 201.0),\n",
       " (201.0, 251.0),\n",
       " (251.0, 301.0),\n",
       " (nan, nan),\n",
       " (nan, nan),\n",
       " (nan, nan),\n",
       " (nan, nan),\n",
       " (nan, nan),\n",
       " (nan, nan),\n",
       " (nan, nan),\n",
       " (nan, nan),\n",
       " (nan, nan),\n",
       " (nan, nan),\n",
       " (nan, nan),\n",
       " (nan, nan),\n",
       " (nan, nan),\n",
       " (nan, nan),\n",
       " (nan, nan))"
      ]
     },
     "execution_count": 42,
     "metadata": {},
     "output_type": "execute_result"
    }
   ],
   "source": [
    "oil_attrs['vessel_attributes']['tanker']['length_bins']"
   ]
  },
  {
   "cell_type": "code",
   "execution_count": 43,
   "metadata": {},
   "outputs": [
    {
     "data": {
      "text/plain": [
       "[(75000, 100000),\n",
       " (100000, 125000),\n",
       " (125000, 150000),\n",
       " (150000, 175000),\n",
       " (175000, 200000),\n",
       " (200000, 225000),\n",
       " (225000, 250000),\n",
       " (250000, 275000),\n",
       " (275000, 300000),\n",
       " (300000, 325000),\n",
       " (325000, 350000),\n",
       " (350000, 375000),\n",
       " (375000, 400000),\n",
       " (400000, 425000),\n",
       " (425000, 450000),\n",
       " (450000, 475000),\n",
       " (475000, 500000),\n",
       " (500000, 525000),\n",
       " (525000, 550000),\n",
       " (550000, 575000),\n",
       " (575000, 600000),\n",
       " (600000, 625000),\n",
       " (625000, 650000),\n",
       " (650000, 675000)]"
      ]
     },
     "execution_count": 43,
     "metadata": {},
     "output_type": "execute_result"
    }
   ],
   "source": [
    "oil_attrs['vessel_attributes']['atb']['fuel_capacity_bins']"
   ]
  },
  {
   "cell_type": "code",
   "execution_count": 44,
   "metadata": {},
   "outputs": [],
   "source": [
    "bins = []\n",
    "center_points = []\n",
    "for index in range(len(tanker_df['min length (m)']-1)):\n",
    "    bins.append(\n",
    "        (tanker_df['min length (m)'][index].tolist(), \n",
    "         tanker_df['max length (m)'][index].tolist()+1)\n",
    "    )\n",
    "    step_size = (\n",
    "        tanker_df['max length (m)'][index].tolist() - \n",
    "        tanker_df['min length (m)'][index].tolist()\n",
    "    )\n",
    "    center_points.append(tanker_df['min length (m)'][index] + step_size/2)\n",
    "\n"
   ]
  },
  {
   "cell_type": "code",
   "execution_count": 45,
   "metadata": {},
   "outputs": [
    {
     "data": {
      "text/plain": [
       "1.0"
      ]
     },
     "execution_count": 45,
     "metadata": {},
     "output_type": "execute_result"
    }
   ],
   "source": [
    "sum(oil_attrs['vessel_attributes']['atb']['fuel_capacity_probability'])"
   ]
  },
  {
   "cell_type": "code",
   "execution_count": 46,
   "metadata": {},
   "outputs": [],
   "source": [
    "numerator = binned_atb_count_by_fuel\n",
    "denomintor = binned_atb_count_by_fuel.sum()\n",
    "fuel_weights = numpy.around(\n",
    "        numerator / denominator,\n",
    "        decimals = 2\n",
    ")"
   ]
  },
  {
   "cell_type": "code",
   "execution_count": 47,
   "metadata": {},
   "outputs": [
    {
     "data": {
      "text/plain": [
       "1.0"
      ]
     },
     "execution_count": 47,
     "metadata": {},
     "output_type": "execute_result"
    }
   ],
   "source": [
    "sum(fuel_weights)"
   ]
  },
  {
   "cell_type": "code",
   "execution_count": 48,
   "metadata": {},
   "outputs": [
    {
     "data": {
      "text/plain": [
       "1.0"
      ]
     },
     "execution_count": 48,
     "metadata": {},
     "output_type": "execute_result"
    }
   ],
   "source": [
    "numpy.sum(numpy.asarray(oil_attrs['vessel_attributes']['atb']['fuel_capacity_probability']))"
   ]
  }
 ],
 "metadata": {
  "kernelspec": {
   "display_name": "Python 3 (ipykernel)",
   "language": "python",
   "name": "python3"
  },
  "language_info": {
   "codemirror_mode": {
    "name": "ipython",
    "version": 3
   },
   "file_extension": ".py",
   "mimetype": "text/x-python",
   "name": "python",
   "nbconvert_exporter": "python",
   "pygments_lexer": "ipython3",
   "version": "3.9.7"
  }
 },
 "nbformat": 4,
 "nbformat_minor": 4
}
