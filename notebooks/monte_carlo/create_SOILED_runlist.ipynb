{
 "cells": [
  {
   "cell_type": "markdown",
   "id": "3d226e52-3320-4e3e-92e0-f34de8f79501",
   "metadata": {},
   "source": [
    "---\n",
    "# Create ordered list of SOILED netcdf output from monte-carlo \n",
    "# Identify missing/incomplete runs\n",
    "---"
   ]
  },
  {
   "cell_type": "markdown",
   "id": "caeb60d6-620d-408e-8ee6-b7825a1d0d73",
   "metadata": {},
   "source": [
    "The monte carlo runs were completed on Compute Canada's supercomputer, `Graham` and this code is intended to be used on that system.  It requires initialization of a Virtual Environment.  See `/home/rmueller/projects/def-allen/rmueller/graham-jupyter-env.txt`.\n",
    "\n",
    "First initiate a compute node (no heavy-lifting in this example) with: \n",
    "```\n",
    "salloc --time=1:00:00 --ntasks=1 --cpus-per-task=2 --mem-per-cpu=1024M --account=rrg-allen\n",
    "```\n",
    "Activate `VENV` with:\n",
    "```\n",
    "module load python/3.8.2\n",
    "source ~/venvs/jupyter/bin/activate\n",
    "```\n",
    "Deactivate `VENV` with:\n",
    "```\n",
    "deactivate\n",
    "```\n",
    "If the `jupyter` `VENV` is not yet setup, install it with:\n",
    "```\n",
    "module load python/3.8.2\n",
    "python3 -m virtualenv --no-download ~/venvs/jupyter\n",
    "source ~/venvs/jupyter/bin/activate\n",
    "python3 -m pip install --no-index --upgrade pip\n",
    "python3 -m pip install -r /home/rmueller/projects/def-allen/rmueller/graham-jupyter-env.txt\n",
    "```\n",
    "\n",
    "This environment is setup to allow user to initiate a remote window using:\n",
    "```\n",
    "jupyter lab --no-browser --ip $(hostname -f)\n",
    "```"
   ]
  },
  {
   "cell_type": "code",
   "execution_count": 1,
   "id": "acf84f1b-7660-4fdb-864a-26f3fe2cd215",
   "metadata": {},
   "outputs": [],
   "source": [
    "from glob import glob\n",
    "import os\n",
    "import sys\n",
    "import time\n",
    "from datetime import datetime\n",
    "import pandas\n",
    "import numpy\n",
    "import yaml"
   ]
  },
  {
   "cell_type": "code",
   "execution_count": 2,
   "id": "776315ac-6467-474b-a8f1-098a03592707",
   "metadata": {},
   "outputs": [],
   "source": [
    "def get_MOHID_netcdf_filenames(results_dir, output_dir, oil_types):\n",
    "    \"\"\"Get lists of filepaths and filenames for netcdf files of model output, \n",
    "    grouped by oil types. NOTE: jet and gas are run as diesel; other is run \n",
    "    as bunker.  \n",
    "    \n",
    "    :param str results_dir: File path for root directory of run sets. \n",
    "    On Graham, the filepath is `/scratch/dlatorne/MIDOSS/runs/monte-carlo`\n",
    "    \n",
    "    :param str output_dir: File path for storing MOHID_results_locations_{date}.yaml,\n",
    "    which contains file paths for completed runs, sorted by oil type.  \n",
    "    \n",
    "    :return: Dataframe of file paths and names, sorted by oil types, namely: \n",
    "    akns, bunker, dilbit, jet, diesel, gas and other.  Note: jet and gas are \n",
    "    run as diesel; other is run as bunker.  \n",
    "    :rtype: :py:class:`pandas.DataFrame`\n",
    "    \"\"\"\n",
    "    # get list of runsets\n",
    "    runsets = sorted(glob(os.path.join(results_dir,\"near-BP_*\")))\n",
    "    # get list of runs within each runset\n",
    "    runs = []\n",
    "    for runset in runsets:\n",
    "        runs.extend(sorted(\n",
    "            glob(os.path.join(runset,'results','near-BP_*')))[:])        \n",
    "    # get complete list of netcdf files\n",
    "    netcdf_files = []\n",
    "    for run in runs:\n",
    "        netcdf_files.extend(sorted(\n",
    "            glob(os.path.join(run,'Lagrangian*.nc')))[:])\n",
    "    # sort filenames by oil type.  \n",
    "    file_boolean = {}\n",
    "    files = {}\n",
    "    files['all'] = []\n",
    "    for oil in oil_types:\n",
    "        file_boolean[oil] = [oil in file for file in netcdf_files]\n",
    "        files[oil]=[file for i,file in enumerate(netcdf_files) \\\n",
    "            if file_boolean[oil][i]]\n",
    "        files['all'].extend(files[oil])\n",
    "    files['all'].sort()\n",
    "    # write filenames to .yaml with timestamp in filename\n",
    "    now = datetime.now()\n",
    "    dt_string = now.strftime(\"%d%m%Y_%H:%M:%S\")\n",
    "    out_f = output_dir+f'/MOHID_results_locations_{dt_string}.yaml'\n",
    "    with open(out_f, 'w') as output_yaml:\n",
    "        documents = yaml.safe_dump(files, output_yaml)\n",
    "    \n",
    "    return files"
   ]
  },
  {
   "cell_type": "code",
   "execution_count": 3,
   "id": "42494711-8c84-4469-9efc-b800845403b1",
   "metadata": {},
   "outputs": [],
   "source": [
    "oil_types = [\n",
    "    'akns', \n",
    "    'bunker', \n",
    "    'dilbit', \n",
    "    'jet', \n",
    "    'diesel', \n",
    "    'gas', \n",
    "    'other'\n",
    "]\n",
    "results_dir='/scratch/dlatorne/MIDOSS/runs/monte-carlo'\n",
    "output_dir ='/scratch/rmueller/MIDOSS/Results'\n",
    "files = get_MOHID_netcdf_filenames(results_dir, output_dir, oil_types)"
   ]
  },
  {
   "cell_type": "code",
   "execution_count": 4,
   "id": "e3026781-3863-4478-a16e-128907dc0004",
   "metadata": {},
   "outputs": [
    {
     "name": "stdout",
     "output_type": "stream",
     "text": [
      "akns: 64 runs, approx 0.61 hours to complete\n",
      "bunker: 3323 runs, approx 31.85 hours to complete\n",
      "dilbit: 1 runs, approx 0.01 hours to complete\n",
      "jet: 26 runs, approx 0.25 hours to complete\n",
      "diesel: 6192 runs, approx 59.34 hours to complete\n",
      "gas: 73 runs, approx 0.70 hours to complete\n",
      "other: 68 runs, approx 0.65 hours to complete\n",
      "TOTAL RUNS: 9747\n"
     ]
    }
   ],
   "source": [
    "total = 0\n",
    "time_per_file = 0.575\n",
    "minutes_to_hours = 1/60\n",
    "for oil in oil_types:\n",
    "    number_of_files = len(files[oil])\n",
    "    time_to_complete = time_per_file * number_of_files * minutes_to_hours\n",
    "    print(f'{oil}: {number_of_files} runs, approx {time_to_complete:.2f} hours to complete')\n",
    "    total+=len(files[oil])\n",
    "print(f'TOTAL RUNS: {total}')"
   ]
  },
  {
   "cell_type": "markdown",
   "id": "b1cbea2a-cb14-4035-9740-de29de7e8d81",
   "metadata": {},
   "source": [
    "### Find missing files"
   ]
  },
  {
   "cell_type": "code",
   "execution_count": 5,
   "id": "abc0c5cf-da84-46b4-ad0c-376c6c2a76e1",
   "metadata": {},
   "outputs": [],
   "source": [
    "# get list of runsets\n",
    "runsets = sorted(glob(os.path.join(results_dir,\"near-BP_*\")))\n",
    "finished = pandas.DataFrame({'filenames':files['all']})"
   ]
  },
  {
   "cell_type": "code",
   "execution_count": 6,
   "id": "7469d30e-3a97-49d6-89d6-af0a7e87bc80",
   "metadata": {},
   "outputs": [],
   "source": [
    "# get list of runsets\n",
    "runsets = sorted(glob(os.path.join(results_dir,\"near-BP_*\")))\n",
    "finished = pandas.DataFrame({'filenames':files['all']})"
   ]
  },
  {
   "cell_type": "code",
   "execution_count": 9,
   "id": "625d2a7a-8343-4ad0-9939-84631fbd352c",
   "metadata": {},
   "outputs": [
    {
     "name": "stdout",
     "output_type": "stream",
     "text": [
      "near-BP_2000th-100_2021-10-02T144815 : 76 of 100\n",
      "near-BP_2004th-100_2021-10-02T144852 : 95 of 100\n",
      "near-BP_46th-100_2021-10-02T142422 : 96 of 100\n",
      "near-BP_49th-100_2021-10-03T140133 : 86 of 100\n",
      "near-BP_4th-100_2021-09-24T125848 : 96 of 100\n",
      "near-BP_53th-100_2021-10-03T140217 : 80 of 100\n",
      "near-BP_55th-100_2021-10-03T140235 : 99 of 100\n",
      "near-BP_79th-100_2021-10-07T121854 : 90 of 100\n",
      "near-BP_88th-100_2021-10-11T190627 : 98 of 100\n",
      "near-BP_94th-103_2021-10-13T133218 : 101 of 103\n"
     ]
    }
   ],
   "source": [
    "list_of_incomplete = []\n",
    "n_missing = 0\n",
    "for runset in runsets: \n",
    "    finished_runset = finished[finished['filenames'].str.contains(runset)]\n",
    "    nruns = f'{runset}'.split('-')[3:][0].split('_')[0]\n",
    "    nruns_finished = len(finished_runset)\n",
    "    if int(nruns)!=nruns_finished:\n",
    "        if nruns_finished>0:\n",
    "            print(f'{runset}'.split('/')[-1],f': {nruns_finished} of {nruns}')\n",
    "            list_of_incomplete.append(f'{runset}'.split('/')[-1])\n",
    "            n_missing+=int(nruns)-nruns_finished\n"
   ]
  },
  {
   "cell_type": "code",
   "execution_count": 10,
   "id": "7aeaa966-6cf2-4af8-93b1-27e4ccd30d63",
   "metadata": {},
   "outputs": [],
   "source": [
    "missing_runs={}\n",
    "completed_runs={}\n",
    "for runset in list_of_incomplete: \n",
    "    completed_runs[runset]=[]\n",
    "    finished_runset = finished[finished['filenames'].str.contains(runset)]\n",
    "    for run in finished_runset['filenames']:\n",
    "        completed_runs[runset].append(int(run.split('.')[0].split('-')[-1]))\n",
    "    completed_runs[runset].sort()\n",
    "    for i in range(len(completed_runs[runset]) - 1):\n",
    "        #print(completed_runs[runset][i],completed_runs[runset][i+1])\n",
    "        if (completed_runs[runset][i+1] - completed_runs[runset][i])>1:\n",
    "            run_list = numpy.arange(\n",
    "                completed_runs[runset][i]+1,completed_runs[runset][i+1]\n",
    "            )\n",
    "            if runset in missing_runs:\n",
    "                missing_runs[runset]=numpy.append(missing_runs[runset],run_list)\n",
    "            else:\n",
    "                missing_runs[runset]=run_list"
   ]
  },
  {
   "cell_type": "code",
   "execution_count": 11,
   "id": "d7f39025-7f1c-4a92-849e-d4c2d472eacf",
   "metadata": {},
   "outputs": [],
   "source": [
    "for runset in [*missing_runs]:\n",
    "     missing_runs[runset]=missing_runs[runset].tolist()"
   ]
  },
  {
   "cell_type": "code",
   "execution_count": 13,
   "id": "cc91c1e7-67c5-46f4-baf6-587ed4e63117",
   "metadata": {},
   "outputs": [],
   "source": [
    "import yaml\n",
    "with open('/scratch/rmueller/MIDOSS/Results/'+'missing_runs.yaml', 'w') as outfile:\n",
    "    yaml.safe_dump(missing_runs, outfile)"
   ]
  },
  {
   "cell_type": "code",
   "execution_count": 14,
   "id": "277af1e5-cf14-4be7-85ac-51ee9c020cfb",
   "metadata": {},
   "outputs": [
    {
     "data": {
      "text/plain": [
       "{'near-BP_2000th-100_2021-10-02T144815': [1,\n",
       "  2,\n",
       "  3,\n",
       "  4,\n",
       "  5,\n",
       "  6,\n",
       "  7,\n",
       "  8,\n",
       "  10,\n",
       "  11,\n",
       "  13,\n",
       "  14,\n",
       "  17,\n",
       "  19,\n",
       "  20,\n",
       "  21,\n",
       "  23,\n",
       "  24,\n",
       "  25,\n",
       "  26,\n",
       "  27,\n",
       "  29,\n",
       "  30,\n",
       "  35],\n",
       " 'near-BP_2004th-100_2021-10-02T144852': [10, 15, 17, 19, 24],\n",
       " 'near-BP_46th-100_2021-10-02T142422': [4, 21, 26, 28],\n",
       " 'near-BP_49th-100_2021-10-03T140133': [42,\n",
       "  43,\n",
       "  52,\n",
       "  57,\n",
       "  59,\n",
       "  70,\n",
       "  72,\n",
       "  90,\n",
       "  91,\n",
       "  94,\n",
       "  95,\n",
       "  96,\n",
       "  97],\n",
       " 'near-BP_4th-100_2021-09-24T125848': [92, 94, 96],\n",
       " 'near-BP_53th-100_2021-10-03T140217': [6,\n",
       "  7,\n",
       "  8,\n",
       "  11,\n",
       "  12,\n",
       "  14,\n",
       "  16,\n",
       "  17,\n",
       "  19,\n",
       "  21,\n",
       "  23,\n",
       "  25,\n",
       "  26,\n",
       "  28,\n",
       "  29,\n",
       "  48,\n",
       "  49,\n",
       "  55],\n",
       " 'near-BP_55th-100_2021-10-03T140235': [24],\n",
       " 'near-BP_79th-100_2021-10-07T121854': [9, 45, 50, 52, 54, 56, 75, 77, 78, 90],\n",
       " 'near-BP_88th-100_2021-10-11T190627': [64, 70]}"
      ]
     },
     "execution_count": 14,
     "metadata": {},
     "output_type": "execute_result"
    }
   ],
   "source": [
    "missing_runs"
   ]
  },
  {
   "cell_type": "code",
   "execution_count": null,
   "id": "59ca1efb-3008-4f8a-ba5b-6a05d6ffc069",
   "metadata": {},
   "outputs": [],
   "source": []
  }
 ],
 "metadata": {
  "kernelspec": {
   "display_name": "Python 3 (ipykernel)",
   "language": "python",
   "name": "python3"
  },
  "language_info": {
   "codemirror_mode": {
    "name": "ipython",
    "version": 3
   },
   "file_extension": ".py",
   "mimetype": "text/x-python",
   "name": "python",
   "nbconvert_exporter": "python",
   "pygments_lexer": "ipython3",
   "version": "3.8.2"
  }
 },
 "nbformat": 4,
 "nbformat_minor": 5
}
