{
 "cells": [
  {
   "cell_type": "markdown",
   "metadata": {},
   "source": [
    "# Determine the fraction of fuel-to-cargo transfers for ATB/ITBs"
   ]
  },
  {
   "cell_type": "code",
   "execution_count": 1,
   "metadata": {},
   "outputs": [],
   "source": [
    "import pandas as pd\n",
    "import numpy as np\n",
    "import matplotlib.pyplot as plt\n",
    "import yaml"
   ]
  },
  {
   "cell_type": "code",
   "execution_count": 2,
   "metadata": {},
   "outputs": [],
   "source": [
    "# User inputs\n",
    "file_dir  = '/Users/rmueller/Data/MIDOSS/DeptOfEcology/'\n",
    "file_name = 'MuellerTrans4-30-20.xlsx'\n",
    "\n",
    "master_dir  = '/Users/rmueller/Projects/MIDOSS/analysis-rachael/notebooks/monte_carlo/'\n",
    "master_file = 'master.yaml'\n",
    "\n",
    "with open(f'{master_dir}{master_file}') as file:\n",
    "    master = yaml.safe_load(file)\n",
    "\n",
    "vessel_types = master['categories']['tank_vessels']\n",
    "fuel_types   = master['categories']['fuel_type']"
   ]
  },
  {
   "cell_type": "code",
   "execution_count": 3,
   "metadata": {},
   "outputs": [],
   "source": [
    "# Import columns are: (G) Deliverer, (H) Receiver, (P) Product, \n",
    "#                     (Q) Quantity in Gallons, (R) Transfer Type (Fueling, Cargo, or Other)', \n",
    "#                     (w) DelivererTypeDescription, (x) ReceiverTypeDescription \n",
    "df = pd.read_excel(f'{file_dir}{file_name}',sheet_name='Vessel Oil Transfer', \n",
    "                   usecols=\"G,H,P,Q,R,W,X\")"
   ]
  },
  {
   "cell_type": "markdown",
   "metadata": {},
   "source": [
    "## Extract **cargo** data transferred from vessel to facility"
   ]
  },
  {
   "cell_type": "code",
   "execution_count": 4,
   "metadata": {},
   "outputs": [],
   "source": [
    "# list of names in DOE dataset that are used as \"DelivererTypeDescription\" for vessel transfers\n",
    "vessel_names = ['TANK BARGE', 'TUGBOAT']\n",
    "# Get all cargo fuel transfers\n",
    "bool_cargo = df['TransferType']=='Cargo'\n",
    "cargo_data = df[bool_cargo]\n",
    "cargo_from_facility = cargo_data[ cargo_data['DelivererTypeDescription']=='Facility' ]\n",
    "cargo_to_barge  = cargo_from_facility[ cargo_from_facility['ReceiverTypeDescription'] == 'TANK BARGE' ] \n",
    "cargo_to_tug    = cargo_from_facility[ cargo_from_facility['ReceiverTypeDescription'] == 'TUGBOAT' ]\n",
    "\n",
    "cargo_barge = pd.concat([cargo_to_barge, cargo_to_tug])\n",
    "\n",
    "# reset indices so they increase chronologically from 0 instead of keeping parent index values\n",
    "cargo_from_facility.reset_index( drop=True, inplace=True )\n",
    "cargo_barge.reset_index( drop=True, inplace=True )\n",
    "cargo_data.reset_index( drop=True, inplace=True )"
   ]
  },
  {
   "cell_type": "markdown",
   "metadata": {},
   "source": [
    "## Extract **fuel** data transferred from vessel to facility"
   ]
  },
  {
   "cell_type": "code",
   "execution_count": 5,
   "metadata": {},
   "outputs": [],
   "source": [
    "# list of names in DOE dataset that are used as \"DelivererTypeDescription\" for vessel transfers\n",
    "vessel_names = ['TANK BARGE', 'TUGBOAT']\n",
    "# Get all cargo fuel transfers\n",
    "bool_fuel = df['TransferType']=='Fueling'\n",
    "fuel_data = df[bool_fuel]\n",
    "fuel_from_facility = fuel_data[ fuel_data['DelivererTypeDescription']=='Facility' ]\n",
    "fuel_to_barge  = fuel_from_facility[ fuel_from_facility['ReceiverTypeDescription'] == 'TANK BARGE' ] \n",
    "fuel_to_tug    = fuel_from_facility[ fuel_from_facility['ReceiverTypeDescription'] == 'TUGBOAT' ]\n",
    "\n",
    "fuel_barge = pd.concat([fuel_to_barge, fuel_to_tug])\n",
    "\n",
    "# reset indices so they increase chronologically from 0 instead of keeping parent index values\n",
    "fuel_from_facility.reset_index( drop=True, inplace=True )\n",
    "fuel_barge.reset_index( drop=True, inplace=True )\n",
    "fuel_data.reset_index( drop=True, inplace=True )"
   ]
  },
  {
   "cell_type": "code",
   "execution_count": 6,
   "metadata": {},
   "outputs": [
    {
     "data": {
      "text/plain": [
       "(31, 7)"
      ]
     },
     "execution_count": 6,
     "metadata": {},
     "output_type": "execute_result"
    }
   ],
   "source": [
    "# just to check that a vessel classified as \"tank barge\" may receive fuel \n",
    "fuel_to_barge.shape"
   ]
  },
  {
   "cell_type": "code",
   "execution_count": 7,
   "metadata": {},
   "outputs": [
    {
     "data": {
      "text/plain": [
       "(184, 7)"
      ]
     },
     "execution_count": 7,
     "metadata": {},
     "output_type": "execute_result"
    }
   ],
   "source": [
    "fuel_to_tug.shape"
   ]
  },
  {
   "cell_type": "code",
   "execution_count": 8,
   "metadata": {},
   "outputs": [
    {
     "data": {
      "text/plain": [
       "(2451, 7)"
      ]
     },
     "execution_count": 8,
     "metadata": {},
     "output_type": "execute_result"
    }
   ],
   "source": [
    "cargo_to_barge.shape"
   ]
  },
  {
   "cell_type": "code",
   "execution_count": 9,
   "metadata": {},
   "outputs": [
    {
     "data": {
      "text/plain": [
       "(8, 7)"
      ]
     },
     "execution_count": 9,
     "metadata": {},
     "output_type": "execute_result"
    }
   ],
   "source": [
    "cargo_to_tug.shape"
   ]
  },
  {
   "cell_type": "code",
   "execution_count": 10,
   "metadata": {},
   "outputs": [
    {
     "name": "stdout",
     "output_type": "stream",
     "text": [
      "Total amount of oil used to fuel vessels from WA facilities: 6.49e+07 gallons\n"
     ]
    }
   ],
   "source": [
    "print(f'Total amount of oil used to fuel vessels from WA facilities: {fuel_from_facility.TransferQtyInGallon.sum():4.2e} gallons')"
   ]
  },
  {
   "cell_type": "code",
   "execution_count": 11,
   "metadata": {},
   "outputs": [
    {
     "name": "stdout",
     "output_type": "stream",
     "text": [
      "Total amount of oil transferred as cargo from WA facilities: 4.42e+09 gallons\n"
     ]
    }
   ],
   "source": [
    "print(f'Total amount of oil transferred as cargo from WA facilities: {cargo_from_facility.TransferQtyInGallon.sum():4.2e} gallons')"
   ]
  },
  {
   "cell_type": "code",
   "execution_count": 12,
   "metadata": {},
   "outputs": [
    {
     "name": "stdout",
     "output_type": "stream",
     "text": [
      "Percent of fuel/cargo from WA facilities: 1.47 %\n"
     ]
    }
   ],
   "source": [
    "print(f'Percent of fuel/cargo from WA facilities: {100*fuel_from_facility.TransferQtyInGallon.sum()/cargo_from_facility.TransferQtyInGallon.sum():4.2f} %')"
   ]
  },
  {
   "cell_type": "markdown",
   "metadata": {},
   "source": [
    "### Let's make sure that the numbers are similar for fueling if we remove the 'facilities' requirement\n",
    "Fueling can happen at locations not deemed \"facility\".  These include fuel docks or re-distribution vessels.  This number for cargo will likely double count cargo as going from land to redistribution vessel and then from redistribution vessel to another vessel, so I don't evaluate that number here."
   ]
  },
  {
   "cell_type": "code",
   "execution_count": 13,
   "metadata": {},
   "outputs": [
    {
     "name": "stdout",
     "output_type": "stream",
     "text": [
      "Total amount of oil used to fuel vessels in WA waters: 6.80e+08 gallons\n"
     ]
    }
   ],
   "source": [
    "print(f'Total amount of oil used to fuel vessels in WA waters: {fuel_data.TransferQtyInGallon.sum():4.2e} gallons')"
   ]
  },
  {
   "cell_type": "code",
   "execution_count": 14,
   "metadata": {},
   "outputs": [
    {
     "name": "stdout",
     "output_type": "stream",
     "text": [
      "Percent of fueling/cargo-transport in WA waters: 15.38 %\n"
     ]
    }
   ],
   "source": [
    "print(f'Percent of fueling/cargo-transport in WA waters: {100*fuel_data.TransferQtyInGallon.sum()/cargo_from_facility.TransferQtyInGallon.sum():4.2f} %')"
   ]
  },
  {
   "cell_type": "code",
   "execution_count": 15,
   "metadata": {},
   "outputs": [
    {
     "name": "stdout",
     "output_type": "stream",
     "text": [
      "**  Wow.  That is a big difference.  Let me highlight it here  **\n",
      "Percent of fuel/cargo from WA facilities: 1.47 %\n",
      "Percent of fueling/cargo-transport in WA waters: 15.38 %\n"
     ]
    }
   ],
   "source": [
    "print('**  Wow.  That is a big difference.  Let me highlight it here  **\\n' \\\n",
    "f'Percent of fuel/cargo from WA facilities: {100*fuel_from_facility.TransferQtyInGallon.sum()/cargo_from_facility.TransferQtyInGallon.sum():4.2f} %\\n'\\\n",
    "f'Percent of fueling/cargo-transport in WA waters: {100*fuel_data.TransferQtyInGallon.sum()/cargo_from_facility.TransferQtyInGallon.sum():4.2f} %')"
   ]
  },
  {
   "cell_type": "markdown",
   "metadata": {},
   "source": [
    "### Noted: Lots of fueling at non-oil-transfer facilities.  I'm going to start this analysis based on Bunkering at facilities; but, in lieu of the above information, I will need to verify that oil tugs bunker at oil-transfer facilities. The above difference may capture the significance of ferry and recreational traffic."
   ]
  },
  {
   "cell_type": "markdown",
   "metadata": {},
   "source": [
    "## Evaluate ATB bunkering and cargo transfers from WA facilities\n",
    "- start with \"from facility\" sub-samples (fuel_from_facilities, cargo_from_facilities)\n",
    "- determine bunkering transfers from facilities\n",
    "- determine cargo transfers from facilities"
   ]
  },
  {
   "cell_type": "code",
   "execution_count": 16,
   "metadata": {},
   "outputs": [],
   "source": [
    "# loop through entire record of fuel transfers from facilities\n",
    "[nrows,ncols] = fuel_from_facility.shape\n",
    "\n",
    "# create ATB dataframe for fuel transfers from facilities\n",
    "fuel_atb = pd.DataFrame(columns = fuel_from_facility.columns)\n",
    "\n",
    "for row in range(nrows):\n",
    "    if 'ITB' in fuel_from_facility.Receiver[row] or 'ATB' in fuel_from_facility.Receiver[row]:\n",
    "        fuel_atb = fuel_atb.append( fuel_from_facility.iloc[row] )\n",
    "\n",
    "# reset indexing        \n",
    "fuel_atb.reset_index( drop=True, inplace=True )"
   ]
  },
  {
   "cell_type": "code",
   "execution_count": 17,
   "metadata": {},
   "outputs": [],
   "source": [
    "# loop through entire record of cargo transfers from facilities\n",
    "[nrows,ncols] = cargo_from_facility.shape\n",
    "\n",
    "# create ATB dataframe for fuel transfers from facilities\n",
    "cargo_atb = pd.DataFrame(columns = cargo_from_facility.columns)\n",
    "\n",
    "for row in range(nrows):\n",
    "    if 'ITB' in cargo_from_facility.Receiver[row] or 'ATB' in cargo_from_facility.Receiver[row]:\n",
    "        cargo_atb = cargo_atb.append( cargo_from_facility.iloc[row] )\n",
    "\n",
    "# reset indexing        \n",
    "cargo_atb.reset_index( drop=True, inplace=True )"
   ]
  },
  {
   "cell_type": "code",
   "execution_count": 18,
   "metadata": {},
   "outputs": [
    {
     "data": {
      "text/plain": [
       "16"
      ]
     },
     "execution_count": 18,
     "metadata": {},
     "output_type": "execute_result"
    }
   ],
   "source": [
    "len(fuel_atb)"
   ]
  },
  {
   "cell_type": "code",
   "execution_count": 19,
   "metadata": {},
   "outputs": [
    {
     "data": {
      "text/plain": [
       "470"
      ]
     },
     "execution_count": 19,
     "metadata": {},
     "output_type": "execute_result"
    }
   ],
   "source": [
    "len(cargo_atb)"
   ]
  },
  {
   "cell_type": "code",
   "execution_count": 20,
   "metadata": {},
   "outputs": [
    {
     "name": "stdout",
     "output_type": "stream",
     "text": [
      "The ratio of fuel transfers from oil transfer facility to ATB vs. cargo transfers is: 0.034\n",
      "Total number of ATB fuel transfers from oil-transfer facilities: 16\n",
      "Total number of ATB cargo transfers from oil-transfer facilities: 470\n"
     ]
    }
   ],
   "source": [
    "print(f'The ratio of fuel transfers from oil transfer facility to ATB vs. cargo transfers is: {len(fuel_atb)/len(cargo_atb):4.3f}\\n'\\\n",
    "     f'Total number of ATB fuel transfers from oil-transfer facilities: {len(fuel_atb)}\\n'\\\n",
    "     f'Total number of ATB cargo transfers from oil-transfer facilities: {len(cargo_atb)}')"
   ]
  },
  {
   "cell_type": "markdown",
   "metadata": {},
   "source": [
    "### Test the hypthesis that oil cargo ATBs only fuel-up at oil-transfer facilities"
   ]
  },
  {
   "cell_type": "code",
   "execution_count": 21,
   "metadata": {},
   "outputs": [],
   "source": [
    "# create list of ATBs/ITBs receiving cargo from oil transfer facilities\n",
    "atb_names = {}\n",
    "atb_names['fuel']  = []\n",
    "atb_names['cargo'] = []\n",
    "\n",
    "[rows,cols] = cargo_atb.shape\n",
    "# expand list of atb operators\n",
    "for row in range(rows):\n",
    "    if cargo_atb.Receiver[row] not in atb_names['cargo']:\n",
    "        atb_names['cargo'].append(cargo_atb.Receiver[row])\n",
    "        \n",
    "[rows,cols] = fuel_atb.shape\n",
    "# expand list of atb operators\n",
    "for row in range(rows):\n",
    "    if fuel_atb.Receiver[row] not in atb_names['fuel']:\n",
    "        atb_names['fuel'].append(fuel_atb.Receiver[row])"
   ]
  },
  {
   "cell_type": "code",
   "execution_count": 22,
   "metadata": {},
   "outputs": [
    {
     "data": {
      "text/plain": [
       "['ATB BARGE KIRBY 185-01',\n",
       " 'ATB BARGE 550-2',\n",
       " 'ATB BARGE FIGHT FANCONI ANEMIA',\n",
       " 'ATB BARGE 650-10',\n",
       " 'ATB BARGE DBL 185',\n",
       " 'ATB BARGE ONEDREAM',\n",
       " 'ATB BARGE 650-7',\n",
       " 'ATB BARGE 550-3',\n",
       " 'ATB BARGE ZIDELL MARINE 277',\n",
       " 'ATB BARGE ALL ABOARD FOR A CURE',\n",
       " 'ATB BARGE EDWARD ITTA',\n",
       " 'ITB SUPPLIER',\n",
       " 'ATB BARGE DR. ROBERT J. BEALL',\n",
       " 'ITB VANCOUVER',\n",
       " 'ATB BARGE DBL185',\n",
       " 'ATB BARGE 650-2',\n",
       " 'ATB BARGE DBL 78']"
      ]
     },
     "execution_count": 22,
     "metadata": {},
     "output_type": "execute_result"
    }
   ],
   "source": [
    "atb_names['cargo']"
   ]
  },
  {
   "cell_type": "code",
   "execution_count": 23,
   "metadata": {},
   "outputs": [
    {
     "data": {
      "text/plain": [
       "['ATB TUG BILL GOBEL',\n",
       " 'ATB TUG MIN ZIDELL',\n",
       " 'ATB TUG JAKE SHEARER',\n",
       " 'ATB TUG VISION',\n",
       " 'ATB TUG SOUND RELIANCE',\n",
       " 'ATB TUG OCEAN RELIANCE']"
      ]
     },
     "execution_count": 23,
     "metadata": {},
     "output_type": "execute_result"
    }
   ],
   "source": [
    "atb_names['fuel']"
   ]
  },
  {
   "cell_type": "markdown",
   "metadata": {},
   "source": [
    "### create list of all fueling and cargo transfers regardless as to wether from \"facility\""
   ]
  },
  {
   "cell_type": "code",
   "execution_count": 24,
   "metadata": {},
   "outputs": [],
   "source": [
    "# loop through all names of tugs receiving fuel from facilities and see if they get fuel elsewhere too\n",
    "oilcargo_atb_fueling = pd.DataFrame(columns = cargo_from_facility.columns)\n",
    "oilcargo_atb_cargo   = pd.DataFrame(columns = cargo_from_facility.columns)\n",
    "\n",
    "[rows,cols] = fuel_data.shape\n",
    "for row in range(rows): \n",
    "    if fuel_data.Receiver[row] in atb_names['fuel']:\n",
    "        oilcargo_atb_fueling = oilcargo_atb_fueling.append( fuel_data.iloc[row] )\n",
    "        \n",
    "[rows,cols] = cargo_data.shape\n",
    "for row in range(rows): \n",
    "    if cargo_data.Receiver[row] in atb_names['cargo']:\n",
    "        oilcargo_atb_cargo = oilcargo_atb_cargo.append( cargo_data.iloc[row] )       "
   ]
  },
  {
   "cell_type": "markdown",
   "metadata": {},
   "source": [
    "### print names of non-facility transfer sights for fueling and cargo"
   ]
  },
  {
   "cell_type": "code",
   "execution_count": 25,
   "metadata": {},
   "outputs": [
    {
     "name": "stdout",
     "output_type": "stream",
     "text": [
      "ATB BARGE 550-2\n"
     ]
    }
   ],
   "source": [
    "oilcargo_atb_cargo.reset_index( drop=True, inplace=True )\n",
    "for row in range(len(oilcargo_atb_cargo)):\n",
    "    if 'Facility' not in oilcargo_atb_cargo.DelivererTypeDescription[row]:\n",
    "        print(oilcargo_atb_cargo.Deliverer[row])"
   ]
  },
  {
   "cell_type": "code",
   "execution_count": 26,
   "metadata": {},
   "outputs": [
    {
     "name": "stdout",
     "output_type": "stream",
     "text": [
      "HMS 26-1\n",
      "HMS 26-1\n",
      "HMS 26-1\n",
      "HMS 26-1\n",
      "HMS 26-1\n",
      "HMS 26-1\n",
      "HMS 26-1\n",
      "HMS 26-1\n",
      "GLOBAL PILOT\n",
      "DAGWOOD\n",
      "GLOBAL PILOT\n",
      "HMS 26-1\n",
      "HMS 26-1\n",
      "HMS 26-1\n",
      "HMS 26-1\n",
      "HMS 26-1\n",
      "GLOBAL PILOT\n",
      "HMS 26-1\n",
      "GLOBAL PROVIDER\n",
      "HMS 26-1\n",
      "HMS 26-1\n",
      "HMS 26-1\n",
      "HMS 26-1\n",
      "HMS 26-1\n",
      "HMS 26-1\n",
      "HMS 26-1\n",
      "HMS 26-1\n",
      "HMS 26-1\n"
     ]
    }
   ],
   "source": [
    "oilcargo_atb_fueling.reset_index( drop=True, inplace=True )\n",
    "for row in range(len(oilcargo_atb_fueling)):\n",
    "    if 'Facility' not in oilcargo_atb_fueling.DelivererTypeDescription[row]:\n",
    "        print(oilcargo_atb_fueling.Deliverer[row])"
   ]
  },
  {
   "cell_type": "markdown",
   "metadata": {},
   "source": [
    "### take away: Lots of ATB fueling by HMS 26-1!"
   ]
  },
  {
   "cell_type": "markdown",
   "metadata": {},
   "source": [
    "## Add up total number of fuelings to ATB tugs and total number of cargo transfers to ATB tank barges"
   ]
  },
  {
   "cell_type": "code",
   "execution_count": 27,
   "metadata": {},
   "outputs": [],
   "source": [
    "# query all fueling transfers\n",
    "total_fueling_bytug={}\n",
    "total_fueling = 0\n",
    "for tug in atb_names['fuel']:\n",
    "    bool_tug = fuel_data['Receiver'] == tug\n",
    "    total_fueling_bytug[tug] = fuel_data[bool_tug]\n",
    "    total_fueling += len(total_fueling_bytug[tug])"
   ]
  },
  {
   "cell_type": "code",
   "execution_count": 38,
   "metadata": {},
   "outputs": [],
   "source": [
    "# query cargo transfers from facilities only\n",
    "total_cargo_bybarge={}\n",
    "total_cargo = 0\n",
    "for barge in atb_names['cargo']:\n",
    "    bool_barge = cargo_from_facility['Receiver'] == barge\n",
    "    total_cargo_bybarge[barge] = cargo_from_facility[bool_barge]\n",
    "    total_cargo += len(total_cargo_bybarge[barge])"
   ]
  },
  {
   "cell_type": "code",
   "execution_count": 39,
   "metadata": {},
   "outputs": [
    {
     "name": "stdout",
     "output_type": "stream",
     "text": [
      "total bunkering count of tugs identified as ATB tugs (includes non-facility fueling): 44\n",
      "total cargo transfers to barges identified as ATBs (includes 1 non-facility transfer): 470\n",
      "Ratio of ATB cargo/bunkering transfers: 10.68\n"
     ]
    }
   ],
   "source": [
    "print(f'total bunkering count of tugs identified as ATB tugs (includes non-facility fueling): {total_fueling}\\n'\\\n",
    "      f'total cargo transfers to barges identified as ATBs (includes 1 non-facility transfer): {total_cargo}\\n'\n",
    "     f'Ratio of ATB cargo/bunkering transfers: {total_cargo/total_fueling:4.2f}')"
   ]
  },
  {
   "cell_type": "code",
   "execution_count": null,
   "metadata": {},
   "outputs": [],
   "source": []
  },
  {
   "cell_type": "markdown",
   "metadata": {},
   "source": [
    "## Let's evaluate more general case of tug and barge transfers"
   ]
  },
  {
   "cell_type": "code",
   "execution_count": 30,
   "metadata": {},
   "outputs": [
    {
     "name": "stdout",
     "output_type": "stream",
     "text": [
      "total bunkering count of all tugs: 242\n"
     ]
    }
   ],
   "source": [
    "fuel_to_barge  = fuel_data[ fuel_data['ReceiverTypeDescription'] == 'TANK BARGE'] \n",
    "fuel_to_barge  = fuel_to_barge.append(fuel_data[ fuel_data['ReceiverTypeDescription'] == 'TUGBOAT'] )\n",
    "fuel_to_barge.reset_index(drop=True, inplace=True)\n",
    "print(f'total bunkering count of all tugs: {len(fuel_to_barge)}')"
   ]
  },
  {
   "cell_type": "code",
   "execution_count": 32,
   "metadata": {},
   "outputs": [
    {
     "name": "stdout",
     "output_type": "stream",
     "text": [
      "total bunkering count of all tugs: 242\n",
      "total oil cargo transfers of all tugs: 2495\n",
      "Ratio of ATB cargo/bunkering transfers: 10.31\n"
     ]
    }
   ],
   "source": [
    "cargo_to_barge  = cargo_data[ cargo_data['ReceiverTypeDescription'] == 'TANK BARGE'] \n",
    "cargo_to_barge  = cargo_to_barge.append(cargo_data[ cargo_data['ReceiverTypeDescription'] == 'TUGBOAT'] )\n",
    "cargo_to_barge.reset_index(drop=True, inplace=True)\n",
    "print(f'total bunkering count of all tugs: {len(fuel_to_barge)}\\n'\\\n",
    "      f'total oil cargo transfers of all tugs: {len(cargo_to_barge)}\\n'\\\n",
    "     f'Ratio of ATB cargo/bunkering transfers: {len(cargo_to_barge)/len(fuel_to_barge):4.2f}')"
   ]
  },
  {
   "cell_type": "code",
   "execution_count": 36,
   "metadata": {},
   "outputs": [],
   "source": [
    "## Get a list of all tugs involved in this fueling \n",
    "barge_list = []\n",
    "[nrows,ncols] = fuel_to_barge.shape\n",
    "for row in range(nrows):\n",
    "    if fuel_to_barge.Receiver[row] not in barge_list:\n",
    "        barge_list.append(fuel_to_barge.Receiver[row])"
   ]
  },
  {
   "cell_type": "code",
   "execution_count": 37,
   "metadata": {},
   "outputs": [
    {
     "data": {
      "text/plain": [
       "['WEBB MOFFETT',\n",
       " 'ATB BARGE ONEDREAM',\n",
       " 'EXPLORER',\n",
       " 'OLYMPIC SPIRIT',\n",
       " 'ATLAS',\n",
       " 'GLOBAL PILOT',\n",
       " 'BARGE FAIRWEATHER',\n",
       " 'GLENN',\n",
       " 'SHAUNA KAY',\n",
       " 'DOTTIE',\n",
       " 'YON-322',\n",
       " 'ROGUE',\n",
       " 'USN SWOB 25',\n",
       " 'HMS 2000',\n",
       " 'PB-32',\n",
       " 'DUGAN PEARSALL',\n",
       " 'VIJAY SEA',\n",
       " 'YON-326',\n",
       " 'COMMENCEMENT BAY',\n",
       " 'HMS 26-1',\n",
       " 'BARGE ST. ELIAS',\n",
       " 'DOUBLE SKIN 311',\n",
       " 'GRANITE POINT',\n",
       " 'RYAN POINT',\n",
       " 'THE CHIEF',\n",
       " 'ATB TUG VISION',\n",
       " 'SUNDIAL',\n",
       " 'HURRICANE',\n",
       " 'CROWN POINT',\n",
       " 'CAPTAIN BOB',\n",
       " 'ATB TUG RESOLVE',\n",
       " 'GARTH FOSS',\n",
       " 'ISLAND VIKING',\n",
       " 'LINDSEY FOSS',\n",
       " 'PACIFIC PRIDE',\n",
       " 'ARCTIC TAGLU',\n",
       " 'TIDEWATER']"
      ]
     },
     "execution_count": 37,
     "metadata": {},
     "output_type": "execute_result"
    }
   ],
   "source": [
    "barge_list"
   ]
  },
  {
   "cell_type": "code",
   "execution_count": 45,
   "metadata": {},
   "outputs": [
    {
     "name": "stdout",
     "output_type": "stream",
     "text": [
      "ATB TUG JAKE SHEARER\n",
      "ATB TUG JAKE SHEARER\n",
      "ATB TUG JAKE SHEARER\n",
      "ATB TUG JAKE SHEARER\n",
      "ATB TUG JAKE SHEARER\n",
      "ATB TUG JAKE SHEARER\n"
     ]
    }
   ],
   "source": [
    "[rows,cols] = fuel_data.shape \n",
    "for row in range(rows):\n",
    "    if fuel_data.Receiver[row]=='ATB TUG JAKE SHEARER':\n",
    "        print(fuel_data.Receiver[row])\n"
   ]
  },
  {
   "cell_type": "code",
   "execution_count": null,
   "metadata": {},
   "outputs": [],
   "source": []
  }
 ],
 "metadata": {
  "kernelspec": {
   "display_name": "Python 3",
   "language": "python",
   "name": "python3"
  },
  "language_info": {
   "codemirror_mode": {
    "name": "ipython",
    "version": 3
   },
   "file_extension": ".py",
   "mimetype": "text/x-python",
   "name": "python",
   "nbconvert_exporter": "python",
   "pygments_lexer": "ipython3",
   "version": "3.8.3"
  }
 },
 "nbformat": 4,
 "nbformat_minor": 4
}
