{
 "cells": [
  {
   "cell_type": "markdown",
   "id": "beneficial-biodiversity",
   "metadata": {},
   "source": [
    "---\n",
    "# US Generic file\n",
    "---\n",
    "Determine oil type weighting for tank traffic in MIDOSS monte-carlo by cataloguing information in Department of Ecology's recorded marine terminal transfers for 2018.  Only transfers greater than 1000 L are required to be documented. All imports and exports are catalogued by vessel and oil types used in this study, across all the marine terminals used in this category. \n",
    "\n",
    "Use `analysis-rachael/env/monte_carlo.yaml` to create an environment for this notebook:\n",
    "```\n",
    " conda env create -f [analysis-rachael/env/monte_carlo.yaml]\n",
    "```\n",
    "or, to activate this environment, use\n",
    "```\n",
    " conda activate monte_carlo\n",
    "```\n",
    "To deactivate an active environment, use\n",
    "```\n",
    " conda deactivate\n",
    "```"
   ]
  },
  {
   "cell_type": "code",
   "execution_count": 1,
   "id": "afraid-investment",
   "metadata": {},
   "outputs": [],
   "source": [
    "import pandas as pd\n",
    "import numpy as np\n",
    "import matplotlib.pyplot as plt\n",
    "import yaml"
   ]
  },
  {
   "cell_type": "code",
   "execution_count": 2,
   "id": "intellectual-marker",
   "metadata": {},
   "outputs": [],
   "source": [
    "# User inputs\n",
    "file_dir  = '/Users/rmueller/Data/MIDOSS/DeptOfEcology/'\n",
    "file_name = 'MuellerTrans4-30-20.xlsx'\n",
    "\n",
    "# This is the precision used to calculate oil type weights \n",
    "# Trial and error showed that a precision of 2 is neccessary for weights\n",
    "# to sum to 1.0\n",
    "precision = 2\n",
    "\n",
    "# The following list includes facilities used in Casey's origin/destination analysis \n",
    "# with names matching the Dept. of Ecology (DOE) database.  \n",
    "# For example, the shapefile \"Maxum Petroleum - Harbor Island Terminal\" is labeled as 'Maxum (Rainer Petroleum)'\n",
    "# in the DOE database.  I use the Ecology language here and will need to translate to Shapefile speak \n",
    "facility_names = [ 'BP Cherry Point Refinery', 'Shell Puget Sound Refinery', 'Shell Oil LP Seattle Distribution Terminal',\n",
    "                   'Maxum (Rainer Petroleum)', 'Tidewater Snake River Terminal','Nustar Energy Tacoma', \n",
    "                   'SeaPort Sound Terminal', 'Tesoro Vancouver Terminal','Phillips 66 Ferndale Refinery', \n",
    "                   'Phillips 66 Tacoma Terminal', 'Andeavor Anacortes Refinery (formerly Tesoro)',\n",
    "                   'Tesoro Port Angeles Terminal','U.S. Oil & Refining','Naval Air Station Whidbey Island (NASWI)',\n",
    "                   'NAVSUP Manchester', 'Alon Asphalt Company (Paramount Petroleum)', 'Kinder Morgan Liquids Terminal - Harbor Island',\n",
    "                   'Nustar Energy Tacoma', 'Tesoro Pasco Terminal', 'REG Grays Harbor, LLC', 'Tidewater Vancouver Terminal',\n",
    "                   'TLP Management Services LLC (TMS)']\n",
    "\n",
    "# define vessel and oil types to include in .yaml file\n",
    "vessel_types = ['atb', 'barge', 'tanker']\n",
    "oil_types    = ['akns', 'bunker', 'dilbit', 'jet', 'diesel', 'gas', 'other']\n",
    "data_types    = ['total_gallons', 'fraction_of_total', 'number_of_transfers']"
   ]
  },
  {
   "cell_type": "code",
   "execution_count": 3,
   "id": "global-result",
   "metadata": {},
   "outputs": [],
   "source": [
    "# Import columns are: (G) Deliverer, (H) Receiver, (O) Region, (P) Product, \n",
    "#                     (Q) Quantity in Gallons, (R) Transfer Type (oiling, Cargo, or Other)', \n",
    "#                     (w) DelivererTypeDescription, (x) ReceiverTypeDescription \n",
    "df = pd.read_excel(f'{file_dir}{file_name}',sheet_name='Vessel Oil Transfer', \n",
    "                   usecols=\"G,H,P,Q,R,W,X\")\n",
    "\n",
    "df.TransferQtyInGallon = df.TransferQtyInGallon.astype(float).round(precision)\n",
    "\n",
    "# housekeeping\n",
    "df['Receiver'] = df['Receiver'].str.replace('US Oil Tacoma ', 'U.S. Oil & Refining')\n",
    "df['Receiver'] = df['Receiver'].str.replace('TLP', 'TLP Management Services LLC (TMS)')\n",
    "df['Deliverer'] = df['Deliverer'].str.replace('US Oil Tacoma ', 'U.S. Oil & Refining')\n",
    "df['Deliverer'] = df['Deliverer'].str.replace('TLP', 'TLP Management Services LLC (TMS)')"
   ]
  },
  {
   "cell_type": "markdown",
   "id": "modular-montana",
   "metadata": {},
   "source": [
    "## Create name lists for the DOE oil types used in our monte-carlo oil categories"
   ]
  },
  {
   "cell_type": "code",
   "execution_count": 4,
   "id": "compressed-province",
   "metadata": {},
   "outputs": [
    {
     "data": {
      "text/plain": [
       "{'akns': ['CRUDE OIL', 'BAKKEN'],\n",
       " 'bunker': ['BUNKER OIL/HFO'],\n",
       " 'dilbit': ['BITUMEN OIL (DIL OR SYN)'],\n",
       " 'jet': ['JET FUEL/KEROSENE'],\n",
       " 'diesel': ['DIESEL/MARINE GAS OIL', 'BIODIESEL', 'DIESEL LOW SULPHUR (ULSD)'],\n",
       " 'gas': ['GASOLINE'],\n",
       " 'other': ['ETHANOL',\n",
       "  'LUBE OIL/MOTOR OIL',\n",
       "  'Cat Feed/VGO',\n",
       "  'CUTTER STOCK',\n",
       "  'OILY WATER MIXTURE',\n",
       "  'WASTE OIL',\n",
       "  'Z-OTHER',\n",
       "  'HYDRAULIC OIL',\n",
       "  'OILY WASTE',\n",
       "  'USED OIL',\n",
       "  'NAPTHA',\n",
       "  'EDIBLE/VEGETABLE OIL',\n",
       "  'DECANT OIL',\n",
       "  'NONENE',\n",
       "  'ASPHALT/CREOSEOTE']}"
      ]
     },
     "execution_count": 4,
     "metadata": {},
     "output_type": "execute_result"
    }
   ],
   "source": [
    "# identify all names of oils in DOE database that are attributed to our oil types\n",
    "oil_classification = {}\n",
    "for oil in oil_types:\n",
    "    oil_classification[oil] = []\n",
    "\n",
    "[nrows,ncols] = df.shape\n",
    "for row in range(nrows):\n",
    "    if 'CRUDE' in df.Product[row] and df.Product[row] not in oil_classification['akns']:\n",
    "        oil_classification['akns'].append(df.Product[row])\n",
    "    elif 'BAKKEN' in df.Product[row] and df.Product[row] not in oil_classification['akns']:\n",
    "        oil_classification['akns'].append(df.Product[row])\n",
    "    elif 'BUNKER' in df.Product[row] and df.Product[row] not in oil_classification['bunker']:\n",
    "        oil_classification['bunker'].append(df.Product[row])\n",
    "    elif 'BITUMEN' in df.Product[row] and df.Product[row] not in oil_classification['dilbit']:\n",
    "        oil_classification['dilbit'].append(df.Product[row])\n",
    "    elif 'DIESEL' in df.Product[row] and df.Product[row] not in oil_classification['diesel']:\n",
    "        oil_classification['diesel'].append(df.Product[row])\n",
    "    elif 'GASOLINE' in df.Product[row] and df.Product[row] not in oil_classification['gas']:\n",
    "        oil_classification['gas'].append(df.Product[row])\n",
    "    elif 'JET' in df.Product[row] and df.Product[row] not in oil_classification['jet']:\n",
    "        oil_classification['jet'].append(df.Product[row])\n",
    "    elif ('CRUDE' not in df.Product[row] and\n",
    "          'BAKKEN' not in df.Product[row] and\n",
    "          'BUNKER' not in df.Product[row] and\n",
    "          'BITUMEN' not in df.Product[row] and\n",
    "          'DIESEL' not in df.Product[row] and\n",
    "          'GASOLINE' not in df.Product[row] and\n",
    "          'JET' not in df.Product[row] and\n",
    "          df.Product[row] not in oil_classification['other']):\n",
    "        oil_classification['other'].append(df.Product[row])\n",
    "\n",
    "oil_classification"
   ]
  },
  {
   "cell_type": "markdown",
   "id": "green-intervention",
   "metadata": {},
   "source": [
    "### Create a dataframe that combines imports and exports from our selected marine terminals so that we can query based on ship-type and yield the combined sum of imports and exports"
   ]
  },
  {
   "cell_type": "code",
   "execution_count": 5,
   "id": "subjective-bikini",
   "metadata": {},
   "outputs": [
    {
     "name": "stdout",
     "output_type": "stream",
     "text": [
      "Combined df shape: (4391, 7)\n"
     ]
    }
   ],
   "source": [
    "import_export_df = df.loc[        \n",
    "        (df.Receiver.isin(facility_names)) |\n",
    "        (df.Deliverer.isin(facility_names)) &\n",
    "        (df.TransferType == 'Cargo'),\n",
    "    ]\n",
    "print(f'Combined df shape: {import_export_df.shape}')"
   ]
  },
  {
   "cell_type": "code",
   "execution_count": 6,
   "id": "funded-sending",
   "metadata": {},
   "outputs": [
    {
     "data": {
      "text/plain": [
       "Index(['Deliverer', 'Receiver', 'Product', 'TransferQtyInGallon',\n",
       "       'TransferType', 'DelivererTypeDescription', 'ReceiverTypeDescription'],\n",
       "      dtype='object')"
      ]
     },
     "execution_count": 6,
     "metadata": {},
     "output_type": "execute_result"
    }
   ],
   "source": [
    "import_export_df.columns"
   ]
  },
  {
   "cell_type": "markdown",
   "id": "careful-operation",
   "metadata": {},
   "source": [
    "## Sort cargo transfers by ship types.  We have three categories: tanker, atb, barge.\n",
    "1. `tanker`: Listed in DOE dataset as `TANK SHIP` TypeDescription \n",
    "2. `atb`: Listed in DOE dataset as `TANK BARGE` or `TUGBOAT` TypeDescription and `ATB` or `ITB` as Deliverer/Receiver\n",
    "3. `barge`: Listed in DOE dataset as `TANK BARGE` or `TUGBOAT` TypeDescription (no `ATB` or `ITB` in Deliverer/Receiver)"
   ]
  },
  {
   "cell_type": "code",
   "execution_count": 7,
   "id": "musical-control",
   "metadata": {},
   "outputs": [],
   "source": [
    "# ## Tally up imports by ship type and marine terminal\n",
    "# df_byship = {}\n",
    "# for vessel in vessel_types:\n",
    "#     if vessel =='tanker':\n",
    "#         df_byship['tanker'] = import_export_df.loc[\n",
    "#             (import_export_df.DelivererTypeDescription.isin(['TANK SHIP'])) | \n",
    "#             (import_export_df.ReceiverTypeDescription.isin(['TANK SHIP'])), \n",
    "#             'TransferQtyInGallon'\n",
    "#         ]\n",
    "#     elif vessel == 'atb':\n",
    "#         df_byship['atb'] = import_export_df.loc[\n",
    "#             (import_export_df.Deliverer.str.contains('ITB')) | (import_export_df.Deliverer.str.contains('ATB')) |\n",
    "#             (import_export_df.Receiver.str.contains('ITB')) | (import_export_df.Receiver.str.contains('ATB')),\n",
    "#             'TransferQtyInGallon'\n",
    "#         ]\n",
    "#     # I have to be careful here and break up import/export because of inter-vessel transfers\n",
    "#     elif vessel == 'barge':\n",
    "#         import_barge = import_export_df.loc[\n",
    "#             (import_export_df.DelivererTypeDescription.isin(['TANK BARGE','TUGBOAT'])) & \n",
    "#             (~import_export_df.Deliverer.str.contains('ITB')) & \n",
    "#             (~import_export_df.Deliverer.str.contains('ATB')),\n",
    "#             'TransferQtyInGallon'\n",
    "#         ]\n",
    "#         export_barge = import_export_df.loc[\n",
    "#             (import_export_df.ReceiverTypeDescription.isin(['TANK BARGE','TUGBOAT'])) & \n",
    "#             (~import_export_df.Receiver.str.contains('ITB')) & \n",
    "#             (~import_export_df.Receiver.str.contains('ATB')), \n",
    "#             'TransferQtyInGallon'\n",
    "#         ]\n",
    "#         df_byship['barge'] = import_barge.append(export_barge)"
   ]
  },
  {
   "cell_type": "markdown",
   "id": "based-philadelphia",
   "metadata": {},
   "source": [
    "## Tally up `total_gallons`, `number_of_transfers`, `fraction_of_total`, where:\n",
    "- `total_gallons`: Total gallons transfered for the particular oil type\n",
    "- `fraction_of_total`: (`total_gallons` by oil type) / (total gallons across oil types)\n",
    "- `number_of_transfers`: Total transfers for the particular oil type\n",
    "\n",
    "I use `import_export_df` to pre-select cargo transfers to/from our selected marine terminals.  I tried many things here to try to force creation of fractions that sum to 1.0, including:\n",
    "1. multipling by 100*int(numerator), integer divide (//) int(denominator), then divide ratio by 100 to convert back to float, e.g.:\n",
    "```\n",
    "test = (100 * int(2))//int(3)\n",
    "test/100\n",
    "```\n",
    "2. Using decimal_divide and setting precision (which only appears to do anything for precision <= 2), e.g.:\n",
    "```\n",
    "destination[facility][vessel][oil]['fraction_of_total'] = decimal_divide(\n",
    "     int(destination[facility][vessel][oil]['total_gallons']), \n",
    "     int(tanker_import_total[facility]),\n",
    "     precision\n",
    " ).round(precision)\n",
    "```\n",
    "3. Dividing two integers (the method I am sticking with as it's cleaner than (1) and just as effetive)"
   ]
  },
  {
   "cell_type": "code",
   "execution_count": 8,
   "id": "mediterranean-garlic",
   "metadata": {},
   "outputs": [],
   "source": [
    "all_US = {} # this is the output dictionary\n",
    "total = {} #this is the total gallons transferred by ship type and summed over all oil types\n",
    "for vessel in vessel_types:\n",
    "    all_US[vessel] = {}\n",
    "    for oil in oil_types:\n",
    "        all_US[vessel][oil] = {}\n",
    "        for data in data_types:\n",
    "            all_US[vessel][oil][data] = 0"
   ]
  },
  {
   "cell_type": "markdown",
   "id": "split-shore",
   "metadata": {},
   "source": [
    "### Combined tanker imports and exports"
   ]
  },
  {
   "cell_type": "code",
   "execution_count": 9,
   "id": "killing-compact",
   "metadata": {},
   "outputs": [],
   "source": [
    "vessel = 'tanker'\n",
    "type_description = ['TANK SHIP']"
   ]
  },
  {
   "cell_type": "code",
   "execution_count": 10,
   "id": "alpha-keeping",
   "metadata": {},
   "outputs": [],
   "source": [
    "# This is the total gallons transferred by ship type and summed over all oil types\n",
    "# total[vessel] = df_byship[vessel].sum(axis=0).item()\n",
    "total[vessel] = import_export_df.loc[\n",
    "    (import_export_df.DelivererTypeDescription.isin(type_description)) |\n",
    "    (import_export_df.ReceiverTypeDescription.isin(type_description)),\n",
    "    'TransferQtyInGallon'\n",
    "].sum(axis=0).item()\n",
    "\n",
    "\n",
    "# Now estimat fractions of total by oil types\n",
    "for oil in oil_types:\n",
    "\n",
    "    # Add up net oil quantity transferred by oil_types\n",
    "    all_US[vessel][oil]['total_gallons'] = import_export_df.loc[\n",
    "        (import_export_df.DelivererTypeDescription.isin(type_description)) |\n",
    "        (import_export_df.ReceiverTypeDescription.isin(type_description)) &\n",
    "        (import_export_df.Product.isin(oil_classification[oil])),\n",
    "        'TransferQtyInGallon'\n",
    "    ].sum(axis=0).item()\n",
    "\n",
    "    # Calculate the fraction of total oil transfer represented \n",
    "    # by this oil type\n",
    "    if total[vessel] != 0:\n",
    "        all_US[vessel][oil]['fraction_of_total'] = (\n",
    "            int(all_US[vessel][oil]['total_gallons'])/\n",
    "            int(total[vessel])\n",
    "        )\n",
    "    \n",
    "    # Catalogue the number of transfers \n",
    "    all_US[vessel][oil]['number_of_transfers'] = import_export_df.loc[\n",
    "        (import_export_df.DelivererTypeDescription.isin(type_description)) |\n",
    "        (import_export_df.ReceiverTypeDescription.isin(type_description)) &\n",
    "        (import_export_df.Product.isin(oil_classification[oil]))\n",
    "    ].shape[0]    "
   ]
  },
  {
   "cell_type": "markdown",
   "id": "curious-round",
   "metadata": {},
   "source": [
    "### ATB imports and exports"
   ]
  },
  {
   "cell_type": "code",
   "execution_count": 11,
   "id": "spiritual-departure",
   "metadata": {},
   "outputs": [],
   "source": [
    "vessel = 'atb'\n",
    "\n",
    "# This is the total gallons transferred by ship type and summed over all oil types\n",
    "#total[vessel] = df_byship[vessel].sum(axis=0).item()\n",
    "total[vessel] = import_export_df.loc[\n",
    "    (import_export_df.Deliverer.str.contains('ITB')) | \n",
    "    (import_export_df.Deliverer.str.contains('ATB')) |\n",
    "    (import_export_df.Receiver.str.contains('ITB')) |\n",
    "    (import_export_df.Receiver.str.contains('ATB')),\n",
    "    'TransferQtyInGallon'\n",
    "].sum(axis=0).item()\n",
    "\n",
    "# Now estimat fractions of total by oil types\n",
    "for oil in oil_types:\n",
    "\n",
    "    # Add up net oil quantity transferred by oil_types\n",
    "    all_US[vessel][oil]['total_gallons'] = import_export_df.loc[\n",
    "        (import_export_df.Deliverer.str.contains('ITB')) | \n",
    "        (import_export_df.Deliverer.str.contains('ATB')) |\n",
    "        (import_export_df.Receiver.str.contains('ITB')) |\n",
    "        (import_export_df.Receiver.str.contains('ATB')) & \n",
    "        (import_export_df.Product.isin(oil_classification[oil])),\n",
    "        'TransferQtyInGallon'\n",
    "    ].sum(axis=0).item()\n",
    "\n",
    "    # Calculate the fraction of total oil transfer represented \n",
    "    # by this oil type    \n",
    "    if total[vessel] != 0:\n",
    "        all_US[vessel][oil]['fraction_of_total'] = (\n",
    "            int(all_US[vessel][oil]['total_gallons'])/\n",
    "            int(total[vessel])\n",
    "        )       \n",
    "\n",
    "    # Catalogue the number of transfers \n",
    "    all_US[vessel][oil]['number_of_transfers'] = import_export_df.loc[\n",
    "        (import_export_df.Deliverer.str.contains('ITB')) | \n",
    "        (import_export_df.Deliverer.str.contains('ATB')) |\n",
    "        (import_export_df.Receiver.str.contains('ITB')) | \n",
    "        (import_export_df.Receiver.str.contains('ATB')) & \n",
    "        (import_export_df.Product.isin(oil_classification[oil]))\n",
    "    ].shape[0]   "
   ]
  },
  {
   "cell_type": "markdown",
   "id": "uniform-price",
   "metadata": {},
   "source": [
    "### Tank barge imports and exports"
   ]
  },
  {
   "cell_type": "code",
   "execution_count": 12,
   "id": "framed-integer",
   "metadata": {},
   "outputs": [],
   "source": [
    "vessel = 'barge'\n",
    "type_description = ['TANK BARGE','TUGBOAT']\n",
    "\n",
    "# This is the total gallons transferred by ship type and summed over all oil types\n",
    "#total[vessel] = df_byship[vessel].sum(axis=0).item()\n",
    "total[vessel] = import_export_df.loc[\n",
    "    (import_export_df.DelivererTypeDescription.isin(type_description)) |\n",
    "    (import_export_df.ReceiverTypeDescription.isin(type_description)) &\n",
    "    (~import_export_df.Deliverer.str.contains('ITB')) & \n",
    "    (~import_export_df.Deliverer.str.contains('ATB')) &\n",
    "    (~import_export_df.Receiver.str.contains('ITB')) & \n",
    "    (~import_export_df.Receiver.str.contains('ATB')),\n",
    "    'TransferQtyInGallon'\n",
    "].sum(axis=0).item()    \n",
    " \n",
    "\n",
    "for oil in oil_types:\n",
    "\n",
    "    # Add up net oil quantity transferred by oil_types\n",
    "    all_US[vessel][oil]['total_gallons'] = import_export_df.loc[\n",
    "        (import_export_df.DelivererTypeDescription.isin(type_description)) |\n",
    "        (import_export_df.ReceiverTypeDescription.isin(type_description)) &\n",
    "        (~import_export_df.Deliverer.str.contains('ITB')) & \n",
    "        (~import_export_df.Deliverer.str.contains('ATB')) &\n",
    "        (~import_export_df.Receiver.str.contains('ITB')) & \n",
    "        (~import_export_df.Receiver.str.contains('ATB')) &\n",
    "        (import_export_df.Product.isin(oil_classification[oil])),\n",
    "        'TransferQtyInGallon'\n",
    "    ].sum(axis=0).item()\n",
    "    \n",
    "    # Calculate the fraction of total oil transfer represented \n",
    "    # by each oil type            \n",
    "    if total[vessel] != 0:\n",
    "        all_US[vessel][oil]['fraction_of_total'] = (\n",
    "            int(all_US[vessel][oil]['total_gallons'])/\n",
    "            int(total[vessel])\n",
    "        )\n",
    "\n",
    "    # Catalogue the number of transfers \n",
    "    all_US[vessel][oil]['number_of_transfers'] = import_export_df.loc[\n",
    "        (import_export_df.DelivererTypeDescription.isin(type_description)) |\n",
    "        (import_export_df.ReceiverTypeDescription.isin(type_description)) &\n",
    "        (~import_export_df.Deliverer.str.contains('ITB')) & \n",
    "        (~import_export_df.Deliverer.str.contains('ATB')) &\n",
    "        (~import_export_df.Receiver.str.contains('ITB')) & \n",
    "        (~import_export_df.Receiver.str.contains('ATB')) &\n",
    "        (import_export_df.Product.isin(oil_classification[oil])),\n",
    "    ].shape[0]"
   ]
  },
  {
   "cell_type": "markdown",
   "id": "advised-helena",
   "metadata": {},
   "source": [
    "### QAQC: Make sure oil fractions sum to 1.0 (and fix if they don't)"
   ]
  },
  {
   "cell_type": "code",
   "execution_count": 13,
   "id": "according-novel",
   "metadata": {},
   "outputs": [
    {
     "name": "stdout",
     "output_type": "stream",
     "text": [
      "atb, 2.192207274454742\n",
      "[0.2076209511978296, 0.26982126301773934, 0.1987012124091236, 0.32316130097420115, 0.4193755500417097, 0.5437553609576888, 0.22977163585644947]\n",
      "barge, 3.6881028064313\n",
      "[0.4599961259329509, 0.7406163755677236, 0.4493708045283748, 0.4731391051607786, 0.5217558189265032, 0.49575346146952487, 0.5474711148454443]\n",
      "tanker, 5.204680139973997\n",
      "[0.7227972529632286, 0.7128514370407864, 0.7007800233289995, 0.7391484449223198, 0.7755390096821003, 0.8204540180808515, 0.7331099539557107]\n"
     ]
    }
   ],
   "source": [
    "## print out errors first to make sure they are reasonable\n",
    "for vessel in vessel_types:        \n",
    "    total = sum([all_US[vessel][oil]['fraction_of_total'] for oil in oil_types])    \n",
    "    if (total != 1) & (total != 0):\n",
    "        print(f'{vessel}, {total}')\n",
    "        print([all_US[vessel][oil]['fraction_of_total'] for oil in oil_types])"
   ]
  },
  {
   "cell_type": "markdown",
   "id": "opened-consumer",
   "metadata": {},
   "source": [
    "## Write to file"
   ]
  },
  {
   "cell_type": "code",
   "execution_count": 14,
   "id": "gothic-matthew",
   "metadata": {},
   "outputs": [],
   "source": [
    "with open(r'./US_general.yaml', 'w') as file:\n",
    "    documents = yaml.safe_dump(all_US, file)"
   ]
  },
  {
   "cell_type": "markdown",
   "id": "radio-symposium",
   "metadata": {},
   "source": [
    "## Plot results"
   ]
  },
  {
   "cell_type": "code",
   "execution_count": 15,
   "id": "supreme-finance",
   "metadata": {},
   "outputs": [],
   "source": [
    "US = all_US"
   ]
  },
  {
   "cell_type": "code",
   "execution_count": 16,
   "id": "strategic-mumbai",
   "metadata": {},
   "outputs": [
    {
     "data": {
      "text/plain": [
       "Text(0.5, 1.0, 'tanker fuel allocation for general = US')"
      ]
     },
     "execution_count": 16,
     "metadata": {},
     "output_type": "execute_result"
    },
    {
     "data": {
      "image/png": "[encoded data removed]",
      "text/plain": [
       "<Figure size 432x288 with 1 Axes>"
      ]
     },
     "metadata": {},
     "output_type": "display_data"
    }
   ],
   "source": [
    "label = 'tanker'\n",
    "US_tank = [ US[label]['akns']['total_gallons'], \n",
    "                US[label]['bunker']['total_gallons'], \n",
    "                US[label]['dilbit']['total_gallons'], \n",
    "                US[label]['jet']['total_gallons'], \n",
    "                US[label]['diesel']['total_gallons'], \n",
    "                US[label]['gas']['total_gallons'], \n",
    "                US[label]['other']['total_gallons']\n",
    "               ]\n",
    "plt.gca().axis(\"equal\")\n",
    "plt.pie(US_tank, labels= oil_types)\n",
    "plt.title(f'{label} fuel allocation for general = US')"
   ]
  },
  {
   "cell_type": "code",
   "execution_count": 17,
   "id": "adolescent-socket",
   "metadata": {},
   "outputs": [
    {
     "data": {
      "text/plain": [
       "Text(0.5, 1.0, 'atb fuel allocation for general = US')"
      ]
     },
     "execution_count": 17,
     "metadata": {},
     "output_type": "execute_result"
    },
    {
     "data": {
      "image/png": "[encoded data removed]",
      "text/plain": [
       "<Figure size 432x288 with 1 Axes>"
      ]
     },
     "metadata": {},
     "output_type": "display_data"
    }
   ],
   "source": [
    "label = 'atb'\n",
    "US_tank = [ US[label]['akns']['total_gallons'], \n",
    "                US[label]['bunker']['total_gallons'], \n",
    "                US[label]['dilbit']['total_gallons'], \n",
    "                US[label]['jet']['total_gallons'], \n",
    "                US[label]['diesel']['total_gallons'], \n",
    "                US[label]['gas']['total_gallons'], \n",
    "                US[label]['other']['total_gallons']\n",
    "               ]\n",
    "plt.gca().axis(\"equal\")\n",
    "plt.pie(US_tank, labels= oil_types)\n",
    "plt.title(f'{label} fuel allocation for general = US')"
   ]
  },
  {
   "cell_type": "code",
   "execution_count": 18,
   "id": "unique-debut",
   "metadata": {},
   "outputs": [
    {
     "data": {
      "text/plain": [
       "Text(0.5, 1.0, 'barge fuel allocation for general = US')"
      ]
     },
     "execution_count": 18,
     "metadata": {},
     "output_type": "execute_result"
    },
    {
     "data": {
      "image/png": "[encoded data removed]",
      "text/plain": [
       "<Figure size 432x288 with 1 Axes>"
      ]
     },
     "metadata": {},
     "output_type": "display_data"
    }
   ],
   "source": [
    "label = 'barge'\n",
    "US_tank = [ US[label]['akns']['total_gallons'], \n",
    "                US[label]['bunker']['total_gallons'], \n",
    "                US[label]['dilbit']['total_gallons'], \n",
    "                US[label]['jet']['total_gallons'], \n",
    "                US[label]['diesel']['total_gallons'], \n",
    "                US[label]['gas']['total_gallons'], \n",
    "                US[label]['other']['total_gallons']\n",
    "               ]\n",
    "plt.gca().axis(\"equal\")\n",
    "plt.pie(US_tank, labels= oil_types)\n",
    "plt.title(f'{label} fuel allocation for general = US')"
   ]
  },
  {
   "cell_type": "code",
   "execution_count": 19,
   "id": "orange-space",
   "metadata": {},
   "outputs": [
    {
     "data": {
      "image/png": "[encoded data removed]",
      "text/plain": [
       "<Figure size 1080x360 with 3 Axes>"
      ]
     },
     "metadata": {},
     "output_type": "display_data"
    }
   ],
   "source": [
    "import matplotlib.pyplot as plt\n",
    "\n",
    "# re-calc total transfers over all oil types\n",
    "total_tanker = sum([ US['tanker'][oil]['total_gallons'] for oil in oil_types ])\n",
    "total_atb    = sum([ US['atb'][oil]['total_gallons'] for oil in oil_types ])\n",
    "total_barge  = sum([ US['barge'][oil]['total_gallons'] for oil in oil_types ])\n",
    "\n",
    "total = [total_tanker, total_atb, total_barge]\n",
    "\n",
    "plot_array = np.empty(len(oil_types))\n",
    "\n",
    "fig, axes = plt.subplots(1, len(vessel_types), figsize = (15,5))\n",
    "\n",
    "plt.text(0, 0.5, \n",
    "         'Pacific + US ', \n",
    "         ha='left',\n",
    "         fontsize=20,\n",
    "         wrap=True,\n",
    "         transform=plt.gcf().transFigure)\n",
    "\n",
    "for j in range(len(vessel_types)):\n",
    "    vessel = vessel_types[j]\n",
    "    # create array of total oil volume by oil type for each vessel at each facility\n",
    "    oil_index = 0\n",
    "    for oil in oil_types:    \n",
    "        plot_array[oil_index]=US[vessel][oil]['total_gallons']\n",
    "        oil_index += 1\n",
    "\n",
    "    axes[j].axis('equal')\n",
    "    axes[j].set_title(f'{total[j]:4.2e}\\n gallons',fontsize=18)\n",
    "\n",
    "    if plot_array.sum()>0:\n",
    "        axes[j].pie(plot_array, wedgeprops=dict(width=0.5), labels = oil_types, textprops={'fontsize': 14})\n",
    "    else:\n",
    "        axes[j].axis('off')\n",
    "    axes[j].text(0,0,vessel,ha='center',fontsize=18)\n",
    "\n",
    "plt.savefig('US_combined.png')"
   ]
  },
  {
   "cell_type": "code",
   "execution_count": null,
   "id": "unable-organ",
   "metadata": {},
   "outputs": [],
   "source": []
  }
 ],
 "metadata": {
  "kernelspec": {
   "display_name": "Python 3",
   "language": "python",
   "name": "python3"
  },
  "language_info": {
   "codemirror_mode": {
    "name": "ipython",
    "version": 3
   },
   "file_extension": ".py",
   "mimetype": "text/x-python",
   "name": "python",
   "nbconvert_exporter": "python",
   "pygments_lexer": "ipython3",
   "version": "3.9.2"
  }
 },
 "nbformat": 4,
 "nbformat_minor": 5
}
