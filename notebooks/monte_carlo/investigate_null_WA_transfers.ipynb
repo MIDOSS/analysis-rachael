{
 "cells": [
  {
   "cell_type": "markdown",
   "metadata": {},
   "source": [
    "### Oil type by origin \"US\" (general attribution)\n",
    "Goal: Determine if null values for oil transfer from \n",
    "- Phillips Tacoma [all vessels], \n",
    "- Kinder Morgan Liquids [atbs]\n",
    "- Grays Harbour [all vessels]\n",
    "\n",
    "are legit?\n"
   ]
  },
  {
   "cell_type": "code",
   "execution_count": 1,
   "metadata": {},
   "outputs": [],
   "source": [
    "import pandas as pd\n",
    "import numpy as np\n",
    "import matplotlib.pyplot as plt\n",
    "import yaml\n",
    "\n",
    "file_dir  = '/Users/rmueller/Data/MIDOSS/DeptOfEcology/'\n",
    "file_name = 'MuellerTrans4-30-20.xlsx'\n",
    "\n",
    "# Import columns are: (G) Deliverer, (H) Receiver, (P) Product, \n",
    "#                     (Q) Quantity in Gallons, (R) Transfer Type (Fueling, Cargo, or Other)', \n",
    "#                     (w) DelivererTypeDescription, (x) ReceiverTypeDescription \n",
    "df = pd.read_excel(f'{file_dir}{file_name}',sheet_name='Vessel Oil Transfer', \n",
    "                   usecols=\"G,H,P,Q,R,W,X\")\n",
    "\n",
    "# list of names in DOE dataset that are used as \"DelivererTypeDescription\" for vessel transfers\n",
    "vessel_names = ['TANK SHIP', 'TANK BARGE', 'TUGBOAT']\n",
    "\n",
    "# list of terminals that we want to focus on for marine transfers\n",
    "terminals = [\n",
    "    'REG Grays Harbor, LLC', \n",
    "    'Kinder Morgan Liquids Terminal - Harbor Island', \n",
    "    'Phillips 66 Tacoma Terminal'\n",
    "]"
   ]
  },
  {
   "cell_type": "markdown",
   "metadata": {},
   "source": [
    "#### Extract cargo data transferred from facility to vessel"
   ]
  },
  {
   "cell_type": "code",
   "execution_count": 2,
   "metadata": {},
   "outputs": [],
   "source": [
    "\n",
    "# Get all cargo fuel transfers\n",
    "bool_cargo = df['TransferType']=='Cargo'\n",
    "cargo_data = df[bool_cargo]\n",
    "cargo_from_facility = cargo_data[ cargo_data['DelivererTypeDescription']=='Facility' ]\n",
    "cargo_to_tank   = cargo_from_facility[ cargo_from_facility['ReceiverTypeDescription'] == 'TANK SHIP' ]\n",
    "cargo_to_barge  = cargo_from_facility[ cargo_from_facility['ReceiverTypeDescription'] == 'TANK BARGE' ] \n",
    "cargo_to_tug    = cargo_from_facility[ cargo_from_facility['ReceiverTypeDescription'] == 'TUGBOAT' ]\n",
    "\n",
    "# reset indices so they increase chronologically from 0 instead of keeping parent index values\n",
    "cargo_to_tank.reset_index( drop=True, inplace=True )\n",
    "cargo_to_barge.reset_index( drop=True, inplace=True )\n",
    "cargo_to_tug.reset_index( drop=True, inplace=True )"
   ]
  },
  {
   "cell_type": "code",
   "execution_count": 15,
   "metadata": {},
   "outputs": [],
   "source": [
    "greys_origin = df[ df.Deliverer == 'REG Grays Harbor, LLC' ]\n",
    "kinder_origin = df[ df.Deliverer == 'Kinder Morgan Liquids Terminal - Harbor Island' ]\n",
    "phillips_origin = df[ df.Deliverer == 'Phillips 66 Tacoma Terminal']\n",
    "\n",
    "greys_destination = df[ df.Receiver == 'REG Grays Harbor, LLC' ]\n",
    "kinder_destination = df[ df.Receiver == 'Kinder Morgan Liquids Terminal - Harbor Island' ]\n",
    "phillips_destination = df[ df.Receiver == 'Phillips 66 Tacoma Terminal']"
   ]
  },
  {
   "cell_type": "code",
   "execution_count": 18,
   "metadata": {},
   "outputs": [],
   "source": [
    "transfer_data = {'Grays Harbor' :  [sum(greys_origin.TransferQtyInGallon), sum(greys_destination.TransferQtyInGallon)],\n",
    "        'Kinder Morgan': [sum(kinder_origin.TransferQtyInGallon), sum(kinder_destination.TransferQtyInGallon)],\n",
    "        'Phillips 66 Tacoma': [sum(phillips_origin.TransferQtyInGallon), sum(phillips_destination.TransferQtyInGallon)]\n",
    "}"
   ]
  },
  {
   "cell_type": "code",
   "execution_count": 19,
   "metadata": {},
   "outputs": [
    {
     "data": {
      "text/plain": [
       "{'Grays Harbor': [0, 21094901],\n",
       " 'Kinder Morgan': [94446786, 103362000],\n",
       " 'Phillips 66 Tacoma': [0, 94191800]}"
      ]
     },
     "execution_count": 19,
     "metadata": {},
     "output_type": "execute_result"
    }
   ],
   "source": [
    "transfer_data"
   ]
  },
  {
   "cell_type": "code",
   "execution_count": 20,
   "metadata": {},
   "outputs": [
    {
     "data": {
      "text/plain": [
       "(148, 7)"
      ]
     },
     "execution_count": 20,
     "metadata": {},
     "output_type": "execute_result"
    }
   ],
   "source": [
    "kinder_origin.shape"
   ]
  },
  {
   "cell_type": "code",
   "execution_count": 23,
   "metadata": {},
   "outputs": [
    {
     "data": {
      "text/html": [
       "<div>\n",
       "<style scoped>\n",
       "    .dataframe tbody tr th:only-of-type {\n",
       "        vertical-align: middle;\n",
       "    }\n",
       "\n",
       "    .dataframe tbody tr th {\n",
       "        vertical-align: top;\n",
       "    }\n",
       "\n",
       "    .dataframe thead th {\n",
       "        text-align: right;\n",
       "    }\n",
       "</style>\n",
       "<table border=\"1\" class=\"dataframe\">\n",
       "  <thead>\n",
       "    <tr style=\"text-align: right;\">\n",
       "      <th></th>\n",
       "      <th>Deliverer</th>\n",
       "      <th>Receiver</th>\n",
       "      <th>Product</th>\n",
       "      <th>TransferQtyInGallon</th>\n",
       "      <th>TransferType</th>\n",
       "      <th>DelivererTypeDescription</th>\n",
       "      <th>ReceiverTypeDescription</th>\n",
       "    </tr>\n",
       "  </thead>\n",
       "  <tbody>\n",
       "    <tr>\n",
       "      <th>56</th>\n",
       "      <td>Kinder Morgan Liquids Terminal - Harbor Island</td>\n",
       "      <td>DR. BONNIE W. RAMSEY</td>\n",
       "      <td>BUNKER OIL/HFO</td>\n",
       "      <td>159600</td>\n",
       "      <td>Cargo</td>\n",
       "      <td>Facility</td>\n",
       "      <td>TANK BARGE</td>\n",
       "    </tr>\n",
       "  </tbody>\n",
       "</table>\n",
       "</div>"
      ],
      "text/plain": [
       "                                         Deliverer              Receiver  \\\n",
       "56  Kinder Morgan Liquids Terminal - Harbor Island  DR. BONNIE W. RAMSEY   \n",
       "\n",
       "           Product  TransferQtyInGallon TransferType DelivererTypeDescription  \\\n",
       "56  BUNKER OIL/HFO               159600        Cargo                 Facility   \n",
       "\n",
       "   ReceiverTypeDescription  \n",
       "56              TANK BARGE  "
      ]
     },
     "execution_count": 23,
     "metadata": {},
     "output_type": "execute_result"
    }
   ],
   "source": [
    "kinder_origin[:1]"
   ]
  },
  {
   "cell_type": "code",
   "execution_count": 34,
   "metadata": {},
   "outputs": [],
   "source": [
    "kinder_barge = kinder_origin[kinder_origin.ReceiverTypeDescription == 'TANK BARGE']"
   ]
  },
  {
   "cell_type": "code",
   "execution_count": 27,
   "metadata": {},
   "outputs": [
    {
     "data": {
      "text/plain": [
       "(145, 7)"
      ]
     },
     "execution_count": 27,
     "metadata": {},
     "output_type": "execute_result"
    }
   ],
   "source": [
    "kinder_barge.shape"
   ]
  },
  {
   "cell_type": "code",
   "execution_count": 29,
   "metadata": {},
   "outputs": [],
   "source": [
    "kinder_tug = kinder_origin[kinder_origin.ReceiverTypeDescription == 'TUGBOAT']"
   ]
  },
  {
   "cell_type": "code",
   "execution_count": 30,
   "metadata": {},
   "outputs": [
    {
     "data": {
      "text/plain": [
       "(0, 7)"
      ]
     },
     "execution_count": 30,
     "metadata": {},
     "output_type": "execute_result"
    }
   ],
   "source": [
    "kinder_tug.shape"
   ]
  },
  {
   "cell_type": "code",
   "execution_count": 32,
   "metadata": {},
   "outputs": [
    {
     "data": {
      "text/plain": [
       "(3, 7)"
      ]
     },
     "execution_count": 32,
     "metadata": {},
     "output_type": "execute_result"
    }
   ],
   "source": [
    "kinder_tanker = kinder_origin[kinder_origin.ReceiverTypeDescription == 'TANK SHIP']\n",
    "kinder_tanker.shape"
   ]
  },
  {
   "cell_type": "code",
   "execution_count": 39,
   "metadata": {},
   "outputs": [
    {
     "data": {
      "text/plain": [
       "130"
      ]
     },
     "execution_count": 39,
     "metadata": {},
     "output_type": "execute_result"
    }
   ],
   "source": [
    "len(kinder_barge[kinder_barge.Receiver=='DR. BONNIE W. RAMSEY']) + len(kinder_barge[kinder_barge.Receiver ==  'NATHAN SCHMIDT'])"
   ]
  },
  {
   "cell_type": "code",
   "execution_count": 47,
   "metadata": {},
   "outputs": [
    {
     "data": {
      "text/html": [
       "<div>\n",
       "<style scoped>\n",
       "    .dataframe tbody tr th:only-of-type {\n",
       "        vertical-align: middle;\n",
       "    }\n",
       "\n",
       "    .dataframe tbody tr th {\n",
       "        vertical-align: top;\n",
       "    }\n",
       "\n",
       "    .dataframe thead th {\n",
       "        text-align: right;\n",
       "    }\n",
       "</style>\n",
       "<table border=\"1\" class=\"dataframe\">\n",
       "  <thead>\n",
       "    <tr style=\"text-align: right;\">\n",
       "      <th></th>\n",
       "      <th>Deliverer</th>\n",
       "      <th>Receiver</th>\n",
       "      <th>Product</th>\n",
       "      <th>TransferQtyInGallon</th>\n",
       "      <th>TransferType</th>\n",
       "      <th>DelivererTypeDescription</th>\n",
       "      <th>ReceiverTypeDescription</th>\n",
       "    </tr>\n",
       "  </thead>\n",
       "  <tbody>\n",
       "    <tr>\n",
       "      <th>1152</th>\n",
       "      <td>Kinder Morgan Liquids Terminal - Harbor Island</td>\n",
       "      <td>OLYMPIC SPIRIT</td>\n",
       "      <td>BUNKER OIL/HFO</td>\n",
       "      <td>1680000</td>\n",
       "      <td>Cargo</td>\n",
       "      <td>Facility</td>\n",
       "      <td>TANK BARGE</td>\n",
       "    </tr>\n",
       "    <tr>\n",
       "      <th>1981</th>\n",
       "      <td>Kinder Morgan Liquids Terminal - Harbor Island</td>\n",
       "      <td>OLYMPIC SPIRIT</td>\n",
       "      <td>CUTTER STOCK</td>\n",
       "      <td>840000</td>\n",
       "      <td>Cargo</td>\n",
       "      <td>Facility</td>\n",
       "      <td>TANK BARGE</td>\n",
       "    </tr>\n",
       "    <tr>\n",
       "      <th>1982</th>\n",
       "      <td>Kinder Morgan Liquids Terminal - Harbor Island</td>\n",
       "      <td>OLYMPIC SPIRIT</td>\n",
       "      <td>BUNKER OIL/HFO</td>\n",
       "      <td>840000</td>\n",
       "      <td>Cargo</td>\n",
       "      <td>Facility</td>\n",
       "      <td>TANK BARGE</td>\n",
       "    </tr>\n",
       "    <tr>\n",
       "      <th>2941</th>\n",
       "      <td>Kinder Morgan Liquids Terminal - Harbor Island</td>\n",
       "      <td>SHAUNA KAY</td>\n",
       "      <td>DIESEL/MARINE GAS OIL</td>\n",
       "      <td>441000</td>\n",
       "      <td>Cargo</td>\n",
       "      <td>Facility</td>\n",
       "      <td>TANK BARGE</td>\n",
       "    </tr>\n",
       "    <tr>\n",
       "      <th>3635</th>\n",
       "      <td>Kinder Morgan Liquids Terminal - Harbor Island</td>\n",
       "      <td>SHAUNA KAY</td>\n",
       "      <td>DIESEL LOW SULPHUR (ULSD)</td>\n",
       "      <td>567000</td>\n",
       "      <td>Cargo</td>\n",
       "      <td>Facility</td>\n",
       "      <td>TANK BARGE</td>\n",
       "    </tr>\n",
       "    <tr>\n",
       "      <th>3965</th>\n",
       "      <td>Kinder Morgan Liquids Terminal - Harbor Island</td>\n",
       "      <td>SHAUNA KAY</td>\n",
       "      <td>DIESEL LOW SULPHUR (ULSD)</td>\n",
       "      <td>567000</td>\n",
       "      <td>Cargo</td>\n",
       "      <td>Facility</td>\n",
       "      <td>TANK BARGE</td>\n",
       "    </tr>\n",
       "    <tr>\n",
       "      <th>4495</th>\n",
       "      <td>Kinder Morgan Liquids Terminal - Harbor Island</td>\n",
       "      <td>SHAUNA KAY</td>\n",
       "      <td>DIESEL LOW SULPHUR (ULSD)</td>\n",
       "      <td>567000</td>\n",
       "      <td>Cargo</td>\n",
       "      <td>Facility</td>\n",
       "      <td>TANK BARGE</td>\n",
       "    </tr>\n",
       "    <tr>\n",
       "      <th>4837</th>\n",
       "      <td>Kinder Morgan Liquids Terminal - Harbor Island</td>\n",
       "      <td>SHAUNA KAY</td>\n",
       "      <td>DIESEL/MARINE GAS OIL</td>\n",
       "      <td>567000</td>\n",
       "      <td>Cargo</td>\n",
       "      <td>Facility</td>\n",
       "      <td>TANK BARGE</td>\n",
       "    </tr>\n",
       "    <tr>\n",
       "      <th>5243</th>\n",
       "      <td>Kinder Morgan Liquids Terminal - Harbor Island</td>\n",
       "      <td>SHAUNA KAY</td>\n",
       "      <td>DIESEL LOW SULPHUR (ULSD)</td>\n",
       "      <td>273000</td>\n",
       "      <td>Cargo</td>\n",
       "      <td>Facility</td>\n",
       "      <td>TANK BARGE</td>\n",
       "    </tr>\n",
       "    <tr>\n",
       "      <th>5496</th>\n",
       "      <td>Kinder Morgan Liquids Terminal - Harbor Island</td>\n",
       "      <td>SHAUNA KAY</td>\n",
       "      <td>DIESEL LOW SULPHUR (ULSD)</td>\n",
       "      <td>567000</td>\n",
       "      <td>Cargo</td>\n",
       "      <td>Facility</td>\n",
       "      <td>TANK BARGE</td>\n",
       "    </tr>\n",
       "    <tr>\n",
       "      <th>5805</th>\n",
       "      <td>Kinder Morgan Liquids Terminal - Harbor Island</td>\n",
       "      <td>SHAUNA KAY</td>\n",
       "      <td>DIESEL/MARINE GAS OIL</td>\n",
       "      <td>567000</td>\n",
       "      <td>Cargo</td>\n",
       "      <td>Facility</td>\n",
       "      <td>TANK BARGE</td>\n",
       "    </tr>\n",
       "    <tr>\n",
       "      <th>7017</th>\n",
       "      <td>Kinder Morgan Liquids Terminal - Harbor Island</td>\n",
       "      <td>SHAUNA KAY</td>\n",
       "      <td>DIESEL/MARINE GAS OIL</td>\n",
       "      <td>567000</td>\n",
       "      <td>Cargo</td>\n",
       "      <td>Facility</td>\n",
       "      <td>TANK BARGE</td>\n",
       "    </tr>\n",
       "    <tr>\n",
       "      <th>7590</th>\n",
       "      <td>Kinder Morgan Liquids Terminal - Harbor Island</td>\n",
       "      <td>SHAUNA KAY</td>\n",
       "      <td>DIESEL LOW SULPHUR (ULSD)</td>\n",
       "      <td>567000</td>\n",
       "      <td>Cargo</td>\n",
       "      <td>Facility</td>\n",
       "      <td>TANK BARGE</td>\n",
       "    </tr>\n",
       "    <tr>\n",
       "      <th>7931</th>\n",
       "      <td>Kinder Morgan Liquids Terminal - Harbor Island</td>\n",
       "      <td>DOTTIE</td>\n",
       "      <td>BUNKER OIL/HFO</td>\n",
       "      <td>1680000</td>\n",
       "      <td>Cargo</td>\n",
       "      <td>Facility</td>\n",
       "      <td>TANK BARGE</td>\n",
       "    </tr>\n",
       "    <tr>\n",
       "      <th>7987</th>\n",
       "      <td>Kinder Morgan Liquids Terminal - Harbor Island</td>\n",
       "      <td>SHAUNA KAY</td>\n",
       "      <td>DIESEL LOW SULPHUR (ULSD)</td>\n",
       "      <td>567000</td>\n",
       "      <td>Cargo</td>\n",
       "      <td>Facility</td>\n",
       "      <td>TANK BARGE</td>\n",
       "    </tr>\n",
       "  </tbody>\n",
       "</table>\n",
       "</div>"
      ],
      "text/plain": [
       "                                           Deliverer        Receiver  \\\n",
       "1152  Kinder Morgan Liquids Terminal - Harbor Island  OLYMPIC SPIRIT   \n",
       "1981  Kinder Morgan Liquids Terminal - Harbor Island  OLYMPIC SPIRIT   \n",
       "1982  Kinder Morgan Liquids Terminal - Harbor Island  OLYMPIC SPIRIT   \n",
       "2941  Kinder Morgan Liquids Terminal - Harbor Island      SHAUNA KAY   \n",
       "3635  Kinder Morgan Liquids Terminal - Harbor Island      SHAUNA KAY   \n",
       "3965  Kinder Morgan Liquids Terminal - Harbor Island      SHAUNA KAY   \n",
       "4495  Kinder Morgan Liquids Terminal - Harbor Island      SHAUNA KAY   \n",
       "4837  Kinder Morgan Liquids Terminal - Harbor Island      SHAUNA KAY   \n",
       "5243  Kinder Morgan Liquids Terminal - Harbor Island      SHAUNA KAY   \n",
       "5496  Kinder Morgan Liquids Terminal - Harbor Island      SHAUNA KAY   \n",
       "5805  Kinder Morgan Liquids Terminal - Harbor Island      SHAUNA KAY   \n",
       "7017  Kinder Morgan Liquids Terminal - Harbor Island      SHAUNA KAY   \n",
       "7590  Kinder Morgan Liquids Terminal - Harbor Island      SHAUNA KAY   \n",
       "7931  Kinder Morgan Liquids Terminal - Harbor Island          DOTTIE   \n",
       "7987  Kinder Morgan Liquids Terminal - Harbor Island      SHAUNA KAY   \n",
       "\n",
       "                        Product  TransferQtyInGallon TransferType  \\\n",
       "1152             BUNKER OIL/HFO              1680000        Cargo   \n",
       "1981               CUTTER STOCK               840000        Cargo   \n",
       "1982             BUNKER OIL/HFO               840000        Cargo   \n",
       "2941      DIESEL/MARINE GAS OIL               441000        Cargo   \n",
       "3635  DIESEL LOW SULPHUR (ULSD)               567000        Cargo   \n",
       "3965  DIESEL LOW SULPHUR (ULSD)               567000        Cargo   \n",
       "4495  DIESEL LOW SULPHUR (ULSD)               567000        Cargo   \n",
       "4837      DIESEL/MARINE GAS OIL               567000        Cargo   \n",
       "5243  DIESEL LOW SULPHUR (ULSD)               273000        Cargo   \n",
       "5496  DIESEL LOW SULPHUR (ULSD)               567000        Cargo   \n",
       "5805      DIESEL/MARINE GAS OIL               567000        Cargo   \n",
       "7017      DIESEL/MARINE GAS OIL               567000        Cargo   \n",
       "7590  DIESEL LOW SULPHUR (ULSD)               567000        Cargo   \n",
       "7931             BUNKER OIL/HFO              1680000        Cargo   \n",
       "7987  DIESEL LOW SULPHUR (ULSD)               567000        Cargo   \n",
       "\n",
       "     DelivererTypeDescription ReceiverTypeDescription  \n",
       "1152                 Facility              TANK BARGE  \n",
       "1981                 Facility              TANK BARGE  \n",
       "1982                 Facility              TANK BARGE  \n",
       "2941                 Facility              TANK BARGE  \n",
       "3635                 Facility              TANK BARGE  \n",
       "3965                 Facility              TANK BARGE  \n",
       "4495                 Facility              TANK BARGE  \n",
       "4837                 Facility              TANK BARGE  \n",
       "5243                 Facility              TANK BARGE  \n",
       "5496                 Facility              TANK BARGE  \n",
       "5805                 Facility              TANK BARGE  \n",
       "7017                 Facility              TANK BARGE  \n",
       "7590                 Facility              TANK BARGE  \n",
       "7931                 Facility              TANK BARGE  \n",
       "7987                 Facility              TANK BARGE  "
      ]
     },
     "execution_count": 47,
     "metadata": {},
     "output_type": "execute_result"
    }
   ],
   "source": [
    "kinder_sub = kinder_barge[kinder_barge.Receiver !=  'NATHAN SCHMIDT']\n",
    "leftover = kinder_sub[kinder_sub.Receiver !=  'DR. BONNIE W. RAMSEY']\n",
    "leftover"
   ]
  },
  {
   "cell_type": "code",
   "execution_count": null,
   "metadata": {},
   "outputs": [],
   "source": []
  }
 ],
 "metadata": {
  "kernelspec": {
   "display_name": "Python 3",
   "language": "python",
   "name": "python3"
  },
  "language_info": {
   "codemirror_mode": {
    "name": "ipython",
    "version": 3
   },
   "file_extension": ".py",
   "mimetype": "text/x-python",
   "name": "python",
   "nbconvert_exporter": "python",
   "pygments_lexer": "ipython3",
   "version": "3.8.5"
  }
 },
 "nbformat": 4,
 "nbformat_minor": 4
}
