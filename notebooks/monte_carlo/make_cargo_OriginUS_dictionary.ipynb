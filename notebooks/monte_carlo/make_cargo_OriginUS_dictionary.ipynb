{
 "cells": [
  {
   "cell_type": "markdown",
   "metadata": {},
   "source": [
    "### Oil type by origin \"US\" (general attribution)\n",
    "Goal: Determine general case of fuel allocation \n"
   ]
  },
  {
   "cell_type": "code",
   "execution_count": 1,
   "metadata": {},
   "outputs": [],
   "source": [
    "import pandas as pd\n",
    "import numpy as np\n",
    "import matplotlib.pyplot as plt\n",
    "import yaml"
   ]
  },
  {
   "cell_type": "code",
   "execution_count": 2,
   "metadata": {},
   "outputs": [],
   "source": [
    "# User inputs\n",
    "file_dir  = '/Users/rmueller/Data/MIDOSS/DeptOfEcology/'\n",
    "file_name = 'MuellerTrans4-30-20.xlsx'\n",
    "\n",
    "master_dir  = '/Users/rmueller/Projects/MIDOSS/analysis-rachael/notebooks/monte_carlo/'\n",
    "master_file = 'master.yaml'\n",
    "\n",
    "with open(f'{master_dir}{master_file}') as file:\n",
    "    master = yaml.safe_load(file)\n",
    "\n",
    "vessel_types = master['categories']['tank_vessels']\n",
    "fuel_types   = master['categories']['fuel_type']"
   ]
  },
  {
   "cell_type": "code",
   "execution_count": 3,
   "metadata": {},
   "outputs": [
    {
     "data": {
      "text/plain": [
       "['tanker', 'atb', 'barge']"
      ]
     },
     "execution_count": 3,
     "metadata": {},
     "output_type": "execute_result"
    }
   ],
   "source": [
    "vessel_types"
   ]
  },
  {
   "cell_type": "code",
   "execution_count": 4,
   "metadata": {},
   "outputs": [],
   "source": [
    "# Import columns are: (G) Deliverer, (H) Receiver, (P) Product, \n",
    "#                     (Q) Quantity in Gallons, (R) Transfer Type (Fueling, Cargo, or Other)', \n",
    "#                     (w) DelivererTypeDescription, (x) ReceiverTypeDescription \n",
    "df = pd.read_excel(f'{file_dir}{file_name}',sheet_name='Vessel Oil Transfer', \n",
    "                   usecols=\"G,H,P,Q,R,W,X\")"
   ]
  },
  {
   "cell_type": "markdown",
   "metadata": {},
   "source": [
    "#### Extract cargo data transferred from facility to vessel"
   ]
  },
  {
   "cell_type": "code",
   "execution_count": 5,
   "metadata": {},
   "outputs": [],
   "source": [
    "# list of names in DOE dataset that are used as \"DelivererTypeDescription\" for vessel transfers\n",
    "vessel_names = ['TANK SHIP', 'TANK BARGE', 'TUGBOAT']\n",
    "# Get all cargo fuel transfers\n",
    "bool_cargo = df['TransferType']=='Cargo'\n",
    "cargo_data = df[bool_cargo]\n",
    "cargo_from_facility = cargo_data[ cargo_data['DelivererTypeDescription']=='Facility' ]\n",
    "cargo_to_tank   = cargo_from_facility[ cargo_from_facility['ReceiverTypeDescription'] == 'TANK SHIP' ]\n",
    "cargo_to_barge  = cargo_from_facility[ cargo_from_facility['ReceiverTypeDescription'] == 'TANK BARGE' ] \n",
    "cargo_to_tug    = cargo_from_facility[ cargo_from_facility['ReceiverTypeDescription'] == 'TUGBOAT' ]\n",
    "\n",
    "# reset indices so they increase chronologically from 0 instead of keeping parent index values\n",
    "cargo_to_tank.reset_index( drop=True, inplace=True )\n",
    "cargo_to_barge.reset_index( drop=True, inplace=True )\n",
    "cargo_to_tug.reset_index( drop=True, inplace=True )"
   ]
  },
  {
   "cell_type": "code",
   "execution_count": 6,
   "metadata": {},
   "outputs": [],
   "source": [
    "[nrows,ncols] = cargo_to_barge.shape"
   ]
  },
  {
   "cell_type": "code",
   "execution_count": 7,
   "metadata": {},
   "outputs": [],
   "source": [
    "# create ATB and tank barge dataframes\n",
    "cargo_to_atb = pd.DataFrame(columns = cargo_to_barge.columns)\n",
    "for row in range(nrows):\n",
    "    if 'ITB' in cargo_to_barge.Receiver[row] or 'ATB' in cargo_to_barge.Receiver[row]:\n",
    "        cargo_to_atb = cargo_to_atb.append( cargo_to_barge.iloc[row] )\n",
    "\n",
    "for row in range(nrows):\n",
    "    if 'ITB' in cargo_to_barge.Receiver[row] or 'ATB' in cargo_to_barge.Receiver[row]:        \n",
    "        cargo_to_barge = cargo_to_barge.drop([row])\n",
    "\n",
    "\n",
    "# reset indexing        \n",
    "cargo_to_atb.reset_index( drop=True, inplace=True )"
   ]
  },
  {
   "cell_type": "code",
   "execution_count": 8,
   "metadata": {},
   "outputs": [],
   "source": [
    "# concatenate tank barge dataframes\n",
    "cargo_to_barge = pd.concat([cargo_to_barge, cargo_to_tug])\n",
    "\n",
    "# reset indexing\n",
    "cargo_to_barge.reset_index( drop=True, inplace=True )"
   ]
  },
  {
   "cell_type": "markdown",
   "metadata": {},
   "source": [
    "### Total up the volume of fuel by fuel category for vessel types used in this study"
   ]
  },
  {
   "cell_type": "code",
   "execution_count": 9,
   "metadata": {},
   "outputs": [],
   "source": [
    "# create dictionary structure\n",
    "US = {}\n",
    "for vessel in vessel_types:\n",
    "    US[vessel]={}\n",
    "    for fuel in fuel_types:\n",
    "        US[vessel][fuel]={}\n",
    "        US[vessel][fuel]['total_gallons']=0\n",
    "        US[vessel][fuel]['number_of_transfers']=0\n",
    "        US[vessel][fuel]['fraction_of_total']=0"
   ]
  },
  {
   "cell_type": "markdown",
   "metadata": {},
   "source": [
    "#### Tankers"
   ]
  },
  {
   "cell_type": "code",
   "execution_count": 10,
   "metadata": {},
   "outputs": [],
   "source": [
    "[nrows,ncols] = cargo_to_tank.shape\n",
    "label = 'tanker'\n",
    "for row in range(nrows):\n",
    "    \n",
    "    if 'CRUDE' in cargo_to_tank.Product[row]:\n",
    "        US[label]['akns']['total_gallons'] += cargo_to_tank.TransferQtyInGallon[row].item()\n",
    "        US[label]['akns']['number_of_transfers'] += 1\n",
    "\n",
    "    elif cargo_to_tank.Product[row] == 'BUNKER OIL/HFO':\n",
    "        US[label]['bunker']['total_gallons'] += cargo_to_tank.TransferQtyInGallon[row].item()\n",
    "        US[label]['bunker']['number_of_transfers'] += 1\n",
    "\n",
    "    elif cargo_to_tank.Product[row] == 'GASOLINE':\n",
    "        US[label]['gas']['total_gallons'] += cargo_to_tank.TransferQtyInGallon[row].item()\n",
    "        US[label]['gas']['number_of_transfers'] += 1\n",
    "\n",
    "    elif cargo_to_tank.Product[row] == 'JET FUEL/KEROSENE':\n",
    "        US[label]['jet']['total_gallons'] += cargo_to_tank.TransferQtyInGallon[row].item()\n",
    "        US[label]['jet']['number_of_transfers'] += 1\n",
    "\n",
    "    elif 'DIESEL' in cargo_to_tank.Product[row]: \n",
    "        # inclusive if BIODIESEL, DIESEL/MARINE GAS OIl, and DIESEL LOW SULPHUR (ULSD)\n",
    "        US[label]['diesel']['total_gallons'] += cargo_to_tank.TransferQtyInGallon[row].item()\n",
    "        US[label]['diesel']['number_of_transfers'] += 1\n",
    "\n",
    "    else:\n",
    "        US[label]['other']['total_gallons'] += cargo_to_tank.TransferQtyInGallon[row].item()\n",
    "        US[label]['other']['number_of_transfers'] += 1    "
   ]
  },
  {
   "cell_type": "code",
   "execution_count": 11,
   "metadata": {},
   "outputs": [
    {
     "data": {
      "text/plain": [
       "203598467"
      ]
     },
     "execution_count": 11,
     "metadata": {},
     "output_type": "execute_result"
    }
   ],
   "source": [
    "US[label]['other']['total_gallons']"
   ]
  },
  {
   "cell_type": "markdown",
   "metadata": {},
   "source": [
    "#### ATBs"
   ]
  },
  {
   "cell_type": "code",
   "execution_count": 12,
   "metadata": {},
   "outputs": [],
   "source": [
    "[nrows,ncols] = cargo_to_atb.shape\n",
    "label = 'atb'\n",
    "for row in range(nrows):\n",
    "    \n",
    "    if 'CRUDE' in cargo_to_atb.Product[row]:\n",
    "        ### WHY DOES ADDING A .ITEM() HERE GIVE AN ERROR WHEN IT DOESN'T ABOVE?\n",
    "        US[label]['akns']['total_gallons'] += cargo_to_atb.TransferQtyInGallon[row]\n",
    "        US[label]['akns']['number_of_transfers'] += 1\n",
    "\n",
    "    elif cargo_to_atb.Product[row] == 'BUNKER OIL/HFO':\n",
    "        US[label]['bunker']['total_gallons'] += cargo_to_atb.TransferQtyInGallon[row]\n",
    "        US[label]['bunker']['number_of_transfers'] += 1\n",
    "\n",
    "    elif cargo_to_atb.Product[row] == 'GASOLINE':\n",
    "        US[label]['gas']['total_gallons'] += cargo_to_atb.TransferQtyInGallon[row]\n",
    "        US[label]['gas']['number_of_transfers'] += 1\n",
    "\n",
    "    elif cargo_to_atb.Product[row] == 'JET FUEL/KEROSENE':\n",
    "        US[label]['jet']['total_gallons'] += cargo_to_atb.TransferQtyInGallon[row]\n",
    "        US[label]['jet']['number_of_transfers'] += 1\n",
    "\n",
    "    elif 'DIESEL' in cargo_to_atb.Product[row]: \n",
    "        # inclusive if BIODIESEL, DIESEL/MARINE GAS OIl, and DIESEL LOW SULPHUR (ULSD)\n",
    "        US[label]['diesel']['total_gallons'] += cargo_to_atb.TransferQtyInGallon[row]\n",
    "        US[label]['diesel']['number_of_transfers'] += 1\n",
    "\n",
    "    else:\n",
    "        US[label]['other']['total_gallons'] += cargo_to_atb.TransferQtyInGallon[row]\n",
    "        US[label]['other']['number_of_transfers'] += 1   "
   ]
  },
  {
   "cell_type": "markdown",
   "metadata": {},
   "source": [
    "#### Barges"
   ]
  },
  {
   "cell_type": "code",
   "execution_count": 13,
   "metadata": {},
   "outputs": [],
   "source": [
    "[nrows,ncols] = cargo_to_barge.shape\n",
    "label = 'barge'\n",
    "\n",
    "for row in range(nrows):\n",
    "    \n",
    "    if 'CRUDE' in cargo_to_barge.Product[row]:\n",
    "        US[label]['akns']['total_gallons'] += cargo_to_barge.TransferQtyInGallon[row].item()\n",
    "        US[label]['akns']['number_of_transfers'] += 1\n",
    "\n",
    "    elif cargo_to_barge.Product[row] == 'BUNKER OIL/HFO':\n",
    "        US[label]['bunker']['total_gallons'] += cargo_to_barge.TransferQtyInGallon[row].item()\n",
    "        US[label]['bunker']['number_of_transfers'] += 1\n",
    "\n",
    "    elif cargo_to_barge.Product[row] == 'GASOLINE':\n",
    "        US[label]['gas']['total_gallons'] += cargo_to_barge.TransferQtyInGallon[row].item()\n",
    "        US[label]['gas']['number_of_transfers'] += 1\n",
    "\n",
    "    elif cargo_to_barge.Product[row] == 'JET FUEL/KEROSENE':\n",
    "        US[label]['jet']['total_gallons'] += cargo_to_barge.TransferQtyInGallon[row].item()\n",
    "        US[label]['jet']['number_of_transfers'] += 1\n",
    "\n",
    "    elif 'DIESEL' in cargo_to_barge.Product[row]: \n",
    "        # inclusive if BIODIESEL, DIESEL/MARINE GAS OIl, and DIESEL LOW SULPHUR (ULSD)\n",
    "        US[label]['diesel']['total_gallons'] += cargo_to_barge.TransferQtyInGallon[row].item()\n",
    "        US[label]['diesel']['number_of_transfers'] += 1\n",
    "\n",
    "    else:\n",
    "        US[label]['other']['total_gallons'] += cargo_to_barge.TransferQtyInGallon[row].item()\n",
    "        US[label]['other']['number_of_transfers'] += 1   \n"
   ]
  },
  {
   "cell_type": "markdown",
   "metadata": {},
   "source": [
    "#### Determine percent oil for each oil type"
   ]
  },
  {
   "cell_type": "code",
   "execution_count": 14,
   "metadata": {},
   "outputs": [
    {
     "name": "stdout",
     "output_type": "stream",
     "text": [
      "tanker SHORTFALL:0.00010000000000010001 (corrected)\n",
      "atb SHORTFALL:9.999999999998899e-05 (corrected)\n"
     ]
    }
   ],
   "source": [
    "for vessel in vessel_types:\n",
    "\n",
    "    # first get the total transfers over all fuel types\n",
    "    total = sum([ US[vessel][fuel]['total_gallons'] for fuel in fuel_types ])\n",
    "\n",
    "    for fuel in fuel_types:\n",
    "  \n",
    "        # next calculate percentages\n",
    "        if total != 0:\n",
    "            US[vessel][fuel]['fraction_of_total'] = round(\n",
    "                US[vessel][fuel]['total_gallons'] / total, \n",
    "                4\n",
    "            )\n",
    "\n",
    "#  Check to make sure fraction of total sums to 1\n",
    "for vessel in vessel_types:\n",
    "    sum_check = [US[vessel][fuel]['fraction_of_total'] for fuel in fuel_types]\n",
    "    if sum(sum_check) != 1 and sum(sum_check) != 0:\n",
    "        # add oil to \"other\" category to fix sum to 1\n",
    "        shortfall  = 1-sum(sum_check)\n",
    "        US[vessel]['other']['fraction_of_total'] += shortfall\n",
    "        print(f'{vessel} SHORTFALL:{shortfall} (corrected)')\n",
    "\n",
    "        # double check\n",
    "        sum_check = [US[vessel][fuel]['fraction_of_total'] for fuel in fuel_types]\n",
    "        if sum(sum_check) != 1 and sum(sum_check) !=0 :\n",
    "            print(f'NOT THERE YET!: {vessel}, {facility}:{sum(sum_check_out)}')\n",
    "\n",
    "    elif sum(sum_check) != 1:\n",
    "        print(f' {vessel}:{sum(sum_check_in)}')\n",
    " "
   ]
  },
  {
   "cell_type": "code",
   "execution_count": 15,
   "metadata": {},
   "outputs": [],
   "source": [
    "with open(r'./US_origin.yaml', 'w') as file:\n",
    "    documents = yaml.safe_dump(US, file)"
   ]
  },
  {
   "cell_type": "markdown",
   "metadata": {},
   "source": [
    "#### Plot results"
   ]
  },
  {
   "cell_type": "code",
   "execution_count": 16,
   "metadata": {},
   "outputs": [
    {
     "data": {
      "text/plain": [
       "['akns', 'bunker', 'dilbit', 'jet', 'diesel', 'gas', 'other']"
      ]
     },
     "execution_count": 16,
     "metadata": {},
     "output_type": "execute_result"
    }
   ],
   "source": [
    "fuel_types"
   ]
  },
  {
   "cell_type": "code",
   "execution_count": 17,
   "metadata": {},
   "outputs": [
    {
     "data": {
      "text/plain": [
       "Text(0.5, 1.0, 'tanker fuel allocation for origin = US')"
      ]
     },
     "execution_count": 17,
     "metadata": {},
     "output_type": "execute_result"
    },
    {
     "data": {
      "image/png": "[encoded data removed]",
      "text/plain": [
       "<Figure size 432x288 with 1 Axes>"
      ]
     },
     "metadata": {},
     "output_type": "display_data"
    }
   ],
   "source": [
    "label = 'tanker'\n",
    "US_tank = [ US[label]['akns']['total_gallons'], \n",
    "                US[label]['bunker']['total_gallons'], \n",
    "                US[label]['dilbit']['total_gallons'], \n",
    "                US[label]['jet']['total_gallons'], \n",
    "                US[label]['diesel']['total_gallons'], \n",
    "                US[label]['gas']['total_gallons'], \n",
    "                US[label]['other']['total_gallons']\n",
    "               ]\n",
    "plt.gca().axis(\"equal\")\n",
    "plt.pie(US_tank, labels= fuel_types)\n",
    "plt.title(f'{label} fuel allocation for origin = US')"
   ]
  },
  {
   "cell_type": "code",
   "execution_count": 18,
   "metadata": {},
   "outputs": [
    {
     "data": {
      "text/plain": [
       "Text(0.5, 1.0, 'atb fuel allocation for origin = US')"
      ]
     },
     "execution_count": 18,
     "metadata": {},
     "output_type": "execute_result"
    },
    {
     "data": {
      "image/png": "[encoded data removed]",
      "text/plain": [
       "<Figure size 432x288 with 1 Axes>"
      ]
     },
     "metadata": {},
     "output_type": "display_data"
    }
   ],
   "source": [
    "label = 'atb'\n",
    "US_tank = [ US[label]['akns']['total_gallons'], \n",
    "                US[label]['bunker']['total_gallons'], \n",
    "                US[label]['dilbit']['total_gallons'], \n",
    "                US[label]['jet']['total_gallons'], \n",
    "                US[label]['diesel']['total_gallons'], \n",
    "                US[label]['gas']['total_gallons'], \n",
    "                US[label]['other']['total_gallons']\n",
    "               ]\n",
    "plt.gca().axis(\"equal\")\n",
    "plt.pie(US_tank, labels= fuel_types)\n",
    "plt.title(f'{label} fuel allocation for origin = US')"
   ]
  },
  {
   "cell_type": "code",
   "execution_count": 19,
   "metadata": {},
   "outputs": [
    {
     "data": {
      "text/plain": [
       "Text(0.5, 1.0, 'barge fuel allocation for origin = US')"
      ]
     },
     "execution_count": 19,
     "metadata": {},
     "output_type": "execute_result"
    },
    {
     "data": {
      "image/png": "[encoded data removed]",
      "text/plain": [
       "<Figure size 432x288 with 1 Axes>"
      ]
     },
     "metadata": {},
     "output_type": "display_data"
    }
   ],
   "source": [
    "label = 'barge'\n",
    "US_tank = [ US[label]['akns']['total_gallons'], \n",
    "                US[label]['bunker']['total_gallons'], \n",
    "                US[label]['dilbit']['total_gallons'], \n",
    "                US[label]['jet']['total_gallons'], \n",
    "                US[label]['diesel']['total_gallons'], \n",
    "                US[label]['gas']['total_gallons'], \n",
    "                US[label]['other']['total_gallons']\n",
    "               ]\n",
    "plt.gca().axis(\"equal\")\n",
    "plt.pie(US_tank, labels= fuel_types)\n",
    "plt.title(f'{label} fuel allocation for origin = US')"
   ]
  },
  {
   "cell_type": "code",
   "execution_count": 21,
   "metadata": {},
   "outputs": [
    {
     "data": {
      "image/png": "[encoded data removed]",
      "text/plain": [
       "<Figure size 1080x360 with 3 Axes>"
      ]
     },
     "metadata": {},
     "output_type": "display_data"
    }
   ],
   "source": [
    "import matplotlib.pyplot as plt\n",
    "\n",
    "# re-calc total transfers over all fuel types\n",
    "total_tanker = sum([ US['tanker'][fuel]['total_gallons'] for fuel in fuel_types ])\n",
    "total_atb    = sum([ US['atb'][fuel]['total_gallons'] for fuel in fuel_types ])\n",
    "total_barge  = sum([ US['barge'][fuel]['total_gallons'] for fuel in fuel_types ])\n",
    "\n",
    "total = [total_tanker, total_atb, total_barge]\n",
    "\n",
    "plot_array = np.empty(len(fuel_types))\n",
    "\n",
    "fig, axes = plt.subplots(1, len(vessel_types), figsize = (15,5))\n",
    "\n",
    "plt.text(0, 0.5, \n",
    "         'US', \n",
    "         ha='left',\n",
    "         fontsize=20,\n",
    "         wrap=True,\n",
    "         transform=plt.gcf().transFigure)\n",
    "\n",
    "for j in range(len(vessel_types)):\n",
    "    vessel = vessel_types[j]\n",
    "    # create array of total fuel volume by fuel type for each vessel at each facility\n",
    "    fuel_index = 0\n",
    "    for fuel in fuel_types:    \n",
    "        plot_array[fuel_index]=US[vessel][fuel]['total_gallons']\n",
    "        fuel_index += 1\n",
    "\n",
    "    axes[j].axis('equal')\n",
    "    axes[j].set_title(f'{total[j]:4.2e}\\n gallons',fontsize=18)\n",
    "\n",
    "    if plot_array.sum()>0:\n",
    "        axes[j].pie(plot_array, wedgeprops=dict(width=0.5), labels = fuel_types, textprops={'fontsize': 14})\n",
    "    else:\n",
    "        axes[j].axis('off')\n",
    "    axes[j].text(0,0,vessel,ha='center',fontsize=18)\n",
    "\n",
    "plt.savefig('US.png')"
   ]
  },
  {
   "cell_type": "code",
   "execution_count": null,
   "metadata": {},
   "outputs": [],
   "source": []
  }
 ],
 "metadata": {
  "kernelspec": {
   "display_name": "Python 3",
   "language": "python",
   "name": "python3"
  },
  "language_info": {
   "codemirror_mode": {
    "name": "ipython",
    "version": 3
   },
   "file_extension": ".py",
   "mimetype": "text/x-python",
   "name": "python",
   "nbconvert_exporter": "python",
   "pygments_lexer": "ipython3",
   "version": "3.9.2"
  }
 },
 "nbformat": 4,
 "nbformat_minor": 4
}
