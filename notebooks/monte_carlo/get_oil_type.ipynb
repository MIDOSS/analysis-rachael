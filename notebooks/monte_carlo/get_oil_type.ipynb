{
 "cells": [
  {
   "cell_type": "markdown",
   "metadata": {},
   "source": [
    "#### This notebook loads the .yaml files for origin/destination and selects oil type"
   ]
  },
  {
   "cell_type": "code",
   "execution_count": 18,
   "metadata": {},
   "outputs": [],
   "source": [
    "import pandas as pd\n",
    "import numpy as np\n",
    "import matplotlib.pyplot as plt\n",
    "import yaml\n",
    "import sys\n",
    "from numpy.random import choice"
   ]
  },
  {
   "cell_type": "code",
   "execution_count": 20,
   "metadata": {},
   "outputs": [],
   "source": [
    "yaml_directory = '/Users/rmueller/Projects/MIDOSS/analysis-rachael/notebooks/monte_carlo/'\n",
    "vessel_type = 'atb'\n",
    "origin = 'Westridge Marine Terminal'\n",
    "destination = 'U.S. Oil & Refining'\n",
    "\n",
    "# list of acceptable names\n",
    "vessel_type_required = [\"tanker\", \"atb\", \"barge\", \"cargo\", \"cruise\",\n",
    "                     \"ferry\", \"fishing\", \"smallpass\", \"other\"]\n",
    "list_of_oil_types    = ['akns', 'dilbit', 'bunker', 'jet', 'diesel', 'gas', 'other']"
   ]
  },
  {
   "cell_type": "code",
   "execution_count": 3,
   "metadata": {},
   "outputs": [],
   "source": [
    "if vessel_type not in vessel_type_required:\n",
    "    sys.exit('vessel type needs to be one of: ' + f'{vessel_type_required}')\n",
    "\n",
    "with open(f'{yaml_directory}' + 'cargo_WA_origin.yaml') as file:\n",
    "    WA_origin = yaml.safe_load(file)\n",
    "with open(f'{yaml_directory}' + 'cargo_WA_destination.yaml') as file:\n",
    "    WA_destination = yaml.safe_load(file)\n",
    "with open(f'{yaml_directory}' + 'cargo_CAD.yaml') as file:  \n",
    "    CAD_facilities = yaml.safe_load(file)\n"
   ]
  },
  {
   "cell_type": "code",
   "execution_count": 4,
   "metadata": {},
   "outputs": [
    {
     "data": {
      "text/plain": [
       "['BP Cherry Point Refinery',\n",
       " 'Shell Puget Sound Refinery',\n",
       " 'Shell Oil LP Seattle Distribution Terminal',\n",
       " 'Maxum (Rainer Petroleum)',\n",
       " 'Tidewater Snake River Terminal',\n",
       " 'Nustar Energy Tacoma',\n",
       " 'SeaPort Sound Terminal',\n",
       " 'Tesoro Vancouver Terminal',\n",
       " 'Phillips 66 Ferndale Refinery',\n",
       " 'Phillips 66 Tacoma Terminal',\n",
       " 'Andeavor Anacortes Refinery (formerly Tesoro)',\n",
       " 'Tesoro Port Angeles Terminal',\n",
       " 'U.S. Oil & Refining',\n",
       " 'Naval Air Station Whidbey Island (NASWI)',\n",
       " 'NAVSUP Manchester',\n",
       " 'Alon Asphalt Company (Paramount Petroleum)',\n",
       " 'Kinder Morgan Liquids Terminal - Harbor Island',\n",
       " 'Nustar Energy Tacoma',\n",
       " 'Tesoro Pasco Terminal',\n",
       " 'REG Grays Harbor, LLC',\n",
       " 'Tidewater Vancouver Terminal',\n",
       " 'TLP Management Services LLC (TMS)']"
      ]
     },
     "execution_count": 4,
     "metadata": {},
     "output_type": "execute_result"
    }
   ],
   "source": [
    "WA_origin['names']\n"
   ]
  },
  {
   "cell_type": "code",
   "execution_count": 5,
   "metadata": {},
   "outputs": [
    {
     "data": {
      "text/plain": [
       "['ESSO Nanaimo Departure Bay',\n",
       " 'Suncor Nanaimo',\n",
       " 'Shell Chemainus Bare Point',\n",
       " 'Chevron Cobble Hill',\n",
       " 'Chevron Stanovan',\n",
       " 'Barge Mooring Near Stanovan',\n",
       " 'Shell Shellburn',\n",
       " 'Westridge Marine Terminal',\n",
       " 'ESSO IOCO Vancouver',\n",
       " 'Suncor Vancouver']"
      ]
     },
     "execution_count": 5,
     "metadata": {},
     "output_type": "execute_result"
    }
   ],
   "source": [
    "CAD_facilities['names']"
   ]
  },
  {
   "cell_type": "code",
   "execution_count": 15,
   "metadata": {},
   "outputs": [],
   "source": [
    "# initialize what will become the array for weighting fuel type\n",
    "percent = np.array([])\n",
    "\n",
    "if origin in WA_origin:\n",
    "    \n",
    "    for oil in list_of_oil_types:\n",
    "        percent = np.append(percent, WA_origin[f'{origin}'][f'{vessel_type}'][f'{oil}']['percent_of_total'])\n",
    "    \n",
    "elif origin in CAD_facilities:\n",
    "\n",
    "    for oil in list_of_oil_types:\n",
    "        percent = np.append(percent, CAD_facilities[f'{origin}'][f'{vessel_type}'][f'{oil}']['percent_of_total'])\n",
    "\n",
    "else: # origin not from listed facilities\n",
    "    \n",
    "    if destination in WA_destination:\n",
    "        \n",
    "        for oil in list_of_oil_types:\n",
    "            percent = np.append(percent, WA_destination[f'{origin}'][f'{vessel_type}'][f'{oil}']['percent_of_total'])\n",
    "\n",
    "    elif destination in CAD_facilities:\n",
    "         \n",
    "        for oil in list_of_oil_types:\n",
    "            percent = np.append(percent, CAD_facilities[f'{origin}'][f'{vessel_type}'][f'{oil}']['percent_of_total'])\n",
    "            \n",
    "    else:            \n",
    "        \n",
    "        sys.exit('incorrect origin/destination designation')\n",
    "        "
   ]
  },
  {
   "cell_type": "code",
   "execution_count": 16,
   "metadata": {},
   "outputs": [
    {
     "data": {
      "text/plain": [
       "array([ 75.,  25.,   0.,   0.,   0.,   0.,   0.])"
      ]
     },
     "execution_count": 16,
     "metadata": {},
     "output_type": "execute_result"
    }
   ],
   "source": [
    "percent"
   ]
  },
  {
   "cell_type": "code",
   "execution_count": 25,
   "metadata": {},
   "outputs": [],
   "source": [
    "oil_type = choice(list_of_oil_types, \n",
    "                      1000 , \n",
    "                      p = percent/100)"
   ]
  },
  {
   "cell_type": "code",
   "execution_count": 33,
   "metadata": {},
   "outputs": [
    {
     "data": {
      "text/plain": [
       "array(['akns', 'akns', 'akns', 'akns', 'akns', 'akns', 'akns', 'akns',\n",
       "       'akns', 'dilbit'],\n",
       "      dtype='<U6')"
      ]
     },
     "execution_count": 33,
     "metadata": {},
     "output_type": "execute_result"
    }
   ],
   "source": [
    "oil_type[0:10]"
   ]
  },
  {
   "cell_type": "code",
   "execution_count": 27,
   "metadata": {},
   "outputs": [
    {
     "data": {
      "text/plain": [
       "734"
      ]
     },
     "execution_count": 27,
     "metadata": {},
     "output_type": "execute_result"
    }
   ],
   "source": [
    "np.sum(oil_type == 'akns')"
   ]
  },
  {
   "cell_type": "code",
   "execution_count": 28,
   "metadata": {},
   "outputs": [
    {
     "data": {
      "text/plain": [
       "266"
      ]
     },
     "execution_count": 28,
     "metadata": {},
     "output_type": "execute_result"
    }
   ],
   "source": [
    "np.sum(oil_type == 'dilbit')"
   ]
  },
  {
   "cell_type": "code",
   "execution_count": 29,
   "metadata": {},
   "outputs": [
    {
     "data": {
      "text/plain": [
       "0.266"
      ]
     },
     "execution_count": 29,
     "metadata": {},
     "output_type": "execute_result"
    }
   ],
   "source": [
    "266/(734+266)"
   ]
  },
  {
   "cell_type": "code",
   "execution_count": null,
   "metadata": {},
   "outputs": [],
   "source": []
  }
 ],
 "metadata": {
  "kernelspec": {
   "display_name": "Python 3",
   "language": "python",
   "name": "python3"
  },
  "language_info": {
   "codemirror_mode": {
    "name": "ipython",
    "version": 3
   },
   "file_extension": ".py",
   "mimetype": "text/x-python",
   "name": "python",
   "nbconvert_exporter": "python",
   "pygments_lexer": "ipython3",
   "version": "3.6.5"
  }
 },
 "nbformat": 4,
 "nbformat_minor": 2
}
