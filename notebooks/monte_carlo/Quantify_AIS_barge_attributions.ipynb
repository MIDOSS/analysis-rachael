{
 "cells": [
  {
   "cell_type": "code",
   "execution_count": 1,
   "id": "d25ac8f0",
   "metadata": {
    "scrolled": true
   },
   "outputs": [
    {
     "data": {
      "text/html": [
       "<div>\n",
       "<style scoped>\n",
       "    .dataframe tbody tr th:only-of-type {\n",
       "        vertical-align: middle;\n",
       "    }\n",
       "\n",
       "    .dataframe tbody tr th {\n",
       "        vertical-align: top;\n",
       "    }\n",
       "\n",
       "    .dataframe thead th {\n",
       "        text-align: right;\n",
       "    }\n",
       "</style>\n",
       "<table border=\"1\" class=\"dataframe\">\n",
       "  <thead>\n",
       "    <tr style=\"text-align: right;\">\n",
       "      <th></th>\n",
       "      <th>MMSI_NUM</th>\n",
       "      <th>ST_DATE</th>\n",
       "      <th>EN_DATE</th>\n",
       "      <th>LENGTH</th>\n",
       "      <th>TO</th>\n",
       "      <th>FROM_</th>\n",
       "      <th>geometry</th>\n",
       "    </tr>\n",
       "  </thead>\n",
       "  <tbody>\n",
       "    <tr>\n",
       "      <th>0</th>\n",
       "      <td>316001223.0</td>\n",
       "      <td>2018-01-01 00:03:48</td>\n",
       "      <td>2018-01-01 00:05:58</td>\n",
       "      <td>41</td>\n",
       "      <td>US</td>\n",
       "      <td>US</td>\n",
       "      <td>LINESTRING (-122.77574 48.33663, -122.77796 48...</td>\n",
       "    </tr>\n",
       "  </tbody>\n",
       "</table>\n",
       "</div>"
      ],
      "text/plain": [
       "      MMSI_NUM              ST_DATE              EN_DATE  LENGTH  TO FROM_  \\\n",
       "0  316001223.0  2018-01-01 00:03:48  2018-01-01 00:05:58      41  US    US   \n",
       "\n",
       "                                            geometry  \n",
       "0  LINESTRING (-122.77574 48.33663, -122.77796 48...  "
      ]
     },
     "execution_count": 1,
     "metadata": {},
     "output_type": "execute_result"
    }
   ],
   "source": [
    "# import necessary packages\n",
    "import os\n",
    "import pandas\n",
    "import numpy\n",
    "import matplotlib.pyplot as plt\n",
    "import geopandas as gpd\n",
    "from pathlib import Path\n",
    "# import function for querying DOE dataframes\n",
    "from monte_carlo_utils import get_DOE_atb, get_DOE_barges\n",
    "\n",
    "# set file location and name\n",
    "atb_shp_path = Path('/data/MIDOSS/shapefiles/atb_2018_01.shp')\n",
    "barge_shp_path = Path('/data/MIDOSS/shapefiles/barge_2018_01.shp')\n",
    "doe_xls_path = Path('/data/MIDOSS/spreadsheets/MuellerTrans4-30-20.xlsx')\n",
    "fac_xls_path = Path(\n",
    "    '/home/rmueller/Projects/MIDOSS/marine_transport_data/Oil_Transfer_Facilities.xlsx'\n",
    ")\n",
    "\n",
    "# import facility locations\n",
    "facWA = pandas.read_excel(\n",
    "    fac_xls_path,\n",
    "    sheet_name = 'Washington',\n",
    "    usecols=\"B,D,J,K\"\n",
    ")\n",
    "\n",
    "# import shapefile using geopandas\n",
    "allTracks = {} \n",
    "allTracks['atb']= gpd.read_file(atb_shp_path)\n",
    "allTracks['barge'] = gpd.read_file(barge_shp_path)\n",
    "\n",
    "# view  the top 6 lines of attribute table of data\n",
    "allTracks['atb'].head(1)"
   ]
  },
  {
   "cell_type": "code",
   "execution_count": 2,
   "id": "fc7f40df",
   "metadata": {},
   "outputs": [],
   "source": [
    "def concat_shp(ship_type):\n",
    "    \"\"\"\n",
    "      INPUT: \n",
    "          - ship_type [\"tanker\", \"barge\", \"atb\", etc]: MIDOSS-name for ship type (see oil_attribution.yaml for list)\n",
    "      OUTPUT: \n",
    "          - dataframe of all 2018 ship tracks for given ship_type\n",
    "      requirements: \n",
    "          This script requires being run on Salish.eoas.ubc.ca, with path to shapefiles being /data/MIDOSS/shapefiles/\n",
    "    \"\"\"\n",
    "    for months in range(1,13):\n",
    "        # set file location and name\n",
    "        shp_path = Path(f'/data/MIDOSS/shapefiles/{ship_type}_2018_{months:02d}.shp')\n",
    "        # import shapefile using geopandas\n",
    "        monthly_shp = gpd.read_file(shp_path)\n",
    "        if months == 1:\n",
    "            print(f'creating {ship_type} shapefile for 2018, starting with January data')\n",
    "            allTracks = monthly_shp\n",
    "        else:\n",
    "            print(f'Concatenating {ship_type} data from month {months}')\n",
    "            allTracks = gpd.GeoDataFrame(\n",
    "                pandas.concat([allTracks, monthly_shp])\n",
    "            )\n",
    "    return allTracks"
   ]
  },
  {
   "cell_type": "markdown",
   "id": "1b39877f",
   "metadata": {},
   "source": [
    "# Concatenate all monthly ship track data to get values for entire year"
   ]
  },
  {
   "cell_type": "markdown",
   "id": "fc524267",
   "metadata": {},
   "source": [
    "### ATBs"
   ]
  },
  {
   "cell_type": "code",
   "execution_count": 3,
   "id": "d4ca92eb",
   "metadata": {
    "scrolled": true
   },
   "outputs": [
    {
     "name": "stdout",
     "output_type": "stream",
     "text": [
      "creating atb shapefile for 2018, starting with January data\n",
      "Concatenating atb data from month 2\n",
      "Concatenating atb data from month 3\n",
      "Concatenating atb data from month 4\n",
      "Concatenating atb data from month 5\n",
      "Concatenating atb data from month 6\n",
      "Concatenating atb data from month 7\n",
      "Concatenating atb data from month 8\n",
      "Concatenating atb data from month 9\n",
      "Concatenating atb data from month 10\n",
      "Concatenating atb data from month 11\n",
      "Concatenating atb data from month 12\n",
      "CPU times: user 40.4 s, sys: 819 ms, total: 41.2 s\n",
      "Wall time: 42.5 s\n"
     ]
    }
   ],
   "source": [
    "%%time\n",
    "allTracks = {} \n",
    "allTracks[\"atb\"] = concat_shp(\"atb\")"
   ]
  },
  {
   "cell_type": "code",
   "execution_count": 46,
   "id": "3db23640",
   "metadata": {},
   "outputs": [
    {
     "ename": "ModuleNotFoundError",
     "evalue": "No module named 'dask'",
     "output_type": "error",
     "traceback": [
      "\u001b[0;31m---------------------------------------------------------------------------\u001b[0m",
      "\u001b[0;31mModuleNotFoundError\u001b[0m                       Traceback (most recent call last)",
      "\u001b[0;32m/tmp/ipykernel_22704/951178721.py\u001b[0m in \u001b[0;36m<module>\u001b[0;34m\u001b[0m\n\u001b[1;32m      1\u001b[0m \u001b[0;31m# play around with parallelizing for efficiency\u001b[0m\u001b[0;34m\u001b[0m\u001b[0;34m\u001b[0m\u001b[0;34m\u001b[0m\u001b[0m\n\u001b[0;32m----> 2\u001b[0;31m \u001b[0;32mfrom\u001b[0m \u001b[0mdask\u001b[0m \u001b[0;32mimport\u001b[0m \u001b[0mdelayed\u001b[0m\u001b[0;34m\u001b[0m\u001b[0;34m\u001b[0m\u001b[0m\n\u001b[0m\u001b[1;32m      3\u001b[0m \u001b[0mtest\u001b[0m \u001b[0;34m=\u001b[0m \u001b[0mdelayed\u001b[0m\u001b[0;34m(\u001b[0m\u001b[0mconcat_shp\u001b[0m\u001b[0;34m(\u001b[0m\u001b[0;34m\"atb\"\u001b[0m\u001b[0;34m)\u001b[0m\u001b[0;34m)\u001b[0m\u001b[0;34m\u001b[0m\u001b[0;34m\u001b[0m\u001b[0m\n\u001b[1;32m      4\u001b[0m \u001b[0mtest\u001b[0m\u001b[0;34m.\u001b[0m\u001b[0mcompute\u001b[0m\u001b[0;34m(\u001b[0m\u001b[0;34m)\u001b[0m\u001b[0;34m\u001b[0m\u001b[0;34m\u001b[0m\u001b[0m\n",
      "\u001b[0;31mModuleNotFoundError\u001b[0m: No module named 'dask'"
     ]
    }
   ],
   "source": [
    "# play around with parallelizing for efficiency\n",
    "from dask import delayed\n",
    "test = delayed(concat_shp(\"atb\"))\n",
    "test.compute()"
   ]
  },
  {
   "cell_type": "markdown",
   "id": "c2f61c95",
   "metadata": {},
   "source": [
    "### Barges"
   ]
  },
  {
   "cell_type": "code",
   "execution_count": 4,
   "id": "02f71f5c",
   "metadata": {},
   "outputs": [
    {
     "name": "stdout",
     "output_type": "stream",
     "text": [
      "creating barge shapefile for 2018, starting with January data\n",
      "Concatenating barge data from month 2\n",
      "Concatenating barge data from month 3\n",
      "Concatenating barge data from month 4\n",
      "Concatenating barge data from month 5\n",
      "Concatenating barge data from month 6\n",
      "Concatenating barge data from month 7\n",
      "Concatenating barge data from month 8\n",
      "Concatenating barge data from month 9\n",
      "Concatenating barge data from month 10\n",
      "Concatenating barge data from month 11\n",
      "Concatenating barge data from month 12\n",
      "CPU times: user 15min 39s, sys: 36.7 s, total: 16min 16s\n",
      "Wall time: 16min 18s\n"
     ]
    }
   ],
   "source": [
    "%%time\n",
    "allTracks[\"barge\"] = concat_shp(\"barge\")"
   ]
  },
  {
   "cell_type": "markdown",
   "id": "27bb4a57",
   "metadata": {},
   "source": [
    "### Tankers"
   ]
  },
  {
   "cell_type": "code",
   "execution_count": 5,
   "id": "225fd7c9",
   "metadata": {},
   "outputs": [
    {
     "name": "stdout",
     "output_type": "stream",
     "text": [
      "creating tanker shapefile for 2018, starting with January data\n",
      "Concatenating tanker data from month 2\n",
      "Concatenating tanker data from month 3\n",
      "Concatenating tanker data from month 4\n",
      "Concatenating tanker data from month 5\n",
      "Concatenating tanker data from month 6\n",
      "Concatenating tanker data from month 7\n",
      "Concatenating tanker data from month 8\n",
      "Concatenating tanker data from month 9\n",
      "Concatenating tanker data from month 10\n",
      "Concatenating tanker data from month 11\n",
      "Concatenating tanker data from month 12\n",
      "CPU times: user 1min 20s, sys: 2.21 s, total: 1min 22s\n",
      "Wall time: 1min 23s\n"
     ]
    }
   ],
   "source": [
    "%%time\n",
    "ship_type = \"tanker\"\n",
    "allTracks[\"tanker\"] = concat_shp(\"tanker\")"
   ]
  },
  {
   "cell_type": "markdown",
   "id": "aa45ad16",
   "metadata": {},
   "source": [
    "## Check barge ship track count used in ping-to-transfer ratio estimate\n",
    "- values recorded in `Origin_Destination_Analysis_updated.xlsx`"
   ]
  },
  {
   "cell_type": "code",
   "execution_count": 47,
   "id": "dc2bae21",
   "metadata": {},
   "outputs": [
    {
     "name": "stdout",
     "output_type": "stream",
     "text": [
      "588136 ATB ship tracks\n",
      "cf. 588,136 ATB ship tracks used in ping-to-transfer estimate\n",
      "13902896 barge ship tracks\n"
     ]
    }
   ],
   "source": [
    "print(f'{allTracks[\"atb\"].shape[0]} ATB ship tracks')\n",
    "print(f'cf. 588,136 ATB ship tracks used in ping-to-transfer estimate')\n",
    "print(f'{allTracks[\"barge\"].shape[0]} barge ship tracks')"
   ]
  },
  {
   "cell_type": "markdown",
   "id": "dd9b3e55",
   "metadata": {},
   "source": [
    "## Find all ATB and barge tracks with generic attribution as both origin and destination"
   ]
  },
  {
   "cell_type": "code",
   "execution_count": 6,
   "id": "acd6fbc4",
   "metadata": {},
   "outputs": [],
   "source": [
    "attribution = ['US','Canada','Pacific']\n",
    "noNone = {}\n",
    "allNone = {}\n",
    "generic = {}\n",
    "\n",
    "for vessel_type in [\"atb\",'barge']:\n",
    "    generic[vessel_type] = allTracks[vessel_type].loc[\n",
    "        (allTracks[vessel_type].TO.isin(attribution)) & \n",
    "        (allTracks[vessel_type].FROM_.isin(attribution))\n",
    "    ]"
   ]
  },
  {
   "cell_type": "code",
   "execution_count": 7,
   "id": "ad247870",
   "metadata": {},
   "outputs": [
    {
     "data": {
      "text/plain": [
       "(5865057, 7)"
      ]
     },
     "execution_count": 7,
     "metadata": {},
     "output_type": "execute_result"
    }
   ],
   "source": [
    "generic[\"barge\"].shape"
   ]
  },
  {
   "cell_type": "markdown",
   "id": "eee418db",
   "metadata": {},
   "source": [
    "### Find all ship tracks with origin or destination as marine terminal\n",
    "- compare this value to frac[vessel_type][\"marine_terminal\"] to quantify how many ship tracks have mixed origin/destation as marine_terminal/generic (I don't think mixed with None is possible). "
   ]
  },
  {
   "cell_type": "code",
   "execution_count": 56,
   "id": "b3eb4d04",
   "metadata": {},
   "outputs": [],
   "source": [
    "allfac = {}\n",
    "toWA = {}\n",
    "fromWA = {}\n",
    "bothWA = {}\n",
    "for vessel_type in [\"atb\",'barge']:\n",
    "    allfac[vessel_type] = allTracks[vessel_type].loc[\n",
    "        ((allTracks[vessel_type].TO.isin(facWA.FacilityName)) |\n",
    "         (allTracks[vessel_type].FROM_.isin(facWA.FacilityName)))\n",
    "    ]\n",
    "    toWA[vessel_type] = allTracks[vessel_type].loc[\n",
    "        (allTracks[vessel_type].TO.isin(facWA.FacilityName))\n",
    "    ] \n",
    "    fromWA[vessel_type] = allTracks[vessel_type].loc[\n",
    "         (allTracks[vessel_type].FROM_.isin(facWA.FacilityName))\n",
    "    ] \n",
    "    bothWA[vessel_type] = allTracks[vessel_type].loc[\n",
    "        ((allTracks[vessel_type].TO.isin(facWA.FacilityName)) &\n",
    "         (allTracks[vessel_type].FROM_.isin(facWA.FacilityName)))\n",
    "    ] "
   ]
  },
  {
   "cell_type": "code",
   "execution_count": 59,
   "id": "4a29cc85",
   "metadata": {},
   "outputs": [
    {
     "name": "stdout",
     "output_type": "stream",
     "text": [
      "To OR From: 129165\n",
      "To AND From: 13238\n",
      "To: 58520\n",
      "From: 83883\n",
      "To + From: 142403\n",
      "To + From - \"To AND from\": 129165\n"
     ]
    }
   ],
   "source": [
    "print(f'To OR From: {allfac[\"atb\"].shape[0]}')  \n",
    "print(f'To AND From: {bothWA[\"atb\"].shape[0]}')  \n",
    "print(f'To: {toWA[\"atb\"].shape[0]}')\n",
    "print(f'From: {fromWA[\"atb\"].shape[0]}')\n",
    "print(f'To + From: {toWA[\"atb\"].shape[0] + fromWA[\"atb\"].shape[0]}')\n",
    "print(f'To + From - \"To AND from\": {toWA[\"atb\"].shape[0] + fromWA[\"atb\"].shape[0] - bothWA[\"atb\"].shape[0]}')"
   ]
  },
  {
   "cell_type": "markdown",
   "id": "f019991d",
   "metadata": {},
   "source": [
    "##### TAKE-AWAY: \n",
    "- 129165 ship tracks are to or from WA marine terminals with \n",
    "- 13238 of these having WA marine terminal as both to and from\n",
    "- The remainder are mixed with origin or destination as WA marine terminal and the other end-member being US, Pacific, Canada or CAD marine terminal (None values shouldn't be includeded here) "
   ]
  },
  {
   "cell_type": "markdown",
   "id": "2291baea",
   "metadata": {},
   "source": [
    "##### TEST: \n",
    "- All tracks = Generic + allFac + None"
   ]
  },
  {
   "cell_type": "code",
   "execution_count": 61,
   "id": "dd21ebff",
   "metadata": {},
   "outputs": [
    {
     "name": "stdout",
     "output_type": "stream",
     "text": [
      "All tracks = Generic + allFac + allNone\n",
      "588136 = 476681\n"
     ]
    }
   ],
   "source": [
    "print(f'All tracks = Generic + allFac + allNone')\n",
    "print(f'{allTracks[\"atb\"].shape[0]} = {generic[\"atb\"].shape[0] + allfac[\"atb\"].shape[0] + allNone[\"atb\"].shape[0]}')"
   ]
  },
  {
   "cell_type": "code",
   "execution_count": 63,
   "id": "9a7e18c9",
   "metadata": {},
   "outputs": [
    {
     "data": {
      "text/plain": [
       "0"
      ]
     },
     "execution_count": 63,
     "metadata": {},
     "output_type": "execute_result"
    }
   ],
   "source": [
    "# the difference in the above is either CAD terminals <-> WA terminals or None <-> WA terminals\n",
    "# See if there are NONE values in allfac\n",
    "# keep rows with None attribution \n",
    "vessel_type = \"atb\"\n",
    "shp_tmp = allfac[vessel_type].isnull()\n",
    "row_has_None = shp_tmp.any(axis=1)\n",
    "test = allfac[vessel_type][row_has_None]\n",
    "test.shape[0]"
   ]
  },
  {
   "cell_type": "code",
   "execution_count": 65,
   "id": "651c4129",
   "metadata": {},
   "outputs": [],
   "source": [
    "# Good!  So 588136 - 476681  = 111455 => CAD traffic.  Test..."
   ]
  },
  {
   "cell_type": "code",
   "execution_count": 58,
   "id": "502d35d6",
   "metadata": {},
   "outputs": [
    {
     "name": "stdout",
     "output_type": "stream",
     "text": [
      "Attributed (no None in to or from): 359943\n",
      "Generic (to AND from): 119323\n",
      "Attributed - Generic = 240620\n",
      "Marine terminal (to or from): 129165\n"
     ]
    }
   ],
   "source": [
    "# compare ATB tracks\n",
    "vessel_type = \"atb\"\n",
    "print(f'Attributed (no None in to or from): {noNone[vessel_type].shape[0]}')\n",
    "print(f'Generic (to AND from): {generic[vessel_type].shape[0]}')\n",
    "print(f'Attributed - Generic = {noNone[vessel_type].shape[0] - generic[vessel_type].shape[0]}')\n",
    "print(f'Marine terminal (to or from): {allfac[vessel_type].shape[0]}')"
   ]
  },
  {
   "cell_type": "markdown",
   "id": "5eac272d",
   "metadata": {},
   "source": [
    "## Find all ship tracks with None as origin and destination"
   ]
  },
  {
   "cell_type": "code",
   "execution_count": 8,
   "id": "61effbec",
   "metadata": {},
   "outputs": [],
   "source": [
    "for vessel_type in [\"atb\",'barge']:\n",
    "    # keep rows with None attribution \n",
    "    shp_tmp = allTracks[vessel_type].isnull()\n",
    "    row_has_None = shp_tmp.any(axis=1)\n",
    "    allNone[vessel_type] = allTracks[vessel_type][row_has_None]"
   ]
  },
  {
   "cell_type": "markdown",
   "id": "887bbc5e",
   "metadata": {},
   "source": [
    "## Find all ship tracks with no None designations in either origin or destination"
   ]
  },
  {
   "cell_type": "code",
   "execution_count": 9,
   "id": "15c18288",
   "metadata": {},
   "outputs": [],
   "source": [
    "for vessel_type in [\"atb\",'barge']:\n",
    "    # drop rows with None attribution\n",
    "    noNone[vessel_type] = allTracks[vessel_type].dropna().reset_index(drop=True)"
   ]
  },
  {
   "cell_type": "code",
   "execution_count": 10,
   "id": "722904f2",
   "metadata": {},
   "outputs": [
    {
     "name": "stdout",
     "output_type": "stream",
     "text": [
      "~~~  atb ~~~\n",
      "Fraction of atb tracks that are unattributed: 0.38799359331855215\n",
      "Fraction of atb tracks that are attributed: 0.6120064066814478\n",
      "Fraction of attributed atb tracks that are generic : 0.20288334670892447\n",
      "Fraction of attributed atb tracks that are linked to marine terminal: 0.4091230599725233\n",
      "~~~  barge ~~~\n",
      "Fraction of barge tracks that are unattributed: 0.4340840929832173\n",
      "Fraction of barge tracks that are attributed: 0.5659159070167827\n",
      "Fraction of attributed barge tracks that are generic : 0.4218586544846484\n",
      "Fraction of attributed barge tracks that are linked to marine terminal: 0.14405725253213436\n"
     ]
    }
   ],
   "source": [
    "# create a dictionary of ratios between subsampled data and all ship tracks\n",
    "frac = {}\n",
    "frac['atb'] = {}\n",
    "frac['barge'] = {}\n",
    "for vessel_type in [\"atb\",\"barge\"]:\n",
    "    frac[vessel_type][\"unattributed\"] = allNone[vessel_type].shape[0]/allTracks[vessel_type].shape[0]\n",
    "    frac[vessel_type][\"attributed\"] = noNone[vessel_type].shape[0]/allTracks[vessel_type].shape[0]\n",
    "    frac[vessel_type][\"generic\"] = generic[vessel_type].shape[0]/allTracks[vessel_type].shape[0]\n",
    "    frac[vessel_type][\"marine_terminal\"] = frac[vessel_type][\"attributed\"] - frac[vessel_type][\"generic\"]\n",
    "    print(f'~~~  {vessel_type} ~~~')\n",
    "    print(f'Fraction of {vessel_type} tracks that are unattributed: {frac[vessel_type][\"unattributed\"]}')\n",
    "    print(f'Fraction of {vessel_type} tracks that are attributed: {frac[vessel_type][\"attributed\"]}')\n",
    "    print(f'Fraction of attributed {vessel_type} tracks that are generic : {frac[vessel_type][\"generic\"]}')\n",
    "    print(f'Fraction of attributed {vessel_type} tracks that are linked to marine terminal: {frac[vessel_type][\"marine_terminal\"]}')"
   ]
  },
  {
   "cell_type": "code",
   "execution_count": 11,
   "id": "0ff79bd4",
   "metadata": {},
   "outputs": [
    {
     "name": "stdout",
     "output_type": "stream",
     "text": [
      "Total number of tracks for atb: 5.88e+05\n",
      "Total number of tracks for barge: 1.39e+07\n"
     ]
    }
   ],
   "source": [
    "for vessel_type in [\"atb\",\"barge\"]:\n",
    "    print(f'Total number of tracks for {vessel_type}: {allTracks[vessel_type].shape[0]:1.2e}')"
   ]
  },
  {
   "cell_type": "code",
   "execution_count": 12,
   "id": "c1f7bdc5",
   "metadata": {},
   "outputs": [
    {
     "name": "stdout",
     "output_type": "stream",
     "text": [
      "Total number of unattributed barge tracks: 6035026.00\n",
      "Total number of generically-attributed barge tracks: 5865057.00\n",
      "Total number of marine-terminal-attributed barge tracks: 2002813.00\n"
     ]
    }
   ],
   "source": [
    "print(f'Total number of unattributed barge tracks: {allTracks[vessel_type].shape[0]*frac[vessel_type][\"unattributed\"]:10.2f}')\n",
    "print(f'Total number of generically-attributed barge tracks: {allTracks[vessel_type].shape[0]*frac[vessel_type][\"generic\"]:10.2f}')\n",
    "print(f'Total number of marine-terminal-attributed barge tracks: {allTracks[vessel_type].shape[0]*frac[vessel_type][\"marine_terminal\"]:10.2f}')"
   ]
  },
  {
   "cell_type": "markdown",
   "id": "f83fe18c",
   "metadata": {},
   "source": [
    "## Quantify barge and ATB cargo transfers in 2018 DOE database"
   ]
  },
  {
   "cell_type": "code",
   "execution_count": 13,
   "id": "447a43ae",
   "metadata": {},
   "outputs": [
    {
     "name": "stdout",
     "output_type": "stream",
     "text": [
      "get_DOE_barges: not yet tested with fac_xls as input\n",
      "combined\n",
      "cargo\n",
      "cargo\n"
     ]
    }
   ],
   "source": [
    "[atb_in, atb_out]=get_DOE_atb(\n",
    "    doe_xls_path, \n",
    "    fac_xls_path, \n",
    "    transfer_type = 'cargo', \n",
    "    facilities='selected'\n",
    ")\n",
    "\n",
    "barge_inout=get_DOE_barges(\n",
    "    doe_xls_path,\n",
    "    fac_xls_path, \n",
    "    direction='combined',\n",
    "    facilities='selected',\n",
    "    transfer_type = 'cargo')"
   ]
  },
  {
   "cell_type": "code",
   "execution_count": 14,
   "id": "31852266",
   "metadata": {},
   "outputs": [
    {
     "name": "stdout",
     "output_type": "stream",
     "text": [
      "677 cargo transfers for atbs\n",
      "2773 cargo transfers for barges\n"
     ]
    }
   ],
   "source": [
    "transfers = {}\n",
    "transfers[\"barge\"] = barge_inout.shape[0]\n",
    "transfers[\"atb\"] = atb_in.shape[0] + atb_out.shape[0]\n",
    "print(f'{transfers[\"atb\"]} cargo transfers for atbs')\n",
    "print(f'{transfers[\"barge\"]} cargo transfers for barges')"
   ]
  },
  {
   "cell_type": "markdown",
   "id": "137b6406",
   "metadata": {},
   "source": [
    "### Calculate the number of Attributed tracks we get for ATBs and estimate the equivalent value for barges"
   ]
  },
  {
   "cell_type": "code",
   "execution_count": 15,
   "id": "dcff2ad6",
   "metadata": {},
   "outputs": [
    {
     "name": "stdout",
     "output_type": "stream",
     "text": [
      "We get 531.67 attributed ATB tracks per ATB cargo transfer\n",
      "We expect 1474330.78 attributed barge tracks, but we get 7867870\n",
      "We estimate that non-oil tank barge voyages account for 81.26% of barge voyages\n"
     ]
    }
   ],
   "source": [
    "# estimate the ratio of attributed ATB tracks to ATB cargo transfers\n",
    "noNone_ratio = noNone[\"atb\"].shape[0]/transfers[\"atb\"]\n",
    "print(f'We get {noNone_ratio:.2f} attributed ATB tracks per ATB cargo transfer')\n",
    "# estimate the amount of attributed tracks we'd expect to see for tank barges based on tank barge transfers\n",
    "print(f'We expect {noNone_ratio*transfers[\"barge\"]:.2f} attributed barge tracks, but we get {noNone[\"barge\"].shape[0]}')\n",
    "# estimate spurious barge voyages by removing estimated oil carge barge from total\n",
    "fraction_nonoilbarge = (noNone[\"barge\"].shape[0]-noNone_ratio*transfers[\"barge\"])/noNone[\"barge\"].shape[0]\n",
    "print(f'We estimate that non-oil tank barge voyages account for {100*fraction_nonoilbarge:.2f}% of barge voyages')"
   ]
  },
  {
   "cell_type": "markdown",
   "id": "ddb7b033",
   "metadata": {},
   "source": [
    "## Now look more carefully at marine terminal attributions to get a sense of how much oil cargo tug traffic \"moonlights\" with other non-oil gigs.  "
   ]
  },
  {
   "cell_type": "code",
   "execution_count": 16,
   "id": "641580ec",
   "metadata": {},
   "outputs": [
    {
     "data": {
      "text/html": [
       "<div>\n",
       "<style scoped>\n",
       "    .dataframe tbody tr th:only-of-type {\n",
       "        vertical-align: middle;\n",
       "    }\n",
       "\n",
       "    .dataframe tbody tr th {\n",
       "        vertical-align: top;\n",
       "    }\n",
       "\n",
       "    .dataframe thead th {\n",
       "        text-align: right;\n",
       "    }\n",
       "</style>\n",
       "<table border=\"1\" class=\"dataframe\">\n",
       "  <thead>\n",
       "    <tr style=\"text-align: right;\">\n",
       "      <th></th>\n",
       "      <th>FacilityName</th>\n",
       "      <th>FacilityDOEName</th>\n",
       "      <th>DockLatNumber</th>\n",
       "      <th>DockLongNumber</th>\n",
       "    </tr>\n",
       "  </thead>\n",
       "  <tbody>\n",
       "    <tr>\n",
       "      <th>0</th>\n",
       "      <td>BP Cherry Point Refinery</td>\n",
       "      <td>BP Cherry Point Refinery</td>\n",
       "      <td>48.86111</td>\n",
       "      <td>-122.758</td>\n",
       "    </tr>\n",
       "    <tr>\n",
       "      <th>1</th>\n",
       "      <td>Shell Puget Sound Refinery</td>\n",
       "      <td>Shell Puget Sound Refinery</td>\n",
       "      <td>48.50945</td>\n",
       "      <td>-122.577</td>\n",
       "    </tr>\n",
       "    <tr>\n",
       "      <th>2</th>\n",
       "      <td>Shell Oil LP Seattle Distribution Terminal</td>\n",
       "      <td>Shell Oil LP Seattle Distribution Terminal</td>\n",
       "      <td>47.58870</td>\n",
       "      <td>-122.353</td>\n",
       "    </tr>\n",
       "    <tr>\n",
       "      <th>3</th>\n",
       "      <td>Maxum Petroleum - Harbor Island Terminal</td>\n",
       "      <td>Maxum (Rainer Petroleum)</td>\n",
       "      <td>47.58753</td>\n",
       "      <td>-122.353</td>\n",
       "    </tr>\n",
       "    <tr>\n",
       "      <th>4</th>\n",
       "      <td>Tidewater Snake River Terminal</td>\n",
       "      <td>Tidewater Snake River Terminal</td>\n",
       "      <td>46.22312</td>\n",
       "      <td>-119.014</td>\n",
       "    </tr>\n",
       "  </tbody>\n",
       "</table>\n",
       "</div>"
      ],
      "text/plain": [
       "                                 FacilityName  \\\n",
       "0                    BP Cherry Point Refinery   \n",
       "1                  Shell Puget Sound Refinery   \n",
       "2  Shell Oil LP Seattle Distribution Terminal   \n",
       "3    Maxum Petroleum - Harbor Island Terminal   \n",
       "4              Tidewater Snake River Terminal   \n",
       "\n",
       "                              FacilityDOEName  DockLatNumber  DockLongNumber  \n",
       "0                    BP Cherry Point Refinery       48.86111        -122.758  \n",
       "1                  Shell Puget Sound Refinery       48.50945        -122.577  \n",
       "2  Shell Oil LP Seattle Distribution Terminal       47.58870        -122.353  \n",
       "3                    Maxum (Rainer Petroleum)       47.58753        -122.353  \n",
       "4              Tidewater Snake River Terminal       46.22312        -119.014  "
      ]
     },
     "execution_count": 16,
     "metadata": {},
     "output_type": "execute_result"
    }
   ],
   "source": [
    "facWA.head()"
   ]
  },
  {
   "cell_type": "code",
   "execution_count": 17,
   "id": "b6c2adc0",
   "metadata": {},
   "outputs": [],
   "source": [
    "allfac = {}\n",
    "for vessel_type in [\"atb\",'barge']:\n",
    "    allfac[vessel_type] = allTracks[vessel_type].loc[\n",
    "        ((allTracks[vessel_type].TO.isin(facWA.FacilityName)) |\n",
    "         (allTracks[vessel_type].FROM_.isin(facWA.FacilityName)))\n",
    "    ] "
   ]
  },
  {
   "cell_type": "code",
   "execution_count": 18,
   "id": "f0e9b789",
   "metadata": {},
   "outputs": [
    {
     "data": {
      "text/plain": [
       "(1666271, 7)"
      ]
     },
     "execution_count": 18,
     "metadata": {},
     "output_type": "execute_result"
    }
   ],
   "source": [
    "allfac[\"barge\"].shape"
   ]
  },
  {
   "cell_type": "code",
   "execution_count": 19,
   "id": "246009df",
   "metadata": {},
   "outputs": [
    {
     "name": "stdout",
     "output_type": "stream",
     "text": [
      "129165 ATB tracks have a WA oil facility as origin or destination\n",
      "1666271 barge tracks have a WA oil facility as origin or destination\n",
      "We get 190.79 WA oil marine terminal attributed ATB tracks per ATB cargo transfer\n",
      "We expect 529061.37 WA oil marine terminal attributed barge tracks, but we get 1666271\n",
      "We estimate that non-oil tank barge voyages to/from marine terminals account for 68.25% of barge voyages attributed to WA marine terminals\n"
     ]
    }
   ],
   "source": [
    "print(f'{allfac[\"atb\"].shape[0]} ATB tracks have a WA oil facility as origin or destination')\n",
    "print(f'{allfac[\"barge\"].shape[0]} barge tracks have a WA oil facility as origin or destination')\n",
    "fac_att_ratio = allfac[\"atb\"].shape[0]/transfers[\"atb\"]\n",
    "print(f'We get {fac_att_ratio:.2f} WA oil marine terminal attributed ATB tracks per ATB cargo transfer')\n",
    "# estimate the amount of oil cargo facility tracks we'd expect to see for tank barges based on tank barge transfers\n",
    "print(f'We expect {fac_att_ratio*transfers[\"barge\"]:.2f} WA oil marine terminal attributed barge tracks, but we get {allfac[\"barge\"].shape[0]}')\n",
    "fraction_nonoilbarge = (allfac[\"barge\"].shape[0]-fac_att_ratio*transfers[\"barge\"])/allfac[\"barge\"].shape[0]\n",
    "print(f'We estimate that non-oil tank barge voyages to/from marine terminals account for {100*fraction_nonoilbarge:.2f}% of barge voyages attributed to WA marine terminals')\n"
   ]
  },
  {
   "cell_type": "code",
   "execution_count": 20,
   "id": "30b2e0b0",
   "metadata": {},
   "outputs": [
    {
     "data": {
      "text/plain": [
       "31.75"
      ]
     },
     "execution_count": 20,
     "metadata": {},
     "output_type": "execute_result"
    }
   ],
   "source": [
    "100 - 68.25"
   ]
  },
  {
   "cell_type": "markdown",
   "id": "654a2888",
   "metadata": {},
   "source": [
    "## Repeat for Generic attibution only"
   ]
  },
  {
   "cell_type": "code",
   "execution_count": 21,
   "id": "c635bbdc",
   "metadata": {},
   "outputs": [
    {
     "name": "stdout",
     "output_type": "stream",
     "text": [
      "119323 ATB tracks have Pacific, US or Canada as origin or destination\n",
      "5865057 barge tracks have Pacific, US or Canada as origin or destination\n",
      "We get 176.25 Generically attributed ATB tracks per ATB cargo transfer\n",
      "We expect 488748.42 Generically attributed barge tracks, but we get 5865057\n",
      "We estimate that non-oil tank barge voyages account for 91.67% of barge voyages with both to/from as generic attributions \n"
     ]
    }
   ],
   "source": [
    "print(f'{generic[\"atb\"].shape[0]} ATB tracks have Pacific, US or Canada as origin or destination')\n",
    "print(f'{generic[\"barge\"].shape[0]} barge tracks have Pacific, US or Canada as origin or destination')\n",
    "generic_ratio = generic[\"atb\"].shape[0]/transfers[\"atb\"]\n",
    "print(f'We get {generic_ratio:.2f} Generically attributed ATB tracks per ATB cargo transfer')\n",
    "# estimate the amount of oil cargo facility tracks we'd expect to see for tank barges based on tank barge transfers\n",
    "print(f'We expect {generic_ratio*transfers[\"barge\"]:.2f} Generically attributed barge tracks, but we get {generic[\"barge\"].shape[0]}')\n",
    "fraction_nonoilbarge = (generic[\"barge\"].shape[0]-generic_ratio*transfers[\"barge\"])/generic[\"barge\"].shape[0]\n",
    "print(f'We estimate that non-oil tank barge voyages account for {100*fraction_nonoilbarge:.2f}% of barge voyages with both to/from as generic attributions ')\n",
    "\n"
   ]
  },
  {
   "cell_type": "code",
   "execution_count": 22,
   "id": "a8f3b5bf",
   "metadata": {},
   "outputs": [],
   "source": [
    "## Repeat for No attribution"
   ]
  },
  {
   "cell_type": "code",
   "execution_count": 23,
   "id": "40a11b1c",
   "metadata": {},
   "outputs": [
    {
     "name": "stdout",
     "output_type": "stream",
     "text": [
      "228193 ATB tracks have None as origin or destination\n",
      "6035026 barge tracks have None as  as origin or destination\n",
      "We get 337.06 None attributed ATB tracks per ATB cargo transfer\n",
      "We expect 934681.22 None attributed barge tracks, but we get 6035026\n",
      "We estimate that non-oil tank barge voyages account for 84.51% of barge voyages with None attributions \n"
     ]
    }
   ],
   "source": [
    "print(f'{allNone[\"atb\"].shape[0]} ATB tracks have None as origin or destination')\n",
    "print(f'{allNone[\"barge\"].shape[0]} barge tracks have None as  as origin or destination')\n",
    "allNone_ratio = allNone[\"atb\"].shape[0]/transfers[\"atb\"]\n",
    "print(f'We get {allNone_ratio:.2f} None attributed ATB tracks per ATB cargo transfer')\n",
    "# estimate the amount of oil cargo facility tracks we'd expect to see for tank barges based on tank barge transfers\n",
    "print(f'We expect {allNone_ratio*transfers[\"barge\"]:.2f} None attributed barge tracks, but we get {allNone[\"barge\"].shape[0]}')\n",
    "fraction_nonoilbarge = (allNone[\"barge\"].shape[0]-allNone_ratio*transfers[\"barge\"])/allNone[\"barge\"].shape[0]\n",
    "print(f'We estimate that non-oil tank barge voyages account for {100*fraction_nonoilbarge:.2f}% of barge voyages with None attributions ')\n",
    "\n"
   ]
  },
  {
   "cell_type": "code",
   "execution_count": 24,
   "id": "ba57bf16",
   "metadata": {},
   "outputs": [
    {
     "data": {
      "text/plain": [
       "15.489999999999995"
      ]
     },
     "execution_count": 24,
     "metadata": {},
     "output_type": "execute_result"
    }
   ],
   "source": [
    "100-84.51"
   ]
  },
  {
   "cell_type": "code",
   "execution_count": 25,
   "id": "61704cf6",
   "metadata": {},
   "outputs": [],
   "source": [
    "## confirm min length of tanker for min_fuel threshold"
   ]
  },
  {
   "cell_type": "code",
   "execution_count": 26,
   "id": "da064a79",
   "metadata": {},
   "outputs": [
    {
     "data": {
      "text/html": [
       "<div>\n",
       "<style scoped>\n",
       "    .dataframe tbody tr th:only-of-type {\n",
       "        vertical-align: middle;\n",
       "    }\n",
       "\n",
       "    .dataframe tbody tr th {\n",
       "        vertical-align: top;\n",
       "    }\n",
       "\n",
       "    .dataframe thead th {\n",
       "        text-align: right;\n",
       "    }\n",
       "</style>\n",
       "<table border=\"1\" class=\"dataframe\">\n",
       "  <thead>\n",
       "    <tr style=\"text-align: right;\">\n",
       "      <th></th>\n",
       "      <th>MMSI_NUM</th>\n",
       "      <th>ST_DATE</th>\n",
       "      <th>EN_DATE</th>\n",
       "      <th>LENGTH</th>\n",
       "      <th>TO</th>\n",
       "      <th>FROM_</th>\n",
       "      <th>geometry</th>\n",
       "    </tr>\n",
       "  </thead>\n",
       "  <tbody>\n",
       "    <tr>\n",
       "      <th>0</th>\n",
       "      <td>219602000.0</td>\n",
       "      <td>2018-01-15 07:56:24</td>\n",
       "      <td>2018-01-15 07:57:24</td>\n",
       "      <td>182</td>\n",
       "      <td>US</td>\n",
       "      <td>Pacific</td>\n",
       "      <td>LINESTRING (-128.28361 46.80076, -128.27895 46...</td>\n",
       "    </tr>\n",
       "    <tr>\n",
       "      <th>1</th>\n",
       "      <td>219602000.0</td>\n",
       "      <td>2018-01-15 07:57:24</td>\n",
       "      <td>2018-01-15 07:58:58</td>\n",
       "      <td>182</td>\n",
       "      <td>US</td>\n",
       "      <td>Pacific</td>\n",
       "      <td>LINESTRING (-128.27895 46.80302, -128.27150 46...</td>\n",
       "    </tr>\n",
       "    <tr>\n",
       "      <th>2</th>\n",
       "      <td>219602000.0</td>\n",
       "      <td>2018-01-15 07:58:58</td>\n",
       "      <td>2018-01-15 07:59:27</td>\n",
       "      <td>182</td>\n",
       "      <td>US</td>\n",
       "      <td>Pacific</td>\n",
       "      <td>LINESTRING (-128.27150 46.80663, -128.26953 46...</td>\n",
       "    </tr>\n",
       "    <tr>\n",
       "      <th>3</th>\n",
       "      <td>219602000.0</td>\n",
       "      <td>2018-01-15 07:59:27</td>\n",
       "      <td>2018-01-15 07:59:46</td>\n",
       "      <td>182</td>\n",
       "      <td>US</td>\n",
       "      <td>Pacific</td>\n",
       "      <td>LINESTRING (-128.26953 46.80759, -128.26766 46...</td>\n",
       "    </tr>\n",
       "    <tr>\n",
       "      <th>4</th>\n",
       "      <td>219602000.0</td>\n",
       "      <td>2018-01-15 07:59:46</td>\n",
       "      <td>2018-01-15 08:01:24</td>\n",
       "      <td>182</td>\n",
       "      <td>US</td>\n",
       "      <td>Pacific</td>\n",
       "      <td>LINESTRING (-128.26766 46.80852, -128.26025 46...</td>\n",
       "    </tr>\n",
       "  </tbody>\n",
       "</table>\n",
       "</div>"
      ],
      "text/plain": [
       "      MMSI_NUM              ST_DATE              EN_DATE  LENGTH  TO    FROM_  \\\n",
       "0  219602000.0  2018-01-15 07:56:24  2018-01-15 07:57:24     182  US  Pacific   \n",
       "1  219602000.0  2018-01-15 07:57:24  2018-01-15 07:58:58     182  US  Pacific   \n",
       "2  219602000.0  2018-01-15 07:58:58  2018-01-15 07:59:27     182  US  Pacific   \n",
       "3  219602000.0  2018-01-15 07:59:27  2018-01-15 07:59:46     182  US  Pacific   \n",
       "4  219602000.0  2018-01-15 07:59:46  2018-01-15 08:01:24     182  US  Pacific   \n",
       "\n",
       "                                            geometry  \n",
       "0  LINESTRING (-128.28361 46.80076, -128.27895 46...  \n",
       "1  LINESTRING (-128.27895 46.80302, -128.27150 46...  \n",
       "2  LINESTRING (-128.27150 46.80663, -128.26953 46...  \n",
       "3  LINESTRING (-128.26953 46.80759, -128.26766 46...  \n",
       "4  LINESTRING (-128.26766 46.80852, -128.26025 46...  "
      ]
     },
     "execution_count": 26,
     "metadata": {},
     "output_type": "execute_result"
    }
   ],
   "source": [
    "allTracks[\"tanker\"].head()"
   ]
  },
  {
   "cell_type": "code",
   "execution_count": 27,
   "id": "eeadf609",
   "metadata": {},
   "outputs": [
    {
     "data": {
      "text/plain": [
       "42"
      ]
     },
     "execution_count": 27,
     "metadata": {},
     "output_type": "execute_result"
    }
   ],
   "source": [
    "allTracks[\"tanker\"][\"LENGTH\"].min()"
   ]
  },
  {
   "cell_type": "code",
   "execution_count": 28,
   "id": "c17ba39b",
   "metadata": {},
   "outputs": [
    {
     "data": {
      "text/plain": [
       "287"
      ]
     },
     "execution_count": 28,
     "metadata": {},
     "output_type": "execute_result"
    }
   ],
   "source": [
    "allTracks[\"tanker\"][\"LENGTH\"].max()"
   ]
  },
  {
   "cell_type": "code",
   "execution_count": 29,
   "id": "b9cb4871",
   "metadata": {},
   "outputs": [
    {
     "data": {
      "text/html": [
       "<div>\n",
       "<style scoped>\n",
       "    .dataframe tbody tr th:only-of-type {\n",
       "        vertical-align: middle;\n",
       "    }\n",
       "\n",
       "    .dataframe tbody tr th {\n",
       "        vertical-align: top;\n",
       "    }\n",
       "\n",
       "    .dataframe thead th {\n",
       "        text-align: right;\n",
       "    }\n",
       "</style>\n",
       "<table border=\"1\" class=\"dataframe\">\n",
       "  <thead>\n",
       "    <tr style=\"text-align: right;\">\n",
       "      <th></th>\n",
       "      <th>MMSI_NUM</th>\n",
       "      <th>ST_DATE</th>\n",
       "      <th>EN_DATE</th>\n",
       "      <th>LENGTH</th>\n",
       "      <th>TO</th>\n",
       "      <th>FROM_</th>\n",
       "      <th>geometry</th>\n",
       "    </tr>\n",
       "  </thead>\n",
       "  <tbody>\n",
       "    <tr>\n",
       "      <th>36833</th>\n",
       "      <td>368009250.0</td>\n",
       "      <td>2018-03-09 17:26:56</td>\n",
       "      <td>2018-03-09 17:28:21</td>\n",
       "      <td>42</td>\n",
       "      <td>None</td>\n",
       "      <td>None</td>\n",
       "      <td>LINESTRING (-122.36612 47.26532, -122.36500 47...</td>\n",
       "    </tr>\n",
       "    <tr>\n",
       "      <th>36834</th>\n",
       "      <td>368009250.0</td>\n",
       "      <td>2018-03-21 14:15:29</td>\n",
       "      <td>2018-03-21 14:17:05</td>\n",
       "      <td>42</td>\n",
       "      <td>None</td>\n",
       "      <td>None</td>\n",
       "      <td>LINESTRING (-122.36500 47.26500, -122.36618 47...</td>\n",
       "    </tr>\n",
       "    <tr>\n",
       "      <th>36835</th>\n",
       "      <td>368009250.0</td>\n",
       "      <td>2018-03-21 14:17:53</td>\n",
       "      <td>2018-03-21 14:18:28</td>\n",
       "      <td>42</td>\n",
       "      <td>None</td>\n",
       "      <td>None</td>\n",
       "      <td>LINESTRING (-122.36618 47.26522, -122.36500 47...</td>\n",
       "    </tr>\n",
       "    <tr>\n",
       "      <th>36836</th>\n",
       "      <td>368009250.0</td>\n",
       "      <td>2018-03-21 14:18:28</td>\n",
       "      <td>2018-03-21 14:20:05</td>\n",
       "      <td>42</td>\n",
       "      <td>None</td>\n",
       "      <td>None</td>\n",
       "      <td>LINESTRING (-122.36500 47.26500, -122.36618 47...</td>\n",
       "    </tr>\n",
       "    <tr>\n",
       "      <th>36837</th>\n",
       "      <td>368009250.0</td>\n",
       "      <td>2018-03-21 14:20:05</td>\n",
       "      <td>2018-03-21 14:21:29</td>\n",
       "      <td>42</td>\n",
       "      <td>None</td>\n",
       "      <td>None</td>\n",
       "      <td>LINESTRING (-122.36618 47.26523, -122.36500 47...</td>\n",
       "    </tr>\n",
       "    <tr>\n",
       "      <th>...</th>\n",
       "      <td>...</td>\n",
       "      <td>...</td>\n",
       "      <td>...</td>\n",
       "      <td>...</td>\n",
       "      <td>...</td>\n",
       "      <td>...</td>\n",
       "      <td>...</td>\n",
       "    </tr>\n",
       "    <tr>\n",
       "      <th>76024</th>\n",
       "      <td>368009250.0</td>\n",
       "      <td>2018-12-28 23:39:16</td>\n",
       "      <td>2018-12-28 23:39:24</td>\n",
       "      <td>42</td>\n",
       "      <td>Kinder Morgan Liquids Terminal - Harbor Island</td>\n",
       "      <td>Kinder Morgan Liquids Terminal - Harbor Island</td>\n",
       "      <td>LINESTRING (-122.35268 47.58804, -122.35274 47...</td>\n",
       "    </tr>\n",
       "    <tr>\n",
       "      <th>76025</th>\n",
       "      <td>368009250.0</td>\n",
       "      <td>2018-12-28 23:39:24</td>\n",
       "      <td>2018-12-28 23:40:51</td>\n",
       "      <td>42</td>\n",
       "      <td>Kinder Morgan Liquids Terminal - Harbor Island</td>\n",
       "      <td>Kinder Morgan Liquids Terminal - Harbor Island</td>\n",
       "      <td>LINESTRING (-122.35274 47.58802, -122.35167 47...</td>\n",
       "    </tr>\n",
       "    <tr>\n",
       "      <th>76026</th>\n",
       "      <td>368009250.0</td>\n",
       "      <td>2018-12-31 16:11:35</td>\n",
       "      <td>2018-12-31 16:16:36</td>\n",
       "      <td>42</td>\n",
       "      <td>None</td>\n",
       "      <td>None</td>\n",
       "      <td>LINESTRING (-122.35167 47.58667, -122.35238 47...</td>\n",
       "    </tr>\n",
       "    <tr>\n",
       "      <th>76027</th>\n",
       "      <td>368009250.0</td>\n",
       "      <td>2018-12-31 16:16:36</td>\n",
       "      <td>2018-12-31 16:17:35</td>\n",
       "      <td>42</td>\n",
       "      <td>None</td>\n",
       "      <td>None</td>\n",
       "      <td>LINESTRING (-122.35238 47.58760, -122.35167 47...</td>\n",
       "    </tr>\n",
       "    <tr>\n",
       "      <th>76028</th>\n",
       "      <td>368009250.0</td>\n",
       "      <td>2018-12-31 18:44:35</td>\n",
       "      <td>2018-12-31 18:46:33</td>\n",
       "      <td>42</td>\n",
       "      <td>None</td>\n",
       "      <td>None</td>\n",
       "      <td>LINESTRING (-122.35167 47.58667, -122.35235 47...</td>\n",
       "    </tr>\n",
       "  </tbody>\n",
       "</table>\n",
       "<p>19025 rows × 7 columns</p>\n",
       "</div>"
      ],
      "text/plain": [
       "          MMSI_NUM              ST_DATE              EN_DATE  LENGTH  \\\n",
       "36833  368009250.0  2018-03-09 17:26:56  2018-03-09 17:28:21      42   \n",
       "36834  368009250.0  2018-03-21 14:15:29  2018-03-21 14:17:05      42   \n",
       "36835  368009250.0  2018-03-21 14:17:53  2018-03-21 14:18:28      42   \n",
       "36836  368009250.0  2018-03-21 14:18:28  2018-03-21 14:20:05      42   \n",
       "36837  368009250.0  2018-03-21 14:20:05  2018-03-21 14:21:29      42   \n",
       "...            ...                  ...                  ...     ...   \n",
       "76024  368009250.0  2018-12-28 23:39:16  2018-12-28 23:39:24      42   \n",
       "76025  368009250.0  2018-12-28 23:39:24  2018-12-28 23:40:51      42   \n",
       "76026  368009250.0  2018-12-31 16:11:35  2018-12-31 16:16:36      42   \n",
       "76027  368009250.0  2018-12-31 16:16:36  2018-12-31 16:17:35      42   \n",
       "76028  368009250.0  2018-12-31 18:44:35  2018-12-31 18:46:33      42   \n",
       "\n",
       "                                                   TO  \\\n",
       "36833                                            None   \n",
       "36834                                            None   \n",
       "36835                                            None   \n",
       "36836                                            None   \n",
       "36837                                            None   \n",
       "...                                               ...   \n",
       "76024  Kinder Morgan Liquids Terminal - Harbor Island   \n",
       "76025  Kinder Morgan Liquids Terminal - Harbor Island   \n",
       "76026                                            None   \n",
       "76027                                            None   \n",
       "76028                                            None   \n",
       "\n",
       "                                                FROM_  \\\n",
       "36833                                            None   \n",
       "36834                                            None   \n",
       "36835                                            None   \n",
       "36836                                            None   \n",
       "36837                                            None   \n",
       "...                                               ...   \n",
       "76024  Kinder Morgan Liquids Terminal - Harbor Island   \n",
       "76025  Kinder Morgan Liquids Terminal - Harbor Island   \n",
       "76026                                            None   \n",
       "76027                                            None   \n",
       "76028                                            None   \n",
       "\n",
       "                                                geometry  \n",
       "36833  LINESTRING (-122.36612 47.26532, -122.36500 47...  \n",
       "36834  LINESTRING (-122.36500 47.26500, -122.36618 47...  \n",
       "36835  LINESTRING (-122.36618 47.26522, -122.36500 47...  \n",
       "36836  LINESTRING (-122.36500 47.26500, -122.36618 47...  \n",
       "36837  LINESTRING (-122.36618 47.26523, -122.36500 47...  \n",
       "...                                                  ...  \n",
       "76024  LINESTRING (-122.35268 47.58804, -122.35274 47...  \n",
       "76025  LINESTRING (-122.35274 47.58802, -122.35167 47...  \n",
       "76026  LINESTRING (-122.35167 47.58667, -122.35238 47...  \n",
       "76027  LINESTRING (-122.35238 47.58760, -122.35167 47...  \n",
       "76028  LINESTRING (-122.35167 47.58667, -122.35235 47...  \n",
       "\n",
       "[19025 rows x 7 columns]"
      ]
     },
     "execution_count": 29,
     "metadata": {},
     "output_type": "execute_result"
    }
   ],
   "source": [
    "allTracks[\"tanker\"].loc[\n",
    "    allTracks[\"tanker\"][\"LENGTH\"]==42\n",
    "]"
   ]
  },
  {
   "cell_type": "markdown",
   "id": "4bfeda55",
   "metadata": {},
   "source": [
    "### MMSI 368009250 is for GLOBAL PROVIDER\n",
    "- Check max fuel transfers to get capacity estimate for this size class (42 feet)"
   ]
  },
  {
   "cell_type": "code",
   "execution_count": 30,
   "id": "93ea3458",
   "metadata": {},
   "outputs": [],
   "source": [
    "from monte_carlo_utils import get_DOE_df\n",
    "DOEdf = get_DOE_df(\n",
    "    doe_xls_path, \n",
    "    fac_xls_path,\n",
    "    group = 'no'\n",
    ")"
   ]
  },
  {
   "cell_type": "code",
   "execution_count": 31,
   "id": "d82c415e",
   "metadata": {},
   "outputs": [
    {
     "data": {
      "text/html": [
       "<div>\n",
       "<style scoped>\n",
       "    .dataframe tbody tr th:only-of-type {\n",
       "        vertical-align: middle;\n",
       "    }\n",
       "\n",
       "    .dataframe tbody tr th {\n",
       "        vertical-align: top;\n",
       "    }\n",
       "\n",
       "    .dataframe thead th {\n",
       "        text-align: right;\n",
       "    }\n",
       "</style>\n",
       "<table border=\"1\" class=\"dataframe\">\n",
       "  <thead>\n",
       "    <tr style=\"text-align: right;\">\n",
       "      <th></th>\n",
       "      <th>AntID</th>\n",
       "      <th>StartDateTime</th>\n",
       "      <th>Deliverer</th>\n",
       "      <th>Receiver</th>\n",
       "      <th>Product</th>\n",
       "      <th>TransferQtyInGallon</th>\n",
       "      <th>TransferType</th>\n",
       "      <th>DelivererTypeDescription</th>\n",
       "      <th>ReceiverTypeDescription</th>\n",
       "      <th>ImportRegion</th>\n",
       "      <th>ExportRegion</th>\n",
       "    </tr>\n",
       "  </thead>\n",
       "  <tbody>\n",
       "    <tr>\n",
       "      <th>0</th>\n",
       "      <td>173454</td>\n",
       "      <td>2018-01-01 06:15:00</td>\n",
       "      <td>Maxum Petroleum - Harbor Island Terminal</td>\n",
       "      <td>VICTORIA CLIPPER IV</td>\n",
       "      <td>DIESEL/MARINE GAS OIL</td>\n",
       "      <td>2500.0</td>\n",
       "      <td>Fueling</td>\n",
       "      <td>Facility</td>\n",
       "      <td>PASSENGER SHIP</td>\n",
       "      <td>not attributed</td>\n",
       "      <td>Puget Sound</td>\n",
       "    </tr>\n",
       "  </tbody>\n",
       "</table>\n",
       "</div>"
      ],
      "text/plain": [
       "    AntID       StartDateTime                                 Deliverer  \\\n",
       "0  173454 2018-01-01 06:15:00  Maxum Petroleum - Harbor Island Terminal   \n",
       "\n",
       "              Receiver                Product  TransferQtyInGallon  \\\n",
       "0  VICTORIA CLIPPER IV  DIESEL/MARINE GAS OIL               2500.0   \n",
       "\n",
       "  TransferType DelivererTypeDescription ReceiverTypeDescription  \\\n",
       "0      Fueling                 Facility          PASSENGER SHIP   \n",
       "\n",
       "     ImportRegion ExportRegion  \n",
       "0  not attributed  Puget Sound  "
      ]
     },
     "execution_count": 31,
     "metadata": {},
     "output_type": "execute_result"
    }
   ],
   "source": [
    "DOEdf.head(1)"
   ]
  },
  {
   "cell_type": "code",
   "execution_count": 32,
   "id": "5370f022",
   "metadata": {},
   "outputs": [
    {
     "data": {
      "text/plain": [
       "155400.0"
      ]
     },
     "execution_count": 32,
     "metadata": {},
     "output_type": "execute_result"
    }
   ],
   "source": [
    "GP_df = DOEdf.loc[\n",
    "    DOEdf.Receiver == 'GLOBAL PROVIDER'\n",
    "]\n",
    "GP_df.TransferQtyInGallon.max()"
   ]
  },
  {
   "cell_type": "markdown",
   "id": "64c53ea8",
   "metadata": {},
   "source": [
    "### Cargo capacity for Global Provider ~ 155400 Gallons"
   ]
  },
  {
   "cell_type": "code",
   "execution_count": 33,
   "id": "a4dc2394",
   "metadata": {},
   "outputs": [
    {
     "data": {
      "text/html": [
       "<div>\n",
       "<style scoped>\n",
       "    .dataframe tbody tr th:only-of-type {\n",
       "        vertical-align: middle;\n",
       "    }\n",
       "\n",
       "    .dataframe tbody tr th {\n",
       "        vertical-align: top;\n",
       "    }\n",
       "\n",
       "    .dataframe thead th {\n",
       "        text-align: right;\n",
       "    }\n",
       "</style>\n",
       "<table border=\"1\" class=\"dataframe\">\n",
       "  <thead>\n",
       "    <tr style=\"text-align: right;\">\n",
       "      <th></th>\n",
       "      <th>LENGTH</th>\n",
       "      <th>MMSI_NUM</th>\n",
       "    </tr>\n",
       "  </thead>\n",
       "  <tbody>\n",
       "    <tr>\n",
       "      <th>0</th>\n",
       "      <td>144</td>\n",
       "      <td>47377</td>\n",
       "    </tr>\n",
       "    <tr>\n",
       "      <th>1</th>\n",
       "      <td>153</td>\n",
       "      <td>20356</td>\n",
       "    </tr>\n",
       "    <tr>\n",
       "      <th>2</th>\n",
       "      <td>42</td>\n",
       "      <td>19025</td>\n",
       "    </tr>\n",
       "    <tr>\n",
       "      <th>3</th>\n",
       "      <td>146</td>\n",
       "      <td>11927</td>\n",
       "    </tr>\n",
       "    <tr>\n",
       "      <th>4</th>\n",
       "      <td>152</td>\n",
       "      <td>6652</td>\n",
       "    </tr>\n",
       "    <tr>\n",
       "      <th>5</th>\n",
       "      <td>149</td>\n",
       "      <td>6040</td>\n",
       "    </tr>\n",
       "    <tr>\n",
       "      <th>6</th>\n",
       "      <td>91</td>\n",
       "      <td>4715</td>\n",
       "    </tr>\n",
       "    <tr>\n",
       "      <th>7</th>\n",
       "      <td>145</td>\n",
       "      <td>4299</td>\n",
       "    </tr>\n",
       "    <tr>\n",
       "      <th>8</th>\n",
       "      <td>147</td>\n",
       "      <td>2695</td>\n",
       "    </tr>\n",
       "    <tr>\n",
       "      <th>9</th>\n",
       "      <td>141</td>\n",
       "      <td>2408</td>\n",
       "    </tr>\n",
       "    <tr>\n",
       "      <th>10</th>\n",
       "      <td>133</td>\n",
       "      <td>1869</td>\n",
       "    </tr>\n",
       "    <tr>\n",
       "      <th>11</th>\n",
       "      <td>120</td>\n",
       "      <td>1726</td>\n",
       "    </tr>\n",
       "    <tr>\n",
       "      <th>12</th>\n",
       "      <td>127</td>\n",
       "      <td>1582</td>\n",
       "    </tr>\n",
       "    <tr>\n",
       "      <th>13</th>\n",
       "      <td>89</td>\n",
       "      <td>92</td>\n",
       "    </tr>\n",
       "  </tbody>\n",
       "</table>\n",
       "</div>"
      ],
      "text/plain": [
       "    LENGTH  MMSI_NUM\n",
       "0      144     47377\n",
       "1      153     20356\n",
       "2       42     19025\n",
       "3      146     11927\n",
       "4      152      6652\n",
       "5      149      6040\n",
       "6       91      4715\n",
       "7      145      4299\n",
       "8      147      2695\n",
       "9      141      2408\n",
       "10     133      1869\n",
       "11     120      1726\n",
       "12     127      1582\n",
       "13      89        92"
      ]
     },
     "execution_count": 33,
     "metadata": {},
     "output_type": "execute_result"
    }
   ],
   "source": [
    "sm_tankers = allTracks[\"tanker\"].loc[\n",
    "    allTracks[\"tanker\"][\"LENGTH\"]<155,\n",
    "    ['LENGTH','MMSI_NUM']\n",
    "].groupby('LENGTH').count().sort_values(by='MMSI_NUM',ascending=False).reset_index()\n",
    "sm_tankers"
   ]
  },
  {
   "cell_type": "code",
   "execution_count": 34,
   "id": "4b70ce95",
   "metadata": {},
   "outputs": [
    {
     "data": {
      "text/plain": [
       "Text(0.5, 0, 'Tanker length (meters)')"
      ]
     },
     "execution_count": 34,
     "metadata": {},
     "output_type": "execute_result"
    },
    {
     "data": {
      "image/png": "[encoded data removed]",
      "text/plain": [
       "<Figure size 432x288 with 1 Axes>"
      ]
     },
     "metadata": {
      "needs_background": "light"
     },
     "output_type": "display_data"
    }
   ],
   "source": [
    "hist=sm_tankers.LENGTH.hist(weights=sm_tankers.MMSI_NUM, bins=8)\n",
    "hist.set_ylabel('AIS ship track count')\n",
    "hist.set_xlabel('Tanker length (meters)')"
   ]
  },
  {
   "cell_type": "code",
   "execution_count": null,
   "id": "c70da8b8",
   "metadata": {},
   "outputs": [],
   "source": []
  },
  {
   "cell_type": "markdown",
   "id": "d1cc61e1",
   "metadata": {},
   "source": [
    "#### create histogram for all tanker lenghts and mmsi"
   ]
  },
  {
   "cell_type": "code",
   "execution_count": 35,
   "id": "3cf6773d",
   "metadata": {},
   "outputs": [
    {
     "data": {
      "text/plain": [
       "Text(0.5, 0, 'Tanker length (meters)')"
      ]
     },
     "execution_count": 35,
     "metadata": {},
     "output_type": "execute_result"
    },
    {
     "data": {
      "image/png": "[encoded data removed]",
      "text/plain": [
       "<Figure size 432x288 with 1 Axes>"
      ]
     },
     "metadata": {
      "needs_background": "light"
     },
     "output_type": "display_data"
    }
   ],
   "source": [
    "all_tankers = allTracks[\"tanker\"][['LENGTH','MMSI_NUM']].groupby('LENGTH').count().sort_values(by='MMSI_NUM',ascending=False).reset_index()\n",
    "hist=all_tankers.LENGTH.hist(weights=all_tankers.MMSI_NUM, bins=6)\n",
    "hist.set_ylabel('AIS ship track count')\n",
    "hist.set_xlabel('Tanker length (meters)')"
   ]
  },
  {
   "cell_type": "code",
   "execution_count": 36,
   "id": "8c9f12f7",
   "metadata": {},
   "outputs": [
    {
     "data": {
      "text/html": [
       "<div>\n",
       "<style scoped>\n",
       "    .dataframe tbody tr th:only-of-type {\n",
       "        vertical-align: middle;\n",
       "    }\n",
       "\n",
       "    .dataframe tbody tr th {\n",
       "        vertical-align: top;\n",
       "    }\n",
       "\n",
       "    .dataframe thead th {\n",
       "        text-align: right;\n",
       "    }\n",
       "</style>\n",
       "<table border=\"1\" class=\"dataframe\">\n",
       "  <thead>\n",
       "    <tr style=\"text-align: right;\">\n",
       "      <th></th>\n",
       "      <th>LENGTH</th>\n",
       "      <th>MMSI_NUM</th>\n",
       "    </tr>\n",
       "  </thead>\n",
       "  <tbody>\n",
       "    <tr>\n",
       "      <th>0</th>\n",
       "      <td>183</td>\n",
       "      <td>319343</td>\n",
       "    </tr>\n",
       "    <tr>\n",
       "      <th>1</th>\n",
       "      <td>287</td>\n",
       "      <td>78666</td>\n",
       "    </tr>\n",
       "    <tr>\n",
       "      <th>2</th>\n",
       "      <td>273</td>\n",
       "      <td>64147</td>\n",
       "    </tr>\n",
       "    <tr>\n",
       "      <th>3</th>\n",
       "      <td>182</td>\n",
       "      <td>59741</td>\n",
       "    </tr>\n",
       "    <tr>\n",
       "      <th>4</th>\n",
       "      <td>144</td>\n",
       "      <td>47377</td>\n",
       "    </tr>\n",
       "    <tr>\n",
       "      <th>...</th>\n",
       "      <td>...</td>\n",
       "      <td>...</td>\n",
       "    </tr>\n",
       "    <tr>\n",
       "      <th>59</th>\n",
       "      <td>177</td>\n",
       "      <td>808</td>\n",
       "    </tr>\n",
       "    <tr>\n",
       "      <th>60</th>\n",
       "      <td>232</td>\n",
       "      <td>782</td>\n",
       "    </tr>\n",
       "    <tr>\n",
       "      <th>61</th>\n",
       "      <td>252</td>\n",
       "      <td>644</td>\n",
       "    </tr>\n",
       "    <tr>\n",
       "      <th>62</th>\n",
       "      <td>157</td>\n",
       "      <td>624</td>\n",
       "    </tr>\n",
       "    <tr>\n",
       "      <th>63</th>\n",
       "      <td>89</td>\n",
       "      <td>92</td>\n",
       "    </tr>\n",
       "  </tbody>\n",
       "</table>\n",
       "<p>64 rows × 2 columns</p>\n",
       "</div>"
      ],
      "text/plain": [
       "    LENGTH  MMSI_NUM\n",
       "0      183    319343\n",
       "1      287     78666\n",
       "2      273     64147\n",
       "3      182     59741\n",
       "4      144     47377\n",
       "..     ...       ...\n",
       "59     177       808\n",
       "60     232       782\n",
       "61     252       644\n",
       "62     157       624\n",
       "63      89        92\n",
       "\n",
       "[64 rows x 2 columns]"
      ]
     },
     "execution_count": 36,
     "metadata": {},
     "output_type": "execute_result"
    }
   ],
   "source": [
    "all_tankers"
   ]
  },
  {
   "cell_type": "code",
   "execution_count": 37,
   "id": "6608efca",
   "metadata": {},
   "outputs": [
    {
     "data": {
      "text/html": [
       "<div>\n",
       "<style scoped>\n",
       "    .dataframe tbody tr th:only-of-type {\n",
       "        vertical-align: middle;\n",
       "    }\n",
       "\n",
       "    .dataframe tbody tr th {\n",
       "        vertical-align: top;\n",
       "    }\n",
       "\n",
       "    .dataframe thead th {\n",
       "        text-align: right;\n",
       "    }\n",
       "</style>\n",
       "<table border=\"1\" class=\"dataframe\">\n",
       "  <thead>\n",
       "    <tr style=\"text-align: right;\">\n",
       "      <th></th>\n",
       "      <th>LENGTH</th>\n",
       "      <th>MMSI_NUM</th>\n",
       "    </tr>\n",
       "  </thead>\n",
       "  <tbody>\n",
       "    <tr>\n",
       "      <th>0</th>\n",
       "      <td>232</td>\n",
       "      <td>636091469.0</td>\n",
       "    </tr>\n",
       "    <tr>\n",
       "      <th>1</th>\n",
       "      <td>250</td>\n",
       "      <td>636018579.0</td>\n",
       "    </tr>\n",
       "    <tr>\n",
       "      <th>2</th>\n",
       "      <td>183</td>\n",
       "      <td>636018092.0</td>\n",
       "    </tr>\n",
       "    <tr>\n",
       "      <th>3</th>\n",
       "      <td>244</td>\n",
       "      <td>636017858.0</td>\n",
       "    </tr>\n",
       "    <tr>\n",
       "      <th>4</th>\n",
       "      <td>277</td>\n",
       "      <td>636017061.0</td>\n",
       "    </tr>\n",
       "    <tr>\n",
       "      <th>...</th>\n",
       "      <td>...</td>\n",
       "      <td>...</td>\n",
       "    </tr>\n",
       "    <tr>\n",
       "      <th>59</th>\n",
       "      <td>275</td>\n",
       "      <td>240546000.0</td>\n",
       "    </tr>\n",
       "    <tr>\n",
       "      <th>60</th>\n",
       "      <td>195</td>\n",
       "      <td>238294000.0</td>\n",
       "    </tr>\n",
       "    <tr>\n",
       "      <th>61</th>\n",
       "      <td>252</td>\n",
       "      <td>232156000.0</td>\n",
       "    </tr>\n",
       "    <tr>\n",
       "      <th>62</th>\n",
       "      <td>176</td>\n",
       "      <td>219124000.0</td>\n",
       "    </tr>\n",
       "    <tr>\n",
       "      <th>63</th>\n",
       "      <td>120</td>\n",
       "      <td>212744000.0</td>\n",
       "    </tr>\n",
       "  </tbody>\n",
       "</table>\n",
       "<p>64 rows × 2 columns</p>\n",
       "</div>"
      ],
      "text/plain": [
       "    LENGTH     MMSI_NUM\n",
       "0      232  636091469.0\n",
       "1      250  636018579.0\n",
       "2      183  636018092.0\n",
       "3      244  636017858.0\n",
       "4      277  636017061.0\n",
       "..     ...          ...\n",
       "59     275  240546000.0\n",
       "60     195  238294000.0\n",
       "61     252  232156000.0\n",
       "62     176  219124000.0\n",
       "63     120  212744000.0\n",
       "\n",
       "[64 rows x 2 columns]"
      ]
     },
     "execution_count": 37,
     "metadata": {},
     "output_type": "execute_result"
    }
   ],
   "source": [
    "allTracks[\"tanker\"][['LENGTH','MMSI_NUM']].groupby('LENGTH').last().sort_values(by='MMSI_NUM',ascending=False).reset_index()"
   ]
  },
  {
   "cell_type": "markdown",
   "id": "672f7a3d",
   "metadata": {},
   "source": [
    "#### Get representative MMSI for tanker lengths to look up in DOE database"
   ]
  },
  {
   "cell_type": "code",
   "execution_count": 38,
   "id": "83362dc5",
   "metadata": {},
   "outputs": [
    {
     "data": {
      "text/html": [
       "<div>\n",
       "<style scoped>\n",
       "    .dataframe tbody tr th:only-of-type {\n",
       "        vertical-align: middle;\n",
       "    }\n",
       "\n",
       "    .dataframe tbody tr th {\n",
       "        vertical-align: top;\n",
       "    }\n",
       "\n",
       "    .dataframe thead th {\n",
       "        text-align: right;\n",
       "    }\n",
       "</style>\n",
       "<table border=\"1\" class=\"dataframe\">\n",
       "  <thead>\n",
       "    <tr style=\"text-align: right;\">\n",
       "      <th></th>\n",
       "      <th>MMSI_NUM</th>\n",
       "    </tr>\n",
       "    <tr>\n",
       "      <th>LENGTH</th>\n",
       "      <th></th>\n",
       "    </tr>\n",
       "  </thead>\n",
       "  <tbody>\n",
       "    <tr>\n",
       "      <th>42</th>\n",
       "      <td>368009250.0</td>\n",
       "    </tr>\n",
       "    <tr>\n",
       "      <th>89</th>\n",
       "      <td>316041640.0</td>\n",
       "    </tr>\n",
       "    <tr>\n",
       "      <th>91</th>\n",
       "      <td>316014610.0</td>\n",
       "    </tr>\n",
       "    <tr>\n",
       "      <th>120</th>\n",
       "      <td>212744000.0</td>\n",
       "    </tr>\n",
       "    <tr>\n",
       "      <th>127</th>\n",
       "      <td>538006828.0</td>\n",
       "    </tr>\n",
       "    <tr>\n",
       "      <th>133</th>\n",
       "      <td>538005277.0</td>\n",
       "    </tr>\n",
       "    <tr>\n",
       "      <th>141</th>\n",
       "      <td>371823000.0</td>\n",
       "    </tr>\n",
       "    <tr>\n",
       "      <th>144</th>\n",
       "      <td>355320000.0</td>\n",
       "    </tr>\n",
       "    <tr>\n",
       "      <th>145</th>\n",
       "      <td>477173600.0</td>\n",
       "    </tr>\n",
       "    <tr>\n",
       "      <th>146</th>\n",
       "      <td>477636500.0</td>\n",
       "    </tr>\n",
       "    <tr>\n",
       "      <th>147</th>\n",
       "      <td>351456000.0</td>\n",
       "    </tr>\n",
       "    <tr>\n",
       "      <th>149</th>\n",
       "      <td>357299000.0</td>\n",
       "    </tr>\n",
       "    <tr>\n",
       "      <th>152</th>\n",
       "      <td>538004002.0</td>\n",
       "    </tr>\n",
       "    <tr>\n",
       "      <th>153</th>\n",
       "      <td>538006893.0</td>\n",
       "    </tr>\n",
       "  </tbody>\n",
       "</table>\n",
       "</div>"
      ],
      "text/plain": [
       "           MMSI_NUM\n",
       "LENGTH             \n",
       "42      368009250.0\n",
       "89      316041640.0\n",
       "91      316014610.0\n",
       "120     212744000.0\n",
       "127     538006828.0\n",
       "133     538005277.0\n",
       "141     371823000.0\n",
       "144     355320000.0\n",
       "145     477173600.0\n",
       "146     477636500.0\n",
       "147     351456000.0\n",
       "149     357299000.0\n",
       "152     538004002.0\n",
       "153     538006893.0"
      ]
     },
     "execution_count": 38,
     "metadata": {},
     "output_type": "execute_result"
    }
   ],
   "source": [
    "allTracks[\"tanker\"].loc[\n",
    "    allTracks[\"tanker\"][\"LENGTH\"]<155,\n",
    "    ['LENGTH','MMSI_NUM']\n",
    "].groupby('LENGTH').first()"
   ]
  },
  {
   "cell_type": "code",
   "execution_count": 39,
   "id": "cdab9d0b",
   "metadata": {},
   "outputs": [
    {
     "data": {
      "text/plain": [
       "3990000.0"
      ]
     },
     "execution_count": 39,
     "metadata": {},
     "output_type": "execute_result"
    }
   ],
   "source": [
    "# MMSI 355320000.0 => KIRKEHOLMEN\n",
    "K_df = DOEdf.loc[\n",
    "    DOEdf.Receiver == 'KIRKEHOLMEN'\n",
    "]\n",
    "K_df.TransferQtyInGallon.max()"
   ]
  },
  {
   "cell_type": "markdown",
   "id": "49e917cf",
   "metadata": {},
   "source": [
    "### max transfer to Kirkeholmen is 15,103,793.02 liters"
   ]
  },
  {
   "cell_type": "code",
   "execution_count": 40,
   "id": "117d7cee",
   "metadata": {},
   "outputs": [
    {
     "data": {
      "text/plain": [
       "nan"
      ]
     },
     "execution_count": 40,
     "metadata": {},
     "output_type": "execute_result"
    }
   ],
   "source": [
    "sf_df = DOEdf.loc[\n",
    "    DOEdf.Receiver == 'SEAFRIEND'\n",
    "]\n",
    "sf_df.TransferQtyInGallon.max()"
   ]
  },
  {
   "cell_type": "code",
   "execution_count": 41,
   "id": "26511960",
   "metadata": {},
   "outputs": [
    {
     "data": {
      "text/html": [
       "<div>\n",
       "<style scoped>\n",
       "    .dataframe tbody tr th:only-of-type {\n",
       "        vertical-align: middle;\n",
       "    }\n",
       "\n",
       "    .dataframe tbody tr th {\n",
       "        vertical-align: top;\n",
       "    }\n",
       "\n",
       "    .dataframe thead th {\n",
       "        text-align: right;\n",
       "    }\n",
       "</style>\n",
       "<table border=\"1\" class=\"dataframe\">\n",
       "  <thead>\n",
       "    <tr style=\"text-align: right;\">\n",
       "      <th></th>\n",
       "      <th>MMSI_NUM</th>\n",
       "      <th>ST_DATE</th>\n",
       "      <th>EN_DATE</th>\n",
       "      <th>LENGTH</th>\n",
       "      <th>TO</th>\n",
       "      <th>FROM_</th>\n",
       "      <th>geometry</th>\n",
       "    </tr>\n",
       "  </thead>\n",
       "  <tbody>\n",
       "  </tbody>\n",
       "</table>\n",
       "</div>"
      ],
      "text/plain": [
       "Empty GeoDataFrame\n",
       "Columns: [MMSI_NUM, ST_DATE, EN_DATE, LENGTH, TO, FROM_, geometry]\n",
       "Index: []"
      ]
     },
     "execution_count": 41,
     "metadata": {},
     "output_type": "execute_result"
    }
   ],
   "source": [
    "allTracks[\"tanker\"].loc[\n",
    "    allTracks[\"tanker\"].MMSI_NUM == 36713400\n",
    "]"
   ]
  },
  {
   "cell_type": "code",
   "execution_count": 42,
   "id": "fc8293e5",
   "metadata": {},
   "outputs": [],
   "source": [
    "tanker_list = DOEdf.loc[\n",
    "    DOEdf.ReceiverTypeDescription == 'TANK SHIP',\n",
    "    ['Receiver','ReceiverTypeDescription']\n",
    "].groupby('Receiver').count().sort_values(by='ReceiverTypeDescription', ascending=False).reset_index()"
   ]
  },
  {
   "cell_type": "code",
   "execution_count": 43,
   "id": "79a3d3a5",
   "metadata": {},
   "outputs": [
    {
     "data": {
      "text/html": [
       "<div>\n",
       "<style scoped>\n",
       "    .dataframe tbody tr th:only-of-type {\n",
       "        vertical-align: middle;\n",
       "    }\n",
       "\n",
       "    .dataframe tbody tr th {\n",
       "        vertical-align: top;\n",
       "    }\n",
       "\n",
       "    .dataframe thead th {\n",
       "        text-align: right;\n",
       "    }\n",
       "</style>\n",
       "<table border=\"1\" class=\"dataframe\">\n",
       "  <thead>\n",
       "    <tr style=\"text-align: right;\">\n",
       "      <th></th>\n",
       "      <th>Receiver</th>\n",
       "      <th>ReceiverTypeDescription</th>\n",
       "    </tr>\n",
       "  </thead>\n",
       "  <tbody>\n",
       "    <tr>\n",
       "      <th>0</th>\n",
       "      <td>KIRKEHOLMEN</td>\n",
       "      <td>91</td>\n",
       "    </tr>\n",
       "    <tr>\n",
       "      <th>1</th>\n",
       "      <td>OVERSEAS LOS ANGELES</td>\n",
       "      <td>76</td>\n",
       "    </tr>\n",
       "    <tr>\n",
       "      <th>2</th>\n",
       "      <td>PELICAN STATE</td>\n",
       "      <td>73</td>\n",
       "    </tr>\n",
       "    <tr>\n",
       "      <th>3</th>\n",
       "      <td>GLOBAL PROVIDER</td>\n",
       "      <td>37</td>\n",
       "    </tr>\n",
       "    <tr>\n",
       "      <th>4</th>\n",
       "      <td>AMERICAN FREEDOM</td>\n",
       "      <td>28</td>\n",
       "    </tr>\n",
       "    <tr>\n",
       "      <th>...</th>\n",
       "      <td>...</td>\n",
       "      <td>...</td>\n",
       "    </tr>\n",
       "    <tr>\n",
       "      <th>118</th>\n",
       "      <td>CHEMBULK WESTPORT</td>\n",
       "      <td>1</td>\n",
       "    </tr>\n",
       "    <tr>\n",
       "      <th>119</th>\n",
       "      <td>POMER</td>\n",
       "      <td>1</td>\n",
       "    </tr>\n",
       "    <tr>\n",
       "      <th>120</th>\n",
       "      <td>RS AURORA</td>\n",
       "      <td>1</td>\n",
       "    </tr>\n",
       "    <tr>\n",
       "      <th>121</th>\n",
       "      <td>BRITISH CHIEF</td>\n",
       "      <td>1</td>\n",
       "    </tr>\n",
       "    <tr>\n",
       "      <th>122</th>\n",
       "      <td>SAINT NICHOLAS</td>\n",
       "      <td>1</td>\n",
       "    </tr>\n",
       "  </tbody>\n",
       "</table>\n",
       "<p>123 rows × 2 columns</p>\n",
       "</div>"
      ],
      "text/plain": [
       "                 Receiver  ReceiverTypeDescription\n",
       "0             KIRKEHOLMEN                       91\n",
       "1    OVERSEAS LOS ANGELES                       76\n",
       "2           PELICAN STATE                       73\n",
       "3         GLOBAL PROVIDER                       37\n",
       "4        AMERICAN FREEDOM                       28\n",
       "..                    ...                      ...\n",
       "118     CHEMBULK WESTPORT                        1\n",
       "119                 POMER                        1\n",
       "120             RS AURORA                        1\n",
       "121         BRITISH CHIEF                        1\n",
       "122        SAINT NICHOLAS                        1\n",
       "\n",
       "[123 rows x 2 columns]"
      ]
     },
     "execution_count": 43,
     "metadata": {},
     "output_type": "execute_result"
    }
   ],
   "source": [
    "tanker_list"
   ]
  },
  {
   "cell_type": "code",
   "execution_count": 44,
   "id": "481ea992",
   "metadata": {},
   "outputs": [
    {
     "data": {
      "text/html": [
       "<div>\n",
       "<style scoped>\n",
       "    .dataframe tbody tr th:only-of-type {\n",
       "        vertical-align: middle;\n",
       "    }\n",
       "\n",
       "    .dataframe tbody tr th {\n",
       "        vertical-align: top;\n",
       "    }\n",
       "\n",
       "    .dataframe thead th {\n",
       "        text-align: right;\n",
       "    }\n",
       "</style>\n",
       "<table border=\"1\" class=\"dataframe\">\n",
       "  <thead>\n",
       "    <tr style=\"text-align: right;\">\n",
       "      <th></th>\n",
       "      <th>AntID</th>\n",
       "      <th>StartDateTime</th>\n",
       "      <th>Deliverer</th>\n",
       "      <th>Receiver</th>\n",
       "      <th>Product</th>\n",
       "      <th>TransferQtyInGallon</th>\n",
       "      <th>TransferType</th>\n",
       "      <th>DelivererTypeDescription</th>\n",
       "      <th>ReceiverTypeDescription</th>\n",
       "      <th>ImportRegion</th>\n",
       "      <th>ExportRegion</th>\n",
       "    </tr>\n",
       "  </thead>\n",
       "  <tbody>\n",
       "    <tr>\n",
       "      <th>0</th>\n",
       "      <td>173454</td>\n",
       "      <td>2018-01-01 06:15:00</td>\n",
       "      <td>Maxum Petroleum - Harbor Island Terminal</td>\n",
       "      <td>VICTORIA CLIPPER IV</td>\n",
       "      <td>DIESEL/MARINE GAS OIL</td>\n",
       "      <td>2500.0</td>\n",
       "      <td>Fueling</td>\n",
       "      <td>Facility</td>\n",
       "      <td>PASSENGER SHIP</td>\n",
       "      <td>not attributed</td>\n",
       "      <td>Puget Sound</td>\n",
       "    </tr>\n",
       "  </tbody>\n",
       "</table>\n",
       "</div>"
      ],
      "text/plain": [
       "    AntID       StartDateTime                                 Deliverer  \\\n",
       "0  173454 2018-01-01 06:15:00  Maxum Petroleum - Harbor Island Terminal   \n",
       "\n",
       "              Receiver                Product  TransferQtyInGallon  \\\n",
       "0  VICTORIA CLIPPER IV  DIESEL/MARINE GAS OIL               2500.0   \n",
       "\n",
       "  TransferType DelivererTypeDescription ReceiverTypeDescription  \\\n",
       "0      Fueling                 Facility          PASSENGER SHIP   \n",
       "\n",
       "     ImportRegion ExportRegion  \n",
       "0  not attributed  Puget Sound  "
      ]
     },
     "execution_count": 44,
     "metadata": {},
     "output_type": "execute_result"
    }
   ],
   "source": [
    "DOEdf.head(1)"
   ]
  },
  {
   "cell_type": "code",
   "execution_count": 45,
   "id": "6ad5e645",
   "metadata": {},
   "outputs": [
    {
     "data": {
      "text/plain": [
       "TransferQtyInGallon    11130000.0\n",
       "dtype: float64"
      ]
     },
     "execution_count": 45,
     "metadata": {},
     "output_type": "execute_result"
    }
   ],
   "source": [
    "DOEdf.loc[\n",
    "    DOEdf.Receiver == 'OVERSEAS LOS ANGELES',\n",
    "    ['TransferQtyInGallon']\n",
    "].max()"
   ]
  },
  {
   "cell_type": "code",
   "execution_count": null,
   "id": "f03add93",
   "metadata": {},
   "outputs": [],
   "source": []
  }
 ],
 "metadata": {
  "kernelspec": {
   "display_name": "Python 3 (ipykernel)",
   "language": "python",
   "name": "python3"
  },
  "language_info": {
   "codemirror_mode": {
    "name": "ipython",
    "version": 3
   },
   "file_extension": ".py",
   "mimetype": "text/x-python",
   "name": "python",
   "nbconvert_exporter": "python",
   "pygments_lexer": "ipython3",
   "version": "3.9.6"
  }
 },
 "nbformat": 4,
 "nbformat_minor": 5
}
