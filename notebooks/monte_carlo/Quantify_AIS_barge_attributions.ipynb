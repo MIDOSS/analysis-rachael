{
 "cells": [
  {
   "cell_type": "code",
   "execution_count": 12,
   "id": "620f5b93",
   "metadata": {},
   "outputs": [
    {
     "data": {
      "text/html": [
       "<div>\n",
       "<style scoped>\n",
       "    .dataframe tbody tr th:only-of-type {\n",
       "        vertical-align: middle;\n",
       "    }\n",
       "\n",
       "    .dataframe tbody tr th {\n",
       "        vertical-align: top;\n",
       "    }\n",
       "\n",
       "    .dataframe thead th {\n",
       "        text-align: right;\n",
       "    }\n",
       "</style>\n",
       "<table border=\"1\" class=\"dataframe\">\n",
       "  <thead>\n",
       "    <tr style=\"text-align: right;\">\n",
       "      <th></th>\n",
       "      <th>MMSI_NUM</th>\n",
       "      <th>ST_DATE</th>\n",
       "      <th>EN_DATE</th>\n",
       "      <th>LENGTH</th>\n",
       "      <th>TO</th>\n",
       "      <th>FROM_</th>\n",
       "      <th>geometry</th>\n",
       "    </tr>\n",
       "  </thead>\n",
       "  <tbody>\n",
       "    <tr>\n",
       "      <th>0</th>\n",
       "      <td>316001223.0</td>\n",
       "      <td>2018-01-01 00:03:48</td>\n",
       "      <td>2018-01-01 00:05:58</td>\n",
       "      <td>41</td>\n",
       "      <td>US</td>\n",
       "      <td>US</td>\n",
       "      <td>LINESTRING (-122.77574 48.33663, -122.77796 48...</td>\n",
       "    </tr>\n",
       "  </tbody>\n",
       "</table>\n",
       "</div>"
      ],
      "text/plain": [
       "      MMSI_NUM              ST_DATE              EN_DATE  LENGTH  TO FROM_  \\\n",
       "0  316001223.0  2018-01-01 00:03:48  2018-01-01 00:05:58      41  US    US   \n",
       "\n",
       "                                            geometry  \n",
       "0  LINESTRING (-122.77574 48.33663, -122.77796 48...  "
      ]
     },
     "execution_count": 12,
     "metadata": {},
     "output_type": "execute_result"
    }
   ],
   "source": [
    "# import necessary packages\n",
    "import os\n",
    "import pandas\n",
    "import numpy\n",
    "import matplotlib.pyplot as plt\n",
    "import geopandas as gpd\n",
    "from pathlib import Path\n",
    "# import function for querying DOE dataframes\n",
    "from monte_carlo_utils import get_DOE_atb, get_DOE_barges\n",
    "\n",
    "# set file location and name\n",
    "atb_shp_path = Path('/data/MIDOSS/shapefiles/atb_2018_01.shp')\n",
    "barge_shp_path = Path('/data/MIDOSS/shapefiles/barge_2018_01.shp')\n",
    "doe_xls_path = Path('/data/MIDOSS/spreadsheets/MuellerTrans4-30-20.xlsx')\n",
    "fac_xls_path = Path(\n",
    "    '/home/rmueller/Projects/MIDOSS/marine_transport_data/Oil_Transfer_Facilities.xlsx'\n",
    ")\n",
    "\n",
    "# import shapefile using geopandas\n",
    "allTracks = {} \n",
    "allTracks['atb']= gpd.read_file(atb_shp_path)\n",
    "allTracks['barge'] = gpd.read_file(barge_shp_path)\n",
    "\n",
    "# view  the top 6 lines of attribute table of data\n",
    "allTracks['atb'].head(1)"
   ]
  },
  {
   "cell_type": "code",
   "execution_count": 2,
   "id": "a191e8ec",
   "metadata": {},
   "outputs": [],
   "source": [
    "attribution = ['US','Canada','Pacific']\n",
    "noNone = {}\n",
    "allNone = {}\n",
    "generic = {}\n",
    "\n",
    "for vessel_type in [\"atb\",'barge']:\n",
    "    generic[vessel_type] = allTracks[vessel_type].loc[\n",
    "        allTracks[vessel_type].TO.isin(attribution)\n",
    "    ]"
   ]
  },
  {
   "cell_type": "code",
   "execution_count": 3,
   "id": "a73b3fcd",
   "metadata": {},
   "outputs": [
    {
     "data": {
      "text/html": [
       "<div>\n",
       "<style scoped>\n",
       "    .dataframe tbody tr th:only-of-type {\n",
       "        vertical-align: middle;\n",
       "    }\n",
       "\n",
       "    .dataframe tbody tr th {\n",
       "        vertical-align: top;\n",
       "    }\n",
       "\n",
       "    .dataframe thead th {\n",
       "        text-align: right;\n",
       "    }\n",
       "</style>\n",
       "<table border=\"1\" class=\"dataframe\">\n",
       "  <thead>\n",
       "    <tr style=\"text-align: right;\">\n",
       "      <th></th>\n",
       "      <th>MMSI_NUM</th>\n",
       "      <th>ST_DATE</th>\n",
       "      <th>EN_DATE</th>\n",
       "      <th>LENGTH</th>\n",
       "      <th>TO</th>\n",
       "      <th>FROM_</th>\n",
       "      <th>geometry</th>\n",
       "    </tr>\n",
       "  </thead>\n",
       "  <tbody>\n",
       "    <tr>\n",
       "      <th>0</th>\n",
       "      <td>316001223.0</td>\n",
       "      <td>2018-01-01 00:03:48</td>\n",
       "      <td>2018-01-01 00:05:58</td>\n",
       "      <td>41</td>\n",
       "      <td>US</td>\n",
       "      <td>US</td>\n",
       "      <td>LINESTRING (-122.77574 48.33663, -122.77796 48...</td>\n",
       "    </tr>\n",
       "  </tbody>\n",
       "</table>\n",
       "</div>"
      ],
      "text/plain": [
       "      MMSI_NUM              ST_DATE              EN_DATE  LENGTH  TO FROM_  \\\n",
       "0  316001223.0  2018-01-01 00:03:48  2018-01-01 00:05:58      41  US    US   \n",
       "\n",
       "                                            geometry  \n",
       "0  LINESTRING (-122.77574 48.33663, -122.77796 48...  "
      ]
     },
     "execution_count": 3,
     "metadata": {},
     "output_type": "execute_result"
    }
   ],
   "source": [
    "generic[\"atb\"].head(1)"
   ]
  },
  {
   "cell_type": "markdown",
   "id": "33f38e9f",
   "metadata": {},
   "source": [
    "## ATB"
   ]
  },
  {
   "cell_type": "code",
   "execution_count": 4,
   "id": "ef17fbef",
   "metadata": {},
   "outputs": [
    {
     "name": "stdout",
     "output_type": "stream",
     "text": [
      "27221\n",
      "16324\n",
      "10897\n",
      "None + NoNone = 27221\n"
     ]
    }
   ],
   "source": [
    "# drop rows with None attribution\n",
    "noNone['atb'] = allTracks['atb'].dropna().reset_index(drop=True)\n",
    "# keep rows with None attribution are missing\n",
    "shp_tmp = allTracks['atb'].isnull()\n",
    "row_has_None = shp_tmp.any(axis=1)\n",
    "allNone['atb'] = allTracks['atb'][row_has_None]\n",
    "#print results\n",
    "print(allTracks['atb'].shape[0])\n",
    "print(noNone['atb'].shape[0])\n",
    "print(allNone['atb'].shape[0])\n",
    "print(f'None + NoNone = {allNone[\"atb\"].shape[0] + noNone[\"atb\"].shape[0]}')"
   ]
  },
  {
   "cell_type": "code",
   "execution_count": 5,
   "id": "16535860",
   "metadata": {},
   "outputs": [
    {
     "name": "stdout",
     "output_type": "stream",
     "text": [
      "Fraction of ATB tracks that are unattributed: 0.40031593255207376\n",
      "Fraction of ATB tracks that are attributed: 0.5996840674479262\n",
      "Fraction of ATB tracks that are generic attribution: 0.3468278167591198\n"
     ]
    }
   ],
   "source": [
    "print(f'Fraction of ATB tracks that are unattributed: {allNone[\"atb\"].shape[0]/allTracks[\"atb\"].shape[0]}')\n",
    "print(f'Fraction of ATB tracks that are attributed: {noNone[\"atb\"].shape[0]/allTracks[\"atb\"].shape[0]}')\n",
    "print(f'Fraction of ATB tracks that are generic attribution: {generic[\"atb\"].shape[0]/allTracks[\"atb\"].shape[0]}')"
   ]
  },
  {
   "cell_type": "markdown",
   "id": "86e7c17d",
   "metadata": {},
   "source": [
    "## Barges"
   ]
  },
  {
   "cell_type": "code",
   "execution_count": 8,
   "id": "d26c2f56",
   "metadata": {},
   "outputs": [
    {
     "name": "stdout",
     "output_type": "stream",
     "text": [
      "624426\n",
      "372124\n",
      "252302\n",
      "None + NoNone = 624426\n",
      "Fraction of barge tracks that are unattributed: 0.4040542834539241\n",
      "Fraction of barge tracks that are attributed: 0.5959457165460759\n",
      "Fraction of barge tracks that are generic attribution: 0.5009192442339044\n"
     ]
    }
   ],
   "source": [
    "vessel_type = \"barge\"\n",
    "# drop rows with None attribution\n",
    "noNone[vessel_type] = allTracks[vessel_type].dropna().reset_index(drop=True)\n",
    "# keep rows with None attribution are missing\n",
    "shp_tmp = allTracks[vessel_type].isnull()\n",
    "row_has_None = shp_tmp.any(axis=1)\n",
    "allNone[vessel_type] = allTracks[vessel_type][row_has_None]\n",
    "#print results\n",
    "print(allTracks[vessel_type].shape[0])\n",
    "print(noNone[vessel_type].shape[0])\n",
    "print(allNone[vessel_type].shape[0])\n",
    "print(f'None + NoNone = {allNone[vessel_type].shape[0] + noNone[vessel_type].shape[0]}')\n",
    "print(f'Fraction of {vessel_type} tracks that are unattributed: {allNone[vessel_type].shape[0]/allTracks[vessel_type].shape[0]}')\n",
    "print(f'Fraction of {vessel_type} tracks that are attributed: {noNone[vessel_type].shape[0]/allTracks[vessel_type].shape[0]}')\n",
    "print(f'Fraction of {vessel_type} tracks that are generic attribution: {generic[vessel_type].shape[0]/allTracks[vessel_type].shape[0]}')"
   ]
  },
  {
   "cell_type": "markdown",
   "id": "18ec1095",
   "metadata": {},
   "source": [
    "## Quantify barge and ATB cargo transfers in 2018 DOE database"
   ]
  },
  {
   "cell_type": "code",
   "execution_count": 16,
   "id": "f00f271e",
   "metadata": {},
   "outputs": [
    {
     "name": "stdout",
     "output_type": "stream",
     "text": [
      "get_DOE_barges: not yet tested with fac_xls as input\n",
      "combined\n",
      "cargo\n",
      "cargo\n"
     ]
    }
   ],
   "source": [
    "[atb_in, atb_out]=get_DOE_atb(\n",
    "    doe_xls_path, \n",
    "    fac_xls_path, \n",
    "    transfer_type = 'cargo', \n",
    "    facilities='selected'\n",
    ")\n",
    "\n",
    "barge_inout=get_DOE_barges(\n",
    "    doe_xls_path,\n",
    "    fac_xls_path, \n",
    "    direction='combined',\n",
    "    facilities='selected',\n",
    "    transfer_type = 'cargo')"
   ]
  },
  {
   "cell_type": "code",
   "execution_count": 18,
   "id": "06ceaf2a",
   "metadata": {},
   "outputs": [
    {
     "name": "stdout",
     "output_type": "stream",
     "text": [
      "677 cargo transfers for atbs\n",
      "2773 cargo transfers for barges\n"
     ]
    }
   ],
   "source": [
    "transfers = {}\n",
    "transfers[\"barge\"] = barge_inout.shape[0]\n",
    "transfers[\"atb\"] = atb_in.shape[0] + atb_out.shape[0]\n",
    "print(f'{transfers[\"atb\"]} cargo transfers for atbs')\n",
    "print(f'{transfers[\"barge\"]} cargo transfers for barges')"
   ]
  },
  {
   "cell_type": "markdown",
   "id": "c46c7f45",
   "metadata": {},
   "source": [
    "### Calculate the number of Attributed tracks we get for ATBs and estimate the equivalent value for barges"
   ]
  },
  {
   "cell_type": "code",
   "execution_count": 21,
   "id": "6dad608d",
   "metadata": {},
   "outputs": [
    {
     "data": {
      "text/plain": [
       "16324"
      ]
     },
     "execution_count": 21,
     "metadata": {},
     "output_type": "execute_result"
    }
   ],
   "source": [
    "noNone[\"atb\"].shape[0]"
   ]
  },
  {
   "cell_type": "code",
   "execution_count": 31,
   "id": "4ea8d18f",
   "metadata": {},
   "outputs": [
    {
     "name": "stdout",
     "output_type": "stream",
     "text": [
      "We get 24.11 attributed ATB tracks per ATB cargo transfer\n",
      "We expect 66863.30 attributed barge tracks, but we get 372124\n",
      "We estimate that non-oil tank barge voyages account for 82.03% of barge voyages\n"
     ]
    }
   ],
   "source": [
    "# estimate the ratio of attributed ATB tracks to ATB cargo transfers\n",
    "noNone_ratio = noNone[\"atb\"].shape[0]/transfers[\"atb\"]\n",
    "print(f'We get {noNone_ratio:.2f} attributed ATB tracks per ATB cargo transfer')\n",
    "# estimate the amount of attributed tracks we'd expect to see for tank barges based on tank barge transfers\n",
    "print(f'We expect {noNone_ratio*transfers[\"barge\"]:.2f} attributed barge tracks, but we get {noNone[\"barge\"].shape[0]}')\n",
    "# estimate spurious barge voyages by removing estimated oil carge barge from total\n",
    "fraction_nonoilbarge = (noNone[\"barge\"].shape[0]-noNone_ratio*transfers[\"barge\"])/noNone[\"barge\"].shape[0]\n",
    "print(f'We estimate that non-oil tank barge voyages account for {100*fraction_nonoilbarge:.2f}% of barge voyages')"
   ]
  },
  {
   "cell_type": "code",
   "execution_count": null,
   "id": "285aaa11",
   "metadata": {},
   "outputs": [],
   "source": []
  }
 ],
 "metadata": {
  "kernelspec": {
   "display_name": "Python 3 (ipykernel)",
   "language": "python",
   "name": "python3"
  },
  "language_info": {
   "codemirror_mode": {
    "name": "ipython",
    "version": 3
   },
   "file_extension": ".py",
   "mimetype": "text/x-python",
   "name": "python",
   "nbconvert_exporter": "python",
   "pygments_lexer": "ipython3",
   "version": "3.9.6"
  }
 },
 "nbformat": 4,
 "nbformat_minor": 5
}
