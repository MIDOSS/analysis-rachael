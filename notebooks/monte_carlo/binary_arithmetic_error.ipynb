{
 "cells": [
  {
   "cell_type": "markdown",
   "metadata": {},
   "source": [
    "### This notebook explores the binary arithmetic error in Python and potential solutions "
   ]
  },
  {
   "cell_type": "code",
   "execution_count": 1,
   "metadata": {},
   "outputs": [],
   "source": [
    "import sys\n",
    "import numpy\n",
    "import pandas\n",
    "from decimal import *"
   ]
  },
  {
   "cell_type": "code",
   "execution_count": 8,
   "metadata": {},
   "outputs": [
    {
     "data": {
      "text/plain": [
       "0.9999999999999999"
      ]
     },
     "execution_count": 8,
     "metadata": {},
     "output_type": "execute_result"
    }
   ],
   "source": [
    "# creating dummy values and weights\n",
    "values = 1e-10 * numpy.ones(5)\n",
    "weights = values/values.sum()\n",
    "weights.sum()"
   ]
  },
  {
   "cell_type": "code",
   "execution_count": 16,
   "metadata": {},
   "outputs": [
    {
     "data": {
      "text/plain": [
       "Decimal('1.0000000000000000364321973154977415791655470655996396089904010295867919921875E-10')"
      ]
     },
     "execution_count": 16,
     "metadata": {},
     "output_type": "execute_result"
    }
   ],
   "source": [
    "# try using Decimal.  Following this website \"https://docs.python.org/2/library/decimal.html\", \n",
    "# I ought to be able to set the precision using getcontext...but that isn't working\n",
    "weights_list = []\n",
    "getcontext().prec = 5\n",
    "Decimal(values[0])"
   ]
  },
  {
   "cell_type": "code",
   "execution_count": 14,
   "metadata": {},
   "outputs": [
    {
     "name": "stdout",
     "output_type": "stream",
     "text": [
      "1.0000000000000000364321973154977415791655470655996396089904010295867919921875E-10 1.0000000000000000364321973154977415791655470655996396089904010295867919921875E-10\n",
      "1.0000000000000000364321973154977415791655470655996396089904010295867919921875E-10 1.0000000000000000364321973154977415791655470655996396089904010295867919921875E-10\n",
      "1.0000000000000000364321973154977415791655470655996396089904010295867919921875E-10 1.0000000000000000364321973154977415791655470655996396089904010295867919921875E-10\n",
      "1.0000000000000000364321973154977415791655470655996396089904010295867919921875E-10 1.0000000000000000364321973154977415791655470655996396089904010295867919921875E-10\n",
      "1.0000000000000000364321973154977415791655470655996396089904010295867919921875E-10 1.0000000000000000364321973154977415791655470655996396089904010295867919921875E-10\n"
     ]
    },
    {
     "data": {
      "text/plain": [
       "0.0"
      ]
     },
     "execution_count": 14,
     "metadata": {},
     "output_type": "execute_result"
    }
   ],
   "source": [
    "# try using Decimal\n",
    "weights_list = []\n",
    "getcontext().prec = 5\n",
    "for value in values:\n",
    "    print(Decimal(value),Decimal(value))\n",
    "    #weights_list.append(Decimal(value)/Decimal(value))\n",
    "weights = numpy.array(weights_list)    \n",
    "weights.sum()"
   ]
  },
  {
   "cell_type": "code",
   "execution_count": 10,
   "metadata": {},
   "outputs": [
    {
     "data": {
      "text/plain": [
       "0.9999999999999999"
      ]
     },
     "execution_count": 10,
     "metadata": {},
     "output_type": "execute_result"
    }
   ],
   "source": [
    "# OLD: use Decimal library to fix\n",
    "string_weight = []\n",
    "float_weight = []\n",
    "getcontext().prec = 10\n",
    "for number in weights:\n",
    "    string_weight.append(Decimal(str(number)))\n",
    "for string in string_weight:\n",
    "    float_weight.append(float(string))\n",
    "float_weight = numpy.array(float_weight)\n",
    "float_weight.sum()"
   ]
  },
  {
   "cell_type": "code",
   "execution_count": null,
   "metadata": {},
   "outputs": [],
   "source": []
  }
 ],
 "metadata": {
  "kernelspec": {
   "display_name": "Python 3",
   "language": "python",
   "name": "python3"
  },
  "language_info": {
   "codemirror_mode": {
    "name": "ipython",
    "version": 3
   },
   "file_extension": ".py",
   "mimetype": "text/x-python",
   "name": "python",
   "nbconvert_exporter": "python",
   "pygments_lexer": "ipython3",
   "version": "3.8.4"
  }
 },
 "nbformat": 4,
 "nbformat_minor": 4
}
