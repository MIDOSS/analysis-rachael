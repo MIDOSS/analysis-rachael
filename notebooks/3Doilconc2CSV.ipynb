{
 "cells": [
  {
   "cell_type": "markdown",
   "metadata": {},
   "source": [
    "# Print (subset of) 3D Oil concentration to CSV file \n",
    "This script is a very basic option for printing 3D oil concentrations to CSV file.\n",
    "\"Basic\" in that the header information is simply \"t,d,y,x\" for \"time, depth, y, x\" and the values are all integer values. \n",
    "\n",
    "All of the 40 depth levels and 169 time intervals are included in output.  The x- and y-coordinates are trimmed to save space and concentrate on the regions of non-trivial values. "
   ]
  },
  {
   "cell_type": "code",
   "execution_count": 1,
   "metadata": {},
   "outputs": [],
   "source": [
    "import xarray as xr\n",
    "import csv\n",
    "import cmocean as cm\n",
    "import matplotlib.pyplot as plt\n",
    "from salishsea_tools import viz_tools, utilities"
   ]
  },
  {
   "cell_type": "markdown",
   "metadata": {},
   "source": [
    "## Load data and display formatting"
   ]
  },
  {
   "cell_type": "code",
   "execution_count": 2,
   "metadata": {},
   "outputs": [],
   "source": [
    "AKNS = xr.open_dataset('/home/rmueller/Projects/MIDOSS/results/by_location/SOG_05jun2015/Lagrangian_AKNS_crude_SOG_05jun15_12jun15_MediumFloater_AKNS_1000m3.nc')"
   ]
  },
  {
   "cell_type": "code",
   "execution_count": 3,
   "metadata": {},
   "outputs": [
    {
     "data": {
      "text/plain": [
       "<xarray.Dataset>\n",
       "Dimensions:              (grid_x: 396, grid_y: 896, grid_z: 40, time: 169)\n",
       "Coordinates:\n",
       "  * time                 (time) datetime64[ns] 2015-06-05T00:30:00 ...\n",
       "  * grid_y               (grid_y) int16 0 1 2 3 4 5 6 7 8 9 10 11 12 13 14 ...\n",
       "  * grid_x               (grid_x) int16 0 1 2 3 4 5 6 7 8 9 10 11 12 13 14 ...\n",
       "  * grid_z               (grid_z) int16 0 1 2 3 4 5 6 7 8 9 10 11 12 13 14 ...\n",
       "Data variables:\n",
       "    OilConcentration_2D  (time, grid_y, grid_x) float64 ...\n",
       "    Thickness_2D         (time, grid_y, grid_x) float64 ...\n",
       "    Dissolution_3D       (time, grid_z, grid_y, grid_x) float64 ...\n",
       "    OilConcentration_3D  (time, grid_z, grid_y, grid_x) float64 ...\n",
       "    Beaching_Time        (grid_y, grid_x) datetime64[ns] ...\n",
       "    Oil_Arrival_Time     (grid_y, grid_x) datetime64[ns] ...\n",
       "Attributes:\n",
       "    nco_openmp_thread_number:   1\n",
       "    history:                    Wed Jun  5 08:46:16 2019: ncks -4 -L4 -A /loc...\n",
       "    NCO:                        4.6.6\n",
       "    history_of_appended_files:  Wed Jun  5 08:46:16 2019: Appended file /loca..."
      ]
     },
     "execution_count": 3,
     "metadata": {},
     "output_type": "execute_result"
    }
   ],
   "source": [
    "AKNS"
   ]
  },
  {
   "cell_type": "markdown",
   "metadata": {},
   "source": [
    "## Select the limited range of y=[250:600] and x = [200:350] and print to file"
   ]
  },
  {
   "cell_type": "code",
   "execution_count": 4,
   "metadata": {},
   "outputs": [],
   "source": [
    "conc3d = AKNS.OilConcentration_3D[:,:,200:500,200:370].values"
   ]
  },
  {
   "cell_type": "code",
   "execution_count": 5,
   "metadata": {},
   "outputs": [],
   "source": [
    "time = AKNS.time[0:168]\n",
    "depth = AKNS.grid_z[0:39]\n",
    "y = AKNS.grid_y[200:500]\n",
    "x = AKNS.grid_x[200:370]"
   ]
  },
  {
   "cell_type": "code",
   "execution_count": 6,
   "metadata": {},
   "outputs": [],
   "source": [
    "with open('3d_Oil_conc.csv','w') as csvfile:\n",
    "    writer=csv.writer(csvfile, delimiter=',',lineterminator='\\n',)\n",
    "    writer.writerow(\"t\" +\"d\"+\"y\"+\"x\")\n",
    "    for it in range(len(time)):\n",
    "        for iz in range(len(depth)):\n",
    "            for iy in range(len(y)):\n",
    "                for ix in range(len(x)):\n",
    "                    writer.writerow([str(it.real), str(iz.real), iy.real, ix.real, conc3d[it,iz,iy,ix]])\n",
    "\n"
   ]
  },
  {
   "cell_type": "markdown",
   "metadata": {},
   "source": [
    "## Plot up Oil Concentration 3D\n",
    "First sum over depth and time to yield 2D view"
   ]
  },
  {
   "cell_type": "code",
   "execution_count": 7,
   "metadata": {},
   "outputs": [],
   "source": [
    "conc3d_tz = conc3d.sum(0).sum(0)"
   ]
  },
  {
   "cell_type": "code",
   "execution_count": 8,
   "metadata": {},
   "outputs": [
    {
     "data": {
      "text/plain": [
       "(300, 170)"
      ]
     },
     "execution_count": 8,
     "metadata": {},
     "output_type": "execute_result"
    }
   ],
   "source": [
    "conc3d_tz.shape\n"
   ]
  },
  {
   "cell_type": "code",
   "execution_count": 9,
   "metadata": {},
   "outputs": [
    {
     "data": {
      "image/png": "[encoded data removed]",
      "text/plain": [
       "<Figure size 1440x1440 with 1 Axes>"
      ]
     },
     "metadata": {},
     "output_type": "display_data"
    }
   ],
   "source": [
    "fs = 56\n",
    "fig = plt.figure(figsize=(20,20))\n",
    "ax1 = fig.add_subplot(121)\n",
    "mappable = ax1.pcolormesh(conc3d_tz, cmap = cm.cm.balance)\n"
   ]
  },
  {
   "cell_type": "code",
   "execution_count": null,
   "metadata": {},
   "outputs": [],
   "source": []
  }
 ],
 "metadata": {
  "kernelspec": {
   "display_name": "Python 3",
   "language": "python",
   "name": "python3"
  },
  "language_info": {
   "codemirror_mode": {
    "name": "ipython",
    "version": 3
   },
   "file_extension": ".py",
   "mimetype": "text/x-python",
   "name": "python",
   "nbconvert_exporter": "python",
   "pygments_lexer": "ipython3",
   "version": "3.6.8"
  }
 },
 "nbformat": 4,
 "nbformat_minor": 2
}
