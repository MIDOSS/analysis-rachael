{
 "cells": [
  {
   "cell_type": "markdown",
   "metadata": {},
   "source": [
    "# Plot up 2D (surface) oil thickness for the Strait of Georgia Point\n",
    "## Comparing high tide and low tide results for:\n",
    "  - Alaska North Slope Crude (AKNS)\n",
    "  - Diesel\n",
    "  - Gasoline\n",
    "  - Jet Fuel\n",
    "## This is a spring tide, non-freshet, light wind, weak current case"
   ]
  },
  {
   "cell_type": "code",
   "execution_count": null,
   "metadata": {},
   "outputs": [],
   "source": [
    "# imports for graphic display\n",
    "import matplotlib.pyplot as plt\n",
    "from matplotlib import gridspec\n",
    "import matplotlib.colors as colors\n",
    "import cmocean as cm\n",
    "from mpl_toolkits.axes_grid1 import make_axes_locatable\n",
    "%matplotlib inline\n",
    "\n",
    "# imports for data manipulation\n",
    "import numpy as np\n",
    "import xarray as xr\n",
    "from salishsea_tools import viz_tools, utilities\n",
    "import numpy.ma as ma\n",
    "import datetime"
   ]
  },
  {
   "cell_type": "markdown",
   "metadata": {},
   "source": [
    "## Load results"
   ]
  },
  {
   "cell_type": "markdown",
   "metadata": {},
   "source": [
    "### high tide"
   ]
  },
  {
   "cell_type": "code",
   "execution_count": null,
   "metadata": {},
   "outputs": [],
   "source": [
    "AKNS = xr.open_dataset('/home/rmueller/Projects/MIDOSS/results/by_location/SOG_01dec2017/high_tide/Lagrangian_AKNS_crude_SOG_01dec17_MediumFloater_1000m3_6days_hi.nc')\n",
    "diesel = xr.open_dataset('/home/rmueller/Projects/MIDOSS/results/by_location/SOG_01dec2017/high_tide/Lagrangian_DieselFuel_refined_SOG_01dec17_LightEvaporatorsDiesel_1000m3_6days_hi.nc')\n",
    "gas = xr.open_dataset('/home/rmueller/Projects/MIDOSS/results/by_location/SOG_01dec2017/high_tide/Lagrangian_Gasoline_refined_SOG_01dec17_LightEvaporatorGas_1000m3_6days_hi.nc')\n",
    "jet = xr.open_dataset('/home/rmueller/Projects/MIDOSS/results/by_location/SOG_01dec2017/high_tide/Lagrangian_JetFuel_refined_SOG_01dec17_LightEvaporatorJetFuel_1000m3_6days_hi.nc')"
   ]
  },
  {
   "cell_type": "markdown",
   "metadata": {},
   "source": [
    "### low tide"
   ]
  },
  {
   "cell_type": "code",
   "execution_count": null,
   "metadata": {},
   "outputs": [],
   "source": [
    "AKNS_low = xr.open_dataset('/home/rmueller/Projects/MIDOSS/results/by_location/SOG_01dec2017/low_tide/Lagrangian_AKNS_crude_SOG_01dec17_MediumFloater_1000m3_6days_VVLfix.nc')\n",
    "diesel_low = xr.open_dataset('/home/rmueller/Projects/MIDOSS/results/by_location/SOG_01dec2017/low_tide/Lagrangian_DieselFuel_refined_SOG_01dec17_LightEvaporatorsDiesel_1000m3_6days.nc')\n",
    "gas_low = xr.open_dataset('/home/rmueller/Projects/MIDOSS/results/by_location/SOG_01dec2017/low_tide/Lagrangian_Gasoline_refined_SOG_01dec17_LightEvaporatorGas_1000m3_6days.nc')\n",
    "jet_low = xr.open_dataset('/home/rmueller/Projects/MIDOSS/results/by_location/SOG_01dec2017/low_tide/Lagrangian_JetFuel_refined_SOG_01dec17_LightEvaporatorJetFuel_1000m3_6days.nc')"
   ]
  },
  {
   "cell_type": "markdown",
   "metadata": {},
   "source": [
    "## Extract surface thickness and sum over time to get sense of where oil goes through simulation"
   ]
  },
  {
   "cell_type": "markdown",
   "metadata": {},
   "source": [
    "### high tide"
   ]
  },
  {
   "cell_type": "code",
   "execution_count": null,
   "metadata": {},
   "outputs": [],
   "source": [
    "AKNS_thick = AKNS.Thickness_2D\n",
    "diesel_thick = diesel.Thickness_2D\n",
    "gas_thick = gas.Thickness_2D\n",
    "jet_thick = jet.Thickness_2D"
   ]
  },
  {
   "cell_type": "code",
   "execution_count": null,
   "metadata": {},
   "outputs": [],
   "source": [
    "AKNS_thick_s = AKNS_thick.sum(dim='time')\n",
    "diesel_thick_s = diesel_thick.sum(dim='time')\n",
    "gas_thick_s = gas_thick.sum(dim='time')\n",
    "jet_thick_s = jet_thick.sum(dim='time')"
   ]
  },
  {
   "cell_type": "markdown",
   "metadata": {},
   "source": [
    "### low tide"
   ]
  },
  {
   "cell_type": "code",
   "execution_count": null,
   "metadata": {},
   "outputs": [],
   "source": [
    "AKNS_thick_low = AKNS_low.Thickness_2D\n",
    "diesel_thick_low = diesel_low.Thickness_2D\n",
    "gas_thick_low = gas_low.Thickness_2D\n",
    "jet_thick_low = jet_low.Thickness_2D"
   ]
  },
  {
   "cell_type": "code",
   "execution_count": null,
   "metadata": {},
   "outputs": [],
   "source": [
    "AKNS_thick_low_s = AKNS_thick_low.sum(dim='time')\n",
    "diesel_thick_low_s = diesel_thick_low.sum(dim='time')\n",
    "gas_thick_low_s = gas_thick_low.sum(dim='time')\n",
    "jet_thick_low_s = jet_thick_low.sum(dim='time')"
   ]
  },
  {
   "cell_type": "markdown",
   "metadata": {},
   "source": [
    "## Plot results"
   ]
  },
  {
   "cell_type": "code",
   "execution_count": null,
   "metadata": {},
   "outputs": [],
   "source": [
    "fig = plt.figure(figsize=(20,20))\n",
    "ax1 = fig.add_subplot(121)\n",
    "ax2 = fig.add_subplot(122)\n",
    "# convert xarray into numpy using \".values\" in order to gain access to different visualization tools\n",
    "mappable = ax1.pcolormesh(AKNS_thick_s.values, vmin = 0, vmax = 100, cmap = cm.cm.balance)\n",
    "mappable = ax2.pcolormesh(diesel_thick_s.values, vmin = 0, vmax = 100, cmap = cm.cm.balance)\n",
    "\n",
    "# add land mask to ax1 and ax2\n",
    "viz_tools.plot_land_mask(ax1,'/home/rmueller/Projects/MIDOSS/MIDOSS-MOHID-grid/AfterNEMOBathy201702.nc', color = 'burlywood')\n",
    "viz_tools.plot_land_mask(ax2,'/home/rmueller/Projects/MIDOSS/MIDOSS-MOHID-grid/AfterNEMOBathy201702.nc', color = 'burlywood')\n",
    "\n",
    "# remove axis labelsand add titles for AKNS graphic\n",
    "viz_tools.set_aspect(ax1)\n",
    "ax1.set_xticklabels([])\n",
    "ax1.set_yticklabels([])\n",
    "#ax1.set_ylabel('test', fontsize = 20)\n",
    "ax1.set_title('Alaska North Slope Crude', fontsize = 23)\n",
    "\n",
    "# remove axis labelsand add titles for diesel graphic\n",
    "viz_tools.set_aspect(ax2)\n",
    "ax2.set_xticklabels([])\n",
    "ax2.set_yticklabels([])\n",
    "#ax1.set_ylabel('test', fontsize = 20)\n",
    "ax2.set_title('Diesel', fontsize = 23)\n",
    "\n",
    "# add\n",
    "# add colorbar \n",
    "#cbar = fig.colorbar(mappable)\n",
    "#cbar.set_label('thickness', fontsize = 20)\n",
    "#cbar.ax.tick_params(labelsize = 20)\n",
    "\n",
    "# remove the colorbar to have more control on sizing\n",
    "#test = mappable.colorbar\n",
    "#test.remove()\n",
    "\n",
    "# adjust colorbar for AKNS graphic\n",
    "divider = make_axes_locatable(ax1)\n",
    "c1 = divider.append_axes(\"right\", size = '10%', pad = .25)\n",
    "cb = plt.colorbar(mappable, cax = c1)\n",
    "cb.set_label('Thickness (microns) summed over 6-days', fontsize=20)\n",
    "cb.ax.tick_params(labelsize = 20)\n",
    "cb.remove()\n",
    "\n",
    "# adjust colorbar for diesel graphic\n",
    "divider = make_axes_locatable(ax2)\n",
    "c2 = divider.append_axes(\"right\", size = '10%', pad = .25)\n",
    "cb = plt.colorbar(mappable, cax = c2)\n",
    "cb.set_label('Thickness (microns) summed over 6-days', fontsize=20)\n",
    "cb.ax.tick_params(labelsize = 20)\n",
    "\n",
    "viz_tools.plot_coastline\n",
    "\n",
    "plt.savefig('./AKNS_Diesel_thickness_01dec2017.jpeg',format='jpeg', dpi=500)\n",
    "\n"
   ]
  },
  {
   "cell_type": "code",
   "execution_count": null,
   "metadata": {},
   "outputs": [],
   "source": [
    "fig = plt.figure(figsize=(8*1.2,20*1.2))\n",
    "\n",
    "# high tide\n",
    "ax1 = fig.add_subplot(421)\n",
    "ax2 = fig.add_subplot(423)\n",
    "ax3 = fig.add_subplot(425)\n",
    "ax4 = fig.add_subplot(427)\n",
    "ax5 = fig.add_subplot(422)\n",
    "ax6 = fig.add_subplot(424)\n",
    "ax7 = fig.add_subplot(426)\n",
    "ax8 = fig.add_subplot(428)\n",
    "\n",
    "ax_ar = [ax1, ax2, ax3, ax4, ax5, ax6, ax7, ax8 ]\n",
    "\n",
    "\n",
    "tplt = AKNS_thick_s.values\n",
    "#ax1.scatter(tplt, cmap = cm.cm.balance)\n",
    "# ax.\n",
    "AKNS_thick_s.plot.pcolormesh(ax=ax1, levels = [0, 01, 10, 20, 30, 50,100], cmap = cm.cm.balance)\n",
    "viz_tools.plot_land_mask(ax1,'/data/tjarniko/MEOPAR/NEMO-forcing/grid/bathy_meter_SalishSea2.nc', color = 'burlywood')\n",
    "viz_tools.set_aspect(ax1)\n",
    "\n",
    "diesel_thick_s.plot(ax=ax2, levels = [0, 10, 20, 30, 50,100])\n",
    "jet_thick_s.plot(ax=ax3, levels = [0, 10, 20, 30, 50,100])\n",
    "gas_thick_s.plot(ax=ax4, levels = [0, 10, 20, 30, 50,100])\n",
    "\n",
    "# low tide\n",
    "\n",
    "\n",
    "AKNS_thick_s.plot(ax=ax5, levels = [0, 10, 20, 30, 50,100])\n",
    "diesel_thick_s.plot(ax=ax6, levels = [0, 10, 20, 30, 50,100])\n",
    "jet_thick_s.plot(ax=ax7, levels = [0, 10, 20, 30, 50,100])\n",
    "gas_thick_s.plot(ax=ax8, levels = [0, 10, 20, 30, 50,100])\n",
    "\n",
    "# titles\n",
    "ax1.set_title('AKNS')\n",
    "ax2.set_title('diesel')\n",
    "ax3.set_title('jet fuel')\n",
    "ax4.set_title('gasoline')\n",
    "\n",
    "# titles\n",
    "ax5.set_title('AKNS')\n",
    "ax6.set_title('diesel')\n",
    "ax7.set_title('jet fuel')\n",
    "ax8.set_title('gasoline')\n",
    "\n",
    "for axis in ax_ar:\n",
    "    viz_tools.plot_land_mask(axis,'/data/tjarniko/MEOPAR/NEMO-forcing/grid/bathy_meter_SalishSea2.nc', color = 'burlywood')\n",
    "    viz_tools.set_aspect(axis)\n"
   ]
  },
  {
   "cell_type": "code",
   "execution_count": null,
   "metadata": {},
   "outputs": [],
   "source": [
    "test"
   ]
  },
  {
   "cell_type": "code",
   "execution_count": null,
   "metadata": {},
   "outputs": [],
   "source": []
  },
  {
   "cell_type": "code",
   "execution_count": null,
   "metadata": {},
   "outputs": [],
   "source": []
  },
  {
   "cell_type": "code",
   "execution_count": null,
   "metadata": {},
   "outputs": [],
   "source": []
  },
  {
   "cell_type": "code",
   "execution_count": null,
   "metadata": {},
   "outputs": [],
   "source": []
  }
 ],
 "metadata": {
  "kernelspec": {
   "display_name": "Python 3",
   "language": "python",
   "name": "python3"
  },
  "language_info": {
   "codemirror_mode": {
    "name": "ipython",
    "version": 3
   },
   "file_extension": ".py",
   "mimetype": "text/x-python",
   "name": "python",
   "nbconvert_exporter": "python",
   "pygments_lexer": "ipython3",
   "version": "3.6.8"
  }
 },
 "nbformat": 4,
 "nbformat_minor": 2
}
