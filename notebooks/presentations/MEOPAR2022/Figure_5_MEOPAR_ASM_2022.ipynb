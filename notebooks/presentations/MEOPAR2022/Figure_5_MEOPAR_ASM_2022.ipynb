{
 "cells": [
  {
   "cell_type": "markdown",
   "id": "965a5437-4f05-489f-8b93-7eb2be83304c",
   "metadata": {},
   "source": [
    "## Figure 5: \n",
    "## Data used for the percent capacity spill calculation\n",
    "\n",
    "Use `analysis-rachael/env/monte_carlo.yaml` to create an environment for this notebook:\n",
    "```\n",
    " conda env create -f [analysis-rachael/env/monte_carlo.yaml]\n",
    "```\n",
    "or, to activate this environment, use\n",
    "```\n",
    " conda activate monte-carlo\n",
    "```\n",
    "To deactivate an active environment, use\n",
    "```\n",
    " conda deactivate\n",
    "```\n",
    "\n",
    "The data shown here was researched and curated by Ryah Rondolo (UBC)"
   ]
  },
  {
   "cell_type": "code",
   "execution_count": 1,
   "id": "a926b563-6a7f-41b5-8b9b-a360c1b5421f",
   "metadata": {},
   "outputs": [],
   "source": [
    "import numpy\n",
    "import pandas\n",
    "import matplotlib.pyplot as plt\n",
    "from math import exp\n",
    "import pathlib\n",
    "import yaml\n",
    "pandas.options.display.float_format = '{:,.2f}'.format\n",
    "pandas.set_option('display.max_rows', None)"
   ]
  },
  {
   "cell_type": "code",
   "execution_count": 2,
   "id": "af627983-e8d5-418f-b812-d333e390cc9e",
   "metadata": {},
   "outputs": [],
   "source": [
    "data_directory = pathlib.Path(\n",
    "    '/Users/rmueller/Data/MIDOSS/marine_transport_data/'   \n",
    ")\n",
    "data_file = data_directory/'Past_Spill_Events_and_Vessel_Info.xlsx'\n",
    "\n",
    "output_directory = data_directory\n",
    "\n",
    "# load excel data\n",
    "pastSpills = pandas.read_excel(\n",
    "    data_file,\n",
    "    sheet_name='Past Major Spill Events ', \n",
    "    usecols='A,B,D,E,F,G'\n",
    ")"
   ]
  },
  {
   "cell_type": "code",
   "execution_count": 3,
   "id": "ede17147-0c87-48c9-ac33-376c2fcb29d3",
   "metadata": {},
   "outputs": [],
   "source": [
    "format_dict = {\n",
    "    'Approx. Volume Spilled (L)': '{:.2e}',\n",
    "    'Oil On Board (L)': '{:.2e}',\n",
    "    'Approx. % Oil Spilled (L)': '{:.1%}'\n",
    "}"
   ]
  },
  {
   "cell_type": "code",
   "execution_count": 4,
   "id": "99470d3d-c3af-42ec-bbc5-378ef83d9cc2",
   "metadata": {},
   "outputs": [
    {
     "data": {
      "text/html": [
       "<style type=\"text/css\">\n",
       "</style>\n",
       "<table id=\"T_6f48e_\">\n",
       "  <thead>\n",
       "    <tr>\n",
       "      <th class=\"blank level0\" >&nbsp;</th>\n",
       "      <th class=\"col_heading level0 col0\" >Date</th>\n",
       "      <th class=\"col_heading level0 col1\" >Type of Oil Spilled</th>\n",
       "      <th class=\"col_heading level0 col2\" >Approx. Volume Spilled (L)</th>\n",
       "      <th class=\"col_heading level0 col3\" >Oil On Board (L)</th>\n",
       "      <th class=\"col_heading level0 col4\" >Approx. % Oil Spilled (L)</th>\n",
       "    </tr>\n",
       "    <tr>\n",
       "      <th class=\"index_name level0\" >Spill Event</th>\n",
       "      <th class=\"blank col0\" >&nbsp;</th>\n",
       "      <th class=\"blank col1\" >&nbsp;</th>\n",
       "      <th class=\"blank col2\" >&nbsp;</th>\n",
       "      <th class=\"blank col3\" >&nbsp;</th>\n",
       "      <th class=\"blank col4\" >&nbsp;</th>\n",
       "    </tr>\n",
       "  </thead>\n",
       "  <tbody>\n",
       "    <tr>\n",
       "      <th id=\"T_6f48e_level0_row0\" class=\"row_heading level0 row0\" >Tank Barge DBL 152</th>\n",
       "      <td id=\"T_6f48e_row0_col0\" class=\"data row0 col0\" >2005-11-11 00:00:00</td>\n",
       "      <td id=\"T_6f48e_row0_col1\" class=\"data row0 col1\" >Bunker C, diesel fuel</td>\n",
       "      <td id=\"T_6f48e_row0_col2\" class=\"data row0 col2\" >7.20e+06</td>\n",
       "      <td id=\"T_6f48e_row0_col3\" class=\"data row0 col3\" >1.90e+07</td>\n",
       "      <td id=\"T_6f48e_row0_col4\" class=\"data row0 col4\" >37.9%</td>\n",
       "    </tr>\n",
       "    <tr>\n",
       "      <th id=\"T_6f48e_level0_row1\" class=\"row_heading level0 row1\" >Westchester</th>\n",
       "      <td id=\"T_6f48e_row1_col0\" class=\"data row1 col0\" >2000-11-28 00:00:00</td>\n",
       "      <td id=\"T_6f48e_row1_col1\" class=\"data row1 col1\" >Nigerian crude oil</td>\n",
       "      <td id=\"T_6f48e_row1_col2\" class=\"data row1 col2\" >2.10e+06</td>\n",
       "      <td id=\"T_6f48e_row1_col3\" class=\"data row1 col3\" >8.30e+06</td>\n",
       "      <td id=\"T_6f48e_row1_col4\" class=\"data row1 col4\" >25.3%</td>\n",
       "    </tr>\n",
       "    <tr>\n",
       "      <th id=\"T_6f48e_level0_row2\" class=\"row_heading level0 row2\" >Eagle Otome</th>\n",
       "      <td id=\"T_6f48e_row2_col0\" class=\"data row2 col0\" >2010-01-23 00:00:00</td>\n",
       "      <td id=\"T_6f48e_row2_col1\" class=\"data row2 col1\" >Light crude oil (Olmeca Crude-Sour)</td>\n",
       "      <td id=\"T_6f48e_row2_col2\" class=\"data row2 col2\" >1.70e+06</td>\n",
       "      <td id=\"T_6f48e_row2_col3\" class=\"data row2 col3\" >9.17e+07</td>\n",
       "      <td id=\"T_6f48e_row2_col4\" class=\"data row2 col4\" >1.9%</td>\n",
       "    </tr>\n",
       "    <tr>\n",
       "      <th id=\"T_6f48e_level0_row3\" class=\"row_heading level0 row3\" >MV Selendang Ayu</th>\n",
       "      <td id=\"T_6f48e_row3_col0\" class=\"data row3 col0\" >2004-12-08 00:00:00</td>\n",
       "      <td id=\"T_6f48e_row3_col1\" class=\"data row3 col1\" >Intermediate fuel oil, marine diesel oil</td>\n",
       "      <td id=\"T_6f48e_row3_col2\" class=\"data row3 col2\" >1.30e+06</td>\n",
       "      <td id=\"T_6f48e_row3_col3\" class=\"data row3 col3\" >1.69e+06</td>\n",
       "      <td id=\"T_6f48e_row3_col4\" class=\"data row3 col4\" >77.0%</td>\n",
       "    </tr>\n",
       "    <tr>\n",
       "      <th id=\"T_6f48e_level0_row4\" class=\"row_heading level0 row4\" >DM932</th>\n",
       "      <td id=\"T_6f48e_row4_col0\" class=\"data row4 col0\" >2008-07-23 00:00:00</td>\n",
       "      <td id=\"T_6f48e_row4_col1\" class=\"data row4 col1\" >Bunker C</td>\n",
       "      <td id=\"T_6f48e_row4_col2\" class=\"data row4 col2\" >1.02e+06</td>\n",
       "      <td id=\"T_6f48e_row4_col3\" class=\"data row4 col3\" >1.59e+06</td>\n",
       "      <td id=\"T_6f48e_row4_col4\" class=\"data row4 col4\" >64.3%</td>\n",
       "    </tr>\n",
       "  </tbody>\n",
       "</table>\n"
      ],
      "text/plain": [
       "<pandas.io.formats.style.Styler at 0x13deca460>"
      ]
     },
     "execution_count": 4,
     "metadata": {},
     "output_type": "execute_result"
    }
   ],
   "source": [
    "pastSpills=pastSpills.set_index('Spill Event').sort_values(\n",
    "    by='Approx. Volume Spilled (L)', ascending=False).dropna()\n",
    "pastSpills.head().style.format(format_dict)"
   ]
  },
  {
   "cell_type": "code",
   "execution_count": 11,
   "id": "47ed8c7f-0f47-4562-a32d-0f0675dae812",
   "metadata": {},
   "outputs": [
    {
     "ename": "AttributeError",
     "evalue": "'Styler' object has no attribute 'to_markdown'",
     "output_type": "error",
     "traceback": [
      "\u001b[0;31m---------------------------------------------------------------------------\u001b[0m",
      "\u001b[0;31mAttributeError\u001b[0m                            Traceback (most recent call last)",
      "\u001b[0;32m/var/folders/36/r7rkkw2567v70rmk6z0twn6r0000gp/T/ipykernel_11432/1417639293.py\u001b[0m in \u001b[0;36m<module>\u001b[0;34m\u001b[0m\n\u001b[1;32m      1\u001b[0m \u001b[0mpandas\u001b[0m\u001b[0;34m.\u001b[0m\u001b[0mset_option\u001b[0m\u001b[0;34m(\u001b[0m\u001b[0;34m'display.max_rows'\u001b[0m\u001b[0;34m,\u001b[0m \u001b[0;32mNone\u001b[0m\u001b[0;34m)\u001b[0m\u001b[0;34m\u001b[0m\u001b[0;34m\u001b[0m\u001b[0m\n\u001b[0;32m----> 2\u001b[0;31m \u001b[0mpastSpills\u001b[0m\u001b[0;34m.\u001b[0m\u001b[0mhead\u001b[0m\u001b[0;34m(\u001b[0m\u001b[0;34m)\u001b[0m\u001b[0;34m.\u001b[0m\u001b[0mstyle\u001b[0m\u001b[0;34m.\u001b[0m\u001b[0mformat\u001b[0m\u001b[0;34m(\u001b[0m\u001b[0mformat_dict\u001b[0m\u001b[0;34m)\u001b[0m\u001b[0;34m.\u001b[0m\u001b[0mto_markdown\u001b[0m\u001b[0;34m(\u001b[0m\u001b[0;34m)\u001b[0m\u001b[0;34m\u001b[0m\u001b[0;34m\u001b[0m\u001b[0m\n\u001b[0m",
      "\u001b[0;31mAttributeError\u001b[0m: 'Styler' object has no attribute 'to_markdown'"
     ]
    }
   ],
   "source": [
    "pandas.set_option('display.max_rows', None)\n",
    "pastSpills.head().style.format(format_dict).to_markdown()"
   ]
  },
  {
   "cell_type": "code",
   "execution_count": null,
   "id": "730f22d6-c3a5-4769-916a-a470bf79af3f",
   "metadata": {},
   "outputs": [],
   "source": []
  },
  {
   "cell_type": "code",
   "execution_count": null,
   "id": "27fbef5b-dfbc-4830-84f7-8019daa854ce",
   "metadata": {},
   "outputs": [],
   "source": []
  }
 ],
 "metadata": {
  "kernelspec": {
   "display_name": "Python 3 (ipykernel)",
   "language": "python",
   "name": "python3"
  },
  "language_info": {
   "codemirror_mode": {
    "name": "ipython",
    "version": 3
   },
   "file_extension": ".py",
   "mimetype": "text/x-python",
   "name": "python",
   "nbconvert_exporter": "python",
   "pygments_lexer": "ipython3",
   "version": "3.8.2"
  }
 },
 "nbformat": 4,
 "nbformat_minor": 5
}
