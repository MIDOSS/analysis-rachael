{
 "cells": [
  {
   "cell_type": "markdown",
   "metadata": {},
   "source": [
    "# Save to netcdf surface currents, wind speeds and salinity\n",
    "This script is based on Ashu's \"Make_profiles.ipynb\" notebook in \"climatology_analysis_notebooks\""
   ]
  },
  {
   "cell_type": "code",
   "execution_count": 2,
   "metadata": {},
   "outputs": [],
   "source": [
    "import os\n",
    "import xarray as xr\n",
    "import numpy as np\n",
    "from dateutil.parser import parse\n",
    "# import the file path location from the forcing_paths.py script\n",
    "import importlib.util\n",
    "spec = importlib.util.spec_from_file_location(\"forcing_paths.py\", \"/ocean/abhudia/MEOPAR/analysis-ashutosh/scripts/make-hdf5/forcing_paths.py\")\n",
    "paths = importlib.util.module_from_spec(spec)\n",
    "spec.loader.exec_module(paths)"
   ]
  },
  {
   "cell_type": "code",
   "execution_count": 3,
   "metadata": {},
   "outputs": [],
   "source": [
    "def timer(func):\n",
    "    \"\"\"Decorator function for timing function calls\n",
    "    \"\"\"\n",
    "    def f(*args, **kwargs):\n",
    "        beganat = time.time()\n",
    "        rv = func(*args, *kwargs)\n",
    "        elapsed = time.time() - beganat\n",
    "        hours = int(elapsed / 3600)\n",
    "        mins = int((elapsed - (hours*3600))/60)\n",
    "        secs = int((elapsed - (hours*3600) - (mins*60)))\n",
    "        print('\\nTime elapsed: {}:{}:{}\\n'.format(hours, mins, secs))\n",
    "        return rv\n",
    "    return f"
   ]
  },
  {
   "cell_type": "markdown",
   "metadata": {},
   "source": [
    "## Define record length, grid location, and output file to use for graphic(s) "
   ]
  },
  {
   "cell_type": "code",
   "execution_count": 4,
   "metadata": {},
   "outputs": [],
   "source": [
    "# time period to plot up\n",
    "start_time = '26 nov 2017'\n",
    "end_time = '14 dec 2017'\n",
    "#start_time = '30 may 2015'\n",
    "#end_time = '22 jun 2015'\n",
    "\n",
    "# time period of model simulations to overlay on longer time series\n",
    "start_model = '1 dec 2017'\n",
    "end_model = '7 dec 2017'\n",
    "#start_model = '5 dec 2017'\n",
    "#end_model = '12 dec 2017'\n",
    "\n",
    "# SalishSeaCast and HRDPS grid indexing from [Ashu's \"Pick Grid Points\" script](https://nbviewer.jupyter.org/urls/bitbucket.org/midoss/analysis-ashutosh/raw/default/climatology_analysis_notebooks//Pick%20grid%20points.ipynb) \n",
    "# grid indexing for SalishSeaCast (note: I think of grid indexing as [y,x] and use this naming convention even though I'm not sure whether python orients in this way. )\n",
    "loc = 'SOG' \n",
    "ssc_y = 474 \n",
    "ssc_x = 252\n",
    "\n",
    "# grid indexing for HRDPS\n",
    "hrdps_y = 143 \n",
    "hrdps_x = 141\n",
    "\n",
    "# output netcdf to save data to\n",
    "output_current_netcdf = loc + '_current_timeseries_' + ''.join(start_time.split()) + '_' + ''.join(end_time.split()) + '.nc'\n",
    "output_wind_netcdf    = loc + '_wind_timeseries_' + ''.join(start_time.split()) + '_' + ''.join(end_time.split()) + '.nc'\n",
    "output_salty_netcdf   = loc + '_salinity_timeseries_' + ''.join(start_time.split()) + '_' + ''.join(end_time.split()) + '.nc'"
   ]
  },
  {
   "cell_type": "markdown",
   "metadata": {},
   "source": [
    "### Surface currents"
   ]
  },
  {
   "cell_type": "code",
   "execution_count": 5,
   "metadata": {},
   "outputs": [],
   "source": [
    "u_paths = paths.salishseacast_paths(parse(start_time), parse(end_time), '/results2/SalishSea/nowcast-green.201806/', 'grid_U')\n",
    "v_paths = paths.salishseacast_paths(parse(start_time), parse(end_time), '/results2/SalishSea/nowcast-green.201806/', 'grid_V')"
   ]
  },
  {
   "cell_type": "markdown",
   "metadata": {},
   "source": [
    "### Salinity"
   ]
  },
  {
   "cell_type": "code",
   "execution_count": 6,
   "metadata": {},
   "outputs": [],
   "source": [
    "salty_paths = paths.salishseacast_paths(parse(start_time), parse(end_time), '/results2/SalishSea/nowcast-green.201806/', 'grid_T')"
   ]
  },
  {
   "cell_type": "markdown",
   "metadata": {},
   "source": [
    "### HRDPS"
   ]
  },
  {
   "cell_type": "code",
   "execution_count": 7,
   "metadata": {},
   "outputs": [],
   "source": [
    "wind_paths = paths.hrdps_paths(parse(start_time), parse(end_time), '/results/forcing/atmospheric/GEM2.5/operational/')"
   ]
  },
  {
   "cell_type": "markdown",
   "metadata": {},
   "source": [
    "## Define grid location from analysis-ashutosh/climatology_analysis_notebooks/Pick grid points.ipynb, we have the locations of the three points chosen as: ((y,x) order)"
   ]
  },
  {
   "cell_type": "code",
   "execution_count": 8,
   "metadata": {},
   "outputs": [],
   "source": [
    "SoG=(np.array([ssc_y]), np.array([ssc_x]))"
   ]
  },
  {
   "cell_type": "markdown",
   "metadata": {},
   "source": [
    "### Concatenate surface current vectors"
   ]
  },
  {
   "cell_type": "code",
   "execution_count": 9,
   "metadata": {},
   "outputs": [],
   "source": [
    "# create u-velocity vector\n",
    "first = True\n",
    "for file_path in u_paths:\n",
    "    f = xr.open_dataset(file_path).isel(depthu = 0).vozocrtx\n",
    "    u_now = f.isel(y = ssc_y, x = ssc_x)\n",
    "    time_now = f.time_centered\n",
    "    if first is True:\n",
    "        u_velocity = u_now\n",
    "        time = time_now\n",
    "        first = False\n",
    "    else:\n",
    "        u_velocity = xr.concat((u_velocity, u_now), dim = 'time_counter')\n",
    "        time = xr.concat((time, time_now), dim = 'time_counter')\n",
    "\n",
    "# create v-velocity vector  \n",
    "# we will use \"time\" from the u-velocity loop and won't repeat here\n",
    "first = True\n",
    "for file_path in v_paths:\n",
    "    f = xr.open_dataset(file_path).isel(depthv = 0).vomecrty\n",
    "    v_now = f.isel(y = ssc_y, x = ssc_x)\n",
    "    if first is True:\n",
    "        v_velocity = v_now\n",
    "        first = False\n",
    "    else:\n",
    "        v_velocity = xr.concat((v_velocity, v_now), dim = 'time_counter')\n",
    "        "
   ]
  },
  {
   "cell_type": "markdown",
   "metadata": {},
   "source": [
    "### Calculate current speed"
   ]
  },
  {
   "cell_type": "code",
   "execution_count": 10,
   "metadata": {},
   "outputs": [],
   "source": [
    "u = u_velocity.values\n",
    "v = v_velocity.values\n",
    "U = (u**2 + v**2)**0.5"
   ]
  },
  {
   "cell_type": "markdown",
   "metadata": {},
   "source": [
    "### Save current speed to file"
   ]
  },
  {
   "cell_type": "code",
   "execution_count": 11,
   "metadata": {},
   "outputs": [
    {
     "name": "stdout",
     "output_type": "stream",
     "text": [
      "SOG_current_timeseries_26nov2017_14dec2017.nc\n"
     ]
    }
   ],
   "source": [
    "# finally, stitch them together and turn the profile into a netcdf file\n",
    "# The syntax ('time',U) identifies \"U\" as the \"Data variable\" dependent on time\n",
    "current_speed = xr.Dataset(data_vars={'uspd': ('time_counter',U)}, coords={'time_counter': time})\n",
    "\n",
    "# remove netcdf file if it already exists\n",
    "if os.path.exists(output_current_netcdf):\n",
    "    os.remove(output_current_netcdf)\n",
    "\n",
    "# write to netcdf\n",
    "current_speed.to_netcdf(output_current_netcdf, format = 'NETCDF4',engine = 'netcdf4')\n",
    "print(output_current_netcdf)"
   ]
  },
  {
   "cell_type": "code",
   "execution_count": 14,
   "metadata": {},
   "outputs": [],
   "source": [
    "# u-wind speed\n",
    "first = True\n",
    "for file_path in wind_paths:\n",
    "    f = xr.open_dataset(file_path).u_wind\n",
    "    u_now = f.isel(y = hrdps_y, x = hrdps_x)\n",
    "    time_now = f.time_counter\n",
    "    #time_now = f.time_centered\n",
    "    if first is True:\n",
    "        u_wind = u_now\n",
    "        time = time_now\n",
    "        first = False\n",
    "    else:\n",
    "        u_wind = xr.concat((u_wind, u_now), dim = 'time_counter')\n",
    "        time = xr.concat((time, time_now), dim = 'time_counter')\n",
    "        \n",
    "# v-wind speed\n",
    "first = True\n",
    "for file_path in wind_paths:\n",
    "    f = xr.open_dataset(file_path).v_wind\n",
    "    v_now = f.isel(y = hrdps_y, x = hrdps_x)\n",
    "    if first is True:\n",
    "        v_wind = v_now\n",
    "        first = False\n",
    "    else:\n",
    "        v_wind = xr.concat((v_wind, v_now), dim = 'time_counter')"
   ]
  },
  {
   "cell_type": "code",
   "execution_count": 13,
   "metadata": {},
   "outputs": [
    {
     "data": {
      "text/plain": [
       "<xarray.DataArray 'u_wind' (time_counter: 24, y: 266, x: 256)>\n",
       "[1634304 values with dtype=float32]\n",
       "Coordinates:\n",
       "  * time_counter  (time_counter) datetime64[ns] 2017-11-26 ...\n",
       "  * x             (x) float64 0.0 2.5e+03 5e+03 7.5e+03 1e+04 1.25e+04 ...\n",
       "  * y             (y) float64 0.0 2.5e+03 5e+03 7.5e+03 1e+04 1.25e+04 ...\n",
       "Attributes:\n",
       "    short_name:   UGRD_10maboveground\n",
       "    long_name:    U-Component of Wind\n",
       "    level:        10 m above ground\n",
       "    units:        m/s\n",
       "    coordinates:  longitude latitude"
      ]
     },
     "execution_count": 13,
     "metadata": {},
     "output_type": "execute_result"
    }
   ],
   "source": [
    "f\n"
   ]
  },
  {
   "cell_type": "markdown",
   "metadata": {},
   "source": [
    "### Calculate wind speed"
   ]
  },
  {
   "cell_type": "code",
   "execution_count": 15,
   "metadata": {},
   "outputs": [],
   "source": [
    "u = u_wind.values\n",
    "v = v_wind.values\n",
    "U_wind = (u**2 + v**2)**0.5"
   ]
  },
  {
   "cell_type": "markdown",
   "metadata": {},
   "source": [
    "### Save current speed to file"
   ]
  },
  {
   "cell_type": "code",
   "execution_count": 16,
   "metadata": {},
   "outputs": [
    {
     "name": "stdout",
     "output_type": "stream",
     "text": [
      "SOG_wind_timeseries_26nov2017_14dec2017.nc\n"
     ]
    }
   ],
   "source": [
    "# finally, stitch them together and turn the profile into a netcdf file\n",
    "# The syntax ('time',U) identifies \"U\" as the \"Data variable\" dependent on time\n",
    "wind_speed = xr.Dataset(data_vars={'wspd': ('time_counter',U_wind)}, coords={'time_counter': time})\n",
    "\n",
    "# remove netcdf file if it already exists\n",
    "if os.path.exists(output_wind_netcdf):\n",
    "    os.remove(output_wind_netcdf)\n",
    "\n",
    "# write to netcdf\n",
    "wind_speed.to_netcdf(output_wind_netcdf, format = 'NETCDF4',engine = 'netcdf4')\n",
    "print(output_wind_netcdf)"
   ]
  },
  {
   "cell_type": "markdown",
   "metadata": {},
   "source": [
    "### Concatenate sea surface salinity (SSS) values"
   ]
  },
  {
   "cell_type": "code",
   "execution_count": 17,
   "metadata": {},
   "outputs": [],
   "source": [
    "# create u-velocity vector\n",
    "first = True\n",
    "for file_path in salty_paths:\n",
    "    f = xr.open_dataset(file_path).isel(deptht = 0).vosaline\n",
    "    s_now = f.isel(y = ssc_y, x = ssc_x)\n",
    "    time_now = f.time_counter\n",
    "    if first is True:\n",
    "        salinity = s_now\n",
    "        time = time_now\n",
    "        first = False\n",
    "    else:\n",
    "        salinity = xr.concat((salinity, s_now), dim = 'time_counter')\n",
    "        time = xr.concat((time, time_now), dim = 'time_counter')"
   ]
  },
  {
   "cell_type": "markdown",
   "metadata": {},
   "source": [
    "### Save SSS to file"
   ]
  },
  {
   "cell_type": "code",
   "execution_count": 18,
   "metadata": {},
   "outputs": [
    {
     "name": "stdout",
     "output_type": "stream",
     "text": [
      "SOG_salinity_timeseries_26nov2017_14dec2017.nc\n"
     ]
    }
   ],
   "source": [
    "# finally, stitch them together and turn the profile into a netcdf file\n",
    "# The syntax ('time',U) identifies \"U\" as the \"Data variable\" dependent on time\n",
    "salty = xr.Dataset(data_vars={'salinity': ('time_counter',salinity)}, coords={'time_counter': time})\n",
    "\n",
    "# remove netcdf file if it already exists\n",
    "if os.path.exists(output_salty_netcdf):\n",
    "    os.remove(output_salty_netcdf)\n",
    "\n",
    "# write to netcdf\n",
    "salty.to_netcdf(output_salty_netcdf, format = 'NETCDF4',engine = 'netcdf4')\n",
    "print(output_salty_netcdf)"
   ]
  },
  {
   "cell_type": "code",
   "execution_count": null,
   "metadata": {},
   "outputs": [],
   "source": []
  }
 ],
 "metadata": {
  "kernelspec": {
   "display_name": "Python 3",
   "language": "python",
   "name": "python3"
  },
  "language_info": {
   "codemirror_mode": {
    "name": "ipython",
    "version": 3
   },
   "file_extension": ".py",
   "mimetype": "text/x-python",
   "name": "python",
   "nbconvert_exporter": "python",
   "pygments_lexer": "ipython3",
   "version": "3.6.8"
  }
 },
 "nbformat": 4,
 "nbformat_minor": 2
}
