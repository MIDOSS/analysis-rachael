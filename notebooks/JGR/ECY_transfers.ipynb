{
 "cells": [
  {
   "cell_type": "markdown",
   "id": "clinical-visitor",
   "metadata": {},
   "source": [
    "## This notebook explores fuel types and the volumes of cargo transfered by fuel type\n",
    "\n",
    "This notebook requires an activation of the `monte_carlo` environment setup \n",
    "located in `analysis-rachael/env`\n",
    "```\n",
    "conda activate monte_carlo\n",
    "```\n",
    "\n",
    "The newest versions of the monte-carlo spills files can be found on Salish at the following location:\n",
    "`/ocean/rmueller/MIDOSS/spill_files_TLPcorrected`"
   ]
  },
  {
   "cell_type": "code",
   "execution_count": 3,
   "id": "alive-foundation",
   "metadata": {},
   "outputs": [],
   "source": [
    "import pandas as pd\n",
    "import numpy as np\n",
    "import matplotlib.pyplot as plt\n",
    "import yaml\n",
    "#from monte_carlo_utils import decimal_divide\n",
    "from pathlib import Path"
   ]
  },
  {
   "cell_type": "markdown",
   "id": "surrounded-restaurant",
   "metadata": {},
   "source": [
    "### User Inputs"
   ]
  },
  {
   "cell_type": "code",
   "execution_count": 6,
   "id": "unnecessary-authority",
   "metadata": {},
   "outputs": [],
   "source": [
    "#~~~~~  User inputs ~~~~~~~~~~~~~~~~~~~~~~~~~~~~~~~~~~~~~~~~~~~~~~~~~~~~~~~~~\n",
    "# Dept. of Ecology data files\n",
    "ECY_dir  = Path('/Users/rmueller/Data/MIDOSS/DeptOfEcology/')\n",
    "ECY_2018_xlsx = ECY_dir/'MuellerTrans4-30-20.xlsx'\n",
    "ECY_2021_xlsx = ECY_dir/'MuellerTrans_5-26-21.xlsx'\n",
    "\n",
    "# Voyage dataset\n",
    "CamSheet = '/Users/rmueller/Library/Mobile Documents/com~apple~CloudDocs/Documents/'\\\n",
    "    'Publications/MIDOSS/MIDOSS_MuellerEtAl_paper1/Methods/origin-destination/'\\\n",
    "    'Origin_Destination_Analysis_updated.xlsx'\n",
    "\n",
    "# 10,000 monte carlo spills\n",
    "monte_carlo_csv = '/Users/rmueller/Data/MIDOSS/monte_carlo/SalishSeaOilSpills_fixbarge_10000.csv'\n",
    "\n",
    "# location of output excel spreadsheets\n",
    "output_directory = Path('/Users/rmueller/Data/MIDOSS/DeptOfEcology/')\n",
    "graphics_directory = Path(\n",
    "    '/Users/rmueller/Projects/MIDOSS/graphics_figures/monte_carlo'\n",
    ")\n",
    "\n",
    "# The precision used to calculate oil type weights \n",
    "# Trial and error showed that a precision of 2 is neccessary for weights\n",
    "# to sum to 1.0\n",
    "precision = 2\n",
    "\n",
    "# unit conversions\n",
    "gal2m3 = 0.00378541\n",
    "\n",
    "# facility names\n",
    "\n",
    "# The following list includes facilities used in Casey's origin/destination \n",
    "# analysis with names matching the Dept. of Ecology (ECY) database.  \n",
    "# For example, the shapefile \"Maxum Petroleum - Harbor Island Terminal\" is \n",
    "# labeled as 'Maxum (Rainer Petroleum)' in the ECY database.  I use the \n",
    "# Ecology language here and will need to translate to Shapefile speak\n",
    "\n",
    "# Terminals that are grouped in voyage joins are removed, e.g.:\n",
    "# 'Maxum (Rainer Petroleum)' and 'Shell Oil LP Seattle Distribution Terminal' \n",
    "# are represented in\n",
    "#  ==>'Kinder Morgan Liquids Terminal - Harbor Island' \n",
    "# 'Nustar Energy Tacoma' => 'Phillips 66 Tacoma Terminal'\n",
    "facility_names = [ \n",
    "    'BP Cherry Point Refinery', 'Shell Puget Sound Refinery', \n",
    "    'Tidewater Snake River Terminal', 'SeaPort Sound Terminal', \n",
    "    'Tesoro Vancouver Terminal', 'Phillips 66 Ferndale Refinery', \n",
    "    'Phillips 66 Tacoma Terminal', \n",
    "    'Andeavor Anacortes Refinery (formerly Tesoro)',\n",
    "    'Tesoro Port Angeles Terminal','U.S. Oil & Refining',\n",
    "    'Naval Air Station Whidbey Island (NASWI)',\n",
    "    'NAVSUP Manchester', 'Alon Asphalt Company (Paramount Petroleum)', \n",
    "    'Kinder Morgan Liquids Terminal - Harbor Island' ,  \n",
    "    'Tesoro Pasco Terminal', 'REG Grays Harbor, LLC', \n",
    "    'Tidewater Vancouver Terminal','TLP Management Services LLC (TMS)'\n",
    "]\n",
    "\n",
    "# list of facility names to query monte-carlo csv file, with:\n",
    "# 1) Marathon Anacortes Refinery (formerly Tesoro) instead of Andeavor \n",
    "#    Anacortes Refinery (formerly Tesoro) \n",
    "# 2) Maxum Petroleum - Harbor Island Terminal instead of \n",
    "#    Maxum (Rainer Petroleum)\n",
    "facility_names_mc = [ \n",
    "    'BP Cherry Point Refinery', 'Shell Puget Sound Refinery',\n",
    "    'Tidewater Snake River Terminal', \n",
    "    'SeaPort Sound Terminal', 'Tesoro Vancouver Terminal',\n",
    "    'Phillips 66 Ferndale Refinery', 'Phillips 66 Tacoma Terminal', \n",
    "    'Marathon Anacortes Refinery (formerly Tesoro)',\n",
    "    'Tesoro Port Angeles Terminal','U.S. Oil & Refining',\n",
    "    'Naval Air Station Whidbey Island (NASWI)',\n",
    "    'NAVSUP Manchester', 'Alon Asphalt Company (Paramount Petroleum)', \n",
    "    'Kinder Morgan Liquids Terminal - Harbor Island',\n",
    "    'Tesoro Pasco Terminal', 'REG Grays Harbor, LLC', \n",
    "    'Tidewater Vancouver Terminal',\n",
    "    'TLP Management Services LLC (TMS)'\n",
    "]"
   ]
  },
  {
   "cell_type": "markdown",
   "id": "physical-accounting",
   "metadata": {},
   "source": [
    "---\n",
    "## Load Department of Ecology 2018 data\n",
    "---"
   ]
  },
  {
   "cell_type": "code",
   "execution_count": 9,
   "id": "bigger-fifth",
   "metadata": {},
   "outputs": [],
   "source": [
    "# Import columns are: \n",
    "#   (G) Deliverer, (H) Receiver, (O) Region, (P) Product, \n",
    "#   (Q) Quantity in Gallons, (R) Transfer Type (Fueling, Cargo, or Other)', \n",
    "#   (w) DelivererTypeDescription, (x) ReceiverTypeDescription \n",
    "#2018\n",
    "ECY_df = pd.read_excel(\n",
    "    ECY_2018_xlsx,\n",
    "    sheet_name='Vessel Oil Transfer', \n",
    "    usecols=\"G,H,P,Q,R,W,X\"\n",
    ")\n",
    "[nrows,ncols] = ECY_df.shape"
   ]
  },
  {
   "cell_type": "markdown",
   "id": "australian-feeling",
   "metadata": {},
   "source": [
    "### Catalogue the ECY data to match the way that we grouped marine terminals in our origin-destination analysis, due to proximity, e.g. (using abbr names in some cases):\n",
    "- Maxum + Shell Oil LP + Kinder Morgan -> 'Kinder Morgan Liquids Terminal - Harbor Island'\n",
    "- Nustar Tacoma\n",
    "- Nustar Vancouver (?)\n",
    "- Tesoro Pasco\n",
    "- Tidewater Snake\n",
    "- Tidewater Vancouver"
   ]
  },
  {
   "cell_type": "code",
   "execution_count": 10,
   "id": "hired-thesaurus",
   "metadata": {},
   "outputs": [
    {
     "name": "stdout",
     "output_type": "stream",
     "text": [
      "Nustar Tacoma:  3\n",
      "Tesoro Pasco Terminal 112\n",
      "Tidewater Snake River Terminal 445\n",
      "Tidewater Vancouver Terminal 64\n"
     ]
    }
   ],
   "source": [
    "# First, count the terminals that we are still missing in groupings\n",
    "print('Nustar Tacoma: ', ECY_df.loc[\n",
    "    ((ECY_df.Deliverer == 'Nustar Energy Tacoma') |\n",
    "    (ECY_df.Receiver == 'Nustar Energy Tacoma')),\n",
    "].Deliverer.count())\n",
    "print('Tesoro Pasco Terminal', ECY_df.loc[\n",
    "    ((ECY_df.Deliverer == 'Tesoro Pasco Terminal') |\n",
    "    (ECY_df.Receiver == 'Tesoro Pasco Terminal')),\n",
    "].Deliverer.count())\n",
    "print('Tidewater Snake River Terminal', ECY_df.loc[\n",
    "    ((ECY_df.Deliverer == 'Tidewater Snake River Terminal') |\n",
    "    (ECY_df.Receiver == 'Tidewater Snake River Terminal')),\n",
    "].Deliverer.count())\n",
    "print('Tidewater Vancouver Terminal', ECY_df.loc[\n",
    "    ((ECY_df.Deliverer == 'Tidewater Vancouver Terminal') |\n",
    "    (ECY_df.Receiver == 'Tidewater Vancouver Terminal')),\n",
    "].Deliverer.count())"
   ]
  },
  {
   "cell_type": "code",
   "execution_count": 11,
   "id": "accurate-excess",
   "metadata": {},
   "outputs": [],
   "source": [
    "# count transfers prior to re-name\n",
    "MaxumECY = ECY_df.loc[\n",
    "    ((ECY_df.Deliverer == 'Maxum (Rainer Petroleum)') |\n",
    "    (ECY_df.Receiver == 'Maxum (Rainer Petroleum)')),\n",
    "].Deliverer.count()\n",
    "ShellECY = ECY_df.loc[\n",
    "    ((ECY_df.Deliverer == 'Shell Oil LP Seattle Distribution Terminal') |\n",
    "    (ECY_df.Receiver == 'Shell Oil LP Seattle Distribution Terminal')),\n",
    "].Deliverer.count()\n",
    "KinderECY = ECY_df.loc[\n",
    "    ((ECY_df.Deliverer == 'Kinder Morgan Liquids Terminal - Harbor Island') |\n",
    "    (ECY_df.Receiver == 'Kinder Morgan Liquids Terminal - Harbor Island')),\n",
    "].Deliverer.count()\n",
    "NustarECY = ECY_df.loc[\n",
    "    ((ECY_df.Deliverer == 'Nustar Energy Tacoma') |\n",
    "    (ECY_df.Receiver == 'Nustar Energy Tacoma')),\n",
    "].Deliverer.count()\n",
    "PhillipsECY = ECY_df.loc[\n",
    "    ((ECY_df.Deliverer == 'Phillips 66 Tacoma Terminal') |\n",
    "    (ECY_df.Receiver == 'Phillips 66 Tacoma Terminal')),\n",
    "].Deliverer.count()\n",
    "\n",
    "# housekeeping: Force one name per marine transfer site for cases of data entry mistakes\n",
    "ECY_df = ECY_df.replace(\n",
    "    to_replace=\"TLP\",\n",
    "    value = \"TLP Management Services LLC (TMS)\"\n",
    ")\n",
    "ECY_df = ECY_df.replace(\n",
    "    to_replace = \"US Oil Tacoma \",\n",
    "    value = \"U.S. Oil & Refining\"\n",
    ")"
   ]
  },
  {
   "cell_type": "code",
   "execution_count": 12,
   "id": "apart-impression",
   "metadata": {},
   "outputs": [],
   "source": [
    "# rename 'Maxum (Rainer Petroleum)' and 'Shell Oil LP Seattle Distribution Terminal' \n",
    "# as 'Kinder Morgan Liquids Terminal - Harbor Island'\n",
    "ECY_df['Deliverer'] = ECY_df['Deliverer'].replace(\n",
    "    ['Maxum (Rainer Petroleum)',\n",
    "     'Shell Oil LP Seattle Distribution Terminal'], \n",
    "    'Kinder Morgan Liquids Terminal - Harbor Island'\n",
    ")\n",
    "ECY_df['Receiver'] = ECY_df['Receiver'].replace(\n",
    "    ['Maxum (Rainer Petroleum)','Shell Oil LP Seattle Distribution Terminal'],\n",
    "    'Kinder Morgan Liquids Terminal - Harbor Island'\n",
    ")\n",
    "\n",
    "# Rename Nustar Energy Tacoma -> Phillips 66 Tacoma\n",
    "ECY_df['Deliverer'] = ECY_df['Deliverer'].replace(\n",
    "    ['Nustar Energy Tacoma'], \n",
    "    'Phillips 66 Tacoma Terminal'\n",
    ")\n",
    "ECY_df['Receiver'] = ECY_df['Receiver'].replace(\n",
    "    ['Nustar Energy Tacoma'],\n",
    "    'Phillips 66 Tacoma Terminal'\n",
    ")\n",
    "    \n",
    "# recount transfers\n",
    "MaxumShellKinderECY = ECY_df.loc[\n",
    "    ((ECY_df.Deliverer == 'Kinder Morgan Liquids Terminal - Harbor Island') |\n",
    "    (ECY_df.Receiver == 'Kinder Morgan Liquids Terminal - Harbor Island')),\n",
    "].Deliverer.count()\n",
    "\n",
    "NustarPhillipsECY = ECY_df.loc[\n",
    "    ((ECY_df.Deliverer == 'Phillips 66 Tacoma Terminal') |\n",
    "    (ECY_df.Receiver == 'Phillips 66 Tacoma Terminal')),\n",
    "].Deliverer.count()"
   ]
  },
  {
   "cell_type": "markdown",
   "id": "57ca958a-bece-471d-8f6d-2381702440b6",
   "metadata": {},
   "source": [
    "## Tally non-caro transfers"
   ]
  },
  {
   "cell_type": "code",
   "execution_count": 38,
   "id": "9f476f32-01ad-4f0f-af00-77f7cb77c6d2",
   "metadata": {},
   "outputs": [
    {
     "name": "stdout",
     "output_type": "stream",
     "text": [
      "all percents are printed to verify they are the same\n"
     ]
    },
    {
     "data": {
      "text/html": [
       "<div>\n",
       "<style scoped>\n",
       "    .dataframe tbody tr th:only-of-type {\n",
       "        vertical-align: middle;\n",
       "    }\n",
       "\n",
       "    .dataframe tbody tr th {\n",
       "        vertical-align: top;\n",
       "    }\n",
       "\n",
       "    .dataframe thead th {\n",
       "        text-align: right;\n",
       "    }\n",
       "</style>\n",
       "<table border=\"1\" class=\"dataframe\">\n",
       "  <thead>\n",
       "    <tr style=\"text-align: right;\">\n",
       "      <th></th>\n",
       "      <th>gallon</th>\n",
       "      <th>m3</th>\n",
       "      <th>liter</th>\n",
       "    </tr>\n",
       "  </thead>\n",
       "  <tbody>\n",
       "    <tr>\n",
       "      <th>non-cargo</th>\n",
       "      <td>7.391174e+07</td>\n",
       "      <td>2.797855e+05</td>\n",
       "      <td>2.797862e+08</td>\n",
       "    </tr>\n",
       "    <tr>\n",
       "      <th>cargo</th>\n",
       "      <td>9.991996e+09</td>\n",
       "      <td>3.782370e+07</td>\n",
       "      <td>3.782380e+10</td>\n",
       "    </tr>\n",
       "    <tr>\n",
       "      <th>percent_cargo</th>\n",
       "      <td>9.926572e+01</td>\n",
       "      <td>9.926572e+01</td>\n",
       "      <td>9.926572e+01</td>\n",
       "    </tr>\n",
       "  </tbody>\n",
       "</table>\n",
       "</div>"
      ],
      "text/plain": [
       "                     gallon            m3         liter\n",
       "non-cargo      7.391174e+07  2.797855e+05  2.797862e+08\n",
       "cargo          9.991996e+09  3.782370e+07  3.782380e+10\n",
       "percent_cargo  9.926572e+01  9.926572e+01  9.926572e+01"
      ]
     },
     "execution_count": 38,
     "metadata": {},
     "output_type": "execute_result"
    }
   ],
   "source": [
    "# converstions\n",
    "gal2liter=3.78541\n",
    "gal2m3 = 0.0037854\n",
    "\n",
    "transfers = {}\n",
    "volume = {}\n",
    "# ~~~ Total cargo import and  export for all oil types ~~~\n",
    "transfers['cargo'] = ECY_df.loc[\n",
    "    (ECY_df.TransferType == 'Cargo') &\n",
    "    ((ECY_df.Receiver.isin(facility_names)) |\n",
    "     (ECY_df.Deliverer.isin(facility_names))), \n",
    "].shape[0]\n",
    "\n",
    "# ~~~ Total non-cargo import and  export for all oil types ~~~\n",
    "transfers['non-cargo'] = ECY_df.loc[\n",
    "    (ECY_df.TransferType != 'Cargo') &\n",
    "    ((ECY_df.Receiver.isin(facility_names)) |\n",
    "     (ECY_df.Deliverer.isin(facility_names))), \n",
    "].shape[0]\n",
    "volume['gallon']={}\n",
    "\n",
    "# CARGO transfers\n",
    "volume['gallon']['non-cargo'] = ECY_df.loc[\n",
    "    (ECY_df.TransferType != 'Cargo') &\n",
    "    ((ECY_df.Receiver.isin(facility_names)) |\n",
    "     (ECY_df.Deliverer.isin(facility_names))),\n",
    "    'TransferQtyInGallon'\n",
    "].sum(axis=0).item()\n",
    "# ALL OTHER transfers\n",
    "volume['gallon']['cargo'] = ECY_df.loc[\n",
    "    (ECY_df.TransferType == 'Cargo') &\n",
    "    ((ECY_df.Receiver.isin(facility_names)) |\n",
    "     (ECY_df.Deliverer.isin(facility_names))),\n",
    "    'TransferQtyInGallon'\n",
    "].sum(axis=0).item()\n",
    "volume['gallon']['percent_cargo'] = 100*volume['gallon']['cargo']/(volume['gallon']['cargo']+volume['gallon']['non-cargo'])\n",
    "\n",
    "# convert to publication metric\n",
    "volume['m3']={}\n",
    "volume['m3']['non-cargo']= volume['gallon']['non-cargo']*gal2m3\n",
    "volume['m3']['cargo']= volume['gallon']['cargo']*gal2m3\n",
    "volume['m3']['percent_cargo'] = 100*volume['m3']['cargo']/(volume['m3']['cargo']+volume['m3']['non-cargo'])\n",
    "\n",
    "# convert to BC standard metric\n",
    "volume['liter']={}\n",
    "volume['liter']['non-cargo'] = volume['gallon']['non-cargo']*gal2liter\n",
    "volume['liter']['cargo'] = volume['gallon']['cargo']*gal2liter\n",
    "volume['liter']['percent_cargo'] = 100*volume['liter']['cargo']/(volume['liter']['cargo']+volume['liter']['non-cargo'])\n",
    "print('all percents are printed to verify they are the same')\n",
    "pd.DataFrame.from_dict(volume)"
   ]
  },
  {
   "cell_type": "code",
   "execution_count": 39,
   "id": "6f83020c-8ddf-4592-90c4-0ff90bd1f971",
   "metadata": {},
   "outputs": [
    {
     "data": {
      "text/plain": [
       "{'cargo': 4438, 'non-cargo': 3211}"
      ]
     },
     "execution_count": 39,
     "metadata": {},
     "output_type": "execute_result"
    }
   ],
   "source": [
    "transfers"
   ]
  },
  {
   "cell_type": "markdown",
   "id": "368e3422-7629-410d-ba9b-a55de1e64b71",
   "metadata": {},
   "source": [
    "### 99% of all transfers (by volume) to/from WA marine terminals in this study are cargo transfers"
   ]
  },
  {
   "cell_type": "markdown",
   "id": "b07217a4-d051-40d2-9a5b-7f5438ecb396",
   "metadata": {},
   "source": [
    "## Repeat above for all transfers"
   ]
  },
  {
   "cell_type": "code",
   "execution_count": 40,
   "id": "07ea7cb1-d639-4614-b710-ec65ba576a46",
   "metadata": {},
   "outputs": [
    {
     "name": "stdout",
     "output_type": "stream",
     "text": [
      "all percents are printed to verify they are the same\n"
     ]
    },
    {
     "data": {
      "text/html": [
       "<div>\n",
       "<style scoped>\n",
       "    .dataframe tbody tr th:only-of-type {\n",
       "        vertical-align: middle;\n",
       "    }\n",
       "\n",
       "    .dataframe tbody tr th {\n",
       "        vertical-align: top;\n",
       "    }\n",
       "\n",
       "    .dataframe thead th {\n",
       "        text-align: right;\n",
       "    }\n",
       "</style>\n",
       "<table border=\"1\" class=\"dataframe\">\n",
       "  <thead>\n",
       "    <tr style=\"text-align: right;\">\n",
       "      <th></th>\n",
       "      <th>gallon</th>\n",
       "      <th>m3</th>\n",
       "      <th>liter</th>\n",
       "    </tr>\n",
       "  </thead>\n",
       "  <tbody>\n",
       "    <tr>\n",
       "      <th>non-cargo</th>\n",
       "      <td>6.334694e+08</td>\n",
       "      <td>2.397935e+06</td>\n",
       "      <td>2.397941e+09</td>\n",
       "    </tr>\n",
       "    <tr>\n",
       "      <th>cargo</th>\n",
       "      <td>2.096002e+08</td>\n",
       "      <td>7.934205e+05</td>\n",
       "      <td>7.934226e+08</td>\n",
       "    </tr>\n",
       "    <tr>\n",
       "      <th>percent_cargo</th>\n",
       "      <td>2.486155e+01</td>\n",
       "      <td>2.486155e+01</td>\n",
       "      <td>2.486155e+01</td>\n",
       "    </tr>\n",
       "  </tbody>\n",
       "</table>\n",
       "</div>"
      ],
      "text/plain": [
       "                     gallon            m3         liter\n",
       "non-cargo      6.334694e+08  2.397935e+06  2.397941e+09\n",
       "cargo          2.096002e+08  7.934205e+05  7.934226e+08\n",
       "percent_cargo  2.486155e+01  2.486155e+01  2.486155e+01"
      ]
     },
     "execution_count": 40,
     "metadata": {},
     "output_type": "execute_result"
    }
   ],
   "source": [
    "# converstions\n",
    "gal2liter=3.78541\n",
    "gal2m3 = 0.0037854\n",
    "\n",
    "transfers_all = {}\n",
    "volume_all = {}\n",
    "# ~~~ Total cargo import and  export for all oil types ~~~\n",
    "transfers_all['cargo'] = ECY_df.loc[\n",
    "    (ECY_df.TransferType == 'Cargo')  \n",
    "].shape[0] - transfers['cargo']\n",
    "\n",
    "# ~~~ Total non-cargo import and  export for all oil types ~~~\n",
    "transfers_all['non-cargo'] = ECY_df.loc[\n",
    "    (ECY_df.TransferType != 'Cargo')  \n",
    "].shape[0]-transfers['non-cargo']\n",
    "\n",
    "volume_all['gallon']={}\n",
    "# CARGO transfers\n",
    "volume_all['gallon']['non-cargo'] = ECY_df.loc[\n",
    "    (ECY_df.TransferType != 'Cargo') ,\n",
    "    'TransferQtyInGallon'\n",
    "].sum(axis=0).item()-volume['gallon']['non-cargo'] # subtract terminals in this study\n",
    "\n",
    "# ALL OTHER transfers\n",
    "volume_all['gallon']['cargo'] = ECY_df.loc[\n",
    "    (ECY_df.TransferType == 'Cargo'),\n",
    "    'TransferQtyInGallon'\n",
    "].sum(axis=0).item()-volume['gallon']['cargo']# subtract terminals in this study\n",
    "\n",
    "volume_all['gallon']['percent_cargo'] = 100*volume_all['gallon']['cargo']/(\n",
    "    volume_all['gallon']['cargo']+volume_all['gallon']['non-cargo'])\n",
    "\n",
    "# convert to publication metric\n",
    "volume_all['m3']={}\n",
    "volume_all['m3']['non-cargo']= volume_all['gallon']['non-cargo']*gal2m3\n",
    "volume_all['m3']['cargo']= volume_all['gallon']['cargo']*gal2m3\n",
    "volume_all['m3']['percent_cargo'] = 100*volume_all['m3']['cargo']/(\n",
    "    volume_all['m3']['cargo']+volume_all['m3']['non-cargo'])\n",
    "\n",
    "# convert to BC standard metric\n",
    "volume_all['liter']={}\n",
    "volume_all['liter']['non-cargo'] = volume_all['gallon']['non-cargo']*gal2liter\n",
    "volume_all['liter']['cargo'] = volume_all['gallon']['cargo']*gal2liter\n",
    "volume_all['liter']['percent_cargo'] = 100*volume_all['liter']['cargo']/(\n",
    "    volume_all['liter']['cargo']+volume_all['liter']['non-cargo'])\n",
    "print('all percents are printed to verify they are the same')\n",
    "pd.DataFrame.from_dict(volume_all)"
   ]
  },
  {
   "cell_type": "code",
   "execution_count": 41,
   "id": "7212c11a-d836-48b0-aa65-97f5a374d824",
   "metadata": {},
   "outputs": [
    {
     "data": {
      "text/plain": [
       "{'cargo': 194, 'non-cargo': 6867}"
      ]
     },
     "execution_count": 41,
     "metadata": {},
     "output_type": "execute_result"
    }
   ],
   "source": [
    "transfers_all"
   ]
  },
  {
   "cell_type": "markdown",
   "id": "ae1aa227-b869-4565-af02-8cf12b0664eb",
   "metadata": {},
   "source": [
    "# All transfers"
   ]
  },
  {
   "cell_type": "code",
   "execution_count": 42,
   "id": "c6d90993-da5a-4a70-9c60-681d5f06e7d9",
   "metadata": {},
   "outputs": [
    {
     "name": "stdout",
     "output_type": "stream",
     "text": [
      "all percents are printed to verify they are the same\n"
     ]
    },
    {
     "data": {
      "text/html": [
       "<div>\n",
       "<style scoped>\n",
       "    .dataframe tbody tr th:only-of-type {\n",
       "        vertical-align: middle;\n",
       "    }\n",
       "\n",
       "    .dataframe tbody tr th {\n",
       "        vertical-align: top;\n",
       "    }\n",
       "\n",
       "    .dataframe thead th {\n",
       "        text-align: right;\n",
       "    }\n",
       "</style>\n",
       "<table border=\"1\" class=\"dataframe\">\n",
       "  <thead>\n",
       "    <tr style=\"text-align: right;\">\n",
       "      <th></th>\n",
       "      <th>gallon</th>\n",
       "      <th>m3</th>\n",
       "      <th>liter</th>\n",
       "    </tr>\n",
       "  </thead>\n",
       "  <tbody>\n",
       "    <tr>\n",
       "      <th>non-cargo</th>\n",
       "      <td>7.073811e+08</td>\n",
       "      <td>2.677720e+06</td>\n",
       "      <td>2.677727e+09</td>\n",
       "    </tr>\n",
       "    <tr>\n",
       "      <th>cargo</th>\n",
       "      <td>1.020160e+10</td>\n",
       "      <td>3.861712e+07</td>\n",
       "      <td>3.861722e+10</td>\n",
       "    </tr>\n",
       "    <tr>\n",
       "      <th>percent_cargo</th>\n",
       "      <td>9.351561e+01</td>\n",
       "      <td>9.351561e+01</td>\n",
       "      <td>9.351561e+01</td>\n",
       "    </tr>\n",
       "  </tbody>\n",
       "</table>\n",
       "</div>"
      ],
      "text/plain": [
       "                     gallon            m3         liter\n",
       "non-cargo      7.073811e+08  2.677720e+06  2.677727e+09\n",
       "cargo          1.020160e+10  3.861712e+07  3.861722e+10\n",
       "percent_cargo  9.351561e+01  9.351561e+01  9.351561e+01"
      ]
     },
     "execution_count": 42,
     "metadata": {},
     "output_type": "execute_result"
    }
   ],
   "source": [
    "# converstions\n",
    "gal2liter=3.78541\n",
    "gal2m3 = 0.0037854\n",
    "\n",
    "transfers_all = {}\n",
    "volume_all = {}\n",
    "# ~~~ Total cargo import and  export for all oil types ~~~\n",
    "transfers_all['cargo'] = ECY_df.loc[\n",
    "    (ECY_df.TransferType == 'Cargo')  \n",
    "].shape[0] \n",
    "\n",
    "# ~~~ Total non-cargo import and  export for all oil types ~~~\n",
    "transfers_all['non-cargo'] = ECY_df.loc[\n",
    "    (ECY_df.TransferType != 'Cargo')  \n",
    "].shape[0]\n",
    "\n",
    "volume_all['gallon']={}\n",
    "# CARGO transfers\n",
    "volume_all['gallon']['non-cargo'] = ECY_df.loc[\n",
    "    (ECY_df.TransferType != 'Cargo') ,\n",
    "    'TransferQtyInGallon'\n",
    "].sum(axis=0).item()\n",
    "\n",
    "# ALL OTHER transfers\n",
    "volume_all['gallon']['cargo'] = ECY_df.loc[\n",
    "    (ECY_df.TransferType == 'Cargo'),\n",
    "    'TransferQtyInGallon'\n",
    "].sum(axis=0).item()\n",
    "\n",
    "volume_all['gallon']['percent_cargo'] = 100*volume_all['gallon']['cargo']/(\n",
    "    volume_all['gallon']['cargo']+volume_all['gallon']['non-cargo'])\n",
    "\n",
    "# convert to publication metric\n",
    "volume_all['m3']={}\n",
    "volume_all['m3']['non-cargo']= volume_all['gallon']['non-cargo']*gal2m3\n",
    "volume_all['m3']['cargo']= volume_all['gallon']['cargo']*gal2m3\n",
    "volume_all['m3']['percent_cargo'] = 100*volume_all['m3']['cargo']/(\n",
    "    volume_all['m3']['cargo']+volume_all['m3']['non-cargo'])\n",
    "\n",
    "# convert to BC standard metric\n",
    "volume_all['liter']={}\n",
    "volume_all['liter']['non-cargo'] = volume_all['gallon']['non-cargo']*gal2liter\n",
    "volume_all['liter']['cargo'] = volume_all['gallon']['cargo']*gal2liter\n",
    "volume_all['liter']['percent_cargo'] = 100*volume_all['liter']['cargo']/(\n",
    "    volume_all['liter']['cargo']+volume_all['liter']['non-cargo'])\n",
    "print('all percents are printed to verify they are the same')\n",
    "pd.DataFrame.from_dict(volume_all)"
   ]
  },
  {
   "cell_type": "code",
   "execution_count": null,
   "id": "4845778c-cf53-4f9c-baea-bdfeffbfac44",
   "metadata": {},
   "outputs": [],
   "source": []
  }
 ],
 "metadata": {
  "kernelspec": {
   "display_name": "Python 3 (ipykernel)",
   "language": "python",
   "name": "python3"
  },
  "language_info": {
   "codemirror_mode": {
    "name": "ipython",
    "version": 3
   },
   "file_extension": ".py",
   "mimetype": "text/x-python",
   "name": "python",
   "nbconvert_exporter": "python",
   "pygments_lexer": "ipython3",
   "version": "3.9.7"
  }
 },
 "nbformat": 4,
 "nbformat_minor": 5
}
